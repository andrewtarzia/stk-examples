{
 "cells": [
  {
   "cell_type": "code",
   "execution_count": 1,
   "id": "647676bd",
   "metadata": {},
   "outputs": [],
   "source": [
    "import stk\n",
    "import stko\n",
    "from rdkit.Chem import AllChem as rdkit\n",
    "import numpy as np"
   ]
  },
  {
   "cell_type": "markdown",
   "id": "8c7bdef8",
   "metadata": {},
   "source": [
    "# Get a structure.\n",
    "Download CIF of cage of interest: NAVCIA (2116647)\n",
    "\n",
    "From this paper: https://pubs.acs.org/doi/10.1021/acs.inorgchem.1c02803\n",
    "\n",
    "Using software of choice, write a .mol file of a single molecule from the CIF.\n",
    "\n",
    "## Issues:\n",
    "\n",
    "* How to extract the single molecule from a crystal structure?\n",
    "* How to get the structure into a mol file, with bonds percieved?\n",
    "* stk handling of mol files with dative bonds: (atom order in bond matters, metal goes second)"
   ]
  },
  {
   "cell_type": "code",
   "execution_count": 2,
   "id": "b292ff38",
   "metadata": {},
   "outputs": [],
   "source": [
    "cage = stk.BuildingBlock.init_from_file('2116647_cleaned_2.mol')"
   ]
  },
  {
   "cell_type": "code",
   "execution_count": 3,
   "id": "f9559006",
   "metadata": {},
   "outputs": [
    {
     "data": {
      "text/plain": [
       "BuildingBlock('[CH3]->[Pt]12(<-[CH3])(<-[CH3])<-[N]3[CH]C=C(C=C3)C3=C[CH][N](->[Pt]4(<-[CH3])(<-[CH3])(<-[CH3])<-[N]5[CH]C=C(C=C5)C5=C[CH][N](->[Pt]6(<-[CH3])(<-[CH3])(<-[CH3])<-[N]7[CH]C=C(C=C7)C7=C[CH][N](->[Pt]8(<-[CH3])(<-[CH3])(<-[CH3])<-[N]9[CH]C=C(C=C9)C9=C[CH][N](->[Pt](<-[CH3])(<-[CH3])(<-[CH3])(<-[N]%10[CH]C=C(C=C%10)C%10=C[CH][N](->[Pt](<-[CH3])(<-[CH3])(<-[CH3])(<-[N]%11[CH]C=C(C=C%11)C%11=C[CH][N]->1C=C%11)<-[N]1[CH]C=C(C=C1)c1ccn->6cc1)C=C%10)<-[N]1[CH]C=C(C=C1)C1=C[CH][N](->[Pt](<-[CH3])(<-[CH3])(<-[CH3])(<-[N]6[CH]C=C(C=C6)C6=C[CH][N]->2C=C6)<-n2ccc(cc2)-c2ccn(->[Pt](<-[CH3])(<-[CH3])(<-[CH3])(<-[N]6[CH]C=C(C=C6)C6=C[CH][N]->4C=C6)<-[N]4[CH]C=C(C=C4)c4ccn->8cc4)cc2)C=C1)C=C9)C=C7)C=C5)C=C3')"
      ]
     },
     "execution_count": 3,
     "metadata": {},
     "output_type": "execute_result"
    }
   ],
   "source": [
    "cage"
   ]
  },
  {
   "cell_type": "markdown",
   "id": "73d6566a",
   "metadata": {},
   "source": [
    "## Topology extraction"
   ]
  },
  {
   "cell_type": "code",
   "execution_count": 4,
   "id": "111446b9",
   "metadata": {},
   "outputs": [],
   "source": [
    "struct = cage.with_centroid([0, 0, 0])\n",
    "\n",
    "# Define bonds to break.\n",
    "smarts_to_search_for = '[#7]~[Pt]'\n",
    "\n",
    "broken_bonds_by_id = []\n",
    "disconnectors = []\n",
    "rdkit_mol = struct.to_rdkit_mol()\n",
    "rdkit.SanitizeMol(rdkit_mol)\n",
    "\n",
    "for atom_ids in rdkit_mol.GetSubstructMatches(\n",
    "    query=rdkit.MolFromSmarts(smarts_to_search_for),\n",
    "):\n",
    "    bond_l = atom_ids[0]\n",
    "    bond_pt = atom_ids[1]\n",
    "    broken_bonds_by_id.append(sorted((bond_l, bond_pt)))\n",
    "    disconnectors.extend((bond_l, bond_pt))"
   ]
  },
  {
   "cell_type": "code",
   "execution_count": 5,
   "id": "24d3dcc4",
   "metadata": {},
   "outputs": [
    {
     "name": "stdout",
     "output_type": "stream",
     "text": [
      "24 bonds to break\n"
     ]
    }
   ],
   "source": [
    "print(f'{len(broken_bonds_by_id)} bonds to break')"
   ]
  },
  {
   "cell_type": "code",
   "execution_count": 6,
   "id": "9cdb5588",
   "metadata": {},
   "outputs": [],
   "source": [
    "new_topology_graph = stko.TopologyExtractor()\n",
    "tg_info = new_topology_graph.extract_topology(\n",
    "    molecule=struct,\n",
    "    broken_bonds_by_id=broken_bonds_by_id,\n",
    "    disconnectors=set(disconnectors),\n",
    ")\n",
    "struct.write('tg_cage.mol')\n",
    "tg_info.write('tg_info.pdb')"
   ]
  },
  {
   "cell_type": "markdown",
   "id": "b148be20",
   "metadata": {},
   "source": [
    "## Write new topology graph"
   ]
  },
  {
   "cell_type": "code",
   "execution_count": 7,
   "id": "a1998d34",
   "metadata": {
    "collapsed": true,
    "jupyter": {
     "outputs_hidden": true
    }
   },
   "outputs": [
    {
     "name": "stdout",
     "output_type": "stream",
     "text": [
      "stk.cage.NonLinearVertex(\n",
      "    id=0,\n",
      "    position=[3.45, -5.5, -9.41],\n",
      "),\n",
      "\n",
      "stk.cage.NonLinearVertex(\n",
      "    id=1,\n",
      "    position=[-3.45, 5.5, 9.41],\n",
      "),\n",
      "\n",
      "stk.cage.NonLinearVertex(\n",
      "    id=2,\n",
      "    position=[-2.95, 10.47, -2.61],\n",
      "),\n",
      "\n",
      "stk.cage.NonLinearVertex(\n",
      "    id=3,\n",
      "    position=[2.95, -10.47, 2.61],\n",
      "),\n",
      "\n",
      "stk.cage.NonLinearVertex(\n",
      "    id=4,\n",
      "    position=[8.76, 5.42, -4.77],\n",
      "),\n",
      "\n",
      "stk.cage.NonLinearVertex(\n",
      "    id=5,\n",
      "    position=[-8.76, -5.42, 4.77],\n",
      "),\n",
      "\n",
      "stk.cage.NonLinearVertex(\n",
      "    id=6,\n",
      "    position=[-8.18, -0.44, -7.11],\n",
      "),\n",
      "\n",
      "stk.cage.NonLinearVertex(\n",
      "    id=7,\n",
      "    position=[8.18, 0.44, 7.11],\n",
      "),\n",
      "\n",
      "stk.cage.LinearVertex(\n",
      "    id=8,\n",
      "    position=[-2.86, 7.17, 3.07],\n",
      "),\n",
      "\n",
      "stk.cage.LinearVertex(\n",
      "    id=9,\n",
      "    position=[2.87, -7.17, -3.07],\n",
      "),\n",
      "\n",
      "stk.cage.LinearVertex(\n",
      "    id=10,\n",
      "    position=[5.45, -0.04, -6.31],\n",
      "),\n",
      "\n",
      "stk.cage.LinearVertex(\n",
      "    id=11,\n",
      "    position=[-5.45, 0.04, 6.31],\n",
      "),\n",
      "\n",
      "stk.cage.LinearVertex(\n",
      "    id=12,\n",
      "    position=[2.61, 7.21, -3.28],\n",
      "),\n",
      "\n",
      "stk.cage.LinearVertex(\n",
      "    id=13,\n",
      "    position=[-2.61, -7.21, 3.28],\n",
      "),\n",
      "\n",
      "stk.cage.LinearVertex(\n",
      "    id=14,\n",
      "    position=[-2.0, -2.45, -7.38],\n",
      "),\n",
      "\n",
      "stk.cage.LinearVertex(\n",
      "    id=15,\n",
      "    position=[2.0, 2.45, 7.38],\n",
      "),\n",
      "\n",
      "stk.cage.LinearVertex(\n",
      "    id=16,\n",
      "    position=[-4.95, 4.49, -4.23],\n",
      "),\n",
      "\n",
      "stk.cage.LinearVertex(\n",
      "    id=17,\n",
      "    position=[4.95, -4.49, 4.23],\n",
      "),\n",
      "\n",
      "stk.cage.LinearVertex(\n",
      "    id=18,\n",
      "    position=[7.36, 2.62, 0.98],\n",
      "),\n",
      "\n",
      "stk.cage.LinearVertex(\n",
      "    id=19,\n",
      "    position=[-7.36, -2.62, -0.98],\n",
      "),\n",
      "\n"
     ]
    }
   ],
   "source": [
    "v_pos = tg_info.get_vertex_positions()\n",
    "v_con = tg_info.get_connectivities()\n",
    "\n",
    "# Need this for later.\n",
    "metal_bb_ids = []\n",
    "bridging_bb_ids = []\n",
    "\n",
    "for i in v_pos:\n",
    "    pos = v_pos[i]\n",
    "    if v_con[i] == 1:\n",
    "        print(\n",
    "            'stk.cage.NonLinearVertex(\\n'\n",
    "            f'    id={i},\\n'\n",
    "            f'    position=[{round(pos[0], 2)}, {round(pos[1], 2)}, {round(pos[2], 2)}],\\n'\n",
    "            '),\\n'\n",
    "        )\n",
    "        metal_bb_ids.append(i)\n",
    "    elif v_con[i] == 2:\n",
    "        print(\n",
    "            'stk.cage.LinearVertex(\\n'\n",
    "            f'    id={i},\\n'\n",
    "            f'    position=[{round(pos[0], 2)}, {round(pos[1], 2)}, {round(pos[2], 2)}],\\n'\n",
    "            '),\\n'\n",
    "        )\n",
    "        bridging_bb_ids.append(i)"
   ]
  },
  {
   "cell_type": "code",
   "execution_count": 9,
   "id": "b52698bc",
   "metadata": {
    "collapsed": true,
    "jupyter": {
     "outputs_hidden": true
    }
   },
   "outputs": [
    {
     "name": "stdout",
     "output_type": "stream",
     "text": [
      "stk.Edge(\n",
      "    id=0,\n",
      "    vertex1=_vertex_prototypes[1],\n",
      "    vertex2=_vertex_prototypes[8],\n",
      "),\n",
      "\n",
      "stk.Edge(\n",
      "    id=1,\n",
      "    vertex1=_vertex_prototypes[0],\n",
      "    vertex2=_vertex_prototypes[9],\n",
      "),\n",
      "\n",
      "stk.Edge(\n",
      "    id=2,\n",
      "    vertex1=_vertex_prototypes[0],\n",
      "    vertex2=_vertex_prototypes[10],\n",
      "),\n",
      "\n",
      "stk.Edge(\n",
      "    id=3,\n",
      "    vertex1=_vertex_prototypes[1],\n",
      "    vertex2=_vertex_prototypes[11],\n",
      "),\n",
      "\n",
      "stk.Edge(\n",
      "    id=4,\n",
      "    vertex1=_vertex_prototypes[2],\n",
      "    vertex2=_vertex_prototypes[12],\n",
      "),\n",
      "\n",
      "stk.Edge(\n",
      "    id=5,\n",
      "    vertex1=_vertex_prototypes[3],\n",
      "    vertex2=_vertex_prototypes[13],\n",
      "),\n",
      "\n",
      "stk.Edge(\n",
      "    id=6,\n",
      "    vertex1=_vertex_prototypes[0],\n",
      "    vertex2=_vertex_prototypes[14],\n",
      "),\n",
      "\n",
      "stk.Edge(\n",
      "    id=7,\n",
      "    vertex1=_vertex_prototypes[1],\n",
      "    vertex2=_vertex_prototypes[15],\n",
      "),\n",
      "\n",
      "stk.Edge(\n",
      "    id=8,\n",
      "    vertex1=_vertex_prototypes[4],\n",
      "    vertex2=_vertex_prototypes[10],\n",
      "),\n",
      "\n",
      "stk.Edge(\n",
      "    id=9,\n",
      "    vertex1=_vertex_prototypes[5],\n",
      "    vertex2=_vertex_prototypes[11],\n",
      "),\n",
      "\n",
      "stk.Edge(\n",
      "    id=10,\n",
      "    vertex1=_vertex_prototypes[2],\n",
      "    vertex2=_vertex_prototypes[16],\n",
      "),\n",
      "\n",
      "stk.Edge(\n",
      "    id=11,\n",
      "    vertex1=_vertex_prototypes[3],\n",
      "    vertex2=_vertex_prototypes[17],\n",
      "),\n",
      "\n",
      "stk.Edge(\n",
      "    id=12,\n",
      "    vertex1=_vertex_prototypes[4],\n",
      "    vertex2=_vertex_prototypes[12],\n",
      "),\n",
      "\n",
      "stk.Edge(\n",
      "    id=13,\n",
      "    vertex1=_vertex_prototypes[5],\n",
      "    vertex2=_vertex_prototypes[13],\n",
      "),\n",
      "\n",
      "stk.Edge(\n",
      "    id=14,\n",
      "    vertex1=_vertex_prototypes[6],\n",
      "    vertex2=_vertex_prototypes[14],\n",
      "),\n",
      "\n",
      "stk.Edge(\n",
      "    id=15,\n",
      "    vertex1=_vertex_prototypes[7],\n",
      "    vertex2=_vertex_prototypes[15],\n",
      "),\n",
      "\n",
      "stk.Edge(\n",
      "    id=16,\n",
      "    vertex1=_vertex_prototypes[4],\n",
      "    vertex2=_vertex_prototypes[18],\n",
      "),\n",
      "\n",
      "stk.Edge(\n",
      "    id=17,\n",
      "    vertex1=_vertex_prototypes[5],\n",
      "    vertex2=_vertex_prototypes[19],\n",
      "),\n",
      "\n",
      "stk.Edge(\n",
      "    id=18,\n",
      "    vertex1=_vertex_prototypes[6],\n",
      "    vertex2=_vertex_prototypes[16],\n",
      "),\n",
      "\n",
      "stk.Edge(\n",
      "    id=19,\n",
      "    vertex1=_vertex_prototypes[7],\n",
      "    vertex2=_vertex_prototypes[17],\n",
      "),\n",
      "\n",
      "stk.Edge(\n",
      "    id=20,\n",
      "    vertex1=_vertex_prototypes[7],\n",
      "    vertex2=_vertex_prototypes[18],\n",
      "),\n",
      "\n",
      "stk.Edge(\n",
      "    id=21,\n",
      "    vertex1=_vertex_prototypes[6],\n",
      "    vertex2=_vertex_prototypes[19],\n",
      "),\n",
      "\n",
      "stk.Edge(\n",
      "    id=22,\n",
      "    vertex1=_vertex_prototypes[3],\n",
      "    vertex2=_vertex_prototypes[9],\n",
      "),\n",
      "\n",
      "stk.Edge(\n",
      "    id=23,\n",
      "    vertex1=_vertex_prototypes[2],\n",
      "    vertex2=_vertex_prototypes[8],\n",
      "),\n",
      "\n"
     ]
    }
   ],
   "source": [
    "edges = tg_info.get_edge_pairs()\n",
    "for i, pair in enumerate(edges):\n",
    "    print(\n",
    "        'stk.Edge(\\n'\n",
    "        f'    id={i},\\n'\n",
    "        f'    vertex1=_vertex_prototypes[{pair[0]}],\\n'\n",
    "        f'    vertex2=_vertex_prototypes[{pair[1]}],\\n'\n",
    "        '),\\n'\n",
    "    )"
   ]
  },
  {
   "cell_type": "code",
   "execution_count": 10,
   "id": "20b1f165",
   "metadata": {},
   "outputs": [],
   "source": [
    "class NewTg(stk.cage.Cage):\n",
    "    _vertex_prototypes = (\n",
    "        stk.cage.NonLinearVertex(\n",
    "            id=0,\n",
    "            position=[3.45, -5.5, -9.41],\n",
    "        ),\n",
    "\n",
    "        stk.cage.NonLinearVertex(\n",
    "            id=1,\n",
    "            position=[-3.45, 5.5, 9.41],\n",
    "        ),\n",
    "\n",
    "        stk.cage.NonLinearVertex(\n",
    "            id=2,\n",
    "            position=[-2.95, 10.47, -2.61],\n",
    "        ),\n",
    "\n",
    "        stk.cage.NonLinearVertex(\n",
    "            id=3,\n",
    "            position=[2.95, -10.47, 2.61],\n",
    "        ),\n",
    "\n",
    "        stk.cage.NonLinearVertex(\n",
    "            id=4,\n",
    "            position=[8.76, 5.42, -4.77],\n",
    "        ),\n",
    "\n",
    "        stk.cage.NonLinearVertex(\n",
    "            id=5,\n",
    "            position=[-8.76, -5.42, 4.77],\n",
    "        ),\n",
    "\n",
    "        stk.cage.NonLinearVertex(\n",
    "            id=6,\n",
    "            position=[-8.18, -0.44, -7.11],\n",
    "        ),\n",
    "\n",
    "        stk.cage.NonLinearVertex(\n",
    "            id=7,\n",
    "            position=[8.18, 0.44, 7.11],\n",
    "        ),\n",
    "\n",
    "        stk.cage.LinearVertex(\n",
    "            id=8,\n",
    "            position=[-2.86, 7.17, 3.07],\n",
    "        ),\n",
    "\n",
    "        stk.cage.LinearVertex(\n",
    "            id=9,\n",
    "            position=[2.87, -7.17, -3.07],\n",
    "        ),\n",
    "\n",
    "        stk.cage.LinearVertex(\n",
    "            id=10,\n",
    "            position=[5.45, -0.04, -6.31],\n",
    "        ),\n",
    "\n",
    "        stk.cage.LinearVertex(\n",
    "            id=11,\n",
    "            position=[-5.45, 0.04, 6.31],\n",
    "        ),\n",
    "\n",
    "        stk.cage.LinearVertex(\n",
    "            id=12,\n",
    "            position=[2.61, 7.21, -3.28],\n",
    "        ),\n",
    "\n",
    "        stk.cage.LinearVertex(\n",
    "            id=13,\n",
    "            position=[-2.61, -7.21, 3.28],\n",
    "        ),\n",
    "\n",
    "        stk.cage.LinearVertex(\n",
    "            id=14,\n",
    "            position=[-2.0, -2.45, -7.38],\n",
    "        ),\n",
    "\n",
    "        stk.cage.LinearVertex(\n",
    "            id=15,\n",
    "            position=[2.0, 2.45, 7.38],\n",
    "        ),\n",
    "\n",
    "        stk.cage.LinearVertex(\n",
    "            id=16,\n",
    "            position=[-4.95, 4.49, -4.23],\n",
    "        ),\n",
    "\n",
    "        stk.cage.LinearVertex(\n",
    "            id=17,\n",
    "            position=[4.95, -4.49, 4.23],\n",
    "        ),\n",
    "\n",
    "        stk.cage.LinearVertex(\n",
    "            id=18,\n",
    "            position=[7.36, 2.62, 0.98],\n",
    "        ),\n",
    "\n",
    "        stk.cage.LinearVertex(\n",
    "            id=19,\n",
    "            position=[-7.36, -2.62, -0.98],\n",
    "        ),\n",
    "    )\n",
    "    \n",
    "    _edge_prototypes = (\n",
    "        stk.Edge(\n",
    "            id=0,\n",
    "            vertex1=_vertex_prototypes[1],\n",
    "            vertex2=_vertex_prototypes[8],\n",
    "        ),\n",
    "\n",
    "        stk.Edge(\n",
    "            id=1,\n",
    "            vertex1=_vertex_prototypes[0],\n",
    "            vertex2=_vertex_prototypes[9],\n",
    "        ),\n",
    "\n",
    "        stk.Edge(\n",
    "            id=2,\n",
    "            vertex1=_vertex_prototypes[0],\n",
    "            vertex2=_vertex_prototypes[10],\n",
    "        ),\n",
    "\n",
    "        stk.Edge(\n",
    "            id=3,\n",
    "            vertex1=_vertex_prototypes[1],\n",
    "            vertex2=_vertex_prototypes[11],\n",
    "        ),\n",
    "\n",
    "        stk.Edge(\n",
    "            id=4,\n",
    "            vertex1=_vertex_prototypes[2],\n",
    "            vertex2=_vertex_prototypes[12],\n",
    "        ),\n",
    "\n",
    "        stk.Edge(\n",
    "            id=5,\n",
    "            vertex1=_vertex_prototypes[3],\n",
    "            vertex2=_vertex_prototypes[13],\n",
    "        ),\n",
    "\n",
    "        stk.Edge(\n",
    "            id=6,\n",
    "            vertex1=_vertex_prototypes[0],\n",
    "            vertex2=_vertex_prototypes[14],\n",
    "        ),\n",
    "\n",
    "        stk.Edge(\n",
    "            id=7,\n",
    "            vertex1=_vertex_prototypes[1],\n",
    "            vertex2=_vertex_prototypes[15],\n",
    "        ),\n",
    "\n",
    "        stk.Edge(\n",
    "            id=8,\n",
    "            vertex1=_vertex_prototypes[4],\n",
    "            vertex2=_vertex_prototypes[10],\n",
    "        ),\n",
    "\n",
    "        stk.Edge(\n",
    "            id=9,\n",
    "            vertex1=_vertex_prototypes[5],\n",
    "            vertex2=_vertex_prototypes[11],\n",
    "        ),\n",
    "\n",
    "        stk.Edge(\n",
    "            id=10,\n",
    "            vertex1=_vertex_prototypes[2],\n",
    "            vertex2=_vertex_prototypes[16],\n",
    "        ),\n",
    "\n",
    "        stk.Edge(\n",
    "            id=11,\n",
    "            vertex1=_vertex_prototypes[3],\n",
    "            vertex2=_vertex_prototypes[17],\n",
    "        ),\n",
    "\n",
    "        stk.Edge(\n",
    "            id=12,\n",
    "            vertex1=_vertex_prototypes[4],\n",
    "            vertex2=_vertex_prototypes[12],\n",
    "        ),\n",
    "\n",
    "        stk.Edge(\n",
    "            id=13,\n",
    "            vertex1=_vertex_prototypes[5],\n",
    "            vertex2=_vertex_prototypes[13],\n",
    "        ),\n",
    "\n",
    "        stk.Edge(\n",
    "            id=14,\n",
    "            vertex1=_vertex_prototypes[6],\n",
    "            vertex2=_vertex_prototypes[14],\n",
    "        ),\n",
    "\n",
    "        stk.Edge(\n",
    "            id=15,\n",
    "            vertex1=_vertex_prototypes[7],\n",
    "            vertex2=_vertex_prototypes[15],\n",
    "        ),\n",
    "\n",
    "        stk.Edge(\n",
    "            id=16,\n",
    "            vertex1=_vertex_prototypes[4],\n",
    "            vertex2=_vertex_prototypes[18],\n",
    "        ),\n",
    "\n",
    "        stk.Edge(\n",
    "            id=17,\n",
    "            vertex1=_vertex_prototypes[5],\n",
    "            vertex2=_vertex_prototypes[19],\n",
    "        ),\n",
    "\n",
    "        stk.Edge(\n",
    "            id=18,\n",
    "            vertex1=_vertex_prototypes[6],\n",
    "            vertex2=_vertex_prototypes[16],\n",
    "        ),\n",
    "\n",
    "        stk.Edge(\n",
    "            id=19,\n",
    "            vertex1=_vertex_prototypes[7],\n",
    "            vertex2=_vertex_prototypes[17],\n",
    "        ),\n",
    "\n",
    "        stk.Edge(\n",
    "            id=20,\n",
    "            vertex1=_vertex_prototypes[7],\n",
    "            vertex2=_vertex_prototypes[18],\n",
    "        ),\n",
    "\n",
    "        stk.Edge(\n",
    "            id=21,\n",
    "            vertex1=_vertex_prototypes[6],\n",
    "            vertex2=_vertex_prototypes[19],\n",
    "        ),\n",
    "\n",
    "        stk.Edge(\n",
    "            id=22,\n",
    "            vertex1=_vertex_prototypes[3],\n",
    "            vertex2=_vertex_prototypes[9],\n",
    "        ),\n",
    "\n",
    "        stk.Edge(\n",
    "            id=23,\n",
    "            vertex1=_vertex_prototypes[2],\n",
    "            vertex2=_vertex_prototypes[8],\n",
    "        ),\n",
    "    )"
   ]
  },
  {
   "cell_type": "markdown",
   "id": "abe377a3",
   "metadata": {},
   "source": [
    "## Get building blocks."
   ]
  },
  {
   "cell_type": "code",
   "execution_count": 11,
   "id": "5c493348",
   "metadata": {},
   "outputs": [],
   "source": [
    "disconnected_graphs = new_topology_graph.get_connected_graphs(\n",
    "    molecule=struct,\n",
    "    atom_ids_to_disconnect=broken_bonds_by_id,\n",
    ")\n",
    "potential_bbs = {}\n",
    "for i, cg in enumerate(disconnected_graphs):\n",
    "    atom_ids = [i.get_id() for i in cg]\n",
    "    _atomid_map = {j: i for i, j in enumerate(atom_ids)}\n",
    "    atoms = tuple([\n",
    "        stk.Atom(\n",
    "            id=_atomid_map[a.get_id()],\n",
    "            atomic_number=a.get_atomic_number(),\n",
    "            charge=a.get_charge(),\n",
    "        )\n",
    "        for a in struct.get_atoms(atom_ids=atom_ids)\n",
    "    ])\n",
    "    bonds = tuple([\n",
    "        stk.Bond(\n",
    "            atom1=atoms[_atomid_map[i.get_atom1().get_id()]],\n",
    "            atom2=atoms[_atomid_map[i.get_atom2().get_id()]],\n",
    "            order=i.get_order(),\n",
    "        )\n",
    "        for i in struct.get_bonds()\n",
    "        if i.get_atom1().get_id() in atom_ids\n",
    "        if i.get_atom2().get_id() in atom_ids\n",
    "    ])\n",
    "    position_matrix = tuple(struct.get_atomic_positions(atom_ids))\n",
    "    cg_bb = stk.BuildingBlock.init(\n",
    "        atoms=tuple(atoms),\n",
    "        bonds=tuple(bonds),\n",
    "        position_matrix=np.array(position_matrix),\n",
    "    )\n",
    "    cg_bb.write(f'cg_bb_{i}.mol')\n",
    "    potential_bbs[stk.Smiles().get_key(cg_bb)] = cg_bb"
   ]
  },
  {
   "cell_type": "markdown",
   "id": "36b102f2",
   "metadata": {},
   "source": [
    "### See the issue with the perception here!"
   ]
  },
  {
   "cell_type": "code",
   "execution_count": 12,
   "id": "67a2d5da",
   "metadata": {},
   "outputs": [
    {
     "data": {
      "text/plain": [
       "{'[CH3]->[Pt](<-[CH3])<-[CH3]': BuildingBlock('[CH3]->[Pt](<-[CH3])<-[CH3]'),\n",
       " 'c1cc(-c2ccncc2)ccn1': BuildingBlock('c1cc(-c2ccncc2)ccn1'),\n",
       " '[CH]1C=C(c2ccncc2)C=C[N]1': BuildingBlock('[CH]1C=C(c2ccncc2)C=C[N]1'),\n",
       " '[CH]1C=C(C2=C[CH][N]C=C2)C=C[N]1': BuildingBlock('[CH]1C=C(C2=C[CH][N]C=C2)C=C[N]1')}"
      ]
     },
     "execution_count": 12,
     "metadata": {},
     "output_type": "execute_result"
    }
   ],
   "source": [
    "potential_bbs"
   ]
  },
  {
   "cell_type": "code",
   "execution_count": 13,
   "id": "251aeb35",
   "metadata": {},
   "outputs": [
    {
     "name": "stdout",
     "output_type": "stream",
     "text": [
      "BuildingBlock('[CH3]->[Pt](<-[CH3])<-[CH3]', (GenericFunctionalGroup(atoms=(C(0), Pt(3)), bonders=(Pt(3),), deleters=()), GenericFunctionalGroup(atoms=(C(5), Pt(3)), bonders=(Pt(3),), deleters=()), GenericFunctionalGroup(atoms=(C(7), Pt(3)), bonders=(Pt(3),), deleters=())))\n"
     ]
    }
   ],
   "source": [
    "metal_bb = stk.BuildingBlock.init_from_molecule(\n",
    "    molecule=potential_bbs['[CH3]->[Pt](<-[CH3])<-[CH3]'],\n",
    "    functional_groups=[\n",
    "        stk.SmartsFunctionalGroupFactory(\n",
    "            smarts='[#6]~[Pt]',\n",
    "            bonders=(1, ),\n",
    "            deleters=(),\n",
    "        ),\n",
    "    ]\n",
    ")\n",
    "print(metal_bb)"
   ]
  },
  {
   "cell_type": "code",
   "execution_count": 14,
   "id": "1f5e04e3",
   "metadata": {},
   "outputs": [
    {
     "name": "stdout",
     "output_type": "stream",
     "text": [
      "BuildingBlock('c1cc(-c2ccncc2)ccn1', (GenericFunctionalGroup(atoms=(C(0), N(10), C(12)), bonders=(N(10),), deleters=()), GenericFunctionalGroup(atoms=(C(6), N(4), C(16)), bonders=(N(4),), deleters=())))\n"
     ]
    }
   ],
   "source": [
    "original_bridging_bb = stk.BuildingBlock.init_from_molecule(\n",
    "    molecule=potential_bbs['c1cc(-c2ccncc2)ccn1'],\n",
    "    functional_groups=[\n",
    "        stk.SmartsFunctionalGroupFactory(\n",
    "            smarts='[#6]~[#7X2]~[#6]',\n",
    "            bonders=(1, ),\n",
    "            deleters=(),\n",
    "        ),\n",
    "    ]\n",
    ")\n",
    "print(original_bridging_bb)"
   ]
  },
  {
   "cell_type": "markdown",
   "id": "5c622dd0",
   "metadata": {},
   "source": [
    "## Build the original cage again."
   ]
  },
  {
   "cell_type": "code",
   "execution_count": 15,
   "id": "592cc0b5",
   "metadata": {},
   "outputs": [
    {
     "data": {
      "text/plain": [
       "<ConstructedMolecule at 139934424825232>"
      ]
     },
     "execution_count": 15,
     "metadata": {},
     "output_type": "execute_result"
    }
   ],
   "source": [
    "cage1 = stk.ConstructedMolecule(\n",
    "    NewTg(\n",
    "        building_blocks={\n",
    "            metal_bb: metal_bb_ids,\n",
    "            original_bridging_bb: bridging_bb_ids,\n",
    "        },\n",
    "        optimizer=stk.Collapser(),\n",
    "        # Ensure that bonds between the GenericFunctionalGroups\n",
    "        # of the ligand and the SingleAtom functional groups\n",
    "        # of the metal are dative.\n",
    "        reaction_factory=stk.DativeReactionFactory(\n",
    "            stk.GenericReactionFactory(\n",
    "                bond_orders={\n",
    "                    frozenset({\n",
    "                        stk.GenericFunctionalGroup,\n",
    "                        stk.GenericFunctionalGroup,\n",
    "                    }): 9,\n",
    "                },\n",
    "            ),\n",
    "        ),\n",
    "    ),\n",
    ")\n",
    "cage1.write('original_cage.mol')"
   ]
  },
  {
   "cell_type": "markdown",
   "id": "6a1997da",
   "metadata": {},
   "source": [
    "## Use the splitter and transformer to make a new building block."
   ]
  },
  {
   "cell_type": "code",
   "execution_count": 16,
   "id": "9b9114fd",
   "metadata": {},
   "outputs": [],
   "source": [
    "old_bb = stk.BuildingBlock.init_from_molecule(original_bridging_bb)"
   ]
  },
  {
   "cell_type": "code",
   "execution_count": 20,
   "id": "242c7a18",
   "metadata": {},
   "outputs": [
    {
     "name": "stdout",
     "output_type": "stream",
     "text": [
      "[BuildingBlock('*[C]1[CH][CH][N][CH][CH]1'), BuildingBlock('*[C]1[CH][CH][N][CH][CH]1')]\n",
      "BuildingBlock('*[C]1[CH][CH][N][CH][CH]1')\n",
      "BuildingBlock('*[C]1[CH][CH][N][CH][CH]1')\n"
     ]
    }
   ],
   "source": [
    "# Split between benzene rings.\n",
    "splitter = stko.MoleculeSplitter(\n",
    "    breaker_smarts='[#6X3!H1]~[#6X3!H1]',\n",
    "    bond_deleter_ids=(0, 1),\n",
    ")\n",
    "\n",
    "split_mols = splitter.split(old_bb)\n",
    "for i, mol in enumerate(split_mols):\n",
    "    print(mol)\n",
    "    mol.write(f'splits_{i}.xyz')"
   ]
  },
  {
   "cell_type": "code",
   "execution_count": 21,
   "id": "621f3c1d",
   "metadata": {},
   "outputs": [
    {
     "name": "stdout",
     "output_type": "stream",
     "text": [
      "BuildingBlock('Br[C]1[CH][CH][N][CH][CH]1', (Bromo(Br(10), C(6), bonders=(C(6),), deleters=(Br(10),)),))\n",
      "BuildingBlock('Br[C]1[CH][CH][N][CH][CH]1', (Bromo(Br(10), C(6), bonders=(C(6),), deleters=(Br(10),)),))\n"
     ]
    }
   ],
   "source": [
    "# Transform molecule to add reactive groups.\n",
    "transformer = stko.MoleculeTransformer(\n",
    "    replacer_smarts='[Br]',\n",
    "    functional_groups=(stk.BromoFactory(), ),\n",
    ")\n",
    "transformed_mols = tuple(\n",
    "    transformer.transform(i) for i in split_mols\n",
    ")\n",
    "\n",
    "count = 0\n",
    "for i, mol in enumerate(transformed_mols):\n",
    "    print(mol)\n",
    "    mol.write(f'transform_{i}.mol')"
   ]
  },
  {
   "cell_type": "code",
   "execution_count": 22,
   "id": "91bed48d",
   "metadata": {},
   "outputs": [
    {
     "name": "stdout",
     "output_type": "stream",
     "text": [
      "BuildingBlock('IC#CC#CI', (Iodo(I(0), C(1), bonders=(C(1),), deleters=(I(0),)), Iodo(I(5), C(4), bonders=(C(4),), deleters=(I(5),))))\n"
     ]
    }
   ],
   "source": [
    "addition_bb = stk.BuildingBlock(\n",
    "    smiles='IC#CC#CI',\n",
    "    functional_groups=[stk.IodoFactory()]\n",
    ")\n",
    "print(addition_bb)"
   ]
  },
  {
   "cell_type": "code",
   "execution_count": 23,
   "id": "3c51f535",
   "metadata": {},
   "outputs": [
    {
     "data": {
      "text/plain": [
       "<ConstructedMolecule at 139934274457664>"
      ]
     },
     "execution_count": 23,
     "metadata": {},
     "output_type": "execute_result"
    }
   ],
   "source": [
    "# Reconstruct.\n",
    "polymer = stk.ConstructedMolecule(\n",
    "    topology_graph=stk.polymer.Linear(\n",
    "        building_blocks=(transformed_mols[0], addition_bb, transformed_mols[1]),\n",
    "        repeating_unit='ABC',\n",
    "        num_repeating_units=1,\n",
    "    ),\n",
    ")\n",
    "polymer = stko.UFF().optimize(polymer)\n",
    "polymer.write('reconstructed.mol')"
   ]
  },
  {
   "cell_type": "markdown",
   "id": "2289c28c",
   "metadata": {},
   "source": [
    "## Build a new cage!"
   ]
  },
  {
   "cell_type": "code",
   "execution_count": 25,
   "id": "fea5d656",
   "metadata": {},
   "outputs": [
    {
     "name": "stdout",
     "output_type": "stream",
     "text": [
      "BuildingBlock('C(C#C[C]1[CH][CH][N][CH][CH]1)#C[C]1[CH][CH][N][CH][CH]1', (GenericFunctionalGroup(atoms=(C(0), N(4), C(5)), bonders=(N(4),), deleters=()), GenericFunctionalGroup(atoms=(C(17), N(16), C(22)), bonders=(N(16),), deleters=())))\n"
     ]
    }
   ],
   "source": [
    "new_bridging_bb = stk.BuildingBlock.init_from_molecule(\n",
    "    molecule=polymer,\n",
    "    functional_groups=[\n",
    "        stk.SmartsFunctionalGroupFactory(\n",
    "            smarts='[#6]~[#7X2]~[#6]',\n",
    "            bonders=(1, ),\n",
    "            deleters=(),\n",
    "        ),\n",
    "    ]\n",
    ")\n",
    "print(new_bridging_bb)"
   ]
  },
  {
   "cell_type": "code",
   "execution_count": 26,
   "id": "b9bcc945",
   "metadata": {},
   "outputs": [
    {
     "data": {
      "text/plain": [
       "<ConstructedMolecule at 139934273830432>"
      ]
     },
     "execution_count": 26,
     "metadata": {},
     "output_type": "execute_result"
    }
   ],
   "source": [
    "cage2 = stk.ConstructedMolecule(\n",
    "    NewTg(\n",
    "        building_blocks={\n",
    "            metal_bb: metal_bb_ids,\n",
    "            new_bridging_bb: bridging_bb_ids,\n",
    "        },\n",
    "        optimizer=stk.Collapser(),\n",
    "        # Ensure that bonds between the GenericFunctionalGroups\n",
    "        # of the ligand and the SingleAtom functional groups\n",
    "        # of the metal are dative.\n",
    "        reaction_factory=stk.DativeReactionFactory(\n",
    "            stk.GenericReactionFactory(\n",
    "                bond_orders={\n",
    "                    frozenset({\n",
    "                        stk.GenericFunctionalGroup,\n",
    "                        stk.GenericFunctionalGroup,\n",
    "                    }): 9,\n",
    "                },\n",
    "            ),\n",
    "        ),\n",
    "    ),\n",
    ")\n",
    "cage2.write('new_cage.mol')"
   ]
  },
  {
   "cell_type": "code",
   "execution_count": null,
   "id": "ab0ade10",
   "metadata": {},
   "outputs": [],
   "source": []
  }
 ],
 "metadata": {
  "kernelspec": {
   "display_name": "stkdevel",
   "language": "python",
   "name": "stkdevel"
  },
  "language_info": {
   "codemirror_mode": {
    "name": "ipython",
    "version": 3
   },
   "file_extension": ".py",
   "mimetype": "text/x-python",
   "name": "python",
   "nbconvert_exporter": "python",
   "pygments_lexer": "ipython3",
   "version": "3.9.7"
  }
 },
 "nbformat": 4,
 "nbformat_minor": 5
}
