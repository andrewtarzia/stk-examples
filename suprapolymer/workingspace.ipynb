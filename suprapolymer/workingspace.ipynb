{
 "cells": [
  {
   "cell_type": "markdown",
   "id": "82b609bb-7c82-497d-bf18-43c4bf41f8b2",
   "metadata": {},
   "source": [
    "# The plan\n",
    "\n",
    "See: https://www.nature.com/articles/s41467-022-29804-5/figures/4\n",
    "\n",
    "![The plan](plan.png \"The plan\")"
   ]
  },
  {
   "cell_type": "code",
   "execution_count": 1,
   "id": "509ac2ac-083e-4702-aa1a-fdc616956d4d",
   "metadata": {},
   "outputs": [],
   "source": [
    "import stk\n",
    "import stko\n",
    "import math\n",
    "import py3Dmol\n",
    "from itertools import product\n",
    "from rdkit.Chem import AllChem as rdkit"
   ]
  },
  {
   "cell_type": "code",
   "execution_count": 2,
   "id": "3d067c17-9e47-4b30-999d-e54852585711",
   "metadata": {},
   "outputs": [],
   "source": [
    "def show_stk_mol(stk_mol):\n",
    "    \n",
    "    try:\n",
    "        print(\n",
    "            f'BB has {stk_mol.get_num_functional_groups()} '\n",
    "            f'FGs and {stk_mol.get_num_placers()} placers'\n",
    "        )\n",
    "    except:\n",
    "        pass\n",
    "    \n",
    "    data = rdkit.MolToMolBlock(stk_mol.to_rdkit_mol())\n",
    "    p = py3Dmol.view(\n",
    "        data=data,\n",
    "        style={'stick':{'colorscheme':'cyanCarbon'}}, \n",
    "        width=400,\n",
    "        height=400,\n",
    "    )\n",
    "    p.setBackgroundColor('#000000')\n",
    "    p.zoomTo()\n",
    "    p.show()"
   ]
  },
  {
   "cell_type": "markdown",
   "id": "906755d0-dad4-4096-9231-1ae65d3db19d",
   "metadata": {},
   "source": [
    "# Working:\n",
    "\n",
    "Useful things:\n",
    "* https://molview.org/"
   ]
  },
  {
   "cell_type": "markdown",
   "id": "745fab38-7315-4b4a-b7d1-2e23d329b9c2",
   "metadata": {},
   "source": [
    "## Tritopics"
   ]
  },
  {
   "cell_type": "code",
   "execution_count": 3,
   "id": "2c3bda0f-c458-4a52-a980-6d3e9aee46d2",
   "metadata": {},
   "outputs": [],
   "source": [
    "tritopics = [\n",
    "    stk.BuildingBlock(\n",
    "        smiles='C1=C(C=C(C=C1Br)Br)Br',\n",
    "        functional_groups=(stk.BromoFactory(), ),\n",
    "    ),\n",
    "    stk.BuildingBlock(\n",
    "        smiles='C1(=NC(=NC(=N1)Br)Br)Br',\n",
    "        functional_groups=(stk.BromoFactory(), ),\n",
    "    ),\n",
    "    stk.BuildingBlock(\n",
    "        smiles='[C+](Br)(Br)Br',\n",
    "        functional_groups=(stk.BromoFactory(), ),\n",
    "    ),\n",
    "    stk.BuildingBlock(\n",
    "        smiles='[N+](Br)(Br)Br',\n",
    "        functional_groups=(stk.BromoFactory(), ),\n",
    "    ),\n",
    "    stk.BuildingBlock(\n",
    "        smiles='[C+]1([C+]([C+]1Br)Br)Br',\n",
    "        functional_groups=(stk.BromoFactory(), ),\n",
    "    ),\n",
    "    stk.BuildingBlock(\n",
    "        smiles='[C+]1[C+]([C+]([C+]1Br)Br)Br',\n",
    "        functional_groups=(stk.BromoFactory(), ),\n",
    "    ),\n",
    "]"
   ]
  },
  {
   "cell_type": "code",
   "execution_count": 5,
   "id": "191228d6-683c-4d04-a4da-c2f06fcbed33",
   "metadata": {},
   "outputs": [
    {
     "data": {
      "image/png": "[encoded data removed]",
      "text/plain": [
       "<rdkit.Chem.rdchem.Mol at 0x7f251437bd00>"
      ]
     },
     "execution_count": 5,
     "metadata": {},
     "output_type": "execute_result"
    }
   ],
   "source": [
    "tritopics[0].to_rdkit_mol()"
   ]
  },
  {
   "cell_type": "code",
   "execution_count": 4,
   "id": "21317923-7f94-40d8-b7cc-9105c43fbc4e",
   "metadata": {},
   "outputs": [
    {
     "name": "stdout",
     "output_type": "stream",
     "text": [
      "BB has 3 FGs and 3 placers\n"
     ]
    },
    {
     "data": {
      "application/3dmoljs_load.v0": "<div id=\"3dmolviewer_16571238836372445\"  style=\"position: relative; width: 400px; height: 400px\">\n        <p id=\"3dmolwarning_16571238836372445\" style=\"background-color:#ffcccc;color:black\">You appear to be running in JupyterLab (or JavaScript failed to load for some other reason).  You need to install the 3dmol extension: <br>\n        <tt>jupyter labextension install jupyterlab_3dmol</tt></p>\n        </div>\n<script>\n\nvar loadScriptAsync = function(uri){\n  return new Promise((resolve, reject) => {\n    var tag = document.createElement('script');\n    tag.src = uri;\n    tag.async = true;\n    tag.onload = () => {\n      resolve();\n    };\n  var firstScriptTag = document.getElementsByTagName('script')[0];\n  firstScriptTag.parentNode.insertBefore(tag, firstScriptTag);\n});\n};\n\nif(typeof $3Dmolpromise === 'undefined') {\n$3Dmolpromise = null;\n  $3Dmolpromise = loadScriptAsync('https://3dmol.org/build/3Dmol.js');\n}\n\nvar viewer_16571238836372445 = null;\nvar warn = document.getElementById(\"3dmolwarning_16571238836372445\");\nif(warn) {\n    warn.parentNode.removeChild(warn);\n}\n$3Dmolpromise.then(function() {\nviewer_16571238836372445 = $3Dmol.createViewer($(\"#3dmolviewer_16571238836372445\"),{backgroundColor:\"white\"});\nviewer_16571238836372445.addModel(\"\\n     RDKit          3D\\n\\n 12 12  0  0  0  0  0  0  0  0999 V2000\\n    0.7376    1.1693   -0.0159 C   0  0  0  0  0  0  0  0  0  0  0  0\\n   -0.6429    1.2414   -0.0412 C   0  0  0  0  0  0  0  0  0  0  0  0\\n   -1.3437    0.0543   -0.0243 C   0  0  0  0  0  0  0  0  0  0  0  0\\n   -0.7534   -1.1821    0.0159 C   0  0  0  0  0  0  0  0  0  0  0  0\\n    0.6329   -1.2324    0.0408 C   0  0  0  0  0  0  0  0  0  0  0  0\\n    1.3832   -0.0561    0.0250 C   0  0  0  0  0  0  0  0  0  0  0  0\\n    3.2982   -0.1252    0.0595 Br  0  0  0  0  0  0  0  0  0  0  0  0\\n   -1.7690   -2.7926    0.0377 Br  0  0  0  0  0  0  0  0  0  0  0  0\\n   -1.5269    2.9429   -0.0978 Br  0  0  0  0  0  0  0  0  0  0  0  0\\n    1.2955    2.1061   -0.0291 H   0  0  0  0  0  0  0  0  0  0  0  0\\n   -2.4379    0.0893   -0.0439 H   0  0  0  0  0  0  0  0  0  0  0  0\\n    1.1264   -2.2150    0.0732 H   0  0  0  0  0  0  0  0  0  0  0  0\\n  1  2  2  0\\n  2  3  1  0\\n  3  4  2  0\\n  4  5  1  0\\n  5  6  2  0\\n  6  7  1  0\\n  4  8  1  0\\n  2  9  1  0\\n  6  1  1  0\\n  1 10  1  0\\n  3 11  1  0\\n  5 12  1  0\\nM  END\\n\");\nviewer_16571238836372445.setStyle({\"stick\": {\"colorscheme\": \"cyanCarbon\"}});\nviewer_16571238836372445.zoomTo();\n\tviewer_16571238836372445.setBackgroundColor(\"#000000\");\n\tviewer_16571238836372445.zoomTo();\nviewer_16571238836372445.render();\n});\n</script>",
      "text/html": [
       "<div id=\"3dmolviewer_16571238836372445\"  style=\"position: relative; width: 400px; height: 400px\">\n",
       "        <p id=\"3dmolwarning_16571238836372445\" style=\"background-color:#ffcccc;color:black\">You appear to be running in JupyterLab (or JavaScript failed to load for some other reason).  You need to install the 3dmol extension: <br>\n",
       "        <tt>jupyter labextension install jupyterlab_3dmol</tt></p>\n",
       "        </div>\n",
       "<script>\n",
       "\n",
       "var loadScriptAsync = function(uri){\n",
       "  return new Promise((resolve, reject) => {\n",
       "    var tag = document.createElement('script');\n",
       "    tag.src = uri;\n",
       "    tag.async = true;\n",
       "    tag.onload = () => {\n",
       "      resolve();\n",
       "    };\n",
       "  var firstScriptTag = document.getElementsByTagName('script')[0];\n",
       "  firstScriptTag.parentNode.insertBefore(tag, firstScriptTag);\n",
       "});\n",
       "};\n",
       "\n",
       "if(typeof $3Dmolpromise === 'undefined') {\n",
       "$3Dmolpromise = null;\n",
       "  $3Dmolpromise = loadScriptAsync('https://3dmol.org/build/3Dmol.js');\n",
       "}\n",
       "\n",
       "var viewer_16571238836372445 = null;\n",
       "var warn = document.getElementById(\"3dmolwarning_16571238836372445\");\n",
       "if(warn) {\n",
       "    warn.parentNode.removeChild(warn);\n",
       "}\n",
       "$3Dmolpromise.then(function() {\n",
       "viewer_16571238836372445 = $3Dmol.createViewer($(\"#3dmolviewer_16571238836372445\"),{backgroundColor:\"white\"});\n",
       "viewer_16571238836372445.addModel(\"\\n     RDKit          3D\\n\\n 12 12  0  0  0  0  0  0  0  0999 V2000\\n    0.7376    1.1693   -0.0159 C   0  0  0  0  0  0  0  0  0  0  0  0\\n   -0.6429    1.2414   -0.0412 C   0  0  0  0  0  0  0  0  0  0  0  0\\n   -1.3437    0.0543   -0.0243 C   0  0  0  0  0  0  0  0  0  0  0  0\\n   -0.7534   -1.1821    0.0159 C   0  0  0  0  0  0  0  0  0  0  0  0\\n    0.6329   -1.2324    0.0408 C   0  0  0  0  0  0  0  0  0  0  0  0\\n    1.3832   -0.0561    0.0250 C   0  0  0  0  0  0  0  0  0  0  0  0\\n    3.2982   -0.1252    0.0595 Br  0  0  0  0  0  0  0  0  0  0  0  0\\n   -1.7690   -2.7926    0.0377 Br  0  0  0  0  0  0  0  0  0  0  0  0\\n   -1.5269    2.9429   -0.0978 Br  0  0  0  0  0  0  0  0  0  0  0  0\\n    1.2955    2.1061   -0.0291 H   0  0  0  0  0  0  0  0  0  0  0  0\\n   -2.4379    0.0893   -0.0439 H   0  0  0  0  0  0  0  0  0  0  0  0\\n    1.1264   -2.2150    0.0732 H   0  0  0  0  0  0  0  0  0  0  0  0\\n  1  2  2  0\\n  2  3  1  0\\n  3  4  2  0\\n  4  5  1  0\\n  5  6  2  0\\n  6  7  1  0\\n  4  8  1  0\\n  2  9  1  0\\n  6  1  1  0\\n  1 10  1  0\\n  3 11  1  0\\n  5 12  1  0\\nM  END\\n\");\n",
       "viewer_16571238836372445.setStyle({\"stick\": {\"colorscheme\": \"cyanCarbon\"}});\n",
       "viewer_16571238836372445.zoomTo();\n",
       "\tviewer_16571238836372445.setBackgroundColor(\"#000000\");\n",
       "\tviewer_16571238836372445.zoomTo();\n",
       "viewer_16571238836372445.render();\n",
       "});\n",
       "</script>"
      ]
     },
     "metadata": {},
     "output_type": "display_data"
    }
   ],
   "source": [
    "show_stk_mol(tritopics[0])"
   ]
  },
  {
   "cell_type": "markdown",
   "id": "f7d72537-08e1-4c34-a11d-89e9f9b1da84",
   "metadata": {},
   "source": [
    "## Monotopics (r-groups)"
   ]
  },
  {
   "cell_type": "markdown",
   "id": "922b0c34-1c71-4040-bed7-62f471e3f9b7",
   "metadata": {},
   "source": [
    "### Mention placers!"
   ]
  },
  {
   "cell_type": "code",
   "execution_count": 6,
   "id": "f032afc0-4d39-4320-ad2a-caacc54869e2",
   "metadata": {},
   "outputs": [
    {
     "name": "stderr",
     "output_type": "stream",
     "text": [
      "[18:11:50] UFFTYPER: Unrecognized atom type: Fe3 (0)\n",
      "[18:11:50] UFFTYPER: Unrecognized atom type: Fe3 (0)\n",
      "[18:11:50] UFFTYPER: Unrecognized atom type: Fe3 (0)\n",
      "[18:11:50] UFFTYPER: Unrecognized atom type: Pd5 (0)\n"
     ]
    }
   ],
   "source": [
    "monotopics = [\n",
    "    stk.BuildingBlock(\n",
    "        smiles='CCCBr',\n",
    "        functional_groups=(stk.BromoFactory(placers=(0, 1)), ),\n",
    "    ),\n",
    "    stk.BuildingBlock.init_from_molecule(\n",
    "        molecule=(stk.ConstructedMolecule(\n",
    "            topology_graph=stk.polymer.Linear(\n",
    "                building_blocks=(\n",
    "                    stk.BuildingBlock(\n",
    "                        smiles='CN',\n",
    "                        functional_groups=(stk.PrimaryAminoFactory(), ),\n",
    "                    ), \n",
    "                    stk.BuildingBlock(\n",
    "                        smiles='NCCBr',\n",
    "                        functional_groups=(\n",
    "                            stk.BromoFactory(), \n",
    "                            stk.PrimaryAminoFactory(),\n",
    "                        ),\n",
    "                    ),\n",
    "                ),\n",
    "                repeating_unit='ABB',\n",
    "                num_repeating_units=1,\n",
    "            ),\n",
    "        )),\n",
    "        functional_groups=(stk.PrimaryAminoFactory(placers=(0, 1, 2, 3)), ),\n",
    "    ),\n",
    "    stk.BuildingBlock(\n",
    "        smiles='COCOCC(=O)',\n",
    "        functional_groups=(stk.AldehydeFactory(placers=(0, 1, 2)), ),\n",
    "    ),\n",
    "    stk.BuildingBlock(\n",
    "        smiles='[Fe+][C+][N+][C+]Br',\n",
    "        functional_groups=(stk.BromoFactory(placers=(0, 1)), ),\n",
    "    ),\n",
    "    stk.BuildingBlock(\n",
    "        smiles='[Fe+][N+][C+]Br',\n",
    "        functional_groups=(stk.BromoFactory(placers=(0, 1)), ),\n",
    "    ),\n",
    "    stk.BuildingBlock(\n",
    "        smiles='[Fe+][C+][C+][C+]Br',\n",
    "        functional_groups=(stk.BromoFactory(placers=(0, 1)), ),\n",
    "    ),\n",
    "    stk.BuildingBlock(\n",
    "        smiles='[Pd+][C+][N+][C+]Br',\n",
    "        functional_groups=(stk.BromoFactory(placers=(0, 1)), ),\n",
    "    ),\n",
    "]"
   ]
  },
  {
   "cell_type": "markdown",
   "id": "87395aea-c3d8-40f4-b87e-39d11cc26ade",
   "metadata": {},
   "source": [
    "### Note: Conformers are consistent with set Seed.\n",
    "\n",
    "Therefore, you may want to have a check here that you build a reasonable conformer."
   ]
  },
  {
   "cell_type": "code",
   "execution_count": 7,
   "id": "5e78b775-f0bc-404a-93f1-501c8b38fb04",
   "metadata": {},
   "outputs": [
    {
     "data": {
      "image/png": "[encoded data removed]",
      "text/plain": [
       "<rdkit.Chem.rdchem.Mol at 0x7f24b49a4b20>"
      ]
     },
     "execution_count": 7,
     "metadata": {},
     "output_type": "execute_result"
    }
   ],
   "source": [
    "monotopics[0].to_rdkit_mol()"
   ]
  },
  {
   "cell_type": "code",
   "execution_count": null,
   "id": "403e8289-2fe9-4aac-af9b-744e1aa983fe",
   "metadata": {},
   "outputs": [],
   "source": [
    "show_stk_mol(monotopics[1])"
   ]
  },
  {
   "cell_type": "markdown",
   "id": "b1dc1269-e879-463b-866b-c7cc6665aece",
   "metadata": {},
   "source": [
    "## Building the components\n",
    "\n",
    "### We need a new topology - how hard should that be?\n",
    "\n",
    "* A lot of merging other functions.\n",
    "\n",
    "### We do I use a Cage base class here??\n",
    "\n",
    "* Vertices: Handling Monodentate is the same\n",
    "* But edge assignment and organic nature fits cages better"
   ]
  },
  {
   "cell_type": "code",
   "execution_count": 8,
   "id": "7c3c8d61-126d-4090-8a1f-544868645f1c",
   "metadata": {},
   "outputs": [],
   "source": [
    "from stk.molecular.topology_graphs.cage.vertices import _CageVertex"
   ]
  },
  {
   "cell_type": "code",
   "execution_count": 9,
   "id": "dfefd077-6b22-4ce4-b1b7-f28732f74ecf",
   "metadata": {},
   "outputs": [],
   "source": [
    "class TerminalVertex(_CageVertex):\n",
    "    \n",
    "    def place_building_block(self, building_block, edges):\n",
    "        building_block = building_block.with_centroid(\n",
    "            position=self._position,\n",
    "            atom_ids=building_block.get_core_atom_ids(),\n",
    "        )\n",
    "        # return building_block.get_position_matrix()\n",
    "        fg, = building_block.get_functional_groups()\n",
    "        fg_centroid = building_block.get_centroid(\n",
    "            atom_ids=fg.get_placer_ids(),\n",
    "        )\n",
    "        core_centroid = building_block.get_centroid(\n",
    "            atom_ids=building_block.get_core_atom_ids(),\n",
    "        )\n",
    "        edge_centroid = (\n",
    "            sum(edge.get_position() for edge in edges) / len(edges)\n",
    "        )\n",
    "        return building_block.with_rotation_between_vectors(\n",
    "            start=(fg_centroid - core_centroid),\n",
    "            # _cap_direction is defined by a subclass.\n",
    "            target=edge_centroid - self._position,\n",
    "            origin=self._position,\n",
    "        ).get_position_matrix()\n",
    "    \n",
    "    def map_functional_groups_to_edges(self, building_block, edges):\n",
    "\n",
    "        return {\n",
    "            fg_id: edge.get_id() for fg_id, edge in enumerate(edges)\n",
    "        }"
   ]
  },
  {
   "cell_type": "code",
   "execution_count": 10,
   "id": "efc54bb0-65dd-4d74-adc1-c8d8f9dcbb1b",
   "metadata": {},
   "outputs": [],
   "source": [
    "class Core(stk.cage.Cage):\n",
    "    # Special vertex definitions to be maintained.    \n",
    "    # Vertex ID, position.\n",
    "    # Note the classes are Cage specific!\n",
    "    _vertex_prototypes = (\n",
    "        stk.cage.NonLinearVertex(0, (0, 0, 0)),\n",
    "        TerminalVertex(\n",
    "            id=1, \n",
    "            position=(2, 0, 0), \n",
    "            use_neighbor_placement=False,\n",
    "        ),        \n",
    "        TerminalVertex(\n",
    "            id=2, \n",
    "            position=(-1.2, 1., 0), \n",
    "            use_neighbor_placement=False,\n",
    "        ),\n",
    "        TerminalVertex(\n",
    "            id=3, \n",
    "            position=(-1.2, -1., 0), \n",
    "            use_neighbor_placement=False,\n",
    "        ),\n",
    "    )\n",
    "\n",
    "    # But Edges are not!\n",
    "    _edge_prototypes = (\n",
    "        # Edge ID, connected vertices by ID above.\n",
    "        stk.Edge(\n",
    "            id=0,\n",
    "            vertex1=_vertex_prototypes[0],\n",
    "            vertex2=_vertex_prototypes[1],\n",
    "        ),\n",
    "        stk.Edge(\n",
    "            id=1,\n",
    "            vertex1=_vertex_prototypes[0],\n",
    "            vertex2=_vertex_prototypes[2],\n",
    "        ),\n",
    "        stk.Edge(\n",
    "            id=2,\n",
    "            vertex1=_vertex_prototypes[0],\n",
    "            vertex2=_vertex_prototypes[3],\n",
    "        ),\n",
    "    )"
   ]
  },
  {
   "cell_type": "markdown",
   "id": "fb18df61-3d5a-4641-9c6f-e2326396eeaf",
   "metadata": {},
   "source": [
    "### I promise that I am telling the truth about how long this took.\n",
    "\n",
    "Because of the placers and the `use_neighbour_placement`, it took far longer than it should have (30 mins still!)"
   ]
  },
  {
   "cell_type": "code",
   "execution_count": 12,
   "id": "18b091a3-7bdb-461d-a0c3-f7f471c8dbff",
   "metadata": {},
   "outputs": [],
   "source": [
    "cores = []\n",
    "for i, (cent, mono) in enumerate(product(tritopics, monotopics)):\n",
    "    core = stk.ConstructedMolecule(\n",
    "        Core(\n",
    "            building_blocks={\n",
    "                cent: (0, ), \n",
    "                mono: (1, 2, 3),\n",
    "            },\n",
    "        )\n",
    "    )\n",
    "    cores.append(core)"
   ]
  },
  {
   "cell_type": "code",
   "execution_count": 13,
   "id": "39eb883b-5e94-48fe-a943-e3a6b1fe543b",
   "metadata": {},
   "outputs": [
    {
     "data": {
      "application/3dmoljs_load.v0": "<div id=\"3dmolviewer_16571239570849276\"  style=\"position: relative; width: 400px; height: 400px\">\n        <p id=\"3dmolwarning_16571239570849276\" style=\"background-color:#ffcccc;color:black\">You appear to be running in JupyterLab (or JavaScript failed to load for some other reason).  You need to install the 3dmol extension: <br>\n        <tt>jupyter labextension install jupyterlab_3dmol</tt></p>\n        </div>\n<script>\n\nvar loadScriptAsync = function(uri){\n  return new Promise((resolve, reject) => {\n    var tag = document.createElement('script');\n    tag.src = uri;\n    tag.async = true;\n    tag.onload = () => {\n      resolve();\n    };\n  var firstScriptTag = document.getElementsByTagName('script')[0];\n  firstScriptTag.parentNode.insertBefore(tag, firstScriptTag);\n});\n};\n\nif(typeof $3Dmolpromise === 'undefined') {\n$3Dmolpromise = null;\n  $3Dmolpromise = loadScriptAsync('https://3dmol.org/build/3Dmol.js');\n}\n\nvar viewer_16571239570849276 = null;\nvar warn = document.getElementById(\"3dmolwarning_16571239570849276\");\nif(warn) {\n    warn.parentNode.removeChild(warn);\n}\n$3Dmolpromise.then(function() {\nviewer_16571239570849276 = $3Dmol.createViewer($(\"#3dmolviewer_16571239570849276\"),{backgroundColor:\"white\"});\nviewer_16571239570849276.addModel(\"\\n     RDKit          3D\\n\\n 39 39  0  0  0  0  0  0  0  0999 V2000\\n    0.6992   -1.1944   -0.0000 C   0  0  0  0  0  0  0  0  0  0  0  0\\n    1.3957    0.0000   -0.0000 C   0  0  0  0  0  0  0  0  0  0  0  0\\n    0.6609    1.1664    0.0000 C   0  0  0  0  0  0  0  0  0  0  0  0\\n   -0.7092    1.2076    0.0000 C   0  0  0  0  0  0  0  0  0  0  0  0\\n   -1.3889   -0.0020   -0.0000 C   0  0  0  0  0  0  0  0  0  0  0  0\\n   -0.6864   -1.2076    0.0000 C   0  0  0  0  0  0  0  0  0  0  0  0\\n    1.2769   -2.1193    0.0000 H   0  0  0  0  0  0  0  0  0  0  0  0\\n    1.1932    2.1232    0.0000 H   0  0  0  0  0  0  0  0  0  0  0  0\\n   -2.4890    0.0090   -0.0000 H   0  0  0  0  0  0  0  0  0  0  0  0\\n   16.8145   -0.0299    0.9669 C   0  0  0  0  0  0  0  0  0  0  0  0\\n   16.3710   -0.4120   -0.4274 C   0  0  0  0  0  0  0  0  0  0  0  0\\n   15.0587    0.3116   -0.6828 C   0  0  0  0  0  0  0  0  0  0  0  0\\n   16.4224    0.9597    1.2769 H   0  0  0  0  0  0  0  0  0  0  0  0\\n   16.5165   -0.8084    1.7095 H   0  0  0  0  0  0  0  0  0  0  0  0\\n   17.9306    0.0396    1.0277 H   0  0  0  0  0  0  0  0  0  0  0  0\\n   17.0717   -0.1226   -1.2117 H   0  0  0  0  0  0  0  0  0  0  0  0\\n   16.2456   -1.5042   -0.4480 H   0  0  0  0  0  0  0  0  0  0  0  0\\n   14.6734    0.1625   -1.6935 H   0  0  0  0  0  0  0  0  0  0  0  0\\n   15.1637    1.4036   -0.5176 H   0  0  0  0  0  0  0  0  0  0  0  0\\n  -10.6945    7.8813   -0.5556 C   0  0  0  0  0  0  0  0  0  0  0  0\\n   -9.7860    8.2788    0.5860 C   0  0  0  0  0  0  0  0  0  0  0  0\\n   -8.3693    7.9290    0.1598 C   0  0  0  0  0  0  0  0  0  0  0  0\\n  -10.1724    7.8953   -1.5335 H   0  0  0  0  0  0  0  0  0  0  0  0\\n  -11.1449    6.8754   -0.3776 H   0  0  0  0  0  0  0  0  0  0  0  0\\n  -11.5564    8.5904   -0.6477 H   0  0  0  0  0  0  0  0  0  0  0  0\\n   -9.8112    9.3430    0.8244 H   0  0  0  0  0  0  0  0  0  0  0  0\\n  -10.0982    7.7083    1.4726 H   0  0  0  0  0  0  0  0  0  0  0  0\\n   -7.6126    8.2352    0.8850 H   0  0  0  0  0  0  0  0  0  0  0  0\\n   -8.1156    8.3974   -0.8133 H   0  0  0  0  0  0  0  0  0  0  0  0\\n   -9.7940   -8.9619   -0.7468 C   0  0  0  0  0  0  0  0  0  0  0  0\\n   -9.8054   -8.2554    0.5901 C   0  0  0  0  0  0  0  0  0  0  0  0\\n   -9.2639   -6.8555    0.3498 C   0  0  0  0  0  0  0  0  0  0  0  0\\n   -9.8727   -8.2550   -1.5972 H   0  0  0  0  0  0  0  0  0  0  0  0\\n   -8.8800   -9.5933   -0.8585 H   0  0  0  0  0  0  0  0  0  0  0  0\\n  -10.6628   -9.6628   -0.8375 H   0  0  0  0  0  0  0  0  0  0  0  0\\n  -10.7974   -8.1596    1.0338 H   0  0  0  0  0  0  0  0  0  0  0  0\\n   -9.1639   -8.8294    1.2742 H   0  0  0  0  0  0  0  0  0  0  0  0\\n   -9.2880   -6.2247    1.2407 H   0  0  0  0  0  0  0  0  0  0  0  0\\n   -9.8330   -6.3365   -0.4486 H   0  0  0  0  0  0  0  0  0  0  0  0\\n  1  2  2  0\\n  2  3  1  0\\n  3  4  2  0\\n  4  5  1  0\\n  5  6  2  0\\n  6  1  1  0\\n  1  7  1  0\\n  3  8  1  0\\n  5  9  1  0\\n 10 11  1  0\\n 11 12  1  0\\n 10 13  1  0\\n 10 14  1  0\\n 10 15  1  0\\n 11 16  1  0\\n 11 17  1  0\\n 12 18  1  0\\n 12 19  1  0\\n 20 21  1  0\\n 21 22  1  0\\n 20 23  1  0\\n 20 24  1  0\\n 20 25  1  0\\n 21 26  1  0\\n 21 27  1  0\\n 22 28  1  0\\n 22 29  1  0\\n 30 31  1  0\\n 31 32  1  0\\n 30 33  1  0\\n 30 34  1  0\\n 30 35  1  0\\n 31 36  1  0\\n 31 37  1  0\\n 32 38  1  0\\n 32 39  1  0\\n  2 12  1  0\\n  4 22  1  0\\n  6 32  1  0\\nM  END\\n\");\nviewer_16571239570849276.setStyle({\"stick\": {\"colorscheme\": \"cyanCarbon\"}});\nviewer_16571239570849276.zoomTo();\n\tviewer_16571239570849276.setBackgroundColor(\"#000000\");\n\tviewer_16571239570849276.zoomTo();\nviewer_16571239570849276.render();\n});\n</script>",
      "text/html": [
       "<div id=\"3dmolviewer_16571239570849276\"  style=\"position: relative; width: 400px; height: 400px\">\n",
       "        <p id=\"3dmolwarning_16571239570849276\" style=\"background-color:#ffcccc;color:black\">You appear to be running in JupyterLab (or JavaScript failed to load for some other reason).  You need to install the 3dmol extension: <br>\n",
       "        <tt>jupyter labextension install jupyterlab_3dmol</tt></p>\n",
       "        </div>\n",
       "<script>\n",
       "\n",
       "var loadScriptAsync = function(uri){\n",
       "  return new Promise((resolve, reject) => {\n",
       "    var tag = document.createElement('script');\n",
       "    tag.src = uri;\n",
       "    tag.async = true;\n",
       "    tag.onload = () => {\n",
       "      resolve();\n",
       "    };\n",
       "  var firstScriptTag = document.getElementsByTagName('script')[0];\n",
       "  firstScriptTag.parentNode.insertBefore(tag, firstScriptTag);\n",
       "});\n",
       "};\n",
       "\n",
       "if(typeof $3Dmolpromise === 'undefined') {\n",
       "$3Dmolpromise = null;\n",
       "  $3Dmolpromise = loadScriptAsync('https://3dmol.org/build/3Dmol.js');\n",
       "}\n",
       "\n",
       "var viewer_16571239570849276 = null;\n",
       "var warn = document.getElementById(\"3dmolwarning_16571239570849276\");\n",
       "if(warn) {\n",
       "    warn.parentNode.removeChild(warn);\n",
       "}\n",
       "$3Dmolpromise.then(function() {\n",
       "viewer_16571239570849276 = $3Dmol.createViewer($(\"#3dmolviewer_16571239570849276\"),{backgroundColor:\"white\"});\n",
       "viewer_16571239570849276.addModel(\"\\n     RDKit          3D\\n\\n 39 39  0  0  0  0  0  0  0  0999 V2000\\n    0.6992   -1.1944   -0.0000 C   0  0  0  0  0  0  0  0  0  0  0  0\\n    1.3957    0.0000   -0.0000 C   0  0  0  0  0  0  0  0  0  0  0  0\\n    0.6609    1.1664    0.0000 C   0  0  0  0  0  0  0  0  0  0  0  0\\n   -0.7092    1.2076    0.0000 C   0  0  0  0  0  0  0  0  0  0  0  0\\n   -1.3889   -0.0020   -0.0000 C   0  0  0  0  0  0  0  0  0  0  0  0\\n   -0.6864   -1.2076    0.0000 C   0  0  0  0  0  0  0  0  0  0  0  0\\n    1.2769   -2.1193    0.0000 H   0  0  0  0  0  0  0  0  0  0  0  0\\n    1.1932    2.1232    0.0000 H   0  0  0  0  0  0  0  0  0  0  0  0\\n   -2.4890    0.0090   -0.0000 H   0  0  0  0  0  0  0  0  0  0  0  0\\n   16.8145   -0.0299    0.9669 C   0  0  0  0  0  0  0  0  0  0  0  0\\n   16.3710   -0.4120   -0.4274 C   0  0  0  0  0  0  0  0  0  0  0  0\\n   15.0587    0.3116   -0.6828 C   0  0  0  0  0  0  0  0  0  0  0  0\\n   16.4224    0.9597    1.2769 H   0  0  0  0  0  0  0  0  0  0  0  0\\n   16.5165   -0.8084    1.7095 H   0  0  0  0  0  0  0  0  0  0  0  0\\n   17.9306    0.0396    1.0277 H   0  0  0  0  0  0  0  0  0  0  0  0\\n   17.0717   -0.1226   -1.2117 H   0  0  0  0  0  0  0  0  0  0  0  0\\n   16.2456   -1.5042   -0.4480 H   0  0  0  0  0  0  0  0  0  0  0  0\\n   14.6734    0.1625   -1.6935 H   0  0  0  0  0  0  0  0  0  0  0  0\\n   15.1637    1.4036   -0.5176 H   0  0  0  0  0  0  0  0  0  0  0  0\\n  -10.6945    7.8813   -0.5556 C   0  0  0  0  0  0  0  0  0  0  0  0\\n   -9.7860    8.2788    0.5860 C   0  0  0  0  0  0  0  0  0  0  0  0\\n   -8.3693    7.9290    0.1598 C   0  0  0  0  0  0  0  0  0  0  0  0\\n  -10.1724    7.8953   -1.5335 H   0  0  0  0  0  0  0  0  0  0  0  0\\n  -11.1449    6.8754   -0.3776 H   0  0  0  0  0  0  0  0  0  0  0  0\\n  -11.5564    8.5904   -0.6477 H   0  0  0  0  0  0  0  0  0  0  0  0\\n   -9.8112    9.3430    0.8244 H   0  0  0  0  0  0  0  0  0  0  0  0\\n  -10.0982    7.7083    1.4726 H   0  0  0  0  0  0  0  0  0  0  0  0\\n   -7.6126    8.2352    0.8850 H   0  0  0  0  0  0  0  0  0  0  0  0\\n   -8.1156    8.3974   -0.8133 H   0  0  0  0  0  0  0  0  0  0  0  0\\n   -9.7940   -8.9619   -0.7468 C   0  0  0  0  0  0  0  0  0  0  0  0\\n   -9.8054   -8.2554    0.5901 C   0  0  0  0  0  0  0  0  0  0  0  0\\n   -9.2639   -6.8555    0.3498 C   0  0  0  0  0  0  0  0  0  0  0  0\\n   -9.8727   -8.2550   -1.5972 H   0  0  0  0  0  0  0  0  0  0  0  0\\n   -8.8800   -9.5933   -0.8585 H   0  0  0  0  0  0  0  0  0  0  0  0\\n  -10.6628   -9.6628   -0.8375 H   0  0  0  0  0  0  0  0  0  0  0  0\\n  -10.7974   -8.1596    1.0338 H   0  0  0  0  0  0  0  0  0  0  0  0\\n   -9.1639   -8.8294    1.2742 H   0  0  0  0  0  0  0  0  0  0  0  0\\n   -9.2880   -6.2247    1.2407 H   0  0  0  0  0  0  0  0  0  0  0  0\\n   -9.8330   -6.3365   -0.4486 H   0  0  0  0  0  0  0  0  0  0  0  0\\n  1  2  2  0\\n  2  3  1  0\\n  3  4  2  0\\n  4  5  1  0\\n  5  6  2  0\\n  6  1  1  0\\n  1  7  1  0\\n  3  8  1  0\\n  5  9  1  0\\n 10 11  1  0\\n 11 12  1  0\\n 10 13  1  0\\n 10 14  1  0\\n 10 15  1  0\\n 11 16  1  0\\n 11 17  1  0\\n 12 18  1  0\\n 12 19  1  0\\n 20 21  1  0\\n 21 22  1  0\\n 20 23  1  0\\n 20 24  1  0\\n 20 25  1  0\\n 21 26  1  0\\n 21 27  1  0\\n 22 28  1  0\\n 22 29  1  0\\n 30 31  1  0\\n 31 32  1  0\\n 30 33  1  0\\n 30 34  1  0\\n 30 35  1  0\\n 31 36  1  0\\n 31 37  1  0\\n 32 38  1  0\\n 32 39  1  0\\n  2 12  1  0\\n  4 22  1  0\\n  6 32  1  0\\nM  END\\n\");\n",
       "viewer_16571239570849276.setStyle({\"stick\": {\"colorscheme\": \"cyanCarbon\"}});\n",
       "viewer_16571239570849276.zoomTo();\n",
       "\tviewer_16571239570849276.setBackgroundColor(\"#000000\");\n",
       "\tviewer_16571239570849276.zoomTo();\n",
       "viewer_16571239570849276.render();\n",
       "});\n",
       "</script>"
      ]
     },
     "metadata": {},
     "output_type": "display_data"
    }
   ],
   "source": [
    "show_stk_mol(cores[0])"
   ]
  },
  {
   "cell_type": "code",
   "execution_count": 14,
   "id": "3da654aa-7f32-432c-b75e-d2817567deb4",
   "metadata": {},
   "outputs": [
    {
     "name": "stdout",
     "output_type": "stream",
     "text": [
      "built 42 cores\n"
     ]
    }
   ],
   "source": [
    "cores = []\n",
    "for i, (cent, mono) in enumerate(product(tritopics, monotopics)):\n",
    "    core = stk.ConstructedMolecule(\n",
    "        Core(\n",
    "            building_blocks={\n",
    "                cent: (0, ), \n",
    "                mono: (1, 2, 3),\n",
    "            },\n",
    "            optimizer=stk.MCHammer(),\n",
    "        )\n",
    "    )\n",
    "    # opt = stko.UFF()\n",
    "    # core = opt.optimize(core)\n",
    "    cores.append(core)\n",
    "\n",
    "print(f'built {len(cores)} cores')"
   ]
  },
  {
   "cell_type": "code",
   "execution_count": 15,
   "id": "829e7ecf-2f10-41e8-8ac0-e05739f012db",
   "metadata": {},
   "outputs": [
    {
     "data": {
      "application/3dmoljs_load.v0": "<div id=\"3dmolviewer_16571239665160778\"  style=\"position: relative; width: 400px; height: 400px\">\n        <p id=\"3dmolwarning_16571239665160778\" style=\"background-color:#ffcccc;color:black\">You appear to be running in JupyterLab (or JavaScript failed to load for some other reason).  You need to install the 3dmol extension: <br>\n        <tt>jupyter labextension install jupyterlab_3dmol</tt></p>\n        </div>\n<script>\n\nvar loadScriptAsync = function(uri){\n  return new Promise((resolve, reject) => {\n    var tag = document.createElement('script');\n    tag.src = uri;\n    tag.async = true;\n    tag.onload = () => {\n      resolve();\n    };\n  var firstScriptTag = document.getElementsByTagName('script')[0];\n  firstScriptTag.parentNode.insertBefore(tag, firstScriptTag);\n});\n};\n\nif(typeof $3Dmolpromise === 'undefined') {\n$3Dmolpromise = null;\n  $3Dmolpromise = loadScriptAsync('https://3dmol.org/build/3Dmol.js');\n}\n\nvar viewer_16571239665160778 = null;\nvar warn = document.getElementById(\"3dmolwarning_16571239665160778\");\nif(warn) {\n    warn.parentNode.removeChild(warn);\n}\n$3Dmolpromise.then(function() {\nviewer_16571239665160778 = $3Dmol.createViewer($(\"#3dmolviewer_16571239665160778\"),{backgroundColor:\"white\"});\nviewer_16571239665160778.addModel(\"\\n     RDKit          3D\\n\\n 39 39  0  0  0  0  0  0  0  0999 V2000\\n    1.1250   -1.0061   -0.0067 C   0  0  0  0  0  0  0  0  0  0  0  0\\n    1.8214    0.1884   -0.0067 C   0  0  0  0  0  0  0  0  0  0  0  0\\n    1.0866    1.3548   -0.0067 C   0  0  0  0  0  0  0  0  0  0  0  0\\n   -0.2835    1.3959   -0.0067 C   0  0  0  0  0  0  0  0  0  0  0  0\\n   -0.9632    0.1863   -0.0067 C   0  0  0  0  0  0  0  0  0  0  0  0\\n   -0.2607   -1.0192   -0.0067 C   0  0  0  0  0  0  0  0  0  0  0  0\\n    1.7026   -1.9310   -0.0067 H   0  0  0  0  0  0  0  0  0  0  0  0\\n    1.6189    2.3116   -0.0067 H   0  0  0  0  0  0  0  0  0  0  0  0\\n   -2.0632    0.1973   -0.0067 H   0  0  0  0  0  0  0  0  0  0  0  0\\n    5.4209   -0.1671    1.2792 C   0  0  0  0  0  0  0  0  0  0  0  0\\n    4.9774   -0.5492   -0.1151 C   0  0  0  0  0  0  0  0  0  0  0  0\\n    3.6651    0.1744   -0.3705 C   0  0  0  0  0  0  0  0  0  0  0  0\\n    5.0288    0.8224    1.5892 H   0  0  0  0  0  0  0  0  0  0  0  0\\n    5.1230   -0.9456    2.0218 H   0  0  0  0  0  0  0  0  0  0  0  0\\n    6.5370   -0.0976    1.3400 H   0  0  0  0  0  0  0  0  0  0  0  0\\n    5.6781   -0.2598   -0.8994 H   0  0  0  0  0  0  0  0  0  0  0  0\\n    4.8521   -1.6414   -0.1357 H   0  0  0  0  0  0  0  0  0  0  0  0\\n    3.2799    0.0253   -1.3812 H   0  0  0  0  0  0  0  0  0  0  0  0\\n    3.7701    1.2664   -0.2053 H   0  0  0  0  0  0  0  0  0  0  0  0\\n   -3.7075    2.5832   -0.6937 C   0  0  0  0  0  0  0  0  0  0  0  0\\n   -2.7990    2.9807    0.4479 C   0  0  0  0  0  0  0  0  0  0  0  0\\n   -1.3823    2.6309    0.0218 C   0  0  0  0  0  0  0  0  0  0  0  0\\n   -3.1855    2.5972   -1.6716 H   0  0  0  0  0  0  0  0  0  0  0  0\\n   -4.1579    1.5773   -0.5156 H   0  0  0  0  0  0  0  0  0  0  0  0\\n   -4.5694    3.2923   -0.7858 H   0  0  0  0  0  0  0  0  0  0  0  0\\n   -2.8243    4.0449    0.6864 H   0  0  0  0  0  0  0  0  0  0  0  0\\n   -3.1112    2.4102    1.3345 H   0  0  0  0  0  0  0  0  0  0  0  0\\n   -0.6256    2.9371    0.7469 H   0  0  0  0  0  0  0  0  0  0  0  0\\n   -1.1286    3.0993   -0.9513 H   0  0  0  0  0  0  0  0  0  0  0  0\\n   -2.2393   -4.2032   -0.9511 C   0  0  0  0  0  0  0  0  0  0  0  0\\n   -2.2508   -3.4967    0.3858 C   0  0  0  0  0  0  0  0  0  0  0  0\\n   -1.7092   -2.0968    0.1455 C   0  0  0  0  0  0  0  0  0  0  0  0\\n   -2.3180   -3.4963   -1.8014 H   0  0  0  0  0  0  0  0  0  0  0  0\\n   -1.3254   -4.8346   -1.0627 H   0  0  0  0  0  0  0  0  0  0  0  0\\n   -3.1081   -4.9041   -1.0417 H   0  0  0  0  0  0  0  0  0  0  0  0\\n   -3.2428   -3.4009    0.8295 H   0  0  0  0  0  0  0  0  0  0  0  0\\n   -1.6093   -4.0707    1.0700 H   0  0  0  0  0  0  0  0  0  0  0  0\\n   -1.7334   -1.4660    1.0365 H   0  0  0  0  0  0  0  0  0  0  0  0\\n   -2.2784   -1.5778   -0.6529 H   0  0  0  0  0  0  0  0  0  0  0  0\\n  1  2  2  0\\n  2  3  1  0\\n  3  4  2  0\\n  4  5  1  0\\n  5  6  2  0\\n  6  1  1  0\\n  1  7  1  0\\n  3  8  1  0\\n  5  9  1  0\\n 10 11  1  0\\n 11 12  1  0\\n 10 13  1  0\\n 10 14  1  0\\n 10 15  1  0\\n 11 16  1  0\\n 11 17  1  0\\n 12 18  1  0\\n 12 19  1  0\\n 20 21  1  0\\n 21 22  1  0\\n 20 23  1  0\\n 20 24  1  0\\n 20 25  1  0\\n 21 26  1  0\\n 21 27  1  0\\n 22 28  1  0\\n 22 29  1  0\\n 30 31  1  0\\n 31 32  1  0\\n 30 33  1  0\\n 30 34  1  0\\n 30 35  1  0\\n 31 36  1  0\\n 31 37  1  0\\n 32 38  1  0\\n 32 39  1  0\\n  2 12  1  0\\n  4 22  1  0\\n  6 32  1  0\\nM  END\\n\");\nviewer_16571239665160778.setStyle({\"stick\": {\"colorscheme\": \"cyanCarbon\"}});\nviewer_16571239665160778.zoomTo();\n\tviewer_16571239665160778.setBackgroundColor(\"#000000\");\n\tviewer_16571239665160778.zoomTo();\nviewer_16571239665160778.render();\n});\n</script>",
      "text/html": [
       "<div id=\"3dmolviewer_16571239665160778\"  style=\"position: relative; width: 400px; height: 400px\">\n",
       "        <p id=\"3dmolwarning_16571239665160778\" style=\"background-color:#ffcccc;color:black\">You appear to be running in JupyterLab (or JavaScript failed to load for some other reason).  You need to install the 3dmol extension: <br>\n",
       "        <tt>jupyter labextension install jupyterlab_3dmol</tt></p>\n",
       "        </div>\n",
       "<script>\n",
       "\n",
       "var loadScriptAsync = function(uri){\n",
       "  return new Promise((resolve, reject) => {\n",
       "    var tag = document.createElement('script');\n",
       "    tag.src = uri;\n",
       "    tag.async = true;\n",
       "    tag.onload = () => {\n",
       "      resolve();\n",
       "    };\n",
       "  var firstScriptTag = document.getElementsByTagName('script')[0];\n",
       "  firstScriptTag.parentNode.insertBefore(tag, firstScriptTag);\n",
       "});\n",
       "};\n",
       "\n",
       "if(typeof $3Dmolpromise === 'undefined') {\n",
       "$3Dmolpromise = null;\n",
       "  $3Dmolpromise = loadScriptAsync('https://3dmol.org/build/3Dmol.js');\n",
       "}\n",
       "\n",
       "var viewer_16571239665160778 = null;\n",
       "var warn = document.getElementById(\"3dmolwarning_16571239665160778\");\n",
       "if(warn) {\n",
       "    warn.parentNode.removeChild(warn);\n",
       "}\n",
       "$3Dmolpromise.then(function() {\n",
       "viewer_16571239665160778 = $3Dmol.createViewer($(\"#3dmolviewer_16571239665160778\"),{backgroundColor:\"white\"});\n",
       "viewer_16571239665160778.addModel(\"\\n     RDKit          3D\\n\\n 39 39  0  0  0  0  0  0  0  0999 V2000\\n    1.1250   -1.0061   -0.0067 C   0  0  0  0  0  0  0  0  0  0  0  0\\n    1.8214    0.1884   -0.0067 C   0  0  0  0  0  0  0  0  0  0  0  0\\n    1.0866    1.3548   -0.0067 C   0  0  0  0  0  0  0  0  0  0  0  0\\n   -0.2835    1.3959   -0.0067 C   0  0  0  0  0  0  0  0  0  0  0  0\\n   -0.9632    0.1863   -0.0067 C   0  0  0  0  0  0  0  0  0  0  0  0\\n   -0.2607   -1.0192   -0.0067 C   0  0  0  0  0  0  0  0  0  0  0  0\\n    1.7026   -1.9310   -0.0067 H   0  0  0  0  0  0  0  0  0  0  0  0\\n    1.6189    2.3116   -0.0067 H   0  0  0  0  0  0  0  0  0  0  0  0\\n   -2.0632    0.1973   -0.0067 H   0  0  0  0  0  0  0  0  0  0  0  0\\n    5.4209   -0.1671    1.2792 C   0  0  0  0  0  0  0  0  0  0  0  0\\n    4.9774   -0.5492   -0.1151 C   0  0  0  0  0  0  0  0  0  0  0  0\\n    3.6651    0.1744   -0.3705 C   0  0  0  0  0  0  0  0  0  0  0  0\\n    5.0288    0.8224    1.5892 H   0  0  0  0  0  0  0  0  0  0  0  0\\n    5.1230   -0.9456    2.0218 H   0  0  0  0  0  0  0  0  0  0  0  0\\n    6.5370   -0.0976    1.3400 H   0  0  0  0  0  0  0  0  0  0  0  0\\n    5.6781   -0.2598   -0.8994 H   0  0  0  0  0  0  0  0  0  0  0  0\\n    4.8521   -1.6414   -0.1357 H   0  0  0  0  0  0  0  0  0  0  0  0\\n    3.2799    0.0253   -1.3812 H   0  0  0  0  0  0  0  0  0  0  0  0\\n    3.7701    1.2664   -0.2053 H   0  0  0  0  0  0  0  0  0  0  0  0\\n   -3.7075    2.5832   -0.6937 C   0  0  0  0  0  0  0  0  0  0  0  0\\n   -2.7990    2.9807    0.4479 C   0  0  0  0  0  0  0  0  0  0  0  0\\n   -1.3823    2.6309    0.0218 C   0  0  0  0  0  0  0  0  0  0  0  0\\n   -3.1855    2.5972   -1.6716 H   0  0  0  0  0  0  0  0  0  0  0  0\\n   -4.1579    1.5773   -0.5156 H   0  0  0  0  0  0  0  0  0  0  0  0\\n   -4.5694    3.2923   -0.7858 H   0  0  0  0  0  0  0  0  0  0  0  0\\n   -2.8243    4.0449    0.6864 H   0  0  0  0  0  0  0  0  0  0  0  0\\n   -3.1112    2.4102    1.3345 H   0  0  0  0  0  0  0  0  0  0  0  0\\n   -0.6256    2.9371    0.7469 H   0  0  0  0  0  0  0  0  0  0  0  0\\n   -1.1286    3.0993   -0.9513 H   0  0  0  0  0  0  0  0  0  0  0  0\\n   -2.2393   -4.2032   -0.9511 C   0  0  0  0  0  0  0  0  0  0  0  0\\n   -2.2508   -3.4967    0.3858 C   0  0  0  0  0  0  0  0  0  0  0  0\\n   -1.7092   -2.0968    0.1455 C   0  0  0  0  0  0  0  0  0  0  0  0\\n   -2.3180   -3.4963   -1.8014 H   0  0  0  0  0  0  0  0  0  0  0  0\\n   -1.3254   -4.8346   -1.0627 H   0  0  0  0  0  0  0  0  0  0  0  0\\n   -3.1081   -4.9041   -1.0417 H   0  0  0  0  0  0  0  0  0  0  0  0\\n   -3.2428   -3.4009    0.8295 H   0  0  0  0  0  0  0  0  0  0  0  0\\n   -1.6093   -4.0707    1.0700 H   0  0  0  0  0  0  0  0  0  0  0  0\\n   -1.7334   -1.4660    1.0365 H   0  0  0  0  0  0  0  0  0  0  0  0\\n   -2.2784   -1.5778   -0.6529 H   0  0  0  0  0  0  0  0  0  0  0  0\\n  1  2  2  0\\n  2  3  1  0\\n  3  4  2  0\\n  4  5  1  0\\n  5  6  2  0\\n  6  1  1  0\\n  1  7  1  0\\n  3  8  1  0\\n  5  9  1  0\\n 10 11  1  0\\n 11 12  1  0\\n 10 13  1  0\\n 10 14  1  0\\n 10 15  1  0\\n 11 16  1  0\\n 11 17  1  0\\n 12 18  1  0\\n 12 19  1  0\\n 20 21  1  0\\n 21 22  1  0\\n 20 23  1  0\\n 20 24  1  0\\n 20 25  1  0\\n 21 26  1  0\\n 21 27  1  0\\n 22 28  1  0\\n 22 29  1  0\\n 30 31  1  0\\n 31 32  1  0\\n 30 33  1  0\\n 30 34  1  0\\n 30 35  1  0\\n 31 36  1  0\\n 31 37  1  0\\n 32 38  1  0\\n 32 39  1  0\\n  2 12  1  0\\n  4 22  1  0\\n  6 32  1  0\\nM  END\\n\");\n",
       "viewer_16571239665160778.setStyle({\"stick\": {\"colorscheme\": \"cyanCarbon\"}});\n",
       "viewer_16571239665160778.zoomTo();\n",
       "\tviewer_16571239665160778.setBackgroundColor(\"#000000\");\n",
       "\tviewer_16571239665160778.zoomTo();\n",
       "viewer_16571239665160778.render();\n",
       "});\n",
       "</script>"
      ]
     },
     "metadata": {},
     "output_type": "display_data"
    }
   ],
   "source": [
    "show_stk_mol(cores[0])"
   ]
  },
  {
   "cell_type": "code",
   "execution_count": 17,
   "id": "cf79eea6-c457-4942-b0e0-f733e44be95d",
   "metadata": {},
   "outputs": [
    {
     "data": {
      "image/png": "[encoded data removed]",
      "text/plain": [
       "<rdkit.Chem.rdchem.Mol at 0x7f24b44a6030>"
      ]
     },
     "execution_count": 17,
     "metadata": {},
     "output_type": "execute_result"
    }
   ],
   "source": [
    "cores[1].to_rdkit_mol()"
   ]
  },
  {
   "cell_type": "markdown",
   "id": "1a4a2ab9-56f5-4762-a04e-0f30660c5402",
   "metadata": {},
   "source": [
    "## Building the \"polymers\"\n",
    "\n",
    "* Just use the host-guest code!"
   ]
  },
  {
   "cell_type": "markdown",
   "id": "cec6c117-81fd-4423-806a-9ec65c23a827",
   "metadata": {},
   "source": [
    "### Failure!"
   ]
  },
  {
   "cell_type": "code",
   "execution_count": 18,
   "id": "5a7f0093-dad4-4fe1-8e79-dccec96c4a14",
   "metadata": {},
   "outputs": [
    {
     "data": {
      "application/3dmoljs_load.v0": "<div id=\"3dmolviewer_16571240599141068\"  style=\"position: relative; width: 400px; height: 400px\">\n        <p id=\"3dmolwarning_16571240599141068\" style=\"background-color:#ffcccc;color:black\">You appear to be running in JupyterLab (or JavaScript failed to load for some other reason).  You need to install the 3dmol extension: <br>\n        <tt>jupyter labextension install jupyterlab_3dmol</tt></p>\n        </div>\n<script>\n\nvar loadScriptAsync = function(uri){\n  return new Promise((resolve, reject) => {\n    var tag = document.createElement('script');\n    tag.src = uri;\n    tag.async = true;\n    tag.onload = () => {\n      resolve();\n    };\n  var firstScriptTag = document.getElementsByTagName('script')[0];\n  firstScriptTag.parentNode.insertBefore(tag, firstScriptTag);\n});\n};\n\nif(typeof $3Dmolpromise === 'undefined') {\n$3Dmolpromise = null;\n  $3Dmolpromise = loadScriptAsync('https://3dmol.org/build/3Dmol.js');\n}\n\nvar viewer_16571240599141068 = null;\nvar warn = document.getElementById(\"3dmolwarning_16571240599141068\");\nif(warn) {\n    warn.parentNode.removeChild(warn);\n}\n$3Dmolpromise.then(function() {\nviewer_16571240599141068 = $3Dmol.createViewer($(\"#3dmolviewer_16571240599141068\"),{backgroundColor:\"white\"});\nviewer_16571240599141068.addModel(\"\\n     RDKit          3D\\n\\n105105  0  0  0  0  0  0  0  0999 V2000\\n    1.0529   -0.8756    0.0025 C   0  0  0  0  0  0  0  0  0  0  0  0\\n    1.7493    0.3188    0.0025 C   0  0  0  0  0  0  0  0  0  0  0  0\\n    1.0146    1.4852    0.0025 C   0  0  0  0  0  0  0  0  0  0  0  0\\n   -0.3555    1.5264    0.0025 C   0  0  0  0  0  0  0  0  0  0  0  0\\n   -1.0352    0.3168    0.0025 C   0  0  0  0  0  0  0  0  0  0  0  0\\n   -0.3327   -0.8887    0.0025 C   0  0  0  0  0  0  0  0  0  0  0  0\\n    1.6306   -1.8005    0.0025 H   0  0  0  0  0  0  0  0  0  0  0  0\\n    1.5469    2.4421    0.0025 H   0  0  0  0  0  0  0  0  0  0  0  0\\n   -2.1353    0.3278    0.0025 H   0  0  0  0  0  0  0  0  0  0  0  0\\n    5.3488   -0.0366    1.2884 C   0  0  0  0  0  0  0  0  0  0  0  0\\n    4.9054   -0.4188   -0.1058 C   0  0  0  0  0  0  0  0  0  0  0  0\\n    3.5931    0.3049   -0.3612 C   0  0  0  0  0  0  0  0  0  0  0  0\\n    4.9568    0.9529    1.5985 H   0  0  0  0  0  0  0  0  0  0  0  0\\n    5.0509   -0.8151    2.0311 H   0  0  0  0  0  0  0  0  0  0  0  0\\n    6.4649    0.0329    1.3493 H   0  0  0  0  0  0  0  0  0  0  0  0\\n    5.6061   -0.1293   -0.8902 H   0  0  0  0  0  0  0  0  0  0  0  0\\n    4.7800   -1.5109   -0.1265 H   0  0  0  0  0  0  0  0  0  0  0  0\\n    3.2078    0.1558   -1.3720 H   0  0  0  0  0  0  0  0  0  0  0  0\\n    3.6980    1.3968   -0.1960 H   0  0  0  0  0  0  0  0  0  0  0  0\\n   -3.7795    2.7137   -0.6844 C   0  0  0  0  0  0  0  0  0  0  0  0\\n   -2.8710    3.1112    0.4572 C   0  0  0  0  0  0  0  0  0  0  0  0\\n   -1.4544    2.7613    0.0310 C   0  0  0  0  0  0  0  0  0  0  0  0\\n   -3.2575    2.7277   -1.6623 H   0  0  0  0  0  0  0  0  0  0  0  0\\n   -4.2300    1.7078   -0.5064 H   0  0  0  0  0  0  0  0  0  0  0  0\\n   -4.6415    3.4228   -0.7765 H   0  0  0  0  0  0  0  0  0  0  0  0\\n   -2.8963    4.1753    0.6956 H   0  0  0  0  0  0  0  0  0  0  0  0\\n   -3.1832    2.5407    1.3438 H   0  0  0  0  0  0  0  0  0  0  0  0\\n   -0.6977    3.0676    0.7562 H   0  0  0  0  0  0  0  0  0  0  0  0\\n   -1.2007    3.2297   -0.9421 H   0  0  0  0  0  0  0  0  0  0  0  0\\n   -2.3114   -4.0728   -0.9418 C   0  0  0  0  0  0  0  0  0  0  0  0\\n   -2.3229   -3.3663    0.3951 C   0  0  0  0  0  0  0  0  0  0  0  0\\n   -1.7813   -1.9663    0.1547 C   0  0  0  0  0  0  0  0  0  0  0  0\\n   -2.3901   -3.3659   -1.7922 H   0  0  0  0  0  0  0  0  0  0  0  0\\n   -1.3974   -4.7041   -1.0535 H   0  0  0  0  0  0  0  0  0  0  0  0\\n   -3.1802   -4.7736   -1.0325 H   0  0  0  0  0  0  0  0  0  0  0  0\\n   -3.3148   -3.2705    0.8388 H   0  0  0  0  0  0  0  0  0  0  0  0\\n   -1.6814   -3.9402    1.0792 H   0  0  0  0  0  0  0  0  0  0  0  0\\n   -1.8054   -1.3355    1.0457 H   0  0  0  0  0  0  0  0  0  0  0  0\\n   -2.3504   -1.4473   -0.6436 H   0  0  0  0  0  0  0  0  0  0  0  0\\n   -0.0540   -1.2490    2.8209 C   0  0  0  0  0  0  0  0  0  0  0  0\\n   -0.0819   -0.0576    2.1196 C   0  0  0  0  0  0  0  0  0  0  0  0\\n   -0.0633    1.1120    2.8490 C   0  0  0  0  0  0  0  0  0  0  0  0\\n   -0.0191    1.1593    4.2182 C   0  0  0  0  0  0  0  0  0  0  0  0\\n    0.0084   -0.0472    4.9027 C   0  0  0  0  0  0  0  0  0  0  0  0\\n   -0.0090   -1.2559    4.2058 C   0  0  0  0  0  0  0  0  0  0  0  0\\n   -0.0686   -2.1764    2.2476 H   0  0  0  0  0  0  0  0  0  0  0  0\\n   -0.0848    2.0665    2.3128 H   0  0  0  0  0  0  0  0  0  0  0  0\\n    0.0440   -0.0313    6.0021 H   0  0  0  0  0  0  0  0  0  0  0  0\\n    0.3335   -0.4395  -13.2823 C   0  0  0  0  0  0  0  0  0  0  0  0\\n    0.2800   -0.4013  -11.8495 N   0  0  0  0  0  2  0  0  0  0  0  0\\n    0.9620    0.4281  -13.6132 H   0  0  0  0  0  0  0  0  0  0  0  0\\n   -0.6737   -0.3135  -13.7459 H   0  0  0  0  0  0  0  0  0  0  0  0\\n    0.7665   -1.3996  -13.6607 H   0  0  0  0  0  0  0  0  0  0  0  0\\n    0.0173   -0.2844   -5.0957 N   0  0  0  0  0  2  0  0  0  0  0  0\\n   -0.8034   -0.0684   -6.2809 C   0  0  0  0  0  0  0  0  0  0  0  0\\n    0.1094   -0.3254   -7.4651 C   0  0  0  0  0  0  0  0  0  0  0  0\\n   -1.1663    0.9751   -6.2407 H   0  0  0  0  0  0  0  0  0  0  0  0\\n   -1.6657   -0.7355   -6.2952 H   0  0  0  0  0  0  0  0  0  0  0  0\\n    1.0178    0.3013   -7.4313 H   0  0  0  0  0  0  0  0  0  0  0  0\\n   -0.4076   -0.2160   -8.4270 H   0  0  0  0  0  0  0  0  0  0  0  0\\n   -0.1993   -0.1880    0.4734 N   0  0  0  0  0  2  0  0  0  0  0  0\\n   -1.0200    0.0280   -0.7118 C   0  0  0  0  0  0  0  0  0  0  0  0\\n   -0.1072   -0.2290   -1.8960 C   0  0  0  0  0  0  0  0  0  0  0  0\\n   -1.3829    1.0715   -0.6716 H   0  0  0  0  0  0  0  0  0  0  0  0\\n   -1.8823   -0.6392   -0.7261 H   0  0  0  0  0  0  0  0  0  0  0  0\\n    0.8012    0.3977   -1.8622 H   0  0  0  0  0  0  0  0  0  0  0  0\\n   -0.6242   -0.1196   -2.8579 H   0  0  0  0  0  0  0  0  0  0  0  0\\n   -0.6439   10.6394   16.0684 C   0  0  0  0  0  0  0  0  0  0  0  0\\n   -0.5705    9.7170   14.9724 N   0  0  0  0  0  2  0  0  0  0  0  0\\n   -0.9798   11.6240   15.6502 H   0  0  0  0  0  0  0  0  0  0  0  0\\n    0.3501   10.8057   16.5474 H   0  0  0  0  0  0  0  0  0  0  0  0\\n   -1.3523   10.2925   16.8623 H   0  0  0  0  0  0  0  0  0  0  0  0\\n   -0.2343    5.3213    9.8477 N   0  0  0  0  0  2  0  0  0  0  0  0\\n    0.6042    6.0672   10.7781 C   0  0  0  0  0  0  0  0  0  0  0  0\\n   -0.3523    6.8635   11.6456 C   0  0  0  0  0  0  0  0  0  0  0  0\\n    1.2689    6.7115   10.1737 H   0  0  0  0  0  0  0  0  0  0  0  0\\n    1.2213    5.4001   11.3807 H   0  0  0  0  0  0  0  0  0  0  0  0\\n   -1.0255    7.4991   11.0440 H   0  0  0  0  0  0  0  0  0  0  0  0\\n    0.1663    7.4550   12.4110 H   0  0  0  0  0  0  0  0  0  0  0  0\\n    0.0430    1.6967    5.6221 N   0  0  0  0  0  2  0  0  0  0  0  0\\n    0.8815    2.4426    6.5524 C   0  0  0  0  0  0  0  0  0  0  0  0\\n   -0.0750    3.2389    7.4199 C   0  0  0  0  0  0  0  0  0  0  0  0\\n    1.5462    3.0869    5.9480 H   0  0  0  0  0  0  0  0  0  0  0  0\\n    1.4986    1.7755    7.1550 H   0  0  0  0  0  0  0  0  0  0  0  0\\n   -0.7482    3.8745    6.8184 H   0  0  0  0  0  0  0  0  0  0  0  0\\n    0.4435    3.8304    8.1854 H   0  0  0  0  0  0  0  0  0  0  0  0\\n   -0.5031  -10.4229   16.6536 C   0  0  0  0  0  0  0  0  0  0  0  0\\n   -0.4384   -9.5179   15.5427 N   0  0  0  0  0  2  0  0  0  0  0  0\\n   -0.7405   -9.8128   17.5639 H   0  0  0  0  0  0  0  0  0  0  0  0\\n    0.4726  -10.9308   16.8417 H   0  0  0  0  0  0  0  0  0  0  0  0\\n   -1.2784  -11.2161   16.5043 H   0  0  0  0  0  0  0  0  0  0  0  0\\n   -0.1489   -5.3008   10.2673 N   0  0  0  0  0  2  0  0  0  0  0  0\\n    0.6903   -6.1371   11.1167 C   0  0  0  0  0  0  0  0  0  0  0  0\\n   -0.2505   -6.7803   12.1181 C   0  0  0  0  0  0  0  0  0  0  0  0\\n    1.4338   -5.4735   11.5953 H   0  0  0  0  0  0  0  0  0  0  0  0\\n    1.2214   -6.8902   10.5340 H   0  0  0  0  0  0  0  0  0  0  0  0\\n   -0.8398   -6.0300   12.6737 H   0  0  0  0  0  0  0  0  0  0  0  0\\n    0.2677   -7.4606   12.8060 H   0  0  0  0  0  0  0  0  0  0  0  0\\n    0.0898   -1.8235    5.9173 N   0  0  0  0  0  2  0  0  0  0  0  0\\n    0.9290   -2.6598    6.7667 C   0  0  0  0  0  0  0  0  0  0  0  0\\n   -0.0118   -3.3030    7.7681 C   0  0  0  0  0  0  0  0  0  0  0  0\\n    1.6725   -1.9962    7.2453 H   0  0  0  0  0  0  0  0  0  0  0  0\\n    1.4600   -3.4129    6.1840 H   0  0  0  0  0  0  0  0  0  0  0  0\\n   -0.6011   -2.5526    8.3237 H   0  0  0  0  0  0  0  0  0  0  0  0\\n    0.5064   -3.9833    8.4561 H   0  0  0  0  0  0  0  0  0  0  0  0\\n  1  2  2  0\\n  2  3  1  0\\n  3  4  2  0\\n  4  5  1  0\\n  5  6  2  0\\n  6  1  1  0\\n  1  7  1  0\\n  3  8  1  0\\n  5  9  1  0\\n 10 11  1  0\\n 11 12  1  0\\n 10 13  1  0\\n 10 14  1  0\\n 10 15  1  0\\n 11 16  1  0\\n 11 17  1  0\\n 12 18  1  0\\n 12 19  1  0\\n 20 21  1  0\\n 21 22  1  0\\n 20 23  1  0\\n 20 24  1  0\\n 20 25  1  0\\n 21 26  1  0\\n 21 27  1  0\\n 22 28  1  0\\n 22 29  1  0\\n 30 31  1  0\\n 31 32  1  0\\n 30 33  1  0\\n 30 34  1  0\\n 30 35  1  0\\n 31 36  1  0\\n 31 37  1  0\\n 32 38  1  0\\n 32 39  1  0\\n  2 12  1  0\\n  4 22  1  0\\n  6 32  1  0\\n 40 41  2  0\\n 41 42  1  0\\n 42 43  2  0\\n 43 44  1  0\\n 44 45  2  0\\n 45 40  1  0\\n 40 46  1  0\\n 42 47  1  0\\n 44 48  1  0\\n 49 50  1  0\\n 49 51  1  0\\n 49 52  1  0\\n 49 53  1  0\\n 54 55  1  0\\n 55 56  1  0\\n 55 57  1  0\\n 55 58  1  0\\n 56 59  1  0\\n 56 60  1  0\\n 61 62  1  0\\n 62 63  1  0\\n 62 64  1  0\\n 62 65  1  0\\n 63 66  1  0\\n 63 67  1  0\\n 50 56  1  0\\n 54 63  1  0\\n 68 69  1  0\\n 68 70  1  0\\n 68 71  1  0\\n 68 72  1  0\\n 73 74  1  0\\n 74 75  1  0\\n 74 76  1  0\\n 74 77  1  0\\n 75 78  1  0\\n 75 79  1  0\\n 80 81  1  0\\n 81 82  1  0\\n 81 83  1  0\\n 81 84  1  0\\n 82 85  1  0\\n 82 86  1  0\\n 69 75  1  0\\n 73 82  1  0\\n 87 88  1  0\\n 87 89  1  0\\n 87 90  1  0\\n 87 91  1  0\\n 92 93  1  0\\n 93 94  1  0\\n 93 95  1  0\\n 93 96  1  0\\n 94 97  1  0\\n 94 98  1  0\\n 99100  1  0\\n100101  1  0\\n100102  1  0\\n100103  1  0\\n101104  1  0\\n101105  1  0\\n 88 94  1  0\\n 92101  1  0\\n 41 61  1  0\\n 43 80  1  0\\n 45 99  1  0\\nM  END\\n\");\nviewer_16571240599141068.setStyle({\"stick\": {\"colorscheme\": \"cyanCarbon\"}});\nviewer_16571240599141068.zoomTo();\n\tviewer_16571240599141068.setBackgroundColor(\"#000000\");\n\tviewer_16571240599141068.zoomTo();\nviewer_16571240599141068.render();\n});\n</script>",
      "text/html": [
       "<div id=\"3dmolviewer_16571240599141068\"  style=\"position: relative; width: 400px; height: 400px\">\n",
       "        <p id=\"3dmolwarning_16571240599141068\" style=\"background-color:#ffcccc;color:black\">You appear to be running in JupyterLab (or JavaScript failed to load for some other reason).  You need to install the 3dmol extension: <br>\n",
       "        <tt>jupyter labextension install jupyterlab_3dmol</tt></p>\n",
       "        </div>\n",
       "<script>\n",
       "\n",
       "var loadScriptAsync = function(uri){\n",
       "  return new Promise((resolve, reject) => {\n",
       "    var tag = document.createElement('script');\n",
       "    tag.src = uri;\n",
       "    tag.async = true;\n",
       "    tag.onload = () => {\n",
       "      resolve();\n",
       "    };\n",
       "  var firstScriptTag = document.getElementsByTagName('script')[0];\n",
       "  firstScriptTag.parentNode.insertBefore(tag, firstScriptTag);\n",
       "});\n",
       "};\n",
       "\n",
       "if(typeof $3Dmolpromise === 'undefined') {\n",
       "$3Dmolpromise = null;\n",
       "  $3Dmolpromise = loadScriptAsync('https://3dmol.org/build/3Dmol.js');\n",
       "}\n",
       "\n",
       "var viewer_16571240599141068 = null;\n",
       "var warn = document.getElementById(\"3dmolwarning_16571240599141068\");\n",
       "if(warn) {\n",
       "    warn.parentNode.removeChild(warn);\n",
       "}\n",
       "$3Dmolpromise.then(function() {\n",
       "viewer_16571240599141068 = $3Dmol.createViewer($(\"#3dmolviewer_16571240599141068\"),{backgroundColor:\"white\"});\n",
       "viewer_16571240599141068.addModel(\"\\n     RDKit          3D\\n\\n105105  0  0  0  0  0  0  0  0999 V2000\\n    1.0529   -0.8756    0.0025 C   0  0  0  0  0  0  0  0  0  0  0  0\\n    1.7493    0.3188    0.0025 C   0  0  0  0  0  0  0  0  0  0  0  0\\n    1.0146    1.4852    0.0025 C   0  0  0  0  0  0  0  0  0  0  0  0\\n   -0.3555    1.5264    0.0025 C   0  0  0  0  0  0  0  0  0  0  0  0\\n   -1.0352    0.3168    0.0025 C   0  0  0  0  0  0  0  0  0  0  0  0\\n   -0.3327   -0.8887    0.0025 C   0  0  0  0  0  0  0  0  0  0  0  0\\n    1.6306   -1.8005    0.0025 H   0  0  0  0  0  0  0  0  0  0  0  0\\n    1.5469    2.4421    0.0025 H   0  0  0  0  0  0  0  0  0  0  0  0\\n   -2.1353    0.3278    0.0025 H   0  0  0  0  0  0  0  0  0  0  0  0\\n    5.3488   -0.0366    1.2884 C   0  0  0  0  0  0  0  0  0  0  0  0\\n    4.9054   -0.4188   -0.1058 C   0  0  0  0  0  0  0  0  0  0  0  0\\n    3.5931    0.3049   -0.3612 C   0  0  0  0  0  0  0  0  0  0  0  0\\n    4.9568    0.9529    1.5985 H   0  0  0  0  0  0  0  0  0  0  0  0\\n    5.0509   -0.8151    2.0311 H   0  0  0  0  0  0  0  0  0  0  0  0\\n    6.4649    0.0329    1.3493 H   0  0  0  0  0  0  0  0  0  0  0  0\\n    5.6061   -0.1293   -0.8902 H   0  0  0  0  0  0  0  0  0  0  0  0\\n    4.7800   -1.5109   -0.1265 H   0  0  0  0  0  0  0  0  0  0  0  0\\n    3.2078    0.1558   -1.3720 H   0  0  0  0  0  0  0  0  0  0  0  0\\n    3.6980    1.3968   -0.1960 H   0  0  0  0  0  0  0  0  0  0  0  0\\n   -3.7795    2.7137   -0.6844 C   0  0  0  0  0  0  0  0  0  0  0  0\\n   -2.8710    3.1112    0.4572 C   0  0  0  0  0  0  0  0  0  0  0  0\\n   -1.4544    2.7613    0.0310 C   0  0  0  0  0  0  0  0  0  0  0  0\\n   -3.2575    2.7277   -1.6623 H   0  0  0  0  0  0  0  0  0  0  0  0\\n   -4.2300    1.7078   -0.5064 H   0  0  0  0  0  0  0  0  0  0  0  0\\n   -4.6415    3.4228   -0.7765 H   0  0  0  0  0  0  0  0  0  0  0  0\\n   -2.8963    4.1753    0.6956 H   0  0  0  0  0  0  0  0  0  0  0  0\\n   -3.1832    2.5407    1.3438 H   0  0  0  0  0  0  0  0  0  0  0  0\\n   -0.6977    3.0676    0.7562 H   0  0  0  0  0  0  0  0  0  0  0  0\\n   -1.2007    3.2297   -0.9421 H   0  0  0  0  0  0  0  0  0  0  0  0\\n   -2.3114   -4.0728   -0.9418 C   0  0  0  0  0  0  0  0  0  0  0  0\\n   -2.3229   -3.3663    0.3951 C   0  0  0  0  0  0  0  0  0  0  0  0\\n   -1.7813   -1.9663    0.1547 C   0  0  0  0  0  0  0  0  0  0  0  0\\n   -2.3901   -3.3659   -1.7922 H   0  0  0  0  0  0  0  0  0  0  0  0\\n   -1.3974   -4.7041   -1.0535 H   0  0  0  0  0  0  0  0  0  0  0  0\\n   -3.1802   -4.7736   -1.0325 H   0  0  0  0  0  0  0  0  0  0  0  0\\n   -3.3148   -3.2705    0.8388 H   0  0  0  0  0  0  0  0  0  0  0  0\\n   -1.6814   -3.9402    1.0792 H   0  0  0  0  0  0  0  0  0  0  0  0\\n   -1.8054   -1.3355    1.0457 H   0  0  0  0  0  0  0  0  0  0  0  0\\n   -2.3504   -1.4473   -0.6436 H   0  0  0  0  0  0  0  0  0  0  0  0\\n   -0.0540   -1.2490    2.8209 C   0  0  0  0  0  0  0  0  0  0  0  0\\n   -0.0819   -0.0576    2.1196 C   0  0  0  0  0  0  0  0  0  0  0  0\\n   -0.0633    1.1120    2.8490 C   0  0  0  0  0  0  0  0  0  0  0  0\\n   -0.0191    1.1593    4.2182 C   0  0  0  0  0  0  0  0  0  0  0  0\\n    0.0084   -0.0472    4.9027 C   0  0  0  0  0  0  0  0  0  0  0  0\\n   -0.0090   -1.2559    4.2058 C   0  0  0  0  0  0  0  0  0  0  0  0\\n   -0.0686   -2.1764    2.2476 H   0  0  0  0  0  0  0  0  0  0  0  0\\n   -0.0848    2.0665    2.3128 H   0  0  0  0  0  0  0  0  0  0  0  0\\n    0.0440   -0.0313    6.0021 H   0  0  0  0  0  0  0  0  0  0  0  0\\n    0.3335   -0.4395  -13.2823 C   0  0  0  0  0  0  0  0  0  0  0  0\\n    0.2800   -0.4013  -11.8495 N   0  0  0  0  0  2  0  0  0  0  0  0\\n    0.9620    0.4281  -13.6132 H   0  0  0  0  0  0  0  0  0  0  0  0\\n   -0.6737   -0.3135  -13.7459 H   0  0  0  0  0  0  0  0  0  0  0  0\\n    0.7665   -1.3996  -13.6607 H   0  0  0  0  0  0  0  0  0  0  0  0\\n    0.0173   -0.2844   -5.0957 N   0  0  0  0  0  2  0  0  0  0  0  0\\n   -0.8034   -0.0684   -6.2809 C   0  0  0  0  0  0  0  0  0  0  0  0\\n    0.1094   -0.3254   -7.4651 C   0  0  0  0  0  0  0  0  0  0  0  0\\n   -1.1663    0.9751   -6.2407 H   0  0  0  0  0  0  0  0  0  0  0  0\\n   -1.6657   -0.7355   -6.2952 H   0  0  0  0  0  0  0  0  0  0  0  0\\n    1.0178    0.3013   -7.4313 H   0  0  0  0  0  0  0  0  0  0  0  0\\n   -0.4076   -0.2160   -8.4270 H   0  0  0  0  0  0  0  0  0  0  0  0\\n   -0.1993   -0.1880    0.4734 N   0  0  0  0  0  2  0  0  0  0  0  0\\n   -1.0200    0.0280   -0.7118 C   0  0  0  0  0  0  0  0  0  0  0  0\\n   -0.1072   -0.2290   -1.8960 C   0  0  0  0  0  0  0  0  0  0  0  0\\n   -1.3829    1.0715   -0.6716 H   0  0  0  0  0  0  0  0  0  0  0  0\\n   -1.8823   -0.6392   -0.7261 H   0  0  0  0  0  0  0  0  0  0  0  0\\n    0.8012    0.3977   -1.8622 H   0  0  0  0  0  0  0  0  0  0  0  0\\n   -0.6242   -0.1196   -2.8579 H   0  0  0  0  0  0  0  0  0  0  0  0\\n   -0.6439   10.6394   16.0684 C   0  0  0  0  0  0  0  0  0  0  0  0\\n   -0.5705    9.7170   14.9724 N   0  0  0  0  0  2  0  0  0  0  0  0\\n   -0.9798   11.6240   15.6502 H   0  0  0  0  0  0  0  0  0  0  0  0\\n    0.3501   10.8057   16.5474 H   0  0  0  0  0  0  0  0  0  0  0  0\\n   -1.3523   10.2925   16.8623 H   0  0  0  0  0  0  0  0  0  0  0  0\\n   -0.2343    5.3213    9.8477 N   0  0  0  0  0  2  0  0  0  0  0  0\\n    0.6042    6.0672   10.7781 C   0  0  0  0  0  0  0  0  0  0  0  0\\n   -0.3523    6.8635   11.6456 C   0  0  0  0  0  0  0  0  0  0  0  0\\n    1.2689    6.7115   10.1737 H   0  0  0  0  0  0  0  0  0  0  0  0\\n    1.2213    5.4001   11.3807 H   0  0  0  0  0  0  0  0  0  0  0  0\\n   -1.0255    7.4991   11.0440 H   0  0  0  0  0  0  0  0  0  0  0  0\\n    0.1663    7.4550   12.4110 H   0  0  0  0  0  0  0  0  0  0  0  0\\n    0.0430    1.6967    5.6221 N   0  0  0  0  0  2  0  0  0  0  0  0\\n    0.8815    2.4426    6.5524 C   0  0  0  0  0  0  0  0  0  0  0  0\\n   -0.0750    3.2389    7.4199 C   0  0  0  0  0  0  0  0  0  0  0  0\\n    1.5462    3.0869    5.9480 H   0  0  0  0  0  0  0  0  0  0  0  0\\n    1.4986    1.7755    7.1550 H   0  0  0  0  0  0  0  0  0  0  0  0\\n   -0.7482    3.8745    6.8184 H   0  0  0  0  0  0  0  0  0  0  0  0\\n    0.4435    3.8304    8.1854 H   0  0  0  0  0  0  0  0  0  0  0  0\\n   -0.5031  -10.4229   16.6536 C   0  0  0  0  0  0  0  0  0  0  0  0\\n   -0.4384   -9.5179   15.5427 N   0  0  0  0  0  2  0  0  0  0  0  0\\n   -0.7405   -9.8128   17.5639 H   0  0  0  0  0  0  0  0  0  0  0  0\\n    0.4726  -10.9308   16.8417 H   0  0  0  0  0  0  0  0  0  0  0  0\\n   -1.2784  -11.2161   16.5043 H   0  0  0  0  0  0  0  0  0  0  0  0\\n   -0.1489   -5.3008   10.2673 N   0  0  0  0  0  2  0  0  0  0  0  0\\n    0.6903   -6.1371   11.1167 C   0  0  0  0  0  0  0  0  0  0  0  0\\n   -0.2505   -6.7803   12.1181 C   0  0  0  0  0  0  0  0  0  0  0  0\\n    1.4338   -5.4735   11.5953 H   0  0  0  0  0  0  0  0  0  0  0  0\\n    1.2214   -6.8902   10.5340 H   0  0  0  0  0  0  0  0  0  0  0  0\\n   -0.8398   -6.0300   12.6737 H   0  0  0  0  0  0  0  0  0  0  0  0\\n    0.2677   -7.4606   12.8060 H   0  0  0  0  0  0  0  0  0  0  0  0\\n    0.0898   -1.8235    5.9173 N   0  0  0  0  0  2  0  0  0  0  0  0\\n    0.9290   -2.6598    6.7667 C   0  0  0  0  0  0  0  0  0  0  0  0\\n   -0.0118   -3.3030    7.7681 C   0  0  0  0  0  0  0  0  0  0  0  0\\n    1.6725   -1.9962    7.2453 H   0  0  0  0  0  0  0  0  0  0  0  0\\n    1.4600   -3.4129    6.1840 H   0  0  0  0  0  0  0  0  0  0  0  0\\n   -0.6011   -2.5526    8.3237 H   0  0  0  0  0  0  0  0  0  0  0  0\\n    0.5064   -3.9833    8.4561 H   0  0  0  0  0  0  0  0  0  0  0  0\\n  1  2  2  0\\n  2  3  1  0\\n  3  4  2  0\\n  4  5  1  0\\n  5  6  2  0\\n  6  1  1  0\\n  1  7  1  0\\n  3  8  1  0\\n  5  9  1  0\\n 10 11  1  0\\n 11 12  1  0\\n 10 13  1  0\\n 10 14  1  0\\n 10 15  1  0\\n 11 16  1  0\\n 11 17  1  0\\n 12 18  1  0\\n 12 19  1  0\\n 20 21  1  0\\n 21 22  1  0\\n 20 23  1  0\\n 20 24  1  0\\n 20 25  1  0\\n 21 26  1  0\\n 21 27  1  0\\n 22 28  1  0\\n 22 29  1  0\\n 30 31  1  0\\n 31 32  1  0\\n 30 33  1  0\\n 30 34  1  0\\n 30 35  1  0\\n 31 36  1  0\\n 31 37  1  0\\n 32 38  1  0\\n 32 39  1  0\\n  2 12  1  0\\n  4 22  1  0\\n  6 32  1  0\\n 40 41  2  0\\n 41 42  1  0\\n 42 43  2  0\\n 43 44  1  0\\n 44 45  2  0\\n 45 40  1  0\\n 40 46  1  0\\n 42 47  1  0\\n 44 48  1  0\\n 49 50  1  0\\n 49 51  1  0\\n 49 52  1  0\\n 49 53  1  0\\n 54 55  1  0\\n 55 56  1  0\\n 55 57  1  0\\n 55 58  1  0\\n 56 59  1  0\\n 56 60  1  0\\n 61 62  1  0\\n 62 63  1  0\\n 62 64  1  0\\n 62 65  1  0\\n 63 66  1  0\\n 63 67  1  0\\n 50 56  1  0\\n 54 63  1  0\\n 68 69  1  0\\n 68 70  1  0\\n 68 71  1  0\\n 68 72  1  0\\n 73 74  1  0\\n 74 75  1  0\\n 74 76  1  0\\n 74 77  1  0\\n 75 78  1  0\\n 75 79  1  0\\n 80 81  1  0\\n 81 82  1  0\\n 81 83  1  0\\n 81 84  1  0\\n 82 85  1  0\\n 82 86  1  0\\n 69 75  1  0\\n 73 82  1  0\\n 87 88  1  0\\n 87 89  1  0\\n 87 90  1  0\\n 87 91  1  0\\n 92 93  1  0\\n 93 94  1  0\\n 93 95  1  0\\n 93 96  1  0\\n 94 97  1  0\\n 94 98  1  0\\n 99100  1  0\\n100101  1  0\\n100102  1  0\\n100103  1  0\\n101104  1  0\\n101105  1  0\\n 88 94  1  0\\n 92101  1  0\\n 41 61  1  0\\n 43 80  1  0\\n 45 99  1  0\\nM  END\\n\");\n",
       "viewer_16571240599141068.setStyle({\"stick\": {\"colorscheme\": \"cyanCarbon\"}});\n",
       "viewer_16571240599141068.zoomTo();\n",
       "\tviewer_16571240599141068.setBackgroundColor(\"#000000\");\n",
       "\tviewer_16571240599141068.zoomTo();\n",
       "viewer_16571240599141068.render();\n",
       "});\n",
       "</script>"
      ]
     },
     "metadata": {},
     "output_type": "display_data"
    }
   ],
   "source": [
    "host = stk.BuildingBlock.init_from_molecule(cores[0])\n",
    "guests = (\n",
    "    stk.host_guest.Guest(\n",
    "        building_block=stk.BuildingBlock.init_from_molecule(cores[1]),\n",
    "        displacement=(0, 0, 5),\n",
    "        start_vector=stk.BuildingBlock.init_from_molecule(cores[1]).get_direction(),\n",
    "        end_vector=(0, 0, 1),\n",
    "    ),\n",
    ")\n",
    "\n",
    "polymer = stk.ConstructedMolecule(\n",
    "    topology_graph=stk.host_guest.Complex(\n",
    "        host=host,\n",
    "        guests=guests,\n",
    "    ),\n",
    ")\n",
    "show_stk_mol(polymer)"
   ]
  },
  {
   "cell_type": "code",
   "execution_count": 19,
   "id": "0a1e282d-ee97-4167-9022-9f79c3e86b88",
   "metadata": {},
   "outputs": [
    {
     "data": {
      "application/3dmoljs_load.v0": "<div id=\"3dmolviewer_16571240636724923\"  style=\"position: relative; width: 400px; height: 400px\">\n        <p id=\"3dmolwarning_16571240636724923\" style=\"background-color:#ffcccc;color:black\">You appear to be running in JupyterLab (or JavaScript failed to load for some other reason).  You need to install the 3dmol extension: <br>\n        <tt>jupyter labextension install jupyterlab_3dmol</tt></p>\n        </div>\n<script>\n\nvar loadScriptAsync = function(uri){\n  return new Promise((resolve, reject) => {\n    var tag = document.createElement('script');\n    tag.src = uri;\n    tag.async = true;\n    tag.onload = () => {\n      resolve();\n    };\n  var firstScriptTag = document.getElementsByTagName('script')[0];\n  firstScriptTag.parentNode.insertBefore(tag, firstScriptTag);\n});\n};\n\nif(typeof $3Dmolpromise === 'undefined') {\n$3Dmolpromise = null;\n  $3Dmolpromise = loadScriptAsync('https://3dmol.org/build/3Dmol.js');\n}\n\nvar viewer_16571240636724923 = null;\nvar warn = document.getElementById(\"3dmolwarning_16571240636724923\");\nif(warn) {\n    warn.parentNode.removeChild(warn);\n}\n$3Dmolpromise.then(function() {\nviewer_16571240636724923 = $3Dmol.createViewer($(\"#3dmolviewer_16571240636724923\"),{backgroundColor:\"white\"});\nviewer_16571240636724923.addModel(\"\\n     RDKit          3D\\n\\n105105  0  0  0  0  0  0  0  0999 V2000\\n    1.0529   -0.8756    0.0025 C   0  0  0  0  0  0  0  0  0  0  0  0\\n    1.7493    0.3188    0.0025 C   0  0  0  0  0  0  0  0  0  0  0  0\\n    1.0146    1.4852    0.0025 C   0  0  0  0  0  0  0  0  0  0  0  0\\n   -0.3555    1.5264    0.0025 C   0  0  0  0  0  0  0  0  0  0  0  0\\n   -1.0352    0.3168    0.0025 C   0  0  0  0  0  0  0  0  0  0  0  0\\n   -0.3327   -0.8887    0.0025 C   0  0  0  0  0  0  0  0  0  0  0  0\\n    1.6306   -1.8005    0.0025 H   0  0  0  0  0  0  0  0  0  0  0  0\\n    1.5469    2.4421    0.0025 H   0  0  0  0  0  0  0  0  0  0  0  0\\n   -2.1353    0.3278    0.0025 H   0  0  0  0  0  0  0  0  0  0  0  0\\n    5.3488   -0.0366    1.2884 C   0  0  0  0  0  0  0  0  0  0  0  0\\n    4.9054   -0.4188   -0.1058 C   0  0  0  0  0  0  0  0  0  0  0  0\\n    3.5931    0.3049   -0.3612 C   0  0  0  0  0  0  0  0  0  0  0  0\\n    4.9568    0.9529    1.5985 H   0  0  0  0  0  0  0  0  0  0  0  0\\n    5.0509   -0.8151    2.0311 H   0  0  0  0  0  0  0  0  0  0  0  0\\n    6.4649    0.0329    1.3493 H   0  0  0  0  0  0  0  0  0  0  0  0\\n    5.6061   -0.1293   -0.8902 H   0  0  0  0  0  0  0  0  0  0  0  0\\n    4.7800   -1.5109   -0.1265 H   0  0  0  0  0  0  0  0  0  0  0  0\\n    3.2078    0.1558   -1.3720 H   0  0  0  0  0  0  0  0  0  0  0  0\\n    3.6980    1.3968   -0.1960 H   0  0  0  0  0  0  0  0  0  0  0  0\\n   -3.7795    2.7137   -0.6844 C   0  0  0  0  0  0  0  0  0  0  0  0\\n   -2.8710    3.1112    0.4572 C   0  0  0  0  0  0  0  0  0  0  0  0\\n   -1.4544    2.7613    0.0310 C   0  0  0  0  0  0  0  0  0  0  0  0\\n   -3.2575    2.7277   -1.6623 H   0  0  0  0  0  0  0  0  0  0  0  0\\n   -4.2300    1.7078   -0.5064 H   0  0  0  0  0  0  0  0  0  0  0  0\\n   -4.6415    3.4228   -0.7765 H   0  0  0  0  0  0  0  0  0  0  0  0\\n   -2.8963    4.1753    0.6956 H   0  0  0  0  0  0  0  0  0  0  0  0\\n   -3.1832    2.5407    1.3438 H   0  0  0  0  0  0  0  0  0  0  0  0\\n   -0.6977    3.0676    0.7562 H   0  0  0  0  0  0  0  0  0  0  0  0\\n   -1.2007    3.2297   -0.9421 H   0  0  0  0  0  0  0  0  0  0  0  0\\n   -2.3114   -4.0728   -0.9418 C   0  0  0  0  0  0  0  0  0  0  0  0\\n   -2.3229   -3.3663    0.3951 C   0  0  0  0  0  0  0  0  0  0  0  0\\n   -1.7813   -1.9663    0.1547 C   0  0  0  0  0  0  0  0  0  0  0  0\\n   -2.3901   -3.3659   -1.7922 H   0  0  0  0  0  0  0  0  0  0  0  0\\n   -1.3974   -4.7041   -1.0535 H   0  0  0  0  0  0  0  0  0  0  0  0\\n   -3.1802   -4.7736   -1.0325 H   0  0  0  0  0  0  0  0  0  0  0  0\\n   -3.3148   -3.2705    0.8388 H   0  0  0  0  0  0  0  0  0  0  0  0\\n   -1.6814   -3.9402    1.0792 H   0  0  0  0  0  0  0  0  0  0  0  0\\n   -1.8054   -1.3355    1.0457 H   0  0  0  0  0  0  0  0  0  0  0  0\\n   -2.3504   -1.4473   -0.6436 H   0  0  0  0  0  0  0  0  0  0  0  0\\n    2.1853   -1.2393    5.0113 C   0  0  0  0  0  0  0  0  0  0  0  0\\n    2.8817   -0.0448    5.0113 C   0  0  0  0  0  0  0  0  0  0  0  0\\n    2.1469    1.1216    5.0114 C   0  0  0  0  0  0  0  0  0  0  0  0\\n    0.7768    1.1628    5.0113 C   0  0  0  0  0  0  0  0  0  0  0  0\\n    0.0972   -0.0469    5.0113 C   0  0  0  0  0  0  0  0  0  0  0  0\\n    0.7997   -1.2524    5.0113 C   0  0  0  0  0  0  0  0  0  0  0  0\\n    2.7629   -2.1641    5.0114 H   0  0  0  0  0  0  0  0  0  0  0  0\\n    2.6792    2.0784    5.0114 H   0  0  0  0  0  0  0  0  0  0  0  0\\n   -1.0029   -0.0359    5.0113 H   0  0  0  0  0  0  0  0  0  0  0  0\\n   18.2637   -0.3619    5.9248 C   0  0  0  0  0  0  0  0  0  0  0  0\\n   16.8331   -0.3296    5.8249 N   0  0  0  0  0  2  0  0  0  0  0  0\\n   18.5701    0.5043    6.5674 H   0  0  0  0  0  0  0  0  0  0  0  0\\n   18.7591   -0.2294    4.9337 H   0  0  0  0  0  0  0  0  0  0  0  0\\n   18.6321   -1.3223    6.3656 H   0  0  0  0  0  0  0  0  0  0  0  0\\n   10.0909   -0.2408    5.3437 N   0  0  0  0  0  2  0  0  0  0  0  0\\n   11.3013   -0.0160    4.5629 C   0  0  0  0  0  0  0  0  0  0  0  0\\n   12.4563   -0.2719    5.5125 C   0  0  0  0  0  0  0  0  0  0  0  0\\n   11.2681    1.0290    4.2034 H   0  0  0  0  0  0  0  0  0  0  0  0\\n   11.3465   -0.6792    3.6986 H   0  0  0  0  0  0  0  0  0  0  0  0\\n   12.3903    0.3506    6.4220 H   0  0  0  0  0  0  0  0  0  0  0  0\\n   13.4340   -0.1561    5.0275 H   0  0  0  0  0  0  0  0  0  0  0  0\\n    4.5314   -0.1675    4.9469 N   0  0  0  0  0  2  0  0  0  0  0  0\\n    5.7417    0.0573    4.1661 C   0  0  0  0  0  0  0  0  0  0  0  0\\n    6.8968   -0.1987    5.1157 C   0  0  0  0  0  0  0  0  0  0  0  0\\n    5.7086    1.1022    3.8066 H   0  0  0  0  0  0  0  0  0  0  0  0\\n    5.7870   -0.6059    3.3018 H   0  0  0  0  0  0  0  0  0  0  0  0\\n    6.8308    0.4238    6.0252 H   0  0  0  0  0  0  0  0  0  0  0  0\\n    7.8745   -0.0828    4.6306 H   0  0  0  0  0  0  0  0  0  0  0  0\\n  -11.0891   10.5942    4.0433 C   0  0  0  0  0  0  0  0  0  0  0  0\\n   -9.9920    9.6762    4.1482 N   0  0  0  0  0  2  0  0  0  0  0  0\\n  -10.6647   11.5821    3.7254 H   0  0  0  0  0  0  0  0  0  0  0  0\\n  -11.6009   10.7540    5.0219 H   0  0  0  0  0  0  0  0  0  0  0  0\\n  -11.8581   10.2470    3.3080 H   0  0  0  0  0  0  0  0  0  0  0  0\\n   -4.8613    5.3013    4.6315 N   0  0  0  0  0  2  0  0  0  0  0  0\\n   -5.8218    6.0394    5.4426 C   0  0  0  0  0  0  0  0  0  0  0  0\\n   -6.6613    6.8361    4.4620 C   0  0  0  0  0  0  0  0  0  0  0  0\\n   -5.2420    6.6833    6.1294 H   0  0  0  0  0  0  0  0  0  0  0  0\\n   -6.4410    5.3670    6.0370 H   0  0  0  0  0  0  0  0  0  0  0  0\\n   -6.0411    7.4773    3.8114 H   0  0  0  0  0  0  0  0  0  0  0  0\\n   -7.4458    7.4220    4.9579 H   0  0  0  0  0  0  0  0  0  0  0  0\\n   -0.6307    1.6938    5.0301 N   0  0  0  0  0  2  0  0  0  0  0  0\\n   -1.5911    2.4319    5.8412 C   0  0  0  0  0  0  0  0  0  0  0  0\\n   -2.4307    3.2287    4.8605 C   0  0  0  0  0  0  0  0  0  0  0  0\\n   -1.0114    3.0758    6.5279 H   0  0  0  0  0  0  0  0  0  0  0  0\\n   -2.2104    1.7595    6.4355 H   0  0  0  0  0  0  0  0  0  0  0  0\\n   -1.8104    3.8699    4.2100 H   0  0  0  0  0  0  0  0  0  0  0  0\\n   -3.2152    3.8145    5.3565 H   0  0  0  0  0  0  0  0  0  0  0  0\\n  -11.5845  -10.4709    4.0739 C   0  0  0  0  0  0  0  0  0  0  0  0\\n  -10.4802   -9.5614    4.1785 N   0  0  0  0  0  2  0  0  0  0  0  0\\n  -12.4893   -9.8637    3.8096 H   0  0  0  0  0  0  0  0  0  0  0  0\\n  -11.8018  -10.9840    5.0407 H   0  0  0  0  0  0  0  0  0  0  0  0\\n  -11.4065  -11.2599    3.3004 H   0  0  0  0  0  0  0  0  0  0  0  0\\n   -5.2360   -5.3229    4.6573 N   0  0  0  0  0  2  0  0  0  0  0  0\\n   -6.1084   -6.1665    5.4648 C   0  0  0  0  0  0  0  0  0  0  0  0\\n   -7.0758   -6.8099    4.4893 C   0  0  0  0  0  0  0  0  0  0  0  0\\n   -6.6138   -5.5083    6.1953 H   0  0  0  0  0  0  0  0  0  0  0  0\\n   -5.5398   -6.9195    6.0113 H   0  0  0  0  0  0  0  0  0  0  0  0\\n   -7.6154   -6.0593    3.8855 H   0  0  0  0  0  0  0  0  0  0  0  0\\n   -7.7772   -7.4954    4.9819 H   0  0  0  0  0  0  0  0  0  0  0  0\\n   -0.9116   -1.8279    5.0521 N   0  0  0  0  0  2  0  0  0  0  0  0\\n   -1.7840   -2.6715    5.8596 C   0  0  0  0  0  0  0  0  0  0  0  0\\n   -2.7515   -3.3149    4.8841 C   0  0  0  0  0  0  0  0  0  0  0  0\\n   -2.2894   -2.0133    6.5901 H   0  0  0  0  0  0  0  0  0  0  0  0\\n   -1.2154   -3.4245    6.4061 H   0  0  0  0  0  0  0  0  0  0  0  0\\n   -3.2910   -2.5643    4.2803 H   0  0  0  0  0  0  0  0  0  0  0  0\\n   -3.4528   -4.0004    5.3767 H   0  0  0  0  0  0  0  0  0  0  0  0\\n  1  2  2  0\\n  2  3  1  0\\n  3  4  2  0\\n  4  5  1  0\\n  5  6  2  0\\n  6  1  1  0\\n  1  7  1  0\\n  3  8  1  0\\n  5  9  1  0\\n 10 11  1  0\\n 11 12  1  0\\n 10 13  1  0\\n 10 14  1  0\\n 10 15  1  0\\n 11 16  1  0\\n 11 17  1  0\\n 12 18  1  0\\n 12 19  1  0\\n 20 21  1  0\\n 21 22  1  0\\n 20 23  1  0\\n 20 24  1  0\\n 20 25  1  0\\n 21 26  1  0\\n 21 27  1  0\\n 22 28  1  0\\n 22 29  1  0\\n 30 31  1  0\\n 31 32  1  0\\n 30 33  1  0\\n 30 34  1  0\\n 30 35  1  0\\n 31 36  1  0\\n 31 37  1  0\\n 32 38  1  0\\n 32 39  1  0\\n  2 12  1  0\\n  4 22  1  0\\n  6 32  1  0\\n 40 41  2  0\\n 41 42  1  0\\n 42 43  2  0\\n 43 44  1  0\\n 44 45  2  0\\n 45 40  1  0\\n 40 46  1  0\\n 42 47  1  0\\n 44 48  1  0\\n 49 50  1  0\\n 49 51  1  0\\n 49 52  1  0\\n 49 53  1  0\\n 54 55  1  0\\n 55 56  1  0\\n 55 57  1  0\\n 55 58  1  0\\n 56 59  1  0\\n 56 60  1  0\\n 61 62  1  0\\n 62 63  1  0\\n 62 64  1  0\\n 62 65  1  0\\n 63 66  1  0\\n 63 67  1  0\\n 50 56  1  0\\n 54 63  1  0\\n 68 69  1  0\\n 68 70  1  0\\n 68 71  1  0\\n 68 72  1  0\\n 73 74  1  0\\n 74 75  1  0\\n 74 76  1  0\\n 74 77  1  0\\n 75 78  1  0\\n 75 79  1  0\\n 80 81  1  0\\n 81 82  1  0\\n 81 83  1  0\\n 81 84  1  0\\n 82 85  1  0\\n 82 86  1  0\\n 69 75  1  0\\n 73 82  1  0\\n 87 88  1  0\\n 87 89  1  0\\n 87 90  1  0\\n 87 91  1  0\\n 92 93  1  0\\n 93 94  1  0\\n 93 95  1  0\\n 93 96  1  0\\n 94 97  1  0\\n 94 98  1  0\\n 99100  1  0\\n100101  1  0\\n100102  1  0\\n100103  1  0\\n101104  1  0\\n101105  1  0\\n 88 94  1  0\\n 92101  1  0\\n 41 61  1  0\\n 43 80  1  0\\n 45 99  1  0\\nM  END\\n\");\nviewer_16571240636724923.setStyle({\"stick\": {\"colorscheme\": \"cyanCarbon\"}});\nviewer_16571240636724923.zoomTo();\n\tviewer_16571240636724923.setBackgroundColor(\"#000000\");\n\tviewer_16571240636724923.zoomTo();\nviewer_16571240636724923.render();\n});\n</script>",
      "text/html": [
       "<div id=\"3dmolviewer_16571240636724923\"  style=\"position: relative; width: 400px; height: 400px\">\n",
       "        <p id=\"3dmolwarning_16571240636724923\" style=\"background-color:#ffcccc;color:black\">You appear to be running in JupyterLab (or JavaScript failed to load for some other reason).  You need to install the 3dmol extension: <br>\n",
       "        <tt>jupyter labextension install jupyterlab_3dmol</tt></p>\n",
       "        </div>\n",
       "<script>\n",
       "\n",
       "var loadScriptAsync = function(uri){\n",
       "  return new Promise((resolve, reject) => {\n",
       "    var tag = document.createElement('script');\n",
       "    tag.src = uri;\n",
       "    tag.async = true;\n",
       "    tag.onload = () => {\n",
       "      resolve();\n",
       "    };\n",
       "  var firstScriptTag = document.getElementsByTagName('script')[0];\n",
       "  firstScriptTag.parentNode.insertBefore(tag, firstScriptTag);\n",
       "});\n",
       "};\n",
       "\n",
       "if(typeof $3Dmolpromise === 'undefined') {\n",
       "$3Dmolpromise = null;\n",
       "  $3Dmolpromise = loadScriptAsync('https://3dmol.org/build/3Dmol.js');\n",
       "}\n",
       "\n",
       "var viewer_16571240636724923 = null;\n",
       "var warn = document.getElementById(\"3dmolwarning_16571240636724923\");\n",
       "if(warn) {\n",
       "    warn.parentNode.removeChild(warn);\n",
       "}\n",
       "$3Dmolpromise.then(function() {\n",
       "viewer_16571240636724923 = $3Dmol.createViewer($(\"#3dmolviewer_16571240636724923\"),{backgroundColor:\"white\"});\n",
       "viewer_16571240636724923.addModel(\"\\n     RDKit          3D\\n\\n105105  0  0  0  0  0  0  0  0999 V2000\\n    1.0529   -0.8756    0.0025 C   0  0  0  0  0  0  0  0  0  0  0  0\\n    1.7493    0.3188    0.0025 C   0  0  0  0  0  0  0  0  0  0  0  0\\n    1.0146    1.4852    0.0025 C   0  0  0  0  0  0  0  0  0  0  0  0\\n   -0.3555    1.5264    0.0025 C   0  0  0  0  0  0  0  0  0  0  0  0\\n   -1.0352    0.3168    0.0025 C   0  0  0  0  0  0  0  0  0  0  0  0\\n   -0.3327   -0.8887    0.0025 C   0  0  0  0  0  0  0  0  0  0  0  0\\n    1.6306   -1.8005    0.0025 H   0  0  0  0  0  0  0  0  0  0  0  0\\n    1.5469    2.4421    0.0025 H   0  0  0  0  0  0  0  0  0  0  0  0\\n   -2.1353    0.3278    0.0025 H   0  0  0  0  0  0  0  0  0  0  0  0\\n    5.3488   -0.0366    1.2884 C   0  0  0  0  0  0  0  0  0  0  0  0\\n    4.9054   -0.4188   -0.1058 C   0  0  0  0  0  0  0  0  0  0  0  0\\n    3.5931    0.3049   -0.3612 C   0  0  0  0  0  0  0  0  0  0  0  0\\n    4.9568    0.9529    1.5985 H   0  0  0  0  0  0  0  0  0  0  0  0\\n    5.0509   -0.8151    2.0311 H   0  0  0  0  0  0  0  0  0  0  0  0\\n    6.4649    0.0329    1.3493 H   0  0  0  0  0  0  0  0  0  0  0  0\\n    5.6061   -0.1293   -0.8902 H   0  0  0  0  0  0  0  0  0  0  0  0\\n    4.7800   -1.5109   -0.1265 H   0  0  0  0  0  0  0  0  0  0  0  0\\n    3.2078    0.1558   -1.3720 H   0  0  0  0  0  0  0  0  0  0  0  0\\n    3.6980    1.3968   -0.1960 H   0  0  0  0  0  0  0  0  0  0  0  0\\n   -3.7795    2.7137   -0.6844 C   0  0  0  0  0  0  0  0  0  0  0  0\\n   -2.8710    3.1112    0.4572 C   0  0  0  0  0  0  0  0  0  0  0  0\\n   -1.4544    2.7613    0.0310 C   0  0  0  0  0  0  0  0  0  0  0  0\\n   -3.2575    2.7277   -1.6623 H   0  0  0  0  0  0  0  0  0  0  0  0\\n   -4.2300    1.7078   -0.5064 H   0  0  0  0  0  0  0  0  0  0  0  0\\n   -4.6415    3.4228   -0.7765 H   0  0  0  0  0  0  0  0  0  0  0  0\\n   -2.8963    4.1753    0.6956 H   0  0  0  0  0  0  0  0  0  0  0  0\\n   -3.1832    2.5407    1.3438 H   0  0  0  0  0  0  0  0  0  0  0  0\\n   -0.6977    3.0676    0.7562 H   0  0  0  0  0  0  0  0  0  0  0  0\\n   -1.2007    3.2297   -0.9421 H   0  0  0  0  0  0  0  0  0  0  0  0\\n   -2.3114   -4.0728   -0.9418 C   0  0  0  0  0  0  0  0  0  0  0  0\\n   -2.3229   -3.3663    0.3951 C   0  0  0  0  0  0  0  0  0  0  0  0\\n   -1.7813   -1.9663    0.1547 C   0  0  0  0  0  0  0  0  0  0  0  0\\n   -2.3901   -3.3659   -1.7922 H   0  0  0  0  0  0  0  0  0  0  0  0\\n   -1.3974   -4.7041   -1.0535 H   0  0  0  0  0  0  0  0  0  0  0  0\\n   -3.1802   -4.7736   -1.0325 H   0  0  0  0  0  0  0  0  0  0  0  0\\n   -3.3148   -3.2705    0.8388 H   0  0  0  0  0  0  0  0  0  0  0  0\\n   -1.6814   -3.9402    1.0792 H   0  0  0  0  0  0  0  0  0  0  0  0\\n   -1.8054   -1.3355    1.0457 H   0  0  0  0  0  0  0  0  0  0  0  0\\n   -2.3504   -1.4473   -0.6436 H   0  0  0  0  0  0  0  0  0  0  0  0\\n    2.1853   -1.2393    5.0113 C   0  0  0  0  0  0  0  0  0  0  0  0\\n    2.8817   -0.0448    5.0113 C   0  0  0  0  0  0  0  0  0  0  0  0\\n    2.1469    1.1216    5.0114 C   0  0  0  0  0  0  0  0  0  0  0  0\\n    0.7768    1.1628    5.0113 C   0  0  0  0  0  0  0  0  0  0  0  0\\n    0.0972   -0.0469    5.0113 C   0  0  0  0  0  0  0  0  0  0  0  0\\n    0.7997   -1.2524    5.0113 C   0  0  0  0  0  0  0  0  0  0  0  0\\n    2.7629   -2.1641    5.0114 H   0  0  0  0  0  0  0  0  0  0  0  0\\n    2.6792    2.0784    5.0114 H   0  0  0  0  0  0  0  0  0  0  0  0\\n   -1.0029   -0.0359    5.0113 H   0  0  0  0  0  0  0  0  0  0  0  0\\n   18.2637   -0.3619    5.9248 C   0  0  0  0  0  0  0  0  0  0  0  0\\n   16.8331   -0.3296    5.8249 N   0  0  0  0  0  2  0  0  0  0  0  0\\n   18.5701    0.5043    6.5674 H   0  0  0  0  0  0  0  0  0  0  0  0\\n   18.7591   -0.2294    4.9337 H   0  0  0  0  0  0  0  0  0  0  0  0\\n   18.6321   -1.3223    6.3656 H   0  0  0  0  0  0  0  0  0  0  0  0\\n   10.0909   -0.2408    5.3437 N   0  0  0  0  0  2  0  0  0  0  0  0\\n   11.3013   -0.0160    4.5629 C   0  0  0  0  0  0  0  0  0  0  0  0\\n   12.4563   -0.2719    5.5125 C   0  0  0  0  0  0  0  0  0  0  0  0\\n   11.2681    1.0290    4.2034 H   0  0  0  0  0  0  0  0  0  0  0  0\\n   11.3465   -0.6792    3.6986 H   0  0  0  0  0  0  0  0  0  0  0  0\\n   12.3903    0.3506    6.4220 H   0  0  0  0  0  0  0  0  0  0  0  0\\n   13.4340   -0.1561    5.0275 H   0  0  0  0  0  0  0  0  0  0  0  0\\n    4.5314   -0.1675    4.9469 N   0  0  0  0  0  2  0  0  0  0  0  0\\n    5.7417    0.0573    4.1661 C   0  0  0  0  0  0  0  0  0  0  0  0\\n    6.8968   -0.1987    5.1157 C   0  0  0  0  0  0  0  0  0  0  0  0\\n    5.7086    1.1022    3.8066 H   0  0  0  0  0  0  0  0  0  0  0  0\\n    5.7870   -0.6059    3.3018 H   0  0  0  0  0  0  0  0  0  0  0  0\\n    6.8308    0.4238    6.0252 H   0  0  0  0  0  0  0  0  0  0  0  0\\n    7.8745   -0.0828    4.6306 H   0  0  0  0  0  0  0  0  0  0  0  0\\n  -11.0891   10.5942    4.0433 C   0  0  0  0  0  0  0  0  0  0  0  0\\n   -9.9920    9.6762    4.1482 N   0  0  0  0  0  2  0  0  0  0  0  0\\n  -10.6647   11.5821    3.7254 H   0  0  0  0  0  0  0  0  0  0  0  0\\n  -11.6009   10.7540    5.0219 H   0  0  0  0  0  0  0  0  0  0  0  0\\n  -11.8581   10.2470    3.3080 H   0  0  0  0  0  0  0  0  0  0  0  0\\n   -4.8613    5.3013    4.6315 N   0  0  0  0  0  2  0  0  0  0  0  0\\n   -5.8218    6.0394    5.4426 C   0  0  0  0  0  0  0  0  0  0  0  0\\n   -6.6613    6.8361    4.4620 C   0  0  0  0  0  0  0  0  0  0  0  0\\n   -5.2420    6.6833    6.1294 H   0  0  0  0  0  0  0  0  0  0  0  0\\n   -6.4410    5.3670    6.0370 H   0  0  0  0  0  0  0  0  0  0  0  0\\n   -6.0411    7.4773    3.8114 H   0  0  0  0  0  0  0  0  0  0  0  0\\n   -7.4458    7.4220    4.9579 H   0  0  0  0  0  0  0  0  0  0  0  0\\n   -0.6307    1.6938    5.0301 N   0  0  0  0  0  2  0  0  0  0  0  0\\n   -1.5911    2.4319    5.8412 C   0  0  0  0  0  0  0  0  0  0  0  0\\n   -2.4307    3.2287    4.8605 C   0  0  0  0  0  0  0  0  0  0  0  0\\n   -1.0114    3.0758    6.5279 H   0  0  0  0  0  0  0  0  0  0  0  0\\n   -2.2104    1.7595    6.4355 H   0  0  0  0  0  0  0  0  0  0  0  0\\n   -1.8104    3.8699    4.2100 H   0  0  0  0  0  0  0  0  0  0  0  0\\n   -3.2152    3.8145    5.3565 H   0  0  0  0  0  0  0  0  0  0  0  0\\n  -11.5845  -10.4709    4.0739 C   0  0  0  0  0  0  0  0  0  0  0  0\\n  -10.4802   -9.5614    4.1785 N   0  0  0  0  0  2  0  0  0  0  0  0\\n  -12.4893   -9.8637    3.8096 H   0  0  0  0  0  0  0  0  0  0  0  0\\n  -11.8018  -10.9840    5.0407 H   0  0  0  0  0  0  0  0  0  0  0  0\\n  -11.4065  -11.2599    3.3004 H   0  0  0  0  0  0  0  0  0  0  0  0\\n   -5.2360   -5.3229    4.6573 N   0  0  0  0  0  2  0  0  0  0  0  0\\n   -6.1084   -6.1665    5.4648 C   0  0  0  0  0  0  0  0  0  0  0  0\\n   -7.0758   -6.8099    4.4893 C   0  0  0  0  0  0  0  0  0  0  0  0\\n   -6.6138   -5.5083    6.1953 H   0  0  0  0  0  0  0  0  0  0  0  0\\n   -5.5398   -6.9195    6.0113 H   0  0  0  0  0  0  0  0  0  0  0  0\\n   -7.6154   -6.0593    3.8855 H   0  0  0  0  0  0  0  0  0  0  0  0\\n   -7.7772   -7.4954    4.9819 H   0  0  0  0  0  0  0  0  0  0  0  0\\n   -0.9116   -1.8279    5.0521 N   0  0  0  0  0  2  0  0  0  0  0  0\\n   -1.7840   -2.6715    5.8596 C   0  0  0  0  0  0  0  0  0  0  0  0\\n   -2.7515   -3.3149    4.8841 C   0  0  0  0  0  0  0  0  0  0  0  0\\n   -2.2894   -2.0133    6.5901 H   0  0  0  0  0  0  0  0  0  0  0  0\\n   -1.2154   -3.4245    6.4061 H   0  0  0  0  0  0  0  0  0  0  0  0\\n   -3.2910   -2.5643    4.2803 H   0  0  0  0  0  0  0  0  0  0  0  0\\n   -3.4528   -4.0004    5.3767 H   0  0  0  0  0  0  0  0  0  0  0  0\\n  1  2  2  0\\n  2  3  1  0\\n  3  4  2  0\\n  4  5  1  0\\n  5  6  2  0\\n  6  1  1  0\\n  1  7  1  0\\n  3  8  1  0\\n  5  9  1  0\\n 10 11  1  0\\n 11 12  1  0\\n 10 13  1  0\\n 10 14  1  0\\n 10 15  1  0\\n 11 16  1  0\\n 11 17  1  0\\n 12 18  1  0\\n 12 19  1  0\\n 20 21  1  0\\n 21 22  1  0\\n 20 23  1  0\\n 20 24  1  0\\n 20 25  1  0\\n 21 26  1  0\\n 21 27  1  0\\n 22 28  1  0\\n 22 29  1  0\\n 30 31  1  0\\n 31 32  1  0\\n 30 33  1  0\\n 30 34  1  0\\n 30 35  1  0\\n 31 36  1  0\\n 31 37  1  0\\n 32 38  1  0\\n 32 39  1  0\\n  2 12  1  0\\n  4 22  1  0\\n  6 32  1  0\\n 40 41  2  0\\n 41 42  1  0\\n 42 43  2  0\\n 43 44  1  0\\n 44 45  2  0\\n 45 40  1  0\\n 40 46  1  0\\n 42 47  1  0\\n 44 48  1  0\\n 49 50  1  0\\n 49 51  1  0\\n 49 52  1  0\\n 49 53  1  0\\n 54 55  1  0\\n 55 56  1  0\\n 55 57  1  0\\n 55 58  1  0\\n 56 59  1  0\\n 56 60  1  0\\n 61 62  1  0\\n 62 63  1  0\\n 62 64  1  0\\n 62 65  1  0\\n 63 66  1  0\\n 63 67  1  0\\n 50 56  1  0\\n 54 63  1  0\\n 68 69  1  0\\n 68 70  1  0\\n 68 71  1  0\\n 68 72  1  0\\n 73 74  1  0\\n 74 75  1  0\\n 74 76  1  0\\n 74 77  1  0\\n 75 78  1  0\\n 75 79  1  0\\n 80 81  1  0\\n 81 82  1  0\\n 81 83  1  0\\n 81 84  1  0\\n 82 85  1  0\\n 82 86  1  0\\n 69 75  1  0\\n 73 82  1  0\\n 87 88  1  0\\n 87 89  1  0\\n 87 90  1  0\\n 87 91  1  0\\n 92 93  1  0\\n 93 94  1  0\\n 93 95  1  0\\n 93 96  1  0\\n 94 97  1  0\\n 94 98  1  0\\n 99100  1  0\\n100101  1  0\\n100102  1  0\\n100103  1  0\\n101104  1  0\\n101105  1  0\\n 88 94  1  0\\n 92101  1  0\\n 41 61  1  0\\n 43 80  1  0\\n 45 99  1  0\\nM  END\\n\");\n",
       "viewer_16571240636724923.setStyle({\"stick\": {\"colorscheme\": \"cyanCarbon\"}});\n",
       "viewer_16571240636724923.zoomTo();\n",
       "\tviewer_16571240636724923.setBackgroundColor(\"#000000\");\n",
       "\tviewer_16571240636724923.zoomTo();\n",
       "viewer_16571240636724923.render();\n",
       "});\n",
       "</script>"
      ]
     },
     "metadata": {},
     "output_type": "display_data"
    }
   ],
   "source": [
    "host = stk.BuildingBlock.init_from_molecule(cores[0])\n",
    "\n",
    "guests = (\n",
    "    stk.host_guest.Guest(\n",
    "        building_block=stk.BuildingBlock.init_from_molecule(cores[1]),\n",
    "        displacement=(0, 0, 5),\n",
    "    ),\n",
    ")\n",
    "\n",
    "polymer = stk.ConstructedMolecule(\n",
    "    topology_graph=stk.host_guest.Complex(\n",
    "        host=host,\n",
    "        guests=guests,\n",
    "    ),\n",
    ")\n",
    "show_stk_mol(polymer)"
   ]
  },
  {
   "cell_type": "code",
   "execution_count": 20,
   "id": "b7fc001c-8fde-4019-abea-3b7b163b007c",
   "metadata": {},
   "outputs": [
    {
     "data": {
      "application/3dmoljs_load.v0": "<div id=\"3dmolviewer_16571240638663852\"  style=\"position: relative; width: 400px; height: 400px\">\n        <p id=\"3dmolwarning_16571240638663852\" style=\"background-color:#ffcccc;color:black\">You appear to be running in JupyterLab (or JavaScript failed to load for some other reason).  You need to install the 3dmol extension: <br>\n        <tt>jupyter labextension install jupyterlab_3dmol</tt></p>\n        </div>\n<script>\n\nvar loadScriptAsync = function(uri){\n  return new Promise((resolve, reject) => {\n    var tag = document.createElement('script');\n    tag.src = uri;\n    tag.async = true;\n    tag.onload = () => {\n      resolve();\n    };\n  var firstScriptTag = document.getElementsByTagName('script')[0];\n  firstScriptTag.parentNode.insertBefore(tag, firstScriptTag);\n});\n};\n\nif(typeof $3Dmolpromise === 'undefined') {\n$3Dmolpromise = null;\n  $3Dmolpromise = loadScriptAsync('https://3dmol.org/build/3Dmol.js');\n}\n\nvar viewer_16571240638663852 = null;\nvar warn = document.getElementById(\"3dmolwarning_16571240638663852\");\nif(warn) {\n    warn.parentNode.removeChild(warn);\n}\n$3Dmolpromise.then(function() {\nviewer_16571240638663852 = $3Dmol.createViewer($(\"#3dmolviewer_16571240638663852\"),{backgroundColor:\"white\"});\nviewer_16571240638663852.addModel(\"\\n     RDKit          3D\\n\\n117117  0  0  0  0  0  0  0  0999 V2000\\n    1.3321   -1.1599    0.0080 C   0  0  0  0  0  0  0  0  0  0  0  0\\n    2.0286    0.0346    0.0080 C   0  0  0  0  0  0  0  0  0  0  0  0\\n    1.2938    1.2010    0.0080 C   0  0  0  0  0  0  0  0  0  0  0  0\\n   -0.0763    1.2422    0.0080 C   0  0  0  0  0  0  0  0  0  0  0  0\\n   -0.7560    0.0325    0.0080 C   0  0  0  0  0  0  0  0  0  0  0  0\\n   -0.0535   -1.1730    0.0080 C   0  0  0  0  0  0  0  0  0  0  0  0\\n    1.9098   -2.0847    0.0080 H   0  0  0  0  0  0  0  0  0  0  0  0\\n    1.8261    2.1578    0.0080 H   0  0  0  0  0  0  0  0  0  0  0  0\\n   -1.8561    0.0435    0.0080 H   0  0  0  0  0  0  0  0  0  0  0  0\\n    7.1993    1.3253   -0.6966 C   0  0  0  0  0  0  0  0  0  0  0  0\\n    6.9132    0.0445   -1.2454 O   0  0  0  0  0  0  0  0  0  0  0  0\\n    7.1818   -0.8406   -0.2341 C   0  0  0  0  0  0  0  0  0  0  0  0\\n    6.4183   -0.6947    0.8466 O   0  0  0  0  0  0  0  0  0  0  0  0\\n    5.0979   -0.8830    0.8454 C   0  0  0  0  0  0  0  0  0  0  0  0\\n    4.1511   -0.1801    0.0047 C   0  0  0  0  0  3  0  0  0  0  0  0\\n    6.9779    2.0523   -1.4969 H   0  0  0  0  0  0  0  0  0  0  0  0\\n    8.2747    1.3341   -0.4286 H   0  0  0  0  0  0  0  0  0  0  0  0\\n    6.6348    1.5345    0.2025 H   0  0  0  0  0  0  0  0  0  0  0  0\\n    8.2566   -0.6370    0.0766 H   0  0  0  0  0  0  0  0  0  0  0  0\\n    7.2246   -1.8958   -0.6400 H   0  0  0  0  0  0  0  0  0  0  0  0\\n    4.7352   -0.6606    1.9244 H   0  0  0  0  0  0  0  0  0  0  0  0\\n    4.9099   -2.0158    0.7160 H   0  0  0  0  0  0  0  0  0  0  0  0\\n    3.0758   -0.4616    0.1810 H   0  0  0  0  0  0  0  0  0  0  0  0\\n   -3.5551    5.1886   -1.4729 C   0  0  0  0  0  0  0  0  0  0  0  0\\n   -2.9951    5.4136   -0.1848 O   0  0  0  0  0  0  0  0  0  0  0  0\\n   -3.8565    4.7996    0.6865 C   0  0  0  0  0  0  0  0  0  0  0  0\\n   -3.9605    3.4822    0.5259 O   0  0  0  0  0  0  0  0  0  0  0  0\\n   -2.9470    2.6358    0.7143 C   0  0  0  0  0  0  0  0  0  0  0  0\\n   -1.6754    2.6828    0.0228 C   0  0  0  0  0  3  0  0  0  0  0  0\\n   -2.8664    5.6692   -2.1890 H   0  0  0  0  0  0  0  0  0  0  0  0\\n   -4.5527    5.6713   -1.4854 H   0  0  0  0  0  0  0  0  0  0  0  0\\n   -3.6951    4.1388   -1.6943 H   0  0  0  0  0  0  0  0  0  0  0  0\\n   -4.8793    5.2511    0.4787 H   0  0  0  0  0  0  0  0  0  0  0  0\\n   -3.6387    5.1278    1.7471 H   0  0  0  0  0  0  0  0  0  0  0  0\\n   -3.3571    1.5771    0.4772 H   0  0  0  0  0  0  0  0  0  0  0  0\\n   -2.7296    2.6031    1.8487 H   0  0  0  0  0  0  0  0  0  0  0  0\\n   -0.9646    1.8561    0.3019 H   0  0  0  0  0  0  0  0  0  0  0  0\\n   -3.0828   -5.7510   -0.2220 C   0  0  0  0  0  0  0  0  0  0  0  0\\n   -3.5400   -4.7555   -1.1294 O   0  0  0  0  0  0  0  0  0  0  0  0\\n   -4.4809   -4.0460   -0.4298 C   0  0  0  0  0  0  0  0  0  0  0  0\\n   -4.0126   -3.4154    0.6449 O   0  0  0  0  0  0  0  0  0  0  0  0\\n   -3.1130   -2.4323    0.5873 C   0  0  0  0  0  0  0  0  0  0  0  0\\n   -1.7950   -2.5349   -0.0040 C   0  0  0  0  0  3  0  0  0  0  0  0\\n   -2.3151   -6.3264   -0.7678 H   0  0  0  0  0  0  0  0  0  0  0  0\\n   -3.9550   -6.3843    0.0363 H   0  0  0  0  0  0  0  0  0  0  0  0\\n   -2.6938   -5.3360    0.6984 H   0  0  0  0  0  0  0  0  0  0  0  0\\n   -5.2419   -4.8117   -0.0724 H   0  0  0  0  0  0  0  0  0  0  0  0\\n   -5.0804   -3.3934   -1.1333 H   0  0  0  0  0  0  0  0  0  0  0  0\\n   -2.9055   -2.1148    1.6834 H   0  0  0  0  0  0  0  0  0  0  0  0\\n   -3.6357   -1.5115    0.1245 H   0  0  0  0  0  0  0  0  0  0  0  0\\n   -1.1748   -1.5996    0.0798 H   0  0  0  0  0  0  0  0  0  0  0  0\\n    2.1853   -1.2393    5.0113 C   0  0  0  0  0  0  0  0  0  0  0  0\\n    2.8817   -0.0448    5.0113 C   0  0  0  0  0  0  0  0  0  0  0  0\\n    2.1469    1.1216    5.0114 C   0  0  0  0  0  0  0  0  0  0  0  0\\n    0.7768    1.1628    5.0113 C   0  0  0  0  0  0  0  0  0  0  0  0\\n    0.0972   -0.0469    5.0113 C   0  0  0  0  0  0  0  0  0  0  0  0\\n    0.7997   -1.2524    5.0113 C   0  0  0  0  0  0  0  0  0  0  0  0\\n    2.7629   -2.1641    5.0114 H   0  0  0  0  0  0  0  0  0  0  0  0\\n    2.6792    2.0784    5.0114 H   0  0  0  0  0  0  0  0  0  0  0  0\\n   -1.0029   -0.0359    5.0113 H   0  0  0  0  0  0  0  0  0  0  0  0\\n   18.2637   -0.3619    5.9248 C   0  0  0  0  0  0  0  0  0  0  0  0\\n   16.8331   -0.3296    5.8249 N   0  0  0  0  0  2  0  0  0  0  0  0\\n   18.5701    0.5043    6.5674 H   0  0  0  0  0  0  0  0  0  0  0  0\\n   18.7591   -0.2294    4.9337 H   0  0  0  0  0  0  0  0  0  0  0  0\\n   18.6321   -1.3223    6.3656 H   0  0  0  0  0  0  0  0  0  0  0  0\\n   10.0909   -0.2408    5.3437 N   0  0  0  0  0  2  0  0  0  0  0  0\\n   11.3013   -0.0160    4.5629 C   0  0  0  0  0  0  0  0  0  0  0  0\\n   12.4563   -0.2719    5.5125 C   0  0  0  0  0  0  0  0  0  0  0  0\\n   11.2681    1.0290    4.2034 H   0  0  0  0  0  0  0  0  0  0  0  0\\n   11.3465   -0.6792    3.6986 H   0  0  0  0  0  0  0  0  0  0  0  0\\n   12.3903    0.3506    6.4220 H   0  0  0  0  0  0  0  0  0  0  0  0\\n   13.4340   -0.1561    5.0275 H   0  0  0  0  0  0  0  0  0  0  0  0\\n    4.5314   -0.1675    4.9469 N   0  0  0  0  0  2  0  0  0  0  0  0\\n    5.7417    0.0573    4.1661 C   0  0  0  0  0  0  0  0  0  0  0  0\\n    6.8968   -0.1987    5.1157 C   0  0  0  0  0  0  0  0  0  0  0  0\\n    5.7086    1.1022    3.8066 H   0  0  0  0  0  0  0  0  0  0  0  0\\n    5.7870   -0.6059    3.3018 H   0  0  0  0  0  0  0  0  0  0  0  0\\n    6.8308    0.4238    6.0252 H   0  0  0  0  0  0  0  0  0  0  0  0\\n    7.8745   -0.0828    4.6306 H   0  0  0  0  0  0  0  0  0  0  0  0\\n  -11.0891   10.5942    4.0433 C   0  0  0  0  0  0  0  0  0  0  0  0\\n   -9.9920    9.6762    4.1482 N   0  0  0  0  0  2  0  0  0  0  0  0\\n  -10.6647   11.5821    3.7254 H   0  0  0  0  0  0  0  0  0  0  0  0\\n  -11.6009   10.7540    5.0219 H   0  0  0  0  0  0  0  0  0  0  0  0\\n  -11.8581   10.2470    3.3080 H   0  0  0  0  0  0  0  0  0  0  0  0\\n   -4.8613    5.3013    4.6315 N   0  0  0  0  0  2  0  0  0  0  0  0\\n   -5.8218    6.0394    5.4426 C   0  0  0  0  0  0  0  0  0  0  0  0\\n   -6.6613    6.8361    4.4620 C   0  0  0  0  0  0  0  0  0  0  0  0\\n   -5.2420    6.6833    6.1294 H   0  0  0  0  0  0  0  0  0  0  0  0\\n   -6.4410    5.3670    6.0370 H   0  0  0  0  0  0  0  0  0  0  0  0\\n   -6.0411    7.4773    3.8114 H   0  0  0  0  0  0  0  0  0  0  0  0\\n   -7.4458    7.4220    4.9579 H   0  0  0  0  0  0  0  0  0  0  0  0\\n   -0.6307    1.6938    5.0301 N   0  0  0  0  0  2  0  0  0  0  0  0\\n   -1.5911    2.4319    5.8412 C   0  0  0  0  0  0  0  0  0  0  0  0\\n   -2.4307    3.2287    4.8605 C   0  0  0  0  0  0  0  0  0  0  0  0\\n   -1.0114    3.0758    6.5279 H   0  0  0  0  0  0  0  0  0  0  0  0\\n   -2.2104    1.7595    6.4355 H   0  0  0  0  0  0  0  0  0  0  0  0\\n   -1.8104    3.8699    4.2100 H   0  0  0  0  0  0  0  0  0  0  0  0\\n   -3.2152    3.8145    5.3565 H   0  0  0  0  0  0  0  0  0  0  0  0\\n  -11.5845  -10.4709    4.0739 C   0  0  0  0  0  0  0  0  0  0  0  0\\n  -10.4802   -9.5614    4.1785 N   0  0  0  0  0  2  0  0  0  0  0  0\\n  -12.4893   -9.8637    3.8096 H   0  0  0  0  0  0  0  0  0  0  0  0\\n  -11.8018  -10.9840    5.0407 H   0  0  0  0  0  0  0  0  0  0  0  0\\n  -11.4065  -11.2599    3.3004 H   0  0  0  0  0  0  0  0  0  0  0  0\\n   -5.2360   -5.3229    4.6573 N   0  0  0  0  0  2  0  0  0  0  0  0\\n   -6.1084   -6.1665    5.4648 C   0  0  0  0  0  0  0  0  0  0  0  0\\n   -7.0758   -6.8099    4.4893 C   0  0  0  0  0  0  0  0  0  0  0  0\\n   -6.6138   -5.5083    6.1953 H   0  0  0  0  0  0  0  0  0  0  0  0\\n   -5.5398   -6.9195    6.0113 H   0  0  0  0  0  0  0  0  0  0  0  0\\n   -7.6154   -6.0593    3.8855 H   0  0  0  0  0  0  0  0  0  0  0  0\\n   -7.7772   -7.4954    4.9819 H   0  0  0  0  0  0  0  0  0  0  0  0\\n   -0.9116   -1.8279    5.0521 N   0  0  0  0  0  2  0  0  0  0  0  0\\n   -1.7840   -2.6715    5.8596 C   0  0  0  0  0  0  0  0  0  0  0  0\\n   -2.7515   -3.3149    4.8841 C   0  0  0  0  0  0  0  0  0  0  0  0\\n   -2.2894   -2.0133    6.5901 H   0  0  0  0  0  0  0  0  0  0  0  0\\n   -1.2154   -3.4245    6.4061 H   0  0  0  0  0  0  0  0  0  0  0  0\\n   -3.2910   -2.5643    4.2803 H   0  0  0  0  0  0  0  0  0  0  0  0\\n   -3.4528   -4.0004    5.3767 H   0  0  0  0  0  0  0  0  0  0  0  0\\n  1  2  2  0\\n  2  3  1  0\\n  3  4  2  0\\n  4  5  1  0\\n  5  6  2  0\\n  6  1  1  0\\n  1  7  1  0\\n  3  8  1  0\\n  5  9  1  0\\n 10 11  1  0\\n 11 12  1  0\\n 12 13  1  0\\n 13 14  1  0\\n 14 15  1  0\\n 10 16  1  0\\n 10 17  1  0\\n 10 18  1  0\\n 12 19  1  0\\n 12 20  1  0\\n 14 21  1  0\\n 14 22  1  0\\n 15 23  1  0\\n 24 25  1  0\\n 25 26  1  0\\n 26 27  1  0\\n 27 28  1  0\\n 28 29  1  0\\n 24 30  1  0\\n 24 31  1  0\\n 24 32  1  0\\n 26 33  1  0\\n 26 34  1  0\\n 28 35  1  0\\n 28 36  1  0\\n 29 37  1  0\\n 38 39  1  0\\n 39 40  1  0\\n 40 41  1  0\\n 41 42  1  0\\n 42 43  1  0\\n 38 44  1  0\\n 38 45  1  0\\n 38 46  1  0\\n 40 47  1  0\\n 40 48  1  0\\n 42 49  1  0\\n 42 50  1  0\\n 43 51  1  0\\n  2 15  1  0\\n  4 29  1  0\\n  6 43  1  0\\n 52 53  2  0\\n 53 54  1  0\\n 54 55  2  0\\n 55 56  1  0\\n 56 57  2  0\\n 57 52  1  0\\n 52 58  1  0\\n 54 59  1  0\\n 56 60  1  0\\n 61 62  1  0\\n 61 63  1  0\\n 61 64  1  0\\n 61 65  1  0\\n 66 67  1  0\\n 67 68  1  0\\n 67 69  1  0\\n 67 70  1  0\\n 68 71  1  0\\n 68 72  1  0\\n 73 74  1  0\\n 74 75  1  0\\n 74 76  1  0\\n 74 77  1  0\\n 75 78  1  0\\n 75 79  1  0\\n 62 68  1  0\\n 66 75  1  0\\n 80 81  1  0\\n 80 82  1  0\\n 80 83  1  0\\n 80 84  1  0\\n 85 86  1  0\\n 86 87  1  0\\n 86 88  1  0\\n 86 89  1  0\\n 87 90  1  0\\n 87 91  1  0\\n 92 93  1  0\\n 93 94  1  0\\n 93 95  1  0\\n 93 96  1  0\\n 94 97  1  0\\n 94 98  1  0\\n 81 87  1  0\\n 85 94  1  0\\n 99100  1  0\\n 99101  1  0\\n 99102  1  0\\n 99103  1  0\\n104105  1  0\\n105106  1  0\\n105107  1  0\\n105108  1  0\\n106109  1  0\\n106110  1  0\\n111112  1  0\\n112113  1  0\\n112114  1  0\\n112115  1  0\\n113116  1  0\\n113117  1  0\\n100106  1  0\\n104113  1  0\\n 53 73  1  0\\n 55 92  1  0\\n 57111  1  0\\nM  END\\n\");\nviewer_16571240638663852.setStyle({\"stick\": {\"colorscheme\": \"cyanCarbon\"}});\nviewer_16571240638663852.zoomTo();\n\tviewer_16571240638663852.setBackgroundColor(\"#000000\");\n\tviewer_16571240638663852.zoomTo();\nviewer_16571240638663852.render();\n});\n</script>",
      "text/html": [
       "<div id=\"3dmolviewer_16571240638663852\"  style=\"position: relative; width: 400px; height: 400px\">\n",
       "        <p id=\"3dmolwarning_16571240638663852\" style=\"background-color:#ffcccc;color:black\">You appear to be running in JupyterLab (or JavaScript failed to load for some other reason).  You need to install the 3dmol extension: <br>\n",
       "        <tt>jupyter labextension install jupyterlab_3dmol</tt></p>\n",
       "        </div>\n",
       "<script>\n",
       "\n",
       "var loadScriptAsync = function(uri){\n",
       "  return new Promise((resolve, reject) => {\n",
       "    var tag = document.createElement('script');\n",
       "    tag.src = uri;\n",
       "    tag.async = true;\n",
       "    tag.onload = () => {\n",
       "      resolve();\n",
       "    };\n",
       "  var firstScriptTag = document.getElementsByTagName('script')[0];\n",
       "  firstScriptTag.parentNode.insertBefore(tag, firstScriptTag);\n",
       "});\n",
       "};\n",
       "\n",
       "if(typeof $3Dmolpromise === 'undefined') {\n",
       "$3Dmolpromise = null;\n",
       "  $3Dmolpromise = loadScriptAsync('https://3dmol.org/build/3Dmol.js');\n",
       "}\n",
       "\n",
       "var viewer_16571240638663852 = null;\n",
       "var warn = document.getElementById(\"3dmolwarning_16571240638663852\");\n",
       "if(warn) {\n",
       "    warn.parentNode.removeChild(warn);\n",
       "}\n",
       "$3Dmolpromise.then(function() {\n",
       "viewer_16571240638663852 = $3Dmol.createViewer($(\"#3dmolviewer_16571240638663852\"),{backgroundColor:\"white\"});\n",
       "viewer_16571240638663852.addModel(\"\\n     RDKit          3D\\n\\n117117  0  0  0  0  0  0  0  0999 V2000\\n    1.3321   -1.1599    0.0080 C   0  0  0  0  0  0  0  0  0  0  0  0\\n    2.0286    0.0346    0.0080 C   0  0  0  0  0  0  0  0  0  0  0  0\\n    1.2938    1.2010    0.0080 C   0  0  0  0  0  0  0  0  0  0  0  0\\n   -0.0763    1.2422    0.0080 C   0  0  0  0  0  0  0  0  0  0  0  0\\n   -0.7560    0.0325    0.0080 C   0  0  0  0  0  0  0  0  0  0  0  0\\n   -0.0535   -1.1730    0.0080 C   0  0  0  0  0  0  0  0  0  0  0  0\\n    1.9098   -2.0847    0.0080 H   0  0  0  0  0  0  0  0  0  0  0  0\\n    1.8261    2.1578    0.0080 H   0  0  0  0  0  0  0  0  0  0  0  0\\n   -1.8561    0.0435    0.0080 H   0  0  0  0  0  0  0  0  0  0  0  0\\n    7.1993    1.3253   -0.6966 C   0  0  0  0  0  0  0  0  0  0  0  0\\n    6.9132    0.0445   -1.2454 O   0  0  0  0  0  0  0  0  0  0  0  0\\n    7.1818   -0.8406   -0.2341 C   0  0  0  0  0  0  0  0  0  0  0  0\\n    6.4183   -0.6947    0.8466 O   0  0  0  0  0  0  0  0  0  0  0  0\\n    5.0979   -0.8830    0.8454 C   0  0  0  0  0  0  0  0  0  0  0  0\\n    4.1511   -0.1801    0.0047 C   0  0  0  0  0  3  0  0  0  0  0  0\\n    6.9779    2.0523   -1.4969 H   0  0  0  0  0  0  0  0  0  0  0  0\\n    8.2747    1.3341   -0.4286 H   0  0  0  0  0  0  0  0  0  0  0  0\\n    6.6348    1.5345    0.2025 H   0  0  0  0  0  0  0  0  0  0  0  0\\n    8.2566   -0.6370    0.0766 H   0  0  0  0  0  0  0  0  0  0  0  0\\n    7.2246   -1.8958   -0.6400 H   0  0  0  0  0  0  0  0  0  0  0  0\\n    4.7352   -0.6606    1.9244 H   0  0  0  0  0  0  0  0  0  0  0  0\\n    4.9099   -2.0158    0.7160 H   0  0  0  0  0  0  0  0  0  0  0  0\\n    3.0758   -0.4616    0.1810 H   0  0  0  0  0  0  0  0  0  0  0  0\\n   -3.5551    5.1886   -1.4729 C   0  0  0  0  0  0  0  0  0  0  0  0\\n   -2.9951    5.4136   -0.1848 O   0  0  0  0  0  0  0  0  0  0  0  0\\n   -3.8565    4.7996    0.6865 C   0  0  0  0  0  0  0  0  0  0  0  0\\n   -3.9605    3.4822    0.5259 O   0  0  0  0  0  0  0  0  0  0  0  0\\n   -2.9470    2.6358    0.7143 C   0  0  0  0  0  0  0  0  0  0  0  0\\n   -1.6754    2.6828    0.0228 C   0  0  0  0  0  3  0  0  0  0  0  0\\n   -2.8664    5.6692   -2.1890 H   0  0  0  0  0  0  0  0  0  0  0  0\\n   -4.5527    5.6713   -1.4854 H   0  0  0  0  0  0  0  0  0  0  0  0\\n   -3.6951    4.1388   -1.6943 H   0  0  0  0  0  0  0  0  0  0  0  0\\n   -4.8793    5.2511    0.4787 H   0  0  0  0  0  0  0  0  0  0  0  0\\n   -3.6387    5.1278    1.7471 H   0  0  0  0  0  0  0  0  0  0  0  0\\n   -3.3571    1.5771    0.4772 H   0  0  0  0  0  0  0  0  0  0  0  0\\n   -2.7296    2.6031    1.8487 H   0  0  0  0  0  0  0  0  0  0  0  0\\n   -0.9646    1.8561    0.3019 H   0  0  0  0  0  0  0  0  0  0  0  0\\n   -3.0828   -5.7510   -0.2220 C   0  0  0  0  0  0  0  0  0  0  0  0\\n   -3.5400   -4.7555   -1.1294 O   0  0  0  0  0  0  0  0  0  0  0  0\\n   -4.4809   -4.0460   -0.4298 C   0  0  0  0  0  0  0  0  0  0  0  0\\n   -4.0126   -3.4154    0.6449 O   0  0  0  0  0  0  0  0  0  0  0  0\\n   -3.1130   -2.4323    0.5873 C   0  0  0  0  0  0  0  0  0  0  0  0\\n   -1.7950   -2.5349   -0.0040 C   0  0  0  0  0  3  0  0  0  0  0  0\\n   -2.3151   -6.3264   -0.7678 H   0  0  0  0  0  0  0  0  0  0  0  0\\n   -3.9550   -6.3843    0.0363 H   0  0  0  0  0  0  0  0  0  0  0  0\\n   -2.6938   -5.3360    0.6984 H   0  0  0  0  0  0  0  0  0  0  0  0\\n   -5.2419   -4.8117   -0.0724 H   0  0  0  0  0  0  0  0  0  0  0  0\\n   -5.0804   -3.3934   -1.1333 H   0  0  0  0  0  0  0  0  0  0  0  0\\n   -2.9055   -2.1148    1.6834 H   0  0  0  0  0  0  0  0  0  0  0  0\\n   -3.6357   -1.5115    0.1245 H   0  0  0  0  0  0  0  0  0  0  0  0\\n   -1.1748   -1.5996    0.0798 H   0  0  0  0  0  0  0  0  0  0  0  0\\n    2.1853   -1.2393    5.0113 C   0  0  0  0  0  0  0  0  0  0  0  0\\n    2.8817   -0.0448    5.0113 C   0  0  0  0  0  0  0  0  0  0  0  0\\n    2.1469    1.1216    5.0114 C   0  0  0  0  0  0  0  0  0  0  0  0\\n    0.7768    1.1628    5.0113 C   0  0  0  0  0  0  0  0  0  0  0  0\\n    0.0972   -0.0469    5.0113 C   0  0  0  0  0  0  0  0  0  0  0  0\\n    0.7997   -1.2524    5.0113 C   0  0  0  0  0  0  0  0  0  0  0  0\\n    2.7629   -2.1641    5.0114 H   0  0  0  0  0  0  0  0  0  0  0  0\\n    2.6792    2.0784    5.0114 H   0  0  0  0  0  0  0  0  0  0  0  0\\n   -1.0029   -0.0359    5.0113 H   0  0  0  0  0  0  0  0  0  0  0  0\\n   18.2637   -0.3619    5.9248 C   0  0  0  0  0  0  0  0  0  0  0  0\\n   16.8331   -0.3296    5.8249 N   0  0  0  0  0  2  0  0  0  0  0  0\\n   18.5701    0.5043    6.5674 H   0  0  0  0  0  0  0  0  0  0  0  0\\n   18.7591   -0.2294    4.9337 H   0  0  0  0  0  0  0  0  0  0  0  0\\n   18.6321   -1.3223    6.3656 H   0  0  0  0  0  0  0  0  0  0  0  0\\n   10.0909   -0.2408    5.3437 N   0  0  0  0  0  2  0  0  0  0  0  0\\n   11.3013   -0.0160    4.5629 C   0  0  0  0  0  0  0  0  0  0  0  0\\n   12.4563   -0.2719    5.5125 C   0  0  0  0  0  0  0  0  0  0  0  0\\n   11.2681    1.0290    4.2034 H   0  0  0  0  0  0  0  0  0  0  0  0\\n   11.3465   -0.6792    3.6986 H   0  0  0  0  0  0  0  0  0  0  0  0\\n   12.3903    0.3506    6.4220 H   0  0  0  0  0  0  0  0  0  0  0  0\\n   13.4340   -0.1561    5.0275 H   0  0  0  0  0  0  0  0  0  0  0  0\\n    4.5314   -0.1675    4.9469 N   0  0  0  0  0  2  0  0  0  0  0  0\\n    5.7417    0.0573    4.1661 C   0  0  0  0  0  0  0  0  0  0  0  0\\n    6.8968   -0.1987    5.1157 C   0  0  0  0  0  0  0  0  0  0  0  0\\n    5.7086    1.1022    3.8066 H   0  0  0  0  0  0  0  0  0  0  0  0\\n    5.7870   -0.6059    3.3018 H   0  0  0  0  0  0  0  0  0  0  0  0\\n    6.8308    0.4238    6.0252 H   0  0  0  0  0  0  0  0  0  0  0  0\\n    7.8745   -0.0828    4.6306 H   0  0  0  0  0  0  0  0  0  0  0  0\\n  -11.0891   10.5942    4.0433 C   0  0  0  0  0  0  0  0  0  0  0  0\\n   -9.9920    9.6762    4.1482 N   0  0  0  0  0  2  0  0  0  0  0  0\\n  -10.6647   11.5821    3.7254 H   0  0  0  0  0  0  0  0  0  0  0  0\\n  -11.6009   10.7540    5.0219 H   0  0  0  0  0  0  0  0  0  0  0  0\\n  -11.8581   10.2470    3.3080 H   0  0  0  0  0  0  0  0  0  0  0  0\\n   -4.8613    5.3013    4.6315 N   0  0  0  0  0  2  0  0  0  0  0  0\\n   -5.8218    6.0394    5.4426 C   0  0  0  0  0  0  0  0  0  0  0  0\\n   -6.6613    6.8361    4.4620 C   0  0  0  0  0  0  0  0  0  0  0  0\\n   -5.2420    6.6833    6.1294 H   0  0  0  0  0  0  0  0  0  0  0  0\\n   -6.4410    5.3670    6.0370 H   0  0  0  0  0  0  0  0  0  0  0  0\\n   -6.0411    7.4773    3.8114 H   0  0  0  0  0  0  0  0  0  0  0  0\\n   -7.4458    7.4220    4.9579 H   0  0  0  0  0  0  0  0  0  0  0  0\\n   -0.6307    1.6938    5.0301 N   0  0  0  0  0  2  0  0  0  0  0  0\\n   -1.5911    2.4319    5.8412 C   0  0  0  0  0  0  0  0  0  0  0  0\\n   -2.4307    3.2287    4.8605 C   0  0  0  0  0  0  0  0  0  0  0  0\\n   -1.0114    3.0758    6.5279 H   0  0  0  0  0  0  0  0  0  0  0  0\\n   -2.2104    1.7595    6.4355 H   0  0  0  0  0  0  0  0  0  0  0  0\\n   -1.8104    3.8699    4.2100 H   0  0  0  0  0  0  0  0  0  0  0  0\\n   -3.2152    3.8145    5.3565 H   0  0  0  0  0  0  0  0  0  0  0  0\\n  -11.5845  -10.4709    4.0739 C   0  0  0  0  0  0  0  0  0  0  0  0\\n  -10.4802   -9.5614    4.1785 N   0  0  0  0  0  2  0  0  0  0  0  0\\n  -12.4893   -9.8637    3.8096 H   0  0  0  0  0  0  0  0  0  0  0  0\\n  -11.8018  -10.9840    5.0407 H   0  0  0  0  0  0  0  0  0  0  0  0\\n  -11.4065  -11.2599    3.3004 H   0  0  0  0  0  0  0  0  0  0  0  0\\n   -5.2360   -5.3229    4.6573 N   0  0  0  0  0  2  0  0  0  0  0  0\\n   -6.1084   -6.1665    5.4648 C   0  0  0  0  0  0  0  0  0  0  0  0\\n   -7.0758   -6.8099    4.4893 C   0  0  0  0  0  0  0  0  0  0  0  0\\n   -6.6138   -5.5083    6.1953 H   0  0  0  0  0  0  0  0  0  0  0  0\\n   -5.5398   -6.9195    6.0113 H   0  0  0  0  0  0  0  0  0  0  0  0\\n   -7.6154   -6.0593    3.8855 H   0  0  0  0  0  0  0  0  0  0  0  0\\n   -7.7772   -7.4954    4.9819 H   0  0  0  0  0  0  0  0  0  0  0  0\\n   -0.9116   -1.8279    5.0521 N   0  0  0  0  0  2  0  0  0  0  0  0\\n   -1.7840   -2.6715    5.8596 C   0  0  0  0  0  0  0  0  0  0  0  0\\n   -2.7515   -3.3149    4.8841 C   0  0  0  0  0  0  0  0  0  0  0  0\\n   -2.2894   -2.0133    6.5901 H   0  0  0  0  0  0  0  0  0  0  0  0\\n   -1.2154   -3.4245    6.4061 H   0  0  0  0  0  0  0  0  0  0  0  0\\n   -3.2910   -2.5643    4.2803 H   0  0  0  0  0  0  0  0  0  0  0  0\\n   -3.4528   -4.0004    5.3767 H   0  0  0  0  0  0  0  0  0  0  0  0\\n  1  2  2  0\\n  2  3  1  0\\n  3  4  2  0\\n  4  5  1  0\\n  5  6  2  0\\n  6  1  1  0\\n  1  7  1  0\\n  3  8  1  0\\n  5  9  1  0\\n 10 11  1  0\\n 11 12  1  0\\n 12 13  1  0\\n 13 14  1  0\\n 14 15  1  0\\n 10 16  1  0\\n 10 17  1  0\\n 10 18  1  0\\n 12 19  1  0\\n 12 20  1  0\\n 14 21  1  0\\n 14 22  1  0\\n 15 23  1  0\\n 24 25  1  0\\n 25 26  1  0\\n 26 27  1  0\\n 27 28  1  0\\n 28 29  1  0\\n 24 30  1  0\\n 24 31  1  0\\n 24 32  1  0\\n 26 33  1  0\\n 26 34  1  0\\n 28 35  1  0\\n 28 36  1  0\\n 29 37  1  0\\n 38 39  1  0\\n 39 40  1  0\\n 40 41  1  0\\n 41 42  1  0\\n 42 43  1  0\\n 38 44  1  0\\n 38 45  1  0\\n 38 46  1  0\\n 40 47  1  0\\n 40 48  1  0\\n 42 49  1  0\\n 42 50  1  0\\n 43 51  1  0\\n  2 15  1  0\\n  4 29  1  0\\n  6 43  1  0\\n 52 53  2  0\\n 53 54  1  0\\n 54 55  2  0\\n 55 56  1  0\\n 56 57  2  0\\n 57 52  1  0\\n 52 58  1  0\\n 54 59  1  0\\n 56 60  1  0\\n 61 62  1  0\\n 61 63  1  0\\n 61 64  1  0\\n 61 65  1  0\\n 66 67  1  0\\n 67 68  1  0\\n 67 69  1  0\\n 67 70  1  0\\n 68 71  1  0\\n 68 72  1  0\\n 73 74  1  0\\n 74 75  1  0\\n 74 76  1  0\\n 74 77  1  0\\n 75 78  1  0\\n 75 79  1  0\\n 62 68  1  0\\n 66 75  1  0\\n 80 81  1  0\\n 80 82  1  0\\n 80 83  1  0\\n 80 84  1  0\\n 85 86  1  0\\n 86 87  1  0\\n 86 88  1  0\\n 86 89  1  0\\n 87 90  1  0\\n 87 91  1  0\\n 92 93  1  0\\n 93 94  1  0\\n 93 95  1  0\\n 93 96  1  0\\n 94 97  1  0\\n 94 98  1  0\\n 81 87  1  0\\n 85 94  1  0\\n 99100  1  0\\n 99101  1  0\\n 99102  1  0\\n 99103  1  0\\n104105  1  0\\n105106  1  0\\n105107  1  0\\n105108  1  0\\n106109  1  0\\n106110  1  0\\n111112  1  0\\n112113  1  0\\n112114  1  0\\n112115  1  0\\n113116  1  0\\n113117  1  0\\n100106  1  0\\n104113  1  0\\n 53 73  1  0\\n 55 92  1  0\\n 57111  1  0\\nM  END\\n\");\n",
       "viewer_16571240638663852.setStyle({\"stick\": {\"colorscheme\": \"cyanCarbon\"}});\n",
       "viewer_16571240638663852.zoomTo();\n",
       "\tviewer_16571240638663852.setBackgroundColor(\"#000000\");\n",
       "\tviewer_16571240638663852.zoomTo();\n",
       "viewer_16571240638663852.render();\n",
       "});\n",
       "</script>"
      ]
     },
     "metadata": {},
     "output_type": "display_data"
    }
   ],
   "source": [
    "host = stk.BuildingBlock.init_from_molecule(cores[2])\n",
    "\n",
    "guests = (\n",
    "    stk.host_guest.Guest(\n",
    "        building_block=stk.BuildingBlock.init_from_molecule(cores[1]),\n",
    "        displacement=(0, 0, 5),\n",
    "    ),\n",
    ")\n",
    "\n",
    "polymer = stk.ConstructedMolecule(\n",
    "    topology_graph=stk.host_guest.Complex(\n",
    "        host=host,\n",
    "        guests=guests,\n",
    "    ),\n",
    ")\n",
    "show_stk_mol(polymer)"
   ]
  },
  {
   "cell_type": "code",
   "execution_count": 21,
   "id": "801d3fff-a7e4-4a83-ba64-d82eb5febd70",
   "metadata": {},
   "outputs": [
    {
     "data": {
      "application/3dmoljs_load.v0": "<div id=\"3dmolviewer_16571240643953974\"  style=\"position: relative; width: 400px; height: 400px\">\n        <p id=\"3dmolwarning_16571240643953974\" style=\"background-color:#ffcccc;color:black\">You appear to be running in JupyterLab (or JavaScript failed to load for some other reason).  You need to install the 3dmol extension: <br>\n        <tt>jupyter labextension install jupyterlab_3dmol</tt></p>\n        </div>\n<script>\n\nvar loadScriptAsync = function(uri){\n  return new Promise((resolve, reject) => {\n    var tag = document.createElement('script');\n    tag.src = uri;\n    tag.async = true;\n    tag.onload = () => {\n      resolve();\n    };\n  var firstScriptTag = document.getElementsByTagName('script')[0];\n  firstScriptTag.parentNode.insertBefore(tag, firstScriptTag);\n});\n};\n\nif(typeof $3Dmolpromise === 'undefined') {\n$3Dmolpromise = null;\n  $3Dmolpromise = loadScriptAsync('https://3dmol.org/build/3Dmol.js');\n}\n\nvar viewer_16571240643953974 = null;\nvar warn = document.getElementById(\"3dmolwarning_16571240643953974\");\nif(warn) {\n    warn.parentNode.removeChild(warn);\n}\n$3Dmolpromise.then(function() {\nviewer_16571240643953974 = $3Dmol.createViewer($(\"#3dmolviewer_16571240643953974\"),{backgroundColor:\"white\"});\nviewer_16571240643953974.addModel(\"\\n     RDKit          3D\\n\\n156156  0  0  0  0  0  0  0  0999 V2000\\n    1.3321   -1.1599    0.0080 C   0  0  0  0  0  0  0  0  0  0  0  0\\n    2.0286    0.0346    0.0080 C   0  0  0  0  0  0  0  0  0  0  0  0\\n    1.2938    1.2010    0.0080 C   0  0  0  0  0  0  0  0  0  0  0  0\\n   -0.0763    1.2422    0.0080 C   0  0  0  0  0  0  0  0  0  0  0  0\\n   -0.7560    0.0325    0.0080 C   0  0  0  0  0  0  0  0  0  0  0  0\\n   -0.0535   -1.1730    0.0080 C   0  0  0  0  0  0  0  0  0  0  0  0\\n    1.9098   -2.0847    0.0080 H   0  0  0  0  0  0  0  0  0  0  0  0\\n    1.8261    2.1578    0.0080 H   0  0  0  0  0  0  0  0  0  0  0  0\\n   -1.8561    0.0435    0.0080 H   0  0  0  0  0  0  0  0  0  0  0  0\\n    7.1993    1.3253   -0.6966 C   0  0  0  0  0  0  0  0  0  0  0  0\\n    6.9132    0.0445   -1.2454 O   0  0  0  0  0  0  0  0  0  0  0  0\\n    7.1818   -0.8406   -0.2341 C   0  0  0  0  0  0  0  0  0  0  0  0\\n    6.4183   -0.6947    0.8466 O   0  0  0  0  0  0  0  0  0  0  0  0\\n    5.0979   -0.8830    0.8454 C   0  0  0  0  0  0  0  0  0  0  0  0\\n    4.1511   -0.1801    0.0047 C   0  0  0  0  0  3  0  0  0  0  0  0\\n    6.9779    2.0523   -1.4969 H   0  0  0  0  0  0  0  0  0  0  0  0\\n    8.2747    1.3341   -0.4286 H   0  0  0  0  0  0  0  0  0  0  0  0\\n    6.6348    1.5345    0.2025 H   0  0  0  0  0  0  0  0  0  0  0  0\\n    8.2566   -0.6370    0.0766 H   0  0  0  0  0  0  0  0  0  0  0  0\\n    7.2246   -1.8958   -0.6400 H   0  0  0  0  0  0  0  0  0  0  0  0\\n    4.7352   -0.6606    1.9244 H   0  0  0  0  0  0  0  0  0  0  0  0\\n    4.9099   -2.0158    0.7160 H   0  0  0  0  0  0  0  0  0  0  0  0\\n    3.0758   -0.4616    0.1810 H   0  0  0  0  0  0  0  0  0  0  0  0\\n   -3.5551    5.1886   -1.4729 C   0  0  0  0  0  0  0  0  0  0  0  0\\n   -2.9951    5.4136   -0.1848 O   0  0  0  0  0  0  0  0  0  0  0  0\\n   -3.8565    4.7996    0.6865 C   0  0  0  0  0  0  0  0  0  0  0  0\\n   -3.9605    3.4822    0.5259 O   0  0  0  0  0  0  0  0  0  0  0  0\\n   -2.9470    2.6358    0.7143 C   0  0  0  0  0  0  0  0  0  0  0  0\\n   -1.6754    2.6828    0.0228 C   0  0  0  0  0  3  0  0  0  0  0  0\\n   -2.8664    5.6692   -2.1890 H   0  0  0  0  0  0  0  0  0  0  0  0\\n   -4.5527    5.6713   -1.4854 H   0  0  0  0  0  0  0  0  0  0  0  0\\n   -3.6951    4.1388   -1.6943 H   0  0  0  0  0  0  0  0  0  0  0  0\\n   -4.8793    5.2511    0.4787 H   0  0  0  0  0  0  0  0  0  0  0  0\\n   -3.6387    5.1278    1.7471 H   0  0  0  0  0  0  0  0  0  0  0  0\\n   -3.3571    1.5771    0.4772 H   0  0  0  0  0  0  0  0  0  0  0  0\\n   -2.7296    2.6031    1.8487 H   0  0  0  0  0  0  0  0  0  0  0  0\\n   -0.9646    1.8561    0.3019 H   0  0  0  0  0  0  0  0  0  0  0  0\\n   -3.0828   -5.7510   -0.2220 C   0  0  0  0  0  0  0  0  0  0  0  0\\n   -3.5400   -4.7555   -1.1294 O   0  0  0  0  0  0  0  0  0  0  0  0\\n   -4.4809   -4.0460   -0.4298 C   0  0  0  0  0  0  0  0  0  0  0  0\\n   -4.0126   -3.4154    0.6449 O   0  0  0  0  0  0  0  0  0  0  0  0\\n   -3.1130   -2.4323    0.5873 C   0  0  0  0  0  0  0  0  0  0  0  0\\n   -1.7950   -2.5349   -0.0040 C   0  0  0  0  0  3  0  0  0  0  0  0\\n   -2.3151   -6.3264   -0.7678 H   0  0  0  0  0  0  0  0  0  0  0  0\\n   -3.9550   -6.3843    0.0363 H   0  0  0  0  0  0  0  0  0  0  0  0\\n   -2.6938   -5.3360    0.6984 H   0  0  0  0  0  0  0  0  0  0  0  0\\n   -5.2419   -4.8117   -0.0724 H   0  0  0  0  0  0  0  0  0  0  0  0\\n   -5.0804   -3.3934   -1.1333 H   0  0  0  0  0  0  0  0  0  0  0  0\\n   -2.9055   -2.1148    1.6834 H   0  0  0  0  0  0  0  0  0  0  0  0\\n   -3.6357   -1.5115    0.1245 H   0  0  0  0  0  0  0  0  0  0  0  0\\n   -1.1748   -1.5996    0.0798 H   0  0  0  0  0  0  0  0  0  0  0  0\\n    0.9561   -1.3355    5.0319 C   0  0  0  0  0  0  0  0  0  0  0  0\\n    1.6526   -0.1410    5.0319 C   0  0  0  0  0  0  0  0  0  0  0  0\\n    0.9178    1.0254    5.0319 C   0  0  0  0  0  0  0  0  0  0  0  0\\n   -0.4523    1.0666    5.0319 C   0  0  0  0  0  0  0  0  0  0  0  0\\n   -1.1320   -0.1430    5.0319 C   0  0  0  0  0  0  0  0  0  0  0  0\\n   -0.4295   -1.3486    5.0319 C   0  0  0  0  0  0  0  0  0  0  0  0\\n    1.5338   -2.2603    5.0319 H   0  0  0  0  0  0  0  0  0  0  0  0\\n    1.4501    1.9822    5.0319 H   0  0  0  0  0  0  0  0  0  0  0  0\\n   -2.2321   -0.1320    5.0319 H   0  0  0  0  0  0  0  0  0  0  0  0\\n    5.0135   -2.0477    4.7717 Fe  0  0  0  0  0  1  0  0  0  0  0  0\\n    5.2915   -0.3398    5.1190 C   0  0  0  0  0  2  0  0  0  0  0  0\\n    4.4110    0.7354    4.7968 N   0  0  0  0  0  2  0  0  0  0  0  0\\n    3.0770    0.4971    5.1450 C   0  0  0  0  0  2  0  0  0  0  0  0\\n   -1.4565    5.2135    4.8209 Fe  0  0  0  0  0  1  0  0  0  0  0  0\\n   -2.7707    4.0708    5.1070 C   0  0  0  0  0  2  0  0  0  0  0  0\\n   -2.7748    2.6905    4.7466 N   0  0  0  0  0  2  0  0  0  0  0  0\\n   -1.6055    2.0099    5.1032 C   0  0  0  0  0  2  0  0  0  0  0  0\\n   -4.4259   -1.8926    4.8948 Fe  0  0  0  0  0  1  0  0  0  0  0  0\\n   -3.5397   -3.3904    5.1880 C   0  0  0  0  0  2  0  0  0  0  0  0\\n   -2.1818   -3.6445    4.8321 N   0  0  0  0  0  2  0  0  0  0  0  0\\n   -1.3025   -2.6160    5.1877 C   0  0  0  0  0  2  0  0  0  0  0  0\\n    2.1007   -0.0140   10.0056 C   0  0  0  0  0  0  0  0  0  0  0  0\\n    1.4605    1.1575   10.0056 N   0  0  0  0  0  0  0  0  0  0  0  0\\n    0.1246    1.1573   10.0056 C   0  0  0  0  0  0  0  0  0  0  0  0\\n   -0.5564   -0.0002   10.0056 N   0  0  0  0  0  0  0  0  0  0  0  0\\n    0.0744   -1.1854   10.0056 C   0  0  0  0  0  0  0  0  0  0  0  0\\n    1.4178   -1.1664   10.0056 N   0  0  0  0  0  0  0  0  0  0  0  0\\n    7.2928    1.4299    9.3035 C   0  0  0  0  0  0  0  0  0  0  0  0\\n    7.0067    0.1491    8.7547 O   0  0  0  0  0  0  0  0  0  0  0  0\\n    7.2754   -0.7359    9.7660 C   0  0  0  0  0  0  0  0  0  0  0  0\\n    6.5119   -0.5900   10.8467 O   0  0  0  0  0  0  0  0  0  0  0  0\\n    5.1914   -0.7784   10.8455 C   0  0  0  0  0  0  0  0  0  0  0  0\\n    4.2446   -0.0754   10.0048 C   0  0  0  0  0  3  0  0  0  0  0  0\\n    7.0715    2.1570    8.5032 H   0  0  0  0  0  0  0  0  0  0  0  0\\n    8.3682    1.4388    9.5716 H   0  0  0  0  0  0  0  0  0  0  0  0\\n    6.7284    1.6391   10.2026 H   0  0  0  0  0  0  0  0  0  0  0  0\\n    8.3501   -0.5324   10.0767 H   0  0  0  0  0  0  0  0  0  0  0  0\\n    7.3182   -1.7911    9.3601 H   0  0  0  0  0  0  0  0  0  0  0  0\\n    4.8288   -0.5559   11.9245 H   0  0  0  0  0  0  0  0  0  0  0  0\\n    5.0035   -1.9112   10.7161 H   0  0  0  0  0  0  0  0  0  0  0  0\\n    3.1694   -0.3570   10.1811 H   0  0  0  0  0  0  0  0  0  0  0  0\\n   -3.4823    4.7538    8.5286 C   0  0  0  0  0  0  0  0  0  0  0  0\\n   -2.9224    4.9788    9.8167 O   0  0  0  0  0  0  0  0  0  0  0  0\\n   -3.7838    4.3648   10.6880 C   0  0  0  0  0  0  0  0  0  0  0  0\\n   -3.8877    3.0474   10.5274 O   0  0  0  0  0  0  0  0  0  0  0  0\\n   -2.8742    2.2011   10.7158 C   0  0  0  0  0  0  0  0  0  0  0  0\\n   -1.6026    2.2480   10.0243 C   0  0  0  0  0  3  0  0  0  0  0  0\\n   -2.7936    5.2344    7.8125 H   0  0  0  0  0  0  0  0  0  0  0  0\\n   -4.4800    5.2365    8.5161 H   0  0  0  0  0  0  0  0  0  0  0  0\\n   -3.6224    3.7040    8.3072 H   0  0  0  0  0  0  0  0  0  0  0  0\\n   -4.8065    4.8163   10.4802 H   0  0  0  0  0  0  0  0  0  0  0  0\\n   -3.5660    4.6930   11.7486 H   0  0  0  0  0  0  0  0  0  0  0  0\\n   -3.2844    1.1423   10.4787 H   0  0  0  0  0  0  0  0  0  0  0  0\\n   -2.6568    2.1683   11.8502 H   0  0  0  0  0  0  0  0  0  0  0  0\\n   -0.8919    1.4213   10.3034 H   0  0  0  0  0  0  0  0  0  0  0  0\\n   -3.1757   -5.3962    9.7791 C   0  0  0  0  0  0  0  0  0  0  0  0\\n   -3.6329   -4.4007    8.8717 O   0  0  0  0  0  0  0  0  0  0  0  0\\n   -4.5739   -3.6912    9.5713 C   0  0  0  0  0  0  0  0  0  0  0  0\\n   -4.1055   -3.0606   10.6460 O   0  0  0  0  0  0  0  0  0  0  0  0\\n   -3.2060   -2.0775   10.5884 C   0  0  0  0  0  0  0  0  0  0  0  0\\n   -1.8880   -2.1801    9.9971 C   0  0  0  0  0  3  0  0  0  0  0  0\\n   -2.4081   -5.9716    9.2334 H   0  0  0  0  0  0  0  0  0  0  0  0\\n   -4.0479   -6.0295   10.0374 H   0  0  0  0  0  0  0  0  0  0  0  0\\n   -2.7868   -4.9812   10.6995 H   0  0  0  0  0  0  0  0  0  0  0  0\\n   -5.3348   -4.4569    9.9287 H   0  0  0  0  0  0  0  0  0  0  0  0\\n   -5.1734   -3.0386    8.8679 H   0  0  0  0  0  0  0  0  0  0  0  0\\n   -2.9985   -1.7600   11.6845 H   0  0  0  0  0  0  0  0  0  0  0  0\\n   -3.7286   -1.1567   10.1256 H   0  0  0  0  0  0  0  0  0  0  0  0\\n   -1.2677   -1.2448   10.0809 H   0  0  0  0  0  0  0  0  0  0  0  0\\n    0.9835   -1.3074   15.0311 C   0  0  0  0  0  0  0  0  0  0  0  0\\n    1.6799   -0.1129   15.0311 C   0  0  0  0  0  0  0  0  0  0  0  0\\n    0.9452    1.0535   15.0311 C   0  0  0  0  0  0  0  0  0  0  0  0\\n   -0.4249    1.0946   15.0311 C   0  0  0  0  0  0  0  0  0  0  0  0\\n   -1.1046   -0.1150   15.0311 C   0  0  0  0  0  0  0  0  0  0  0  0\\n   -0.4021   -1.3205   15.0311 C   0  0  0  0  0  0  0  0  0  0  0  0\\n    1.5612   -2.2323   15.0311 H   0  0  0  0  0  0  0  0  0  0  0  0\\n    1.4775    2.0103   15.0311 H   0  0  0  0  0  0  0  0  0  0  0  0\\n   -2.2047   -0.1040   15.0311 H   0  0  0  0  0  0  0  0  0  0  0  0\\n    5.2843   -2.2956   14.8296 Fe  0  0  0  0  0  1  0  0  0  0  0  0\\n    5.6601   -0.3797   15.0968 C   0  0  0  0  0  2  0  0  0  0  0  0\\n    4.5963    0.5602   14.8163 C   0  0  0  0  0  2  0  0  0  0  0  0\\n    3.1953    0.3659   15.0788 C   0  0  0  0  0  2  0  0  0  0  0  0\\n   -1.5853    5.3449   14.8535 Fe  0  0  0  0  0  1  0  0  0  0  0  0\\n   -3.1003    4.1138   15.1220 C   0  0  0  0  0  2  0  0  0  0  0  0\\n   -2.8850    2.7106   14.8422 C   0  0  0  0  0  2  0  0  0  0  0  0\\n   -1.6843    1.9631   15.1045 C   0  0  0  0  0  2  0  0  0  0  0  0\\n   -4.6488   -1.7942   14.8672 Fe  0  0  0  0  0  1  0  0  0  0  0  0\\n   -3.7110   -3.5064   15.1356 C   0  0  0  0  0  2  0  0  0  0  0  0\\n   -2.2920   -3.5476   14.8557 C   0  0  0  0  0  2  0  0  0  0  0  0\\n   -1.3402   -2.5014   15.1180 C   0  0  0  0  0  2  0  0  0  0  0  0\\n    1.6036    0.0419   19.9954 C   0  0  0  0  0  0  0  0  0  0  0  0\\n    0.9634    1.2134   19.9954 N   0  0  0  0  0  0  0  0  0  0  0  0\\n   -0.3725    1.2132   19.9954 C   0  0  0  0  0  0  0  0  0  0  0  0\\n   -1.0535    0.0557   19.9954 N   0  0  0  0  0  0  0  0  0  0  0  0\\n   -0.4227   -1.1295   19.9954 C   0  0  0  0  0  0  0  0  0  0  0  0\\n    0.9207   -1.1105   19.9954 N   0  0  0  0  0  0  0  0  0  0  0  0\\n    5.5661   -0.6864   20.2409 Fe  0  0  0  0  0  1  0  0  0  0  0  0\\n    4.3212    0.2314   20.5973 N   0  0  0  0  0  2  0  0  0  0  0  0\\n    3.1380    0.2138   19.7773 C   0  0  0  0  0  2  0  0  0  0  0  0\\n   -3.7411    3.2004   20.0472 Fe  0  0  0  0  0  1  0  0  0  0  0  0\\n   -2.2971    2.9885   19.4233 N   0  0  0  0  0  2  0  0  0  0  0  0\\n   -1.2358    2.4139   20.2081 C   0  0  0  0  0  2  0  0  0  0  0  0\\n   -3.0158   -4.1316   19.9411 Fe  0  0  0  0  0  1  0  0  0  0  0  0\\n   -2.6189   -2.6632   19.4877 N   0  0  0  0  0  2  0  0  0  0  0  0\\n   -1.7555   -1.8512   20.3047 C   0  0  0  0  0  2  0  0  0  0  0  0\\n  1  2  2  0\\n  2  3  1  0\\n  3  4  2  0\\n  4  5  1  0\\n  5  6  2  0\\n  6  1  1  0\\n  1  7  1  0\\n  3  8  1  0\\n  5  9  1  0\\n 10 11  1  0\\n 11 12  1  0\\n 12 13  1  0\\n 13 14  1  0\\n 14 15  1  0\\n 10 16  1  0\\n 10 17  1  0\\n 10 18  1  0\\n 12 19  1  0\\n 12 20  1  0\\n 14 21  1  0\\n 14 22  1  0\\n 15 23  1  0\\n 24 25  1  0\\n 25 26  1  0\\n 26 27  1  0\\n 27 28  1  0\\n 28 29  1  0\\n 24 30  1  0\\n 24 31  1  0\\n 24 32  1  0\\n 26 33  1  0\\n 26 34  1  0\\n 28 35  1  0\\n 28 36  1  0\\n 29 37  1  0\\n 38 39  1  0\\n 39 40  1  0\\n 40 41  1  0\\n 41 42  1  0\\n 42 43  1  0\\n 38 44  1  0\\n 38 45  1  0\\n 38 46  1  0\\n 40 47  1  0\\n 40 48  1  0\\n 42 49  1  0\\n 42 50  1  0\\n 43 51  1  0\\n  2 15  1  0\\n  4 29  1  0\\n  6 43  1  0\\n 52 53  2  0\\n 53 54  1  0\\n 54 55  2  0\\n 55 56  1  0\\n 56 57  2  0\\n 57 52  1  0\\n 52 58  1  0\\n 54 59  1  0\\n 56 60  1  0\\n 61 62  1  0\\n 62 63  1  0\\n 63 64  1  0\\n 65 66  1  0\\n 66 67  1  0\\n 67 68  1  0\\n 69 70  1  0\\n 70 71  1  0\\n 71 72  1  0\\n 53 64  1  0\\n 55 68  1  0\\n 57 72  1  0\\n 73 74  2  0\\n 74 75  1  0\\n 75 76  2  0\\n 76 77  1  0\\n 77 78  2  0\\n 78 73  1  0\\n 79 80  1  0\\n 80 81  1  0\\n 81 82  1  0\\n 82 83  1  0\\n 83 84  1  0\\n 79 85  1  0\\n 79 86  1  0\\n 79 87  1  0\\n 81 88  1  0\\n 81 89  1  0\\n 83 90  1  0\\n 83 91  1  0\\n 84 92  1  0\\n 93 94  1  0\\n 94 95  1  0\\n 95 96  1  0\\n 96 97  1  0\\n 97 98  1  0\\n 93 99  1  0\\n 93100  1  0\\n 93101  1  0\\n 95102  1  0\\n 95103  1  0\\n 97104  1  0\\n 97105  1  0\\n 98106  1  0\\n107108  1  0\\n108109  1  0\\n109110  1  0\\n110111  1  0\\n111112  1  0\\n107113  1  0\\n107114  1  0\\n107115  1  0\\n109116  1  0\\n109117  1  0\\n111118  1  0\\n111119  1  0\\n112120  1  0\\n 73 84  1  0\\n 75 98  1  0\\n 77112  1  0\\n121122  2  0\\n122123  1  0\\n123124  2  0\\n124125  1  0\\n125126  2  0\\n126121  1  0\\n121127  1  0\\n123128  1  0\\n125129  1  0\\n130131  1  0\\n131132  1  0\\n132133  1  0\\n134135  1  0\\n135136  1  0\\n136137  1  0\\n138139  1  0\\n139140  1  0\\n140141  1  0\\n122133  1  0\\n124137  1  0\\n126141  1  0\\n142143  2  0\\n143144  1  0\\n144145  2  0\\n145146  1  0\\n146147  2  0\\n147142  1  0\\n148149  1  0\\n149150  1  0\\n151152  1  0\\n152153  1  0\\n154155  1  0\\n155156  1  0\\n142150  1  0\\n144153  1  0\\n146156  1  0\\nM  CHG  8  61   1  62   1  63   1  64   1  65   1  66   1  67   1  68   1\\nM  CHG  8  69   1  70   1  71   1  72   1 130   1 131   1 132   1 133   1\\nM  CHG  8 134   1 135   1 136   1 137   1 138   1 139   1 140   1 141   1\\nM  CHG  8 148   1 149   1 150   1 151   1 152   1 153   1 154   1 155   1\\nM  CHG  1 156   1\\nM  END\\n\");\nviewer_16571240643953974.setStyle({\"stick\": {\"colorscheme\": \"cyanCarbon\"}});\nviewer_16571240643953974.zoomTo();\n\tviewer_16571240643953974.setBackgroundColor(\"#000000\");\n\tviewer_16571240643953974.zoomTo();\nviewer_16571240643953974.render();\n});\n</script>",
      "text/html": [
       "<div id=\"3dmolviewer_16571240643953974\"  style=\"position: relative; width: 400px; height: 400px\">\n",
       "        <p id=\"3dmolwarning_16571240643953974\" style=\"background-color:#ffcccc;color:black\">You appear to be running in JupyterLab (or JavaScript failed to load for some other reason).  You need to install the 3dmol extension: <br>\n",
       "        <tt>jupyter labextension install jupyterlab_3dmol</tt></p>\n",
       "        </div>\n",
       "<script>\n",
       "\n",
       "var loadScriptAsync = function(uri){\n",
       "  return new Promise((resolve, reject) => {\n",
       "    var tag = document.createElement('script');\n",
       "    tag.src = uri;\n",
       "    tag.async = true;\n",
       "    tag.onload = () => {\n",
       "      resolve();\n",
       "    };\n",
       "  var firstScriptTag = document.getElementsByTagName('script')[0];\n",
       "  firstScriptTag.parentNode.insertBefore(tag, firstScriptTag);\n",
       "});\n",
       "};\n",
       "\n",
       "if(typeof $3Dmolpromise === 'undefined') {\n",
       "$3Dmolpromise = null;\n",
       "  $3Dmolpromise = loadScriptAsync('https://3dmol.org/build/3Dmol.js');\n",
       "}\n",
       "\n",
       "var viewer_16571240643953974 = null;\n",
       "var warn = document.getElementById(\"3dmolwarning_16571240643953974\");\n",
       "if(warn) {\n",
       "    warn.parentNode.removeChild(warn);\n",
       "}\n",
       "$3Dmolpromise.then(function() {\n",
       "viewer_16571240643953974 = $3Dmol.createViewer($(\"#3dmolviewer_16571240643953974\"),{backgroundColor:\"white\"});\n",
       "viewer_16571240643953974.addModel(\"\\n     RDKit          3D\\n\\n156156  0  0  0  0  0  0  0  0999 V2000\\n    1.3321   -1.1599    0.0080 C   0  0  0  0  0  0  0  0  0  0  0  0\\n    2.0286    0.0346    0.0080 C   0  0  0  0  0  0  0  0  0  0  0  0\\n    1.2938    1.2010    0.0080 C   0  0  0  0  0  0  0  0  0  0  0  0\\n   -0.0763    1.2422    0.0080 C   0  0  0  0  0  0  0  0  0  0  0  0\\n   -0.7560    0.0325    0.0080 C   0  0  0  0  0  0  0  0  0  0  0  0\\n   -0.0535   -1.1730    0.0080 C   0  0  0  0  0  0  0  0  0  0  0  0\\n    1.9098   -2.0847    0.0080 H   0  0  0  0  0  0  0  0  0  0  0  0\\n    1.8261    2.1578    0.0080 H   0  0  0  0  0  0  0  0  0  0  0  0\\n   -1.8561    0.0435    0.0080 H   0  0  0  0  0  0  0  0  0  0  0  0\\n    7.1993    1.3253   -0.6966 C   0  0  0  0  0  0  0  0  0  0  0  0\\n    6.9132    0.0445   -1.2454 O   0  0  0  0  0  0  0  0  0  0  0  0\\n    7.1818   -0.8406   -0.2341 C   0  0  0  0  0  0  0  0  0  0  0  0\\n    6.4183   -0.6947    0.8466 O   0  0  0  0  0  0  0  0  0  0  0  0\\n    5.0979   -0.8830    0.8454 C   0  0  0  0  0  0  0  0  0  0  0  0\\n    4.1511   -0.1801    0.0047 C   0  0  0  0  0  3  0  0  0  0  0  0\\n    6.9779    2.0523   -1.4969 H   0  0  0  0  0  0  0  0  0  0  0  0\\n    8.2747    1.3341   -0.4286 H   0  0  0  0  0  0  0  0  0  0  0  0\\n    6.6348    1.5345    0.2025 H   0  0  0  0  0  0  0  0  0  0  0  0\\n    8.2566   -0.6370    0.0766 H   0  0  0  0  0  0  0  0  0  0  0  0\\n    7.2246   -1.8958   -0.6400 H   0  0  0  0  0  0  0  0  0  0  0  0\\n    4.7352   -0.6606    1.9244 H   0  0  0  0  0  0  0  0  0  0  0  0\\n    4.9099   -2.0158    0.7160 H   0  0  0  0  0  0  0  0  0  0  0  0\\n    3.0758   -0.4616    0.1810 H   0  0  0  0  0  0  0  0  0  0  0  0\\n   -3.5551    5.1886   -1.4729 C   0  0  0  0  0  0  0  0  0  0  0  0\\n   -2.9951    5.4136   -0.1848 O   0  0  0  0  0  0  0  0  0  0  0  0\\n   -3.8565    4.7996    0.6865 C   0  0  0  0  0  0  0  0  0  0  0  0\\n   -3.9605    3.4822    0.5259 O   0  0  0  0  0  0  0  0  0  0  0  0\\n   -2.9470    2.6358    0.7143 C   0  0  0  0  0  0  0  0  0  0  0  0\\n   -1.6754    2.6828    0.0228 C   0  0  0  0  0  3  0  0  0  0  0  0\\n   -2.8664    5.6692   -2.1890 H   0  0  0  0  0  0  0  0  0  0  0  0\\n   -4.5527    5.6713   -1.4854 H   0  0  0  0  0  0  0  0  0  0  0  0\\n   -3.6951    4.1388   -1.6943 H   0  0  0  0  0  0  0  0  0  0  0  0\\n   -4.8793    5.2511    0.4787 H   0  0  0  0  0  0  0  0  0  0  0  0\\n   -3.6387    5.1278    1.7471 H   0  0  0  0  0  0  0  0  0  0  0  0\\n   -3.3571    1.5771    0.4772 H   0  0  0  0  0  0  0  0  0  0  0  0\\n   -2.7296    2.6031    1.8487 H   0  0  0  0  0  0  0  0  0  0  0  0\\n   -0.9646    1.8561    0.3019 H   0  0  0  0  0  0  0  0  0  0  0  0\\n   -3.0828   -5.7510   -0.2220 C   0  0  0  0  0  0  0  0  0  0  0  0\\n   -3.5400   -4.7555   -1.1294 O   0  0  0  0  0  0  0  0  0  0  0  0\\n   -4.4809   -4.0460   -0.4298 C   0  0  0  0  0  0  0  0  0  0  0  0\\n   -4.0126   -3.4154    0.6449 O   0  0  0  0  0  0  0  0  0  0  0  0\\n   -3.1130   -2.4323    0.5873 C   0  0  0  0  0  0  0  0  0  0  0  0\\n   -1.7950   -2.5349   -0.0040 C   0  0  0  0  0  3  0  0  0  0  0  0\\n   -2.3151   -6.3264   -0.7678 H   0  0  0  0  0  0  0  0  0  0  0  0\\n   -3.9550   -6.3843    0.0363 H   0  0  0  0  0  0  0  0  0  0  0  0\\n   -2.6938   -5.3360    0.6984 H   0  0  0  0  0  0  0  0  0  0  0  0\\n   -5.2419   -4.8117   -0.0724 H   0  0  0  0  0  0  0  0  0  0  0  0\\n   -5.0804   -3.3934   -1.1333 H   0  0  0  0  0  0  0  0  0  0  0  0\\n   -2.9055   -2.1148    1.6834 H   0  0  0  0  0  0  0  0  0  0  0  0\\n   -3.6357   -1.5115    0.1245 H   0  0  0  0  0  0  0  0  0  0  0  0\\n   -1.1748   -1.5996    0.0798 H   0  0  0  0  0  0  0  0  0  0  0  0\\n    0.9561   -1.3355    5.0319 C   0  0  0  0  0  0  0  0  0  0  0  0\\n    1.6526   -0.1410    5.0319 C   0  0  0  0  0  0  0  0  0  0  0  0\\n    0.9178    1.0254    5.0319 C   0  0  0  0  0  0  0  0  0  0  0  0\\n   -0.4523    1.0666    5.0319 C   0  0  0  0  0  0  0  0  0  0  0  0\\n   -1.1320   -0.1430    5.0319 C   0  0  0  0  0  0  0  0  0  0  0  0\\n   -0.4295   -1.3486    5.0319 C   0  0  0  0  0  0  0  0  0  0  0  0\\n    1.5338   -2.2603    5.0319 H   0  0  0  0  0  0  0  0  0  0  0  0\\n    1.4501    1.9822    5.0319 H   0  0  0  0  0  0  0  0  0  0  0  0\\n   -2.2321   -0.1320    5.0319 H   0  0  0  0  0  0  0  0  0  0  0  0\\n    5.0135   -2.0477    4.7717 Fe  0  0  0  0  0  1  0  0  0  0  0  0\\n    5.2915   -0.3398    5.1190 C   0  0  0  0  0  2  0  0  0  0  0  0\\n    4.4110    0.7354    4.7968 N   0  0  0  0  0  2  0  0  0  0  0  0\\n    3.0770    0.4971    5.1450 C   0  0  0  0  0  2  0  0  0  0  0  0\\n   -1.4565    5.2135    4.8209 Fe  0  0  0  0  0  1  0  0  0  0  0  0\\n   -2.7707    4.0708    5.1070 C   0  0  0  0  0  2  0  0  0  0  0  0\\n   -2.7748    2.6905    4.7466 N   0  0  0  0  0  2  0  0  0  0  0  0\\n   -1.6055    2.0099    5.1032 C   0  0  0  0  0  2  0  0  0  0  0  0\\n   -4.4259   -1.8926    4.8948 Fe  0  0  0  0  0  1  0  0  0  0  0  0\\n   -3.5397   -3.3904    5.1880 C   0  0  0  0  0  2  0  0  0  0  0  0\\n   -2.1818   -3.6445    4.8321 N   0  0  0  0  0  2  0  0  0  0  0  0\\n   -1.3025   -2.6160    5.1877 C   0  0  0  0  0  2  0  0  0  0  0  0\\n    2.1007   -0.0140   10.0056 C   0  0  0  0  0  0  0  0  0  0  0  0\\n    1.4605    1.1575   10.0056 N   0  0  0  0  0  0  0  0  0  0  0  0\\n    0.1246    1.1573   10.0056 C   0  0  0  0  0  0  0  0  0  0  0  0\\n   -0.5564   -0.0002   10.0056 N   0  0  0  0  0  0  0  0  0  0  0  0\\n    0.0744   -1.1854   10.0056 C   0  0  0  0  0  0  0  0  0  0  0  0\\n    1.4178   -1.1664   10.0056 N   0  0  0  0  0  0  0  0  0  0  0  0\\n    7.2928    1.4299    9.3035 C   0  0  0  0  0  0  0  0  0  0  0  0\\n    7.0067    0.1491    8.7547 O   0  0  0  0  0  0  0  0  0  0  0  0\\n    7.2754   -0.7359    9.7660 C   0  0  0  0  0  0  0  0  0  0  0  0\\n    6.5119   -0.5900   10.8467 O   0  0  0  0  0  0  0  0  0  0  0  0\\n    5.1914   -0.7784   10.8455 C   0  0  0  0  0  0  0  0  0  0  0  0\\n    4.2446   -0.0754   10.0048 C   0  0  0  0  0  3  0  0  0  0  0  0\\n    7.0715    2.1570    8.5032 H   0  0  0  0  0  0  0  0  0  0  0  0\\n    8.3682    1.4388    9.5716 H   0  0  0  0  0  0  0  0  0  0  0  0\\n    6.7284    1.6391   10.2026 H   0  0  0  0  0  0  0  0  0  0  0  0\\n    8.3501   -0.5324   10.0767 H   0  0  0  0  0  0  0  0  0  0  0  0\\n    7.3182   -1.7911    9.3601 H   0  0  0  0  0  0  0  0  0  0  0  0\\n    4.8288   -0.5559   11.9245 H   0  0  0  0  0  0  0  0  0  0  0  0\\n    5.0035   -1.9112   10.7161 H   0  0  0  0  0  0  0  0  0  0  0  0\\n    3.1694   -0.3570   10.1811 H   0  0  0  0  0  0  0  0  0  0  0  0\\n   -3.4823    4.7538    8.5286 C   0  0  0  0  0  0  0  0  0  0  0  0\\n   -2.9224    4.9788    9.8167 O   0  0  0  0  0  0  0  0  0  0  0  0\\n   -3.7838    4.3648   10.6880 C   0  0  0  0  0  0  0  0  0  0  0  0\\n   -3.8877    3.0474   10.5274 O   0  0  0  0  0  0  0  0  0  0  0  0\\n   -2.8742    2.2011   10.7158 C   0  0  0  0  0  0  0  0  0  0  0  0\\n   -1.6026    2.2480   10.0243 C   0  0  0  0  0  3  0  0  0  0  0  0\\n   -2.7936    5.2344    7.8125 H   0  0  0  0  0  0  0  0  0  0  0  0\\n   -4.4800    5.2365    8.5161 H   0  0  0  0  0  0  0  0  0  0  0  0\\n   -3.6224    3.7040    8.3072 H   0  0  0  0  0  0  0  0  0  0  0  0\\n   -4.8065    4.8163   10.4802 H   0  0  0  0  0  0  0  0  0  0  0  0\\n   -3.5660    4.6930   11.7486 H   0  0  0  0  0  0  0  0  0  0  0  0\\n   -3.2844    1.1423   10.4787 H   0  0  0  0  0  0  0  0  0  0  0  0\\n   -2.6568    2.1683   11.8502 H   0  0  0  0  0  0  0  0  0  0  0  0\\n   -0.8919    1.4213   10.3034 H   0  0  0  0  0  0  0  0  0  0  0  0\\n   -3.1757   -5.3962    9.7791 C   0  0  0  0  0  0  0  0  0  0  0  0\\n   -3.6329   -4.4007    8.8717 O   0  0  0  0  0  0  0  0  0  0  0  0\\n   -4.5739   -3.6912    9.5713 C   0  0  0  0  0  0  0  0  0  0  0  0\\n   -4.1055   -3.0606   10.6460 O   0  0  0  0  0  0  0  0  0  0  0  0\\n   -3.2060   -2.0775   10.5884 C   0  0  0  0  0  0  0  0  0  0  0  0\\n   -1.8880   -2.1801    9.9971 C   0  0  0  0  0  3  0  0  0  0  0  0\\n   -2.4081   -5.9716    9.2334 H   0  0  0  0  0  0  0  0  0  0  0  0\\n   -4.0479   -6.0295   10.0374 H   0  0  0  0  0  0  0  0  0  0  0  0\\n   -2.7868   -4.9812   10.6995 H   0  0  0  0  0  0  0  0  0  0  0  0\\n   -5.3348   -4.4569    9.9287 H   0  0  0  0  0  0  0  0  0  0  0  0\\n   -5.1734   -3.0386    8.8679 H   0  0  0  0  0  0  0  0  0  0  0  0\\n   -2.9985   -1.7600   11.6845 H   0  0  0  0  0  0  0  0  0  0  0  0\\n   -3.7286   -1.1567   10.1256 H   0  0  0  0  0  0  0  0  0  0  0  0\\n   -1.2677   -1.2448   10.0809 H   0  0  0  0  0  0  0  0  0  0  0  0\\n    0.9835   -1.3074   15.0311 C   0  0  0  0  0  0  0  0  0  0  0  0\\n    1.6799   -0.1129   15.0311 C   0  0  0  0  0  0  0  0  0  0  0  0\\n    0.9452    1.0535   15.0311 C   0  0  0  0  0  0  0  0  0  0  0  0\\n   -0.4249    1.0946   15.0311 C   0  0  0  0  0  0  0  0  0  0  0  0\\n   -1.1046   -0.1150   15.0311 C   0  0  0  0  0  0  0  0  0  0  0  0\\n   -0.4021   -1.3205   15.0311 C   0  0  0  0  0  0  0  0  0  0  0  0\\n    1.5612   -2.2323   15.0311 H   0  0  0  0  0  0  0  0  0  0  0  0\\n    1.4775    2.0103   15.0311 H   0  0  0  0  0  0  0  0  0  0  0  0\\n   -2.2047   -0.1040   15.0311 H   0  0  0  0  0  0  0  0  0  0  0  0\\n    5.2843   -2.2956   14.8296 Fe  0  0  0  0  0  1  0  0  0  0  0  0\\n    5.6601   -0.3797   15.0968 C   0  0  0  0  0  2  0  0  0  0  0  0\\n    4.5963    0.5602   14.8163 C   0  0  0  0  0  2  0  0  0  0  0  0\\n    3.1953    0.3659   15.0788 C   0  0  0  0  0  2  0  0  0  0  0  0\\n   -1.5853    5.3449   14.8535 Fe  0  0  0  0  0  1  0  0  0  0  0  0\\n   -3.1003    4.1138   15.1220 C   0  0  0  0  0  2  0  0  0  0  0  0\\n   -2.8850    2.7106   14.8422 C   0  0  0  0  0  2  0  0  0  0  0  0\\n   -1.6843    1.9631   15.1045 C   0  0  0  0  0  2  0  0  0  0  0  0\\n   -4.6488   -1.7942   14.8672 Fe  0  0  0  0  0  1  0  0  0  0  0  0\\n   -3.7110   -3.5064   15.1356 C   0  0  0  0  0  2  0  0  0  0  0  0\\n   -2.2920   -3.5476   14.8557 C   0  0  0  0  0  2  0  0  0  0  0  0\\n   -1.3402   -2.5014   15.1180 C   0  0  0  0  0  2  0  0  0  0  0  0\\n    1.6036    0.0419   19.9954 C   0  0  0  0  0  0  0  0  0  0  0  0\\n    0.9634    1.2134   19.9954 N   0  0  0  0  0  0  0  0  0  0  0  0\\n   -0.3725    1.2132   19.9954 C   0  0  0  0  0  0  0  0  0  0  0  0\\n   -1.0535    0.0557   19.9954 N   0  0  0  0  0  0  0  0  0  0  0  0\\n   -0.4227   -1.1295   19.9954 C   0  0  0  0  0  0  0  0  0  0  0  0\\n    0.9207   -1.1105   19.9954 N   0  0  0  0  0  0  0  0  0  0  0  0\\n    5.5661   -0.6864   20.2409 Fe  0  0  0  0  0  1  0  0  0  0  0  0\\n    4.3212    0.2314   20.5973 N   0  0  0  0  0  2  0  0  0  0  0  0\\n    3.1380    0.2138   19.7773 C   0  0  0  0  0  2  0  0  0  0  0  0\\n   -3.7411    3.2004   20.0472 Fe  0  0  0  0  0  1  0  0  0  0  0  0\\n   -2.2971    2.9885   19.4233 N   0  0  0  0  0  2  0  0  0  0  0  0\\n   -1.2358    2.4139   20.2081 C   0  0  0  0  0  2  0  0  0  0  0  0\\n   -3.0158   -4.1316   19.9411 Fe  0  0  0  0  0  1  0  0  0  0  0  0\\n   -2.6189   -2.6632   19.4877 N   0  0  0  0  0  2  0  0  0  0  0  0\\n   -1.7555   -1.8512   20.3047 C   0  0  0  0  0  2  0  0  0  0  0  0\\n  1  2  2  0\\n  2  3  1  0\\n  3  4  2  0\\n  4  5  1  0\\n  5  6  2  0\\n  6  1  1  0\\n  1  7  1  0\\n  3  8  1  0\\n  5  9  1  0\\n 10 11  1  0\\n 11 12  1  0\\n 12 13  1  0\\n 13 14  1  0\\n 14 15  1  0\\n 10 16  1  0\\n 10 17  1  0\\n 10 18  1  0\\n 12 19  1  0\\n 12 20  1  0\\n 14 21  1  0\\n 14 22  1  0\\n 15 23  1  0\\n 24 25  1  0\\n 25 26  1  0\\n 26 27  1  0\\n 27 28  1  0\\n 28 29  1  0\\n 24 30  1  0\\n 24 31  1  0\\n 24 32  1  0\\n 26 33  1  0\\n 26 34  1  0\\n 28 35  1  0\\n 28 36  1  0\\n 29 37  1  0\\n 38 39  1  0\\n 39 40  1  0\\n 40 41  1  0\\n 41 42  1  0\\n 42 43  1  0\\n 38 44  1  0\\n 38 45  1  0\\n 38 46  1  0\\n 40 47  1  0\\n 40 48  1  0\\n 42 49  1  0\\n 42 50  1  0\\n 43 51  1  0\\n  2 15  1  0\\n  4 29  1  0\\n  6 43  1  0\\n 52 53  2  0\\n 53 54  1  0\\n 54 55  2  0\\n 55 56  1  0\\n 56 57  2  0\\n 57 52  1  0\\n 52 58  1  0\\n 54 59  1  0\\n 56 60  1  0\\n 61 62  1  0\\n 62 63  1  0\\n 63 64  1  0\\n 65 66  1  0\\n 66 67  1  0\\n 67 68  1  0\\n 69 70  1  0\\n 70 71  1  0\\n 71 72  1  0\\n 53 64  1  0\\n 55 68  1  0\\n 57 72  1  0\\n 73 74  2  0\\n 74 75  1  0\\n 75 76  2  0\\n 76 77  1  0\\n 77 78  2  0\\n 78 73  1  0\\n 79 80  1  0\\n 80 81  1  0\\n 81 82  1  0\\n 82 83  1  0\\n 83 84  1  0\\n 79 85  1  0\\n 79 86  1  0\\n 79 87  1  0\\n 81 88  1  0\\n 81 89  1  0\\n 83 90  1  0\\n 83 91  1  0\\n 84 92  1  0\\n 93 94  1  0\\n 94 95  1  0\\n 95 96  1  0\\n 96 97  1  0\\n 97 98  1  0\\n 93 99  1  0\\n 93100  1  0\\n 93101  1  0\\n 95102  1  0\\n 95103  1  0\\n 97104  1  0\\n 97105  1  0\\n 98106  1  0\\n107108  1  0\\n108109  1  0\\n109110  1  0\\n110111  1  0\\n111112  1  0\\n107113  1  0\\n107114  1  0\\n107115  1  0\\n109116  1  0\\n109117  1  0\\n111118  1  0\\n111119  1  0\\n112120  1  0\\n 73 84  1  0\\n 75 98  1  0\\n 77112  1  0\\n121122  2  0\\n122123  1  0\\n123124  2  0\\n124125  1  0\\n125126  2  0\\n126121  1  0\\n121127  1  0\\n123128  1  0\\n125129  1  0\\n130131  1  0\\n131132  1  0\\n132133  1  0\\n134135  1  0\\n135136  1  0\\n136137  1  0\\n138139  1  0\\n139140  1  0\\n140141  1  0\\n122133  1  0\\n124137  1  0\\n126141  1  0\\n142143  2  0\\n143144  1  0\\n144145  2  0\\n145146  1  0\\n146147  2  0\\n147142  1  0\\n148149  1  0\\n149150  1  0\\n151152  1  0\\n152153  1  0\\n154155  1  0\\n155156  1  0\\n142150  1  0\\n144153  1  0\\n146156  1  0\\nM  CHG  8  61   1  62   1  63   1  64   1  65   1  66   1  67   1  68   1\\nM  CHG  8  69   1  70   1  71   1  72   1 130   1 131   1 132   1 133   1\\nM  CHG  8 134   1 135   1 136   1 137   1 138   1 139   1 140   1 141   1\\nM  CHG  8 148   1 149   1 150   1 151   1 152   1 153   1 154   1 155   1\\nM  CHG  1 156   1\\nM  END\\n\");\n",
       "viewer_16571240643953974.setStyle({\"stick\": {\"colorscheme\": \"cyanCarbon\"}});\n",
       "viewer_16571240643953974.zoomTo();\n",
       "\tviewer_16571240643953974.setBackgroundColor(\"#000000\");\n",
       "\tviewer_16571240643953974.zoomTo();\n",
       "viewer_16571240643953974.render();\n",
       "});\n",
       "</script>"
      ]
     },
     "metadata": {},
     "output_type": "display_data"
    }
   ],
   "source": [
    "host = stk.BuildingBlock.init_from_molecule(cores[2])\n",
    "\n",
    "guests = (\n",
    "    stk.host_guest.Guest(\n",
    "        building_block=stk.BuildingBlock.init_from_molecule(cores[3]),\n",
    "        displacement=(0, 0, 5),\n",
    "    ),\n",
    "    stk.host_guest.Guest(\n",
    "        building_block=stk.BuildingBlock.init_from_molecule(cores[9]),\n",
    "        displacement=(0, 0, 10),\n",
    "    ),\n",
    "    stk.host_guest.Guest(\n",
    "        building_block=stk.BuildingBlock.init_from_molecule(cores[5]),\n",
    "        displacement=(0, 0, 15),\n",
    "    ),\n",
    "    stk.host_guest.Guest(\n",
    "        building_block=stk.BuildingBlock.init_from_molecule(cores[11]),\n",
    "        displacement=(0, 0, 20),\n",
    "    ),\n",
    ")\n",
    "\n",
    "polymer = stk.ConstructedMolecule(\n",
    "    topology_graph=stk.host_guest.Complex(\n",
    "        host=host,\n",
    "        guests=guests,\n",
    "    ),\n",
    ")\n",
    "show_stk_mol(polymer)"
   ]
  },
  {
   "cell_type": "code",
   "execution_count": 23,
   "id": "74c4fe5f-b73f-49d3-8210-ee0c96b1fba9",
   "metadata": {},
   "outputs": [
    {
     "data": {
      "image/png": "[encoded data removed]",
      "text/plain": [
       "<rdkit.Chem.rdchem.Mol at 0x7f24b49aadf0>"
      ]
     },
     "execution_count": 23,
     "metadata": {},
     "output_type": "execute_result"
    }
   ],
   "source": [
    "polymer.to_rdkit_mol()"
   ]
  },
  {
   "cell_type": "code",
   "execution_count": null,
   "id": "aa7d954d-0cc4-4c73-992a-f6e73a3669dc",
   "metadata": {},
   "outputs": [],
   "source": [
    "host = stk.BuildingBlock.init_from_molecule(cores[2])\n",
    "\n",
    "guests = (\n",
    "    stk.host_guest.Guest(\n",
    "        building_block=stk.BuildingBlock.init_from_molecule(cores[4]),\n",
    "        displacement=(0, 0, 5),\n",
    "    ),\n",
    "    stk.host_guest.Guest(\n",
    "        building_block=stk.BuildingBlock.init_from_molecule(cores[2]),\n",
    "        displacement=(0, 0, 10),\n",
    "        start_vector=(0, 0, 1),\n",
    "        end_vector=(0, 0, -1),\n",
    "    ),\n",
    ")\n",
    "\n",
    "polymer = stk.ConstructedMolecule(\n",
    "    topology_graph=stk.host_guest.Complex(\n",
    "        host=host,\n",
    "        guests=guests,\n",
    "    ),\n",
    ")\n",
    "show_stk_mol(polymer)"
   ]
  },
  {
   "cell_type": "code",
   "execution_count": null,
   "id": "5d95e1cc-55b9-45aa-b342-2221c3fdc4af",
   "metadata": {},
   "outputs": [],
   "source": []
  },
  {
   "cell_type": "markdown",
   "id": "83b41d82-3f58-4965-82b4-78485d24e34d",
   "metadata": {},
   "source": [
    "## Optimising the polymers"
   ]
  },
  {
   "cell_type": "markdown",
   "id": "c26bf496-b081-487c-b62e-a238de3139c1",
   "metadata": {},
   "source": [
    "###  a failure"
   ]
  },
  {
   "cell_type": "code",
   "execution_count": null,
   "id": "3d53ec3d-af76-4189-8ce4-319bf5d54512",
   "metadata": {},
   "outputs": [],
   "source": [
    "host = stk.BuildingBlock.init_from_molecule(cores[2])\n",
    "\n",
    "guests = (\n",
    "    stk.host_guest.Guest(\n",
    "        building_block=stk.BuildingBlock.init_from_molecule(cores[0]),\n",
    "        displacement=(0, 0, 5),\n",
    "    ),\n",
    "    stk.host_guest.Guest(\n",
    "        building_block=stk.BuildingBlock.init_from_molecule(cores[0]),\n",
    "        displacement=(0, 0, 10),\n",
    "    ),\n",
    "    stk.host_guest.Guest(\n",
    "        building_block=stk.BuildingBlock.init_from_molecule(cores[0]),\n",
    "        displacement=(0, 0, 15),\n",
    "    ),\n",
    ")\n",
    "\n",
    "polymer = stk.ConstructedMolecule(\n",
    "    topology_graph=stk.host_guest.Complex(\n",
    "        host=host,\n",
    "        guests=guests,\n",
    "        optimizer=stk.Spinner(\n",
    "            rotation_step_size=0.0,\n",
    "            step_size=1.5,\n",
    "            num_conformers=100,\n",
    "            nonbond_epsilon=1,\n",
    "        ),\n",
    "    ),\n",
    ")\n",
    "\n",
    "show_stk_mol(polymer)"
   ]
  },
  {
   "cell_type": "code",
   "execution_count": null,
   "id": "4afc17e4-83a4-4d52-8ae1-873191fc3664",
   "metadata": {},
   "outputs": [],
   "source": [
    "host = stk.BuildingBlock.init_from_molecule(cores[2])\n",
    "\n",
    "guests = (\n",
    "    stk.host_guest.Guest(\n",
    "        building_block=stk.BuildingBlock.init_from_molecule(cores[0]),\n",
    "        displacement=(0, 0, 5),\n",
    "    ),\n",
    "    stk.host_guest.Guest(\n",
    "        building_block=stk.BuildingBlock.init_from_molecule(cores[0]),\n",
    "        displacement=(0, 0, 10),\n",
    "    ),\n",
    "    stk.host_guest.Guest(\n",
    "        building_block=stk.BuildingBlock.init_from_molecule(cores[0]),\n",
    "        displacement=(0, 0, 15),\n",
    "    ),\n",
    ")\n",
    "\n",
    "polymer = stk.ConstructedMolecule(\n",
    "    topology_graph=stk.host_guest.Complex(\n",
    "        host=host,\n",
    "        guests=guests,\n",
    "    ),\n",
    ")\n",
    "show_stk_mol(polymer)"
   ]
  },
  {
   "cell_type": "code",
   "execution_count": null,
   "id": "e22ded99-1576-460f-b052-b84ff5493b8d",
   "metadata": {},
   "outputs": [],
   "source": [
    "opt = stko.UFF(ignore_inter_interactions=False)\n",
    "polymer = opt.optimize(polymer)\n",
    "show_stk_mol(polymer)"
   ]
  },
  {
   "cell_type": "code",
   "execution_count": null,
   "id": "45934d6a-60c8-47e9-98d0-83540f2a7908",
   "metadata": {},
   "outputs": [],
   "source": []
  },
  {
   "cell_type": "code",
   "execution_count": null,
   "id": "83cd2249-83ca-45c6-9b96-f10446474018",
   "metadata": {},
   "outputs": [],
   "source": []
  },
  {
   "cell_type": "code",
   "execution_count": null,
   "id": "20fcc4b7-dcca-463f-aea4-55356e04a483",
   "metadata": {},
   "outputs": [],
   "source": []
  },
  {
   "cell_type": "markdown",
   "id": "c57f8c9d-04ec-4d56-8865-bd2263c73b51",
   "metadata": {},
   "source": [
    "# Running the Evolutionary Algorithm on the core\n",
    "\n",
    "Given the list of tritopic and monotopic building blocks, can we find the most \"rigid\" one? - This is just a toy example."
   ]
  },
  {
   "cell_type": "code",
   "execution_count": null,
   "id": "300c71e1-b3b1-4e2a-978d-4a200faecf8a",
   "metadata": {},
   "outputs": [],
   "source": [
    "import rdkit.Chem.AllChem as rdkit\n",
    "import itertools as it\n",
    "import numpy as np"
   ]
  },
  {
   "cell_type": "code",
   "execution_count": null,
   "id": "34af30be-8c94-46d3-9eb7-42c1ff5b774b",
   "metadata": {},
   "outputs": [],
   "source": [
    "def get_rigidity(molecule):\n",
    "    num_rotatable_bonds = rdkit.CalcNumRotatableBonds(molecule)\n",
    "    # Add 1 to the denominator to prevent division by 0.\n",
    "    return 1 / (num_rotatable_bonds + 1)\n",
    "\n",
    "def get_fitness_value(molecule):\n",
    "    rdkit_molecule = molecule.to_rdkit_mol()\n",
    "    rdkit.SanitizeMol(rdkit_molecule)\n",
    "    # Multiply by 100 just to scale the values up a bit, which\n",
    "    # makes for nicer plots later.\n",
    "    return 100*get_rigidity(rdkit_molecule)\n"
   ]
  },
  {
   "cell_type": "code",
   "execution_count": null,
   "id": "b3a60b8b-e377-4194-830e-063d46c5cdad",
   "metadata": {},
   "outputs": [],
   "source": [
    "len(tritopics), len(monotopics)"
   ]
  },
  {
   "cell_type": "code",
   "execution_count": null,
   "id": "a133d767-aa25-475e-b210-e02b2db98d5c",
   "metadata": {},
   "outputs": [],
   "source": [
    "def get_initial_population(tritopics, monotopics):\n",
    "    for tri, mono in it.product(tritopics[:3], monotopics[:3]):\n",
    "        yield stk.MoleculeRecord(\n",
    "            topology_graph=Core(\n",
    "                building_blocks={\n",
    "                    cent: (0, ), \n",
    "                    mono: (1, 2, 3),\n",
    "                },\n",
    "                optimizer=stk.MCHammer(),\n",
    "            ),\n",
    "        )\n",
    "\n",
    "initial_population = tuple(\n",
    "    get_initial_population(tritopics, monotopics)\n",
    ")"
   ]
  },
  {
   "cell_type": "code",
   "execution_count": null,
   "id": "85ceb485-80b6-4e1b-b942-d0854450fb07",
   "metadata": {},
   "outputs": [],
   "source": [
    "def get_num_functional_groups(building_block):\n",
    "    return building_block.get_num_functional_groups()\n",
    "\n",
    "def is_mono(building_block):\n",
    "    return get_num_functional_groups(building_block) == 1\n",
    "\n",
    "def is_tri(building_block):\n",
    "    return get_num_functional_groups(building_block) == 3\n",
    "\n",
    "generator = np.random.RandomState(4)\n",
    "mutator = stk.RandomMutator(\n",
    "    mutators=(\n",
    "        # Substitutes a monotopic building block with a \n",
    "        # random monotopic building block.\n",
    "        stk.RandomBuildingBlock(\n",
    "            building_blocks=monotopics,\n",
    "            is_replaceable=is_mono,\n",
    "            random_seed=generator.randint(0, 1000),\n",
    "        ),\n",
    "        # Substitutes a tritopic building block with a \n",
    "        # random tritopic building block.\n",
    "        stk.RandomBuildingBlock(\n",
    "            building_blocks=tritopics,\n",
    "            is_replaceable=is_tri,\n",
    "            random_seed=generator.randint(0, 1000),\n",
    "        ),\n",
    "    ),\n",
    "    random_seed=generator.randint(0, 1000),\n",
    ")"
   ]
  },
  {
   "cell_type": "code",
   "execution_count": null,
   "id": "8beb4b25-386a-4cb2-a43e-ad64b5a7869e",
   "metadata": {
    "tags": []
   },
   "outputs": [],
   "source": [
    "ea = stk.EvolutionaryAlgorithm(\n",
    "    initial_population=initial_population,\n",
    "    fitness_calculator=stk.FitnessFunction(get_fitness_value),\n",
    "    mutator=mutator,\n",
    "    crosser=stk.GeneticRecombination(\n",
    "        get_gene=get_num_functional_groups,\n",
    "    ),\n",
    "    generation_selector=stk.Best(\n",
    "        num_batches=5,\n",
    "        duplicate_molecules=False,\n",
    "    ),\n",
    "    mutation_selector=stk.Roulette(\n",
    "        num_batches=5,\n",
    "        random_seed=generator.randint(0, 1000),\n",
    "    ),\n",
    "    crossover_selector=stk.Roulette(\n",
    "        num_batches=3,\n",
    "        batch_size=2,\n",
    "        random_seed=generator.randint(0, 1000),\n",
    "    ),\n",
    ")\n",
    "\n",
    "writer = stk.MolWriter()\n",
    "generations = []\n",
    "for i, generation in enumerate(ea.get_generations(10)):\n",
    "    generations.append(generation)\n",
    "    \n",
    "    for molecule_id, molecule_record in enumerate(\n",
    "        generation.get_molecule_records()\n",
    "    ):\n",
    "        writer.write(\n",
    "            molecule=molecule_record.get_molecule(),\n",
    "            path=f'g_{i}_m_{molecule_id}.mol',\n",
    "        )"
   ]
  },
  {
   "cell_type": "code",
   "execution_count": null,
   "id": "6e7c1174-265f-4119-80b3-22ec0c9aaaf6",
   "metadata": {},
   "outputs": [],
   "source": [
    "fitness_progress = stk.ProgressPlotter(\n",
    "    generations=generations,\n",
    "    get_property=lambda record: record.get_fitness_value(),\n",
    "    y_label='Fitness Value',\n",
    ")\n",
    "fitness_progress.write('fitness_progress.png')"
   ]
  },
  {
   "cell_type": "code",
   "execution_count": null,
   "id": "a959b75b-b6e4-4303-b2db-5dbba533aef6",
   "metadata": {},
   "outputs": [],
   "source": []
  }
 ],
 "metadata": {
  "kernelspec": {
   "display_name": "suprapolymer",
   "language": "python",
   "name": "suprapolymer"
  },
  "language_info": {
   "codemirror_mode": {
    "name": "ipython",
    "version": 3
   },
   "file_extension": ".py",
   "mimetype": "text/x-python",
   "name": "python",
   "nbconvert_exporter": "python",
   "pygments_lexer": "ipython3",
   "version": "3.9.0"
  }
 },
 "nbformat": 4,
 "nbformat_minor": 5
}
