{
 "cells": [
  {
   "cell_type": "markdown",
   "id": "82b609bb-7c82-497d-bf18-43c4bf41f8b2",
   "metadata": {},
   "source": [
    "# The plan\n",
    "\n",
    "See: https://www.nature.com/articles/s41467-022-29804-5/figures/4\n",
    "\n",
    "![The plan](plan.png \"The plan\")"
   ]
  },
  {
   "cell_type": "code",
   "execution_count": 127,
   "id": "509ac2ac-083e-4702-aa1a-fdc616956d4d",
   "metadata": {},
   "outputs": [],
   "source": [
    "import stk\n",
    "import stko\n",
    "import math\n",
    "import py3Dmol\n",
    "from itertools import product\n",
    "from rdkit.Chem import AllChem as rdkit"
   ]
  },
  {
   "cell_type": "code",
   "execution_count": 245,
   "id": "3d067c17-9e47-4b30-999d-e54852585711",
   "metadata": {},
   "outputs": [],
   "source": [
    "def show_stk_mol(stk_mol):\n",
    "    \n",
    "    try:\n",
    "        print(\n",
    "            f'BB has {stk_mol.get_num_functional_groups()} '\n",
    "            f'FGs and {stk_mol.get_num_placers()} placers'\n",
    "        )\n",
    "    except:\n",
    "        pass\n",
    "    \n",
    "    data = rdkit.MolToMolBlock(stk_mol.to_rdkit_mol())\n",
    "    p = py3Dmol.view(\n",
    "        data=data,\n",
    "        style={'stick':{'colorscheme':'cyanCarbon'}}, \n",
    "        width=400,\n",
    "        height=400,\n",
    "    )\n",
    "    p.setBackgroundColor('#000000')\n",
    "    p.zoomTo()\n",
    "    p.show()"
   ]
  },
  {
   "cell_type": "markdown",
   "id": "906755d0-dad4-4096-9231-1ae65d3db19d",
   "metadata": {},
   "source": [
    "# Working:\n",
    "\n",
    "Useful things:\n",
    "* https://molview.org/"
   ]
  },
  {
   "cell_type": "markdown",
   "id": "745fab38-7315-4b4a-b7d1-2e23d329b9c2",
   "metadata": {},
   "source": [
    "## Tritopics"
   ]
  },
  {
   "cell_type": "code",
   "execution_count": 246,
   "id": "2c3bda0f-c458-4a52-a980-6d3e9aee46d2",
   "metadata": {},
   "outputs": [],
   "source": [
    "tritopics = [\n",
    "    stk.BuildingBlock(\n",
    "        smiles='C1=C(C=C(C=C1Br)Br)Br',\n",
    "        functional_groups=(stk.BromoFactory(), ),\n",
    "    ),\n",
    "    stk.BuildingBlock(\n",
    "        smiles='C1(=NC(=NC(=N1)Br)Br)Br',\n",
    "        functional_groups=(stk.BromoFactory(), ),\n",
    "    ),\n",
    "    stk.BuildingBlock(\n",
    "        smiles='[C+](Br)(Br)Br',\n",
    "        functional_groups=(stk.BromoFactory(), ),\n",
    "    ),\n",
    "]"
   ]
  },
  {
   "cell_type": "code",
   "execution_count": 247,
   "id": "21317923-7f94-40d8-b7cc-9105c43fbc4e",
   "metadata": {},
   "outputs": [
    {
     "name": "stdout",
     "output_type": "stream",
     "text": [
      "BB has 3 FGs and 3 placers\n"
     ]
    },
    {
     "data": {
      "application/3dmoljs_load.v0": "<div id=\"3dmolviewer_16529452666566916\"  style=\"position: relative; width: 400px; height: 400px\">\n        <p id=\"3dmolwarning_16529452666566916\" style=\"background-color:#ffcccc;color:black\">You appear to be running in JupyterLab (or JavaScript failed to load for some other reason).  You need to install the 3dmol extension: <br>\n        <tt>jupyter labextension install jupyterlab_3dmol</tt></p>\n        </div>\n<script>\n\nvar loadScriptAsync = function(uri){\n  return new Promise((resolve, reject) => {\n    var tag = document.createElement('script');\n    tag.src = uri;\n    tag.async = true;\n    tag.onload = () => {\n      resolve();\n    };\n  var firstScriptTag = document.getElementsByTagName('script')[0];\n  firstScriptTag.parentNode.insertBefore(tag, firstScriptTag);\n});\n};\n\nif(typeof $3Dmolpromise === 'undefined') {\n$3Dmolpromise = null;\n  $3Dmolpromise = loadScriptAsync('https://3dmol.org/build/3Dmol.js');\n}\n\nvar viewer_16529452666566916 = null;\nvar warn = document.getElementById(\"3dmolwarning_16529452666566916\");\nif(warn) {\n    warn.parentNode.removeChild(warn);\n}\n$3Dmolpromise.then(function() {\nviewer_16529452666566916 = $3Dmol.createViewer($(\"#3dmolviewer_16529452666566916\"),{backgroundColor:\"white\"});\nviewer_16529452666566916.addModel(\"\\n     RDKit          3D\\n\\n 12 12  0  0  0  0  0  0  0  0999 V2000\\n    0.7376    1.1693   -0.0159 C   0  0  0  0  0  0  0  0  0  0  0  0\\n   -0.6429    1.2414   -0.0412 C   0  0  0  0  0  0  0  0  0  0  0  0\\n   -1.3437    0.0543   -0.0243 C   0  0  0  0  0  0  0  0  0  0  0  0\\n   -0.7534   -1.1821    0.0159 C   0  0  0  0  0  0  0  0  0  0  0  0\\n    0.6329   -1.2324    0.0408 C   0  0  0  0  0  0  0  0  0  0  0  0\\n    1.3832   -0.0561    0.0250 C   0  0  0  0  0  0  0  0  0  0  0  0\\n    3.2982   -0.1252    0.0595 Br  0  0  0  0  0  0  0  0  0  0  0  0\\n   -1.7690   -2.7926    0.0377 Br  0  0  0  0  0  0  0  0  0  0  0  0\\n   -1.5269    2.9429   -0.0978 Br  0  0  0  0  0  0  0  0  0  0  0  0\\n    1.2955    2.1061   -0.0291 H   0  0  0  0  0  0  0  0  0  0  0  0\\n   -2.4379    0.0893   -0.0439 H   0  0  0  0  0  0  0  0  0  0  0  0\\n    1.1264   -2.2150    0.0732 H   0  0  0  0  0  0  0  0  0  0  0  0\\n  1  2  2  0\\n  2  3  1  0\\n  3  4  2  0\\n  4  5  1  0\\n  5  6  2  0\\n  6  7  1  0\\n  4  8  1  0\\n  2  9  1  0\\n  6  1  1  0\\n  1 10  1  0\\n  3 11  1  0\\n  5 12  1  0\\nM  END\\n\");\nviewer_16529452666566916.setStyle({\"stick\": {\"colorscheme\": \"cyanCarbon\"}});\nviewer_16529452666566916.zoomTo();\n\tviewer_16529452666566916.setBackgroundColor(\"#000000\");\n\tviewer_16529452666566916.zoomTo();\nviewer_16529452666566916.render();\n});\n</script>",
      "text/html": [
       "<div id=\"3dmolviewer_16529452666566916\"  style=\"position: relative; width: 400px; height: 400px\">\n",
       "        <p id=\"3dmolwarning_16529452666566916\" style=\"background-color:#ffcccc;color:black\">You appear to be running in JupyterLab (or JavaScript failed to load for some other reason).  You need to install the 3dmol extension: <br>\n",
       "        <tt>jupyter labextension install jupyterlab_3dmol</tt></p>\n",
       "        </div>\n",
       "<script>\n",
       "\n",
       "var loadScriptAsync = function(uri){\n",
       "  return new Promise((resolve, reject) => {\n",
       "    var tag = document.createElement('script');\n",
       "    tag.src = uri;\n",
       "    tag.async = true;\n",
       "    tag.onload = () => {\n",
       "      resolve();\n",
       "    };\n",
       "  var firstScriptTag = document.getElementsByTagName('script')[0];\n",
       "  firstScriptTag.parentNode.insertBefore(tag, firstScriptTag);\n",
       "});\n",
       "};\n",
       "\n",
       "if(typeof $3Dmolpromise === 'undefined') {\n",
       "$3Dmolpromise = null;\n",
       "  $3Dmolpromise = loadScriptAsync('https://3dmol.org/build/3Dmol.js');\n",
       "}\n",
       "\n",
       "var viewer_16529452666566916 = null;\n",
       "var warn = document.getElementById(\"3dmolwarning_16529452666566916\");\n",
       "if(warn) {\n",
       "    warn.parentNode.removeChild(warn);\n",
       "}\n",
       "$3Dmolpromise.then(function() {\n",
       "viewer_16529452666566916 = $3Dmol.createViewer($(\"#3dmolviewer_16529452666566916\"),{backgroundColor:\"white\"});\n",
       "viewer_16529452666566916.addModel(\"\\n     RDKit          3D\\n\\n 12 12  0  0  0  0  0  0  0  0999 V2000\\n    0.7376    1.1693   -0.0159 C   0  0  0  0  0  0  0  0  0  0  0  0\\n   -0.6429    1.2414   -0.0412 C   0  0  0  0  0  0  0  0  0  0  0  0\\n   -1.3437    0.0543   -0.0243 C   0  0  0  0  0  0  0  0  0  0  0  0\\n   -0.7534   -1.1821    0.0159 C   0  0  0  0  0  0  0  0  0  0  0  0\\n    0.6329   -1.2324    0.0408 C   0  0  0  0  0  0  0  0  0  0  0  0\\n    1.3832   -0.0561    0.0250 C   0  0  0  0  0  0  0  0  0  0  0  0\\n    3.2982   -0.1252    0.0595 Br  0  0  0  0  0  0  0  0  0  0  0  0\\n   -1.7690   -2.7926    0.0377 Br  0  0  0  0  0  0  0  0  0  0  0  0\\n   -1.5269    2.9429   -0.0978 Br  0  0  0  0  0  0  0  0  0  0  0  0\\n    1.2955    2.1061   -0.0291 H   0  0  0  0  0  0  0  0  0  0  0  0\\n   -2.4379    0.0893   -0.0439 H   0  0  0  0  0  0  0  0  0  0  0  0\\n    1.1264   -2.2150    0.0732 H   0  0  0  0  0  0  0  0  0  0  0  0\\n  1  2  2  0\\n  2  3  1  0\\n  3  4  2  0\\n  4  5  1  0\\n  5  6  2  0\\n  6  7  1  0\\n  4  8  1  0\\n  2  9  1  0\\n  6  1  1  0\\n  1 10  1  0\\n  3 11  1  0\\n  5 12  1  0\\nM  END\\n\");\n",
       "viewer_16529452666566916.setStyle({\"stick\": {\"colorscheme\": \"cyanCarbon\"}});\n",
       "viewer_16529452666566916.zoomTo();\n",
       "\tviewer_16529452666566916.setBackgroundColor(\"#000000\");\n",
       "\tviewer_16529452666566916.zoomTo();\n",
       "viewer_16529452666566916.render();\n",
       "});\n",
       "</script>"
      ]
     },
     "metadata": {},
     "output_type": "display_data"
    }
   ],
   "source": [
    "show_stk_mol(tritopics[0])"
   ]
  },
  {
   "cell_type": "code",
   "execution_count": 248,
   "id": "5ff445eb-1434-4686-8d57-4e452f365b51",
   "metadata": {},
   "outputs": [
    {
     "name": "stdout",
     "output_type": "stream",
     "text": [
      "BB has 3 FGs and 3 placers\n"
     ]
    },
    {
     "data": {
      "application/3dmoljs_load.v0": "<div id=\"3dmolviewer_16529452690021782\"  style=\"position: relative; width: 400px; height: 400px\">\n        <p id=\"3dmolwarning_16529452690021782\" style=\"background-color:#ffcccc;color:black\">You appear to be running in JupyterLab (or JavaScript failed to load for some other reason).  You need to install the 3dmol extension: <br>\n        <tt>jupyter labextension install jupyterlab_3dmol</tt></p>\n        </div>\n<script>\n\nvar loadScriptAsync = function(uri){\n  return new Promise((resolve, reject) => {\n    var tag = document.createElement('script');\n    tag.src = uri;\n    tag.async = true;\n    tag.onload = () => {\n      resolve();\n    };\n  var firstScriptTag = document.getElementsByTagName('script')[0];\n  firstScriptTag.parentNode.insertBefore(tag, firstScriptTag);\n});\n};\n\nif(typeof $3Dmolpromise === 'undefined') {\n$3Dmolpromise = null;\n  $3Dmolpromise = loadScriptAsync('https://3dmol.org/build/3Dmol.js');\n}\n\nvar viewer_16529452690021782 = null;\nvar warn = document.getElementById(\"3dmolwarning_16529452690021782\");\nif(warn) {\n    warn.parentNode.removeChild(warn);\n}\n$3Dmolpromise.then(function() {\nviewer_16529452690021782 = $3Dmol.createViewer($(\"#3dmolviewer_16529452690021782\"),{backgroundColor:\"white\"});\nviewer_16529452690021782.addModel(\"\\n     RDKit          3D\\n\\n  9  9  0  0  0  0  0  0  0  0999 V2000\\n    1.2532   -0.3708   -0.3454 C   0  0  0  0  0  0  0  0  0  0  0  0\\n    1.0014    0.9294   -0.1762 N   0  0  0  0  0  0  0  0  0  0  0  0\\n   -0.2395    1.3047    0.1463 C   0  0  0  0  0  0  0  0  0  0  0  0\\n   -1.2107    0.3895    0.2961 N   0  0  0  0  0  0  0  0  0  0  0  0\\n   -0.9717   -0.9210    0.1290 C   0  0  0  0  0  0  0  0  0  0  0  0\\n    0.2816   -1.2806   -0.1951 N   0  0  0  0  0  0  0  0  0  0  0  0\\n   -2.3898   -2.1651    0.3556 Br  0  0  0  0  0  0  0  0  0  0  0  0\\n   -0.7113    3.1435    0.4127 Br  0  0  0  0  0  0  0  0  0  0  0  0\\n    2.9869   -1.0296   -0.8074 Br  0  0  0  0  0  0  0  0  0  0  0  0\\n  1  2  2  0\\n  2  3  1  0\\n  3  4  2  0\\n  4  5  1  0\\n  5  6  2  0\\n  5  7  1  0\\n  3  8  1  0\\n  1  9  1  0\\n  6  1  1  0\\nM  END\\n\");\nviewer_16529452690021782.setStyle({\"stick\": {\"colorscheme\": \"cyanCarbon\"}});\nviewer_16529452690021782.zoomTo();\n\tviewer_16529452690021782.setBackgroundColor(\"#000000\");\n\tviewer_16529452690021782.zoomTo();\nviewer_16529452690021782.render();\n});\n</script>",
      "text/html": [
       "<div id=\"3dmolviewer_16529452690021782\"  style=\"position: relative; width: 400px; height: 400px\">\n",
       "        <p id=\"3dmolwarning_16529452690021782\" style=\"background-color:#ffcccc;color:black\">You appear to be running in JupyterLab (or JavaScript failed to load for some other reason).  You need to install the 3dmol extension: <br>\n",
       "        <tt>jupyter labextension install jupyterlab_3dmol</tt></p>\n",
       "        </div>\n",
       "<script>\n",
       "\n",
       "var loadScriptAsync = function(uri){\n",
       "  return new Promise((resolve, reject) => {\n",
       "    var tag = document.createElement('script');\n",
       "    tag.src = uri;\n",
       "    tag.async = true;\n",
       "    tag.onload = () => {\n",
       "      resolve();\n",
       "    };\n",
       "  var firstScriptTag = document.getElementsByTagName('script')[0];\n",
       "  firstScriptTag.parentNode.insertBefore(tag, firstScriptTag);\n",
       "});\n",
       "};\n",
       "\n",
       "if(typeof $3Dmolpromise === 'undefined') {\n",
       "$3Dmolpromise = null;\n",
       "  $3Dmolpromise = loadScriptAsync('https://3dmol.org/build/3Dmol.js');\n",
       "}\n",
       "\n",
       "var viewer_16529452690021782 = null;\n",
       "var warn = document.getElementById(\"3dmolwarning_16529452690021782\");\n",
       "if(warn) {\n",
       "    warn.parentNode.removeChild(warn);\n",
       "}\n",
       "$3Dmolpromise.then(function() {\n",
       "viewer_16529452690021782 = $3Dmol.createViewer($(\"#3dmolviewer_16529452690021782\"),{backgroundColor:\"white\"});\n",
       "viewer_16529452690021782.addModel(\"\\n     RDKit          3D\\n\\n  9  9  0  0  0  0  0  0  0  0999 V2000\\n    1.2532   -0.3708   -0.3454 C   0  0  0  0  0  0  0  0  0  0  0  0\\n    1.0014    0.9294   -0.1762 N   0  0  0  0  0  0  0  0  0  0  0  0\\n   -0.2395    1.3047    0.1463 C   0  0  0  0  0  0  0  0  0  0  0  0\\n   -1.2107    0.3895    0.2961 N   0  0  0  0  0  0  0  0  0  0  0  0\\n   -0.9717   -0.9210    0.1290 C   0  0  0  0  0  0  0  0  0  0  0  0\\n    0.2816   -1.2806   -0.1951 N   0  0  0  0  0  0  0  0  0  0  0  0\\n   -2.3898   -2.1651    0.3556 Br  0  0  0  0  0  0  0  0  0  0  0  0\\n   -0.7113    3.1435    0.4127 Br  0  0  0  0  0  0  0  0  0  0  0  0\\n    2.9869   -1.0296   -0.8074 Br  0  0  0  0  0  0  0  0  0  0  0  0\\n  1  2  2  0\\n  2  3  1  0\\n  3  4  2  0\\n  4  5  1  0\\n  5  6  2  0\\n  5  7  1  0\\n  3  8  1  0\\n  1  9  1  0\\n  6  1  1  0\\nM  END\\n\");\n",
       "viewer_16529452690021782.setStyle({\"stick\": {\"colorscheme\": \"cyanCarbon\"}});\n",
       "viewer_16529452690021782.zoomTo();\n",
       "\tviewer_16529452690021782.setBackgroundColor(\"#000000\");\n",
       "\tviewer_16529452690021782.zoomTo();\n",
       "viewer_16529452690021782.render();\n",
       "});\n",
       "</script>"
      ]
     },
     "metadata": {},
     "output_type": "display_data"
    }
   ],
   "source": [
    "show_stk_mol(tritopics[1])"
   ]
  },
  {
   "cell_type": "code",
   "execution_count": 249,
   "id": "01d42cea-a77a-4615-9ab9-f7ab86267af3",
   "metadata": {},
   "outputs": [
    {
     "name": "stdout",
     "output_type": "stream",
     "text": [
      "BB has 3 FGs and 1 placers\n"
     ]
    },
    {
     "data": {
      "application/3dmoljs_load.v0": "<div id=\"3dmolviewer_16529452694403257\"  style=\"position: relative; width: 400px; height: 400px\">\n        <p id=\"3dmolwarning_16529452694403257\" style=\"background-color:#ffcccc;color:black\">You appear to be running in JupyterLab (or JavaScript failed to load for some other reason).  You need to install the 3dmol extension: <br>\n        <tt>jupyter labextension install jupyterlab_3dmol</tt></p>\n        </div>\n<script>\n\nvar loadScriptAsync = function(uri){\n  return new Promise((resolve, reject) => {\n    var tag = document.createElement('script');\n    tag.src = uri;\n    tag.async = true;\n    tag.onload = () => {\n      resolve();\n    };\n  var firstScriptTag = document.getElementsByTagName('script')[0];\n  firstScriptTag.parentNode.insertBefore(tag, firstScriptTag);\n});\n};\n\nif(typeof $3Dmolpromise === 'undefined') {\n$3Dmolpromise = null;\n  $3Dmolpromise = loadScriptAsync('https://3dmol.org/build/3Dmol.js');\n}\n\nvar viewer_16529452694403257 = null;\nvar warn = document.getElementById(\"3dmolwarning_16529452694403257\");\nif(warn) {\n    warn.parentNode.removeChild(warn);\n}\n$3Dmolpromise.then(function() {\nviewer_16529452694403257 = $3Dmol.createViewer($(\"#3dmolviewer_16529452694403257\"),{backgroundColor:\"white\"});\nviewer_16529452694403257.addModel(\"\\n     RDKit          3D\\n\\n  4  3  0  0  0  0  0  0  0  0999 V2000\\n   -0.0075    0.0048   -0.0000 C   0  0  0  0  0  3  0  0  0  0  0  0\\n   -0.7897    1.7255    0.0003 Br  0  0  0  0  0  0  0  0  0  0  0  0\\n    1.8899   -0.1654   -0.0003 Br  0  0  0  0  0  0  0  0  0  0  0  0\\n   -1.0927   -1.5648    0.0000 Br  0  0  0  0  0  0  0  0  0  0  0  0\\n  1  2  1  0\\n  1  3  1  0\\n  1  4  1  0\\nM  CHG  1   1   1\\nM  END\\n\");\nviewer_16529452694403257.setStyle({\"stick\": {\"colorscheme\": \"cyanCarbon\"}});\nviewer_16529452694403257.zoomTo();\n\tviewer_16529452694403257.setBackgroundColor(\"#000000\");\n\tviewer_16529452694403257.zoomTo();\nviewer_16529452694403257.render();\n});\n</script>",
      "text/html": [
       "<div id=\"3dmolviewer_16529452694403257\"  style=\"position: relative; width: 400px; height: 400px\">\n",
       "        <p id=\"3dmolwarning_16529452694403257\" style=\"background-color:#ffcccc;color:black\">You appear to be running in JupyterLab (or JavaScript failed to load for some other reason).  You need to install the 3dmol extension: <br>\n",
       "        <tt>jupyter labextension install jupyterlab_3dmol</tt></p>\n",
       "        </div>\n",
       "<script>\n",
       "\n",
       "var loadScriptAsync = function(uri){\n",
       "  return new Promise((resolve, reject) => {\n",
       "    var tag = document.createElement('script');\n",
       "    tag.src = uri;\n",
       "    tag.async = true;\n",
       "    tag.onload = () => {\n",
       "      resolve();\n",
       "    };\n",
       "  var firstScriptTag = document.getElementsByTagName('script')[0];\n",
       "  firstScriptTag.parentNode.insertBefore(tag, firstScriptTag);\n",
       "});\n",
       "};\n",
       "\n",
       "if(typeof $3Dmolpromise === 'undefined') {\n",
       "$3Dmolpromise = null;\n",
       "  $3Dmolpromise = loadScriptAsync('https://3dmol.org/build/3Dmol.js');\n",
       "}\n",
       "\n",
       "var viewer_16529452694403257 = null;\n",
       "var warn = document.getElementById(\"3dmolwarning_16529452694403257\");\n",
       "if(warn) {\n",
       "    warn.parentNode.removeChild(warn);\n",
       "}\n",
       "$3Dmolpromise.then(function() {\n",
       "viewer_16529452694403257 = $3Dmol.createViewer($(\"#3dmolviewer_16529452694403257\"),{backgroundColor:\"white\"});\n",
       "viewer_16529452694403257.addModel(\"\\n     RDKit          3D\\n\\n  4  3  0  0  0  0  0  0  0  0999 V2000\\n   -0.0075    0.0048   -0.0000 C   0  0  0  0  0  3  0  0  0  0  0  0\\n   -0.7897    1.7255    0.0003 Br  0  0  0  0  0  0  0  0  0  0  0  0\\n    1.8899   -0.1654   -0.0003 Br  0  0  0  0  0  0  0  0  0  0  0  0\\n   -1.0927   -1.5648    0.0000 Br  0  0  0  0  0  0  0  0  0  0  0  0\\n  1  2  1  0\\n  1  3  1  0\\n  1  4  1  0\\nM  CHG  1   1   1\\nM  END\\n\");\n",
       "viewer_16529452694403257.setStyle({\"stick\": {\"colorscheme\": \"cyanCarbon\"}});\n",
       "viewer_16529452694403257.zoomTo();\n",
       "\tviewer_16529452694403257.setBackgroundColor(\"#000000\");\n",
       "\tviewer_16529452694403257.zoomTo();\n",
       "viewer_16529452694403257.render();\n",
       "});\n",
       "</script>"
      ]
     },
     "metadata": {},
     "output_type": "display_data"
    }
   ],
   "source": [
    "show_stk_mol(tritopics[2])"
   ]
  },
  {
   "cell_type": "markdown",
   "id": "f7d72537-08e1-4c34-a11d-89e9f9b1da84",
   "metadata": {},
   "source": [
    "## Monotopics (r-groups)"
   ]
  },
  {
   "cell_type": "markdown",
   "id": "922b0c34-1c71-4040-bed7-62f471e3f9b7",
   "metadata": {},
   "source": [
    "### Mention placers!"
   ]
  },
  {
   "cell_type": "code",
   "execution_count": 250,
   "id": "f032afc0-4d39-4320-ad2a-caacc54869e2",
   "metadata": {},
   "outputs": [
    {
     "name": "stderr",
     "output_type": "stream",
     "text": [
      "[09:27:58] UFFTYPER: Unrecognized atom type: Fe3 (0)\n"
     ]
    }
   ],
   "source": [
    "monotopics = [\n",
    "    stk.BuildingBlock(\n",
    "        smiles='CCCBr',\n",
    "        functional_groups=(stk.BromoFactory(placers=(0, 1)), ),\n",
    "    ),\n",
    "    stk.BuildingBlock.init_from_molecule(\n",
    "        molecule=(stk.ConstructedMolecule(\n",
    "            topology_graph=stk.polymer.Linear(\n",
    "                building_blocks=(\n",
    "                    stk.BuildingBlock(\n",
    "                        smiles='CN',\n",
    "                        functional_groups=(stk.PrimaryAminoFactory(), ),\n",
    "                    ), \n",
    "                    stk.BuildingBlock(\n",
    "                        smiles='NCCBr',\n",
    "                        functional_groups=(\n",
    "                            stk.BromoFactory(), \n",
    "                            stk.PrimaryAminoFactory(),\n",
    "                        ),\n",
    "                    ),\n",
    "                ),\n",
    "                repeating_unit='ABB',\n",
    "                num_repeating_units=1,\n",
    "            ),\n",
    "        )),\n",
    "        functional_groups=(stk.PrimaryAminoFactory(placers=(0, 1, 2, 3)), ),\n",
    "    ),\n",
    "    stk.BuildingBlock(\n",
    "        smiles='COCOCC(=O)',\n",
    "        functional_groups=(stk.AldehydeFactory(placers=(0, 1, 2)), ),\n",
    "    ),\n",
    "    stk.BuildingBlock(\n",
    "        smiles='[Fe+][C+][N+][C+]Br',\n",
    "        functional_groups=(stk.BromoFactory(placers=(0, 1)), ),\n",
    "    ),\n",
    "]"
   ]
  },
  {
   "cell_type": "markdown",
   "id": "87395aea-c3d8-40f4-b87e-39d11cc26ade",
   "metadata": {},
   "source": [
    "### Note: Conformers are consistent with set Seed.\n",
    "\n",
    "Therefore, you may want to have a check here that you build a reasonable conformer."
   ]
  },
  {
   "cell_type": "code",
   "execution_count": 251,
   "id": "403e8289-2fe9-4aac-af9b-744e1aa983fe",
   "metadata": {},
   "outputs": [
    {
     "name": "stdout",
     "output_type": "stream",
     "text": [
      "BB has 1 FGs and 2 placers\n"
     ]
    },
    {
     "data": {
      "application/3dmoljs_load.v0": "<div id=\"3dmolviewer_16529452808781989\"  style=\"position: relative; width: 400px; height: 400px\">\n        <p id=\"3dmolwarning_16529452808781989\" style=\"background-color:#ffcccc;color:black\">You appear to be running in JupyterLab (or JavaScript failed to load for some other reason).  You need to install the 3dmol extension: <br>\n        <tt>jupyter labextension install jupyterlab_3dmol</tt></p>\n        </div>\n<script>\n\nvar loadScriptAsync = function(uri){\n  return new Promise((resolve, reject) => {\n    var tag = document.createElement('script');\n    tag.src = uri;\n    tag.async = true;\n    tag.onload = () => {\n      resolve();\n    };\n  var firstScriptTag = document.getElementsByTagName('script')[0];\n  firstScriptTag.parentNode.insertBefore(tag, firstScriptTag);\n});\n};\n\nif(typeof $3Dmolpromise === 'undefined') {\n$3Dmolpromise = null;\n  $3Dmolpromise = loadScriptAsync('https://3dmol.org/build/3Dmol.js');\n}\n\nvar viewer_16529452808781989 = null;\nvar warn = document.getElementById(\"3dmolwarning_16529452808781989\");\nif(warn) {\n    warn.parentNode.removeChild(warn);\n}\n$3Dmolpromise.then(function() {\nviewer_16529452808781989 = $3Dmol.createViewer($(\"#3dmolviewer_16529452808781989\"),{backgroundColor:\"white\"});\nviewer_16529452808781989.addModel(\"\\n     RDKit          3D\\n\\n 11 10  0  0  0  0  0  0  0  0999 V2000\\n   -1.0673   -0.5009   -0.2815 C   0  0  0  0  0  0  0  0  0  0  0  0\\n   -0.1010    0.1183    0.7031 C   0  0  0  0  0  0  0  0  0  0  0  0\\n    1.0902    0.6100   -0.1032 C   0  0  0  0  0  0  0  0  0  0  0  0\\n    1.8367   -0.9583   -0.9829 Br  0  0  0  0  0  0  0  0  0  0  0  0\\n   -0.9667   -0.0696   -1.2978 H   0  0  0  0  0  0  0  0  0  0  0  0\\n   -0.9417   -1.6094   -0.3230 H   0  0  0  0  0  0  0  0  0  0  0  0\\n   -2.1277   -0.3247    0.0326 H   0  0  0  0  0  0  0  0  0  0  0  0\\n   -0.5088    0.9686    1.2514 H   0  0  0  0  0  0  0  0  0  0  0  0\\n    0.1868   -0.6629    1.4215 H   0  0  0  0  0  0  0  0  0  0  0  0\\n    1.8301    1.1402    0.4999 H   0  0  0  0  0  0  0  0  0  0  0  0\\n    0.7694    1.2886   -0.9201 H   0  0  0  0  0  0  0  0  0  0  0  0\\n  1  2  1  0\\n  2  3  1  0\\n  3  4  1  0\\n  1  5  1  0\\n  1  6  1  0\\n  1  7  1  0\\n  2  8  1  0\\n  2  9  1  0\\n  3 10  1  0\\n  3 11  1  0\\nM  END\\n\");\nviewer_16529452808781989.setStyle({\"stick\": {\"colorscheme\": \"cyanCarbon\"}});\nviewer_16529452808781989.zoomTo();\n\tviewer_16529452808781989.setBackgroundColor(\"#000000\");\n\tviewer_16529452808781989.zoomTo();\nviewer_16529452808781989.render();\n});\n</script>",
      "text/html": [
       "<div id=\"3dmolviewer_16529452808781989\"  style=\"position: relative; width: 400px; height: 400px\">\n",
       "        <p id=\"3dmolwarning_16529452808781989\" style=\"background-color:#ffcccc;color:black\">You appear to be running in JupyterLab (or JavaScript failed to load for some other reason).  You need to install the 3dmol extension: <br>\n",
       "        <tt>jupyter labextension install jupyterlab_3dmol</tt></p>\n",
       "        </div>\n",
       "<script>\n",
       "\n",
       "var loadScriptAsync = function(uri){\n",
       "  return new Promise((resolve, reject) => {\n",
       "    var tag = document.createElement('script');\n",
       "    tag.src = uri;\n",
       "    tag.async = true;\n",
       "    tag.onload = () => {\n",
       "      resolve();\n",
       "    };\n",
       "  var firstScriptTag = document.getElementsByTagName('script')[0];\n",
       "  firstScriptTag.parentNode.insertBefore(tag, firstScriptTag);\n",
       "});\n",
       "};\n",
       "\n",
       "if(typeof $3Dmolpromise === 'undefined') {\n",
       "$3Dmolpromise = null;\n",
       "  $3Dmolpromise = loadScriptAsync('https://3dmol.org/build/3Dmol.js');\n",
       "}\n",
       "\n",
       "var viewer_16529452808781989 = null;\n",
       "var warn = document.getElementById(\"3dmolwarning_16529452808781989\");\n",
       "if(warn) {\n",
       "    warn.parentNode.removeChild(warn);\n",
       "}\n",
       "$3Dmolpromise.then(function() {\n",
       "viewer_16529452808781989 = $3Dmol.createViewer($(\"#3dmolviewer_16529452808781989\"),{backgroundColor:\"white\"});\n",
       "viewer_16529452808781989.addModel(\"\\n     RDKit          3D\\n\\n 11 10  0  0  0  0  0  0  0  0999 V2000\\n   -1.0673   -0.5009   -0.2815 C   0  0  0  0  0  0  0  0  0  0  0  0\\n   -0.1010    0.1183    0.7031 C   0  0  0  0  0  0  0  0  0  0  0  0\\n    1.0902    0.6100   -0.1032 C   0  0  0  0  0  0  0  0  0  0  0  0\\n    1.8367   -0.9583   -0.9829 Br  0  0  0  0  0  0  0  0  0  0  0  0\\n   -0.9667   -0.0696   -1.2978 H   0  0  0  0  0  0  0  0  0  0  0  0\\n   -0.9417   -1.6094   -0.3230 H   0  0  0  0  0  0  0  0  0  0  0  0\\n   -2.1277   -0.3247    0.0326 H   0  0  0  0  0  0  0  0  0  0  0  0\\n   -0.5088    0.9686    1.2514 H   0  0  0  0  0  0  0  0  0  0  0  0\\n    0.1868   -0.6629    1.4215 H   0  0  0  0  0  0  0  0  0  0  0  0\\n    1.8301    1.1402    0.4999 H   0  0  0  0  0  0  0  0  0  0  0  0\\n    0.7694    1.2886   -0.9201 H   0  0  0  0  0  0  0  0  0  0  0  0\\n  1  2  1  0\\n  2  3  1  0\\n  3  4  1  0\\n  1  5  1  0\\n  1  6  1  0\\n  1  7  1  0\\n  2  8  1  0\\n  2  9  1  0\\n  3 10  1  0\\n  3 11  1  0\\nM  END\\n\");\n",
       "viewer_16529452808781989.setStyle({\"stick\": {\"colorscheme\": \"cyanCarbon\"}});\n",
       "viewer_16529452808781989.zoomTo();\n",
       "\tviewer_16529452808781989.setBackgroundColor(\"#000000\");\n",
       "\tviewer_16529452808781989.zoomTo();\n",
       "viewer_16529452808781989.render();\n",
       "});\n",
       "</script>"
      ]
     },
     "metadata": {},
     "output_type": "display_data"
    }
   ],
   "source": [
    "show_stk_mol(monotopics[0])"
   ]
  },
  {
   "cell_type": "code",
   "execution_count": 253,
   "id": "87a9bbf4-b6f1-4c9c-965e-4d879566af3d",
   "metadata": {},
   "outputs": [
    {
     "name": "stdout",
     "output_type": "stream",
     "text": [
      "BB has 1 FGs and 4 placers\n"
     ]
    },
    {
     "data": {
      "application/3dmoljs_load.v0": "<div id=\"3dmolviewer_16529452866361911\"  style=\"position: relative; width: 400px; height: 400px\">\n        <p id=\"3dmolwarning_16529452866361911\" style=\"background-color:#ffcccc;color:black\">You appear to be running in JupyterLab (or JavaScript failed to load for some other reason).  You need to install the 3dmol extension: <br>\n        <tt>jupyter labextension install jupyterlab_3dmol</tt></p>\n        </div>\n<script>\n\nvar loadScriptAsync = function(uri){\n  return new Promise((resolve, reject) => {\n    var tag = document.createElement('script');\n    tag.src = uri;\n    tag.async = true;\n    tag.onload = () => {\n      resolve();\n    };\n  var firstScriptTag = document.getElementsByTagName('script')[0];\n  firstScriptTag.parentNode.insertBefore(tag, firstScriptTag);\n});\n};\n\nif(typeof $3Dmolpromise === 'undefined') {\n$3Dmolpromise = null;\n  $3Dmolpromise = loadScriptAsync('https://3dmol.org/build/3Dmol.js');\n}\n\nvar viewer_16529452866361911 = null;\nvar warn = document.getElementById(\"3dmolwarning_16529452866361911\");\nif(warn) {\n    warn.parentNode.removeChild(warn);\n}\n$3Dmolpromise.then(function() {\nviewer_16529452866361911 = $3Dmol.createViewer($(\"#3dmolviewer_16529452866361911\"),{backgroundColor:\"white\"});\nviewer_16529452866361911.addModel(\"\\n     RDKit          3D\\n\\n 21 20  0  0  0  0  0  0  0  0999 V2000\\n   -1.4138   -0.2257    0.0872 C   0  0  0  0  0  0  0  0  0  0  0  0\\n    0.0000    0.0000    0.0000 N   0  0  0  0  0  2  0  0  0  0  0  0\\n   -1.9194    0.7455   -0.1542 H   0  0  0  0  0  0  0  0  0  0  0  0\\n   -1.7322   -0.5170    1.1163 H   0  0  0  0  0  0  0  0  0  0  0  0\\n   -1.7552   -1.0267   -0.6160 H   0  0  0  0  0  0  0  0  0  0  0  0\\n    6.7599    0.0000    0.0000 N   0  0  0  0  0  2  0  0  0  0  0  0\\n    5.6113   -0.0843    0.8937 C   0  0  0  0  0  0  0  0  0  0  0  0\\n    4.3883    0.0000    0.0000 C   0  0  0  0  0  0  0  0  0  0  0  0\\n    5.6837    0.7641    1.5988 H   0  0  0  0  0  0  0  0  0  0  0  0\\n    5.6190   -1.0126    1.4655 H   0  0  0  0  0  0  0  0  0  0  0  0\\n    4.3976    0.9067   -0.6300 H   0  0  0  0  0  0  0  0  0  0  0  0\\n    3.4493   -0.0776    0.5628 H   0  0  0  0  0  0  0  0  0  0  0  0\\n   12.3341   -0.0000   -0.0000 N   0  0  0  0  0  0  0  0  0  0  0  0\\n   11.1855   -0.0843    0.8937 C   0  0  0  0  0  0  0  0  0  0  0  0\\n    9.9625   -0.0000   -0.0000 C   0  0  0  0  0  0  0  0  0  0  0  0\\n   12.4958    1.0197   -0.1651 H   0  0  0  0  0  0  0  0  0  0  0  0\\n   12.0743   -0.3811   -0.9611 H   0  0  0  0  0  0  0  0  0  0  0  0\\n   11.2578    0.7641    1.5988 H   0  0  0  0  0  0  0  0  0  0  0  0\\n   11.1932   -1.0126    1.4655 H   0  0  0  0  0  0  0  0  0  0  0  0\\n    9.9717    0.9067   -0.6300 H   0  0  0  0  0  0  0  0  0  0  0  0\\n    9.0234   -0.0776    0.5628 H   0  0  0  0  0  0  0  0  0  0  0  0\\n  1  2  1  0\\n  1  3  1  0\\n  1  4  1  0\\n  1  5  1  0\\n  6  7  1  0\\n  7  8  1  0\\n  7  9  1  0\\n  7 10  1  0\\n  8 11  1  0\\n  8 12  1  0\\n 13 14  1  0\\n 14 15  1  0\\n 13 16  1  0\\n 13 17  1  0\\n 14 18  1  0\\n 14 19  1  0\\n 15 20  1  0\\n 15 21  1  0\\n  2  8  1  0\\n  6 15  1  0\\nM  END\\n\");\nviewer_16529452866361911.setStyle({\"stick\": {\"colorscheme\": \"cyanCarbon\"}});\nviewer_16529452866361911.zoomTo();\n\tviewer_16529452866361911.setBackgroundColor(\"#000000\");\n\tviewer_16529452866361911.zoomTo();\nviewer_16529452866361911.render();\n});\n</script>",
      "text/html": [
       "<div id=\"3dmolviewer_16529452866361911\"  style=\"position: relative; width: 400px; height: 400px\">\n",
       "        <p id=\"3dmolwarning_16529452866361911\" style=\"background-color:#ffcccc;color:black\">You appear to be running in JupyterLab (or JavaScript failed to load for some other reason).  You need to install the 3dmol extension: <br>\n",
       "        <tt>jupyter labextension install jupyterlab_3dmol</tt></p>\n",
       "        </div>\n",
       "<script>\n",
       "\n",
       "var loadScriptAsync = function(uri){\n",
       "  return new Promise((resolve, reject) => {\n",
       "    var tag = document.createElement('script');\n",
       "    tag.src = uri;\n",
       "    tag.async = true;\n",
       "    tag.onload = () => {\n",
       "      resolve();\n",
       "    };\n",
       "  var firstScriptTag = document.getElementsByTagName('script')[0];\n",
       "  firstScriptTag.parentNode.insertBefore(tag, firstScriptTag);\n",
       "});\n",
       "};\n",
       "\n",
       "if(typeof $3Dmolpromise === 'undefined') {\n",
       "$3Dmolpromise = null;\n",
       "  $3Dmolpromise = loadScriptAsync('https://3dmol.org/build/3Dmol.js');\n",
       "}\n",
       "\n",
       "var viewer_16529452866361911 = null;\n",
       "var warn = document.getElementById(\"3dmolwarning_16529452866361911\");\n",
       "if(warn) {\n",
       "    warn.parentNode.removeChild(warn);\n",
       "}\n",
       "$3Dmolpromise.then(function() {\n",
       "viewer_16529452866361911 = $3Dmol.createViewer($(\"#3dmolviewer_16529452866361911\"),{backgroundColor:\"white\"});\n",
       "viewer_16529452866361911.addModel(\"\\n     RDKit          3D\\n\\n 21 20  0  0  0  0  0  0  0  0999 V2000\\n   -1.4138   -0.2257    0.0872 C   0  0  0  0  0  0  0  0  0  0  0  0\\n    0.0000    0.0000    0.0000 N   0  0  0  0  0  2  0  0  0  0  0  0\\n   -1.9194    0.7455   -0.1542 H   0  0  0  0  0  0  0  0  0  0  0  0\\n   -1.7322   -0.5170    1.1163 H   0  0  0  0  0  0  0  0  0  0  0  0\\n   -1.7552   -1.0267   -0.6160 H   0  0  0  0  0  0  0  0  0  0  0  0\\n    6.7599    0.0000    0.0000 N   0  0  0  0  0  2  0  0  0  0  0  0\\n    5.6113   -0.0843    0.8937 C   0  0  0  0  0  0  0  0  0  0  0  0\\n    4.3883    0.0000    0.0000 C   0  0  0  0  0  0  0  0  0  0  0  0\\n    5.6837    0.7641    1.5988 H   0  0  0  0  0  0  0  0  0  0  0  0\\n    5.6190   -1.0126    1.4655 H   0  0  0  0  0  0  0  0  0  0  0  0\\n    4.3976    0.9067   -0.6300 H   0  0  0  0  0  0  0  0  0  0  0  0\\n    3.4493   -0.0776    0.5628 H   0  0  0  0  0  0  0  0  0  0  0  0\\n   12.3341   -0.0000   -0.0000 N   0  0  0  0  0  0  0  0  0  0  0  0\\n   11.1855   -0.0843    0.8937 C   0  0  0  0  0  0  0  0  0  0  0  0\\n    9.9625   -0.0000   -0.0000 C   0  0  0  0  0  0  0  0  0  0  0  0\\n   12.4958    1.0197   -0.1651 H   0  0  0  0  0  0  0  0  0  0  0  0\\n   12.0743   -0.3811   -0.9611 H   0  0  0  0  0  0  0  0  0  0  0  0\\n   11.2578    0.7641    1.5988 H   0  0  0  0  0  0  0  0  0  0  0  0\\n   11.1932   -1.0126    1.4655 H   0  0  0  0  0  0  0  0  0  0  0  0\\n    9.9717    0.9067   -0.6300 H   0  0  0  0  0  0  0  0  0  0  0  0\\n    9.0234   -0.0776    0.5628 H   0  0  0  0  0  0  0  0  0  0  0  0\\n  1  2  1  0\\n  1  3  1  0\\n  1  4  1  0\\n  1  5  1  0\\n  6  7  1  0\\n  7  8  1  0\\n  7  9  1  0\\n  7 10  1  0\\n  8 11  1  0\\n  8 12  1  0\\n 13 14  1  0\\n 14 15  1  0\\n 13 16  1  0\\n 13 17  1  0\\n 14 18  1  0\\n 14 19  1  0\\n 15 20  1  0\\n 15 21  1  0\\n  2  8  1  0\\n  6 15  1  0\\nM  END\\n\");\n",
       "viewer_16529452866361911.setStyle({\"stick\": {\"colorscheme\": \"cyanCarbon\"}});\n",
       "viewer_16529452866361911.zoomTo();\n",
       "\tviewer_16529452866361911.setBackgroundColor(\"#000000\");\n",
       "\tviewer_16529452866361911.zoomTo();\n",
       "viewer_16529452866361911.render();\n",
       "});\n",
       "</script>"
      ]
     },
     "metadata": {},
     "output_type": "display_data"
    }
   ],
   "source": [
    "show_stk_mol(monotopics[1])"
   ]
  },
  {
   "cell_type": "code",
   "execution_count": 254,
   "id": "1f9fb966-6aeb-40f2-872e-e8d75209e073",
   "metadata": {},
   "outputs": [
    {
     "name": "stdout",
     "output_type": "stream",
     "text": [
      "BB has 1 FGs and 3 placers\n"
     ]
    },
    {
     "data": {
      "application/3dmoljs_load.v0": "<div id=\"3dmolviewer_16529452868570623\"  style=\"position: relative; width: 400px; height: 400px\">\n        <p id=\"3dmolwarning_16529452868570623\" style=\"background-color:#ffcccc;color:black\">You appear to be running in JupyterLab (or JavaScript failed to load for some other reason).  You need to install the 3dmol extension: <br>\n        <tt>jupyter labextension install jupyterlab_3dmol</tt></p>\n        </div>\n<script>\n\nvar loadScriptAsync = function(uri){\n  return new Promise((resolve, reject) => {\n    var tag = document.createElement('script');\n    tag.src = uri;\n    tag.async = true;\n    tag.onload = () => {\n      resolve();\n    };\n  var firstScriptTag = document.getElementsByTagName('script')[0];\n  firstScriptTag.parentNode.insertBefore(tag, firstScriptTag);\n});\n};\n\nif(typeof $3Dmolpromise === 'undefined') {\n$3Dmolpromise = null;\n  $3Dmolpromise = loadScriptAsync('https://3dmol.org/build/3Dmol.js');\n}\n\nvar viewer_16529452868570623 = null;\nvar warn = document.getElementById(\"3dmolwarning_16529452868570623\");\nif(warn) {\n    warn.parentNode.removeChild(warn);\n}\n$3Dmolpromise.then(function() {\nviewer_16529452868570623 = $3Dmol.createViewer($(\"#3dmolviewer_16529452868570623\"),{backgroundColor:\"white\"});\nviewer_16529452868570623.addModel(\"\\n     RDKit          3D\\n\\n 15 14  0  0  0  0  0  0  0  0999 V2000\\n    1.7584    0.6490   -0.3678 C   0  0  0  0  0  0  0  0  0  0  0  0\\n    0.9802   -0.3478   -1.0192 O   0  0  0  0  0  0  0  0  0  0  0  0\\n    0.5911   -1.2007   -0.0195 C   0  0  0  0  0  0  0  0  0  0  0  0\\n   -0.1795   -0.6453    0.9132 O   0  0  0  0  0  0  0  0  0  0  0  0\\n   -1.3959   -0.1566    0.6673 C   0  0  0  0  0  0  0  0  0  0  0  0\\n   -1.7042    0.8814   -0.2944 C   0  0  0  0  0  0  0  0  0  0  0  0\\n   -1.0332    1.4851   -1.0595 O   0  0  0  0  0  0  0  0  0  0  0  0\\n    2.0721    1.3514   -1.1592 H   0  0  0  0  0  0  0  0  0  0  0  0\\n    2.6301    0.1381    0.0881 H   0  0  0  0  0  0  0  0  0  0  0  0\\n    1.2210    1.1523    0.4250 H   0  0  0  0  0  0  0  0  0  0  0  0\\n    1.5507   -1.5401    0.4873 H   0  0  0  0  0  0  0  0  0  0  0  0\\n    0.1787   -2.1572   -0.4611 H   0  0  0  0  0  0  0  0  0  0  0  0\\n   -1.7872    0.2671    1.6736 H   0  0  0  0  0  0  0  0  0  0  0  0\\n   -2.0924   -1.0533    0.4526 H   0  0  0  0  0  0  0  0  0  0  0  0\\n   -2.7897    1.1765   -0.3265 H   0  0  0  0  0  0  0  0  0  0  0  0\\n  1  2  1  0\\n  2  3  1  0\\n  3  4  1  0\\n  4  5  1  0\\n  5  6  1  0\\n  6  7  2  0\\n  1  8  1  0\\n  1  9  1  0\\n  1 10  1  0\\n  3 11  1  0\\n  3 12  1  0\\n  5 13  1  0\\n  5 14  1  0\\n  6 15  1  0\\nM  END\\n\");\nviewer_16529452868570623.setStyle({\"stick\": {\"colorscheme\": \"cyanCarbon\"}});\nviewer_16529452868570623.zoomTo();\n\tviewer_16529452868570623.setBackgroundColor(\"#000000\");\n\tviewer_16529452868570623.zoomTo();\nviewer_16529452868570623.render();\n});\n</script>",
      "text/html": [
       "<div id=\"3dmolviewer_16529452868570623\"  style=\"position: relative; width: 400px; height: 400px\">\n",
       "        <p id=\"3dmolwarning_16529452868570623\" style=\"background-color:#ffcccc;color:black\">You appear to be running in JupyterLab (or JavaScript failed to load for some other reason).  You need to install the 3dmol extension: <br>\n",
       "        <tt>jupyter labextension install jupyterlab_3dmol</tt></p>\n",
       "        </div>\n",
       "<script>\n",
       "\n",
       "var loadScriptAsync = function(uri){\n",
       "  return new Promise((resolve, reject) => {\n",
       "    var tag = document.createElement('script');\n",
       "    tag.src = uri;\n",
       "    tag.async = true;\n",
       "    tag.onload = () => {\n",
       "      resolve();\n",
       "    };\n",
       "  var firstScriptTag = document.getElementsByTagName('script')[0];\n",
       "  firstScriptTag.parentNode.insertBefore(tag, firstScriptTag);\n",
       "});\n",
       "};\n",
       "\n",
       "if(typeof $3Dmolpromise === 'undefined') {\n",
       "$3Dmolpromise = null;\n",
       "  $3Dmolpromise = loadScriptAsync('https://3dmol.org/build/3Dmol.js');\n",
       "}\n",
       "\n",
       "var viewer_16529452868570623 = null;\n",
       "var warn = document.getElementById(\"3dmolwarning_16529452868570623\");\n",
       "if(warn) {\n",
       "    warn.parentNode.removeChild(warn);\n",
       "}\n",
       "$3Dmolpromise.then(function() {\n",
       "viewer_16529452868570623 = $3Dmol.createViewer($(\"#3dmolviewer_16529452868570623\"),{backgroundColor:\"white\"});\n",
       "viewer_16529452868570623.addModel(\"\\n     RDKit          3D\\n\\n 15 14  0  0  0  0  0  0  0  0999 V2000\\n    1.7584    0.6490   -0.3678 C   0  0  0  0  0  0  0  0  0  0  0  0\\n    0.9802   -0.3478   -1.0192 O   0  0  0  0  0  0  0  0  0  0  0  0\\n    0.5911   -1.2007   -0.0195 C   0  0  0  0  0  0  0  0  0  0  0  0\\n   -0.1795   -0.6453    0.9132 O   0  0  0  0  0  0  0  0  0  0  0  0\\n   -1.3959   -0.1566    0.6673 C   0  0  0  0  0  0  0  0  0  0  0  0\\n   -1.7042    0.8814   -0.2944 C   0  0  0  0  0  0  0  0  0  0  0  0\\n   -1.0332    1.4851   -1.0595 O   0  0  0  0  0  0  0  0  0  0  0  0\\n    2.0721    1.3514   -1.1592 H   0  0  0  0  0  0  0  0  0  0  0  0\\n    2.6301    0.1381    0.0881 H   0  0  0  0  0  0  0  0  0  0  0  0\\n    1.2210    1.1523    0.4250 H   0  0  0  0  0  0  0  0  0  0  0  0\\n    1.5507   -1.5401    0.4873 H   0  0  0  0  0  0  0  0  0  0  0  0\\n    0.1787   -2.1572   -0.4611 H   0  0  0  0  0  0  0  0  0  0  0  0\\n   -1.7872    0.2671    1.6736 H   0  0  0  0  0  0  0  0  0  0  0  0\\n   -2.0924   -1.0533    0.4526 H   0  0  0  0  0  0  0  0  0  0  0  0\\n   -2.7897    1.1765   -0.3265 H   0  0  0  0  0  0  0  0  0  0  0  0\\n  1  2  1  0\\n  2  3  1  0\\n  3  4  1  0\\n  4  5  1  0\\n  5  6  1  0\\n  6  7  2  0\\n  1  8  1  0\\n  1  9  1  0\\n  1 10  1  0\\n  3 11  1  0\\n  3 12  1  0\\n  5 13  1  0\\n  5 14  1  0\\n  6 15  1  0\\nM  END\\n\");\n",
       "viewer_16529452868570623.setStyle({\"stick\": {\"colorscheme\": \"cyanCarbon\"}});\n",
       "viewer_16529452868570623.zoomTo();\n",
       "\tviewer_16529452868570623.setBackgroundColor(\"#000000\");\n",
       "\tviewer_16529452868570623.zoomTo();\n",
       "viewer_16529452868570623.render();\n",
       "});\n",
       "</script>"
      ]
     },
     "metadata": {},
     "output_type": "display_data"
    }
   ],
   "source": [
    "show_stk_mol(monotopics[2])"
   ]
  },
  {
   "cell_type": "code",
   "execution_count": 255,
   "id": "781f1417-ba26-488c-961b-7f3be117d4d3",
   "metadata": {},
   "outputs": [
    {
     "name": "stdout",
     "output_type": "stream",
     "text": [
      "BB has 1 FGs and 2 placers\n"
     ]
    },
    {
     "data": {
      "application/3dmoljs_load.v0": "<div id=\"3dmolviewer_16529452873747547\"  style=\"position: relative; width: 400px; height: 400px\">\n        <p id=\"3dmolwarning_16529452873747547\" style=\"background-color:#ffcccc;color:black\">You appear to be running in JupyterLab (or JavaScript failed to load for some other reason).  You need to install the 3dmol extension: <br>\n        <tt>jupyter labextension install jupyterlab_3dmol</tt></p>\n        </div>\n<script>\n\nvar loadScriptAsync = function(uri){\n  return new Promise((resolve, reject) => {\n    var tag = document.createElement('script');\n    tag.src = uri;\n    tag.async = true;\n    tag.onload = () => {\n      resolve();\n    };\n  var firstScriptTag = document.getElementsByTagName('script')[0];\n  firstScriptTag.parentNode.insertBefore(tag, firstScriptTag);\n});\n};\n\nif(typeof $3Dmolpromise === 'undefined') {\n$3Dmolpromise = null;\n  $3Dmolpromise = loadScriptAsync('https://3dmol.org/build/3Dmol.js');\n}\n\nvar viewer_16529452873747547 = null;\nvar warn = document.getElementById(\"3dmolwarning_16529452873747547\");\nif(warn) {\n    warn.parentNode.removeChild(warn);\n}\n$3Dmolpromise.then(function() {\nviewer_16529452873747547 = $3Dmol.createViewer($(\"#3dmolviewer_16529452873747547\"),{backgroundColor:\"white\"});\nviewer_16529452873747547.addModel(\"\\n     RDKit          3D\\n\\n  5  4  0  0  0  0  0  0  0  0999 V2000\\n   -1.5087    1.1710    0.2836 Fe  0  0  0  0  0  1  0  0  0  0  0  0\\n   -1.2017   -0.5425    0.5735 C   0  0  0  0  0  2  0  0  0  0  0  0\\n   -0.0158   -1.2531    0.2214 N   0  0  0  0  0  2  0  0  0  0  0  0\\n    1.1652   -0.5966    0.5847 C   0  0  0  0  0  2  0  0  0  0  0  0\\n    1.5611    1.2212    0.2676 Br  0  0  0  0  0  0  0  0  0  0  0  0\\n  1  2  1  0\\n  2  3  1  0\\n  3  4  1  0\\n  4  5  1  0\\nM  CHG  4   1   1   2   1   3   1   4   1\\nM  END\\n\");\nviewer_16529452873747547.setStyle({\"stick\": {\"colorscheme\": \"cyanCarbon\"}});\nviewer_16529452873747547.zoomTo();\n\tviewer_16529452873747547.setBackgroundColor(\"#000000\");\n\tviewer_16529452873747547.zoomTo();\nviewer_16529452873747547.render();\n});\n</script>",
      "text/html": [
       "<div id=\"3dmolviewer_16529452873747547\"  style=\"position: relative; width: 400px; height: 400px\">\n",
       "        <p id=\"3dmolwarning_16529452873747547\" style=\"background-color:#ffcccc;color:black\">You appear to be running in JupyterLab (or JavaScript failed to load for some other reason).  You need to install the 3dmol extension: <br>\n",
       "        <tt>jupyter labextension install jupyterlab_3dmol</tt></p>\n",
       "        </div>\n",
       "<script>\n",
       "\n",
       "var loadScriptAsync = function(uri){\n",
       "  return new Promise((resolve, reject) => {\n",
       "    var tag = document.createElement('script');\n",
       "    tag.src = uri;\n",
       "    tag.async = true;\n",
       "    tag.onload = () => {\n",
       "      resolve();\n",
       "    };\n",
       "  var firstScriptTag = document.getElementsByTagName('script')[0];\n",
       "  firstScriptTag.parentNode.insertBefore(tag, firstScriptTag);\n",
       "});\n",
       "};\n",
       "\n",
       "if(typeof $3Dmolpromise === 'undefined') {\n",
       "$3Dmolpromise = null;\n",
       "  $3Dmolpromise = loadScriptAsync('https://3dmol.org/build/3Dmol.js');\n",
       "}\n",
       "\n",
       "var viewer_16529452873747547 = null;\n",
       "var warn = document.getElementById(\"3dmolwarning_16529452873747547\");\n",
       "if(warn) {\n",
       "    warn.parentNode.removeChild(warn);\n",
       "}\n",
       "$3Dmolpromise.then(function() {\n",
       "viewer_16529452873747547 = $3Dmol.createViewer($(\"#3dmolviewer_16529452873747547\"),{backgroundColor:\"white\"});\n",
       "viewer_16529452873747547.addModel(\"\\n     RDKit          3D\\n\\n  5  4  0  0  0  0  0  0  0  0999 V2000\\n   -1.5087    1.1710    0.2836 Fe  0  0  0  0  0  1  0  0  0  0  0  0\\n   -1.2017   -0.5425    0.5735 C   0  0  0  0  0  2  0  0  0  0  0  0\\n   -0.0158   -1.2531    0.2214 N   0  0  0  0  0  2  0  0  0  0  0  0\\n    1.1652   -0.5966    0.5847 C   0  0  0  0  0  2  0  0  0  0  0  0\\n    1.5611    1.2212    0.2676 Br  0  0  0  0  0  0  0  0  0  0  0  0\\n  1  2  1  0\\n  2  3  1  0\\n  3  4  1  0\\n  4  5  1  0\\nM  CHG  4   1   1   2   1   3   1   4   1\\nM  END\\n\");\n",
       "viewer_16529452873747547.setStyle({\"stick\": {\"colorscheme\": \"cyanCarbon\"}});\n",
       "viewer_16529452873747547.zoomTo();\n",
       "\tviewer_16529452873747547.setBackgroundColor(\"#000000\");\n",
       "\tviewer_16529452873747547.zoomTo();\n",
       "viewer_16529452873747547.render();\n",
       "});\n",
       "</script>"
      ]
     },
     "metadata": {},
     "output_type": "display_data"
    }
   ],
   "source": [
    "show_stk_mol(monotopics[3])"
   ]
  },
  {
   "cell_type": "markdown",
   "id": "b1dc1269-e879-463b-866b-c7cc6665aece",
   "metadata": {},
   "source": [
    "## Building the components\n",
    "\n",
    "### We need a new topology - how hard should that be?\n",
    "\n",
    "* A lot of merging other functions.\n",
    "\n",
    "### We do I use a Cage base class here??\n",
    "\n",
    "* Vertices: Handling Monodentate is the same\n",
    "* But edge assignment and organic nature fits cages better"
   ]
  },
  {
   "cell_type": "code",
   "execution_count": 138,
   "id": "7c3c8d61-126d-4090-8a1f-544868645f1c",
   "metadata": {},
   "outputs": [],
   "source": [
    "from stk.molecular.topology_graphs.cage.vertices import _CageVertex"
   ]
  },
  {
   "cell_type": "code",
   "execution_count": 139,
   "id": "dfefd077-6b22-4ce4-b1b7-f28732f74ecf",
   "metadata": {},
   "outputs": [],
   "source": [
    "class TerminalVertex(_CageVertex):\n",
    "    \n",
    "    def place_building_block(self, building_block, edges):\n",
    "        building_block = building_block.with_centroid(\n",
    "            position=self._position,\n",
    "            atom_ids=building_block.get_core_atom_ids(),\n",
    "        )\n",
    "        # return building_block.get_position_matrix()\n",
    "        fg, = building_block.get_functional_groups()\n",
    "        fg_centroid = building_block.get_centroid(\n",
    "            atom_ids=fg.get_placer_ids(),\n",
    "        )\n",
    "        core_centroid = building_block.get_centroid(\n",
    "            atom_ids=building_block.get_core_atom_ids(),\n",
    "        )\n",
    "        edge_centroid = (\n",
    "            sum(edge.get_position() for edge in edges) / len(edges)\n",
    "        )\n",
    "        return building_block.with_rotation_between_vectors(\n",
    "            start=(fg_centroid - core_centroid),\n",
    "            # _cap_direction is defined by a subclass.\n",
    "            target=edge_centroid - self._position,\n",
    "            origin=self._position,\n",
    "        ).get_position_matrix()\n",
    "    \n",
    "    def map_functional_groups_to_edges(self, building_block, edges):\n",
    "\n",
    "        return {\n",
    "            fg_id: edge.get_id() for fg_id, edge in enumerate(edges)\n",
    "        }"
   ]
  },
  {
   "cell_type": "code",
   "execution_count": 140,
   "id": "efc54bb0-65dd-4d74-adc1-c8d8f9dcbb1b",
   "metadata": {},
   "outputs": [],
   "source": [
    "class Core(stk.cage.Cage):\n",
    "    # Special vertex definitions to be maintained.    \n",
    "    # Vertex ID, position.\n",
    "    # Note the classes are Cage specific!\n",
    "    _vertex_prototypes = (\n",
    "        stk.cage.NonLinearVertex(0, (0, 0, 0)),\n",
    "        TerminalVertex(\n",
    "            id=1, \n",
    "            position=(2, 0, 0), \n",
    "            use_neighbor_placement=False,\n",
    "        ),        \n",
    "        TerminalVertex(\n",
    "            id=2, \n",
    "            position=(-1.2, 1., 0), \n",
    "            use_neighbor_placement=False,\n",
    "        ),\n",
    "        TerminalVertex(\n",
    "            id=3, \n",
    "            position=(-1.2, -1., 0), \n",
    "            use_neighbor_placement=False,\n",
    "        ),\n",
    "    )\n",
    "\n",
    "    # But Edges are not!\n",
    "    _edge_prototypes = (\n",
    "        # Edge ID, connected vertices by ID above.\n",
    "        stk.Edge(\n",
    "            id=0,\n",
    "            vertex1=_vertex_prototypes[0],\n",
    "            vertex2=_vertex_prototypes[1],\n",
    "        ),\n",
    "        stk.Edge(\n",
    "            id=1,\n",
    "            vertex1=_vertex_prototypes[0],\n",
    "            vertex2=_vertex_prototypes[2],\n",
    "        ),\n",
    "        stk.Edge(\n",
    "            id=2,\n",
    "            vertex1=_vertex_prototypes[0],\n",
    "            vertex2=_vertex_prototypes[3],\n",
    "        ),\n",
    "    )"
   ]
  },
  {
   "cell_type": "markdown",
   "id": "fb18df61-3d5a-4641-9c6f-e2326396eeaf",
   "metadata": {},
   "source": [
    "### I promise that I am telling the truth about how long this took.\n",
    "\n",
    "Because of the placers and the `use_neighbour_placement`, it took far longer than it should have (30 mins still!)"
   ]
  },
  {
   "cell_type": "code",
   "execution_count": 154,
   "id": "18b091a3-7bdb-461d-a0c3-f7f471c8dbff",
   "metadata": {},
   "outputs": [],
   "source": [
    "cores = []\n",
    "for i, (cent, mono) in enumerate(product(tritopics, monotopics)):\n",
    "    core = stk.ConstructedMolecule(\n",
    "        Core(\n",
    "            building_blocks={\n",
    "                cent: (0, ), \n",
    "                mono: (1, 2, 3),\n",
    "            },\n",
    "        )\n",
    "    )\n",
    "    cores.append(core)"
   ]
  },
  {
   "cell_type": "code",
   "execution_count": 155,
   "id": "39eb883b-5e94-48fe-a943-e3a6b1fe543b",
   "metadata": {},
   "outputs": [
    {
     "data": {
      "application/3dmoljs_load.v0": "<div id=\"3dmolviewer_1652888435567011\"  style=\"position: relative; width: 400px; height: 400px\">\n        <p id=\"3dmolwarning_1652888435567011\" style=\"background-color:#ffcccc;color:black\">You appear to be running in JupyterLab (or JavaScript failed to load for some other reason).  You need to install the 3dmol extension: <br>\n        <tt>jupyter labextension install jupyterlab_3dmol</tt></p>\n        </div>\n<script>\n\nvar loadScriptAsync = function(uri){\n  return new Promise((resolve, reject) => {\n    var tag = document.createElement('script');\n    tag.src = uri;\n    tag.async = true;\n    tag.onload = () => {\n      resolve();\n    };\n  var firstScriptTag = document.getElementsByTagName('script')[0];\n  firstScriptTag.parentNode.insertBefore(tag, firstScriptTag);\n});\n};\n\nif(typeof $3Dmolpromise === 'undefined') {\n$3Dmolpromise = null;\n  $3Dmolpromise = loadScriptAsync('https://3dmol.org/build/3Dmol.js');\n}\n\nvar viewer_1652888435567011 = null;\nvar warn = document.getElementById(\"3dmolwarning_1652888435567011\");\nif(warn) {\n    warn.parentNode.removeChild(warn);\n}\n$3Dmolpromise.then(function() {\nviewer_1652888435567011 = $3Dmol.createViewer($(\"#3dmolviewer_1652888435567011\"),{backgroundColor:\"white\"});\nviewer_1652888435567011.addModel(\"\\n     RDKit          3D\\n\\n 13 12  0  0  0  0  0  0  0  0999 V2000\\n    0.0000    0.0000    0.0000 C   0  0  0  0  0  3  0  0  0  0  0  0\\n    9.4471   -1.7589   -0.1864 Fe  0  0  0  0  0  1  0  0  0  0  0  0\\n    9.7251   -0.0511    0.1608 C   0  0  0  0  0  2  0  0  0  0  0  0\\n    8.8447    1.0241   -0.1614 N   0  0  0  0  0  2  0  0  0  0  0  0\\n    7.5107    0.7858    0.1869 C   0  0  0  0  0  2  0  0  0  0  0  0\\n   -4.6338    6.1583   -0.1235 Fe  0  0  0  0  0  1  0  0  0  0  0  0\\n   -5.9479    5.0156    0.1626 C   0  0  0  0  0  2  0  0  0  0  0  0\\n   -5.9521    3.6353   -0.1978 N   0  0  0  0  0  2  0  0  0  0  0  0\\n   -4.7828    2.9547    0.1588 C   0  0  0  0  0  2  0  0  0  0  0  0\\n   -6.8926   -3.4477   -0.1308 Fe  0  0  0  0  0  1  0  0  0  0  0  0\\n   -6.0064   -4.9455    0.1624 C   0  0  0  0  0  2  0  0  0  0  0  0\\n   -4.6485   -5.1996   -0.1936 N   0  0  0  0  0  2  0  0  0  0  0  0\\n   -3.7691   -4.1710    0.1620 C   0  0  0  0  0  2  0  0  0  0  0  0\\n  2  3  1  0\\n  3  4  1  0\\n  4  5  1  0\\n  6  7  1  0\\n  7  8  1  0\\n  8  9  1  0\\n 10 11  1  0\\n 11 12  1  0\\n 12 13  1  0\\n  1  5  1  0\\n  1  9  1  0\\n  1 13  1  0\\nM  CHG  8   1   1   2   1   3   1   4   1   5   1   6   1   7   1   8   1\\nM  CHG  5   9   1  10   1  11   1  12   1  13   1\\nM  END\\n\");\nviewer_1652888435567011.setStyle({\"stick\": {\"colorscheme\": \"cyanCarbon\"}});\nviewer_1652888435567011.zoomTo();\n\tviewer_1652888435567011.setBackgroundColor(\"#000000\");\n\tviewer_1652888435567011.zoomTo();\nviewer_1652888435567011.render();\n});\n</script>",
      "text/html": [
       "<div id=\"3dmolviewer_1652888435567011\"  style=\"position: relative; width: 400px; height: 400px\">\n",
       "        <p id=\"3dmolwarning_1652888435567011\" style=\"background-color:#ffcccc;color:black\">You appear to be running in JupyterLab (or JavaScript failed to load for some other reason).  You need to install the 3dmol extension: <br>\n",
       "        <tt>jupyter labextension install jupyterlab_3dmol</tt></p>\n",
       "        </div>\n",
       "<script>\n",
       "\n",
       "var loadScriptAsync = function(uri){\n",
       "  return new Promise((resolve, reject) => {\n",
       "    var tag = document.createElement('script');\n",
       "    tag.src = uri;\n",
       "    tag.async = true;\n",
       "    tag.onload = () => {\n",
       "      resolve();\n",
       "    };\n",
       "  var firstScriptTag = document.getElementsByTagName('script')[0];\n",
       "  firstScriptTag.parentNode.insertBefore(tag, firstScriptTag);\n",
       "});\n",
       "};\n",
       "\n",
       "if(typeof $3Dmolpromise === 'undefined') {\n",
       "$3Dmolpromise = null;\n",
       "  $3Dmolpromise = loadScriptAsync('https://3dmol.org/build/3Dmol.js');\n",
       "}\n",
       "\n",
       "var viewer_1652888435567011 = null;\n",
       "var warn = document.getElementById(\"3dmolwarning_1652888435567011\");\n",
       "if(warn) {\n",
       "    warn.parentNode.removeChild(warn);\n",
       "}\n",
       "$3Dmolpromise.then(function() {\n",
       "viewer_1652888435567011 = $3Dmol.createViewer($(\"#3dmolviewer_1652888435567011\"),{backgroundColor:\"white\"});\n",
       "viewer_1652888435567011.addModel(\"\\n     RDKit          3D\\n\\n 13 12  0  0  0  0  0  0  0  0999 V2000\\n    0.0000    0.0000    0.0000 C   0  0  0  0  0  3  0  0  0  0  0  0\\n    9.4471   -1.7589   -0.1864 Fe  0  0  0  0  0  1  0  0  0  0  0  0\\n    9.7251   -0.0511    0.1608 C   0  0  0  0  0  2  0  0  0  0  0  0\\n    8.8447    1.0241   -0.1614 N   0  0  0  0  0  2  0  0  0  0  0  0\\n    7.5107    0.7858    0.1869 C   0  0  0  0  0  2  0  0  0  0  0  0\\n   -4.6338    6.1583   -0.1235 Fe  0  0  0  0  0  1  0  0  0  0  0  0\\n   -5.9479    5.0156    0.1626 C   0  0  0  0  0  2  0  0  0  0  0  0\\n   -5.9521    3.6353   -0.1978 N   0  0  0  0  0  2  0  0  0  0  0  0\\n   -4.7828    2.9547    0.1588 C   0  0  0  0  0  2  0  0  0  0  0  0\\n   -6.8926   -3.4477   -0.1308 Fe  0  0  0  0  0  1  0  0  0  0  0  0\\n   -6.0064   -4.9455    0.1624 C   0  0  0  0  0  2  0  0  0  0  0  0\\n   -4.6485   -5.1996   -0.1936 N   0  0  0  0  0  2  0  0  0  0  0  0\\n   -3.7691   -4.1710    0.1620 C   0  0  0  0  0  2  0  0  0  0  0  0\\n  2  3  1  0\\n  3  4  1  0\\n  4  5  1  0\\n  6  7  1  0\\n  7  8  1  0\\n  8  9  1  0\\n 10 11  1  0\\n 11 12  1  0\\n 12 13  1  0\\n  1  5  1  0\\n  1  9  1  0\\n  1 13  1  0\\nM  CHG  8   1   1   2   1   3   1   4   1   5   1   6   1   7   1   8   1\\nM  CHG  5   9   1  10   1  11   1  12   1  13   1\\nM  END\\n\");\n",
       "viewer_1652888435567011.setStyle({\"stick\": {\"colorscheme\": \"cyanCarbon\"}});\n",
       "viewer_1652888435567011.zoomTo();\n",
       "\tviewer_1652888435567011.setBackgroundColor(\"#000000\");\n",
       "\tviewer_1652888435567011.zoomTo();\n",
       "viewer_1652888435567011.render();\n",
       "});\n",
       "</script>"
      ]
     },
     "metadata": {},
     "output_type": "display_data"
    }
   ],
   "source": [
    "show_stk_mol(cores[-1])"
   ]
  },
  {
   "cell_type": "code",
   "execution_count": 232,
   "id": "3da654aa-7f32-432c-b75e-d2817567deb4",
   "metadata": {},
   "outputs": [
    {
     "name": "stdout",
     "output_type": "stream",
     "text": [
      "built 12 cores\n"
     ]
    }
   ],
   "source": [
    "cores = []\n",
    "for i, (cent, mono) in enumerate(product(tritopics, monotopics)):\n",
    "    core = stk.ConstructedMolecule(\n",
    "        Core(\n",
    "            building_blocks={\n",
    "                cent: (0, ), \n",
    "                mono: (1, 2, 3),\n",
    "            },\n",
    "            optimizer=stk.MCHammer(),\n",
    "        )\n",
    "    )\n",
    "    # opt = stko.UFF()\n",
    "    # core = opt.optimize(core)\n",
    "    cores.append(core)\n",
    "\n",
    "print(f'built {len(cores)} cores')"
   ]
  },
  {
   "cell_type": "code",
   "execution_count": 233,
   "id": "829e7ecf-2f10-41e8-8ac0-e05739f012db",
   "metadata": {},
   "outputs": [
    {
     "data": {
      "application/3dmoljs_load.v0": "<div id=\"3dmolviewer_1652945149391477\"  style=\"position: relative; width: 400px; height: 400px\">\n        <p id=\"3dmolwarning_1652945149391477\" style=\"background-color:#ffcccc;color:black\">You appear to be running in JupyterLab (or JavaScript failed to load for some other reason).  You need to install the 3dmol extension: <br>\n        <tt>jupyter labextension install jupyterlab_3dmol</tt></p>\n        </div>\n<script>\n\nvar loadScriptAsync = function(uri){\n  return new Promise((resolve, reject) => {\n    var tag = document.createElement('script');\n    tag.src = uri;\n    tag.async = true;\n    tag.onload = () => {\n      resolve();\n    };\n  var firstScriptTag = document.getElementsByTagName('script')[0];\n  firstScriptTag.parentNode.insertBefore(tag, firstScriptTag);\n});\n};\n\nif(typeof $3Dmolpromise === 'undefined') {\n$3Dmolpromise = null;\n  $3Dmolpromise = loadScriptAsync('https://3dmol.org/build/3Dmol.js');\n}\n\nvar viewer_1652945149391477 = null;\nvar warn = document.getElementById(\"3dmolwarning_1652945149391477\");\nif(warn) {\n    warn.parentNode.removeChild(warn);\n}\n$3Dmolpromise.then(function() {\nviewer_1652945149391477 = $3Dmol.createViewer($(\"#3dmolviewer_1652945149391477\"),{backgroundColor:\"white\"});\nviewer_1652945149391477.addModel(\"\\n     RDKit          3D\\n\\n 58 57  0  0  0  0  0  0  0  0999 V2000\\n   -0.2189   -0.7970    0.0305 C   0  0  0  0  0  3  0  0  0  0  0  0\\n   15.0821   -1.0818    0.7600 C   0  0  0  0  0  0  0  0  0  0  0  0\\n   13.6612   -0.9060    0.8473 N   0  0  0  0  0  2  0  0  0  0  0  0\\n   15.5474   -0.3953    1.5145 H   0  0  0  0  0  0  0  0  0  0  0  0\\n   15.4825   -0.7928   -0.2407 H   0  0  0  0  0  0  0  0  0  0  0  0\\n   15.3870   -2.1403    0.9577 H   0  0  0  0  0  0  0  0  0  0  0  0\\n    6.9217   -0.7616    0.3424 N   0  0  0  0  0  2  0  0  0  0  0  0\\n    8.1354   -0.3861   -0.3724 C   0  0  0  0  0  0  0  0  0  0  0  0\\n    9.2861   -0.8123    0.5195 C   0  0  0  0  0  0  0  0  0  0  0  0\\n    8.0978    0.7080   -0.5267 H   0  0  0  0  0  0  0  0  0  0  0  0\\n    8.1902   -0.8724   -1.3468 H   0  0  0  0  0  0  0  0  0  0  0  0\\n    9.2105   -0.3747    1.5304 H   0  0  0  0  0  0  0  0  0  0  0  0\\n   10.2661   -0.6012    0.0726 H   0  0  0  0  0  0  0  0  0  0  0  0\\n    1.3644   -0.6426   -0.0739 N   0  0  0  0  0  2  0  0  0  0  0  0\\n    2.5781   -0.2671   -0.7887 C   0  0  0  0  0  0  0  0  0  0  0  0\\n    3.7288   -0.6933    0.1032 C   0  0  0  0  0  0  0  0  0  0  0  0\\n    2.5405    0.8270   -0.9430 H   0  0  0  0  0  0  0  0  0  0  0  0\\n    2.6329   -0.7534   -1.7631 H   0  0  0  0  0  0  0  0  0  0  0  0\\n    3.6532   -0.2557    1.1141 H   0  0  0  0  0  0  0  0  0  0  0  0\\n    4.7088   -0.4822   -0.3437 H   0  0  0  0  0  0  0  0  0  0  0  0\\n  -11.3085    9.4431   -0.8982 C   0  0  0  0  0  0  0  0  0  0  0  0\\n  -10.0915    8.6839   -0.8846 N   0  0  0  0  0  2  0  0  0  0  0  0\\n  -11.0425   10.4890   -1.2024 H   0  0  0  0  0  0  0  0  0  0  0  0\\n  -11.7801    9.5026    0.1114 H   0  0  0  0  0  0  0  0  0  0  0  0\\n  -12.0635    9.0133   -1.6036 H   0  0  0  0  0  0  0  0  0  0  0  0\\n   -4.9977    4.2691   -0.3761 N   0  0  0  0  0  2  0  0  0  0  0  0\\n   -5.9538    5.0175    0.4306 C   0  0  0  0  0  0  0  0  0  0  0  0\\n   -6.7847    5.8179   -0.5545 C   0  0  0  0  0  0  0  0  0  0  0  0\\n   -5.3704    5.6589    1.1165 H   0  0  0  0  0  0  0  0  0  0  0  0\\n   -6.5798    4.3521    1.0257 H   0  0  0  0  0  0  0  0  0  0  0  0\\n   -6.1579    6.4520   -1.2057 H   0  0  0  0  0  0  0  0  0  0  0  0\\n   -7.5655    6.4117   -0.0621 H   0  0  0  0  0  0  0  0  0  0  0  0\\n   -0.7974    0.6287    0.0433 N   0  0  0  0  0  2  0  0  0  0  0  0\\n   -1.7535    1.3771    0.8499 C   0  0  0  0  0  0  0  0  0  0  0  0\\n   -2.5844    2.1775   -0.1351 C   0  0  0  0  0  0  0  0  0  0  0  0\\n   -1.1701    2.0185    1.5359 H   0  0  0  0  0  0  0  0  0  0  0  0\\n   -2.3795    0.7117    1.4450 H   0  0  0  0  0  0  0  0  0  0  0  0\\n   -1.9576    2.8116   -0.7864 H   0  0  0  0  0  0  0  0  0  0  0  0\\n   -3.3652    2.7713    0.3572 H   0  0  0  0  0  0  0  0  0  0  0  0\\n  -12.0840  -10.4787   -0.9011 C   0  0  0  0  0  0  0  0  0  0  0  0\\n  -11.1171   -9.4194   -0.8770 N   0  0  0  0  0  2  0  0  0  0  0  0\\n  -13.0744  -10.0170   -1.1522 H   0  0  0  0  0  0  0  0  0  0  0  0\\n  -12.1928  -10.9736    0.0931 H   0  0  0  0  0  0  0  0  0  0  0  0\\n  -11.8226  -11.2686   -1.6496 H   0  0  0  0  0  0  0  0  0  0  0  0\\n   -5.8386   -5.2262   -0.3762 N   0  0  0  0  0  2  0  0  0  0  0  0\\n   -6.7193   -6.0652    0.4272 C   0  0  0  0  0  0  0  0  0  0  0  0\\n   -7.6905   -6.6973   -0.5519 C   0  0  0  0  0  0  0  0  0  0  0  0\\n   -7.2204   -5.4052    1.1590 H   0  0  0  0  0  0  0  0  0  0  0  0\\n   -6.1578   -6.8246    0.9721 H   0  0  0  0  0  0  0  0  0  0  0  0\\n   -8.2228   -5.9403   -1.1541 H   0  0  0  0  0  0  0  0  0  0  0  0\\n   -8.3983   -7.3786   -0.0626 H   0  0  0  0  0  0  0  0  0  0  0  0\\n   -1.4861   -1.7685    0.0367 N   0  0  0  0  0  2  0  0  0  0  0  0\\n   -2.3667   -2.6075    0.8401 C   0  0  0  0  0  0  0  0  0  0  0  0\\n   -3.3379   -3.2396   -0.1390 C   0  0  0  0  0  0  0  0  0  0  0  0\\n   -2.8678   -1.9475    1.5720 H   0  0  0  0  0  0  0  0  0  0  0  0\\n   -1.8053   -3.3670    1.3850 H   0  0  0  0  0  0  0  0  0  0  0  0\\n   -3.8703   -2.4826   -0.7412 H   0  0  0  0  0  0  0  0  0  0  0  0\\n   -4.0457   -3.9209    0.3503 H   0  0  0  0  0  0  0  0  0  0  0  0\\n  2  3  1  0\\n  2  4  1  0\\n  2  5  1  0\\n  2  6  1  0\\n  7  8  1  0\\n  8  9  1  0\\n  8 10  1  0\\n  8 11  1  0\\n  9 12  1  0\\n  9 13  1  0\\n 14 15  1  0\\n 15 16  1  0\\n 15 17  1  0\\n 15 18  1  0\\n 16 19  1  0\\n 16 20  1  0\\n  3  9  1  0\\n  7 16  1  0\\n 21 22  1  0\\n 21 23  1  0\\n 21 24  1  0\\n 21 25  1  0\\n 26 27  1  0\\n 27 28  1  0\\n 27 29  1  0\\n 27 30  1  0\\n 28 31  1  0\\n 28 32  1  0\\n 33 34  1  0\\n 34 35  1  0\\n 34 36  1  0\\n 34 37  1  0\\n 35 38  1  0\\n 35 39  1  0\\n 22 28  1  0\\n 26 35  1  0\\n 40 41  1  0\\n 40 42  1  0\\n 40 43  1  0\\n 40 44  1  0\\n 45 46  1  0\\n 46 47  1  0\\n 46 48  1  0\\n 46 49  1  0\\n 47 50  1  0\\n 47 51  1  0\\n 52 53  1  0\\n 53 54  1  0\\n 53 55  1  0\\n 53 56  1  0\\n 54 57  1  0\\n 54 58  1  0\\n 41 47  1  0\\n 45 54  1  0\\n  1 14  1  0\\n  1 33  1  0\\n  1 52  1  0\\nM  CHG  1   1   1\\nM  END\\n\");\nviewer_1652945149391477.setStyle({\"stick\": {\"colorscheme\": \"cyanCarbon\"}});\nviewer_1652945149391477.zoomTo();\n\tviewer_1652945149391477.setBackgroundColor(\"#000000\");\n\tviewer_1652945149391477.zoomTo();\nviewer_1652945149391477.render();\n});\n</script>",
      "text/html": [
       "<div id=\"3dmolviewer_1652945149391477\"  style=\"position: relative; width: 400px; height: 400px\">\n",
       "        <p id=\"3dmolwarning_1652945149391477\" style=\"background-color:#ffcccc;color:black\">You appear to be running in JupyterLab (or JavaScript failed to load for some other reason).  You need to install the 3dmol extension: <br>\n",
       "        <tt>jupyter labextension install jupyterlab_3dmol</tt></p>\n",
       "        </div>\n",
       "<script>\n",
       "\n",
       "var loadScriptAsync = function(uri){\n",
       "  return new Promise((resolve, reject) => {\n",
       "    var tag = document.createElement('script');\n",
       "    tag.src = uri;\n",
       "    tag.async = true;\n",
       "    tag.onload = () => {\n",
       "      resolve();\n",
       "    };\n",
       "  var firstScriptTag = document.getElementsByTagName('script')[0];\n",
       "  firstScriptTag.parentNode.insertBefore(tag, firstScriptTag);\n",
       "});\n",
       "};\n",
       "\n",
       "if(typeof $3Dmolpromise === 'undefined') {\n",
       "$3Dmolpromise = null;\n",
       "  $3Dmolpromise = loadScriptAsync('https://3dmol.org/build/3Dmol.js');\n",
       "}\n",
       "\n",
       "var viewer_1652945149391477 = null;\n",
       "var warn = document.getElementById(\"3dmolwarning_1652945149391477\");\n",
       "if(warn) {\n",
       "    warn.parentNode.removeChild(warn);\n",
       "}\n",
       "$3Dmolpromise.then(function() {\n",
       "viewer_1652945149391477 = $3Dmol.createViewer($(\"#3dmolviewer_1652945149391477\"),{backgroundColor:\"white\"});\n",
       "viewer_1652945149391477.addModel(\"\\n     RDKit          3D\\n\\n 58 57  0  0  0  0  0  0  0  0999 V2000\\n   -0.2189   -0.7970    0.0305 C   0  0  0  0  0  3  0  0  0  0  0  0\\n   15.0821   -1.0818    0.7600 C   0  0  0  0  0  0  0  0  0  0  0  0\\n   13.6612   -0.9060    0.8473 N   0  0  0  0  0  2  0  0  0  0  0  0\\n   15.5474   -0.3953    1.5145 H   0  0  0  0  0  0  0  0  0  0  0  0\\n   15.4825   -0.7928   -0.2407 H   0  0  0  0  0  0  0  0  0  0  0  0\\n   15.3870   -2.1403    0.9577 H   0  0  0  0  0  0  0  0  0  0  0  0\\n    6.9217   -0.7616    0.3424 N   0  0  0  0  0  2  0  0  0  0  0  0\\n    8.1354   -0.3861   -0.3724 C   0  0  0  0  0  0  0  0  0  0  0  0\\n    9.2861   -0.8123    0.5195 C   0  0  0  0  0  0  0  0  0  0  0  0\\n    8.0978    0.7080   -0.5267 H   0  0  0  0  0  0  0  0  0  0  0  0\\n    8.1902   -0.8724   -1.3468 H   0  0  0  0  0  0  0  0  0  0  0  0\\n    9.2105   -0.3747    1.5304 H   0  0  0  0  0  0  0  0  0  0  0  0\\n   10.2661   -0.6012    0.0726 H   0  0  0  0  0  0  0  0  0  0  0  0\\n    1.3644   -0.6426   -0.0739 N   0  0  0  0  0  2  0  0  0  0  0  0\\n    2.5781   -0.2671   -0.7887 C   0  0  0  0  0  0  0  0  0  0  0  0\\n    3.7288   -0.6933    0.1032 C   0  0  0  0  0  0  0  0  0  0  0  0\\n    2.5405    0.8270   -0.9430 H   0  0  0  0  0  0  0  0  0  0  0  0\\n    2.6329   -0.7534   -1.7631 H   0  0  0  0  0  0  0  0  0  0  0  0\\n    3.6532   -0.2557    1.1141 H   0  0  0  0  0  0  0  0  0  0  0  0\\n    4.7088   -0.4822   -0.3437 H   0  0  0  0  0  0  0  0  0  0  0  0\\n  -11.3085    9.4431   -0.8982 C   0  0  0  0  0  0  0  0  0  0  0  0\\n  -10.0915    8.6839   -0.8846 N   0  0  0  0  0  2  0  0  0  0  0  0\\n  -11.0425   10.4890   -1.2024 H   0  0  0  0  0  0  0  0  0  0  0  0\\n  -11.7801    9.5026    0.1114 H   0  0  0  0  0  0  0  0  0  0  0  0\\n  -12.0635    9.0133   -1.6036 H   0  0  0  0  0  0  0  0  0  0  0  0\\n   -4.9977    4.2691   -0.3761 N   0  0  0  0  0  2  0  0  0  0  0  0\\n   -5.9538    5.0175    0.4306 C   0  0  0  0  0  0  0  0  0  0  0  0\\n   -6.7847    5.8179   -0.5545 C   0  0  0  0  0  0  0  0  0  0  0  0\\n   -5.3704    5.6589    1.1165 H   0  0  0  0  0  0  0  0  0  0  0  0\\n   -6.5798    4.3521    1.0257 H   0  0  0  0  0  0  0  0  0  0  0  0\\n   -6.1579    6.4520   -1.2057 H   0  0  0  0  0  0  0  0  0  0  0  0\\n   -7.5655    6.4117   -0.0621 H   0  0  0  0  0  0  0  0  0  0  0  0\\n   -0.7974    0.6287    0.0433 N   0  0  0  0  0  2  0  0  0  0  0  0\\n   -1.7535    1.3771    0.8499 C   0  0  0  0  0  0  0  0  0  0  0  0\\n   -2.5844    2.1775   -0.1351 C   0  0  0  0  0  0  0  0  0  0  0  0\\n   -1.1701    2.0185    1.5359 H   0  0  0  0  0  0  0  0  0  0  0  0\\n   -2.3795    0.7117    1.4450 H   0  0  0  0  0  0  0  0  0  0  0  0\\n   -1.9576    2.8116   -0.7864 H   0  0  0  0  0  0  0  0  0  0  0  0\\n   -3.3652    2.7713    0.3572 H   0  0  0  0  0  0  0  0  0  0  0  0\\n  -12.0840  -10.4787   -0.9011 C   0  0  0  0  0  0  0  0  0  0  0  0\\n  -11.1171   -9.4194   -0.8770 N   0  0  0  0  0  2  0  0  0  0  0  0\\n  -13.0744  -10.0170   -1.1522 H   0  0  0  0  0  0  0  0  0  0  0  0\\n  -12.1928  -10.9736    0.0931 H   0  0  0  0  0  0  0  0  0  0  0  0\\n  -11.8226  -11.2686   -1.6496 H   0  0  0  0  0  0  0  0  0  0  0  0\\n   -5.8386   -5.2262   -0.3762 N   0  0  0  0  0  2  0  0  0  0  0  0\\n   -6.7193   -6.0652    0.4272 C   0  0  0  0  0  0  0  0  0  0  0  0\\n   -7.6905   -6.6973   -0.5519 C   0  0  0  0  0  0  0  0  0  0  0  0\\n   -7.2204   -5.4052    1.1590 H   0  0  0  0  0  0  0  0  0  0  0  0\\n   -6.1578   -6.8246    0.9721 H   0  0  0  0  0  0  0  0  0  0  0  0\\n   -8.2228   -5.9403   -1.1541 H   0  0  0  0  0  0  0  0  0  0  0  0\\n   -8.3983   -7.3786   -0.0626 H   0  0  0  0  0  0  0  0  0  0  0  0\\n   -1.4861   -1.7685    0.0367 N   0  0  0  0  0  2  0  0  0  0  0  0\\n   -2.3667   -2.6075    0.8401 C   0  0  0  0  0  0  0  0  0  0  0  0\\n   -3.3379   -3.2396   -0.1390 C   0  0  0  0  0  0  0  0  0  0  0  0\\n   -2.8678   -1.9475    1.5720 H   0  0  0  0  0  0  0  0  0  0  0  0\\n   -1.8053   -3.3670    1.3850 H   0  0  0  0  0  0  0  0  0  0  0  0\\n   -3.8703   -2.4826   -0.7412 H   0  0  0  0  0  0  0  0  0  0  0  0\\n   -4.0457   -3.9209    0.3503 H   0  0  0  0  0  0  0  0  0  0  0  0\\n  2  3  1  0\\n  2  4  1  0\\n  2  5  1  0\\n  2  6  1  0\\n  7  8  1  0\\n  8  9  1  0\\n  8 10  1  0\\n  8 11  1  0\\n  9 12  1  0\\n  9 13  1  0\\n 14 15  1  0\\n 15 16  1  0\\n 15 17  1  0\\n 15 18  1  0\\n 16 19  1  0\\n 16 20  1  0\\n  3  9  1  0\\n  7 16  1  0\\n 21 22  1  0\\n 21 23  1  0\\n 21 24  1  0\\n 21 25  1  0\\n 26 27  1  0\\n 27 28  1  0\\n 27 29  1  0\\n 27 30  1  0\\n 28 31  1  0\\n 28 32  1  0\\n 33 34  1  0\\n 34 35  1  0\\n 34 36  1  0\\n 34 37  1  0\\n 35 38  1  0\\n 35 39  1  0\\n 22 28  1  0\\n 26 35  1  0\\n 40 41  1  0\\n 40 42  1  0\\n 40 43  1  0\\n 40 44  1  0\\n 45 46  1  0\\n 46 47  1  0\\n 46 48  1  0\\n 46 49  1  0\\n 47 50  1  0\\n 47 51  1  0\\n 52 53  1  0\\n 53 54  1  0\\n 53 55  1  0\\n 53 56  1  0\\n 54 57  1  0\\n 54 58  1  0\\n 41 47  1  0\\n 45 54  1  0\\n  1 14  1  0\\n  1 33  1  0\\n  1 52  1  0\\nM  CHG  1   1   1\\nM  END\\n\");\n",
       "viewer_1652945149391477.setStyle({\"stick\": {\"colorscheme\": \"cyanCarbon\"}});\n",
       "viewer_1652945149391477.zoomTo();\n",
       "\tviewer_1652945149391477.setBackgroundColor(\"#000000\");\n",
       "\tviewer_1652945149391477.zoomTo();\n",
       "viewer_1652945149391477.render();\n",
       "});\n",
       "</script>"
      ]
     },
     "metadata": {},
     "output_type": "display_data"
    }
   ],
   "source": [
    "show_stk_mol(cores[9])"
   ]
  },
  {
   "cell_type": "markdown",
   "id": "1a4a2ab9-56f5-4762-a04e-0f30660c5402",
   "metadata": {},
   "source": [
    "## Building the \"polymers\"\n",
    "\n",
    "* Just use the host-guest code!"
   ]
  },
  {
   "cell_type": "markdown",
   "id": "cec6c117-81fd-4423-806a-9ec65c23a827",
   "metadata": {},
   "source": [
    "### Failure!"
   ]
  },
  {
   "cell_type": "code",
   "execution_count": 234,
   "id": "5a7f0093-dad4-4fe1-8e79-dccec96c4a14",
   "metadata": {},
   "outputs": [
    {
     "data": {
      "application/3dmoljs_load.v0": "<div id=\"3dmolviewer_16529451548846653\"  style=\"position: relative; width: 400px; height: 400px\">\n        <p id=\"3dmolwarning_16529451548846653\" style=\"background-color:#ffcccc;color:black\">You appear to be running in JupyterLab (or JavaScript failed to load for some other reason).  You need to install the 3dmol extension: <br>\n        <tt>jupyter labextension install jupyterlab_3dmol</tt></p>\n        </div>\n<script>\n\nvar loadScriptAsync = function(uri){\n  return new Promise((resolve, reject) => {\n    var tag = document.createElement('script');\n    tag.src = uri;\n    tag.async = true;\n    tag.onload = () => {\n      resolve();\n    };\n  var firstScriptTag = document.getElementsByTagName('script')[0];\n  firstScriptTag.parentNode.insertBefore(tag, firstScriptTag);\n});\n};\n\nif(typeof $3Dmolpromise === 'undefined') {\n$3Dmolpromise = null;\n  $3Dmolpromise = loadScriptAsync('https://3dmol.org/build/3Dmol.js');\n}\n\nvar viewer_16529451548846653 = null;\nvar warn = document.getElementById(\"3dmolwarning_16529451548846653\");\nif(warn) {\n    warn.parentNode.removeChild(warn);\n}\n$3Dmolpromise.then(function() {\nviewer_16529451548846653 = $3Dmol.createViewer($(\"#3dmolviewer_16529451548846653\"),{backgroundColor:\"white\"});\nviewer_16529451548846653.addModel(\"\\n     RDKit          3D\\n\\n105105  0  0  0  0  0  0  0  0999 V2000\\n    1.0529   -0.8756    0.0025 C   0  0  0  0  0  0  0  0  0  0  0  0\\n    1.7493    0.3188    0.0025 C   0  0  0  0  0  0  0  0  0  0  0  0\\n    1.0146    1.4852    0.0025 C   0  0  0  0  0  0  0  0  0  0  0  0\\n   -0.3555    1.5264    0.0025 C   0  0  0  0  0  0  0  0  0  0  0  0\\n   -1.0352    0.3168    0.0025 C   0  0  0  0  0  0  0  0  0  0  0  0\\n   -0.3327   -0.8887    0.0025 C   0  0  0  0  0  0  0  0  0  0  0  0\\n    1.6306   -1.8005    0.0025 H   0  0  0  0  0  0  0  0  0  0  0  0\\n    1.5469    2.4421    0.0025 H   0  0  0  0  0  0  0  0  0  0  0  0\\n   -2.1353    0.3278    0.0025 H   0  0  0  0  0  0  0  0  0  0  0  0\\n    5.3488   -0.0366    1.2884 C   0  0  0  0  0  0  0  0  0  0  0  0\\n    4.9054   -0.4188   -0.1058 C   0  0  0  0  0  0  0  0  0  0  0  0\\n    3.5931    0.3049   -0.3612 C   0  0  0  0  0  0  0  0  0  0  0  0\\n    4.9568    0.9529    1.5985 H   0  0  0  0  0  0  0  0  0  0  0  0\\n    5.0509   -0.8151    2.0311 H   0  0  0  0  0  0  0  0  0  0  0  0\\n    6.4649    0.0329    1.3493 H   0  0  0  0  0  0  0  0  0  0  0  0\\n    5.6061   -0.1293   -0.8902 H   0  0  0  0  0  0  0  0  0  0  0  0\\n    4.7800   -1.5109   -0.1265 H   0  0  0  0  0  0  0  0  0  0  0  0\\n    3.2078    0.1558   -1.3720 H   0  0  0  0  0  0  0  0  0  0  0  0\\n    3.6980    1.3968   -0.1960 H   0  0  0  0  0  0  0  0  0  0  0  0\\n   -3.7795    2.7137   -0.6844 C   0  0  0  0  0  0  0  0  0  0  0  0\\n   -2.8710    3.1112    0.4572 C   0  0  0  0  0  0  0  0  0  0  0  0\\n   -1.4544    2.7613    0.0310 C   0  0  0  0  0  0  0  0  0  0  0  0\\n   -3.2575    2.7277   -1.6623 H   0  0  0  0  0  0  0  0  0  0  0  0\\n   -4.2300    1.7078   -0.5064 H   0  0  0  0  0  0  0  0  0  0  0  0\\n   -4.6415    3.4228   -0.7765 H   0  0  0  0  0  0  0  0  0  0  0  0\\n   -2.8963    4.1753    0.6956 H   0  0  0  0  0  0  0  0  0  0  0  0\\n   -3.1832    2.5407    1.3438 H   0  0  0  0  0  0  0  0  0  0  0  0\\n   -0.6977    3.0676    0.7562 H   0  0  0  0  0  0  0  0  0  0  0  0\\n   -1.2007    3.2297   -0.9421 H   0  0  0  0  0  0  0  0  0  0  0  0\\n   -2.3114   -4.0728   -0.9418 C   0  0  0  0  0  0  0  0  0  0  0  0\\n   -2.3229   -3.3663    0.3951 C   0  0  0  0  0  0  0  0  0  0  0  0\\n   -1.7813   -1.9663    0.1547 C   0  0  0  0  0  0  0  0  0  0  0  0\\n   -2.3901   -3.3659   -1.7922 H   0  0  0  0  0  0  0  0  0  0  0  0\\n   -1.3974   -4.7041   -1.0535 H   0  0  0  0  0  0  0  0  0  0  0  0\\n   -3.1802   -4.7736   -1.0325 H   0  0  0  0  0  0  0  0  0  0  0  0\\n   -3.3148   -3.2705    0.8388 H   0  0  0  0  0  0  0  0  0  0  0  0\\n   -1.6814   -3.9402    1.0792 H   0  0  0  0  0  0  0  0  0  0  0  0\\n   -1.8054   -1.3355    1.0457 H   0  0  0  0  0  0  0  0  0  0  0  0\\n   -2.3504   -1.4473   -0.6436 H   0  0  0  0  0  0  0  0  0  0  0  0\\n   -0.0714   -1.3330    3.0192 C   0  0  0  0  0  0  0  0  0  0  0  0\\n   -0.0806   -0.1308    2.3362 C   0  0  0  0  0  0  0  0  0  0  0  0\\n   -0.0435    1.0272    3.0833 C   0  0  0  0  0  0  0  0  0  0  0  0\\n    0.0016    1.0529    4.4530 C   0  0  0  0  0  0  0  0  0  0  0  0\\n    0.0101   -0.1643    5.1191 C   0  0  0  0  0  0  0  0  0  0  0  0\\n   -0.0264   -1.3617    4.4039 C   0  0  0  0  0  0  0  0  0  0  0  0\\n   -0.1007   -2.2512    2.4318 H   0  0  0  0  0  0  0  0  0  0  0  0\\n   -0.0501    1.9899    2.5617 H   0  0  0  0  0  0  0  0  0  0  0  0\\n    0.0460   -0.1657    6.2186 H   0  0  0  0  0  0  0  0  0  0  0  0\\n    0.1847   -0.4322  -13.1195 C   0  0  0  0  0  0  0  0  0  0  0  0\\n    0.3202   -0.2733  -11.7004 N   0  0  0  0  0  2  0  0  0  0  0  0\\n    0.9314    0.2513  -13.6017 H   0  0  0  0  0  0  0  0  0  0  0  0\\n   -0.8252   -0.1278  -13.4838 H   0  0  0  0  0  0  0  0  0  0  0  0\\n    0.3604   -1.4893  -13.4423 H   0  0  0  0  0  0  0  0  0  0  0  0\\n    0.0369   -0.1995   -4.9468 N   0  0  0  0  0  2  0  0  0  0  0  0\\n   -0.7128    0.1975   -6.1323 C   0  0  0  0  0  0  0  0  0  0  0  0\\n    0.1363   -0.2254   -7.3162 C   0  0  0  0  0  0  0  0  0  0  0  0\\n   -0.8534    1.2927   -6.0778 H   0  0  0  0  0  0  0  0  0  0  0  0\\n   -1.6939   -0.2775   -6.1606 H   0  0  0  0  0  0  0  0  0  0  0  0\\n    1.1540    0.2003   -7.2689 H   0  0  0  0  0  0  0  0  0  0  0  0\\n   -0.3399    0.0016   -8.2786 H   0  0  0  0  0  0  0  0  0  0  0  0\\n   -0.1967   -0.1386    0.6221 N   0  0  0  0  0  2  0  0  0  0  0  0\\n   -0.9464    0.2584   -0.5634 C   0  0  0  0  0  0  0  0  0  0  0  0\\n   -0.0973   -0.1645   -1.7473 C   0  0  0  0  0  0  0  0  0  0  0  0\\n   -1.0870    1.3536   -0.5089 H   0  0  0  0  0  0  0  0  0  0  0  0\\n   -1.9275   -0.2166   -0.5917 H   0  0  0  0  0  0  0  0  0  0  0  0\\n    0.9204    0.2611   -1.7000 H   0  0  0  0  0  0  0  0  0  0  0  0\\n   -0.5736    0.0625   -2.7097 H   0  0  0  0  0  0  0  0  0  0  0  0\\n   -0.4424   10.6855   16.2146 C   0  0  0  0  0  0  0  0  0  0  0  0\\n   -0.4771    9.9400   14.9897 N   0  0  0  0  0  2  0  0  0  0  0  0\\n   -0.7433   11.7376   15.9702 H   0  0  0  0  0  0  0  0  0  0  0  0\\n    0.5826   10.7286   16.6536 H   0  0  0  0  0  0  0  0  0  0  0  0\\n   -1.1277   10.2549   16.9876 H   0  0  0  0  0  0  0  0  0  0  0  0\\n   -0.1846    5.5776    9.8341 N   0  0  0  0  0  2  0  0  0  0  0  0\\n    0.6612    6.3063   10.7714 C   0  0  0  0  0  0  0  0  0  0  0  0\\n   -0.2872    7.1080   11.6428 C   0  0  0  0  0  0  0  0  0  0  0  0\\n    1.3349    6.9467   10.1729 H   0  0  0  0  0  0  0  0  0  0  0  0\\n    1.2688    5.6274   11.3703 H   0  0  0  0  0  0  0  0  0  0  0  0\\n   -0.9513    7.7562   11.0446 H   0  0  0  0  0  0  0  0  0  0  0  0\\n    0.2370    7.6876   12.4135 H   0  0  0  0  0  0  0  0  0  0  0  0\\n    0.0566    1.9804    5.5828 N   0  0  0  0  0  2  0  0  0  0  0  0\\n    0.9024    2.7092    6.5202 C   0  0  0  0  0  0  0  0  0  0  0  0\\n   -0.0460    3.5109    7.3915 C   0  0  0  0  0  0  0  0  0  0  0  0\\n    1.5762    3.3496    5.9217 H   0  0  0  0  0  0  0  0  0  0  0  0\\n    1.5100    2.0302    7.1190 H   0  0  0  0  0  0  0  0  0  0  0  0\\n   -0.7101    4.1590    6.7933 H   0  0  0  0  0  0  0  0  0  0  0  0\\n    0.4782    4.0904    8.1622 H   0  0  0  0  0  0  0  0  0  0  0  0\\n   -0.6404  -10.8517   16.2306 C   0  0  0  0  0  0  0  0  0  0  0  0\\n   -0.6359   -9.7818   15.2751 N   0  0  0  0  0  2  0  0  0  0  0  0\\n   -0.8539  -10.3984   17.2337 H   0  0  0  0  0  0  0  0  0  0  0  0\\n    0.3511  -11.3586   16.3014 H   0  0  0  0  0  0  0  0  0  0  0  0\\n   -1.4059  -11.6304   15.9852 H   0  0  0  0  0  0  0  0  0  0  0  0\\n   -0.2602   -5.5351   10.0291 N   0  0  0  0  0  2  0  0  0  0  0  0\\n    0.5620   -6.3927   10.8738 C   0  0  0  0  0  0  0  0  0  0  0  0\\n   -0.3920   -7.0250   11.8695 C   0  0  0  0  0  0  0  0  0  0  0  0\\n    1.3172   -5.7464   11.3578 H   0  0  0  0  0  0  0  0  0  0  0  0\\n    1.0797   -7.1517   10.2866 H   0  0  0  0  0  0  0  0  0  0  0  0\\n   -0.9680   -6.2675   12.4295 H   0  0  0  0  0  0  0  0  0  0  0  0\\n    0.1124   -7.7195   12.5535 H   0  0  0  0  0  0  0  0  0  0  0  0\\n    0.0497   -2.0333    5.7033 N   0  0  0  0  0  2  0  0  0  0  0  0\\n    0.8719   -2.8909    6.5480 C   0  0  0  0  0  0  0  0  0  0  0  0\\n   -0.0822   -3.5232    7.5437 C   0  0  0  0  0  0  0  0  0  0  0  0\\n    1.6270   -2.2446    7.0321 H   0  0  0  0  0  0  0  0  0  0  0  0\\n    1.3895   -3.6498    5.9608 H   0  0  0  0  0  0  0  0  0  0  0  0\\n   -0.6581   -2.7657    8.1038 H   0  0  0  0  0  0  0  0  0  0  0  0\\n    0.4222   -4.2177    8.2277 H   0  0  0  0  0  0  0  0  0  0  0  0\\n  1  2  2  0\\n  2  3  1  0\\n  3  4  2  0\\n  4  5  1  0\\n  5  6  2  0\\n  6  1  1  0\\n  1  7  1  0\\n  3  8  1  0\\n  5  9  1  0\\n 10 11  1  0\\n 11 12  1  0\\n 10 13  1  0\\n 10 14  1  0\\n 10 15  1  0\\n 11 16  1  0\\n 11 17  1  0\\n 12 18  1  0\\n 12 19  1  0\\n 20 21  1  0\\n 21 22  1  0\\n 20 23  1  0\\n 20 24  1  0\\n 20 25  1  0\\n 21 26  1  0\\n 21 27  1  0\\n 22 28  1  0\\n 22 29  1  0\\n 30 31  1  0\\n 31 32  1  0\\n 30 33  1  0\\n 30 34  1  0\\n 30 35  1  0\\n 31 36  1  0\\n 31 37  1  0\\n 32 38  1  0\\n 32 39  1  0\\n  2 12  1  0\\n  4 22  1  0\\n  6 32  1  0\\n 40 41  2  0\\n 41 42  1  0\\n 42 43  2  0\\n 43 44  1  0\\n 44 45  2  0\\n 45 40  1  0\\n 40 46  1  0\\n 42 47  1  0\\n 44 48  1  0\\n 49 50  1  0\\n 49 51  1  0\\n 49 52  1  0\\n 49 53  1  0\\n 54 55  1  0\\n 55 56  1  0\\n 55 57  1  0\\n 55 58  1  0\\n 56 59  1  0\\n 56 60  1  0\\n 61 62  1  0\\n 62 63  1  0\\n 62 64  1  0\\n 62 65  1  0\\n 63 66  1  0\\n 63 67  1  0\\n 50 56  1  0\\n 54 63  1  0\\n 68 69  1  0\\n 68 70  1  0\\n 68 71  1  0\\n 68 72  1  0\\n 73 74  1  0\\n 74 75  1  0\\n 74 76  1  0\\n 74 77  1  0\\n 75 78  1  0\\n 75 79  1  0\\n 80 81  1  0\\n 81 82  1  0\\n 81 83  1  0\\n 81 84  1  0\\n 82 85  1  0\\n 82 86  1  0\\n 69 75  1  0\\n 73 82  1  0\\n 87 88  1  0\\n 87 89  1  0\\n 87 90  1  0\\n 87 91  1  0\\n 92 93  1  0\\n 93 94  1  0\\n 93 95  1  0\\n 93 96  1  0\\n 94 97  1  0\\n 94 98  1  0\\n 99100  1  0\\n100101  1  0\\n100102  1  0\\n100103  1  0\\n101104  1  0\\n101105  1  0\\n 88 94  1  0\\n 92101  1  0\\n 41 61  1  0\\n 43 80  1  0\\n 45 99  1  0\\nM  END\\n\");\nviewer_16529451548846653.setStyle({\"stick\": {\"colorscheme\": \"cyanCarbon\"}});\nviewer_16529451548846653.zoomTo();\n\tviewer_16529451548846653.setBackgroundColor(\"#000000\");\n\tviewer_16529451548846653.zoomTo();\nviewer_16529451548846653.render();\n});\n</script>",
      "text/html": [
       "<div id=\"3dmolviewer_16529451548846653\"  style=\"position: relative; width: 400px; height: 400px\">\n",
       "        <p id=\"3dmolwarning_16529451548846653\" style=\"background-color:#ffcccc;color:black\">You appear to be running in JupyterLab (or JavaScript failed to load for some other reason).  You need to install the 3dmol extension: <br>\n",
       "        <tt>jupyter labextension install jupyterlab_3dmol</tt></p>\n",
       "        </div>\n",
       "<script>\n",
       "\n",
       "var loadScriptAsync = function(uri){\n",
       "  return new Promise((resolve, reject) => {\n",
       "    var tag = document.createElement('script');\n",
       "    tag.src = uri;\n",
       "    tag.async = true;\n",
       "    tag.onload = () => {\n",
       "      resolve();\n",
       "    };\n",
       "  var firstScriptTag = document.getElementsByTagName('script')[0];\n",
       "  firstScriptTag.parentNode.insertBefore(tag, firstScriptTag);\n",
       "});\n",
       "};\n",
       "\n",
       "if(typeof $3Dmolpromise === 'undefined') {\n",
       "$3Dmolpromise = null;\n",
       "  $3Dmolpromise = loadScriptAsync('https://3dmol.org/build/3Dmol.js');\n",
       "}\n",
       "\n",
       "var viewer_16529451548846653 = null;\n",
       "var warn = document.getElementById(\"3dmolwarning_16529451548846653\");\n",
       "if(warn) {\n",
       "    warn.parentNode.removeChild(warn);\n",
       "}\n",
       "$3Dmolpromise.then(function() {\n",
       "viewer_16529451548846653 = $3Dmol.createViewer($(\"#3dmolviewer_16529451548846653\"),{backgroundColor:\"white\"});\n",
       "viewer_16529451548846653.addModel(\"\\n     RDKit          3D\\n\\n105105  0  0  0  0  0  0  0  0999 V2000\\n    1.0529   -0.8756    0.0025 C   0  0  0  0  0  0  0  0  0  0  0  0\\n    1.7493    0.3188    0.0025 C   0  0  0  0  0  0  0  0  0  0  0  0\\n    1.0146    1.4852    0.0025 C   0  0  0  0  0  0  0  0  0  0  0  0\\n   -0.3555    1.5264    0.0025 C   0  0  0  0  0  0  0  0  0  0  0  0\\n   -1.0352    0.3168    0.0025 C   0  0  0  0  0  0  0  0  0  0  0  0\\n   -0.3327   -0.8887    0.0025 C   0  0  0  0  0  0  0  0  0  0  0  0\\n    1.6306   -1.8005    0.0025 H   0  0  0  0  0  0  0  0  0  0  0  0\\n    1.5469    2.4421    0.0025 H   0  0  0  0  0  0  0  0  0  0  0  0\\n   -2.1353    0.3278    0.0025 H   0  0  0  0  0  0  0  0  0  0  0  0\\n    5.3488   -0.0366    1.2884 C   0  0  0  0  0  0  0  0  0  0  0  0\\n    4.9054   -0.4188   -0.1058 C   0  0  0  0  0  0  0  0  0  0  0  0\\n    3.5931    0.3049   -0.3612 C   0  0  0  0  0  0  0  0  0  0  0  0\\n    4.9568    0.9529    1.5985 H   0  0  0  0  0  0  0  0  0  0  0  0\\n    5.0509   -0.8151    2.0311 H   0  0  0  0  0  0  0  0  0  0  0  0\\n    6.4649    0.0329    1.3493 H   0  0  0  0  0  0  0  0  0  0  0  0\\n    5.6061   -0.1293   -0.8902 H   0  0  0  0  0  0  0  0  0  0  0  0\\n    4.7800   -1.5109   -0.1265 H   0  0  0  0  0  0  0  0  0  0  0  0\\n    3.2078    0.1558   -1.3720 H   0  0  0  0  0  0  0  0  0  0  0  0\\n    3.6980    1.3968   -0.1960 H   0  0  0  0  0  0  0  0  0  0  0  0\\n   -3.7795    2.7137   -0.6844 C   0  0  0  0  0  0  0  0  0  0  0  0\\n   -2.8710    3.1112    0.4572 C   0  0  0  0  0  0  0  0  0  0  0  0\\n   -1.4544    2.7613    0.0310 C   0  0  0  0  0  0  0  0  0  0  0  0\\n   -3.2575    2.7277   -1.6623 H   0  0  0  0  0  0  0  0  0  0  0  0\\n   -4.2300    1.7078   -0.5064 H   0  0  0  0  0  0  0  0  0  0  0  0\\n   -4.6415    3.4228   -0.7765 H   0  0  0  0  0  0  0  0  0  0  0  0\\n   -2.8963    4.1753    0.6956 H   0  0  0  0  0  0  0  0  0  0  0  0\\n   -3.1832    2.5407    1.3438 H   0  0  0  0  0  0  0  0  0  0  0  0\\n   -0.6977    3.0676    0.7562 H   0  0  0  0  0  0  0  0  0  0  0  0\\n   -1.2007    3.2297   -0.9421 H   0  0  0  0  0  0  0  0  0  0  0  0\\n   -2.3114   -4.0728   -0.9418 C   0  0  0  0  0  0  0  0  0  0  0  0\\n   -2.3229   -3.3663    0.3951 C   0  0  0  0  0  0  0  0  0  0  0  0\\n   -1.7813   -1.9663    0.1547 C   0  0  0  0  0  0  0  0  0  0  0  0\\n   -2.3901   -3.3659   -1.7922 H   0  0  0  0  0  0  0  0  0  0  0  0\\n   -1.3974   -4.7041   -1.0535 H   0  0  0  0  0  0  0  0  0  0  0  0\\n   -3.1802   -4.7736   -1.0325 H   0  0  0  0  0  0  0  0  0  0  0  0\\n   -3.3148   -3.2705    0.8388 H   0  0  0  0  0  0  0  0  0  0  0  0\\n   -1.6814   -3.9402    1.0792 H   0  0  0  0  0  0  0  0  0  0  0  0\\n   -1.8054   -1.3355    1.0457 H   0  0  0  0  0  0  0  0  0  0  0  0\\n   -2.3504   -1.4473   -0.6436 H   0  0  0  0  0  0  0  0  0  0  0  0\\n   -0.0714   -1.3330    3.0192 C   0  0  0  0  0  0  0  0  0  0  0  0\\n   -0.0806   -0.1308    2.3362 C   0  0  0  0  0  0  0  0  0  0  0  0\\n   -0.0435    1.0272    3.0833 C   0  0  0  0  0  0  0  0  0  0  0  0\\n    0.0016    1.0529    4.4530 C   0  0  0  0  0  0  0  0  0  0  0  0\\n    0.0101   -0.1643    5.1191 C   0  0  0  0  0  0  0  0  0  0  0  0\\n   -0.0264   -1.3617    4.4039 C   0  0  0  0  0  0  0  0  0  0  0  0\\n   -0.1007   -2.2512    2.4318 H   0  0  0  0  0  0  0  0  0  0  0  0\\n   -0.0501    1.9899    2.5617 H   0  0  0  0  0  0  0  0  0  0  0  0\\n    0.0460   -0.1657    6.2186 H   0  0  0  0  0  0  0  0  0  0  0  0\\n    0.1847   -0.4322  -13.1195 C   0  0  0  0  0  0  0  0  0  0  0  0\\n    0.3202   -0.2733  -11.7004 N   0  0  0  0  0  2  0  0  0  0  0  0\\n    0.9314    0.2513  -13.6017 H   0  0  0  0  0  0  0  0  0  0  0  0\\n   -0.8252   -0.1278  -13.4838 H   0  0  0  0  0  0  0  0  0  0  0  0\\n    0.3604   -1.4893  -13.4423 H   0  0  0  0  0  0  0  0  0  0  0  0\\n    0.0369   -0.1995   -4.9468 N   0  0  0  0  0  2  0  0  0  0  0  0\\n   -0.7128    0.1975   -6.1323 C   0  0  0  0  0  0  0  0  0  0  0  0\\n    0.1363   -0.2254   -7.3162 C   0  0  0  0  0  0  0  0  0  0  0  0\\n   -0.8534    1.2927   -6.0778 H   0  0  0  0  0  0  0  0  0  0  0  0\\n   -1.6939   -0.2775   -6.1606 H   0  0  0  0  0  0  0  0  0  0  0  0\\n    1.1540    0.2003   -7.2689 H   0  0  0  0  0  0  0  0  0  0  0  0\\n   -0.3399    0.0016   -8.2786 H   0  0  0  0  0  0  0  0  0  0  0  0\\n   -0.1967   -0.1386    0.6221 N   0  0  0  0  0  2  0  0  0  0  0  0\\n   -0.9464    0.2584   -0.5634 C   0  0  0  0  0  0  0  0  0  0  0  0\\n   -0.0973   -0.1645   -1.7473 C   0  0  0  0  0  0  0  0  0  0  0  0\\n   -1.0870    1.3536   -0.5089 H   0  0  0  0  0  0  0  0  0  0  0  0\\n   -1.9275   -0.2166   -0.5917 H   0  0  0  0  0  0  0  0  0  0  0  0\\n    0.9204    0.2611   -1.7000 H   0  0  0  0  0  0  0  0  0  0  0  0\\n   -0.5736    0.0625   -2.7097 H   0  0  0  0  0  0  0  0  0  0  0  0\\n   -0.4424   10.6855   16.2146 C   0  0  0  0  0  0  0  0  0  0  0  0\\n   -0.4771    9.9400   14.9897 N   0  0  0  0  0  2  0  0  0  0  0  0\\n   -0.7433   11.7376   15.9702 H   0  0  0  0  0  0  0  0  0  0  0  0\\n    0.5826   10.7286   16.6536 H   0  0  0  0  0  0  0  0  0  0  0  0\\n   -1.1277   10.2549   16.9876 H   0  0  0  0  0  0  0  0  0  0  0  0\\n   -0.1846    5.5776    9.8341 N   0  0  0  0  0  2  0  0  0  0  0  0\\n    0.6612    6.3063   10.7714 C   0  0  0  0  0  0  0  0  0  0  0  0\\n   -0.2872    7.1080   11.6428 C   0  0  0  0  0  0  0  0  0  0  0  0\\n    1.3349    6.9467   10.1729 H   0  0  0  0  0  0  0  0  0  0  0  0\\n    1.2688    5.6274   11.3703 H   0  0  0  0  0  0  0  0  0  0  0  0\\n   -0.9513    7.7562   11.0446 H   0  0  0  0  0  0  0  0  0  0  0  0\\n    0.2370    7.6876   12.4135 H   0  0  0  0  0  0  0  0  0  0  0  0\\n    0.0566    1.9804    5.5828 N   0  0  0  0  0  2  0  0  0  0  0  0\\n    0.9024    2.7092    6.5202 C   0  0  0  0  0  0  0  0  0  0  0  0\\n   -0.0460    3.5109    7.3915 C   0  0  0  0  0  0  0  0  0  0  0  0\\n    1.5762    3.3496    5.9217 H   0  0  0  0  0  0  0  0  0  0  0  0\\n    1.5100    2.0302    7.1190 H   0  0  0  0  0  0  0  0  0  0  0  0\\n   -0.7101    4.1590    6.7933 H   0  0  0  0  0  0  0  0  0  0  0  0\\n    0.4782    4.0904    8.1622 H   0  0  0  0  0  0  0  0  0  0  0  0\\n   -0.6404  -10.8517   16.2306 C   0  0  0  0  0  0  0  0  0  0  0  0\\n   -0.6359   -9.7818   15.2751 N   0  0  0  0  0  2  0  0  0  0  0  0\\n   -0.8539  -10.3984   17.2337 H   0  0  0  0  0  0  0  0  0  0  0  0\\n    0.3511  -11.3586   16.3014 H   0  0  0  0  0  0  0  0  0  0  0  0\\n   -1.4059  -11.6304   15.9852 H   0  0  0  0  0  0  0  0  0  0  0  0\\n   -0.2602   -5.5351   10.0291 N   0  0  0  0  0  2  0  0  0  0  0  0\\n    0.5620   -6.3927   10.8738 C   0  0  0  0  0  0  0  0  0  0  0  0\\n   -0.3920   -7.0250   11.8695 C   0  0  0  0  0  0  0  0  0  0  0  0\\n    1.3172   -5.7464   11.3578 H   0  0  0  0  0  0  0  0  0  0  0  0\\n    1.0797   -7.1517   10.2866 H   0  0  0  0  0  0  0  0  0  0  0  0\\n   -0.9680   -6.2675   12.4295 H   0  0  0  0  0  0  0  0  0  0  0  0\\n    0.1124   -7.7195   12.5535 H   0  0  0  0  0  0  0  0  0  0  0  0\\n    0.0497   -2.0333    5.7033 N   0  0  0  0  0  2  0  0  0  0  0  0\\n    0.8719   -2.8909    6.5480 C   0  0  0  0  0  0  0  0  0  0  0  0\\n   -0.0822   -3.5232    7.5437 C   0  0  0  0  0  0  0  0  0  0  0  0\\n    1.6270   -2.2446    7.0321 H   0  0  0  0  0  0  0  0  0  0  0  0\\n    1.3895   -3.6498    5.9608 H   0  0  0  0  0  0  0  0  0  0  0  0\\n   -0.6581   -2.7657    8.1038 H   0  0  0  0  0  0  0  0  0  0  0  0\\n    0.4222   -4.2177    8.2277 H   0  0  0  0  0  0  0  0  0  0  0  0\\n  1  2  2  0\\n  2  3  1  0\\n  3  4  2  0\\n  4  5  1  0\\n  5  6  2  0\\n  6  1  1  0\\n  1  7  1  0\\n  3  8  1  0\\n  5  9  1  0\\n 10 11  1  0\\n 11 12  1  0\\n 10 13  1  0\\n 10 14  1  0\\n 10 15  1  0\\n 11 16  1  0\\n 11 17  1  0\\n 12 18  1  0\\n 12 19  1  0\\n 20 21  1  0\\n 21 22  1  0\\n 20 23  1  0\\n 20 24  1  0\\n 20 25  1  0\\n 21 26  1  0\\n 21 27  1  0\\n 22 28  1  0\\n 22 29  1  0\\n 30 31  1  0\\n 31 32  1  0\\n 30 33  1  0\\n 30 34  1  0\\n 30 35  1  0\\n 31 36  1  0\\n 31 37  1  0\\n 32 38  1  0\\n 32 39  1  0\\n  2 12  1  0\\n  4 22  1  0\\n  6 32  1  0\\n 40 41  2  0\\n 41 42  1  0\\n 42 43  2  0\\n 43 44  1  0\\n 44 45  2  0\\n 45 40  1  0\\n 40 46  1  0\\n 42 47  1  0\\n 44 48  1  0\\n 49 50  1  0\\n 49 51  1  0\\n 49 52  1  0\\n 49 53  1  0\\n 54 55  1  0\\n 55 56  1  0\\n 55 57  1  0\\n 55 58  1  0\\n 56 59  1  0\\n 56 60  1  0\\n 61 62  1  0\\n 62 63  1  0\\n 62 64  1  0\\n 62 65  1  0\\n 63 66  1  0\\n 63 67  1  0\\n 50 56  1  0\\n 54 63  1  0\\n 68 69  1  0\\n 68 70  1  0\\n 68 71  1  0\\n 68 72  1  0\\n 73 74  1  0\\n 74 75  1  0\\n 74 76  1  0\\n 74 77  1  0\\n 75 78  1  0\\n 75 79  1  0\\n 80 81  1  0\\n 81 82  1  0\\n 81 83  1  0\\n 81 84  1  0\\n 82 85  1  0\\n 82 86  1  0\\n 69 75  1  0\\n 73 82  1  0\\n 87 88  1  0\\n 87 89  1  0\\n 87 90  1  0\\n 87 91  1  0\\n 92 93  1  0\\n 93 94  1  0\\n 93 95  1  0\\n 93 96  1  0\\n 94 97  1  0\\n 94 98  1  0\\n 99100  1  0\\n100101  1  0\\n100102  1  0\\n100103  1  0\\n101104  1  0\\n101105  1  0\\n 88 94  1  0\\n 92101  1  0\\n 41 61  1  0\\n 43 80  1  0\\n 45 99  1  0\\nM  END\\n\");\n",
       "viewer_16529451548846653.setStyle({\"stick\": {\"colorscheme\": \"cyanCarbon\"}});\n",
       "viewer_16529451548846653.zoomTo();\n",
       "\tviewer_16529451548846653.setBackgroundColor(\"#000000\");\n",
       "\tviewer_16529451548846653.zoomTo();\n",
       "viewer_16529451548846653.render();\n",
       "});\n",
       "</script>"
      ]
     },
     "metadata": {},
     "output_type": "display_data"
    }
   ],
   "source": [
    "host = stk.BuildingBlock.init_from_molecule(cores[0])\n",
    "guests = (\n",
    "    stk.host_guest.Guest(\n",
    "        building_block=stk.BuildingBlock.init_from_molecule(cores[1]),\n",
    "        displacement=(0, 0, 5),\n",
    "        start_vector=stk.BuildingBlock.init_from_molecule(cores[1]).get_direction(),\n",
    "        end_vector=(0, 0, 1),\n",
    "    ),\n",
    ")\n",
    "\n",
    "polymer = stk.ConstructedMolecule(\n",
    "    topology_graph=stk.host_guest.Complex(\n",
    "        host=host,\n",
    "        guests=guests,\n",
    "    ),\n",
    ")\n",
    "show_stk_mol(polymer)"
   ]
  },
  {
   "cell_type": "code",
   "execution_count": 235,
   "id": "0a1e282d-ee97-4167-9022-9f79c3e86b88",
   "metadata": {},
   "outputs": [
    {
     "data": {
      "application/3dmoljs_load.v0": "<div id=\"3dmolviewer_1652945155519104\"  style=\"position: relative; width: 400px; height: 400px\">\n        <p id=\"3dmolwarning_1652945155519104\" style=\"background-color:#ffcccc;color:black\">You appear to be running in JupyterLab (or JavaScript failed to load for some other reason).  You need to install the 3dmol extension: <br>\n        <tt>jupyter labextension install jupyterlab_3dmol</tt></p>\n        </div>\n<script>\n\nvar loadScriptAsync = function(uri){\n  return new Promise((resolve, reject) => {\n    var tag = document.createElement('script');\n    tag.src = uri;\n    tag.async = true;\n    tag.onload = () => {\n      resolve();\n    };\n  var firstScriptTag = document.getElementsByTagName('script')[0];\n  firstScriptTag.parentNode.insertBefore(tag, firstScriptTag);\n});\n};\n\nif(typeof $3Dmolpromise === 'undefined') {\n$3Dmolpromise = null;\n  $3Dmolpromise = loadScriptAsync('https://3dmol.org/build/3Dmol.js');\n}\n\nvar viewer_1652945155519104 = null;\nvar warn = document.getElementById(\"3dmolwarning_1652945155519104\");\nif(warn) {\n    warn.parentNode.removeChild(warn);\n}\n$3Dmolpromise.then(function() {\nviewer_1652945155519104 = $3Dmol.createViewer($(\"#3dmolviewer_1652945155519104\"),{backgroundColor:\"white\"});\nviewer_1652945155519104.addModel(\"\\n     RDKit          3D\\n\\n105105  0  0  0  0  0  0  0  0999 V2000\\n    1.0529   -0.8756    0.0025 C   0  0  0  0  0  0  0  0  0  0  0  0\\n    1.7493    0.3188    0.0025 C   0  0  0  0  0  0  0  0  0  0  0  0\\n    1.0146    1.4852    0.0025 C   0  0  0  0  0  0  0  0  0  0  0  0\\n   -0.3555    1.5264    0.0025 C   0  0  0  0  0  0  0  0  0  0  0  0\\n   -1.0352    0.3168    0.0025 C   0  0  0  0  0  0  0  0  0  0  0  0\\n   -0.3327   -0.8887    0.0025 C   0  0  0  0  0  0  0  0  0  0  0  0\\n    1.6306   -1.8005    0.0025 H   0  0  0  0  0  0  0  0  0  0  0  0\\n    1.5469    2.4421    0.0025 H   0  0  0  0  0  0  0  0  0  0  0  0\\n   -2.1353    0.3278    0.0025 H   0  0  0  0  0  0  0  0  0  0  0  0\\n    5.3488   -0.0366    1.2884 C   0  0  0  0  0  0  0  0  0  0  0  0\\n    4.9054   -0.4188   -0.1058 C   0  0  0  0  0  0  0  0  0  0  0  0\\n    3.5931    0.3049   -0.3612 C   0  0  0  0  0  0  0  0  0  0  0  0\\n    4.9568    0.9529    1.5985 H   0  0  0  0  0  0  0  0  0  0  0  0\\n    5.0509   -0.8151    2.0311 H   0  0  0  0  0  0  0  0  0  0  0  0\\n    6.4649    0.0329    1.3493 H   0  0  0  0  0  0  0  0  0  0  0  0\\n    5.6061   -0.1293   -0.8902 H   0  0  0  0  0  0  0  0  0  0  0  0\\n    4.7800   -1.5109   -0.1265 H   0  0  0  0  0  0  0  0  0  0  0  0\\n    3.2078    0.1558   -1.3720 H   0  0  0  0  0  0  0  0  0  0  0  0\\n    3.6980    1.3968   -0.1960 H   0  0  0  0  0  0  0  0  0  0  0  0\\n   -3.7795    2.7137   -0.6844 C   0  0  0  0  0  0  0  0  0  0  0  0\\n   -2.8710    3.1112    0.4572 C   0  0  0  0  0  0  0  0  0  0  0  0\\n   -1.4544    2.7613    0.0310 C   0  0  0  0  0  0  0  0  0  0  0  0\\n   -3.2575    2.7277   -1.6623 H   0  0  0  0  0  0  0  0  0  0  0  0\\n   -4.2300    1.7078   -0.5064 H   0  0  0  0  0  0  0  0  0  0  0  0\\n   -4.6415    3.4228   -0.7765 H   0  0  0  0  0  0  0  0  0  0  0  0\\n   -2.8963    4.1753    0.6956 H   0  0  0  0  0  0  0  0  0  0  0  0\\n   -3.1832    2.5407    1.3438 H   0  0  0  0  0  0  0  0  0  0  0  0\\n   -0.6977    3.0676    0.7562 H   0  0  0  0  0  0  0  0  0  0  0  0\\n   -1.2007    3.2297   -0.9421 H   0  0  0  0  0  0  0  0  0  0  0  0\\n   -2.3114   -4.0728   -0.9418 C   0  0  0  0  0  0  0  0  0  0  0  0\\n   -2.3229   -3.3663    0.3951 C   0  0  0  0  0  0  0  0  0  0  0  0\\n   -1.7813   -1.9663    0.1547 C   0  0  0  0  0  0  0  0  0  0  0  0\\n   -2.3901   -3.3659   -1.7922 H   0  0  0  0  0  0  0  0  0  0  0  0\\n   -1.3974   -4.7041   -1.0535 H   0  0  0  0  0  0  0  0  0  0  0  0\\n   -3.1802   -4.7736   -1.0325 H   0  0  0  0  0  0  0  0  0  0  0  0\\n   -3.3148   -3.2705    0.8388 H   0  0  0  0  0  0  0  0  0  0  0  0\\n   -1.6814   -3.9402    1.0792 H   0  0  0  0  0  0  0  0  0  0  0  0\\n   -1.8054   -1.3355    1.0457 H   0  0  0  0  0  0  0  0  0  0  0  0\\n   -2.3504   -1.4473   -0.6436 H   0  0  0  0  0  0  0  0  0  0  0  0\\n    1.9669   -1.3552    5.0080 C   0  0  0  0  0  0  0  0  0  0  0  0\\n    2.6634   -0.1608    5.0080 C   0  0  0  0  0  0  0  0  0  0  0  0\\n    1.9286    1.0056    5.0080 C   0  0  0  0  0  0  0  0  0  0  0  0\\n    0.5585    1.0468    5.0080 C   0  0  0  0  0  0  0  0  0  0  0  0\\n   -0.1212   -0.1628    5.0080 C   0  0  0  0  0  0  0  0  0  0  0  0\\n    0.5813   -1.3684    5.0080 C   0  0  0  0  0  0  0  0  0  0  0  0\\n    2.5446   -2.2801    5.0080 H   0  0  0  0  0  0  0  0  0  0  0  0\\n    2.4609    1.9625    5.0080 H   0  0  0  0  0  0  0  0  0  0  0  0\\n   -1.2213   -0.1518    5.0080 H   0  0  0  0  0  0  0  0  0  0  0  0\\n   18.0979   -0.6277    5.7820 C   0  0  0  0  0  0  0  0  0  0  0  0\\n   16.6770   -0.4519    5.8693 N   0  0  0  0  0  2  0  0  0  0  0  0\\n   18.5632    0.0588    6.5365 H   0  0  0  0  0  0  0  0  0  0  0  0\\n   18.4983   -0.3387    4.7813 H   0  0  0  0  0  0  0  0  0  0  0  0\\n   18.4028   -1.6862    5.9797 H   0  0  0  0  0  0  0  0  0  0  0  0\\n    9.9375   -0.3075    5.3644 N   0  0  0  0  0  2  0  0  0  0  0  0\\n   11.1511    0.0680    4.6496 C   0  0  0  0  0  0  0  0  0  0  0  0\\n   12.3019   -0.3582    5.5415 C   0  0  0  0  0  0  0  0  0  0  0  0\\n   11.1136    1.1621    4.4953 H   0  0  0  0  0  0  0  0  0  0  0  0\\n   11.2060   -0.4183    3.6752 H   0  0  0  0  0  0  0  0  0  0  0  0\\n   12.2263    0.0794    6.5524 H   0  0  0  0  0  0  0  0  0  0  0  0\\n   13.2818   -0.1471    5.0946 H   0  0  0  0  0  0  0  0  0  0  0  0\\n    4.3802   -0.1885    4.9481 N   0  0  0  0  0  2  0  0  0  0  0  0\\n    5.5938    0.1870    4.2333 C   0  0  0  0  0  0  0  0  0  0  0  0\\n    6.7446   -0.2392    5.1252 C   0  0  0  0  0  0  0  0  0  0  0  0\\n    5.5563    1.2811    4.0790 H   0  0  0  0  0  0  0  0  0  0  0  0\\n    5.6487   -0.2993    3.2589 H   0  0  0  0  0  0  0  0  0  0  0  0\\n    6.6690    0.1984    6.1361 H   0  0  0  0  0  0  0  0  0  0  0  0\\n    7.7245   -0.0281    4.6783 H   0  0  0  0  0  0  0  0  0  0  0  0\\n  -11.0731   10.8015    4.0745 C   0  0  0  0  0  0  0  0  0  0  0  0\\n   -9.8562   10.0424    4.0880 N   0  0  0  0  0  2  0  0  0  0  0  0\\n  -10.8072   11.8475    3.7702 H   0  0  0  0  0  0  0  0  0  0  0  0\\n  -11.5448   10.8610    5.0840 H   0  0  0  0  0  0  0  0  0  0  0  0\\n  -11.8281   10.3717    3.3690 H   0  0  0  0  0  0  0  0  0  0  0  0\\n   -4.7623    5.6276    4.5966 N   0  0  0  0  0  2  0  0  0  0  0  0\\n   -5.7185    6.3760    5.4032 C   0  0  0  0  0  0  0  0  0  0  0  0\\n   -6.5494    7.1764    4.4181 C   0  0  0  0  0  0  0  0  0  0  0  0\\n   -5.1350    7.0174    6.0892 H   0  0  0  0  0  0  0  0  0  0  0  0\\n   -6.3444    5.7105    5.9983 H   0  0  0  0  0  0  0  0  0  0  0  0\\n   -5.9225    7.8105    3.7669 H   0  0  0  0  0  0  0  0  0  0  0  0\\n   -7.3301    7.7702    4.9105 H   0  0  0  0  0  0  0  0  0  0  0  0\\n   -0.5620    1.9872    5.0159 N   0  0  0  0  0  2  0  0  0  0  0  0\\n   -1.5181    2.7356    5.8226 C   0  0  0  0  0  0  0  0  0  0  0  0\\n   -2.3491    3.5360    4.8375 C   0  0  0  0  0  0  0  0  0  0  0  0\\n   -0.9347    3.3770    6.5085 H   0  0  0  0  0  0  0  0  0  0  0  0\\n   -2.1441    2.0701    6.4177 H   0  0  0  0  0  0  0  0  0  0  0  0\\n   -1.7222    4.1701    4.1863 H   0  0  0  0  0  0  0  0  0  0  0  0\\n   -3.1298    4.1298    5.3299 H   0  0  0  0  0  0  0  0  0  0  0  0\\n  -11.3253  -10.7350    4.1110 C   0  0  0  0  0  0  0  0  0  0  0  0\\n  -10.3585   -9.6757    4.1351 N   0  0  0  0  0  2  0  0  0  0  0  0\\n  -12.3158  -10.2733    3.8599 H   0  0  0  0  0  0  0  0  0  0  0  0\\n  -11.4342  -11.2299    5.1052 H   0  0  0  0  0  0  0  0  0  0  0  0\\n  -11.0639  -11.5249    3.3625 H   0  0  0  0  0  0  0  0  0  0  0  0\\n   -5.0800   -5.4825    4.6359 N   0  0  0  0  0  2  0  0  0  0  0  0\\n   -5.9607   -6.3215    5.4393 C   0  0  0  0  0  0  0  0  0  0  0  0\\n   -6.9319   -6.9536    4.4602 C   0  0  0  0  0  0  0  0  0  0  0  0\\n   -6.4617   -5.6615    6.1712 H   0  0  0  0  0  0  0  0  0  0  0  0\\n   -5.3992   -7.0809    5.9842 H   0  0  0  0  0  0  0  0  0  0  0  0\\n   -7.4642   -6.1966    3.8580 H   0  0  0  0  0  0  0  0  0  0  0  0\\n   -7.6397   -7.6349    4.9495 H   0  0  0  0  0  0  0  0  0  0  0  0\\n   -0.7274   -2.0248    5.0488 N   0  0  0  0  0  2  0  0  0  0  0  0\\n   -1.6081   -2.8638    5.8522 C   0  0  0  0  0  0  0  0  0  0  0  0\\n   -2.5793   -3.4959    4.8731 C   0  0  0  0  0  0  0  0  0  0  0  0\\n   -2.1092   -2.2038    6.5841 H   0  0  0  0  0  0  0  0  0  0  0  0\\n   -1.0466   -3.6232    6.3971 H   0  0  0  0  0  0  0  0  0  0  0  0\\n   -3.1116   -2.7389    4.2709 H   0  0  0  0  0  0  0  0  0  0  0  0\\n   -3.2871   -4.1772    5.3624 H   0  0  0  0  0  0  0  0  0  0  0  0\\n  1  2  2  0\\n  2  3  1  0\\n  3  4  2  0\\n  4  5  1  0\\n  5  6  2  0\\n  6  1  1  0\\n  1  7  1  0\\n  3  8  1  0\\n  5  9  1  0\\n 10 11  1  0\\n 11 12  1  0\\n 10 13  1  0\\n 10 14  1  0\\n 10 15  1  0\\n 11 16  1  0\\n 11 17  1  0\\n 12 18  1  0\\n 12 19  1  0\\n 20 21  1  0\\n 21 22  1  0\\n 20 23  1  0\\n 20 24  1  0\\n 20 25  1  0\\n 21 26  1  0\\n 21 27  1  0\\n 22 28  1  0\\n 22 29  1  0\\n 30 31  1  0\\n 31 32  1  0\\n 30 33  1  0\\n 30 34  1  0\\n 30 35  1  0\\n 31 36  1  0\\n 31 37  1  0\\n 32 38  1  0\\n 32 39  1  0\\n  2 12  1  0\\n  4 22  1  0\\n  6 32  1  0\\n 40 41  2  0\\n 41 42  1  0\\n 42 43  2  0\\n 43 44  1  0\\n 44 45  2  0\\n 45 40  1  0\\n 40 46  1  0\\n 42 47  1  0\\n 44 48  1  0\\n 49 50  1  0\\n 49 51  1  0\\n 49 52  1  0\\n 49 53  1  0\\n 54 55  1  0\\n 55 56  1  0\\n 55 57  1  0\\n 55 58  1  0\\n 56 59  1  0\\n 56 60  1  0\\n 61 62  1  0\\n 62 63  1  0\\n 62 64  1  0\\n 62 65  1  0\\n 63 66  1  0\\n 63 67  1  0\\n 50 56  1  0\\n 54 63  1  0\\n 68 69  1  0\\n 68 70  1  0\\n 68 71  1  0\\n 68 72  1  0\\n 73 74  1  0\\n 74 75  1  0\\n 74 76  1  0\\n 74 77  1  0\\n 75 78  1  0\\n 75 79  1  0\\n 80 81  1  0\\n 81 82  1  0\\n 81 83  1  0\\n 81 84  1  0\\n 82 85  1  0\\n 82 86  1  0\\n 69 75  1  0\\n 73 82  1  0\\n 87 88  1  0\\n 87 89  1  0\\n 87 90  1  0\\n 87 91  1  0\\n 92 93  1  0\\n 93 94  1  0\\n 93 95  1  0\\n 93 96  1  0\\n 94 97  1  0\\n 94 98  1  0\\n 99100  1  0\\n100101  1  0\\n100102  1  0\\n100103  1  0\\n101104  1  0\\n101105  1  0\\n 88 94  1  0\\n 92101  1  0\\n 41 61  1  0\\n 43 80  1  0\\n 45 99  1  0\\nM  END\\n\");\nviewer_1652945155519104.setStyle({\"stick\": {\"colorscheme\": \"cyanCarbon\"}});\nviewer_1652945155519104.zoomTo();\n\tviewer_1652945155519104.setBackgroundColor(\"#000000\");\n\tviewer_1652945155519104.zoomTo();\nviewer_1652945155519104.render();\n});\n</script>",
      "text/html": [
       "<div id=\"3dmolviewer_1652945155519104\"  style=\"position: relative; width: 400px; height: 400px\">\n",
       "        <p id=\"3dmolwarning_1652945155519104\" style=\"background-color:#ffcccc;color:black\">You appear to be running in JupyterLab (or JavaScript failed to load for some other reason).  You need to install the 3dmol extension: <br>\n",
       "        <tt>jupyter labextension install jupyterlab_3dmol</tt></p>\n",
       "        </div>\n",
       "<script>\n",
       "\n",
       "var loadScriptAsync = function(uri){\n",
       "  return new Promise((resolve, reject) => {\n",
       "    var tag = document.createElement('script');\n",
       "    tag.src = uri;\n",
       "    tag.async = true;\n",
       "    tag.onload = () => {\n",
       "      resolve();\n",
       "    };\n",
       "  var firstScriptTag = document.getElementsByTagName('script')[0];\n",
       "  firstScriptTag.parentNode.insertBefore(tag, firstScriptTag);\n",
       "});\n",
       "};\n",
       "\n",
       "if(typeof $3Dmolpromise === 'undefined') {\n",
       "$3Dmolpromise = null;\n",
       "  $3Dmolpromise = loadScriptAsync('https://3dmol.org/build/3Dmol.js');\n",
       "}\n",
       "\n",
       "var viewer_1652945155519104 = null;\n",
       "var warn = document.getElementById(\"3dmolwarning_1652945155519104\");\n",
       "if(warn) {\n",
       "    warn.parentNode.removeChild(warn);\n",
       "}\n",
       "$3Dmolpromise.then(function() {\n",
       "viewer_1652945155519104 = $3Dmol.createViewer($(\"#3dmolviewer_1652945155519104\"),{backgroundColor:\"white\"});\n",
       "viewer_1652945155519104.addModel(\"\\n     RDKit          3D\\n\\n105105  0  0  0  0  0  0  0  0999 V2000\\n    1.0529   -0.8756    0.0025 C   0  0  0  0  0  0  0  0  0  0  0  0\\n    1.7493    0.3188    0.0025 C   0  0  0  0  0  0  0  0  0  0  0  0\\n    1.0146    1.4852    0.0025 C   0  0  0  0  0  0  0  0  0  0  0  0\\n   -0.3555    1.5264    0.0025 C   0  0  0  0  0  0  0  0  0  0  0  0\\n   -1.0352    0.3168    0.0025 C   0  0  0  0  0  0  0  0  0  0  0  0\\n   -0.3327   -0.8887    0.0025 C   0  0  0  0  0  0  0  0  0  0  0  0\\n    1.6306   -1.8005    0.0025 H   0  0  0  0  0  0  0  0  0  0  0  0\\n    1.5469    2.4421    0.0025 H   0  0  0  0  0  0  0  0  0  0  0  0\\n   -2.1353    0.3278    0.0025 H   0  0  0  0  0  0  0  0  0  0  0  0\\n    5.3488   -0.0366    1.2884 C   0  0  0  0  0  0  0  0  0  0  0  0\\n    4.9054   -0.4188   -0.1058 C   0  0  0  0  0  0  0  0  0  0  0  0\\n    3.5931    0.3049   -0.3612 C   0  0  0  0  0  0  0  0  0  0  0  0\\n    4.9568    0.9529    1.5985 H   0  0  0  0  0  0  0  0  0  0  0  0\\n    5.0509   -0.8151    2.0311 H   0  0  0  0  0  0  0  0  0  0  0  0\\n    6.4649    0.0329    1.3493 H   0  0  0  0  0  0  0  0  0  0  0  0\\n    5.6061   -0.1293   -0.8902 H   0  0  0  0  0  0  0  0  0  0  0  0\\n    4.7800   -1.5109   -0.1265 H   0  0  0  0  0  0  0  0  0  0  0  0\\n    3.2078    0.1558   -1.3720 H   0  0  0  0  0  0  0  0  0  0  0  0\\n    3.6980    1.3968   -0.1960 H   0  0  0  0  0  0  0  0  0  0  0  0\\n   -3.7795    2.7137   -0.6844 C   0  0  0  0  0  0  0  0  0  0  0  0\\n   -2.8710    3.1112    0.4572 C   0  0  0  0  0  0  0  0  0  0  0  0\\n   -1.4544    2.7613    0.0310 C   0  0  0  0  0  0  0  0  0  0  0  0\\n   -3.2575    2.7277   -1.6623 H   0  0  0  0  0  0  0  0  0  0  0  0\\n   -4.2300    1.7078   -0.5064 H   0  0  0  0  0  0  0  0  0  0  0  0\\n   -4.6415    3.4228   -0.7765 H   0  0  0  0  0  0  0  0  0  0  0  0\\n   -2.8963    4.1753    0.6956 H   0  0  0  0  0  0  0  0  0  0  0  0\\n   -3.1832    2.5407    1.3438 H   0  0  0  0  0  0  0  0  0  0  0  0\\n   -0.6977    3.0676    0.7562 H   0  0  0  0  0  0  0  0  0  0  0  0\\n   -1.2007    3.2297   -0.9421 H   0  0  0  0  0  0  0  0  0  0  0  0\\n   -2.3114   -4.0728   -0.9418 C   0  0  0  0  0  0  0  0  0  0  0  0\\n   -2.3229   -3.3663    0.3951 C   0  0  0  0  0  0  0  0  0  0  0  0\\n   -1.7813   -1.9663    0.1547 C   0  0  0  0  0  0  0  0  0  0  0  0\\n   -2.3901   -3.3659   -1.7922 H   0  0  0  0  0  0  0  0  0  0  0  0\\n   -1.3974   -4.7041   -1.0535 H   0  0  0  0  0  0  0  0  0  0  0  0\\n   -3.1802   -4.7736   -1.0325 H   0  0  0  0  0  0  0  0  0  0  0  0\\n   -3.3148   -3.2705    0.8388 H   0  0  0  0  0  0  0  0  0  0  0  0\\n   -1.6814   -3.9402    1.0792 H   0  0  0  0  0  0  0  0  0  0  0  0\\n   -1.8054   -1.3355    1.0457 H   0  0  0  0  0  0  0  0  0  0  0  0\\n   -2.3504   -1.4473   -0.6436 H   0  0  0  0  0  0  0  0  0  0  0  0\\n    1.9669   -1.3552    5.0080 C   0  0  0  0  0  0  0  0  0  0  0  0\\n    2.6634   -0.1608    5.0080 C   0  0  0  0  0  0  0  0  0  0  0  0\\n    1.9286    1.0056    5.0080 C   0  0  0  0  0  0  0  0  0  0  0  0\\n    0.5585    1.0468    5.0080 C   0  0  0  0  0  0  0  0  0  0  0  0\\n   -0.1212   -0.1628    5.0080 C   0  0  0  0  0  0  0  0  0  0  0  0\\n    0.5813   -1.3684    5.0080 C   0  0  0  0  0  0  0  0  0  0  0  0\\n    2.5446   -2.2801    5.0080 H   0  0  0  0  0  0  0  0  0  0  0  0\\n    2.4609    1.9625    5.0080 H   0  0  0  0  0  0  0  0  0  0  0  0\\n   -1.2213   -0.1518    5.0080 H   0  0  0  0  0  0  0  0  0  0  0  0\\n   18.0979   -0.6277    5.7820 C   0  0  0  0  0  0  0  0  0  0  0  0\\n   16.6770   -0.4519    5.8693 N   0  0  0  0  0  2  0  0  0  0  0  0\\n   18.5632    0.0588    6.5365 H   0  0  0  0  0  0  0  0  0  0  0  0\\n   18.4983   -0.3387    4.7813 H   0  0  0  0  0  0  0  0  0  0  0  0\\n   18.4028   -1.6862    5.9797 H   0  0  0  0  0  0  0  0  0  0  0  0\\n    9.9375   -0.3075    5.3644 N   0  0  0  0  0  2  0  0  0  0  0  0\\n   11.1511    0.0680    4.6496 C   0  0  0  0  0  0  0  0  0  0  0  0\\n   12.3019   -0.3582    5.5415 C   0  0  0  0  0  0  0  0  0  0  0  0\\n   11.1136    1.1621    4.4953 H   0  0  0  0  0  0  0  0  0  0  0  0\\n   11.2060   -0.4183    3.6752 H   0  0  0  0  0  0  0  0  0  0  0  0\\n   12.2263    0.0794    6.5524 H   0  0  0  0  0  0  0  0  0  0  0  0\\n   13.2818   -0.1471    5.0946 H   0  0  0  0  0  0  0  0  0  0  0  0\\n    4.3802   -0.1885    4.9481 N   0  0  0  0  0  2  0  0  0  0  0  0\\n    5.5938    0.1870    4.2333 C   0  0  0  0  0  0  0  0  0  0  0  0\\n    6.7446   -0.2392    5.1252 C   0  0  0  0  0  0  0  0  0  0  0  0\\n    5.5563    1.2811    4.0790 H   0  0  0  0  0  0  0  0  0  0  0  0\\n    5.6487   -0.2993    3.2589 H   0  0  0  0  0  0  0  0  0  0  0  0\\n    6.6690    0.1984    6.1361 H   0  0  0  0  0  0  0  0  0  0  0  0\\n    7.7245   -0.0281    4.6783 H   0  0  0  0  0  0  0  0  0  0  0  0\\n  -11.0731   10.8015    4.0745 C   0  0  0  0  0  0  0  0  0  0  0  0\\n   -9.8562   10.0424    4.0880 N   0  0  0  0  0  2  0  0  0  0  0  0\\n  -10.8072   11.8475    3.7702 H   0  0  0  0  0  0  0  0  0  0  0  0\\n  -11.5448   10.8610    5.0840 H   0  0  0  0  0  0  0  0  0  0  0  0\\n  -11.8281   10.3717    3.3690 H   0  0  0  0  0  0  0  0  0  0  0  0\\n   -4.7623    5.6276    4.5966 N   0  0  0  0  0  2  0  0  0  0  0  0\\n   -5.7185    6.3760    5.4032 C   0  0  0  0  0  0  0  0  0  0  0  0\\n   -6.5494    7.1764    4.4181 C   0  0  0  0  0  0  0  0  0  0  0  0\\n   -5.1350    7.0174    6.0892 H   0  0  0  0  0  0  0  0  0  0  0  0\\n   -6.3444    5.7105    5.9983 H   0  0  0  0  0  0  0  0  0  0  0  0\\n   -5.9225    7.8105    3.7669 H   0  0  0  0  0  0  0  0  0  0  0  0\\n   -7.3301    7.7702    4.9105 H   0  0  0  0  0  0  0  0  0  0  0  0\\n   -0.5620    1.9872    5.0159 N   0  0  0  0  0  2  0  0  0  0  0  0\\n   -1.5181    2.7356    5.8226 C   0  0  0  0  0  0  0  0  0  0  0  0\\n   -2.3491    3.5360    4.8375 C   0  0  0  0  0  0  0  0  0  0  0  0\\n   -0.9347    3.3770    6.5085 H   0  0  0  0  0  0  0  0  0  0  0  0\\n   -2.1441    2.0701    6.4177 H   0  0  0  0  0  0  0  0  0  0  0  0\\n   -1.7222    4.1701    4.1863 H   0  0  0  0  0  0  0  0  0  0  0  0\\n   -3.1298    4.1298    5.3299 H   0  0  0  0  0  0  0  0  0  0  0  0\\n  -11.3253  -10.7350    4.1110 C   0  0  0  0  0  0  0  0  0  0  0  0\\n  -10.3585   -9.6757    4.1351 N   0  0  0  0  0  2  0  0  0  0  0  0\\n  -12.3158  -10.2733    3.8599 H   0  0  0  0  0  0  0  0  0  0  0  0\\n  -11.4342  -11.2299    5.1052 H   0  0  0  0  0  0  0  0  0  0  0  0\\n  -11.0639  -11.5249    3.3625 H   0  0  0  0  0  0  0  0  0  0  0  0\\n   -5.0800   -5.4825    4.6359 N   0  0  0  0  0  2  0  0  0  0  0  0\\n   -5.9607   -6.3215    5.4393 C   0  0  0  0  0  0  0  0  0  0  0  0\\n   -6.9319   -6.9536    4.4602 C   0  0  0  0  0  0  0  0  0  0  0  0\\n   -6.4617   -5.6615    6.1712 H   0  0  0  0  0  0  0  0  0  0  0  0\\n   -5.3992   -7.0809    5.9842 H   0  0  0  0  0  0  0  0  0  0  0  0\\n   -7.4642   -6.1966    3.8580 H   0  0  0  0  0  0  0  0  0  0  0  0\\n   -7.6397   -7.6349    4.9495 H   0  0  0  0  0  0  0  0  0  0  0  0\\n   -0.7274   -2.0248    5.0488 N   0  0  0  0  0  2  0  0  0  0  0  0\\n   -1.6081   -2.8638    5.8522 C   0  0  0  0  0  0  0  0  0  0  0  0\\n   -2.5793   -3.4959    4.8731 C   0  0  0  0  0  0  0  0  0  0  0  0\\n   -2.1092   -2.2038    6.5841 H   0  0  0  0  0  0  0  0  0  0  0  0\\n   -1.0466   -3.6232    6.3971 H   0  0  0  0  0  0  0  0  0  0  0  0\\n   -3.1116   -2.7389    4.2709 H   0  0  0  0  0  0  0  0  0  0  0  0\\n   -3.2871   -4.1772    5.3624 H   0  0  0  0  0  0  0  0  0  0  0  0\\n  1  2  2  0\\n  2  3  1  0\\n  3  4  2  0\\n  4  5  1  0\\n  5  6  2  0\\n  6  1  1  0\\n  1  7  1  0\\n  3  8  1  0\\n  5  9  1  0\\n 10 11  1  0\\n 11 12  1  0\\n 10 13  1  0\\n 10 14  1  0\\n 10 15  1  0\\n 11 16  1  0\\n 11 17  1  0\\n 12 18  1  0\\n 12 19  1  0\\n 20 21  1  0\\n 21 22  1  0\\n 20 23  1  0\\n 20 24  1  0\\n 20 25  1  0\\n 21 26  1  0\\n 21 27  1  0\\n 22 28  1  0\\n 22 29  1  0\\n 30 31  1  0\\n 31 32  1  0\\n 30 33  1  0\\n 30 34  1  0\\n 30 35  1  0\\n 31 36  1  0\\n 31 37  1  0\\n 32 38  1  0\\n 32 39  1  0\\n  2 12  1  0\\n  4 22  1  0\\n  6 32  1  0\\n 40 41  2  0\\n 41 42  1  0\\n 42 43  2  0\\n 43 44  1  0\\n 44 45  2  0\\n 45 40  1  0\\n 40 46  1  0\\n 42 47  1  0\\n 44 48  1  0\\n 49 50  1  0\\n 49 51  1  0\\n 49 52  1  0\\n 49 53  1  0\\n 54 55  1  0\\n 55 56  1  0\\n 55 57  1  0\\n 55 58  1  0\\n 56 59  1  0\\n 56 60  1  0\\n 61 62  1  0\\n 62 63  1  0\\n 62 64  1  0\\n 62 65  1  0\\n 63 66  1  0\\n 63 67  1  0\\n 50 56  1  0\\n 54 63  1  0\\n 68 69  1  0\\n 68 70  1  0\\n 68 71  1  0\\n 68 72  1  0\\n 73 74  1  0\\n 74 75  1  0\\n 74 76  1  0\\n 74 77  1  0\\n 75 78  1  0\\n 75 79  1  0\\n 80 81  1  0\\n 81 82  1  0\\n 81 83  1  0\\n 81 84  1  0\\n 82 85  1  0\\n 82 86  1  0\\n 69 75  1  0\\n 73 82  1  0\\n 87 88  1  0\\n 87 89  1  0\\n 87 90  1  0\\n 87 91  1  0\\n 92 93  1  0\\n 93 94  1  0\\n 93 95  1  0\\n 93 96  1  0\\n 94 97  1  0\\n 94 98  1  0\\n 99100  1  0\\n100101  1  0\\n100102  1  0\\n100103  1  0\\n101104  1  0\\n101105  1  0\\n 88 94  1  0\\n 92101  1  0\\n 41 61  1  0\\n 43 80  1  0\\n 45 99  1  0\\nM  END\\n\");\n",
       "viewer_1652945155519104.setStyle({\"stick\": {\"colorscheme\": \"cyanCarbon\"}});\n",
       "viewer_1652945155519104.zoomTo();\n",
       "\tviewer_1652945155519104.setBackgroundColor(\"#000000\");\n",
       "\tviewer_1652945155519104.zoomTo();\n",
       "viewer_1652945155519104.render();\n",
       "});\n",
       "</script>"
      ]
     },
     "metadata": {},
     "output_type": "display_data"
    }
   ],
   "source": [
    "host = stk.BuildingBlock.init_from_molecule(cores[0])\n",
    "\n",
    "guests = (\n",
    "    stk.host_guest.Guest(\n",
    "        building_block=stk.BuildingBlock.init_from_molecule(cores[1]),\n",
    "        displacement=(0, 0, 5),\n",
    "    ),\n",
    ")\n",
    "\n",
    "polymer = stk.ConstructedMolecule(\n",
    "    topology_graph=stk.host_guest.Complex(\n",
    "        host=host,\n",
    "        guests=guests,\n",
    "    ),\n",
    ")\n",
    "show_stk_mol(polymer)"
   ]
  },
  {
   "cell_type": "code",
   "execution_count": 236,
   "id": "b7fc001c-8fde-4019-abea-3b7b163b007c",
   "metadata": {},
   "outputs": [
    {
     "data": {
      "application/3dmoljs_load.v0": "<div id=\"3dmolviewer_16529451558430767\"  style=\"position: relative; width: 400px; height: 400px\">\n        <p id=\"3dmolwarning_16529451558430767\" style=\"background-color:#ffcccc;color:black\">You appear to be running in JupyterLab (or JavaScript failed to load for some other reason).  You need to install the 3dmol extension: <br>\n        <tt>jupyter labextension install jupyterlab_3dmol</tt></p>\n        </div>\n<script>\n\nvar loadScriptAsync = function(uri){\n  return new Promise((resolve, reject) => {\n    var tag = document.createElement('script');\n    tag.src = uri;\n    tag.async = true;\n    tag.onload = () => {\n      resolve();\n    };\n  var firstScriptTag = document.getElementsByTagName('script')[0];\n  firstScriptTag.parentNode.insertBefore(tag, firstScriptTag);\n});\n};\n\nif(typeof $3Dmolpromise === 'undefined') {\n$3Dmolpromise = null;\n  $3Dmolpromise = loadScriptAsync('https://3dmol.org/build/3Dmol.js');\n}\n\nvar viewer_16529451558430767 = null;\nvar warn = document.getElementById(\"3dmolwarning_16529451558430767\");\nif(warn) {\n    warn.parentNode.removeChild(warn);\n}\n$3Dmolpromise.then(function() {\nviewer_16529451558430767 = $3Dmol.createViewer($(\"#3dmolviewer_16529451558430767\"),{backgroundColor:\"white\"});\nviewer_16529451558430767.addModel(\"\\n     RDKit          3D\\n\\n117117  0  0  0  0  0  0  0  0999 V2000\\n    1.3321   -1.1599    0.0080 C   0  0  0  0  0  0  0  0  0  0  0  0\\n    2.0286    0.0346    0.0080 C   0  0  0  0  0  0  0  0  0  0  0  0\\n    1.2938    1.2010    0.0080 C   0  0  0  0  0  0  0  0  0  0  0  0\\n   -0.0763    1.2422    0.0080 C   0  0  0  0  0  0  0  0  0  0  0  0\\n   -0.7560    0.0325    0.0080 C   0  0  0  0  0  0  0  0  0  0  0  0\\n   -0.0535   -1.1730    0.0080 C   0  0  0  0  0  0  0  0  0  0  0  0\\n    1.9098   -2.0847    0.0080 H   0  0  0  0  0  0  0  0  0  0  0  0\\n    1.8261    2.1578    0.0080 H   0  0  0  0  0  0  0  0  0  0  0  0\\n   -1.8561    0.0435    0.0080 H   0  0  0  0  0  0  0  0  0  0  0  0\\n    7.1993    1.3253   -0.6966 C   0  0  0  0  0  0  0  0  0  0  0  0\\n    6.9132    0.0445   -1.2454 O   0  0  0  0  0  0  0  0  0  0  0  0\\n    7.1818   -0.8406   -0.2341 C   0  0  0  0  0  0  0  0  0  0  0  0\\n    6.4183   -0.6947    0.8466 O   0  0  0  0  0  0  0  0  0  0  0  0\\n    5.0979   -0.8830    0.8454 C   0  0  0  0  0  0  0  0  0  0  0  0\\n    4.1511   -0.1801    0.0047 C   0  0  0  0  0  3  0  0  0  0  0  0\\n    6.9779    2.0523   -1.4969 H   0  0  0  0  0  0  0  0  0  0  0  0\\n    8.2747    1.3341   -0.4286 H   0  0  0  0  0  0  0  0  0  0  0  0\\n    6.6348    1.5345    0.2025 H   0  0  0  0  0  0  0  0  0  0  0  0\\n    8.2566   -0.6370    0.0766 H   0  0  0  0  0  0  0  0  0  0  0  0\\n    7.2246   -1.8958   -0.6400 H   0  0  0  0  0  0  0  0  0  0  0  0\\n    4.7352   -0.6606    1.9244 H   0  0  0  0  0  0  0  0  0  0  0  0\\n    4.9099   -2.0158    0.7160 H   0  0  0  0  0  0  0  0  0  0  0  0\\n    3.0758   -0.4616    0.1810 H   0  0  0  0  0  0  0  0  0  0  0  0\\n   -3.5551    5.1886   -1.4729 C   0  0  0  0  0  0  0  0  0  0  0  0\\n   -2.9951    5.4136   -0.1848 O   0  0  0  0  0  0  0  0  0  0  0  0\\n   -3.8565    4.7996    0.6865 C   0  0  0  0  0  0  0  0  0  0  0  0\\n   -3.9605    3.4822    0.5259 O   0  0  0  0  0  0  0  0  0  0  0  0\\n   -2.9470    2.6358    0.7143 C   0  0  0  0  0  0  0  0  0  0  0  0\\n   -1.6754    2.6828    0.0228 C   0  0  0  0  0  3  0  0  0  0  0  0\\n   -2.8664    5.6692   -2.1890 H   0  0  0  0  0  0  0  0  0  0  0  0\\n   -4.5527    5.6713   -1.4854 H   0  0  0  0  0  0  0  0  0  0  0  0\\n   -3.6951    4.1388   -1.6943 H   0  0  0  0  0  0  0  0  0  0  0  0\\n   -4.8793    5.2511    0.4787 H   0  0  0  0  0  0  0  0  0  0  0  0\\n   -3.6387    5.1278    1.7471 H   0  0  0  0  0  0  0  0  0  0  0  0\\n   -3.3571    1.5771    0.4772 H   0  0  0  0  0  0  0  0  0  0  0  0\\n   -2.7296    2.6031    1.8487 H   0  0  0  0  0  0  0  0  0  0  0  0\\n   -0.9646    1.8561    0.3019 H   0  0  0  0  0  0  0  0  0  0  0  0\\n   -3.0828   -5.7510   -0.2220 C   0  0  0  0  0  0  0  0  0  0  0  0\\n   -3.5400   -4.7555   -1.1294 O   0  0  0  0  0  0  0  0  0  0  0  0\\n   -4.4809   -4.0460   -0.4298 C   0  0  0  0  0  0  0  0  0  0  0  0\\n   -4.0126   -3.4154    0.6449 O   0  0  0  0  0  0  0  0  0  0  0  0\\n   -3.1130   -2.4323    0.5873 C   0  0  0  0  0  0  0  0  0  0  0  0\\n   -1.7950   -2.5349   -0.0040 C   0  0  0  0  0  3  0  0  0  0  0  0\\n   -2.3151   -6.3264   -0.7678 H   0  0  0  0  0  0  0  0  0  0  0  0\\n   -3.9550   -6.3843    0.0363 H   0  0  0  0  0  0  0  0  0  0  0  0\\n   -2.6938   -5.3360    0.6984 H   0  0  0  0  0  0  0  0  0  0  0  0\\n   -5.2419   -4.8117   -0.0724 H   0  0  0  0  0  0  0  0  0  0  0  0\\n   -5.0804   -3.3934   -1.1333 H   0  0  0  0  0  0  0  0  0  0  0  0\\n   -2.9055   -2.1148    1.6834 H   0  0  0  0  0  0  0  0  0  0  0  0\\n   -3.6357   -1.5115    0.1245 H   0  0  0  0  0  0  0  0  0  0  0  0\\n   -1.1748   -1.5996    0.0798 H   0  0  0  0  0  0  0  0  0  0  0  0\\n    1.9669   -1.3552    5.0080 C   0  0  0  0  0  0  0  0  0  0  0  0\\n    2.6634   -0.1608    5.0080 C   0  0  0  0  0  0  0  0  0  0  0  0\\n    1.9286    1.0056    5.0080 C   0  0  0  0  0  0  0  0  0  0  0  0\\n    0.5585    1.0468    5.0080 C   0  0  0  0  0  0  0  0  0  0  0  0\\n   -0.1212   -0.1628    5.0080 C   0  0  0  0  0  0  0  0  0  0  0  0\\n    0.5813   -1.3684    5.0080 C   0  0  0  0  0  0  0  0  0  0  0  0\\n    2.5446   -2.2801    5.0080 H   0  0  0  0  0  0  0  0  0  0  0  0\\n    2.4609    1.9625    5.0080 H   0  0  0  0  0  0  0  0  0  0  0  0\\n   -1.2213   -0.1518    5.0080 H   0  0  0  0  0  0  0  0  0  0  0  0\\n   18.0979   -0.6277    5.7820 C   0  0  0  0  0  0  0  0  0  0  0  0\\n   16.6770   -0.4519    5.8693 N   0  0  0  0  0  2  0  0  0  0  0  0\\n   18.5632    0.0588    6.5365 H   0  0  0  0  0  0  0  0  0  0  0  0\\n   18.4983   -0.3387    4.7813 H   0  0  0  0  0  0  0  0  0  0  0  0\\n   18.4028   -1.6862    5.9797 H   0  0  0  0  0  0  0  0  0  0  0  0\\n    9.9375   -0.3075    5.3644 N   0  0  0  0  0  2  0  0  0  0  0  0\\n   11.1511    0.0680    4.6496 C   0  0  0  0  0  0  0  0  0  0  0  0\\n   12.3019   -0.3582    5.5415 C   0  0  0  0  0  0  0  0  0  0  0  0\\n   11.1136    1.1621    4.4953 H   0  0  0  0  0  0  0  0  0  0  0  0\\n   11.2060   -0.4183    3.6752 H   0  0  0  0  0  0  0  0  0  0  0  0\\n   12.2263    0.0794    6.5524 H   0  0  0  0  0  0  0  0  0  0  0  0\\n   13.2818   -0.1471    5.0946 H   0  0  0  0  0  0  0  0  0  0  0  0\\n    4.3802   -0.1885    4.9481 N   0  0  0  0  0  2  0  0  0  0  0  0\\n    5.5938    0.1870    4.2333 C   0  0  0  0  0  0  0  0  0  0  0  0\\n    6.7446   -0.2392    5.1252 C   0  0  0  0  0  0  0  0  0  0  0  0\\n    5.5563    1.2811    4.0790 H   0  0  0  0  0  0  0  0  0  0  0  0\\n    5.6487   -0.2993    3.2589 H   0  0  0  0  0  0  0  0  0  0  0  0\\n    6.6690    0.1984    6.1361 H   0  0  0  0  0  0  0  0  0  0  0  0\\n    7.7245   -0.0281    4.6783 H   0  0  0  0  0  0  0  0  0  0  0  0\\n  -11.0731   10.8015    4.0745 C   0  0  0  0  0  0  0  0  0  0  0  0\\n   -9.8562   10.0424    4.0880 N   0  0  0  0  0  2  0  0  0  0  0  0\\n  -10.8072   11.8475    3.7702 H   0  0  0  0  0  0  0  0  0  0  0  0\\n  -11.5448   10.8610    5.0840 H   0  0  0  0  0  0  0  0  0  0  0  0\\n  -11.8281   10.3717    3.3690 H   0  0  0  0  0  0  0  0  0  0  0  0\\n   -4.7623    5.6276    4.5966 N   0  0  0  0  0  2  0  0  0  0  0  0\\n   -5.7185    6.3760    5.4032 C   0  0  0  0  0  0  0  0  0  0  0  0\\n   -6.5494    7.1764    4.4181 C   0  0  0  0  0  0  0  0  0  0  0  0\\n   -5.1350    7.0174    6.0892 H   0  0  0  0  0  0  0  0  0  0  0  0\\n   -6.3444    5.7105    5.9983 H   0  0  0  0  0  0  0  0  0  0  0  0\\n   -5.9225    7.8105    3.7669 H   0  0  0  0  0  0  0  0  0  0  0  0\\n   -7.3301    7.7702    4.9105 H   0  0  0  0  0  0  0  0  0  0  0  0\\n   -0.5620    1.9872    5.0159 N   0  0  0  0  0  2  0  0  0  0  0  0\\n   -1.5181    2.7356    5.8226 C   0  0  0  0  0  0  0  0  0  0  0  0\\n   -2.3491    3.5360    4.8375 C   0  0  0  0  0  0  0  0  0  0  0  0\\n   -0.9347    3.3770    6.5085 H   0  0  0  0  0  0  0  0  0  0  0  0\\n   -2.1441    2.0701    6.4177 H   0  0  0  0  0  0  0  0  0  0  0  0\\n   -1.7222    4.1701    4.1863 H   0  0  0  0  0  0  0  0  0  0  0  0\\n   -3.1298    4.1298    5.3299 H   0  0  0  0  0  0  0  0  0  0  0  0\\n  -11.3253  -10.7350    4.1110 C   0  0  0  0  0  0  0  0  0  0  0  0\\n  -10.3585   -9.6757    4.1351 N   0  0  0  0  0  2  0  0  0  0  0  0\\n  -12.3158  -10.2733    3.8599 H   0  0  0  0  0  0  0  0  0  0  0  0\\n  -11.4342  -11.2299    5.1052 H   0  0  0  0  0  0  0  0  0  0  0  0\\n  -11.0639  -11.5249    3.3625 H   0  0  0  0  0  0  0  0  0  0  0  0\\n   -5.0800   -5.4825    4.6359 N   0  0  0  0  0  2  0  0  0  0  0  0\\n   -5.9607   -6.3215    5.4393 C   0  0  0  0  0  0  0  0  0  0  0  0\\n   -6.9319   -6.9536    4.4602 C   0  0  0  0  0  0  0  0  0  0  0  0\\n   -6.4617   -5.6615    6.1712 H   0  0  0  0  0  0  0  0  0  0  0  0\\n   -5.3992   -7.0809    5.9842 H   0  0  0  0  0  0  0  0  0  0  0  0\\n   -7.4642   -6.1966    3.8580 H   0  0  0  0  0  0  0  0  0  0  0  0\\n   -7.6397   -7.6349    4.9495 H   0  0  0  0  0  0  0  0  0  0  0  0\\n   -0.7274   -2.0248    5.0488 N   0  0  0  0  0  2  0  0  0  0  0  0\\n   -1.6081   -2.8638    5.8522 C   0  0  0  0  0  0  0  0  0  0  0  0\\n   -2.5793   -3.4959    4.8731 C   0  0  0  0  0  0  0  0  0  0  0  0\\n   -2.1092   -2.2038    6.5841 H   0  0  0  0  0  0  0  0  0  0  0  0\\n   -1.0466   -3.6232    6.3971 H   0  0  0  0  0  0  0  0  0  0  0  0\\n   -3.1116   -2.7389    4.2709 H   0  0  0  0  0  0  0  0  0  0  0  0\\n   -3.2871   -4.1772    5.3624 H   0  0  0  0  0  0  0  0  0  0  0  0\\n  1  2  2  0\\n  2  3  1  0\\n  3  4  2  0\\n  4  5  1  0\\n  5  6  2  0\\n  6  1  1  0\\n  1  7  1  0\\n  3  8  1  0\\n  5  9  1  0\\n 10 11  1  0\\n 11 12  1  0\\n 12 13  1  0\\n 13 14  1  0\\n 14 15  1  0\\n 10 16  1  0\\n 10 17  1  0\\n 10 18  1  0\\n 12 19  1  0\\n 12 20  1  0\\n 14 21  1  0\\n 14 22  1  0\\n 15 23  1  0\\n 24 25  1  0\\n 25 26  1  0\\n 26 27  1  0\\n 27 28  1  0\\n 28 29  1  0\\n 24 30  1  0\\n 24 31  1  0\\n 24 32  1  0\\n 26 33  1  0\\n 26 34  1  0\\n 28 35  1  0\\n 28 36  1  0\\n 29 37  1  0\\n 38 39  1  0\\n 39 40  1  0\\n 40 41  1  0\\n 41 42  1  0\\n 42 43  1  0\\n 38 44  1  0\\n 38 45  1  0\\n 38 46  1  0\\n 40 47  1  0\\n 40 48  1  0\\n 42 49  1  0\\n 42 50  1  0\\n 43 51  1  0\\n  2 15  1  0\\n  4 29  1  0\\n  6 43  1  0\\n 52 53  2  0\\n 53 54  1  0\\n 54 55  2  0\\n 55 56  1  0\\n 56 57  2  0\\n 57 52  1  0\\n 52 58  1  0\\n 54 59  1  0\\n 56 60  1  0\\n 61 62  1  0\\n 61 63  1  0\\n 61 64  1  0\\n 61 65  1  0\\n 66 67  1  0\\n 67 68  1  0\\n 67 69  1  0\\n 67 70  1  0\\n 68 71  1  0\\n 68 72  1  0\\n 73 74  1  0\\n 74 75  1  0\\n 74 76  1  0\\n 74 77  1  0\\n 75 78  1  0\\n 75 79  1  0\\n 62 68  1  0\\n 66 75  1  0\\n 80 81  1  0\\n 80 82  1  0\\n 80 83  1  0\\n 80 84  1  0\\n 85 86  1  0\\n 86 87  1  0\\n 86 88  1  0\\n 86 89  1  0\\n 87 90  1  0\\n 87 91  1  0\\n 92 93  1  0\\n 93 94  1  0\\n 93 95  1  0\\n 93 96  1  0\\n 94 97  1  0\\n 94 98  1  0\\n 81 87  1  0\\n 85 94  1  0\\n 99100  1  0\\n 99101  1  0\\n 99102  1  0\\n 99103  1  0\\n104105  1  0\\n105106  1  0\\n105107  1  0\\n105108  1  0\\n106109  1  0\\n106110  1  0\\n111112  1  0\\n112113  1  0\\n112114  1  0\\n112115  1  0\\n113116  1  0\\n113117  1  0\\n100106  1  0\\n104113  1  0\\n 53 73  1  0\\n 55 92  1  0\\n 57111  1  0\\nM  END\\n\");\nviewer_16529451558430767.setStyle({\"stick\": {\"colorscheme\": \"cyanCarbon\"}});\nviewer_16529451558430767.zoomTo();\n\tviewer_16529451558430767.setBackgroundColor(\"#000000\");\n\tviewer_16529451558430767.zoomTo();\nviewer_16529451558430767.render();\n});\n</script>",
      "text/html": [
       "<div id=\"3dmolviewer_16529451558430767\"  style=\"position: relative; width: 400px; height: 400px\">\n",
       "        <p id=\"3dmolwarning_16529451558430767\" style=\"background-color:#ffcccc;color:black\">You appear to be running in JupyterLab (or JavaScript failed to load for some other reason).  You need to install the 3dmol extension: <br>\n",
       "        <tt>jupyter labextension install jupyterlab_3dmol</tt></p>\n",
       "        </div>\n",
       "<script>\n",
       "\n",
       "var loadScriptAsync = function(uri){\n",
       "  return new Promise((resolve, reject) => {\n",
       "    var tag = document.createElement('script');\n",
       "    tag.src = uri;\n",
       "    tag.async = true;\n",
       "    tag.onload = () => {\n",
       "      resolve();\n",
       "    };\n",
       "  var firstScriptTag = document.getElementsByTagName('script')[0];\n",
       "  firstScriptTag.parentNode.insertBefore(tag, firstScriptTag);\n",
       "});\n",
       "};\n",
       "\n",
       "if(typeof $3Dmolpromise === 'undefined') {\n",
       "$3Dmolpromise = null;\n",
       "  $3Dmolpromise = loadScriptAsync('https://3dmol.org/build/3Dmol.js');\n",
       "}\n",
       "\n",
       "var viewer_16529451558430767 = null;\n",
       "var warn = document.getElementById(\"3dmolwarning_16529451558430767\");\n",
       "if(warn) {\n",
       "    warn.parentNode.removeChild(warn);\n",
       "}\n",
       "$3Dmolpromise.then(function() {\n",
       "viewer_16529451558430767 = $3Dmol.createViewer($(\"#3dmolviewer_16529451558430767\"),{backgroundColor:\"white\"});\n",
       "viewer_16529451558430767.addModel(\"\\n     RDKit          3D\\n\\n117117  0  0  0  0  0  0  0  0999 V2000\\n    1.3321   -1.1599    0.0080 C   0  0  0  0  0  0  0  0  0  0  0  0\\n    2.0286    0.0346    0.0080 C   0  0  0  0  0  0  0  0  0  0  0  0\\n    1.2938    1.2010    0.0080 C   0  0  0  0  0  0  0  0  0  0  0  0\\n   -0.0763    1.2422    0.0080 C   0  0  0  0  0  0  0  0  0  0  0  0\\n   -0.7560    0.0325    0.0080 C   0  0  0  0  0  0  0  0  0  0  0  0\\n   -0.0535   -1.1730    0.0080 C   0  0  0  0  0  0  0  0  0  0  0  0\\n    1.9098   -2.0847    0.0080 H   0  0  0  0  0  0  0  0  0  0  0  0\\n    1.8261    2.1578    0.0080 H   0  0  0  0  0  0  0  0  0  0  0  0\\n   -1.8561    0.0435    0.0080 H   0  0  0  0  0  0  0  0  0  0  0  0\\n    7.1993    1.3253   -0.6966 C   0  0  0  0  0  0  0  0  0  0  0  0\\n    6.9132    0.0445   -1.2454 O   0  0  0  0  0  0  0  0  0  0  0  0\\n    7.1818   -0.8406   -0.2341 C   0  0  0  0  0  0  0  0  0  0  0  0\\n    6.4183   -0.6947    0.8466 O   0  0  0  0  0  0  0  0  0  0  0  0\\n    5.0979   -0.8830    0.8454 C   0  0  0  0  0  0  0  0  0  0  0  0\\n    4.1511   -0.1801    0.0047 C   0  0  0  0  0  3  0  0  0  0  0  0\\n    6.9779    2.0523   -1.4969 H   0  0  0  0  0  0  0  0  0  0  0  0\\n    8.2747    1.3341   -0.4286 H   0  0  0  0  0  0  0  0  0  0  0  0\\n    6.6348    1.5345    0.2025 H   0  0  0  0  0  0  0  0  0  0  0  0\\n    8.2566   -0.6370    0.0766 H   0  0  0  0  0  0  0  0  0  0  0  0\\n    7.2246   -1.8958   -0.6400 H   0  0  0  0  0  0  0  0  0  0  0  0\\n    4.7352   -0.6606    1.9244 H   0  0  0  0  0  0  0  0  0  0  0  0\\n    4.9099   -2.0158    0.7160 H   0  0  0  0  0  0  0  0  0  0  0  0\\n    3.0758   -0.4616    0.1810 H   0  0  0  0  0  0  0  0  0  0  0  0\\n   -3.5551    5.1886   -1.4729 C   0  0  0  0  0  0  0  0  0  0  0  0\\n   -2.9951    5.4136   -0.1848 O   0  0  0  0  0  0  0  0  0  0  0  0\\n   -3.8565    4.7996    0.6865 C   0  0  0  0  0  0  0  0  0  0  0  0\\n   -3.9605    3.4822    0.5259 O   0  0  0  0  0  0  0  0  0  0  0  0\\n   -2.9470    2.6358    0.7143 C   0  0  0  0  0  0  0  0  0  0  0  0\\n   -1.6754    2.6828    0.0228 C   0  0  0  0  0  3  0  0  0  0  0  0\\n   -2.8664    5.6692   -2.1890 H   0  0  0  0  0  0  0  0  0  0  0  0\\n   -4.5527    5.6713   -1.4854 H   0  0  0  0  0  0  0  0  0  0  0  0\\n   -3.6951    4.1388   -1.6943 H   0  0  0  0  0  0  0  0  0  0  0  0\\n   -4.8793    5.2511    0.4787 H   0  0  0  0  0  0  0  0  0  0  0  0\\n   -3.6387    5.1278    1.7471 H   0  0  0  0  0  0  0  0  0  0  0  0\\n   -3.3571    1.5771    0.4772 H   0  0  0  0  0  0  0  0  0  0  0  0\\n   -2.7296    2.6031    1.8487 H   0  0  0  0  0  0  0  0  0  0  0  0\\n   -0.9646    1.8561    0.3019 H   0  0  0  0  0  0  0  0  0  0  0  0\\n   -3.0828   -5.7510   -0.2220 C   0  0  0  0  0  0  0  0  0  0  0  0\\n   -3.5400   -4.7555   -1.1294 O   0  0  0  0  0  0  0  0  0  0  0  0\\n   -4.4809   -4.0460   -0.4298 C   0  0  0  0  0  0  0  0  0  0  0  0\\n   -4.0126   -3.4154    0.6449 O   0  0  0  0  0  0  0  0  0  0  0  0\\n   -3.1130   -2.4323    0.5873 C   0  0  0  0  0  0  0  0  0  0  0  0\\n   -1.7950   -2.5349   -0.0040 C   0  0  0  0  0  3  0  0  0  0  0  0\\n   -2.3151   -6.3264   -0.7678 H   0  0  0  0  0  0  0  0  0  0  0  0\\n   -3.9550   -6.3843    0.0363 H   0  0  0  0  0  0  0  0  0  0  0  0\\n   -2.6938   -5.3360    0.6984 H   0  0  0  0  0  0  0  0  0  0  0  0\\n   -5.2419   -4.8117   -0.0724 H   0  0  0  0  0  0  0  0  0  0  0  0\\n   -5.0804   -3.3934   -1.1333 H   0  0  0  0  0  0  0  0  0  0  0  0\\n   -2.9055   -2.1148    1.6834 H   0  0  0  0  0  0  0  0  0  0  0  0\\n   -3.6357   -1.5115    0.1245 H   0  0  0  0  0  0  0  0  0  0  0  0\\n   -1.1748   -1.5996    0.0798 H   0  0  0  0  0  0  0  0  0  0  0  0\\n    1.9669   -1.3552    5.0080 C   0  0  0  0  0  0  0  0  0  0  0  0\\n    2.6634   -0.1608    5.0080 C   0  0  0  0  0  0  0  0  0  0  0  0\\n    1.9286    1.0056    5.0080 C   0  0  0  0  0  0  0  0  0  0  0  0\\n    0.5585    1.0468    5.0080 C   0  0  0  0  0  0  0  0  0  0  0  0\\n   -0.1212   -0.1628    5.0080 C   0  0  0  0  0  0  0  0  0  0  0  0\\n    0.5813   -1.3684    5.0080 C   0  0  0  0  0  0  0  0  0  0  0  0\\n    2.5446   -2.2801    5.0080 H   0  0  0  0  0  0  0  0  0  0  0  0\\n    2.4609    1.9625    5.0080 H   0  0  0  0  0  0  0  0  0  0  0  0\\n   -1.2213   -0.1518    5.0080 H   0  0  0  0  0  0  0  0  0  0  0  0\\n   18.0979   -0.6277    5.7820 C   0  0  0  0  0  0  0  0  0  0  0  0\\n   16.6770   -0.4519    5.8693 N   0  0  0  0  0  2  0  0  0  0  0  0\\n   18.5632    0.0588    6.5365 H   0  0  0  0  0  0  0  0  0  0  0  0\\n   18.4983   -0.3387    4.7813 H   0  0  0  0  0  0  0  0  0  0  0  0\\n   18.4028   -1.6862    5.9797 H   0  0  0  0  0  0  0  0  0  0  0  0\\n    9.9375   -0.3075    5.3644 N   0  0  0  0  0  2  0  0  0  0  0  0\\n   11.1511    0.0680    4.6496 C   0  0  0  0  0  0  0  0  0  0  0  0\\n   12.3019   -0.3582    5.5415 C   0  0  0  0  0  0  0  0  0  0  0  0\\n   11.1136    1.1621    4.4953 H   0  0  0  0  0  0  0  0  0  0  0  0\\n   11.2060   -0.4183    3.6752 H   0  0  0  0  0  0  0  0  0  0  0  0\\n   12.2263    0.0794    6.5524 H   0  0  0  0  0  0  0  0  0  0  0  0\\n   13.2818   -0.1471    5.0946 H   0  0  0  0  0  0  0  0  0  0  0  0\\n    4.3802   -0.1885    4.9481 N   0  0  0  0  0  2  0  0  0  0  0  0\\n    5.5938    0.1870    4.2333 C   0  0  0  0  0  0  0  0  0  0  0  0\\n    6.7446   -0.2392    5.1252 C   0  0  0  0  0  0  0  0  0  0  0  0\\n    5.5563    1.2811    4.0790 H   0  0  0  0  0  0  0  0  0  0  0  0\\n    5.6487   -0.2993    3.2589 H   0  0  0  0  0  0  0  0  0  0  0  0\\n    6.6690    0.1984    6.1361 H   0  0  0  0  0  0  0  0  0  0  0  0\\n    7.7245   -0.0281    4.6783 H   0  0  0  0  0  0  0  0  0  0  0  0\\n  -11.0731   10.8015    4.0745 C   0  0  0  0  0  0  0  0  0  0  0  0\\n   -9.8562   10.0424    4.0880 N   0  0  0  0  0  2  0  0  0  0  0  0\\n  -10.8072   11.8475    3.7702 H   0  0  0  0  0  0  0  0  0  0  0  0\\n  -11.5448   10.8610    5.0840 H   0  0  0  0  0  0  0  0  0  0  0  0\\n  -11.8281   10.3717    3.3690 H   0  0  0  0  0  0  0  0  0  0  0  0\\n   -4.7623    5.6276    4.5966 N   0  0  0  0  0  2  0  0  0  0  0  0\\n   -5.7185    6.3760    5.4032 C   0  0  0  0  0  0  0  0  0  0  0  0\\n   -6.5494    7.1764    4.4181 C   0  0  0  0  0  0  0  0  0  0  0  0\\n   -5.1350    7.0174    6.0892 H   0  0  0  0  0  0  0  0  0  0  0  0\\n   -6.3444    5.7105    5.9983 H   0  0  0  0  0  0  0  0  0  0  0  0\\n   -5.9225    7.8105    3.7669 H   0  0  0  0  0  0  0  0  0  0  0  0\\n   -7.3301    7.7702    4.9105 H   0  0  0  0  0  0  0  0  0  0  0  0\\n   -0.5620    1.9872    5.0159 N   0  0  0  0  0  2  0  0  0  0  0  0\\n   -1.5181    2.7356    5.8226 C   0  0  0  0  0  0  0  0  0  0  0  0\\n   -2.3491    3.5360    4.8375 C   0  0  0  0  0  0  0  0  0  0  0  0\\n   -0.9347    3.3770    6.5085 H   0  0  0  0  0  0  0  0  0  0  0  0\\n   -2.1441    2.0701    6.4177 H   0  0  0  0  0  0  0  0  0  0  0  0\\n   -1.7222    4.1701    4.1863 H   0  0  0  0  0  0  0  0  0  0  0  0\\n   -3.1298    4.1298    5.3299 H   0  0  0  0  0  0  0  0  0  0  0  0\\n  -11.3253  -10.7350    4.1110 C   0  0  0  0  0  0  0  0  0  0  0  0\\n  -10.3585   -9.6757    4.1351 N   0  0  0  0  0  2  0  0  0  0  0  0\\n  -12.3158  -10.2733    3.8599 H   0  0  0  0  0  0  0  0  0  0  0  0\\n  -11.4342  -11.2299    5.1052 H   0  0  0  0  0  0  0  0  0  0  0  0\\n  -11.0639  -11.5249    3.3625 H   0  0  0  0  0  0  0  0  0  0  0  0\\n   -5.0800   -5.4825    4.6359 N   0  0  0  0  0  2  0  0  0  0  0  0\\n   -5.9607   -6.3215    5.4393 C   0  0  0  0  0  0  0  0  0  0  0  0\\n   -6.9319   -6.9536    4.4602 C   0  0  0  0  0  0  0  0  0  0  0  0\\n   -6.4617   -5.6615    6.1712 H   0  0  0  0  0  0  0  0  0  0  0  0\\n   -5.3992   -7.0809    5.9842 H   0  0  0  0  0  0  0  0  0  0  0  0\\n   -7.4642   -6.1966    3.8580 H   0  0  0  0  0  0  0  0  0  0  0  0\\n   -7.6397   -7.6349    4.9495 H   0  0  0  0  0  0  0  0  0  0  0  0\\n   -0.7274   -2.0248    5.0488 N   0  0  0  0  0  2  0  0  0  0  0  0\\n   -1.6081   -2.8638    5.8522 C   0  0  0  0  0  0  0  0  0  0  0  0\\n   -2.5793   -3.4959    4.8731 C   0  0  0  0  0  0  0  0  0  0  0  0\\n   -2.1092   -2.2038    6.5841 H   0  0  0  0  0  0  0  0  0  0  0  0\\n   -1.0466   -3.6232    6.3971 H   0  0  0  0  0  0  0  0  0  0  0  0\\n   -3.1116   -2.7389    4.2709 H   0  0  0  0  0  0  0  0  0  0  0  0\\n   -3.2871   -4.1772    5.3624 H   0  0  0  0  0  0  0  0  0  0  0  0\\n  1  2  2  0\\n  2  3  1  0\\n  3  4  2  0\\n  4  5  1  0\\n  5  6  2  0\\n  6  1  1  0\\n  1  7  1  0\\n  3  8  1  0\\n  5  9  1  0\\n 10 11  1  0\\n 11 12  1  0\\n 12 13  1  0\\n 13 14  1  0\\n 14 15  1  0\\n 10 16  1  0\\n 10 17  1  0\\n 10 18  1  0\\n 12 19  1  0\\n 12 20  1  0\\n 14 21  1  0\\n 14 22  1  0\\n 15 23  1  0\\n 24 25  1  0\\n 25 26  1  0\\n 26 27  1  0\\n 27 28  1  0\\n 28 29  1  0\\n 24 30  1  0\\n 24 31  1  0\\n 24 32  1  0\\n 26 33  1  0\\n 26 34  1  0\\n 28 35  1  0\\n 28 36  1  0\\n 29 37  1  0\\n 38 39  1  0\\n 39 40  1  0\\n 40 41  1  0\\n 41 42  1  0\\n 42 43  1  0\\n 38 44  1  0\\n 38 45  1  0\\n 38 46  1  0\\n 40 47  1  0\\n 40 48  1  0\\n 42 49  1  0\\n 42 50  1  0\\n 43 51  1  0\\n  2 15  1  0\\n  4 29  1  0\\n  6 43  1  0\\n 52 53  2  0\\n 53 54  1  0\\n 54 55  2  0\\n 55 56  1  0\\n 56 57  2  0\\n 57 52  1  0\\n 52 58  1  0\\n 54 59  1  0\\n 56 60  1  0\\n 61 62  1  0\\n 61 63  1  0\\n 61 64  1  0\\n 61 65  1  0\\n 66 67  1  0\\n 67 68  1  0\\n 67 69  1  0\\n 67 70  1  0\\n 68 71  1  0\\n 68 72  1  0\\n 73 74  1  0\\n 74 75  1  0\\n 74 76  1  0\\n 74 77  1  0\\n 75 78  1  0\\n 75 79  1  0\\n 62 68  1  0\\n 66 75  1  0\\n 80 81  1  0\\n 80 82  1  0\\n 80 83  1  0\\n 80 84  1  0\\n 85 86  1  0\\n 86 87  1  0\\n 86 88  1  0\\n 86 89  1  0\\n 87 90  1  0\\n 87 91  1  0\\n 92 93  1  0\\n 93 94  1  0\\n 93 95  1  0\\n 93 96  1  0\\n 94 97  1  0\\n 94 98  1  0\\n 81 87  1  0\\n 85 94  1  0\\n 99100  1  0\\n 99101  1  0\\n 99102  1  0\\n 99103  1  0\\n104105  1  0\\n105106  1  0\\n105107  1  0\\n105108  1  0\\n106109  1  0\\n106110  1  0\\n111112  1  0\\n112113  1  0\\n112114  1  0\\n112115  1  0\\n113116  1  0\\n113117  1  0\\n100106  1  0\\n104113  1  0\\n 53 73  1  0\\n 55 92  1  0\\n 57111  1  0\\nM  END\\n\");\n",
       "viewer_16529451558430767.setStyle({\"stick\": {\"colorscheme\": \"cyanCarbon\"}});\n",
       "viewer_16529451558430767.zoomTo();\n",
       "\tviewer_16529451558430767.setBackgroundColor(\"#000000\");\n",
       "\tviewer_16529451558430767.zoomTo();\n",
       "viewer_16529451558430767.render();\n",
       "});\n",
       "</script>"
      ]
     },
     "metadata": {},
     "output_type": "display_data"
    }
   ],
   "source": [
    "host = stk.BuildingBlock.init_from_molecule(cores[2])\n",
    "\n",
    "guests = (\n",
    "    stk.host_guest.Guest(\n",
    "        building_block=stk.BuildingBlock.init_from_molecule(cores[1]),\n",
    "        displacement=(0, 0, 5),\n",
    "    ),\n",
    ")\n",
    "\n",
    "polymer = stk.ConstructedMolecule(\n",
    "    topology_graph=stk.host_guest.Complex(\n",
    "        host=host,\n",
    "        guests=guests,\n",
    "    ),\n",
    ")\n",
    "show_stk_mol(polymer)"
   ]
  },
  {
   "cell_type": "code",
   "execution_count": 237,
   "id": "801d3fff-a7e4-4a83-ba64-d82eb5febd70",
   "metadata": {},
   "outputs": [
    {
     "data": {
      "application/3dmoljs_load.v0": "<div id=\"3dmolviewer_16529451561322715\"  style=\"position: relative; width: 400px; height: 400px\">\n        <p id=\"3dmolwarning_16529451561322715\" style=\"background-color:#ffcccc;color:black\">You appear to be running in JupyterLab (or JavaScript failed to load for some other reason).  You need to install the 3dmol extension: <br>\n        <tt>jupyter labextension install jupyterlab_3dmol</tt></p>\n        </div>\n<script>\n\nvar loadScriptAsync = function(uri){\n  return new Promise((resolve, reject) => {\n    var tag = document.createElement('script');\n    tag.src = uri;\n    tag.async = true;\n    tag.onload = () => {\n      resolve();\n    };\n  var firstScriptTag = document.getElementsByTagName('script')[0];\n  firstScriptTag.parentNode.insertBefore(tag, firstScriptTag);\n});\n};\n\nif(typeof $3Dmolpromise === 'undefined') {\n$3Dmolpromise = null;\n  $3Dmolpromise = loadScriptAsync('https://3dmol.org/build/3Dmol.js');\n}\n\nvar viewer_16529451561322715 = null;\nvar warn = document.getElementById(\"3dmolwarning_16529451561322715\");\nif(warn) {\n    warn.parentNode.removeChild(warn);\n}\n$3Dmolpromise.then(function() {\nviewer_16529451561322715 = $3Dmol.createViewer($(\"#3dmolviewer_16529451561322715\"),{backgroundColor:\"white\"});\nviewer_16529451561322715.addModel(\"\\n     RDKit          3D\\n\\n206204  0  0  0  0  0  0  0  0999 V2000\\n    1.3321   -1.1599    0.0080 C   0  0  0  0  0  0  0  0  0  0  0  0\\n    2.0286    0.0346    0.0080 C   0  0  0  0  0  0  0  0  0  0  0  0\\n    1.2938    1.2010    0.0080 C   0  0  0  0  0  0  0  0  0  0  0  0\\n   -0.0763    1.2422    0.0080 C   0  0  0  0  0  0  0  0  0  0  0  0\\n   -0.7560    0.0325    0.0080 C   0  0  0  0  0  0  0  0  0  0  0  0\\n   -0.0535   -1.1730    0.0080 C   0  0  0  0  0  0  0  0  0  0  0  0\\n    1.9098   -2.0847    0.0080 H   0  0  0  0  0  0  0  0  0  0  0  0\\n    1.8261    2.1578    0.0080 H   0  0  0  0  0  0  0  0  0  0  0  0\\n   -1.8561    0.0435    0.0080 H   0  0  0  0  0  0  0  0  0  0  0  0\\n    7.1993    1.3253   -0.6966 C   0  0  0  0  0  0  0  0  0  0  0  0\\n    6.9132    0.0445   -1.2454 O   0  0  0  0  0  0  0  0  0  0  0  0\\n    7.1818   -0.8406   -0.2341 C   0  0  0  0  0  0  0  0  0  0  0  0\\n    6.4183   -0.6947    0.8466 O   0  0  0  0  0  0  0  0  0  0  0  0\\n    5.0979   -0.8830    0.8454 C   0  0  0  0  0  0  0  0  0  0  0  0\\n    4.1511   -0.1801    0.0047 C   0  0  0  0  0  3  0  0  0  0  0  0\\n    6.9779    2.0523   -1.4969 H   0  0  0  0  0  0  0  0  0  0  0  0\\n    8.2747    1.3341   -0.4286 H   0  0  0  0  0  0  0  0  0  0  0  0\\n    6.6348    1.5345    0.2025 H   0  0  0  0  0  0  0  0  0  0  0  0\\n    8.2566   -0.6370    0.0766 H   0  0  0  0  0  0  0  0  0  0  0  0\\n    7.2246   -1.8958   -0.6400 H   0  0  0  0  0  0  0  0  0  0  0  0\\n    4.7352   -0.6606    1.9244 H   0  0  0  0  0  0  0  0  0  0  0  0\\n    4.9099   -2.0158    0.7160 H   0  0  0  0  0  0  0  0  0  0  0  0\\n    3.0758   -0.4616    0.1810 H   0  0  0  0  0  0  0  0  0  0  0  0\\n   -3.5551    5.1886   -1.4729 C   0  0  0  0  0  0  0  0  0  0  0  0\\n   -2.9951    5.4136   -0.1848 O   0  0  0  0  0  0  0  0  0  0  0  0\\n   -3.8565    4.7996    0.6865 C   0  0  0  0  0  0  0  0  0  0  0  0\\n   -3.9605    3.4822    0.5259 O   0  0  0  0  0  0  0  0  0  0  0  0\\n   -2.9470    2.6358    0.7143 C   0  0  0  0  0  0  0  0  0  0  0  0\\n   -1.6754    2.6828    0.0228 C   0  0  0  0  0  3  0  0  0  0  0  0\\n   -2.8664    5.6692   -2.1890 H   0  0  0  0  0  0  0  0  0  0  0  0\\n   -4.5527    5.6713   -1.4854 H   0  0  0  0  0  0  0  0  0  0  0  0\\n   -3.6951    4.1388   -1.6943 H   0  0  0  0  0  0  0  0  0  0  0  0\\n   -4.8793    5.2511    0.4787 H   0  0  0  0  0  0  0  0  0  0  0  0\\n   -3.6387    5.1278    1.7471 H   0  0  0  0  0  0  0  0  0  0  0  0\\n   -3.3571    1.5771    0.4772 H   0  0  0  0  0  0  0  0  0  0  0  0\\n   -2.7296    2.6031    1.8487 H   0  0  0  0  0  0  0  0  0  0  0  0\\n   -0.9646    1.8561    0.3019 H   0  0  0  0  0  0  0  0  0  0  0  0\\n   -3.0828   -5.7510   -0.2220 C   0  0  0  0  0  0  0  0  0  0  0  0\\n   -3.5400   -4.7555   -1.1294 O   0  0  0  0  0  0  0  0  0  0  0  0\\n   -4.4809   -4.0460   -0.4298 C   0  0  0  0  0  0  0  0  0  0  0  0\\n   -4.0126   -3.4154    0.6449 O   0  0  0  0  0  0  0  0  0  0  0  0\\n   -3.1130   -2.4323    0.5873 C   0  0  0  0  0  0  0  0  0  0  0  0\\n   -1.7950   -2.5349   -0.0040 C   0  0  0  0  0  3  0  0  0  0  0  0\\n   -2.3151   -6.3264   -0.7678 H   0  0  0  0  0  0  0  0  0  0  0  0\\n   -3.9550   -6.3843    0.0363 H   0  0  0  0  0  0  0  0  0  0  0  0\\n   -2.6938   -5.3360    0.6984 H   0  0  0  0  0  0  0  0  0  0  0  0\\n   -5.2419   -4.8117   -0.0724 H   0  0  0  0  0  0  0  0  0  0  0  0\\n   -5.0804   -3.3934   -1.1333 H   0  0  0  0  0  0  0  0  0  0  0  0\\n   -2.9055   -2.1148    1.6834 H   0  0  0  0  0  0  0  0  0  0  0  0\\n   -3.6357   -1.5115    0.1245 H   0  0  0  0  0  0  0  0  0  0  0  0\\n   -1.1748   -1.5996    0.0798 H   0  0  0  0  0  0  0  0  0  0  0  0\\n    0.9561   -1.3355    5.0319 C   0  0  0  0  0  0  0  0  0  0  0  0\\n    1.6526   -0.1410    5.0319 C   0  0  0  0  0  0  0  0  0  0  0  0\\n    0.9178    1.0254    5.0319 C   0  0  0  0  0  0  0  0  0  0  0  0\\n   -0.4523    1.0666    5.0319 C   0  0  0  0  0  0  0  0  0  0  0  0\\n   -1.1320   -0.1430    5.0319 C   0  0  0  0  0  0  0  0  0  0  0  0\\n   -0.4295   -1.3486    5.0319 C   0  0  0  0  0  0  0  0  0  0  0  0\\n    1.5338   -2.2603    5.0319 H   0  0  0  0  0  0  0  0  0  0  0  0\\n    1.4501    1.9822    5.0319 H   0  0  0  0  0  0  0  0  0  0  0  0\\n   -2.2321   -0.1320    5.0319 H   0  0  0  0  0  0  0  0  0  0  0  0\\n    5.0135   -2.0477    4.7717 Fe  0  0  0  0  0  1  0  0  0  0  0  0\\n    5.2915   -0.3398    5.1190 C   0  0  0  0  0  2  0  0  0  0  0  0\\n    4.4110    0.7354    4.7968 N   0  0  0  0  0  2  0  0  0  0  0  0\\n    3.0770    0.4971    5.1450 C   0  0  0  0  0  2  0  0  0  0  0  0\\n   -1.4565    5.2135    4.8209 Fe  0  0  0  0  0  1  0  0  0  0  0  0\\n   -2.7707    4.0708    5.1070 C   0  0  0  0  0  2  0  0  0  0  0  0\\n   -2.7748    2.6905    4.7466 N   0  0  0  0  0  2  0  0  0  0  0  0\\n   -1.6055    2.0099    5.1032 C   0  0  0  0  0  2  0  0  0  0  0  0\\n   -4.4259   -1.8926    4.8948 Fe  0  0  0  0  0  1  0  0  0  0  0  0\\n   -3.5397   -3.3904    5.1880 C   0  0  0  0  0  2  0  0  0  0  0  0\\n   -2.1818   -3.6445    4.8321 N   0  0  0  0  0  2  0  0  0  0  0  0\\n   -1.3025   -2.6160    5.1877 C   0  0  0  0  0  2  0  0  0  0  0  0\\n    1.2943   -0.2987   10.0334 C   0  0  0  0  0  3  0  0  0  0  0  0\\n   16.5953   -0.5835   10.7629 C   0  0  0  0  0  0  0  0  0  0  0  0\\n   15.1744   -0.4077   10.8502 N   0  0  0  0  0  2  0  0  0  0  0  0\\n   17.0606    0.1030   11.5174 H   0  0  0  0  0  0  0  0  0  0  0  0\\n   16.9957   -0.2945    9.7622 H   0  0  0  0  0  0  0  0  0  0  0  0\\n   16.9002   -1.6420   10.9606 H   0  0  0  0  0  0  0  0  0  0  0  0\\n    8.4349   -0.2633   10.3453 N   0  0  0  0  0  2  0  0  0  0  0  0\\n    9.6486    0.1122    9.6305 C   0  0  0  0  0  0  0  0  0  0  0  0\\n   10.7993   -0.3140   10.5225 C   0  0  0  0  0  0  0  0  0  0  0  0\\n    9.6110    1.2063    9.4762 H   0  0  0  0  0  0  0  0  0  0  0  0\\n    9.7034   -0.3741    8.6561 H   0  0  0  0  0  0  0  0  0  0  0  0\\n   10.7237    0.1236   11.5333 H   0  0  0  0  0  0  0  0  0  0  0  0\\n   11.7793   -0.1029   10.0755 H   0  0  0  0  0  0  0  0  0  0  0  0\\n    2.8776   -0.1443    9.9290 N   0  0  0  0  0  2  0  0  0  0  0  0\\n    4.0913    0.2312    9.2142 C   0  0  0  0  0  0  0  0  0  0  0  0\\n    5.2420   -0.1950   10.1062 C   0  0  0  0  0  0  0  0  0  0  0  0\\n    4.0537    1.3253    9.0599 H   0  0  0  0  0  0  0  0  0  0  0  0\\n    4.1462   -0.2551    8.2398 H   0  0  0  0  0  0  0  0  0  0  0  0\\n    5.1664    0.2426   11.1171 H   0  0  0  0  0  0  0  0  0  0  0  0\\n    6.2220    0.0161    9.6592 H   0  0  0  0  0  0  0  0  0  0  0  0\\n   -9.7953    9.9414    9.1047 C   0  0  0  0  0  0  0  0  0  0  0  0\\n   -8.5783    9.1822    9.1183 N   0  0  0  0  0  2  0  0  0  0  0  0\\n   -9.5293   10.9873    8.8005 H   0  0  0  0  0  0  0  0  0  0  0  0\\n  -10.2669   10.0009   10.1143 H   0  0  0  0  0  0  0  0  0  0  0  0\\n  -10.5503    9.5116    8.3993 H   0  0  0  0  0  0  0  0  0  0  0  0\\n   -3.4845    4.7674    9.6269 N   0  0  0  0  0  2  0  0  0  0  0  0\\n   -4.4406    5.5158   10.4335 C   0  0  0  0  0  0  0  0  0  0  0  0\\n   -5.2715    6.3162    9.4484 C   0  0  0  0  0  0  0  0  0  0  0  0\\n   -3.8572    6.1572   11.1194 H   0  0  0  0  0  0  0  0  0  0  0  0\\n   -5.0666    4.8504   11.0286 H   0  0  0  0  0  0  0  0  0  0  0  0\\n   -4.6447    6.9503    8.7972 H   0  0  0  0  0  0  0  0  0  0  0  0\\n   -6.0523    6.9100    9.9408 H   0  0  0  0  0  0  0  0  0  0  0  0\\n    0.7159    1.1270   10.0462 N   0  0  0  0  0  2  0  0  0  0  0  0\\n   -0.2403    1.8754   10.8529 C   0  0  0  0  0  0  0  0  0  0  0  0\\n   -1.0712    2.6759    9.8678 C   0  0  0  0  0  0  0  0  0  0  0  0\\n    0.3431    2.5168   11.5388 H   0  0  0  0  0  0  0  0  0  0  0  0\\n   -0.8663    1.2100   11.4480 H   0  0  0  0  0  0  0  0  0  0  0  0\\n   -0.4444    3.3099    9.2166 H   0  0  0  0  0  0  0  0  0  0  0  0\\n   -1.8520    3.2696   10.3602 H   0  0  0  0  0  0  0  0  0  0  0  0\\n  -10.5708   -9.9804    9.1018 C   0  0  0  0  0  0  0  0  0  0  0  0\\n   -9.6039   -8.9211    9.1259 N   0  0  0  0  0  2  0  0  0  0  0  0\\n  -11.5612   -9.5187    8.8507 H   0  0  0  0  0  0  0  0  0  0  0  0\\n  -10.6796  -10.4753   10.0960 H   0  0  0  0  0  0  0  0  0  0  0  0\\n  -10.3094  -10.7703    8.3534 H   0  0  0  0  0  0  0  0  0  0  0  0\\n   -4.3254   -4.7279    9.6267 N   0  0  0  0  0  2  0  0  0  0  0  0\\n   -5.2061   -5.5669   10.4301 C   0  0  0  0  0  0  0  0  0  0  0  0\\n   -6.1773   -6.1990    9.4510 C   0  0  0  0  0  0  0  0  0  0  0  0\\n   -5.7072   -4.9069   11.1620 H   0  0  0  0  0  0  0  0  0  0  0  0\\n   -4.6446   -6.3263   10.9750 H   0  0  0  0  0  0  0  0  0  0  0  0\\n   -6.7096   -5.4420    8.8488 H   0  0  0  0  0  0  0  0  0  0  0  0\\n   -6.8851   -6.8803    9.9403 H   0  0  0  0  0  0  0  0  0  0  0  0\\n    0.0272   -1.2702   10.0396 N   0  0  0  0  0  2  0  0  0  0  0  0\\n   -0.8535   -2.1092   10.8431 C   0  0  0  0  0  0  0  0  0  0  0  0\\n   -1.8247   -2.7413    9.8639 C   0  0  0  0  0  0  0  0  0  0  0  0\\n   -1.3546   -1.4492   11.5749 H   0  0  0  0  0  0  0  0  0  0  0  0\\n   -0.2921   -2.8687   11.3879 H   0  0  0  0  0  0  0  0  0  0  0  0\\n   -2.3571   -1.9843    9.2617 H   0  0  0  0  0  0  0  0  0  0  0  0\\n   -2.5325   -3.4226   10.3532 H   0  0  0  0  0  0  0  0  0  0  0  0\\n    2.9257   -0.0876   15.0010 C   0  0  0  0  0  0  0  0  0  0  0  0\\n    2.2855    1.0839   15.0010 N   0  0  0  0  0  0  0  0  0  0  0  0\\n    0.9496    1.0837   15.0010 C   0  0  0  0  0  0  0  0  0  0  0  0\\n    0.2686   -0.0737   15.0010 N   0  0  0  0  0  0  0  0  0  0  0  0\\n    0.8994   -1.2589   15.0010 C   0  0  0  0  0  0  0  0  0  0  0  0\\n    2.2428   -1.2400   15.0010 N   0  0  0  0  0  0  0  0  0  0  0  0\\n   18.2013   -0.5368   15.7941 C   0  0  0  0  0  0  0  0  0  0  0  0\\n   16.7804   -0.3609   15.8813 N   0  0  0  0  0  2  0  0  0  0  0  0\\n   18.6666    0.1498   16.5486 H   0  0  0  0  0  0  0  0  0  0  0  0\\n   18.6017   -0.2478   14.7934 H   0  0  0  0  0  0  0  0  0  0  0  0\\n   18.5062   -1.5953   15.9917 H   0  0  0  0  0  0  0  0  0  0  0  0\\n   10.0409   -0.2166   15.3765 N   0  0  0  0  0  2  0  0  0  0  0  0\\n   11.2546    0.1589   14.6616 C   0  0  0  0  0  0  0  0  0  0  0  0\\n   12.4053   -0.2672   15.5536 C   0  0  0  0  0  0  0  0  0  0  0  0\\n   11.2170    1.2530   14.5074 H   0  0  0  0  0  0  0  0  0  0  0  0\\n   11.3094   -0.3273   13.6873 H   0  0  0  0  0  0  0  0  0  0  0  0\\n   12.3297    0.1703   16.5645 H   0  0  0  0  0  0  0  0  0  0  0  0\\n   13.3852   -0.0561   15.1066 H   0  0  0  0  0  0  0  0  0  0  0  0\\n    4.4836   -0.0976   14.9602 N   0  0  0  0  0  2  0  0  0  0  0  0\\n    5.6973    0.2779   14.2453 C   0  0  0  0  0  0  0  0  0  0  0  0\\n    6.8480   -0.1482   15.1373 C   0  0  0  0  0  0  0  0  0  0  0  0\\n    5.6597    1.3721   14.0911 H   0  0  0  0  0  0  0  0  0  0  0  0\\n    5.7521   -0.2083   13.2710 H   0  0  0  0  0  0  0  0  0  0  0  0\\n    6.7724    0.2893   16.1482 H   0  0  0  0  0  0  0  0  0  0  0  0\\n    7.8279    0.0629   14.6903 H   0  0  0  0  0  0  0  0  0  0  0  0\\n  -11.0817   10.2096   14.0857 C   0  0  0  0  0  0  0  0  0  0  0  0\\n   -9.8647    9.4504   14.0992 N   0  0  0  0  0  2  0  0  0  0  0  0\\n  -10.8157   11.2555   13.7815 H   0  0  0  0  0  0  0  0  0  0  0  0\\n  -11.5533   10.2691   15.0952 H   0  0  0  0  0  0  0  0  0  0  0  0\\n  -11.8367    9.7798   13.3802 H   0  0  0  0  0  0  0  0  0  0  0  0\\n   -4.7709    5.0356   14.6078 N   0  0  0  0  0  2  0  0  0  0  0  0\\n   -5.7270    5.7840   15.4144 C   0  0  0  0  0  0  0  0  0  0  0  0\\n   -6.5579    6.5844   14.4294 C   0  0  0  0  0  0  0  0  0  0  0  0\\n   -5.1436    6.4254   16.1004 H   0  0  0  0  0  0  0  0  0  0  0  0\\n   -6.3530    5.1185   16.0095 H   0  0  0  0  0  0  0  0  0  0  0  0\\n   -5.9311    7.2185   13.7781 H   0  0  0  0  0  0  0  0  0  0  0  0\\n   -7.3387    7.1782   14.9217 H   0  0  0  0  0  0  0  0  0  0  0  0\\n   -0.5705    1.3952   15.0272 N   0  0  0  0  0  2  0  0  0  0  0  0\\n   -1.5267    2.1436   15.8338 C   0  0  0  0  0  0  0  0  0  0  0  0\\n   -2.3576    2.9440   14.8488 C   0  0  0  0  0  0  0  0  0  0  0  0\\n   -0.9433    2.7850   16.5198 H   0  0  0  0  0  0  0  0  0  0  0  0\\n   -2.1527    1.4781   16.4289 H   0  0  0  0  0  0  0  0  0  0  0  0\\n   -1.7308    3.5781   14.1975 H   0  0  0  0  0  0  0  0  0  0  0  0\\n   -3.1384    3.5378   15.3411 H   0  0  0  0  0  0  0  0  0  0  0  0\\n  -11.3260  -10.2851   14.0912 C   0  0  0  0  0  0  0  0  0  0  0  0\\n  -10.3591   -9.2258   14.1153 N   0  0  0  0  0  2  0  0  0  0  0  0\\n  -12.3164   -9.8234   13.8401 H   0  0  0  0  0  0  0  0  0  0  0  0\\n  -11.4348  -10.7800   15.0854 H   0  0  0  0  0  0  0  0  0  0  0  0\\n  -11.0646  -11.0751   13.3427 H   0  0  0  0  0  0  0  0  0  0  0  0\\n   -5.0806   -5.0326   14.6160 N   0  0  0  0  0  2  0  0  0  0  0  0\\n   -5.9613   -5.8716   15.4195 C   0  0  0  0  0  0  0  0  0  0  0  0\\n   -6.9325   -6.5037   14.4404 C   0  0  0  0  0  0  0  0  0  0  0  0\\n   -6.4624   -5.2116   16.1513 H   0  0  0  0  0  0  0  0  0  0  0  0\\n   -5.3999   -6.6310   15.9643 H   0  0  0  0  0  0  0  0  0  0  0  0\\n   -7.4649   -5.7467   13.8382 H   0  0  0  0  0  0  0  0  0  0  0  0\\n   -7.6403   -7.1850   14.9296 H   0  0  0  0  0  0  0  0  0  0  0  0\\n   -0.7281   -1.5749   15.0290 N   0  0  0  0  0  2  0  0  0  0  0  0\\n   -1.6087   -2.4139   15.8324 C   0  0  0  0  0  0  0  0  0  0  0  0\\n   -2.5799   -3.0460   14.8533 C   0  0  0  0  0  0  0  0  0  0  0  0\\n   -2.1098   -1.7539   16.5642 H   0  0  0  0  0  0  0  0  0  0  0  0\\n   -1.0473   -3.1734   16.3773 H   0  0  0  0  0  0  0  0  0  0  0  0\\n   -3.1123   -2.2891   14.2511 H   0  0  0  0  0  0  0  0  0  0  0  0\\n   -3.2877   -3.7274   15.3426 H   0  0  0  0  0  0  0  0  0  0  0  0\\n    0.3068   -0.1039   20.0635 C   0  0  0  0  0  3  0  0  0  0  0  0\\n    3.7236   -2.4296   19.7886 Fe  0  0  0  0  0  1  0  0  0  0  0  0\\n    4.0016   -0.7218   20.1358 C   0  0  0  0  0  2  0  0  0  0  0  0\\n    3.1212    0.3534   19.8136 N   0  0  0  0  0  2  0  0  0  0  0  0\\n    1.7872    0.1151   20.1619 C   0  0  0  0  0  2  0  0  0  0  0  0\\n   -0.5648    4.0979   19.8600 Fe  0  0  0  0  0  1  0  0  0  0  0  0\\n   -1.8790    2.9553   20.1461 C   0  0  0  0  0  2  0  0  0  0  0  0\\n   -1.8831    1.5749   19.7857 N   0  0  0  0  0  2  0  0  0  0  0  0\\n   -0.7138    0.8943   20.1423 C   0  0  0  0  0  2  0  0  0  0  0  0\\n   -3.5383   -0.6907   19.8948 Fe  0  0  0  0  0  1  0  0  0  0  0  0\\n   -2.6521   -2.1885   20.1880 C   0  0  0  0  0  2  0  0  0  0  0  0\\n   -1.2942   -2.4426   19.8321 N   0  0  0  0  0  2  0  0  0  0  0  0\\n   -0.4149   -1.4140   20.1877 C   0  0  0  0  0  2  0  0  0  0  0  0\\n  1  2  2  0\\n  2  3  1  0\\n  3  4  2  0\\n  4  5  1  0\\n  5  6  2  0\\n  6  1  1  0\\n  1  7  1  0\\n  3  8  1  0\\n  5  9  1  0\\n 10 11  1  0\\n 11 12  1  0\\n 12 13  1  0\\n 13 14  1  0\\n 14 15  1  0\\n 10 16  1  0\\n 10 17  1  0\\n 10 18  1  0\\n 12 19  1  0\\n 12 20  1  0\\n 14 21  1  0\\n 14 22  1  0\\n 15 23  1  0\\n 24 25  1  0\\n 25 26  1  0\\n 26 27  1  0\\n 27 28  1  0\\n 28 29  1  0\\n 24 30  1  0\\n 24 31  1  0\\n 24 32  1  0\\n 26 33  1  0\\n 26 34  1  0\\n 28 35  1  0\\n 28 36  1  0\\n 29 37  1  0\\n 38 39  1  0\\n 39 40  1  0\\n 40 41  1  0\\n 41 42  1  0\\n 42 43  1  0\\n 38 44  1  0\\n 38 45  1  0\\n 38 46  1  0\\n 40 47  1  0\\n 40 48  1  0\\n 42 49  1  0\\n 42 50  1  0\\n 43 51  1  0\\n  2 15  1  0\\n  4 29  1  0\\n  6 43  1  0\\n 52 53  2  0\\n 53 54  1  0\\n 54 55  2  0\\n 55 56  1  0\\n 56 57  2  0\\n 57 52  1  0\\n 52 58  1  0\\n 54 59  1  0\\n 56 60  1  0\\n 61 62  1  0\\n 62 63  1  0\\n 63 64  1  0\\n 65 66  1  0\\n 66 67  1  0\\n 67 68  1  0\\n 69 70  1  0\\n 70 71  1  0\\n 71 72  1  0\\n 53 64  1  0\\n 55 68  1  0\\n 57 72  1  0\\n 74 75  1  0\\n 74 76  1  0\\n 74 77  1  0\\n 74 78  1  0\\n 79 80  1  0\\n 80 81  1  0\\n 80 82  1  0\\n 80 83  1  0\\n 81 84  1  0\\n 81 85  1  0\\n 86 87  1  0\\n 87 88  1  0\\n 87 89  1  0\\n 87 90  1  0\\n 88 91  1  0\\n 88 92  1  0\\n 75 81  1  0\\n 79 88  1  0\\n 93 94  1  0\\n 93 95  1  0\\n 93 96  1  0\\n 93 97  1  0\\n 98 99  1  0\\n 99100  1  0\\n 99101  1  0\\n 99102  1  0\\n100103  1  0\\n100104  1  0\\n105106  1  0\\n106107  1  0\\n106108  1  0\\n106109  1  0\\n107110  1  0\\n107111  1  0\\n 94100  1  0\\n 98107  1  0\\n112113  1  0\\n112114  1  0\\n112115  1  0\\n112116  1  0\\n117118  1  0\\n118119  1  0\\n118120  1  0\\n118121  1  0\\n119122  1  0\\n119123  1  0\\n124125  1  0\\n125126  1  0\\n125127  1  0\\n125128  1  0\\n126129  1  0\\n126130  1  0\\n113119  1  0\\n117126  1  0\\n 73 86  1  0\\n 73105  1  0\\n 73124  1  0\\n131132  2  0\\n132133  1  0\\n133134  2  0\\n134135  1  0\\n135136  2  0\\n136131  1  0\\n137138  1  0\\n137139  1  0\\n137140  1  0\\n137141  1  0\\n142143  1  0\\n143144  1  0\\n143145  1  0\\n143146  1  0\\n144147  1  0\\n144148  1  0\\n149150  1  0\\n150151  1  0\\n150152  1  0\\n150153  1  0\\n151154  1  0\\n151155  1  0\\n138144  1  0\\n142151  1  0\\n156157  1  0\\n156158  1  0\\n156159  1  0\\n156160  1  0\\n161162  1  0\\n162163  1  0\\n162164  1  0\\n162165  1  0\\n163166  1  0\\n163167  1  0\\n168169  1  0\\n169170  1  0\\n169171  1  0\\n169172  1  0\\n170173  1  0\\n170174  1  0\\n157163  1  0\\n161170  1  0\\n175176  1  0\\n175177  1  0\\n175178  1  0\\n175179  1  0\\n180181  1  0\\n181182  1  0\\n181183  1  0\\n181184  1  0\\n182185  1  0\\n182186  1  0\\n187188  1  0\\n188189  1  0\\n188190  1  0\\n188191  1  0\\n189192  1  0\\n189193  1  0\\n176182  1  0\\n180189  1  0\\n131149  1  0\\n133168  1  0\\n135187  1  0\\n195196  1  0\\n196197  1  0\\n197198  1  0\\n199200  1  0\\n200201  1  0\\n201202  1  0\\n203204  1  0\\n204205  1  0\\n205206  1  0\\n194198  1  0\\n194202  1  0\\n194206  1  0\\nM  CHG  8  61   1  62   1  63   1  64   1  65   1  66   1  67   1  68   1\\nM  CHG  8  69   1  70   1  71   1  72   1  73   1 194   1 195   1 196   1\\nM  CHG  8 197   1 198   1 199   1 200   1 201   1 202   1 203   1 204   1\\nM  CHG  2 205   1 206   1\\nM  END\\n\");\nviewer_16529451561322715.setStyle({\"stick\": {\"colorscheme\": \"cyanCarbon\"}});\nviewer_16529451561322715.zoomTo();\n\tviewer_16529451561322715.setBackgroundColor(\"#000000\");\n\tviewer_16529451561322715.zoomTo();\nviewer_16529451561322715.render();\n});\n</script>",
      "text/html": [
       "<div id=\"3dmolviewer_16529451561322715\"  style=\"position: relative; width: 400px; height: 400px\">\n",
       "        <p id=\"3dmolwarning_16529451561322715\" style=\"background-color:#ffcccc;color:black\">You appear to be running in JupyterLab (or JavaScript failed to load for some other reason).  You need to install the 3dmol extension: <br>\n",
       "        <tt>jupyter labextension install jupyterlab_3dmol</tt></p>\n",
       "        </div>\n",
       "<script>\n",
       "\n",
       "var loadScriptAsync = function(uri){\n",
       "  return new Promise((resolve, reject) => {\n",
       "    var tag = document.createElement('script');\n",
       "    tag.src = uri;\n",
       "    tag.async = true;\n",
       "    tag.onload = () => {\n",
       "      resolve();\n",
       "    };\n",
       "  var firstScriptTag = document.getElementsByTagName('script')[0];\n",
       "  firstScriptTag.parentNode.insertBefore(tag, firstScriptTag);\n",
       "});\n",
       "};\n",
       "\n",
       "if(typeof $3Dmolpromise === 'undefined') {\n",
       "$3Dmolpromise = null;\n",
       "  $3Dmolpromise = loadScriptAsync('https://3dmol.org/build/3Dmol.js');\n",
       "}\n",
       "\n",
       "var viewer_16529451561322715 = null;\n",
       "var warn = document.getElementById(\"3dmolwarning_16529451561322715\");\n",
       "if(warn) {\n",
       "    warn.parentNode.removeChild(warn);\n",
       "}\n",
       "$3Dmolpromise.then(function() {\n",
       "viewer_16529451561322715 = $3Dmol.createViewer($(\"#3dmolviewer_16529451561322715\"),{backgroundColor:\"white\"});\n",
       "viewer_16529451561322715.addModel(\"\\n     RDKit          3D\\n\\n206204  0  0  0  0  0  0  0  0999 V2000\\n    1.3321   -1.1599    0.0080 C   0  0  0  0  0  0  0  0  0  0  0  0\\n    2.0286    0.0346    0.0080 C   0  0  0  0  0  0  0  0  0  0  0  0\\n    1.2938    1.2010    0.0080 C   0  0  0  0  0  0  0  0  0  0  0  0\\n   -0.0763    1.2422    0.0080 C   0  0  0  0  0  0  0  0  0  0  0  0\\n   -0.7560    0.0325    0.0080 C   0  0  0  0  0  0  0  0  0  0  0  0\\n   -0.0535   -1.1730    0.0080 C   0  0  0  0  0  0  0  0  0  0  0  0\\n    1.9098   -2.0847    0.0080 H   0  0  0  0  0  0  0  0  0  0  0  0\\n    1.8261    2.1578    0.0080 H   0  0  0  0  0  0  0  0  0  0  0  0\\n   -1.8561    0.0435    0.0080 H   0  0  0  0  0  0  0  0  0  0  0  0\\n    7.1993    1.3253   -0.6966 C   0  0  0  0  0  0  0  0  0  0  0  0\\n    6.9132    0.0445   -1.2454 O   0  0  0  0  0  0  0  0  0  0  0  0\\n    7.1818   -0.8406   -0.2341 C   0  0  0  0  0  0  0  0  0  0  0  0\\n    6.4183   -0.6947    0.8466 O   0  0  0  0  0  0  0  0  0  0  0  0\\n    5.0979   -0.8830    0.8454 C   0  0  0  0  0  0  0  0  0  0  0  0\\n    4.1511   -0.1801    0.0047 C   0  0  0  0  0  3  0  0  0  0  0  0\\n    6.9779    2.0523   -1.4969 H   0  0  0  0  0  0  0  0  0  0  0  0\\n    8.2747    1.3341   -0.4286 H   0  0  0  0  0  0  0  0  0  0  0  0\\n    6.6348    1.5345    0.2025 H   0  0  0  0  0  0  0  0  0  0  0  0\\n    8.2566   -0.6370    0.0766 H   0  0  0  0  0  0  0  0  0  0  0  0\\n    7.2246   -1.8958   -0.6400 H   0  0  0  0  0  0  0  0  0  0  0  0\\n    4.7352   -0.6606    1.9244 H   0  0  0  0  0  0  0  0  0  0  0  0\\n    4.9099   -2.0158    0.7160 H   0  0  0  0  0  0  0  0  0  0  0  0\\n    3.0758   -0.4616    0.1810 H   0  0  0  0  0  0  0  0  0  0  0  0\\n   -3.5551    5.1886   -1.4729 C   0  0  0  0  0  0  0  0  0  0  0  0\\n   -2.9951    5.4136   -0.1848 O   0  0  0  0  0  0  0  0  0  0  0  0\\n   -3.8565    4.7996    0.6865 C   0  0  0  0  0  0  0  0  0  0  0  0\\n   -3.9605    3.4822    0.5259 O   0  0  0  0  0  0  0  0  0  0  0  0\\n   -2.9470    2.6358    0.7143 C   0  0  0  0  0  0  0  0  0  0  0  0\\n   -1.6754    2.6828    0.0228 C   0  0  0  0  0  3  0  0  0  0  0  0\\n   -2.8664    5.6692   -2.1890 H   0  0  0  0  0  0  0  0  0  0  0  0\\n   -4.5527    5.6713   -1.4854 H   0  0  0  0  0  0  0  0  0  0  0  0\\n   -3.6951    4.1388   -1.6943 H   0  0  0  0  0  0  0  0  0  0  0  0\\n   -4.8793    5.2511    0.4787 H   0  0  0  0  0  0  0  0  0  0  0  0\\n   -3.6387    5.1278    1.7471 H   0  0  0  0  0  0  0  0  0  0  0  0\\n   -3.3571    1.5771    0.4772 H   0  0  0  0  0  0  0  0  0  0  0  0\\n   -2.7296    2.6031    1.8487 H   0  0  0  0  0  0  0  0  0  0  0  0\\n   -0.9646    1.8561    0.3019 H   0  0  0  0  0  0  0  0  0  0  0  0\\n   -3.0828   -5.7510   -0.2220 C   0  0  0  0  0  0  0  0  0  0  0  0\\n   -3.5400   -4.7555   -1.1294 O   0  0  0  0  0  0  0  0  0  0  0  0\\n   -4.4809   -4.0460   -0.4298 C   0  0  0  0  0  0  0  0  0  0  0  0\\n   -4.0126   -3.4154    0.6449 O   0  0  0  0  0  0  0  0  0  0  0  0\\n   -3.1130   -2.4323    0.5873 C   0  0  0  0  0  0  0  0  0  0  0  0\\n   -1.7950   -2.5349   -0.0040 C   0  0  0  0  0  3  0  0  0  0  0  0\\n   -2.3151   -6.3264   -0.7678 H   0  0  0  0  0  0  0  0  0  0  0  0\\n   -3.9550   -6.3843    0.0363 H   0  0  0  0  0  0  0  0  0  0  0  0\\n   -2.6938   -5.3360    0.6984 H   0  0  0  0  0  0  0  0  0  0  0  0\\n   -5.2419   -4.8117   -0.0724 H   0  0  0  0  0  0  0  0  0  0  0  0\\n   -5.0804   -3.3934   -1.1333 H   0  0  0  0  0  0  0  0  0  0  0  0\\n   -2.9055   -2.1148    1.6834 H   0  0  0  0  0  0  0  0  0  0  0  0\\n   -3.6357   -1.5115    0.1245 H   0  0  0  0  0  0  0  0  0  0  0  0\\n   -1.1748   -1.5996    0.0798 H   0  0  0  0  0  0  0  0  0  0  0  0\\n    0.9561   -1.3355    5.0319 C   0  0  0  0  0  0  0  0  0  0  0  0\\n    1.6526   -0.1410    5.0319 C   0  0  0  0  0  0  0  0  0  0  0  0\\n    0.9178    1.0254    5.0319 C   0  0  0  0  0  0  0  0  0  0  0  0\\n   -0.4523    1.0666    5.0319 C   0  0  0  0  0  0  0  0  0  0  0  0\\n   -1.1320   -0.1430    5.0319 C   0  0  0  0  0  0  0  0  0  0  0  0\\n   -0.4295   -1.3486    5.0319 C   0  0  0  0  0  0  0  0  0  0  0  0\\n    1.5338   -2.2603    5.0319 H   0  0  0  0  0  0  0  0  0  0  0  0\\n    1.4501    1.9822    5.0319 H   0  0  0  0  0  0  0  0  0  0  0  0\\n   -2.2321   -0.1320    5.0319 H   0  0  0  0  0  0  0  0  0  0  0  0\\n    5.0135   -2.0477    4.7717 Fe  0  0  0  0  0  1  0  0  0  0  0  0\\n    5.2915   -0.3398    5.1190 C   0  0  0  0  0  2  0  0  0  0  0  0\\n    4.4110    0.7354    4.7968 N   0  0  0  0  0  2  0  0  0  0  0  0\\n    3.0770    0.4971    5.1450 C   0  0  0  0  0  2  0  0  0  0  0  0\\n   -1.4565    5.2135    4.8209 Fe  0  0  0  0  0  1  0  0  0  0  0  0\\n   -2.7707    4.0708    5.1070 C   0  0  0  0  0  2  0  0  0  0  0  0\\n   -2.7748    2.6905    4.7466 N   0  0  0  0  0  2  0  0  0  0  0  0\\n   -1.6055    2.0099    5.1032 C   0  0  0  0  0  2  0  0  0  0  0  0\\n   -4.4259   -1.8926    4.8948 Fe  0  0  0  0  0  1  0  0  0  0  0  0\\n   -3.5397   -3.3904    5.1880 C   0  0  0  0  0  2  0  0  0  0  0  0\\n   -2.1818   -3.6445    4.8321 N   0  0  0  0  0  2  0  0  0  0  0  0\\n   -1.3025   -2.6160    5.1877 C   0  0  0  0  0  2  0  0  0  0  0  0\\n    1.2943   -0.2987   10.0334 C   0  0  0  0  0  3  0  0  0  0  0  0\\n   16.5953   -0.5835   10.7629 C   0  0  0  0  0  0  0  0  0  0  0  0\\n   15.1744   -0.4077   10.8502 N   0  0  0  0  0  2  0  0  0  0  0  0\\n   17.0606    0.1030   11.5174 H   0  0  0  0  0  0  0  0  0  0  0  0\\n   16.9957   -0.2945    9.7622 H   0  0  0  0  0  0  0  0  0  0  0  0\\n   16.9002   -1.6420   10.9606 H   0  0  0  0  0  0  0  0  0  0  0  0\\n    8.4349   -0.2633   10.3453 N   0  0  0  0  0  2  0  0  0  0  0  0\\n    9.6486    0.1122    9.6305 C   0  0  0  0  0  0  0  0  0  0  0  0\\n   10.7993   -0.3140   10.5225 C   0  0  0  0  0  0  0  0  0  0  0  0\\n    9.6110    1.2063    9.4762 H   0  0  0  0  0  0  0  0  0  0  0  0\\n    9.7034   -0.3741    8.6561 H   0  0  0  0  0  0  0  0  0  0  0  0\\n   10.7237    0.1236   11.5333 H   0  0  0  0  0  0  0  0  0  0  0  0\\n   11.7793   -0.1029   10.0755 H   0  0  0  0  0  0  0  0  0  0  0  0\\n    2.8776   -0.1443    9.9290 N   0  0  0  0  0  2  0  0  0  0  0  0\\n    4.0913    0.2312    9.2142 C   0  0  0  0  0  0  0  0  0  0  0  0\\n    5.2420   -0.1950   10.1062 C   0  0  0  0  0  0  0  0  0  0  0  0\\n    4.0537    1.3253    9.0599 H   0  0  0  0  0  0  0  0  0  0  0  0\\n    4.1462   -0.2551    8.2398 H   0  0  0  0  0  0  0  0  0  0  0  0\\n    5.1664    0.2426   11.1171 H   0  0  0  0  0  0  0  0  0  0  0  0\\n    6.2220    0.0161    9.6592 H   0  0  0  0  0  0  0  0  0  0  0  0\\n   -9.7953    9.9414    9.1047 C   0  0  0  0  0  0  0  0  0  0  0  0\\n   -8.5783    9.1822    9.1183 N   0  0  0  0  0  2  0  0  0  0  0  0\\n   -9.5293   10.9873    8.8005 H   0  0  0  0  0  0  0  0  0  0  0  0\\n  -10.2669   10.0009   10.1143 H   0  0  0  0  0  0  0  0  0  0  0  0\\n  -10.5503    9.5116    8.3993 H   0  0  0  0  0  0  0  0  0  0  0  0\\n   -3.4845    4.7674    9.6269 N   0  0  0  0  0  2  0  0  0  0  0  0\\n   -4.4406    5.5158   10.4335 C   0  0  0  0  0  0  0  0  0  0  0  0\\n   -5.2715    6.3162    9.4484 C   0  0  0  0  0  0  0  0  0  0  0  0\\n   -3.8572    6.1572   11.1194 H   0  0  0  0  0  0  0  0  0  0  0  0\\n   -5.0666    4.8504   11.0286 H   0  0  0  0  0  0  0  0  0  0  0  0\\n   -4.6447    6.9503    8.7972 H   0  0  0  0  0  0  0  0  0  0  0  0\\n   -6.0523    6.9100    9.9408 H   0  0  0  0  0  0  0  0  0  0  0  0\\n    0.7159    1.1270   10.0462 N   0  0  0  0  0  2  0  0  0  0  0  0\\n   -0.2403    1.8754   10.8529 C   0  0  0  0  0  0  0  0  0  0  0  0\\n   -1.0712    2.6759    9.8678 C   0  0  0  0  0  0  0  0  0  0  0  0\\n    0.3431    2.5168   11.5388 H   0  0  0  0  0  0  0  0  0  0  0  0\\n   -0.8663    1.2100   11.4480 H   0  0  0  0  0  0  0  0  0  0  0  0\\n   -0.4444    3.3099    9.2166 H   0  0  0  0  0  0  0  0  0  0  0  0\\n   -1.8520    3.2696   10.3602 H   0  0  0  0  0  0  0  0  0  0  0  0\\n  -10.5708   -9.9804    9.1018 C   0  0  0  0  0  0  0  0  0  0  0  0\\n   -9.6039   -8.9211    9.1259 N   0  0  0  0  0  2  0  0  0  0  0  0\\n  -11.5612   -9.5187    8.8507 H   0  0  0  0  0  0  0  0  0  0  0  0\\n  -10.6796  -10.4753   10.0960 H   0  0  0  0  0  0  0  0  0  0  0  0\\n  -10.3094  -10.7703    8.3534 H   0  0  0  0  0  0  0  0  0  0  0  0\\n   -4.3254   -4.7279    9.6267 N   0  0  0  0  0  2  0  0  0  0  0  0\\n   -5.2061   -5.5669   10.4301 C   0  0  0  0  0  0  0  0  0  0  0  0\\n   -6.1773   -6.1990    9.4510 C   0  0  0  0  0  0  0  0  0  0  0  0\\n   -5.7072   -4.9069   11.1620 H   0  0  0  0  0  0  0  0  0  0  0  0\\n   -4.6446   -6.3263   10.9750 H   0  0  0  0  0  0  0  0  0  0  0  0\\n   -6.7096   -5.4420    8.8488 H   0  0  0  0  0  0  0  0  0  0  0  0\\n   -6.8851   -6.8803    9.9403 H   0  0  0  0  0  0  0  0  0  0  0  0\\n    0.0272   -1.2702   10.0396 N   0  0  0  0  0  2  0  0  0  0  0  0\\n   -0.8535   -2.1092   10.8431 C   0  0  0  0  0  0  0  0  0  0  0  0\\n   -1.8247   -2.7413    9.8639 C   0  0  0  0  0  0  0  0  0  0  0  0\\n   -1.3546   -1.4492   11.5749 H   0  0  0  0  0  0  0  0  0  0  0  0\\n   -0.2921   -2.8687   11.3879 H   0  0  0  0  0  0  0  0  0  0  0  0\\n   -2.3571   -1.9843    9.2617 H   0  0  0  0  0  0  0  0  0  0  0  0\\n   -2.5325   -3.4226   10.3532 H   0  0  0  0  0  0  0  0  0  0  0  0\\n    2.9257   -0.0876   15.0010 C   0  0  0  0  0  0  0  0  0  0  0  0\\n    2.2855    1.0839   15.0010 N   0  0  0  0  0  0  0  0  0  0  0  0\\n    0.9496    1.0837   15.0010 C   0  0  0  0  0  0  0  0  0  0  0  0\\n    0.2686   -0.0737   15.0010 N   0  0  0  0  0  0  0  0  0  0  0  0\\n    0.8994   -1.2589   15.0010 C   0  0  0  0  0  0  0  0  0  0  0  0\\n    2.2428   -1.2400   15.0010 N   0  0  0  0  0  0  0  0  0  0  0  0\\n   18.2013   -0.5368   15.7941 C   0  0  0  0  0  0  0  0  0  0  0  0\\n   16.7804   -0.3609   15.8813 N   0  0  0  0  0  2  0  0  0  0  0  0\\n   18.6666    0.1498   16.5486 H   0  0  0  0  0  0  0  0  0  0  0  0\\n   18.6017   -0.2478   14.7934 H   0  0  0  0  0  0  0  0  0  0  0  0\\n   18.5062   -1.5953   15.9917 H   0  0  0  0  0  0  0  0  0  0  0  0\\n   10.0409   -0.2166   15.3765 N   0  0  0  0  0  2  0  0  0  0  0  0\\n   11.2546    0.1589   14.6616 C   0  0  0  0  0  0  0  0  0  0  0  0\\n   12.4053   -0.2672   15.5536 C   0  0  0  0  0  0  0  0  0  0  0  0\\n   11.2170    1.2530   14.5074 H   0  0  0  0  0  0  0  0  0  0  0  0\\n   11.3094   -0.3273   13.6873 H   0  0  0  0  0  0  0  0  0  0  0  0\\n   12.3297    0.1703   16.5645 H   0  0  0  0  0  0  0  0  0  0  0  0\\n   13.3852   -0.0561   15.1066 H   0  0  0  0  0  0  0  0  0  0  0  0\\n    4.4836   -0.0976   14.9602 N   0  0  0  0  0  2  0  0  0  0  0  0\\n    5.6973    0.2779   14.2453 C   0  0  0  0  0  0  0  0  0  0  0  0\\n    6.8480   -0.1482   15.1373 C   0  0  0  0  0  0  0  0  0  0  0  0\\n    5.6597    1.3721   14.0911 H   0  0  0  0  0  0  0  0  0  0  0  0\\n    5.7521   -0.2083   13.2710 H   0  0  0  0  0  0  0  0  0  0  0  0\\n    6.7724    0.2893   16.1482 H   0  0  0  0  0  0  0  0  0  0  0  0\\n    7.8279    0.0629   14.6903 H   0  0  0  0  0  0  0  0  0  0  0  0\\n  -11.0817   10.2096   14.0857 C   0  0  0  0  0  0  0  0  0  0  0  0\\n   -9.8647    9.4504   14.0992 N   0  0  0  0  0  2  0  0  0  0  0  0\\n  -10.8157   11.2555   13.7815 H   0  0  0  0  0  0  0  0  0  0  0  0\\n  -11.5533   10.2691   15.0952 H   0  0  0  0  0  0  0  0  0  0  0  0\\n  -11.8367    9.7798   13.3802 H   0  0  0  0  0  0  0  0  0  0  0  0\\n   -4.7709    5.0356   14.6078 N   0  0  0  0  0  2  0  0  0  0  0  0\\n   -5.7270    5.7840   15.4144 C   0  0  0  0  0  0  0  0  0  0  0  0\\n   -6.5579    6.5844   14.4294 C   0  0  0  0  0  0  0  0  0  0  0  0\\n   -5.1436    6.4254   16.1004 H   0  0  0  0  0  0  0  0  0  0  0  0\\n   -6.3530    5.1185   16.0095 H   0  0  0  0  0  0  0  0  0  0  0  0\\n   -5.9311    7.2185   13.7781 H   0  0  0  0  0  0  0  0  0  0  0  0\\n   -7.3387    7.1782   14.9217 H   0  0  0  0  0  0  0  0  0  0  0  0\\n   -0.5705    1.3952   15.0272 N   0  0  0  0  0  2  0  0  0  0  0  0\\n   -1.5267    2.1436   15.8338 C   0  0  0  0  0  0  0  0  0  0  0  0\\n   -2.3576    2.9440   14.8488 C   0  0  0  0  0  0  0  0  0  0  0  0\\n   -0.9433    2.7850   16.5198 H   0  0  0  0  0  0  0  0  0  0  0  0\\n   -2.1527    1.4781   16.4289 H   0  0  0  0  0  0  0  0  0  0  0  0\\n   -1.7308    3.5781   14.1975 H   0  0  0  0  0  0  0  0  0  0  0  0\\n   -3.1384    3.5378   15.3411 H   0  0  0  0  0  0  0  0  0  0  0  0\\n  -11.3260  -10.2851   14.0912 C   0  0  0  0  0  0  0  0  0  0  0  0\\n  -10.3591   -9.2258   14.1153 N   0  0  0  0  0  2  0  0  0  0  0  0\\n  -12.3164   -9.8234   13.8401 H   0  0  0  0  0  0  0  0  0  0  0  0\\n  -11.4348  -10.7800   15.0854 H   0  0  0  0  0  0  0  0  0  0  0  0\\n  -11.0646  -11.0751   13.3427 H   0  0  0  0  0  0  0  0  0  0  0  0\\n   -5.0806   -5.0326   14.6160 N   0  0  0  0  0  2  0  0  0  0  0  0\\n   -5.9613   -5.8716   15.4195 C   0  0  0  0  0  0  0  0  0  0  0  0\\n   -6.9325   -6.5037   14.4404 C   0  0  0  0  0  0  0  0  0  0  0  0\\n   -6.4624   -5.2116   16.1513 H   0  0  0  0  0  0  0  0  0  0  0  0\\n   -5.3999   -6.6310   15.9643 H   0  0  0  0  0  0  0  0  0  0  0  0\\n   -7.4649   -5.7467   13.8382 H   0  0  0  0  0  0  0  0  0  0  0  0\\n   -7.6403   -7.1850   14.9296 H   0  0  0  0  0  0  0  0  0  0  0  0\\n   -0.7281   -1.5749   15.0290 N   0  0  0  0  0  2  0  0  0  0  0  0\\n   -1.6087   -2.4139   15.8324 C   0  0  0  0  0  0  0  0  0  0  0  0\\n   -2.5799   -3.0460   14.8533 C   0  0  0  0  0  0  0  0  0  0  0  0\\n   -2.1098   -1.7539   16.5642 H   0  0  0  0  0  0  0  0  0  0  0  0\\n   -1.0473   -3.1734   16.3773 H   0  0  0  0  0  0  0  0  0  0  0  0\\n   -3.1123   -2.2891   14.2511 H   0  0  0  0  0  0  0  0  0  0  0  0\\n   -3.2877   -3.7274   15.3426 H   0  0  0  0  0  0  0  0  0  0  0  0\\n    0.3068   -0.1039   20.0635 C   0  0  0  0  0  3  0  0  0  0  0  0\\n    3.7236   -2.4296   19.7886 Fe  0  0  0  0  0  1  0  0  0  0  0  0\\n    4.0016   -0.7218   20.1358 C   0  0  0  0  0  2  0  0  0  0  0  0\\n    3.1212    0.3534   19.8136 N   0  0  0  0  0  2  0  0  0  0  0  0\\n    1.7872    0.1151   20.1619 C   0  0  0  0  0  2  0  0  0  0  0  0\\n   -0.5648    4.0979   19.8600 Fe  0  0  0  0  0  1  0  0  0  0  0  0\\n   -1.8790    2.9553   20.1461 C   0  0  0  0  0  2  0  0  0  0  0  0\\n   -1.8831    1.5749   19.7857 N   0  0  0  0  0  2  0  0  0  0  0  0\\n   -0.7138    0.8943   20.1423 C   0  0  0  0  0  2  0  0  0  0  0  0\\n   -3.5383   -0.6907   19.8948 Fe  0  0  0  0  0  1  0  0  0  0  0  0\\n   -2.6521   -2.1885   20.1880 C   0  0  0  0  0  2  0  0  0  0  0  0\\n   -1.2942   -2.4426   19.8321 N   0  0  0  0  0  2  0  0  0  0  0  0\\n   -0.4149   -1.4140   20.1877 C   0  0  0  0  0  2  0  0  0  0  0  0\\n  1  2  2  0\\n  2  3  1  0\\n  3  4  2  0\\n  4  5  1  0\\n  5  6  2  0\\n  6  1  1  0\\n  1  7  1  0\\n  3  8  1  0\\n  5  9  1  0\\n 10 11  1  0\\n 11 12  1  0\\n 12 13  1  0\\n 13 14  1  0\\n 14 15  1  0\\n 10 16  1  0\\n 10 17  1  0\\n 10 18  1  0\\n 12 19  1  0\\n 12 20  1  0\\n 14 21  1  0\\n 14 22  1  0\\n 15 23  1  0\\n 24 25  1  0\\n 25 26  1  0\\n 26 27  1  0\\n 27 28  1  0\\n 28 29  1  0\\n 24 30  1  0\\n 24 31  1  0\\n 24 32  1  0\\n 26 33  1  0\\n 26 34  1  0\\n 28 35  1  0\\n 28 36  1  0\\n 29 37  1  0\\n 38 39  1  0\\n 39 40  1  0\\n 40 41  1  0\\n 41 42  1  0\\n 42 43  1  0\\n 38 44  1  0\\n 38 45  1  0\\n 38 46  1  0\\n 40 47  1  0\\n 40 48  1  0\\n 42 49  1  0\\n 42 50  1  0\\n 43 51  1  0\\n  2 15  1  0\\n  4 29  1  0\\n  6 43  1  0\\n 52 53  2  0\\n 53 54  1  0\\n 54 55  2  0\\n 55 56  1  0\\n 56 57  2  0\\n 57 52  1  0\\n 52 58  1  0\\n 54 59  1  0\\n 56 60  1  0\\n 61 62  1  0\\n 62 63  1  0\\n 63 64  1  0\\n 65 66  1  0\\n 66 67  1  0\\n 67 68  1  0\\n 69 70  1  0\\n 70 71  1  0\\n 71 72  1  0\\n 53 64  1  0\\n 55 68  1  0\\n 57 72  1  0\\n 74 75  1  0\\n 74 76  1  0\\n 74 77  1  0\\n 74 78  1  0\\n 79 80  1  0\\n 80 81  1  0\\n 80 82  1  0\\n 80 83  1  0\\n 81 84  1  0\\n 81 85  1  0\\n 86 87  1  0\\n 87 88  1  0\\n 87 89  1  0\\n 87 90  1  0\\n 88 91  1  0\\n 88 92  1  0\\n 75 81  1  0\\n 79 88  1  0\\n 93 94  1  0\\n 93 95  1  0\\n 93 96  1  0\\n 93 97  1  0\\n 98 99  1  0\\n 99100  1  0\\n 99101  1  0\\n 99102  1  0\\n100103  1  0\\n100104  1  0\\n105106  1  0\\n106107  1  0\\n106108  1  0\\n106109  1  0\\n107110  1  0\\n107111  1  0\\n 94100  1  0\\n 98107  1  0\\n112113  1  0\\n112114  1  0\\n112115  1  0\\n112116  1  0\\n117118  1  0\\n118119  1  0\\n118120  1  0\\n118121  1  0\\n119122  1  0\\n119123  1  0\\n124125  1  0\\n125126  1  0\\n125127  1  0\\n125128  1  0\\n126129  1  0\\n126130  1  0\\n113119  1  0\\n117126  1  0\\n 73 86  1  0\\n 73105  1  0\\n 73124  1  0\\n131132  2  0\\n132133  1  0\\n133134  2  0\\n134135  1  0\\n135136  2  0\\n136131  1  0\\n137138  1  0\\n137139  1  0\\n137140  1  0\\n137141  1  0\\n142143  1  0\\n143144  1  0\\n143145  1  0\\n143146  1  0\\n144147  1  0\\n144148  1  0\\n149150  1  0\\n150151  1  0\\n150152  1  0\\n150153  1  0\\n151154  1  0\\n151155  1  0\\n138144  1  0\\n142151  1  0\\n156157  1  0\\n156158  1  0\\n156159  1  0\\n156160  1  0\\n161162  1  0\\n162163  1  0\\n162164  1  0\\n162165  1  0\\n163166  1  0\\n163167  1  0\\n168169  1  0\\n169170  1  0\\n169171  1  0\\n169172  1  0\\n170173  1  0\\n170174  1  0\\n157163  1  0\\n161170  1  0\\n175176  1  0\\n175177  1  0\\n175178  1  0\\n175179  1  0\\n180181  1  0\\n181182  1  0\\n181183  1  0\\n181184  1  0\\n182185  1  0\\n182186  1  0\\n187188  1  0\\n188189  1  0\\n188190  1  0\\n188191  1  0\\n189192  1  0\\n189193  1  0\\n176182  1  0\\n180189  1  0\\n131149  1  0\\n133168  1  0\\n135187  1  0\\n195196  1  0\\n196197  1  0\\n197198  1  0\\n199200  1  0\\n200201  1  0\\n201202  1  0\\n203204  1  0\\n204205  1  0\\n205206  1  0\\n194198  1  0\\n194202  1  0\\n194206  1  0\\nM  CHG  8  61   1  62   1  63   1  64   1  65   1  66   1  67   1  68   1\\nM  CHG  8  69   1  70   1  71   1  72   1  73   1 194   1 195   1 196   1\\nM  CHG  8 197   1 198   1 199   1 200   1 201   1 202   1 203   1 204   1\\nM  CHG  2 205   1 206   1\\nM  END\\n\");\n",
       "viewer_16529451561322715.setStyle({\"stick\": {\"colorscheme\": \"cyanCarbon\"}});\n",
       "viewer_16529451561322715.zoomTo();\n",
       "\tviewer_16529451561322715.setBackgroundColor(\"#000000\");\n",
       "\tviewer_16529451561322715.zoomTo();\n",
       "viewer_16529451561322715.render();\n",
       "});\n",
       "</script>"
      ]
     },
     "metadata": {},
     "output_type": "display_data"
    }
   ],
   "source": [
    "host = stk.BuildingBlock.init_from_molecule(cores[2])\n",
    "\n",
    "guests = (\n",
    "    stk.host_guest.Guest(\n",
    "        building_block=stk.BuildingBlock.init_from_molecule(cores[3]),\n",
    "        displacement=(0, 0, 5),\n",
    "    ),\n",
    "    stk.host_guest.Guest(\n",
    "        building_block=stk.BuildingBlock.init_from_molecule(cores[9]),\n",
    "        displacement=(0, 0, 10),\n",
    "    ),\n",
    "    stk.host_guest.Guest(\n",
    "        building_block=stk.BuildingBlock.init_from_molecule(cores[5]),\n",
    "        displacement=(0, 0, 15),\n",
    "    ),\n",
    "    stk.host_guest.Guest(\n",
    "        building_block=stk.BuildingBlock.init_from_molecule(cores[11]),\n",
    "        displacement=(0, 0, 20),\n",
    "    ),\n",
    ")\n",
    "\n",
    "polymer = stk.ConstructedMolecule(\n",
    "    topology_graph=stk.host_guest.Complex(\n",
    "        host=host,\n",
    "        guests=guests,\n",
    "    ),\n",
    ")\n",
    "show_stk_mol(polymer)"
   ]
  },
  {
   "cell_type": "code",
   "execution_count": 238,
   "id": "aa7d954d-0cc4-4c73-992a-f6e73a3669dc",
   "metadata": {},
   "outputs": [
    {
     "data": {
      "application/3dmoljs_load.v0": "<div id=\"3dmolviewer_1652945156410282\"  style=\"position: relative; width: 400px; height: 400px\">\n        <p id=\"3dmolwarning_1652945156410282\" style=\"background-color:#ffcccc;color:black\">You appear to be running in JupyterLab (or JavaScript failed to load for some other reason).  You need to install the 3dmol extension: <br>\n        <tt>jupyter labextension install jupyterlab_3dmol</tt></p>\n        </div>\n<script>\n\nvar loadScriptAsync = function(uri){\n  return new Promise((resolve, reject) => {\n    var tag = document.createElement('script');\n    tag.src = uri;\n    tag.async = true;\n    tag.onload = () => {\n      resolve();\n    };\n  var firstScriptTag = document.getElementsByTagName('script')[0];\n  firstScriptTag.parentNode.insertBefore(tag, firstScriptTag);\n});\n};\n\nif(typeof $3Dmolpromise === 'undefined') {\n$3Dmolpromise = null;\n  $3Dmolpromise = loadScriptAsync('https://3dmol.org/build/3Dmol.js');\n}\n\nvar viewer_1652945156410282 = null;\nvar warn = document.getElementById(\"3dmolwarning_1652945156410282\");\nif(warn) {\n    warn.parentNode.removeChild(warn);\n}\n$3Dmolpromise.then(function() {\nviewer_1652945156410282 = $3Dmol.createViewer($(\"#3dmolviewer_1652945156410282\"),{backgroundColor:\"white\"});\nviewer_1652945156410282.addModel(\"\\n     RDKit          3D\\n\\n138138  0  0  0  0  0  0  0  0999 V2000\\n    1.3321   -1.1599    0.0080 C   0  0  0  0  0  0  0  0  0  0  0  0\\n    2.0286    0.0346    0.0080 C   0  0  0  0  0  0  0  0  0  0  0  0\\n    1.2938    1.2010    0.0080 C   0  0  0  0  0  0  0  0  0  0  0  0\\n   -0.0763    1.2422    0.0080 C   0  0  0  0  0  0  0  0  0  0  0  0\\n   -0.7560    0.0325    0.0080 C   0  0  0  0  0  0  0  0  0  0  0  0\\n   -0.0535   -1.1730    0.0080 C   0  0  0  0  0  0  0  0  0  0  0  0\\n    1.9098   -2.0847    0.0080 H   0  0  0  0  0  0  0  0  0  0  0  0\\n    1.8261    2.1578    0.0080 H   0  0  0  0  0  0  0  0  0  0  0  0\\n   -1.8561    0.0435    0.0080 H   0  0  0  0  0  0  0  0  0  0  0  0\\n    7.1993    1.3253   -0.6966 C   0  0  0  0  0  0  0  0  0  0  0  0\\n    6.9132    0.0445   -1.2454 O   0  0  0  0  0  0  0  0  0  0  0  0\\n    7.1818   -0.8406   -0.2341 C   0  0  0  0  0  0  0  0  0  0  0  0\\n    6.4183   -0.6947    0.8466 O   0  0  0  0  0  0  0  0  0  0  0  0\\n    5.0979   -0.8830    0.8454 C   0  0  0  0  0  0  0  0  0  0  0  0\\n    4.1511   -0.1801    0.0047 C   0  0  0  0  0  3  0  0  0  0  0  0\\n    6.9779    2.0523   -1.4969 H   0  0  0  0  0  0  0  0  0  0  0  0\\n    8.2747    1.3341   -0.4286 H   0  0  0  0  0  0  0  0  0  0  0  0\\n    6.6348    1.5345    0.2025 H   0  0  0  0  0  0  0  0  0  0  0  0\\n    8.2566   -0.6370    0.0766 H   0  0  0  0  0  0  0  0  0  0  0  0\\n    7.2246   -1.8958   -0.6400 H   0  0  0  0  0  0  0  0  0  0  0  0\\n    4.7352   -0.6606    1.9244 H   0  0  0  0  0  0  0  0  0  0  0  0\\n    4.9099   -2.0158    0.7160 H   0  0  0  0  0  0  0  0  0  0  0  0\\n    3.0758   -0.4616    0.1810 H   0  0  0  0  0  0  0  0  0  0  0  0\\n   -3.5551    5.1886   -1.4729 C   0  0  0  0  0  0  0  0  0  0  0  0\\n   -2.9951    5.4136   -0.1848 O   0  0  0  0  0  0  0  0  0  0  0  0\\n   -3.8565    4.7996    0.6865 C   0  0  0  0  0  0  0  0  0  0  0  0\\n   -3.9605    3.4822    0.5259 O   0  0  0  0  0  0  0  0  0  0  0  0\\n   -2.9470    2.6358    0.7143 C   0  0  0  0  0  0  0  0  0  0  0  0\\n   -1.6754    2.6828    0.0228 C   0  0  0  0  0  3  0  0  0  0  0  0\\n   -2.8664    5.6692   -2.1890 H   0  0  0  0  0  0  0  0  0  0  0  0\\n   -4.5527    5.6713   -1.4854 H   0  0  0  0  0  0  0  0  0  0  0  0\\n   -3.6951    4.1388   -1.6943 H   0  0  0  0  0  0  0  0  0  0  0  0\\n   -4.8793    5.2511    0.4787 H   0  0  0  0  0  0  0  0  0  0  0  0\\n   -3.6387    5.1278    1.7471 H   0  0  0  0  0  0  0  0  0  0  0  0\\n   -3.3571    1.5771    0.4772 H   0  0  0  0  0  0  0  0  0  0  0  0\\n   -2.7296    2.6031    1.8487 H   0  0  0  0  0  0  0  0  0  0  0  0\\n   -0.9646    1.8561    0.3019 H   0  0  0  0  0  0  0  0  0  0  0  0\\n   -3.0828   -5.7510   -0.2220 C   0  0  0  0  0  0  0  0  0  0  0  0\\n   -3.5400   -4.7555   -1.1294 O   0  0  0  0  0  0  0  0  0  0  0  0\\n   -4.4809   -4.0460   -0.4298 C   0  0  0  0  0  0  0  0  0  0  0  0\\n   -4.0126   -3.4154    0.6449 O   0  0  0  0  0  0  0  0  0  0  0  0\\n   -3.1130   -2.4323    0.5873 C   0  0  0  0  0  0  0  0  0  0  0  0\\n   -1.7950   -2.5349   -0.0040 C   0  0  0  0  0  3  0  0  0  0  0  0\\n   -2.3151   -6.3264   -0.7678 H   0  0  0  0  0  0  0  0  0  0  0  0\\n   -3.9550   -6.3843    0.0363 H   0  0  0  0  0  0  0  0  0  0  0  0\\n   -2.6938   -5.3360    0.6984 H   0  0  0  0  0  0  0  0  0  0  0  0\\n   -5.2419   -4.8117   -0.0724 H   0  0  0  0  0  0  0  0  0  0  0  0\\n   -5.0804   -3.3934   -1.1333 H   0  0  0  0  0  0  0  0  0  0  0  0\\n   -2.9055   -2.1148    1.6834 H   0  0  0  0  0  0  0  0  0  0  0  0\\n   -3.6357   -1.5115    0.1245 H   0  0  0  0  0  0  0  0  0  0  0  0\\n   -1.1748   -1.5996    0.0798 H   0  0  0  0  0  0  0  0  0  0  0  0\\n    1.7919    0.3202    4.9860 C   0  0  0  0  0  0  0  0  0  0  0  0\\n    1.1516    1.4917    4.9860 N   0  0  0  0  0  0  0  0  0  0  0  0\\n   -0.1843    1.4915    4.9860 C   0  0  0  0  0  0  0  0  0  0  0  0\\n   -0.8652    0.3340    4.9860 N   0  0  0  0  0  0  0  0  0  0  0  0\\n   -0.2345   -0.8512    4.9860 C   0  0  0  0  0  0  0  0  0  0  0  0\\n    1.1089   -0.8322    4.9860 N   0  0  0  0  0  0  0  0  0  0  0  0\\n    5.2044    0.0143    6.3144 C   0  0  0  0  0  0  0  0  0  0  0  0\\n    4.7609   -0.3679    4.9202 C   0  0  0  0  0  0  0  0  0  0  0  0\\n    3.4486    0.3558    4.6648 C   0  0  0  0  0  0  0  0  0  0  0  0\\n    4.8123    1.0038    6.6245 H   0  0  0  0  0  0  0  0  0  0  0  0\\n    4.9064   -0.7642    7.0571 H   0  0  0  0  0  0  0  0  0  0  0  0\\n    6.3205    0.0838    6.3753 H   0  0  0  0  0  0  0  0  0  0  0  0\\n    5.4616   -0.0784    4.1358 H   0  0  0  0  0  0  0  0  0  0  0  0\\n    4.6355   -1.4601    4.8995 H   0  0  0  0  0  0  0  0  0  0  0  0\\n    3.0633    0.2067    3.6540 H   0  0  0  0  0  0  0  0  0  0  0  0\\n    3.5536    1.4477    4.8300 H   0  0  0  0  0  0  0  0  0  0  0  0\\n   -3.6646    2.6676    4.3407 C   0  0  0  0  0  0  0  0  0  0  0  0\\n   -2.7561    3.0651    5.4823 C   0  0  0  0  0  0  0  0  0  0  0  0\\n   -1.3394    2.7153    5.0562 C   0  0  0  0  0  0  0  0  0  0  0  0\\n   -3.1425    2.6816    3.3628 H   0  0  0  0  0  0  0  0  0  0  0  0\\n   -4.1150    1.6617    4.5188 H   0  0  0  0  0  0  0  0  0  0  0  0\\n   -4.5265    3.3767    4.2486 H   0  0  0  0  0  0  0  0  0  0  0  0\\n   -2.7813    4.1293    5.7208 H   0  0  0  0  0  0  0  0  0  0  0  0\\n   -3.0683    2.4946    6.3690 H   0  0  0  0  0  0  0  0  0  0  0  0\\n   -0.5827    3.0215    5.7814 H   0  0  0  0  0  0  0  0  0  0  0  0\\n   -1.0857    3.1837    4.0831 H   0  0  0  0  0  0  0  0  0  0  0  0\\n   -2.2452   -3.9878    4.0177 C   0  0  0  0  0  0  0  0  0  0  0  0\\n   -2.2567   -3.2813    5.3546 C   0  0  0  0  0  0  0  0  0  0  0  0\\n   -1.7151   -1.8813    5.1142 C   0  0  0  0  0  0  0  0  0  0  0  0\\n   -2.3239   -3.2809    3.1673 H   0  0  0  0  0  0  0  0  0  0  0  0\\n   -1.3313   -4.6191    3.9060 H   0  0  0  0  0  0  0  0  0  0  0  0\\n   -3.1140   -4.6886    3.9270 H   0  0  0  0  0  0  0  0  0  0  0  0\\n   -3.2487   -3.1855    5.7983 H   0  0  0  0  0  0  0  0  0  0  0  0\\n   -1.6152   -3.8552    6.0387 H   0  0  0  0  0  0  0  0  0  0  0  0\\n   -1.7393   -1.2505    6.0052 H   0  0  0  0  0  0  0  0  0  0  0  0\\n   -2.2843   -1.3623    4.3158 H   0  0  0  0  0  0  0  0  0  0  0  0\\n    1.3321    1.1599    9.9920 C   0  0  0  0  0  0  0  0  0  0  0  0\\n    2.0286   -0.0346    9.9920 C   0  0  0  0  0  0  0  0  0  0  0  0\\n    1.2938   -1.2010    9.9920 C   0  0  0  0  0  0  0  0  0  0  0  0\\n   -0.0763   -1.2422    9.9920 C   0  0  0  0  0  0  0  0  0  0  0  0\\n   -0.7560   -0.0325    9.9920 C   0  0  0  0  0  0  0  0  0  0  0  0\\n   -0.0535    1.1730    9.9920 C   0  0  0  0  0  0  0  0  0  0  0  0\\n    1.9098    2.0847    9.9920 H   0  0  0  0  0  0  0  0  0  0  0  0\\n    1.8261   -2.1578    9.9920 H   0  0  0  0  0  0  0  0  0  0  0  0\\n   -1.8561   -0.0435    9.9920 H   0  0  0  0  0  0  0  0  0  0  0  0\\n    7.1993   -1.3253   10.6966 C   0  0  0  0  0  0  0  0  0  0  0  0\\n    6.9132   -0.0445   11.2454 O   0  0  0  0  0  0  0  0  0  0  0  0\\n    7.1818    0.8406   10.2341 C   0  0  0  0  0  0  0  0  0  0  0  0\\n    6.4183    0.6947    9.1534 O   0  0  0  0  0  0  0  0  0  0  0  0\\n    5.0979    0.8830    9.1546 C   0  0  0  0  0  0  0  0  0  0  0  0\\n    4.1511    0.1801    9.9953 C   0  0  0  0  0  3  0  0  0  0  0  0\\n    6.9779   -2.0523   11.4969 H   0  0  0  0  0  0  0  0  0  0  0  0\\n    8.2747   -1.3341   10.4286 H   0  0  0  0  0  0  0  0  0  0  0  0\\n    6.6348   -1.5345    9.7975 H   0  0  0  0  0  0  0  0  0  0  0  0\\n    8.2566    0.6370    9.9234 H   0  0  0  0  0  0  0  0  0  0  0  0\\n    7.2246    1.8958   10.6400 H   0  0  0  0  0  0  0  0  0  0  0  0\\n    4.7352    0.6606    8.0756 H   0  0  0  0  0  0  0  0  0  0  0  0\\n    4.9099    2.0158    9.2840 H   0  0  0  0  0  0  0  0  0  0  0  0\\n    3.0758    0.4616    9.8190 H   0  0  0  0  0  0  0  0  0  0  0  0\\n   -3.5551   -5.1886   11.4729 C   0  0  0  0  0  0  0  0  0  0  0  0\\n   -2.9951   -5.4136   10.1848 O   0  0  0  0  0  0  0  0  0  0  0  0\\n   -3.8565   -4.7996    9.3135 C   0  0  0  0  0  0  0  0  0  0  0  0\\n   -3.9605   -3.4822    9.4741 O   0  0  0  0  0  0  0  0  0  0  0  0\\n   -2.9470   -2.6358    9.2857 C   0  0  0  0  0  0  0  0  0  0  0  0\\n   -1.6754   -2.6828    9.9772 C   0  0  0  0  0  3  0  0  0  0  0  0\\n   -2.8664   -5.6692   12.1890 H   0  0  0  0  0  0  0  0  0  0  0  0\\n   -4.5527   -5.6713   11.4854 H   0  0  0  0  0  0  0  0  0  0  0  0\\n   -3.6951   -4.1388   11.6943 H   0  0  0  0  0  0  0  0  0  0  0  0\\n   -4.8793   -5.2511    9.5213 H   0  0  0  0  0  0  0  0  0  0  0  0\\n   -3.6387   -5.1278    8.2529 H   0  0  0  0  0  0  0  0  0  0  0  0\\n   -3.3571   -1.5771    9.5228 H   0  0  0  0  0  0  0  0  0  0  0  0\\n   -2.7296   -2.6031    8.1513 H   0  0  0  0  0  0  0  0  0  0  0  0\\n   -0.9646   -1.8561    9.6981 H   0  0  0  0  0  0  0  0  0  0  0  0\\n   -3.0828    5.7510   10.2220 C   0  0  0  0  0  0  0  0  0  0  0  0\\n   -3.5400    4.7555   11.1294 O   0  0  0  0  0  0  0  0  0  0  0  0\\n   -4.4809    4.0460   10.4298 C   0  0  0  0  0  0  0  0  0  0  0  0\\n   -4.0126    3.4154    9.3551 O   0  0  0  0  0  0  0  0  0  0  0  0\\n   -3.1130    2.4323    9.4127 C   0  0  0  0  0  0  0  0  0  0  0  0\\n   -1.7950    2.5349   10.0040 C   0  0  0  0  0  3  0  0  0  0  0  0\\n   -2.3151    6.3264   10.7678 H   0  0  0  0  0  0  0  0  0  0  0  0\\n   -3.9550    6.3843    9.9637 H   0  0  0  0  0  0  0  0  0  0  0  0\\n   -2.6938    5.3360    9.3016 H   0  0  0  0  0  0  0  0  0  0  0  0\\n   -5.2419    4.8117   10.0724 H   0  0  0  0  0  0  0  0  0  0  0  0\\n   -5.0804    3.3934   11.1333 H   0  0  0  0  0  0  0  0  0  0  0  0\\n   -2.9055    2.1148    8.3166 H   0  0  0  0  0  0  0  0  0  0  0  0\\n   -3.6357    1.5115    9.8755 H   0  0  0  0  0  0  0  0  0  0  0  0\\n   -1.1748    1.5996    9.9202 H   0  0  0  0  0  0  0  0  0  0  0  0\\n  1  2  2  0\\n  2  3  1  0\\n  3  4  2  0\\n  4  5  1  0\\n  5  6  2  0\\n  6  1  1  0\\n  1  7  1  0\\n  3  8  1  0\\n  5  9  1  0\\n 10 11  1  0\\n 11 12  1  0\\n 12 13  1  0\\n 13 14  1  0\\n 14 15  1  0\\n 10 16  1  0\\n 10 17  1  0\\n 10 18  1  0\\n 12 19  1  0\\n 12 20  1  0\\n 14 21  1  0\\n 14 22  1  0\\n 15 23  1  0\\n 24 25  1  0\\n 25 26  1  0\\n 26 27  1  0\\n 27 28  1  0\\n 28 29  1  0\\n 24 30  1  0\\n 24 31  1  0\\n 24 32  1  0\\n 26 33  1  0\\n 26 34  1  0\\n 28 35  1  0\\n 28 36  1  0\\n 29 37  1  0\\n 38 39  1  0\\n 39 40  1  0\\n 40 41  1  0\\n 41 42  1  0\\n 42 43  1  0\\n 38 44  1  0\\n 38 45  1  0\\n 38 46  1  0\\n 40 47  1  0\\n 40 48  1  0\\n 42 49  1  0\\n 42 50  1  0\\n 43 51  1  0\\n  2 15  1  0\\n  4 29  1  0\\n  6 43  1  0\\n 52 53  2  0\\n 53 54  1  0\\n 54 55  2  0\\n 55 56  1  0\\n 56 57  2  0\\n 57 52  1  0\\n 58 59  1  0\\n 59 60  1  0\\n 58 61  1  0\\n 58 62  1  0\\n 58 63  1  0\\n 59 64  1  0\\n 59 65  1  0\\n 60 66  1  0\\n 60 67  1  0\\n 68 69  1  0\\n 69 70  1  0\\n 68 71  1  0\\n 68 72  1  0\\n 68 73  1  0\\n 69 74  1  0\\n 69 75  1  0\\n 70 76  1  0\\n 70 77  1  0\\n 78 79  1  0\\n 79 80  1  0\\n 78 81  1  0\\n 78 82  1  0\\n 78 83  1  0\\n 79 84  1  0\\n 79 85  1  0\\n 80 86  1  0\\n 80 87  1  0\\n 52 60  1  0\\n 54 70  1  0\\n 56 80  1  0\\n 88 89  2  0\\n 89 90  1  0\\n 90 91  2  0\\n 91 92  1  0\\n 92 93  2  0\\n 93 88  1  0\\n 88 94  1  0\\n 90 95  1  0\\n 92 96  1  0\\n 97 98  1  0\\n 98 99  1  0\\n 99100  1  0\\n100101  1  0\\n101102  1  0\\n 97103  1  0\\n 97104  1  0\\n 97105  1  0\\n 99106  1  0\\n 99107  1  0\\n101108  1  0\\n101109  1  0\\n102110  1  0\\n111112  1  0\\n112113  1  0\\n113114  1  0\\n114115  1  0\\n115116  1  0\\n111117  1  0\\n111118  1  0\\n111119  1  0\\n113120  1  0\\n113121  1  0\\n115122  1  0\\n115123  1  0\\n116124  1  0\\n125126  1  0\\n126127  1  0\\n127128  1  0\\n128129  1  0\\n129130  1  0\\n125131  1  0\\n125132  1  0\\n125133  1  0\\n127134  1  0\\n127135  1  0\\n129136  1  0\\n129137  1  0\\n130138  1  0\\n 89102  1  0\\n 91116  1  0\\n 93130  1  0\\nM  END\\n\");\nviewer_1652945156410282.setStyle({\"stick\": {\"colorscheme\": \"cyanCarbon\"}});\nviewer_1652945156410282.zoomTo();\n\tviewer_1652945156410282.setBackgroundColor(\"#000000\");\n\tviewer_1652945156410282.zoomTo();\nviewer_1652945156410282.render();\n});\n</script>",
      "text/html": [
       "<div id=\"3dmolviewer_1652945156410282\"  style=\"position: relative; width: 400px; height: 400px\">\n",
       "        <p id=\"3dmolwarning_1652945156410282\" style=\"background-color:#ffcccc;color:black\">You appear to be running in JupyterLab (or JavaScript failed to load for some other reason).  You need to install the 3dmol extension: <br>\n",
       "        <tt>jupyter labextension install jupyterlab_3dmol</tt></p>\n",
       "        </div>\n",
       "<script>\n",
       "\n",
       "var loadScriptAsync = function(uri){\n",
       "  return new Promise((resolve, reject) => {\n",
       "    var tag = document.createElement('script');\n",
       "    tag.src = uri;\n",
       "    tag.async = true;\n",
       "    tag.onload = () => {\n",
       "      resolve();\n",
       "    };\n",
       "  var firstScriptTag = document.getElementsByTagName('script')[0];\n",
       "  firstScriptTag.parentNode.insertBefore(tag, firstScriptTag);\n",
       "});\n",
       "};\n",
       "\n",
       "if(typeof $3Dmolpromise === 'undefined') {\n",
       "$3Dmolpromise = null;\n",
       "  $3Dmolpromise = loadScriptAsync('https://3dmol.org/build/3Dmol.js');\n",
       "}\n",
       "\n",
       "var viewer_1652945156410282 = null;\n",
       "var warn = document.getElementById(\"3dmolwarning_1652945156410282\");\n",
       "if(warn) {\n",
       "    warn.parentNode.removeChild(warn);\n",
       "}\n",
       "$3Dmolpromise.then(function() {\n",
       "viewer_1652945156410282 = $3Dmol.createViewer($(\"#3dmolviewer_1652945156410282\"),{backgroundColor:\"white\"});\n",
       "viewer_1652945156410282.addModel(\"\\n     RDKit          3D\\n\\n138138  0  0  0  0  0  0  0  0999 V2000\\n    1.3321   -1.1599    0.0080 C   0  0  0  0  0  0  0  0  0  0  0  0\\n    2.0286    0.0346    0.0080 C   0  0  0  0  0  0  0  0  0  0  0  0\\n    1.2938    1.2010    0.0080 C   0  0  0  0  0  0  0  0  0  0  0  0\\n   -0.0763    1.2422    0.0080 C   0  0  0  0  0  0  0  0  0  0  0  0\\n   -0.7560    0.0325    0.0080 C   0  0  0  0  0  0  0  0  0  0  0  0\\n   -0.0535   -1.1730    0.0080 C   0  0  0  0  0  0  0  0  0  0  0  0\\n    1.9098   -2.0847    0.0080 H   0  0  0  0  0  0  0  0  0  0  0  0\\n    1.8261    2.1578    0.0080 H   0  0  0  0  0  0  0  0  0  0  0  0\\n   -1.8561    0.0435    0.0080 H   0  0  0  0  0  0  0  0  0  0  0  0\\n    7.1993    1.3253   -0.6966 C   0  0  0  0  0  0  0  0  0  0  0  0\\n    6.9132    0.0445   -1.2454 O   0  0  0  0  0  0  0  0  0  0  0  0\\n    7.1818   -0.8406   -0.2341 C   0  0  0  0  0  0  0  0  0  0  0  0\\n    6.4183   -0.6947    0.8466 O   0  0  0  0  0  0  0  0  0  0  0  0\\n    5.0979   -0.8830    0.8454 C   0  0  0  0  0  0  0  0  0  0  0  0\\n    4.1511   -0.1801    0.0047 C   0  0  0  0  0  3  0  0  0  0  0  0\\n    6.9779    2.0523   -1.4969 H   0  0  0  0  0  0  0  0  0  0  0  0\\n    8.2747    1.3341   -0.4286 H   0  0  0  0  0  0  0  0  0  0  0  0\\n    6.6348    1.5345    0.2025 H   0  0  0  0  0  0  0  0  0  0  0  0\\n    8.2566   -0.6370    0.0766 H   0  0  0  0  0  0  0  0  0  0  0  0\\n    7.2246   -1.8958   -0.6400 H   0  0  0  0  0  0  0  0  0  0  0  0\\n    4.7352   -0.6606    1.9244 H   0  0  0  0  0  0  0  0  0  0  0  0\\n    4.9099   -2.0158    0.7160 H   0  0  0  0  0  0  0  0  0  0  0  0\\n    3.0758   -0.4616    0.1810 H   0  0  0  0  0  0  0  0  0  0  0  0\\n   -3.5551    5.1886   -1.4729 C   0  0  0  0  0  0  0  0  0  0  0  0\\n   -2.9951    5.4136   -0.1848 O   0  0  0  0  0  0  0  0  0  0  0  0\\n   -3.8565    4.7996    0.6865 C   0  0  0  0  0  0  0  0  0  0  0  0\\n   -3.9605    3.4822    0.5259 O   0  0  0  0  0  0  0  0  0  0  0  0\\n   -2.9470    2.6358    0.7143 C   0  0  0  0  0  0  0  0  0  0  0  0\\n   -1.6754    2.6828    0.0228 C   0  0  0  0  0  3  0  0  0  0  0  0\\n   -2.8664    5.6692   -2.1890 H   0  0  0  0  0  0  0  0  0  0  0  0\\n   -4.5527    5.6713   -1.4854 H   0  0  0  0  0  0  0  0  0  0  0  0\\n   -3.6951    4.1388   -1.6943 H   0  0  0  0  0  0  0  0  0  0  0  0\\n   -4.8793    5.2511    0.4787 H   0  0  0  0  0  0  0  0  0  0  0  0\\n   -3.6387    5.1278    1.7471 H   0  0  0  0  0  0  0  0  0  0  0  0\\n   -3.3571    1.5771    0.4772 H   0  0  0  0  0  0  0  0  0  0  0  0\\n   -2.7296    2.6031    1.8487 H   0  0  0  0  0  0  0  0  0  0  0  0\\n   -0.9646    1.8561    0.3019 H   0  0  0  0  0  0  0  0  0  0  0  0\\n   -3.0828   -5.7510   -0.2220 C   0  0  0  0  0  0  0  0  0  0  0  0\\n   -3.5400   -4.7555   -1.1294 O   0  0  0  0  0  0  0  0  0  0  0  0\\n   -4.4809   -4.0460   -0.4298 C   0  0  0  0  0  0  0  0  0  0  0  0\\n   -4.0126   -3.4154    0.6449 O   0  0  0  0  0  0  0  0  0  0  0  0\\n   -3.1130   -2.4323    0.5873 C   0  0  0  0  0  0  0  0  0  0  0  0\\n   -1.7950   -2.5349   -0.0040 C   0  0  0  0  0  3  0  0  0  0  0  0\\n   -2.3151   -6.3264   -0.7678 H   0  0  0  0  0  0  0  0  0  0  0  0\\n   -3.9550   -6.3843    0.0363 H   0  0  0  0  0  0  0  0  0  0  0  0\\n   -2.6938   -5.3360    0.6984 H   0  0  0  0  0  0  0  0  0  0  0  0\\n   -5.2419   -4.8117   -0.0724 H   0  0  0  0  0  0  0  0  0  0  0  0\\n   -5.0804   -3.3934   -1.1333 H   0  0  0  0  0  0  0  0  0  0  0  0\\n   -2.9055   -2.1148    1.6834 H   0  0  0  0  0  0  0  0  0  0  0  0\\n   -3.6357   -1.5115    0.1245 H   0  0  0  0  0  0  0  0  0  0  0  0\\n   -1.1748   -1.5996    0.0798 H   0  0  0  0  0  0  0  0  0  0  0  0\\n    1.7919    0.3202    4.9860 C   0  0  0  0  0  0  0  0  0  0  0  0\\n    1.1516    1.4917    4.9860 N   0  0  0  0  0  0  0  0  0  0  0  0\\n   -0.1843    1.4915    4.9860 C   0  0  0  0  0  0  0  0  0  0  0  0\\n   -0.8652    0.3340    4.9860 N   0  0  0  0  0  0  0  0  0  0  0  0\\n   -0.2345   -0.8512    4.9860 C   0  0  0  0  0  0  0  0  0  0  0  0\\n    1.1089   -0.8322    4.9860 N   0  0  0  0  0  0  0  0  0  0  0  0\\n    5.2044    0.0143    6.3144 C   0  0  0  0  0  0  0  0  0  0  0  0\\n    4.7609   -0.3679    4.9202 C   0  0  0  0  0  0  0  0  0  0  0  0\\n    3.4486    0.3558    4.6648 C   0  0  0  0  0  0  0  0  0  0  0  0\\n    4.8123    1.0038    6.6245 H   0  0  0  0  0  0  0  0  0  0  0  0\\n    4.9064   -0.7642    7.0571 H   0  0  0  0  0  0  0  0  0  0  0  0\\n    6.3205    0.0838    6.3753 H   0  0  0  0  0  0  0  0  0  0  0  0\\n    5.4616   -0.0784    4.1358 H   0  0  0  0  0  0  0  0  0  0  0  0\\n    4.6355   -1.4601    4.8995 H   0  0  0  0  0  0  0  0  0  0  0  0\\n    3.0633    0.2067    3.6540 H   0  0  0  0  0  0  0  0  0  0  0  0\\n    3.5536    1.4477    4.8300 H   0  0  0  0  0  0  0  0  0  0  0  0\\n   -3.6646    2.6676    4.3407 C   0  0  0  0  0  0  0  0  0  0  0  0\\n   -2.7561    3.0651    5.4823 C   0  0  0  0  0  0  0  0  0  0  0  0\\n   -1.3394    2.7153    5.0562 C   0  0  0  0  0  0  0  0  0  0  0  0\\n   -3.1425    2.6816    3.3628 H   0  0  0  0  0  0  0  0  0  0  0  0\\n   -4.1150    1.6617    4.5188 H   0  0  0  0  0  0  0  0  0  0  0  0\\n   -4.5265    3.3767    4.2486 H   0  0  0  0  0  0  0  0  0  0  0  0\\n   -2.7813    4.1293    5.7208 H   0  0  0  0  0  0  0  0  0  0  0  0\\n   -3.0683    2.4946    6.3690 H   0  0  0  0  0  0  0  0  0  0  0  0\\n   -0.5827    3.0215    5.7814 H   0  0  0  0  0  0  0  0  0  0  0  0\\n   -1.0857    3.1837    4.0831 H   0  0  0  0  0  0  0  0  0  0  0  0\\n   -2.2452   -3.9878    4.0177 C   0  0  0  0  0  0  0  0  0  0  0  0\\n   -2.2567   -3.2813    5.3546 C   0  0  0  0  0  0  0  0  0  0  0  0\\n   -1.7151   -1.8813    5.1142 C   0  0  0  0  0  0  0  0  0  0  0  0\\n   -2.3239   -3.2809    3.1673 H   0  0  0  0  0  0  0  0  0  0  0  0\\n   -1.3313   -4.6191    3.9060 H   0  0  0  0  0  0  0  0  0  0  0  0\\n   -3.1140   -4.6886    3.9270 H   0  0  0  0  0  0  0  0  0  0  0  0\\n   -3.2487   -3.1855    5.7983 H   0  0  0  0  0  0  0  0  0  0  0  0\\n   -1.6152   -3.8552    6.0387 H   0  0  0  0  0  0  0  0  0  0  0  0\\n   -1.7393   -1.2505    6.0052 H   0  0  0  0  0  0  0  0  0  0  0  0\\n   -2.2843   -1.3623    4.3158 H   0  0  0  0  0  0  0  0  0  0  0  0\\n    1.3321    1.1599    9.9920 C   0  0  0  0  0  0  0  0  0  0  0  0\\n    2.0286   -0.0346    9.9920 C   0  0  0  0  0  0  0  0  0  0  0  0\\n    1.2938   -1.2010    9.9920 C   0  0  0  0  0  0  0  0  0  0  0  0\\n   -0.0763   -1.2422    9.9920 C   0  0  0  0  0  0  0  0  0  0  0  0\\n   -0.7560   -0.0325    9.9920 C   0  0  0  0  0  0  0  0  0  0  0  0\\n   -0.0535    1.1730    9.9920 C   0  0  0  0  0  0  0  0  0  0  0  0\\n    1.9098    2.0847    9.9920 H   0  0  0  0  0  0  0  0  0  0  0  0\\n    1.8261   -2.1578    9.9920 H   0  0  0  0  0  0  0  0  0  0  0  0\\n   -1.8561   -0.0435    9.9920 H   0  0  0  0  0  0  0  0  0  0  0  0\\n    7.1993   -1.3253   10.6966 C   0  0  0  0  0  0  0  0  0  0  0  0\\n    6.9132   -0.0445   11.2454 O   0  0  0  0  0  0  0  0  0  0  0  0\\n    7.1818    0.8406   10.2341 C   0  0  0  0  0  0  0  0  0  0  0  0\\n    6.4183    0.6947    9.1534 O   0  0  0  0  0  0  0  0  0  0  0  0\\n    5.0979    0.8830    9.1546 C   0  0  0  0  0  0  0  0  0  0  0  0\\n    4.1511    0.1801    9.9953 C   0  0  0  0  0  3  0  0  0  0  0  0\\n    6.9779   -2.0523   11.4969 H   0  0  0  0  0  0  0  0  0  0  0  0\\n    8.2747   -1.3341   10.4286 H   0  0  0  0  0  0  0  0  0  0  0  0\\n    6.6348   -1.5345    9.7975 H   0  0  0  0  0  0  0  0  0  0  0  0\\n    8.2566    0.6370    9.9234 H   0  0  0  0  0  0  0  0  0  0  0  0\\n    7.2246    1.8958   10.6400 H   0  0  0  0  0  0  0  0  0  0  0  0\\n    4.7352    0.6606    8.0756 H   0  0  0  0  0  0  0  0  0  0  0  0\\n    4.9099    2.0158    9.2840 H   0  0  0  0  0  0  0  0  0  0  0  0\\n    3.0758    0.4616    9.8190 H   0  0  0  0  0  0  0  0  0  0  0  0\\n   -3.5551   -5.1886   11.4729 C   0  0  0  0  0  0  0  0  0  0  0  0\\n   -2.9951   -5.4136   10.1848 O   0  0  0  0  0  0  0  0  0  0  0  0\\n   -3.8565   -4.7996    9.3135 C   0  0  0  0  0  0  0  0  0  0  0  0\\n   -3.9605   -3.4822    9.4741 O   0  0  0  0  0  0  0  0  0  0  0  0\\n   -2.9470   -2.6358    9.2857 C   0  0  0  0  0  0  0  0  0  0  0  0\\n   -1.6754   -2.6828    9.9772 C   0  0  0  0  0  3  0  0  0  0  0  0\\n   -2.8664   -5.6692   12.1890 H   0  0  0  0  0  0  0  0  0  0  0  0\\n   -4.5527   -5.6713   11.4854 H   0  0  0  0  0  0  0  0  0  0  0  0\\n   -3.6951   -4.1388   11.6943 H   0  0  0  0  0  0  0  0  0  0  0  0\\n   -4.8793   -5.2511    9.5213 H   0  0  0  0  0  0  0  0  0  0  0  0\\n   -3.6387   -5.1278    8.2529 H   0  0  0  0  0  0  0  0  0  0  0  0\\n   -3.3571   -1.5771    9.5228 H   0  0  0  0  0  0  0  0  0  0  0  0\\n   -2.7296   -2.6031    8.1513 H   0  0  0  0  0  0  0  0  0  0  0  0\\n   -0.9646   -1.8561    9.6981 H   0  0  0  0  0  0  0  0  0  0  0  0\\n   -3.0828    5.7510   10.2220 C   0  0  0  0  0  0  0  0  0  0  0  0\\n   -3.5400    4.7555   11.1294 O   0  0  0  0  0  0  0  0  0  0  0  0\\n   -4.4809    4.0460   10.4298 C   0  0  0  0  0  0  0  0  0  0  0  0\\n   -4.0126    3.4154    9.3551 O   0  0  0  0  0  0  0  0  0  0  0  0\\n   -3.1130    2.4323    9.4127 C   0  0  0  0  0  0  0  0  0  0  0  0\\n   -1.7950    2.5349   10.0040 C   0  0  0  0  0  3  0  0  0  0  0  0\\n   -2.3151    6.3264   10.7678 H   0  0  0  0  0  0  0  0  0  0  0  0\\n   -3.9550    6.3843    9.9637 H   0  0  0  0  0  0  0  0  0  0  0  0\\n   -2.6938    5.3360    9.3016 H   0  0  0  0  0  0  0  0  0  0  0  0\\n   -5.2419    4.8117   10.0724 H   0  0  0  0  0  0  0  0  0  0  0  0\\n   -5.0804    3.3934   11.1333 H   0  0  0  0  0  0  0  0  0  0  0  0\\n   -2.9055    2.1148    8.3166 H   0  0  0  0  0  0  0  0  0  0  0  0\\n   -3.6357    1.5115    9.8755 H   0  0  0  0  0  0  0  0  0  0  0  0\\n   -1.1748    1.5996    9.9202 H   0  0  0  0  0  0  0  0  0  0  0  0\\n  1  2  2  0\\n  2  3  1  0\\n  3  4  2  0\\n  4  5  1  0\\n  5  6  2  0\\n  6  1  1  0\\n  1  7  1  0\\n  3  8  1  0\\n  5  9  1  0\\n 10 11  1  0\\n 11 12  1  0\\n 12 13  1  0\\n 13 14  1  0\\n 14 15  1  0\\n 10 16  1  0\\n 10 17  1  0\\n 10 18  1  0\\n 12 19  1  0\\n 12 20  1  0\\n 14 21  1  0\\n 14 22  1  0\\n 15 23  1  0\\n 24 25  1  0\\n 25 26  1  0\\n 26 27  1  0\\n 27 28  1  0\\n 28 29  1  0\\n 24 30  1  0\\n 24 31  1  0\\n 24 32  1  0\\n 26 33  1  0\\n 26 34  1  0\\n 28 35  1  0\\n 28 36  1  0\\n 29 37  1  0\\n 38 39  1  0\\n 39 40  1  0\\n 40 41  1  0\\n 41 42  1  0\\n 42 43  1  0\\n 38 44  1  0\\n 38 45  1  0\\n 38 46  1  0\\n 40 47  1  0\\n 40 48  1  0\\n 42 49  1  0\\n 42 50  1  0\\n 43 51  1  0\\n  2 15  1  0\\n  4 29  1  0\\n  6 43  1  0\\n 52 53  2  0\\n 53 54  1  0\\n 54 55  2  0\\n 55 56  1  0\\n 56 57  2  0\\n 57 52  1  0\\n 58 59  1  0\\n 59 60  1  0\\n 58 61  1  0\\n 58 62  1  0\\n 58 63  1  0\\n 59 64  1  0\\n 59 65  1  0\\n 60 66  1  0\\n 60 67  1  0\\n 68 69  1  0\\n 69 70  1  0\\n 68 71  1  0\\n 68 72  1  0\\n 68 73  1  0\\n 69 74  1  0\\n 69 75  1  0\\n 70 76  1  0\\n 70 77  1  0\\n 78 79  1  0\\n 79 80  1  0\\n 78 81  1  0\\n 78 82  1  0\\n 78 83  1  0\\n 79 84  1  0\\n 79 85  1  0\\n 80 86  1  0\\n 80 87  1  0\\n 52 60  1  0\\n 54 70  1  0\\n 56 80  1  0\\n 88 89  2  0\\n 89 90  1  0\\n 90 91  2  0\\n 91 92  1  0\\n 92 93  2  0\\n 93 88  1  0\\n 88 94  1  0\\n 90 95  1  0\\n 92 96  1  0\\n 97 98  1  0\\n 98 99  1  0\\n 99100  1  0\\n100101  1  0\\n101102  1  0\\n 97103  1  0\\n 97104  1  0\\n 97105  1  0\\n 99106  1  0\\n 99107  1  0\\n101108  1  0\\n101109  1  0\\n102110  1  0\\n111112  1  0\\n112113  1  0\\n113114  1  0\\n114115  1  0\\n115116  1  0\\n111117  1  0\\n111118  1  0\\n111119  1  0\\n113120  1  0\\n113121  1  0\\n115122  1  0\\n115123  1  0\\n116124  1  0\\n125126  1  0\\n126127  1  0\\n127128  1  0\\n128129  1  0\\n129130  1  0\\n125131  1  0\\n125132  1  0\\n125133  1  0\\n127134  1  0\\n127135  1  0\\n129136  1  0\\n129137  1  0\\n130138  1  0\\n 89102  1  0\\n 91116  1  0\\n 93130  1  0\\nM  END\\n\");\n",
       "viewer_1652945156410282.setStyle({\"stick\": {\"colorscheme\": \"cyanCarbon\"}});\n",
       "viewer_1652945156410282.zoomTo();\n",
       "\tviewer_1652945156410282.setBackgroundColor(\"#000000\");\n",
       "\tviewer_1652945156410282.zoomTo();\n",
       "viewer_1652945156410282.render();\n",
       "});\n",
       "</script>"
      ]
     },
     "metadata": {},
     "output_type": "display_data"
    }
   ],
   "source": [
    "host = stk.BuildingBlock.init_from_molecule(cores[2])\n",
    "\n",
    "guests = (\n",
    "    stk.host_guest.Guest(\n",
    "        building_block=stk.BuildingBlock.init_from_molecule(cores[4]),\n",
    "        displacement=(0, 0, 5),\n",
    "    ),\n",
    "    stk.host_guest.Guest(\n",
    "        building_block=stk.BuildingBlock.init_from_molecule(cores[2]),\n",
    "        displacement=(0, 0, 10),\n",
    "        start_vector=(0, 0, 1),\n",
    "        end_vector=(0, 0, -1),\n",
    "    ),\n",
    ")\n",
    "\n",
    "polymer = stk.ConstructedMolecule(\n",
    "    topology_graph=stk.host_guest.Complex(\n",
    "        host=host,\n",
    "        guests=guests,\n",
    "    ),\n",
    ")\n",
    "show_stk_mol(polymer)"
   ]
  },
  {
   "cell_type": "code",
   "execution_count": null,
   "id": "5d95e1cc-55b9-45aa-b342-2221c3fdc4af",
   "metadata": {},
   "outputs": [],
   "source": []
  },
  {
   "cell_type": "markdown",
   "id": "83b41d82-3f58-4965-82b4-78485d24e34d",
   "metadata": {},
   "source": [
    "## Optimising the polymers"
   ]
  },
  {
   "cell_type": "markdown",
   "id": "c26bf496-b081-487c-b62e-a238de3139c1",
   "metadata": {},
   "source": [
    "###  a failure"
   ]
  },
  {
   "cell_type": "code",
   "execution_count": 242,
   "id": "3d53ec3d-af76-4189-8ce4-319bf5d54512",
   "metadata": {},
   "outputs": [
    {
     "data": {
      "application/3dmoljs_load.v0": "<div id=\"3dmolviewer_16529451912330525\"  style=\"position: relative; width: 400px; height: 400px\">\n        <p id=\"3dmolwarning_16529451912330525\" style=\"background-color:#ffcccc;color:black\">You appear to be running in JupyterLab (or JavaScript failed to load for some other reason).  You need to install the 3dmol extension: <br>\n        <tt>jupyter labextension install jupyterlab_3dmol</tt></p>\n        </div>\n<script>\n\nvar loadScriptAsync = function(uri){\n  return new Promise((resolve, reject) => {\n    var tag = document.createElement('script');\n    tag.src = uri;\n    tag.async = true;\n    tag.onload = () => {\n      resolve();\n    };\n  var firstScriptTag = document.getElementsByTagName('script')[0];\n  firstScriptTag.parentNode.insertBefore(tag, firstScriptTag);\n});\n};\n\nif(typeof $3Dmolpromise === 'undefined') {\n$3Dmolpromise = null;\n  $3Dmolpromise = loadScriptAsync('https://3dmol.org/build/3Dmol.js');\n}\n\nvar viewer_16529451912330525 = null;\nvar warn = document.getElementById(\"3dmolwarning_16529451912330525\");\nif(warn) {\n    warn.parentNode.removeChild(warn);\n}\n$3Dmolpromise.then(function() {\nviewer_16529451912330525 = $3Dmol.createViewer($(\"#3dmolviewer_16529451912330525\"),{backgroundColor:\"white\"});\nviewer_16529451912330525.addModel(\"\\n     RDKit          3D\\n\\n168168  0  0  0  0  0  0  0  0999 V2000\\n    1.3321   -1.1599    0.0080 C   0  0  0  0  0  0  0  0  0  0  0  0\\n    2.0286    0.0346    0.0080 C   0  0  0  0  0  0  0  0  0  0  0  0\\n    1.2938    1.2010    0.0080 C   0  0  0  0  0  0  0  0  0  0  0  0\\n   -0.0763    1.2422    0.0080 C   0  0  0  0  0  0  0  0  0  0  0  0\\n   -0.7560    0.0325    0.0080 C   0  0  0  0  0  0  0  0  0  0  0  0\\n   -0.0535   -1.1730    0.0080 C   0  0  0  0  0  0  0  0  0  0  0  0\\n    1.9098   -2.0847    0.0080 H   0  0  0  0  0  0  0  0  0  0  0  0\\n    1.8261    2.1578    0.0080 H   0  0  0  0  0  0  0  0  0  0  0  0\\n   -1.8561    0.0435    0.0080 H   0  0  0  0  0  0  0  0  0  0  0  0\\n    7.1993    1.3253   -0.6966 C   0  0  0  0  0  0  0  0  0  0  0  0\\n    6.9132    0.0445   -1.2454 O   0  0  0  0  0  0  0  0  0  0  0  0\\n    7.1818   -0.8406   -0.2341 C   0  0  0  0  0  0  0  0  0  0  0  0\\n    6.4183   -0.6947    0.8466 O   0  0  0  0  0  0  0  0  0  0  0  0\\n    5.0979   -0.8830    0.8454 C   0  0  0  0  0  0  0  0  0  0  0  0\\n    4.1511   -0.1801    0.0047 C   0  0  0  0  0  3  0  0  0  0  0  0\\n    6.9779    2.0523   -1.4969 H   0  0  0  0  0  0  0  0  0  0  0  0\\n    8.2747    1.3341   -0.4286 H   0  0  0  0  0  0  0  0  0  0  0  0\\n    6.6348    1.5345    0.2025 H   0  0  0  0  0  0  0  0  0  0  0  0\\n    8.2566   -0.6370    0.0766 H   0  0  0  0  0  0  0  0  0  0  0  0\\n    7.2246   -1.8958   -0.6400 H   0  0  0  0  0  0  0  0  0  0  0  0\\n    4.7352   -0.6606    1.9244 H   0  0  0  0  0  0  0  0  0  0  0  0\\n    4.9099   -2.0158    0.7160 H   0  0  0  0  0  0  0  0  0  0  0  0\\n    3.0758   -0.4616    0.1810 H   0  0  0  0  0  0  0  0  0  0  0  0\\n   -3.5551    5.1886   -1.4729 C   0  0  0  0  0  0  0  0  0  0  0  0\\n   -2.9951    5.4136   -0.1848 O   0  0  0  0  0  0  0  0  0  0  0  0\\n   -3.8565    4.7996    0.6865 C   0  0  0  0  0  0  0  0  0  0  0  0\\n   -3.9605    3.4822    0.5259 O   0  0  0  0  0  0  0  0  0  0  0  0\\n   -2.9470    2.6358    0.7143 C   0  0  0  0  0  0  0  0  0  0  0  0\\n   -1.6754    2.6828    0.0228 C   0  0  0  0  0  3  0  0  0  0  0  0\\n   -2.8664    5.6692   -2.1890 H   0  0  0  0  0  0  0  0  0  0  0  0\\n   -4.5527    5.6713   -1.4854 H   0  0  0  0  0  0  0  0  0  0  0  0\\n   -3.6951    4.1388   -1.6943 H   0  0  0  0  0  0  0  0  0  0  0  0\\n   -4.8793    5.2511    0.4787 H   0  0  0  0  0  0  0  0  0  0  0  0\\n   -3.6387    5.1278    1.7471 H   0  0  0  0  0  0  0  0  0  0  0  0\\n   -3.3571    1.5771    0.4772 H   0  0  0  0  0  0  0  0  0  0  0  0\\n   -2.7296    2.6031    1.8487 H   0  0  0  0  0  0  0  0  0  0  0  0\\n   -0.9646    1.8561    0.3019 H   0  0  0  0  0  0  0  0  0  0  0  0\\n   -3.0828   -5.7510   -0.2220 C   0  0  0  0  0  0  0  0  0  0  0  0\\n   -3.5400   -4.7555   -1.1294 O   0  0  0  0  0  0  0  0  0  0  0  0\\n   -4.4809   -4.0460   -0.4298 C   0  0  0  0  0  0  0  0  0  0  0  0\\n   -4.0126   -3.4154    0.6449 O   0  0  0  0  0  0  0  0  0  0  0  0\\n   -3.1130   -2.4323    0.5873 C   0  0  0  0  0  0  0  0  0  0  0  0\\n   -1.7950   -2.5349   -0.0040 C   0  0  0  0  0  3  0  0  0  0  0  0\\n   -2.3151   -6.3264   -0.7678 H   0  0  0  0  0  0  0  0  0  0  0  0\\n   -3.9550   -6.3843    0.0363 H   0  0  0  0  0  0  0  0  0  0  0  0\\n   -2.6938   -5.3360    0.6984 H   0  0  0  0  0  0  0  0  0  0  0  0\\n   -5.2419   -4.8117   -0.0724 H   0  0  0  0  0  0  0  0  0  0  0  0\\n   -5.0804   -3.3934   -1.1333 H   0  0  0  0  0  0  0  0  0  0  0  0\\n   -2.9055   -2.1148    1.6834 H   0  0  0  0  0  0  0  0  0  0  0  0\\n   -3.6357   -1.5115    0.1245 H   0  0  0  0  0  0  0  0  0  0  0  0\\n   -1.1748   -1.5996    0.0798 H   0  0  0  0  0  0  0  0  0  0  0  0\\n    4.5540    2.7728    7.8587 C   0  0  0  0  0  0  0  0  0  0  0  0\\n    5.2504    3.9672    7.8587 C   0  0  0  0  0  0  0  0  0  0  0  0\\n    4.5156    5.1336    7.8587 C   0  0  0  0  0  0  0  0  0  0  0  0\\n    3.1455    5.1748    7.8587 C   0  0  0  0  0  0  0  0  0  0  0  0\\n    2.4658    3.9652    7.8587 C   0  0  0  0  0  0  0  0  0  0  0  0\\n    3.1683    2.7596    7.8587 C   0  0  0  0  0  0  0  0  0  0  0  0\\n    5.1316    1.8479    7.8587 H   0  0  0  0  0  0  0  0  0  0  0  0\\n    5.0479    6.0905    7.8587 H   0  0  0  0  0  0  0  0  0  0  0  0\\n    1.3658    3.9762    7.8587 H   0  0  0  0  0  0  0  0  0  0  0  0\\n    8.8499    3.6118    9.1446 C   0  0  0  0  0  0  0  0  0  0  0  0\\n    8.4064    3.2296    7.7504 C   0  0  0  0  0  0  0  0  0  0  0  0\\n    7.0941    3.9533    7.4950 C   0  0  0  0  0  0  0  0  0  0  0  0\\n    8.4578    4.6013    9.4547 H   0  0  0  0  0  0  0  0  0  0  0  0\\n    8.5519    2.8333    9.8873 H   0  0  0  0  0  0  0  0  0  0  0  0\\n    9.9660    3.6813    9.2055 H   0  0  0  0  0  0  0  0  0  0  0  0\\n    9.1071    3.5191    6.9660 H   0  0  0  0  0  0  0  0  0  0  0  0\\n    8.2810    2.1374    7.7297 H   0  0  0  0  0  0  0  0  0  0  0  0\\n    6.7089    3.8042    6.4842 H   0  0  0  0  0  0  0  0  0  0  0  0\\n    7.1991    5.0452    7.6602 H   0  0  0  0  0  0  0  0  0  0  0  0\\n   -0.2785    6.3621    7.1718 C   0  0  0  0  0  0  0  0  0  0  0  0\\n    0.6300    6.7596    8.3134 C   0  0  0  0  0  0  0  0  0  0  0  0\\n    2.0467    6.4097    7.8872 C   0  0  0  0  0  0  0  0  0  0  0  0\\n    0.2435    6.3761    6.1939 H   0  0  0  0  0  0  0  0  0  0  0  0\\n   -0.7289    5.3562    7.3498 H   0  0  0  0  0  0  0  0  0  0  0  0\\n   -1.1404    7.0712    7.0797 H   0  0  0  0  0  0  0  0  0  0  0  0\\n    0.6047    7.8237    8.5518 H   0  0  0  0  0  0  0  0  0  0  0  0\\n    0.3178    6.1891    9.2000 H   0  0  0  0  0  0  0  0  0  0  0  0\\n    2.8034    6.7160    8.6124 H   0  0  0  0  0  0  0  0  0  0  0  0\\n    2.3004    6.8781    6.9142 H   0  0  0  0  0  0  0  0  0  0  0  0\\n    1.1896   -0.4244    6.9144 C   0  0  0  0  0  0  0  0  0  0  0  0\\n    1.1781    0.2821    8.2513 C   0  0  0  0  0  0  0  0  0  0  0  0\\n    1.7197    1.6821    8.0110 C   0  0  0  0  0  0  0  0  0  0  0  0\\n    1.1109    0.2825    6.0640 H   0  0  0  0  0  0  0  0  0  0  0  0\\n    2.1036   -1.0557    6.8027 H   0  0  0  0  0  0  0  0  0  0  0  0\\n    0.3208   -1.1252    6.8237 H   0  0  0  0  0  0  0  0  0  0  0  0\\n    0.1862    0.3779    8.6950 H   0  0  0  0  0  0  0  0  0  0  0  0\\n    1.8197   -0.2918    8.9355 H   0  0  0  0  0  0  0  0  0  0  0  0\\n    1.6956    2.3129    8.9019 H   0  0  0  0  0  0  0  0  0  0  0  0\\n    1.1506    2.2011    7.2126 H   0  0  0  0  0  0  0  0  0  0  0  0\\n    1.2154    0.1045   10.4637 C   0  0  0  0  0  0  0  0  0  0  0  0\\n    1.9118    1.2989   10.4637 C   0  0  0  0  0  0  0  0  0  0  0  0\\n    1.1770    2.4653   10.4637 C   0  0  0  0  0  0  0  0  0  0  0  0\\n   -0.1931    2.5065   10.4637 C   0  0  0  0  0  0  0  0  0  0  0  0\\n   -0.8728    1.2969   10.4637 C   0  0  0  0  0  0  0  0  0  0  0  0\\n   -0.1703    0.0913   10.4637 C   0  0  0  0  0  0  0  0  0  0  0  0\\n    1.7930   -0.8204   10.4637 H   0  0  0  0  0  0  0  0  0  0  0  0\\n    1.7093    3.4222   10.4637 H   0  0  0  0  0  0  0  0  0  0  0  0\\n   -1.9728    1.3079   10.4637 H   0  0  0  0  0  0  0  0  0  0  0  0\\n    5.5113    0.9435   11.7496 C   0  0  0  0  0  0  0  0  0  0  0  0\\n    5.0678    0.5613   10.3553 C   0  0  0  0  0  0  0  0  0  0  0  0\\n    3.7555    1.2850   10.0999 C   0  0  0  0  0  0  0  0  0  0  0  0\\n    5.1192    1.9330   12.0596 H   0  0  0  0  0  0  0  0  0  0  0  0\\n    5.2133    0.1650   12.4922 H   0  0  0  0  0  0  0  0  0  0  0  0\\n    6.6274    1.0130   11.8104 H   0  0  0  0  0  0  0  0  0  0  0  0\\n    5.7685    0.8508    9.5710 H   0  0  0  0  0  0  0  0  0  0  0  0\\n    4.9424   -0.5309   10.3347 H   0  0  0  0  0  0  0  0  0  0  0  0\\n    3.3702    1.1359    9.0892 H   0  0  0  0  0  0  0  0  0  0  0  0\\n    3.8605    2.3769   10.2651 H   0  0  0  0  0  0  0  0  0  0  0  0\\n   -3.6171    3.6938    9.7767 C   0  0  0  0  0  0  0  0  0  0  0  0\\n   -2.7086    4.0913   10.9183 C   0  0  0  0  0  0  0  0  0  0  0  0\\n   -1.2919    3.7414   10.4922 C   0  0  0  0  0  0  0  0  0  0  0  0\\n   -3.0951    3.7078    8.7988 H   0  0  0  0  0  0  0  0  0  0  0  0\\n   -4.0675    2.6879    9.9548 H   0  0  0  0  0  0  0  0  0  0  0  0\\n   -4.4790    4.4029    9.6846 H   0  0  0  0  0  0  0  0  0  0  0  0\\n   -2.7339    5.1554   11.1568 H   0  0  0  0  0  0  0  0  0  0  0  0\\n   -3.0208    3.5208   11.8049 H   0  0  0  0  0  0  0  0  0  0  0  0\\n   -0.5352    4.0477   11.2173 H   0  0  0  0  0  0  0  0  0  0  0  0\\n   -1.0382    4.2098    9.5191 H   0  0  0  0  0  0  0  0  0  0  0  0\\n   -2.1490   -3.0927    9.5193 C   0  0  0  0  0  0  0  0  0  0  0  0\\n   -2.1605   -2.3862   10.8562 C   0  0  0  0  0  0  0  0  0  0  0  0\\n   -1.6189   -0.9862   10.6159 C   0  0  0  0  0  0  0  0  0  0  0  0\\n   -2.2277   -2.3858    8.6690 H   0  0  0  0  0  0  0  0  0  0  0  0\\n   -1.2350   -3.7240    9.4077 H   0  0  0  0  0  0  0  0  0  0  0  0\\n   -3.0178   -3.7935    9.4287 H   0  0  0  0  0  0  0  0  0  0  0  0\\n   -3.1524   -2.2904   11.2999 H   0  0  0  0  0  0  0  0  0  0  0  0\\n   -1.5190   -2.9601   11.5404 H   0  0  0  0  0  0  0  0  0  0  0  0\\n   -1.6430   -0.3554   11.5069 H   0  0  0  0  0  0  0  0  0  0  0  0\\n   -2.1880   -0.4672    9.8175 H   0  0  0  0  0  0  0  0  0  0  0  0\\n    1.1847   -1.6947   13.0729 C   0  0  0  0  0  0  0  0  0  0  0  0\\n    1.8811   -0.5002   13.0729 C   0  0  0  0  0  0  0  0  0  0  0  0\\n    1.1463    0.6662   13.0729 C   0  0  0  0  0  0  0  0  0  0  0  0\\n   -0.2238    0.7074   13.0729 C   0  0  0  0  0  0  0  0  0  0  0  0\\n   -0.9035   -0.5023   13.0729 C   0  0  0  0  0  0  0  0  0  0  0  0\\n   -0.2010   -1.7078   13.0729 C   0  0  0  0  0  0  0  0  0  0  0  0\\n    1.7623   -2.6195   13.0729 H   0  0  0  0  0  0  0  0  0  0  0  0\\n    1.6786    1.6230   13.0729 H   0  0  0  0  0  0  0  0  0  0  0  0\\n   -2.0035   -0.4912   13.0729 H   0  0  0  0  0  0  0  0  0  0  0  0\\n    5.4806   -0.8556   14.3588 C   0  0  0  0  0  0  0  0  0  0  0  0\\n    5.0371   -1.2378   12.9646 C   0  0  0  0  0  0  0  0  0  0  0  0\\n    3.7248   -0.5142   12.7091 C   0  0  0  0  0  0  0  0  0  0  0  0\\n    5.0885    0.1339   14.6689 H   0  0  0  0  0  0  0  0  0  0  0  0\\n    5.1826   -1.6342   15.1015 H   0  0  0  0  0  0  0  0  0  0  0  0\\n    6.5967   -0.7861   14.4197 H   0  0  0  0  0  0  0  0  0  0  0  0\\n    5.7378   -0.9483   12.1802 H   0  0  0  0  0  0  0  0  0  0  0  0\\n    4.9117   -2.3300   12.9439 H   0  0  0  0  0  0  0  0  0  0  0  0\\n    3.3395   -0.6633   11.6984 H   0  0  0  0  0  0  0  0  0  0  0  0\\n    3.8298    0.5778   12.8744 H   0  0  0  0  0  0  0  0  0  0  0  0\\n   -3.6478    1.8946   12.3860 C   0  0  0  0  0  0  0  0  0  0  0  0\\n   -2.7393    2.2921   13.5276 C   0  0  0  0  0  0  0  0  0  0  0  0\\n   -1.3226    1.9423   13.1014 C   0  0  0  0  0  0  0  0  0  0  0  0\\n   -3.1258    1.9086   11.4080 H   0  0  0  0  0  0  0  0  0  0  0  0\\n   -4.0982    0.8887   12.5640 H   0  0  0  0  0  0  0  0  0  0  0  0\\n   -4.5097    2.6037   12.2939 H   0  0  0  0  0  0  0  0  0  0  0  0\\n   -2.7646    3.3563   13.7660 H   0  0  0  0  0  0  0  0  0  0  0  0\\n   -3.0515    1.7217   14.4142 H   0  0  0  0  0  0  0  0  0  0  0  0\\n   -0.5659    2.2485   13.8266 H   0  0  0  0  0  0  0  0  0  0  0  0\\n   -1.0689    2.4107   12.1283 H   0  0  0  0  0  0  0  0  0  0  0  0\\n   -2.1797   -4.8918   12.1286 C   0  0  0  0  0  0  0  0  0  0  0  0\\n   -2.1912   -4.1853   13.4655 C   0  0  0  0  0  0  0  0  0  0  0  0\\n   -1.6496   -2.7853   13.2251 C   0  0  0  0  0  0  0  0  0  0  0  0\\n   -2.2584   -4.1849   11.2782 H   0  0  0  0  0  0  0  0  0  0  0  0\\n   -1.2657   -5.5231   12.0169 H   0  0  0  0  0  0  0  0  0  0  0  0\\n   -3.0485   -5.5926   12.0379 H   0  0  0  0  0  0  0  0  0  0  0  0\\n   -3.1831   -4.0895   13.9092 H   0  0  0  0  0  0  0  0  0  0  0  0\\n   -1.5497   -4.7593   14.1496 H   0  0  0  0  0  0  0  0  0  0  0  0\\n   -1.6737   -2.1546   14.1161 H   0  0  0  0  0  0  0  0  0  0  0  0\\n   -2.2187   -2.2663   12.4268 H   0  0  0  0  0  0  0  0  0  0  0  0\\n  1  2  2  0\\n  2  3  1  0\\n  3  4  2  0\\n  4  5  1  0\\n  5  6  2  0\\n  6  1  1  0\\n  1  7  1  0\\n  3  8  1  0\\n  5  9  1  0\\n 10 11  1  0\\n 11 12  1  0\\n 12 13  1  0\\n 13 14  1  0\\n 14 15  1  0\\n 10 16  1  0\\n 10 17  1  0\\n 10 18  1  0\\n 12 19  1  0\\n 12 20  1  0\\n 14 21  1  0\\n 14 22  1  0\\n 15 23  1  0\\n 24 25  1  0\\n 25 26  1  0\\n 26 27  1  0\\n 27 28  1  0\\n 28 29  1  0\\n 24 30  1  0\\n 24 31  1  0\\n 24 32  1  0\\n 26 33  1  0\\n 26 34  1  0\\n 28 35  1  0\\n 28 36  1  0\\n 29 37  1  0\\n 38 39  1  0\\n 39 40  1  0\\n 40 41  1  0\\n 41 42  1  0\\n 42 43  1  0\\n 38 44  1  0\\n 38 45  1  0\\n 38 46  1  0\\n 40 47  1  0\\n 40 48  1  0\\n 42 49  1  0\\n 42 50  1  0\\n 43 51  1  0\\n  2 15  1  0\\n  4 29  1  0\\n  6 43  1  0\\n 52 53  2  0\\n 53 54  1  0\\n 54 55  2  0\\n 55 56  1  0\\n 56 57  2  0\\n 57 52  1  0\\n 52 58  1  0\\n 54 59  1  0\\n 56 60  1  0\\n 61 62  1  0\\n 62 63  1  0\\n 61 64  1  0\\n 61 65  1  0\\n 61 66  1  0\\n 62 67  1  0\\n 62 68  1  0\\n 63 69  1  0\\n 63 70  1  0\\n 71 72  1  0\\n 72 73  1  0\\n 71 74  1  0\\n 71 75  1  0\\n 71 76  1  0\\n 72 77  1  0\\n 72 78  1  0\\n 73 79  1  0\\n 73 80  1  0\\n 81 82  1  0\\n 82 83  1  0\\n 81 84  1  0\\n 81 85  1  0\\n 81 86  1  0\\n 82 87  1  0\\n 82 88  1  0\\n 83 89  1  0\\n 83 90  1  0\\n 53 63  1  0\\n 55 73  1  0\\n 57 83  1  0\\n 91 92  2  0\\n 92 93  1  0\\n 93 94  2  0\\n 94 95  1  0\\n 95 96  2  0\\n 96 91  1  0\\n 91 97  1  0\\n 93 98  1  0\\n 95 99  1  0\\n100101  1  0\\n101102  1  0\\n100103  1  0\\n100104  1  0\\n100105  1  0\\n101106  1  0\\n101107  1  0\\n102108  1  0\\n102109  1  0\\n110111  1  0\\n111112  1  0\\n110113  1  0\\n110114  1  0\\n110115  1  0\\n111116  1  0\\n111117  1  0\\n112118  1  0\\n112119  1  0\\n120121  1  0\\n121122  1  0\\n120123  1  0\\n120124  1  0\\n120125  1  0\\n121126  1  0\\n121127  1  0\\n122128  1  0\\n122129  1  0\\n 92102  1  0\\n 94112  1  0\\n 96122  1  0\\n130131  2  0\\n131132  1  0\\n132133  2  0\\n133134  1  0\\n134135  2  0\\n135130  1  0\\n130136  1  0\\n132137  1  0\\n134138  1  0\\n139140  1  0\\n140141  1  0\\n139142  1  0\\n139143  1  0\\n139144  1  0\\n140145  1  0\\n140146  1  0\\n141147  1  0\\n141148  1  0\\n149150  1  0\\n150151  1  0\\n149152  1  0\\n149153  1  0\\n149154  1  0\\n150155  1  0\\n150156  1  0\\n151157  1  0\\n151158  1  0\\n159160  1  0\\n160161  1  0\\n159162  1  0\\n159163  1  0\\n159164  1  0\\n160165  1  0\\n160166  1  0\\n161167  1  0\\n161168  1  0\\n131141  1  0\\n133151  1  0\\n135161  1  0\\nM  END\\n\");\nviewer_16529451912330525.setStyle({\"stick\": {\"colorscheme\": \"cyanCarbon\"}});\nviewer_16529451912330525.zoomTo();\n\tviewer_16529451912330525.setBackgroundColor(\"#000000\");\n\tviewer_16529451912330525.zoomTo();\nviewer_16529451912330525.render();\n});\n</script>",
      "text/html": [
       "<div id=\"3dmolviewer_16529451912330525\"  style=\"position: relative; width: 400px; height: 400px\">\n",
       "        <p id=\"3dmolwarning_16529451912330525\" style=\"background-color:#ffcccc;color:black\">You appear to be running in JupyterLab (or JavaScript failed to load for some other reason).  You need to install the 3dmol extension: <br>\n",
       "        <tt>jupyter labextension install jupyterlab_3dmol</tt></p>\n",
       "        </div>\n",
       "<script>\n",
       "\n",
       "var loadScriptAsync = function(uri){\n",
       "  return new Promise((resolve, reject) => {\n",
       "    var tag = document.createElement('script');\n",
       "    tag.src = uri;\n",
       "    tag.async = true;\n",
       "    tag.onload = () => {\n",
       "      resolve();\n",
       "    };\n",
       "  var firstScriptTag = document.getElementsByTagName('script')[0];\n",
       "  firstScriptTag.parentNode.insertBefore(tag, firstScriptTag);\n",
       "});\n",
       "};\n",
       "\n",
       "if(typeof $3Dmolpromise === 'undefined') {\n",
       "$3Dmolpromise = null;\n",
       "  $3Dmolpromise = loadScriptAsync('https://3dmol.org/build/3Dmol.js');\n",
       "}\n",
       "\n",
       "var viewer_16529451912330525 = null;\n",
       "var warn = document.getElementById(\"3dmolwarning_16529451912330525\");\n",
       "if(warn) {\n",
       "    warn.parentNode.removeChild(warn);\n",
       "}\n",
       "$3Dmolpromise.then(function() {\n",
       "viewer_16529451912330525 = $3Dmol.createViewer($(\"#3dmolviewer_16529451912330525\"),{backgroundColor:\"white\"});\n",
       "viewer_16529451912330525.addModel(\"\\n     RDKit          3D\\n\\n168168  0  0  0  0  0  0  0  0999 V2000\\n    1.3321   -1.1599    0.0080 C   0  0  0  0  0  0  0  0  0  0  0  0\\n    2.0286    0.0346    0.0080 C   0  0  0  0  0  0  0  0  0  0  0  0\\n    1.2938    1.2010    0.0080 C   0  0  0  0  0  0  0  0  0  0  0  0\\n   -0.0763    1.2422    0.0080 C   0  0  0  0  0  0  0  0  0  0  0  0\\n   -0.7560    0.0325    0.0080 C   0  0  0  0  0  0  0  0  0  0  0  0\\n   -0.0535   -1.1730    0.0080 C   0  0  0  0  0  0  0  0  0  0  0  0\\n    1.9098   -2.0847    0.0080 H   0  0  0  0  0  0  0  0  0  0  0  0\\n    1.8261    2.1578    0.0080 H   0  0  0  0  0  0  0  0  0  0  0  0\\n   -1.8561    0.0435    0.0080 H   0  0  0  0  0  0  0  0  0  0  0  0\\n    7.1993    1.3253   -0.6966 C   0  0  0  0  0  0  0  0  0  0  0  0\\n    6.9132    0.0445   -1.2454 O   0  0  0  0  0  0  0  0  0  0  0  0\\n    7.1818   -0.8406   -0.2341 C   0  0  0  0  0  0  0  0  0  0  0  0\\n    6.4183   -0.6947    0.8466 O   0  0  0  0  0  0  0  0  0  0  0  0\\n    5.0979   -0.8830    0.8454 C   0  0  0  0  0  0  0  0  0  0  0  0\\n    4.1511   -0.1801    0.0047 C   0  0  0  0  0  3  0  0  0  0  0  0\\n    6.9779    2.0523   -1.4969 H   0  0  0  0  0  0  0  0  0  0  0  0\\n    8.2747    1.3341   -0.4286 H   0  0  0  0  0  0  0  0  0  0  0  0\\n    6.6348    1.5345    0.2025 H   0  0  0  0  0  0  0  0  0  0  0  0\\n    8.2566   -0.6370    0.0766 H   0  0  0  0  0  0  0  0  0  0  0  0\\n    7.2246   -1.8958   -0.6400 H   0  0  0  0  0  0  0  0  0  0  0  0\\n    4.7352   -0.6606    1.9244 H   0  0  0  0  0  0  0  0  0  0  0  0\\n    4.9099   -2.0158    0.7160 H   0  0  0  0  0  0  0  0  0  0  0  0\\n    3.0758   -0.4616    0.1810 H   0  0  0  0  0  0  0  0  0  0  0  0\\n   -3.5551    5.1886   -1.4729 C   0  0  0  0  0  0  0  0  0  0  0  0\\n   -2.9951    5.4136   -0.1848 O   0  0  0  0  0  0  0  0  0  0  0  0\\n   -3.8565    4.7996    0.6865 C   0  0  0  0  0  0  0  0  0  0  0  0\\n   -3.9605    3.4822    0.5259 O   0  0  0  0  0  0  0  0  0  0  0  0\\n   -2.9470    2.6358    0.7143 C   0  0  0  0  0  0  0  0  0  0  0  0\\n   -1.6754    2.6828    0.0228 C   0  0  0  0  0  3  0  0  0  0  0  0\\n   -2.8664    5.6692   -2.1890 H   0  0  0  0  0  0  0  0  0  0  0  0\\n   -4.5527    5.6713   -1.4854 H   0  0  0  0  0  0  0  0  0  0  0  0\\n   -3.6951    4.1388   -1.6943 H   0  0  0  0  0  0  0  0  0  0  0  0\\n   -4.8793    5.2511    0.4787 H   0  0  0  0  0  0  0  0  0  0  0  0\\n   -3.6387    5.1278    1.7471 H   0  0  0  0  0  0  0  0  0  0  0  0\\n   -3.3571    1.5771    0.4772 H   0  0  0  0  0  0  0  0  0  0  0  0\\n   -2.7296    2.6031    1.8487 H   0  0  0  0  0  0  0  0  0  0  0  0\\n   -0.9646    1.8561    0.3019 H   0  0  0  0  0  0  0  0  0  0  0  0\\n   -3.0828   -5.7510   -0.2220 C   0  0  0  0  0  0  0  0  0  0  0  0\\n   -3.5400   -4.7555   -1.1294 O   0  0  0  0  0  0  0  0  0  0  0  0\\n   -4.4809   -4.0460   -0.4298 C   0  0  0  0  0  0  0  0  0  0  0  0\\n   -4.0126   -3.4154    0.6449 O   0  0  0  0  0  0  0  0  0  0  0  0\\n   -3.1130   -2.4323    0.5873 C   0  0  0  0  0  0  0  0  0  0  0  0\\n   -1.7950   -2.5349   -0.0040 C   0  0  0  0  0  3  0  0  0  0  0  0\\n   -2.3151   -6.3264   -0.7678 H   0  0  0  0  0  0  0  0  0  0  0  0\\n   -3.9550   -6.3843    0.0363 H   0  0  0  0  0  0  0  0  0  0  0  0\\n   -2.6938   -5.3360    0.6984 H   0  0  0  0  0  0  0  0  0  0  0  0\\n   -5.2419   -4.8117   -0.0724 H   0  0  0  0  0  0  0  0  0  0  0  0\\n   -5.0804   -3.3934   -1.1333 H   0  0  0  0  0  0  0  0  0  0  0  0\\n   -2.9055   -2.1148    1.6834 H   0  0  0  0  0  0  0  0  0  0  0  0\\n   -3.6357   -1.5115    0.1245 H   0  0  0  0  0  0  0  0  0  0  0  0\\n   -1.1748   -1.5996    0.0798 H   0  0  0  0  0  0  0  0  0  0  0  0\\n    4.5540    2.7728    7.8587 C   0  0  0  0  0  0  0  0  0  0  0  0\\n    5.2504    3.9672    7.8587 C   0  0  0  0  0  0  0  0  0  0  0  0\\n    4.5156    5.1336    7.8587 C   0  0  0  0  0  0  0  0  0  0  0  0\\n    3.1455    5.1748    7.8587 C   0  0  0  0  0  0  0  0  0  0  0  0\\n    2.4658    3.9652    7.8587 C   0  0  0  0  0  0  0  0  0  0  0  0\\n    3.1683    2.7596    7.8587 C   0  0  0  0  0  0  0  0  0  0  0  0\\n    5.1316    1.8479    7.8587 H   0  0  0  0  0  0  0  0  0  0  0  0\\n    5.0479    6.0905    7.8587 H   0  0  0  0  0  0  0  0  0  0  0  0\\n    1.3658    3.9762    7.8587 H   0  0  0  0  0  0  0  0  0  0  0  0\\n    8.8499    3.6118    9.1446 C   0  0  0  0  0  0  0  0  0  0  0  0\\n    8.4064    3.2296    7.7504 C   0  0  0  0  0  0  0  0  0  0  0  0\\n    7.0941    3.9533    7.4950 C   0  0  0  0  0  0  0  0  0  0  0  0\\n    8.4578    4.6013    9.4547 H   0  0  0  0  0  0  0  0  0  0  0  0\\n    8.5519    2.8333    9.8873 H   0  0  0  0  0  0  0  0  0  0  0  0\\n    9.9660    3.6813    9.2055 H   0  0  0  0  0  0  0  0  0  0  0  0\\n    9.1071    3.5191    6.9660 H   0  0  0  0  0  0  0  0  0  0  0  0\\n    8.2810    2.1374    7.7297 H   0  0  0  0  0  0  0  0  0  0  0  0\\n    6.7089    3.8042    6.4842 H   0  0  0  0  0  0  0  0  0  0  0  0\\n    7.1991    5.0452    7.6602 H   0  0  0  0  0  0  0  0  0  0  0  0\\n   -0.2785    6.3621    7.1718 C   0  0  0  0  0  0  0  0  0  0  0  0\\n    0.6300    6.7596    8.3134 C   0  0  0  0  0  0  0  0  0  0  0  0\\n    2.0467    6.4097    7.8872 C   0  0  0  0  0  0  0  0  0  0  0  0\\n    0.2435    6.3761    6.1939 H   0  0  0  0  0  0  0  0  0  0  0  0\\n   -0.7289    5.3562    7.3498 H   0  0  0  0  0  0  0  0  0  0  0  0\\n   -1.1404    7.0712    7.0797 H   0  0  0  0  0  0  0  0  0  0  0  0\\n    0.6047    7.8237    8.5518 H   0  0  0  0  0  0  0  0  0  0  0  0\\n    0.3178    6.1891    9.2000 H   0  0  0  0  0  0  0  0  0  0  0  0\\n    2.8034    6.7160    8.6124 H   0  0  0  0  0  0  0  0  0  0  0  0\\n    2.3004    6.8781    6.9142 H   0  0  0  0  0  0  0  0  0  0  0  0\\n    1.1896   -0.4244    6.9144 C   0  0  0  0  0  0  0  0  0  0  0  0\\n    1.1781    0.2821    8.2513 C   0  0  0  0  0  0  0  0  0  0  0  0\\n    1.7197    1.6821    8.0110 C   0  0  0  0  0  0  0  0  0  0  0  0\\n    1.1109    0.2825    6.0640 H   0  0  0  0  0  0  0  0  0  0  0  0\\n    2.1036   -1.0557    6.8027 H   0  0  0  0  0  0  0  0  0  0  0  0\\n    0.3208   -1.1252    6.8237 H   0  0  0  0  0  0  0  0  0  0  0  0\\n    0.1862    0.3779    8.6950 H   0  0  0  0  0  0  0  0  0  0  0  0\\n    1.8197   -0.2918    8.9355 H   0  0  0  0  0  0  0  0  0  0  0  0\\n    1.6956    2.3129    8.9019 H   0  0  0  0  0  0  0  0  0  0  0  0\\n    1.1506    2.2011    7.2126 H   0  0  0  0  0  0  0  0  0  0  0  0\\n    1.2154    0.1045   10.4637 C   0  0  0  0  0  0  0  0  0  0  0  0\\n    1.9118    1.2989   10.4637 C   0  0  0  0  0  0  0  0  0  0  0  0\\n    1.1770    2.4653   10.4637 C   0  0  0  0  0  0  0  0  0  0  0  0\\n   -0.1931    2.5065   10.4637 C   0  0  0  0  0  0  0  0  0  0  0  0\\n   -0.8728    1.2969   10.4637 C   0  0  0  0  0  0  0  0  0  0  0  0\\n   -0.1703    0.0913   10.4637 C   0  0  0  0  0  0  0  0  0  0  0  0\\n    1.7930   -0.8204   10.4637 H   0  0  0  0  0  0  0  0  0  0  0  0\\n    1.7093    3.4222   10.4637 H   0  0  0  0  0  0  0  0  0  0  0  0\\n   -1.9728    1.3079   10.4637 H   0  0  0  0  0  0  0  0  0  0  0  0\\n    5.5113    0.9435   11.7496 C   0  0  0  0  0  0  0  0  0  0  0  0\\n    5.0678    0.5613   10.3553 C   0  0  0  0  0  0  0  0  0  0  0  0\\n    3.7555    1.2850   10.0999 C   0  0  0  0  0  0  0  0  0  0  0  0\\n    5.1192    1.9330   12.0596 H   0  0  0  0  0  0  0  0  0  0  0  0\\n    5.2133    0.1650   12.4922 H   0  0  0  0  0  0  0  0  0  0  0  0\\n    6.6274    1.0130   11.8104 H   0  0  0  0  0  0  0  0  0  0  0  0\\n    5.7685    0.8508    9.5710 H   0  0  0  0  0  0  0  0  0  0  0  0\\n    4.9424   -0.5309   10.3347 H   0  0  0  0  0  0  0  0  0  0  0  0\\n    3.3702    1.1359    9.0892 H   0  0  0  0  0  0  0  0  0  0  0  0\\n    3.8605    2.3769   10.2651 H   0  0  0  0  0  0  0  0  0  0  0  0\\n   -3.6171    3.6938    9.7767 C   0  0  0  0  0  0  0  0  0  0  0  0\\n   -2.7086    4.0913   10.9183 C   0  0  0  0  0  0  0  0  0  0  0  0\\n   -1.2919    3.7414   10.4922 C   0  0  0  0  0  0  0  0  0  0  0  0\\n   -3.0951    3.7078    8.7988 H   0  0  0  0  0  0  0  0  0  0  0  0\\n   -4.0675    2.6879    9.9548 H   0  0  0  0  0  0  0  0  0  0  0  0\\n   -4.4790    4.4029    9.6846 H   0  0  0  0  0  0  0  0  0  0  0  0\\n   -2.7339    5.1554   11.1568 H   0  0  0  0  0  0  0  0  0  0  0  0\\n   -3.0208    3.5208   11.8049 H   0  0  0  0  0  0  0  0  0  0  0  0\\n   -0.5352    4.0477   11.2173 H   0  0  0  0  0  0  0  0  0  0  0  0\\n   -1.0382    4.2098    9.5191 H   0  0  0  0  0  0  0  0  0  0  0  0\\n   -2.1490   -3.0927    9.5193 C   0  0  0  0  0  0  0  0  0  0  0  0\\n   -2.1605   -2.3862   10.8562 C   0  0  0  0  0  0  0  0  0  0  0  0\\n   -1.6189   -0.9862   10.6159 C   0  0  0  0  0  0  0  0  0  0  0  0\\n   -2.2277   -2.3858    8.6690 H   0  0  0  0  0  0  0  0  0  0  0  0\\n   -1.2350   -3.7240    9.4077 H   0  0  0  0  0  0  0  0  0  0  0  0\\n   -3.0178   -3.7935    9.4287 H   0  0  0  0  0  0  0  0  0  0  0  0\\n   -3.1524   -2.2904   11.2999 H   0  0  0  0  0  0  0  0  0  0  0  0\\n   -1.5190   -2.9601   11.5404 H   0  0  0  0  0  0  0  0  0  0  0  0\\n   -1.6430   -0.3554   11.5069 H   0  0  0  0  0  0  0  0  0  0  0  0\\n   -2.1880   -0.4672    9.8175 H   0  0  0  0  0  0  0  0  0  0  0  0\\n    1.1847   -1.6947   13.0729 C   0  0  0  0  0  0  0  0  0  0  0  0\\n    1.8811   -0.5002   13.0729 C   0  0  0  0  0  0  0  0  0  0  0  0\\n    1.1463    0.6662   13.0729 C   0  0  0  0  0  0  0  0  0  0  0  0\\n   -0.2238    0.7074   13.0729 C   0  0  0  0  0  0  0  0  0  0  0  0\\n   -0.9035   -0.5023   13.0729 C   0  0  0  0  0  0  0  0  0  0  0  0\\n   -0.2010   -1.7078   13.0729 C   0  0  0  0  0  0  0  0  0  0  0  0\\n    1.7623   -2.6195   13.0729 H   0  0  0  0  0  0  0  0  0  0  0  0\\n    1.6786    1.6230   13.0729 H   0  0  0  0  0  0  0  0  0  0  0  0\\n   -2.0035   -0.4912   13.0729 H   0  0  0  0  0  0  0  0  0  0  0  0\\n    5.4806   -0.8556   14.3588 C   0  0  0  0  0  0  0  0  0  0  0  0\\n    5.0371   -1.2378   12.9646 C   0  0  0  0  0  0  0  0  0  0  0  0\\n    3.7248   -0.5142   12.7091 C   0  0  0  0  0  0  0  0  0  0  0  0\\n    5.0885    0.1339   14.6689 H   0  0  0  0  0  0  0  0  0  0  0  0\\n    5.1826   -1.6342   15.1015 H   0  0  0  0  0  0  0  0  0  0  0  0\\n    6.5967   -0.7861   14.4197 H   0  0  0  0  0  0  0  0  0  0  0  0\\n    5.7378   -0.9483   12.1802 H   0  0  0  0  0  0  0  0  0  0  0  0\\n    4.9117   -2.3300   12.9439 H   0  0  0  0  0  0  0  0  0  0  0  0\\n    3.3395   -0.6633   11.6984 H   0  0  0  0  0  0  0  0  0  0  0  0\\n    3.8298    0.5778   12.8744 H   0  0  0  0  0  0  0  0  0  0  0  0\\n   -3.6478    1.8946   12.3860 C   0  0  0  0  0  0  0  0  0  0  0  0\\n   -2.7393    2.2921   13.5276 C   0  0  0  0  0  0  0  0  0  0  0  0\\n   -1.3226    1.9423   13.1014 C   0  0  0  0  0  0  0  0  0  0  0  0\\n   -3.1258    1.9086   11.4080 H   0  0  0  0  0  0  0  0  0  0  0  0\\n   -4.0982    0.8887   12.5640 H   0  0  0  0  0  0  0  0  0  0  0  0\\n   -4.5097    2.6037   12.2939 H   0  0  0  0  0  0  0  0  0  0  0  0\\n   -2.7646    3.3563   13.7660 H   0  0  0  0  0  0  0  0  0  0  0  0\\n   -3.0515    1.7217   14.4142 H   0  0  0  0  0  0  0  0  0  0  0  0\\n   -0.5659    2.2485   13.8266 H   0  0  0  0  0  0  0  0  0  0  0  0\\n   -1.0689    2.4107   12.1283 H   0  0  0  0  0  0  0  0  0  0  0  0\\n   -2.1797   -4.8918   12.1286 C   0  0  0  0  0  0  0  0  0  0  0  0\\n   -2.1912   -4.1853   13.4655 C   0  0  0  0  0  0  0  0  0  0  0  0\\n   -1.6496   -2.7853   13.2251 C   0  0  0  0  0  0  0  0  0  0  0  0\\n   -2.2584   -4.1849   11.2782 H   0  0  0  0  0  0  0  0  0  0  0  0\\n   -1.2657   -5.5231   12.0169 H   0  0  0  0  0  0  0  0  0  0  0  0\\n   -3.0485   -5.5926   12.0379 H   0  0  0  0  0  0  0  0  0  0  0  0\\n   -3.1831   -4.0895   13.9092 H   0  0  0  0  0  0  0  0  0  0  0  0\\n   -1.5497   -4.7593   14.1496 H   0  0  0  0  0  0  0  0  0  0  0  0\\n   -1.6737   -2.1546   14.1161 H   0  0  0  0  0  0  0  0  0  0  0  0\\n   -2.2187   -2.2663   12.4268 H   0  0  0  0  0  0  0  0  0  0  0  0\\n  1  2  2  0\\n  2  3  1  0\\n  3  4  2  0\\n  4  5  1  0\\n  5  6  2  0\\n  6  1  1  0\\n  1  7  1  0\\n  3  8  1  0\\n  5  9  1  0\\n 10 11  1  0\\n 11 12  1  0\\n 12 13  1  0\\n 13 14  1  0\\n 14 15  1  0\\n 10 16  1  0\\n 10 17  1  0\\n 10 18  1  0\\n 12 19  1  0\\n 12 20  1  0\\n 14 21  1  0\\n 14 22  1  0\\n 15 23  1  0\\n 24 25  1  0\\n 25 26  1  0\\n 26 27  1  0\\n 27 28  1  0\\n 28 29  1  0\\n 24 30  1  0\\n 24 31  1  0\\n 24 32  1  0\\n 26 33  1  0\\n 26 34  1  0\\n 28 35  1  0\\n 28 36  1  0\\n 29 37  1  0\\n 38 39  1  0\\n 39 40  1  0\\n 40 41  1  0\\n 41 42  1  0\\n 42 43  1  0\\n 38 44  1  0\\n 38 45  1  0\\n 38 46  1  0\\n 40 47  1  0\\n 40 48  1  0\\n 42 49  1  0\\n 42 50  1  0\\n 43 51  1  0\\n  2 15  1  0\\n  4 29  1  0\\n  6 43  1  0\\n 52 53  2  0\\n 53 54  1  0\\n 54 55  2  0\\n 55 56  1  0\\n 56 57  2  0\\n 57 52  1  0\\n 52 58  1  0\\n 54 59  1  0\\n 56 60  1  0\\n 61 62  1  0\\n 62 63  1  0\\n 61 64  1  0\\n 61 65  1  0\\n 61 66  1  0\\n 62 67  1  0\\n 62 68  1  0\\n 63 69  1  0\\n 63 70  1  0\\n 71 72  1  0\\n 72 73  1  0\\n 71 74  1  0\\n 71 75  1  0\\n 71 76  1  0\\n 72 77  1  0\\n 72 78  1  0\\n 73 79  1  0\\n 73 80  1  0\\n 81 82  1  0\\n 82 83  1  0\\n 81 84  1  0\\n 81 85  1  0\\n 81 86  1  0\\n 82 87  1  0\\n 82 88  1  0\\n 83 89  1  0\\n 83 90  1  0\\n 53 63  1  0\\n 55 73  1  0\\n 57 83  1  0\\n 91 92  2  0\\n 92 93  1  0\\n 93 94  2  0\\n 94 95  1  0\\n 95 96  2  0\\n 96 91  1  0\\n 91 97  1  0\\n 93 98  1  0\\n 95 99  1  0\\n100101  1  0\\n101102  1  0\\n100103  1  0\\n100104  1  0\\n100105  1  0\\n101106  1  0\\n101107  1  0\\n102108  1  0\\n102109  1  0\\n110111  1  0\\n111112  1  0\\n110113  1  0\\n110114  1  0\\n110115  1  0\\n111116  1  0\\n111117  1  0\\n112118  1  0\\n112119  1  0\\n120121  1  0\\n121122  1  0\\n120123  1  0\\n120124  1  0\\n120125  1  0\\n121126  1  0\\n121127  1  0\\n122128  1  0\\n122129  1  0\\n 92102  1  0\\n 94112  1  0\\n 96122  1  0\\n130131  2  0\\n131132  1  0\\n132133  2  0\\n133134  1  0\\n134135  2  0\\n135130  1  0\\n130136  1  0\\n132137  1  0\\n134138  1  0\\n139140  1  0\\n140141  1  0\\n139142  1  0\\n139143  1  0\\n139144  1  0\\n140145  1  0\\n140146  1  0\\n141147  1  0\\n141148  1  0\\n149150  1  0\\n150151  1  0\\n149152  1  0\\n149153  1  0\\n149154  1  0\\n150155  1  0\\n150156  1  0\\n151157  1  0\\n151158  1  0\\n159160  1  0\\n160161  1  0\\n159162  1  0\\n159163  1  0\\n159164  1  0\\n160165  1  0\\n160166  1  0\\n161167  1  0\\n161168  1  0\\n131141  1  0\\n133151  1  0\\n135161  1  0\\nM  END\\n\");\n",
       "viewer_16529451912330525.setStyle({\"stick\": {\"colorscheme\": \"cyanCarbon\"}});\n",
       "viewer_16529451912330525.zoomTo();\n",
       "\tviewer_16529451912330525.setBackgroundColor(\"#000000\");\n",
       "\tviewer_16529451912330525.zoomTo();\n",
       "viewer_16529451912330525.render();\n",
       "});\n",
       "</script>"
      ]
     },
     "metadata": {},
     "output_type": "display_data"
    }
   ],
   "source": [
    "host = stk.BuildingBlock.init_from_molecule(cores[2])\n",
    "\n",
    "guests = (\n",
    "    stk.host_guest.Guest(\n",
    "        building_block=stk.BuildingBlock.init_from_molecule(cores[0]),\n",
    "        displacement=(0, 0, 5),\n",
    "    ),\n",
    "    stk.host_guest.Guest(\n",
    "        building_block=stk.BuildingBlock.init_from_molecule(cores[0]),\n",
    "        displacement=(0, 0, 10),\n",
    "    ),\n",
    "    stk.host_guest.Guest(\n",
    "        building_block=stk.BuildingBlock.init_from_molecule(cores[0]),\n",
    "        displacement=(0, 0, 15),\n",
    "    ),\n",
    ")\n",
    "\n",
    "polymer = stk.ConstructedMolecule(\n",
    "    topology_graph=stk.host_guest.Complex(\n",
    "        host=host,\n",
    "        guests=guests,\n",
    "        optimizer=stk.Spinner(\n",
    "            rotation_step_size=0.0,\n",
    "            step_size=1.5,\n",
    "            num_conformers=100,\n",
    "            nonbond_epsilon=1,\n",
    "        ),\n",
    "    ),\n",
    ")\n",
    "\n",
    "show_stk_mol(polymer)"
   ]
  },
  {
   "cell_type": "code",
   "execution_count": 243,
   "id": "4afc17e4-83a4-4d52-8ae1-873191fc3664",
   "metadata": {},
   "outputs": [
    {
     "data": {
      "application/3dmoljs_load.v0": "<div id=\"3dmolviewer_16529451953808055\"  style=\"position: relative; width: 400px; height: 400px\">\n        <p id=\"3dmolwarning_16529451953808055\" style=\"background-color:#ffcccc;color:black\">You appear to be running in JupyterLab (or JavaScript failed to load for some other reason).  You need to install the 3dmol extension: <br>\n        <tt>jupyter labextension install jupyterlab_3dmol</tt></p>\n        </div>\n<script>\n\nvar loadScriptAsync = function(uri){\n  return new Promise((resolve, reject) => {\n    var tag = document.createElement('script');\n    tag.src = uri;\n    tag.async = true;\n    tag.onload = () => {\n      resolve();\n    };\n  var firstScriptTag = document.getElementsByTagName('script')[0];\n  firstScriptTag.parentNode.insertBefore(tag, firstScriptTag);\n});\n};\n\nif(typeof $3Dmolpromise === 'undefined') {\n$3Dmolpromise = null;\n  $3Dmolpromise = loadScriptAsync('https://3dmol.org/build/3Dmol.js');\n}\n\nvar viewer_16529451953808055 = null;\nvar warn = document.getElementById(\"3dmolwarning_16529451953808055\");\nif(warn) {\n    warn.parentNode.removeChild(warn);\n}\n$3Dmolpromise.then(function() {\nviewer_16529451953808055 = $3Dmol.createViewer($(\"#3dmolviewer_16529451953808055\"),{backgroundColor:\"white\"});\nviewer_16529451953808055.addModel(\"\\n     RDKit          3D\\n\\n168168  0  0  0  0  0  0  0  0999 V2000\\n    1.3321   -1.1599    0.0080 C   0  0  0  0  0  0  0  0  0  0  0  0\\n    2.0286    0.0346    0.0080 C   0  0  0  0  0  0  0  0  0  0  0  0\\n    1.2938    1.2010    0.0080 C   0  0  0  0  0  0  0  0  0  0  0  0\\n   -0.0763    1.2422    0.0080 C   0  0  0  0  0  0  0  0  0  0  0  0\\n   -0.7560    0.0325    0.0080 C   0  0  0  0  0  0  0  0  0  0  0  0\\n   -0.0535   -1.1730    0.0080 C   0  0  0  0  0  0  0  0  0  0  0  0\\n    1.9098   -2.0847    0.0080 H   0  0  0  0  0  0  0  0  0  0  0  0\\n    1.8261    2.1578    0.0080 H   0  0  0  0  0  0  0  0  0  0  0  0\\n   -1.8561    0.0435    0.0080 H   0  0  0  0  0  0  0  0  0  0  0  0\\n    7.1993    1.3253   -0.6966 C   0  0  0  0  0  0  0  0  0  0  0  0\\n    6.9132    0.0445   -1.2454 O   0  0  0  0  0  0  0  0  0  0  0  0\\n    7.1818   -0.8406   -0.2341 C   0  0  0  0  0  0  0  0  0  0  0  0\\n    6.4183   -0.6947    0.8466 O   0  0  0  0  0  0  0  0  0  0  0  0\\n    5.0979   -0.8830    0.8454 C   0  0  0  0  0  0  0  0  0  0  0  0\\n    4.1511   -0.1801    0.0047 C   0  0  0  0  0  3  0  0  0  0  0  0\\n    6.9779    2.0523   -1.4969 H   0  0  0  0  0  0  0  0  0  0  0  0\\n    8.2747    1.3341   -0.4286 H   0  0  0  0  0  0  0  0  0  0  0  0\\n    6.6348    1.5345    0.2025 H   0  0  0  0  0  0  0  0  0  0  0  0\\n    8.2566   -0.6370    0.0766 H   0  0  0  0  0  0  0  0  0  0  0  0\\n    7.2246   -1.8958   -0.6400 H   0  0  0  0  0  0  0  0  0  0  0  0\\n    4.7352   -0.6606    1.9244 H   0  0  0  0  0  0  0  0  0  0  0  0\\n    4.9099   -2.0158    0.7160 H   0  0  0  0  0  0  0  0  0  0  0  0\\n    3.0758   -0.4616    0.1810 H   0  0  0  0  0  0  0  0  0  0  0  0\\n   -3.5551    5.1886   -1.4729 C   0  0  0  0  0  0  0  0  0  0  0  0\\n   -2.9951    5.4136   -0.1848 O   0  0  0  0  0  0  0  0  0  0  0  0\\n   -3.8565    4.7996    0.6865 C   0  0  0  0  0  0  0  0  0  0  0  0\\n   -3.9605    3.4822    0.5259 O   0  0  0  0  0  0  0  0  0  0  0  0\\n   -2.9470    2.6358    0.7143 C   0  0  0  0  0  0  0  0  0  0  0  0\\n   -1.6754    2.6828    0.0228 C   0  0  0  0  0  3  0  0  0  0  0  0\\n   -2.8664    5.6692   -2.1890 H   0  0  0  0  0  0  0  0  0  0  0  0\\n   -4.5527    5.6713   -1.4854 H   0  0  0  0  0  0  0  0  0  0  0  0\\n   -3.6951    4.1388   -1.6943 H   0  0  0  0  0  0  0  0  0  0  0  0\\n   -4.8793    5.2511    0.4787 H   0  0  0  0  0  0  0  0  0  0  0  0\\n   -3.6387    5.1278    1.7471 H   0  0  0  0  0  0  0  0  0  0  0  0\\n   -3.3571    1.5771    0.4772 H   0  0  0  0  0  0  0  0  0  0  0  0\\n   -2.7296    2.6031    1.8487 H   0  0  0  0  0  0  0  0  0  0  0  0\\n   -0.9646    1.8561    0.3019 H   0  0  0  0  0  0  0  0  0  0  0  0\\n   -3.0828   -5.7510   -0.2220 C   0  0  0  0  0  0  0  0  0  0  0  0\\n   -3.5400   -4.7555   -1.1294 O   0  0  0  0  0  0  0  0  0  0  0  0\\n   -4.4809   -4.0460   -0.4298 C   0  0  0  0  0  0  0  0  0  0  0  0\\n   -4.0126   -3.4154    0.6449 O   0  0  0  0  0  0  0  0  0  0  0  0\\n   -3.1130   -2.4323    0.5873 C   0  0  0  0  0  0  0  0  0  0  0  0\\n   -1.7950   -2.5349   -0.0040 C   0  0  0  0  0  3  0  0  0  0  0  0\\n   -2.3151   -6.3264   -0.7678 H   0  0  0  0  0  0  0  0  0  0  0  0\\n   -3.9550   -6.3843    0.0363 H   0  0  0  0  0  0  0  0  0  0  0  0\\n   -2.6938   -5.3360    0.6984 H   0  0  0  0  0  0  0  0  0  0  0  0\\n   -5.2419   -4.8117   -0.0724 H   0  0  0  0  0  0  0  0  0  0  0  0\\n   -5.0804   -3.3934   -1.1333 H   0  0  0  0  0  0  0  0  0  0  0  0\\n   -2.9055   -2.1148    1.6834 H   0  0  0  0  0  0  0  0  0  0  0  0\\n   -3.6357   -1.5115    0.1245 H   0  0  0  0  0  0  0  0  0  0  0  0\\n   -1.1748   -1.5996    0.0798 H   0  0  0  0  0  0  0  0  0  0  0  0\\n    1.0529   -0.8756    5.0025 C   0  0  0  0  0  0  0  0  0  0  0  0\\n    1.7493    0.3188    5.0025 C   0  0  0  0  0  0  0  0  0  0  0  0\\n    1.0146    1.4852    5.0025 C   0  0  0  0  0  0  0  0  0  0  0  0\\n   -0.3555    1.5264    5.0025 C   0  0  0  0  0  0  0  0  0  0  0  0\\n   -1.0352    0.3168    5.0025 C   0  0  0  0  0  0  0  0  0  0  0  0\\n   -0.3327   -0.8887    5.0025 C   0  0  0  0  0  0  0  0  0  0  0  0\\n    1.6306   -1.8005    5.0025 H   0  0  0  0  0  0  0  0  0  0  0  0\\n    1.5469    2.4421    5.0025 H   0  0  0  0  0  0  0  0  0  0  0  0\\n   -2.1353    0.3278    5.0025 H   0  0  0  0  0  0  0  0  0  0  0  0\\n    5.3488   -0.0366    6.2884 C   0  0  0  0  0  0  0  0  0  0  0  0\\n    4.9054   -0.4188    4.8942 C   0  0  0  0  0  0  0  0  0  0  0  0\\n    3.5931    0.3049    4.6388 C   0  0  0  0  0  0  0  0  0  0  0  0\\n    4.9568    0.9529    6.5985 H   0  0  0  0  0  0  0  0  0  0  0  0\\n    5.0509   -0.8151    7.0311 H   0  0  0  0  0  0  0  0  0  0  0  0\\n    6.4649    0.0329    6.3493 H   0  0  0  0  0  0  0  0  0  0  0  0\\n    5.6061   -0.1293    4.1098 H   0  0  0  0  0  0  0  0  0  0  0  0\\n    4.7800   -1.5109    4.8735 H   0  0  0  0  0  0  0  0  0  0  0  0\\n    3.2078    0.1558    3.6280 H   0  0  0  0  0  0  0  0  0  0  0  0\\n    3.6980    1.3968    4.8040 H   0  0  0  0  0  0  0  0  0  0  0  0\\n   -3.7795    2.7137    4.3156 C   0  0  0  0  0  0  0  0  0  0  0  0\\n   -2.8710    3.1112    5.4572 C   0  0  0  0  0  0  0  0  0  0  0  0\\n   -1.4544    2.7613    5.0310 C   0  0  0  0  0  0  0  0  0  0  0  0\\n   -3.2575    2.7277    3.3377 H   0  0  0  0  0  0  0  0  0  0  0  0\\n   -4.2300    1.7078    4.4936 H   0  0  0  0  0  0  0  0  0  0  0  0\\n   -4.6415    3.4228    4.2235 H   0  0  0  0  0  0  0  0  0  0  0  0\\n   -2.8963    4.1753    5.6956 H   0  0  0  0  0  0  0  0  0  0  0  0\\n   -3.1832    2.5407    6.3438 H   0  0  0  0  0  0  0  0  0  0  0  0\\n   -0.6977    3.0676    5.7562 H   0  0  0  0  0  0  0  0  0  0  0  0\\n   -1.2007    3.2297    4.0579 H   0  0  0  0  0  0  0  0  0  0  0  0\\n   -2.3114   -4.0728    4.0582 C   0  0  0  0  0  0  0  0  0  0  0  0\\n   -2.3229   -3.3663    5.3951 C   0  0  0  0  0  0  0  0  0  0  0  0\\n   -1.7813   -1.9663    5.1547 C   0  0  0  0  0  0  0  0  0  0  0  0\\n   -2.3901   -3.3659    3.2078 H   0  0  0  0  0  0  0  0  0  0  0  0\\n   -1.3974   -4.7041    3.9465 H   0  0  0  0  0  0  0  0  0  0  0  0\\n   -3.1802   -4.7736    3.9675 H   0  0  0  0  0  0  0  0  0  0  0  0\\n   -3.3148   -3.2705    5.8388 H   0  0  0  0  0  0  0  0  0  0  0  0\\n   -1.6814   -3.9402    6.0792 H   0  0  0  0  0  0  0  0  0  0  0  0\\n   -1.8054   -1.3355    6.0457 H   0  0  0  0  0  0  0  0  0  0  0  0\\n   -2.3504   -1.4473    4.3564 H   0  0  0  0  0  0  0  0  0  0  0  0\\n    1.0529   -0.8756   10.0025 C   0  0  0  0  0  0  0  0  0  0  0  0\\n    1.7493    0.3188   10.0025 C   0  0  0  0  0  0  0  0  0  0  0  0\\n    1.0146    1.4852   10.0025 C   0  0  0  0  0  0  0  0  0  0  0  0\\n   -0.3555    1.5264   10.0025 C   0  0  0  0  0  0  0  0  0  0  0  0\\n   -1.0352    0.3168   10.0025 C   0  0  0  0  0  0  0  0  0  0  0  0\\n   -0.3327   -0.8887   10.0025 C   0  0  0  0  0  0  0  0  0  0  0  0\\n    1.6306   -1.8005   10.0025 H   0  0  0  0  0  0  0  0  0  0  0  0\\n    1.5469    2.4421   10.0025 H   0  0  0  0  0  0  0  0  0  0  0  0\\n   -2.1353    0.3278   10.0025 H   0  0  0  0  0  0  0  0  0  0  0  0\\n    5.3488   -0.0366   11.2884 C   0  0  0  0  0  0  0  0  0  0  0  0\\n    4.9054   -0.4188    9.8942 C   0  0  0  0  0  0  0  0  0  0  0  0\\n    3.5931    0.3049    9.6388 C   0  0  0  0  0  0  0  0  0  0  0  0\\n    4.9568    0.9529   11.5985 H   0  0  0  0  0  0  0  0  0  0  0  0\\n    5.0509   -0.8151   12.0311 H   0  0  0  0  0  0  0  0  0  0  0  0\\n    6.4649    0.0329   11.3493 H   0  0  0  0  0  0  0  0  0  0  0  0\\n    5.6061   -0.1293    9.1098 H   0  0  0  0  0  0  0  0  0  0  0  0\\n    4.7800   -1.5109    9.8735 H   0  0  0  0  0  0  0  0  0  0  0  0\\n    3.2078    0.1558    8.6280 H   0  0  0  0  0  0  0  0  0  0  0  0\\n    3.6980    1.3968    9.8040 H   0  0  0  0  0  0  0  0  0  0  0  0\\n   -3.7795    2.7137    9.3156 C   0  0  0  0  0  0  0  0  0  0  0  0\\n   -2.8710    3.1112   10.4572 C   0  0  0  0  0  0  0  0  0  0  0  0\\n   -1.4544    2.7613   10.0310 C   0  0  0  0  0  0  0  0  0  0  0  0\\n   -3.2575    2.7277    8.3377 H   0  0  0  0  0  0  0  0  0  0  0  0\\n   -4.2300    1.7078    9.4936 H   0  0  0  0  0  0  0  0  0  0  0  0\\n   -4.6415    3.4228    9.2235 H   0  0  0  0  0  0  0  0  0  0  0  0\\n   -2.8963    4.1753   10.6956 H   0  0  0  0  0  0  0  0  0  0  0  0\\n   -3.1832    2.5407   11.3438 H   0  0  0  0  0  0  0  0  0  0  0  0\\n   -0.6977    3.0676   10.7562 H   0  0  0  0  0  0  0  0  0  0  0  0\\n   -1.2007    3.2297    9.0579 H   0  0  0  0  0  0  0  0  0  0  0  0\\n   -2.3114   -4.0728    9.0582 C   0  0  0  0  0  0  0  0  0  0  0  0\\n   -2.3229   -3.3663   10.3951 C   0  0  0  0  0  0  0  0  0  0  0  0\\n   -1.7813   -1.9663   10.1547 C   0  0  0  0  0  0  0  0  0  0  0  0\\n   -2.3901   -3.3659    8.2078 H   0  0  0  0  0  0  0  0  0  0  0  0\\n   -1.3974   -4.7041    8.9465 H   0  0  0  0  0  0  0  0  0  0  0  0\\n   -3.1802   -4.7736    8.9675 H   0  0  0  0  0  0  0  0  0  0  0  0\\n   -3.3148   -3.2705   10.8388 H   0  0  0  0  0  0  0  0  0  0  0  0\\n   -1.6814   -3.9402   11.0792 H   0  0  0  0  0  0  0  0  0  0  0  0\\n   -1.8054   -1.3355   11.0457 H   0  0  0  0  0  0  0  0  0  0  0  0\\n   -2.3504   -1.4473    9.3564 H   0  0  0  0  0  0  0  0  0  0  0  0\\n    1.0529   -0.8756   15.0025 C   0  0  0  0  0  0  0  0  0  0  0  0\\n    1.7493    0.3188   15.0025 C   0  0  0  0  0  0  0  0  0  0  0  0\\n    1.0146    1.4852   15.0025 C   0  0  0  0  0  0  0  0  0  0  0  0\\n   -0.3555    1.5264   15.0025 C   0  0  0  0  0  0  0  0  0  0  0  0\\n   -1.0352    0.3168   15.0025 C   0  0  0  0  0  0  0  0  0  0  0  0\\n   -0.3327   -0.8887   15.0025 C   0  0  0  0  0  0  0  0  0  0  0  0\\n    1.6306   -1.8005   15.0025 H   0  0  0  0  0  0  0  0  0  0  0  0\\n    1.5469    2.4421   15.0025 H   0  0  0  0  0  0  0  0  0  0  0  0\\n   -2.1353    0.3278   15.0025 H   0  0  0  0  0  0  0  0  0  0  0  0\\n    5.3488   -0.0366   16.2884 C   0  0  0  0  0  0  0  0  0  0  0  0\\n    4.9054   -0.4188   14.8942 C   0  0  0  0  0  0  0  0  0  0  0  0\\n    3.5931    0.3049   14.6388 C   0  0  0  0  0  0  0  0  0  0  0  0\\n    4.9568    0.9529   16.5985 H   0  0  0  0  0  0  0  0  0  0  0  0\\n    5.0509   -0.8151   17.0311 H   0  0  0  0  0  0  0  0  0  0  0  0\\n    6.4649    0.0329   16.3493 H   0  0  0  0  0  0  0  0  0  0  0  0\\n    5.6061   -0.1293   14.1098 H   0  0  0  0  0  0  0  0  0  0  0  0\\n    4.7800   -1.5109   14.8735 H   0  0  0  0  0  0  0  0  0  0  0  0\\n    3.2078    0.1558   13.6280 H   0  0  0  0  0  0  0  0  0  0  0  0\\n    3.6980    1.3968   14.8040 H   0  0  0  0  0  0  0  0  0  0  0  0\\n   -3.7795    2.7137   14.3156 C   0  0  0  0  0  0  0  0  0  0  0  0\\n   -2.8710    3.1112   15.4572 C   0  0  0  0  0  0  0  0  0  0  0  0\\n   -1.4544    2.7613   15.0310 C   0  0  0  0  0  0  0  0  0  0  0  0\\n   -3.2575    2.7277   13.3377 H   0  0  0  0  0  0  0  0  0  0  0  0\\n   -4.2300    1.7078   14.4936 H   0  0  0  0  0  0  0  0  0  0  0  0\\n   -4.6415    3.4228   14.2235 H   0  0  0  0  0  0  0  0  0  0  0  0\\n   -2.8963    4.1753   15.6956 H   0  0  0  0  0  0  0  0  0  0  0  0\\n   -3.1832    2.5407   16.3438 H   0  0  0  0  0  0  0  0  0  0  0  0\\n   -0.6977    3.0676   15.7562 H   0  0  0  0  0  0  0  0  0  0  0  0\\n   -1.2007    3.2297   14.0579 H   0  0  0  0  0  0  0  0  0  0  0  0\\n   -2.3114   -4.0728   14.0582 C   0  0  0  0  0  0  0  0  0  0  0  0\\n   -2.3229   -3.3663   15.3951 C   0  0  0  0  0  0  0  0  0  0  0  0\\n   -1.7813   -1.9663   15.1547 C   0  0  0  0  0  0  0  0  0  0  0  0\\n   -2.3901   -3.3659   13.2078 H   0  0  0  0  0  0  0  0  0  0  0  0\\n   -1.3974   -4.7041   13.9465 H   0  0  0  0  0  0  0  0  0  0  0  0\\n   -3.1802   -4.7736   13.9675 H   0  0  0  0  0  0  0  0  0  0  0  0\\n   -3.3148   -3.2705   15.8388 H   0  0  0  0  0  0  0  0  0  0  0  0\\n   -1.6814   -3.9402   16.0792 H   0  0  0  0  0  0  0  0  0  0  0  0\\n   -1.8054   -1.3355   16.0457 H   0  0  0  0  0  0  0  0  0  0  0  0\\n   -2.3504   -1.4473   14.3564 H   0  0  0  0  0  0  0  0  0  0  0  0\\n  1  2  2  0\\n  2  3  1  0\\n  3  4  2  0\\n  4  5  1  0\\n  5  6  2  0\\n  6  1  1  0\\n  1  7  1  0\\n  3  8  1  0\\n  5  9  1  0\\n 10 11  1  0\\n 11 12  1  0\\n 12 13  1  0\\n 13 14  1  0\\n 14 15  1  0\\n 10 16  1  0\\n 10 17  1  0\\n 10 18  1  0\\n 12 19  1  0\\n 12 20  1  0\\n 14 21  1  0\\n 14 22  1  0\\n 15 23  1  0\\n 24 25  1  0\\n 25 26  1  0\\n 26 27  1  0\\n 27 28  1  0\\n 28 29  1  0\\n 24 30  1  0\\n 24 31  1  0\\n 24 32  1  0\\n 26 33  1  0\\n 26 34  1  0\\n 28 35  1  0\\n 28 36  1  0\\n 29 37  1  0\\n 38 39  1  0\\n 39 40  1  0\\n 40 41  1  0\\n 41 42  1  0\\n 42 43  1  0\\n 38 44  1  0\\n 38 45  1  0\\n 38 46  1  0\\n 40 47  1  0\\n 40 48  1  0\\n 42 49  1  0\\n 42 50  1  0\\n 43 51  1  0\\n  2 15  1  0\\n  4 29  1  0\\n  6 43  1  0\\n 52 53  2  0\\n 53 54  1  0\\n 54 55  2  0\\n 55 56  1  0\\n 56 57  2  0\\n 57 52  1  0\\n 52 58  1  0\\n 54 59  1  0\\n 56 60  1  0\\n 61 62  1  0\\n 62 63  1  0\\n 61 64  1  0\\n 61 65  1  0\\n 61 66  1  0\\n 62 67  1  0\\n 62 68  1  0\\n 63 69  1  0\\n 63 70  1  0\\n 71 72  1  0\\n 72 73  1  0\\n 71 74  1  0\\n 71 75  1  0\\n 71 76  1  0\\n 72 77  1  0\\n 72 78  1  0\\n 73 79  1  0\\n 73 80  1  0\\n 81 82  1  0\\n 82 83  1  0\\n 81 84  1  0\\n 81 85  1  0\\n 81 86  1  0\\n 82 87  1  0\\n 82 88  1  0\\n 83 89  1  0\\n 83 90  1  0\\n 53 63  1  0\\n 55 73  1  0\\n 57 83  1  0\\n 91 92  2  0\\n 92 93  1  0\\n 93 94  2  0\\n 94 95  1  0\\n 95 96  2  0\\n 96 91  1  0\\n 91 97  1  0\\n 93 98  1  0\\n 95 99  1  0\\n100101  1  0\\n101102  1  0\\n100103  1  0\\n100104  1  0\\n100105  1  0\\n101106  1  0\\n101107  1  0\\n102108  1  0\\n102109  1  0\\n110111  1  0\\n111112  1  0\\n110113  1  0\\n110114  1  0\\n110115  1  0\\n111116  1  0\\n111117  1  0\\n112118  1  0\\n112119  1  0\\n120121  1  0\\n121122  1  0\\n120123  1  0\\n120124  1  0\\n120125  1  0\\n121126  1  0\\n121127  1  0\\n122128  1  0\\n122129  1  0\\n 92102  1  0\\n 94112  1  0\\n 96122  1  0\\n130131  2  0\\n131132  1  0\\n132133  2  0\\n133134  1  0\\n134135  2  0\\n135130  1  0\\n130136  1  0\\n132137  1  0\\n134138  1  0\\n139140  1  0\\n140141  1  0\\n139142  1  0\\n139143  1  0\\n139144  1  0\\n140145  1  0\\n140146  1  0\\n141147  1  0\\n141148  1  0\\n149150  1  0\\n150151  1  0\\n149152  1  0\\n149153  1  0\\n149154  1  0\\n150155  1  0\\n150156  1  0\\n151157  1  0\\n151158  1  0\\n159160  1  0\\n160161  1  0\\n159162  1  0\\n159163  1  0\\n159164  1  0\\n160165  1  0\\n160166  1  0\\n161167  1  0\\n161168  1  0\\n131141  1  0\\n133151  1  0\\n135161  1  0\\nM  END\\n\");\nviewer_16529451953808055.setStyle({\"stick\": {\"colorscheme\": \"cyanCarbon\"}});\nviewer_16529451953808055.zoomTo();\n\tviewer_16529451953808055.setBackgroundColor(\"#000000\");\n\tviewer_16529451953808055.zoomTo();\nviewer_16529451953808055.render();\n});\n</script>",
      "text/html": [
       "<div id=\"3dmolviewer_16529451953808055\"  style=\"position: relative; width: 400px; height: 400px\">\n",
       "        <p id=\"3dmolwarning_16529451953808055\" style=\"background-color:#ffcccc;color:black\">You appear to be running in JupyterLab (or JavaScript failed to load for some other reason).  You need to install the 3dmol extension: <br>\n",
       "        <tt>jupyter labextension install jupyterlab_3dmol</tt></p>\n",
       "        </div>\n",
       "<script>\n",
       "\n",
       "var loadScriptAsync = function(uri){\n",
       "  return new Promise((resolve, reject) => {\n",
       "    var tag = document.createElement('script');\n",
       "    tag.src = uri;\n",
       "    tag.async = true;\n",
       "    tag.onload = () => {\n",
       "      resolve();\n",
       "    };\n",
       "  var firstScriptTag = document.getElementsByTagName('script')[0];\n",
       "  firstScriptTag.parentNode.insertBefore(tag, firstScriptTag);\n",
       "});\n",
       "};\n",
       "\n",
       "if(typeof $3Dmolpromise === 'undefined') {\n",
       "$3Dmolpromise = null;\n",
       "  $3Dmolpromise = loadScriptAsync('https://3dmol.org/build/3Dmol.js');\n",
       "}\n",
       "\n",
       "var viewer_16529451953808055 = null;\n",
       "var warn = document.getElementById(\"3dmolwarning_16529451953808055\");\n",
       "if(warn) {\n",
       "    warn.parentNode.removeChild(warn);\n",
       "}\n",
       "$3Dmolpromise.then(function() {\n",
       "viewer_16529451953808055 = $3Dmol.createViewer($(\"#3dmolviewer_16529451953808055\"),{backgroundColor:\"white\"});\n",
       "viewer_16529451953808055.addModel(\"\\n     RDKit          3D\\n\\n168168  0  0  0  0  0  0  0  0999 V2000\\n    1.3321   -1.1599    0.0080 C   0  0  0  0  0  0  0  0  0  0  0  0\\n    2.0286    0.0346    0.0080 C   0  0  0  0  0  0  0  0  0  0  0  0\\n    1.2938    1.2010    0.0080 C   0  0  0  0  0  0  0  0  0  0  0  0\\n   -0.0763    1.2422    0.0080 C   0  0  0  0  0  0  0  0  0  0  0  0\\n   -0.7560    0.0325    0.0080 C   0  0  0  0  0  0  0  0  0  0  0  0\\n   -0.0535   -1.1730    0.0080 C   0  0  0  0  0  0  0  0  0  0  0  0\\n    1.9098   -2.0847    0.0080 H   0  0  0  0  0  0  0  0  0  0  0  0\\n    1.8261    2.1578    0.0080 H   0  0  0  0  0  0  0  0  0  0  0  0\\n   -1.8561    0.0435    0.0080 H   0  0  0  0  0  0  0  0  0  0  0  0\\n    7.1993    1.3253   -0.6966 C   0  0  0  0  0  0  0  0  0  0  0  0\\n    6.9132    0.0445   -1.2454 O   0  0  0  0  0  0  0  0  0  0  0  0\\n    7.1818   -0.8406   -0.2341 C   0  0  0  0  0  0  0  0  0  0  0  0\\n    6.4183   -0.6947    0.8466 O   0  0  0  0  0  0  0  0  0  0  0  0\\n    5.0979   -0.8830    0.8454 C   0  0  0  0  0  0  0  0  0  0  0  0\\n    4.1511   -0.1801    0.0047 C   0  0  0  0  0  3  0  0  0  0  0  0\\n    6.9779    2.0523   -1.4969 H   0  0  0  0  0  0  0  0  0  0  0  0\\n    8.2747    1.3341   -0.4286 H   0  0  0  0  0  0  0  0  0  0  0  0\\n    6.6348    1.5345    0.2025 H   0  0  0  0  0  0  0  0  0  0  0  0\\n    8.2566   -0.6370    0.0766 H   0  0  0  0  0  0  0  0  0  0  0  0\\n    7.2246   -1.8958   -0.6400 H   0  0  0  0  0  0  0  0  0  0  0  0\\n    4.7352   -0.6606    1.9244 H   0  0  0  0  0  0  0  0  0  0  0  0\\n    4.9099   -2.0158    0.7160 H   0  0  0  0  0  0  0  0  0  0  0  0\\n    3.0758   -0.4616    0.1810 H   0  0  0  0  0  0  0  0  0  0  0  0\\n   -3.5551    5.1886   -1.4729 C   0  0  0  0  0  0  0  0  0  0  0  0\\n   -2.9951    5.4136   -0.1848 O   0  0  0  0  0  0  0  0  0  0  0  0\\n   -3.8565    4.7996    0.6865 C   0  0  0  0  0  0  0  0  0  0  0  0\\n   -3.9605    3.4822    0.5259 O   0  0  0  0  0  0  0  0  0  0  0  0\\n   -2.9470    2.6358    0.7143 C   0  0  0  0  0  0  0  0  0  0  0  0\\n   -1.6754    2.6828    0.0228 C   0  0  0  0  0  3  0  0  0  0  0  0\\n   -2.8664    5.6692   -2.1890 H   0  0  0  0  0  0  0  0  0  0  0  0\\n   -4.5527    5.6713   -1.4854 H   0  0  0  0  0  0  0  0  0  0  0  0\\n   -3.6951    4.1388   -1.6943 H   0  0  0  0  0  0  0  0  0  0  0  0\\n   -4.8793    5.2511    0.4787 H   0  0  0  0  0  0  0  0  0  0  0  0\\n   -3.6387    5.1278    1.7471 H   0  0  0  0  0  0  0  0  0  0  0  0\\n   -3.3571    1.5771    0.4772 H   0  0  0  0  0  0  0  0  0  0  0  0\\n   -2.7296    2.6031    1.8487 H   0  0  0  0  0  0  0  0  0  0  0  0\\n   -0.9646    1.8561    0.3019 H   0  0  0  0  0  0  0  0  0  0  0  0\\n   -3.0828   -5.7510   -0.2220 C   0  0  0  0  0  0  0  0  0  0  0  0\\n   -3.5400   -4.7555   -1.1294 O   0  0  0  0  0  0  0  0  0  0  0  0\\n   -4.4809   -4.0460   -0.4298 C   0  0  0  0  0  0  0  0  0  0  0  0\\n   -4.0126   -3.4154    0.6449 O   0  0  0  0  0  0  0  0  0  0  0  0\\n   -3.1130   -2.4323    0.5873 C   0  0  0  0  0  0  0  0  0  0  0  0\\n   -1.7950   -2.5349   -0.0040 C   0  0  0  0  0  3  0  0  0  0  0  0\\n   -2.3151   -6.3264   -0.7678 H   0  0  0  0  0  0  0  0  0  0  0  0\\n   -3.9550   -6.3843    0.0363 H   0  0  0  0  0  0  0  0  0  0  0  0\\n   -2.6938   -5.3360    0.6984 H   0  0  0  0  0  0  0  0  0  0  0  0\\n   -5.2419   -4.8117   -0.0724 H   0  0  0  0  0  0  0  0  0  0  0  0\\n   -5.0804   -3.3934   -1.1333 H   0  0  0  0  0  0  0  0  0  0  0  0\\n   -2.9055   -2.1148    1.6834 H   0  0  0  0  0  0  0  0  0  0  0  0\\n   -3.6357   -1.5115    0.1245 H   0  0  0  0  0  0  0  0  0  0  0  0\\n   -1.1748   -1.5996    0.0798 H   0  0  0  0  0  0  0  0  0  0  0  0\\n    1.0529   -0.8756    5.0025 C   0  0  0  0  0  0  0  0  0  0  0  0\\n    1.7493    0.3188    5.0025 C   0  0  0  0  0  0  0  0  0  0  0  0\\n    1.0146    1.4852    5.0025 C   0  0  0  0  0  0  0  0  0  0  0  0\\n   -0.3555    1.5264    5.0025 C   0  0  0  0  0  0  0  0  0  0  0  0\\n   -1.0352    0.3168    5.0025 C   0  0  0  0  0  0  0  0  0  0  0  0\\n   -0.3327   -0.8887    5.0025 C   0  0  0  0  0  0  0  0  0  0  0  0\\n    1.6306   -1.8005    5.0025 H   0  0  0  0  0  0  0  0  0  0  0  0\\n    1.5469    2.4421    5.0025 H   0  0  0  0  0  0  0  0  0  0  0  0\\n   -2.1353    0.3278    5.0025 H   0  0  0  0  0  0  0  0  0  0  0  0\\n    5.3488   -0.0366    6.2884 C   0  0  0  0  0  0  0  0  0  0  0  0\\n    4.9054   -0.4188    4.8942 C   0  0  0  0  0  0  0  0  0  0  0  0\\n    3.5931    0.3049    4.6388 C   0  0  0  0  0  0  0  0  0  0  0  0\\n    4.9568    0.9529    6.5985 H   0  0  0  0  0  0  0  0  0  0  0  0\\n    5.0509   -0.8151    7.0311 H   0  0  0  0  0  0  0  0  0  0  0  0\\n    6.4649    0.0329    6.3493 H   0  0  0  0  0  0  0  0  0  0  0  0\\n    5.6061   -0.1293    4.1098 H   0  0  0  0  0  0  0  0  0  0  0  0\\n    4.7800   -1.5109    4.8735 H   0  0  0  0  0  0  0  0  0  0  0  0\\n    3.2078    0.1558    3.6280 H   0  0  0  0  0  0  0  0  0  0  0  0\\n    3.6980    1.3968    4.8040 H   0  0  0  0  0  0  0  0  0  0  0  0\\n   -3.7795    2.7137    4.3156 C   0  0  0  0  0  0  0  0  0  0  0  0\\n   -2.8710    3.1112    5.4572 C   0  0  0  0  0  0  0  0  0  0  0  0\\n   -1.4544    2.7613    5.0310 C   0  0  0  0  0  0  0  0  0  0  0  0\\n   -3.2575    2.7277    3.3377 H   0  0  0  0  0  0  0  0  0  0  0  0\\n   -4.2300    1.7078    4.4936 H   0  0  0  0  0  0  0  0  0  0  0  0\\n   -4.6415    3.4228    4.2235 H   0  0  0  0  0  0  0  0  0  0  0  0\\n   -2.8963    4.1753    5.6956 H   0  0  0  0  0  0  0  0  0  0  0  0\\n   -3.1832    2.5407    6.3438 H   0  0  0  0  0  0  0  0  0  0  0  0\\n   -0.6977    3.0676    5.7562 H   0  0  0  0  0  0  0  0  0  0  0  0\\n   -1.2007    3.2297    4.0579 H   0  0  0  0  0  0  0  0  0  0  0  0\\n   -2.3114   -4.0728    4.0582 C   0  0  0  0  0  0  0  0  0  0  0  0\\n   -2.3229   -3.3663    5.3951 C   0  0  0  0  0  0  0  0  0  0  0  0\\n   -1.7813   -1.9663    5.1547 C   0  0  0  0  0  0  0  0  0  0  0  0\\n   -2.3901   -3.3659    3.2078 H   0  0  0  0  0  0  0  0  0  0  0  0\\n   -1.3974   -4.7041    3.9465 H   0  0  0  0  0  0  0  0  0  0  0  0\\n   -3.1802   -4.7736    3.9675 H   0  0  0  0  0  0  0  0  0  0  0  0\\n   -3.3148   -3.2705    5.8388 H   0  0  0  0  0  0  0  0  0  0  0  0\\n   -1.6814   -3.9402    6.0792 H   0  0  0  0  0  0  0  0  0  0  0  0\\n   -1.8054   -1.3355    6.0457 H   0  0  0  0  0  0  0  0  0  0  0  0\\n   -2.3504   -1.4473    4.3564 H   0  0  0  0  0  0  0  0  0  0  0  0\\n    1.0529   -0.8756   10.0025 C   0  0  0  0  0  0  0  0  0  0  0  0\\n    1.7493    0.3188   10.0025 C   0  0  0  0  0  0  0  0  0  0  0  0\\n    1.0146    1.4852   10.0025 C   0  0  0  0  0  0  0  0  0  0  0  0\\n   -0.3555    1.5264   10.0025 C   0  0  0  0  0  0  0  0  0  0  0  0\\n   -1.0352    0.3168   10.0025 C   0  0  0  0  0  0  0  0  0  0  0  0\\n   -0.3327   -0.8887   10.0025 C   0  0  0  0  0  0  0  0  0  0  0  0\\n    1.6306   -1.8005   10.0025 H   0  0  0  0  0  0  0  0  0  0  0  0\\n    1.5469    2.4421   10.0025 H   0  0  0  0  0  0  0  0  0  0  0  0\\n   -2.1353    0.3278   10.0025 H   0  0  0  0  0  0  0  0  0  0  0  0\\n    5.3488   -0.0366   11.2884 C   0  0  0  0  0  0  0  0  0  0  0  0\\n    4.9054   -0.4188    9.8942 C   0  0  0  0  0  0  0  0  0  0  0  0\\n    3.5931    0.3049    9.6388 C   0  0  0  0  0  0  0  0  0  0  0  0\\n    4.9568    0.9529   11.5985 H   0  0  0  0  0  0  0  0  0  0  0  0\\n    5.0509   -0.8151   12.0311 H   0  0  0  0  0  0  0  0  0  0  0  0\\n    6.4649    0.0329   11.3493 H   0  0  0  0  0  0  0  0  0  0  0  0\\n    5.6061   -0.1293    9.1098 H   0  0  0  0  0  0  0  0  0  0  0  0\\n    4.7800   -1.5109    9.8735 H   0  0  0  0  0  0  0  0  0  0  0  0\\n    3.2078    0.1558    8.6280 H   0  0  0  0  0  0  0  0  0  0  0  0\\n    3.6980    1.3968    9.8040 H   0  0  0  0  0  0  0  0  0  0  0  0\\n   -3.7795    2.7137    9.3156 C   0  0  0  0  0  0  0  0  0  0  0  0\\n   -2.8710    3.1112   10.4572 C   0  0  0  0  0  0  0  0  0  0  0  0\\n   -1.4544    2.7613   10.0310 C   0  0  0  0  0  0  0  0  0  0  0  0\\n   -3.2575    2.7277    8.3377 H   0  0  0  0  0  0  0  0  0  0  0  0\\n   -4.2300    1.7078    9.4936 H   0  0  0  0  0  0  0  0  0  0  0  0\\n   -4.6415    3.4228    9.2235 H   0  0  0  0  0  0  0  0  0  0  0  0\\n   -2.8963    4.1753   10.6956 H   0  0  0  0  0  0  0  0  0  0  0  0\\n   -3.1832    2.5407   11.3438 H   0  0  0  0  0  0  0  0  0  0  0  0\\n   -0.6977    3.0676   10.7562 H   0  0  0  0  0  0  0  0  0  0  0  0\\n   -1.2007    3.2297    9.0579 H   0  0  0  0  0  0  0  0  0  0  0  0\\n   -2.3114   -4.0728    9.0582 C   0  0  0  0  0  0  0  0  0  0  0  0\\n   -2.3229   -3.3663   10.3951 C   0  0  0  0  0  0  0  0  0  0  0  0\\n   -1.7813   -1.9663   10.1547 C   0  0  0  0  0  0  0  0  0  0  0  0\\n   -2.3901   -3.3659    8.2078 H   0  0  0  0  0  0  0  0  0  0  0  0\\n   -1.3974   -4.7041    8.9465 H   0  0  0  0  0  0  0  0  0  0  0  0\\n   -3.1802   -4.7736    8.9675 H   0  0  0  0  0  0  0  0  0  0  0  0\\n   -3.3148   -3.2705   10.8388 H   0  0  0  0  0  0  0  0  0  0  0  0\\n   -1.6814   -3.9402   11.0792 H   0  0  0  0  0  0  0  0  0  0  0  0\\n   -1.8054   -1.3355   11.0457 H   0  0  0  0  0  0  0  0  0  0  0  0\\n   -2.3504   -1.4473    9.3564 H   0  0  0  0  0  0  0  0  0  0  0  0\\n    1.0529   -0.8756   15.0025 C   0  0  0  0  0  0  0  0  0  0  0  0\\n    1.7493    0.3188   15.0025 C   0  0  0  0  0  0  0  0  0  0  0  0\\n    1.0146    1.4852   15.0025 C   0  0  0  0  0  0  0  0  0  0  0  0\\n   -0.3555    1.5264   15.0025 C   0  0  0  0  0  0  0  0  0  0  0  0\\n   -1.0352    0.3168   15.0025 C   0  0  0  0  0  0  0  0  0  0  0  0\\n   -0.3327   -0.8887   15.0025 C   0  0  0  0  0  0  0  0  0  0  0  0\\n    1.6306   -1.8005   15.0025 H   0  0  0  0  0  0  0  0  0  0  0  0\\n    1.5469    2.4421   15.0025 H   0  0  0  0  0  0  0  0  0  0  0  0\\n   -2.1353    0.3278   15.0025 H   0  0  0  0  0  0  0  0  0  0  0  0\\n    5.3488   -0.0366   16.2884 C   0  0  0  0  0  0  0  0  0  0  0  0\\n    4.9054   -0.4188   14.8942 C   0  0  0  0  0  0  0  0  0  0  0  0\\n    3.5931    0.3049   14.6388 C   0  0  0  0  0  0  0  0  0  0  0  0\\n    4.9568    0.9529   16.5985 H   0  0  0  0  0  0  0  0  0  0  0  0\\n    5.0509   -0.8151   17.0311 H   0  0  0  0  0  0  0  0  0  0  0  0\\n    6.4649    0.0329   16.3493 H   0  0  0  0  0  0  0  0  0  0  0  0\\n    5.6061   -0.1293   14.1098 H   0  0  0  0  0  0  0  0  0  0  0  0\\n    4.7800   -1.5109   14.8735 H   0  0  0  0  0  0  0  0  0  0  0  0\\n    3.2078    0.1558   13.6280 H   0  0  0  0  0  0  0  0  0  0  0  0\\n    3.6980    1.3968   14.8040 H   0  0  0  0  0  0  0  0  0  0  0  0\\n   -3.7795    2.7137   14.3156 C   0  0  0  0  0  0  0  0  0  0  0  0\\n   -2.8710    3.1112   15.4572 C   0  0  0  0  0  0  0  0  0  0  0  0\\n   -1.4544    2.7613   15.0310 C   0  0  0  0  0  0  0  0  0  0  0  0\\n   -3.2575    2.7277   13.3377 H   0  0  0  0  0  0  0  0  0  0  0  0\\n   -4.2300    1.7078   14.4936 H   0  0  0  0  0  0  0  0  0  0  0  0\\n   -4.6415    3.4228   14.2235 H   0  0  0  0  0  0  0  0  0  0  0  0\\n   -2.8963    4.1753   15.6956 H   0  0  0  0  0  0  0  0  0  0  0  0\\n   -3.1832    2.5407   16.3438 H   0  0  0  0  0  0  0  0  0  0  0  0\\n   -0.6977    3.0676   15.7562 H   0  0  0  0  0  0  0  0  0  0  0  0\\n   -1.2007    3.2297   14.0579 H   0  0  0  0  0  0  0  0  0  0  0  0\\n   -2.3114   -4.0728   14.0582 C   0  0  0  0  0  0  0  0  0  0  0  0\\n   -2.3229   -3.3663   15.3951 C   0  0  0  0  0  0  0  0  0  0  0  0\\n   -1.7813   -1.9663   15.1547 C   0  0  0  0  0  0  0  0  0  0  0  0\\n   -2.3901   -3.3659   13.2078 H   0  0  0  0  0  0  0  0  0  0  0  0\\n   -1.3974   -4.7041   13.9465 H   0  0  0  0  0  0  0  0  0  0  0  0\\n   -3.1802   -4.7736   13.9675 H   0  0  0  0  0  0  0  0  0  0  0  0\\n   -3.3148   -3.2705   15.8388 H   0  0  0  0  0  0  0  0  0  0  0  0\\n   -1.6814   -3.9402   16.0792 H   0  0  0  0  0  0  0  0  0  0  0  0\\n   -1.8054   -1.3355   16.0457 H   0  0  0  0  0  0  0  0  0  0  0  0\\n   -2.3504   -1.4473   14.3564 H   0  0  0  0  0  0  0  0  0  0  0  0\\n  1  2  2  0\\n  2  3  1  0\\n  3  4  2  0\\n  4  5  1  0\\n  5  6  2  0\\n  6  1  1  0\\n  1  7  1  0\\n  3  8  1  0\\n  5  9  1  0\\n 10 11  1  0\\n 11 12  1  0\\n 12 13  1  0\\n 13 14  1  0\\n 14 15  1  0\\n 10 16  1  0\\n 10 17  1  0\\n 10 18  1  0\\n 12 19  1  0\\n 12 20  1  0\\n 14 21  1  0\\n 14 22  1  0\\n 15 23  1  0\\n 24 25  1  0\\n 25 26  1  0\\n 26 27  1  0\\n 27 28  1  0\\n 28 29  1  0\\n 24 30  1  0\\n 24 31  1  0\\n 24 32  1  0\\n 26 33  1  0\\n 26 34  1  0\\n 28 35  1  0\\n 28 36  1  0\\n 29 37  1  0\\n 38 39  1  0\\n 39 40  1  0\\n 40 41  1  0\\n 41 42  1  0\\n 42 43  1  0\\n 38 44  1  0\\n 38 45  1  0\\n 38 46  1  0\\n 40 47  1  0\\n 40 48  1  0\\n 42 49  1  0\\n 42 50  1  0\\n 43 51  1  0\\n  2 15  1  0\\n  4 29  1  0\\n  6 43  1  0\\n 52 53  2  0\\n 53 54  1  0\\n 54 55  2  0\\n 55 56  1  0\\n 56 57  2  0\\n 57 52  1  0\\n 52 58  1  0\\n 54 59  1  0\\n 56 60  1  0\\n 61 62  1  0\\n 62 63  1  0\\n 61 64  1  0\\n 61 65  1  0\\n 61 66  1  0\\n 62 67  1  0\\n 62 68  1  0\\n 63 69  1  0\\n 63 70  1  0\\n 71 72  1  0\\n 72 73  1  0\\n 71 74  1  0\\n 71 75  1  0\\n 71 76  1  0\\n 72 77  1  0\\n 72 78  1  0\\n 73 79  1  0\\n 73 80  1  0\\n 81 82  1  0\\n 82 83  1  0\\n 81 84  1  0\\n 81 85  1  0\\n 81 86  1  0\\n 82 87  1  0\\n 82 88  1  0\\n 83 89  1  0\\n 83 90  1  0\\n 53 63  1  0\\n 55 73  1  0\\n 57 83  1  0\\n 91 92  2  0\\n 92 93  1  0\\n 93 94  2  0\\n 94 95  1  0\\n 95 96  2  0\\n 96 91  1  0\\n 91 97  1  0\\n 93 98  1  0\\n 95 99  1  0\\n100101  1  0\\n101102  1  0\\n100103  1  0\\n100104  1  0\\n100105  1  0\\n101106  1  0\\n101107  1  0\\n102108  1  0\\n102109  1  0\\n110111  1  0\\n111112  1  0\\n110113  1  0\\n110114  1  0\\n110115  1  0\\n111116  1  0\\n111117  1  0\\n112118  1  0\\n112119  1  0\\n120121  1  0\\n121122  1  0\\n120123  1  0\\n120124  1  0\\n120125  1  0\\n121126  1  0\\n121127  1  0\\n122128  1  0\\n122129  1  0\\n 92102  1  0\\n 94112  1  0\\n 96122  1  0\\n130131  2  0\\n131132  1  0\\n132133  2  0\\n133134  1  0\\n134135  2  0\\n135130  1  0\\n130136  1  0\\n132137  1  0\\n134138  1  0\\n139140  1  0\\n140141  1  0\\n139142  1  0\\n139143  1  0\\n139144  1  0\\n140145  1  0\\n140146  1  0\\n141147  1  0\\n141148  1  0\\n149150  1  0\\n150151  1  0\\n149152  1  0\\n149153  1  0\\n149154  1  0\\n150155  1  0\\n150156  1  0\\n151157  1  0\\n151158  1  0\\n159160  1  0\\n160161  1  0\\n159162  1  0\\n159163  1  0\\n159164  1  0\\n160165  1  0\\n160166  1  0\\n161167  1  0\\n161168  1  0\\n131141  1  0\\n133151  1  0\\n135161  1  0\\nM  END\\n\");\n",
       "viewer_16529451953808055.setStyle({\"stick\": {\"colorscheme\": \"cyanCarbon\"}});\n",
       "viewer_16529451953808055.zoomTo();\n",
       "\tviewer_16529451953808055.setBackgroundColor(\"#000000\");\n",
       "\tviewer_16529451953808055.zoomTo();\n",
       "viewer_16529451953808055.render();\n",
       "});\n",
       "</script>"
      ]
     },
     "metadata": {},
     "output_type": "display_data"
    }
   ],
   "source": [
    "host = stk.BuildingBlock.init_from_molecule(cores[2])\n",
    "\n",
    "guests = (\n",
    "    stk.host_guest.Guest(\n",
    "        building_block=stk.BuildingBlock.init_from_molecule(cores[0]),\n",
    "        displacement=(0, 0, 5),\n",
    "    ),\n",
    "    stk.host_guest.Guest(\n",
    "        building_block=stk.BuildingBlock.init_from_molecule(cores[0]),\n",
    "        displacement=(0, 0, 10),\n",
    "    ),\n",
    "    stk.host_guest.Guest(\n",
    "        building_block=stk.BuildingBlock.init_from_molecule(cores[0]),\n",
    "        displacement=(0, 0, 15),\n",
    "    ),\n",
    ")\n",
    "\n",
    "polymer = stk.ConstructedMolecule(\n",
    "    topology_graph=stk.host_guest.Complex(\n",
    "        host=host,\n",
    "        guests=guests,\n",
    "    ),\n",
    ")\n",
    "show_stk_mol(polymer)"
   ]
  },
  {
   "cell_type": "code",
   "execution_count": 244,
   "id": "e22ded99-1576-460f-b052-b84ff5493b8d",
   "metadata": {},
   "outputs": [
    {
     "data": {
      "application/3dmoljs_load.v0": "<div id=\"3dmolviewer_16529451985099714\"  style=\"position: relative; width: 400px; height: 400px\">\n        <p id=\"3dmolwarning_16529451985099714\" style=\"background-color:#ffcccc;color:black\">You appear to be running in JupyterLab (or JavaScript failed to load for some other reason).  You need to install the 3dmol extension: <br>\n        <tt>jupyter labextension install jupyterlab_3dmol</tt></p>\n        </div>\n<script>\n\nvar loadScriptAsync = function(uri){\n  return new Promise((resolve, reject) => {\n    var tag = document.createElement('script');\n    tag.src = uri;\n    tag.async = true;\n    tag.onload = () => {\n      resolve();\n    };\n  var firstScriptTag = document.getElementsByTagName('script')[0];\n  firstScriptTag.parentNode.insertBefore(tag, firstScriptTag);\n});\n};\n\nif(typeof $3Dmolpromise === 'undefined') {\n$3Dmolpromise = null;\n  $3Dmolpromise = loadScriptAsync('https://3dmol.org/build/3Dmol.js');\n}\n\nvar viewer_16529451985099714 = null;\nvar warn = document.getElementById(\"3dmolwarning_16529451985099714\");\nif(warn) {\n    warn.parentNode.removeChild(warn);\n}\n$3Dmolpromise.then(function() {\nviewer_16529451985099714 = $3Dmol.createViewer($(\"#3dmolviewer_16529451985099714\"),{backgroundColor:\"white\"});\nviewer_16529451985099714.addModel(\"\\n     RDKit          3D\\n\\n168168  0  0  0  0  0  0  0  0999 V2000\\n    1.0540   -1.0795    0.5618 C   0  0  0  0  0  0  0  0  0  0  0  0\\n    1.7419    0.1053    0.2612 C   0  0  0  0  0  0  0  0  0  0  0  0\\n    0.8465    1.2975    0.2187 C   0  0  0  0  0  0  0  0  0  0  0  0\\n   -0.5534    1.2895    0.5333 C   0  0  0  0  0  0  0  0  0  0  0  0\\n   -1.1661   -0.0850    0.5560 C   0  0  0  0  0  0  0  0  0  0  0  0\\n   -0.3955   -1.2410    0.6637 C   0  0  0  0  0  0  0  0  0  0  0  0\\n    1.7753   -1.9674    0.8203 H   0  0  0  0  0  0  0  0  0  0  0  0\\n    1.3310    2.2588    0.2505 H   0  0  0  0  0  0  0  0  0  0  0  0\\n   -2.3171   -0.1668    0.5227 H   0  0  0  0  0  0  0  0  0  0  0  0\\n    7.1367    1.4602   -0.9503 C   0  0  0  0  0  0  0  0  0  0  0  0\\n    6.6444    0.2312   -1.3380 O   0  0  0  0  0  0  0  0  0  0  0  0\\n    6.6771   -0.6403   -0.2231 C   0  0  0  0  0  0  0  0  0  0  0  0\\n    5.8173   -0.1588    0.8286 O   0  0  0  0  0  0  0  0  0  0  0  0\\n    4.4633   -0.6809    0.8146 C   0  0  0  0  0  0  0  0  0  0  0  0\\n    3.2984    0.3725    0.5119 C   0  0  0  0  0  3  0  0  0  0  0  0\\n    6.9267    2.1926   -1.6774 H   0  0  0  0  0  0  0  0  0  0  0  0\\n    8.2409    1.4140   -0.7664 H   0  0  0  0  0  0  0  0  0  0  0  0\\n    6.6536    1.9031    0.0080 H   0  0  0  0  0  0  0  0  0  0  0  0\\n    7.7312   -0.6466    0.1718 H   0  0  0  0  0  0  0  0  0  0  0  0\\n    6.4821   -1.6897   -0.4866 H   0  0  0  0  0  0  0  0  0  0  0  0\\n    4.3760   -0.9146    1.8656 H   0  0  0  0  0  0  0  0  0  0  0  0\\n    4.3747   -1.6672    0.2873 H   0  0  0  0  0  0  0  0  0  0  0  0\\n    3.0107    0.6705    1.5383 H   0  0  0  0  0  0  0  0  0  0  0  0\\n   -3.3642    5.6927   -1.4589 C   0  0  0  0  0  0  0  0  0  0  0  0\\n   -2.7268    5.2249   -0.3166 O   0  0  0  0  0  0  0  0  0  0  0  0\\n   -3.6445    4.7239    0.6000 C   0  0  0  0  0  0  0  0  0  0  0  0\\n   -4.0269    3.4459    0.2168 O   0  0  0  0  0  0  0  0  0  0  0  0\\n   -3.0423    2.4119    0.4992 C   0  0  0  0  0  0  0  0  0  0  0  0\\n   -1.5076    2.6324    0.6246 C   0  0  0  0  0  3  0  0  0  0  0  0\\n   -2.6102    6.0017   -2.2034 H   0  0  0  0  0  0  0  0  0  0  0  0\\n   -4.1038    6.4599   -1.2627 H   0  0  0  0  0  0  0  0  0  0  0  0\\n   -3.8386    4.8097   -1.9875 H   0  0  0  0  0  0  0  0  0  0  0  0\\n   -4.5357    5.4146    0.6654 H   0  0  0  0  0  0  0  0  0  0  0  0\\n   -3.2380    4.7122    1.6136 H   0  0  0  0  0  0  0  0  0  0  0  0\\n   -3.1999    1.7221   -0.3957 H   0  0  0  0  0  0  0  0  0  0  0  0\\n   -3.4810    1.7674    1.3908 H   0  0  0  0  0  0  0  0  0  0  0  0\\n   -1.3651    3.4670    1.3827 H   0  0  0  0  0  0  0  0  0  0  0  0\\n   -3.1233   -6.3202   -0.7119 C   0  0  0  0  0  0  0  0  0  0  0  0\\n   -4.2889   -5.5435   -1.0066 O   0  0  0  0  0  0  0  0  0  0  0  0\\n   -4.2724   -4.2312   -0.4428 C   0  0  0  0  0  0  0  0  0  0  0  0\\n   -3.1799   -3.9305    0.4434 O   0  0  0  0  0  0  0  0  0  0  0  0\\n   -2.5743   -2.6286    0.1742 C   0  0  0  0  0  0  0  0  0  0  0  0\\n   -1.0931   -2.5959    0.6119 C   0  0  0  0  0  3  0  0  0  0  0  0\\n   -2.7475   -6.8372   -1.6042 H   0  0  0  0  0  0  0  0  0  0  0  0\\n   -3.4363   -7.2032   -0.0779 H   0  0  0  0  0  0  0  0  0  0  0  0\\n   -2.2320   -5.7470   -0.3597 H   0  0  0  0  0  0  0  0  0  0  0  0\\n   -5.2427   -4.3148    0.2015 H   0  0  0  0  0  0  0  0  0  0  0  0\\n   -4.5089   -3.5103   -1.2590 H   0  0  0  0  0  0  0  0  0  0  0  0\\n   -3.1107   -1.9832    0.9516 H   0  0  0  0  0  0  0  0  0  0  0  0\\n   -2.4369   -2.4262   -0.9753 H   0  0  0  0  0  0  0  0  0  0  0  0\\n   -0.5328   -2.9340   -0.2485 H   0  0  0  0  0  0  0  0  0  0  0  0\\n    0.8294   -1.0938    4.9716 C   0  0  0  0  0  0  0  0  0  0  0  0\\n    1.7147    0.0322    4.8133 C   0  0  0  0  0  0  0  0  0  0  0  0\\n    1.1730    1.3294    4.8985 C   0  0  0  0  0  0  0  0  0  0  0  0\\n   -0.2417    1.5337    4.9589 C   0  0  0  0  0  0  0  0  0  0  0  0\\n   -1.0390    0.4129    4.8223 C   0  0  0  0  0  0  0  0  0  0  0  0\\n   -0.5812   -0.9179    5.0177 C   0  0  0  0  0  0  0  0  0  0  0  0\\n    1.2806   -2.1008    5.1115 H   0  0  0  0  0  0  0  0  0  0  0  0\\n    1.8504    2.1750    5.0234 H   0  0  0  0  0  0  0  0  0  0  0  0\\n   -2.1245    0.4383    4.7880 H   0  0  0  0  0  0  0  0  0  0  0  0\\n    4.9997    0.1731    6.2086 C   0  0  0  0  0  0  0  0  0  0  0  0\\n    4.4441   -0.6054    5.0169 C   0  0  0  0  0  0  0  0  0  0  0  0\\n    3.1645   -0.0616    4.2766 C   0  0  0  0  0  0  0  0  0  0  0  0\\n    4.3736    1.0498    6.5213 H   0  0  0  0  0  0  0  0  0  0  0  0\\n    5.1018   -0.5337    7.0796 H   0  0  0  0  0  0  0  0  0  0  0  0\\n    5.9969    0.5666    5.9998 H   0  0  0  0  0  0  0  0  0  0  0  0\\n    5.2721   -0.5598    4.2542 H   0  0  0  0  0  0  0  0  0  0  0  0\\n    4.3371   -1.6777    5.2466 H   0  0  0  0  0  0  0  0  0  0  0  0\\n    3.0504   -0.6963    3.3638 H   0  0  0  0  0  0  0  0  0  0  0  0\\n    3.4746    0.9406    3.8507 H   0  0  0  0  0  0  0  0  0  0  0  0\\n   -3.0797    2.6138    3.9107 C   0  0  0  0  0  0  0  0  0  0  0  0\\n   -2.4139    3.0179    5.2786 C   0  0  0  0  0  0  0  0  0  0  0  0\\n   -0.8351    2.8691    5.3806 C   0  0  0  0  0  0  0  0  0  0  0  0\\n   -2.2644    2.5923    3.1229 H   0  0  0  0  0  0  0  0  0  0  0  0\\n   -3.6754    1.6606    4.0749 H   0  0  0  0  0  0  0  0  0  0  0  0\\n   -3.7855    3.4005    3.6091 H   0  0  0  0  0  0  0  0  0  0  0  0\\n   -2.7234    4.0792    5.5077 H   0  0  0  0  0  0  0  0  0  0  0  0\\n   -2.8045    2.3455    6.0706 H   0  0  0  0  0  0  0  0  0  0  0  0\\n   -0.5680    2.9612    6.4768 H   0  0  0  0  0  0  0  0  0  0  0  0\\n   -0.3065    3.7855    4.9754 H   0  0  0  0  0  0  0  0  0  0  0  0\\n   -2.3178   -3.4048    3.9099 C   0  0  0  0  0  0  0  0  0  0  0  0\\n   -1.9369   -3.2596    5.3915 C   0  0  0  0  0  0  0  0  0  0  0  0\\n   -1.4508   -1.8261    5.8627 C   0  0  0  0  0  0  0  0  0  0  0  0\\n   -2.3670   -2.4331    3.3269 H   0  0  0  0  0  0  0  0  0  0  0  0\\n   -1.6472   -4.1309    3.3573 H   0  0  0  0  0  0  0  0  0  0  0  0\\n   -3.3412   -3.8687    3.7942 H   0  0  0  0  0  0  0  0  0  0  0  0\\n   -2.8765   -3.5615    5.9261 H   0  0  0  0  0  0  0  0  0  0  0  0\\n   -1.2126   -4.0529    5.6560 H   0  0  0  0  0  0  0  0  0  0  0  0\\n   -1.0637   -1.7909    6.9090 H   0  0  0  0  0  0  0  0  0  0  0  0\\n   -2.4581   -1.3101    5.9727 H   0  0  0  0  0  0  0  0  0  0  0  0\\n    0.8979   -0.9667   10.0056 C   0  0  0  0  0  0  0  0  0  0  0  0\\n    1.6876    0.2223    9.8725 C   0  0  0  0  0  0  0  0  0  0  0  0\\n    0.9683    1.4651    9.8781 C   0  0  0  0  0  0  0  0  0  0  0  0\\n   -0.4416    1.5121    9.8215 C   0  0  0  0  0  0  0  0  0  0  0  0\\n   -1.1163    0.3333    9.6291 C   0  0  0  0  0  0  0  0  0  0  0  0\\n   -0.5321   -0.9152    9.9036 C   0  0  0  0  0  0  0  0  0  0  0  0\\n    1.4066   -1.9141   10.1948 H   0  0  0  0  0  0  0  0  0  0  0  0\\n    1.5315    2.3893    9.8911 H   0  0  0  0  0  0  0  0  0  0  0  0\\n   -2.1694    0.3216    9.4218 H   0  0  0  0  0  0  0  0  0  0  0  0\\n    5.0383   -0.0668   11.3566 C   0  0  0  0  0  0  0  0  0  0  0  0\\n    4.3122   -0.5661   10.0734 C   0  0  0  0  0  0  0  0  0  0  0  0\\n    3.1900    0.3217    9.5125 C   0  0  0  0  0  0  0  0  0  0  0  0\\n    4.6190    0.8910   11.7314 H   0  0  0  0  0  0  0  0  0  0  0  0\\n    5.0268   -0.8550   12.1277 H   0  0  0  0  0  0  0  0  0  0  0  0\\n    6.0895    0.1261   11.1200 H   0  0  0  0  0  0  0  0  0  0  0  0\\n    5.1183   -0.5640    9.3079 H   0  0  0  0  0  0  0  0  0  0  0  0\\n    4.0013   -1.6415   10.1567 H   0  0  0  0  0  0  0  0  0  0  0  0\\n    3.2086    0.1992    8.3930 H   0  0  0  0  0  0  0  0  0  0  0  0\\n    3.5330    1.3848    9.6231 H   0  0  0  0  0  0  0  0  0  0  0  0\\n   -3.7134    2.6475    9.1261 C   0  0  0  0  0  0  0  0  0  0  0  0\\n   -2.6955    2.8511   10.2346 C   0  0  0  0  0  0  0  0  0  0  0  0\\n   -1.1802    2.8546    9.8292 C   0  0  0  0  0  0  0  0  0  0  0  0\\n   -3.3095    2.8952    8.1310 H   0  0  0  0  0  0  0  0  0  0  0  0\\n   -4.1323    1.5956    9.1322 H   0  0  0  0  0  0  0  0  0  0  0  0\\n   -4.5848    3.2994    9.2962 H   0  0  0  0  0  0  0  0  0  0  0  0\\n   -2.9023    3.9285   10.5932 H   0  0  0  0  0  0  0  0  0  0  0  0\\n   -2.8779    2.2110   11.0955 H   0  0  0  0  0  0  0  0  0  0  0  0\\n   -0.6564    3.5183   10.5429 H   0  0  0  0  0  0  0  0  0  0  0  0\\n   -1.0295    3.3681    8.8554 H   0  0  0  0  0  0  0  0  0  0  0  0\\n   -2.0949   -3.7740    9.0359 C   0  0  0  0  0  0  0  0  0  0  0  0\\n   -1.7268   -3.3297   10.4809 C   0  0  0  0  0  0  0  0  0  0  0  0\\n   -1.4629   -1.8172   10.6974 C   0  0  0  0  0  0  0  0  0  0  0  0\\n   -2.2444   -2.9055    8.3452 H   0  0  0  0  0  0  0  0  0  0  0  0\\n   -1.3482   -4.4872    8.6226 H   0  0  0  0  0  0  0  0  0  0  0  0\\n   -3.0769   -4.2936    9.0565 H   0  0  0  0  0  0  0  0  0  0  0  0\\n   -2.6375   -3.5905   11.0557 H   0  0  0  0  0  0  0  0  0  0  0  0\\n   -0.9177   -3.9694   10.8729 H   0  0  0  0  0  0  0  0  0  0  0  0\\n   -1.2560   -1.5791   11.7722 H   0  0  0  0  0  0  0  0  0  0  0  0\\n   -2.5078   -1.4231   10.5534 H   0  0  0  0  0  0  0  0  0  0  0  0\\n    0.8478   -0.9770   15.0542 C   0  0  0  0  0  0  0  0  0  0  0  0\\n    1.6443    0.2193   14.9119 C   0  0  0  0  0  0  0  0  0  0  0  0\\n    0.9556    1.4499   14.9016 C   0  0  0  0  0  0  0  0  0  0  0  0\\n   -0.4586    1.5236   14.9039 C   0  0  0  0  0  0  0  0  0  0  0  0\\n   -1.1554    0.3732   14.8169 C   0  0  0  0  0  0  0  0  0  0  0  0\\n   -0.5633   -0.9023   15.0080 C   0  0  0  0  0  0  0  0  0  0  0  0\\n    1.3660   -1.9299   15.2075 H   0  0  0  0  0  0  0  0  0  0  0  0\\n    1.5163    2.3815   14.8547 H   0  0  0  0  0  0  0  0  0  0  0  0\\n   -2.2330    0.3639   14.6805 H   0  0  0  0  0  0  0  0  0  0  0  0\\n    4.9307   -0.0451   16.4209 C   0  0  0  0  0  0  0  0  0  0  0  0\\n    4.3309   -0.5497   15.1027 C   0  0  0  0  0  0  0  0  0  0  0  0\\n    3.1462    0.3053   14.4999 C   0  0  0  0  0  0  0  0  0  0  0  0\\n    4.6959    1.0100   16.6403 H   0  0  0  0  0  0  0  0  0  0  0  0\\n    4.6446   -0.7078   17.2660 H   0  0  0  0  0  0  0  0  0  0  0  0\\n    6.0284   -0.1273   16.3443 H   0  0  0  0  0  0  0  0  0  0  0  0\\n    5.1410   -0.4211   14.3623 H   0  0  0  0  0  0  0  0  0  0  0  0\\n    4.0717   -1.6242   15.1163 H   0  0  0  0  0  0  0  0  0  0  0  0\\n    3.1471    0.1015   13.4040 H   0  0  0  0  0  0  0  0  0  0  0  0\\n    3.4884    1.3556   14.5484 H   0  0  0  0  0  0  0  0  0  0  0  0\\n   -3.7253    2.6613   14.1965 C   0  0  0  0  0  0  0  0  0  0  0  0\\n   -2.6855    2.9511   15.3197 C   0  0  0  0  0  0  0  0  0  0  0  0\\n   -1.1773    2.8743   14.8856 C   0  0  0  0  0  0  0  0  0  0  0  0\\n   -3.3001    2.8555   13.1799 H   0  0  0  0  0  0  0  0  0  0  0  0\\n   -4.1568    1.6651   14.2730 H   0  0  0  0  0  0  0  0  0  0  0  0\\n   -4.5705    3.3802   14.3499 H   0  0  0  0  0  0  0  0  0  0  0  0\\n   -2.8636    3.9947   15.6384 H   0  0  0  0  0  0  0  0  0  0  0  0\\n   -2.8688    2.3111   16.1991 H   0  0  0  0  0  0  0  0  0  0  0  0\\n   -0.6281    3.5655   15.5725 H   0  0  0  0  0  0  0  0  0  0  0  0\\n   -1.0427    3.3651   13.8916 H   0  0  0  0  0  0  0  0  0  0  0  0\\n   -2.0503   -3.8060   14.0240 C   0  0  0  0  0  0  0  0  0  0  0  0\\n   -1.6831   -3.3985   15.4652 C   0  0  0  0  0  0  0  0  0  0  0  0\\n   -1.5297   -1.8766   15.7099 C   0  0  0  0  0  0  0  0  0  0  0  0\\n   -2.1049   -2.9405   13.3199 H   0  0  0  0  0  0  0  0  0  0  0  0\\n   -1.3557   -4.5847   13.6314 H   0  0  0  0  0  0  0  0  0  0  0  0\\n   -3.0781   -4.2549   14.0102 H   0  0  0  0  0  0  0  0  0  0  0  0\\n   -2.5715   -3.7150   16.0628 H   0  0  0  0  0  0  0  0  0  0  0  0\\n   -0.8228   -3.9692   15.8246 H   0  0  0  0  0  0  0  0  0  0  0  0\\n   -1.4056   -1.6555   16.7942 H   0  0  0  0  0  0  0  0  0  0  0  0\\n   -2.5722   -1.5286   15.4833 H   0  0  0  0  0  0  0  0  0  0  0  0\\n  1  2  2  0\\n  2  3  1  0\\n  3  4  2  0\\n  4  5  1  0\\n  5  6  2  0\\n  6  1  1  0\\n  1  7  1  0\\n  3  8  1  0\\n  5  9  1  0\\n 10 11  1  0\\n 11 12  1  0\\n 12 13  1  0\\n 13 14  1  0\\n 14 15  1  0\\n 10 16  1  0\\n 10 17  1  0\\n 10 18  1  0\\n 12 19  1  0\\n 12 20  1  0\\n 14 21  1  0\\n 14 22  1  0\\n 15 23  1  0\\n 24 25  1  0\\n 25 26  1  0\\n 26 27  1  0\\n 27 28  1  0\\n 28 29  1  0\\n 24 30  1  0\\n 24 31  1  0\\n 24 32  1  0\\n 26 33  1  0\\n 26 34  1  0\\n 28 35  1  0\\n 28 36  1  0\\n 29 37  1  0\\n 38 39  1  0\\n 39 40  1  0\\n 40 41  1  0\\n 41 42  1  0\\n 42 43  1  0\\n 38 44  1  0\\n 38 45  1  0\\n 38 46  1  0\\n 40 47  1  0\\n 40 48  1  0\\n 42 49  1  0\\n 42 50  1  0\\n 43 51  1  0\\n  2 15  1  0\\n  4 29  1  0\\n  6 43  1  0\\n 52 53  2  0\\n 53 54  1  0\\n 54 55  2  0\\n 55 56  1  0\\n 56 57  2  0\\n 57 52  1  0\\n 52 58  1  0\\n 54 59  1  0\\n 56 60  1  0\\n 61 62  1  0\\n 62 63  1  0\\n 61 64  1  0\\n 61 65  1  0\\n 61 66  1  0\\n 62 67  1  0\\n 62 68  1  0\\n 63 69  1  0\\n 63 70  1  0\\n 71 72  1  0\\n 72 73  1  0\\n 71 74  1  0\\n 71 75  1  0\\n 71 76  1  0\\n 72 77  1  0\\n 72 78  1  0\\n 73 79  1  0\\n 73 80  1  0\\n 81 82  1  0\\n 82 83  1  0\\n 81 84  1  0\\n 81 85  1  0\\n 81 86  1  0\\n 82 87  1  0\\n 82 88  1  0\\n 83 89  1  0\\n 83 90  1  0\\n 53 63  1  0\\n 55 73  1  0\\n 57 83  1  0\\n 91 92  2  0\\n 92 93  1  0\\n 93 94  2  0\\n 94 95  1  0\\n 95 96  2  0\\n 96 91  1  0\\n 91 97  1  0\\n 93 98  1  0\\n 95 99  1  0\\n100101  1  0\\n101102  1  0\\n100103  1  0\\n100104  1  0\\n100105  1  0\\n101106  1  0\\n101107  1  0\\n102108  1  0\\n102109  1  0\\n110111  1  0\\n111112  1  0\\n110113  1  0\\n110114  1  0\\n110115  1  0\\n111116  1  0\\n111117  1  0\\n112118  1  0\\n112119  1  0\\n120121  1  0\\n121122  1  0\\n120123  1  0\\n120124  1  0\\n120125  1  0\\n121126  1  0\\n121127  1  0\\n122128  1  0\\n122129  1  0\\n 92102  1  0\\n 94112  1  0\\n 96122  1  0\\n130131  2  0\\n131132  1  0\\n132133  2  0\\n133134  1  0\\n134135  2  0\\n135130  1  0\\n130136  1  0\\n132137  1  0\\n134138  1  0\\n139140  1  0\\n140141  1  0\\n139142  1  0\\n139143  1  0\\n139144  1  0\\n140145  1  0\\n140146  1  0\\n141147  1  0\\n141148  1  0\\n149150  1  0\\n150151  1  0\\n149152  1  0\\n149153  1  0\\n149154  1  0\\n150155  1  0\\n150156  1  0\\n151157  1  0\\n151158  1  0\\n159160  1  0\\n160161  1  0\\n159162  1  0\\n159163  1  0\\n159164  1  0\\n160165  1  0\\n160166  1  0\\n161167  1  0\\n161168  1  0\\n131141  1  0\\n133151  1  0\\n135161  1  0\\nM  END\\n\");\nviewer_16529451985099714.setStyle({\"stick\": {\"colorscheme\": \"cyanCarbon\"}});\nviewer_16529451985099714.zoomTo();\n\tviewer_16529451985099714.setBackgroundColor(\"#000000\");\n\tviewer_16529451985099714.zoomTo();\nviewer_16529451985099714.render();\n});\n</script>",
      "text/html": [
       "<div id=\"3dmolviewer_16529451985099714\"  style=\"position: relative; width: 400px; height: 400px\">\n",
       "        <p id=\"3dmolwarning_16529451985099714\" style=\"background-color:#ffcccc;color:black\">You appear to be running in JupyterLab (or JavaScript failed to load for some other reason).  You need to install the 3dmol extension: <br>\n",
       "        <tt>jupyter labextension install jupyterlab_3dmol</tt></p>\n",
       "        </div>\n",
       "<script>\n",
       "\n",
       "var loadScriptAsync = function(uri){\n",
       "  return new Promise((resolve, reject) => {\n",
       "    var tag = document.createElement('script');\n",
       "    tag.src = uri;\n",
       "    tag.async = true;\n",
       "    tag.onload = () => {\n",
       "      resolve();\n",
       "    };\n",
       "  var firstScriptTag = document.getElementsByTagName('script')[0];\n",
       "  firstScriptTag.parentNode.insertBefore(tag, firstScriptTag);\n",
       "});\n",
       "};\n",
       "\n",
       "if(typeof $3Dmolpromise === 'undefined') {\n",
       "$3Dmolpromise = null;\n",
       "  $3Dmolpromise = loadScriptAsync('https://3dmol.org/build/3Dmol.js');\n",
       "}\n",
       "\n",
       "var viewer_16529451985099714 = null;\n",
       "var warn = document.getElementById(\"3dmolwarning_16529451985099714\");\n",
       "if(warn) {\n",
       "    warn.parentNode.removeChild(warn);\n",
       "}\n",
       "$3Dmolpromise.then(function() {\n",
       "viewer_16529451985099714 = $3Dmol.createViewer($(\"#3dmolviewer_16529451985099714\"),{backgroundColor:\"white\"});\n",
       "viewer_16529451985099714.addModel(\"\\n     RDKit          3D\\n\\n168168  0  0  0  0  0  0  0  0999 V2000\\n    1.0540   -1.0795    0.5618 C   0  0  0  0  0  0  0  0  0  0  0  0\\n    1.7419    0.1053    0.2612 C   0  0  0  0  0  0  0  0  0  0  0  0\\n    0.8465    1.2975    0.2187 C   0  0  0  0  0  0  0  0  0  0  0  0\\n   -0.5534    1.2895    0.5333 C   0  0  0  0  0  0  0  0  0  0  0  0\\n   -1.1661   -0.0850    0.5560 C   0  0  0  0  0  0  0  0  0  0  0  0\\n   -0.3955   -1.2410    0.6637 C   0  0  0  0  0  0  0  0  0  0  0  0\\n    1.7753   -1.9674    0.8203 H   0  0  0  0  0  0  0  0  0  0  0  0\\n    1.3310    2.2588    0.2505 H   0  0  0  0  0  0  0  0  0  0  0  0\\n   -2.3171   -0.1668    0.5227 H   0  0  0  0  0  0  0  0  0  0  0  0\\n    7.1367    1.4602   -0.9503 C   0  0  0  0  0  0  0  0  0  0  0  0\\n    6.6444    0.2312   -1.3380 O   0  0  0  0  0  0  0  0  0  0  0  0\\n    6.6771   -0.6403   -0.2231 C   0  0  0  0  0  0  0  0  0  0  0  0\\n    5.8173   -0.1588    0.8286 O   0  0  0  0  0  0  0  0  0  0  0  0\\n    4.4633   -0.6809    0.8146 C   0  0  0  0  0  0  0  0  0  0  0  0\\n    3.2984    0.3725    0.5119 C   0  0  0  0  0  3  0  0  0  0  0  0\\n    6.9267    2.1926   -1.6774 H   0  0  0  0  0  0  0  0  0  0  0  0\\n    8.2409    1.4140   -0.7664 H   0  0  0  0  0  0  0  0  0  0  0  0\\n    6.6536    1.9031    0.0080 H   0  0  0  0  0  0  0  0  0  0  0  0\\n    7.7312   -0.6466    0.1718 H   0  0  0  0  0  0  0  0  0  0  0  0\\n    6.4821   -1.6897   -0.4866 H   0  0  0  0  0  0  0  0  0  0  0  0\\n    4.3760   -0.9146    1.8656 H   0  0  0  0  0  0  0  0  0  0  0  0\\n    4.3747   -1.6672    0.2873 H   0  0  0  0  0  0  0  0  0  0  0  0\\n    3.0107    0.6705    1.5383 H   0  0  0  0  0  0  0  0  0  0  0  0\\n   -3.3642    5.6927   -1.4589 C   0  0  0  0  0  0  0  0  0  0  0  0\\n   -2.7268    5.2249   -0.3166 O   0  0  0  0  0  0  0  0  0  0  0  0\\n   -3.6445    4.7239    0.6000 C   0  0  0  0  0  0  0  0  0  0  0  0\\n   -4.0269    3.4459    0.2168 O   0  0  0  0  0  0  0  0  0  0  0  0\\n   -3.0423    2.4119    0.4992 C   0  0  0  0  0  0  0  0  0  0  0  0\\n   -1.5076    2.6324    0.6246 C   0  0  0  0  0  3  0  0  0  0  0  0\\n   -2.6102    6.0017   -2.2034 H   0  0  0  0  0  0  0  0  0  0  0  0\\n   -4.1038    6.4599   -1.2627 H   0  0  0  0  0  0  0  0  0  0  0  0\\n   -3.8386    4.8097   -1.9875 H   0  0  0  0  0  0  0  0  0  0  0  0\\n   -4.5357    5.4146    0.6654 H   0  0  0  0  0  0  0  0  0  0  0  0\\n   -3.2380    4.7122    1.6136 H   0  0  0  0  0  0  0  0  0  0  0  0\\n   -3.1999    1.7221   -0.3957 H   0  0  0  0  0  0  0  0  0  0  0  0\\n   -3.4810    1.7674    1.3908 H   0  0  0  0  0  0  0  0  0  0  0  0\\n   -1.3651    3.4670    1.3827 H   0  0  0  0  0  0  0  0  0  0  0  0\\n   -3.1233   -6.3202   -0.7119 C   0  0  0  0  0  0  0  0  0  0  0  0\\n   -4.2889   -5.5435   -1.0066 O   0  0  0  0  0  0  0  0  0  0  0  0\\n   -4.2724   -4.2312   -0.4428 C   0  0  0  0  0  0  0  0  0  0  0  0\\n   -3.1799   -3.9305    0.4434 O   0  0  0  0  0  0  0  0  0  0  0  0\\n   -2.5743   -2.6286    0.1742 C   0  0  0  0  0  0  0  0  0  0  0  0\\n   -1.0931   -2.5959    0.6119 C   0  0  0  0  0  3  0  0  0  0  0  0\\n   -2.7475   -6.8372   -1.6042 H   0  0  0  0  0  0  0  0  0  0  0  0\\n   -3.4363   -7.2032   -0.0779 H   0  0  0  0  0  0  0  0  0  0  0  0\\n   -2.2320   -5.7470   -0.3597 H   0  0  0  0  0  0  0  0  0  0  0  0\\n   -5.2427   -4.3148    0.2015 H   0  0  0  0  0  0  0  0  0  0  0  0\\n   -4.5089   -3.5103   -1.2590 H   0  0  0  0  0  0  0  0  0  0  0  0\\n   -3.1107   -1.9832    0.9516 H   0  0  0  0  0  0  0  0  0  0  0  0\\n   -2.4369   -2.4262   -0.9753 H   0  0  0  0  0  0  0  0  0  0  0  0\\n   -0.5328   -2.9340   -0.2485 H   0  0  0  0  0  0  0  0  0  0  0  0\\n    0.8294   -1.0938    4.9716 C   0  0  0  0  0  0  0  0  0  0  0  0\\n    1.7147    0.0322    4.8133 C   0  0  0  0  0  0  0  0  0  0  0  0\\n    1.1730    1.3294    4.8985 C   0  0  0  0  0  0  0  0  0  0  0  0\\n   -0.2417    1.5337    4.9589 C   0  0  0  0  0  0  0  0  0  0  0  0\\n   -1.0390    0.4129    4.8223 C   0  0  0  0  0  0  0  0  0  0  0  0\\n   -0.5812   -0.9179    5.0177 C   0  0  0  0  0  0  0  0  0  0  0  0\\n    1.2806   -2.1008    5.1115 H   0  0  0  0  0  0  0  0  0  0  0  0\\n    1.8504    2.1750    5.0234 H   0  0  0  0  0  0  0  0  0  0  0  0\\n   -2.1245    0.4383    4.7880 H   0  0  0  0  0  0  0  0  0  0  0  0\\n    4.9997    0.1731    6.2086 C   0  0  0  0  0  0  0  0  0  0  0  0\\n    4.4441   -0.6054    5.0169 C   0  0  0  0  0  0  0  0  0  0  0  0\\n    3.1645   -0.0616    4.2766 C   0  0  0  0  0  0  0  0  0  0  0  0\\n    4.3736    1.0498    6.5213 H   0  0  0  0  0  0  0  0  0  0  0  0\\n    5.1018   -0.5337    7.0796 H   0  0  0  0  0  0  0  0  0  0  0  0\\n    5.9969    0.5666    5.9998 H   0  0  0  0  0  0  0  0  0  0  0  0\\n    5.2721   -0.5598    4.2542 H   0  0  0  0  0  0  0  0  0  0  0  0\\n    4.3371   -1.6777    5.2466 H   0  0  0  0  0  0  0  0  0  0  0  0\\n    3.0504   -0.6963    3.3638 H   0  0  0  0  0  0  0  0  0  0  0  0\\n    3.4746    0.9406    3.8507 H   0  0  0  0  0  0  0  0  0  0  0  0\\n   -3.0797    2.6138    3.9107 C   0  0  0  0  0  0  0  0  0  0  0  0\\n   -2.4139    3.0179    5.2786 C   0  0  0  0  0  0  0  0  0  0  0  0\\n   -0.8351    2.8691    5.3806 C   0  0  0  0  0  0  0  0  0  0  0  0\\n   -2.2644    2.5923    3.1229 H   0  0  0  0  0  0  0  0  0  0  0  0\\n   -3.6754    1.6606    4.0749 H   0  0  0  0  0  0  0  0  0  0  0  0\\n   -3.7855    3.4005    3.6091 H   0  0  0  0  0  0  0  0  0  0  0  0\\n   -2.7234    4.0792    5.5077 H   0  0  0  0  0  0  0  0  0  0  0  0\\n   -2.8045    2.3455    6.0706 H   0  0  0  0  0  0  0  0  0  0  0  0\\n   -0.5680    2.9612    6.4768 H   0  0  0  0  0  0  0  0  0  0  0  0\\n   -0.3065    3.7855    4.9754 H   0  0  0  0  0  0  0  0  0  0  0  0\\n   -2.3178   -3.4048    3.9099 C   0  0  0  0  0  0  0  0  0  0  0  0\\n   -1.9369   -3.2596    5.3915 C   0  0  0  0  0  0  0  0  0  0  0  0\\n   -1.4508   -1.8261    5.8627 C   0  0  0  0  0  0  0  0  0  0  0  0\\n   -2.3670   -2.4331    3.3269 H   0  0  0  0  0  0  0  0  0  0  0  0\\n   -1.6472   -4.1309    3.3573 H   0  0  0  0  0  0  0  0  0  0  0  0\\n   -3.3412   -3.8687    3.7942 H   0  0  0  0  0  0  0  0  0  0  0  0\\n   -2.8765   -3.5615    5.9261 H   0  0  0  0  0  0  0  0  0  0  0  0\\n   -1.2126   -4.0529    5.6560 H   0  0  0  0  0  0  0  0  0  0  0  0\\n   -1.0637   -1.7909    6.9090 H   0  0  0  0  0  0  0  0  0  0  0  0\\n   -2.4581   -1.3101    5.9727 H   0  0  0  0  0  0  0  0  0  0  0  0\\n    0.8979   -0.9667   10.0056 C   0  0  0  0  0  0  0  0  0  0  0  0\\n    1.6876    0.2223    9.8725 C   0  0  0  0  0  0  0  0  0  0  0  0\\n    0.9683    1.4651    9.8781 C   0  0  0  0  0  0  0  0  0  0  0  0\\n   -0.4416    1.5121    9.8215 C   0  0  0  0  0  0  0  0  0  0  0  0\\n   -1.1163    0.3333    9.6291 C   0  0  0  0  0  0  0  0  0  0  0  0\\n   -0.5321   -0.9152    9.9036 C   0  0  0  0  0  0  0  0  0  0  0  0\\n    1.4066   -1.9141   10.1948 H   0  0  0  0  0  0  0  0  0  0  0  0\\n    1.5315    2.3893    9.8911 H   0  0  0  0  0  0  0  0  0  0  0  0\\n   -2.1694    0.3216    9.4218 H   0  0  0  0  0  0  0  0  0  0  0  0\\n    5.0383   -0.0668   11.3566 C   0  0  0  0  0  0  0  0  0  0  0  0\\n    4.3122   -0.5661   10.0734 C   0  0  0  0  0  0  0  0  0  0  0  0\\n    3.1900    0.3217    9.5125 C   0  0  0  0  0  0  0  0  0  0  0  0\\n    4.6190    0.8910   11.7314 H   0  0  0  0  0  0  0  0  0  0  0  0\\n    5.0268   -0.8550   12.1277 H   0  0  0  0  0  0  0  0  0  0  0  0\\n    6.0895    0.1261   11.1200 H   0  0  0  0  0  0  0  0  0  0  0  0\\n    5.1183   -0.5640    9.3079 H   0  0  0  0  0  0  0  0  0  0  0  0\\n    4.0013   -1.6415   10.1567 H   0  0  0  0  0  0  0  0  0  0  0  0\\n    3.2086    0.1992    8.3930 H   0  0  0  0  0  0  0  0  0  0  0  0\\n    3.5330    1.3848    9.6231 H   0  0  0  0  0  0  0  0  0  0  0  0\\n   -3.7134    2.6475    9.1261 C   0  0  0  0  0  0  0  0  0  0  0  0\\n   -2.6955    2.8511   10.2346 C   0  0  0  0  0  0  0  0  0  0  0  0\\n   -1.1802    2.8546    9.8292 C   0  0  0  0  0  0  0  0  0  0  0  0\\n   -3.3095    2.8952    8.1310 H   0  0  0  0  0  0  0  0  0  0  0  0\\n   -4.1323    1.5956    9.1322 H   0  0  0  0  0  0  0  0  0  0  0  0\\n   -4.5848    3.2994    9.2962 H   0  0  0  0  0  0  0  0  0  0  0  0\\n   -2.9023    3.9285   10.5932 H   0  0  0  0  0  0  0  0  0  0  0  0\\n   -2.8779    2.2110   11.0955 H   0  0  0  0  0  0  0  0  0  0  0  0\\n   -0.6564    3.5183   10.5429 H   0  0  0  0  0  0  0  0  0  0  0  0\\n   -1.0295    3.3681    8.8554 H   0  0  0  0  0  0  0  0  0  0  0  0\\n   -2.0949   -3.7740    9.0359 C   0  0  0  0  0  0  0  0  0  0  0  0\\n   -1.7268   -3.3297   10.4809 C   0  0  0  0  0  0  0  0  0  0  0  0\\n   -1.4629   -1.8172   10.6974 C   0  0  0  0  0  0  0  0  0  0  0  0\\n   -2.2444   -2.9055    8.3452 H   0  0  0  0  0  0  0  0  0  0  0  0\\n   -1.3482   -4.4872    8.6226 H   0  0  0  0  0  0  0  0  0  0  0  0\\n   -3.0769   -4.2936    9.0565 H   0  0  0  0  0  0  0  0  0  0  0  0\\n   -2.6375   -3.5905   11.0557 H   0  0  0  0  0  0  0  0  0  0  0  0\\n   -0.9177   -3.9694   10.8729 H   0  0  0  0  0  0  0  0  0  0  0  0\\n   -1.2560   -1.5791   11.7722 H   0  0  0  0  0  0  0  0  0  0  0  0\\n   -2.5078   -1.4231   10.5534 H   0  0  0  0  0  0  0  0  0  0  0  0\\n    0.8478   -0.9770   15.0542 C   0  0  0  0  0  0  0  0  0  0  0  0\\n    1.6443    0.2193   14.9119 C   0  0  0  0  0  0  0  0  0  0  0  0\\n    0.9556    1.4499   14.9016 C   0  0  0  0  0  0  0  0  0  0  0  0\\n   -0.4586    1.5236   14.9039 C   0  0  0  0  0  0  0  0  0  0  0  0\\n   -1.1554    0.3732   14.8169 C   0  0  0  0  0  0  0  0  0  0  0  0\\n   -0.5633   -0.9023   15.0080 C   0  0  0  0  0  0  0  0  0  0  0  0\\n    1.3660   -1.9299   15.2075 H   0  0  0  0  0  0  0  0  0  0  0  0\\n    1.5163    2.3815   14.8547 H   0  0  0  0  0  0  0  0  0  0  0  0\\n   -2.2330    0.3639   14.6805 H   0  0  0  0  0  0  0  0  0  0  0  0\\n    4.9307   -0.0451   16.4209 C   0  0  0  0  0  0  0  0  0  0  0  0\\n    4.3309   -0.5497   15.1027 C   0  0  0  0  0  0  0  0  0  0  0  0\\n    3.1462    0.3053   14.4999 C   0  0  0  0  0  0  0  0  0  0  0  0\\n    4.6959    1.0100   16.6403 H   0  0  0  0  0  0  0  0  0  0  0  0\\n    4.6446   -0.7078   17.2660 H   0  0  0  0  0  0  0  0  0  0  0  0\\n    6.0284   -0.1273   16.3443 H   0  0  0  0  0  0  0  0  0  0  0  0\\n    5.1410   -0.4211   14.3623 H   0  0  0  0  0  0  0  0  0  0  0  0\\n    4.0717   -1.6242   15.1163 H   0  0  0  0  0  0  0  0  0  0  0  0\\n    3.1471    0.1015   13.4040 H   0  0  0  0  0  0  0  0  0  0  0  0\\n    3.4884    1.3556   14.5484 H   0  0  0  0  0  0  0  0  0  0  0  0\\n   -3.7253    2.6613   14.1965 C   0  0  0  0  0  0  0  0  0  0  0  0\\n   -2.6855    2.9511   15.3197 C   0  0  0  0  0  0  0  0  0  0  0  0\\n   -1.1773    2.8743   14.8856 C   0  0  0  0  0  0  0  0  0  0  0  0\\n   -3.3001    2.8555   13.1799 H   0  0  0  0  0  0  0  0  0  0  0  0\\n   -4.1568    1.6651   14.2730 H   0  0  0  0  0  0  0  0  0  0  0  0\\n   -4.5705    3.3802   14.3499 H   0  0  0  0  0  0  0  0  0  0  0  0\\n   -2.8636    3.9947   15.6384 H   0  0  0  0  0  0  0  0  0  0  0  0\\n   -2.8688    2.3111   16.1991 H   0  0  0  0  0  0  0  0  0  0  0  0\\n   -0.6281    3.5655   15.5725 H   0  0  0  0  0  0  0  0  0  0  0  0\\n   -1.0427    3.3651   13.8916 H   0  0  0  0  0  0  0  0  0  0  0  0\\n   -2.0503   -3.8060   14.0240 C   0  0  0  0  0  0  0  0  0  0  0  0\\n   -1.6831   -3.3985   15.4652 C   0  0  0  0  0  0  0  0  0  0  0  0\\n   -1.5297   -1.8766   15.7099 C   0  0  0  0  0  0  0  0  0  0  0  0\\n   -2.1049   -2.9405   13.3199 H   0  0  0  0  0  0  0  0  0  0  0  0\\n   -1.3557   -4.5847   13.6314 H   0  0  0  0  0  0  0  0  0  0  0  0\\n   -3.0781   -4.2549   14.0102 H   0  0  0  0  0  0  0  0  0  0  0  0\\n   -2.5715   -3.7150   16.0628 H   0  0  0  0  0  0  0  0  0  0  0  0\\n   -0.8228   -3.9692   15.8246 H   0  0  0  0  0  0  0  0  0  0  0  0\\n   -1.4056   -1.6555   16.7942 H   0  0  0  0  0  0  0  0  0  0  0  0\\n   -2.5722   -1.5286   15.4833 H   0  0  0  0  0  0  0  0  0  0  0  0\\n  1  2  2  0\\n  2  3  1  0\\n  3  4  2  0\\n  4  5  1  0\\n  5  6  2  0\\n  6  1  1  0\\n  1  7  1  0\\n  3  8  1  0\\n  5  9  1  0\\n 10 11  1  0\\n 11 12  1  0\\n 12 13  1  0\\n 13 14  1  0\\n 14 15  1  0\\n 10 16  1  0\\n 10 17  1  0\\n 10 18  1  0\\n 12 19  1  0\\n 12 20  1  0\\n 14 21  1  0\\n 14 22  1  0\\n 15 23  1  0\\n 24 25  1  0\\n 25 26  1  0\\n 26 27  1  0\\n 27 28  1  0\\n 28 29  1  0\\n 24 30  1  0\\n 24 31  1  0\\n 24 32  1  0\\n 26 33  1  0\\n 26 34  1  0\\n 28 35  1  0\\n 28 36  1  0\\n 29 37  1  0\\n 38 39  1  0\\n 39 40  1  0\\n 40 41  1  0\\n 41 42  1  0\\n 42 43  1  0\\n 38 44  1  0\\n 38 45  1  0\\n 38 46  1  0\\n 40 47  1  0\\n 40 48  1  0\\n 42 49  1  0\\n 42 50  1  0\\n 43 51  1  0\\n  2 15  1  0\\n  4 29  1  0\\n  6 43  1  0\\n 52 53  2  0\\n 53 54  1  0\\n 54 55  2  0\\n 55 56  1  0\\n 56 57  2  0\\n 57 52  1  0\\n 52 58  1  0\\n 54 59  1  0\\n 56 60  1  0\\n 61 62  1  0\\n 62 63  1  0\\n 61 64  1  0\\n 61 65  1  0\\n 61 66  1  0\\n 62 67  1  0\\n 62 68  1  0\\n 63 69  1  0\\n 63 70  1  0\\n 71 72  1  0\\n 72 73  1  0\\n 71 74  1  0\\n 71 75  1  0\\n 71 76  1  0\\n 72 77  1  0\\n 72 78  1  0\\n 73 79  1  0\\n 73 80  1  0\\n 81 82  1  0\\n 82 83  1  0\\n 81 84  1  0\\n 81 85  1  0\\n 81 86  1  0\\n 82 87  1  0\\n 82 88  1  0\\n 83 89  1  0\\n 83 90  1  0\\n 53 63  1  0\\n 55 73  1  0\\n 57 83  1  0\\n 91 92  2  0\\n 92 93  1  0\\n 93 94  2  0\\n 94 95  1  0\\n 95 96  2  0\\n 96 91  1  0\\n 91 97  1  0\\n 93 98  1  0\\n 95 99  1  0\\n100101  1  0\\n101102  1  0\\n100103  1  0\\n100104  1  0\\n100105  1  0\\n101106  1  0\\n101107  1  0\\n102108  1  0\\n102109  1  0\\n110111  1  0\\n111112  1  0\\n110113  1  0\\n110114  1  0\\n110115  1  0\\n111116  1  0\\n111117  1  0\\n112118  1  0\\n112119  1  0\\n120121  1  0\\n121122  1  0\\n120123  1  0\\n120124  1  0\\n120125  1  0\\n121126  1  0\\n121127  1  0\\n122128  1  0\\n122129  1  0\\n 92102  1  0\\n 94112  1  0\\n 96122  1  0\\n130131  2  0\\n131132  1  0\\n132133  2  0\\n133134  1  0\\n134135  2  0\\n135130  1  0\\n130136  1  0\\n132137  1  0\\n134138  1  0\\n139140  1  0\\n140141  1  0\\n139142  1  0\\n139143  1  0\\n139144  1  0\\n140145  1  0\\n140146  1  0\\n141147  1  0\\n141148  1  0\\n149150  1  0\\n150151  1  0\\n149152  1  0\\n149153  1  0\\n149154  1  0\\n150155  1  0\\n150156  1  0\\n151157  1  0\\n151158  1  0\\n159160  1  0\\n160161  1  0\\n159162  1  0\\n159163  1  0\\n159164  1  0\\n160165  1  0\\n160166  1  0\\n161167  1  0\\n161168  1  0\\n131141  1  0\\n133151  1  0\\n135161  1  0\\nM  END\\n\");\n",
       "viewer_16529451985099714.setStyle({\"stick\": {\"colorscheme\": \"cyanCarbon\"}});\n",
       "viewer_16529451985099714.zoomTo();\n",
       "\tviewer_16529451985099714.setBackgroundColor(\"#000000\");\n",
       "\tviewer_16529451985099714.zoomTo();\n",
       "viewer_16529451985099714.render();\n",
       "});\n",
       "</script>"
      ]
     },
     "metadata": {},
     "output_type": "display_data"
    }
   ],
   "source": [
    "opt = stko.UFF(ignore_inter_interactions=False)\n",
    "polymer = opt.optimize(polymer)\n",
    "show_stk_mol(polymer)"
   ]
  },
  {
   "cell_type": "code",
   "execution_count": null,
   "id": "45934d6a-60c8-47e9-98d0-83540f2a7908",
   "metadata": {},
   "outputs": [],
   "source": []
  }
 ],
 "metadata": {
  "kernelspec": {
   "display_name": "suprapolymer",
   "language": "python",
   "name": "suprapolymer"
  },
  "language_info": {
   "codemirror_mode": {
    "name": "ipython",
    "version": 3
   },
   "file_extension": ".py",
   "mimetype": "text/x-python",
   "name": "python",
   "nbconvert_exporter": "python",
   "pygments_lexer": "ipython3",
   "version": "3.9.0"
  }
 },
 "nbformat": 4,
 "nbformat_minor": 5
}
