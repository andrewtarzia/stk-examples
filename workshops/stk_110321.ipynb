{
 "cells": [
  {
   "cell_type": "markdown",
   "metadata": {
    "id": "KwVJ_GZ1iepz"
   },
   "source": [
    "# stk Workshop\n",
    "\n",
    "by: Steven Bennett and Andrew Tarzia"
   ]
  },
  {
   "cell_type": "markdown",
   "metadata": {},
   "source": [
    "### Update 25/02/24\n",
    "\n",
    "Installation of py3Dmol using `pip install py3Dmol` is required.\n",
    "\n",
    "*This code requires some prepared .mol files, which are not with the repository!*"
   ]
  },
  {
   "cell_type": "markdown",
   "metadata": {},
   "source": [
    "# Install conda env!"
   ]
  },
  {
   "cell_type": "markdown",
   "metadata": {},
   "source": [
    "# Imports "
   ]
  },
  {
   "cell_type": "code",
   "execution_count": 1,
   "metadata": {
    "id": "VMIP6XDKoo06"
   },
   "outputs": [],
   "source": [
    "import sys\n",
    "sys.path.append('/usr/local/lib/python3.7/site-packages/')\n",
    "\n",
    "from rdkit import Chem \n",
    "from rdkit.Chem import AllChem as rdkit\n",
    "from collections import defaultdict\n",
    "from rdkit.Chem import rdFMCS\n",
    "from rdkit.Chem import Draw\n",
    "from rdkit.Chem.Draw import IPythonConsole\n",
    "from rdkit.Chem import rdDistGeom\n",
    "IPythonConsole.ipython_3d = True\n",
    "\n",
    "import py3Dmol\n",
    "from IPython.display import Image\n",
    "import matplotlib.pyplot as plt\n",
    "import subprocess\n",
    "import time\n",
    "import stk\n",
    "import stko"
   ]
  },
  {
   "cell_type": "markdown",
   "metadata": {},
   "source": [
    "# Some useful functions "
   ]
  },
  {
   "cell_type": "code",
   "execution_count": 2,
   "metadata": {
    "id": "Wu-nsRJ7pav4"
   },
   "outputs": [],
   "source": [
    "def show_stk_mol(stk_mol):\n",
    "    data = rdkit.MolToMolBlock(stk_mol.to_rdkit_mol())\n",
    "    p = py3Dmol.view(\n",
    "        data=data,\n",
    "        style={'stick':{'colorscheme':'cyanCarbon'}}, \n",
    "        width=400,\n",
    "        height=400,\n",
    "    )\n",
    "    p.setBackgroundColor('0xeeeeee')\n",
    "    p.zoomTo()\n",
    "    p.show()"
   ]
  },
  {
   "cell_type": "markdown",
   "metadata": {},
   "source": [
    "# What is in a Molecule? "
   ]
  },
  {
   "cell_type": "code",
   "execution_count": 3,
   "metadata": {},
   "outputs": [
    {
     "data": {
      "text/plain": [
       "stk._internal.constructed_molecule.ConstructedMolecule"
      ]
     },
     "execution_count": 3,
     "metadata": {},
     "output_type": "execute_result"
    }
   ],
   "source": [
    "stk.Molecule  # Do not use me.\n",
    "stk.BuildingBlock  # Use me to make\n",
    "stk.ConstructedMolecule # me."
   ]
  },
  {
   "cell_type": "code",
   "execution_count": 4,
   "metadata": {},
   "outputs": [],
   "source": [
    "# Defining \n",
    "molecule = stk.BuildingBlock('C1C(=C)CC(C)CCC1=C')  # Uses ETKDG!!!!!! Be aware.\n",
    "# molecule = stk.BuildingBlock.init_from_file('.mol') # What\n",
    "# molecule = stk.BuildingBlock.init_from_file('.sdf') # Do you\n",
    "# molecule = stk.BuildingBlock.init_from_file('.pdb') # Notice?\n",
    "# molecule = stk.BuildingBlock.init_from_molecule(molecule)  # stk.Molecule\n",
    "# molecule = stk.BuildingBlock.init_from_rdkit_mol(rdkit_molecule)"
   ]
  },
  {
   "cell_type": "code",
   "execution_count": 5,
   "metadata": {},
   "outputs": [
    {
     "data": {
      "application/3dmoljs_load.v0": "<div id=\"3dmolviewer_1708894015764154\"  style=\"position: relative; width: 400px; height: 400px;\">\n        <p id=\"3dmolwarning_1708894015764154\" style=\"background-color:#ffcccc;color:black\">You appear to be running in JupyterLab (or JavaScript failed to load for some other reason).  You need to install the 3dmol extension: <br>\n        <tt>jupyter labextension install jupyterlab_3dmol</tt></p>\n        </div>\n<script>\n\nvar loadScriptAsync = function(uri){\n  return new Promise((resolve, reject) => {\n    //this is to ignore the existence of requirejs amd\n    var savedexports, savedmodule;\n    if (typeof exports !== 'undefined') savedexports = exports;\n    else exports = {}\n    if (typeof module !== 'undefined') savedmodule = module;\n    else module = {}\n\n    var tag = document.createElement('script');\n    tag.src = uri;\n    tag.async = true;\n    tag.onload = () => {\n        exports = savedexports;\n        module = savedmodule;\n        resolve();\n    };\n  var firstScriptTag = document.getElementsByTagName('script')[0];\n  firstScriptTag.parentNode.insertBefore(tag, firstScriptTag);\n});\n};\n\nif(typeof $3Dmolpromise === 'undefined') {\n$3Dmolpromise = null;\n  $3Dmolpromise = loadScriptAsync('https://cdnjs.cloudflare.com/ajax/libs/3Dmol/2.0.4/3Dmol-min.js');\n}\n\nvar viewer_1708894015764154 = null;\nvar warn = document.getElementById(\"3dmolwarning_1708894015764154\");\nif(warn) {\n    warn.parentNode.removeChild(warn);\n}\n$3Dmolpromise.then(function() {\nviewer_1708894015764154 = $3Dmol.createViewer(document.getElementById(\"3dmolviewer_1708894015764154\"),{backgroundColor:\"white\"});\nviewer_1708894015764154.addModel(\"\\n     RDKit          3D\\n\\n 26 26  0  0  0  0  0  0  0  0999 V2000\\n   -1.8009    0.2539    0.1948 C   0  0  0  0  0  0  0  0  0  0  0  0\\n   -1.1640   -0.9577   -0.3592 C   0  0  0  0  0  0  0  0  0  0  0  0\\n   -1.9768   -1.9418   -0.6856 C   0  0  0  0  0  0  0  0  0  0  0  0\\n    0.2692   -1.2307   -0.6036 C   0  0  0  0  0  0  0  0  0  0  0  0\\n    1.0691   -0.6232    0.5121 C   0  0  0  0  0  0  0  0  0  0  0  0\\n    2.3870   -1.3901    0.5748 C   0  0  0  0  0  0  0  0  0  0  0  0\\n    1.4239    0.8198    0.2532 C   0  0  0  0  0  0  0  0  0  0  0  0\\n    0.3202    1.7693    0.6369 C   0  0  0  0  0  0  0  0  0  0  0  0\\n   -0.9668    1.4789    0.0084 C   0  0  0  0  0  0  0  0  0  0  0  0\\n   -1.4748    2.3831   -0.8232 C   0  0  0  0  0  0  0  0  0  0  0  0\\n   -1.9366    0.1635    1.3125 H   0  0  0  0  0  0  0  0  0  0  0  0\\n   -2.8291    0.4094   -0.2053 H   0  0  0  0  0  0  0  0  0  0  0  0\\n   -1.6477   -2.8863   -1.1019 H   0  0  0  0  0  0  0  0  0  0  0  0\\n   -3.0531   -1.8366   -0.5429 H   0  0  0  0  0  0  0  0  0  0  0  0\\n    0.4539   -2.3245   -0.6933 H   0  0  0  0  0  0  0  0  0  0  0  0\\n    0.5443   -0.6800   -1.5400 H   0  0  0  0  0  0  0  0  0  0  0  0\\n    0.5826   -0.7610    1.4850 H   0  0  0  0  0  0  0  0  0  0  0  0\\n    2.2637   -2.4051    0.9648 H   0  0  0  0  0  0  0  0  0  0  0  0\\n    3.1393   -0.8329    1.1884 H   0  0  0  0  0  0  0  0  0  0  0  0\\n    2.8188   -1.4018   -0.4643 H   0  0  0  0  0  0  0  0  0  0  0  0\\n    1.7371    0.9099   -0.7871 H   0  0  0  0  0  0  0  0  0  0  0  0\\n    2.3011    1.0531    0.8936 H   0  0  0  0  0  0  0  0  0  0  0  0\\n    0.6579    2.7868    0.3393 H   0  0  0  0  0  0  0  0  0  0  0  0\\n    0.2156    1.7266    1.7561 H   0  0  0  0  0  0  0  0  0  0  0  0\\n   -0.9092    3.2911   -0.9939 H   0  0  0  0  0  0  0  0  0  0  0  0\\n   -2.4245    2.2261   -1.3198 H   0  0  0  0  0  0  0  0  0  0  0  0\\n  1  2  1  0\\n  2  3  2  0\\n  2  4  1  0\\n  4  5  1  0\\n  5  6  1  0\\n  5  7  1  0\\n  7  8  1  0\\n  8  9  1  0\\n  9 10  2  0\\n  9  1  1  0\\n  1 11  1  0\\n  1 12  1  0\\n  3 13  1  0\\n  3 14  1  0\\n  4 15  1  0\\n  4 16  1  0\\n  5 17  1  0\\n  6 18  1  0\\n  6 19  1  0\\n  6 20  1  0\\n  7 21  1  0\\n  7 22  1  0\\n  8 23  1  0\\n  8 24  1  0\\n 10 25  1  0\\n 10 26  1  0\\nM  END\\n\");\nviewer_1708894015764154.setStyle({\"stick\": {\"colorscheme\": \"cyanCarbon\"}});\nviewer_1708894015764154.zoomTo();\n\tviewer_1708894015764154.setBackgroundColor(\"0xeeeeee\");\n\tviewer_1708894015764154.zoomTo();\nviewer_1708894015764154.render();\n});\n</script>",
      "text/html": [
       "<div id=\"3dmolviewer_1708894015764154\"  style=\"position: relative; width: 400px; height: 400px;\">\n",
       "        <p id=\"3dmolwarning_1708894015764154\" style=\"background-color:#ffcccc;color:black\">You appear to be running in JupyterLab (or JavaScript failed to load for some other reason).  You need to install the 3dmol extension: <br>\n",
       "        <tt>jupyter labextension install jupyterlab_3dmol</tt></p>\n",
       "        </div>\n",
       "<script>\n",
       "\n",
       "var loadScriptAsync = function(uri){\n",
       "  return new Promise((resolve, reject) => {\n",
       "    //this is to ignore the existence of requirejs amd\n",
       "    var savedexports, savedmodule;\n",
       "    if (typeof exports !== 'undefined') savedexports = exports;\n",
       "    else exports = {}\n",
       "    if (typeof module !== 'undefined') savedmodule = module;\n",
       "    else module = {}\n",
       "\n",
       "    var tag = document.createElement('script');\n",
       "    tag.src = uri;\n",
       "    tag.async = true;\n",
       "    tag.onload = () => {\n",
       "        exports = savedexports;\n",
       "        module = savedmodule;\n",
       "        resolve();\n",
       "    };\n",
       "  var firstScriptTag = document.getElementsByTagName('script')[0];\n",
       "  firstScriptTag.parentNode.insertBefore(tag, firstScriptTag);\n",
       "});\n",
       "};\n",
       "\n",
       "if(typeof $3Dmolpromise === 'undefined') {\n",
       "$3Dmolpromise = null;\n",
       "  $3Dmolpromise = loadScriptAsync('https://cdnjs.cloudflare.com/ajax/libs/3Dmol/2.0.4/3Dmol-min.js');\n",
       "}\n",
       "\n",
       "var viewer_1708894015764154 = null;\n",
       "var warn = document.getElementById(\"3dmolwarning_1708894015764154\");\n",
       "if(warn) {\n",
       "    warn.parentNode.removeChild(warn);\n",
       "}\n",
       "$3Dmolpromise.then(function() {\n",
       "viewer_1708894015764154 = $3Dmol.createViewer(document.getElementById(\"3dmolviewer_1708894015764154\"),{backgroundColor:\"white\"});\n",
       "viewer_1708894015764154.addModel(\"\\n     RDKit          3D\\n\\n 26 26  0  0  0  0  0  0  0  0999 V2000\\n   -1.8009    0.2539    0.1948 C   0  0  0  0  0  0  0  0  0  0  0  0\\n   -1.1640   -0.9577   -0.3592 C   0  0  0  0  0  0  0  0  0  0  0  0\\n   -1.9768   -1.9418   -0.6856 C   0  0  0  0  0  0  0  0  0  0  0  0\\n    0.2692   -1.2307   -0.6036 C   0  0  0  0  0  0  0  0  0  0  0  0\\n    1.0691   -0.6232    0.5121 C   0  0  0  0  0  0  0  0  0  0  0  0\\n    2.3870   -1.3901    0.5748 C   0  0  0  0  0  0  0  0  0  0  0  0\\n    1.4239    0.8198    0.2532 C   0  0  0  0  0  0  0  0  0  0  0  0\\n    0.3202    1.7693    0.6369 C   0  0  0  0  0  0  0  0  0  0  0  0\\n   -0.9668    1.4789    0.0084 C   0  0  0  0  0  0  0  0  0  0  0  0\\n   -1.4748    2.3831   -0.8232 C   0  0  0  0  0  0  0  0  0  0  0  0\\n   -1.9366    0.1635    1.3125 H   0  0  0  0  0  0  0  0  0  0  0  0\\n   -2.8291    0.4094   -0.2053 H   0  0  0  0  0  0  0  0  0  0  0  0\\n   -1.6477   -2.8863   -1.1019 H   0  0  0  0  0  0  0  0  0  0  0  0\\n   -3.0531   -1.8366   -0.5429 H   0  0  0  0  0  0  0  0  0  0  0  0\\n    0.4539   -2.3245   -0.6933 H   0  0  0  0  0  0  0  0  0  0  0  0\\n    0.5443   -0.6800   -1.5400 H   0  0  0  0  0  0  0  0  0  0  0  0\\n    0.5826   -0.7610    1.4850 H   0  0  0  0  0  0  0  0  0  0  0  0\\n    2.2637   -2.4051    0.9648 H   0  0  0  0  0  0  0  0  0  0  0  0\\n    3.1393   -0.8329    1.1884 H   0  0  0  0  0  0  0  0  0  0  0  0\\n    2.8188   -1.4018   -0.4643 H   0  0  0  0  0  0  0  0  0  0  0  0\\n    1.7371    0.9099   -0.7871 H   0  0  0  0  0  0  0  0  0  0  0  0\\n    2.3011    1.0531    0.8936 H   0  0  0  0  0  0  0  0  0  0  0  0\\n    0.6579    2.7868    0.3393 H   0  0  0  0  0  0  0  0  0  0  0  0\\n    0.2156    1.7266    1.7561 H   0  0  0  0  0  0  0  0  0  0  0  0\\n   -0.9092    3.2911   -0.9939 H   0  0  0  0  0  0  0  0  0  0  0  0\\n   -2.4245    2.2261   -1.3198 H   0  0  0  0  0  0  0  0  0  0  0  0\\n  1  2  1  0\\n  2  3  2  0\\n  2  4  1  0\\n  4  5  1  0\\n  5  6  1  0\\n  5  7  1  0\\n  7  8  1  0\\n  8  9  1  0\\n  9 10  2  0\\n  9  1  1  0\\n  1 11  1  0\\n  1 12  1  0\\n  3 13  1  0\\n  3 14  1  0\\n  4 15  1  0\\n  4 16  1  0\\n  5 17  1  0\\n  6 18  1  0\\n  6 19  1  0\\n  6 20  1  0\\n  7 21  1  0\\n  7 22  1  0\\n  8 23  1  0\\n  8 24  1  0\\n 10 25  1  0\\n 10 26  1  0\\nM  END\\n\");\n",
       "viewer_1708894015764154.setStyle({\"stick\": {\"colorscheme\": \"cyanCarbon\"}});\n",
       "viewer_1708894015764154.zoomTo();\n",
       "\tviewer_1708894015764154.setBackgroundColor(\"0xeeeeee\");\n",
       "\tviewer_1708894015764154.zoomTo();\n",
       "viewer_1708894015764154.render();\n",
       "});\n",
       "</script>"
      ]
     },
     "metadata": {},
     "output_type": "display_data"
    }
   ],
   "source": [
    "show_stk_mol(molecule)"
   ]
  },
  {
   "cell_type": "code",
   "execution_count": 6,
   "metadata": {},
   "outputs": [
    {
     "data": {
      "application/3dmoljs_load.v0": "<div id=\"3dmolviewer_17088940175543365\"  style=\"position: relative; width: 400px; height: 400px;\">\n        <p id=\"3dmolwarning_17088940175543365\" style=\"background-color:#ffcccc;color:black\">You appear to be running in JupyterLab (or JavaScript failed to load for some other reason).  You need to install the 3dmol extension: <br>\n        <tt>jupyter labextension install jupyterlab_3dmol</tt></p>\n        </div>\n<script>\n\nvar loadScriptAsync = function(uri){\n  return new Promise((resolve, reject) => {\n    //this is to ignore the existence of requirejs amd\n    var savedexports, savedmodule;\n    if (typeof exports !== 'undefined') savedexports = exports;\n    else exports = {}\n    if (typeof module !== 'undefined') savedmodule = module;\n    else module = {}\n\n    var tag = document.createElement('script');\n    tag.src = uri;\n    tag.async = true;\n    tag.onload = () => {\n        exports = savedexports;\n        module = savedmodule;\n        resolve();\n    };\n  var firstScriptTag = document.getElementsByTagName('script')[0];\n  firstScriptTag.parentNode.insertBefore(tag, firstScriptTag);\n});\n};\n\nif(typeof $3Dmolpromise === 'undefined') {\n$3Dmolpromise = null;\n  $3Dmolpromise = loadScriptAsync('https://cdnjs.cloudflare.com/ajax/libs/3Dmol/2.0.4/3Dmol-min.js');\n}\n\nvar viewer_17088940175543365 = null;\nvar warn = document.getElementById(\"3dmolwarning_17088940175543365\");\nif(warn) {\n    warn.parentNode.removeChild(warn);\n}\n$3Dmolpromise.then(function() {\nviewer_17088940175543365 = $3Dmol.createViewer(document.getElementById(\"3dmolviewer_17088940175543365\"),{backgroundColor:\"white\"});\nviewer_17088940175543365.zoomTo();\n\tviewer_17088940175543365.removeAllModels();\n\tviewer_17088940175543365.addModel(\"\\n     RDKit          3D\\n\\n 26 26  0  0  0  0  0  0  0  0999 V2000\\n   -1.8009    0.2539    0.1948 C   0  0  0  0  0  0  0  0  0  0  0  0\\n   -1.1640   -0.9577   -0.3592 C   0  0  0  0  0  0  0  0  0  0  0  0\\n   -1.9768   -1.9418   -0.6856 C   0  0  0  0  0  0  0  0  0  0  0  0\\n    0.2692   -1.2307   -0.6036 C   0  0  0  0  0  0  0  0  0  0  0  0\\n    1.0691   -0.6232    0.5121 C   0  0  0  0  0  0  0  0  0  0  0  0\\n    2.3870   -1.3901    0.5748 C   0  0  0  0  0  0  0  0  0  0  0  0\\n    1.4239    0.8198    0.2532 C   0  0  0  0  0  0  0  0  0  0  0  0\\n    0.3202    1.7693    0.6369 C   0  0  0  0  0  0  0  0  0  0  0  0\\n   -0.9668    1.4789    0.0084 C   0  0  0  0  0  0  0  0  0  0  0  0\\n   -1.4748    2.3831   -0.8232 C   0  0  0  0  0  0  0  0  0  0  0  0\\n   -1.9366    0.1635    1.3125 H   0  0  0  0  0  0  0  0  0  0  0  0\\n   -2.8291    0.4094   -0.2053 H   0  0  0  0  0  0  0  0  0  0  0  0\\n   -1.6477   -2.8863   -1.1019 H   0  0  0  0  0  0  0  0  0  0  0  0\\n   -3.0531   -1.8366   -0.5429 H   0  0  0  0  0  0  0  0  0  0  0  0\\n    0.4539   -2.3245   -0.6933 H   0  0  0  0  0  0  0  0  0  0  0  0\\n    0.5443   -0.6800   -1.5400 H   0  0  0  0  0  0  0  0  0  0  0  0\\n    0.5826   -0.7610    1.4850 H   0  0  0  0  0  0  0  0  0  0  0  0\\n    2.2637   -2.4051    0.9648 H   0  0  0  0  0  0  0  0  0  0  0  0\\n    3.1393   -0.8329    1.1884 H   0  0  0  0  0  0  0  0  0  0  0  0\\n    2.8188   -1.4018   -0.4643 H   0  0  0  0  0  0  0  0  0  0  0  0\\n    1.7371    0.9099   -0.7871 H   0  0  0  0  0  0  0  0  0  0  0  0\\n    2.3011    1.0531    0.8936 H   0  0  0  0  0  0  0  0  0  0  0  0\\n    0.6579    2.7868    0.3393 H   0  0  0  0  0  0  0  0  0  0  0  0\\n    0.2156    1.7266    1.7561 H   0  0  0  0  0  0  0  0  0  0  0  0\\n   -0.9092    3.2911   -0.9939 H   0  0  0  0  0  0  0  0  0  0  0  0\\n   -2.4245    2.2261   -1.3198 H   0  0  0  0  0  0  0  0  0  0  0  0\\n  1  2  1  0\\n  2  3  2  0\\n  2  4  1  0\\n  4  5  1  0\\n  5  6  1  0\\n  5  7  1  0\\n  7  8  1  0\\n  8  9  1  0\\n  9 10  2  0\\n  9  1  1  0\\n  1 11  1  0\\n  1 12  1  0\\n  3 13  1  0\\n  3 14  1  0\\n  4 15  1  0\\n  4 16  1  0\\n  5 17  1  0\\n  6 18  1  0\\n  6 19  1  0\\n  6 20  1  0\\n  7 21  1  0\\n  7 22  1  0\\n  8 23  1  0\\n  8 24  1  0\\n 10 25  1  0\\n 10 26  1  0\\nM  END\\n\",\"sdf\");\n\tviewer_17088940175543365.setStyle({\"stick\": {}});\n\tviewer_17088940175543365.setBackgroundColor(\"0xeeeeee\");\n\tviewer_17088940175543365.zoomTo();\nviewer_17088940175543365.render();\n});\n</script>",
      "text/html": [
       "<div id=\"3dmolviewer_17088940175543365\"  style=\"position: relative; width: 400px; height: 400px;\">\n",
       "        <p id=\"3dmolwarning_17088940175543365\" style=\"background-color:#ffcccc;color:black\">You appear to be running in JupyterLab (or JavaScript failed to load for some other reason).  You need to install the 3dmol extension: <br>\n",
       "        <tt>jupyter labextension install jupyterlab_3dmol</tt></p>\n",
       "        </div>\n",
       "<script>\n",
       "\n",
       "var loadScriptAsync = function(uri){\n",
       "  return new Promise((resolve, reject) => {\n",
       "    //this is to ignore the existence of requirejs amd\n",
       "    var savedexports, savedmodule;\n",
       "    if (typeof exports !== 'undefined') savedexports = exports;\n",
       "    else exports = {}\n",
       "    if (typeof module !== 'undefined') savedmodule = module;\n",
       "    else module = {}\n",
       "\n",
       "    var tag = document.createElement('script');\n",
       "    tag.src = uri;\n",
       "    tag.async = true;\n",
       "    tag.onload = () => {\n",
       "        exports = savedexports;\n",
       "        module = savedmodule;\n",
       "        resolve();\n",
       "    };\n",
       "  var firstScriptTag = document.getElementsByTagName('script')[0];\n",
       "  firstScriptTag.parentNode.insertBefore(tag, firstScriptTag);\n",
       "});\n",
       "};\n",
       "\n",
       "if(typeof $3Dmolpromise === 'undefined') {\n",
       "$3Dmolpromise = null;\n",
       "  $3Dmolpromise = loadScriptAsync('https://cdnjs.cloudflare.com/ajax/libs/3Dmol/2.0.4/3Dmol-min.js');\n",
       "}\n",
       "\n",
       "var viewer_17088940175543365 = null;\n",
       "var warn = document.getElementById(\"3dmolwarning_17088940175543365\");\n",
       "if(warn) {\n",
       "    warn.parentNode.removeChild(warn);\n",
       "}\n",
       "$3Dmolpromise.then(function() {\n",
       "viewer_17088940175543365 = $3Dmol.createViewer(document.getElementById(\"3dmolviewer_17088940175543365\"),{backgroundColor:\"white\"});\n",
       "viewer_17088940175543365.zoomTo();\n",
       "\tviewer_17088940175543365.removeAllModels();\n",
       "\tviewer_17088940175543365.addModel(\"\\n     RDKit          3D\\n\\n 26 26  0  0  0  0  0  0  0  0999 V2000\\n   -1.8009    0.2539    0.1948 C   0  0  0  0  0  0  0  0  0  0  0  0\\n   -1.1640   -0.9577   -0.3592 C   0  0  0  0  0  0  0  0  0  0  0  0\\n   -1.9768   -1.9418   -0.6856 C   0  0  0  0  0  0  0  0  0  0  0  0\\n    0.2692   -1.2307   -0.6036 C   0  0  0  0  0  0  0  0  0  0  0  0\\n    1.0691   -0.6232    0.5121 C   0  0  0  0  0  0  0  0  0  0  0  0\\n    2.3870   -1.3901    0.5748 C   0  0  0  0  0  0  0  0  0  0  0  0\\n    1.4239    0.8198    0.2532 C   0  0  0  0  0  0  0  0  0  0  0  0\\n    0.3202    1.7693    0.6369 C   0  0  0  0  0  0  0  0  0  0  0  0\\n   -0.9668    1.4789    0.0084 C   0  0  0  0  0  0  0  0  0  0  0  0\\n   -1.4748    2.3831   -0.8232 C   0  0  0  0  0  0  0  0  0  0  0  0\\n   -1.9366    0.1635    1.3125 H   0  0  0  0  0  0  0  0  0  0  0  0\\n   -2.8291    0.4094   -0.2053 H   0  0  0  0  0  0  0  0  0  0  0  0\\n   -1.6477   -2.8863   -1.1019 H   0  0  0  0  0  0  0  0  0  0  0  0\\n   -3.0531   -1.8366   -0.5429 H   0  0  0  0  0  0  0  0  0  0  0  0\\n    0.4539   -2.3245   -0.6933 H   0  0  0  0  0  0  0  0  0  0  0  0\\n    0.5443   -0.6800   -1.5400 H   0  0  0  0  0  0  0  0  0  0  0  0\\n    0.5826   -0.7610    1.4850 H   0  0  0  0  0  0  0  0  0  0  0  0\\n    2.2637   -2.4051    0.9648 H   0  0  0  0  0  0  0  0  0  0  0  0\\n    3.1393   -0.8329    1.1884 H   0  0  0  0  0  0  0  0  0  0  0  0\\n    2.8188   -1.4018   -0.4643 H   0  0  0  0  0  0  0  0  0  0  0  0\\n    1.7371    0.9099   -0.7871 H   0  0  0  0  0  0  0  0  0  0  0  0\\n    2.3011    1.0531    0.8936 H   0  0  0  0  0  0  0  0  0  0  0  0\\n    0.6579    2.7868    0.3393 H   0  0  0  0  0  0  0  0  0  0  0  0\\n    0.2156    1.7266    1.7561 H   0  0  0  0  0  0  0  0  0  0  0  0\\n   -0.9092    3.2911   -0.9939 H   0  0  0  0  0  0  0  0  0  0  0  0\\n   -2.4245    2.2261   -1.3198 H   0  0  0  0  0  0  0  0  0  0  0  0\\n  1  2  1  0\\n  2  3  2  0\\n  2  4  1  0\\n  4  5  1  0\\n  5  6  1  0\\n  5  7  1  0\\n  7  8  1  0\\n  8  9  1  0\\n  9 10  2  0\\n  9  1  1  0\\n  1 11  1  0\\n  1 12  1  0\\n  3 13  1  0\\n  3 14  1  0\\n  4 15  1  0\\n  4 16  1  0\\n  5 17  1  0\\n  6 18  1  0\\n  6 19  1  0\\n  6 20  1  0\\n  7 21  1  0\\n  7 22  1  0\\n  8 23  1  0\\n  8 24  1  0\\n 10 25  1  0\\n 10 26  1  0\\nM  END\\n\",\"sdf\");\n",
       "\tviewer_17088940175543365.setStyle({\"stick\": {}});\n",
       "\tviewer_17088940175543365.setBackgroundColor(\"0xeeeeee\");\n",
       "\tviewer_17088940175543365.zoomTo();\n",
       "viewer_17088940175543365.render();\n",
       "});\n",
       "</script>"
      ]
     },
     "metadata": {},
     "output_type": "display_data"
    },
    {
     "data": {
      "image/png": "[encoded data removed]",
      "text/html": [],
      "text/plain": [
       "<rdkit.Chem.rdchem.Mol at 0x73628eaa22d0>"
      ]
     },
     "execution_count": 6,
     "metadata": {},
     "output_type": "execute_result"
    }
   ],
   "source": [
    "molecule.to_rdkit_mol()"
   ]
  },
  {
   "cell_type": "code",
   "execution_count": 7,
   "metadata": {},
   "outputs": [
    {
     "ename": "KeyError",
     "evalue": "''",
     "output_type": "error",
     "traceback": [
      "\u001b[0;31m---------------------------------------------------------------------------\u001b[0m",
      "\u001b[0;31mKeyError\u001b[0m                                  Traceback (most recent call last)",
      "Cell \u001b[0;32mIn[7], line 2\u001b[0m\n\u001b[1;32m      1\u001b[0m \u001b[38;5;66;03m# Writing\u001b[39;00m\n\u001b[0;32m----> 2\u001b[0m \u001b[43mmolecule\u001b[49m\u001b[38;5;241;43m.\u001b[39;49m\u001b[43mwrite\u001b[49m\u001b[43m(\u001b[49m\u001b[38;5;124;43m'\u001b[39;49m\u001b[38;5;124;43m.mol/.sdf/.pdb/.xyz\u001b[39;49m\u001b[38;5;124;43m'\u001b[39;49m\u001b[43m)\u001b[49m\n\u001b[1;32m      3\u001b[0m rdkit_molecule \u001b[38;5;241m=\u001b[39m molecule\u001b[38;5;241m.\u001b[39mto_rdkit_mol()\n\u001b[1;32m      4\u001b[0m \u001b[38;5;66;03m# New things - much more versatile.\u001b[39;00m\n",
      "File \u001b[0;32m~/miniforge3/envs/exampledev/lib/python3.11/site-packages/stk/_internal/building_block.py:1187\u001b[0m, in \u001b[0;36mBuildingBlock.write\u001b[0;34m(self, path, atom_ids)\u001b[0m\n\u001b[1;32m   1156\u001b[0m \u001b[38;5;28;01mdef\u001b[39;00m \u001b[38;5;21mwrite\u001b[39m(\n\u001b[1;32m   1157\u001b[0m     \u001b[38;5;28mself\u001b[39m,\n\u001b[1;32m   1158\u001b[0m     path: pathlib\u001b[38;5;241m.\u001b[39mPath \u001b[38;5;241m|\u001b[39m \u001b[38;5;28mstr\u001b[39m,\n\u001b[1;32m   1159\u001b[0m     atom_ids: \u001b[38;5;28mint\u001b[39m \u001b[38;5;241m|\u001b[39m Iterable[\u001b[38;5;28mint\u001b[39m] \u001b[38;5;241m|\u001b[39m \u001b[38;5;28;01mNone\u001b[39;00m \u001b[38;5;241m=\u001b[39m \u001b[38;5;28;01mNone\u001b[39;00m,\n\u001b[1;32m   1160\u001b[0m ) \u001b[38;5;241m-\u001b[39m\u001b[38;5;241m>\u001b[39m typing\u001b[38;5;241m.\u001b[39mSelf:\n\u001b[1;32m   1161\u001b[0m \u001b[38;5;250m    \u001b[39m\u001b[38;5;124;03m\"\"\"\u001b[39;00m\n\u001b[1;32m   1162\u001b[0m \u001b[38;5;124;03m    Write the structure to a file.\u001b[39;00m\n\u001b[1;32m   1163\u001b[0m \n\u001b[0;32m   (...)\u001b[0m\n\u001b[1;32m   1185\u001b[0m \n\u001b[1;32m   1186\u001b[0m \u001b[38;5;124;03m    \"\"\"\u001b[39;00m\n\u001b[0;32m-> 1187\u001b[0m     \u001b[38;5;28;01mreturn\u001b[39;00m \u001b[38;5;28;43msuper\u001b[39;49m\u001b[43m(\u001b[49m\u001b[43m)\u001b[49m\u001b[38;5;241;43m.\u001b[39;49m\u001b[43mwrite\u001b[49m\u001b[43m(\u001b[49m\u001b[43mpath\u001b[49m\u001b[43m,\u001b[49m\u001b[43m \u001b[49m\u001b[43matom_ids\u001b[49m\u001b[43m)\u001b[49m\n",
      "File \u001b[0;32m~/miniforge3/envs/exampledev/lib/python3.11/site-packages/stk/_internal/molecule.py:903\u001b[0m, in \u001b[0;36mMolecule.write\u001b[0;34m(self, path, atom_ids)\u001b[0m\n\u001b[1;32m    875\u001b[0m \u001b[38;5;250m\u001b[39m\u001b[38;5;124;03m\"\"\"\u001b[39;00m\n\u001b[1;32m    876\u001b[0m \u001b[38;5;124;03mWrite the structure to a file.\u001b[39;00m\n\u001b[1;32m    877\u001b[0m \n\u001b[0;32m   (...)\u001b[0m\n\u001b[1;32m    899\u001b[0m \n\u001b[1;32m    900\u001b[0m \u001b[38;5;124;03m\"\"\"\u001b[39;00m\n\u001b[1;32m    902\u001b[0m _, extension \u001b[38;5;241m=\u001b[39m os\u001b[38;5;241m.\u001b[39mpath\u001b[38;5;241m.\u001b[39msplitext(path)\n\u001b[0;32m--> 903\u001b[0m \u001b[43m{\u001b[49m\n\u001b[1;32m    904\u001b[0m \u001b[43m    \u001b[49m\u001b[38;5;124;43m\"\u001b[39;49m\u001b[38;5;124;43m.mol\u001b[39;49m\u001b[38;5;124;43m\"\u001b[39;49m\u001b[43m:\u001b[49m\u001b[43m \u001b[49m\u001b[43m_write_mdl_mol_file\u001b[49m\u001b[43m,\u001b[49m\n\u001b[1;32m    905\u001b[0m \u001b[43m    \u001b[49m\u001b[38;5;124;43m\"\u001b[39;49m\u001b[38;5;124;43m.sdf\u001b[39;49m\u001b[38;5;124;43m\"\u001b[39;49m\u001b[43m:\u001b[49m\u001b[43m \u001b[49m\u001b[43m_write_mdl_mol_file\u001b[49m\u001b[43m,\u001b[49m\n\u001b[1;32m    906\u001b[0m \u001b[43m    \u001b[49m\u001b[38;5;124;43m\"\u001b[39;49m\u001b[38;5;124;43m.xyz\u001b[39;49m\u001b[38;5;124;43m\"\u001b[39;49m\u001b[43m:\u001b[49m\u001b[43m \u001b[49m\u001b[43m_write_xyz_file\u001b[49m\u001b[43m,\u001b[49m\n\u001b[1;32m    907\u001b[0m \u001b[43m    \u001b[49m\u001b[38;5;124;43m\"\u001b[39;49m\u001b[38;5;124;43m.pdb\u001b[39;49m\u001b[38;5;124;43m\"\u001b[39;49m\u001b[43m:\u001b[49m\u001b[43m \u001b[49m\u001b[43m_write_pdb_file\u001b[49m\u001b[43m,\u001b[49m\n\u001b[1;32m    908\u001b[0m \u001b[43m\u001b[49m\u001b[43m}\u001b[49m\u001b[43m[\u001b[49m\u001b[43mextension\u001b[49m\u001b[43m]\u001b[49m(\u001b[38;5;28mself\u001b[39m, path, atom_ids)\n\u001b[1;32m    909\u001b[0m \u001b[38;5;28;01mreturn\u001b[39;00m \u001b[38;5;28mself\u001b[39m\n",
      "\u001b[0;31mKeyError\u001b[0m: ''"
     ]
    }
   ],
   "source": [
    "# Writing\n",
    "molecule.write('.mol/.sdf/.pdb/.xyz')\n",
    "rdkit_molecule = molecule.to_rdkit_mol()\n",
    "# New things - much more versatile.\n",
    "stk.XyzWriter().write(molecule, path)  \n",
    "stk.MolWriter().write(molecule, path)\n",
    "stk.PdbWriter().write(molecule, path)\n",
    "stk.TurbomoleWriter().write(molecule, path)"
   ]
  },
  {
   "cell_type": "markdown",
   "metadata": {},
   "source": [
    "## A short detour: how do you visualize your molecules?\n",
    "* pymol for anything non periodic (although it is possible) - makes good images, a bit of a pain to use - SO MANY MOLECULES\n",
    "* avogadro for anything - slow and buggy on nonlinux, very versatile and good for editting - one molecule at atime\n",
    "* ovito - .pdb or .xyz, good analysis and visualisation options, so many molecules, AUTO REFRESH!\n",
    "* ase - one molecule at time\n",
    "* rdkit - small molecules with bond topology\n",
    "* py3dmol - jupyter notebook env (thumbs down for me) "
   ]
  },
  {
   "cell_type": "code",
   "execution_count": 8,
   "metadata": {},
   "outputs": [
    {
     "data": {
      "text/plain": [
       "BuildingBlock('C=C1CCC(C)CC(=C)C1', ())"
      ]
     },
     "execution_count": 8,
     "metadata": {},
     "output_type": "execute_result"
    }
   ],
   "source": [
    "molecule"
   ]
  },
  {
   "cell_type": "code",
   "execution_count": 9,
   "metadata": {},
   "outputs": [
    {
     "ename": "KeyError",
     "evalue": "''",
     "output_type": "error",
     "traceback": [
      "\u001b[0;31m---------------------------------------------------------------------------\u001b[0m",
      "\u001b[0;31mKeyError\u001b[0m                                  Traceback (most recent call last)",
      "Cell \u001b[0;32mIn[9], line 2\u001b[0m\n\u001b[1;32m      1\u001b[0m \u001b[38;5;66;03m# Immutability and what it means for you.\u001b[39;00m\n\u001b[0;32m----> 2\u001b[0m new_molecule \u001b[38;5;241m=\u001b[39m \u001b[43mmolecule\u001b[49m\u001b[38;5;241;43m.\u001b[39;49m\u001b[43mwith_structure_from_file\u001b[49m\u001b[43m(\u001b[49m\u001b[38;5;124;43m'\u001b[39;49m\u001b[38;5;124;43mfile\u001b[39;49m\u001b[38;5;124;43m'\u001b[39;49m\u001b[43m)\u001b[49m\n\u001b[1;32m      3\u001b[0m NOT\n\u001b[1;32m      4\u001b[0m molecule\u001b[38;5;241m.\u001b[39mwith_structure_from_file(\u001b[38;5;124m'\u001b[39m\u001b[38;5;124mfile\u001b[39m\u001b[38;5;124m'\u001b[39m)\n",
      "File \u001b[0;32m~/miniforge3/envs/exampledev/lib/python3.11/site-packages/stk/_internal/building_block.py:1154\u001b[0m, in \u001b[0;36mBuildingBlock.with_structure_from_file\u001b[0;34m(self, path, extension)\u001b[0m\n\u001b[1;32m   1123\u001b[0m \u001b[38;5;28;01mdef\u001b[39;00m \u001b[38;5;21mwith_structure_from_file\u001b[39m(\n\u001b[1;32m   1124\u001b[0m     \u001b[38;5;28mself\u001b[39m,\n\u001b[1;32m   1125\u001b[0m     path: pathlib\u001b[38;5;241m.\u001b[39mPath \u001b[38;5;241m|\u001b[39m \u001b[38;5;28mstr\u001b[39m,\n\u001b[1;32m   1126\u001b[0m     extension: \u001b[38;5;28mstr\u001b[39m \u001b[38;5;241m|\u001b[39m \u001b[38;5;28;01mNone\u001b[39;00m \u001b[38;5;241m=\u001b[39m \u001b[38;5;28;01mNone\u001b[39;00m,\n\u001b[1;32m   1127\u001b[0m ) \u001b[38;5;241m-\u001b[39m\u001b[38;5;241m>\u001b[39m typing\u001b[38;5;241m.\u001b[39mSelf:\n\u001b[1;32m   1128\u001b[0m \u001b[38;5;250m    \u001b[39m\u001b[38;5;124;03m\"\"\"\u001b[39;00m\n\u001b[1;32m   1129\u001b[0m \u001b[38;5;124;03m    Return a clone, with its structure taken from a file.\u001b[39;00m\n\u001b[1;32m   1130\u001b[0m \n\u001b[0;32m   (...)\u001b[0m\n\u001b[1;32m   1152\u001b[0m \n\u001b[1;32m   1153\u001b[0m \u001b[38;5;124;03m    \"\"\"\u001b[39;00m\n\u001b[0;32m-> 1154\u001b[0m     \u001b[38;5;28;01mreturn\u001b[39;00m \u001b[38;5;28;43msuper\u001b[39;49m\u001b[43m(\u001b[49m\u001b[43m)\u001b[49m\u001b[38;5;241;43m.\u001b[39;49m\u001b[43mwith_structure_from_file\u001b[49m\u001b[43m(\u001b[49m\u001b[38;5;28;43mstr\u001b[39;49m\u001b[43m(\u001b[49m\u001b[43mpath\u001b[49m\u001b[43m)\u001b[49m\u001b[43m,\u001b[49m\u001b[43m \u001b[49m\u001b[43mextension\u001b[49m\u001b[43m)\u001b[49m\n",
      "File \u001b[0;32m~/miniforge3/envs/exampledev/lib/python3.11/site-packages/stk/_internal/molecule.py:798\u001b[0m, in \u001b[0;36mMolecule.with_structure_from_file\u001b[0;34m(self, path, extension)\u001b[0m\n\u001b[1;32m    795\u001b[0m \u001b[38;5;28;01mif\u001b[39;00m extension \u001b[38;5;129;01mis\u001b[39;00m \u001b[38;5;28;01mNone\u001b[39;00m:\n\u001b[1;32m    796\u001b[0m     _, extension \u001b[38;5;241m=\u001b[39m os\u001b[38;5;241m.\u001b[39mpath\u001b[38;5;241m.\u001b[39msplitext(path)\n\u001b[0;32m--> 798\u001b[0m \u001b[38;5;28;01mreturn\u001b[39;00m \u001b[43m{\u001b[49m\n\u001b[1;32m    799\u001b[0m \u001b[43m    \u001b[49m\u001b[38;5;124;43m\"\u001b[39;49m\u001b[38;5;124;43m.mol\u001b[39;49m\u001b[38;5;124;43m\"\u001b[39;49m\u001b[43m:\u001b[49m\u001b[43m \u001b[49m\u001b[43mmdl_mol\u001b[49m\u001b[38;5;241;43m.\u001b[39;49m\u001b[43m_with_structure_from_mol\u001b[49m\u001b[43m,\u001b[49m\n\u001b[1;32m    800\u001b[0m \u001b[43m    \u001b[49m\u001b[38;5;124;43m\"\u001b[39;49m\u001b[38;5;124;43m.sdf\u001b[39;49m\u001b[38;5;124;43m\"\u001b[39;49m\u001b[43m:\u001b[49m\u001b[43m \u001b[49m\u001b[43mmdl_mol\u001b[49m\u001b[38;5;241;43m.\u001b[39;49m\u001b[43m_with_structure_from_mol\u001b[49m\u001b[43m,\u001b[49m\n\u001b[1;32m    801\u001b[0m \u001b[43m    \u001b[49m\u001b[38;5;124;43m\"\u001b[39;49m\u001b[38;5;124;43m.mae\u001b[39;49m\u001b[38;5;124;43m\"\u001b[39;49m\u001b[43m:\u001b[49m\u001b[43m \u001b[49m\u001b[43mmae\u001b[49m\u001b[38;5;241;43m.\u001b[39;49m\u001b[43m_with_structure_from_mae\u001b[49m\u001b[43m,\u001b[49m\n\u001b[1;32m    802\u001b[0m \u001b[43m    \u001b[49m\u001b[38;5;124;43m\"\u001b[39;49m\u001b[38;5;124;43m.xyz\u001b[39;49m\u001b[38;5;124;43m\"\u001b[39;49m\u001b[43m:\u001b[49m\u001b[43m \u001b[49m\u001b[43mxyz\u001b[49m\u001b[38;5;241;43m.\u001b[39;49m\u001b[43m_with_structure_from_xyz\u001b[49m\u001b[43m,\u001b[49m\n\u001b[1;32m    803\u001b[0m \u001b[43m    \u001b[49m\u001b[38;5;124;43m\"\u001b[39;49m\u001b[38;5;124;43m.coord\u001b[39;49m\u001b[38;5;124;43m\"\u001b[39;49m\u001b[43m:\u001b[49m\u001b[43m \u001b[49m\u001b[43mturbomole\u001b[49m\u001b[38;5;241;43m.\u001b[39;49m\u001b[43m_with_structure_from_turbomole\u001b[49m\u001b[43m,\u001b[49m\n\u001b[1;32m    804\u001b[0m \u001b[43m    \u001b[49m\u001b[38;5;124;43m\"\u001b[39;49m\u001b[38;5;124;43m.pdb\u001b[39;49m\u001b[38;5;124;43m\"\u001b[39;49m\u001b[43m:\u001b[49m\u001b[43m \u001b[49m\u001b[43mpdb\u001b[49m\u001b[38;5;241;43m.\u001b[39;49m\u001b[43m_with_structure_from_pdb\u001b[49m\u001b[43m,\u001b[49m\n\u001b[1;32m    805\u001b[0m \u001b[43m\u001b[49m\u001b[43m}\u001b[49m\u001b[43m[\u001b[49m\u001b[43mextension\u001b[49m\u001b[43m]\u001b[49m(\u001b[38;5;28mself\u001b[39m\u001b[38;5;241m.\u001b[39mclone(), \u001b[38;5;28mstr\u001b[39m(path))\n",
      "\u001b[0;31mKeyError\u001b[0m: ''"
     ]
    }
   ],
   "source": [
    "# Immutability and what it means for you.\n",
    "new_molecule = molecule.with_structure_from_file('file')\n",
    "NOT\n",
    "molecule.with_structure_from_file('file')\n",
    "\n",
    "# Look for with methods ---->>>"
   ]
  },
  {
   "cell_type": "markdown",
   "metadata": {},
   "source": [
    "# Our own chemistry example \n",
    "https://pubs.acs.org/doi/10.1021/acs.inorgchem.0c02682"
   ]
  },
  {
   "cell_type": "code",
   "execution_count": 10,
   "metadata": {},
   "outputs": [
    {
     "ename": "OSError",
     "evalue": "Bad input file one_i_prepared_earlier.mol",
     "output_type": "error",
     "traceback": [
      "\u001b[0;31m---------------------------------------------------------------------------\u001b[0m",
      "\u001b[0;31mOSError\u001b[0m                                   Traceback (most recent call last)",
      "Cell \u001b[0;32mIn[10], line 1\u001b[0m\n\u001b[0;32m----> 1\u001b[0m mol \u001b[38;5;241m=\u001b[39m \u001b[43mstk\u001b[49m\u001b[38;5;241;43m.\u001b[39;49m\u001b[43mBuildingBlock\u001b[49m\u001b[38;5;241;43m.\u001b[39;49m\u001b[43minit_from_file\u001b[49m\u001b[43m(\u001b[49m\u001b[38;5;124;43m'\u001b[39;49m\u001b[38;5;124;43mone_i_prepared_earlier.mol\u001b[39;49m\u001b[38;5;124;43m'\u001b[39;49m\u001b[43m)\u001b[49m\n\u001b[1;32m      2\u001b[0m show_stk_mol(mol)\n",
      "File \u001b[0;32m~/miniforge3/envs/exampledev/lib/python3.11/site-packages/stk/_internal/building_block.py:482\u001b[0m, in \u001b[0;36mBuildingBlock.init_from_file\u001b[0;34m(cls, path, functional_groups, placer_ids)\u001b[0m\n\u001b[1;32m    477\u001b[0m     \u001b[38;5;28;01mraise\u001b[39;00m \u001b[38;5;167;01mValueError\u001b[39;00m(\u001b[38;5;124mf\u001b[39m\u001b[38;5;124m'\u001b[39m\u001b[38;5;124mUnable to initialize from \u001b[39m\u001b[38;5;124m\"\u001b[39m\u001b[38;5;132;01m{\u001b[39;00mextension\u001b[38;5;132;01m}\u001b[39;00m\u001b[38;5;124m\"\u001b[39m\u001b[38;5;124m files.\u001b[39m\u001b[38;5;124m'\u001b[39m)\n\u001b[1;32m    478\u001b[0m \u001b[38;5;66;03m# This remake needs to be here because molecules loaded\u001b[39;00m\n\u001b[1;32m    479\u001b[0m \u001b[38;5;66;03m# with rdkit often have issues, because rdkit tries to do\u001b[39;00m\n\u001b[1;32m    480\u001b[0m \u001b[38;5;66;03m# bits of structural analysis like stereocenters. Remake\u001b[39;00m\n\u001b[1;32m    481\u001b[0m \u001b[38;5;66;03m# gets rid of all this problematic metadata.\u001b[39;00m\n\u001b[0;32m--> 482\u001b[0m molecule \u001b[38;5;241m=\u001b[39m remake(\u001b[38;5;28;43mcls\u001b[39;49m\u001b[38;5;241;43m.\u001b[39;49m\u001b[43m_init_funcs\u001b[49m\u001b[43m[\u001b[49m\u001b[43mextension\u001b[49m\u001b[43m]\u001b[49m\u001b[43m(\u001b[49m\u001b[38;5;28;43mstr\u001b[39;49m\u001b[43m(\u001b[49m\u001b[43mpath\u001b[49m\u001b[43m)\u001b[49m\u001b[43m)\u001b[49m)\n\u001b[1;32m    484\u001b[0m \u001b[38;5;28;01mreturn\u001b[39;00m \u001b[38;5;28mcls\u001b[39m\u001b[38;5;241m.\u001b[39minit_from_rdkit_mol(\n\u001b[1;32m    485\u001b[0m     molecule\u001b[38;5;241m=\u001b[39mmolecule,\n\u001b[1;32m    486\u001b[0m     functional_groups\u001b[38;5;241m=\u001b[39mfunctional_groups,\n\u001b[1;32m    487\u001b[0m     placer_ids\u001b[38;5;241m=\u001b[39mplacer_ids,\n\u001b[1;32m    488\u001b[0m )\n",
      "\u001b[0;31mOSError\u001b[0m: Bad input file one_i_prepared_earlier.mol"
     ]
    }
   ],
   "source": [
    "mol = stk.BuildingBlock.init_from_file('one_i_prepared_earlier.mol')\n",
    "show_stk_mol(mol)"
   ]
  },
  {
   "cell_type": "markdown",
   "metadata": {},
   "source": [
    "### Issues much?\n",
    "* Manually drawing things in avogadro that are complex is a pain\n",
    "* loading in metal containing species is not straightforward because RDKit requires dative bond definitions"
   ]
  },
  {
   "cell_type": "code",
   "execution_count": 11,
   "metadata": {},
   "outputs": [],
   "source": [
    "cu_atom_green = stk.BuildingBlock(\n",
    "    smiles='[Cu+2]',\n",
    "    functional_groups=(\n",
    "        stk.SingleAtom(stk.Cu(0, charge=2))\n",
    "        for i in range(4)\n",
    "    ),\n",
    "    position_matrix=[[0, 0, 0]],\n",
    ")\n",
    "cu_atom_orange = stk.BuildingBlock(\n",
    "    smiles='[Cu+2]',\n",
    "    functional_groups=(\n",
    "        stk.SingleAtom(stk.Cu(0, charge=2))\n",
    "        for i in range(2)\n",
    "    ),\n",
    "    position_matrix=[[0, 0, 0]],\n",
    ")"
   ]
  },
  {
   "cell_type": "code",
   "execution_count": 12,
   "metadata": {},
   "outputs": [
    {
     "data": {
      "text/plain": [
       "BuildingBlock('[Cu+2]', (SingleAtom(Cu(0, charge=2)), SingleAtom(Cu(0, charge=2)), SingleAtom(Cu(0, charge=2)), SingleAtom(Cu(0, charge=2))))"
      ]
     },
     "execution_count": 12,
     "metadata": {},
     "output_type": "execute_result"
    }
   ],
   "source": [
    "cu_atom_green"
   ]
  },
  {
   "cell_type": "code",
   "execution_count": 13,
   "metadata": {},
   "outputs": [
    {
     "data": {
      "text/plain": [
       "BuildingBlock('[Cu+2]', (SingleAtom(Cu(0, charge=2)), SingleAtom(Cu(0, charge=2))))"
      ]
     },
     "execution_count": 13,
     "metadata": {},
     "output_type": "execute_result"
    }
   ],
   "source": [
    "cu_atom_orange"
   ]
  },
  {
   "cell_type": "code",
   "execution_count": 14,
   "metadata": {},
   "outputs": [
    {
     "data": {
      "application/3dmoljs_load.v0": "<div id=\"3dmolviewer_17088940682856994\"  style=\"position: relative; width: 400px; height: 400px;\">\n        <p id=\"3dmolwarning_17088940682856994\" style=\"background-color:#ffcccc;color:black\">You appear to be running in JupyterLab (or JavaScript failed to load for some other reason).  You need to install the 3dmol extension: <br>\n        <tt>jupyter labextension install jupyterlab_3dmol</tt></p>\n        </div>\n<script>\n\nvar loadScriptAsync = function(uri){\n  return new Promise((resolve, reject) => {\n    //this is to ignore the existence of requirejs amd\n    var savedexports, savedmodule;\n    if (typeof exports !== 'undefined') savedexports = exports;\n    else exports = {}\n    if (typeof module !== 'undefined') savedmodule = module;\n    else module = {}\n\n    var tag = document.createElement('script');\n    tag.src = uri;\n    tag.async = true;\n    tag.onload = () => {\n        exports = savedexports;\n        module = savedmodule;\n        resolve();\n    };\n  var firstScriptTag = document.getElementsByTagName('script')[0];\n  firstScriptTag.parentNode.insertBefore(tag, firstScriptTag);\n});\n};\n\nif(typeof $3Dmolpromise === 'undefined') {\n$3Dmolpromise = null;\n  $3Dmolpromise = loadScriptAsync('https://cdnjs.cloudflare.com/ajax/libs/3Dmol/2.0.4/3Dmol-min.js');\n}\n\nvar viewer_17088940682856994 = null;\nvar warn = document.getElementById(\"3dmolwarning_17088940682856994\");\nif(warn) {\n    warn.parentNode.removeChild(warn);\n}\n$3Dmolpromise.then(function() {\nviewer_17088940682856994 = $3Dmol.createViewer(document.getElementById(\"3dmolviewer_17088940682856994\"),{backgroundColor:\"white\"});\nviewer_17088940682856994.addModel(\"\\n     RDKit          3D\\n\\n 20 21  0  0  0  0  0  0  0  0999 V2000\\n   -1.0365    0.6021   -0.9643 C   0  0  0  0  0  0  0  0  0  0  0  0\\n   -0.4281    1.5435    0.0500 C   0  0  0  0  0  0  0  0  0  0  0  0\\n    0.6304    0.7868    0.7269 N   0  0  0  0  0  0  0  0  0  0  0  0\\n   -0.0602   -0.2729    1.4644 C   0  0  0  0  0  0  0  0  0  0  0  0\\n   -0.8751   -1.1537    0.5601 C   0  0  0  0  0  0  0  0  0  0  0  0\\n   -0.5706   -0.7535   -0.8233 N   0  0  0  0  0  0  0  0  0  0  0  0\\n    0.8462   -0.9004   -0.9797 C   0  0  0  0  0  0  0  0  0  0  0  0\\n    1.5446    0.2059   -0.2377 C   0  0  0  0  0  0  0  0  0  0  0  0\\n   -0.9098    1.0248   -1.9644 H   0  0  0  0  0  0  0  0  0  0  0  0\\n   -2.1351    0.5829   -0.7487 H   0  0  0  0  0  0  0  0  0  0  0  0\\n   -1.1487    1.8175    0.8598 H   0  0  0  0  0  0  0  0  0  0  0  0\\n   -0.0088    2.4549   -0.3972 H   0  0  0  0  0  0  0  0  0  0  0  0\\n   -0.7561    0.2540    2.1656 H   0  0  0  0  0  0  0  0  0  0  0  0\\n    0.7384   -0.8224    2.0092 H   0  0  0  0  0  0  0  0  0  0  0  0\\n   -1.9475   -1.1208    0.7318 H   0  0  0  0  0  0  0  0  0  0  0  0\\n   -0.4363   -2.1877    0.6481 H   0  0  0  0  0  0  0  0  0  0  0  0\\n    1.1464   -1.0034   -2.0258 H   0  0  0  0  0  0  0  0  0  0  0  0\\n    1.1242   -1.8724   -0.4764 H   0  0  0  0  0  0  0  0  0  0  0  0\\n    2.4089   -0.1899    0.3360 H   0  0  0  0  0  0  0  0  0  0  0  0\\n    1.8738    1.0045   -0.9346 H   0  0  0  0  0  0  0  0  0  0  0  0\\n  1  2  1  0\\n  2  3  1  0\\n  3  4  1  0\\n  4  5  1  0\\n  5  6  1  0\\n  6  7  1  0\\n  7  8  1  0\\n  6  1  1  0\\n  8  3  1  0\\n  1  9  1  0\\n  1 10  1  0\\n  2 11  1  0\\n  2 12  1  0\\n  4 13  1  0\\n  4 14  1  0\\n  5 15  1  0\\n  5 16  1  0\\n  7 17  1  0\\n  7 18  1  0\\n  8 19  1  0\\n  8 20  1  0\\nM  END\\n\");\nviewer_17088940682856994.setStyle({\"stick\": {\"colorscheme\": \"cyanCarbon\"}});\nviewer_17088940682856994.zoomTo();\n\tviewer_17088940682856994.setBackgroundColor(\"0xeeeeee\");\n\tviewer_17088940682856994.zoomTo();\nviewer_17088940682856994.render();\n});\n</script>",
      "text/html": [
       "<div id=\"3dmolviewer_17088940682856994\"  style=\"position: relative; width: 400px; height: 400px;\">\n",
       "        <p id=\"3dmolwarning_17088940682856994\" style=\"background-color:#ffcccc;color:black\">You appear to be running in JupyterLab (or JavaScript failed to load for some other reason).  You need to install the 3dmol extension: <br>\n",
       "        <tt>jupyter labextension install jupyterlab_3dmol</tt></p>\n",
       "        </div>\n",
       "<script>\n",
       "\n",
       "var loadScriptAsync = function(uri){\n",
       "  return new Promise((resolve, reject) => {\n",
       "    //this is to ignore the existence of requirejs amd\n",
       "    var savedexports, savedmodule;\n",
       "    if (typeof exports !== 'undefined') savedexports = exports;\n",
       "    else exports = {}\n",
       "    if (typeof module !== 'undefined') savedmodule = module;\n",
       "    else module = {}\n",
       "\n",
       "    var tag = document.createElement('script');\n",
       "    tag.src = uri;\n",
       "    tag.async = true;\n",
       "    tag.onload = () => {\n",
       "        exports = savedexports;\n",
       "        module = savedmodule;\n",
       "        resolve();\n",
       "    };\n",
       "  var firstScriptTag = document.getElementsByTagName('script')[0];\n",
       "  firstScriptTag.parentNode.insertBefore(tag, firstScriptTag);\n",
       "});\n",
       "};\n",
       "\n",
       "if(typeof $3Dmolpromise === 'undefined') {\n",
       "$3Dmolpromise = null;\n",
       "  $3Dmolpromise = loadScriptAsync('https://cdnjs.cloudflare.com/ajax/libs/3Dmol/2.0.4/3Dmol-min.js');\n",
       "}\n",
       "\n",
       "var viewer_17088940682856994 = null;\n",
       "var warn = document.getElementById(\"3dmolwarning_17088940682856994\");\n",
       "if(warn) {\n",
       "    warn.parentNode.removeChild(warn);\n",
       "}\n",
       "$3Dmolpromise.then(function() {\n",
       "viewer_17088940682856994 = $3Dmol.createViewer(document.getElementById(\"3dmolviewer_17088940682856994\"),{backgroundColor:\"white\"});\n",
       "viewer_17088940682856994.addModel(\"\\n     RDKit          3D\\n\\n 20 21  0  0  0  0  0  0  0  0999 V2000\\n   -1.0365    0.6021   -0.9643 C   0  0  0  0  0  0  0  0  0  0  0  0\\n   -0.4281    1.5435    0.0500 C   0  0  0  0  0  0  0  0  0  0  0  0\\n    0.6304    0.7868    0.7269 N   0  0  0  0  0  0  0  0  0  0  0  0\\n   -0.0602   -0.2729    1.4644 C   0  0  0  0  0  0  0  0  0  0  0  0\\n   -0.8751   -1.1537    0.5601 C   0  0  0  0  0  0  0  0  0  0  0  0\\n   -0.5706   -0.7535   -0.8233 N   0  0  0  0  0  0  0  0  0  0  0  0\\n    0.8462   -0.9004   -0.9797 C   0  0  0  0  0  0  0  0  0  0  0  0\\n    1.5446    0.2059   -0.2377 C   0  0  0  0  0  0  0  0  0  0  0  0\\n   -0.9098    1.0248   -1.9644 H   0  0  0  0  0  0  0  0  0  0  0  0\\n   -2.1351    0.5829   -0.7487 H   0  0  0  0  0  0  0  0  0  0  0  0\\n   -1.1487    1.8175    0.8598 H   0  0  0  0  0  0  0  0  0  0  0  0\\n   -0.0088    2.4549   -0.3972 H   0  0  0  0  0  0  0  0  0  0  0  0\\n   -0.7561    0.2540    2.1656 H   0  0  0  0  0  0  0  0  0  0  0  0\\n    0.7384   -0.8224    2.0092 H   0  0  0  0  0  0  0  0  0  0  0  0\\n   -1.9475   -1.1208    0.7318 H   0  0  0  0  0  0  0  0  0  0  0  0\\n   -0.4363   -2.1877    0.6481 H   0  0  0  0  0  0  0  0  0  0  0  0\\n    1.1464   -1.0034   -2.0258 H   0  0  0  0  0  0  0  0  0  0  0  0\\n    1.1242   -1.8724   -0.4764 H   0  0  0  0  0  0  0  0  0  0  0  0\\n    2.4089   -0.1899    0.3360 H   0  0  0  0  0  0  0  0  0  0  0  0\\n    1.8738    1.0045   -0.9346 H   0  0  0  0  0  0  0  0  0  0  0  0\\n  1  2  1  0\\n  2  3  1  0\\n  3  4  1  0\\n  4  5  1  0\\n  5  6  1  0\\n  6  7  1  0\\n  7  8  1  0\\n  6  1  1  0\\n  8  3  1  0\\n  1  9  1  0\\n  1 10  1  0\\n  2 11  1  0\\n  2 12  1  0\\n  4 13  1  0\\n  4 14  1  0\\n  5 15  1  0\\n  5 16  1  0\\n  7 17  1  0\\n  7 18  1  0\\n  8 19  1  0\\n  8 20  1  0\\nM  END\\n\");\n",
       "viewer_17088940682856994.setStyle({\"stick\": {\"colorscheme\": \"cyanCarbon\"}});\n",
       "viewer_17088940682856994.zoomTo();\n",
       "\tviewer_17088940682856994.setBackgroundColor(\"0xeeeeee\");\n",
       "\tviewer_17088940682856994.zoomTo();\n",
       "viewer_17088940682856994.render();\n",
       "});\n",
       "</script>"
      ]
     },
     "metadata": {},
     "output_type": "display_data"
    }
   ],
   "source": [
    "dabco = stk.BuildingBlock(\n",
    "    smiles='C1CN2CCN1CC2',\n",
    "    functional_groups=[],\n",
    ")\n",
    "show_stk_mol(dabco)"
   ]
  },
  {
   "cell_type": "code",
   "execution_count": 15,
   "metadata": {},
   "outputs": [
    {
     "data": {
      "application/3dmoljs_load.v0": "<div id=\"3dmolviewer_17088940699292853\"  style=\"position: relative; width: 400px; height: 400px;\">\n        <p id=\"3dmolwarning_17088940699292853\" style=\"background-color:#ffcccc;color:black\">You appear to be running in JupyterLab (or JavaScript failed to load for some other reason).  You need to install the 3dmol extension: <br>\n        <tt>jupyter labextension install jupyterlab_3dmol</tt></p>\n        </div>\n<script>\n\nvar loadScriptAsync = function(uri){\n  return new Promise((resolve, reject) => {\n    //this is to ignore the existence of requirejs amd\n    var savedexports, savedmodule;\n    if (typeof exports !== 'undefined') savedexports = exports;\n    else exports = {}\n    if (typeof module !== 'undefined') savedmodule = module;\n    else module = {}\n\n    var tag = document.createElement('script');\n    tag.src = uri;\n    tag.async = true;\n    tag.onload = () => {\n        exports = savedexports;\n        module = savedmodule;\n        resolve();\n    };\n  var firstScriptTag = document.getElementsByTagName('script')[0];\n  firstScriptTag.parentNode.insertBefore(tag, firstScriptTag);\n});\n};\n\nif(typeof $3Dmolpromise === 'undefined') {\n$3Dmolpromise = null;\n  $3Dmolpromise = loadScriptAsync('https://cdnjs.cloudflare.com/ajax/libs/3Dmol/2.0.4/3Dmol-min.js');\n}\n\nvar viewer_17088940699292853 = null;\nvar warn = document.getElementById(\"3dmolwarning_17088940699292853\");\nif(warn) {\n    warn.parentNode.removeChild(warn);\n}\n$3Dmolpromise.then(function() {\nviewer_17088940699292853 = $3Dmol.createViewer(document.getElementById(\"3dmolviewer_17088940699292853\"),{backgroundColor:\"white\"});\nviewer_17088940699292853.zoomTo();\n\tviewer_17088940699292853.removeAllModels();\n\tviewer_17088940699292853.addModel(\"\\n     RDKit          3D\\n\\n 31 32  0  0  0  0  0  0  0  0999 V2000\\n   -0.0202   -0.6908   -0.5345 C   0  0  0  0  0  0  0  0  0  0  0  0\\n    0.8093   -0.1135    0.6202 C   0  0  0  0  0  0  0  0  0  0  0  0\\n    2.1849   -0.2566    0.2602 N   0  0  0  0  0  0  0  0  0  0  0  0\\n    3.0835    0.6568    0.4139 C   0  0  0  0  0  0  0  0  0  0  0  0\\n    4.4366    0.3420   -0.0075 C   0  0  0  0  0  0  0  0  0  0  0  0\\n    4.9133   -0.8273   -0.5648 C   0  0  0  0  0  0  0  0  0  0  0  0\\n    6.2247   -0.6436   -0.7844 N   0  0  0  0  0  0  0  0  0  0  0  0\\n    6.5676    0.5832   -0.3865 C   0  0  0  0  0  0  0  0  0  0  0  0\\n    5.4722    1.1838    0.0882 N   0  0  0  0  0  0  0  0  0  0  0  0\\n   -1.5003   -0.5864   -0.2494 C   0  0  0  0  0  0  0  0  0  0  0  0\\n   -1.8941   -1.2888    0.9293 N   0  0  0  0  0  0  0  0  0  0  0  0\\n   -3.1127   -1.2898    1.3030 C   0  0  0  0  0  0  0  0  0  0  0  0\\n   -4.1239   -0.5773    0.5384 C   0  0  0  0  0  0  0  0  0  0  0  0\\n   -5.4909   -0.4917    0.8272 C   0  0  0  0  0  0  0  0  0  0  0  0\\n   -6.1018    0.2499   -0.1036 N   0  0  0  0  0  0  0  0  0  0  0  0\\n   -5.1795    0.6429   -0.9777 C   0  0  0  0  0  0  0  0  0  0  0  0\\n   -3.9919    0.1432   -0.5876 N   0  0  0  0  0  0  0  0  0  0  0  0\\n    0.1879   -0.0283   -1.3998 H   0  0  0  0  0  0  0  0  0  0  0  0\\n    0.3043   -1.7091   -0.7411 H   0  0  0  0  0  0  0  0  0  0  0  0\\n    0.4881    0.9425    0.7352 H   0  0  0  0  0  0  0  0  0  0  0  0\\n    0.6287   -0.6746    1.5625 H   0  0  0  0  0  0  0  0  0  0  0  0\\n    2.8522    1.6110    0.8338 H   0  0  0  0  0  0  0  0  0  0  0  0\\n    4.3625   -1.7330   -0.7926 H   0  0  0  0  0  0  0  0  0  0  0  0\\n    6.8701   -1.3421   -1.1973 H   0  0  0  0  0  0  0  0  0  0  0  0\\n    7.5385    1.0734   -0.4123 H   0  0  0  0  0  0  0  0  0  0  0  0\\n   -1.7082    0.4964   -0.1015 H   0  0  0  0  0  0  0  0  0  0  0  0\\n   -2.0105   -1.0250   -1.1215 H   0  0  0  0  0  0  0  0  0  0  0  0\\n   -3.4225   -1.8181    2.1937 H   0  0  0  0  0  0  0  0  0  0  0  0\\n   -5.9491   -0.9615    1.6753 H   0  0  0  0  0  0  0  0  0  0  0  0\\n   -7.1125    0.4908   -0.1578 H   0  0  0  0  0  0  0  0  0  0  0  0\\n   -5.3062    1.2546   -1.8608 H   0  0  0  0  0  0  0  0  0  0  0  0\\n  1  2  1  0\\n  2  3  1  0\\n  3  4  2  3\\n  4  5  1  0\\n  5  6  2  0\\n  6  7  1  0\\n  7  8  1  0\\n  8  9  2  0\\n  1 10  1  0\\n 10 11  1  0\\n 11 12  2  3\\n 12 13  1  0\\n 13 14  2  0\\n 14 15  1  0\\n 15 16  1  0\\n 16 17  2  0\\n  9  5  1  0\\n 17 13  1  0\\n  1 18  1  0\\n  1 19  1  0\\n  2 20  1  0\\n  2 21  1  0\\n  4 22  1  0\\n  6 23  1  0\\n  7 24  1  0\\n  8 25  1  0\\n 10 26  1  0\\n 10 27  1  0\\n 12 28  1  0\\n 14 29  1  0\\n 15 30  1  0\\n 16 31  1  0\\nM  END\\n\",\"sdf\");\n\tviewer_17088940699292853.setStyle({\"stick\": {}});\n\tviewer_17088940699292853.setBackgroundColor(\"0xeeeeee\");\n\tviewer_17088940699292853.zoomTo();\nviewer_17088940699292853.render();\n});\n</script>",
      "text/html": [
       "<div id=\"3dmolviewer_17088940699292853\"  style=\"position: relative; width: 400px; height: 400px;\">\n",
       "        <p id=\"3dmolwarning_17088940699292853\" style=\"background-color:#ffcccc;color:black\">You appear to be running in JupyterLab (or JavaScript failed to load for some other reason).  You need to install the 3dmol extension: <br>\n",
       "        <tt>jupyter labextension install jupyterlab_3dmol</tt></p>\n",
       "        </div>\n",
       "<script>\n",
       "\n",
       "var loadScriptAsync = function(uri){\n",
       "  return new Promise((resolve, reject) => {\n",
       "    //this is to ignore the existence of requirejs amd\n",
       "    var savedexports, savedmodule;\n",
       "    if (typeof exports !== 'undefined') savedexports = exports;\n",
       "    else exports = {}\n",
       "    if (typeof module !== 'undefined') savedmodule = module;\n",
       "    else module = {}\n",
       "\n",
       "    var tag = document.createElement('script');\n",
       "    tag.src = uri;\n",
       "    tag.async = true;\n",
       "    tag.onload = () => {\n",
       "        exports = savedexports;\n",
       "        module = savedmodule;\n",
       "        resolve();\n",
       "    };\n",
       "  var firstScriptTag = document.getElementsByTagName('script')[0];\n",
       "  firstScriptTag.parentNode.insertBefore(tag, firstScriptTag);\n",
       "});\n",
       "};\n",
       "\n",
       "if(typeof $3Dmolpromise === 'undefined') {\n",
       "$3Dmolpromise = null;\n",
       "  $3Dmolpromise = loadScriptAsync('https://cdnjs.cloudflare.com/ajax/libs/3Dmol/2.0.4/3Dmol-min.js');\n",
       "}\n",
       "\n",
       "var viewer_17088940699292853 = null;\n",
       "var warn = document.getElementById(\"3dmolwarning_17088940699292853\");\n",
       "if(warn) {\n",
       "    warn.parentNode.removeChild(warn);\n",
       "}\n",
       "$3Dmolpromise.then(function() {\n",
       "viewer_17088940699292853 = $3Dmol.createViewer(document.getElementById(\"3dmolviewer_17088940699292853\"),{backgroundColor:\"white\"});\n",
       "viewer_17088940699292853.zoomTo();\n",
       "\tviewer_17088940699292853.removeAllModels();\n",
       "\tviewer_17088940699292853.addModel(\"\\n     RDKit          3D\\n\\n 31 32  0  0  0  0  0  0  0  0999 V2000\\n   -0.0202   -0.6908   -0.5345 C   0  0  0  0  0  0  0  0  0  0  0  0\\n    0.8093   -0.1135    0.6202 C   0  0  0  0  0  0  0  0  0  0  0  0\\n    2.1849   -0.2566    0.2602 N   0  0  0  0  0  0  0  0  0  0  0  0\\n    3.0835    0.6568    0.4139 C   0  0  0  0  0  0  0  0  0  0  0  0\\n    4.4366    0.3420   -0.0075 C   0  0  0  0  0  0  0  0  0  0  0  0\\n    4.9133   -0.8273   -0.5648 C   0  0  0  0  0  0  0  0  0  0  0  0\\n    6.2247   -0.6436   -0.7844 N   0  0  0  0  0  0  0  0  0  0  0  0\\n    6.5676    0.5832   -0.3865 C   0  0  0  0  0  0  0  0  0  0  0  0\\n    5.4722    1.1838    0.0882 N   0  0  0  0  0  0  0  0  0  0  0  0\\n   -1.5003   -0.5864   -0.2494 C   0  0  0  0  0  0  0  0  0  0  0  0\\n   -1.8941   -1.2888    0.9293 N   0  0  0  0  0  0  0  0  0  0  0  0\\n   -3.1127   -1.2898    1.3030 C   0  0  0  0  0  0  0  0  0  0  0  0\\n   -4.1239   -0.5773    0.5384 C   0  0  0  0  0  0  0  0  0  0  0  0\\n   -5.4909   -0.4917    0.8272 C   0  0  0  0  0  0  0  0  0  0  0  0\\n   -6.1018    0.2499   -0.1036 N   0  0  0  0  0  0  0  0  0  0  0  0\\n   -5.1795    0.6429   -0.9777 C   0  0  0  0  0  0  0  0  0  0  0  0\\n   -3.9919    0.1432   -0.5876 N   0  0  0  0  0  0  0  0  0  0  0  0\\n    0.1879   -0.0283   -1.3998 H   0  0  0  0  0  0  0  0  0  0  0  0\\n    0.3043   -1.7091   -0.7411 H   0  0  0  0  0  0  0  0  0  0  0  0\\n    0.4881    0.9425    0.7352 H   0  0  0  0  0  0  0  0  0  0  0  0\\n    0.6287   -0.6746    1.5625 H   0  0  0  0  0  0  0  0  0  0  0  0\\n    2.8522    1.6110    0.8338 H   0  0  0  0  0  0  0  0  0  0  0  0\\n    4.3625   -1.7330   -0.7926 H   0  0  0  0  0  0  0  0  0  0  0  0\\n    6.8701   -1.3421   -1.1973 H   0  0  0  0  0  0  0  0  0  0  0  0\\n    7.5385    1.0734   -0.4123 H   0  0  0  0  0  0  0  0  0  0  0  0\\n   -1.7082    0.4964   -0.1015 H   0  0  0  0  0  0  0  0  0  0  0  0\\n   -2.0105   -1.0250   -1.1215 H   0  0  0  0  0  0  0  0  0  0  0  0\\n   -3.4225   -1.8181    2.1937 H   0  0  0  0  0  0  0  0  0  0  0  0\\n   -5.9491   -0.9615    1.6753 H   0  0  0  0  0  0  0  0  0  0  0  0\\n   -7.1125    0.4908   -0.1578 H   0  0  0  0  0  0  0  0  0  0  0  0\\n   -5.3062    1.2546   -1.8608 H   0  0  0  0  0  0  0  0  0  0  0  0\\n  1  2  1  0\\n  2  3  1  0\\n  3  4  2  3\\n  4  5  1  0\\n  5  6  2  0\\n  6  7  1  0\\n  7  8  1  0\\n  8  9  2  0\\n  1 10  1  0\\n 10 11  1  0\\n 11 12  2  3\\n 12 13  1  0\\n 13 14  2  0\\n 14 15  1  0\\n 15 16  1  0\\n 16 17  2  0\\n  9  5  1  0\\n 17 13  1  0\\n  1 18  1  0\\n  1 19  1  0\\n  2 20  1  0\\n  2 21  1  0\\n  4 22  1  0\\n  6 23  1  0\\n  7 24  1  0\\n  8 25  1  0\\n 10 26  1  0\\n 10 27  1  0\\n 12 28  1  0\\n 14 29  1  0\\n 15 30  1  0\\n 16 31  1  0\\nM  END\\n\",\"sdf\");\n",
       "\tviewer_17088940699292853.setStyle({\"stick\": {}});\n",
       "\tviewer_17088940699292853.setBackgroundColor(\"0xeeeeee\");\n",
       "\tviewer_17088940699292853.zoomTo();\n",
       "viewer_17088940699292853.render();\n",
       "});\n",
       "</script>"
      ]
     },
     "metadata": {},
     "output_type": "display_data"
    },
    {
     "data": {
      "image/png": "[encoded data removed]",
      "text/html": [],
      "text/plain": [
       "<rdkit.Chem.rdchem.Mol at 0x73628e527760>"
      ]
     },
     "execution_count": 15,
     "metadata": {},
     "output_type": "execute_result"
    }
   ],
   "source": [
    "corner_organic = stk.BuildingBlock(\n",
    "    smiles='C(CN=Cc1c[nH]cn1)CN=Cc2c[nH]cn2',\n",
    "    functional_groups=[],\n",
    ")\n",
    "corner_organic.to_rdkit_mol()"
   ]
  },
  {
   "cell_type": "code",
   "execution_count": 16,
   "metadata": {},
   "outputs": [],
   "source": [
    "imine_fg = stk.SmartsFunctionalGroupFactory(\n",
    "    smarts='[#6X3]=[#7X2][#6X4]',\n",
    "    bonders=(1, ),\n",
    "    deleters=(),\n",
    ")\n",
    "imidazole_fg = stk.SmartsFunctionalGroupFactory(\n",
    "    smarts='[#6X3][#7X2][#6X3]',\n",
    "    bonders=(1, ),\n",
    "    deleters=(),\n",
    ")"
   ]
  },
  {
   "cell_type": "code",
   "execution_count": 17,
   "metadata": {},
   "outputs": [],
   "source": [
    "import numpy as np\n",
    "def get_dihedral(pt1, pt2, pt3, pt4):\n",
    "    \"\"\"\n",
    "    Calculate the dihedral between four points.\n",
    "\n",
    "    Uses Praxeolitic formula --> 1 sqrt, 1 cross product\n",
    "\n",
    "    Output in range (-pi to pi).\n",
    "\n",
    "    From: https://stackoverflow.com/questions/20305272/\n",
    "    dihedral-torsion-angle-from-four-points-in-cartesian-\n",
    "    coordinates-in-python\n",
    "    (new_dihedral(p))\n",
    "\n",
    "    \"\"\"\n",
    "\n",
    "    p0 = np.asarray(pt1)\n",
    "    p1 = np.asarray(pt2)\n",
    "    p2 = np.asarray(pt3)\n",
    "    p3 = np.asarray(pt4)\n",
    "\n",
    "    b0 = -1.0 * (p1 - p0)\n",
    "    b1 = p2 - p1\n",
    "    b2 = p3 - p2\n",
    "\n",
    "    # normalize b1 so that it does not influence magnitude of vector\n",
    "    # rejections that come next\n",
    "    b1 /= np.linalg.norm(b1)\n",
    "\n",
    "    # vector rejections\n",
    "    # v = projection of b0 onto plane perpendicular to b1\n",
    "    #   = b0 minus component that aligns with b1\n",
    "    # w = projection of b2 onto plane perpendicular to b1\n",
    "    #   = b2 minus component that aligns with b1\n",
    "    v = b0 - np.dot(b0, b1) * b1\n",
    "    w = b2 - np.dot(b2, b1) * b1\n",
    "\n",
    "    # angle between v and w in a plane is the torsion angle\n",
    "    # v and w may not be normalized but that's fine since tan is y/x\n",
    "    x = np.dot(v, w)\n",
    "    y = np.dot(np.cross(b1, v), w)\n",
    "    return np.degrees(np.arctan2(y, x))"
   ]
  },
  {
   "cell_type": "code",
   "execution_count": 18,
   "metadata": {},
   "outputs": [],
   "source": [
    "def build_conformers(mol, N, ETKDG_version=None):\n",
    "    \"\"\"\n",
    "    Convert stk mol into RDKit mol with N conformers.\n",
    "\n",
    "    ETKDG_version allows the user to pick their choice of ETKDG params.\n",
    "\n",
    "    `None` provides the settings used in ligand_combiner and unsymm.\n",
    "\n",
    "    Other options:\n",
    "        `v3`:\n",
    "            New version from DOI: 10.1021/acs.jcim.0c00025\n",
    "            with improved handling of macrocycles.\n",
    "\n",
    "    \"\"\"\n",
    "    molecule = mol.to_rdkit_mol()\n",
    "    molecule.RemoveAllConformers()\n",
    "\n",
    "    if ETKDG_version is None:\n",
    "        cids = rdkit.EmbedMultipleConfs(\n",
    "            mol=molecule,\n",
    "            numConfs=N,\n",
    "            randomSeed=1000,\n",
    "            useExpTorsionAnglePrefs=True,\n",
    "            useBasicKnowledge=True,\n",
    "            numThreads=4,\n",
    "        )\n",
    "\n",
    "    elif ETKDG_version == 'v3':\n",
    "        params = rdkit.ETKDGv3()\n",
    "        params.randomSeed = 1000\n",
    "        cids = rdkit.EmbedMultipleConfs(\n",
    "            mol=molecule,\n",
    "            numConfs=N,\n",
    "            params=params\n",
    "        )\n",
    "\n",
    "    print(f'there are {molecule.GetNumConformers()} conformers')\n",
    "    return cids, molecule"
   ]
  },
  {
   "cell_type": "code",
   "execution_count": 19,
   "metadata": {},
   "outputs": [],
   "source": [
    "\n",
    "def update_from_rdkit_conf(stk_mol, rdk_mol, conf_id):\n",
    "    \"\"\"\n",
    "    Update the structure to match `conf_id` of `mol`.\n",
    "\n",
    "    Parameters\n",
    "    ----------\n",
    "    struct : :class:`stk.Molecule`\n",
    "        The molecule whoce coordinates are to be updated.\n",
    "\n",
    "    mol : :class:`rdkit.Mol`\n",
    "        The :mod:`rdkit` molecule to use for the structure update.\n",
    "\n",
    "    conf_id : :class:`int`\n",
    "        The conformer ID of the `mol` to update from.\n",
    "\n",
    "    Returns\n",
    "    -------\n",
    "    :class:`.Molecule`\n",
    "        The molecule.\n",
    "\n",
    "    \"\"\"\n",
    "\n",
    "    pos_mat = rdk_mol.GetConformer(id=conf_id).GetPositions()\n",
    "    return stk_mol.with_position_matrix(pos_mat)"
   ]
  },
  {
   "cell_type": "code",
   "execution_count": 20,
   "metadata": {},
   "outputs": [
    {
     "name": "stdout",
     "output_type": "stream",
     "text": [
      "BuildingBlock('C(=NCCCN=Cc1c[nH]cn1)c1c[nH]cn1', (GenericFunctionalGroup(atoms=(C(3), N(2), C(1)), bonders=(N(2),), deleters=()), GenericFunctionalGroup(atoms=(C(11), N(10), C(9)), bonders=(N(10),), deleters=()), GenericFunctionalGroup(atoms=(C(4), N(8), C(7)), bonders=(N(8),), deleters=()), GenericFunctionalGroup(atoms=(C(12), N(16), C(15)), bonders=(N(16),), deleters=())))\n",
      "there are 100 conformers\n"
     ]
    }
   ],
   "source": [
    "# We want to find a conformer that has the 4 Ns atoms that bind to the Cu in a planar conformation\n",
    "# Find the four N atoms we want.\n",
    "corner_organic = stk.BuildingBlock(\n",
    "    smiles='C(CN=Cc1c[nH]cn1)CN=Cc2c[nH]cn2',\n",
    "    functional_groups=[imine_fg, imidazole_fg],\n",
    ")\n",
    "print(corner_organic)\n",
    "\n",
    "# N-N-N-N dihedral to be 0.\n",
    "atom_ids = [16, 10, 2, 8]\n",
    "# Get a conformer ensemble.\n",
    "cids, confs = build_conformers(corner_organic, N=100)\n",
    "dihedrals = []\n",
    "min_dihedral = 180\n",
    "for cid in cids:\n",
    "    new_conf = update_from_rdkit_conf(corner_organic, confs, cid)\n",
    "    position_matrix = new_conf.get_position_matrix()\n",
    "    dihedral = get_dihedral(\n",
    "        pt1=position_matrix[atom_ids[0]],\n",
    "        pt2=position_matrix[atom_ids[1]],\n",
    "        pt3=position_matrix[atom_ids[2]],\n",
    "        pt4=position_matrix[atom_ids[3]],\n",
    "    )\n",
    "    dihedrals.append(dihedral)\n",
    "    if abs(dihedral) < min_dihedral:\n",
    "        corner_organic = corner_organic.with_position_matrix(position_matrix)\n",
    "    min_dihedral = min([dihedral, min_dihedral])"
   ]
  },
  {
   "cell_type": "code",
   "execution_count": 21,
   "metadata": {},
   "outputs": [
    {
     "data": {
      "text/plain": [
       "BuildingBlock('C(=NCCCN=Cc1c[nH]cn1)c1c[nH]cn1', (GenericFunctionalGroup(atoms=(C(3), N(2), C(1)), bonders=(N(2),), deleters=()), GenericFunctionalGroup(atoms=(C(11), N(10), C(9)), bonders=(N(10),), deleters=()), GenericFunctionalGroup(atoms=(C(4), N(8), C(7)), bonders=(N(8),), deleters=()), GenericFunctionalGroup(atoms=(C(12), N(16), C(15)), bonders=(N(16),), deleters=())))"
      ]
     },
     "execution_count": 21,
     "metadata": {},
     "output_type": "execute_result"
    }
   ],
   "source": [
    "corner_organic"
   ]
  },
  {
   "cell_type": "code",
   "execution_count": 22,
   "metadata": {
    "tags": []
   },
   "outputs": [
    {
     "data": {
      "text/plain": [
       "[-41.81643397059032,\n",
       " 13.483584654621415,\n",
       " 121.1925158344604,\n",
       " -68.03530192898388,\n",
       " 143.83480952315355,\n",
       " 86.80803455744523,\n",
       " 179.90175461292256,\n",
       " -62.59221158642561,\n",
       " 156.11550381867707,\n",
       " -162.45593823204806,\n",
       " 170.31768505699705,\n",
       " -2.3552576169259667,\n",
       " 1.284304935811833,\n",
       " 108.36245934543767,\n",
       " 58.51823115593111,\n",
       " -177.02119246778298,\n",
       " 18.794104602333817,\n",
       " 87.24037994314212,\n",
       " 68.32328706349757,\n",
       " -56.060730977564894,\n",
       " -105.23957421343603,\n",
       " 171.76076279221462,\n",
       " -90.27394252656715,\n",
       " 179.34066032855887,\n",
       " -26.518515950685014,\n",
       " 125.63543041888843,\n",
       " 158.0795728925846,\n",
       " -5.179797269234725,\n",
       " 125.80866426208243,\n",
       " 178.25125362139678,\n",
       " -94.53716824699232,\n",
       " -155.57767181822695,\n",
       " -107.24993515199401,\n",
       " -155.84000923041077,\n",
       " 121.15465465411616,\n",
       " -155.1130316167855,\n",
       " -150.96763977185074,\n",
       " 178.0204084606963,\n",
       " -10.444909107866614,\n",
       " 158.8952889400003,\n",
       " -170.23198958088832,\n",
       " -131.0278818513004,\n",
       " 97.56868358442881,\n",
       " -46.35717585577139,\n",
       " 78.61527426953447,\n",
       " 173.0671842037653,\n",
       " -156.13294700597731,\n",
       " 112.98589753815067,\n",
       " -135.1404469139511,\n",
       " -3.2753052983432593,\n",
       " 46.36635777109735,\n",
       " -139.5552258813382,\n",
       " -178.82193496351405,\n",
       " 138.0283034025339,\n",
       " 105.94817448596363,\n",
       " 154.53615150492436,\n",
       " -70.67523855590481,\n",
       " 166.39225241256443,\n",
       " 137.76284993343103,\n",
       " -109.595769370221,\n",
       " -0.9569095601631536,\n",
       " 130.41746614192485,\n",
       " -0.09584431659576695,\n",
       " -39.621926614617095,\n",
       " 126.70606866083392,\n",
       " 116.94252152390702,\n",
       " 56.547745981056586,\n",
       " 23.523642333565522,\n",
       " -140.07328646230627,\n",
       " 168.91696968844838,\n",
       " -146.1981234843986,\n",
       " -164.01835846837628,\n",
       " -161.70051402968366,\n",
       " -106.52747379460517,\n",
       " -126.32497244829963,\n",
       " -152.25015225493593,\n",
       " 174.57401558370958,\n",
       " 145.70307114088845,\n",
       " 47.841706482473896,\n",
       " 125.86923043382717,\n",
       " 62.99549774663468,\n",
       " 92.74608148510455,\n",
       " -137.31492745637243,\n",
       " -140.88518081113403,\n",
       " -112.2668643218013,\n",
       " 99.61928330585643,\n",
       " 161.04320916790317,\n",
       " 179.9362645769531,\n",
       " -172.84143526701664,\n",
       " 134.40912143010763,\n",
       " 109.49061255882923,\n",
       " 66.79067377576654,\n",
       " -146.76414847616408,\n",
       " -134.9247998781783,\n",
       " -2.448645793503281,\n",
       " -173.77135891521132,\n",
       " -139.6889919985498,\n",
       " -77.95155137388063,\n",
       " -131.71678696702202,\n",
       " 173.5986777660264]"
      ]
     },
     "execution_count": 22,
     "metadata": {},
     "output_type": "execute_result"
    }
   ],
   "source": [
    "dihedrals"
   ]
  },
  {
   "cell_type": "code",
   "execution_count": 23,
   "metadata": {},
   "outputs": [
    {
     "data": {
      "text/plain": [
       "BuildingBlock('C(=NCCCN=Cc1c[nH]cn1)c1c[nH]cn1', (GenericFunctionalGroup(atoms=(C(3), N(2), C(1)), bonders=(N(2),), deleters=()), GenericFunctionalGroup(atoms=(C(11), N(10), C(9)), bonders=(N(10),), deleters=()), GenericFunctionalGroup(atoms=(C(4), N(8), C(7)), bonders=(N(8),), deleters=()), GenericFunctionalGroup(atoms=(C(12), N(16), C(15)), bonders=(N(16),), deleters=())))"
      ]
     },
     "execution_count": 23,
     "metadata": {},
     "output_type": "execute_result"
    }
   ],
   "source": [
    "corner_organic.write('testme2.mol')"
   ]
  },
  {
   "cell_type": "code",
   "execution_count": 24,
   "metadata": {},
   "outputs": [
    {
     "data": {
      "application/3dmoljs_load.v0": "<div id=\"3dmolviewer_170889407612122\"  style=\"position: relative; width: 400px; height: 400px;\">\n        <p id=\"3dmolwarning_170889407612122\" style=\"background-color:#ffcccc;color:black\">You appear to be running in JupyterLab (or JavaScript failed to load for some other reason).  You need to install the 3dmol extension: <br>\n        <tt>jupyter labextension install jupyterlab_3dmol</tt></p>\n        </div>\n<script>\n\nvar loadScriptAsync = function(uri){\n  return new Promise((resolve, reject) => {\n    //this is to ignore the existence of requirejs amd\n    var savedexports, savedmodule;\n    if (typeof exports !== 'undefined') savedexports = exports;\n    else exports = {}\n    if (typeof module !== 'undefined') savedmodule = module;\n    else module = {}\n\n    var tag = document.createElement('script');\n    tag.src = uri;\n    tag.async = true;\n    tag.onload = () => {\n        exports = savedexports;\n        module = savedmodule;\n        resolve();\n    };\n  var firstScriptTag = document.getElementsByTagName('script')[0];\n  firstScriptTag.parentNode.insertBefore(tag, firstScriptTag);\n});\n};\n\nif(typeof $3Dmolpromise === 'undefined') {\n$3Dmolpromise = null;\n  $3Dmolpromise = loadScriptAsync('https://cdnjs.cloudflare.com/ajax/libs/3Dmol/2.0.4/3Dmol-min.js');\n}\n\nvar viewer_170889407612122 = null;\nvar warn = document.getElementById(\"3dmolwarning_170889407612122\");\nif(warn) {\n    warn.parentNode.removeChild(warn);\n}\n$3Dmolpromise.then(function() {\nviewer_170889407612122 = $3Dmol.createViewer(document.getElementById(\"3dmolviewer_170889407612122\"),{backgroundColor:\"white\"});\nviewer_170889407612122.addModel(\"\\n     RDKit          3D\\n\\n 31 32  0  0  0  0  0  0  0  0999 V2000\\n   -0.3868   -2.4221    0.4032 C   0  0  0  0  0  0  0  0  0  0  0  0\\n   -0.6754   -1.7878   -0.9606 C   0  0  0  0  0  0  0  0  0  0  0  0\\n   -1.4507   -0.5808   -0.7831 N   0  0  0  0  0  0  0  0  0  0  0  0\\n   -2.5555   -0.5537   -0.1118 C   0  0  0  0  0  0  0  0  0  0  0  0\\n   -3.2837    0.7032    0.0243 C   0  0  0  0  0  0  0  0  0  0  0  0\\n   -4.4675    0.9284    0.6951 C   0  0  0  0  0  0  0  0  0  0  0  0\\n   -4.8259    2.2200    0.5958 N   0  0  0  0  0  0  0  0  0  0  0  0\\n   -3.8732    2.8206   -0.1372 C   0  0  0  0  0  0  0  0  0  0  0  0\\n   -2.9427    1.9134   -0.4840 N   0  0  0  0  0  0  0  0  0  0  0  0\\n    0.3920   -1.4021    1.2093 C   0  0  0  0  0  0  0  0  0  0  0  0\\n    1.6361   -1.0530    0.5569 N   0  0  0  0  0  0  0  0  0  0  0  0\\n    2.1529    0.0976    0.8214 C   0  0  0  0  0  0  0  0  0  0  0  0\\n    3.4025    0.5251    0.2070 C   0  0  0  0  0  0  0  0  0  0  0  0\\n    4.1184   -0.2428   -0.6843 C   0  0  0  0  0  0  0  0  0  0  0  0\\n    5.2023    0.4363   -1.0530 N   0  0  0  0  0  0  0  0  0  0  0  0\\n    5.1728    1.6069   -0.4098 C   0  0  0  0  0  0  0  0  0  0  0  0\\n    4.0724    1.6583    0.3590 N   0  0  0  0  0  0  0  0  0  0  0  0\\n    0.1844   -3.3330    0.2230 H   0  0  0  0  0  0  0  0  0  0  0  0\\n   -1.3760   -2.6223    0.8600 H   0  0  0  0  0  0  0  0  0  0  0  0\\n    0.3027   -1.4694   -1.4040 H   0  0  0  0  0  0  0  0  0  0  0  0\\n   -1.1879   -2.5210   -1.6220 H   0  0  0  0  0  0  0  0  0  0  0  0\\n   -2.9571   -1.4335    0.3519 H   0  0  0  0  0  0  0  0  0  0  0  0\\n   -5.0334    0.1775    1.2279 H   0  0  0  0  0  0  0  0  0  0  0  0\\n   -5.6799    2.6940    1.0027 H   0  0  0  0  0  0  0  0  0  0  0  0\\n   -3.8060    3.8671   -0.4370 H   0  0  0  0  0  0  0  0  0  0  0  0\\n    0.6683   -1.8468    2.1972 H   0  0  0  0  0  0  0  0  0  0  0  0\\n   -0.1884   -0.4731    1.3453 H   0  0  0  0  0  0  0  0  0  0  0  0\\n    1.6737    0.7964    1.5164 H   0  0  0  0  0  0  0  0  0  0  0  0\\n    3.8484   -1.2164   -1.0207 H   0  0  0  0  0  0  0  0  0  0  0  0\\n    5.9381    0.1182   -1.7182 H   0  0  0  0  0  0  0  0  0  0  0  0\\n    5.9249    2.3949   -0.4970 H   0  0  0  0  0  0  0  0  0  0  0  0\\n  1  2  1  0\\n  2  3  1  0\\n  3  4  2  3\\n  4  5  1  0\\n  5  6  2  0\\n  6  7  1  0\\n  7  8  1  0\\n  8  9  2  0\\n  1 10  1  0\\n 10 11  1  0\\n 11 12  2  3\\n 12 13  1  0\\n 13 14  2  0\\n 14 15  1  0\\n 15 16  1  0\\n 16 17  2  0\\n  9  5  1  0\\n 17 13  1  0\\n  1 18  1  0\\n  1 19  1  0\\n  2 20  1  0\\n  2 21  1  0\\n  4 22  1  0\\n  6 23  1  0\\n  7 24  1  0\\n  8 25  1  0\\n 10 26  1  0\\n 10 27  1  0\\n 12 28  1  0\\n 14 29  1  0\\n 15 30  1  0\\n 16 31  1  0\\nM  END\\n\");\nviewer_170889407612122.setStyle({\"stick\": {\"colorscheme\": \"cyanCarbon\"}});\nviewer_170889407612122.zoomTo();\n\tviewer_170889407612122.setBackgroundColor(\"0xeeeeee\");\n\tviewer_170889407612122.zoomTo();\nviewer_170889407612122.render();\n});\n</script>",
      "text/html": [
       "<div id=\"3dmolviewer_170889407612122\"  style=\"position: relative; width: 400px; height: 400px;\">\n",
       "        <p id=\"3dmolwarning_170889407612122\" style=\"background-color:#ffcccc;color:black\">You appear to be running in JupyterLab (or JavaScript failed to load for some other reason).  You need to install the 3dmol extension: <br>\n",
       "        <tt>jupyter labextension install jupyterlab_3dmol</tt></p>\n",
       "        </div>\n",
       "<script>\n",
       "\n",
       "var loadScriptAsync = function(uri){\n",
       "  return new Promise((resolve, reject) => {\n",
       "    //this is to ignore the existence of requirejs amd\n",
       "    var savedexports, savedmodule;\n",
       "    if (typeof exports !== 'undefined') savedexports = exports;\n",
       "    else exports = {}\n",
       "    if (typeof module !== 'undefined') savedmodule = module;\n",
       "    else module = {}\n",
       "\n",
       "    var tag = document.createElement('script');\n",
       "    tag.src = uri;\n",
       "    tag.async = true;\n",
       "    tag.onload = () => {\n",
       "        exports = savedexports;\n",
       "        module = savedmodule;\n",
       "        resolve();\n",
       "    };\n",
       "  var firstScriptTag = document.getElementsByTagName('script')[0];\n",
       "  firstScriptTag.parentNode.insertBefore(tag, firstScriptTag);\n",
       "});\n",
       "};\n",
       "\n",
       "if(typeof $3Dmolpromise === 'undefined') {\n",
       "$3Dmolpromise = null;\n",
       "  $3Dmolpromise = loadScriptAsync('https://cdnjs.cloudflare.com/ajax/libs/3Dmol/2.0.4/3Dmol-min.js');\n",
       "}\n",
       "\n",
       "var viewer_170889407612122 = null;\n",
       "var warn = document.getElementById(\"3dmolwarning_170889407612122\");\n",
       "if(warn) {\n",
       "    warn.parentNode.removeChild(warn);\n",
       "}\n",
       "$3Dmolpromise.then(function() {\n",
       "viewer_170889407612122 = $3Dmol.createViewer(document.getElementById(\"3dmolviewer_170889407612122\"),{backgroundColor:\"white\"});\n",
       "viewer_170889407612122.addModel(\"\\n     RDKit          3D\\n\\n 31 32  0  0  0  0  0  0  0  0999 V2000\\n   -0.3868   -2.4221    0.4032 C   0  0  0  0  0  0  0  0  0  0  0  0\\n   -0.6754   -1.7878   -0.9606 C   0  0  0  0  0  0  0  0  0  0  0  0\\n   -1.4507   -0.5808   -0.7831 N   0  0  0  0  0  0  0  0  0  0  0  0\\n   -2.5555   -0.5537   -0.1118 C   0  0  0  0  0  0  0  0  0  0  0  0\\n   -3.2837    0.7032    0.0243 C   0  0  0  0  0  0  0  0  0  0  0  0\\n   -4.4675    0.9284    0.6951 C   0  0  0  0  0  0  0  0  0  0  0  0\\n   -4.8259    2.2200    0.5958 N   0  0  0  0  0  0  0  0  0  0  0  0\\n   -3.8732    2.8206   -0.1372 C   0  0  0  0  0  0  0  0  0  0  0  0\\n   -2.9427    1.9134   -0.4840 N   0  0  0  0  0  0  0  0  0  0  0  0\\n    0.3920   -1.4021    1.2093 C   0  0  0  0  0  0  0  0  0  0  0  0\\n    1.6361   -1.0530    0.5569 N   0  0  0  0  0  0  0  0  0  0  0  0\\n    2.1529    0.0976    0.8214 C   0  0  0  0  0  0  0  0  0  0  0  0\\n    3.4025    0.5251    0.2070 C   0  0  0  0  0  0  0  0  0  0  0  0\\n    4.1184   -0.2428   -0.6843 C   0  0  0  0  0  0  0  0  0  0  0  0\\n    5.2023    0.4363   -1.0530 N   0  0  0  0  0  0  0  0  0  0  0  0\\n    5.1728    1.6069   -0.4098 C   0  0  0  0  0  0  0  0  0  0  0  0\\n    4.0724    1.6583    0.3590 N   0  0  0  0  0  0  0  0  0  0  0  0\\n    0.1844   -3.3330    0.2230 H   0  0  0  0  0  0  0  0  0  0  0  0\\n   -1.3760   -2.6223    0.8600 H   0  0  0  0  0  0  0  0  0  0  0  0\\n    0.3027   -1.4694   -1.4040 H   0  0  0  0  0  0  0  0  0  0  0  0\\n   -1.1879   -2.5210   -1.6220 H   0  0  0  0  0  0  0  0  0  0  0  0\\n   -2.9571   -1.4335    0.3519 H   0  0  0  0  0  0  0  0  0  0  0  0\\n   -5.0334    0.1775    1.2279 H   0  0  0  0  0  0  0  0  0  0  0  0\\n   -5.6799    2.6940    1.0027 H   0  0  0  0  0  0  0  0  0  0  0  0\\n   -3.8060    3.8671   -0.4370 H   0  0  0  0  0  0  0  0  0  0  0  0\\n    0.6683   -1.8468    2.1972 H   0  0  0  0  0  0  0  0  0  0  0  0\\n   -0.1884   -0.4731    1.3453 H   0  0  0  0  0  0  0  0  0  0  0  0\\n    1.6737    0.7964    1.5164 H   0  0  0  0  0  0  0  0  0  0  0  0\\n    3.8484   -1.2164   -1.0207 H   0  0  0  0  0  0  0  0  0  0  0  0\\n    5.9381    0.1182   -1.7182 H   0  0  0  0  0  0  0  0  0  0  0  0\\n    5.9249    2.3949   -0.4970 H   0  0  0  0  0  0  0  0  0  0  0  0\\n  1  2  1  0\\n  2  3  1  0\\n  3  4  2  3\\n  4  5  1  0\\n  5  6  2  0\\n  6  7  1  0\\n  7  8  1  0\\n  8  9  2  0\\n  1 10  1  0\\n 10 11  1  0\\n 11 12  2  3\\n 12 13  1  0\\n 13 14  2  0\\n 14 15  1  0\\n 15 16  1  0\\n 16 17  2  0\\n  9  5  1  0\\n 17 13  1  0\\n  1 18  1  0\\n  1 19  1  0\\n  2 20  1  0\\n  2 21  1  0\\n  4 22  1  0\\n  6 23  1  0\\n  7 24  1  0\\n  8 25  1  0\\n 10 26  1  0\\n 10 27  1  0\\n 12 28  1  0\\n 14 29  1  0\\n 15 30  1  0\\n 16 31  1  0\\nM  END\\n\");\n",
       "viewer_170889407612122.setStyle({\"stick\": {\"colorscheme\": \"cyanCarbon\"}});\n",
       "viewer_170889407612122.zoomTo();\n",
       "\tviewer_170889407612122.setBackgroundColor(\"0xeeeeee\");\n",
       "\tviewer_170889407612122.zoomTo();\n",
       "viewer_170889407612122.render();\n",
       "});\n",
       "</script>"
      ]
     },
     "metadata": {},
     "output_type": "display_data"
    }
   ],
   "source": [
    "show_stk_mol(corner_organic)"
   ]
  },
  {
   "cell_type": "markdown",
   "metadata": {},
   "source": [
    "# Harry saves the day!"
   ]
  },
  {
   "cell_type": "code",
   "execution_count": 25,
   "metadata": {
    "tags": []
   },
   "outputs": [
    {
     "name": "stdout",
     "output_type": "stream",
     "text": [
      "<ConstructedMolecule at 126867153798160>\n"
     ]
    },
    {
     "data": {
      "application/3dmoljs_load.v0": "<div id=\"3dmolviewer_17088940808151667\"  style=\"position: relative; width: 400px; height: 400px;\">\n        <p id=\"3dmolwarning_17088940808151667\" style=\"background-color:#ffcccc;color:black\">You appear to be running in JupyterLab (or JavaScript failed to load for some other reason).  You need to install the 3dmol extension: <br>\n        <tt>jupyter labextension install jupyterlab_3dmol</tt></p>\n        </div>\n<script>\n\nvar loadScriptAsync = function(uri){\n  return new Promise((resolve, reject) => {\n    //this is to ignore the existence of requirejs amd\n    var savedexports, savedmodule;\n    if (typeof exports !== 'undefined') savedexports = exports;\n    else exports = {}\n    if (typeof module !== 'undefined') savedmodule = module;\n    else module = {}\n\n    var tag = document.createElement('script');\n    tag.src = uri;\n    tag.async = true;\n    tag.onload = () => {\n        exports = savedexports;\n        module = savedmodule;\n        resolve();\n    };\n  var firstScriptTag = document.getElementsByTagName('script')[0];\n  firstScriptTag.parentNode.insertBefore(tag, firstScriptTag);\n});\n};\n\nif(typeof $3Dmolpromise === 'undefined') {\n$3Dmolpromise = null;\n  $3Dmolpromise = loadScriptAsync('https://cdnjs.cloudflare.com/ajax/libs/3Dmol/2.0.4/3Dmol-min.js');\n}\n\nvar viewer_17088940808151667 = null;\nvar warn = document.getElementById(\"3dmolwarning_17088940808151667\");\nif(warn) {\n    warn.parentNode.removeChild(warn);\n}\n$3Dmolpromise.then(function() {\nviewer_17088940808151667 = $3Dmol.createViewer(document.getElementById(\"3dmolviewer_17088940808151667\"),{backgroundColor:\"white\"});\nviewer_17088940808151667.addModel(\"\\n     RDKit          3D\\n\\n  0  0  0  0  0  0  0  0  0  0999 V3000\\nM  V30 BEGIN CTAB\\nM  V30 COUNTS 32 36 0 0 0\\nM  V30 BEGIN ATOM\\nM  V30 1 Cu 0.000000 0.000000 0.000000 0 CHG=2 VAL=4\\nM  V30 2 C -0.715517 -2.906522 0.491019 0\\nM  V30 3 C -1.004142 -2.272289 -0.872790 0\\nM  V30 4 N -1.779486 -1.065266 -0.695314 0\\nM  V30 5 C -2.884309 -1.038196 -0.024058 0\\nM  V30 6 C -3.612417 0.218704 0.112108 0\\nM  V30 7 C -4.796261 0.443938 0.782893 0\\nM  V30 8 N -5.154662 1.735554 0.683622 0\\nM  V30 9 C -4.202001 2.336151 -0.049388 0\\nM  V30 10 N -3.271474 1.428894 -0.396179 0\\nM  V30 11 C 0.063186 -1.886597 1.297116 0\\nM  V30 12 N 1.307331 -1.537500 0.644677 0\\nM  V30 13 C 1.824137 -0.386828 0.909176 0\\nM  V30 14 C 3.073710 0.040631 0.294811 0\\nM  V30 15 C 3.789631 -0.727267 -0.596467 0\\nM  V30 16 N 4.873542 -0.048133 -0.965214 0\\nM  V30 17 C 4.844042 1.122435 -0.322054 0\\nM  V30 18 N 3.743628 1.173871 0.446816 0\\nM  V30 19 H -0.144323 -3.817449 0.310746 0\\nM  V30 20 H -1.704734 -3.106777 0.947790 0\\nM  V30 21 H -0.026020 -1.953843 -1.316199 0\\nM  V30 22 H -1.516645 -3.005447 -1.534178 0\\nM  V30 23 H -3.285818 -1.917991 0.439736 0\\nM  V30 24 H -5.362124 -0.306934 1.315697 0\\nM  V30 25 H -6.008656 2.209521 1.090535 0\\nM  V30 26 H -4.134809 3.382638 -0.349231 0\\nM  V30 27 H 0.339579 -2.331252 2.284971 0\\nM  V30 28 H -0.517181 -0.957545 1.433059 0\\nM  V30 29 H 1.344936 0.311959 1.604171 0\\nM  V30 30 H 3.519613 -1.700900 -0.932945 0\\nM  V30 31 H 5.609359 -0.366259 -1.630405 0\\nM  V30 32 H 5.596115 1.910424 -0.409246 0\\nM  V30 END ATOM\\nM  V30 BEGIN BOND\\nM  V30 1 1 2 3\\nM  V30 2 1 3 4\\nM  V30 3 2 4 5\\nM  V30 4 1 5 6\\nM  V30 5 2 6 7\\nM  V30 6 1 7 8\\nM  V30 7 1 8 9\\nM  V30 8 2 9 10\\nM  V30 9 1 2 11\\nM  V30 10 1 11 12\\nM  V30 11 2 12 13\\nM  V30 12 1 13 14\\nM  V30 13 2 14 15\\nM  V30 14 1 15 16\\nM  V30 15 1 16 17\\nM  V30 16 2 17 18\\nM  V30 17 1 10 6\\nM  V30 18 1 18 14\\nM  V30 19 1 2 19\\nM  V30 20 1 2 20\\nM  V30 21 1 3 21\\nM  V30 22 1 3 22\\nM  V30 23 1 5 23\\nM  V30 24 1 7 24\\nM  V30 25 1 8 25\\nM  V30 26 1 9 26\\nM  V30 27 1 11 27\\nM  V30 28 1 11 28\\nM  V30 29 1 13 29\\nM  V30 30 1 15 30\\nM  V30 31 1 16 31\\nM  V30 32 1 17 32\\nM  V30 33 9 4 1\\nM  V30 34 9 12 1\\nM  V30 35 9 10 1\\nM  V30 36 9 18 1\\nM  V30 END BOND\\nM  V30 END CTAB\\nM  END\\n\");\nviewer_17088940808151667.setStyle({\"stick\": {\"colorscheme\": \"cyanCarbon\"}});\nviewer_17088940808151667.zoomTo();\n\tviewer_17088940808151667.setBackgroundColor(\"0xeeeeee\");\n\tviewer_17088940808151667.zoomTo();\nviewer_17088940808151667.render();\n});\n</script>",
      "text/html": [
       "<div id=\"3dmolviewer_17088940808151667\"  style=\"position: relative; width: 400px; height: 400px;\">\n",
       "        <p id=\"3dmolwarning_17088940808151667\" style=\"background-color:#ffcccc;color:black\">You appear to be running in JupyterLab (or JavaScript failed to load for some other reason).  You need to install the 3dmol extension: <br>\n",
       "        <tt>jupyter labextension install jupyterlab_3dmol</tt></p>\n",
       "        </div>\n",
       "<script>\n",
       "\n",
       "var loadScriptAsync = function(uri){\n",
       "  return new Promise((resolve, reject) => {\n",
       "    //this is to ignore the existence of requirejs amd\n",
       "    var savedexports, savedmodule;\n",
       "    if (typeof exports !== 'undefined') savedexports = exports;\n",
       "    else exports = {}\n",
       "    if (typeof module !== 'undefined') savedmodule = module;\n",
       "    else module = {}\n",
       "\n",
       "    var tag = document.createElement('script');\n",
       "    tag.src = uri;\n",
       "    tag.async = true;\n",
       "    tag.onload = () => {\n",
       "        exports = savedexports;\n",
       "        module = savedmodule;\n",
       "        resolve();\n",
       "    };\n",
       "  var firstScriptTag = document.getElementsByTagName('script')[0];\n",
       "  firstScriptTag.parentNode.insertBefore(tag, firstScriptTag);\n",
       "});\n",
       "};\n",
       "\n",
       "if(typeof $3Dmolpromise === 'undefined') {\n",
       "$3Dmolpromise = null;\n",
       "  $3Dmolpromise = loadScriptAsync('https://cdnjs.cloudflare.com/ajax/libs/3Dmol/2.0.4/3Dmol-min.js');\n",
       "}\n",
       "\n",
       "var viewer_17088940808151667 = null;\n",
       "var warn = document.getElementById(\"3dmolwarning_17088940808151667\");\n",
       "if(warn) {\n",
       "    warn.parentNode.removeChild(warn);\n",
       "}\n",
       "$3Dmolpromise.then(function() {\n",
       "viewer_17088940808151667 = $3Dmol.createViewer(document.getElementById(\"3dmolviewer_17088940808151667\"),{backgroundColor:\"white\"});\n",
       "viewer_17088940808151667.addModel(\"\\n     RDKit          3D\\n\\n  0  0  0  0  0  0  0  0  0  0999 V3000\\nM  V30 BEGIN CTAB\\nM  V30 COUNTS 32 36 0 0 0\\nM  V30 BEGIN ATOM\\nM  V30 1 Cu 0.000000 0.000000 0.000000 0 CHG=2 VAL=4\\nM  V30 2 C -0.715517 -2.906522 0.491019 0\\nM  V30 3 C -1.004142 -2.272289 -0.872790 0\\nM  V30 4 N -1.779486 -1.065266 -0.695314 0\\nM  V30 5 C -2.884309 -1.038196 -0.024058 0\\nM  V30 6 C -3.612417 0.218704 0.112108 0\\nM  V30 7 C -4.796261 0.443938 0.782893 0\\nM  V30 8 N -5.154662 1.735554 0.683622 0\\nM  V30 9 C -4.202001 2.336151 -0.049388 0\\nM  V30 10 N -3.271474 1.428894 -0.396179 0\\nM  V30 11 C 0.063186 -1.886597 1.297116 0\\nM  V30 12 N 1.307331 -1.537500 0.644677 0\\nM  V30 13 C 1.824137 -0.386828 0.909176 0\\nM  V30 14 C 3.073710 0.040631 0.294811 0\\nM  V30 15 C 3.789631 -0.727267 -0.596467 0\\nM  V30 16 N 4.873542 -0.048133 -0.965214 0\\nM  V30 17 C 4.844042 1.122435 -0.322054 0\\nM  V30 18 N 3.743628 1.173871 0.446816 0\\nM  V30 19 H -0.144323 -3.817449 0.310746 0\\nM  V30 20 H -1.704734 -3.106777 0.947790 0\\nM  V30 21 H -0.026020 -1.953843 -1.316199 0\\nM  V30 22 H -1.516645 -3.005447 -1.534178 0\\nM  V30 23 H -3.285818 -1.917991 0.439736 0\\nM  V30 24 H -5.362124 -0.306934 1.315697 0\\nM  V30 25 H -6.008656 2.209521 1.090535 0\\nM  V30 26 H -4.134809 3.382638 -0.349231 0\\nM  V30 27 H 0.339579 -2.331252 2.284971 0\\nM  V30 28 H -0.517181 -0.957545 1.433059 0\\nM  V30 29 H 1.344936 0.311959 1.604171 0\\nM  V30 30 H 3.519613 -1.700900 -0.932945 0\\nM  V30 31 H 5.609359 -0.366259 -1.630405 0\\nM  V30 32 H 5.596115 1.910424 -0.409246 0\\nM  V30 END ATOM\\nM  V30 BEGIN BOND\\nM  V30 1 1 2 3\\nM  V30 2 1 3 4\\nM  V30 3 2 4 5\\nM  V30 4 1 5 6\\nM  V30 5 2 6 7\\nM  V30 6 1 7 8\\nM  V30 7 1 8 9\\nM  V30 8 2 9 10\\nM  V30 9 1 2 11\\nM  V30 10 1 11 12\\nM  V30 11 2 12 13\\nM  V30 12 1 13 14\\nM  V30 13 2 14 15\\nM  V30 14 1 15 16\\nM  V30 15 1 16 17\\nM  V30 16 2 17 18\\nM  V30 17 1 10 6\\nM  V30 18 1 18 14\\nM  V30 19 1 2 19\\nM  V30 20 1 2 20\\nM  V30 21 1 3 21\\nM  V30 22 1 3 22\\nM  V30 23 1 5 23\\nM  V30 24 1 7 24\\nM  V30 25 1 8 25\\nM  V30 26 1 9 26\\nM  V30 27 1 11 27\\nM  V30 28 1 11 28\\nM  V30 29 1 13 29\\nM  V30 30 1 15 30\\nM  V30 31 1 16 31\\nM  V30 32 1 17 32\\nM  V30 33 9 4 1\\nM  V30 34 9 12 1\\nM  V30 35 9 10 1\\nM  V30 36 9 18 1\\nM  V30 END BOND\\nM  V30 END CTAB\\nM  END\\n\");\n",
       "viewer_17088940808151667.setStyle({\"stick\": {\"colorscheme\": \"cyanCarbon\"}});\n",
       "viewer_17088940808151667.zoomTo();\n",
       "\tviewer_17088940808151667.setBackgroundColor(\"0xeeeeee\");\n",
       "\tviewer_17088940808151667.zoomTo();\n",
       "viewer_17088940808151667.render();\n",
       "});\n",
       "</script>"
      ]
     },
     "metadata": {},
     "output_type": "display_data"
    }
   ],
   "source": [
    "topology_graph = stk.metal_complex.Porphyrin(\n",
    "    metals=cu_atom_green,\n",
    "    ligands=corner_organic,\n",
    "    optimizer=stk.NullOptimizer(),\n",
    ")\n",
    "corner_mo = stk.ConstructedMolecule(topology_graph)\n",
    "print(corner_mo)\n",
    "show_stk_mol(corner_mo)"
   ]
  },
  {
   "cell_type": "code",
   "execution_count": 26,
   "metadata": {},
   "outputs": [
    {
     "data": {
      "text/plain": [
       "<ConstructedMolecule at 126867153798160>"
      ]
     },
     "execution_count": 26,
     "metadata": {},
     "output_type": "execute_result"
    }
   ],
   "source": [
    "# Hacky - could use stko.\n",
    "corner_mo.write('corner_mo_unopt.mol')"
   ]
  },
  {
   "cell_type": "code",
   "execution_count": 27,
   "metadata": {},
   "outputs": [
    {
     "ename": "OSError",
     "evalue": "Bad input file corner_mo_opt.mol",
     "output_type": "error",
     "traceback": [
      "\u001b[0;31m---------------------------------------------------------------------------\u001b[0m",
      "\u001b[0;31mOSError\u001b[0m                                   Traceback (most recent call last)",
      "Cell \u001b[0;32mIn[27], line 1\u001b[0m\n\u001b[0;32m----> 1\u001b[0m opt_corner_mo \u001b[38;5;241m=\u001b[39m \u001b[43mcorner_mo\u001b[49m\u001b[38;5;241;43m.\u001b[39;49m\u001b[43mwith_structure_from_file\u001b[49m\u001b[43m(\u001b[49m\u001b[38;5;124;43m'\u001b[39;49m\u001b[38;5;124;43mcorner_mo_opt.mol\u001b[39;49m\u001b[38;5;124;43m'\u001b[39;49m\u001b[43m)\u001b[49m\n",
      "File \u001b[0;32m~/miniforge3/envs/exampledev/lib/python3.11/site-packages/stk/_internal/constructed_molecule.py:602\u001b[0m, in \u001b[0;36mConstructedMolecule.with_structure_from_file\u001b[0;34m(self, path, extension)\u001b[0m\n\u001b[1;32m    572\u001b[0m \u001b[38;5;28;01mdef\u001b[39;00m \u001b[38;5;21mwith_structure_from_file\u001b[39m(\n\u001b[1;32m    573\u001b[0m     \u001b[38;5;28mself\u001b[39m,\n\u001b[1;32m    574\u001b[0m     path: pathlib\u001b[38;5;241m.\u001b[39mPath \u001b[38;5;241m|\u001b[39m \u001b[38;5;28mstr\u001b[39m,\n\u001b[1;32m    575\u001b[0m     extension: \u001b[38;5;28mstr\u001b[39m \u001b[38;5;241m|\u001b[39m \u001b[38;5;28;01mNone\u001b[39;00m \u001b[38;5;241m=\u001b[39m \u001b[38;5;28;01mNone\u001b[39;00m,\n\u001b[1;32m    576\u001b[0m ) \u001b[38;5;241m-\u001b[39m\u001b[38;5;241m>\u001b[39m typing\u001b[38;5;241m.\u001b[39mSelf:\n\u001b[1;32m    577\u001b[0m \u001b[38;5;250m    \u001b[39m\u001b[38;5;124;03m\"\"\"\u001b[39;00m\n\u001b[1;32m    578\u001b[0m \u001b[38;5;124;03m    Return a clone, with its structure taken from a file.\u001b[39;00m\n\u001b[1;32m    579\u001b[0m \n\u001b[0;32m   (...)\u001b[0m\n\u001b[1;32m    600\u001b[0m \u001b[38;5;124;03m        ConstructedMolecule: A clone with atomic positions found in `path`.\u001b[39;00m\n\u001b[1;32m    601\u001b[0m \u001b[38;5;124;03m    \"\"\"\u001b[39;00m\n\u001b[0;32m--> 602\u001b[0m     \u001b[38;5;28;01mreturn\u001b[39;00m \u001b[38;5;28;43msuper\u001b[39;49m\u001b[43m(\u001b[49m\u001b[43m)\u001b[49m\u001b[38;5;241;43m.\u001b[39;49m\u001b[43mwith_structure_from_file\u001b[49m\u001b[43m(\u001b[49m\u001b[38;5;28;43mstr\u001b[39;49m\u001b[43m(\u001b[49m\u001b[43mpath\u001b[49m\u001b[43m)\u001b[49m\u001b[43m,\u001b[49m\u001b[43m \u001b[49m\u001b[43mextension\u001b[49m\u001b[43m)\u001b[49m\n",
      "File \u001b[0;32m~/miniforge3/envs/exampledev/lib/python3.11/site-packages/stk/_internal/molecule.py:798\u001b[0m, in \u001b[0;36mMolecule.with_structure_from_file\u001b[0;34m(self, path, extension)\u001b[0m\n\u001b[1;32m    795\u001b[0m \u001b[38;5;28;01mif\u001b[39;00m extension \u001b[38;5;129;01mis\u001b[39;00m \u001b[38;5;28;01mNone\u001b[39;00m:\n\u001b[1;32m    796\u001b[0m     _, extension \u001b[38;5;241m=\u001b[39m os\u001b[38;5;241m.\u001b[39mpath\u001b[38;5;241m.\u001b[39msplitext(path)\n\u001b[0;32m--> 798\u001b[0m \u001b[38;5;28;01mreturn\u001b[39;00m \u001b[43m{\u001b[49m\n\u001b[1;32m    799\u001b[0m \u001b[43m    \u001b[49m\u001b[38;5;124;43m\"\u001b[39;49m\u001b[38;5;124;43m.mol\u001b[39;49m\u001b[38;5;124;43m\"\u001b[39;49m\u001b[43m:\u001b[49m\u001b[43m \u001b[49m\u001b[43mmdl_mol\u001b[49m\u001b[38;5;241;43m.\u001b[39;49m\u001b[43m_with_structure_from_mol\u001b[49m\u001b[43m,\u001b[49m\n\u001b[1;32m    800\u001b[0m \u001b[43m    \u001b[49m\u001b[38;5;124;43m\"\u001b[39;49m\u001b[38;5;124;43m.sdf\u001b[39;49m\u001b[38;5;124;43m\"\u001b[39;49m\u001b[43m:\u001b[49m\u001b[43m \u001b[49m\u001b[43mmdl_mol\u001b[49m\u001b[38;5;241;43m.\u001b[39;49m\u001b[43m_with_structure_from_mol\u001b[49m\u001b[43m,\u001b[49m\n\u001b[1;32m    801\u001b[0m \u001b[43m    \u001b[49m\u001b[38;5;124;43m\"\u001b[39;49m\u001b[38;5;124;43m.mae\u001b[39;49m\u001b[38;5;124;43m\"\u001b[39;49m\u001b[43m:\u001b[49m\u001b[43m \u001b[49m\u001b[43mmae\u001b[49m\u001b[38;5;241;43m.\u001b[39;49m\u001b[43m_with_structure_from_mae\u001b[49m\u001b[43m,\u001b[49m\n\u001b[1;32m    802\u001b[0m \u001b[43m    \u001b[49m\u001b[38;5;124;43m\"\u001b[39;49m\u001b[38;5;124;43m.xyz\u001b[39;49m\u001b[38;5;124;43m\"\u001b[39;49m\u001b[43m:\u001b[49m\u001b[43m \u001b[49m\u001b[43mxyz\u001b[49m\u001b[38;5;241;43m.\u001b[39;49m\u001b[43m_with_structure_from_xyz\u001b[49m\u001b[43m,\u001b[49m\n\u001b[1;32m    803\u001b[0m \u001b[43m    \u001b[49m\u001b[38;5;124;43m\"\u001b[39;49m\u001b[38;5;124;43m.coord\u001b[39;49m\u001b[38;5;124;43m\"\u001b[39;49m\u001b[43m:\u001b[49m\u001b[43m \u001b[49m\u001b[43mturbomole\u001b[49m\u001b[38;5;241;43m.\u001b[39;49m\u001b[43m_with_structure_from_turbomole\u001b[49m\u001b[43m,\u001b[49m\n\u001b[1;32m    804\u001b[0m \u001b[43m    \u001b[49m\u001b[38;5;124;43m\"\u001b[39;49m\u001b[38;5;124;43m.pdb\u001b[39;49m\u001b[38;5;124;43m\"\u001b[39;49m\u001b[43m:\u001b[49m\u001b[43m \u001b[49m\u001b[43mpdb\u001b[49m\u001b[38;5;241;43m.\u001b[39;49m\u001b[43m_with_structure_from_pdb\u001b[49m\u001b[43m,\u001b[49m\n\u001b[1;32m    805\u001b[0m \u001b[43m\u001b[49m\u001b[43m}\u001b[49m\u001b[43m[\u001b[49m\u001b[43mextension\u001b[49m\u001b[43m]\u001b[49m\u001b[43m(\u001b[49m\u001b[38;5;28;43mself\u001b[39;49m\u001b[38;5;241;43m.\u001b[39;49m\u001b[43mclone\u001b[49m\u001b[43m(\u001b[49m\u001b[43m)\u001b[49m\u001b[43m,\u001b[49m\u001b[43m \u001b[49m\u001b[38;5;28;43mstr\u001b[39;49m\u001b[43m(\u001b[49m\u001b[43mpath\u001b[49m\u001b[43m)\u001b[49m\u001b[43m)\u001b[49m\n",
      "File \u001b[0;32m~/miniforge3/envs/exampledev/lib/python3.11/site-packages/stk/_internal/utilities/updaters/mdl_mol.py:30\u001b[0m, in \u001b[0;36m_with_structure_from_mol\u001b[0;34m(self, path)\u001b[0m\n\u001b[1;32m     12\u001b[0m \u001b[38;5;28;01mdef\u001b[39;00m \u001b[38;5;21m_with_structure_from_mol\u001b[39m(\u001b[38;5;28mself\u001b[39m, path):\n\u001b[1;32m     13\u001b[0m \u001b[38;5;250m    \u001b[39m\u001b[38;5;124;03m\"\"\"\u001b[39;00m\n\u001b[1;32m     14\u001b[0m \u001b[38;5;124;03m    Change structure to match a ``.mol`` file.\u001b[39;00m\n\u001b[1;32m     15\u001b[0m \n\u001b[0;32m   (...)\u001b[0m\n\u001b[1;32m     26\u001b[0m \n\u001b[1;32m     27\u001b[0m \u001b[38;5;124;03m    \"\"\"\u001b[39;00m\n\u001b[1;32m     29\u001b[0m     molecule \u001b[38;5;241m=\u001b[39m remake(\n\u001b[0;32m---> 30\u001b[0m         \u001b[43mrdkit\u001b[49m\u001b[38;5;241;43m.\u001b[39;49m\u001b[43mMolFromMolFile\u001b[49m\u001b[43m(\u001b[49m\n\u001b[1;32m     31\u001b[0m \u001b[43m            \u001b[49m\u001b[43mmolFileName\u001b[49m\u001b[38;5;241;43m=\u001b[39;49m\u001b[43mpath\u001b[49m\u001b[43m,\u001b[49m\n\u001b[1;32m     32\u001b[0m \u001b[43m            \u001b[49m\u001b[43msanitize\u001b[49m\u001b[38;5;241;43m=\u001b[39;49m\u001b[38;5;28;43;01mFalse\u001b[39;49;00m\u001b[43m,\u001b[49m\n\u001b[1;32m     33\u001b[0m \u001b[43m            \u001b[49m\u001b[43mremoveHs\u001b[49m\u001b[38;5;241;43m=\u001b[39;49m\u001b[38;5;28;43;01mFalse\u001b[39;49;00m\u001b[43m,\u001b[49m\n\u001b[1;32m     34\u001b[0m \u001b[43m        \u001b[49m\u001b[43m)\u001b[49m\n\u001b[1;32m     35\u001b[0m     )\n\u001b[1;32m     36\u001b[0m     \u001b[38;5;28;01mreturn\u001b[39;00m \u001b[38;5;28mself\u001b[39m\u001b[38;5;241m.\u001b[39m_with_position_matrix(\n\u001b[1;32m     37\u001b[0m         position_matrix\u001b[38;5;241m=\u001b[39mmolecule\u001b[38;5;241m.\u001b[39mGetConformer()\u001b[38;5;241m.\u001b[39mGetPositions()\n\u001b[1;32m     38\u001b[0m     )\n",
      "\u001b[0;31mOSError\u001b[0m: Bad input file corner_mo_opt.mol"
     ]
    }
   ],
   "source": [
    "opt_corner_mo = corner_mo.with_structure_from_file('corner_mo_opt.mol')"
   ]
  },
  {
   "cell_type": "code",
   "execution_count": 28,
   "metadata": {},
   "outputs": [
    {
     "ename": "NameError",
     "evalue": "name 'opt_corner_mo' is not defined",
     "output_type": "error",
     "traceback": [
      "\u001b[0;31m---------------------------------------------------------------------------\u001b[0m",
      "\u001b[0;31mNameError\u001b[0m                                 Traceback (most recent call last)",
      "Cell \u001b[0;32mIn[28], line 6\u001b[0m\n\u001b[1;32m      1\u001b[0m new_imidazole_fg \u001b[38;5;241m=\u001b[39m stk\u001b[38;5;241m.\u001b[39mSmartsFunctionalGroupFactory(\n\u001b[1;32m      2\u001b[0m     smarts\u001b[38;5;241m=\u001b[39m\u001b[38;5;124m'\u001b[39m\u001b[38;5;124m[#6X3][#7X3]([#1])[#6X3]\u001b[39m\u001b[38;5;124m'\u001b[39m,\n\u001b[1;32m      3\u001b[0m     bonders\u001b[38;5;241m=\u001b[39m(\u001b[38;5;241m1\u001b[39m, ),\n\u001b[1;32m      4\u001b[0m     deleters\u001b[38;5;241m=\u001b[39m(\u001b[38;5;241m2\u001b[39m, ),\n\u001b[1;32m      5\u001b[0m )\n\u001b[0;32m----> 6\u001b[0m corner_mo \u001b[38;5;241m=\u001b[39m stk\u001b[38;5;241m.\u001b[39mBuildingBlock\u001b[38;5;241m.\u001b[39minit_from_molecule(\u001b[43mopt_corner_mo\u001b[49m, functional_groups\u001b[38;5;241m=\u001b[39m[new_imidazole_fg])\n",
      "\u001b[0;31mNameError\u001b[0m: name 'opt_corner_mo' is not defined"
     ]
    }
   ],
   "source": [
    "new_imidazole_fg = stk.SmartsFunctionalGroupFactory(\n",
    "    smarts='[#6X3][#7X3]([#1])[#6X3]',\n",
    "    bonders=(1, ),\n",
    "    deleters=(2, ),\n",
    ")\n",
    "corner_mo = stk.BuildingBlock.init_from_molecule(opt_corner_mo, functional_groups=[new_imidazole_fg])"
   ]
  },
  {
   "cell_type": "code",
   "execution_count": 29,
   "metadata": {},
   "outputs": [
    {
     "data": {
      "application/3dmoljs_load.v0": "<div id=\"3dmolviewer_17088940855144536\"  style=\"position: relative; width: 400px; height: 400px;\">\n        <p id=\"3dmolwarning_17088940855144536\" style=\"background-color:#ffcccc;color:black\">You appear to be running in JupyterLab (or JavaScript failed to load for some other reason).  You need to install the 3dmol extension: <br>\n        <tt>jupyter labextension install jupyterlab_3dmol</tt></p>\n        </div>\n<script>\n\nvar loadScriptAsync = function(uri){\n  return new Promise((resolve, reject) => {\n    //this is to ignore the existence of requirejs amd\n    var savedexports, savedmodule;\n    if (typeof exports !== 'undefined') savedexports = exports;\n    else exports = {}\n    if (typeof module !== 'undefined') savedmodule = module;\n    else module = {}\n\n    var tag = document.createElement('script');\n    tag.src = uri;\n    tag.async = true;\n    tag.onload = () => {\n        exports = savedexports;\n        module = savedmodule;\n        resolve();\n    };\n  var firstScriptTag = document.getElementsByTagName('script')[0];\n  firstScriptTag.parentNode.insertBefore(tag, firstScriptTag);\n});\n};\n\nif(typeof $3Dmolpromise === 'undefined') {\n$3Dmolpromise = null;\n  $3Dmolpromise = loadScriptAsync('https://cdnjs.cloudflare.com/ajax/libs/3Dmol/2.0.4/3Dmol-min.js');\n}\n\nvar viewer_17088940855144536 = null;\nvar warn = document.getElementById(\"3dmolwarning_17088940855144536\");\nif(warn) {\n    warn.parentNode.removeChild(warn);\n}\n$3Dmolpromise.then(function() {\nviewer_17088940855144536 = $3Dmol.createViewer(document.getElementById(\"3dmolviewer_17088940855144536\"),{backgroundColor:\"white\"});\nviewer_17088940855144536.addModel(\"\\n     RDKit          3D\\n\\n  0  0  0  0  0  0  0  0  0  0999 V3000\\nM  V30 BEGIN CTAB\\nM  V30 COUNTS 32 36 0 0 0\\nM  V30 BEGIN ATOM\\nM  V30 1 Cu 0.000000 0.000000 0.000000 0 CHG=2 VAL=4\\nM  V30 2 C -0.715517 -2.906522 0.491019 0\\nM  V30 3 C -1.004142 -2.272289 -0.872790 0\\nM  V30 4 N -1.779486 -1.065266 -0.695314 0\\nM  V30 5 C -2.884309 -1.038196 -0.024058 0\\nM  V30 6 C -3.612417 0.218704 0.112108 0\\nM  V30 7 C -4.796261 0.443938 0.782893 0\\nM  V30 8 N -5.154662 1.735554 0.683622 0\\nM  V30 9 C -4.202001 2.336151 -0.049388 0\\nM  V30 10 N -3.271474 1.428894 -0.396179 0\\nM  V30 11 C 0.063186 -1.886597 1.297116 0\\nM  V30 12 N 1.307331 -1.537500 0.644677 0\\nM  V30 13 C 1.824137 -0.386828 0.909176 0\\nM  V30 14 C 3.073710 0.040631 0.294811 0\\nM  V30 15 C 3.789631 -0.727267 -0.596467 0\\nM  V30 16 N 4.873542 -0.048133 -0.965214 0\\nM  V30 17 C 4.844042 1.122435 -0.322054 0\\nM  V30 18 N 3.743628 1.173871 0.446816 0\\nM  V30 19 H -0.144323 -3.817449 0.310746 0\\nM  V30 20 H -1.704734 -3.106777 0.947790 0\\nM  V30 21 H -0.026020 -1.953843 -1.316199 0\\nM  V30 22 H -1.516645 -3.005447 -1.534178 0\\nM  V30 23 H -3.285818 -1.917991 0.439736 0\\nM  V30 24 H -5.362124 -0.306934 1.315697 0\\nM  V30 25 H -6.008656 2.209521 1.090535 0\\nM  V30 26 H -4.134809 3.382638 -0.349231 0\\nM  V30 27 H 0.339579 -2.331252 2.284971 0\\nM  V30 28 H -0.517181 -0.957545 1.433059 0\\nM  V30 29 H 1.344936 0.311959 1.604171 0\\nM  V30 30 H 3.519613 -1.700900 -0.932945 0\\nM  V30 31 H 5.609359 -0.366259 -1.630405 0\\nM  V30 32 H 5.596115 1.910424 -0.409246 0\\nM  V30 END ATOM\\nM  V30 BEGIN BOND\\nM  V30 1 1 2 3\\nM  V30 2 1 3 4\\nM  V30 3 2 4 5\\nM  V30 4 1 5 6\\nM  V30 5 2 6 7\\nM  V30 6 1 7 8\\nM  V30 7 1 8 9\\nM  V30 8 2 9 10\\nM  V30 9 1 2 11\\nM  V30 10 1 11 12\\nM  V30 11 2 12 13\\nM  V30 12 1 13 14\\nM  V30 13 2 14 15\\nM  V30 14 1 15 16\\nM  V30 15 1 16 17\\nM  V30 16 2 17 18\\nM  V30 17 1 10 6\\nM  V30 18 1 18 14\\nM  V30 19 1 2 19\\nM  V30 20 1 2 20\\nM  V30 21 1 3 21\\nM  V30 22 1 3 22\\nM  V30 23 1 5 23\\nM  V30 24 1 7 24\\nM  V30 25 1 8 25\\nM  V30 26 1 9 26\\nM  V30 27 1 11 27\\nM  V30 28 1 11 28\\nM  V30 29 1 13 29\\nM  V30 30 1 15 30\\nM  V30 31 1 16 31\\nM  V30 32 1 17 32\\nM  V30 33 9 4 1\\nM  V30 34 9 12 1\\nM  V30 35 9 10 1\\nM  V30 36 9 18 1\\nM  V30 END BOND\\nM  V30 END CTAB\\nM  END\\n\");\nviewer_17088940855144536.setStyle({\"stick\": {\"colorscheme\": \"cyanCarbon\"}});\nviewer_17088940855144536.zoomTo();\n\tviewer_17088940855144536.setBackgroundColor(\"0xeeeeee\");\n\tviewer_17088940855144536.zoomTo();\nviewer_17088940855144536.render();\n});\n</script>",
      "text/html": [
       "<div id=\"3dmolviewer_17088940855144536\"  style=\"position: relative; width: 400px; height: 400px;\">\n",
       "        <p id=\"3dmolwarning_17088940855144536\" style=\"background-color:#ffcccc;color:black\">You appear to be running in JupyterLab (or JavaScript failed to load for some other reason).  You need to install the 3dmol extension: <br>\n",
       "        <tt>jupyter labextension install jupyterlab_3dmol</tt></p>\n",
       "        </div>\n",
       "<script>\n",
       "\n",
       "var loadScriptAsync = function(uri){\n",
       "  return new Promise((resolve, reject) => {\n",
       "    //this is to ignore the existence of requirejs amd\n",
       "    var savedexports, savedmodule;\n",
       "    if (typeof exports !== 'undefined') savedexports = exports;\n",
       "    else exports = {}\n",
       "    if (typeof module !== 'undefined') savedmodule = module;\n",
       "    else module = {}\n",
       "\n",
       "    var tag = document.createElement('script');\n",
       "    tag.src = uri;\n",
       "    tag.async = true;\n",
       "    tag.onload = () => {\n",
       "        exports = savedexports;\n",
       "        module = savedmodule;\n",
       "        resolve();\n",
       "    };\n",
       "  var firstScriptTag = document.getElementsByTagName('script')[0];\n",
       "  firstScriptTag.parentNode.insertBefore(tag, firstScriptTag);\n",
       "});\n",
       "};\n",
       "\n",
       "if(typeof $3Dmolpromise === 'undefined') {\n",
       "$3Dmolpromise = null;\n",
       "  $3Dmolpromise = loadScriptAsync('https://cdnjs.cloudflare.com/ajax/libs/3Dmol/2.0.4/3Dmol-min.js');\n",
       "}\n",
       "\n",
       "var viewer_17088940855144536 = null;\n",
       "var warn = document.getElementById(\"3dmolwarning_17088940855144536\");\n",
       "if(warn) {\n",
       "    warn.parentNode.removeChild(warn);\n",
       "}\n",
       "$3Dmolpromise.then(function() {\n",
       "viewer_17088940855144536 = $3Dmol.createViewer(document.getElementById(\"3dmolviewer_17088940855144536\"),{backgroundColor:\"white\"});\n",
       "viewer_17088940855144536.addModel(\"\\n     RDKit          3D\\n\\n  0  0  0  0  0  0  0  0  0  0999 V3000\\nM  V30 BEGIN CTAB\\nM  V30 COUNTS 32 36 0 0 0\\nM  V30 BEGIN ATOM\\nM  V30 1 Cu 0.000000 0.000000 0.000000 0 CHG=2 VAL=4\\nM  V30 2 C -0.715517 -2.906522 0.491019 0\\nM  V30 3 C -1.004142 -2.272289 -0.872790 0\\nM  V30 4 N -1.779486 -1.065266 -0.695314 0\\nM  V30 5 C -2.884309 -1.038196 -0.024058 0\\nM  V30 6 C -3.612417 0.218704 0.112108 0\\nM  V30 7 C -4.796261 0.443938 0.782893 0\\nM  V30 8 N -5.154662 1.735554 0.683622 0\\nM  V30 9 C -4.202001 2.336151 -0.049388 0\\nM  V30 10 N -3.271474 1.428894 -0.396179 0\\nM  V30 11 C 0.063186 -1.886597 1.297116 0\\nM  V30 12 N 1.307331 -1.537500 0.644677 0\\nM  V30 13 C 1.824137 -0.386828 0.909176 0\\nM  V30 14 C 3.073710 0.040631 0.294811 0\\nM  V30 15 C 3.789631 -0.727267 -0.596467 0\\nM  V30 16 N 4.873542 -0.048133 -0.965214 0\\nM  V30 17 C 4.844042 1.122435 -0.322054 0\\nM  V30 18 N 3.743628 1.173871 0.446816 0\\nM  V30 19 H -0.144323 -3.817449 0.310746 0\\nM  V30 20 H -1.704734 -3.106777 0.947790 0\\nM  V30 21 H -0.026020 -1.953843 -1.316199 0\\nM  V30 22 H -1.516645 -3.005447 -1.534178 0\\nM  V30 23 H -3.285818 -1.917991 0.439736 0\\nM  V30 24 H -5.362124 -0.306934 1.315697 0\\nM  V30 25 H -6.008656 2.209521 1.090535 0\\nM  V30 26 H -4.134809 3.382638 -0.349231 0\\nM  V30 27 H 0.339579 -2.331252 2.284971 0\\nM  V30 28 H -0.517181 -0.957545 1.433059 0\\nM  V30 29 H 1.344936 0.311959 1.604171 0\\nM  V30 30 H 3.519613 -1.700900 -0.932945 0\\nM  V30 31 H 5.609359 -0.366259 -1.630405 0\\nM  V30 32 H 5.596115 1.910424 -0.409246 0\\nM  V30 END ATOM\\nM  V30 BEGIN BOND\\nM  V30 1 1 2 3\\nM  V30 2 1 3 4\\nM  V30 3 2 4 5\\nM  V30 4 1 5 6\\nM  V30 5 2 6 7\\nM  V30 6 1 7 8\\nM  V30 7 1 8 9\\nM  V30 8 2 9 10\\nM  V30 9 1 2 11\\nM  V30 10 1 11 12\\nM  V30 11 2 12 13\\nM  V30 12 1 13 14\\nM  V30 13 2 14 15\\nM  V30 14 1 15 16\\nM  V30 15 1 16 17\\nM  V30 16 2 17 18\\nM  V30 17 1 10 6\\nM  V30 18 1 18 14\\nM  V30 19 1 2 19\\nM  V30 20 1 2 20\\nM  V30 21 1 3 21\\nM  V30 22 1 3 22\\nM  V30 23 1 5 23\\nM  V30 24 1 7 24\\nM  V30 25 1 8 25\\nM  V30 26 1 9 26\\nM  V30 27 1 11 27\\nM  V30 28 1 11 28\\nM  V30 29 1 13 29\\nM  V30 30 1 15 30\\nM  V30 31 1 16 31\\nM  V30 32 1 17 32\\nM  V30 33 9 4 1\\nM  V30 34 9 12 1\\nM  V30 35 9 10 1\\nM  V30 36 9 18 1\\nM  V30 END BOND\\nM  V30 END CTAB\\nM  END\\n\");\n",
       "viewer_17088940855144536.setStyle({\"stick\": {\"colorscheme\": \"cyanCarbon\"}});\n",
       "viewer_17088940855144536.zoomTo();\n",
       "\tviewer_17088940855144536.setBackgroundColor(\"0xeeeeee\");\n",
       "\tviewer_17088940855144536.zoomTo();\n",
       "viewer_17088940855144536.render();\n",
       "});\n",
       "</script>"
      ]
     },
     "metadata": {},
     "output_type": "display_data"
    }
   ],
   "source": [
    "show_stk_mol(corner_mo)"
   ]
  },
  {
   "cell_type": "code",
   "execution_count": 30,
   "metadata": {},
   "outputs": [
    {
     "data": {
      "text/plain": [
       "<ConstructedMolecule at 126867153798160>"
      ]
     },
     "execution_count": 30,
     "metadata": {},
     "output_type": "execute_result"
    }
   ],
   "source": [
    "corner_mo"
   ]
  },
  {
   "cell_type": "code",
   "execution_count": 31,
   "metadata": {},
   "outputs": [
    {
     "ename": "AttributeError",
     "evalue": "'ConstructedMolecule' object has no attribute 'get_num_functional_groups'",
     "output_type": "error",
     "traceback": [
      "\u001b[0;31m---------------------------------------------------------------------------\u001b[0m",
      "\u001b[0;31mAttributeError\u001b[0m                            Traceback (most recent call last)",
      "Cell \u001b[0;32mIn[31], line 1\u001b[0m\n\u001b[0;32m----> 1\u001b[0m topology_graph \u001b[38;5;241m=\u001b[39m \u001b[43mstk\u001b[49m\u001b[38;5;241;43m.\u001b[39;49m\u001b[43mcage\u001b[49m\u001b[38;5;241;43m.\u001b[39;49m\u001b[43mM3L3Triangle\u001b[49m\u001b[43m(\u001b[49m\n\u001b[1;32m      2\u001b[0m \u001b[43m    \u001b[49m\u001b[43mcorners\u001b[49m\u001b[38;5;241;43m=\u001b[39;49m\u001b[43mcorner_mo\u001b[49m\u001b[43m,\u001b[49m\n\u001b[1;32m      3\u001b[0m \u001b[43m    \u001b[49m\u001b[43mlinkers\u001b[49m\u001b[38;5;241;43m=\u001b[39;49m\u001b[43mcu_atom_orange\u001b[49m\u001b[43m,\u001b[49m\n\u001b[1;32m      4\u001b[0m \u001b[43m    \u001b[49m\u001b[38;5;66;43;03m# Ensure that bonds between the GenericFunctionalGroups\u001b[39;49;00m\n\u001b[1;32m      5\u001b[0m \u001b[43m    \u001b[49m\u001b[38;5;66;43;03m# of the ligand and the SingleAtom functional groups\u001b[39;49;00m\n\u001b[1;32m      6\u001b[0m \u001b[43m    \u001b[49m\u001b[38;5;66;43;03m# of the metal are dative.\u001b[39;49;00m\n\u001b[1;32m      7\u001b[0m \u001b[43m    \u001b[49m\u001b[43mreaction_factory\u001b[49m\u001b[38;5;241;43m=\u001b[39;49m\u001b[43mstk\u001b[49m\u001b[38;5;241;43m.\u001b[39;49m\u001b[43mDativeReactionFactory\u001b[49m\u001b[43m(\u001b[49m\n\u001b[1;32m      8\u001b[0m \u001b[43m        \u001b[49m\u001b[43mstk\u001b[49m\u001b[38;5;241;43m.\u001b[39;49m\u001b[43mGenericReactionFactory\u001b[49m\u001b[43m(\u001b[49m\n\u001b[1;32m      9\u001b[0m \u001b[43m            \u001b[49m\u001b[43mbond_orders\u001b[49m\u001b[38;5;241;43m=\u001b[39;49m\u001b[43m{\u001b[49m\n\u001b[1;32m     10\u001b[0m \u001b[43m                \u001b[49m\u001b[38;5;28;43mfrozenset\u001b[39;49m\u001b[43m(\u001b[49m\u001b[43m{\u001b[49m\n\u001b[1;32m     11\u001b[0m \u001b[43m                    \u001b[49m\u001b[43mstk\u001b[49m\u001b[38;5;241;43m.\u001b[39;49m\u001b[43mGenericFunctionalGroup\u001b[49m\u001b[43m,\u001b[49m\n\u001b[1;32m     12\u001b[0m \u001b[43m                    \u001b[49m\u001b[43mstk\u001b[49m\u001b[38;5;241;43m.\u001b[39;49m\u001b[43mSingleAtom\u001b[49m\n\u001b[1;32m     13\u001b[0m \u001b[43m                \u001b[49m\u001b[43m}\u001b[49m\u001b[43m)\u001b[49m\u001b[43m:\u001b[49m\u001b[43m \u001b[49m\u001b[38;5;241;43m9\u001b[39;49m\n\u001b[1;32m     14\u001b[0m \u001b[43m            \u001b[49m\u001b[43m}\u001b[49m\n\u001b[1;32m     15\u001b[0m \u001b[43m        \u001b[49m\u001b[43m)\u001b[49m\n\u001b[1;32m     16\u001b[0m \u001b[43m    \u001b[49m\u001b[43m)\u001b[49m\u001b[43m,\u001b[49m\n\u001b[1;32m     17\u001b[0m \u001b[43m    \u001b[49m\u001b[43moptimizer\u001b[49m\u001b[38;5;241;43m=\u001b[39;49m\u001b[43mstk\u001b[49m\u001b[38;5;241;43m.\u001b[39;49m\u001b[43mMCHammer\u001b[49m\u001b[43m(\u001b[49m\u001b[43m)\u001b[49m\u001b[43m,\u001b[49m\n\u001b[1;32m     18\u001b[0m \u001b[43m)\u001b[49m\n\u001b[1;32m     19\u001b[0m triangle \u001b[38;5;241m=\u001b[39m stk\u001b[38;5;241m.\u001b[39mConstructedMolecule(topology_graph)\n\u001b[1;32m     20\u001b[0m \u001b[38;5;28mprint\u001b[39m(triangle)\n",
      "File \u001b[0;32m~/miniforge3/envs/exampledev/lib/python3.11/site-packages/stk/_internal/topology_graphs/cage/m3l3_triangle.py:261\u001b[0m, in \u001b[0;36mM3L3Triangle.__init__\u001b[0;34m(self, corners, linkers, vertex_alignments, vertex_positions, reaction_factory, num_processes, optimizer, scale_multiplier)\u001b[0m\n\u001b[1;32m    254\u001b[0m     linkers_dict \u001b[38;5;241m=\u001b[39m {linkers: (\u001b[38;5;241m3\u001b[39m, \u001b[38;5;241m4\u001b[39m, \u001b[38;5;241m5\u001b[39m)}\n\u001b[1;32m    256\u001b[0m building_blocks\u001b[38;5;241m.\u001b[39mupdate(\n\u001b[1;32m    257\u001b[0m     (building_block, vertices)\n\u001b[1;32m    258\u001b[0m     \u001b[38;5;28;01mfor\u001b[39;00m building_block, vertices \u001b[38;5;129;01min\u001b[39;00m linkers_dict\u001b[38;5;241m.\u001b[39mitems()\n\u001b[1;32m    259\u001b[0m )\n\u001b[0;32m--> 261\u001b[0m \u001b[38;5;28;43msuper\u001b[39;49m\u001b[43m(\u001b[49m\u001b[43m)\u001b[49m\u001b[38;5;241;43m.\u001b[39;49m\u001b[38;5;21;43m__init__\u001b[39;49m\u001b[43m(\u001b[49m\n\u001b[1;32m    262\u001b[0m \u001b[43m    \u001b[49m\u001b[43mbuilding_blocks\u001b[49m\u001b[43m,\u001b[49m\n\u001b[1;32m    263\u001b[0m \u001b[43m    \u001b[49m\u001b[43mvertex_alignments\u001b[49m\u001b[38;5;241;43m=\u001b[39;49m\u001b[43mvertex_alignments\u001b[49m\u001b[43m,\u001b[49m\n\u001b[1;32m    264\u001b[0m \u001b[43m    \u001b[49m\u001b[43mvertex_positions\u001b[49m\u001b[38;5;241;43m=\u001b[39;49m\u001b[43mvertex_positions\u001b[49m\u001b[43m,\u001b[49m\n\u001b[1;32m    265\u001b[0m \u001b[43m    \u001b[49m\u001b[43mreaction_factory\u001b[49m\u001b[38;5;241;43m=\u001b[39;49m\u001b[43mreaction_factory\u001b[49m\u001b[43m,\u001b[49m\n\u001b[1;32m    266\u001b[0m \u001b[43m    \u001b[49m\u001b[43mnum_processes\u001b[49m\u001b[38;5;241;43m=\u001b[39;49m\u001b[43mnum_processes\u001b[49m\u001b[43m,\u001b[49m\n\u001b[1;32m    267\u001b[0m \u001b[43m    \u001b[49m\u001b[43moptimizer\u001b[49m\u001b[38;5;241;43m=\u001b[39;49m\u001b[43moptimizer\u001b[49m\u001b[43m,\u001b[49m\n\u001b[1;32m    268\u001b[0m \u001b[43m    \u001b[49m\u001b[43mscale_multiplier\u001b[49m\u001b[38;5;241;43m=\u001b[39;49m\u001b[43mscale_multiplier\u001b[49m\u001b[43m,\u001b[49m\n\u001b[1;32m    269\u001b[0m \u001b[43m\u001b[49m\u001b[43m)\u001b[49m\n",
      "File \u001b[0;32m~/miniforge3/envs/exampledev/lib/python3.11/site-packages/stk/_internal/topology_graphs/cage/cage.py:1064\u001b[0m, in \u001b[0;36mCage.__init__\u001b[0;34m(self, building_blocks, vertex_alignments, vertex_positions, reaction_factory, num_processes, optimizer, scale_multiplier)\u001b[0m\n\u001b[1;32m   1058\u001b[0m \u001b[38;5;28mself\u001b[39m\u001b[38;5;241m.\u001b[39m_vertex_alignments \u001b[38;5;241m=\u001b[39m (\n\u001b[1;32m   1059\u001b[0m     \u001b[38;5;28mdict\u001b[39m(vertex_alignments) \u001b[38;5;28;01mif\u001b[39;00m vertex_alignments \u001b[38;5;129;01mis\u001b[39;00m \u001b[38;5;129;01mnot\u001b[39;00m \u001b[38;5;28;01mNone\u001b[39;00m \u001b[38;5;28;01melse\u001b[39;00m {}\n\u001b[1;32m   1060\u001b[0m )\n\u001b[1;32m   1061\u001b[0m \u001b[38;5;28mself\u001b[39m\u001b[38;5;241m.\u001b[39m_vertex_positions \u001b[38;5;241m=\u001b[39m (\n\u001b[1;32m   1062\u001b[0m     \u001b[38;5;28mdict\u001b[39m(vertex_positions) \u001b[38;5;28;01mif\u001b[39;00m vertex_positions \u001b[38;5;129;01mis\u001b[39;00m \u001b[38;5;129;01mnot\u001b[39;00m \u001b[38;5;28;01mNone\u001b[39;00m \u001b[38;5;28;01melse\u001b[39;00m {}\n\u001b[1;32m   1063\u001b[0m )\n\u001b[0;32m-> 1064\u001b[0m building_block_vertices \u001b[38;5;241m=\u001b[39m \u001b[38;5;28;43mself\u001b[39;49m\u001b[38;5;241;43m.\u001b[39;49m\u001b[43m_normalize_building_blocks\u001b[49m\u001b[43m(\u001b[49m\n\u001b[1;32m   1065\u001b[0m \u001b[43m    \u001b[49m\u001b[43mbuilding_blocks\u001b[49m\u001b[38;5;241;43m=\u001b[39;49m\u001b[43mbuilding_blocks\u001b[49m\u001b[43m,\u001b[49m\n\u001b[1;32m   1066\u001b[0m \u001b[43m\u001b[49m\u001b[43m)\u001b[49m\n\u001b[1;32m   1067\u001b[0m building_block_vertices \u001b[38;5;241m=\u001b[39m \u001b[38;5;28mself\u001b[39m\u001b[38;5;241m.\u001b[39m_with_unaligning_vertices(\n\u001b[1;32m   1068\u001b[0m     building_block_vertices\u001b[38;5;241m=\u001b[39mbuilding_block_vertices,\n\u001b[1;32m   1069\u001b[0m )\n\u001b[1;32m   1070\u001b[0m building_block_vertices \u001b[38;5;241m=\u001b[39m \u001b[38;5;28mself\u001b[39m\u001b[38;5;241m.\u001b[39m_with_positioned_vertices(\n\u001b[1;32m   1071\u001b[0m     building_block_vertices\u001b[38;5;241m=\u001b[39mbuilding_block_vertices,\n\u001b[1;32m   1072\u001b[0m     vertex_positions\u001b[38;5;241m=\u001b[39m\u001b[38;5;28mself\u001b[39m\u001b[38;5;241m.\u001b[39m_vertex_positions,\n\u001b[1;32m   1073\u001b[0m     scale_multiplier\u001b[38;5;241m=\u001b[39mscale_multiplier,\n\u001b[1;32m   1074\u001b[0m )\n",
      "File \u001b[0;32m~/miniforge3/envs/exampledev/lib/python3.11/site-packages/stk/_internal/topology_graphs/cage/cage.py:1177\u001b[0m, in \u001b[0;36mCage._normalize_building_blocks\u001b[0;34m(cls, building_blocks)\u001b[0m\n\u001b[1;32m   1174\u001b[0m \u001b[38;5;28;01mif\u001b[39;00m \u001b[38;5;28misinstance\u001b[39m(building_blocks, \u001b[38;5;28mdict\u001b[39m):\n\u001b[1;32m   1175\u001b[0m     \u001b[38;5;28;01mfor\u001b[39;00m building_block \u001b[38;5;129;01min\u001b[39;00m building_blocks:\n\u001b[1;32m   1176\u001b[0m         \u001b[38;5;28;01massert\u001b[39;00m (\n\u001b[0;32m-> 1177\u001b[0m             \u001b[43mbuilding_block\u001b[49m\u001b[38;5;241;43m.\u001b[39;49m\u001b[43mget_num_functional_groups\u001b[49m()\n\u001b[1;32m   1178\u001b[0m             \u001b[38;5;129;01min\u001b[39;00m \u001b[38;5;28mcls\u001b[39m\u001b[38;5;241m.\u001b[39m_vertices_of_degree\u001b[38;5;241m.\u001b[39mkeys()\n\u001b[1;32m   1179\u001b[0m         ), (\n\u001b[1;32m   1180\u001b[0m             \u001b[38;5;124m\"\u001b[39m\u001b[38;5;124mThe number of functional groups in \u001b[39m\u001b[38;5;124m\"\u001b[39m\n\u001b[1;32m   1181\u001b[0m             \u001b[38;5;124mf\u001b[39m\u001b[38;5;124m\"\u001b[39m\u001b[38;5;132;01m{\u001b[39;00mbuilding_block\u001b[38;5;132;01m}\u001b[39;00m\u001b[38;5;124m needs to be one of \u001b[39m\u001b[38;5;124m\"\u001b[39m\n\u001b[1;32m   1182\u001b[0m             \u001b[38;5;124mf\u001b[39m\u001b[38;5;124m\"\u001b[39m\u001b[38;5;132;01m{\u001b[39;00mallowed_degrees\u001b[38;5;132;01m}\u001b[39;00m\u001b[38;5;124m, but is \u001b[39m\u001b[38;5;124m\"\u001b[39m\n\u001b[1;32m   1183\u001b[0m             \u001b[38;5;124m\"\u001b[39m\u001b[38;5;124mcurrently \u001b[39m\u001b[38;5;124m\"\u001b[39m\n\u001b[1;32m   1184\u001b[0m             \u001b[38;5;124mf\u001b[39m\u001b[38;5;124m\"\u001b[39m\u001b[38;5;132;01m{\u001b[39;00mbuilding_block\u001b[38;5;241m.\u001b[39mget_num_functional_groups()\u001b[38;5;132;01m}\u001b[39;00m\u001b[38;5;124m.\u001b[39m\u001b[38;5;124m\"\u001b[39m\n\u001b[1;32m   1185\u001b[0m         )\n\u001b[1;32m   1186\u001b[0m     \u001b[38;5;28;01mreturn\u001b[39;00m {\n\u001b[1;32m   1187\u001b[0m         building_block: \u001b[38;5;28mtuple\u001b[39m(\u001b[38;5;28mcls\u001b[39m\u001b[38;5;241m.\u001b[39m_get_vertices(ids))\n\u001b[1;32m   1188\u001b[0m         \u001b[38;5;28;01mfor\u001b[39;00m building_block, ids \u001b[38;5;129;01min\u001b[39;00m building_blocks\u001b[38;5;241m.\u001b[39mitems()\n\u001b[1;32m   1189\u001b[0m     }\n\u001b[1;32m   1191\u001b[0m \u001b[38;5;28;01melse\u001b[39;00m:\n",
      "\u001b[0;31mAttributeError\u001b[0m: 'ConstructedMolecule' object has no attribute 'get_num_functional_groups'"
     ]
    }
   ],
   "source": [
    "topology_graph = stk.cage.M3L3Triangle(\n",
    "    corners=corner_mo,\n",
    "    linkers=cu_atom_orange,\n",
    "    # Ensure that bonds between the GenericFunctionalGroups\n",
    "    # of the ligand and the SingleAtom functional groups\n",
    "    # of the metal are dative.\n",
    "    reaction_factory=stk.DativeReactionFactory(\n",
    "        stk.GenericReactionFactory(\n",
    "            bond_orders={\n",
    "                frozenset({\n",
    "                    stk.GenericFunctionalGroup,\n",
    "                    stk.SingleAtom\n",
    "                }): 9\n",
    "            }\n",
    "        )\n",
    "    ),\n",
    "    optimizer=stk.MCHammer(),\n",
    ")\n",
    "triangle = stk.ConstructedMolecule(topology_graph)\n",
    "print(triangle)\n",
    "show_stk_mol(triangle)"
   ]
  },
  {
   "cell_type": "markdown",
   "metadata": {},
   "source": [
    "# Coll examples"
   ]
  },
  {
   "cell_type": "code",
   "execution_count": 32,
   "metadata": {},
   "outputs": [
    {
     "ename": "AttributeError",
     "evalue": "module 'stk' has no attribute 'Cage'",
     "output_type": "error",
     "traceback": [
      "\u001b[0;31m---------------------------------------------------------------------------\u001b[0m",
      "\u001b[0;31mAttributeError\u001b[0m                            Traceback (most recent call last)",
      "Cell \u001b[0;32mIn[32], line 1\u001b[0m\n\u001b[0;32m----> 1\u001b[0m \u001b[43mstk\u001b[49m\u001b[38;5;241;43m.\u001b[39;49m\u001b[43mCage\u001b[49m\n",
      "\u001b[0;31mAttributeError\u001b[0m: module 'stk' has no attribute 'Cage'"
     ]
    }
   ],
   "source": [
    "stk.Cage"
   ]
  },
  {
   "cell_type": "code",
   "execution_count": 33,
   "metadata": {},
   "outputs": [
    {
     "data": {
      "application/3dmoljs_load.v0": "<div id=\"3dmolviewer_17088940931283116\"  style=\"position: relative; width: 400px; height: 400px;\">\n        <p id=\"3dmolwarning_17088940931283116\" style=\"background-color:#ffcccc;color:black\">You appear to be running in JupyterLab (or JavaScript failed to load for some other reason).  You need to install the 3dmol extension: <br>\n        <tt>jupyter labextension install jupyterlab_3dmol</tt></p>\n        </div>\n<script>\n\nvar loadScriptAsync = function(uri){\n  return new Promise((resolve, reject) => {\n    //this is to ignore the existence of requirejs amd\n    var savedexports, savedmodule;\n    if (typeof exports !== 'undefined') savedexports = exports;\n    else exports = {}\n    if (typeof module !== 'undefined') savedmodule = module;\n    else module = {}\n\n    var tag = document.createElement('script');\n    tag.src = uri;\n    tag.async = true;\n    tag.onload = () => {\n        exports = savedexports;\n        module = savedmodule;\n        resolve();\n    };\n  var firstScriptTag = document.getElementsByTagName('script')[0];\n  firstScriptTag.parentNode.insertBefore(tag, firstScriptTag);\n});\n};\n\nif(typeof $3Dmolpromise === 'undefined') {\n$3Dmolpromise = null;\n  $3Dmolpromise = loadScriptAsync('https://cdnjs.cloudflare.com/ajax/libs/3Dmol/2.0.4/3Dmol-min.js');\n}\n\nvar viewer_17088940931283116 = null;\nvar warn = document.getElementById(\"3dmolwarning_17088940931283116\");\nif(warn) {\n    warn.parentNode.removeChild(warn);\n}\n$3Dmolpromise.then(function() {\nviewer_17088940931283116 = $3Dmol.createViewer(document.getElementById(\"3dmolviewer_17088940931283116\"),{backgroundColor:\"white\"});\nviewer_17088940931283116.addModel(\"\\n     RDKit          3D\\n\\n128130  0  0  0  0  0  0  0  0999 V2000\\n   -1.4485   -0.6731    7.0506 C   0  0  0  0  0  0  0  0  0  0  0  0\\n   -0.2327    0.0469    7.5117 C   0  0  0  0  0  0  0  0  0  0  0  0\\n    0.9938   -0.6853    7.0506 C   0  0  0  0  0  0  0  0  0  0  0  0\\n   -0.2506    1.4408    7.0506 C   0  0  0  0  0  0  0  0  0  0  0  0\\n   -1.6457   -0.8385    6.0052 H   0  0  0  0  0  0  0  0  0  0  0  0\\n   -0.2123    0.0603    8.6224 H   0  0  0  0  0  0  0  0  0  0  0  0\\n    1.1428   -0.8233    5.9743 H   0  0  0  0  0  0  0  0  0  0  0  0\\n    0.5345    2.1546    7.2678 H   0  0  0  0  0  0  0  0  0  0  0  0\\n   -6.5330   -3.6171   -0.7584 C   0  0  0  0  0  0  0  0  0  0  0  0\\n   -6.4938   -3.6125   -2.2443 C   0  0  0  0  0  0  0  0  0  0  0  0\\n   -6.5400   -2.1988   -2.7469 C   0  0  0  0  0  0  0  0  0  0  0  0\\n   -5.3125   -4.3347   -2.7331 C   0  0  0  0  0  0  0  0  0  0  0  0\\n   -5.7749   -3.1278   -0.1710 H   0  0  0  0  0  0  0  0  0  0  0  0\\n   -7.3930   -4.1332   -2.6375 H   0  0  0  0  0  0  0  0  0  0  0  0\\n   -5.7409   -1.5135   -2.4447 H   0  0  0  0  0  0  0  0  0  0  0  0\\n   -5.0778   -4.4597   -3.7830 H   0  0  0  0  0  0  0  0  0  0  0  0\\n    5.9502   -3.4767   -0.9256 C   0  0  0  0  0  0  0  0  0  0  0  0\\n    5.9266   -3.4451   -2.4115 C   0  0  0  0  0  0  0  0  0  0  0  0\\n    4.7255   -4.1920   -2.9140 C   0  0  0  0  0  0  0  0  0  0  0  0\\n    5.9615   -2.0609   -2.9002 C   0  0  0  0  0  0  0  0  0  0  0  0\\n    5.1475   -3.0649   -0.3381 H   0  0  0  0  0  0  0  0  0  0  0  0\\n    6.8272   -3.9634   -2.8046 H   0  0  0  0  0  0  0  0  0  0  0  0\\n    3.7324   -3.8426   -2.6118 H   0  0  0  0  0  0  0  0  0  0  0  0\\n    5.9523   -1.7952   -3.9501 H   0  0  0  0  0  0  0  0  0  0  0  0\\n   -0.1351    7.1873   -0.7594 C   0  0  0  0  0  0  0  0  0  0  0  0\\n   -0.1507    7.1511   -2.2453 C   0  0  0  0  0  0  0  0  0  0  0  0\\n    1.0966    6.4843   -2.7478 C   0  0  0  0  0  0  0  0  0  0  0  0\\n   -1.3668    6.4892   -2.7341 C   0  0  0  0  0  0  0  0  0  0  0  0\\n   -0.0904    6.2862   -0.1719 H   0  0  0  0  0  0  0  0  0  0  0  0\\n   -0.1521    8.1902   -2.6385 H   0  0  0  0  0  0  0  0  0  0  0  0\\n    1.2906    5.4496   -2.4456 H   0  0  0  0  0  0  0  0  0  0  0  0\\n   -1.5924    6.3484   -3.7839 H   0  0  0  0  0  0  0  0  0  0  0  0\\n   -2.8930   -1.5416    6.9788 N   0  0  0  0  0  0  0  0  0  0  0  0\\n   -4.0606   -2.1296    6.4166 C   0  0  0  0  0  0  0  0  0  0  0  0\\n   -4.0690   -2.2228    4.9981 N   0  0  0  0  0  0  0  0  0  0  0  0\\n   -5.2661   -2.8233    4.4601 C   0  0  0  0  0  0  0  0  0  0  0  0\\n   -5.2013   -2.8907    2.9426 C   0  0  0  0  0  0  0  0  0  0  0  0\\n   -6.4951   -3.5324    2.4721 C   0  0  0  0  0  0  0  0  0  0  0  0\\n   -6.5299   -3.6414    1.0398 N   0  0  0  0  0  0  0  0  0  0  0  0\\n   -4.9914   -1.6319    6.7434 H   0  0  0  0  0  0  0  0  0  0  0  0\\n   -4.1351   -3.1813    6.8223 H   0  0  0  0  0  0  0  0  0  0  0  0\\n   -3.2069   -2.5329    4.5445 H   0  0  0  0  0  0  0  0  0  0  0  0\\n   -6.1842   -2.2767    4.7564 H   0  0  0  0  0  0  0  0  0  0  0  0\\n   -5.3381   -3.8440    4.8874 H   0  0  0  0  0  0  0  0  0  0  0  0\\n   -5.0586   -1.9075    2.4961 H   0  0  0  0  0  0  0  0  0  0  0  0\\n   -4.3455   -3.5312    2.6555 H   0  0  0  0  0  0  0  0  0  0  0  0\\n   -7.3157   -2.8621    2.8191 H   0  0  0  0  0  0  0  0  0  0  0  0\\n   -6.5450   -4.5241    2.9625 H   0  0  0  0  0  0  0  0  0  0  0  0\\n    2.4899   -1.4662    6.7747 N   0  0  0  0  0  0  0  0  0  0  0  0\\n    3.5828   -2.1834    6.2125 C   0  0  0  0  0  0  0  0  0  0  0  0\\n    3.6677   -2.1440    4.7940 N   0  0  0  0  0  0  0  0  0  0  0  0\\n    4.7863   -2.8806    4.2560 C   0  0  0  0  0  0  0  0  0  0  0  0\\n    4.8123   -2.7906    2.7385 C   0  0  0  0  0  0  0  0  0  0  0  0\\n    6.0149   -3.5904    2.2680 C   0  0  0  0  0  0  0  0  0  0  0  0\\n    6.1267   -3.5659    0.8357 N   0  0  0  0  0  0  0  0  0  0  0  0\\n    3.6170   -3.2384    6.5392 H   0  0  0  0  0  0  0  0  0  0  0  0\\n    4.5308   -1.7223    6.6183 H   0  0  0  0  0  0  0  0  0  0  0  0\\n    3.5054   -1.2423    4.3405 H   0  0  0  0  0  0  0  0  0  0  0  0\\n    4.7718   -3.9490    4.5522 H   0  0  0  0  0  0  0  0  0  0  0  0\\n    5.7063   -2.4328    4.6833 H   0  0  0  0  0  0  0  0  0  0  0  0\\n    3.8894   -3.1585    2.2919 H   0  0  0  0  0  0  0  0  0  0  0  0\\n    4.9393   -1.7293    2.4515 H   0  0  0  0  0  0  0  0  0  0  0  0\\n    5.8445   -4.6362    2.6149 H   0  0  0  0  0  0  0  0  0  0  0  0\\n    6.8987   -3.1379    2.7585 H   0  0  0  0  0  0  0  0  0  0  0  0\\n   -0.1193    3.2872    6.8515 N   0  0  0  0  0  0  0  0  0  0  0  0\\n   -0.0455    4.5924    6.2894 C   0  0  0  0  0  0  0  0  0  0  0  0\\n   -0.1212    4.6461    4.8708 N   0  0  0  0  0  0  0  0  0  0  0  0\\n   -0.0435    5.9832    4.3329 C   0  0  0  0  0  0  0  0  0  0  0  0\\n   -0.1334    5.9607    2.8154 C   0  0  0  0  0  0  0  0  0  0  0  0\\n   -0.0431    7.4021    2.3449 C   0  0  0  0  0  0  0  0  0  0  0  0\\n   -0.1193    7.4866    0.9126 N   0  0  0  0  0  0  0  0  0  0  0  0\\n    0.8503    5.1503    6.6167 H   0  0  0  0  0  0  0  0  0  0  0  0\\n   -0.9197    5.1820    6.6946 H   0  0  0  0  0  0  0  0  0  0  0  0\\n   -0.8201    4.0540    4.4169 H   0  0  0  0  0  0  0  0  0  0  0  0\\n    0.8883    6.5058    4.6298 H   0  0  0  0  0  0  0  0  0  0  0  0\\n   -0.8921    6.5552    4.7597 H   0  0  0  0  0  0  0  0  0  0  0  0\\n    0.6475    5.3461    2.3693 H   0  0  0  0  0  0  0  0  0  0  0  0\\n   -1.1154    5.5390    2.5277 H   0  0  0  0  0  0  0  0  0  0  0  0\\n    0.9472    7.7784    2.6925 H   0  0  0  0  0  0  0  0  0  0  0  0\\n   -0.8778    7.9405    2.8348 H   0  0  0  0  0  0  0  0  0  0  0  0\\n   -3.8528   -5.0670   -3.5954 N   0  0  0  0  0  0  0  0  0  0  0  0\\n   -2.6403   -5.6296   -4.0834 C   0  0  0  0  0  0  0  0  0  0  0  0\\n   -1.4509   -5.0403   -3.5742 N   0  0  0  0  0  0  0  0  0  0  0  0\\n   -0.2398   -5.6334   -4.0885 C   0  0  0  0  0  0  0  0  0  0  0  0\\n    0.9863   -4.9548   -3.4988 C   0  0  0  0  0  0  0  0  0  0  0  0\\n    2.2026   -5.6420   -4.0951 C   0  0  0  0  0  0  0  0  0  0  0  0\\n    3.4209   -5.0670   -3.5954 N   0  0  0  0  0  0  0  0  0  0  0  0\\n   -2.5854   -5.6389   -5.1870 H   0  0  0  0  0  0  0  0  0  0  0  0\\n   -2.6307   -6.7184   -3.7825 H   0  0  0  0  0  0  0  0  0  0  0  0\\n   -1.4221   -4.8349   -2.5732 H   0  0  0  0  0  0  0  0  0  0  0  0\\n   -0.1804   -5.5839   -5.1947 H   0  0  0  0  0  0  0  0  0  0  0  0\\n   -0.2579   -6.7058   -3.8074 H   0  0  0  0  0  0  0  0  0  0  0  0\\n    0.9957   -3.8839   -3.6982 H   0  0  0  0  0  0  0  0  0  0  0  0\\n    0.9777   -5.1048   -2.4023 H   0  0  0  0  0  0  0  0  0  0  0  0\\n    2.1361   -5.4851   -5.1970 H   0  0  0  0  0  0  0  0  0  0  0  0\\n    2.1134   -6.7136   -3.8305 H   0  0  0  0  0  0  0  0  0  0  0  0\\n   -6.3824   -0.8623   -3.5456 N   0  0  0  0  0  0  0  0  0  0  0  0\\n   -6.3378    0.5120   -3.9118 C   0  0  0  0  0  0  0  0  0  0  0  0\\n   -5.1565    1.2033   -3.5276 N   0  0  0  0  0  0  0  0  0  0  0  0\\n   -5.1428    2.5940   -3.9136 C   0  0  0  0  0  0  0  0  0  0  0  0\\n   -3.8515    3.2642   -3.4723 C   0  0  0  0  0  0  0  0  0  0  0  0\\n   -3.9294    4.7137   -3.9195 C   0  0  0  0  0  0  0  0  0  0  0  0\\n   -2.7455    5.4369   -3.5456 N   0  0  0  0  0  0  0  0  0  0  0  0\\n   -7.2133    1.0809   -3.5502 H   0  0  0  0  0  0  0  0  0  0  0  0\\n   -6.4039    0.5613   -5.0384 H   0  0  0  0  0  0  0  0  0  0  0  0\\n   -4.2657    0.7223   -3.6700 H   0  0  0  0  0  0  0  0  0  0  0  0\\n   -6.0012    3.1581   -3.4958 H   0  0  0  0  0  0  0  0  0  0  0  0\\n   -5.2342    2.6257   -5.0182 H   0  0  0  0  0  0  0  0  0  0  0  0\\n   -3.6982    3.1866   -2.3966 H   0  0  0  0  0  0  0  0  0  0  0  0\\n   -3.0048    2.7654   -3.9816 H   0  0  0  0  0  0  0  0  0  0  0  0\\n   -4.8161    5.1487   -3.4020 H   0  0  0  0  0  0  0  0  0  0  0  0\\n   -4.0696    4.6916   -5.0178 H   0  0  0  0  0  0  0  0  0  0  0  0\\n    6.0127   -0.4193   -3.4491 N   0  0  0  0  0  0  0  0  0  0  0  0\\n    5.8937    0.9121   -3.9372 C   0  0  0  0  0  0  0  0  0  0  0  0\\n    4.7887    1.6474   -3.4279 N   0  0  0  0  0  0  0  0  0  0  0  0\\n    4.6967    2.9929   -3.9423 C   0  0  0  0  0  0  0  0  0  0  0  0\\n    3.4960    3.7154   -3.3525 C   0  0  0  0  0  0  0  0  0  0  0  0\\n    3.4830    5.1123   -3.9488 C   0  0  0  0  0  0  0  0  0  0  0  0\\n    2.3759    5.8799   -3.4491 N   0  0  0  0  0  0  0  0  0  0  0  0\\n    5.8743    0.9643   -5.0407 H   0  0  0  0  0  0  0  0  0  0  0  0\\n    6.8318    1.4648   -3.6362 H   0  0  0  0  0  0  0  0  0  0  0  0\\n    4.5964    1.5697   -2.4269 H   0  0  0  0  0  0  0  0  0  0  0  0\\n    4.6242    3.0195   -5.0484 H   0  0  0  0  0  0  0  0  0  0  0  0\\n    5.6346    3.5133   -3.6611 H   0  0  0  0  0  0  0  0  0  0  0  0\\n    2.5639    3.1881   -3.5519 H   0  0  0  0  0  0  0  0  0  0  0  0\\n    3.6302    3.7830   -2.2560 H   0  0  0  0  0  0  0  0  0  0  0  0\\n    3.3804    4.9762   -5.0507 H   0  0  0  0  0  0  0  0  0  0  0  0\\n    4.4556    5.5709   -3.6842 H   0  0  0  0  0  0  0  0  0  0  0  0\\n  1  2  1  0\\n  2  3  1  0\\n  2  4  1  0\\n  1  5  1  0\\n  2  6  1  0\\n  3  7  1  0\\n  4  8  1  0\\n  9 10  1  0\\n 10 11  1  0\\n 10 12  1  0\\n  9 13  1  0\\n 10 14  1  0\\n 11 15  1  0\\n 12 16  1  0\\n 17 18  1  0\\n 18 19  1  0\\n 18 20  1  0\\n 17 21  1  0\\n 18 22  1  0\\n 19 23  1  0\\n 20 24  1  0\\n 25 26  1  0\\n 26 27  1  0\\n 26 28  1  0\\n 25 29  1  0\\n 26 30  1  0\\n 27 31  1  0\\n 28 32  1  0\\n 33 34  1  0\\n 34 35  1  0\\n 35 36  1  0\\n 36 37  1  0\\n 37 38  1  0\\n 38 39  1  0\\n 34 40  1  0\\n 34 41  1  0\\n 35 42  1  0\\n 36 43  1  0\\n 36 44  1  0\\n 37 45  1  0\\n 37 46  1  0\\n 38 47  1  0\\n 38 48  1  0\\n 49 50  1  0\\n 50 51  1  0\\n 51 52  1  0\\n 52 53  1  0\\n 53 54  1  0\\n 54 55  1  0\\n 50 56  1  0\\n 50 57  1  0\\n 51 58  1  0\\n 52 59  1  0\\n 52 60  1  0\\n 53 61  1  0\\n 53 62  1  0\\n 54 63  1  0\\n 54 64  1  0\\n 65 66  1  0\\n 66 67  1  0\\n 67 68  1  0\\n 68 69  1  0\\n 69 70  1  0\\n 70 71  1  0\\n 66 72  1  0\\n 66 73  1  0\\n 67 74  1  0\\n 68 75  1  0\\n 68 76  1  0\\n 69 77  1  0\\n 69 78  1  0\\n 70 79  1  0\\n 70 80  1  0\\n 81 82  1  0\\n 82 83  1  0\\n 83 84  1  0\\n 84 85  1  0\\n 85 86  1  0\\n 86 87  1  0\\n 82 88  1  0\\n 82 89  1  0\\n 83 90  1  0\\n 84 91  1  0\\n 84 92  1  0\\n 85 93  1  0\\n 85 94  1  0\\n 86 95  1  0\\n 86 96  1  0\\n 97 98  1  0\\n 98 99  1  0\\n 99100  1  0\\n100101  1  0\\n101102  1  0\\n102103  1  0\\n 98104  1  0\\n 98105  1  0\\n 99106  1  0\\n100107  1  0\\n100108  1  0\\n101109  1  0\\n101110  1  0\\n102111  1  0\\n102112  1  0\\n113114  1  0\\n114115  1  0\\n115116  1  0\\n116117  1  0\\n117118  1  0\\n118119  1  0\\n114120  1  0\\n114121  1  0\\n115122  1  0\\n116123  1  0\\n116124  1  0\\n117125  1  0\\n117126  1  0\\n118127  1  0\\n118128  1  0\\n  1 33  2  3\\n  9 39  2  3\\n  3 49  2  3\\n 17 55  2  3\\n  4 65  2  3\\n 25 71  2  3\\n 12 81  2  3\\n 19 87  2  3\\n 11 97  2  3\\n 28103  2  3\\n 20113  2  3\\n 27119  2  3\\nM  END\\n\");\nviewer_17088940931283116.setStyle({\"stick\": {\"colorscheme\": \"cyanCarbon\"}});\nviewer_17088940931283116.zoomTo();\n\tviewer_17088940931283116.setBackgroundColor(\"0xeeeeee\");\n\tviewer_17088940931283116.zoomTo();\nviewer_17088940931283116.render();\n});\n</script>",
      "text/html": [
       "<div id=\"3dmolviewer_17088940931283116\"  style=\"position: relative; width: 400px; height: 400px;\">\n",
       "        <p id=\"3dmolwarning_17088940931283116\" style=\"background-color:#ffcccc;color:black\">You appear to be running in JupyterLab (or JavaScript failed to load for some other reason).  You need to install the 3dmol extension: <br>\n",
       "        <tt>jupyter labextension install jupyterlab_3dmol</tt></p>\n",
       "        </div>\n",
       "<script>\n",
       "\n",
       "var loadScriptAsync = function(uri){\n",
       "  return new Promise((resolve, reject) => {\n",
       "    //this is to ignore the existence of requirejs amd\n",
       "    var savedexports, savedmodule;\n",
       "    if (typeof exports !== 'undefined') savedexports = exports;\n",
       "    else exports = {}\n",
       "    if (typeof module !== 'undefined') savedmodule = module;\n",
       "    else module = {}\n",
       "\n",
       "    var tag = document.createElement('script');\n",
       "    tag.src = uri;\n",
       "    tag.async = true;\n",
       "    tag.onload = () => {\n",
       "        exports = savedexports;\n",
       "        module = savedmodule;\n",
       "        resolve();\n",
       "    };\n",
       "  var firstScriptTag = document.getElementsByTagName('script')[0];\n",
       "  firstScriptTag.parentNode.insertBefore(tag, firstScriptTag);\n",
       "});\n",
       "};\n",
       "\n",
       "if(typeof $3Dmolpromise === 'undefined') {\n",
       "$3Dmolpromise = null;\n",
       "  $3Dmolpromise = loadScriptAsync('https://cdnjs.cloudflare.com/ajax/libs/3Dmol/2.0.4/3Dmol-min.js');\n",
       "}\n",
       "\n",
       "var viewer_17088940931283116 = null;\n",
       "var warn = document.getElementById(\"3dmolwarning_17088940931283116\");\n",
       "if(warn) {\n",
       "    warn.parentNode.removeChild(warn);\n",
       "}\n",
       "$3Dmolpromise.then(function() {\n",
       "viewer_17088940931283116 = $3Dmol.createViewer(document.getElementById(\"3dmolviewer_17088940931283116\"),{backgroundColor:\"white\"});\n",
       "viewer_17088940931283116.addModel(\"\\n     RDKit          3D\\n\\n128130  0  0  0  0  0  0  0  0999 V2000\\n   -1.4485   -0.6731    7.0506 C   0  0  0  0  0  0  0  0  0  0  0  0\\n   -0.2327    0.0469    7.5117 C   0  0  0  0  0  0  0  0  0  0  0  0\\n    0.9938   -0.6853    7.0506 C   0  0  0  0  0  0  0  0  0  0  0  0\\n   -0.2506    1.4408    7.0506 C   0  0  0  0  0  0  0  0  0  0  0  0\\n   -1.6457   -0.8385    6.0052 H   0  0  0  0  0  0  0  0  0  0  0  0\\n   -0.2123    0.0603    8.6224 H   0  0  0  0  0  0  0  0  0  0  0  0\\n    1.1428   -0.8233    5.9743 H   0  0  0  0  0  0  0  0  0  0  0  0\\n    0.5345    2.1546    7.2678 H   0  0  0  0  0  0  0  0  0  0  0  0\\n   -6.5330   -3.6171   -0.7584 C   0  0  0  0  0  0  0  0  0  0  0  0\\n   -6.4938   -3.6125   -2.2443 C   0  0  0  0  0  0  0  0  0  0  0  0\\n   -6.5400   -2.1988   -2.7469 C   0  0  0  0  0  0  0  0  0  0  0  0\\n   -5.3125   -4.3347   -2.7331 C   0  0  0  0  0  0  0  0  0  0  0  0\\n   -5.7749   -3.1278   -0.1710 H   0  0  0  0  0  0  0  0  0  0  0  0\\n   -7.3930   -4.1332   -2.6375 H   0  0  0  0  0  0  0  0  0  0  0  0\\n   -5.7409   -1.5135   -2.4447 H   0  0  0  0  0  0  0  0  0  0  0  0\\n   -5.0778   -4.4597   -3.7830 H   0  0  0  0  0  0  0  0  0  0  0  0\\n    5.9502   -3.4767   -0.9256 C   0  0  0  0  0  0  0  0  0  0  0  0\\n    5.9266   -3.4451   -2.4115 C   0  0  0  0  0  0  0  0  0  0  0  0\\n    4.7255   -4.1920   -2.9140 C   0  0  0  0  0  0  0  0  0  0  0  0\\n    5.9615   -2.0609   -2.9002 C   0  0  0  0  0  0  0  0  0  0  0  0\\n    5.1475   -3.0649   -0.3381 H   0  0  0  0  0  0  0  0  0  0  0  0\\n    6.8272   -3.9634   -2.8046 H   0  0  0  0  0  0  0  0  0  0  0  0\\n    3.7324   -3.8426   -2.6118 H   0  0  0  0  0  0  0  0  0  0  0  0\\n    5.9523   -1.7952   -3.9501 H   0  0  0  0  0  0  0  0  0  0  0  0\\n   -0.1351    7.1873   -0.7594 C   0  0  0  0  0  0  0  0  0  0  0  0\\n   -0.1507    7.1511   -2.2453 C   0  0  0  0  0  0  0  0  0  0  0  0\\n    1.0966    6.4843   -2.7478 C   0  0  0  0  0  0  0  0  0  0  0  0\\n   -1.3668    6.4892   -2.7341 C   0  0  0  0  0  0  0  0  0  0  0  0\\n   -0.0904    6.2862   -0.1719 H   0  0  0  0  0  0  0  0  0  0  0  0\\n   -0.1521    8.1902   -2.6385 H   0  0  0  0  0  0  0  0  0  0  0  0\\n    1.2906    5.4496   -2.4456 H   0  0  0  0  0  0  0  0  0  0  0  0\\n   -1.5924    6.3484   -3.7839 H   0  0  0  0  0  0  0  0  0  0  0  0\\n   -2.8930   -1.5416    6.9788 N   0  0  0  0  0  0  0  0  0  0  0  0\\n   -4.0606   -2.1296    6.4166 C   0  0  0  0  0  0  0  0  0  0  0  0\\n   -4.0690   -2.2228    4.9981 N   0  0  0  0  0  0  0  0  0  0  0  0\\n   -5.2661   -2.8233    4.4601 C   0  0  0  0  0  0  0  0  0  0  0  0\\n   -5.2013   -2.8907    2.9426 C   0  0  0  0  0  0  0  0  0  0  0  0\\n   -6.4951   -3.5324    2.4721 C   0  0  0  0  0  0  0  0  0  0  0  0\\n   -6.5299   -3.6414    1.0398 N   0  0  0  0  0  0  0  0  0  0  0  0\\n   -4.9914   -1.6319    6.7434 H   0  0  0  0  0  0  0  0  0  0  0  0\\n   -4.1351   -3.1813    6.8223 H   0  0  0  0  0  0  0  0  0  0  0  0\\n   -3.2069   -2.5329    4.5445 H   0  0  0  0  0  0  0  0  0  0  0  0\\n   -6.1842   -2.2767    4.7564 H   0  0  0  0  0  0  0  0  0  0  0  0\\n   -5.3381   -3.8440    4.8874 H   0  0  0  0  0  0  0  0  0  0  0  0\\n   -5.0586   -1.9075    2.4961 H   0  0  0  0  0  0  0  0  0  0  0  0\\n   -4.3455   -3.5312    2.6555 H   0  0  0  0  0  0  0  0  0  0  0  0\\n   -7.3157   -2.8621    2.8191 H   0  0  0  0  0  0  0  0  0  0  0  0\\n   -6.5450   -4.5241    2.9625 H   0  0  0  0  0  0  0  0  0  0  0  0\\n    2.4899   -1.4662    6.7747 N   0  0  0  0  0  0  0  0  0  0  0  0\\n    3.5828   -2.1834    6.2125 C   0  0  0  0  0  0  0  0  0  0  0  0\\n    3.6677   -2.1440    4.7940 N   0  0  0  0  0  0  0  0  0  0  0  0\\n    4.7863   -2.8806    4.2560 C   0  0  0  0  0  0  0  0  0  0  0  0\\n    4.8123   -2.7906    2.7385 C   0  0  0  0  0  0  0  0  0  0  0  0\\n    6.0149   -3.5904    2.2680 C   0  0  0  0  0  0  0  0  0  0  0  0\\n    6.1267   -3.5659    0.8357 N   0  0  0  0  0  0  0  0  0  0  0  0\\n    3.6170   -3.2384    6.5392 H   0  0  0  0  0  0  0  0  0  0  0  0\\n    4.5308   -1.7223    6.6183 H   0  0  0  0  0  0  0  0  0  0  0  0\\n    3.5054   -1.2423    4.3405 H   0  0  0  0  0  0  0  0  0  0  0  0\\n    4.7718   -3.9490    4.5522 H   0  0  0  0  0  0  0  0  0  0  0  0\\n    5.7063   -2.4328    4.6833 H   0  0  0  0  0  0  0  0  0  0  0  0\\n    3.8894   -3.1585    2.2919 H   0  0  0  0  0  0  0  0  0  0  0  0\\n    4.9393   -1.7293    2.4515 H   0  0  0  0  0  0  0  0  0  0  0  0\\n    5.8445   -4.6362    2.6149 H   0  0  0  0  0  0  0  0  0  0  0  0\\n    6.8987   -3.1379    2.7585 H   0  0  0  0  0  0  0  0  0  0  0  0\\n   -0.1193    3.2872    6.8515 N   0  0  0  0  0  0  0  0  0  0  0  0\\n   -0.0455    4.5924    6.2894 C   0  0  0  0  0  0  0  0  0  0  0  0\\n   -0.1212    4.6461    4.8708 N   0  0  0  0  0  0  0  0  0  0  0  0\\n   -0.0435    5.9832    4.3329 C   0  0  0  0  0  0  0  0  0  0  0  0\\n   -0.1334    5.9607    2.8154 C   0  0  0  0  0  0  0  0  0  0  0  0\\n   -0.0431    7.4021    2.3449 C   0  0  0  0  0  0  0  0  0  0  0  0\\n   -0.1193    7.4866    0.9126 N   0  0  0  0  0  0  0  0  0  0  0  0\\n    0.8503    5.1503    6.6167 H   0  0  0  0  0  0  0  0  0  0  0  0\\n   -0.9197    5.1820    6.6946 H   0  0  0  0  0  0  0  0  0  0  0  0\\n   -0.8201    4.0540    4.4169 H   0  0  0  0  0  0  0  0  0  0  0  0\\n    0.8883    6.5058    4.6298 H   0  0  0  0  0  0  0  0  0  0  0  0\\n   -0.8921    6.5552    4.7597 H   0  0  0  0  0  0  0  0  0  0  0  0\\n    0.6475    5.3461    2.3693 H   0  0  0  0  0  0  0  0  0  0  0  0\\n   -1.1154    5.5390    2.5277 H   0  0  0  0  0  0  0  0  0  0  0  0\\n    0.9472    7.7784    2.6925 H   0  0  0  0  0  0  0  0  0  0  0  0\\n   -0.8778    7.9405    2.8348 H   0  0  0  0  0  0  0  0  0  0  0  0\\n   -3.8528   -5.0670   -3.5954 N   0  0  0  0  0  0  0  0  0  0  0  0\\n   -2.6403   -5.6296   -4.0834 C   0  0  0  0  0  0  0  0  0  0  0  0\\n   -1.4509   -5.0403   -3.5742 N   0  0  0  0  0  0  0  0  0  0  0  0\\n   -0.2398   -5.6334   -4.0885 C   0  0  0  0  0  0  0  0  0  0  0  0\\n    0.9863   -4.9548   -3.4988 C   0  0  0  0  0  0  0  0  0  0  0  0\\n    2.2026   -5.6420   -4.0951 C   0  0  0  0  0  0  0  0  0  0  0  0\\n    3.4209   -5.0670   -3.5954 N   0  0  0  0  0  0  0  0  0  0  0  0\\n   -2.5854   -5.6389   -5.1870 H   0  0  0  0  0  0  0  0  0  0  0  0\\n   -2.6307   -6.7184   -3.7825 H   0  0  0  0  0  0  0  0  0  0  0  0\\n   -1.4221   -4.8349   -2.5732 H   0  0  0  0  0  0  0  0  0  0  0  0\\n   -0.1804   -5.5839   -5.1947 H   0  0  0  0  0  0  0  0  0  0  0  0\\n   -0.2579   -6.7058   -3.8074 H   0  0  0  0  0  0  0  0  0  0  0  0\\n    0.9957   -3.8839   -3.6982 H   0  0  0  0  0  0  0  0  0  0  0  0\\n    0.9777   -5.1048   -2.4023 H   0  0  0  0  0  0  0  0  0  0  0  0\\n    2.1361   -5.4851   -5.1970 H   0  0  0  0  0  0  0  0  0  0  0  0\\n    2.1134   -6.7136   -3.8305 H   0  0  0  0  0  0  0  0  0  0  0  0\\n   -6.3824   -0.8623   -3.5456 N   0  0  0  0  0  0  0  0  0  0  0  0\\n   -6.3378    0.5120   -3.9118 C   0  0  0  0  0  0  0  0  0  0  0  0\\n   -5.1565    1.2033   -3.5276 N   0  0  0  0  0  0  0  0  0  0  0  0\\n   -5.1428    2.5940   -3.9136 C   0  0  0  0  0  0  0  0  0  0  0  0\\n   -3.8515    3.2642   -3.4723 C   0  0  0  0  0  0  0  0  0  0  0  0\\n   -3.9294    4.7137   -3.9195 C   0  0  0  0  0  0  0  0  0  0  0  0\\n   -2.7455    5.4369   -3.5456 N   0  0  0  0  0  0  0  0  0  0  0  0\\n   -7.2133    1.0809   -3.5502 H   0  0  0  0  0  0  0  0  0  0  0  0\\n   -6.4039    0.5613   -5.0384 H   0  0  0  0  0  0  0  0  0  0  0  0\\n   -4.2657    0.7223   -3.6700 H   0  0  0  0  0  0  0  0  0  0  0  0\\n   -6.0012    3.1581   -3.4958 H   0  0  0  0  0  0  0  0  0  0  0  0\\n   -5.2342    2.6257   -5.0182 H   0  0  0  0  0  0  0  0  0  0  0  0\\n   -3.6982    3.1866   -2.3966 H   0  0  0  0  0  0  0  0  0  0  0  0\\n   -3.0048    2.7654   -3.9816 H   0  0  0  0  0  0  0  0  0  0  0  0\\n   -4.8161    5.1487   -3.4020 H   0  0  0  0  0  0  0  0  0  0  0  0\\n   -4.0696    4.6916   -5.0178 H   0  0  0  0  0  0  0  0  0  0  0  0\\n    6.0127   -0.4193   -3.4491 N   0  0  0  0  0  0  0  0  0  0  0  0\\n    5.8937    0.9121   -3.9372 C   0  0  0  0  0  0  0  0  0  0  0  0\\n    4.7887    1.6474   -3.4279 N   0  0  0  0  0  0  0  0  0  0  0  0\\n    4.6967    2.9929   -3.9423 C   0  0  0  0  0  0  0  0  0  0  0  0\\n    3.4960    3.7154   -3.3525 C   0  0  0  0  0  0  0  0  0  0  0  0\\n    3.4830    5.1123   -3.9488 C   0  0  0  0  0  0  0  0  0  0  0  0\\n    2.3759    5.8799   -3.4491 N   0  0  0  0  0  0  0  0  0  0  0  0\\n    5.8743    0.9643   -5.0407 H   0  0  0  0  0  0  0  0  0  0  0  0\\n    6.8318    1.4648   -3.6362 H   0  0  0  0  0  0  0  0  0  0  0  0\\n    4.5964    1.5697   -2.4269 H   0  0  0  0  0  0  0  0  0  0  0  0\\n    4.6242    3.0195   -5.0484 H   0  0  0  0  0  0  0  0  0  0  0  0\\n    5.6346    3.5133   -3.6611 H   0  0  0  0  0  0  0  0  0  0  0  0\\n    2.5639    3.1881   -3.5519 H   0  0  0  0  0  0  0  0  0  0  0  0\\n    3.6302    3.7830   -2.2560 H   0  0  0  0  0  0  0  0  0  0  0  0\\n    3.3804    4.9762   -5.0507 H   0  0  0  0  0  0  0  0  0  0  0  0\\n    4.4556    5.5709   -3.6842 H   0  0  0  0  0  0  0  0  0  0  0  0\\n  1  2  1  0\\n  2  3  1  0\\n  2  4  1  0\\n  1  5  1  0\\n  2  6  1  0\\n  3  7  1  0\\n  4  8  1  0\\n  9 10  1  0\\n 10 11  1  0\\n 10 12  1  0\\n  9 13  1  0\\n 10 14  1  0\\n 11 15  1  0\\n 12 16  1  0\\n 17 18  1  0\\n 18 19  1  0\\n 18 20  1  0\\n 17 21  1  0\\n 18 22  1  0\\n 19 23  1  0\\n 20 24  1  0\\n 25 26  1  0\\n 26 27  1  0\\n 26 28  1  0\\n 25 29  1  0\\n 26 30  1  0\\n 27 31  1  0\\n 28 32  1  0\\n 33 34  1  0\\n 34 35  1  0\\n 35 36  1  0\\n 36 37  1  0\\n 37 38  1  0\\n 38 39  1  0\\n 34 40  1  0\\n 34 41  1  0\\n 35 42  1  0\\n 36 43  1  0\\n 36 44  1  0\\n 37 45  1  0\\n 37 46  1  0\\n 38 47  1  0\\n 38 48  1  0\\n 49 50  1  0\\n 50 51  1  0\\n 51 52  1  0\\n 52 53  1  0\\n 53 54  1  0\\n 54 55  1  0\\n 50 56  1  0\\n 50 57  1  0\\n 51 58  1  0\\n 52 59  1  0\\n 52 60  1  0\\n 53 61  1  0\\n 53 62  1  0\\n 54 63  1  0\\n 54 64  1  0\\n 65 66  1  0\\n 66 67  1  0\\n 67 68  1  0\\n 68 69  1  0\\n 69 70  1  0\\n 70 71  1  0\\n 66 72  1  0\\n 66 73  1  0\\n 67 74  1  0\\n 68 75  1  0\\n 68 76  1  0\\n 69 77  1  0\\n 69 78  1  0\\n 70 79  1  0\\n 70 80  1  0\\n 81 82  1  0\\n 82 83  1  0\\n 83 84  1  0\\n 84 85  1  0\\n 85 86  1  0\\n 86 87  1  0\\n 82 88  1  0\\n 82 89  1  0\\n 83 90  1  0\\n 84 91  1  0\\n 84 92  1  0\\n 85 93  1  0\\n 85 94  1  0\\n 86 95  1  0\\n 86 96  1  0\\n 97 98  1  0\\n 98 99  1  0\\n 99100  1  0\\n100101  1  0\\n101102  1  0\\n102103  1  0\\n 98104  1  0\\n 98105  1  0\\n 99106  1  0\\n100107  1  0\\n100108  1  0\\n101109  1  0\\n101110  1  0\\n102111  1  0\\n102112  1  0\\n113114  1  0\\n114115  1  0\\n115116  1  0\\n116117  1  0\\n117118  1  0\\n118119  1  0\\n114120  1  0\\n114121  1  0\\n115122  1  0\\n116123  1  0\\n116124  1  0\\n117125  1  0\\n117126  1  0\\n118127  1  0\\n118128  1  0\\n  1 33  2  3\\n  9 39  2  3\\n  3 49  2  3\\n 17 55  2  3\\n  4 65  2  3\\n 25 71  2  3\\n 12 81  2  3\\n 19 87  2  3\\n 11 97  2  3\\n 28103  2  3\\n 20113  2  3\\n 27119  2  3\\nM  END\\n\");\n",
       "viewer_17088940931283116.setStyle({\"stick\": {\"colorscheme\": \"cyanCarbon\"}});\n",
       "viewer_17088940931283116.zoomTo();\n",
       "\tviewer_17088940931283116.setBackgroundColor(\"0xeeeeee\");\n",
       "\tviewer_17088940931283116.zoomTo();\n",
       "viewer_17088940931283116.render();\n",
       "});\n",
       "</script>"
      ]
     },
     "metadata": {},
     "output_type": "display_data"
    },
    {
     "data": {
      "text/plain": [
       "<ConstructedMolecule at 126867103058064>"
      ]
     },
     "execution_count": 33,
     "metadata": {},
     "output_type": "execute_result"
    }
   ],
   "source": [
    "bb1 = stk.BuildingBlock('NCNCCCN', [stk.PrimaryAminoFactory()])\n",
    "bb2 = stk.BuildingBlock(\n",
    "    smiles='O=CC(C=O)C=O',\n",
    "    functional_groups=[stk.AldehydeFactory()],\n",
    ")\n",
    "cage2 = stk.ConstructedMolecule(\n",
    "    topology_graph=stk.cage.FourPlusSix(\n",
    "        building_blocks=(bb1, bb2),\n",
    "        vertex_alignments={4: 0},\n",
    "        optimizer=stk.MCHammer(),\n",
    "    ),\n",
    ")\n",
    "show_stk_mol(cage2)\n",
    "cage2.write('test2.mol')"
   ]
  },
  {
   "cell_type": "code",
   "execution_count": 34,
   "metadata": {},
   "outputs": [],
   "source": [
    "def analyze_cage(cage, propfile=None, structfile=None,\n",
    "                 include_coms=True):\n",
    "    \"\"\"\n",
    "    Analyze cage already loaded into pywindow.\n",
    "\n",
    "    \"\"\"\n",
    "    # Perform full pyWindow analysis\n",
    "    cage.full_analysis()\n",
    "    # Dump pyWindow properties into JSON and cage into xyz\n",
    "    if propfile is not None:\n",
    "        cage.dump_properties_json(propfile)\n",
    "    if structfile is not None:\n",
    "        cage.dump_molecule(structfile, include_coms=include_coms)\n",
    "\n",
    "\n",
    "def analyze_cage_from_MOL(file, prop_file, mole_file,\n",
    "                          include_coms=True):\n",
    "    \"\"\"\n",
    "    Run all desired analysis on a single built cage molecule.\n",
    "\n",
    "    Output cage with COM atoms and properties to JSON.\n",
    "\n",
    "    \"\"\"\n",
    "    # Import optimised cage into pyWindow, via RDkit mol file\n",
    "    cage_rd = Chem.MolFromMolFile(file)\n",
    "    cage_sys = pw.MolecularSystem.load_rdkit_mol(cage_rd)\n",
    "    cage_mol = cage_sys.system_to_molecule()\n",
    "    analyze_cage(cage=cage_mol, propfile=prop_file,\n",
    "                 structfile=mole_file, include_coms=include_coms)\n"
   ]
  },
  {
   "cell_type": "code",
   "execution_count": 35,
   "metadata": {},
   "outputs": [
    {
     "ename": "TypeError",
     "evalue": "analyze_cage_from_MOL() missing 2 required positional arguments: 'prop_file' and 'mole_file'",
     "output_type": "error",
     "traceback": [
      "\u001b[0;31m---------------------------------------------------------------------------\u001b[0m",
      "\u001b[0;31mTypeError\u001b[0m                                 Traceback (most recent call last)",
      "Cell \u001b[0;32mIn[35], line 2\u001b[0m\n\u001b[1;32m      1\u001b[0m cage2\u001b[38;5;241m.\u001b[39mwrite(\u001b[38;5;124m'\u001b[39m\u001b[38;5;124mpywindow_test.mol\u001b[39m\u001b[38;5;124m'\u001b[39m)\n\u001b[0;32m----> 2\u001b[0m \u001b[43manalyze_cage_from_MOL\u001b[49m\u001b[43m(\u001b[49m\u001b[38;5;124;43m'\u001b[39;49m\u001b[38;5;124;43mpywindow_test.mol\u001b[39;49m\u001b[38;5;124;43m'\u001b[39;49m\u001b[43m)\u001b[49m\n",
      "\u001b[0;31mTypeError\u001b[0m: analyze_cage_from_MOL() missing 2 required positional arguments: 'prop_file' and 'mole_file'"
     ]
    }
   ],
   "source": [
    "cage2.write('pywindow_test.mol')\n",
    "analyze_cage_from_MOL('pywindow_test.mol')"
   ]
  },
  {
   "cell_type": "code",
   "execution_count": 36,
   "metadata": {},
   "outputs": [
    {
     "ename": "TypeError",
     "evalue": "Complex.__init__() got an unexpected keyword argument 'guest'",
     "output_type": "error",
     "traceback": [
      "\u001b[0;31m---------------------------------------------------------------------------\u001b[0m",
      "\u001b[0;31mTypeError\u001b[0m                                 Traceback (most recent call last)",
      "Cell \u001b[0;32mIn[36], line 3\u001b[0m\n\u001b[1;32m      1\u001b[0m guest \u001b[38;5;241m=\u001b[39m stk\u001b[38;5;241m.\u001b[39mBuildingBlock(\u001b[38;5;124m'\u001b[39m\u001b[38;5;124mCN1C=NC2=C1C(=O)N(C(=O)N2C)C\u001b[39m\u001b[38;5;124m'\u001b[39m)\n\u001b[1;32m      2\u001b[0m host \u001b[38;5;241m=\u001b[39m stk\u001b[38;5;241m.\u001b[39mBuildingBlock\u001b[38;5;241m.\u001b[39minit_from_molecule(cage2)\n\u001b[0;32m----> 3\u001b[0m topology_graph \u001b[38;5;241m=\u001b[39m \u001b[43mstk\u001b[49m\u001b[38;5;241;43m.\u001b[39;49m\u001b[43mhost_guest\u001b[49m\u001b[38;5;241;43m.\u001b[39;49m\u001b[43mComplex\u001b[49m\u001b[43m(\u001b[49m\n\u001b[1;32m      4\u001b[0m \u001b[43m    \u001b[49m\u001b[43mhost\u001b[49m\u001b[38;5;241;43m=\u001b[39;49m\u001b[43mhost\u001b[49m\u001b[43m,\u001b[49m\n\u001b[1;32m      5\u001b[0m \u001b[43m    \u001b[49m\u001b[43mguest\u001b[49m\u001b[38;5;241;43m=\u001b[39;49m\u001b[43mguest\u001b[49m\u001b[43m,\u001b[49m\n\u001b[1;32m      6\u001b[0m \u001b[43m    \u001b[49m\u001b[38;5;66;43;03m# Apply a rotation onto the guest molecule such that\u001b[39;49;00m\n\u001b[1;32m      7\u001b[0m \u001b[43m    \u001b[49m\u001b[38;5;66;43;03m# the vector returned by get_direction() has the same\u001b[39;49;00m\n\u001b[1;32m      8\u001b[0m \u001b[43m    \u001b[49m\u001b[38;5;66;43;03m# direction as [1, 1, 1].\u001b[39;49;00m\n\u001b[1;32m      9\u001b[0m \u001b[43m    \u001b[49m\u001b[43mguest_start\u001b[49m\u001b[38;5;241;43m=\u001b[39;49m\u001b[43mguest\u001b[49m\u001b[38;5;241;43m.\u001b[39;49m\u001b[43mget_direction\u001b[49m\u001b[43m(\u001b[49m\u001b[43m)\u001b[49m\u001b[43m,\u001b[49m\n\u001b[1;32m     10\u001b[0m \u001b[43m    \u001b[49m\u001b[43mguest_target\u001b[49m\u001b[38;5;241;43m=\u001b[39;49m\u001b[43m[\u001b[49m\u001b[38;5;241;43m1\u001b[39;49m\u001b[43m,\u001b[49m\u001b[43m \u001b[49m\u001b[38;5;241;43m1\u001b[39;49m\u001b[43m,\u001b[49m\u001b[43m \u001b[49m\u001b[38;5;241;43m1\u001b[39;49m\u001b[43m]\u001b[49m\u001b[43m,\u001b[49m\n\u001b[1;32m     11\u001b[0m \u001b[43m    \u001b[49m\u001b[38;5;66;43;03m# Change the displacement of the guest.\u001b[39;49;00m\n\u001b[1;32m     12\u001b[0m \u001b[43m    \u001b[49m\u001b[43mdisplacement\u001b[49m\u001b[38;5;241;43m=\u001b[39;49m\u001b[43m[\u001b[49m\u001b[38;5;241;43m0.3\u001b[39;49m\u001b[43m,\u001b[49m\u001b[43m \u001b[49m\u001b[38;5;241;43m0.1\u001b[39;49m\u001b[43m,\u001b[49m\u001b[43m \u001b[49m\u001b[38;5;241;43m0.1\u001b[39;49m\u001b[43m]\u001b[49m\u001b[43m,\u001b[49m\n\u001b[1;32m     13\u001b[0m \u001b[43m)\u001b[49m\n\u001b[1;32m     14\u001b[0m host_guest_complex \u001b[38;5;241m=\u001b[39m stk\u001b[38;5;241m.\u001b[39mConstructedMolecule(topology_graph)\n\u001b[1;32m     15\u001b[0m show_stk_mol(host_guest_complex)\n",
      "\u001b[0;31mTypeError\u001b[0m: Complex.__init__() got an unexpected keyword argument 'guest'"
     ]
    }
   ],
   "source": [
    "guest = stk.BuildingBlock('CN1C=NC2=C1C(=O)N(C(=O)N2C)C')\n",
    "host = stk.BuildingBlock.init_from_molecule(cage2)\n",
    "topology_graph = stk.host_guest.Complex(\n",
    "    host=host,\n",
    "    guest=guest,\n",
    "    # Apply a rotation onto the guest molecule such that\n",
    "    # the vector returned by get_direction() has the same\n",
    "    # direction as [1, 1, 1].\n",
    "    guest_start=guest.get_direction(),\n",
    "    guest_target=[1, 1, 1],\n",
    "    # Change the displacement of the guest.\n",
    "    displacement=[0.3, 0.1, 0.1],\n",
    ")\n",
    "host_guest_complex = stk.ConstructedMolecule(topology_graph)\n",
    "show_stk_mol(host_guest_complex)"
   ]
  },
  {
   "cell_type": "code",
   "execution_count": 37,
   "metadata": {},
   "outputs": [
    {
     "ename": "NameError",
     "evalue": "name 'displacements' is not defined",
     "output_type": "error",
     "traceback": [
      "\u001b[0;31m---------------------------------------------------------------------------\u001b[0m",
      "\u001b[0;31mNameError\u001b[0m                                 Traceback (most recent call last)",
      "Cell \u001b[0;32mIn[37], line 1\u001b[0m\n\u001b[0;32m----> 1\u001b[0m \u001b[38;5;28;01mfor\u001b[39;00m displace \u001b[38;5;129;01min\u001b[39;00m \u001b[43mdisplacements\u001b[49m:\n\u001b[1;32m      2\u001b[0m     topology_graph \u001b[38;5;241m=\u001b[39m stk\u001b[38;5;241m.\u001b[39mhost_guest\u001b[38;5;241m.\u001b[39mComplex(\n\u001b[1;32m      3\u001b[0m         host\u001b[38;5;241m=\u001b[39mhost,\n\u001b[1;32m      4\u001b[0m         guest\u001b[38;5;241m=\u001b[39mguest,\n\u001b[0;32m   (...)\u001b[0m\n\u001b[1;32m     11\u001b[0m         displacement\u001b[38;5;241m=\u001b[39mdisplacement,\n\u001b[1;32m     12\u001b[0m     )\n\u001b[1;32m     13\u001b[0m     host_guest_complex \u001b[38;5;241m=\u001b[39m stk\u001b[38;5;241m.\u001b[39mConstructedMolecule(topology_graph)\n",
      "\u001b[0;31mNameError\u001b[0m: name 'displacements' is not defined"
     ]
    }
   ],
   "source": [
    "for displace in displacements:\n",
    "    topology_graph = stk.host_guest.Complex(\n",
    "        host=host,\n",
    "        guest=guest,\n",
    "        # Apply a rotation onto the guest molecule such that\n",
    "        # the vector returned by get_direction() has the same\n",
    "        # direction as [1, 1, 1].\n",
    "        guest_start=guest.get_direction(),\n",
    "        guest_target=[1, 1, 1],\n",
    "        # Change the displacement of the guest.\n",
    "        displacement=displacement,\n",
    "    )\n",
    "    host_guest_complex = stk.ConstructedMolecule(topology_graph)\n",
    "    host_guest_complex = stko.XTB(somwething).optmize(host_guest_cmoplex)\n",
    "    energy = stko.XTBEnergy(xtb_path=something,calculation_free_energies=True).get_energy(host_guest_complex)"
   ]
  },
  {
   "cell_type": "code",
   "execution_count": null,
   "metadata": {},
   "outputs": [],
   "source": []
  },
  {
   "cell_type": "code",
   "execution_count": null,
   "metadata": {},
   "outputs": [],
   "source": []
  }
 ],
 "metadata": {
  "colab": {
   "collapsed_sections": [],
   "name": "Workshop1.ipynb",
   "provenance": [],
   "toc_visible": true
  },
  "kernelspec": {
   "display_name": "Python 3 (ipykernel)",
   "language": "python",
   "name": "python3"
  },
  "language_info": {
   "codemirror_mode": {
    "name": "ipython",
    "version": 3
   },
   "file_extension": ".py",
   "mimetype": "text/x-python",
   "name": "python",
   "nbconvert_exporter": "python",
   "pygments_lexer": "ipython3",
   "version": "3.11.8"
  }
 },
 "nbformat": 4,
 "nbformat_minor": 4
}
