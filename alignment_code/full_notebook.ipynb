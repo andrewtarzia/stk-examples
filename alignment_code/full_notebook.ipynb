{
 "cells": [
  {
   "cell_type": "code",
   "execution_count": 7,
   "id": "c965617e",
   "metadata": {},
   "outputs": [],
   "source": [
    "import stk\n",
    "import stko\n",
    "import time"
   ]
  },
  {
   "cell_type": "markdown",
   "id": "28ae9894",
   "metadata": {},
   "source": [
    "# A simple molecule"
   ]
  },
  {
   "cell_type": "code",
   "execution_count": 36,
   "id": "6e4ebc2f",
   "metadata": {},
   "outputs": [],
   "source": [
    "prefix = 'caff'"
   ]
  },
  {
   "cell_type": "code",
   "execution_count": 37,
   "id": "e4731dae",
   "metadata": {},
   "outputs": [],
   "source": [
    "initial_molecule = stk.BuildingBlock.init_from_file(f'{prefix}_init.mol')\n",
    "unaligned = stk.BuildingBlock.init_from_file(f'{prefix}_unaligned.mol')"
   ]
  },
  {
   "cell_type": "code",
   "execution_count": 38,
   "id": "8f49f624",
   "metadata": {},
   "outputs": [
    {
     "name": "stdout",
     "output_type": "stream",
     "text": [
      "BuildingBlock('Cn1c(=O)c2c(ncn2C)n(C)c1=O')\n",
      "num atoms: 24\n"
     ]
    }
   ],
   "source": [
    "print(initial_molecule)\n",
    "print(f'num atoms: {initial_molecule.get_num_atoms()}')"
   ]
  },
  {
   "cell_type": "code",
   "execution_count": 12,
   "id": "9f532e47",
   "metadata": {},
   "outputs": [],
   "source": [
    "# Avoid noise by only matching \"hetero atoms\"\n",
    "pairs = (\n",
    "    ('N', 'N'),\n",
    "    ('O', 'O'),\n",
    ")"
   ]
  },
  {
   "cell_type": "code",
   "execution_count": 13,
   "id": "a84dc7ba",
   "metadata": {},
   "outputs": [],
   "source": [
    "# Define optimizer.\n",
    "aligner = stko.Aligner(\n",
    "    # Target.\n",
    "    initial_molecule=initial_molecule,\n",
    "    # Atom pairs to use.\n",
    "    matching_pairs=pairs,\n",
    ")"
   ]
  },
  {
   "cell_type": "code",
   "execution_count": 14,
   "id": "8c232234",
   "metadata": {},
   "outputs": [
    {
     "name": "stdout",
     "output_type": "stream",
     "text": [
      "time taken: 4.262695789337158s\n"
     ]
    }
   ],
   "source": [
    "# Classic stko interface.\n",
    "st = time.time()\n",
    "aligned = aligner.optimize(unaligned)\n",
    "aligned.write(f'{prefix}_aligned.mol')\n",
    "print(f'time taken: {time.time()-st}s')"
   ]
  },
  {
   "cell_type": "code",
   "execution_count": 15,
   "id": "d6f150b3",
   "metadata": {},
   "outputs": [
    {
     "name": "stdout",
     "output_type": "stream",
     "text": [
      "Unaligned RMSD: 4.380028442495091\n",
      "Aligned RMSD: 0.1992710473390458\n"
     ]
    }
   ],
   "source": [
    "# Calculate RMSD using stko Calculator interface.\n",
    "rmsd_calculator = stko.RmsdCalculator(initial_molecule)\n",
    "print(f'Unaligned RMSD: {rmsd_calculator.get_results(unaligned).get_rmsd()}')\n",
    "print(f'Aligned RMSD: {rmsd_calculator.get_results(aligned).get_rmsd()}')"
   ]
  },
  {
   "cell_type": "markdown",
   "id": "56beaf38",
   "metadata": {},
   "source": [
    "## Note, same molecule, but not perfect overlap!"
   ]
  },
  {
   "cell_type": "markdown",
   "id": "d8469a0b",
   "metadata": {},
   "source": [
    "# A not-so-simple molecule"
   ]
  },
  {
   "cell_type": "code",
   "execution_count": 39,
   "id": "a7a47f7d",
   "metadata": {},
   "outputs": [],
   "source": [
    "prefix = 'pdmoc'"
   ]
  },
  {
   "cell_type": "code",
   "execution_count": 40,
   "id": "cd11b0d6",
   "metadata": {},
   "outputs": [],
   "source": [
    "initial_molecule = stk.BuildingBlock.init_from_file(f'{prefix}_init.mol')\n",
    "unaligned = stk.BuildingBlock.init_from_file(f'{prefix}_unaligned.mol')"
   ]
  },
  {
   "cell_type": "code",
   "execution_count": 41,
   "id": "3f2e1189",
   "metadata": {},
   "outputs": [
    {
     "name": "stdout",
     "output_type": "stream",
     "text": [
      "BuildingBlock('C1#Cc2cccc3cn(->[Pd+2]45<-n6ccc7c(cccc7c6)C#Cc6ccc(cc6)C#Cc6cccc7ccn(->[Pd+2](<-n8ccc9c(cccc9c8)C#Cc8ccc(cc8)C#Cc8cccc9ccn->4cc89)(<-n4ccc8c(cccc8c4)C#Cc4ccc(cc4)C#Cc4cccc8ccn->5cc48)<-n4ccc5cccc(c5c4)C#Cc4ccc1cc4)cc67)ccc23')\n",
      "num atoms: 186\n"
     ]
    }
   ],
   "source": [
    "print(initial_molecule)\n",
    "print(f'num atoms: {initial_molecule.get_num_atoms()}')"
   ]
  },
  {
   "cell_type": "code",
   "execution_count": 19,
   "id": "c0277f00",
   "metadata": {},
   "outputs": [
    {
     "name": "stdout",
     "output_type": "stream",
     "text": [
      "time taken: 213.42984890937805s\n",
      "Unaligned RMSD: 8.991426839383802\n",
      "Aligned RMSD: 0.26277713677718484\n"
     ]
    }
   ],
   "source": [
    "pairs = (\n",
    "    ('N', 'N'),\n",
    ")\n",
    "# Define optimizer.\n",
    "aligner = stko.Aligner(\n",
    "    initial_molecule=initial_molecule,\n",
    "    matching_pairs=pairs,\n",
    ")\n",
    "st = time.time()\n",
    "aligned = aligner.optimize(unaligned)\n",
    "aligned.write(f'{prefix}_1_aligned.mol')\n",
    "print(f'time taken: {time.time()-st}s')\n",
    "\n",
    "# Calculate RMSD using stko Calculator interface.\n",
    "rmsd_calculator = stko.RmsdCalculator(initial_molecule)\n",
    "print(f'Unaligned RMSD: {rmsd_calculator.get_results(unaligned).get_rmsd()}')\n",
    "print(f'Aligned RMSD: {rmsd_calculator.get_results(aligned).get_rmsd()}')"
   ]
  },
  {
   "cell_type": "code",
   "execution_count": 42,
   "id": "61521ea3",
   "metadata": {},
   "outputs": [
    {
     "name": "stdout",
     "output_type": "stream",
     "text": [
      "time taken: 156.2794725894928s\n",
      "Unaligned RMSD: 8.991426839383802\n",
      "Aligned RMSD: 0.40027349993465\n"
     ]
    }
   ],
   "source": [
    "pairs = (\n",
    "    ('N', 'N'),\n",
    "    ('Pd', 'Pd'),\n",
    ")\n",
    "# Define optimizer.\n",
    "aligner = stko.Aligner(\n",
    "    initial_molecule=initial_molecule,\n",
    "    matching_pairs=pairs,\n",
    ")\n",
    "st = time.time()\n",
    "aligned = aligner.optimize(unaligned)\n",
    "aligned.write(f'{prefix}_2_aligned.mol')\n",
    "print(f'time taken: {time.time()-st}s')\n",
    "\n",
    "# Calculate RMSD using stko Calculator interface.\n",
    "rmsd_calculator = stko.RmsdCalculator(initial_molecule)\n",
    "print(f'Unaligned RMSD: {rmsd_calculator.get_results(unaligned).get_rmsd()}')\n",
    "print(f'Aligned RMSD: {rmsd_calculator.get_results(aligned).get_rmsd()}')"
   ]
  },
  {
   "cell_type": "markdown",
   "id": "0b5da873",
   "metadata": {},
   "source": [
    "# A host-guest system with different hosts!"
   ]
  },
  {
   "cell_type": "code",
   "execution_count": 21,
   "id": "b289c9ce",
   "metadata": {},
   "outputs": [],
   "source": [
    "initial_molecule = stk.BuildingBlock.init_from_file(f'hg_init.mol')\n",
    "unaligned = stk.BuildingBlock.init_from_file(f'hg2_unaligned.mol')"
   ]
  },
  {
   "cell_type": "code",
   "execution_count": 22,
   "id": "c5bcdc1e",
   "metadata": {},
   "outputs": [
    {
     "name": "stdout",
     "output_type": "stream",
     "text": [
      "BuildingBlock('C1#Cc2cccc3cn(->[Pd+2]45<-n6cccc(c6)-c6ccc7ccc(cc7c6)C#Cc6cccc7cn(->[Pd+2](<-n8cccc(c8)-c8ccc9ccc1cc9c8)(<-n1cccc(c1)-c1ccc8ccc(cc8c1)C#Cc1cccc8cn->4ccc18)<-n1ccc4c(cccc4c1)C#Cc1ccc4ccc(cc4c1)-c1cccn->5c1)ccc67)ccc23.O=Cc1cccc(Br)c1')\n",
      "num atoms: 192\n"
     ]
    }
   ],
   "source": [
    "print(initial_molecule)\n",
    "print(f'num atoms: {initial_molecule.get_num_atoms()}')"
   ]
  },
  {
   "cell_type": "code",
   "execution_count": 23,
   "id": "198171a6",
   "metadata": {},
   "outputs": [
    {
     "name": "stdout",
     "output_type": "stream",
     "text": [
      "BuildingBlock('C1#Cc2cccn(->[Pd+2]34<-n5cccc(c5)C#Cc5ccc6ccc(cc6c5)C#Cc5cccc6cn(->[Pd+2](<-n7cccc(c7)C#Cc7ccc8ccc(cc8c7)C#Cc7cccc8cn->3ccc78)(<-n3cccc(c3)C#Cc3ccc7ccc(cc7c3)C#Cc3cccc7cn->4ccc37)<-n3ccc4c(cccc4c3)C#Cc3ccc4ccc1cc4c3)ccc56)c2.O=Cc1cccc(Br)c1')\n",
      "num atoms: 200\n"
     ]
    }
   ],
   "source": [
    "print(unaligned)\n",
    "print(f'num atoms: {unaligned.get_num_atoms()}')"
   ]
  },
  {
   "cell_type": "markdown",
   "id": "e35b451d",
   "metadata": {},
   "source": [
    "### Align the hosts."
   ]
  },
  {
   "cell_type": "code",
   "execution_count": 24,
   "id": "36d06eab",
   "metadata": {},
   "outputs": [
    {
     "name": "stdout",
     "output_type": "stream",
     "text": [
      "time taken: 265.3111116886139s\n"
     ]
    }
   ],
   "source": [
    "pairs = (\n",
    "    ('N', 'N'),\n",
    "    ('Pd', 'Pd'),\n",
    ")\n",
    "# Define optimizer.\n",
    "aligner = stko.Aligner(\n",
    "    initial_molecule=initial_molecule,\n",
    "    matching_pairs=pairs,\n",
    ")\n",
    "st = time.time()\n",
    "aligned = aligner.optimize(unaligned)\n",
    "aligned.write(f'hg_host_aligned.mol')\n",
    "print(f'time taken: {time.time()-st}s')"
   ]
  },
  {
   "cell_type": "code",
   "execution_count": 25,
   "id": "1dc77e40",
   "metadata": {},
   "outputs": [
    {
     "ename": "DifferentMoleculeException",
     "evalue": "BuildingBlock('C1#Cc2cccc3cn(->[Pd+2]45<-n6cccc(c6)-c6ccc7ccc(cc7c6)C#Cc6cccc7cn(->[Pd+2](<-n8cccc(c8)-c8ccc9ccc1cc9c8)(<-n1cccc(c1)-c1ccc8ccc(cc8c1)C#Cc1cccc8cn->4ccc18)<-n1ccc4c(cccc4c1)C#Cc1ccc4ccc(cc4c1)-c1cccn->5c1)ccc67)ccc23.O=Cc1cccc(Br)c1') and BuildingBlock('C1#Cc2cccn(->[Pd+2]34<-n5cccc(c5)C#Cc5ccc6ccc(cc6c5)C#Cc5cccc6cn(->[Pd+2](<-n7cccc(c7)C#Cc7ccc8ccc(cc8c7)C#Cc7cccc8cn->3ccc78)(<-n3cccc(c3)C#Cc3ccc7ccc(cc7c3)C#Cc3cccc7cn->4ccc37)<-n3ccc4c(cccc4c3)C#Cc3ccc4ccc1cc4c3)ccc56)c2.O=Cc1cccc(Br)c1') are not equivalent with different numbers of atoms.",
     "output_type": "error",
     "traceback": [
      "\u001b[0;31m---------------------------------------------------------------------------\u001b[0m",
      "\u001b[0;31mDifferentMoleculeException\u001b[0m                Traceback (most recent call last)",
      "\u001b[0;32m/tmp/ipykernel_1663386/1955100717.py\u001b[0m in \u001b[0;36m<module>\u001b[0;34m\u001b[0m\n\u001b[1;32m      1\u001b[0m \u001b[0;31m# Calculate RMSD using stko Calculator interface.\u001b[0m\u001b[0;34m\u001b[0m\u001b[0;34m\u001b[0m\u001b[0m\n\u001b[1;32m      2\u001b[0m \u001b[0mrmsd_calculator\u001b[0m \u001b[0;34m=\u001b[0m \u001b[0mstko\u001b[0m\u001b[0;34m.\u001b[0m\u001b[0mRmsdCalculator\u001b[0m\u001b[0;34m(\u001b[0m\u001b[0minitial_molecule\u001b[0m\u001b[0;34m)\u001b[0m\u001b[0;34m\u001b[0m\u001b[0;34m\u001b[0m\u001b[0m\n\u001b[0;32m----> 3\u001b[0;31m \u001b[0mprint\u001b[0m\u001b[0;34m(\u001b[0m\u001b[0;34mf'Unaligned RMSD: {rmsd_calculator.get_results(unaligned).get_rmsd()}'\u001b[0m\u001b[0;34m)\u001b[0m\u001b[0;34m\u001b[0m\u001b[0;34m\u001b[0m\u001b[0m\n\u001b[0m\u001b[1;32m      4\u001b[0m \u001b[0mprint\u001b[0m\u001b[0;34m(\u001b[0m\u001b[0;34mf'Aligned RMSD: {rmsd_calculator.get_results(aligned).get_rmsd()}'\u001b[0m\u001b[0;34m)\u001b[0m\u001b[0;34m\u001b[0m\u001b[0;34m\u001b[0m\u001b[0m\n",
      "\u001b[0;32m~/software/stk_optimizers/stko/calculators/rmsd_calculators.py\u001b[0m in \u001b[0;36mget_results\u001b[0;34m(self, mol)\u001b[0m\n\u001b[1;32m    158\u001b[0m         \"\"\"\n\u001b[1;32m    159\u001b[0m \u001b[0;34m\u001b[0m\u001b[0m\n\u001b[0;32m--> 160\u001b[0;31m         \u001b[0;32mreturn\u001b[0m \u001b[0mRmsdResults\u001b[0m\u001b[0;34m(\u001b[0m\u001b[0mself\u001b[0m\u001b[0;34m.\u001b[0m\u001b[0mcalculate\u001b[0m\u001b[0;34m(\u001b[0m\u001b[0mmol\u001b[0m\u001b[0;34m)\u001b[0m\u001b[0;34m)\u001b[0m\u001b[0;34m\u001b[0m\u001b[0;34m\u001b[0m\u001b[0m\n\u001b[0m\u001b[1;32m    161\u001b[0m \u001b[0;34m\u001b[0m\u001b[0m\n\u001b[1;32m    162\u001b[0m \u001b[0;34m\u001b[0m\u001b[0m\n",
      "\u001b[0;32m~/software/stk_optimizers/stko/calculators/results/rmsd_results.py\u001b[0m in \u001b[0;36m__init__\u001b[0;34m(self, generator)\u001b[0m\n\u001b[1;32m     20\u001b[0m     \u001b[0;32mdef\u001b[0m \u001b[0m__init__\u001b[0m\u001b[0;34m(\u001b[0m\u001b[0mself\u001b[0m\u001b[0;34m,\u001b[0m \u001b[0mgenerator\u001b[0m\u001b[0;34m)\u001b[0m\u001b[0;34m:\u001b[0m\u001b[0;34m\u001b[0m\u001b[0;34m\u001b[0m\u001b[0m\n\u001b[1;32m     21\u001b[0m \u001b[0;34m\u001b[0m\u001b[0m\n\u001b[0;32m---> 22\u001b[0;31m         \u001b[0mself\u001b[0m\u001b[0;34m.\u001b[0m\u001b[0m_value\u001b[0m \u001b[0;34m=\u001b[0m \u001b[0mnext\u001b[0m\u001b[0;34m(\u001b[0m\u001b[0mgenerator\u001b[0m\u001b[0;34m)\u001b[0m\u001b[0;34m\u001b[0m\u001b[0;34m\u001b[0m\u001b[0m\n\u001b[0m\u001b[1;32m     23\u001b[0m \u001b[0;34m\u001b[0m\u001b[0m\n\u001b[1;32m     24\u001b[0m     \u001b[0;32mdef\u001b[0m \u001b[0mget_rmsd\u001b[0m\u001b[0;34m(\u001b[0m\u001b[0mself\u001b[0m\u001b[0;34m)\u001b[0m\u001b[0;34m:\u001b[0m\u001b[0;34m\u001b[0m\u001b[0;34m\u001b[0m\u001b[0m\n",
      "\u001b[0;32m~/software/stk_optimizers/stko/calculators/rmsd_calculators.py\u001b[0m in \u001b[0;36mcalculate\u001b[0;34m(self, mol)\u001b[0m\n\u001b[1;32m    135\u001b[0m \u001b[0;34m\u001b[0m\u001b[0m\n\u001b[1;32m    136\u001b[0m     \u001b[0;32mdef\u001b[0m \u001b[0mcalculate\u001b[0m\u001b[0;34m(\u001b[0m\u001b[0mself\u001b[0m\u001b[0;34m,\u001b[0m \u001b[0mmol\u001b[0m\u001b[0;34m)\u001b[0m\u001b[0;34m:\u001b[0m\u001b[0;34m\u001b[0m\u001b[0;34m\u001b[0m\u001b[0m\n\u001b[0;32m--> 137\u001b[0;31m         \u001b[0mself\u001b[0m\u001b[0;34m.\u001b[0m\u001b[0m_check_valid_comparison\u001b[0m\u001b[0;34m(\u001b[0m\u001b[0mmol\u001b[0m\u001b[0;34m)\u001b[0m\u001b[0;34m\u001b[0m\u001b[0;34m\u001b[0m\u001b[0m\n\u001b[0m\u001b[1;32m    138\u001b[0m         self._initial_molecule = self._initial_molecule.with_centroid(\n\u001b[1;32m    139\u001b[0m             \u001b[0mposition\u001b[0m\u001b[0;34m=\u001b[0m\u001b[0;34m(\u001b[0m\u001b[0;36m0\u001b[0m\u001b[0;34m,\u001b[0m \u001b[0;36m0\u001b[0m\u001b[0;34m,\u001b[0m \u001b[0;36m0\u001b[0m\u001b[0;34m)\u001b[0m\u001b[0;34m\u001b[0m\u001b[0;34m\u001b[0m\u001b[0m\n",
      "\u001b[0;32m~/software/stk_optimizers/stko/calculators/rmsd_calculators.py\u001b[0m in \u001b[0;36m_check_valid_comparison\u001b[0;34m(self, mol)\u001b[0m\n\u001b[1;32m     81\u001b[0m             \u001b[0mself\u001b[0m\u001b[0;34m.\u001b[0m\u001b[0m_initial_molecule\u001b[0m\u001b[0;34m.\u001b[0m\u001b[0mget_num_atoms\u001b[0m\u001b[0;34m(\u001b[0m\u001b[0;34m)\u001b[0m\u001b[0;34m\u001b[0m\u001b[0;34m\u001b[0m\u001b[0m\n\u001b[1;32m     82\u001b[0m         ):\n\u001b[0;32m---> 83\u001b[0;31m             raise DifferentMoleculeException(\n\u001b[0m\u001b[1;32m     84\u001b[0m                 \u001b[0;34mf'{self._initial_molecule} and {mol} are not '\u001b[0m\u001b[0;34m\u001b[0m\u001b[0;34m\u001b[0m\u001b[0m\n\u001b[1;32m     85\u001b[0m                 \u001b[0;34m'equivalent with different numbers of atoms.'\u001b[0m\u001b[0;34m\u001b[0m\u001b[0;34m\u001b[0m\u001b[0m\n",
      "\u001b[0;31mDifferentMoleculeException\u001b[0m: BuildingBlock('C1#Cc2cccc3cn(->[Pd+2]45<-n6cccc(c6)-c6ccc7ccc(cc7c6)C#Cc6cccc7cn(->[Pd+2](<-n8cccc(c8)-c8ccc9ccc1cc9c8)(<-n1cccc(c1)-c1ccc8ccc(cc8c1)C#Cc1cccc8cn->4ccc18)<-n1ccc4c(cccc4c1)C#Cc1ccc4ccc(cc4c1)-c1cccn->5c1)ccc67)ccc23.O=Cc1cccc(Br)c1') and BuildingBlock('C1#Cc2cccn(->[Pd+2]34<-n5cccc(c5)C#Cc5ccc6ccc(cc6c5)C#Cc5cccc6cn(->[Pd+2](<-n7cccc(c7)C#Cc7ccc8ccc(cc8c7)C#Cc7cccc8cn->3ccc78)(<-n3cccc(c3)C#Cc3ccc7ccc(cc7c3)C#Cc3cccc7cn->4ccc37)<-n3ccc4c(cccc4c3)C#Cc3ccc4ccc1cc4c3)ccc56)c2.O=Cc1cccc(Br)c1') are not equivalent with different numbers of atoms."
     ]
    }
   ],
   "source": [
    "# Calculate RMSD using stko Calculator interface.\n",
    "rmsd_calculator = stko.RmsdCalculator(initial_molecule)\n",
    "print(f'Unaligned RMSD: {rmsd_calculator.get_results(unaligned).get_rmsd()}')\n",
    "print(f'Aligned RMSD: {rmsd_calculator.get_results(aligned).get_rmsd()}')"
   ]
  },
  {
   "cell_type": "code",
   "execution_count": 26,
   "id": "62be0e66",
   "metadata": {},
   "outputs": [
    {
     "name": "stdout",
     "output_type": "stream",
     "text": [
      "Unaligned RMSD: 3.165969389496727\n",
      "Aligned RMSD: 1.447571348693271\n"
     ]
    }
   ],
   "source": [
    "# Calculate RMSD using stko Calculator interface.\n",
    "rmsd_calculator = stko.RmsdMappedCalculator(initial_molecule)\n",
    "print(f'Unaligned RMSD: {rmsd_calculator.get_results(unaligned).get_rmsd()}')\n",
    "print(f'Aligned RMSD: {rmsd_calculator.get_results(aligned).get_rmsd()}')"
   ]
  },
  {
   "cell_type": "markdown",
   "id": "b53f8dc7",
   "metadata": {},
   "source": [
    "### Align the guests."
   ]
  },
  {
   "cell_type": "code",
   "execution_count": 32,
   "id": "955896a8",
   "metadata": {},
   "outputs": [
    {
     "name": "stdout",
     "output_type": "stream",
     "text": [
      "time taken: 157.7409954071045s\n"
     ]
    }
   ],
   "source": [
    "pairs = (\n",
    "    ('O', 'O'),\n",
    "    ('Br', 'Br'),\n",
    ")\n",
    "# Define optimizer.\n",
    "aligner = stko.Aligner(\n",
    "    initial_molecule=initial_molecule,\n",
    "    matching_pairs=pairs,\n",
    ")\n",
    "st = time.time()\n",
    "aligned = aligner.optimize(unaligned)\n",
    "aligned.write(f'hg_guest_aligned.mol')\n",
    "print(f'time taken: {time.time()-st}s')"
   ]
  },
  {
   "cell_type": "code",
   "execution_count": 33,
   "id": "c9bcdcb3",
   "metadata": {},
   "outputs": [
    {
     "name": "stdout",
     "output_type": "stream",
     "text": [
      "Unaligned RMSD: 3.165969389496727\n",
      "Aligned RMSD: 1.687625680540413\n"
     ]
    }
   ],
   "source": [
    "# Calculate RMSD using stko Calculator interface.\n",
    "rmsd_calculator = stko.RmsdMappedCalculator(initial_molecule)\n",
    "print(f'Unaligned RMSD: {rmsd_calculator.get_results(unaligned).get_rmsd()}')\n",
    "print(f'Aligned RMSD: {rmsd_calculator.get_results(aligned).get_rmsd()}')"
   ]
  },
  {
   "cell_type": "code",
   "execution_count": null,
   "id": "3cf7f0cb",
   "metadata": {},
   "outputs": [],
   "source": []
  }
 ],
 "metadata": {
  "kernelspec": {
   "display_name": "stkdevel",
   "language": "python",
   "name": "stkdevel"
  },
  "language_info": {
   "codemirror_mode": {
    "name": "ipython",
    "version": 3
   },
   "file_extension": ".py",
   "mimetype": "text/x-python",
   "name": "python",
   "nbconvert_exporter": "python",
   "pygments_lexer": "ipython3",
   "version": "3.9.7"
  }
 },
 "nbformat": 4,
 "nbformat_minor": 5
}
