{
 "cells": [
  {
   "cell_type": "code",
   "execution_count": 1,
   "metadata": {},
   "outputs": [],
   "source": [
    "from rdkit.Chem import AllChem as Chem\n",
    "import molellipsize as mes\n",
    "import numpy as np\n",
    "import stk\n",
    "import glob"
   ]
  },
  {
   "cell_type": "code",
   "execution_count": 2,
   "metadata": {},
   "outputs": [],
   "source": [
    "from rdkit.Chem.Draw import IPythonConsole\n",
    "\n",
    "IPythonConsole.ipython_3d = True\n",
    "\n",
    "import py3Dmol"
   ]
  },
  {
   "cell_type": "code",
   "execution_count": 3,
   "metadata": {},
   "outputs": [],
   "source": [
    "def show_rdkit_mol(mol):\n",
    "    data = Chem.MolToMolBlock(mol)\n",
    "    p = py3Dmol.view(\n",
    "        data=data,\n",
    "        style={'stick':{'colorscheme':'cyanCarbon'}}, \n",
    "        width=400,\n",
    "        height=400,\n",
    "    )\n",
    "    p.setBackgroundColor('0xeeeeee')\n",
    "    p.zoomTo()\n",
    "    p.show()"
   ]
  },
  {
   "cell_type": "code",
   "execution_count": 4,
   "metadata": {},
   "outputs": [],
   "source": [
    "def show_stk_mol(stk_mol):\n",
    "    data = Chem.MolToMolBlock(stk_mol.to_rdkit_mol())\n",
    "    p = py3Dmol.view(\n",
    "        data=data,\n",
    "        style={'stick':{'colorscheme':'cyanCarbon'}}, \n",
    "        width=400,\n",
    "        height=400,\n",
    "    )\n",
    "    p.setBackgroundColor('0xeeeeee')\n",
    "    p.zoomTo()\n",
    "    p.show()"
   ]
  },
  {
   "cell_type": "markdown",
   "metadata": {},
   "source": [
    "# From RDKit molecules over many conformers"
   ]
  },
  {
   "cell_type": "code",
   "execution_count": 5,
   "metadata": {},
   "outputs": [],
   "source": [
    "N = 10"
   ]
  },
  {
   "cell_type": "code",
   "execution_count": 6,
   "metadata": {},
   "outputs": [],
   "source": [
    "smiles = 'c1ccccc1'\n",
    "rdkitmol = Chem.MolFromSmiles(smiles)\n",
    "rdkitmol = Chem.AddHs(rdkitmol)\n",
    "rdkitmol, conformers = mes.ETKDG_UFF_conformers(\n",
    "    rdkitmol=rdkitmol,\n",
    "    num_conformers=N,\n",
    "    randomseed=1000,\n",
    ")\n",
    "mes_mol = mes.Molecule(\n",
    "    rdkitmol=rdkitmol,\n",
    "    conformers=conformers,\n",
    ")"
   ]
  },
  {
   "cell_type": "code",
   "execution_count": 7,
   "metadata": {},
   "outputs": [
    {
     "data": {
      "application/3dmoljs_load.v0": "<div id=\"3dmolviewer_16421714046393657\"  style=\"position: relative; width: 400px; height: 400px\">\n        <p id=\"3dmolwarning_16421714046393657\" style=\"background-color:#ffcccc;color:black\">You appear to be running in JupyterLab (or JavaScript failed to load for some other reason).  You need to install the 3dmol extension: <br>\n        <tt>jupyter labextension install jupyterlab_3dmol</tt></p>\n        </div>\n<script>\n\nvar loadScriptAsync = function(uri){\n  return new Promise((resolve, reject) => {\n    var tag = document.createElement('script');\n    tag.src = uri;\n    tag.async = true;\n    tag.onload = () => {\n      resolve();\n    };\n  var firstScriptTag = document.getElementsByTagName('script')[0];\n  firstScriptTag.parentNode.insertBefore(tag, firstScriptTag);\n});\n};\n\nif(typeof $3Dmolpromise === 'undefined') {\n$3Dmolpromise = null;\n  $3Dmolpromise = loadScriptAsync('https://3dmol.org/build/3Dmol.js');\n}\n\nvar viewer_16421714046393657 = null;\nvar warn = document.getElementById(\"3dmolwarning_16421714046393657\");\nif(warn) {\n    warn.parentNode.removeChild(warn);\n}\n$3Dmolpromise.then(function() {\nviewer_16421714046393657 = $3Dmol.createViewer($(\"#3dmolviewer_16421714046393657\"),{backgroundColor:\"white\"});\nviewer_16421714046393657.addModel(\"\\n     RDKit          3D\\n\\n 12 12  0  0  0  0  0  0  0  0999 V2000\\n   -1.3005    0.5156    0.0184 C   0  0  0  0  0  0  0  0  0  0  0  0\\n   -0.2037    1.3841    0.0070 C   0  0  0  0  0  0  0  0  0  0  0  0\\n    1.0967    0.8686   -0.0114 C   0  0  0  0  0  0  0  0  0  0  0  0\\n    1.3005   -0.5156   -0.0184 C   0  0  0  0  0  0  0  0  0  0  0  0\\n    0.2037   -1.3841   -0.0070 C   0  0  0  0  0  0  0  0  0  0  0  0\\n   -1.0967   -0.8686    0.0114 C   0  0  0  0  0  0  0  0  0  0  0  0\\n   -2.3065    0.9144    0.0326 H   0  0  0  0  0  0  0  0  0  0  0  0\\n   -0.3613    2.4549    0.0123 H   0  0  0  0  0  0  0  0  0  0  0  0\\n    1.9452    1.5405   -0.0202 H   0  0  0  0  0  0  0  0  0  0  0  0\\n    2.3065   -0.9144   -0.0326 H   0  0  0  0  0  0  0  0  0  0  0  0\\n    0.3613   -2.4549   -0.0123 H   0  0  0  0  0  0  0  0  0  0  0  0\\n   -1.9452   -1.5405    0.0202 H   0  0  0  0  0  0  0  0  0  0  0  0\\n  1  2  2  0\\n  2  3  1  0\\n  3  4  2  0\\n  4  5  1  0\\n  5  6  2  0\\n  6  1  1  0\\n  1  7  1  0\\n  2  8  1  0\\n  3  9  1  0\\n  4 10  1  0\\n  5 11  1  0\\n  6 12  1  0\\nM  END\\n\");\nviewer_16421714046393657.setStyle({\"stick\": {\"colorscheme\": \"cyanCarbon\"}});\nviewer_16421714046393657.zoomTo();\n\tviewer_16421714046393657.setBackgroundColor(\"0xeeeeee\");\n\tviewer_16421714046393657.zoomTo();\nviewer_16421714046393657.render();\n});\n</script>",
      "text/html": [
       "<div id=\"3dmolviewer_16421714046393657\"  style=\"position: relative; width: 400px; height: 400px\">\n",
       "        <p id=\"3dmolwarning_16421714046393657\" style=\"background-color:#ffcccc;color:black\">You appear to be running in JupyterLab (or JavaScript failed to load for some other reason).  You need to install the 3dmol extension: <br>\n",
       "        <tt>jupyter labextension install jupyterlab_3dmol</tt></p>\n",
       "        </div>\n",
       "<script>\n",
       "\n",
       "var loadScriptAsync = function(uri){\n",
       "  return new Promise((resolve, reject) => {\n",
       "    var tag = document.createElement('script');\n",
       "    tag.src = uri;\n",
       "    tag.async = true;\n",
       "    tag.onload = () => {\n",
       "      resolve();\n",
       "    };\n",
       "  var firstScriptTag = document.getElementsByTagName('script')[0];\n",
       "  firstScriptTag.parentNode.insertBefore(tag, firstScriptTag);\n",
       "});\n",
       "};\n",
       "\n",
       "if(typeof $3Dmolpromise === 'undefined') {\n",
       "$3Dmolpromise = null;\n",
       "  $3Dmolpromise = loadScriptAsync('https://3dmol.org/build/3Dmol.js');\n",
       "}\n",
       "\n",
       "var viewer_16421714046393657 = null;\n",
       "var warn = document.getElementById(\"3dmolwarning_16421714046393657\");\n",
       "if(warn) {\n",
       "    warn.parentNode.removeChild(warn);\n",
       "}\n",
       "$3Dmolpromise.then(function() {\n",
       "viewer_16421714046393657 = $3Dmol.createViewer($(\"#3dmolviewer_16421714046393657\"),{backgroundColor:\"white\"});\n",
       "viewer_16421714046393657.addModel(\"\\n     RDKit          3D\\n\\n 12 12  0  0  0  0  0  0  0  0999 V2000\\n   -1.3005    0.5156    0.0184 C   0  0  0  0  0  0  0  0  0  0  0  0\\n   -0.2037    1.3841    0.0070 C   0  0  0  0  0  0  0  0  0  0  0  0\\n    1.0967    0.8686   -0.0114 C   0  0  0  0  0  0  0  0  0  0  0  0\\n    1.3005   -0.5156   -0.0184 C   0  0  0  0  0  0  0  0  0  0  0  0\\n    0.2037   -1.3841   -0.0070 C   0  0  0  0  0  0  0  0  0  0  0  0\\n   -1.0967   -0.8686    0.0114 C   0  0  0  0  0  0  0  0  0  0  0  0\\n   -2.3065    0.9144    0.0326 H   0  0  0  0  0  0  0  0  0  0  0  0\\n   -0.3613    2.4549    0.0123 H   0  0  0  0  0  0  0  0  0  0  0  0\\n    1.9452    1.5405   -0.0202 H   0  0  0  0  0  0  0  0  0  0  0  0\\n    2.3065   -0.9144   -0.0326 H   0  0  0  0  0  0  0  0  0  0  0  0\\n    0.3613   -2.4549   -0.0123 H   0  0  0  0  0  0  0  0  0  0  0  0\\n   -1.9452   -1.5405    0.0202 H   0  0  0  0  0  0  0  0  0  0  0  0\\n  1  2  2  0\\n  2  3  1  0\\n  3  4  2  0\\n  4  5  1  0\\n  5  6  2  0\\n  6  1  1  0\\n  1  7  1  0\\n  2  8  1  0\\n  3  9  1  0\\n  4 10  1  0\\n  5 11  1  0\\n  6 12  1  0\\nM  END\\n\");\n",
       "viewer_16421714046393657.setStyle({\"stick\": {\"colorscheme\": \"cyanCarbon\"}});\n",
       "viewer_16421714046393657.zoomTo();\n",
       "\tviewer_16421714046393657.setBackgroundColor(\"0xeeeeee\");\n",
       "\tviewer_16421714046393657.zoomTo();\n",
       "viewer_16421714046393657.render();\n",
       "});\n",
       "</script>"
      ]
     },
     "metadata": {},
     "output_type": "display_data"
    }
   ],
   "source": [
    "show_rdkit_mol(rdkitmol)"
   ]
  },
  {
   "cell_type": "code",
   "execution_count": 8,
   "metadata": {},
   "outputs": [
    {
     "data": {
      "text/plain": [
       "[0, 1, 2, 3, 4, 5, 6, 7, 8, 9]"
      ]
     },
     "execution_count": 8,
     "metadata": {},
     "output_type": "execute_result"
    }
   ],
   "source": [
    "list(conformers)"
   ]
  },
  {
   "cell_type": "code",
   "execution_count": 9,
   "metadata": {},
   "outputs": [],
   "source": [
    "ellipsoids = mes_mol.get_ellipsoids(\n",
    "    boxmargin=4.0,\n",
    "    vdwscale=0.9,\n",
    "    spacing=0.5,\n",
    ")"
   ]
  },
  {
   "cell_type": "code",
   "execution_count": 10,
   "metadata": {},
   "outputs": [
    {
     "data": {
      "text/plain": [
       "{0: (array([ 0.02137174, -0.0935038 ,  0.06599361]),\n",
       "  [3.209338605387556, 6.762540048668652, 7.043816878727093],\n",
       "  array([[-0.00811844,  0.01287401,  0.99988417],\n",
       "         [ 0.37074949,  0.92868981, -0.00894709],\n",
       "         [-0.92869742,  0.37063391, -0.01231254]])),\n",
       " 1: (array([0.05961066, 0.00659833, 0.02956101]),\n",
       "  [3.114801938568351, 6.945063214309401, 7.148082700513694],\n",
       "  array([[-0.0045774 , -0.01639793,  0.99985507],\n",
       "         [ 0.67882735, -0.73424356, -0.00893411],\n",
       "         [ 0.73428365,  0.67868807,  0.01449229]])),\n",
       " 2: (array([ 0.02985845, -0.02407806,  0.0670178 ]),\n",
       "  [3.2410591722531414, 6.637269982236572, 7.270902279394545],\n",
       "  array([[-0.01206051,  0.03492713,  0.99931709],\n",
       "         [ 0.37591487,  0.92623602, -0.02783605],\n",
       "         [-0.92657571,  0.37532244, -0.02430051]])),\n",
       " 3: (array([ 0.07806957, -0.03161422,  0.03173174]),\n",
       "  [3.062449533487999, 7.039221059860702, 7.2835842135653035],\n",
       "  array([[-0.01173421, -0.02677642,  0.99957257],\n",
       "         [ 0.94181191,  0.33554215,  0.0200446 ],\n",
       "         [-0.33593546,  0.94164456,  0.02128103]])),\n",
       " 4: (array([0.01479677, 0.01623773, 0.01885662]),\n",
       "  [3.1467029923144416, 6.8626363750465895, 7.073097242329333],\n",
       "  array([[-0.02360865, -0.02055052,  0.99951003],\n",
       "         [ 0.98620349, -0.16433518,  0.01991551],\n",
       "         [ 0.16384539,  0.98619046,  0.02414673]])),\n",
       " 5: (array([-0.0552463 ,  0.02145176, -0.00628202]),\n",
       "  [3.297757235293805, 6.908862273339724, 6.994874211270312],\n",
       "  array([[-0.00912392, -0.00772123, -0.99992857],\n",
       "         [-0.98639447,  0.16421379,  0.00773241],\n",
       "         [ 0.16414235,  0.98639455, -0.00911445]])),\n",
       " 6: (array([-0.04885618,  0.0282908 ,  0.02651244]),\n",
       "  [3.132126674230793, 6.9397865852801335, 7.173209917105742],\n",
       "  array([[-0.01297138,  0.01954134,  0.9997249 ],\n",
       "         [ 0.24159861,  0.97024714, -0.01583042],\n",
       "         [-0.97028957,  0.2413268 , -0.01730661]])),\n",
       " 7: (array([ 0.01579828, -0.04588067,  0.04452224]),\n",
       "  [3.2168386295577758, 6.901750442713941, 7.155491630396478],\n",
       "  array([[-0.01397198,  0.00278076,  0.99989852],\n",
       "         [ 0.6553189 ,  0.75531937,  0.00705646],\n",
       "         [-0.7552231 ,  0.65535099, -0.0123756 ]])),\n",
       " 8: (array([ 0.06577828, -0.01524214,  0.01646558]),\n",
       "  [3.189702294362351, 6.895286011426665, 6.997162297024635],\n",
       "  array([[-0.00463817,  0.02002665,  0.99978869],\n",
       "         [-0.99791282,  0.06430388, -0.00591753],\n",
       "         [-0.0644088 , -0.99772939,  0.01968659]])),\n",
       " 9: (array([ 0.02788429, -0.00953192,  0.03410164]),\n",
       "  [3.1518052822986773, 6.971223766201148, 7.071194013280469],\n",
       "  array([[-0.02178827, -0.02814894, -0.99936625],\n",
       "         [ 0.96860436,  0.24701695, -0.02807527],\n",
       "         [ 0.24765069, -0.96860222,  0.02188312]]))}"
      ]
     },
     "execution_count": 10,
     "metadata": {},
     "output_type": "execute_result"
    }
   ],
   "source": [
    "ellipsoids"
   ]
  },
  {
   "cell_type": "code",
   "execution_count": 11,
   "metadata": {},
   "outputs": [],
   "source": [
    "diameters = {i: ellipsoids[i][1] for i in ellipsoids}\n",
    "mes.plot_diameters(diameters, filename=f'benzene_size.pdf')"
   ]
  },
  {
   "cell_type": "code",
   "execution_count": 12,
   "metadata": {},
   "outputs": [],
   "source": [
    "ratios = mes_mol.get_inertial_ratios()\n",
    "mes.plot_shapes(ratios, filename=f'benzene_shape.pdf')"
   ]
  },
  {
   "cell_type": "code",
   "execution_count": 13,
   "metadata": {},
   "outputs": [],
   "source": [
    "# Pick an ellipsoid to draw.\n",
    "cid = 0\n",
    "center, diameter, rotation = ellipsoids[cid]\n",
    "mes_mol.draw_conformer_hitpoints(\n",
    "    cid=cid,\n",
    "    center=center,\n",
    "    diameter=diameter,\n",
    "    rotation=rotation,\n",
    "    boxmargin=4.0,\n",
    "    vdwscale=0.9,\n",
    "    spacing=0.5,\n",
    "    filename=f'benzene_ellhp.pdf',\n",
    ")\n",
    "fig, ax = mes.plot_ellipsoid(\n",
    "    center=center,\n",
    "    diameter=diameter,\n",
    "    rotation=rotation,\n",
    ")\n",
    "fig.tight_layout()\n",
    "fig.savefig(f'benzene_ell.pdf', dpi=720, bbox_inches='tight')"
   ]
  },
  {
   "cell_type": "code",
   "execution_count": null,
   "metadata": {},
   "outputs": [],
   "source": []
  },
  {
   "cell_type": "markdown",
   "metadata": {},
   "source": [
    "## A flexible molecule."
   ]
  },
  {
   "cell_type": "code",
   "execution_count": 27,
   "metadata": {},
   "outputs": [],
   "source": [
    "smiles = 'CCCCCC'\n",
    "rdkitmol = Chem.MolFromSmiles(smiles)\n",
    "rdkitmol = Chem.AddHs(rdkitmol)\n",
    "rdkitmol, conformers = mes.ETKDG_UFF_conformers(\n",
    "    rdkitmol=rdkitmol,\n",
    "    num_conformers=N,\n",
    "    randomseed=1000,\n",
    ")\n",
    "mes_mol = mes.Molecule(\n",
    "    rdkitmol=rdkitmol,\n",
    "    conformers=conformers,\n",
    ")"
   ]
  },
  {
   "cell_type": "code",
   "execution_count": 28,
   "metadata": {},
   "outputs": [
    {
     "data": {
      "application/3dmoljs_load.v0": "<div id=\"3dmolviewer_16421721042587945\"  style=\"position: relative; width: 400px; height: 400px\">\n        <p id=\"3dmolwarning_16421721042587945\" style=\"background-color:#ffcccc;color:black\">You appear to be running in JupyterLab (or JavaScript failed to load for some other reason).  You need to install the 3dmol extension: <br>\n        <tt>jupyter labextension install jupyterlab_3dmol</tt></p>\n        </div>\n<script>\n\nvar loadScriptAsync = function(uri){\n  return new Promise((resolve, reject) => {\n    var tag = document.createElement('script');\n    tag.src = uri;\n    tag.async = true;\n    tag.onload = () => {\n      resolve();\n    };\n  var firstScriptTag = document.getElementsByTagName('script')[0];\n  firstScriptTag.parentNode.insertBefore(tag, firstScriptTag);\n});\n};\n\nif(typeof $3Dmolpromise === 'undefined') {\n$3Dmolpromise = null;\n  $3Dmolpromise = loadScriptAsync('https://3dmol.org/build/3Dmol.js');\n}\n\nvar viewer_16421721042587945 = null;\nvar warn = document.getElementById(\"3dmolwarning_16421721042587945\");\nif(warn) {\n    warn.parentNode.removeChild(warn);\n}\n$3Dmolpromise.then(function() {\nviewer_16421721042587945 = $3Dmol.createViewer($(\"#3dmolviewer_16421721042587945\"),{backgroundColor:\"white\"});\nviewer_16421721042587945.addModel(\"\\n     RDKit          3D\\n\\n 20 19  0  0  0  0  0  0  0  0999 V2000\\n    3.1756   -0.2936   -0.0273 C   0  0  0  0  0  0  0  0  0  0  0  0\\n    1.7684   -0.7941   -0.3400 C   0  0  0  0  0  0  0  0  0  0  0  0\\n    0.7061    0.1925    0.1580 C   0  0  0  0  0  0  0  0  0  0  0  0\\n   -0.7061   -0.3137   -0.1580 C   0  0  0  0  0  0  0  0  0  0  0  0\\n   -1.7684    0.6729    0.3400 C   0  0  0  0  0  0  0  0  0  0  0  0\\n   -3.1756    0.1724    0.0273 C   0  0  0  0  0  0  0  0  0  0  0  0\\n    3.3085   -0.1760    1.0693 H   0  0  0  0  0  0  0  0  0  0  0  0\\n    3.9220   -1.0270   -0.3988 H   0  0  0  0  0  0  0  0  0  0  0  0\\n    3.3578    0.6822   -0.5260 H   0  0  0  0  0  0  0  0  0  0  0  0\\n    1.6214   -1.7819    0.1489 H   0  0  0  0  0  0  0  0  0  0  0  0\\n    1.6705   -0.9274   -1.4396 H   0  0  0  0  0  0  0  0  0  0  0  0\\n    0.8126    0.3235    1.2576 H   0  0  0  0  0  0  0  0  0  0  0  0\\n    0.8617    1.1789   -0.3324 H   0  0  0  0  0  0  0  0  0  0  0  0\\n   -0.8126   -0.4447   -1.2576 H   0  0  0  0  0  0  0  0  0  0  0  0\\n   -0.8617   -1.3001    0.3324 H   0  0  0  0  0  0  0  0  0  0  0  0\\n   -1.6705    0.8061    1.4396 H   0  0  0  0  0  0  0  0  0  0  0  0\\n   -1.6214    1.6607   -0.1489 H   0  0  0  0  0  0  0  0  0  0  0  0\\n   -3.9220    0.9057    0.3988 H   0  0  0  0  0  0  0  0  0  0  0  0\\n   -3.3085    0.0548   -1.0693 H   0  0  0  0  0  0  0  0  0  0  0  0\\n   -3.3578   -0.8034    0.5260 H   0  0  0  0  0  0  0  0  0  0  0  0\\n  1  2  1  0\\n  2  3  1  0\\n  3  4  1  0\\n  4  5  1  0\\n  5  6  1  0\\n  1  7  1  0\\n  1  8  1  0\\n  1  9  1  0\\n  2 10  1  0\\n  2 11  1  0\\n  3 12  1  0\\n  3 13  1  0\\n  4 14  1  0\\n  4 15  1  0\\n  5 16  1  0\\n  5 17  1  0\\n  6 18  1  0\\n  6 19  1  0\\n  6 20  1  0\\nM  END\\n\");\nviewer_16421721042587945.setStyle({\"stick\": {\"colorscheme\": \"cyanCarbon\"}});\nviewer_16421721042587945.zoomTo();\n\tviewer_16421721042587945.setBackgroundColor(\"0xeeeeee\");\n\tviewer_16421721042587945.zoomTo();\nviewer_16421721042587945.render();\n});\n</script>",
      "text/html": [
       "<div id=\"3dmolviewer_16421721042587945\"  style=\"position: relative; width: 400px; height: 400px\">\n",
       "        <p id=\"3dmolwarning_16421721042587945\" style=\"background-color:#ffcccc;color:black\">You appear to be running in JupyterLab (or JavaScript failed to load for some other reason).  You need to install the 3dmol extension: <br>\n",
       "        <tt>jupyter labextension install jupyterlab_3dmol</tt></p>\n",
       "        </div>\n",
       "<script>\n",
       "\n",
       "var loadScriptAsync = function(uri){\n",
       "  return new Promise((resolve, reject) => {\n",
       "    var tag = document.createElement('script');\n",
       "    tag.src = uri;\n",
       "    tag.async = true;\n",
       "    tag.onload = () => {\n",
       "      resolve();\n",
       "    };\n",
       "  var firstScriptTag = document.getElementsByTagName('script')[0];\n",
       "  firstScriptTag.parentNode.insertBefore(tag, firstScriptTag);\n",
       "});\n",
       "};\n",
       "\n",
       "if(typeof $3Dmolpromise === 'undefined') {\n",
       "$3Dmolpromise = null;\n",
       "  $3Dmolpromise = loadScriptAsync('https://3dmol.org/build/3Dmol.js');\n",
       "}\n",
       "\n",
       "var viewer_16421721042587945 = null;\n",
       "var warn = document.getElementById(\"3dmolwarning_16421721042587945\");\n",
       "if(warn) {\n",
       "    warn.parentNode.removeChild(warn);\n",
       "}\n",
       "$3Dmolpromise.then(function() {\n",
       "viewer_16421721042587945 = $3Dmol.createViewer($(\"#3dmolviewer_16421721042587945\"),{backgroundColor:\"white\"});\n",
       "viewer_16421721042587945.addModel(\"\\n     RDKit          3D\\n\\n 20 19  0  0  0  0  0  0  0  0999 V2000\\n    3.1756   -0.2936   -0.0273 C   0  0  0  0  0  0  0  0  0  0  0  0\\n    1.7684   -0.7941   -0.3400 C   0  0  0  0  0  0  0  0  0  0  0  0\\n    0.7061    0.1925    0.1580 C   0  0  0  0  0  0  0  0  0  0  0  0\\n   -0.7061   -0.3137   -0.1580 C   0  0  0  0  0  0  0  0  0  0  0  0\\n   -1.7684    0.6729    0.3400 C   0  0  0  0  0  0  0  0  0  0  0  0\\n   -3.1756    0.1724    0.0273 C   0  0  0  0  0  0  0  0  0  0  0  0\\n    3.3085   -0.1760    1.0693 H   0  0  0  0  0  0  0  0  0  0  0  0\\n    3.9220   -1.0270   -0.3988 H   0  0  0  0  0  0  0  0  0  0  0  0\\n    3.3578    0.6822   -0.5260 H   0  0  0  0  0  0  0  0  0  0  0  0\\n    1.6214   -1.7819    0.1489 H   0  0  0  0  0  0  0  0  0  0  0  0\\n    1.6705   -0.9274   -1.4396 H   0  0  0  0  0  0  0  0  0  0  0  0\\n    0.8126    0.3235    1.2576 H   0  0  0  0  0  0  0  0  0  0  0  0\\n    0.8617    1.1789   -0.3324 H   0  0  0  0  0  0  0  0  0  0  0  0\\n   -0.8126   -0.4447   -1.2576 H   0  0  0  0  0  0  0  0  0  0  0  0\\n   -0.8617   -1.3001    0.3324 H   0  0  0  0  0  0  0  0  0  0  0  0\\n   -1.6705    0.8061    1.4396 H   0  0  0  0  0  0  0  0  0  0  0  0\\n   -1.6214    1.6607   -0.1489 H   0  0  0  0  0  0  0  0  0  0  0  0\\n   -3.9220    0.9057    0.3988 H   0  0  0  0  0  0  0  0  0  0  0  0\\n   -3.3085    0.0548   -1.0693 H   0  0  0  0  0  0  0  0  0  0  0  0\\n   -3.3578   -0.8034    0.5260 H   0  0  0  0  0  0  0  0  0  0  0  0\\n  1  2  1  0\\n  2  3  1  0\\n  3  4  1  0\\n  4  5  1  0\\n  5  6  1  0\\n  1  7  1  0\\n  1  8  1  0\\n  1  9  1  0\\n  2 10  1  0\\n  2 11  1  0\\n  3 12  1  0\\n  3 13  1  0\\n  4 14  1  0\\n  4 15  1  0\\n  5 16  1  0\\n  5 17  1  0\\n  6 18  1  0\\n  6 19  1  0\\n  6 20  1  0\\nM  END\\n\");\n",
       "viewer_16421721042587945.setStyle({\"stick\": {\"colorscheme\": \"cyanCarbon\"}});\n",
       "viewer_16421721042587945.zoomTo();\n",
       "\tviewer_16421721042587945.setBackgroundColor(\"0xeeeeee\");\n",
       "\tviewer_16421721042587945.zoomTo();\n",
       "viewer_16421721042587945.render();\n",
       "});\n",
       "</script>"
      ]
     },
     "metadata": {},
     "output_type": "display_data"
    }
   ],
   "source": [
    "show_rdkit_mol(rdkitmol)"
   ]
  },
  {
   "cell_type": "code",
   "execution_count": 29,
   "metadata": {},
   "outputs": [
    {
     "data": {
      "text/plain": [
       "[0, 1, 2, 3, 4, 5, 6, 7, 8, 9]"
      ]
     },
     "execution_count": 29,
     "metadata": {},
     "output_type": "execute_result"
    }
   ],
   "source": [
    "list(conformers)"
   ]
  },
  {
   "cell_type": "code",
   "execution_count": 16,
   "metadata": {},
   "outputs": [],
   "source": [
    "ellipsoids = mes_mol.get_ellipsoids(\n",
    "    boxmargin=4.0,\n",
    "    vdwscale=0.9,\n",
    "    spacing=0.5,\n",
    ")\n",
    "diameters = {i: ellipsoids[i][1] for i in ellipsoids}\n",
    "ratios = mes_mol.get_inertial_ratios()"
   ]
  },
  {
   "cell_type": "code",
   "execution_count": 17,
   "metadata": {},
   "outputs": [],
   "source": [
    "mes.plot_shapes(ratios, filename=f'c6_shape.pdf')\n",
    "mes.plot_diameters(diameters, filename=f'c6_size.pdf')"
   ]
  },
  {
   "cell_type": "code",
   "execution_count": null,
   "metadata": {},
   "outputs": [],
   "source": []
  },
  {
   "cell_type": "code",
   "execution_count": null,
   "metadata": {},
   "outputs": [],
   "source": []
  },
  {
   "cell_type": "markdown",
   "metadata": {},
   "source": [
    "# From an stk molecule."
   ]
  },
  {
   "cell_type": "code",
   "execution_count": 18,
   "metadata": {},
   "outputs": [
    {
     "name": "stdout",
     "output_type": "stream",
     "text": [
      "{0: [5.205537759064478, 6.376035040476046, 12.516207344801591]}\n",
      "{0: [5.451039106837794, 6.734612369757257, 24.607931976435516]}\n",
      "{0: [5.603325489802962, 6.72926182551461, 38.31910093583731]}\n"
     ]
    }
   ],
   "source": [
    "# React the amine functional groups during construction.\n",
    "bb1 = stk.BuildingBlock('NCCN', [stk.PrimaryAminoFactory()])\n",
    "# React the aldehyde functional groups during construction.\n",
    "bb2 = stk.BuildingBlock('O=CCCC=O', [stk.AldehydeFactory()])\n",
    "\n",
    "# Build a polymer.\n",
    "for i in range(1, 4):\n",
    "    polymer = stk.ConstructedMolecule(\n",
    "        topology_graph=stk.polymer.Linear(\n",
    "            building_blocks=(bb1, bb2),\n",
    "            repeating_unit='AB',\n",
    "            num_repeating_units=i,\n",
    "            optimizer=stk.Collapser(scale_steps=False),\n",
    "        ),\n",
    "    )\n",
    "    mes_mol = mes.Molecule(polymer.to_rdkit_mol(), conformers=[0])\n",
    "    ellipsoids = mes_mol.get_ellipsoids(\n",
    "        boxmargin=4.0,\n",
    "        vdwscale=0.9,\n",
    "        spacing=0.5,\n",
    "    )\n",
    "    diameters = {i: ellipsoids[i][1] for i in ellipsoids}\n",
    "    print(diameters)"
   ]
  },
  {
   "cell_type": "code",
   "execution_count": 19,
   "metadata": {},
   "outputs": [
    {
     "data": {
      "application/3dmoljs_load.v0": "<div id=\"3dmolviewer_16421717223899379\"  style=\"position: relative; width: 400px; height: 400px\">\n        <p id=\"3dmolwarning_16421717223899379\" style=\"background-color:#ffcccc;color:black\">You appear to be running in JupyterLab (or JavaScript failed to load for some other reason).  You need to install the 3dmol extension: <br>\n        <tt>jupyter labextension install jupyterlab_3dmol</tt></p>\n        </div>\n<script>\n\nvar loadScriptAsync = function(uri){\n  return new Promise((resolve, reject) => {\n    var tag = document.createElement('script');\n    tag.src = uri;\n    tag.async = true;\n    tag.onload = () => {\n      resolve();\n    };\n  var firstScriptTag = document.getElementsByTagName('script')[0];\n  firstScriptTag.parentNode.insertBefore(tag, firstScriptTag);\n});\n};\n\nif(typeof $3Dmolpromise === 'undefined') {\n$3Dmolpromise = null;\n  $3Dmolpromise = loadScriptAsync('https://3dmol.org/build/3Dmol.js');\n}\n\nvar viewer_16421717223899379 = null;\nvar warn = document.getElementById(\"3dmolwarning_16421717223899379\");\nif(warn) {\n    warn.parentNode.removeChild(warn);\n}\n$3Dmolpromise.then(function() {\nviewer_16421717223899379 = $3Dmol.createViewer($(\"#3dmolviewer_16421717223899379\"),{backgroundColor:\"white\"});\nviewer_16421717223899379.addModel(\"\\n     RDKit          3D\\n\\n 57 56  0  0  0  0  0  0  0  0999 V2000\\n    4.1276   -0.1554   -0.1303 N   0  0  0  0  0  0  0  0  0  0  0  0\\n    4.9102    0.9733    0.2917 C   0  0  0  0  0  0  0  0  0  0  0  0\\n    6.2742    0.9816   -0.3924 C   0  0  0  0  0  0  0  0  0  0  0  0\\n    7.0536   -0.1554   -0.1303 N   0  0  0  0  0  0  0  0  0  0  0  0\\n    3.8587   -0.0612   -1.1336 H   0  0  0  0  0  0  0  0  0  0  0  0\\n    4.6282   -1.0700    0.0154 H   0  0  0  0  0  0  0  0  0  0  0  0\\n    5.0342    0.9650    1.3944 H   0  0  0  0  0  0  0  0  0  0  0  0\\n    4.3813    1.8859   -0.0581 H   0  0  0  0  0  0  0  0  0  0  0  0\\n    6.0404    1.0012   -1.4957 H   0  0  0  0  0  0  0  0  0  0  0  0\\n    6.8075    1.9083   -0.1269 H   0  0  0  0  0  0  0  0  0  0  0  0\\n   12.4047   -0.2580   -0.1632 N   0  0  0  0  0  0  0  0  0  0  0  0\\n   13.1874    0.8707    0.2589 C   0  0  0  0  0  0  0  0  0  0  0  0\\n   14.5514    0.8791   -0.4253 C   0  0  0  0  0  0  0  0  0  0  0  0\\n   15.3308   -0.2580   -0.1632 N   0  0  0  0  0  0  0  0  0  0  0  0\\n   13.3114    0.8624    1.3615 H   0  0  0  0  0  0  0  0  0  0  0  0\\n   12.6585    1.7834   -0.0910 H   0  0  0  0  0  0  0  0  0  0  0  0\\n   14.3176    0.8987   -1.5286 H   0  0  0  0  0  0  0  0  0  0  0  0\\n   15.0847    1.8057   -0.1598 H   0  0  0  0  0  0  0  0  0  0  0  0\\n   20.7738   -0.2580   -0.1632 N   0  0  0  0  0  0  0  0  0  0  0  0\\n   21.5565    0.8707    0.2589 C   0  0  0  0  0  0  0  0  0  0  0  0\\n   22.9204    0.8791   -0.4253 C   0  0  0  0  0  0  0  0  0  0  0  0\\n   23.6998   -0.2580   -0.1632 N   0  0  0  0  0  0  0  0  0  0  0  0\\n   21.6804    0.8624    1.3615 H   0  0  0  0  0  0  0  0  0  0  0  0\\n   21.0275    1.7834   -0.0910 H   0  0  0  0  0  0  0  0  0  0  0  0\\n   22.6866    0.8987   -1.5286 H   0  0  0  0  0  0  0  0  0  0  0  0\\n   23.4538    1.8057   -0.1598 H   0  0  0  0  0  0  0  0  0  0  0  0\\n    8.1936    0.1966    0.1419 C   0  0  0  0  0  0  0  0  0  0  0  0\\n    9.0130    0.1828   -1.0748 C   0  0  0  0  0  0  0  0  0  0  0  0\\n   10.3520   -0.4825   -0.8861 C   0  0  0  0  0  0  0  0  0  0  0  0\\n   11.1507    0.1966    0.1419 C   0  0  0  0  0  0  0  0  0  0  0  0\\n    7.2162    0.6501    0.1156 H   0  0  0  0  0  0  0  0  0  0  0  0\\n    8.4678   -0.3028   -1.9169 H   0  0  0  0  0  0  0  0  0  0  0  0\\n    9.2400    1.2577   -1.3404 H   0  0  0  0  0  0  0  0  0  0  0  0\\n   10.8811   -0.4030   -1.8772 H   0  0  0  0  0  0  0  0  0  0  0  0\\n   10.2691   -1.5554   -0.6425 H   0  0  0  0  0  0  0  0  0  0  0  0\\n   12.1408   -0.1829    0.3783 H   0  0  0  0  0  0  0  0  0  0  0  0\\n   16.5626    0.1966    0.1419 C   0  0  0  0  0  0  0  0  0  0  0  0\\n   17.3820    0.1828   -1.0748 C   0  0  0  0  0  0  0  0  0  0  0  0\\n   18.7210   -0.4825   -0.8861 C   0  0  0  0  0  0  0  0  0  0  0  0\\n   19.5198    0.1966    0.1419 C   0  0  0  0  0  0  0  0  0  0  0  0\\n   15.5852    0.6501    0.1156 H   0  0  0  0  0  0  0  0  0  0  0  0\\n   16.8369   -0.3028   -1.9169 H   0  0  0  0  0  0  0  0  0  0  0  0\\n   17.6090    1.2577   -1.3404 H   0  0  0  0  0  0  0  0  0  0  0  0\\n   19.2501   -0.4030   -1.8772 H   0  0  0  0  0  0  0  0  0  0  0  0\\n   18.6381   -1.5554   -0.6425 H   0  0  0  0  0  0  0  0  0  0  0  0\\n   20.5098   -0.1829    0.3783 H   0  0  0  0  0  0  0  0  0  0  0  0\\n   24.8995    0.1590    0.0978 C   0  0  0  0  0  0  0  0  0  0  0  0\\n   25.7189    0.1452   -1.1190 C   0  0  0  0  0  0  0  0  0  0  0  0\\n   27.0579   -0.5201   -0.9302 C   0  0  0  0  0  0  0  0  0  0  0  0\\n   27.8566    0.1590    0.0978 C   0  0  0  0  0  0  0  0  0  0  0  0\\n   27.4274    1.1202    0.6722 O   0  0  0  0  0  0  0  0  0  0  0  0\\n   23.9221    0.6125    0.0715 H   0  0  0  0  0  0  0  0  0  0  0  0\\n   25.1737   -0.3403   -1.9610 H   0  0  0  0  0  0  0  0  0  0  0  0\\n   25.9459    1.2202   -1.3845 H   0  0  0  0  0  0  0  0  0  0  0  0\\n   27.5869   -0.4405   -1.9214 H   0  0  0  0  0  0  0  0  0  0  0  0\\n   26.9749   -1.5930   -0.6867 H   0  0  0  0  0  0  0  0  0  0  0  0\\n   28.8467   -0.2204    0.3342 H   0  0  0  0  0  0  0  0  0  0  0  0\\n  1  2  1  0\\n  2  3  1  0\\n  3  4  1  0\\n  1  5  1  0\\n  1  6  1  0\\n  2  7  1  0\\n  2  8  1  0\\n  3  9  1  0\\n  3 10  1  0\\n 11 12  1  0\\n 12 13  1  0\\n 13 14  1  0\\n 12 15  1  0\\n 12 16  1  0\\n 13 17  1  0\\n 13 18  1  0\\n 19 20  1  0\\n 20 21  1  0\\n 21 22  1  0\\n 20 23  1  0\\n 20 24  1  0\\n 21 25  1  0\\n 21 26  1  0\\n 27 28  1  0\\n 28 29  1  0\\n 29 30  1  0\\n 27 31  1  0\\n 28 32  1  0\\n 28 33  1  0\\n 29 34  1  0\\n 29 35  1  0\\n 30 36  1  0\\n 37 38  1  0\\n 38 39  1  0\\n 39 40  1  0\\n 37 41  1  0\\n 38 42  1  0\\n 38 43  1  0\\n 39 44  1  0\\n 39 45  1  0\\n 40 46  1  0\\n 47 48  1  0\\n 48 49  1  0\\n 49 50  1  0\\n 50 51  2  0\\n 47 52  1  0\\n 48 53  1  0\\n 48 54  1  0\\n 49 55  1  0\\n 49 56  1  0\\n 50 57  1  0\\n  4 27  2  3\\n 11 30  2  3\\n 14 37  2  3\\n 19 40  2  3\\n 22 47  2  3\\nM  END\\n\");\nviewer_16421717223899379.setStyle({\"stick\": {\"colorscheme\": \"cyanCarbon\"}});\nviewer_16421717223899379.zoomTo();\n\tviewer_16421717223899379.setBackgroundColor(\"0xeeeeee\");\n\tviewer_16421717223899379.zoomTo();\nviewer_16421717223899379.render();\n});\n</script>",
      "text/html": [
       "<div id=\"3dmolviewer_16421717223899379\"  style=\"position: relative; width: 400px; height: 400px\">\n",
       "        <p id=\"3dmolwarning_16421717223899379\" style=\"background-color:#ffcccc;color:black\">You appear to be running in JupyterLab (or JavaScript failed to load for some other reason).  You need to install the 3dmol extension: <br>\n",
       "        <tt>jupyter labextension install jupyterlab_3dmol</tt></p>\n",
       "        </div>\n",
       "<script>\n",
       "\n",
       "var loadScriptAsync = function(uri){\n",
       "  return new Promise((resolve, reject) => {\n",
       "    var tag = document.createElement('script');\n",
       "    tag.src = uri;\n",
       "    tag.async = true;\n",
       "    tag.onload = () => {\n",
       "      resolve();\n",
       "    };\n",
       "  var firstScriptTag = document.getElementsByTagName('script')[0];\n",
       "  firstScriptTag.parentNode.insertBefore(tag, firstScriptTag);\n",
       "});\n",
       "};\n",
       "\n",
       "if(typeof $3Dmolpromise === 'undefined') {\n",
       "$3Dmolpromise = null;\n",
       "  $3Dmolpromise = loadScriptAsync('https://3dmol.org/build/3Dmol.js');\n",
       "}\n",
       "\n",
       "var viewer_16421717223899379 = null;\n",
       "var warn = document.getElementById(\"3dmolwarning_16421717223899379\");\n",
       "if(warn) {\n",
       "    warn.parentNode.removeChild(warn);\n",
       "}\n",
       "$3Dmolpromise.then(function() {\n",
       "viewer_16421717223899379 = $3Dmol.createViewer($(\"#3dmolviewer_16421717223899379\"),{backgroundColor:\"white\"});\n",
       "viewer_16421717223899379.addModel(\"\\n     RDKit          3D\\n\\n 57 56  0  0  0  0  0  0  0  0999 V2000\\n    4.1276   -0.1554   -0.1303 N   0  0  0  0  0  0  0  0  0  0  0  0\\n    4.9102    0.9733    0.2917 C   0  0  0  0  0  0  0  0  0  0  0  0\\n    6.2742    0.9816   -0.3924 C   0  0  0  0  0  0  0  0  0  0  0  0\\n    7.0536   -0.1554   -0.1303 N   0  0  0  0  0  0  0  0  0  0  0  0\\n    3.8587   -0.0612   -1.1336 H   0  0  0  0  0  0  0  0  0  0  0  0\\n    4.6282   -1.0700    0.0154 H   0  0  0  0  0  0  0  0  0  0  0  0\\n    5.0342    0.9650    1.3944 H   0  0  0  0  0  0  0  0  0  0  0  0\\n    4.3813    1.8859   -0.0581 H   0  0  0  0  0  0  0  0  0  0  0  0\\n    6.0404    1.0012   -1.4957 H   0  0  0  0  0  0  0  0  0  0  0  0\\n    6.8075    1.9083   -0.1269 H   0  0  0  0  0  0  0  0  0  0  0  0\\n   12.4047   -0.2580   -0.1632 N   0  0  0  0  0  0  0  0  0  0  0  0\\n   13.1874    0.8707    0.2589 C   0  0  0  0  0  0  0  0  0  0  0  0\\n   14.5514    0.8791   -0.4253 C   0  0  0  0  0  0  0  0  0  0  0  0\\n   15.3308   -0.2580   -0.1632 N   0  0  0  0  0  0  0  0  0  0  0  0\\n   13.3114    0.8624    1.3615 H   0  0  0  0  0  0  0  0  0  0  0  0\\n   12.6585    1.7834   -0.0910 H   0  0  0  0  0  0  0  0  0  0  0  0\\n   14.3176    0.8987   -1.5286 H   0  0  0  0  0  0  0  0  0  0  0  0\\n   15.0847    1.8057   -0.1598 H   0  0  0  0  0  0  0  0  0  0  0  0\\n   20.7738   -0.2580   -0.1632 N   0  0  0  0  0  0  0  0  0  0  0  0\\n   21.5565    0.8707    0.2589 C   0  0  0  0  0  0  0  0  0  0  0  0\\n   22.9204    0.8791   -0.4253 C   0  0  0  0  0  0  0  0  0  0  0  0\\n   23.6998   -0.2580   -0.1632 N   0  0  0  0  0  0  0  0  0  0  0  0\\n   21.6804    0.8624    1.3615 H   0  0  0  0  0  0  0  0  0  0  0  0\\n   21.0275    1.7834   -0.0910 H   0  0  0  0  0  0  0  0  0  0  0  0\\n   22.6866    0.8987   -1.5286 H   0  0  0  0  0  0  0  0  0  0  0  0\\n   23.4538    1.8057   -0.1598 H   0  0  0  0  0  0  0  0  0  0  0  0\\n    8.1936    0.1966    0.1419 C   0  0  0  0  0  0  0  0  0  0  0  0\\n    9.0130    0.1828   -1.0748 C   0  0  0  0  0  0  0  0  0  0  0  0\\n   10.3520   -0.4825   -0.8861 C   0  0  0  0  0  0  0  0  0  0  0  0\\n   11.1507    0.1966    0.1419 C   0  0  0  0  0  0  0  0  0  0  0  0\\n    7.2162    0.6501    0.1156 H   0  0  0  0  0  0  0  0  0  0  0  0\\n    8.4678   -0.3028   -1.9169 H   0  0  0  0  0  0  0  0  0  0  0  0\\n    9.2400    1.2577   -1.3404 H   0  0  0  0  0  0  0  0  0  0  0  0\\n   10.8811   -0.4030   -1.8772 H   0  0  0  0  0  0  0  0  0  0  0  0\\n   10.2691   -1.5554   -0.6425 H   0  0  0  0  0  0  0  0  0  0  0  0\\n   12.1408   -0.1829    0.3783 H   0  0  0  0  0  0  0  0  0  0  0  0\\n   16.5626    0.1966    0.1419 C   0  0  0  0  0  0  0  0  0  0  0  0\\n   17.3820    0.1828   -1.0748 C   0  0  0  0  0  0  0  0  0  0  0  0\\n   18.7210   -0.4825   -0.8861 C   0  0  0  0  0  0  0  0  0  0  0  0\\n   19.5198    0.1966    0.1419 C   0  0  0  0  0  0  0  0  0  0  0  0\\n   15.5852    0.6501    0.1156 H   0  0  0  0  0  0  0  0  0  0  0  0\\n   16.8369   -0.3028   -1.9169 H   0  0  0  0  0  0  0  0  0  0  0  0\\n   17.6090    1.2577   -1.3404 H   0  0  0  0  0  0  0  0  0  0  0  0\\n   19.2501   -0.4030   -1.8772 H   0  0  0  0  0  0  0  0  0  0  0  0\\n   18.6381   -1.5554   -0.6425 H   0  0  0  0  0  0  0  0  0  0  0  0\\n   20.5098   -0.1829    0.3783 H   0  0  0  0  0  0  0  0  0  0  0  0\\n   24.8995    0.1590    0.0978 C   0  0  0  0  0  0  0  0  0  0  0  0\\n   25.7189    0.1452   -1.1190 C   0  0  0  0  0  0  0  0  0  0  0  0\\n   27.0579   -0.5201   -0.9302 C   0  0  0  0  0  0  0  0  0  0  0  0\\n   27.8566    0.1590    0.0978 C   0  0  0  0  0  0  0  0  0  0  0  0\\n   27.4274    1.1202    0.6722 O   0  0  0  0  0  0  0  0  0  0  0  0\\n   23.9221    0.6125    0.0715 H   0  0  0  0  0  0  0  0  0  0  0  0\\n   25.1737   -0.3403   -1.9610 H   0  0  0  0  0  0  0  0  0  0  0  0\\n   25.9459    1.2202   -1.3845 H   0  0  0  0  0  0  0  0  0  0  0  0\\n   27.5869   -0.4405   -1.9214 H   0  0  0  0  0  0  0  0  0  0  0  0\\n   26.9749   -1.5930   -0.6867 H   0  0  0  0  0  0  0  0  0  0  0  0\\n   28.8467   -0.2204    0.3342 H   0  0  0  0  0  0  0  0  0  0  0  0\\n  1  2  1  0\\n  2  3  1  0\\n  3  4  1  0\\n  1  5  1  0\\n  1  6  1  0\\n  2  7  1  0\\n  2  8  1  0\\n  3  9  1  0\\n  3 10  1  0\\n 11 12  1  0\\n 12 13  1  0\\n 13 14  1  0\\n 12 15  1  0\\n 12 16  1  0\\n 13 17  1  0\\n 13 18  1  0\\n 19 20  1  0\\n 20 21  1  0\\n 21 22  1  0\\n 20 23  1  0\\n 20 24  1  0\\n 21 25  1  0\\n 21 26  1  0\\n 27 28  1  0\\n 28 29  1  0\\n 29 30  1  0\\n 27 31  1  0\\n 28 32  1  0\\n 28 33  1  0\\n 29 34  1  0\\n 29 35  1  0\\n 30 36  1  0\\n 37 38  1  0\\n 38 39  1  0\\n 39 40  1  0\\n 37 41  1  0\\n 38 42  1  0\\n 38 43  1  0\\n 39 44  1  0\\n 39 45  1  0\\n 40 46  1  0\\n 47 48  1  0\\n 48 49  1  0\\n 49 50  1  0\\n 50 51  2  0\\n 47 52  1  0\\n 48 53  1  0\\n 48 54  1  0\\n 49 55  1  0\\n 49 56  1  0\\n 50 57  1  0\\n  4 27  2  3\\n 11 30  2  3\\n 14 37  2  3\\n 19 40  2  3\\n 22 47  2  3\\nM  END\\n\");\n",
       "viewer_16421717223899379.setStyle({\"stick\": {\"colorscheme\": \"cyanCarbon\"}});\n",
       "viewer_16421717223899379.zoomTo();\n",
       "\tviewer_16421717223899379.setBackgroundColor(\"0xeeeeee\");\n",
       "\tviewer_16421717223899379.zoomTo();\n",
       "viewer_16421717223899379.render();\n",
       "});\n",
       "</script>"
      ]
     },
     "metadata": {},
     "output_type": "display_data"
    }
   ],
   "source": [
    "show_stk_mol(polymer)"
   ]
  },
  {
   "cell_type": "markdown",
   "metadata": {},
   "source": [
    "# Using arbitrary coordinates to make an rdkit molecule."
   ]
  },
  {
   "cell_type": "code",
   "execution_count": 20,
   "metadata": {},
   "outputs": [
    {
     "data": {
      "text/plain": [
       "0"
      ]
     },
     "execution_count": 20,
     "metadata": {},
     "output_type": "execute_result"
    }
   ],
   "source": [
    "# Using a Molecule.\n",
    "# Fake the positions with H atoms, and some fake bonding.\n",
    "atom_atomic_nums = [1, 1, 1, 1, 1, 1]\n",
    "# Atom1 id, atom2 id, bond order.\n",
    "bonds = [\n",
    "    (0, 1, 1), \n",
    "    (2, 3, 1), \n",
    "    (4, 5, 1), \n",
    "]\n",
    "atom_positions = [\n",
    "    [1, 0, 0], [-1, 0, 0],\n",
    "    [0, 1, 0], [0, -1, 0],\n",
    "    [0, 0, 1], [0, 0, -1],\n",
    "]\n",
    "# Make rdkit molecule.\n",
    "mol = Chem.EditableMol(Chem.Mol())\n",
    "for an in atom_atomic_nums:\n",
    "    rdkit_atom = Chem.Atom(an)\n",
    "    mol.AddAtom(rdkit_atom)\n",
    "\n",
    "for bond in bonds:\n",
    "    mol.AddBond(\n",
    "        beginAtomIdx=bond[0],\n",
    "        endAtomIdx=bond[1],\n",
    "        order=Chem.BondType(bond[2]),\n",
    "    )\n",
    "\n",
    "mol = mol.GetMol()\n",
    "rdkit_conf = Chem.Conformer(len(atom_atomic_nums))\n",
    "for atom_id, atom_coord in enumerate(atom_positions):\n",
    "    rdkit_conf.SetAtomPosition(atom_id, atom_coord)\n",
    "    mol.GetAtomWithIdx(atom_id).SetNoImplicit(True)\n",
    "mol.AddConformer(rdkit_conf)"
   ]
  },
  {
   "cell_type": "code",
   "execution_count": 21,
   "metadata": {},
   "outputs": [
    {
     "data": {
      "application/3dmoljs_load.v0": "<div id=\"3dmolviewer_16421717722146914\"  style=\"position: relative; width: 400px; height: 400px\">\n        <p id=\"3dmolwarning_16421717722146914\" style=\"background-color:#ffcccc;color:black\">You appear to be running in JupyterLab (or JavaScript failed to load for some other reason).  You need to install the 3dmol extension: <br>\n        <tt>jupyter labextension install jupyterlab_3dmol</tt></p>\n        </div>\n<script>\n\nvar loadScriptAsync = function(uri){\n  return new Promise((resolve, reject) => {\n    var tag = document.createElement('script');\n    tag.src = uri;\n    tag.async = true;\n    tag.onload = () => {\n      resolve();\n    };\n  var firstScriptTag = document.getElementsByTagName('script')[0];\n  firstScriptTag.parentNode.insertBefore(tag, firstScriptTag);\n});\n};\n\nif(typeof $3Dmolpromise === 'undefined') {\n$3Dmolpromise = null;\n  $3Dmolpromise = loadScriptAsync('https://3dmol.org/build/3Dmol.js');\n}\n\nvar viewer_16421717722146914 = null;\nvar warn = document.getElementById(\"3dmolwarning_16421717722146914\");\nif(warn) {\n    warn.parentNode.removeChild(warn);\n}\n$3Dmolpromise.then(function() {\nviewer_16421717722146914 = $3Dmol.createViewer($(\"#3dmolviewer_16421717722146914\"),{backgroundColor:\"white\"});\nviewer_16421717722146914.addModel(\"\\n     RDKit          3D\\n\\n  6  3  0  0  0  0  0  0  0  0999 V2000\\n    1.0000    0.0000    0.0000 H   0  0  0  0  0  0  0  0  0  0  0  0\\n   -1.0000    0.0000    0.0000 H   0  0  0  0  0  0  0  0  0  0  0  0\\n    0.0000    1.0000    0.0000 H   0  0  0  0  0  0  0  0  0  0  0  0\\n    0.0000   -1.0000    0.0000 H   0  0  0  0  0  0  0  0  0  0  0  0\\n    0.0000    0.0000    1.0000 H   0  0  0  0  0  0  0  0  0  0  0  0\\n    0.0000    0.0000   -1.0000 H   0  0  0  0  0  0  0  0  0  0  0  0\\n  1  2  1  0\\n  3  4  1  0\\n  5  6  1  0\\nM  END\\n\");\nviewer_16421717722146914.setStyle({\"stick\": {\"colorscheme\": \"cyanCarbon\"}});\nviewer_16421717722146914.zoomTo();\n\tviewer_16421717722146914.setBackgroundColor(\"0xeeeeee\");\n\tviewer_16421717722146914.zoomTo();\nviewer_16421717722146914.render();\n});\n</script>",
      "text/html": [
       "<div id=\"3dmolviewer_16421717722146914\"  style=\"position: relative; width: 400px; height: 400px\">\n",
       "        <p id=\"3dmolwarning_16421717722146914\" style=\"background-color:#ffcccc;color:black\">You appear to be running in JupyterLab (or JavaScript failed to load for some other reason).  You need to install the 3dmol extension: <br>\n",
       "        <tt>jupyter labextension install jupyterlab_3dmol</tt></p>\n",
       "        </div>\n",
       "<script>\n",
       "\n",
       "var loadScriptAsync = function(uri){\n",
       "  return new Promise((resolve, reject) => {\n",
       "    var tag = document.createElement('script');\n",
       "    tag.src = uri;\n",
       "    tag.async = true;\n",
       "    tag.onload = () => {\n",
       "      resolve();\n",
       "    };\n",
       "  var firstScriptTag = document.getElementsByTagName('script')[0];\n",
       "  firstScriptTag.parentNode.insertBefore(tag, firstScriptTag);\n",
       "});\n",
       "};\n",
       "\n",
       "if(typeof $3Dmolpromise === 'undefined') {\n",
       "$3Dmolpromise = null;\n",
       "  $3Dmolpromise = loadScriptAsync('https://3dmol.org/build/3Dmol.js');\n",
       "}\n",
       "\n",
       "var viewer_16421717722146914 = null;\n",
       "var warn = document.getElementById(\"3dmolwarning_16421717722146914\");\n",
       "if(warn) {\n",
       "    warn.parentNode.removeChild(warn);\n",
       "}\n",
       "$3Dmolpromise.then(function() {\n",
       "viewer_16421717722146914 = $3Dmol.createViewer($(\"#3dmolviewer_16421717722146914\"),{backgroundColor:\"white\"});\n",
       "viewer_16421717722146914.addModel(\"\\n     RDKit          3D\\n\\n  6  3  0  0  0  0  0  0  0  0999 V2000\\n    1.0000    0.0000    0.0000 H   0  0  0  0  0  0  0  0  0  0  0  0\\n   -1.0000    0.0000    0.0000 H   0  0  0  0  0  0  0  0  0  0  0  0\\n    0.0000    1.0000    0.0000 H   0  0  0  0  0  0  0  0  0  0  0  0\\n    0.0000   -1.0000    0.0000 H   0  0  0  0  0  0  0  0  0  0  0  0\\n    0.0000    0.0000    1.0000 H   0  0  0  0  0  0  0  0  0  0  0  0\\n    0.0000    0.0000   -1.0000 H   0  0  0  0  0  0  0  0  0  0  0  0\\n  1  2  1  0\\n  3  4  1  0\\n  5  6  1  0\\nM  END\\n\");\n",
       "viewer_16421717722146914.setStyle({\"stick\": {\"colorscheme\": \"cyanCarbon\"}});\n",
       "viewer_16421717722146914.zoomTo();\n",
       "\tviewer_16421717722146914.setBackgroundColor(\"0xeeeeee\");\n",
       "\tviewer_16421717722146914.zoomTo();\n",
       "viewer_16421717722146914.render();\n",
       "});\n",
       "</script>"
      ]
     },
     "metadata": {},
     "output_type": "display_data"
    }
   ],
   "source": [
    "show_rdkit_mol(mol)"
   ]
  },
  {
   "cell_type": "code",
   "execution_count": 22,
   "metadata": {},
   "outputs": [
    {
     "name": "stdout",
     "output_type": "stream",
     "text": [
      "This fake molecule makes a nice sphere at [ 0.01274316  0.00296594 -0.01053931] with diameters: [4.057776627975807, 4.065560898858799, 4.11301727556738] and inertial ratios (1.0, 1.0)\n"
     ]
    }
   ],
   "source": [
    "mes_mol = mes.Molecule(mol, [0])\n",
    "conf_ratios = mes_mol.get_inertial_ratios()\n",
    "conf_ellipsoids = mes_mol.get_ellipsoids(1.0, 4.0, 0.5)\n",
    "center = conf_ellipsoids[0][0]\n",
    "diameters = conf_ellipsoids[0][1]\n",
    "print(\n",
    "    f'This fake molecule makes a nice sphere at {center}'\n",
    "    f' with diameters: {diameters} and inertial ratios '\n",
    "    f'{conf_ratios[0]}'\n",
    ")"
   ]
  },
  {
   "cell_type": "markdown",
   "metadata": {},
   "source": [
    "# Without any molecule!!"
   ]
  },
  {
   "cell_type": "code",
   "execution_count": 23,
   "metadata": {},
   "outputs": [
    {
     "name": "stdout",
     "output_type": "stream",
     "text": [
      "These points make a nice sphere at [0. 0. 0.] with radii: [1. 1. 1.]\n"
     ]
    }
   ],
   "source": [
    "# Without a molecule.\n",
    "points = np.array([\n",
    "    [1, 0, 0], [-1, 0, 0],\n",
    "    [0, 1, 0], [0, -1, 0],\n",
    "    [0, 0, 1], [0, 0, -1],\n",
    "])\n",
    "ET = mes.EllipsoidTool()\n",
    "center, radii, rotation = ET.get_min_vol_ellipse(points)\n",
    "print(\n",
    "    f'These points make a nice sphere at {center}'\n",
    "    f' with radii: {radii}'\n",
    ")"
   ]
  },
  {
   "cell_type": "markdown",
   "metadata": {},
   "source": [
    "# Load from pore mapper example!"
   ]
  },
  {
   "cell_type": "code",
   "execution_count": 24,
   "metadata": {},
   "outputs": [
    {
     "name": "stdout",
     "output_type": "stream",
     "text": [
      "['../poremapper_video/4D2_C_optc_pore.xyz', '../poremapper_video/5B4_C_optc_pore.xyz', '../poremapper_video/6C1_C_optc_pore.xyz', '../poremapper_video/6A3_C_optc_pore.xyz']\n"
     ]
    }
   ],
   "source": [
    "files = glob.glob('../poremapper_video/*_pore.xyz')\n",
    "print(files)"
   ]
  },
  {
   "cell_type": "code",
   "execution_count": 25,
   "metadata": {},
   "outputs": [
    {
     "name": "stdout",
     "output_type": "stream",
     "text": [
      "4D2_C_optc_pore.xyz with radii: [0.92705598 1.13341291 3.45867085]\n",
      "5B4_C_optc_pore.xyz with radii: [3.23404401 4.58539335 5.6981495 ]\n",
      "6C1_C_optc_pore.xyz with radii: [0.09999764 0.10000044 0.1000019 ]\n",
      "6A3_C_optc_pore.xyz with radii: [0.09999697 0.10000129 0.10000173]\n"
     ]
    }
   ],
   "source": [
    "for pore in files:\n",
    "    pore_name = pore.replace('../poremapper_video/', '')\n",
    "    # Read XYZ coordinates.\n",
    "    coordinates = []\n",
    "    with open(pore, 'r') as f:\n",
    "        for line in f.readlines()[2:]:\n",
    "            elem, x, y, z = line.rstrip().split()\n",
    "            coordinates.append([float(x), float(y), float(z)])\n",
    "    coordinates = np.array(coordinates)\n",
    "    \n",
    "    ET = mes.EllipsoidTool()\n",
    "    center, radii, rotation = ET.get_min_vol_ellipse(coordinates)\n",
    "    print(f'{pore_name} with radii: {radii}')\n",
    "    fig, ax = mes.plot_ellipsoid(\n",
    "        center=center,\n",
    "        diameter=radii*2,\n",
    "        rotation=rotation,\n",
    "    )\n",
    "    ax.scatter(\n",
    "        coordinates[:, 0], coordinates[:, 1], coordinates[:, 2],\n",
    "        color='r',\n",
    "        marker='o',\n",
    "        edgecolor=None,\n",
    "        s=50,\n",
    "        alpha=0.2,\n",
    "    )\n",
    "    \n",
    "    fig.tight_layout()\n",
    "    fig.savefig(f'{pore_name}_ell.pdf', dpi=720, bbox_inches='tight')"
   ]
  },
  {
   "cell_type": "code",
   "execution_count": null,
   "metadata": {},
   "outputs": [],
   "source": []
  }
 ],
 "metadata": {
  "kernelspec": {
   "display_name": "molellipsize",
   "language": "python",
   "name": "molellipsize"
  },
  "language_info": {
   "codemirror_mode": {
    "name": "ipython",
    "version": 3
   },
   "file_extension": ".py",
   "mimetype": "text/x-python",
   "name": "python",
   "nbconvert_exporter": "python",
   "pygments_lexer": "ipython3",
   "version": "3.9.4"
  }
 },
 "nbformat": 4,
 "nbformat_minor": 5
}
