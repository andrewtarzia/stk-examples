{
 "cells": [
  {
   "cell_type": "markdown",
   "metadata": {},
   "source": [
    "# stko and stk\n",
    "\n",
    "by: Andrew Tarzia"
   ]
  },
  {
   "cell_type": "markdown",
   "metadata": {},
   "source": [
    "# Imports "
   ]
  },
  {
   "cell_type": "code",
   "execution_count": 2,
   "metadata": {},
   "outputs": [],
   "source": [
    "import sys\n",
    "sys.path.append('/usr/local/lib/python3.7/site-packages/')\n",
    "\n",
    "from rdkit import Chem \n",
    "from rdkit.Chem import AllChem as rdkit\n",
    "from collections import defaultdict\n",
    "from rdkit.Chem import rdFMCS\n",
    "from rdkit.Chem import Draw\n",
    "from rdkit.Chem.Draw import IPythonConsole\n",
    "from rdkit.Chem import rdDistGeom\n",
    "IPythonConsole.ipython_3d = True\n",
    "\n",
    "import py3Dmol\n",
    "from IPython.display import Image\n",
    "import matplotlib.pyplot as plt\n",
    "import subprocess\n",
    "import time\n",
    "import stk\n",
    "import stko\n",
    "import spindry as spd\n",
    "%matplotlib inline"
   ]
  },
  {
   "cell_type": "code",
   "execution_count": 3,
   "metadata": {},
   "outputs": [],
   "source": [
    "def show_stk_mol(stk_mol):\n",
    "    data = rdkit.MolToMolBlock(stk_mol.to_rdkit_mol())\n",
    "    p = py3Dmol.view(\n",
    "        data=data,\n",
    "        style={'stick':{'colorscheme':'cyanCarbon'}}, \n",
    "        width=400,\n",
    "        height=400,\n",
    "    )\n",
    "    p.setBackgroundColor('0xeeeeee')\n",
    "    p.zoomTo()\n",
    "    p.show()"
   ]
  },
  {
   "cell_type": "markdown",
   "metadata": {},
   "source": [
    "# Working"
   ]
  },
  {
   "cell_type": "code",
   "execution_count": 4,
   "metadata": {},
   "outputs": [],
   "source": [
    "bb1 = stk.BuildingBlock('NCCN', [stk.PrimaryAminoFactory()])\n",
    "bb2 = stk.BuildingBlock(\n",
    "    smiles='O=CC(C=O)C=O',\n",
    "    functional_groups=[stk.AldehydeFactory()],\n",
    ")\n",
    "cage1 = stk.ConstructedMolecule(\n",
    "    topology_graph=stk.cage.FourPlusSix((bb1, bb2)),\n",
    ")"
   ]
  },
  {
   "cell_type": "code",
   "execution_count": 5,
   "metadata": {},
   "outputs": [
    {
     "data": {
      "application/3dmoljs_load.v0": "<div id=\"3dmolviewer_1620899299887472\"  style=\"position: relative; width: 400px; height: 400px\">\n        <p id=\"3dmolwarning_1620899299887472\" style=\"background-color:#ffcccc;color:black\">You appear to be running in JupyterLab (or JavaScript failed to load for some other reason).  You need to install the 3dmol extension: <br>\n        <tt>jupyter labextension install jupyterlab_3dmol</tt></p>\n        </div>\n<script>\n\nvar loadScriptAsync = function(uri){\n  return new Promise((resolve, reject) => {\n    var tag = document.createElement('script');\n    tag.src = uri;\n    tag.async = true;\n    tag.onload = () => {\n      resolve();\n    };\n  var firstScriptTag = document.getElementsByTagName('script')[0];\n  firstScriptTag.parentNode.insertBefore(tag, firstScriptTag);\n});\n};\n\nif(typeof $3Dmolpromise === 'undefined') {\n$3Dmolpromise = null;\n  $3Dmolpromise = loadScriptAsync('https://3dmol.org/build/3Dmol.js');\n}\n\nvar viewer_1620899299887472 = null;\nvar warn = document.getElementById(\"3dmolwarning_1620899299887472\");\nif(warn) {\n    warn.parentNode.removeChild(warn);\n}\n$3Dmolpromise.then(function() {\nviewer_1620899299887472 = $3Dmol.createViewer($(\"#3dmolviewer_1620899299887472\"),{backgroundColor:\"white\"});\nviewer_1620899299887472.addModel(\"\\n     RDKit          3D\\n\\n 80 82  0  0  0  0  0  0  0  0999 V2000\\n   -1.2134   -0.7006    7.6921 C   0  0  0  0  0  0  0  0  0  0  0  0\\n    0.0024    0.0195    8.1532 C   0  0  0  0  0  0  0  0  0  0  0  0\\n    1.2289   -0.7128    7.6921 C   0  0  0  0  0  0  0  0  0  0  0  0\\n   -0.0155    1.4134    7.6921 C   0  0  0  0  0  0  0  0  0  0  0  0\\n   -1.4106   -0.8660    6.6467 H   0  0  0  0  0  0  0  0  0  0  0  0\\n    0.0228    0.0328    9.2640 H   0  0  0  0  0  0  0  0  0  0  0  0\\n    1.3779   -0.8508    6.6158 H   0  0  0  0  0  0  0  0  0  0  0  0\\n    0.7696    2.1271    7.9093 H   0  0  0  0  0  0  0  0  0  0  0  0\\n   -6.6851   -3.8596   -1.2430 C   0  0  0  0  0  0  0  0  0  0  0  0\\n   -6.6459   -3.8550   -2.7289 C   0  0  0  0  0  0  0  0  0  0  0  0\\n   -6.6921   -2.4414   -3.2314 C   0  0  0  0  0  0  0  0  0  0  0  0\\n   -5.4646   -4.5773   -3.2177 C   0  0  0  0  0  0  0  0  0  0  0  0\\n   -5.9270   -3.3704   -0.6555 H   0  0  0  0  0  0  0  0  0  0  0  0\\n   -7.5451   -4.3758   -3.1221 H   0  0  0  0  0  0  0  0  0  0  0  0\\n   -5.8930   -1.7560   -2.9293 H   0  0  0  0  0  0  0  0  0  0  0  0\\n   -5.2299   -4.7022   -4.2675 H   0  0  0  0  0  0  0  0  0  0  0  0\\n    6.6851   -3.8596   -1.2430 C   0  0  0  0  0  0  0  0  0  0  0  0\\n    6.6615   -3.8280   -2.7289 C   0  0  0  0  0  0  0  0  0  0  0  0\\n    5.4604   -4.5748   -3.2314 C   0  0  0  0  0  0  0  0  0  0  0  0\\n    6.6963   -2.4438   -3.2177 C   0  0  0  0  0  0  0  0  0  0  0  0\\n    5.8824   -3.4478   -0.6555 H   0  0  0  0  0  0  0  0  0  0  0  0\\n    7.5621   -4.3463   -3.1221 H   0  0  0  0  0  0  0  0  0  0  0  0\\n    4.4673   -4.2255   -2.9293 H   0  0  0  0  0  0  0  0  0  0  0  0\\n    6.6872   -2.1781   -4.2675 H   0  0  0  0  0  0  0  0  0  0  0  0\\n   -0.0000    7.7193   -1.2430 C   0  0  0  0  0  0  0  0  0  0  0  0\\n   -0.0156    7.6830   -2.7289 C   0  0  0  0  0  0  0  0  0  0  0  0\\n    1.2317    7.0162   -3.2314 C   0  0  0  0  0  0  0  0  0  0  0  0\\n   -1.2317    7.0211   -3.2177 C   0  0  0  0  0  0  0  0  0  0  0  0\\n    0.0447    6.8181   -0.6555 H   0  0  0  0  0  0  0  0  0  0  0  0\\n   -0.0170    8.7221   -3.1221 H   0  0  0  0  0  0  0  0  0  0  0  0\\n    1.4257    5.9815   -2.9293 H   0  0  0  0  0  0  0  0  0  0  0  0\\n   -1.4573    6.8803   -4.2675 H   0  0  0  0  0  0  0  0  0  0  0  0\\n   -3.2178   -1.8578    4.4191 N   0  0  0  0  0  0  0  0  0  0  0  0\\n   -4.6051   -2.2313    4.4421 C   0  0  0  0  0  0  0  0  0  0  0  0\\n   -4.9290   -3.2079    3.3152 C   0  0  0  0  0  0  0  0  0  0  0  0\\n   -4.6808   -2.7024    2.0300 N   0  0  0  0  0  0  0  0  0  0  0  0\\n   -5.2477   -1.3300    4.3651 H   0  0  0  0  0  0  0  0  0  0  0  0\\n   -4.7784   -2.7831    5.3911 H   0  0  0  0  0  0  0  0  0  0  0  0\\n   -4.2388   -4.0831    3.4884 H   0  0  0  0  0  0  0  0  0  0  0  0\\n   -5.9702   -3.5517    3.4212 H   0  0  0  0  0  0  0  0  0  0  0  0\\n    3.2255   -1.8639    4.4191 N   0  0  0  0  0  0  0  0  0  0  0  0\\n    4.2425   -2.8787    4.4421 C   0  0  0  0  0  0  0  0  0  0  0  0\\n    5.2503   -2.6710    3.3153 C   0  0  0  0  0  0  0  0  0  0  0  0\\n    4.6885   -2.7085    2.0300 N   0  0  0  0  0  0  0  0  0  0  0  0\\n    3.7830   -3.8858    4.3649 H   0  0  0  0  0  0  0  0  0  0  0  0\\n    4.8069   -2.7532    5.3911 H   0  0  0  0  0  0  0  0  0  0  0  0\\n    5.6634   -1.6358    3.4886 H   0  0  0  0  0  0  0  0  0  0  0  0\\n    6.0684   -3.4011    3.4212 H   0  0  0  0  0  0  0  0  0  0  0  0\\n   -0.0077    3.7216    4.4191 N   0  0  0  0  0  0  0  0  0  0  0  0\\n    0.3608    5.1103    4.4424 C   0  0  0  0  0  0  0  0  0  0  0  0\\n   -0.3230    5.8783    3.3150 C   0  0  0  0  0  0  0  0  0  0  0  0\\n   -0.0077    5.4110    2.0300 N   0  0  0  0  0  0  0  0  0  0  0  0\\n    1.4626    5.2174    4.3663 H   0  0  0  0  0  0  0  0  0  0  0  0\\n   -0.0316    5.5358    5.3911 H   0  0  0  0  0  0  0  0  0  0  0  0\\n   -1.4260    5.7170    3.4873 H   0  0  0  0  0  0  0  0  0  0  0  0\\n   -0.1013    6.9522    3.4211 H   0  0  0  0  0  0  0  0  0  0  0  0\\n   -1.4651   -4.5761   -3.2246 N   0  0  0  0  0  0  0  0  0  0  0  0\\n   -0.6824   -5.3003   -4.1877 C   0  0  0  0  0  0  0  0  0  0  0  0\\n    0.6815   -5.6755   -3.6155 C   0  0  0  0  0  0  0  0  0  0  0  0\\n    1.4609   -4.5761   -3.2246 N   0  0  0  0  0  0  0  0  0  0  0  0\\n   -0.5584   -4.6999   -5.1126 H   0  0  0  0  0  0  0  0  0  0  0  0\\n   -1.2113   -6.2578   -4.3839 H   0  0  0  0  0  0  0  0  0  0  0  0\\n    0.4477   -6.2857   -2.6961 H   0  0  0  0  0  0  0  0  0  0  0  0\\n    1.2149   -6.3136   -4.3380 H   0  0  0  0  0  0  0  0  0  0  0  0\\n   -4.6934    1.0229   -3.2246 N   0  0  0  0  0  0  0  0  0  0  0  0\\n   -5.2985    2.2760   -3.5825 C   0  0  0  0  0  0  0  0  0  0  0  0\\n   -4.2593    3.2509   -4.1283 C   0  0  0  0  0  0  0  0  0  0  0  0\\n   -3.2304    3.5569   -3.2246 N   0  0  0  0  0  0  0  0  0  0  0  0\\n   -5.8160    2.7179   -2.7060 H   0  0  0  0  0  0  0  0  0  0  0  0\\n   -6.0020    2.0714   -4.4183 H   0  0  0  0  0  0  0  0  0  0  0  0\\n   -3.8042    2.7182   -5.0123 H   0  0  0  0  0  0  0  0  0  0  0  0\\n   -4.7677    4.1603   -4.4863 H   0  0  0  0  0  0  0  0  0  0  0  0\\n    4.6955    1.0192   -3.2246 N   0  0  0  0  0  0  0  0  0  0  0  0\\n    4.9314    2.0591   -4.1877 C   0  0  0  0  0  0  0  0  0  0  0  0\\n    4.5743    3.4280   -3.6155 C   0  0  0  0  0  0  0  0  0  0  0  0\\n    3.2325    3.5532   -3.2246 N   0  0  0  0  0  0  0  0  0  0  0  0\\n    4.3495    1.8663   -5.1126 H   0  0  0  0  0  0  0  0  0  0  0  0\\n    6.0251    2.0799   -4.3839 H   0  0  0  0  0  0  0  0  0  0  0  0\\n    5.2197    3.5306   -2.6961 H   0  0  0  0  0  0  0  0  0  0  0  0\\n    4.8603    4.2089   -4.3380 H   0  0  0  0  0  0  0  0  0  0  0  0\\n  1  2  1  0\\n  2  3  1  0\\n  2  4  1  0\\n  1  5  1  0\\n  2  6  1  0\\n  3  7  1  0\\n  4  8  1  0\\n  9 10  1  0\\n 10 11  1  0\\n 10 12  1  0\\n  9 13  1  0\\n 10 14  1  0\\n 11 15  1  0\\n 12 16  1  0\\n 17 18  1  0\\n 18 19  1  0\\n 18 20  1  0\\n 17 21  1  0\\n 18 22  1  0\\n 19 23  1  0\\n 20 24  1  0\\n 25 26  1  0\\n 26 27  1  0\\n 26 28  1  0\\n 25 29  1  0\\n 26 30  1  0\\n 27 31  1  0\\n 28 32  1  0\\n 33 34  1  0\\n 34 35  1  0\\n 35 36  1  0\\n 34 37  1  0\\n 34 38  1  0\\n 35 39  1  0\\n 35 40  1  0\\n 41 42  1  0\\n 42 43  1  0\\n 43 44  1  0\\n 42 45  1  0\\n 42 46  1  0\\n 43 47  1  0\\n 43 48  1  0\\n 49 50  1  0\\n 50 51  1  0\\n 51 52  1  0\\n 50 53  1  0\\n 50 54  1  0\\n 51 55  1  0\\n 51 56  1  0\\n 57 58  1  0\\n 58 59  1  0\\n 59 60  1  0\\n 58 61  1  0\\n 58 62  1  0\\n 59 63  1  0\\n 59 64  1  0\\n 65 66  1  0\\n 66 67  1  0\\n 67 68  1  0\\n 66 69  1  0\\n 66 70  1  0\\n 67 71  1  0\\n 67 72  1  0\\n 73 74  1  0\\n 74 75  1  0\\n 75 76  1  0\\n 74 77  1  0\\n 74 78  1  0\\n 75 79  1  0\\n 75 80  1  0\\n  1 33  2  0\\n  9 36  2  0\\n  3 41  2  0\\n 17 44  2  0\\n  4 49  2  0\\n 25 52  2  0\\n 12 57  2  0\\n 19 60  2  0\\n 11 65  2  0\\n 28 68  2  0\\n 20 73  2  0\\n 27 76  2  0\\nM  END\\n\");\nviewer_1620899299887472.setStyle({\"stick\": {\"colorscheme\": \"cyanCarbon\"}});\nviewer_1620899299887472.zoomTo();\n\tviewer_1620899299887472.setBackgroundColor(\"0xeeeeee\");\n\tviewer_1620899299887472.zoomTo();\nviewer_1620899299887472.render();\n});\n</script>",
      "text/html": [
       "<div id=\"3dmolviewer_1620899299887472\"  style=\"position: relative; width: 400px; height: 400px\">\n",
       "        <p id=\"3dmolwarning_1620899299887472\" style=\"background-color:#ffcccc;color:black\">You appear to be running in JupyterLab (or JavaScript failed to load for some other reason).  You need to install the 3dmol extension: <br>\n",
       "        <tt>jupyter labextension install jupyterlab_3dmol</tt></p>\n",
       "        </div>\n",
       "<script>\n",
       "\n",
       "var loadScriptAsync = function(uri){\n",
       "  return new Promise((resolve, reject) => {\n",
       "    var tag = document.createElement('script');\n",
       "    tag.src = uri;\n",
       "    tag.async = true;\n",
       "    tag.onload = () => {\n",
       "      resolve();\n",
       "    };\n",
       "  var firstScriptTag = document.getElementsByTagName('script')[0];\n",
       "  firstScriptTag.parentNode.insertBefore(tag, firstScriptTag);\n",
       "});\n",
       "};\n",
       "\n",
       "if(typeof $3Dmolpromise === 'undefined') {\n",
       "$3Dmolpromise = null;\n",
       "  $3Dmolpromise = loadScriptAsync('https://3dmol.org/build/3Dmol.js');\n",
       "}\n",
       "\n",
       "var viewer_1620899299887472 = null;\n",
       "var warn = document.getElementById(\"3dmolwarning_1620899299887472\");\n",
       "if(warn) {\n",
       "    warn.parentNode.removeChild(warn);\n",
       "}\n",
       "$3Dmolpromise.then(function() {\n",
       "viewer_1620899299887472 = $3Dmol.createViewer($(\"#3dmolviewer_1620899299887472\"),{backgroundColor:\"white\"});\n",
       "viewer_1620899299887472.addModel(\"\\n     RDKit          3D\\n\\n 80 82  0  0  0  0  0  0  0  0999 V2000\\n   -1.2134   -0.7006    7.6921 C   0  0  0  0  0  0  0  0  0  0  0  0\\n    0.0024    0.0195    8.1532 C   0  0  0  0  0  0  0  0  0  0  0  0\\n    1.2289   -0.7128    7.6921 C   0  0  0  0  0  0  0  0  0  0  0  0\\n   -0.0155    1.4134    7.6921 C   0  0  0  0  0  0  0  0  0  0  0  0\\n   -1.4106   -0.8660    6.6467 H   0  0  0  0  0  0  0  0  0  0  0  0\\n    0.0228    0.0328    9.2640 H   0  0  0  0  0  0  0  0  0  0  0  0\\n    1.3779   -0.8508    6.6158 H   0  0  0  0  0  0  0  0  0  0  0  0\\n    0.7696    2.1271    7.9093 H   0  0  0  0  0  0  0  0  0  0  0  0\\n   -6.6851   -3.8596   -1.2430 C   0  0  0  0  0  0  0  0  0  0  0  0\\n   -6.6459   -3.8550   -2.7289 C   0  0  0  0  0  0  0  0  0  0  0  0\\n   -6.6921   -2.4414   -3.2314 C   0  0  0  0  0  0  0  0  0  0  0  0\\n   -5.4646   -4.5773   -3.2177 C   0  0  0  0  0  0  0  0  0  0  0  0\\n   -5.9270   -3.3704   -0.6555 H   0  0  0  0  0  0  0  0  0  0  0  0\\n   -7.5451   -4.3758   -3.1221 H   0  0  0  0  0  0  0  0  0  0  0  0\\n   -5.8930   -1.7560   -2.9293 H   0  0  0  0  0  0  0  0  0  0  0  0\\n   -5.2299   -4.7022   -4.2675 H   0  0  0  0  0  0  0  0  0  0  0  0\\n    6.6851   -3.8596   -1.2430 C   0  0  0  0  0  0  0  0  0  0  0  0\\n    6.6615   -3.8280   -2.7289 C   0  0  0  0  0  0  0  0  0  0  0  0\\n    5.4604   -4.5748   -3.2314 C   0  0  0  0  0  0  0  0  0  0  0  0\\n    6.6963   -2.4438   -3.2177 C   0  0  0  0  0  0  0  0  0  0  0  0\\n    5.8824   -3.4478   -0.6555 H   0  0  0  0  0  0  0  0  0  0  0  0\\n    7.5621   -4.3463   -3.1221 H   0  0  0  0  0  0  0  0  0  0  0  0\\n    4.4673   -4.2255   -2.9293 H   0  0  0  0  0  0  0  0  0  0  0  0\\n    6.6872   -2.1781   -4.2675 H   0  0  0  0  0  0  0  0  0  0  0  0\\n   -0.0000    7.7193   -1.2430 C   0  0  0  0  0  0  0  0  0  0  0  0\\n   -0.0156    7.6830   -2.7289 C   0  0  0  0  0  0  0  0  0  0  0  0\\n    1.2317    7.0162   -3.2314 C   0  0  0  0  0  0  0  0  0  0  0  0\\n   -1.2317    7.0211   -3.2177 C   0  0  0  0  0  0  0  0  0  0  0  0\\n    0.0447    6.8181   -0.6555 H   0  0  0  0  0  0  0  0  0  0  0  0\\n   -0.0170    8.7221   -3.1221 H   0  0  0  0  0  0  0  0  0  0  0  0\\n    1.4257    5.9815   -2.9293 H   0  0  0  0  0  0  0  0  0  0  0  0\\n   -1.4573    6.8803   -4.2675 H   0  0  0  0  0  0  0  0  0  0  0  0\\n   -3.2178   -1.8578    4.4191 N   0  0  0  0  0  0  0  0  0  0  0  0\\n   -4.6051   -2.2313    4.4421 C   0  0  0  0  0  0  0  0  0  0  0  0\\n   -4.9290   -3.2079    3.3152 C   0  0  0  0  0  0  0  0  0  0  0  0\\n   -4.6808   -2.7024    2.0300 N   0  0  0  0  0  0  0  0  0  0  0  0\\n   -5.2477   -1.3300    4.3651 H   0  0  0  0  0  0  0  0  0  0  0  0\\n   -4.7784   -2.7831    5.3911 H   0  0  0  0  0  0  0  0  0  0  0  0\\n   -4.2388   -4.0831    3.4884 H   0  0  0  0  0  0  0  0  0  0  0  0\\n   -5.9702   -3.5517    3.4212 H   0  0  0  0  0  0  0  0  0  0  0  0\\n    3.2255   -1.8639    4.4191 N   0  0  0  0  0  0  0  0  0  0  0  0\\n    4.2425   -2.8787    4.4421 C   0  0  0  0  0  0  0  0  0  0  0  0\\n    5.2503   -2.6710    3.3153 C   0  0  0  0  0  0  0  0  0  0  0  0\\n    4.6885   -2.7085    2.0300 N   0  0  0  0  0  0  0  0  0  0  0  0\\n    3.7830   -3.8858    4.3649 H   0  0  0  0  0  0  0  0  0  0  0  0\\n    4.8069   -2.7532    5.3911 H   0  0  0  0  0  0  0  0  0  0  0  0\\n    5.6634   -1.6358    3.4886 H   0  0  0  0  0  0  0  0  0  0  0  0\\n    6.0684   -3.4011    3.4212 H   0  0  0  0  0  0  0  0  0  0  0  0\\n   -0.0077    3.7216    4.4191 N   0  0  0  0  0  0  0  0  0  0  0  0\\n    0.3608    5.1103    4.4424 C   0  0  0  0  0  0  0  0  0  0  0  0\\n   -0.3230    5.8783    3.3150 C   0  0  0  0  0  0  0  0  0  0  0  0\\n   -0.0077    5.4110    2.0300 N   0  0  0  0  0  0  0  0  0  0  0  0\\n    1.4626    5.2174    4.3663 H   0  0  0  0  0  0  0  0  0  0  0  0\\n   -0.0316    5.5358    5.3911 H   0  0  0  0  0  0  0  0  0  0  0  0\\n   -1.4260    5.7170    3.4873 H   0  0  0  0  0  0  0  0  0  0  0  0\\n   -0.1013    6.9522    3.4211 H   0  0  0  0  0  0  0  0  0  0  0  0\\n   -1.4651   -4.5761   -3.2246 N   0  0  0  0  0  0  0  0  0  0  0  0\\n   -0.6824   -5.3003   -4.1877 C   0  0  0  0  0  0  0  0  0  0  0  0\\n    0.6815   -5.6755   -3.6155 C   0  0  0  0  0  0  0  0  0  0  0  0\\n    1.4609   -4.5761   -3.2246 N   0  0  0  0  0  0  0  0  0  0  0  0\\n   -0.5584   -4.6999   -5.1126 H   0  0  0  0  0  0  0  0  0  0  0  0\\n   -1.2113   -6.2578   -4.3839 H   0  0  0  0  0  0  0  0  0  0  0  0\\n    0.4477   -6.2857   -2.6961 H   0  0  0  0  0  0  0  0  0  0  0  0\\n    1.2149   -6.3136   -4.3380 H   0  0  0  0  0  0  0  0  0  0  0  0\\n   -4.6934    1.0229   -3.2246 N   0  0  0  0  0  0  0  0  0  0  0  0\\n   -5.2985    2.2760   -3.5825 C   0  0  0  0  0  0  0  0  0  0  0  0\\n   -4.2593    3.2509   -4.1283 C   0  0  0  0  0  0  0  0  0  0  0  0\\n   -3.2304    3.5569   -3.2246 N   0  0  0  0  0  0  0  0  0  0  0  0\\n   -5.8160    2.7179   -2.7060 H   0  0  0  0  0  0  0  0  0  0  0  0\\n   -6.0020    2.0714   -4.4183 H   0  0  0  0  0  0  0  0  0  0  0  0\\n   -3.8042    2.7182   -5.0123 H   0  0  0  0  0  0  0  0  0  0  0  0\\n   -4.7677    4.1603   -4.4863 H   0  0  0  0  0  0  0  0  0  0  0  0\\n    4.6955    1.0192   -3.2246 N   0  0  0  0  0  0  0  0  0  0  0  0\\n    4.9314    2.0591   -4.1877 C   0  0  0  0  0  0  0  0  0  0  0  0\\n    4.5743    3.4280   -3.6155 C   0  0  0  0  0  0  0  0  0  0  0  0\\n    3.2325    3.5532   -3.2246 N   0  0  0  0  0  0  0  0  0  0  0  0\\n    4.3495    1.8663   -5.1126 H   0  0  0  0  0  0  0  0  0  0  0  0\\n    6.0251    2.0799   -4.3839 H   0  0  0  0  0  0  0  0  0  0  0  0\\n    5.2197    3.5306   -2.6961 H   0  0  0  0  0  0  0  0  0  0  0  0\\n    4.8603    4.2089   -4.3380 H   0  0  0  0  0  0  0  0  0  0  0  0\\n  1  2  1  0\\n  2  3  1  0\\n  2  4  1  0\\n  1  5  1  0\\n  2  6  1  0\\n  3  7  1  0\\n  4  8  1  0\\n  9 10  1  0\\n 10 11  1  0\\n 10 12  1  0\\n  9 13  1  0\\n 10 14  1  0\\n 11 15  1  0\\n 12 16  1  0\\n 17 18  1  0\\n 18 19  1  0\\n 18 20  1  0\\n 17 21  1  0\\n 18 22  1  0\\n 19 23  1  0\\n 20 24  1  0\\n 25 26  1  0\\n 26 27  1  0\\n 26 28  1  0\\n 25 29  1  0\\n 26 30  1  0\\n 27 31  1  0\\n 28 32  1  0\\n 33 34  1  0\\n 34 35  1  0\\n 35 36  1  0\\n 34 37  1  0\\n 34 38  1  0\\n 35 39  1  0\\n 35 40  1  0\\n 41 42  1  0\\n 42 43  1  0\\n 43 44  1  0\\n 42 45  1  0\\n 42 46  1  0\\n 43 47  1  0\\n 43 48  1  0\\n 49 50  1  0\\n 50 51  1  0\\n 51 52  1  0\\n 50 53  1  0\\n 50 54  1  0\\n 51 55  1  0\\n 51 56  1  0\\n 57 58  1  0\\n 58 59  1  0\\n 59 60  1  0\\n 58 61  1  0\\n 58 62  1  0\\n 59 63  1  0\\n 59 64  1  0\\n 65 66  1  0\\n 66 67  1  0\\n 67 68  1  0\\n 66 69  1  0\\n 66 70  1  0\\n 67 71  1  0\\n 67 72  1  0\\n 73 74  1  0\\n 74 75  1  0\\n 75 76  1  0\\n 74 77  1  0\\n 74 78  1  0\\n 75 79  1  0\\n 75 80  1  0\\n  1 33  2  0\\n  9 36  2  0\\n  3 41  2  0\\n 17 44  2  0\\n  4 49  2  0\\n 25 52  2  0\\n 12 57  2  0\\n 19 60  2  0\\n 11 65  2  0\\n 28 68  2  0\\n 20 73  2  0\\n 27 76  2  0\\nM  END\\n\");\n",
       "viewer_1620899299887472.setStyle({\"stick\": {\"colorscheme\": \"cyanCarbon\"}});\n",
       "viewer_1620899299887472.zoomTo();\n",
       "\tviewer_1620899299887472.setBackgroundColor(\"0xeeeeee\");\n",
       "\tviewer_1620899299887472.zoomTo();\n",
       "viewer_1620899299887472.render();\n",
       "});\n",
       "</script>"
      ]
     },
     "metadata": {},
     "output_type": "display_data"
    }
   ],
   "source": [
    "show_stk_mol(cage1)"
   ]
  },
  {
   "cell_type": "code",
   "execution_count": 6,
   "metadata": {},
   "outputs": [],
   "source": [
    "broken_bonds_by_id = []\n",
    "disconnectors = []\n",
    "for bi in cage1.get_bond_infos():\n",
    "    if bi.get_building_block() is None:\n",
    "        a1id = bi.get_bond().get_atom1().get_id()\n",
    "        a2id = bi.get_bond().get_atom2().get_id()\n",
    "        broken_bonds_by_id.append(sorted((a1id, a2id)))\n",
    "        disconnectors.extend((a1id, a2id))"
   ]
  },
  {
   "cell_type": "code",
   "execution_count": 7,
   "metadata": {},
   "outputs": [
    {
     "name": "stdout",
     "output_type": "stream",
     "text": [
      "[[0, 32], [8, 35], [2, 40], [16, 43], [3, 48], [24, 51], [11, 56], [18, 59], [10, 64], [27, 67], [19, 72], [26, 75]]\n",
      "[0, 32, 8, 35, 2, 40, 16, 43, 3, 48, 24, 51, 11, 56, 18, 59, 10, 64, 27, 67, 19, 72, 26, 75]\n",
      "--\n"
     ]
    }
   ],
   "source": [
    "print(broken_bonds_by_id)\n",
    "print(disconnectors)\n",
    "print('--')"
   ]
  },
  {
   "cell_type": "code",
   "execution_count": 8,
   "metadata": {},
   "outputs": [],
   "source": [
    "new_topology_graph = stko.TopologyExtractor()\n",
    "tg_info = new_topology_graph.extract_topology(\n",
    "    molecule=cage1,\n",
    "    broken_bonds_by_id=broken_bonds_by_id,\n",
    "    disconnectors=set(disconnectors),\n",
    ")"
   ]
  },
  {
   "cell_type": "code",
   "execution_count": 9,
   "metadata": {},
   "outputs": [],
   "source": [
    "import os\n",
    "os.mkdir('tg_output')"
   ]
  },
  {
   "cell_type": "code",
   "execution_count": 10,
   "metadata": {},
   "outputs": [
    {
     "name": "stdout",
     "output_type": "stream",
     "text": [
      "{0: array([0.0952583 , 0.05782588, 7.70819073]), 1: array([-6.26032559, -3.61722913, -2.67443437]), 2: array([ 6.26277511, -3.61298643, -2.67443437]), 3: array([-2.44952914e-03,  7.23021556e+00, -2.67443437e+00]), 4: array([-4.70844968, -2.71842469,  3.85903949]), 5: array([ 4.71605668, -2.72476131,  3.85903947]), 6: array([-0.00924248,  5.44294872,  3.85903889]), 7: array([-0.01403689, -5.46061179, -3.84785617]), 8: array([-4.73393618,  2.72180559, -3.84785617]), 9: array([ 4.73604697,  2.71814959, -3.84785617])}\n",
      "{0: 3, 1: 3, 2: 3, 3: 3, 4: 2, 5: 2, 6: 2, 7: 2, 8: 2, 9: 2}\n",
      "[(0, 4), (1, 4), (0, 5), (2, 5), (0, 6), (3, 6), (1, 7), (2, 7), (1, 8), (3, 8), (2, 9), (3, 9)]\n"
     ]
    }
   ],
   "source": [
    "print(tg_info.get_vertex_positions())\n",
    "print(tg_info.get_connectivities())\n",
    "print(tg_info.get_edge_pairs())"
   ]
  },
  {
   "cell_type": "code",
   "execution_count": 11,
   "metadata": {},
   "outputs": [],
   "source": [
    "cage1.write('tg_output/tg_cage.mol')\n",
    "tg_info.write('tg_output/tg_info.pdb')"
   ]
  },
  {
   "cell_type": "code",
   "execution_count": null,
   "metadata": {},
   "outputs": [],
   "source": []
  }
 ],
 "metadata": {
  "kernelspec": {
   "display_name": "stkdevel",
   "language": "python",
   "name": "stkdevel"
  },
  "language_info": {
   "codemirror_mode": {
    "name": "ipython",
    "version": 3
   },
   "file_extension": ".py",
   "mimetype": "text/x-python",
   "name": "python",
   "nbconvert_exporter": "python",
   "pygments_lexer": "ipython3",
   "version": "3.7.3"
  }
 },
 "nbformat": 4,
 "nbformat_minor": 2
}
