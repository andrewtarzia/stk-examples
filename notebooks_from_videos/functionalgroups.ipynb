{
 "cells": [
  {
   "cell_type": "markdown",
   "metadata": {},
   "source": [
    "# Functional groups in stk\n",
    "\n",
    "by: Andrew Tarzia"
   ]
  },
  {
   "cell_type": "markdown",
   "metadata": {},
   "source": [
    "### Update 25/02/24\n",
    "\n",
    "Installation of py3Dmol using `pip install py3Dmol` is required."
   ]
  },
  {
   "cell_type": "markdown",
   "metadata": {},
   "source": [
    "# Imports "
   ]
  },
  {
   "cell_type": "code",
   "execution_count": null,
   "metadata": {},
   "outputs": [],
   "source": [
    "import sys\n",
    "sys.path.append('/usr/local/lib/python3.7/site-packages/')\n",
    "\n",
    "from rdkit import Chem \n",
    "from rdkit.Chem import AllChem as rdkit\n",
    "from collections import defaultdict\n",
    "from rdkit.Chem import rdFMCS\n",
    "from rdkit.Chem import Draw\n",
    "from rdkit.Chem.Draw import IPythonConsole\n",
    "from rdkit.Chem import rdDistGeom\n",
    "IPythonConsole.ipython_3d = True\n",
    "\n",
    "import py3Dmol\n",
    "from IPython.display import Image\n",
    "import matplotlib.pyplot as plt\n",
    "import subprocess\n",
    "import time\n",
    "import stk\n",
    "import stko\n",
    "import spindry as spd\n",
    "%matplotlib inline"
   ]
  },
  {
   "cell_type": "code",
   "execution_count": null,
   "metadata": {},
   "outputs": [],
   "source": [
    "def show_stk_mol(stk_mol):\n",
    "    data = rdkit.MolToMolBlock(stk_mol.to_rdkit_mol())\n",
    "    p = py3Dmol.view(\n",
    "        data=data,\n",
    "        style={'stick':{'colorscheme':'cyanCarbon'}}, \n",
    "        width=400,\n",
    "        height=400,\n",
    "    )\n",
    "    p.setBackgroundColor('0xeeeeee')\n",
    "    p.zoomTo()\n",
    "    p.show()"
   ]
  },
  {
   "cell_type": "markdown",
   "metadata": {},
   "source": [
    "# Working"
   ]
  },
  {
   "cell_type": "code",
   "execution_count": null,
   "metadata": {},
   "outputs": [],
   "source": [
    "bb3 = stk.BuildingBlock(\n",
    "    smiles='O=CCCBr',\n",
    "    functional_groups=[stk.AldehydeFactory(), stk.BromoFactory()],\n",
    ")\n",
    "print(bb3)\n",
    "show_stk_mol(bb3)"
   ]
  },
  {
   "cell_type": "code",
   "execution_count": null,
   "metadata": {},
   "outputs": [],
   "source": [
    "bb = stk.BuildingBlock(\n",
    "    smiles='BrCCCBr',\n",
    "    functional_groups=[\n",
    "        stk.Bromo(\n",
    "            # The number is the atom's id.\n",
    "            bromine=stk.Br(0),\n",
    "            atom=stk.C(1),\n",
    "            # bonders are atoms which have bonds added during\n",
    "            # construction.\n",
    "            bonders=(stk.C(1), ),\n",
    "            # deleters are atoms which are deleted during\n",
    "            # construction.\n",
    "            deleters=(stk.Br(0), ),\n",
    "        ),\n",
    "    ],\n",
    ")"
   ]
  },
  {
   "cell_type": "code",
   "execution_count": null,
   "metadata": {},
   "outputs": [],
   "source": [
    "print(bb)"
   ]
  },
  {
   "cell_type": "code",
   "execution_count": null,
   "metadata": {},
   "outputs": [],
   "source": [
    "bb = stk.BuildingBlock(\n",
    "    smiles='BrCCCBr',\n",
    "    functional_groups=[\n",
    "        stk.BromoFactory(),\n",
    "    ],\n",
    ")"
   ]
  },
  {
   "cell_type": "code",
   "execution_count": null,
   "metadata": {},
   "outputs": [],
   "source": [
    "print(bb)"
   ]
  },
  {
   "cell_type": "code",
   "execution_count": null,
   "metadata": {},
   "outputs": [],
   "source": [
    "building_block = stk.BuildingBlock(\n",
    "    smiles='BrCCCBr',\n",
    "    functional_groups=(\n",
    "        stk.SmartsFunctionalGroupFactory(\n",
    "            smarts='[Br][C]',\n",
    "            bonders=(1, ),\n",
    "            deleters=(0, ),\n",
    "        ),\n",
    "    ),\n",
    ")"
   ]
  },
  {
   "cell_type": "code",
   "execution_count": null,
   "metadata": {},
   "outputs": [],
   "source": [
    "print(building_block)"
   ]
  },
  {
   "cell_type": "code",
   "execution_count": null,
   "metadata": {},
   "outputs": [],
   "source": [
    "ca = stk.BuildingBlock(\n",
    "    smiles='CN1C=NC2=C1C(=O)N(C(=O)N2C)C'\n",
    ")"
   ]
  },
  {
   "cell_type": "code",
   "execution_count": null,
   "metadata": {},
   "outputs": [],
   "source": [
    "show_stk_mol(ca)"
   ]
  },
  {
   "cell_type": "code",
   "execution_count": null,
   "metadata": {},
   "outputs": [],
   "source": [
    "bb1 = stk.BuildingBlock.init_from_molecule(\n",
    "    ca, \n",
    "    functional_groups=(\n",
    "        stk.SmartsFunctionalGroupFactory(\n",
    "            smarts='[#6]=[#8]',\n",
    "            bonders=(0, ),\n",
    "            deleters=(1, ),\n",
    "        ),\n",
    "    )\n",
    ")\n",
    "print(bb1)\n",
    "\n",
    "bb2 = stk.BuildingBlock.init_from_molecule(\n",
    "    ca, \n",
    "    functional_groups=(\n",
    "        stk.SmartsFunctionalGroupFactory(\n",
    "            smarts='[#7][#6H3]([#1])([#1])[#1]',\n",
    "            bonders=(0, ),\n",
    "            deleters=(1, 2, 3, 4),\n",
    "        ),\n",
    "    )\n",
    ")\n",
    "print(bb2)\n",
    "bb2 = bb2.with_functional_groups(bb2.get_functional_groups(fg_ids=(0, )))\n",
    "print(bb2)"
   ]
  },
  {
   "cell_type": "code",
   "execution_count": null,
   "metadata": {},
   "outputs": [],
   "source": [
    "fake_molecule = stk.ConstructedMolecule(stk.polymer.Linear(\n",
    "    building_blocks=(bb1, bb2),\n",
    "    repeating_unit='AB',\n",
    "    num_repeating_units=1,\n",
    "))\n",
    "show_stk_mol(fake_molecule)"
   ]
  },
  {
   "cell_type": "code",
   "execution_count": null,
   "metadata": {},
   "outputs": [],
   "source": [
    "show_stk_mol(ca)"
   ]
  }
 ],
 "metadata": {
  "kernelspec": {
   "display_name": "Python 3 (ipykernel)",
   "language": "python",
   "name": "python3"
  },
  "language_info": {
   "codemirror_mode": {
    "name": "ipython",
    "version": 3
   },
   "file_extension": ".py",
   "mimetype": "text/x-python",
   "name": "python",
   "nbconvert_exporter": "python",
   "pygments_lexer": "ipython3",
   "version": "3.11.8"
  }
 },
 "nbformat": 4,
 "nbformat_minor": 4
}
