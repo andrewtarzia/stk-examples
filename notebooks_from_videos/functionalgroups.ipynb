{
 "cells": [
  {
   "cell_type": "markdown",
   "metadata": {},
   "source": [
    "# Functional groups in stk\n",
    "\n",
    "by: Andrew Tarzia"
   ]
  },
  {
   "cell_type": "markdown",
   "metadata": {},
   "source": [
    "# Imports "
   ]
  },
  {
   "cell_type": "code",
   "execution_count": 1,
   "metadata": {},
   "outputs": [],
   "source": [
    "import sys\n",
    "sys.path.append('/usr/local/lib/python3.7/site-packages/')\n",
    "\n",
    "from rdkit import Chem \n",
    "from rdkit.Chem import AllChem as rdkit\n",
    "from collections import defaultdict\n",
    "from rdkit.Chem import rdFMCS\n",
    "from rdkit.Chem import Draw\n",
    "from rdkit.Chem.Draw import IPythonConsole\n",
    "from rdkit.Chem import rdDistGeom\n",
    "IPythonConsole.ipython_3d = True\n",
    "\n",
    "import py3Dmol\n",
    "from IPython.display import Image\n",
    "import matplotlib.pyplot as plt\n",
    "import subprocess\n",
    "import time\n",
    "import stk\n",
    "import stko\n",
    "import spindry as spd\n",
    "%matplotlib inline"
   ]
  },
  {
   "cell_type": "code",
   "execution_count": 2,
   "metadata": {},
   "outputs": [],
   "source": [
    "def show_stk_mol(stk_mol):\n",
    "    data = rdkit.MolToMolBlock(stk_mol.to_rdkit_mol())\n",
    "    p = py3Dmol.view(\n",
    "        data=data,\n",
    "        style={'stick':{'colorscheme':'cyanCarbon'}}, \n",
    "        width=400,\n",
    "        height=400,\n",
    "    )\n",
    "    p.setBackgroundColor('0xeeeeee')\n",
    "    p.zoomTo()\n",
    "    p.show()"
   ]
  },
  {
   "cell_type": "markdown",
   "metadata": {},
   "source": [
    "# Working"
   ]
  },
  {
   "cell_type": "code",
   "execution_count": 3,
   "metadata": {},
   "outputs": [
    {
     "name": "stdout",
     "output_type": "stream",
     "text": [
      "BuildingBlock('O=CCCBr', (Aldehyde(C(1), O(0), H(5), C(2), bonders=(C(1),), deleters=(O(0),)), Bromo(Br(4), C(3), bonders=(C(3),), deleters=(Br(4),))))\n"
     ]
    },
    {
     "data": {
      "application/3dmoljs_load.v0": "<div id=\"3dmolviewer_1620892449505872\"  style=\"position: relative; width: 400px; height: 400px\">\n        <p id=\"3dmolwarning_1620892449505872\" style=\"background-color:#ffcccc;color:black\">You appear to be running in JupyterLab (or JavaScript failed to load for some other reason).  You need to install the 3dmol extension: <br>\n        <tt>jupyter labextension install jupyterlab_3dmol</tt></p>\n        </div>\n<script>\n\nvar loadScriptAsync = function(uri){\n  return new Promise((resolve, reject) => {\n    var tag = document.createElement('script');\n    tag.src = uri;\n    tag.async = true;\n    tag.onload = () => {\n      resolve();\n    };\n  var firstScriptTag = document.getElementsByTagName('script')[0];\n  firstScriptTag.parentNode.insertBefore(tag, firstScriptTag);\n});\n};\n\nif(typeof $3Dmolpromise === 'undefined') {\n$3Dmolpromise = null;\n  $3Dmolpromise = loadScriptAsync('https://3dmol.org/build/3Dmol.js');\n}\n\nvar viewer_1620892449505872 = null;\nvar warn = document.getElementById(\"3dmolwarning_1620892449505872\");\nif(warn) {\n    warn.parentNode.removeChild(warn);\n}\n$3Dmolpromise.then(function() {\nviewer_1620892449505872 = $3Dmol.createViewer($(\"#3dmolviewer_1620892449505872\"),{backgroundColor:\"white\"});\nviewer_1620892449505872.addModel(\"\\n     RDKit          3D\\n\\n 10  9  0  0  0  0  0  0  0  0999 V2000\\n    1.6920    1.1428   -0.3061 O   0  0  0  0  0  0  0  0  0  0  0  0\\n    1.2825    0.1826    0.3161 C   0  0  0  0  0  0  0  0  0  0  0  0\\n    0.1756   -0.6327   -0.2441 C   0  0  0  0  0  0  0  0  0  0  0  0\\n   -1.1148    0.1173    0.0015 C   0  0  0  0  0  0  0  0  0  0  0  0\\n   -1.0831    1.8526   -0.8591 Br  0  0  0  0  0  0  0  0  0  0  0  0\\n    1.7174   -0.0769    1.2669 H   0  0  0  0  0  0  0  0  0  0  0  0\\n    0.3340   -0.8630   -1.3150 H   0  0  0  0  0  0  0  0  0  0  0  0\\n    0.1367   -1.5865    0.2939 H   0  0  0  0  0  0  0  0  0  0  0  0\\n   -1.1343    0.3237    1.1110 H   0  0  0  0  0  0  0  0  0  0  0  0\\n   -2.0059   -0.4599   -0.2650 H   0  0  0  0  0  0  0  0  0  0  0  0\\n  1  2  2  0\\n  2  3  1  0\\n  3  4  1  0\\n  4  5  1  0\\n  2  6  1  0\\n  3  7  1  0\\n  3  8  1  0\\n  4  9  1  0\\n  4 10  1  0\\nM  END\\n\");\nviewer_1620892449505872.setStyle({\"stick\": {\"colorscheme\": \"cyanCarbon\"}});\nviewer_1620892449505872.zoomTo();\n\tviewer_1620892449505872.setBackgroundColor(\"0xeeeeee\");\n\tviewer_1620892449505872.zoomTo();\nviewer_1620892449505872.render();\n});\n</script>",
      "text/html": [
       "<div id=\"3dmolviewer_1620892449505872\"  style=\"position: relative; width: 400px; height: 400px\">\n",
       "        <p id=\"3dmolwarning_1620892449505872\" style=\"background-color:#ffcccc;color:black\">You appear to be running in JupyterLab (or JavaScript failed to load for some other reason).  You need to install the 3dmol extension: <br>\n",
       "        <tt>jupyter labextension install jupyterlab_3dmol</tt></p>\n",
       "        </div>\n",
       "<script>\n",
       "\n",
       "var loadScriptAsync = function(uri){\n",
       "  return new Promise((resolve, reject) => {\n",
       "    var tag = document.createElement('script');\n",
       "    tag.src = uri;\n",
       "    tag.async = true;\n",
       "    tag.onload = () => {\n",
       "      resolve();\n",
       "    };\n",
       "  var firstScriptTag = document.getElementsByTagName('script')[0];\n",
       "  firstScriptTag.parentNode.insertBefore(tag, firstScriptTag);\n",
       "});\n",
       "};\n",
       "\n",
       "if(typeof $3Dmolpromise === 'undefined') {\n",
       "$3Dmolpromise = null;\n",
       "  $3Dmolpromise = loadScriptAsync('https://3dmol.org/build/3Dmol.js');\n",
       "}\n",
       "\n",
       "var viewer_1620892449505872 = null;\n",
       "var warn = document.getElementById(\"3dmolwarning_1620892449505872\");\n",
       "if(warn) {\n",
       "    warn.parentNode.removeChild(warn);\n",
       "}\n",
       "$3Dmolpromise.then(function() {\n",
       "viewer_1620892449505872 = $3Dmol.createViewer($(\"#3dmolviewer_1620892449505872\"),{backgroundColor:\"white\"});\n",
       "viewer_1620892449505872.addModel(\"\\n     RDKit          3D\\n\\n 10  9  0  0  0  0  0  0  0  0999 V2000\\n    1.6920    1.1428   -0.3061 O   0  0  0  0  0  0  0  0  0  0  0  0\\n    1.2825    0.1826    0.3161 C   0  0  0  0  0  0  0  0  0  0  0  0\\n    0.1756   -0.6327   -0.2441 C   0  0  0  0  0  0  0  0  0  0  0  0\\n   -1.1148    0.1173    0.0015 C   0  0  0  0  0  0  0  0  0  0  0  0\\n   -1.0831    1.8526   -0.8591 Br  0  0  0  0  0  0  0  0  0  0  0  0\\n    1.7174   -0.0769    1.2669 H   0  0  0  0  0  0  0  0  0  0  0  0\\n    0.3340   -0.8630   -1.3150 H   0  0  0  0  0  0  0  0  0  0  0  0\\n    0.1367   -1.5865    0.2939 H   0  0  0  0  0  0  0  0  0  0  0  0\\n   -1.1343    0.3237    1.1110 H   0  0  0  0  0  0  0  0  0  0  0  0\\n   -2.0059   -0.4599   -0.2650 H   0  0  0  0  0  0  0  0  0  0  0  0\\n  1  2  2  0\\n  2  3  1  0\\n  3  4  1  0\\n  4  5  1  0\\n  2  6  1  0\\n  3  7  1  0\\n  3  8  1  0\\n  4  9  1  0\\n  4 10  1  0\\nM  END\\n\");\n",
       "viewer_1620892449505872.setStyle({\"stick\": {\"colorscheme\": \"cyanCarbon\"}});\n",
       "viewer_1620892449505872.zoomTo();\n",
       "\tviewer_1620892449505872.setBackgroundColor(\"0xeeeeee\");\n",
       "\tviewer_1620892449505872.zoomTo();\n",
       "viewer_1620892449505872.render();\n",
       "});\n",
       "</script>"
      ]
     },
     "metadata": {},
     "output_type": "display_data"
    }
   ],
   "source": [
    "bb3 = stk.BuildingBlock(\n",
    "    smiles='O=CCCBr',\n",
    "    functional_groups=[stk.AldehydeFactory(), stk.BromoFactory()],\n",
    ")\n",
    "print(bb3)\n",
    "show_stk_mol(bb3)"
   ]
  },
  {
   "cell_type": "code",
   "execution_count": 4,
   "metadata": {},
   "outputs": [],
   "source": [
    "bb = stk.BuildingBlock(\n",
    "    smiles='BrCCCBr',\n",
    "    functional_groups=[\n",
    "        stk.Bromo(\n",
    "            # The number is the atom's id.\n",
    "            bromine=stk.Br(0),\n",
    "            atom=stk.C(1),\n",
    "            # bonders are atoms which have bonds added during\n",
    "            # construction.\n",
    "            bonders=(stk.C(1), ),\n",
    "            # deleters are atoms which are deleted during\n",
    "            # construction.\n",
    "            deleters=(stk.Br(0), ),\n",
    "        ),\n",
    "    ],\n",
    ")"
   ]
  },
  {
   "cell_type": "code",
   "execution_count": 5,
   "metadata": {},
   "outputs": [
    {
     "name": "stdout",
     "output_type": "stream",
     "text": [
      "BuildingBlock('BrCCCBr', (Bromo(Br(0), C(1), bonders=(C(1),), deleters=(Br(0),)),))\n"
     ]
    }
   ],
   "source": [
    "print(bb)"
   ]
  },
  {
   "cell_type": "code",
   "execution_count": 6,
   "metadata": {},
   "outputs": [],
   "source": [
    "bb = stk.BuildingBlock(\n",
    "    smiles='BrCCCBr',\n",
    "    functional_groups=[\n",
    "        stk.BromoFactory(),\n",
    "    ],\n",
    ")"
   ]
  },
  {
   "cell_type": "code",
   "execution_count": 7,
   "metadata": {},
   "outputs": [
    {
     "name": "stdout",
     "output_type": "stream",
     "text": [
      "BuildingBlock('BrCCCBr', (Bromo(Br(0), C(1), bonders=(C(1),), deleters=(Br(0),)), Bromo(Br(4), C(3), bonders=(C(3),), deleters=(Br(4),))))\n"
     ]
    }
   ],
   "source": [
    "print(bb)"
   ]
  },
  {
   "cell_type": "code",
   "execution_count": null,
   "metadata": {},
   "outputs": [],
   "source": []
  },
  {
   "cell_type": "code",
   "execution_count": null,
   "metadata": {},
   "outputs": [],
   "source": []
  },
  {
   "cell_type": "code",
   "execution_count": 8,
   "metadata": {},
   "outputs": [],
   "source": [
    "building_block = stk.BuildingBlock(\n",
    "    smiles='BrCCCBr',\n",
    "    functional_groups=(\n",
    "        stk.SmartsFunctionalGroupFactory(\n",
    "            smarts='[Br][C]',\n",
    "            bonders=(1, ),\n",
    "            deleters=(0, ),\n",
    "        ),\n",
    "    ),\n",
    ")"
   ]
  },
  {
   "cell_type": "code",
   "execution_count": 9,
   "metadata": {},
   "outputs": [
    {
     "name": "stdout",
     "output_type": "stream",
     "text": [
      "BuildingBlock('BrCCCBr', (GenericFunctionalGroup(atoms=(Br(0), C(1)), bonders=(C(1),), deleters=(Br(0),)), GenericFunctionalGroup(atoms=(Br(4), C(3)), bonders=(C(3),), deleters=(Br(4),))))\n"
     ]
    }
   ],
   "source": [
    "print(building_block)"
   ]
  },
  {
   "cell_type": "code",
   "execution_count": 10,
   "metadata": {},
   "outputs": [],
   "source": [
    "ca = stk.BuildingBlock(\n",
    "    smiles='CN1C=NC2=C1C(=O)N(C(=O)N2C)C'\n",
    ")"
   ]
  },
  {
   "cell_type": "code",
   "execution_count": 11,
   "metadata": {},
   "outputs": [
    {
     "data": {
      "application/3dmoljs_load.v0": "<div id=\"3dmolviewer_16208929389467697\"  style=\"position: relative; width: 400px; height: 400px\">\n        <p id=\"3dmolwarning_16208929389467697\" style=\"background-color:#ffcccc;color:black\">You appear to be running in JupyterLab (or JavaScript failed to load for some other reason).  You need to install the 3dmol extension: <br>\n        <tt>jupyter labextension install jupyterlab_3dmol</tt></p>\n        </div>\n<script>\n\nvar loadScriptAsync = function(uri){\n  return new Promise((resolve, reject) => {\n    var tag = document.createElement('script');\n    tag.src = uri;\n    tag.async = true;\n    tag.onload = () => {\n      resolve();\n    };\n  var firstScriptTag = document.getElementsByTagName('script')[0];\n  firstScriptTag.parentNode.insertBefore(tag, firstScriptTag);\n});\n};\n\nif(typeof $3Dmolpromise === 'undefined') {\n$3Dmolpromise = null;\n  $3Dmolpromise = loadScriptAsync('https://3dmol.org/build/3Dmol.js');\n}\n\nvar viewer_16208929389467697 = null;\nvar warn = document.getElementById(\"3dmolwarning_16208929389467697\");\nif(warn) {\n    warn.parentNode.removeChild(warn);\n}\n$3Dmolpromise.then(function() {\nviewer_16208929389467697 = $3Dmol.createViewer($(\"#3dmolviewer_16208929389467697\"),{backgroundColor:\"white\"});\nviewer_16208929389467697.addModel(\"\\n     RDKit          3D\\n\\n 24 25  0  0  0  0  0  0  0  0999 V2000\\n    3.1151    1.0285    0.0693 C   0  0  0  0  0  0  0  0  0  0  0  0\\n    2.1375   -0.0378    0.1389 N   0  0  0  0  0  0  0  0  0  0  0  0\\n    2.4354   -1.3137    0.3201 C   0  0  0  0  0  0  0  0  0  0  0  0\\n    1.2680   -1.9801    0.3265 N   0  0  0  0  0  0  0  0  0  0  0  0\\n    0.2548   -1.1102    0.1488 C   0  0  0  0  0  0  0  0  0  0  0  0\\n    0.8229    0.1423    0.0283 C   0  0  0  0  0  0  0  0  0  0  0  0\\n   -0.0300    1.2127   -0.1640 C   0  0  0  0  0  0  0  0  0  0  0  0\\n    0.4753    2.3587   -0.2752 O   0  0  0  0  0  0  0  0  0  0  0  0\\n   -1.3643    1.0619   -0.2341 N   0  0  0  0  0  0  0  0  0  0  0  0\\n   -1.8543   -0.1804   -0.1097 C   0  0  0  0  0  0  0  0  0  0  0  0\\n   -3.0864   -0.3432   -0.1714 O   0  0  0  0  0  0  0  0  0  0  0  0\\n   -1.0817   -1.2619    0.0787 N   0  0  0  0  0  0  0  0  0  0  0  0\\n   -1.6609   -2.5862    0.2074 C   0  0  0  0  0  0  0  0  0  0  0  0\\n   -2.2230    2.2136   -0.4371 C   0  0  0  0  0  0  0  0  0  0  0  0\\n    3.6344    1.0744   -0.9065 H   0  0  0  0  0  0  0  0  0  0  0  0\\n    2.7121    2.0150    0.3101 H   0  0  0  0  0  0  0  0  0  0  0  0\\n    3.9129    0.8249    0.8422 H   0  0  0  0  0  0  0  0  0  0  0  0\\n    3.4276   -1.7524    0.4419 H   0  0  0  0  0  0  0  0  0  0  0  0\\n   -0.9584   -3.2793    0.7269 H   0  0  0  0  0  0  0  0  0  0  0  0\\n   -1.9167   -3.0407   -0.7509 H   0  0  0  0  0  0  0  0  0  0  0  0\\n   -2.5830   -2.5451    0.8571 H   0  0  0  0  0  0  0  0  0  0  0  0\\n   -1.6909    3.0267   -0.9693 H   0  0  0  0  0  0  0  0  0  0  0  0\\n   -2.6388    2.5639    0.5514 H   0  0  0  0  0  0  0  0  0  0  0  0\\n   -3.1078    1.9084   -1.0294 H   0  0  0  0  0  0  0  0  0  0  0  0\\n  1  2  1  0\\n  2  3  1  0\\n  3  4  2  0\\n  4  5  1  0\\n  5  6  2  0\\n  6  7  1  0\\n  7  8  2  0\\n  7  9  1  0\\n  9 10  1  0\\n 10 11  2  0\\n 10 12  1  0\\n 12 13  1  0\\n  9 14  1  0\\n  6  2  1  0\\n 12  5  1  0\\n  1 15  1  0\\n  1 16  1  0\\n  1 17  1  0\\n  3 18  1  0\\n 13 19  1  0\\n 13 20  1  0\\n 13 21  1  0\\n 14 22  1  0\\n 14 23  1  0\\n 14 24  1  0\\nM  END\\n\");\nviewer_16208929389467697.setStyle({\"stick\": {\"colorscheme\": \"cyanCarbon\"}});\nviewer_16208929389467697.zoomTo();\n\tviewer_16208929389467697.setBackgroundColor(\"0xeeeeee\");\n\tviewer_16208929389467697.zoomTo();\nviewer_16208929389467697.render();\n});\n</script>",
      "text/html": [
       "<div id=\"3dmolviewer_16208929389467697\"  style=\"position: relative; width: 400px; height: 400px\">\n",
       "        <p id=\"3dmolwarning_16208929389467697\" style=\"background-color:#ffcccc;color:black\">You appear to be running in JupyterLab (or JavaScript failed to load for some other reason).  You need to install the 3dmol extension: <br>\n",
       "        <tt>jupyter labextension install jupyterlab_3dmol</tt></p>\n",
       "        </div>\n",
       "<script>\n",
       "\n",
       "var loadScriptAsync = function(uri){\n",
       "  return new Promise((resolve, reject) => {\n",
       "    var tag = document.createElement('script');\n",
       "    tag.src = uri;\n",
       "    tag.async = true;\n",
       "    tag.onload = () => {\n",
       "      resolve();\n",
       "    };\n",
       "  var firstScriptTag = document.getElementsByTagName('script')[0];\n",
       "  firstScriptTag.parentNode.insertBefore(tag, firstScriptTag);\n",
       "});\n",
       "};\n",
       "\n",
       "if(typeof $3Dmolpromise === 'undefined') {\n",
       "$3Dmolpromise = null;\n",
       "  $3Dmolpromise = loadScriptAsync('https://3dmol.org/build/3Dmol.js');\n",
       "}\n",
       "\n",
       "var viewer_16208929389467697 = null;\n",
       "var warn = document.getElementById(\"3dmolwarning_16208929389467697\");\n",
       "if(warn) {\n",
       "    warn.parentNode.removeChild(warn);\n",
       "}\n",
       "$3Dmolpromise.then(function() {\n",
       "viewer_16208929389467697 = $3Dmol.createViewer($(\"#3dmolviewer_16208929389467697\"),{backgroundColor:\"white\"});\n",
       "viewer_16208929389467697.addModel(\"\\n     RDKit          3D\\n\\n 24 25  0  0  0  0  0  0  0  0999 V2000\\n    3.1151    1.0285    0.0693 C   0  0  0  0  0  0  0  0  0  0  0  0\\n    2.1375   -0.0378    0.1389 N   0  0  0  0  0  0  0  0  0  0  0  0\\n    2.4354   -1.3137    0.3201 C   0  0  0  0  0  0  0  0  0  0  0  0\\n    1.2680   -1.9801    0.3265 N   0  0  0  0  0  0  0  0  0  0  0  0\\n    0.2548   -1.1102    0.1488 C   0  0  0  0  0  0  0  0  0  0  0  0\\n    0.8229    0.1423    0.0283 C   0  0  0  0  0  0  0  0  0  0  0  0\\n   -0.0300    1.2127   -0.1640 C   0  0  0  0  0  0  0  0  0  0  0  0\\n    0.4753    2.3587   -0.2752 O   0  0  0  0  0  0  0  0  0  0  0  0\\n   -1.3643    1.0619   -0.2341 N   0  0  0  0  0  0  0  0  0  0  0  0\\n   -1.8543   -0.1804   -0.1097 C   0  0  0  0  0  0  0  0  0  0  0  0\\n   -3.0864   -0.3432   -0.1714 O   0  0  0  0  0  0  0  0  0  0  0  0\\n   -1.0817   -1.2619    0.0787 N   0  0  0  0  0  0  0  0  0  0  0  0\\n   -1.6609   -2.5862    0.2074 C   0  0  0  0  0  0  0  0  0  0  0  0\\n   -2.2230    2.2136   -0.4371 C   0  0  0  0  0  0  0  0  0  0  0  0\\n    3.6344    1.0744   -0.9065 H   0  0  0  0  0  0  0  0  0  0  0  0\\n    2.7121    2.0150    0.3101 H   0  0  0  0  0  0  0  0  0  0  0  0\\n    3.9129    0.8249    0.8422 H   0  0  0  0  0  0  0  0  0  0  0  0\\n    3.4276   -1.7524    0.4419 H   0  0  0  0  0  0  0  0  0  0  0  0\\n   -0.9584   -3.2793    0.7269 H   0  0  0  0  0  0  0  0  0  0  0  0\\n   -1.9167   -3.0407   -0.7509 H   0  0  0  0  0  0  0  0  0  0  0  0\\n   -2.5830   -2.5451    0.8571 H   0  0  0  0  0  0  0  0  0  0  0  0\\n   -1.6909    3.0267   -0.9693 H   0  0  0  0  0  0  0  0  0  0  0  0\\n   -2.6388    2.5639    0.5514 H   0  0  0  0  0  0  0  0  0  0  0  0\\n   -3.1078    1.9084   -1.0294 H   0  0  0  0  0  0  0  0  0  0  0  0\\n  1  2  1  0\\n  2  3  1  0\\n  3  4  2  0\\n  4  5  1  0\\n  5  6  2  0\\n  6  7  1  0\\n  7  8  2  0\\n  7  9  1  0\\n  9 10  1  0\\n 10 11  2  0\\n 10 12  1  0\\n 12 13  1  0\\n  9 14  1  0\\n  6  2  1  0\\n 12  5  1  0\\n  1 15  1  0\\n  1 16  1  0\\n  1 17  1  0\\n  3 18  1  0\\n 13 19  1  0\\n 13 20  1  0\\n 13 21  1  0\\n 14 22  1  0\\n 14 23  1  0\\n 14 24  1  0\\nM  END\\n\");\n",
       "viewer_16208929389467697.setStyle({\"stick\": {\"colorscheme\": \"cyanCarbon\"}});\n",
       "viewer_16208929389467697.zoomTo();\n",
       "\tviewer_16208929389467697.setBackgroundColor(\"0xeeeeee\");\n",
       "\tviewer_16208929389467697.zoomTo();\n",
       "viewer_16208929389467697.render();\n",
       "});\n",
       "</script>"
      ]
     },
     "metadata": {},
     "output_type": "display_data"
    }
   ],
   "source": [
    "show_stk_mol(ca)"
   ]
  },
  {
   "cell_type": "code",
   "execution_count": 52,
   "metadata": {},
   "outputs": [
    {
     "name": "stdout",
     "output_type": "stream",
     "text": [
      "BuildingBlock('Cn1c(=O)c2c(ncn2C)n(C)c1=O', (GenericFunctionalGroup(atoms=(C(6), O(7)), bonders=(C(6),), deleters=(O(7),)), GenericFunctionalGroup(atoms=(C(9), O(10)), bonders=(C(9),), deleters=(O(10),))))\n",
      "BuildingBlock('Cn1c(=O)c2c(ncn2C)n(C)c1=O', (GenericFunctionalGroup(atoms=(N(1), C(0), H(14), H(15), H(16)), bonders=(N(1),), deleters=(C(0), H(14), H(15), H(16))), GenericFunctionalGroup(atoms=(N(8), C(13), H(21), H(22), H(23)), bonders=(N(8),), deleters=(C(13), H(21), H(22), H(23))), GenericFunctionalGroup(atoms=(N(11), C(12), H(18), H(19), H(20)), bonders=(N(11),), deleters=(C(12), H(18), H(19), H(20)))))\n",
      "BuildingBlock('Cn1c(=O)c2c(ncn2C)n(C)c1=O', (GenericFunctionalGroup(atoms=(N(1), C(0), H(14), H(15), H(16)), bonders=(N(1),), deleters=(C(0), H(14), H(15), H(16))),))\n"
     ]
    }
   ],
   "source": [
    "bb1 = stk.BuildingBlock.init_from_molecule(\n",
    "    ca, \n",
    "    functional_groups=(\n",
    "        stk.SmartsFunctionalGroupFactory(\n",
    "            smarts='[#6]=[#8]',\n",
    "            bonders=(0, ),\n",
    "            deleters=(1, ),\n",
    "        ),\n",
    "    )\n",
    ")\n",
    "print(bb1)\n",
    "\n",
    "bb2 = stk.BuildingBlock.init_from_molecule(\n",
    "    ca, \n",
    "    functional_groups=(\n",
    "        stk.SmartsFunctionalGroupFactory(\n",
    "            smarts='[#7][#6H3]([#1])([#1])[#1]',\n",
    "            bonders=(0, ),\n",
    "            deleters=(1, 2, 3, 4),\n",
    "        ),\n",
    "    )\n",
    ")\n",
    "print(bb2)\n",
    "bb2 = bb2.with_functional_groups(bb2.get_functional_groups(fg_ids=(0, )))\n",
    "print(bb2)"
   ]
  },
  {
   "cell_type": "code",
   "execution_count": 53,
   "metadata": {},
   "outputs": [
    {
     "data": {
      "application/3dmoljs_load.v0": "<div id=\"3dmolviewer_1620894376502191\"  style=\"position: relative; width: 400px; height: 400px\">\n        <p id=\"3dmolwarning_1620894376502191\" style=\"background-color:#ffcccc;color:black\">You appear to be running in JupyterLab (or JavaScript failed to load for some other reason).  You need to install the 3dmol extension: <br>\n        <tt>jupyter labextension install jupyterlab_3dmol</tt></p>\n        </div>\n<script>\n\nvar loadScriptAsync = function(uri){\n  return new Promise((resolve, reject) => {\n    var tag = document.createElement('script');\n    tag.src = uri;\n    tag.async = true;\n    tag.onload = () => {\n      resolve();\n    };\n  var firstScriptTag = document.getElementsByTagName('script')[0];\n  firstScriptTag.parentNode.insertBefore(tag, firstScriptTag);\n});\n};\n\nif(typeof $3Dmolpromise === 'undefined') {\n$3Dmolpromise = null;\n  $3Dmolpromise = loadScriptAsync('https://3dmol.org/build/3Dmol.js');\n}\n\nvar viewer_1620894376502191 = null;\nvar warn = document.getElementById(\"3dmolwarning_1620894376502191\");\nif(warn) {\n    warn.parentNode.removeChild(warn);\n}\n$3Dmolpromise.then(function() {\nviewer_1620894376502191 = $3Dmol.createViewer($(\"#3dmolviewer_1620894376502191\"),{backgroundColor:\"white\"});\nviewer_1620894376502191.addModel(\"\\n     RDKit          3D\\n\\n 43 46  0  0  0  0  0  0  0  0999 V2000\\n   -3.5297    2.0703    0.1454 C   0  0  0  0  0  0  0  0  0  0  0  0\\n   -2.1044    2.3264    0.1634 N   0  0  0  0  0  0  0  0  0  0  0  0\\n   -1.5626    3.5301    0.2480 C   0  0  0  0  0  0  0  0  0  0  0  0\\n   -0.2306    3.3500    0.2354 N   0  0  0  0  0  0  0  0  0  0  0  0\\n    0.0424    2.0339    0.1429 C   0  0  0  0  0  0  0  0  0  0  0  0\\n   -1.1716    1.3784    0.0969 C   0  0  0  0  0  0  0  0  0  0  0  0\\n   -1.1480   -0.0000   -0.0000 C   0  0  0  0  0  0  0  0  0  0  0  0\\n   -2.2475   -0.6087   -0.0428 O   0  0  0  0  0  0  0  0  0  0  0  0\\n    0.0020   -0.6951   -0.0488 N   0  0  0  0  0  0  0  0  0  0  0  0\\n    1.1480    0.0000   -0.0000 C   0  0  0  0  0  3  0  0  0  0  0  0\\n    1.1948    1.3382    0.0940 N   0  0  0  0  0  0  0  0  0  0  0  0\\n    2.4615    2.0444    0.1436 C   0  0  0  0  0  0  0  0  0  0  0  0\\n   -0.0192   -2.1422   -0.1505 C   0  0  0  0  0  0  0  0  0  0  0  0\\n   -3.9933    2.2809   -0.8368 H   0  0  0  0  0  0  0  0  0  0  0  0\\n   -3.8023    1.0616    0.4640 H   0  0  0  0  0  0  0  0  0  0  0  0\\n   -4.0218    2.7697    0.8831 H   0  0  0  0  0  0  0  0  0  0  0  0\\n   -2.0819    4.4880    0.3153 H   0  0  0  0  0  0  0  0  0  0  0  0\\n    2.3362    3.0558    0.5967 H   0  0  0  0  0  0  0  0  0  0  0  0\\n    2.9178    2.1822   -0.8378 H   0  0  0  0  0  0  0  0  0  0  0  0\\n    3.1847    1.4978    0.8162 H   0  0  0  0  0  0  0  0  0  0  0  0\\n   -0.9480   -2.5004   -0.6371 H   0  0  0  0  0  0  0  0  0  0  0  0\\n    0.1219   -2.6028    0.8696 H   0  0  0  0  0  0  0  0  0  0  0  0\\n    0.8549   -2.4787   -0.7416 H   0  0  0  0  0  0  0  0  0  0  0  0\\n    7.3819    0.0167    0.1261 N   0  0  0  0  0  0  0  0  0  0  0  0\\n    7.1701    0.2377    1.4129 C   0  0  0  0  0  0  0  0  0  0  0  0\\n    8.3817    0.3391    1.9863 N   0  0  0  0  0  0  0  0  0  0  0  0\\n    9.3357    0.1798    1.0484 C   0  0  0  0  0  0  0  0  0  0  0  0\\n    8.6836   -0.0280   -0.1505 C   0  0  0  0  0  0  0  0  0  0  0  0\\n    9.4638   -0.2198   -1.2750 C   0  0  0  0  0  0  0  0  0  0  0  0\\n    8.8816   -0.4102   -2.3731 O   0  0  0  0  0  0  0  0  0  0  0  0\\n   10.8075   -0.2082   -1.2251 N   0  0  0  0  0  0  0  0  0  0  0  0\\n   11.3809   -0.0013   -0.0304 C   0  0  0  0  0  0  0  0  0  0  0  0\\n   12.6232    0.0135    0.0390 O   0  0  0  0  0  0  0  0  0  0  0  0\\n   10.6816    0.1916    1.0991 N   0  0  0  0  0  0  0  0  0  0  0  0\\n   11.3496    0.4116    2.3684 C   0  0  0  0  0  0  0  0  0  0  0  0\\n   11.5881   -0.4140   -2.4306 C   0  0  0  0  0  0  0  0  0  0  0  0\\n    6.2081    0.3231    1.9218 H   0  0  0  0  0  0  0  0  0  0  0  0\\n   10.6731    0.1703    3.2216 H   0  0  0  0  0  0  0  0  0  0  0  0\\n   11.6907    1.4390    2.5045 H   0  0  0  0  0  0  0  0  0  0  0  0\\n   12.2291   -0.2885    2.4707 H   0  0  0  0  0  0  0  0  0  0  0  0\\n   11.0271   -0.1038   -3.3342 H   0  0  0  0  0  0  0  0  0  0  0  0\\n   11.9219   -1.4897   -2.4953 H   0  0  0  0  0  0  0  0  0  0  0  0\\n   12.5243    0.1741   -2.3632 H   0  0  0  0  0  0  0  0  0  0  0  0\\n  1  2  1  0\\n  2  3  1  0\\n  3  4  2  0\\n  4  5  1  0\\n  5  6  2  0\\n  6  7  1  0\\n  7  8  2  0\\n  7  9  1  0\\n  9 10  1  0\\n 10 11  1  0\\n 11 12  1  0\\n  9 13  1  0\\n  6  2  1  0\\n 11  5  1  0\\n  1 14  1  0\\n  1 15  1  0\\n  1 16  1  0\\n  3 17  1  0\\n 12 18  1  0\\n 12 19  1  0\\n 12 20  1  0\\n 13 21  1  0\\n 13 22  1  0\\n 13 23  1  0\\n 24 25  1  0\\n 25 26  2  0\\n 26 27  1  0\\n 27 28  2  0\\n 28 29  1  0\\n 29 30  2  0\\n 29 31  1  0\\n 31 32  1  0\\n 32 33  2  0\\n 32 34  1  0\\n 34 35  1  0\\n 31 36  1  0\\n 28 24  1  0\\n 34 27  1  0\\n 25 37  1  0\\n 35 38  1  0\\n 35 39  1  0\\n 35 40  1  0\\n 36 41  1  0\\n 36 42  1  0\\n 36 43  1  0\\n 10 24  1  0\\nM  END\\n\");\nviewer_1620894376502191.setStyle({\"stick\": {\"colorscheme\": \"cyanCarbon\"}});\nviewer_1620894376502191.zoomTo();\n\tviewer_1620894376502191.setBackgroundColor(\"0xeeeeee\");\n\tviewer_1620894376502191.zoomTo();\nviewer_1620894376502191.render();\n});\n</script>",
      "text/html": [
       "<div id=\"3dmolviewer_1620894376502191\"  style=\"position: relative; width: 400px; height: 400px\">\n",
       "        <p id=\"3dmolwarning_1620894376502191\" style=\"background-color:#ffcccc;color:black\">You appear to be running in JupyterLab (or JavaScript failed to load for some other reason).  You need to install the 3dmol extension: <br>\n",
       "        <tt>jupyter labextension install jupyterlab_3dmol</tt></p>\n",
       "        </div>\n",
       "<script>\n",
       "\n",
       "var loadScriptAsync = function(uri){\n",
       "  return new Promise((resolve, reject) => {\n",
       "    var tag = document.createElement('script');\n",
       "    tag.src = uri;\n",
       "    tag.async = true;\n",
       "    tag.onload = () => {\n",
       "      resolve();\n",
       "    };\n",
       "  var firstScriptTag = document.getElementsByTagName('script')[0];\n",
       "  firstScriptTag.parentNode.insertBefore(tag, firstScriptTag);\n",
       "});\n",
       "};\n",
       "\n",
       "if(typeof $3Dmolpromise === 'undefined') {\n",
       "$3Dmolpromise = null;\n",
       "  $3Dmolpromise = loadScriptAsync('https://3dmol.org/build/3Dmol.js');\n",
       "}\n",
       "\n",
       "var viewer_1620894376502191 = null;\n",
       "var warn = document.getElementById(\"3dmolwarning_1620894376502191\");\n",
       "if(warn) {\n",
       "    warn.parentNode.removeChild(warn);\n",
       "}\n",
       "$3Dmolpromise.then(function() {\n",
       "viewer_1620894376502191 = $3Dmol.createViewer($(\"#3dmolviewer_1620894376502191\"),{backgroundColor:\"white\"});\n",
       "viewer_1620894376502191.addModel(\"\\n     RDKit          3D\\n\\n 43 46  0  0  0  0  0  0  0  0999 V2000\\n   -3.5297    2.0703    0.1454 C   0  0  0  0  0  0  0  0  0  0  0  0\\n   -2.1044    2.3264    0.1634 N   0  0  0  0  0  0  0  0  0  0  0  0\\n   -1.5626    3.5301    0.2480 C   0  0  0  0  0  0  0  0  0  0  0  0\\n   -0.2306    3.3500    0.2354 N   0  0  0  0  0  0  0  0  0  0  0  0\\n    0.0424    2.0339    0.1429 C   0  0  0  0  0  0  0  0  0  0  0  0\\n   -1.1716    1.3784    0.0969 C   0  0  0  0  0  0  0  0  0  0  0  0\\n   -1.1480   -0.0000   -0.0000 C   0  0  0  0  0  0  0  0  0  0  0  0\\n   -2.2475   -0.6087   -0.0428 O   0  0  0  0  0  0  0  0  0  0  0  0\\n    0.0020   -0.6951   -0.0488 N   0  0  0  0  0  0  0  0  0  0  0  0\\n    1.1480    0.0000   -0.0000 C   0  0  0  0  0  3  0  0  0  0  0  0\\n    1.1948    1.3382    0.0940 N   0  0  0  0  0  0  0  0  0  0  0  0\\n    2.4615    2.0444    0.1436 C   0  0  0  0  0  0  0  0  0  0  0  0\\n   -0.0192   -2.1422   -0.1505 C   0  0  0  0  0  0  0  0  0  0  0  0\\n   -3.9933    2.2809   -0.8368 H   0  0  0  0  0  0  0  0  0  0  0  0\\n   -3.8023    1.0616    0.4640 H   0  0  0  0  0  0  0  0  0  0  0  0\\n   -4.0218    2.7697    0.8831 H   0  0  0  0  0  0  0  0  0  0  0  0\\n   -2.0819    4.4880    0.3153 H   0  0  0  0  0  0  0  0  0  0  0  0\\n    2.3362    3.0558    0.5967 H   0  0  0  0  0  0  0  0  0  0  0  0\\n    2.9178    2.1822   -0.8378 H   0  0  0  0  0  0  0  0  0  0  0  0\\n    3.1847    1.4978    0.8162 H   0  0  0  0  0  0  0  0  0  0  0  0\\n   -0.9480   -2.5004   -0.6371 H   0  0  0  0  0  0  0  0  0  0  0  0\\n    0.1219   -2.6028    0.8696 H   0  0  0  0  0  0  0  0  0  0  0  0\\n    0.8549   -2.4787   -0.7416 H   0  0  0  0  0  0  0  0  0  0  0  0\\n    7.3819    0.0167    0.1261 N   0  0  0  0  0  0  0  0  0  0  0  0\\n    7.1701    0.2377    1.4129 C   0  0  0  0  0  0  0  0  0  0  0  0\\n    8.3817    0.3391    1.9863 N   0  0  0  0  0  0  0  0  0  0  0  0\\n    9.3357    0.1798    1.0484 C   0  0  0  0  0  0  0  0  0  0  0  0\\n    8.6836   -0.0280   -0.1505 C   0  0  0  0  0  0  0  0  0  0  0  0\\n    9.4638   -0.2198   -1.2750 C   0  0  0  0  0  0  0  0  0  0  0  0\\n    8.8816   -0.4102   -2.3731 O   0  0  0  0  0  0  0  0  0  0  0  0\\n   10.8075   -0.2082   -1.2251 N   0  0  0  0  0  0  0  0  0  0  0  0\\n   11.3809   -0.0013   -0.0304 C   0  0  0  0  0  0  0  0  0  0  0  0\\n   12.6232    0.0135    0.0390 O   0  0  0  0  0  0  0  0  0  0  0  0\\n   10.6816    0.1916    1.0991 N   0  0  0  0  0  0  0  0  0  0  0  0\\n   11.3496    0.4116    2.3684 C   0  0  0  0  0  0  0  0  0  0  0  0\\n   11.5881   -0.4140   -2.4306 C   0  0  0  0  0  0  0  0  0  0  0  0\\n    6.2081    0.3231    1.9218 H   0  0  0  0  0  0  0  0  0  0  0  0\\n   10.6731    0.1703    3.2216 H   0  0  0  0  0  0  0  0  0  0  0  0\\n   11.6907    1.4390    2.5045 H   0  0  0  0  0  0  0  0  0  0  0  0\\n   12.2291   -0.2885    2.4707 H   0  0  0  0  0  0  0  0  0  0  0  0\\n   11.0271   -0.1038   -3.3342 H   0  0  0  0  0  0  0  0  0  0  0  0\\n   11.9219   -1.4897   -2.4953 H   0  0  0  0  0  0  0  0  0  0  0  0\\n   12.5243    0.1741   -2.3632 H   0  0  0  0  0  0  0  0  0  0  0  0\\n  1  2  1  0\\n  2  3  1  0\\n  3  4  2  0\\n  4  5  1  0\\n  5  6  2  0\\n  6  7  1  0\\n  7  8  2  0\\n  7  9  1  0\\n  9 10  1  0\\n 10 11  1  0\\n 11 12  1  0\\n  9 13  1  0\\n  6  2  1  0\\n 11  5  1  0\\n  1 14  1  0\\n  1 15  1  0\\n  1 16  1  0\\n  3 17  1  0\\n 12 18  1  0\\n 12 19  1  0\\n 12 20  1  0\\n 13 21  1  0\\n 13 22  1  0\\n 13 23  1  0\\n 24 25  1  0\\n 25 26  2  0\\n 26 27  1  0\\n 27 28  2  0\\n 28 29  1  0\\n 29 30  2  0\\n 29 31  1  0\\n 31 32  1  0\\n 32 33  2  0\\n 32 34  1  0\\n 34 35  1  0\\n 31 36  1  0\\n 28 24  1  0\\n 34 27  1  0\\n 25 37  1  0\\n 35 38  1  0\\n 35 39  1  0\\n 35 40  1  0\\n 36 41  1  0\\n 36 42  1  0\\n 36 43  1  0\\n 10 24  1  0\\nM  END\\n\");\n",
       "viewer_1620894376502191.setStyle({\"stick\": {\"colorscheme\": \"cyanCarbon\"}});\n",
       "viewer_1620894376502191.zoomTo();\n",
       "\tviewer_1620894376502191.setBackgroundColor(\"0xeeeeee\");\n",
       "\tviewer_1620894376502191.zoomTo();\n",
       "viewer_1620894376502191.render();\n",
       "});\n",
       "</script>"
      ]
     },
     "metadata": {},
     "output_type": "display_data"
    }
   ],
   "source": [
    "fake_molecule = stk.ConstructedMolecule(stk.polymer.Linear(\n",
    "    building_blocks=(bb1, bb2),\n",
    "    repeating_unit='AB',\n",
    "    num_repeating_units=1,\n",
    "))\n",
    "show_stk_mol(fake_molecule)"
   ]
  },
  {
   "cell_type": "code",
   "execution_count": 54,
   "metadata": {},
   "outputs": [
    {
     "data": {
      "application/3dmoljs_load.v0": "<div id=\"3dmolviewer_1620894387873516\"  style=\"position: relative; width: 400px; height: 400px\">\n        <p id=\"3dmolwarning_1620894387873516\" style=\"background-color:#ffcccc;color:black\">You appear to be running in JupyterLab (or JavaScript failed to load for some other reason).  You need to install the 3dmol extension: <br>\n        <tt>jupyter labextension install jupyterlab_3dmol</tt></p>\n        </div>\n<script>\n\nvar loadScriptAsync = function(uri){\n  return new Promise((resolve, reject) => {\n    var tag = document.createElement('script');\n    tag.src = uri;\n    tag.async = true;\n    tag.onload = () => {\n      resolve();\n    };\n  var firstScriptTag = document.getElementsByTagName('script')[0];\n  firstScriptTag.parentNode.insertBefore(tag, firstScriptTag);\n});\n};\n\nif(typeof $3Dmolpromise === 'undefined') {\n$3Dmolpromise = null;\n  $3Dmolpromise = loadScriptAsync('https://3dmol.org/build/3Dmol.js');\n}\n\nvar viewer_1620894387873516 = null;\nvar warn = document.getElementById(\"3dmolwarning_1620894387873516\");\nif(warn) {\n    warn.parentNode.removeChild(warn);\n}\n$3Dmolpromise.then(function() {\nviewer_1620894387873516 = $3Dmol.createViewer($(\"#3dmolviewer_1620894387873516\"),{backgroundColor:\"white\"});\nviewer_1620894387873516.addModel(\"\\n     RDKit          3D\\n\\n 24 25  0  0  0  0  0  0  0  0999 V2000\\n    3.1151    1.0285    0.0693 C   0  0  0  0  0  0  0  0  0  0  0  0\\n    2.1375   -0.0378    0.1389 N   0  0  0  0  0  0  0  0  0  0  0  0\\n    2.4354   -1.3137    0.3201 C   0  0  0  0  0  0  0  0  0  0  0  0\\n    1.2680   -1.9801    0.3265 N   0  0  0  0  0  0  0  0  0  0  0  0\\n    0.2548   -1.1102    0.1488 C   0  0  0  0  0  0  0  0  0  0  0  0\\n    0.8229    0.1423    0.0283 C   0  0  0  0  0  0  0  0  0  0  0  0\\n   -0.0300    1.2127   -0.1640 C   0  0  0  0  0  0  0  0  0  0  0  0\\n    0.4753    2.3587   -0.2752 O   0  0  0  0  0  0  0  0  0  0  0  0\\n   -1.3643    1.0619   -0.2341 N   0  0  0  0  0  0  0  0  0  0  0  0\\n   -1.8543   -0.1804   -0.1097 C   0  0  0  0  0  0  0  0  0  0  0  0\\n   -3.0864   -0.3432   -0.1714 O   0  0  0  0  0  0  0  0  0  0  0  0\\n   -1.0817   -1.2619    0.0787 N   0  0  0  0  0  0  0  0  0  0  0  0\\n   -1.6609   -2.5862    0.2074 C   0  0  0  0  0  0  0  0  0  0  0  0\\n   -2.2230    2.2136   -0.4371 C   0  0  0  0  0  0  0  0  0  0  0  0\\n    3.6344    1.0744   -0.9065 H   0  0  0  0  0  0  0  0  0  0  0  0\\n    2.7121    2.0150    0.3101 H   0  0  0  0  0  0  0  0  0  0  0  0\\n    3.9129    0.8249    0.8422 H   0  0  0  0  0  0  0  0  0  0  0  0\\n    3.4276   -1.7524    0.4419 H   0  0  0  0  0  0  0  0  0  0  0  0\\n   -0.9584   -3.2793    0.7269 H   0  0  0  0  0  0  0  0  0  0  0  0\\n   -1.9167   -3.0407   -0.7509 H   0  0  0  0  0  0  0  0  0  0  0  0\\n   -2.5830   -2.5451    0.8571 H   0  0  0  0  0  0  0  0  0  0  0  0\\n   -1.6909    3.0267   -0.9693 H   0  0  0  0  0  0  0  0  0  0  0  0\\n   -2.6388    2.5639    0.5514 H   0  0  0  0  0  0  0  0  0  0  0  0\\n   -3.1078    1.9084   -1.0294 H   0  0  0  0  0  0  0  0  0  0  0  0\\n  1  2  1  0\\n  2  3  1  0\\n  3  4  2  0\\n  4  5  1  0\\n  5  6  2  0\\n  6  7  1  0\\n  7  8  2  0\\n  7  9  1  0\\n  9 10  1  0\\n 10 11  2  0\\n 10 12  1  0\\n 12 13  1  0\\n  9 14  1  0\\n  6  2  1  0\\n 12  5  1  0\\n  1 15  1  0\\n  1 16  1  0\\n  1 17  1  0\\n  3 18  1  0\\n 13 19  1  0\\n 13 20  1  0\\n 13 21  1  0\\n 14 22  1  0\\n 14 23  1  0\\n 14 24  1  0\\nM  END\\n\");\nviewer_1620894387873516.setStyle({\"stick\": {\"colorscheme\": \"cyanCarbon\"}});\nviewer_1620894387873516.zoomTo();\n\tviewer_1620894387873516.setBackgroundColor(\"0xeeeeee\");\n\tviewer_1620894387873516.zoomTo();\nviewer_1620894387873516.render();\n});\n</script>",
      "text/html": [
       "<div id=\"3dmolviewer_1620894387873516\"  style=\"position: relative; width: 400px; height: 400px\">\n",
       "        <p id=\"3dmolwarning_1620894387873516\" style=\"background-color:#ffcccc;color:black\">You appear to be running in JupyterLab (or JavaScript failed to load for some other reason).  You need to install the 3dmol extension: <br>\n",
       "        <tt>jupyter labextension install jupyterlab_3dmol</tt></p>\n",
       "        </div>\n",
       "<script>\n",
       "\n",
       "var loadScriptAsync = function(uri){\n",
       "  return new Promise((resolve, reject) => {\n",
       "    var tag = document.createElement('script');\n",
       "    tag.src = uri;\n",
       "    tag.async = true;\n",
       "    tag.onload = () => {\n",
       "      resolve();\n",
       "    };\n",
       "  var firstScriptTag = document.getElementsByTagName('script')[0];\n",
       "  firstScriptTag.parentNode.insertBefore(tag, firstScriptTag);\n",
       "});\n",
       "};\n",
       "\n",
       "if(typeof $3Dmolpromise === 'undefined') {\n",
       "$3Dmolpromise = null;\n",
       "  $3Dmolpromise = loadScriptAsync('https://3dmol.org/build/3Dmol.js');\n",
       "}\n",
       "\n",
       "var viewer_1620894387873516 = null;\n",
       "var warn = document.getElementById(\"3dmolwarning_1620894387873516\");\n",
       "if(warn) {\n",
       "    warn.parentNode.removeChild(warn);\n",
       "}\n",
       "$3Dmolpromise.then(function() {\n",
       "viewer_1620894387873516 = $3Dmol.createViewer($(\"#3dmolviewer_1620894387873516\"),{backgroundColor:\"white\"});\n",
       "viewer_1620894387873516.addModel(\"\\n     RDKit          3D\\n\\n 24 25  0  0  0  0  0  0  0  0999 V2000\\n    3.1151    1.0285    0.0693 C   0  0  0  0  0  0  0  0  0  0  0  0\\n    2.1375   -0.0378    0.1389 N   0  0  0  0  0  0  0  0  0  0  0  0\\n    2.4354   -1.3137    0.3201 C   0  0  0  0  0  0  0  0  0  0  0  0\\n    1.2680   -1.9801    0.3265 N   0  0  0  0  0  0  0  0  0  0  0  0\\n    0.2548   -1.1102    0.1488 C   0  0  0  0  0  0  0  0  0  0  0  0\\n    0.8229    0.1423    0.0283 C   0  0  0  0  0  0  0  0  0  0  0  0\\n   -0.0300    1.2127   -0.1640 C   0  0  0  0  0  0  0  0  0  0  0  0\\n    0.4753    2.3587   -0.2752 O   0  0  0  0  0  0  0  0  0  0  0  0\\n   -1.3643    1.0619   -0.2341 N   0  0  0  0  0  0  0  0  0  0  0  0\\n   -1.8543   -0.1804   -0.1097 C   0  0  0  0  0  0  0  0  0  0  0  0\\n   -3.0864   -0.3432   -0.1714 O   0  0  0  0  0  0  0  0  0  0  0  0\\n   -1.0817   -1.2619    0.0787 N   0  0  0  0  0  0  0  0  0  0  0  0\\n   -1.6609   -2.5862    0.2074 C   0  0  0  0  0  0  0  0  0  0  0  0\\n   -2.2230    2.2136   -0.4371 C   0  0  0  0  0  0  0  0  0  0  0  0\\n    3.6344    1.0744   -0.9065 H   0  0  0  0  0  0  0  0  0  0  0  0\\n    2.7121    2.0150    0.3101 H   0  0  0  0  0  0  0  0  0  0  0  0\\n    3.9129    0.8249    0.8422 H   0  0  0  0  0  0  0  0  0  0  0  0\\n    3.4276   -1.7524    0.4419 H   0  0  0  0  0  0  0  0  0  0  0  0\\n   -0.9584   -3.2793    0.7269 H   0  0  0  0  0  0  0  0  0  0  0  0\\n   -1.9167   -3.0407   -0.7509 H   0  0  0  0  0  0  0  0  0  0  0  0\\n   -2.5830   -2.5451    0.8571 H   0  0  0  0  0  0  0  0  0  0  0  0\\n   -1.6909    3.0267   -0.9693 H   0  0  0  0  0  0  0  0  0  0  0  0\\n   -2.6388    2.5639    0.5514 H   0  0  0  0  0  0  0  0  0  0  0  0\\n   -3.1078    1.9084   -1.0294 H   0  0  0  0  0  0  0  0  0  0  0  0\\n  1  2  1  0\\n  2  3  1  0\\n  3  4  2  0\\n  4  5  1  0\\n  5  6  2  0\\n  6  7  1  0\\n  7  8  2  0\\n  7  9  1  0\\n  9 10  1  0\\n 10 11  2  0\\n 10 12  1  0\\n 12 13  1  0\\n  9 14  1  0\\n  6  2  1  0\\n 12  5  1  0\\n  1 15  1  0\\n  1 16  1  0\\n  1 17  1  0\\n  3 18  1  0\\n 13 19  1  0\\n 13 20  1  0\\n 13 21  1  0\\n 14 22  1  0\\n 14 23  1  0\\n 14 24  1  0\\nM  END\\n\");\n",
       "viewer_1620894387873516.setStyle({\"stick\": {\"colorscheme\": \"cyanCarbon\"}});\n",
       "viewer_1620894387873516.zoomTo();\n",
       "\tviewer_1620894387873516.setBackgroundColor(\"0xeeeeee\");\n",
       "\tviewer_1620894387873516.zoomTo();\n",
       "viewer_1620894387873516.render();\n",
       "});\n",
       "</script>"
      ]
     },
     "metadata": {},
     "output_type": "display_data"
    }
   ],
   "source": [
    "show_stk_mol(ca)"
   ]
  },
  {
   "cell_type": "code",
   "execution_count": null,
   "metadata": {},
   "outputs": [],
   "source": []
  }
 ],
 "metadata": {
  "kernelspec": {
   "display_name": "stkdevel",
   "language": "python",
   "name": "stkdevel"
  },
  "language_info": {
   "codemirror_mode": {
    "name": "ipython",
    "version": 3
   },
   "file_extension": ".py",
   "mimetype": "text/x-python",
   "name": "python",
   "nbconvert_exporter": "python",
   "pygments_lexer": "ipython3",
   "version": "3.7.3"
  }
 },
 "nbformat": 4,
 "nbformat_minor": 2
}
