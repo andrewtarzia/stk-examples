{
 "cells": [
  {
   "cell_type": "markdown",
   "metadata": {},
   "source": [
    "# Cage building in stk\n",
    "\n",
    "by: Andrew Tarzia"
   ]
  },
  {
   "cell_type": "markdown",
   "metadata": {},
   "source": [
    "### Update 25/02/24\n",
    "\n",
    "Installation of py3Dmol using `pip install py3Dmol` is required."
   ]
  },
  {
   "cell_type": "markdown",
   "metadata": {},
   "source": [
    "# Imports "
   ]
  },
  {
   "cell_type": "code",
   "execution_count": null,
   "metadata": {},
   "outputs": [],
   "source": [
    "import sys\n",
    "sys.path.append('/usr/local/lib/python3.7/site-packages/')\n",
    "\n",
    "from rdkit import Chem \n",
    "from rdkit.Chem import AllChem as rdkit\n",
    "from collections import defaultdict\n",
    "from rdkit.Chem import rdFMCS\n",
    "from rdkit.Chem import Draw\n",
    "from rdkit.Chem.Draw import IPythonConsole\n",
    "from rdkit.Chem import rdDistGeom\n",
    "IPythonConsole.ipython_3d = True\n",
    "\n",
    "import py3Dmol\n",
    "from IPython.display import Image\n",
    "import matplotlib.pyplot as plt\n",
    "import subprocess\n",
    "import time\n",
    "import stk\n",
    "import stko\n",
    "import spindry as spd\n",
    "%matplotlib inline"
   ]
  },
  {
   "cell_type": "code",
   "execution_count": null,
   "metadata": {},
   "outputs": [],
   "source": [
    "def show_stk_mol(stk_mol):\n",
    "    data = rdkit.MolToMolBlock(stk_mol.to_rdkit_mol())\n",
    "    p = py3Dmol.view(\n",
    "        data=data,\n",
    "        style={'stick':{'colorscheme':'cyanCarbon'}}, \n",
    "        width=400,\n",
    "        height=400,\n",
    "    )\n",
    "    p.setBackgroundColor('0xeeeeee')\n",
    "    p.zoomTo()\n",
    "    p.show()"
   ]
  },
  {
   "cell_type": "markdown",
   "metadata": {},
   "source": [
    "# Working"
   ]
  },
  {
   "cell_type": "code",
   "execution_count": null,
   "metadata": {},
   "outputs": [],
   "source": [
    "bb1 = stk.BuildingBlock('NCCN', [stk.PrimaryAminoFactory()])\n",
    "bb2 = stk.BuildingBlock(\n",
    "    smiles='C1=CC(=C(C=C1Br)CBr)Br',\n",
    "    functional_groups=[stk.BromoFactory()],\n",
    ")\n",
    "cage1 = stk.ConstructedMolecule(\n",
    "    topology_graph=stk.cage.FourPlusSix(\n",
    "        building_blocks=(bb1, bb2),\n",
    "        optimizer=stk.MCHammer(),\n",
    "    ),\n",
    ")"
   ]
  },
  {
   "cell_type": "code",
   "execution_count": null,
   "metadata": {},
   "outputs": [],
   "source": [
    "show_stk_mol(cage1)"
   ]
  },
  {
   "cell_type": "code",
   "execution_count": null,
   "metadata": {},
   "outputs": [],
   "source": [
    "cage1 = stk.ConstructedMolecule(\n",
    "    topology_graph=stk.cage.FourPlusSix(\n",
    "        (bb1, bb2),\n",
    "        vertex_alignments={0: 1},\n",
    "    ),\n",
    ")"
   ]
  },
  {
   "cell_type": "code",
   "execution_count": null,
   "metadata": {},
   "outputs": [],
   "source": [
    "show_stk_mol(cage1)"
   ]
  },
  {
   "cell_type": "code",
   "execution_count": null,
   "metadata": {},
   "outputs": [],
   "source": [
    "# Produce a Pd+2 atom with 4 functional groups.\n",
    "palladium_atom = stk.BuildingBlock(\n",
    "    smiles='[Pd+2]',\n",
    "    functional_groups=(\n",
    "        stk.SingleAtom(stk.Pd(0, charge=2))\n",
    "        for i in range(4)\n",
    "    ),\n",
    "    position_matrix=[[0., 0., 0.]],\n",
    ")\n",
    "\n",
    "# Build a building block with two functional groups using\n",
    "# the SmartsFunctionalGroupFactory.\n",
    "bb1 = stk.BuildingBlock(\n",
    "    smiles=(\n",
    "        'C1=NC=CC(C2=CC=CC(C3=C'\n",
    "        'C=NC=C3)=C2)=C1'\n",
    "    ),\n",
    "    functional_groups=[\n",
    "        stk.SmartsFunctionalGroupFactory(\n",
    "            smarts='[#6]~[#7X2]~[#6]',\n",
    "            bonders=(1, ),\n",
    "            deleters=(),\n",
    "        ),\n",
    "    ],\n",
    ")\n",
    "\n",
    "cage1 = stk.ConstructedMolecule(\n",
    "    stk.cage.M2L4Lantern(\n",
    "        building_blocks=(palladium_atom, bb1),\n",
    "        # Ensure that bonds between the GenericFunctionalGroups\n",
    "        # of the ligand and the SingleAtom functional groups\n",
    "        # of the metal are dative.\n",
    "        reaction_factory=stk.DativeReactionFactory(\n",
    "            stk.GenericReactionFactory(\n",
    "                bond_orders={\n",
    "                    frozenset({\n",
    "                        stk.GenericFunctionalGroup,\n",
    "                        stk.SingleAtom\n",
    "                    }): 9\n",
    "                }\n",
    "            )\n",
    "        ),\n",
    "#         optimizer=stk.MCHammer(),\n",
    "    )\n",
    ")\n",
    "show_stk_mol(cage1)"
   ]
  },
  {
   "cell_type": "code",
   "execution_count": null,
   "metadata": {},
   "outputs": [],
   "source": [
    "# Produce a Fe+2 atom with 6 functional groups.\n",
    "iron_atom = stk.BuildingBlock(\n",
    "    smiles='[Fe+2]',\n",
    "    functional_groups=(\n",
    "        stk.SingleAtom(stk.Fe(0, charge=2))\n",
    "        for i in range(6)\n",
    "    ),\n",
    "    position_matrix=[[0, 0, 0]],\n",
    ")\n",
    "\n",
    "# Define coordinating ligand with dummy bromine groups and\n",
    "# metal coordianting functional groups.\n",
    "bb2 = stk.BuildingBlock(\n",
    "    smiles='C1=NC(C=NBr)=CC=C1',\n",
    "    functional_groups=[\n",
    "        stk.SmartsFunctionalGroupFactory(\n",
    "            smarts='[#6]~[#7X2]~[#35]',\n",
    "            bonders=(1, ),\n",
    "            deleters=(),\n",
    "        ),\n",
    "        stk.SmartsFunctionalGroupFactory(\n",
    "            smarts='[#6]~[#7X2]~[#6]',\n",
    "            bonders=(1, ),\n",
    "            deleters=(),\n",
    "        ),\n",
    "    ]\n",
    ")\n",
    "\n",
    "# Build iron complex with delta stereochemistry.\n",
    "iron_oct_delta = stk.ConstructedMolecule(\n",
    "    stk.metal_complex.OctahedralDelta(\n",
    "        metals=iron_atom,\n",
    "        ligands=bb2,\n",
    "        optimizer=stk.MCHammer(),\n",
    "    )\n",
    ")\n",
    "show_stk_mol(iron_oct_delta)"
   ]
  },
  {
   "cell_type": "code",
   "execution_count": null,
   "metadata": {},
   "outputs": [],
   "source": [
    "# Assign Bromo functional groups to the metal complex.\n",
    "iron_oct_delta = stk.BuildingBlock.init_from_molecule(\n",
    "    molecule=iron_oct_delta,\n",
    "    functional_groups=[stk.BromoFactory()],\n",
    ")\n",
    "\n",
    "# Define spacer building block.\n",
    "bb3 = stk.BuildingBlock(\n",
    "    smiles=(\n",
    "        'C1=CC(C2=CC=C(Br)C=C2)=C'\n",
    "        'C=C1Br'\n",
    "    ),\n",
    "    functional_groups=[stk.BromoFactory()],\n",
    ")\n",
    "\n",
    "# Build an M4L6 Tetrahedron with a spacer.\n",
    "cage2 = stk.ConstructedMolecule(\n",
    "    stk.cage.M4L6TetrahedronSpacer(\n",
    "        building_blocks=(\n",
    "            iron_oct_delta,\n",
    "            bb3,\n",
    "        ),\n",
    "        optimizer=stk.MCHammer(),\n",
    "    )\n",
    ")"
   ]
  },
  {
   "cell_type": "code",
   "execution_count": null,
   "metadata": {},
   "outputs": [],
   "source": [
    "show_stk_mol(cage2)"
   ]
  }
 ],
 "metadata": {
  "kernelspec": {
   "display_name": "exampledev",
   "language": "python",
   "name": "exampledev"
  },
  "language_info": {
   "codemirror_mode": {
    "name": "ipython",
    "version": 3
   },
   "file_extension": ".py",
   "mimetype": "text/x-python",
   "name": "python",
   "nbconvert_exporter": "python",
   "pygments_lexer": "ipython3",
   "version": "3.11.8"
  }
 },
 "nbformat": 4,
 "nbformat_minor": 4
}
