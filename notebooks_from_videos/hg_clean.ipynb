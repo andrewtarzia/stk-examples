{
 "cells": [
  {
   "cell_type": "markdown",
   "metadata": {
    "id": "KwVJ_GZ1iepz"
   },
   "source": [
    "# Host-guest usage with stk\n",
    "\n",
    "by: Andrew Tarzia"
   ]
  },
  {
   "cell_type": "markdown",
   "metadata": {},
   "source": [
    "### Update 25/02/24\n",
    "\n",
    "Installation of py3Dmol using `pip install py3Dmol` is required.\n",
    "\n",
    "#### Using latest version of `SpinDry` and `stk`.\n",
    "\n",
    "- Changes in `SpinDry.Molecule` means we now use `spd.Molecule()` not `spd.Molecule.init()`\n",
    "- `spd.Spinner.get_conformers` should now take `spd.Supramolecule`, which we initialise from components.\n",
    "- To then access those components, you must do that through the `Supramolecule` interface.\n",
    "- Finally, we had to change to using the `stk.complex.Guest` interface.\n",
    "- See https://stk.readthedocs.io/en/stable/_autosummary/stk.host_guest.Complex.html\n",
    "- See https://github.com/andrewtarzia/SpinDry/blob/main/examples/"
   ]
  },
  {
   "cell_type": "markdown",
   "metadata": {},
   "source": [
    "# Imports "
   ]
  },
  {
   "cell_type": "code",
   "execution_count": null,
   "metadata": {
    "id": "VMIP6XDKoo06"
   },
   "outputs": [],
   "source": [
    "import sys\n",
    "sys.path.append('/usr/local/lib/python3.7/site-packages/')\n",
    "\n",
    "from rdkit import Chem \n",
    "from rdkit.Chem import AllChem as rdkit\n",
    "from collections import defaultdict\n",
    "from rdkit.Chem import rdFMCS\n",
    "from rdkit.Chem import Draw\n",
    "from rdkit.Chem.Draw import IPythonConsole\n",
    "from rdkit.Chem import rdDistGeom\n",
    "IPythonConsole.ipython_3d = True\n",
    "\n",
    "import py3Dmol\n",
    "from IPython.display import Image\n",
    "import matplotlib.pyplot as plt\n",
    "import subprocess\n",
    "import time\n",
    "import stk\n",
    "import stko\n",
    "import spindry as spd\n",
    "%matplotlib inline"
   ]
  },
  {
   "cell_type": "markdown",
   "metadata": {},
   "source": [
    "# Some useful functions "
   ]
  },
  {
   "cell_type": "code",
   "execution_count": null,
   "metadata": {
    "id": "Wu-nsRJ7pav4"
   },
   "outputs": [],
   "source": [
    "def show_stk_mol(stk_mol):\n",
    "    data = rdkit.MolToMolBlock(stk_mol.to_rdkit_mol())\n",
    "    p = py3Dmol.view(\n",
    "        data=data,\n",
    "        style={'stick':{'colorscheme':'cyanCarbon'}}, \n",
    "        width=400,\n",
    "        height=400,\n",
    "    )\n",
    "    p.setBackgroundColor('0xeeeeee')\n",
    "    p.zoomTo()\n",
    "    p.show()"
   ]
  },
  {
   "cell_type": "markdown",
   "metadata": {},
   "source": [
    "Working:"
   ]
  },
  {
   "cell_type": "code",
   "execution_count": null,
   "metadata": {},
   "outputs": [],
   "source": [
    "# Produce a Pd+2 atom with 4 functional groups.\n",
    "palladium_atom = stk.BuildingBlock(\n",
    "    smiles='[Pd+2]',\n",
    "    functional_groups=(\n",
    "        stk.SingleAtom(stk.Pd(0, charge=2))\n",
    "        for i in range(4)\n",
    "    ),\n",
    "    position_matrix=[[0., 0., 0.]],\n",
    ")\n",
    "\n",
    "# Build a building block with two functional groups using\n",
    "# the SmartsFunctionalGroupFactory.\n",
    "bb1 = stk.BuildingBlock(\n",
    "    smiles=(\n",
    "        'C1=NC=CC(C2=CC=CC(C3=CC=NC=C3)=C2)=C1'\n",
    "    ),\n",
    "    functional_groups=[\n",
    "        stk.SmartsFunctionalGroupFactory(\n",
    "            smarts='[#6]~[#7X2]~[#6]',\n",
    "            bonders=(1, ),\n",
    "            deleters=(),\n",
    "        ),\n",
    "    ],\n",
    ")\n",
    "\n",
    "cage1 = stk.ConstructedMolecule(\n",
    "    stk.cage.M6L12Cube(\n",
    "        building_blocks=(palladium_atom, bb1),\n",
    "        # Ensure that bonds between the GenericFunctionalGroups\n",
    "        # of the ligand and the SingleAtom functional groups\n",
    "        # of the metal are dative.\n",
    "        reaction_factory=stk.DativeReactionFactory(\n",
    "            stk.GenericReactionFactory(\n",
    "                bond_orders={\n",
    "                    frozenset({\n",
    "                        stk.GenericFunctionalGroup,\n",
    "                        stk.SingleAtom\n",
    "                    }): 9\n",
    "                }\n",
    "            )\n",
    "        ),\n",
    "        optimizer=stk.MCHammer(num_steps=2000),\n",
    "    )\n",
    ")"
   ]
  },
  {
   "cell_type": "code",
   "execution_count": null,
   "metadata": {},
   "outputs": [],
   "source": [
    "show_stk_mol(cage1)"
   ]
  },
  {
   "cell_type": "code",
   "execution_count": null,
   "metadata": {},
   "outputs": [],
   "source": [
    "stk_guest = stk.BuildingBlock('C1C(O[H])C2C(C=CC(=C2)CP([H])[H])CC1')\n",
    "show_stk_mol(stk_guest)"
   ]
  },
  {
   "cell_type": "code",
   "execution_count": null,
   "metadata": {},
   "outputs": [],
   "source": [
    "cage_atoms = [\n",
    "    (atom.get_id(), atom.__class__.__name__)\n",
    "    for atom in cage1.get_atoms()\n",
    "]\n",
    "stk_mol_atoms = [\n",
    "    (atom.get_id(), atom.__class__.__name__)\n",
    "    for atom in stk_guest.get_atoms()\n",
    "]"
   ]
  },
  {
   "cell_type": "code",
   "execution_count": null,
   "metadata": {},
   "outputs": [],
   "source": [
    "host = spd.Molecule(\n",
    "    atoms=(\n",
    "        spd.Atom(id=i[0], element_string=i[1])\n",
    "        for i in cage_atoms\n",
    "    ),\n",
    "    bonds=(),\n",
    "    position_matrix=cage1.get_position_matrix(),\n",
    ")\n",
    "guest = spd.Molecule(\n",
    "    atoms=(\n",
    "        spd.Atom(id=i[0], element_string=i[1])\n",
    "        for i in stk_mol_atoms\n",
    "    ),\n",
    "    bonds=(),\n",
    "    position_matrix=stk_guest.get_position_matrix(),\n",
    ")"
   ]
  },
  {
   "cell_type": "code",
   "execution_count": null,
   "metadata": {},
   "outputs": [],
   "source": [
    "print(host, guest)"
   ]
  },
  {
   "cell_type": "code",
   "execution_count": null,
   "metadata": {},
   "outputs": [],
   "source": [
    "cg = spd.Spinner(\n",
    "    step_size=0.5,\n",
    "    rotation_step_size=5,\n",
    "    num_conformers=100,\n",
    "    max_attempts=2000,\n",
    ")"
   ]
  },
  {
   "cell_type": "code",
   "execution_count": null,
   "metadata": {},
   "outputs": [],
   "source": [
    "supramolecule = spd.SupraMolecule.init_from_components(components=(host, guest))"
   ]
  },
  {
   "cell_type": "code",
   "execution_count": null,
   "metadata": {},
   "outputs": [],
   "source": [
    "energies = {}\n",
    "for conformer in cg.get_conformers(supramolecule):\n",
    "    print(conformer)\n",
    "    print(conformer.get_cid(), conformer.get_potential())\n",
    "    for i, comp in enumerate(list(conformer.get_components())):\n",
    "        if i == 0:\n",
    "            cage1 = cage1.with_position_matrix(comp.get_position_matrix())\n",
    "        elif i == 1:\n",
    "            stk_guest = stk_guest.with_position_matrix(comp.get_position_matrix())\n",
    "\n",
    "    complex_mol = stk.ConstructedMolecule(\n",
    "        topology_graph=stk.host_guest.Complex(\n",
    "            host=stk.BuildingBlock.init_from_molecule(cage1), \n",
    "            guests=stk.host_guest.Guest(stk_guest),\n",
    "        )\n",
    "    )\n",
    "    complex_mol.write(\n",
    "        f'hg_example_output/hg_conf_{conformer.get_cid()}.mol'\n",
    "    )\n",
    "    energies[conformer.get_cid()] = stko.UFFEnergy(ignore_inter_interactions=False).get_energy(complex_mol)"
   ]
  },
  {
   "cell_type": "code",
   "execution_count": null,
   "metadata": {},
   "outputs": [],
   "source": [
    "energies"
   ]
  }
 ],
 "metadata": {
  "colab": {
   "collapsed_sections": [],
   "name": "Workshop1.ipynb",
   "provenance": [],
   "toc_visible": true
  },
  "kernelspec": {
   "display_name": "Python 3 (ipykernel)",
   "language": "python",
   "name": "python3"
  },
  "language_info": {
   "codemirror_mode": {
    "name": "ipython",
    "version": 3
   },
   "file_extension": ".py",
   "mimetype": "text/x-python",
   "name": "python",
   "nbconvert_exporter": "python",
   "pygments_lexer": "ipython3",
   "version": "3.11.8"
  }
 },
 "nbformat": 4,
 "nbformat_minor": 4
}
