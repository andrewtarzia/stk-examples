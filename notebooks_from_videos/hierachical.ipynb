{
 "cells": [
  {
   "cell_type": "markdown",
   "metadata": {},
   "source": [
    "# Hierarchical construction with stk\n",
    "\n",
    "by: Andrew Tarzia"
   ]
  },
  {
   "cell_type": "markdown",
   "metadata": {},
   "source": [
    "# Imports "
   ]
  },
  {
   "cell_type": "code",
   "execution_count": 9,
   "metadata": {},
   "outputs": [],
   "source": [
    "import sys\n",
    "sys.path.append('/usr/local/lib/python3.7/site-packages/')\n",
    "\n",
    "from rdkit import Chem \n",
    "from rdkit.Chem import AllChem as rdkit\n",
    "from collections import defaultdict\n",
    "from rdkit.Chem import rdFMCS\n",
    "from rdkit.Chem import Draw\n",
    "from rdkit.Chem.Draw import IPythonConsole\n",
    "from rdkit.Chem import rdDistGeom\n",
    "IPythonConsole.ipython_3d = True\n",
    "\n",
    "import py3Dmol\n",
    "from IPython.display import Image\n",
    "import matplotlib.pyplot as plt\n",
    "from itertools import product\n",
    "import subprocess\n",
    "import time\n",
    "import stk\n",
    "import stko\n",
    "import spindry as spd\n",
    "%matplotlib inline"
   ]
  },
  {
   "cell_type": "code",
   "execution_count": 3,
   "metadata": {},
   "outputs": [],
   "source": [
    "def show_stk_mol(stk_mol):\n",
    "    data = rdkit.MolToMolBlock(stk_mol.to_rdkit_mol())\n",
    "    p = py3Dmol.view(\n",
    "        data=data,\n",
    "        style={'stick':{'colorscheme':'cyanCarbon'}}, \n",
    "        width=400,\n",
    "        height=400,\n",
    "    )\n",
    "    p.setBackgroundColor('0xeeeeee')\n",
    "    p.zoomTo()\n",
    "    p.show()"
   ]
  },
  {
   "cell_type": "markdown",
   "metadata": {},
   "source": [
    "# Working"
   ]
  },
  {
   "cell_type": "code",
   "execution_count": 16,
   "metadata": {},
   "outputs": [],
   "source": [
    "bb1 = stk.BuildingBlock('NCCN', [stk.PrimaryAminoFactory()])\n",
    "bb2 = stk.BuildingBlock(\n",
    "    'C1(=CC=C(C=C1N)Br)Br', [stk.BromoFactory()]\n",
    ")\n",
    "macrocycle = stk.ConstructedMolecule(\n",
    "    topology_graph=stk.macrocycle.Macrocycle(\n",
    "        building_blocks=(bb1, bb2),\n",
    "        repeating_unit='AB',\n",
    "        num_repeating_units=3,\n",
    "        orientations=(0, 0.5),\n",
    "        optimizer=stk.MCHammer(target_bond_length=3)\n",
    "    ),\n",
    ")"
   ]
  },
  {
   "cell_type": "code",
   "execution_count": 17,
   "metadata": {},
   "outputs": [
    {
     "data": {
      "application/3dmoljs_load.v0": "<div id=\"3dmolviewer_16208984504918635\"  style=\"position: relative; width: 400px; height: 400px\">\n        <p id=\"3dmolwarning_16208984504918635\" style=\"background-color:#ffcccc;color:black\">You appear to be running in JupyterLab (or JavaScript failed to load for some other reason).  You need to install the 3dmol extension: <br>\n        <tt>jupyter labextension install jupyterlab_3dmol</tt></p>\n        </div>\n<script>\n\nvar loadScriptAsync = function(uri){\n  return new Promise((resolve, reject) => {\n    var tag = document.createElement('script');\n    tag.src = uri;\n    tag.async = true;\n    tag.onload = () => {\n      resolve();\n    };\n  var firstScriptTag = document.getElementsByTagName('script')[0];\n  firstScriptTag.parentNode.insertBefore(tag, firstScriptTag);\n});\n};\n\nif(typeof $3Dmolpromise === 'undefined') {\n$3Dmolpromise = null;\n  $3Dmolpromise = loadScriptAsync('https://3dmol.org/build/3Dmol.js');\n}\n\nvar viewer_16208984504918635 = null;\nvar warn = document.getElementById(\"3dmolwarning_16208984504918635\");\nif(warn) {\n    warn.parentNode.removeChild(warn);\n}\n$3Dmolpromise.then(function() {\nviewer_16208984504918635 = $3Dmol.createViewer($(\"#3dmolviewer_16208984504918635\"),{backgroundColor:\"white\"});\nviewer_16208984504918635.addModel(\"\\n     RDKit          3D\\n\\n 60 63  0  0  0  0  0  0  0  0999 V2000\\n    4.9411    1.7614    0.0055 N   0  0  0  0  0  2  0  0  0  0  0  0\\n    6.0697    0.9787    0.4275 C   0  0  0  0  0  0  0  0  0  0  0  0\\n    6.0781   -0.3853   -0.2566 C   0  0  0  0  0  0  0  0  0  0  0  0\\n    4.9411   -1.1646    0.0055 N   0  0  0  0  0  2  0  0  0  0  0  0\\n    6.0614    0.8547    1.5302 H   0  0  0  0  0  0  0  0  0  0  0  0\\n    6.9824    1.5076    0.0776 H   0  0  0  0  0  0  0  0  0  0  0  0\\n    6.0977   -0.1514   -1.3599 H   0  0  0  0  0  0  0  0  0  0  0  0\\n    7.0047   -0.9186    0.0089 H   0  0  0  0  0  0  0  0  0  0  0  0\\n   -4.3526    3.9184    0.0048 N   0  0  0  0  0  2  0  0  0  0  0  0\\n   -4.2391    5.2872    0.4269 C   0  0  0  0  0  0  0  0  0  0  0  0\\n   -3.0621    5.9764   -0.2573 C   0  0  0  0  0  0  0  0  0  0  0  0\\n   -1.8186    5.3814    0.0048 N   0  0  0  0  0  2  0  0  0  0  0  0\\n   -4.1276    5.3420    1.5295 H   0  0  0  0  0  0  0  0  0  0  0  0\\n   -5.1535    5.8131    0.0770 H   0  0  0  0  0  0  0  0  0  0  0  0\\n   -3.2744    5.8764   -1.3606 H   0  0  0  0  0  0  0  0  0  0  0  0\\n   -3.0635    7.0456    0.0082 H   0  0  0  0  0  0  0  0  0  0  0  0\\n   -2.1308   -6.5682    0.0011 N   0  0  0  0  0  2  0  0  0  0  0  0\\n   -3.3730   -7.1543    0.4232 C   0  0  0  0  0  0  0  0  0  0  0  0\\n   -4.5584   -6.4795   -0.2609 C   0  0  0  0  0  0  0  0  0  0  0  0\\n   -4.6648   -5.1052    0.0011 N   0  0  0  0  0  2  0  0  0  0  0  0\\n   -3.4762   -7.0851    1.5258 H   0  0  0  0  0  0  0  0  0  0  0  0\\n   -3.3713   -8.2091    0.0733 H   0  0  0  0  0  0  0  0  0  0  0  0\\n   -4.3657   -6.6134   -1.3642 H   0  0  0  0  0  0  0  0  0  0  0  0\\n   -5.4836   -7.0154    0.0046 H   0  0  0  0  0  0  0  0  0  0  0  0\\n    1.2340    5.9210   -0.0002 C   0  0  0  0  0  0  0  0  0  0  0  0\\n    2.4303    6.5855   -0.1822 C   0  0  0  0  0  0  0  0  0  0  0  0\\n    3.6224    5.8927   -0.1816 C   0  0  0  0  0  0  0  0  0  0  0  0\\n    3.6512    4.5254   -0.0002 C   0  0  0  0  0  0  0  0  0  0  0  0\\n    2.4533    3.8654    0.1813 C   0  0  0  0  0  0  0  0  0  0  0  0\\n    1.2700    4.5582    0.1800 C   0  0  0  0  0  0  0  0  0  0  0  0\\n    0.0128    3.8799    0.3685 N   0  0  0  0  0  0  0  0  0  0  0  0\\n    2.4186    7.6607   -0.3257 H   0  0  0  0  0  0  0  0  0  0  0  0\\n    4.5383    6.4519   -0.3277 H   0  0  0  0  0  0  0  0  0  0  0  0\\n    2.4179    2.7753    0.3304 H   0  0  0  0  0  0  0  0  0  0  0  0\\n   -0.4917    3.5435   -0.5054 H   0  0  0  0  0  0  0  0  0  0  0  0\\n   -0.3588    3.7397    1.3190 H   0  0  0  0  0  0  0  0  0  0  0  0\\n   -5.5755   -1.8665   -0.0059 C   0  0  0  0  0  0  0  0  0  0  0  0\\n   -6.7491   -1.1628   -0.1879 C   0  0  0  0  0  0  0  0  0  0  0  0\\n   -6.7452    0.2160   -0.1873 C   0  0  0  0  0  0  0  0  0  0  0  0\\n   -5.5755    0.9246   -0.0059 C   0  0  0  0  0  0  0  0  0  0  0  0\\n   -4.4050    0.2172    0.1756 C   0  0  0  0  0  0  0  0  0  0  0  0\\n   -4.4133   -1.1540    0.1743 C   0  0  0  0  0  0  0  0  0  0  0  0\\n   -3.1972   -1.9035    0.3629 N   0  0  0  0  0  0  0  0  0  0  0  0\\n   -7.6745   -1.7105   -0.3314 H   0  0  0  0  0  0  0  0  0  0  0  0\\n   -7.6875    0.7296   -0.3334 H   0  0  0  0  0  0  0  0  0  0  0  0\\n   -3.4431    0.7316    0.3247 H   0  0  0  0  0  0  0  0  0  0  0  0\\n   -2.6537   -2.1723   -0.5111 H   0  0  0  0  0  0  0  0  0  0  0  0\\n   -2.8901   -2.1553    1.3133 H   0  0  0  0  0  0  0  0  0  0  0  0\\n    3.1628   -3.7938   -0.0028 C   0  0  0  0  0  0  0  0  0  0  0  0\\n    3.1401   -5.1621   -0.1848 C   0  0  0  0  0  0  0  0  0  0  0  0\\n    1.9441   -5.8480   -0.1842 C   0  0  0  0  0  0  0  0  0  0  0  0\\n    0.7455   -5.1894   -0.0028 C   0  0  0  0  0  0  0  0  0  0  0  0\\n    0.7730   -3.8220    0.1787 C   0  0  0  0  0  0  0  0  0  0  0  0\\n    1.9646   -3.1436    0.1774 C   0  0  0  0  0  0  0  0  0  0  0  0\\n    2.0057   -1.7157    0.3659 N   0  0  0  0  0  0  0  0  0  0  0  0\\n    4.0771   -5.6896   -0.3283 H   0  0  0  0  0  0  0  0  0  0  0  0\\n    1.9704   -6.9209   -0.3303 H   0  0  0  0  0  0  0  0  0  0  0  0\\n   -0.1534   -3.2462    0.3278 H   0  0  0  0  0  0  0  0  0  0  0  0\\n    1.9666   -1.1105   -0.5080 H   0  0  0  0  0  0  0  0  0  0  0  0\\n    2.0701   -1.3238    1.3164 H   0  0  0  0  0  0  0  0  0  0  0  0\\n  1  2  1  0\\n  2  3  1  0\\n  3  4  1  0\\n  2  5  1  0\\n  2  6  1  0\\n  3  7  1  0\\n  3  8  1  0\\n  9 10  1  0\\n 10 11  1  0\\n 11 12  1  0\\n 10 13  1  0\\n 10 14  1  0\\n 11 15  1  0\\n 11 16  1  0\\n 17 18  1  0\\n 18 19  1  0\\n 19 20  1  0\\n 18 21  1  0\\n 18 22  1  0\\n 19 23  1  0\\n 19 24  1  0\\n 25 26  2  0\\n 26 27  1  0\\n 27 28  2  0\\n 28 29  1  0\\n 29 30  2  0\\n 30 31  1  0\\n 30 25  1  0\\n 26 32  1  0\\n 27 33  1  0\\n 29 34  1  0\\n 31 35  1  0\\n 31 36  1  0\\n 37 38  2  0\\n 38 39  1  0\\n 39 40  2  0\\n 40 41  1  0\\n 41 42  2  0\\n 42 43  1  0\\n 42 37  1  0\\n 38 44  1  0\\n 39 45  1  0\\n 41 46  1  0\\n 43 47  1  0\\n 43 48  1  0\\n 49 50  2  0\\n 50 51  1  0\\n 51 52  2  0\\n 52 53  1  0\\n 53 54  2  0\\n 54 55  1  0\\n 54 49  1  0\\n 50 56  1  0\\n 51 57  1  0\\n 53 58  1  0\\n 55 59  1  0\\n 55 60  1  0\\n  1 28  1  0\\n 12 25  1  0\\n  9 40  1  0\\n 20 37  1  0\\n 17 52  1  0\\n  4 49  1  0\\nM  END\\n\");\nviewer_16208984504918635.setStyle({\"stick\": {\"colorscheme\": \"cyanCarbon\"}});\nviewer_16208984504918635.zoomTo();\n\tviewer_16208984504918635.setBackgroundColor(\"0xeeeeee\");\n\tviewer_16208984504918635.zoomTo();\nviewer_16208984504918635.render();\n});\n</script>",
      "text/html": [
       "<div id=\"3dmolviewer_16208984504918635\"  style=\"position: relative; width: 400px; height: 400px\">\n",
       "        <p id=\"3dmolwarning_16208984504918635\" style=\"background-color:#ffcccc;color:black\">You appear to be running in JupyterLab (or JavaScript failed to load for some other reason).  You need to install the 3dmol extension: <br>\n",
       "        <tt>jupyter labextension install jupyterlab_3dmol</tt></p>\n",
       "        </div>\n",
       "<script>\n",
       "\n",
       "var loadScriptAsync = function(uri){\n",
       "  return new Promise((resolve, reject) => {\n",
       "    var tag = document.createElement('script');\n",
       "    tag.src = uri;\n",
       "    tag.async = true;\n",
       "    tag.onload = () => {\n",
       "      resolve();\n",
       "    };\n",
       "  var firstScriptTag = document.getElementsByTagName('script')[0];\n",
       "  firstScriptTag.parentNode.insertBefore(tag, firstScriptTag);\n",
       "});\n",
       "};\n",
       "\n",
       "if(typeof $3Dmolpromise === 'undefined') {\n",
       "$3Dmolpromise = null;\n",
       "  $3Dmolpromise = loadScriptAsync('https://3dmol.org/build/3Dmol.js');\n",
       "}\n",
       "\n",
       "var viewer_16208984504918635 = null;\n",
       "var warn = document.getElementById(\"3dmolwarning_16208984504918635\");\n",
       "if(warn) {\n",
       "    warn.parentNode.removeChild(warn);\n",
       "}\n",
       "$3Dmolpromise.then(function() {\n",
       "viewer_16208984504918635 = $3Dmol.createViewer($(\"#3dmolviewer_16208984504918635\"),{backgroundColor:\"white\"});\n",
       "viewer_16208984504918635.addModel(\"\\n     RDKit          3D\\n\\n 60 63  0  0  0  0  0  0  0  0999 V2000\\n    4.9411    1.7614    0.0055 N   0  0  0  0  0  2  0  0  0  0  0  0\\n    6.0697    0.9787    0.4275 C   0  0  0  0  0  0  0  0  0  0  0  0\\n    6.0781   -0.3853   -0.2566 C   0  0  0  0  0  0  0  0  0  0  0  0\\n    4.9411   -1.1646    0.0055 N   0  0  0  0  0  2  0  0  0  0  0  0\\n    6.0614    0.8547    1.5302 H   0  0  0  0  0  0  0  0  0  0  0  0\\n    6.9824    1.5076    0.0776 H   0  0  0  0  0  0  0  0  0  0  0  0\\n    6.0977   -0.1514   -1.3599 H   0  0  0  0  0  0  0  0  0  0  0  0\\n    7.0047   -0.9186    0.0089 H   0  0  0  0  0  0  0  0  0  0  0  0\\n   -4.3526    3.9184    0.0048 N   0  0  0  0  0  2  0  0  0  0  0  0\\n   -4.2391    5.2872    0.4269 C   0  0  0  0  0  0  0  0  0  0  0  0\\n   -3.0621    5.9764   -0.2573 C   0  0  0  0  0  0  0  0  0  0  0  0\\n   -1.8186    5.3814    0.0048 N   0  0  0  0  0  2  0  0  0  0  0  0\\n   -4.1276    5.3420    1.5295 H   0  0  0  0  0  0  0  0  0  0  0  0\\n   -5.1535    5.8131    0.0770 H   0  0  0  0  0  0  0  0  0  0  0  0\\n   -3.2744    5.8764   -1.3606 H   0  0  0  0  0  0  0  0  0  0  0  0\\n   -3.0635    7.0456    0.0082 H   0  0  0  0  0  0  0  0  0  0  0  0\\n   -2.1308   -6.5682    0.0011 N   0  0  0  0  0  2  0  0  0  0  0  0\\n   -3.3730   -7.1543    0.4232 C   0  0  0  0  0  0  0  0  0  0  0  0\\n   -4.5584   -6.4795   -0.2609 C   0  0  0  0  0  0  0  0  0  0  0  0\\n   -4.6648   -5.1052    0.0011 N   0  0  0  0  0  2  0  0  0  0  0  0\\n   -3.4762   -7.0851    1.5258 H   0  0  0  0  0  0  0  0  0  0  0  0\\n   -3.3713   -8.2091    0.0733 H   0  0  0  0  0  0  0  0  0  0  0  0\\n   -4.3657   -6.6134   -1.3642 H   0  0  0  0  0  0  0  0  0  0  0  0\\n   -5.4836   -7.0154    0.0046 H   0  0  0  0  0  0  0  0  0  0  0  0\\n    1.2340    5.9210   -0.0002 C   0  0  0  0  0  0  0  0  0  0  0  0\\n    2.4303    6.5855   -0.1822 C   0  0  0  0  0  0  0  0  0  0  0  0\\n    3.6224    5.8927   -0.1816 C   0  0  0  0  0  0  0  0  0  0  0  0\\n    3.6512    4.5254   -0.0002 C   0  0  0  0  0  0  0  0  0  0  0  0\\n    2.4533    3.8654    0.1813 C   0  0  0  0  0  0  0  0  0  0  0  0\\n    1.2700    4.5582    0.1800 C   0  0  0  0  0  0  0  0  0  0  0  0\\n    0.0128    3.8799    0.3685 N   0  0  0  0  0  0  0  0  0  0  0  0\\n    2.4186    7.6607   -0.3257 H   0  0  0  0  0  0  0  0  0  0  0  0\\n    4.5383    6.4519   -0.3277 H   0  0  0  0  0  0  0  0  0  0  0  0\\n    2.4179    2.7753    0.3304 H   0  0  0  0  0  0  0  0  0  0  0  0\\n   -0.4917    3.5435   -0.5054 H   0  0  0  0  0  0  0  0  0  0  0  0\\n   -0.3588    3.7397    1.3190 H   0  0  0  0  0  0  0  0  0  0  0  0\\n   -5.5755   -1.8665   -0.0059 C   0  0  0  0  0  0  0  0  0  0  0  0\\n   -6.7491   -1.1628   -0.1879 C   0  0  0  0  0  0  0  0  0  0  0  0\\n   -6.7452    0.2160   -0.1873 C   0  0  0  0  0  0  0  0  0  0  0  0\\n   -5.5755    0.9246   -0.0059 C   0  0  0  0  0  0  0  0  0  0  0  0\\n   -4.4050    0.2172    0.1756 C   0  0  0  0  0  0  0  0  0  0  0  0\\n   -4.4133   -1.1540    0.1743 C   0  0  0  0  0  0  0  0  0  0  0  0\\n   -3.1972   -1.9035    0.3629 N   0  0  0  0  0  0  0  0  0  0  0  0\\n   -7.6745   -1.7105   -0.3314 H   0  0  0  0  0  0  0  0  0  0  0  0\\n   -7.6875    0.7296   -0.3334 H   0  0  0  0  0  0  0  0  0  0  0  0\\n   -3.4431    0.7316    0.3247 H   0  0  0  0  0  0  0  0  0  0  0  0\\n   -2.6537   -2.1723   -0.5111 H   0  0  0  0  0  0  0  0  0  0  0  0\\n   -2.8901   -2.1553    1.3133 H   0  0  0  0  0  0  0  0  0  0  0  0\\n    3.1628   -3.7938   -0.0028 C   0  0  0  0  0  0  0  0  0  0  0  0\\n    3.1401   -5.1621   -0.1848 C   0  0  0  0  0  0  0  0  0  0  0  0\\n    1.9441   -5.8480   -0.1842 C   0  0  0  0  0  0  0  0  0  0  0  0\\n    0.7455   -5.1894   -0.0028 C   0  0  0  0  0  0  0  0  0  0  0  0\\n    0.7730   -3.8220    0.1787 C   0  0  0  0  0  0  0  0  0  0  0  0\\n    1.9646   -3.1436    0.1774 C   0  0  0  0  0  0  0  0  0  0  0  0\\n    2.0057   -1.7157    0.3659 N   0  0  0  0  0  0  0  0  0  0  0  0\\n    4.0771   -5.6896   -0.3283 H   0  0  0  0  0  0  0  0  0  0  0  0\\n    1.9704   -6.9209   -0.3303 H   0  0  0  0  0  0  0  0  0  0  0  0\\n   -0.1534   -3.2462    0.3278 H   0  0  0  0  0  0  0  0  0  0  0  0\\n    1.9666   -1.1105   -0.5080 H   0  0  0  0  0  0  0  0  0  0  0  0\\n    2.0701   -1.3238    1.3164 H   0  0  0  0  0  0  0  0  0  0  0  0\\n  1  2  1  0\\n  2  3  1  0\\n  3  4  1  0\\n  2  5  1  0\\n  2  6  1  0\\n  3  7  1  0\\n  3  8  1  0\\n  9 10  1  0\\n 10 11  1  0\\n 11 12  1  0\\n 10 13  1  0\\n 10 14  1  0\\n 11 15  1  0\\n 11 16  1  0\\n 17 18  1  0\\n 18 19  1  0\\n 19 20  1  0\\n 18 21  1  0\\n 18 22  1  0\\n 19 23  1  0\\n 19 24  1  0\\n 25 26  2  0\\n 26 27  1  0\\n 27 28  2  0\\n 28 29  1  0\\n 29 30  2  0\\n 30 31  1  0\\n 30 25  1  0\\n 26 32  1  0\\n 27 33  1  0\\n 29 34  1  0\\n 31 35  1  0\\n 31 36  1  0\\n 37 38  2  0\\n 38 39  1  0\\n 39 40  2  0\\n 40 41  1  0\\n 41 42  2  0\\n 42 43  1  0\\n 42 37  1  0\\n 38 44  1  0\\n 39 45  1  0\\n 41 46  1  0\\n 43 47  1  0\\n 43 48  1  0\\n 49 50  2  0\\n 50 51  1  0\\n 51 52  2  0\\n 52 53  1  0\\n 53 54  2  0\\n 54 55  1  0\\n 54 49  1  0\\n 50 56  1  0\\n 51 57  1  0\\n 53 58  1  0\\n 55 59  1  0\\n 55 60  1  0\\n  1 28  1  0\\n 12 25  1  0\\n  9 40  1  0\\n 20 37  1  0\\n 17 52  1  0\\n  4 49  1  0\\nM  END\\n\");\n",
       "viewer_16208984504918635.setStyle({\"stick\": {\"colorscheme\": \"cyanCarbon\"}});\n",
       "viewer_16208984504918635.zoomTo();\n",
       "\tviewer_16208984504918635.setBackgroundColor(\"0xeeeeee\");\n",
       "\tviewer_16208984504918635.zoomTo();\n",
       "viewer_16208984504918635.render();\n",
       "});\n",
       "</script>"
      ]
     },
     "metadata": {},
     "output_type": "display_data"
    }
   ],
   "source": [
    "show_stk_mol(macrocycle)"
   ]
  },
  {
   "cell_type": "code",
   "execution_count": 18,
   "metadata": {},
   "outputs": [],
   "source": [
    "bb1 = stk.BuildingBlock('NCCN', [stk.PrimaryAminoFactory()])\n",
    "bb2 = stk.BuildingBlock('C1C(CC1N)N', [stk.PrimaryAminoFactory()])\n",
    "bb5 = stk.BuildingBlock(\n",
    "    'C1(=CC=C(C=C1N)Br)Br', [stk.BromoFactory()]\n",
    ")\n",
    "bb6 = stk.BuildingBlock(\n",
    "    'C(#CBr)Br', [stk.BromoFactory()]\n",
    ")\n",
    "cb3 = stk.BuildingBlock(\n",
    "    'CBr', [stk.BromoFactory()]\n",
    ")\n",
    "cb4 = stk.BuildingBlock(\n",
    "    'C1(=CC=CC=C1)Br', [stk.BromoFactory()]\n",
    ")\n",
    "\n",
    "macrocycles = [macrocycle]\n",
    "caps = [cb3, cb4]\n",
    "linears_1 = [bb1, bb2]\n",
    "linears_2 = [bb5, bb6]"
   ]
  },
  {
   "cell_type": "code",
   "execution_count": 19,
   "metadata": {},
   "outputs": [
    {
     "data": {
      "application/3dmoljs_load.v0": "<div id=\"3dmolviewer_16208984561634\"  style=\"position: relative; width: 400px; height: 400px\">\n        <p id=\"3dmolwarning_16208984561634\" style=\"background-color:#ffcccc;color:black\">You appear to be running in JupyterLab (or JavaScript failed to load for some other reason).  You need to install the 3dmol extension: <br>\n        <tt>jupyter labextension install jupyterlab_3dmol</tt></p>\n        </div>\n<script>\n\nvar loadScriptAsync = function(uri){\n  return new Promise((resolve, reject) => {\n    var tag = document.createElement('script');\n    tag.src = uri;\n    tag.async = true;\n    tag.onload = () => {\n      resolve();\n    };\n  var firstScriptTag = document.getElementsByTagName('script')[0];\n  firstScriptTag.parentNode.insertBefore(tag, firstScriptTag);\n});\n};\n\nif(typeof $3Dmolpromise === 'undefined') {\n$3Dmolpromise = null;\n  $3Dmolpromise = loadScriptAsync('https://3dmol.org/build/3Dmol.js');\n}\n\nvar viewer_16208984561634 = null;\nvar warn = document.getElementById(\"3dmolwarning_16208984561634\");\nif(warn) {\n    warn.parentNode.removeChild(warn);\n}\n$3Dmolpromise.then(function() {\nviewer_16208984561634 = $3Dmol.createViewer($(\"#3dmolviewer_16208984561634\"),{backgroundColor:\"white\"});\nviewer_16208984561634.addModel(\"\\n     RDKit          3D\\n\\n  5  4  0  0  0  0  0  0  0  0999 V2000\\n   -0.1576    0.0118    0.0202 C   0  0  0  0  0  0  0  0  0  0  0  0\\n    1.7698    0.1075   -0.1347 Br  0  0  0  0  0  0  0  0  0  0  0  0\\n   -0.5548   -0.6146   -0.8193 H   0  0  0  0  0  0  0  0  0  0  0  0\\n   -0.6200    1.0289   -0.0173 H   0  0  0  0  0  0  0  0  0  0  0  0\\n   -0.4373   -0.5336    0.9512 H   0  0  0  0  0  0  0  0  0  0  0  0\\n  1  2  1  0\\n  1  3  1  0\\n  1  4  1  0\\n  1  5  1  0\\nM  END\\n\");\nviewer_16208984561634.setStyle({\"stick\": {\"colorscheme\": \"cyanCarbon\"}});\nviewer_16208984561634.zoomTo();\n\tviewer_16208984561634.setBackgroundColor(\"0xeeeeee\");\n\tviewer_16208984561634.zoomTo();\nviewer_16208984561634.render();\n});\n</script>",
      "text/html": [
       "<div id=\"3dmolviewer_16208984561634\"  style=\"position: relative; width: 400px; height: 400px\">\n",
       "        <p id=\"3dmolwarning_16208984561634\" style=\"background-color:#ffcccc;color:black\">You appear to be running in JupyterLab (or JavaScript failed to load for some other reason).  You need to install the 3dmol extension: <br>\n",
       "        <tt>jupyter labextension install jupyterlab_3dmol</tt></p>\n",
       "        </div>\n",
       "<script>\n",
       "\n",
       "var loadScriptAsync = function(uri){\n",
       "  return new Promise((resolve, reject) => {\n",
       "    var tag = document.createElement('script');\n",
       "    tag.src = uri;\n",
       "    tag.async = true;\n",
       "    tag.onload = () => {\n",
       "      resolve();\n",
       "    };\n",
       "  var firstScriptTag = document.getElementsByTagName('script')[0];\n",
       "  firstScriptTag.parentNode.insertBefore(tag, firstScriptTag);\n",
       "});\n",
       "};\n",
       "\n",
       "if(typeof $3Dmolpromise === 'undefined') {\n",
       "$3Dmolpromise = null;\n",
       "  $3Dmolpromise = loadScriptAsync('https://3dmol.org/build/3Dmol.js');\n",
       "}\n",
       "\n",
       "var viewer_16208984561634 = null;\n",
       "var warn = document.getElementById(\"3dmolwarning_16208984561634\");\n",
       "if(warn) {\n",
       "    warn.parentNode.removeChild(warn);\n",
       "}\n",
       "$3Dmolpromise.then(function() {\n",
       "viewer_16208984561634 = $3Dmol.createViewer($(\"#3dmolviewer_16208984561634\"),{backgroundColor:\"white\"});\n",
       "viewer_16208984561634.addModel(\"\\n     RDKit          3D\\n\\n  5  4  0  0  0  0  0  0  0  0999 V2000\\n   -0.1576    0.0118    0.0202 C   0  0  0  0  0  0  0  0  0  0  0  0\\n    1.7698    0.1075   -0.1347 Br  0  0  0  0  0  0  0  0  0  0  0  0\\n   -0.5548   -0.6146   -0.8193 H   0  0  0  0  0  0  0  0  0  0  0  0\\n   -0.6200    1.0289   -0.0173 H   0  0  0  0  0  0  0  0  0  0  0  0\\n   -0.4373   -0.5336    0.9512 H   0  0  0  0  0  0  0  0  0  0  0  0\\n  1  2  1  0\\n  1  3  1  0\\n  1  4  1  0\\n  1  5  1  0\\nM  END\\n\");\n",
       "viewer_16208984561634.setStyle({\"stick\": {\"colorscheme\": \"cyanCarbon\"}});\n",
       "viewer_16208984561634.zoomTo();\n",
       "\tviewer_16208984561634.setBackgroundColor(\"0xeeeeee\");\n",
       "\tviewer_16208984561634.zoomTo();\n",
       "viewer_16208984561634.render();\n",
       "});\n",
       "</script>"
      ]
     },
     "metadata": {},
     "output_type": "display_data"
    }
   ],
   "source": [
    "show_stk_mol(cb3)"
   ]
  },
  {
   "cell_type": "code",
   "execution_count": 20,
   "metadata": {},
   "outputs": [
    {
     "data": {
      "application/3dmoljs_load.v0": "<div id=\"3dmolviewer_16208984568875337\"  style=\"position: relative; width: 400px; height: 400px\">\n        <p id=\"3dmolwarning_16208984568875337\" style=\"background-color:#ffcccc;color:black\">You appear to be running in JupyterLab (or JavaScript failed to load for some other reason).  You need to install the 3dmol extension: <br>\n        <tt>jupyter labextension install jupyterlab_3dmol</tt></p>\n        </div>\n<script>\n\nvar loadScriptAsync = function(uri){\n  return new Promise((resolve, reject) => {\n    var tag = document.createElement('script');\n    tag.src = uri;\n    tag.async = true;\n    tag.onload = () => {\n      resolve();\n    };\n  var firstScriptTag = document.getElementsByTagName('script')[0];\n  firstScriptTag.parentNode.insertBefore(tag, firstScriptTag);\n});\n};\n\nif(typeof $3Dmolpromise === 'undefined') {\n$3Dmolpromise = null;\n  $3Dmolpromise = loadScriptAsync('https://3dmol.org/build/3Dmol.js');\n}\n\nvar viewer_16208984568875337 = null;\nvar warn = document.getElementById(\"3dmolwarning_16208984568875337\");\nif(warn) {\n    warn.parentNode.removeChild(warn);\n}\n$3Dmolpromise.then(function() {\nviewer_16208984568875337 = $3Dmol.createViewer($(\"#3dmolviewer_16208984568875337\"),{backgroundColor:\"white\"});\nviewer_16208984568875337.addModel(\"\\n     RDKit          3D\\n\\n 12 11  0  0  0  0  0  0  0  0999 V2000\\n   -1.3789   -0.7953    0.3238 N   0  0  0  0  0  0  0  0  0  0  0  0\\n   -0.6980    0.4411    0.5929 C   0  0  0  0  0  0  0  0  0  0  0  0\\n    0.4802    0.6365   -0.3568 C   0  0  0  0  0  0  0  0  0  0  0  0\\n    1.4531   -0.3716   -0.2778 N   0  0  0  0  0  0  0  0  0  0  0  0\\n   -1.8591   -0.7562   -0.6012 H   0  0  0  0  0  0  0  0  0  0  0  0\\n   -0.7320   -1.6254    0.3496 H   0  0  0  0  0  0  0  0  0  0  0  0\\n   -0.3501    0.4675    1.6463 H   0  0  0  0  0  0  0  0  0  0  0  0\\n   -1.4140    1.2621    0.3731 H   0  0  0  0  0  0  0  0  0  0  0  0\\n    0.0242    0.6054   -1.3880 H   0  0  0  0  0  0  0  0  0  0  0  0\\n    0.9168    1.6345   -0.1926 H   0  0  0  0  0  0  0  0  0  0  0  0\\n    1.4680   -1.1058   -0.9708 H   0  0  0  0  0  0  0  0  0  0  0  0\\n    2.0898   -0.3929    0.5016 H   0  0  0  0  0  0  0  0  0  0  0  0\\n  1  2  1  0\\n  2  3  1  0\\n  3  4  1  0\\n  1  5  1  0\\n  1  6  1  0\\n  2  7  1  0\\n  2  8  1  0\\n  3  9  1  0\\n  3 10  1  0\\n  4 11  1  0\\n  4 12  1  0\\nM  END\\n\");\nviewer_16208984568875337.setStyle({\"stick\": {\"colorscheme\": \"cyanCarbon\"}});\nviewer_16208984568875337.zoomTo();\n\tviewer_16208984568875337.setBackgroundColor(\"0xeeeeee\");\n\tviewer_16208984568875337.zoomTo();\nviewer_16208984568875337.render();\n});\n</script>",
      "text/html": [
       "<div id=\"3dmolviewer_16208984568875337\"  style=\"position: relative; width: 400px; height: 400px\">\n",
       "        <p id=\"3dmolwarning_16208984568875337\" style=\"background-color:#ffcccc;color:black\">You appear to be running in JupyterLab (or JavaScript failed to load for some other reason).  You need to install the 3dmol extension: <br>\n",
       "        <tt>jupyter labextension install jupyterlab_3dmol</tt></p>\n",
       "        </div>\n",
       "<script>\n",
       "\n",
       "var loadScriptAsync = function(uri){\n",
       "  return new Promise((resolve, reject) => {\n",
       "    var tag = document.createElement('script');\n",
       "    tag.src = uri;\n",
       "    tag.async = true;\n",
       "    tag.onload = () => {\n",
       "      resolve();\n",
       "    };\n",
       "  var firstScriptTag = document.getElementsByTagName('script')[0];\n",
       "  firstScriptTag.parentNode.insertBefore(tag, firstScriptTag);\n",
       "});\n",
       "};\n",
       "\n",
       "if(typeof $3Dmolpromise === 'undefined') {\n",
       "$3Dmolpromise = null;\n",
       "  $3Dmolpromise = loadScriptAsync('https://3dmol.org/build/3Dmol.js');\n",
       "}\n",
       "\n",
       "var viewer_16208984568875337 = null;\n",
       "var warn = document.getElementById(\"3dmolwarning_16208984568875337\");\n",
       "if(warn) {\n",
       "    warn.parentNode.removeChild(warn);\n",
       "}\n",
       "$3Dmolpromise.then(function() {\n",
       "viewer_16208984568875337 = $3Dmol.createViewer($(\"#3dmolviewer_16208984568875337\"),{backgroundColor:\"white\"});\n",
       "viewer_16208984568875337.addModel(\"\\n     RDKit          3D\\n\\n 12 11  0  0  0  0  0  0  0  0999 V2000\\n   -1.3789   -0.7953    0.3238 N   0  0  0  0  0  0  0  0  0  0  0  0\\n   -0.6980    0.4411    0.5929 C   0  0  0  0  0  0  0  0  0  0  0  0\\n    0.4802    0.6365   -0.3568 C   0  0  0  0  0  0  0  0  0  0  0  0\\n    1.4531   -0.3716   -0.2778 N   0  0  0  0  0  0  0  0  0  0  0  0\\n   -1.8591   -0.7562   -0.6012 H   0  0  0  0  0  0  0  0  0  0  0  0\\n   -0.7320   -1.6254    0.3496 H   0  0  0  0  0  0  0  0  0  0  0  0\\n   -0.3501    0.4675    1.6463 H   0  0  0  0  0  0  0  0  0  0  0  0\\n   -1.4140    1.2621    0.3731 H   0  0  0  0  0  0  0  0  0  0  0  0\\n    0.0242    0.6054   -1.3880 H   0  0  0  0  0  0  0  0  0  0  0  0\\n    0.9168    1.6345   -0.1926 H   0  0  0  0  0  0  0  0  0  0  0  0\\n    1.4680   -1.1058   -0.9708 H   0  0  0  0  0  0  0  0  0  0  0  0\\n    2.0898   -0.3929    0.5016 H   0  0  0  0  0  0  0  0  0  0  0  0\\n  1  2  1  0\\n  2  3  1  0\\n  3  4  1  0\\n  1  5  1  0\\n  1  6  1  0\\n  2  7  1  0\\n  2  8  1  0\\n  3  9  1  0\\n  3 10  1  0\\n  4 11  1  0\\n  4 12  1  0\\nM  END\\n\");\n",
       "viewer_16208984568875337.setStyle({\"stick\": {\"colorscheme\": \"cyanCarbon\"}});\n",
       "viewer_16208984568875337.zoomTo();\n",
       "\tviewer_16208984568875337.setBackgroundColor(\"0xeeeeee\");\n",
       "\tviewer_16208984568875337.zoomTo();\n",
       "viewer_16208984568875337.render();\n",
       "});\n",
       "</script>"
      ]
     },
     "metadata": {},
     "output_type": "display_data"
    }
   ],
   "source": [
    "show_stk_mol(bb1)"
   ]
  },
  {
   "cell_type": "code",
   "execution_count": 21,
   "metadata": {},
   "outputs": [
    {
     "ename": "FileExistsError",
     "evalue": "[Errno 17] File exists: 'hier_output'",
     "output_type": "error",
     "traceback": [
      "\u001b[0;31m---------------------------------------------------------------------------\u001b[0m",
      "\u001b[0;31mFileExistsError\u001b[0m                           Traceback (most recent call last)",
      "\u001b[0;32m<ipython-input-21-132f0e3cb599>\u001b[0m in \u001b[0;36m<module>\u001b[0;34m\u001b[0m\n\u001b[1;32m      1\u001b[0m \u001b[0;32mimport\u001b[0m \u001b[0mos\u001b[0m\u001b[0;34m\u001b[0m\u001b[0;34m\u001b[0m\u001b[0m\n\u001b[0;32m----> 2\u001b[0;31m \u001b[0mos\u001b[0m\u001b[0;34m.\u001b[0m\u001b[0mmkdir\u001b[0m\u001b[0;34m(\u001b[0m\u001b[0;34m'hier_output'\u001b[0m\u001b[0;34m)\u001b[0m\u001b[0;34m\u001b[0m\u001b[0;34m\u001b[0m\u001b[0m\n\u001b[0m",
      "\u001b[0;31mFileExistsError\u001b[0m: [Errno 17] File exists: 'hier_output'"
     ]
    }
   ],
   "source": [
    "import os\n",
    "os.mkdir('hier_output')"
   ]
  },
  {
   "cell_type": "code",
   "execution_count": 23,
   "metadata": {},
   "outputs": [],
   "source": [
    "count = 0\n",
    "for cap, l1, l2 in product(caps, linears_1, linears_2):\n",
    "    # Build axle.\n",
    "    polymer = stk.ConstructedMolecule(\n",
    "        topology_graph=stk.polymer.Linear(\n",
    "            building_blocks=(cap, l1, l2),\n",
    "            repeating_unit='ABCBA',\n",
    "            num_repeating_units=1,\n",
    "            orientations=(0, 0, 0, 0, 0),\n",
    "            optimizer=stk.MCHammer()\n",
    "        ),\n",
    "    )\n",
    "    # Convert to building block.\n",
    "    axle = stk.BuildingBlock.init_from_molecule(polymer)\n",
    "\n",
    "    # Build all possible rotaxanes.\n",
    "    for cycle in macrocycles:\n",
    "        # Convert to building block assuming prior construction.\n",
    "        cycle = stk.BuildingBlock.init_from_molecule(cycle)\n",
    "        rotaxane = stk.ConstructedMolecule(\n",
    "            topology_graph=stk.rotaxane.NRotaxane(\n",
    "                axle=axle,\n",
    "                cycles=(cycle, ),\n",
    "                repeating_unit='A',\n",
    "                num_repeating_units=1,\n",
    "            ),\n",
    "        )\n",
    "        rotaxane.write(f'hier_output/rot_hier_{count}.mol')\n",
    "        count += 1"
   ]
  },
  {
   "cell_type": "code",
   "execution_count": null,
   "metadata": {},
   "outputs": [],
   "source": []
  }
 ],
 "metadata": {
  "kernelspec": {
   "display_name": "stkdevel",
   "language": "python",
   "name": "stkdevel"
  },
  "language_info": {
   "codemirror_mode": {
    "name": "ipython",
    "version": 3
   },
   "file_extension": ".py",
   "mimetype": "text/x-python",
   "name": "python",
   "nbconvert_exporter": "python",
   "pygments_lexer": "ipython3",
   "version": "3.7.3"
  }
 },
 "nbformat": 4,
 "nbformat_minor": 2
}
