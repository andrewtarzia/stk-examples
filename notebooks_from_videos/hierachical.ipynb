{
 "cells": [
  {
   "cell_type": "markdown",
   "metadata": {},
   "source": [
    "# Hierarchical construction with stk\n",
    "\n",
    "by: Andrew Tarzia"
   ]
  },
  {
   "cell_type": "markdown",
   "metadata": {},
   "source": [
    "### Update 25/02/24\n",
    "\n",
    "Installation of py3Dmol using `pip install py3Dmol` is required."
   ]
  },
  {
   "cell_type": "markdown",
   "metadata": {},
   "source": [
    "# Imports "
   ]
  },
  {
   "cell_type": "code",
   "execution_count": null,
   "metadata": {},
   "outputs": [],
   "source": [
    "import sys\n",
    "sys.path.append('/usr/local/lib/python3.7/site-packages/')\n",
    "\n",
    "from rdkit import Chem \n",
    "from rdkit.Chem import AllChem as rdkit\n",
    "from collections import defaultdict\n",
    "from rdkit.Chem import rdFMCS\n",
    "from rdkit.Chem import Draw\n",
    "from rdkit.Chem.Draw import IPythonConsole\n",
    "from rdkit.Chem import rdDistGeom\n",
    "IPythonConsole.ipython_3d = True\n",
    "\n",
    "import py3Dmol\n",
    "from IPython.display import Image\n",
    "import matplotlib.pyplot as plt\n",
    "from itertools import product\n",
    "import subprocess\n",
    "import time\n",
    "import stk\n",
    "import stko\n",
    "import spindry as spd\n",
    "%matplotlib inline"
   ]
  },
  {
   "cell_type": "code",
   "execution_count": null,
   "metadata": {},
   "outputs": [],
   "source": [
    "def show_stk_mol(stk_mol):\n",
    "    data = rdkit.MolToMolBlock(stk_mol.to_rdkit_mol())\n",
    "    p = py3Dmol.view(\n",
    "        data=data,\n",
    "        style={'stick':{'colorscheme':'cyanCarbon'}}, \n",
    "        width=400,\n",
    "        height=400,\n",
    "    )\n",
    "    p.setBackgroundColor('0xeeeeee')\n",
    "    p.zoomTo()\n",
    "    p.show()"
   ]
  },
  {
   "cell_type": "markdown",
   "metadata": {},
   "source": [
    "# Working"
   ]
  },
  {
   "cell_type": "code",
   "execution_count": null,
   "metadata": {},
   "outputs": [],
   "source": [
    "bb1 = stk.BuildingBlock('NCCN', [stk.PrimaryAminoFactory()])\n",
    "bb2 = stk.BuildingBlock(\n",
    "    'C1(=CC=C(C=C1N)Br)Br', [stk.BromoFactory()]\n",
    ")\n",
    "macrocycle = stk.ConstructedMolecule(\n",
    "    topology_graph=stk.macrocycle.Macrocycle(\n",
    "        building_blocks=(bb1, bb2),\n",
    "        repeating_unit='AB',\n",
    "        num_repeating_units=3,\n",
    "        orientations=(0, 0.5),\n",
    "        optimizer=stk.MCHammer(target_bond_length=3)\n",
    "    ),\n",
    ")"
   ]
  },
  {
   "cell_type": "code",
   "execution_count": null,
   "metadata": {},
   "outputs": [],
   "source": [
    "show_stk_mol(macrocycle)"
   ]
  },
  {
   "cell_type": "code",
   "execution_count": null,
   "metadata": {},
   "outputs": [],
   "source": [
    "bb1 = stk.BuildingBlock('NCCN', [stk.PrimaryAminoFactory()])\n",
    "bb2 = stk.BuildingBlock('C1C(CC1N)N', [stk.PrimaryAminoFactory()])\n",
    "bb5 = stk.BuildingBlock(\n",
    "    'C1(=CC=C(C=C1N)Br)Br', [stk.BromoFactory()]\n",
    ")\n",
    "bb6 = stk.BuildingBlock(\n",
    "    'C(#CBr)Br', [stk.BromoFactory()]\n",
    ")\n",
    "cb3 = stk.BuildingBlock(\n",
    "    'CBr', [stk.BromoFactory()]\n",
    ")\n",
    "cb4 = stk.BuildingBlock(\n",
    "    'C1(=CC=CC=C1)Br', [stk.BromoFactory()]\n",
    ")\n",
    "\n",
    "macrocycles = [macrocycle]\n",
    "caps = [cb3, cb4]\n",
    "linears_1 = [bb1, bb2]\n",
    "linears_2 = [bb5, bb6]"
   ]
  },
  {
   "cell_type": "code",
   "execution_count": null,
   "metadata": {},
   "outputs": [],
   "source": [
    "show_stk_mol(cb3)"
   ]
  },
  {
   "cell_type": "code",
   "execution_count": null,
   "metadata": {},
   "outputs": [],
   "source": [
    "show_stk_mol(bb1)"
   ]
  },
  {
   "cell_type": "code",
   "execution_count": null,
   "metadata": {},
   "outputs": [],
   "source": [
    "import os\n",
    "os.mkdir('hier_output')"
   ]
  },
  {
   "cell_type": "code",
   "execution_count": null,
   "metadata": {},
   "outputs": [],
   "source": [
    "count = 0\n",
    "for cap, l1, l2 in product(caps, linears_1, linears_2):\n",
    "    # Build axle.\n",
    "    polymer = stk.ConstructedMolecule(\n",
    "        topology_graph=stk.polymer.Linear(\n",
    "            building_blocks=(cap, l1, l2),\n",
    "            repeating_unit='ABCBA',\n",
    "            num_repeating_units=1,\n",
    "            orientations=(0, 0, 0, 0, 0),\n",
    "            optimizer=stk.MCHammer()\n",
    "        ),\n",
    "    )\n",
    "    # Convert to building block.\n",
    "    axle = stk.BuildingBlock.init_from_molecule(polymer)\n",
    "\n",
    "    # Build all possible rotaxanes.\n",
    "    for cycle in macrocycles:\n",
    "        # Convert to building block assuming prior construction.\n",
    "        cycle = stk.BuildingBlock.init_from_molecule(cycle)\n",
    "        rotaxane = stk.ConstructedMolecule(\n",
    "            topology_graph=stk.rotaxane.NRotaxane(\n",
    "                axle=axle,\n",
    "                cycles=(cycle, ),\n",
    "                repeating_unit='A',\n",
    "                num_repeating_units=1,\n",
    "            ),\n",
    "        )\n",
    "        rotaxane.write(f'hier_output/rot_hier_{count}.mol')\n",
    "        count += 1"
   ]
  }
 ],
 "metadata": {
  "kernelspec": {
   "display_name": "Python 3 (ipykernel)",
   "language": "python",
   "name": "python3"
  },
  "language_info": {
   "codemirror_mode": {
    "name": "ipython",
    "version": 3
   },
   "file_extension": ".py",
   "mimetype": "text/x-python",
   "name": "python",
   "nbconvert_exporter": "python",
   "pygments_lexer": "ipython3",
   "version": "3.11.8"
  }
 },
 "nbformat": 4,
 "nbformat_minor": 4
}
