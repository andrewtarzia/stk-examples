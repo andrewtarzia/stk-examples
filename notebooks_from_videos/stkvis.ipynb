{
 "cells": [
  {
   "cell_type": "markdown",
   "metadata": {},
   "source": [
    "# stk-vis and stk\n",
    "\n",
    "by: Andrew Tarzia"
   ]
  },
  {
   "cell_type": "markdown",
   "metadata": {},
   "source": [
    "### Update 25/02/24\n",
    "\n",
    "Installation of py3Dmol using `pip install py3Dmol` is required.\n",
    "\n",
    "This likely will not work without some significant changes. For databasing, check out `atomlite` https://atomlite.readthedocs.io/en/latest/index.html"
   ]
  },
  {
   "cell_type": "markdown",
   "metadata": {},
   "source": [
    "# Imports "
   ]
  },
  {
   "cell_type": "code",
   "execution_count": null,
   "metadata": {},
   "outputs": [],
   "source": [
    "import sys\n",
    "sys.path.append('/usr/local/lib/python3.7/site-packages/')\n",
    "\n",
    "from rdkit import Chem \n",
    "from rdkit.Chem import AllChem as rdkit\n",
    "from collections import defaultdict\n",
    "from rdkit.Chem import rdFMCS\n",
    "from rdkit.Chem import Draw\n",
    "from rdkit.Chem.Draw import IPythonConsole\n",
    "from rdkit.Chem import rdDistGeom\n",
    "IPythonConsole.ipython_3d = True\n",
    "\n",
    "import py3Dmol\n",
    "from IPython.display import Image\n",
    "import matplotlib.pyplot as plt\n",
    "import subprocess\n",
    "import time\n",
    "import stk\n",
    "import stko\n",
    "import spindry as spd\n",
    "import pymongo\n",
    "%matplotlib inline"
   ]
  },
  {
   "cell_type": "code",
   "execution_count": null,
   "metadata": {},
   "outputs": [],
   "source": [
    "def show_stk_mol(stk_mol):\n",
    "    data = rdkit.MolToMolBlock(stk_mol.to_rdkit_mol())\n",
    "    p = py3Dmol.view(\n",
    "        data=data,\n",
    "        style={'stick':{'colorscheme':'cyanCarbon'}}, \n",
    "        width=400,\n",
    "        height=400,\n",
    "    )\n",
    "    p.setBackgroundColor('0xeeeeee')\n",
    "    p.zoomTo()\n",
    "    p.show()"
   ]
  },
  {
   "cell_type": "markdown",
   "metadata": {},
   "source": [
    "# Working"
   ]
  },
  {
   "cell_type": "code",
   "execution_count": null,
   "metadata": {},
   "outputs": [],
   "source": [
    "client = pymongo.MongoClient()"
   ]
  },
  {
   "cell_type": "code",
   "execution_count": null,
   "metadata": {},
   "outputs": [],
   "source": [
    "num_atoms_db = stk.ValueMongoDb(client, 'Num Atoms')\n",
    "energy_db = stk.ValueMongoDb(client, 'UFF Energy')"
   ]
  },
  {
   "cell_type": "code",
   "execution_count": null,
   "metadata": {},
   "outputs": [],
   "source": [
    "# Create a database for depositing constructed molecules.\n",
    "constructed_db = stk.ConstructedMoleculeMongoDb(\n",
    "    mongo_client=client,\n",
    "    # All of the parameters below are optional!\n",
    "    database='stk',\n",
    "    molecule_collection='molecules',\n",
    "    constructed_molecule_collection='constructed_molecules',\n",
    "    position_matrix_collection='position_matrices',\n",
    "    building_block_position_matrix_collection='building_block_position_matrices',\n",
    ")"
   ]
  },
  {
   "cell_type": "code",
   "execution_count": null,
   "metadata": {},
   "outputs": [],
   "source": [
    "def uff_energy(molecule):\n",
    "    rdkit_molecule = molecule.to_rdkit_mol()\n",
    "    rdkit.SanitizeMol(rdkit_molecule)\n",
    "    ff = rdkit.UFFGetMoleculeForceField(rdkit_molecule)\n",
    "    return ff.CalcEnergy()"
   ]
  },
  {
   "cell_type": "code",
   "execution_count": null,
   "metadata": {},
   "outputs": [],
   "source": [
    "# Create a constructed molecule, in this case a polymer.\n",
    "polymer = stk.ConstructedMolecule(\n",
    "    topology_graph=stk.polymer.Linear(\n",
    "        building_blocks=(\n",
    "            stk.BuildingBlock('BrC=CBr', [stk.BromoFactory()]),\n",
    "            stk.BuildingBlock('BrCNCBr', [stk.BromoFactory()]),\n",
    "        ),\n",
    "        repeating_unit='AB',\n",
    "        num_repeating_units=2,\n",
    "    ),\n",
    ")\n",
    "\n",
    "# Deposit into the database.\n",
    "constructed_db.put(polymer)\n",
    "\n",
    "# You can deposit values same as before.\n",
    "num_atoms_db.put(polymer, polymer.get_num_atoms())\n",
    "energy_db.put(polymer, uff_energy(polymer))"
   ]
  },
  {
   "cell_type": "code",
   "execution_count": null,
   "metadata": {},
   "outputs": [],
   "source": [
    "bb1 = stk.BuildingBlock('NCCN', [stk.PrimaryAminoFactory()])\n",
    "bb2 = stk.BuildingBlock(\n",
    "    smiles='C1=CC(=C(C=C1Br)CBr)Br',\n",
    "    functional_groups=[stk.BromoFactory()],\n",
    ")\n",
    "cage1 = stk.ConstructedMolecule(\n",
    "    topology_graph=stk.cage.FourPlusSix(\n",
    "        building_blocks=(bb1, bb2),\n",
    "        optimizer=stk.MCHammer(),\n",
    "    ),\n",
    ")\n",
    "# Deposit into the database.\n",
    "constructed_db.put(cage1)\n",
    "\n",
    "# You can deposit values same as before.\n",
    "num_atoms_db.put(cage1, cage1.get_num_atoms())\n",
    "energy_db.put(cage1, uff_energy(cage1))"
   ]
  },
  {
   "cell_type": "code",
   "execution_count": null,
   "metadata": {},
   "outputs": [],
   "source": []
  }
 ],
 "metadata": {
  "kernelspec": {
   "display_name": "Python 3 (ipykernel)",
   "language": "python",
   "name": "python3"
  },
  "language_info": {
   "codemirror_mode": {
    "name": "ipython",
    "version": 3
   },
   "file_extension": ".py",
   "mimetype": "text/x-python",
   "name": "python",
   "nbconvert_exporter": "python",
   "pygments_lexer": "ipython3",
   "version": "3.11.8"
  }
 },
 "nbformat": 4,
 "nbformat_minor": 4
}
