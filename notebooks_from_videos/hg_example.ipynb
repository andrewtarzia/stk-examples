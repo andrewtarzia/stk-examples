{
 "cells": [
  {
   "cell_type": "markdown",
   "metadata": {
    "id": "KwVJ_GZ1iepz"
   },
   "source": [
    "# Host-guest usage with stk\n",
    "\n",
    "by: Andrew Tarzia"
   ]
  },
  {
   "cell_type": "markdown",
   "metadata": {},
   "source": [
    "### Update 25/02/24\n",
    "\n",
    "Installation of py3Dmol using `pip install py3Dmol` is required.\n",
    "\n",
    "#### Using latest version of `SpinDry` and `stk`.\n",
    "\n",
    "- Changes in `SpinDry.Molecule` means we now use `spd.Molecule()` not `spd.Molecule.init()`\n",
    "- `spd.Spinner.get_conformers` should now take `spd.Supramolecule`, which we initialise from components.\n",
    "- To then access those components, you must do that through the `Supramolecule` interface.\n",
    "- Finally, we had to change to using the `stk.complex.Guest` interface.\n",
    "- See https://stk.readthedocs.io/en/stable/_autosummary/stk.host_guest.Complex.html\n",
    "- See https://github.com/andrewtarzia/SpinDry/blob/main/examples/"
   ]
  },
  {
   "cell_type": "markdown",
   "metadata": {},
   "source": [
    "# Imports "
   ]
  },
  {
   "cell_type": "code",
   "execution_count": 1,
   "metadata": {
    "id": "VMIP6XDKoo06"
   },
   "outputs": [],
   "source": [
    "import sys\n",
    "sys.path.append('/usr/local/lib/python3.7/site-packages/')\n",
    "\n",
    "from rdkit import Chem \n",
    "from rdkit.Chem import AllChem as rdkit\n",
    "from collections import defaultdict\n",
    "from rdkit.Chem import rdFMCS\n",
    "from rdkit.Chem import Draw\n",
    "from rdkit.Chem.Draw import IPythonConsole\n",
    "from rdkit.Chem import rdDistGeom\n",
    "IPythonConsole.ipython_3d = True\n",
    "\n",
    "import py3Dmol\n",
    "from IPython.display import Image\n",
    "import matplotlib.pyplot as plt\n",
    "import subprocess\n",
    "import os\n",
    "import time\n",
    "import stk\n",
    "import stko\n",
    "import spindry as spd\n",
    "%matplotlib inline"
   ]
  },
  {
   "cell_type": "markdown",
   "metadata": {},
   "source": [
    "# Some useful functions "
   ]
  },
  {
   "cell_type": "code",
   "execution_count": 2,
   "metadata": {
    "id": "Wu-nsRJ7pav4"
   },
   "outputs": [],
   "source": [
    "def show_stk_mol(stk_mol):\n",
    "    data = rdkit.MolToMolBlock(stk_mol.to_rdkit_mol())\n",
    "    p = py3Dmol.view(\n",
    "        data=data,\n",
    "        style={'stick':{'colorscheme':'cyanCarbon'}}, \n",
    "        width=400,\n",
    "        height=400,\n",
    "    )\n",
    "    p.setBackgroundColor('0xeeeeee')\n",
    "    p.zoomTo()\n",
    "    p.show()"
   ]
  },
  {
   "cell_type": "markdown",
   "metadata": {},
   "source": [
    "Working:"
   ]
  },
  {
   "cell_type": "code",
   "execution_count": 3,
   "metadata": {},
   "outputs": [],
   "source": [
    "bb1 = stk.BuildingBlock(\n",
    "    smiles='O=CC(C=O)C=O',\n",
    "    functional_groups=[stk.AldehydeFactory()],\n",
    ")\n",
    "bb2 = stk.BuildingBlock(\n",
    "    smiles='O=CC(Cl)(C=O)C=O',\n",
    "    functional_groups=[stk.AldehydeFactory()],\n",
    ")\n",
    "bb3 = stk.BuildingBlock('NCCN', [stk.PrimaryAminoFactory()])\n",
    "bb4 = stk.BuildingBlock(\n",
    "    smiles='NCC(Cl)N',\n",
    "    functional_groups=[stk.PrimaryAminoFactory()],\n",
    ")\n",
    "bb5 = stk.BuildingBlock('NCCCCN', [stk.PrimaryAminoFactory()])\n",
    "\n",
    "cage = stk.ConstructedMolecule(\n",
    "    topology_graph=stk.cage.FourPlusSix(\n",
    "        # building_blocks is now a dict, which maps building\n",
    "        # blocks to the id of the vertices it should be placed\n",
    "        # on. You can use ranges to specify the ids.\n",
    "        building_blocks={\n",
    "            bb1: range(2),\n",
    "            bb2: (2, 3),\n",
    "            bb3: 4,\n",
    "            bb4: 5,\n",
    "            bb5: range(6, 10),\n",
    "        },\n",
    "        optimizer=stk.MCHammer(),\n",
    "    ),\n",
    ")"
   ]
  },
  {
   "cell_type": "code",
   "execution_count": 4,
   "metadata": {},
   "outputs": [
    {
     "data": {
      "application/3dmoljs_load.v0": "<div id=\"3dmolviewer_17088951737843072\"  style=\"position: relative; width: 400px; height: 400px;\">\n        <p id=\"3dmolwarning_17088951737843072\" style=\"background-color:#ffcccc;color:black\">You appear to be running in JupyterLab (or JavaScript failed to load for some other reason).  You need to install the 3dmol extension: <br>\n        <tt>jupyter labextension install jupyterlab_3dmol</tt></p>\n        </div>\n<script>\n\nvar loadScriptAsync = function(uri){\n  return new Promise((resolve, reject) => {\n    //this is to ignore the existence of requirejs amd\n    var savedexports, savedmodule;\n    if (typeof exports !== 'undefined') savedexports = exports;\n    else exports = {}\n    if (typeof module !== 'undefined') savedmodule = module;\n    else module = {}\n\n    var tag = document.createElement('script');\n    tag.src = uri;\n    tag.async = true;\n    tag.onload = () => {\n        exports = savedexports;\n        module = savedmodule;\n        resolve();\n    };\n  var firstScriptTag = document.getElementsByTagName('script')[0];\n  firstScriptTag.parentNode.insertBefore(tag, firstScriptTag);\n});\n};\n\nif(typeof $3Dmolpromise === 'undefined') {\n$3Dmolpromise = null;\n  $3Dmolpromise = loadScriptAsync('https://cdnjs.cloudflare.com/ajax/libs/3Dmol/2.0.4/3Dmol-min.js');\n}\n\nvar viewer_17088951737843072 = null;\nvar warn = document.getElementById(\"3dmolwarning_17088951737843072\");\nif(warn) {\n    warn.parentNode.removeChild(warn);\n}\n$3Dmolpromise.then(function() {\nviewer_17088951737843072 = $3Dmol.createViewer(document.getElementById(\"3dmolviewer_17088951737843072\"),{backgroundColor:\"white\"});\nviewer_17088951737843072.addModel(\"\\n     RDKit          3D\\n\\n104106  0  0  0  0  0  0  0  0999 V2000\\n   -1.3626   -0.1686    4.1612 C   0  0  0  0  0  0  0  0  0  0  0  0\\n   -0.1468    0.5514    4.6223 C   0  0  0  0  0  0  0  0  0  0  0  0\\n    1.0797   -0.1808    4.1612 C   0  0  0  0  0  0  0  0  0  0  0  0\\n   -0.1647    1.9453    4.1612 C   0  0  0  0  0  0  0  0  0  0  0  0\\n   -1.5598   -0.3341    3.1157 H   0  0  0  0  0  0  0  0  0  0  0  0\\n   -0.1264    0.5648    5.7330 H   0  0  0  0  0  0  0  0  0  0  0  0\\n    1.2287   -0.3188    3.0849 H   0  0  0  0  0  0  0  0  0  0  0  0\\n    0.6204    2.6591    4.3784 H   0  0  0  0  0  0  0  0  0  0  0  0\\n   -4.7660   -2.1622   -0.0837 C   0  0  0  0  0  0  0  0  0  0  0  0\\n   -4.7268   -2.1576   -1.5696 C   0  0  0  0  0  0  0  0  0  0  0  0\\n   -4.7730   -0.7440   -2.0721 C   0  0  0  0  0  0  0  0  0  0  0  0\\n   -3.5455   -2.8799   -2.0583 C   0  0  0  0  0  0  0  0  0  0  0  0\\n   -4.0079   -1.6730    0.5038 H   0  0  0  0  0  0  0  0  0  0  0  0\\n   -5.6260   -2.6784   -1.9627 H   0  0  0  0  0  0  0  0  0  0  0  0\\n   -3.9739   -0.0586   -1.7699 H   0  0  0  0  0  0  0  0  0  0  0  0\\n   -3.3108   -3.0048   -3.1082 H   0  0  0  0  0  0  0  0  0  0  0  0\\n    4.4128   -2.4782   -0.2242 C   0  0  0  0  0  0  0  0  0  0  0  0\\n    4.4236   -2.4827   -1.7079 C   0  0  0  0  0  0  0  0  0  0  0  0\\n    5.9006   -3.3211   -2.2276 Cl  0  0  0  0  0  0  0  0  0  0  0  0\\n    3.2042   -3.1616   -2.2182 C   0  0  0  0  0  0  0  0  0  0  0  0\\n    4.3895   -1.0835   -2.2538 C   0  0  0  0  0  0  0  0  0  0  0  0\\n    5.2159   -2.0294    0.3414 H   0  0  0  0  0  0  0  0  0  0  0  0\\n    3.0464   -3.2565   -3.2822 H   0  0  0  0  0  0  0  0  0  0  0  0\\n    3.5197   -0.5010   -1.9685 H   0  0  0  0  0  0  0  0  0  0  0  0\\n   -0.3895    5.8780   -0.4608 C   0  0  0  0  0  0  0  0  0  0  0  0\\n   -0.3910    5.8896   -1.9445 C   0  0  0  0  0  0  0  0  0  0  0  0\\n   -0.4034    7.5879   -2.4643 Cl  0  0  0  0  0  0  0  0  0  0  0  0\\n    0.8067    5.1730   -2.4548 C   0  0  0  0  0  0  0  0  0  0  0  0\\n   -1.5856    5.1604   -2.4904 C   0  0  0  0  0  0  0  0  0  0  0  0\\n   -1.1797    6.3492    0.1048 H   0  0  0  0  0  0  0  0  0  0  0  0\\n    0.9678    5.0838   -3.5188 H   0  0  0  0  0  0  0  0  0  0  0  0\\n   -1.6552    4.1160   -2.2051 H   0  0  0  0  0  0  0  0  0  0  0  0\\n   -2.8327   -1.3733    4.1847 N   0  0  0  0  0  0  0  0  0  0  0  0\\n   -4.2200   -1.7469    4.2078 C   0  0  0  0  0  0  0  0  0  0  0  0\\n   -4.5439   -2.7235    3.0809 C   0  0  0  0  0  0  0  0  0  0  0  0\\n   -4.2957   -2.2180    1.7957 N   0  0  0  0  0  0  0  0  0  0  0  0\\n   -4.8626   -0.8456    4.1308 H   0  0  0  0  0  0  0  0  0  0  0  0\\n   -4.3934   -2.2986    5.1568 H   0  0  0  0  0  0  0  0  0  0  0  0\\n   -3.8537   -3.5987    3.2540 H   0  0  0  0  0  0  0  0  0  0  0  0\\n   -5.5852   -3.0672    3.1869 H   0  0  0  0  0  0  0  0  0  0  0  0\\n    2.3438   -1.1859    3.7172 N   0  0  0  0  0  0  0  0  0  0  0  0\\n    3.2906   -2.2729    3.7476 C   0  0  0  0  0  0  0  0  0  0  0  0\\n    4.3509   -2.0078    2.6897 C   0  0  0  0  0  0  0  0  0  0  0  0\\n    5.1680   -0.4822    3.0408 Cl  0  0  0  0  0  0  0  0  0  0  0  0\\n    3.7812   -2.0158    1.3700 N   0  0  0  0  0  0  0  0  0  0  0  0\\n    3.7812   -2.2761    4.7419 H   0  0  0  0  0  0  0  0  0  0  0  0\\n    2.8316   -3.2578    3.5265 H   0  0  0  0  0  0  0  0  0  0  0  0\\n    5.0886   -2.8528    2.7303 H   0  0  0  0  0  0  0  0  0  0  0  0\\n   -0.0875    3.4164    5.2540 N   0  0  0  0  0  0  0  0  0  0  0  0\\n   -0.5018    4.7788    4.9850 C   0  0  0  0  0  0  0  0  0  0  0  0\\n    0.1246    5.2750    3.6769 C   0  0  0  0  0  0  0  0  0  0  0  0\\n   -0.3152    6.7056    3.4012 C   0  0  0  0  0  0  0  0  0  0  0  0\\n    0.2888    7.2212    2.1152 C   0  0  0  0  0  0  0  0  0  0  0  0\\n   -0.0875    6.4427    0.9742 N   0  0  0  0  0  0  0  0  0  0  0  0\\n   -0.0498    5.4061    5.8024 H   0  0  0  0  0  0  0  0  0  0  0  0\\n   -1.5945    4.9106    4.9720 H   0  0  0  0  0  0  0  0  0  0  0  0\\n    1.2273    5.3125    3.7888 H   0  0  0  0  0  0  0  0  0  0  0  0\\n   -0.1641    4.6208    2.8404 H   0  0  0  0  0  0  0  0  0  0  0  0\\n   -0.0182    7.3150    4.2589 H   0  0  0  0  0  0  0  0  0  0  0  0\\n   -1.4110    6.7402    3.3029 H   0  0  0  0  0  0  0  0  0  0  0  0\\n    1.4008    7.2633    2.1667 H   0  0  0  0  0  0  0  0  0  0  0  0\\n   -0.0539    8.2618    1.9551 H   0  0  0  0  0  0  0  0  0  0  0  0\\n   -3.0918   -4.3311   -3.1133 N   0  0  0  0  0  0  0  0  0  0  0  0\\n   -2.0856   -5.3518   -3.3277 C   0  0  0  0  0  0  0  0  0  0  0  0\\n   -0.7310   -4.7043   -3.6369 C   0  0  0  0  0  0  0  0  0  0  0  0\\n    0.3200   -5.7819   -3.8605 C   0  0  0  0  0  0  0  0  0  0  0  0\\n    1.6677   -5.1707   -4.1679 C   0  0  0  0  0  0  0  0  0  0  0  0\\n    2.1499   -4.3311   -3.1133 N   0  0  0  0  0  0  0  0  0  0  0  0\\n   -2.3908   -5.8943   -4.2650 H   0  0  0  0  0  0  0  0  0  0  0  0\\n   -1.9989   -6.0645   -2.4934 H   0  0  0  0  0  0  0  0  0  0  0  0\\n   -0.8007   -4.1453   -4.5922 H   0  0  0  0  0  0  0  0  0  0  0  0\\n   -0.4257   -4.0406   -2.8140 H   0  0  0  0  0  0  0  0  0  0  0  0\\n   -0.0284   -6.4210   -4.6762 H   0  0  0  0  0  0  0  0  0  0  0  0\\n    0.4202   -6.3914   -2.9494 H   0  0  0  0  0  0  0  0  0  0  0  0\\n    1.6500   -4.5809   -5.1128 H   0  0  0  0  0  0  0  0  0  0  0  0\\n    2.3993   -5.9868   -4.3254 H   0  0  0  0  0  0  0  0  0  0  0  0\\n   -5.4589   -0.0654   -3.4374 N   0  0  0  0  0  0  0  0  0  0  0  0\\n   -5.4245    1.0766   -4.3288 C   0  0  0  0  0  0  0  0  0  0  0  0\\n   -4.8136    2.2880   -3.6154 C   0  0  0  0  0  0  0  0  0  0  0  0\\n   -4.7806    3.4826   -4.5576 C   0  0  0  0  0  0  0  0  0  0  0  0\\n   -4.1821    4.6932   -3.8790 C   0  0  0  0  0  0  0  0  0  0  0  0\\n   -2.8380    4.4740   -3.4374 N   0  0  0  0  0  0  0  0  0  0  0  0\\n   -6.4988    1.3444   -4.5292 H   0  0  0  0  0  0  0  0  0  0  0  0\\n   -4.9046    0.8766   -5.2782 H   0  0  0  0  0  0  0  0  0  0  0  0\\n   -5.4679    2.5853   -2.7708 H   0  0  0  0  0  0  0  0  0  0  0  0\\n   -3.7977    2.0541   -3.2627 H   0  0  0  0  0  0  0  0  0  0  0  0\\n   -5.8050    3.6717   -4.8894 H   0  0  0  0  0  0  0  0  0  0  0  0\\n   -4.1616    3.2409   -5.4351 H   0  0  0  0  0  0  0  0  0  0  0  0\\n   -4.7932    5.0256   -3.0089 H   0  0  0  0  0  0  0  0  0  0  0  0\\n   -4.1797    5.5366   -4.5964 H   0  0  0  0  0  0  0  0  0  0  0  0\\n    4.9981    0.0293   -3.1381 N   0  0  0  0  0  0  0  0  0  0  0  0\\n    5.3782    1.4106   -3.3562 C   0  0  0  0  0  0  0  0  0  0  0  0\\n    4.1393    2.2594   -3.6631 C   0  0  0  0  0  0  0  0  0  0  0  0\\n    4.5463    3.7080   -3.8905 C   0  0  0  0  0  0  0  0  0  0  0  0\\n    3.3421    4.5690   -4.1957 C   0  0  0  0  0  0  0  0  0  0  0  0\\n    2.3773    4.5687   -3.1381 N   0  0  0  0  0  0  0  0  0  0  0  0\\n    5.9977    1.4158   -4.2954 H   0  0  0  0  0  0  0  0  0  0  0  0\\n    5.9548    1.8436   -2.5244 H   0  0  0  0  0  0  0  0  0  0  0  0\\n    3.6870    1.9178   -4.6163 H   0  0  0  0  0  0  0  0  0  0  0  0\\n    3.4144    2.1934   -2.8377 H   0  0  0  0  0  0  0  0  0  0  0  0\\n    5.2714    3.7243   -4.7086 H   0  0  0  0  0  0  0  0  0  0  0  0\\n    5.0269    4.1012   -2.9816 H   0  0  0  0  0  0  0  0  0  0  0  0\\n    2.8373    4.2570   -5.1385 H   0  0  0  0  0  0  0  0  0  0  0  0\\n    3.6826    5.6103   -4.3562 H   0  0  0  0  0  0  0  0  0  0  0  0\\n  1  2  1  0\\n  2  3  1  0\\n  2  4  1  0\\n  1  5  1  0\\n  2  6  1  0\\n  3  7  1  0\\n  4  8  1  0\\n  9 10  1  0\\n 10 11  1  0\\n 10 12  1  0\\n  9 13  1  0\\n 10 14  1  0\\n 11 15  1  0\\n 12 16  1  0\\n 17 18  1  0\\n 18 19  1  0\\n 18 20  1  0\\n 18 21  1  0\\n 17 22  1  0\\n 20 23  1  0\\n 21 24  1  0\\n 25 26  1  0\\n 26 27  1  0\\n 26 28  1  0\\n 26 29  1  0\\n 25 30  1  0\\n 28 31  1  0\\n 29 32  1  0\\n 33 34  1  0\\n 34 35  1  0\\n 35 36  1  0\\n 34 37  1  0\\n 34 38  1  0\\n 35 39  1  0\\n 35 40  1  0\\n 41 42  1  0\\n 42 43  1  0\\n 43 44  1  0\\n 43 45  1  0\\n 42 46  1  0\\n 42 47  1  0\\n 43 48  1  0\\n 49 50  1  0\\n 50 51  1  0\\n 51 52  1  0\\n 52 53  1  0\\n 53 54  1  0\\n 50 55  1  0\\n 50 56  1  0\\n 51 57  1  0\\n 51 58  1  0\\n 52 59  1  0\\n 52 60  1  0\\n 53 61  1  0\\n 53 62  1  0\\n 63 64  1  0\\n 64 65  1  0\\n 65 66  1  0\\n 66 67  1  0\\n 67 68  1  0\\n 64 69  1  0\\n 64 70  1  0\\n 65 71  1  0\\n 65 72  1  0\\n 66 73  1  0\\n 66 74  1  0\\n 67 75  1  0\\n 67 76  1  0\\n 77 78  1  0\\n 78 79  1  0\\n 79 80  1  0\\n 80 81  1  0\\n 81 82  1  0\\n 78 83  1  0\\n 78 84  1  0\\n 79 85  1  0\\n 79 86  1  0\\n 80 87  1  0\\n 80 88  1  0\\n 81 89  1  0\\n 81 90  1  0\\n 91 92  1  0\\n 92 93  1  0\\n 93 94  1  0\\n 94 95  1  0\\n 95 96  1  0\\n 92 97  1  0\\n 92 98  1  0\\n 93 99  1  0\\n 93100  1  0\\n 94101  1  0\\n 94102  1  0\\n 95103  1  0\\n 95104  1  0\\n  1 33  2  3\\n  9 36  2  3\\n  3 41  2  3\\n 17 45  2  3\\n  4 49  2  3\\n 25 54  2  3\\n 12 63  2  3\\n 20 68  2  3\\n 11 77  2  3\\n 29 82  2  3\\n 21 91  2  3\\n 28 96  2  3\\nM  END\\n\");\nviewer_17088951737843072.setStyle({\"stick\": {\"colorscheme\": \"cyanCarbon\"}});\nviewer_17088951737843072.zoomTo();\n\tviewer_17088951737843072.setBackgroundColor(\"0xeeeeee\");\n\tviewer_17088951737843072.zoomTo();\nviewer_17088951737843072.render();\n});\n</script>",
      "text/html": [
       "<div id=\"3dmolviewer_17088951737843072\"  style=\"position: relative; width: 400px; height: 400px;\">\n",
       "        <p id=\"3dmolwarning_17088951737843072\" style=\"background-color:#ffcccc;color:black\">You appear to be running in JupyterLab (or JavaScript failed to load for some other reason).  You need to install the 3dmol extension: <br>\n",
       "        <tt>jupyter labextension install jupyterlab_3dmol</tt></p>\n",
       "        </div>\n",
       "<script>\n",
       "\n",
       "var loadScriptAsync = function(uri){\n",
       "  return new Promise((resolve, reject) => {\n",
       "    //this is to ignore the existence of requirejs amd\n",
       "    var savedexports, savedmodule;\n",
       "    if (typeof exports !== 'undefined') savedexports = exports;\n",
       "    else exports = {}\n",
       "    if (typeof module !== 'undefined') savedmodule = module;\n",
       "    else module = {}\n",
       "\n",
       "    var tag = document.createElement('script');\n",
       "    tag.src = uri;\n",
       "    tag.async = true;\n",
       "    tag.onload = () => {\n",
       "        exports = savedexports;\n",
       "        module = savedmodule;\n",
       "        resolve();\n",
       "    };\n",
       "  var firstScriptTag = document.getElementsByTagName('script')[0];\n",
       "  firstScriptTag.parentNode.insertBefore(tag, firstScriptTag);\n",
       "});\n",
       "};\n",
       "\n",
       "if(typeof $3Dmolpromise === 'undefined') {\n",
       "$3Dmolpromise = null;\n",
       "  $3Dmolpromise = loadScriptAsync('https://cdnjs.cloudflare.com/ajax/libs/3Dmol/2.0.4/3Dmol-min.js');\n",
       "}\n",
       "\n",
       "var viewer_17088951737843072 = null;\n",
       "var warn = document.getElementById(\"3dmolwarning_17088951737843072\");\n",
       "if(warn) {\n",
       "    warn.parentNode.removeChild(warn);\n",
       "}\n",
       "$3Dmolpromise.then(function() {\n",
       "viewer_17088951737843072 = $3Dmol.createViewer(document.getElementById(\"3dmolviewer_17088951737843072\"),{backgroundColor:\"white\"});\n",
       "viewer_17088951737843072.addModel(\"\\n     RDKit          3D\\n\\n104106  0  0  0  0  0  0  0  0999 V2000\\n   -1.3626   -0.1686    4.1612 C   0  0  0  0  0  0  0  0  0  0  0  0\\n   -0.1468    0.5514    4.6223 C   0  0  0  0  0  0  0  0  0  0  0  0\\n    1.0797   -0.1808    4.1612 C   0  0  0  0  0  0  0  0  0  0  0  0\\n   -0.1647    1.9453    4.1612 C   0  0  0  0  0  0  0  0  0  0  0  0\\n   -1.5598   -0.3341    3.1157 H   0  0  0  0  0  0  0  0  0  0  0  0\\n   -0.1264    0.5648    5.7330 H   0  0  0  0  0  0  0  0  0  0  0  0\\n    1.2287   -0.3188    3.0849 H   0  0  0  0  0  0  0  0  0  0  0  0\\n    0.6204    2.6591    4.3784 H   0  0  0  0  0  0  0  0  0  0  0  0\\n   -4.7660   -2.1622   -0.0837 C   0  0  0  0  0  0  0  0  0  0  0  0\\n   -4.7268   -2.1576   -1.5696 C   0  0  0  0  0  0  0  0  0  0  0  0\\n   -4.7730   -0.7440   -2.0721 C   0  0  0  0  0  0  0  0  0  0  0  0\\n   -3.5455   -2.8799   -2.0583 C   0  0  0  0  0  0  0  0  0  0  0  0\\n   -4.0079   -1.6730    0.5038 H   0  0  0  0  0  0  0  0  0  0  0  0\\n   -5.6260   -2.6784   -1.9627 H   0  0  0  0  0  0  0  0  0  0  0  0\\n   -3.9739   -0.0586   -1.7699 H   0  0  0  0  0  0  0  0  0  0  0  0\\n   -3.3108   -3.0048   -3.1082 H   0  0  0  0  0  0  0  0  0  0  0  0\\n    4.4128   -2.4782   -0.2242 C   0  0  0  0  0  0  0  0  0  0  0  0\\n    4.4236   -2.4827   -1.7079 C   0  0  0  0  0  0  0  0  0  0  0  0\\n    5.9006   -3.3211   -2.2276 Cl  0  0  0  0  0  0  0  0  0  0  0  0\\n    3.2042   -3.1616   -2.2182 C   0  0  0  0  0  0  0  0  0  0  0  0\\n    4.3895   -1.0835   -2.2538 C   0  0  0  0  0  0  0  0  0  0  0  0\\n    5.2159   -2.0294    0.3414 H   0  0  0  0  0  0  0  0  0  0  0  0\\n    3.0464   -3.2565   -3.2822 H   0  0  0  0  0  0  0  0  0  0  0  0\\n    3.5197   -0.5010   -1.9685 H   0  0  0  0  0  0  0  0  0  0  0  0\\n   -0.3895    5.8780   -0.4608 C   0  0  0  0  0  0  0  0  0  0  0  0\\n   -0.3910    5.8896   -1.9445 C   0  0  0  0  0  0  0  0  0  0  0  0\\n   -0.4034    7.5879   -2.4643 Cl  0  0  0  0  0  0  0  0  0  0  0  0\\n    0.8067    5.1730   -2.4548 C   0  0  0  0  0  0  0  0  0  0  0  0\\n   -1.5856    5.1604   -2.4904 C   0  0  0  0  0  0  0  0  0  0  0  0\\n   -1.1797    6.3492    0.1048 H   0  0  0  0  0  0  0  0  0  0  0  0\\n    0.9678    5.0838   -3.5188 H   0  0  0  0  0  0  0  0  0  0  0  0\\n   -1.6552    4.1160   -2.2051 H   0  0  0  0  0  0  0  0  0  0  0  0\\n   -2.8327   -1.3733    4.1847 N   0  0  0  0  0  0  0  0  0  0  0  0\\n   -4.2200   -1.7469    4.2078 C   0  0  0  0  0  0  0  0  0  0  0  0\\n   -4.5439   -2.7235    3.0809 C   0  0  0  0  0  0  0  0  0  0  0  0\\n   -4.2957   -2.2180    1.7957 N   0  0  0  0  0  0  0  0  0  0  0  0\\n   -4.8626   -0.8456    4.1308 H   0  0  0  0  0  0  0  0  0  0  0  0\\n   -4.3934   -2.2986    5.1568 H   0  0  0  0  0  0  0  0  0  0  0  0\\n   -3.8537   -3.5987    3.2540 H   0  0  0  0  0  0  0  0  0  0  0  0\\n   -5.5852   -3.0672    3.1869 H   0  0  0  0  0  0  0  0  0  0  0  0\\n    2.3438   -1.1859    3.7172 N   0  0  0  0  0  0  0  0  0  0  0  0\\n    3.2906   -2.2729    3.7476 C   0  0  0  0  0  0  0  0  0  0  0  0\\n    4.3509   -2.0078    2.6897 C   0  0  0  0  0  0  0  0  0  0  0  0\\n    5.1680   -0.4822    3.0408 Cl  0  0  0  0  0  0  0  0  0  0  0  0\\n    3.7812   -2.0158    1.3700 N   0  0  0  0  0  0  0  0  0  0  0  0\\n    3.7812   -2.2761    4.7419 H   0  0  0  0  0  0  0  0  0  0  0  0\\n    2.8316   -3.2578    3.5265 H   0  0  0  0  0  0  0  0  0  0  0  0\\n    5.0886   -2.8528    2.7303 H   0  0  0  0  0  0  0  0  0  0  0  0\\n   -0.0875    3.4164    5.2540 N   0  0  0  0  0  0  0  0  0  0  0  0\\n   -0.5018    4.7788    4.9850 C   0  0  0  0  0  0  0  0  0  0  0  0\\n    0.1246    5.2750    3.6769 C   0  0  0  0  0  0  0  0  0  0  0  0\\n   -0.3152    6.7056    3.4012 C   0  0  0  0  0  0  0  0  0  0  0  0\\n    0.2888    7.2212    2.1152 C   0  0  0  0  0  0  0  0  0  0  0  0\\n   -0.0875    6.4427    0.9742 N   0  0  0  0  0  0  0  0  0  0  0  0\\n   -0.0498    5.4061    5.8024 H   0  0  0  0  0  0  0  0  0  0  0  0\\n   -1.5945    4.9106    4.9720 H   0  0  0  0  0  0  0  0  0  0  0  0\\n    1.2273    5.3125    3.7888 H   0  0  0  0  0  0  0  0  0  0  0  0\\n   -0.1641    4.6208    2.8404 H   0  0  0  0  0  0  0  0  0  0  0  0\\n   -0.0182    7.3150    4.2589 H   0  0  0  0  0  0  0  0  0  0  0  0\\n   -1.4110    6.7402    3.3029 H   0  0  0  0  0  0  0  0  0  0  0  0\\n    1.4008    7.2633    2.1667 H   0  0  0  0  0  0  0  0  0  0  0  0\\n   -0.0539    8.2618    1.9551 H   0  0  0  0  0  0  0  0  0  0  0  0\\n   -3.0918   -4.3311   -3.1133 N   0  0  0  0  0  0  0  0  0  0  0  0\\n   -2.0856   -5.3518   -3.3277 C   0  0  0  0  0  0  0  0  0  0  0  0\\n   -0.7310   -4.7043   -3.6369 C   0  0  0  0  0  0  0  0  0  0  0  0\\n    0.3200   -5.7819   -3.8605 C   0  0  0  0  0  0  0  0  0  0  0  0\\n    1.6677   -5.1707   -4.1679 C   0  0  0  0  0  0  0  0  0  0  0  0\\n    2.1499   -4.3311   -3.1133 N   0  0  0  0  0  0  0  0  0  0  0  0\\n   -2.3908   -5.8943   -4.2650 H   0  0  0  0  0  0  0  0  0  0  0  0\\n   -1.9989   -6.0645   -2.4934 H   0  0  0  0  0  0  0  0  0  0  0  0\\n   -0.8007   -4.1453   -4.5922 H   0  0  0  0  0  0  0  0  0  0  0  0\\n   -0.4257   -4.0406   -2.8140 H   0  0  0  0  0  0  0  0  0  0  0  0\\n   -0.0284   -6.4210   -4.6762 H   0  0  0  0  0  0  0  0  0  0  0  0\\n    0.4202   -6.3914   -2.9494 H   0  0  0  0  0  0  0  0  0  0  0  0\\n    1.6500   -4.5809   -5.1128 H   0  0  0  0  0  0  0  0  0  0  0  0\\n    2.3993   -5.9868   -4.3254 H   0  0  0  0  0  0  0  0  0  0  0  0\\n   -5.4589   -0.0654   -3.4374 N   0  0  0  0  0  0  0  0  0  0  0  0\\n   -5.4245    1.0766   -4.3288 C   0  0  0  0  0  0  0  0  0  0  0  0\\n   -4.8136    2.2880   -3.6154 C   0  0  0  0  0  0  0  0  0  0  0  0\\n   -4.7806    3.4826   -4.5576 C   0  0  0  0  0  0  0  0  0  0  0  0\\n   -4.1821    4.6932   -3.8790 C   0  0  0  0  0  0  0  0  0  0  0  0\\n   -2.8380    4.4740   -3.4374 N   0  0  0  0  0  0  0  0  0  0  0  0\\n   -6.4988    1.3444   -4.5292 H   0  0  0  0  0  0  0  0  0  0  0  0\\n   -4.9046    0.8766   -5.2782 H   0  0  0  0  0  0  0  0  0  0  0  0\\n   -5.4679    2.5853   -2.7708 H   0  0  0  0  0  0  0  0  0  0  0  0\\n   -3.7977    2.0541   -3.2627 H   0  0  0  0  0  0  0  0  0  0  0  0\\n   -5.8050    3.6717   -4.8894 H   0  0  0  0  0  0  0  0  0  0  0  0\\n   -4.1616    3.2409   -5.4351 H   0  0  0  0  0  0  0  0  0  0  0  0\\n   -4.7932    5.0256   -3.0089 H   0  0  0  0  0  0  0  0  0  0  0  0\\n   -4.1797    5.5366   -4.5964 H   0  0  0  0  0  0  0  0  0  0  0  0\\n    4.9981    0.0293   -3.1381 N   0  0  0  0  0  0  0  0  0  0  0  0\\n    5.3782    1.4106   -3.3562 C   0  0  0  0  0  0  0  0  0  0  0  0\\n    4.1393    2.2594   -3.6631 C   0  0  0  0  0  0  0  0  0  0  0  0\\n    4.5463    3.7080   -3.8905 C   0  0  0  0  0  0  0  0  0  0  0  0\\n    3.3421    4.5690   -4.1957 C   0  0  0  0  0  0  0  0  0  0  0  0\\n    2.3773    4.5687   -3.1381 N   0  0  0  0  0  0  0  0  0  0  0  0\\n    5.9977    1.4158   -4.2954 H   0  0  0  0  0  0  0  0  0  0  0  0\\n    5.9548    1.8436   -2.5244 H   0  0  0  0  0  0  0  0  0  0  0  0\\n    3.6870    1.9178   -4.6163 H   0  0  0  0  0  0  0  0  0  0  0  0\\n    3.4144    2.1934   -2.8377 H   0  0  0  0  0  0  0  0  0  0  0  0\\n    5.2714    3.7243   -4.7086 H   0  0  0  0  0  0  0  0  0  0  0  0\\n    5.0269    4.1012   -2.9816 H   0  0  0  0  0  0  0  0  0  0  0  0\\n    2.8373    4.2570   -5.1385 H   0  0  0  0  0  0  0  0  0  0  0  0\\n    3.6826    5.6103   -4.3562 H   0  0  0  0  0  0  0  0  0  0  0  0\\n  1  2  1  0\\n  2  3  1  0\\n  2  4  1  0\\n  1  5  1  0\\n  2  6  1  0\\n  3  7  1  0\\n  4  8  1  0\\n  9 10  1  0\\n 10 11  1  0\\n 10 12  1  0\\n  9 13  1  0\\n 10 14  1  0\\n 11 15  1  0\\n 12 16  1  0\\n 17 18  1  0\\n 18 19  1  0\\n 18 20  1  0\\n 18 21  1  0\\n 17 22  1  0\\n 20 23  1  0\\n 21 24  1  0\\n 25 26  1  0\\n 26 27  1  0\\n 26 28  1  0\\n 26 29  1  0\\n 25 30  1  0\\n 28 31  1  0\\n 29 32  1  0\\n 33 34  1  0\\n 34 35  1  0\\n 35 36  1  0\\n 34 37  1  0\\n 34 38  1  0\\n 35 39  1  0\\n 35 40  1  0\\n 41 42  1  0\\n 42 43  1  0\\n 43 44  1  0\\n 43 45  1  0\\n 42 46  1  0\\n 42 47  1  0\\n 43 48  1  0\\n 49 50  1  0\\n 50 51  1  0\\n 51 52  1  0\\n 52 53  1  0\\n 53 54  1  0\\n 50 55  1  0\\n 50 56  1  0\\n 51 57  1  0\\n 51 58  1  0\\n 52 59  1  0\\n 52 60  1  0\\n 53 61  1  0\\n 53 62  1  0\\n 63 64  1  0\\n 64 65  1  0\\n 65 66  1  0\\n 66 67  1  0\\n 67 68  1  0\\n 64 69  1  0\\n 64 70  1  0\\n 65 71  1  0\\n 65 72  1  0\\n 66 73  1  0\\n 66 74  1  0\\n 67 75  1  0\\n 67 76  1  0\\n 77 78  1  0\\n 78 79  1  0\\n 79 80  1  0\\n 80 81  1  0\\n 81 82  1  0\\n 78 83  1  0\\n 78 84  1  0\\n 79 85  1  0\\n 79 86  1  0\\n 80 87  1  0\\n 80 88  1  0\\n 81 89  1  0\\n 81 90  1  0\\n 91 92  1  0\\n 92 93  1  0\\n 93 94  1  0\\n 94 95  1  0\\n 95 96  1  0\\n 92 97  1  0\\n 92 98  1  0\\n 93 99  1  0\\n 93100  1  0\\n 94101  1  0\\n 94102  1  0\\n 95103  1  0\\n 95104  1  0\\n  1 33  2  3\\n  9 36  2  3\\n  3 41  2  3\\n 17 45  2  3\\n  4 49  2  3\\n 25 54  2  3\\n 12 63  2  3\\n 20 68  2  3\\n 11 77  2  3\\n 29 82  2  3\\n 21 91  2  3\\n 28 96  2  3\\nM  END\\n\");\n",
       "viewer_17088951737843072.setStyle({\"stick\": {\"colorscheme\": \"cyanCarbon\"}});\n",
       "viewer_17088951737843072.zoomTo();\n",
       "\tviewer_17088951737843072.setBackgroundColor(\"0xeeeeee\");\n",
       "\tviewer_17088951737843072.zoomTo();\n",
       "viewer_17088951737843072.render();\n",
       "});\n",
       "</script>"
      ]
     },
     "metadata": {},
     "output_type": "display_data"
    }
   ],
   "source": [
    "show_stk_mol(cage)"
   ]
  },
  {
   "cell_type": "code",
   "execution_count": 5,
   "metadata": {},
   "outputs": [],
   "source": [
    "cage_energy = stko.MMFFEnergy(ignore_inter_interactions=False).get_energy(cage)"
   ]
  },
  {
   "cell_type": "code",
   "execution_count": 6,
   "metadata": {},
   "outputs": [
    {
     "name": "stdout",
     "output_type": "stream",
     "text": [
      "2923.2520861618846\n"
     ]
    }
   ],
   "source": [
    "print(cage_energy)"
   ]
  },
  {
   "cell_type": "code",
   "execution_count": 7,
   "metadata": {},
   "outputs": [],
   "source": [
    "stk_guest = stk.BuildingBlock('C1CC=CCC(C1)O')"
   ]
  },
  {
   "cell_type": "code",
   "execution_count": 8,
   "metadata": {},
   "outputs": [],
   "source": [
    "guest_energy = stko.MMFFEnergy(ignore_inter_interactions=False).get_energy(stk_guest)"
   ]
  },
  {
   "cell_type": "code",
   "execution_count": 9,
   "metadata": {},
   "outputs": [
    {
     "name": "stdout",
     "output_type": "stream",
     "text": [
      "48.76120245750583\n"
     ]
    }
   ],
   "source": [
    "print(guest_energy)"
   ]
  },
  {
   "cell_type": "code",
   "execution_count": 10,
   "metadata": {},
   "outputs": [
    {
     "data": {
      "application/3dmoljs_load.v0": "<div id=\"3dmolviewer_17088951753615112\"  style=\"position: relative; width: 400px; height: 400px;\">\n        <p id=\"3dmolwarning_17088951753615112\" style=\"background-color:#ffcccc;color:black\">You appear to be running in JupyterLab (or JavaScript failed to load for some other reason).  You need to install the 3dmol extension: <br>\n        <tt>jupyter labextension install jupyterlab_3dmol</tt></p>\n        </div>\n<script>\n\nvar loadScriptAsync = function(uri){\n  return new Promise((resolve, reject) => {\n    //this is to ignore the existence of requirejs amd\n    var savedexports, savedmodule;\n    if (typeof exports !== 'undefined') savedexports = exports;\n    else exports = {}\n    if (typeof module !== 'undefined') savedmodule = module;\n    else module = {}\n\n    var tag = document.createElement('script');\n    tag.src = uri;\n    tag.async = true;\n    tag.onload = () => {\n        exports = savedexports;\n        module = savedmodule;\n        resolve();\n    };\n  var firstScriptTag = document.getElementsByTagName('script')[0];\n  firstScriptTag.parentNode.insertBefore(tag, firstScriptTag);\n});\n};\n\nif(typeof $3Dmolpromise === 'undefined') {\n$3Dmolpromise = null;\n  $3Dmolpromise = loadScriptAsync('https://cdnjs.cloudflare.com/ajax/libs/3Dmol/2.0.4/3Dmol-min.js');\n}\n\nvar viewer_17088951753615112 = null;\nvar warn = document.getElementById(\"3dmolwarning_17088951753615112\");\nif(warn) {\n    warn.parentNode.removeChild(warn);\n}\n$3Dmolpromise.then(function() {\nviewer_17088951753615112 = $3Dmol.createViewer(document.getElementById(\"3dmolviewer_17088951753615112\"),{backgroundColor:\"white\"});\nviewer_17088951753615112.addModel(\"\\n     RDKit          3D\\n\\n 20 20  0  0  0  0  0  0  0  0999 V2000\\n   -0.6590   -1.5229    0.1227 C   0  0  0  0  0  0  0  0  0  0  0  0\\n   -1.7058   -0.4657    0.0370 C   0  0  0  0  0  0  0  0  0  0  0  0\\n   -1.4132    0.7885    0.7047 C   0  0  0  0  0  0  0  0  0  0  0  0\\n   -0.3588    1.5686    0.5630 C   0  0  0  0  0  0  0  0  0  0  0  0\\n    0.7943    1.3724   -0.3069 C   0  0  0  0  0  0  0  0  0  0  0  0\\n    1.0444   -0.0404   -0.7307 C   0  0  0  0  0  0  0  0  0  0  0  0\\n    0.6911   -0.9384    0.4407 C   0  0  0  0  0  0  0  0  0  0  0  0\\n    2.3654   -0.2601   -1.0955 O   0  0  0  0  0  0  0  0  0  0  0  0\\n   -0.9369   -2.2272    0.9444 H   0  0  0  0  0  0  0  0  0  0  0  0\\n   -0.6544   -2.1165   -0.8014 H   0  0  0  0  0  0  0  0  0  0  0  0\\n   -2.6685   -0.9091    0.3657 H   0  0  0  0  0  0  0  0  0  0  0  0\\n   -1.8651   -0.2356   -1.0581 H   0  0  0  0  0  0  0  0  0  0  0  0\\n   -2.1944    1.1020    1.4170 H   0  0  0  0  0  0  0  0  0  0  0  0\\n   -0.3265    2.4736    1.1590 H   0  0  0  0  0  0  0  0  0  0  0  0\\n    0.7485    1.9934   -1.2460 H   0  0  0  0  0  0  0  0  0  0  0  0\\n    1.7024    1.7288    0.2303 H   0  0  0  0  0  0  0  0  0  0  0  0\\n    0.4221   -0.2472   -1.6260 H   0  0  0  0  0  0  0  0  0  0  0  0\\n    0.5531   -0.3381    1.3875 H   0  0  0  0  0  0  0  0  0  0  0  0\\n    1.4546   -1.6801    0.6631 H   0  0  0  0  0  0  0  0  0  0  0  0\\n    3.0068   -0.0459   -0.3752 H   0  0  0  0  0  0  0  0  0  0  0  0\\n  1  2  1  0\\n  2  3  1  0\\n  3  4  2  0\\n  4  5  1  0\\n  5  6  1  0\\n  6  7  1  0\\n  6  8  1  0\\n  7  1  1  0\\n  1  9  1  0\\n  1 10  1  0\\n  2 11  1  0\\n  2 12  1  0\\n  3 13  1  0\\n  4 14  1  0\\n  5 15  1  0\\n  5 16  1  0\\n  6 17  1  0\\n  7 18  1  0\\n  7 19  1  0\\n  8 20  1  0\\nM  END\\n\");\nviewer_17088951753615112.setStyle({\"stick\": {\"colorscheme\": \"cyanCarbon\"}});\nviewer_17088951753615112.zoomTo();\n\tviewer_17088951753615112.setBackgroundColor(\"0xeeeeee\");\n\tviewer_17088951753615112.zoomTo();\nviewer_17088951753615112.render();\n});\n</script>",
      "text/html": [
       "<div id=\"3dmolviewer_17088951753615112\"  style=\"position: relative; width: 400px; height: 400px;\">\n",
       "        <p id=\"3dmolwarning_17088951753615112\" style=\"background-color:#ffcccc;color:black\">You appear to be running in JupyterLab (or JavaScript failed to load for some other reason).  You need to install the 3dmol extension: <br>\n",
       "        <tt>jupyter labextension install jupyterlab_3dmol</tt></p>\n",
       "        </div>\n",
       "<script>\n",
       "\n",
       "var loadScriptAsync = function(uri){\n",
       "  return new Promise((resolve, reject) => {\n",
       "    //this is to ignore the existence of requirejs amd\n",
       "    var savedexports, savedmodule;\n",
       "    if (typeof exports !== 'undefined') savedexports = exports;\n",
       "    else exports = {}\n",
       "    if (typeof module !== 'undefined') savedmodule = module;\n",
       "    else module = {}\n",
       "\n",
       "    var tag = document.createElement('script');\n",
       "    tag.src = uri;\n",
       "    tag.async = true;\n",
       "    tag.onload = () => {\n",
       "        exports = savedexports;\n",
       "        module = savedmodule;\n",
       "        resolve();\n",
       "    };\n",
       "  var firstScriptTag = document.getElementsByTagName('script')[0];\n",
       "  firstScriptTag.parentNode.insertBefore(tag, firstScriptTag);\n",
       "});\n",
       "};\n",
       "\n",
       "if(typeof $3Dmolpromise === 'undefined') {\n",
       "$3Dmolpromise = null;\n",
       "  $3Dmolpromise = loadScriptAsync('https://cdnjs.cloudflare.com/ajax/libs/3Dmol/2.0.4/3Dmol-min.js');\n",
       "}\n",
       "\n",
       "var viewer_17088951753615112 = null;\n",
       "var warn = document.getElementById(\"3dmolwarning_17088951753615112\");\n",
       "if(warn) {\n",
       "    warn.parentNode.removeChild(warn);\n",
       "}\n",
       "$3Dmolpromise.then(function() {\n",
       "viewer_17088951753615112 = $3Dmol.createViewer(document.getElementById(\"3dmolviewer_17088951753615112\"),{backgroundColor:\"white\"});\n",
       "viewer_17088951753615112.addModel(\"\\n     RDKit          3D\\n\\n 20 20  0  0  0  0  0  0  0  0999 V2000\\n   -0.6590   -1.5229    0.1227 C   0  0  0  0  0  0  0  0  0  0  0  0\\n   -1.7058   -0.4657    0.0370 C   0  0  0  0  0  0  0  0  0  0  0  0\\n   -1.4132    0.7885    0.7047 C   0  0  0  0  0  0  0  0  0  0  0  0\\n   -0.3588    1.5686    0.5630 C   0  0  0  0  0  0  0  0  0  0  0  0\\n    0.7943    1.3724   -0.3069 C   0  0  0  0  0  0  0  0  0  0  0  0\\n    1.0444   -0.0404   -0.7307 C   0  0  0  0  0  0  0  0  0  0  0  0\\n    0.6911   -0.9384    0.4407 C   0  0  0  0  0  0  0  0  0  0  0  0\\n    2.3654   -0.2601   -1.0955 O   0  0  0  0  0  0  0  0  0  0  0  0\\n   -0.9369   -2.2272    0.9444 H   0  0  0  0  0  0  0  0  0  0  0  0\\n   -0.6544   -2.1165   -0.8014 H   0  0  0  0  0  0  0  0  0  0  0  0\\n   -2.6685   -0.9091    0.3657 H   0  0  0  0  0  0  0  0  0  0  0  0\\n   -1.8651   -0.2356   -1.0581 H   0  0  0  0  0  0  0  0  0  0  0  0\\n   -2.1944    1.1020    1.4170 H   0  0  0  0  0  0  0  0  0  0  0  0\\n   -0.3265    2.4736    1.1590 H   0  0  0  0  0  0  0  0  0  0  0  0\\n    0.7485    1.9934   -1.2460 H   0  0  0  0  0  0  0  0  0  0  0  0\\n    1.7024    1.7288    0.2303 H   0  0  0  0  0  0  0  0  0  0  0  0\\n    0.4221   -0.2472   -1.6260 H   0  0  0  0  0  0  0  0  0  0  0  0\\n    0.5531   -0.3381    1.3875 H   0  0  0  0  0  0  0  0  0  0  0  0\\n    1.4546   -1.6801    0.6631 H   0  0  0  0  0  0  0  0  0  0  0  0\\n    3.0068   -0.0459   -0.3752 H   0  0  0  0  0  0  0  0  0  0  0  0\\n  1  2  1  0\\n  2  3  1  0\\n  3  4  2  0\\n  4  5  1  0\\n  5  6  1  0\\n  6  7  1  0\\n  6  8  1  0\\n  7  1  1  0\\n  1  9  1  0\\n  1 10  1  0\\n  2 11  1  0\\n  2 12  1  0\\n  3 13  1  0\\n  4 14  1  0\\n  5 15  1  0\\n  5 16  1  0\\n  6 17  1  0\\n  7 18  1  0\\n  7 19  1  0\\n  8 20  1  0\\nM  END\\n\");\n",
       "viewer_17088951753615112.setStyle({\"stick\": {\"colorscheme\": \"cyanCarbon\"}});\n",
       "viewer_17088951753615112.zoomTo();\n",
       "\tviewer_17088951753615112.setBackgroundColor(\"0xeeeeee\");\n",
       "\tviewer_17088951753615112.zoomTo();\n",
       "viewer_17088951753615112.render();\n",
       "});\n",
       "</script>"
      ]
     },
     "metadata": {},
     "output_type": "display_data"
    }
   ],
   "source": [
    "show_stk_mol(stk_guest)"
   ]
  },
  {
   "cell_type": "code",
   "execution_count": 11,
   "metadata": {},
   "outputs": [],
   "source": [
    "cage = stk.BuildingBlock.init_from_molecule(cage)\n",
    "cage_atoms = [\n",
    "    (atom.get_id(), atom.__class__.__name__)\n",
    "    for atom in cage.get_atoms()\n",
    "]\n",
    "\n",
    "# Build stk guest.\n",
    "guest_atoms = [\n",
    "    (atom.get_id(), atom.__class__.__name__)\n",
    "    for atom in stk_guest.get_atoms()\n",
    "]\n",
    "\n",
    "host = spd.Molecule(\n",
    "    atoms=(\n",
    "        spd.Atom(id=i[0], element_string=i[1])\n",
    "        for i in cage_atoms\n",
    "    ),\n",
    "    bonds=(),\n",
    "    position_matrix=cage.get_position_matrix(),\n",
    ")\n",
    "guest = spd.Molecule(\n",
    "    atoms=(\n",
    "        spd.Atom(id=i[0], element_string=i[1])\n",
    "        for i in guest_atoms\n",
    "    ),\n",
    "    bonds=(),\n",
    "    position_matrix=stk_guest.get_position_matrix(),\n",
    ")"
   ]
  },
  {
   "cell_type": "code",
   "execution_count": 12,
   "metadata": {},
   "outputs": [
    {
     "data": {
      "text/plain": [
       "<Molecule(104 atoms) at 123778176827152>"
      ]
     },
     "execution_count": 12,
     "metadata": {},
     "output_type": "execute_result"
    }
   ],
   "source": [
    "host"
   ]
  },
  {
   "cell_type": "code",
   "execution_count": 13,
   "metadata": {},
   "outputs": [
    {
     "data": {
      "text/plain": [
       "<Molecule(20 atoms) at 123778165260176>"
      ]
     },
     "execution_count": 13,
     "metadata": {},
     "output_type": "execute_result"
    }
   ],
   "source": [
    "guest"
   ]
  },
  {
   "cell_type": "code",
   "execution_count": 14,
   "metadata": {},
   "outputs": [],
   "source": [
    "cg = spd.Spinner(\n",
    "    step_size=0.5,\n",
    "    rotation_step_size=5,\n",
    "    num_conformers=100,\n",
    "    max_attempts=10000,\n",
    ")"
   ]
  },
  {
   "cell_type": "code",
   "execution_count": 15,
   "metadata": {},
   "outputs": [
    {
     "data": {
      "text/plain": [
       "<spindry.spinner.Spinner at 0x709359a8a710>"
      ]
     },
     "execution_count": 15,
     "metadata": {},
     "output_type": "execute_result"
    }
   ],
   "source": [
    "cg"
   ]
  },
  {
   "cell_type": "code",
   "execution_count": 16,
   "metadata": {},
   "outputs": [],
   "source": [
    "supramolecule = spd.SupraMolecule.init_from_components(components=(host, guest))"
   ]
  },
  {
   "cell_type": "code",
   "execution_count": 18,
   "metadata": {},
   "outputs": [
    {
     "name": "stdout",
     "output_type": "stream",
     "text": [
      "SupraMolecule(2 components, <Molecule(104 atoms) at 123778176827152>, <Molecule(20 atoms) at 123778165260176>)\n",
      "0 -10.154907476240936\n",
      "SupraMolecule(2 components, <Molecule(104 atoms) at 123778176827152>, <Molecule(20 atoms) at 123778125218384>)\n",
      "1 -10.532334326710696\n",
      "SupraMolecule(2 components, <Molecule(104 atoms) at 123778176827152>, <Molecule(20 atoms) at 123778125270672>)\n",
      "2 -11.665500902879728\n",
      "SupraMolecule(2 components, <Molecule(104 atoms) at 123778176827152>, <Molecule(20 atoms) at 123778124990992>)\n",
      "3 -14.735447582015139\n",
      "SupraMolecule(2 components, <Molecule(104 atoms) at 123778176827152>, <Molecule(20 atoms) at 123778124970576>)\n",
      "4 -14.229560781859185\n",
      "SupraMolecule(2 components, <Molecule(104 atoms) at 123778176827152>, <Molecule(20 atoms) at 123778125003600>)\n",
      "5 -15.47788255403472\n",
      "SupraMolecule(2 components, <Molecule(104 atoms) at 123778176827152>, <Molecule(20 atoms) at 123778125271696>)\n",
      "6 -14.595367432349384\n",
      "SupraMolecule(2 components, <Molecule(104 atoms) at 123778176827152>, <Molecule(20 atoms) at 123778125091856>)\n",
      "7 -18.68300836966181\n",
      "SupraMolecule(2 components, <Molecule(104 atoms) at 123778176827152>, <Molecule(20 atoms) at 123778165405776>)\n",
      "8 -21.916489783494605\n",
      "SupraMolecule(2 components, <Molecule(104 atoms) at 123778176827152>, <Molecule(20 atoms) at 123778165545360>)\n",
      "9 -22.29739314018985\n",
      "SupraMolecule(2 components, <Molecule(104 atoms) at 123778176827152>, <Molecule(20 atoms) at 123778125231056>)\n",
      "10 -21.499548353752406\n",
      "SupraMolecule(2 components, <Molecule(104 atoms) at 123778176827152>, <Molecule(20 atoms) at 123778125089808>)\n",
      "11 -22.290906538593383\n",
      "SupraMolecule(2 components, <Molecule(104 atoms) at 123778176827152>, <Molecule(20 atoms) at 123778125118672>)\n",
      "12 -23.954518668031685\n",
      "SupraMolecule(2 components, <Molecule(104 atoms) at 123778176827152>, <Molecule(20 atoms) at 123778124830416>)\n",
      "13 -24.899298008498988\n",
      "SupraMolecule(2 components, <Molecule(104 atoms) at 123778176827152>, <Molecule(20 atoms) at 123778124972176>)\n",
      "14 -26.148551988925306\n",
      "SupraMolecule(2 components, <Molecule(104 atoms) at 123778176827152>, <Molecule(20 atoms) at 123778124781776>)\n",
      "15 -25.215567435981818\n",
      "SupraMolecule(2 components, <Molecule(104 atoms) at 123778176827152>, <Molecule(20 atoms) at 123778125143696>)\n",
      "16 -26.67647500203271\n",
      "SupraMolecule(2 components, <Molecule(104 atoms) at 123778176827152>, <Molecule(20 atoms) at 123778124993360>)\n",
      "17 -28.38674540874483\n",
      "SupraMolecule(2 components, <Molecule(104 atoms) at 123778176827152>, <Molecule(20 atoms) at 123778129218704>)\n",
      "18 -29.610090952032962\n",
      "SupraMolecule(2 components, <Molecule(104 atoms) at 123778176827152>, <Molecule(20 atoms) at 123778124971344>)\n",
      "19 -28.534833522619024\n",
      "SupraMolecule(2 components, <Molecule(104 atoms) at 123778176827152>, <Molecule(20 atoms) at 123778124976720>)\n",
      "20 -35.938927243705756\n",
      "SupraMolecule(2 components, <Molecule(104 atoms) at 123778176827152>, <Molecule(20 atoms) at 123778255705744>)\n",
      "21 -45.90961767187\n",
      "SupraMolecule(2 components, <Molecule(104 atoms) at 123778176827152>, <Molecule(20 atoms) at 123778125287888>)\n",
      "22 -45.2618994115211\n",
      "SupraMolecule(2 components, <Molecule(104 atoms) at 123778176827152>, <Molecule(20 atoms) at 123778125293264>)\n",
      "23 -45.83059698244564\n",
      "SupraMolecule(2 components, <Molecule(104 atoms) at 123778176827152>, <Molecule(20 atoms) at 123778203590800>)\n",
      "24 -45.57776021502499\n",
      "SupraMolecule(2 components, <Molecule(104 atoms) at 123778176827152>, <Molecule(20 atoms) at 123778125285456>)\n",
      "25 -45.582629601381385\n"
     ]
    }
   ],
   "source": [
    "binding_energies = {}\n",
    "\n",
    "for conformer in cg.get_conformers(supramolecule):\n",
    "    print(conformer)\n",
    "    print(conformer.get_cid(), conformer.get_potential())\n",
    "    for i, comp in enumerate(list(conformer.get_components())):\n",
    "        if i == 0:\n",
    "            cage = cage.with_position_matrix(comp.get_position_matrix())\n",
    "        elif i == 1:\n",
    "            bound_guest = stk_guest.with_position_matrix(comp.get_position_matrix())\n",
    "            \n",
    "    complex_mol = stk.ConstructedMolecule(\n",
    "        topology_graph=stk.host_guest.Complex(host=cage, guests=stk.host_guest.Guest(bound_guest))\n",
    "    )\n",
    "    complex_mol.write(\n",
    "        f'hg_example_output/conf_{conformer.get_cid()}.mol'\n",
    "    )\n",
    "    bound_energy = stko.MMFFEnergy(ignore_inter_interactions=False).get_energy(complex_mol)\n",
    "    binding_energy = bound_energy - (cage_energy + guest_energy)\n",
    "    binding_energies[conformer.get_cid()] = binding_energy"
   ]
  },
  {
   "cell_type": "code",
   "execution_count": 19,
   "metadata": {},
   "outputs": [
    {
     "name": "stdout",
     "output_type": "stream",
     "text": [
      "{0: 395.5225339441672, 1: 157.9369361907775, 2: 684.8550926803982, 3: 201.90225041905978, 4: 70.23016208992976, 5: 6.479719154862323, 6: 14.201990308003587, 7: 41.41587711194279, 8: 38.61547341275582, 9: 23.1107377309977, 10: 55.69605143004355, 11: 49.09235265808502, 12: 361.0950922293082, 13: 153.98969536696995, 14: 121.84832262428517, 15: 25.45092309861093, 16: 26.60297458846435, 17: 32.231575084403175, 18: 43.39062128671503, 19: 110.11106899387687, 20: 156.14551221387865, 21: 190.71952780905212, 22: 172.52848031557915, 23: 238.7598660651911, 24: 254.234626606049, 25: 253.5219899983981}\n"
     ]
    }
   ],
   "source": [
    "print(binding_energies)"
   ]
  },
  {
   "cell_type": "code",
   "execution_count": 20,
   "metadata": {},
   "outputs": [
    {
     "data": {
      "image/png": "[encoded data removed]",
      "text/plain": [
       "<Figure size 640x480 with 1 Axes>"
      ]
     },
     "metadata": {},
     "output_type": "display_data"
    }
   ],
   "source": [
    "plt.hist([binding_energies[i] for i in binding_energies])\n",
    "plt.xlabel('binding energy []')\n",
    "plt.show()"
   ]
  }
 ],
 "metadata": {
  "colab": {
   "collapsed_sections": [],
   "name": "Workshop1.ipynb",
   "provenance": [],
   "toc_visible": true
  },
  "kernelspec": {
   "display_name": "Python 3 (ipykernel)",
   "language": "python",
   "name": "python3"
  },
  "language_info": {
   "codemirror_mode": {
    "name": "ipython",
    "version": 3
   },
   "file_extension": ".py",
   "mimetype": "text/x-python",
   "name": "python",
   "nbconvert_exporter": "python",
   "pygments_lexer": "ipython3",
   "version": "3.11.8"
  }
 },
 "nbformat": 4,
 "nbformat_minor": 4
}
