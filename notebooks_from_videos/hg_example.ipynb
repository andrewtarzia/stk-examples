{
 "cells": [
  {
   "cell_type": "markdown",
   "metadata": {
    "id": "KwVJ_GZ1iepz"
   },
   "source": [
    "# Host-guest usage with stk\n",
    "\n",
    "by: Andrew Tarzia"
   ]
  },
  {
   "cell_type": "markdown",
   "metadata": {},
   "source": [
    "### Update 25/02/24\n",
    "\n",
    "Installation of py3Dmol using `pip install py3Dmol` is required.\n",
    "\n",
    "#### Using latest version of `SpinDry` and `stk`.\n",
    "\n",
    "- Changes in `SpinDry.Molecule` means we now use `spd.Molecule()` not `spd.Molecule.init()`\n",
    "- `spd.Spinner.get_conformers` should now take `spd.Supramolecule`, which we initialise from components.\n",
    "- To then access those components, you must do that through the `Supramolecule` interface.\n",
    "- Finally, we had to change to using the `stk.complex.Guest` interface.\n",
    "- See https://stk.readthedocs.io/en/stable/_autosummary/stk.host_guest.Complex.html\n",
    "- See https://github.com/andrewtarzia/SpinDry/blob/main/examples/"
   ]
  },
  {
   "cell_type": "markdown",
   "metadata": {},
   "source": [
    "# Imports "
   ]
  },
  {
   "cell_type": "code",
   "execution_count": null,
   "metadata": {
    "id": "VMIP6XDKoo06"
   },
   "outputs": [],
   "source": [
    "import sys\n",
    "sys.path.append('/usr/local/lib/python3.7/site-packages/')\n",
    "\n",
    "from rdkit import Chem \n",
    "from rdkit.Chem import AllChem as rdkit\n",
    "from collections import defaultdict\n",
    "from rdkit.Chem import rdFMCS\n",
    "from rdkit.Chem import Draw\n",
    "from rdkit.Chem.Draw import IPythonConsole\n",
    "from rdkit.Chem import rdDistGeom\n",
    "IPythonConsole.ipython_3d = True\n",
    "\n",
    "import py3Dmol\n",
    "from IPython.display import Image\n",
    "import matplotlib.pyplot as plt\n",
    "import subprocess\n",
    "import os\n",
    "import time\n",
    "import stk\n",
    "import stko\n",
    "import spindry as spd\n",
    "%matplotlib inline"
   ]
  },
  {
   "cell_type": "markdown",
   "metadata": {},
   "source": [
    "# Some useful functions "
   ]
  },
  {
   "cell_type": "code",
   "execution_count": null,
   "metadata": {
    "id": "Wu-nsRJ7pav4"
   },
   "outputs": [],
   "source": [
    "def show_stk_mol(stk_mol):\n",
    "    data = rdkit.MolToMolBlock(stk_mol.to_rdkit_mol())\n",
    "    p = py3Dmol.view(\n",
    "        data=data,\n",
    "        style={'stick':{'colorscheme':'cyanCarbon'}}, \n",
    "        width=400,\n",
    "        height=400,\n",
    "    )\n",
    "    p.setBackgroundColor('0xeeeeee')\n",
    "    p.zoomTo()\n",
    "    p.show()"
   ]
  },
  {
   "cell_type": "markdown",
   "metadata": {},
   "source": [
    "Working:"
   ]
  },
  {
   "cell_type": "code",
   "execution_count": null,
   "metadata": {},
   "outputs": [],
   "source": [
    "bb1 = stk.BuildingBlock(\n",
    "    smiles='O=CC(C=O)C=O',\n",
    "    functional_groups=[stk.AldehydeFactory()],\n",
    ")\n",
    "bb2 = stk.BuildingBlock(\n",
    "    smiles='O=CC(Cl)(C=O)C=O',\n",
    "    functional_groups=[stk.AldehydeFactory()],\n",
    ")\n",
    "bb3 = stk.BuildingBlock('NCCN', [stk.PrimaryAminoFactory()])\n",
    "bb4 = stk.BuildingBlock(\n",
    "    smiles='NCC(Cl)N',\n",
    "    functional_groups=[stk.PrimaryAminoFactory()],\n",
    ")\n",
    "bb5 = stk.BuildingBlock('NCCCCN', [stk.PrimaryAminoFactory()])\n",
    "\n",
    "cage = stk.ConstructedMolecule(\n",
    "    topology_graph=stk.cage.FourPlusSix(\n",
    "        # building_blocks is now a dict, which maps building\n",
    "        # blocks to the id of the vertices it should be placed\n",
    "        # on. You can use ranges to specify the ids.\n",
    "        building_blocks={\n",
    "            bb1: range(2),\n",
    "            bb2: (2, 3),\n",
    "            bb3: 4,\n",
    "            bb4: 5,\n",
    "            bb5: range(6, 10),\n",
    "        },\n",
    "        optimizer=stk.MCHammer(),\n",
    "    ),\n",
    ")"
   ]
  },
  {
   "cell_type": "code",
   "execution_count": null,
   "metadata": {},
   "outputs": [],
   "source": [
    "show_stk_mol(cage)"
   ]
  },
  {
   "cell_type": "code",
   "execution_count": null,
   "metadata": {},
   "outputs": [],
   "source": [
    "cage_energy = stko.MMFFEnergy(ignore_inter_interactions=False).get_energy(cage)"
   ]
  },
  {
   "cell_type": "code",
   "execution_count": null,
   "metadata": {},
   "outputs": [],
   "source": [
    "print(cage_energy)"
   ]
  },
  {
   "cell_type": "code",
   "execution_count": null,
   "metadata": {},
   "outputs": [],
   "source": [
    "stk_guest = stk.BuildingBlock('C1CC=CCC(C1)O')"
   ]
  },
  {
   "cell_type": "code",
   "execution_count": null,
   "metadata": {},
   "outputs": [],
   "source": [
    "guest_energy = stko.MMFFEnergy(ignore_inter_interactions=False).get_energy(stk_guest)"
   ]
  },
  {
   "cell_type": "code",
   "execution_count": null,
   "metadata": {},
   "outputs": [],
   "source": [
    "print(guest_energy)"
   ]
  },
  {
   "cell_type": "code",
   "execution_count": null,
   "metadata": {},
   "outputs": [],
   "source": [
    "show_stk_mol(stk_guest)"
   ]
  },
  {
   "cell_type": "code",
   "execution_count": null,
   "metadata": {},
   "outputs": [],
   "source": [
    "cage = stk.BuildingBlock.init_from_molecule(cage)\n",
    "cage_atoms = [\n",
    "    (atom.get_id(), atom.__class__.__name__)\n",
    "    for atom in cage.get_atoms()\n",
    "]\n",
    "\n",
    "# Build stk guest.\n",
    "guest_atoms = [\n",
    "    (atom.get_id(), atom.__class__.__name__)\n",
    "    for atom in stk_guest.get_atoms()\n",
    "]\n",
    "\n",
    "host = spd.Molecule(\n",
    "    atoms=(\n",
    "        spd.Atom(id=i[0], element_string=i[1])\n",
    "        for i in cage_atoms\n",
    "    ),\n",
    "    bonds=(),\n",
    "    position_matrix=cage.get_position_matrix(),\n",
    ")\n",
    "guest = spd.Molecule(\n",
    "    atoms=(\n",
    "        spd.Atom(id=i[0], element_string=i[1])\n",
    "        for i in guest_atoms\n",
    "    ),\n",
    "    bonds=(),\n",
    "    position_matrix=stk_guest.get_position_matrix(),\n",
    ")"
   ]
  },
  {
   "cell_type": "code",
   "execution_count": null,
   "metadata": {},
   "outputs": [],
   "source": [
    "host"
   ]
  },
  {
   "cell_type": "code",
   "execution_count": null,
   "metadata": {},
   "outputs": [],
   "source": [
    "guest"
   ]
  },
  {
   "cell_type": "code",
   "execution_count": null,
   "metadata": {},
   "outputs": [],
   "source": [
    "cg = spd.Spinner(\n",
    "    step_size=0.5,\n",
    "    rotation_step_size=5,\n",
    "    num_conformers=100,\n",
    "    max_attempts=10000,\n",
    ")"
   ]
  },
  {
   "cell_type": "code",
   "execution_count": null,
   "metadata": {},
   "outputs": [],
   "source": [
    "cg"
   ]
  },
  {
   "cell_type": "code",
   "execution_count": null,
   "metadata": {},
   "outputs": [],
   "source": [
    "supramolecule = spd.SupraMolecule.init_from_components(components=(host, guest))"
   ]
  },
  {
   "cell_type": "code",
   "execution_count": null,
   "metadata": {},
   "outputs": [],
   "source": [
    "binding_energies = {}\n",
    "\n",
    "for conformer in cg.get_conformers(supramolecule):\n",
    "    print(conformer)\n",
    "    print(conformer.get_cid(), conformer.get_potential())\n",
    "    for i, comp in enumerate(list(conformer.get_components())):\n",
    "        if i == 0:\n",
    "            cage = cage.with_position_matrix(comp.get_position_matrix())\n",
    "        elif i == 1:\n",
    "            bound_guest = stk_guest.with_position_matrix(comp.get_position_matrix())\n",
    "            \n",
    "    complex_mol = stk.ConstructedMolecule(\n",
    "        topology_graph=stk.host_guest.Complex(host=cage, guests=stk.host_guest.Guest(bound_guest))\n",
    "    )\n",
    "    complex_mol.write(\n",
    "        f'hg_example_output/conf_{conformer.get_cid()}.mol'\n",
    "    )\n",
    "    bound_energy = stko.MMFFEnergy(ignore_inter_interactions=False).get_energy(complex_mol)\n",
    "    binding_energy = bound_energy - (cage_energy + guest_energy)\n",
    "    binding_energies[conformer.get_cid()] = binding_energy"
   ]
  },
  {
   "cell_type": "code",
   "execution_count": null,
   "metadata": {},
   "outputs": [],
   "source": [
    "print(binding_energies)"
   ]
  },
  {
   "cell_type": "code",
   "execution_count": null,
   "metadata": {},
   "outputs": [],
   "source": [
    "plt.hist([binding_energies[i] for i in binding_energies])\n",
    "plt.xlabel('binding energy []')\n",
    "plt.show()"
   ]
  }
 ],
 "metadata": {
  "colab": {
   "collapsed_sections": [],
   "name": "Workshop1.ipynb",
   "provenance": [],
   "toc_visible": true
  },
  "kernelspec": {
   "display_name": "Python 3 (ipykernel)",
   "language": "python",
   "name": "python3"
  },
  "language_info": {
   "codemirror_mode": {
    "name": "ipython",
    "version": 3
   },
   "file_extension": ".py",
   "mimetype": "text/x-python",
   "name": "python",
   "nbconvert_exporter": "python",
   "pygments_lexer": "ipython3",
   "version": "3.11.8"
  }
 },
 "nbformat": 4,
 "nbformat_minor": 4
}
