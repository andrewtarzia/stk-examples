{
 "cells": [
  {
   "cell_type": "markdown",
   "metadata": {
    "id": "KwVJ_GZ1iepz"
   },
   "source": [
    "# Host-guest usage with stk\n",
    "\n",
    "by: Andrew Tarzia"
   ]
  },
  {
   "cell_type": "markdown",
   "metadata": {},
   "source": [
    "# Imports "
   ]
  },
  {
   "cell_type": "code",
   "execution_count": 1,
   "metadata": {
    "id": "VMIP6XDKoo06"
   },
   "outputs": [],
   "source": [
    "import sys\n",
    "sys.path.append('/usr/local/lib/python3.7/site-packages/')\n",
    "\n",
    "from rdkit import Chem \n",
    "from rdkit.Chem import AllChem as rdkit\n",
    "from collections import defaultdict\n",
    "from rdkit.Chem import rdFMCS\n",
    "from rdkit.Chem import Draw\n",
    "from rdkit.Chem.Draw import IPythonConsole\n",
    "from rdkit.Chem import rdDistGeom\n",
    "IPythonConsole.ipython_3d = True\n",
    "\n",
    "import py3Dmol\n",
    "from IPython.display import Image\n",
    "import matplotlib.pyplot as plt\n",
    "import subprocess\n",
    "import time\n",
    "import stk\n",
    "import stko\n",
    "import spindry as spd\n",
    "%matplotlib inline"
   ]
  },
  {
   "cell_type": "markdown",
   "metadata": {},
   "source": [
    "# Some useful functions "
   ]
  },
  {
   "cell_type": "code",
   "execution_count": 2,
   "metadata": {
    "id": "Wu-nsRJ7pav4"
   },
   "outputs": [],
   "source": [
    "def show_stk_mol(stk_mol):\n",
    "    data = rdkit.MolToMolBlock(stk_mol.to_rdkit_mol())\n",
    "    p = py3Dmol.view(\n",
    "        data=data,\n",
    "        style={'stick':{'colorscheme':'cyanCarbon'}}, \n",
    "        width=400,\n",
    "        height=400,\n",
    "    )\n",
    "    p.setBackgroundColor('0xeeeeee')\n",
    "    p.zoomTo()\n",
    "    p.show()"
   ]
  },
  {
   "cell_type": "markdown",
   "metadata": {},
   "source": [
    "Working:"
   ]
  },
  {
   "cell_type": "code",
   "execution_count": 3,
   "metadata": {},
   "outputs": [],
   "source": [
    "bb1 = stk.BuildingBlock(\n",
    "    smiles='O=CC(C=O)C=O',\n",
    "    functional_groups=[stk.AldehydeFactory()],\n",
    ")\n",
    "bb2 = stk.BuildingBlock(\n",
    "    smiles='O=CC(Cl)(C=O)C=O',\n",
    "    functional_groups=[stk.AldehydeFactory()],\n",
    ")\n",
    "bb3 = stk.BuildingBlock('NCCN', [stk.PrimaryAminoFactory()])\n",
    "bb4 = stk.BuildingBlock(\n",
    "    smiles='NCC(Cl)N',\n",
    "    functional_groups=[stk.PrimaryAminoFactory()],\n",
    ")\n",
    "bb5 = stk.BuildingBlock('NCCCCN', [stk.PrimaryAminoFactory()])\n",
    "\n",
    "cage = stk.ConstructedMolecule(\n",
    "    topology_graph=stk.cage.FourPlusSix(\n",
    "        # building_blocks is now a dict, which maps building\n",
    "        # blocks to the id of the vertices it should be placed\n",
    "        # on. You can use ranges to specify the ids.\n",
    "        building_blocks={\n",
    "            bb1: range(2),\n",
    "            bb2: (2, 3),\n",
    "            bb3: 4,\n",
    "            bb4: 5,\n",
    "            bb5: range(6, 10),\n",
    "        },\n",
    "        optimizer=stk.MCHammer(),\n",
    "    ),\n",
    ")"
   ]
  },
  {
   "cell_type": "code",
   "execution_count": 4,
   "metadata": {},
   "outputs": [
    {
     "data": {
      "application/3dmoljs_load.v0": "<div id=\"3dmolviewer_16197997263022866\"  style=\"position: relative; width: 400px; height: 400px\">\n        <p id=\"3dmolwarning_16197997263022866\" style=\"background-color:#ffcccc;color:black\">You appear to be running in JupyterLab (or JavaScript failed to load for some other reason).  You need to install the 3dmol extension: <br>\n        <tt>jupyter labextension install jupyterlab_3dmol</tt></p>\n        </div>\n<script>\n\nvar loadScriptAsync = function(uri){\n  return new Promise((resolve, reject) => {\n    var tag = document.createElement('script');\n    tag.src = uri;\n    tag.async = true;\n    tag.onload = () => {\n      resolve();\n    };\n  var firstScriptTag = document.getElementsByTagName('script')[0];\n  firstScriptTag.parentNode.insertBefore(tag, firstScriptTag);\n});\n};\n\nif(typeof $3Dmolpromise === 'undefined') {\n$3Dmolpromise = null;\n  $3Dmolpromise = loadScriptAsync('https://3dmol.org/build/3Dmol.js');\n}\n\nvar viewer_16197997263022866 = null;\nvar warn = document.getElementById(\"3dmolwarning_16197997263022866\");\nif(warn) {\n    warn.parentNode.removeChild(warn);\n}\n$3Dmolpromise.then(function() {\nviewer_16197997263022866 = $3Dmol.createViewer($(\"#3dmolviewer_16197997263022866\"),{backgroundColor:\"white\"});\nviewer_16197997263022866.addModel(\"\\n     RDKit          3D\\n\\n104106  0  0  0  0  0  0  0  0999 V2000\\n   -1.3626   -0.1686    4.1612 C   0  0  0  0  0  0  0  0  0  0  0  0\\n   -0.1468    0.5514    4.6223 C   0  0  0  0  0  0  0  0  0  0  0  0\\n    1.0797   -0.1808    4.1612 C   0  0  0  0  0  0  0  0  0  0  0  0\\n   -0.1647    1.9453    4.1612 C   0  0  0  0  0  0  0  0  0  0  0  0\\n   -1.5598   -0.3341    3.1157 H   0  0  0  0  0  0  0  0  0  0  0  0\\n   -0.1264    0.5648    5.7330 H   0  0  0  0  0  0  0  0  0  0  0  0\\n    1.2287   -0.3188    3.0849 H   0  0  0  0  0  0  0  0  0  0  0  0\\n    0.6204    2.6591    4.3784 H   0  0  0  0  0  0  0  0  0  0  0  0\\n   -4.7660   -2.1622   -0.0837 C   0  0  0  0  0  0  0  0  0  0  0  0\\n   -4.7268   -2.1576   -1.5696 C   0  0  0  0  0  0  0  0  0  0  0  0\\n   -4.7730   -0.7440   -2.0721 C   0  0  0  0  0  0  0  0  0  0  0  0\\n   -3.5455   -2.8799   -2.0583 C   0  0  0  0  0  0  0  0  0  0  0  0\\n   -4.0079   -1.6730    0.5038 H   0  0  0  0  0  0  0  0  0  0  0  0\\n   -5.6260   -2.6784   -1.9627 H   0  0  0  0  0  0  0  0  0  0  0  0\\n   -3.9739   -0.0586   -1.7699 H   0  0  0  0  0  0  0  0  0  0  0  0\\n   -3.3108   -3.0048   -3.1082 H   0  0  0  0  0  0  0  0  0  0  0  0\\n    4.4128   -2.4782   -0.2242 C   0  0  0  0  0  0  0  0  0  0  0  0\\n    4.4236   -2.4827   -1.7079 C   0  0  0  0  0  0  0  0  0  0  0  0\\n    5.9006   -3.3211   -2.2276 Cl  0  0  0  0  0  0  0  0  0  0  0  0\\n    3.2042   -3.1616   -2.2182 C   0  0  0  0  0  0  0  0  0  0  0  0\\n    4.3895   -1.0835   -2.2538 C   0  0  0  0  0  0  0  0  0  0  0  0\\n    5.2159   -2.0294    0.3414 H   0  0  0  0  0  0  0  0  0  0  0  0\\n    3.0464   -3.2565   -3.2822 H   0  0  0  0  0  0  0  0  0  0  0  0\\n    3.5197   -0.5010   -1.9685 H   0  0  0  0  0  0  0  0  0  0  0  0\\n   -0.3895    5.8780   -0.4608 C   0  0  0  0  0  0  0  0  0  0  0  0\\n   -0.3910    5.8896   -1.9445 C   0  0  0  0  0  0  0  0  0  0  0  0\\n   -0.4034    7.5879   -2.4643 Cl  0  0  0  0  0  0  0  0  0  0  0  0\\n    0.8067    5.1730   -2.4548 C   0  0  0  0  0  0  0  0  0  0  0  0\\n   -1.5856    5.1604   -2.4904 C   0  0  0  0  0  0  0  0  0  0  0  0\\n   -1.1797    6.3492    0.1048 H   0  0  0  0  0  0  0  0  0  0  0  0\\n    0.9678    5.0838   -3.5188 H   0  0  0  0  0  0  0  0  0  0  0  0\\n   -1.6552    4.1160   -2.2051 H   0  0  0  0  0  0  0  0  0  0  0  0\\n   -2.8327   -1.3733    4.1847 N   0  0  0  0  0  0  0  0  0  0  0  0\\n   -4.2200   -1.7469    4.2078 C   0  0  0  0  0  0  0  0  0  0  0  0\\n   -4.5439   -2.7235    3.0809 C   0  0  0  0  0  0  0  0  0  0  0  0\\n   -4.2957   -2.2180    1.7957 N   0  0  0  0  0  0  0  0  0  0  0  0\\n   -4.8626   -0.8456    4.1308 H   0  0  0  0  0  0  0  0  0  0  0  0\\n   -4.3934   -2.2986    5.1568 H   0  0  0  0  0  0  0  0  0  0  0  0\\n   -3.8537   -3.5987    3.2540 H   0  0  0  0  0  0  0  0  0  0  0  0\\n   -5.5852   -3.0672    3.1869 H   0  0  0  0  0  0  0  0  0  0  0  0\\n    2.3438   -1.1859    3.7172 N   0  0  0  0  0  0  0  0  0  0  0  0\\n    3.2906   -2.2729    3.7476 C   0  0  0  0  0  0  0  0  0  0  0  0\\n    4.3509   -2.0078    2.6897 C   0  0  0  0  0  0  0  0  0  0  0  0\\n    5.1680   -0.4822    3.0408 Cl  0  0  0  0  0  0  0  0  0  0  0  0\\n    3.7812   -2.0158    1.3700 N   0  0  0  0  0  0  0  0  0  0  0  0\\n    3.7812   -2.2761    4.7419 H   0  0  0  0  0  0  0  0  0  0  0  0\\n    2.8316   -3.2578    3.5265 H   0  0  0  0  0  0  0  0  0  0  0  0\\n    5.0886   -2.8528    2.7303 H   0  0  0  0  0  0  0  0  0  0  0  0\\n   -0.0875    3.4164    5.2540 N   0  0  0  0  0  0  0  0  0  0  0  0\\n   -0.5018    4.7788    4.9850 C   0  0  0  0  0  0  0  0  0  0  0  0\\n    0.1246    5.2750    3.6769 C   0  0  0  0  0  0  0  0  0  0  0  0\\n   -0.3152    6.7056    3.4012 C   0  0  0  0  0  0  0  0  0  0  0  0\\n    0.2888    7.2212    2.1152 C   0  0  0  0  0  0  0  0  0  0  0  0\\n   -0.0875    6.4427    0.9742 N   0  0  0  0  0  0  0  0  0  0  0  0\\n   -0.0498    5.4061    5.8024 H   0  0  0  0  0  0  0  0  0  0  0  0\\n   -1.5945    4.9106    4.9720 H   0  0  0  0  0  0  0  0  0  0  0  0\\n    1.2273    5.3125    3.7888 H   0  0  0  0  0  0  0  0  0  0  0  0\\n   -0.1641    4.6208    2.8404 H   0  0  0  0  0  0  0  0  0  0  0  0\\n   -0.0182    7.3150    4.2589 H   0  0  0  0  0  0  0  0  0  0  0  0\\n   -1.4110    6.7402    3.3029 H   0  0  0  0  0  0  0  0  0  0  0  0\\n    1.4008    7.2633    2.1667 H   0  0  0  0  0  0  0  0  0  0  0  0\\n   -0.0539    8.2618    1.9551 H   0  0  0  0  0  0  0  0  0  0  0  0\\n   -3.0918   -4.3311   -3.1133 N   0  0  0  0  0  0  0  0  0  0  0  0\\n   -2.0856   -5.3518   -3.3277 C   0  0  0  0  0  0  0  0  0  0  0  0\\n   -0.7310   -4.7043   -3.6369 C   0  0  0  0  0  0  0  0  0  0  0  0\\n    0.3200   -5.7819   -3.8605 C   0  0  0  0  0  0  0  0  0  0  0  0\\n    1.6677   -5.1707   -4.1679 C   0  0  0  0  0  0  0  0  0  0  0  0\\n    2.1499   -4.3311   -3.1133 N   0  0  0  0  0  0  0  0  0  0  0  0\\n   -2.3908   -5.8943   -4.2650 H   0  0  0  0  0  0  0  0  0  0  0  0\\n   -1.9989   -6.0645   -2.4934 H   0  0  0  0  0  0  0  0  0  0  0  0\\n   -0.8007   -4.1453   -4.5922 H   0  0  0  0  0  0  0  0  0  0  0  0\\n   -0.4257   -4.0406   -2.8140 H   0  0  0  0  0  0  0  0  0  0  0  0\\n   -0.0284   -6.4210   -4.6762 H   0  0  0  0  0  0  0  0  0  0  0  0\\n    0.4202   -6.3914   -2.9494 H   0  0  0  0  0  0  0  0  0  0  0  0\\n    1.6500   -4.5809   -5.1128 H   0  0  0  0  0  0  0  0  0  0  0  0\\n    2.3993   -5.9868   -4.3254 H   0  0  0  0  0  0  0  0  0  0  0  0\\n   -5.4589   -0.0654   -3.4374 N   0  0  0  0  0  0  0  0  0  0  0  0\\n   -5.4245    1.0766   -4.3288 C   0  0  0  0  0  0  0  0  0  0  0  0\\n   -4.8136    2.2880   -3.6154 C   0  0  0  0  0  0  0  0  0  0  0  0\\n   -4.7806    3.4826   -4.5576 C   0  0  0  0  0  0  0  0  0  0  0  0\\n   -4.1821    4.6932   -3.8790 C   0  0  0  0  0  0  0  0  0  0  0  0\\n   -2.8380    4.4740   -3.4374 N   0  0  0  0  0  0  0  0  0  0  0  0\\n   -6.4988    1.3444   -4.5292 H   0  0  0  0  0  0  0  0  0  0  0  0\\n   -4.9046    0.8766   -5.2782 H   0  0  0  0  0  0  0  0  0  0  0  0\\n   -5.4679    2.5853   -2.7708 H   0  0  0  0  0  0  0  0  0  0  0  0\\n   -3.7977    2.0541   -3.2627 H   0  0  0  0  0  0  0  0  0  0  0  0\\n   -5.8050    3.6717   -4.8894 H   0  0  0  0  0  0  0  0  0  0  0  0\\n   -4.1616    3.2409   -5.4351 H   0  0  0  0  0  0  0  0  0  0  0  0\\n   -4.7932    5.0256   -3.0089 H   0  0  0  0  0  0  0  0  0  0  0  0\\n   -4.1797    5.5366   -4.5964 H   0  0  0  0  0  0  0  0  0  0  0  0\\n    4.9981    0.0293   -3.1381 N   0  0  0  0  0  0  0  0  0  0  0  0\\n    5.3782    1.4106   -3.3562 C   0  0  0  0  0  0  0  0  0  0  0  0\\n    4.1393    2.2594   -3.6631 C   0  0  0  0  0  0  0  0  0  0  0  0\\n    4.5463    3.7080   -3.8905 C   0  0  0  0  0  0  0  0  0  0  0  0\\n    3.3421    4.5690   -4.1957 C   0  0  0  0  0  0  0  0  0  0  0  0\\n    2.3773    4.5687   -3.1381 N   0  0  0  0  0  0  0  0  0  0  0  0\\n    5.9977    1.4158   -4.2954 H   0  0  0  0  0  0  0  0  0  0  0  0\\n    5.9548    1.8436   -2.5244 H   0  0  0  0  0  0  0  0  0  0  0  0\\n    3.6870    1.9178   -4.6163 H   0  0  0  0  0  0  0  0  0  0  0  0\\n    3.4144    2.1934   -2.8377 H   0  0  0  0  0  0  0  0  0  0  0  0\\n    5.2714    3.7243   -4.7086 H   0  0  0  0  0  0  0  0  0  0  0  0\\n    5.0269    4.1012   -2.9816 H   0  0  0  0  0  0  0  0  0  0  0  0\\n    2.8373    4.2570   -5.1385 H   0  0  0  0  0  0  0  0  0  0  0  0\\n    3.6826    5.6103   -4.3562 H   0  0  0  0  0  0  0  0  0  0  0  0\\n  1  2  1  0\\n  2  3  1  0\\n  2  4  1  0\\n  1  5  1  0\\n  2  6  1  0\\n  3  7  1  0\\n  4  8  1  0\\n  9 10  1  0\\n 10 11  1  0\\n 10 12  1  0\\n  9 13  1  0\\n 10 14  1  0\\n 11 15  1  0\\n 12 16  1  0\\n 17 18  1  0\\n 18 19  1  0\\n 18 20  1  0\\n 18 21  1  0\\n 17 22  1  0\\n 20 23  1  0\\n 21 24  1  0\\n 25 26  1  0\\n 26 27  1  0\\n 26 28  1  0\\n 26 29  1  0\\n 25 30  1  0\\n 28 31  1  0\\n 29 32  1  0\\n 33 34  1  0\\n 34 35  1  0\\n 35 36  1  0\\n 34 37  1  0\\n 34 38  1  0\\n 35 39  1  0\\n 35 40  1  0\\n 41 42  1  0\\n 42 43  1  0\\n 43 44  1  0\\n 43 45  1  0\\n 42 46  1  0\\n 42 47  1  0\\n 43 48  1  0\\n 49 50  1  0\\n 50 51  1  0\\n 51 52  1  0\\n 52 53  1  0\\n 53 54  1  0\\n 50 55  1  0\\n 50 56  1  0\\n 51 57  1  0\\n 51 58  1  0\\n 52 59  1  0\\n 52 60  1  0\\n 53 61  1  0\\n 53 62  1  0\\n 63 64  1  0\\n 64 65  1  0\\n 65 66  1  0\\n 66 67  1  0\\n 67 68  1  0\\n 64 69  1  0\\n 64 70  1  0\\n 65 71  1  0\\n 65 72  1  0\\n 66 73  1  0\\n 66 74  1  0\\n 67 75  1  0\\n 67 76  1  0\\n 77 78  1  0\\n 78 79  1  0\\n 79 80  1  0\\n 80 81  1  0\\n 81 82  1  0\\n 78 83  1  0\\n 78 84  1  0\\n 79 85  1  0\\n 79 86  1  0\\n 80 87  1  0\\n 80 88  1  0\\n 81 89  1  0\\n 81 90  1  0\\n 91 92  1  0\\n 92 93  1  0\\n 93 94  1  0\\n 94 95  1  0\\n 95 96  1  0\\n 92 97  1  0\\n 92 98  1  0\\n 93 99  1  0\\n 93100  1  0\\n 94101  1  0\\n 94102  1  0\\n 95103  1  0\\n 95104  1  0\\n  1 33  2  0\\n  9 36  2  0\\n  3 41  2  0\\n 17 45  2  0\\n  4 49  2  0\\n 25 54  2  0\\n 12 63  2  0\\n 20 68  2  0\\n 11 77  2  0\\n 29 82  2  0\\n 21 91  2  0\\n 28 96  2  0\\nM  END\\n\");\nviewer_16197997263022866.setStyle({\"stick\": {\"colorscheme\": \"cyanCarbon\"}});\nviewer_16197997263022866.zoomTo();\n\tviewer_16197997263022866.setBackgroundColor(\"0xeeeeee\");\n\tviewer_16197997263022866.zoomTo();\nviewer_16197997263022866.render();\n});\n</script>",
      "text/html": [
       "<div id=\"3dmolviewer_16197997263022866\"  style=\"position: relative; width: 400px; height: 400px\">\n",
       "        <p id=\"3dmolwarning_16197997263022866\" style=\"background-color:#ffcccc;color:black\">You appear to be running in JupyterLab (or JavaScript failed to load for some other reason).  You need to install the 3dmol extension: <br>\n",
       "        <tt>jupyter labextension install jupyterlab_3dmol</tt></p>\n",
       "        </div>\n",
       "<script>\n",
       "\n",
       "var loadScriptAsync = function(uri){\n",
       "  return new Promise((resolve, reject) => {\n",
       "    var tag = document.createElement('script');\n",
       "    tag.src = uri;\n",
       "    tag.async = true;\n",
       "    tag.onload = () => {\n",
       "      resolve();\n",
       "    };\n",
       "  var firstScriptTag = document.getElementsByTagName('script')[0];\n",
       "  firstScriptTag.parentNode.insertBefore(tag, firstScriptTag);\n",
       "});\n",
       "};\n",
       "\n",
       "if(typeof $3Dmolpromise === 'undefined') {\n",
       "$3Dmolpromise = null;\n",
       "  $3Dmolpromise = loadScriptAsync('https://3dmol.org/build/3Dmol.js');\n",
       "}\n",
       "\n",
       "var viewer_16197997263022866 = null;\n",
       "var warn = document.getElementById(\"3dmolwarning_16197997263022866\");\n",
       "if(warn) {\n",
       "    warn.parentNode.removeChild(warn);\n",
       "}\n",
       "$3Dmolpromise.then(function() {\n",
       "viewer_16197997263022866 = $3Dmol.createViewer($(\"#3dmolviewer_16197997263022866\"),{backgroundColor:\"white\"});\n",
       "viewer_16197997263022866.addModel(\"\\n     RDKit          3D\\n\\n104106  0  0  0  0  0  0  0  0999 V2000\\n   -1.3626   -0.1686    4.1612 C   0  0  0  0  0  0  0  0  0  0  0  0\\n   -0.1468    0.5514    4.6223 C   0  0  0  0  0  0  0  0  0  0  0  0\\n    1.0797   -0.1808    4.1612 C   0  0  0  0  0  0  0  0  0  0  0  0\\n   -0.1647    1.9453    4.1612 C   0  0  0  0  0  0  0  0  0  0  0  0\\n   -1.5598   -0.3341    3.1157 H   0  0  0  0  0  0  0  0  0  0  0  0\\n   -0.1264    0.5648    5.7330 H   0  0  0  0  0  0  0  0  0  0  0  0\\n    1.2287   -0.3188    3.0849 H   0  0  0  0  0  0  0  0  0  0  0  0\\n    0.6204    2.6591    4.3784 H   0  0  0  0  0  0  0  0  0  0  0  0\\n   -4.7660   -2.1622   -0.0837 C   0  0  0  0  0  0  0  0  0  0  0  0\\n   -4.7268   -2.1576   -1.5696 C   0  0  0  0  0  0  0  0  0  0  0  0\\n   -4.7730   -0.7440   -2.0721 C   0  0  0  0  0  0  0  0  0  0  0  0\\n   -3.5455   -2.8799   -2.0583 C   0  0  0  0  0  0  0  0  0  0  0  0\\n   -4.0079   -1.6730    0.5038 H   0  0  0  0  0  0  0  0  0  0  0  0\\n   -5.6260   -2.6784   -1.9627 H   0  0  0  0  0  0  0  0  0  0  0  0\\n   -3.9739   -0.0586   -1.7699 H   0  0  0  0  0  0  0  0  0  0  0  0\\n   -3.3108   -3.0048   -3.1082 H   0  0  0  0  0  0  0  0  0  0  0  0\\n    4.4128   -2.4782   -0.2242 C   0  0  0  0  0  0  0  0  0  0  0  0\\n    4.4236   -2.4827   -1.7079 C   0  0  0  0  0  0  0  0  0  0  0  0\\n    5.9006   -3.3211   -2.2276 Cl  0  0  0  0  0  0  0  0  0  0  0  0\\n    3.2042   -3.1616   -2.2182 C   0  0  0  0  0  0  0  0  0  0  0  0\\n    4.3895   -1.0835   -2.2538 C   0  0  0  0  0  0  0  0  0  0  0  0\\n    5.2159   -2.0294    0.3414 H   0  0  0  0  0  0  0  0  0  0  0  0\\n    3.0464   -3.2565   -3.2822 H   0  0  0  0  0  0  0  0  0  0  0  0\\n    3.5197   -0.5010   -1.9685 H   0  0  0  0  0  0  0  0  0  0  0  0\\n   -0.3895    5.8780   -0.4608 C   0  0  0  0  0  0  0  0  0  0  0  0\\n   -0.3910    5.8896   -1.9445 C   0  0  0  0  0  0  0  0  0  0  0  0\\n   -0.4034    7.5879   -2.4643 Cl  0  0  0  0  0  0  0  0  0  0  0  0\\n    0.8067    5.1730   -2.4548 C   0  0  0  0  0  0  0  0  0  0  0  0\\n   -1.5856    5.1604   -2.4904 C   0  0  0  0  0  0  0  0  0  0  0  0\\n   -1.1797    6.3492    0.1048 H   0  0  0  0  0  0  0  0  0  0  0  0\\n    0.9678    5.0838   -3.5188 H   0  0  0  0  0  0  0  0  0  0  0  0\\n   -1.6552    4.1160   -2.2051 H   0  0  0  0  0  0  0  0  0  0  0  0\\n   -2.8327   -1.3733    4.1847 N   0  0  0  0  0  0  0  0  0  0  0  0\\n   -4.2200   -1.7469    4.2078 C   0  0  0  0  0  0  0  0  0  0  0  0\\n   -4.5439   -2.7235    3.0809 C   0  0  0  0  0  0  0  0  0  0  0  0\\n   -4.2957   -2.2180    1.7957 N   0  0  0  0  0  0  0  0  0  0  0  0\\n   -4.8626   -0.8456    4.1308 H   0  0  0  0  0  0  0  0  0  0  0  0\\n   -4.3934   -2.2986    5.1568 H   0  0  0  0  0  0  0  0  0  0  0  0\\n   -3.8537   -3.5987    3.2540 H   0  0  0  0  0  0  0  0  0  0  0  0\\n   -5.5852   -3.0672    3.1869 H   0  0  0  0  0  0  0  0  0  0  0  0\\n    2.3438   -1.1859    3.7172 N   0  0  0  0  0  0  0  0  0  0  0  0\\n    3.2906   -2.2729    3.7476 C   0  0  0  0  0  0  0  0  0  0  0  0\\n    4.3509   -2.0078    2.6897 C   0  0  0  0  0  0  0  0  0  0  0  0\\n    5.1680   -0.4822    3.0408 Cl  0  0  0  0  0  0  0  0  0  0  0  0\\n    3.7812   -2.0158    1.3700 N   0  0  0  0  0  0  0  0  0  0  0  0\\n    3.7812   -2.2761    4.7419 H   0  0  0  0  0  0  0  0  0  0  0  0\\n    2.8316   -3.2578    3.5265 H   0  0  0  0  0  0  0  0  0  0  0  0\\n    5.0886   -2.8528    2.7303 H   0  0  0  0  0  0  0  0  0  0  0  0\\n   -0.0875    3.4164    5.2540 N   0  0  0  0  0  0  0  0  0  0  0  0\\n   -0.5018    4.7788    4.9850 C   0  0  0  0  0  0  0  0  0  0  0  0\\n    0.1246    5.2750    3.6769 C   0  0  0  0  0  0  0  0  0  0  0  0\\n   -0.3152    6.7056    3.4012 C   0  0  0  0  0  0  0  0  0  0  0  0\\n    0.2888    7.2212    2.1152 C   0  0  0  0  0  0  0  0  0  0  0  0\\n   -0.0875    6.4427    0.9742 N   0  0  0  0  0  0  0  0  0  0  0  0\\n   -0.0498    5.4061    5.8024 H   0  0  0  0  0  0  0  0  0  0  0  0\\n   -1.5945    4.9106    4.9720 H   0  0  0  0  0  0  0  0  0  0  0  0\\n    1.2273    5.3125    3.7888 H   0  0  0  0  0  0  0  0  0  0  0  0\\n   -0.1641    4.6208    2.8404 H   0  0  0  0  0  0  0  0  0  0  0  0\\n   -0.0182    7.3150    4.2589 H   0  0  0  0  0  0  0  0  0  0  0  0\\n   -1.4110    6.7402    3.3029 H   0  0  0  0  0  0  0  0  0  0  0  0\\n    1.4008    7.2633    2.1667 H   0  0  0  0  0  0  0  0  0  0  0  0\\n   -0.0539    8.2618    1.9551 H   0  0  0  0  0  0  0  0  0  0  0  0\\n   -3.0918   -4.3311   -3.1133 N   0  0  0  0  0  0  0  0  0  0  0  0\\n   -2.0856   -5.3518   -3.3277 C   0  0  0  0  0  0  0  0  0  0  0  0\\n   -0.7310   -4.7043   -3.6369 C   0  0  0  0  0  0  0  0  0  0  0  0\\n    0.3200   -5.7819   -3.8605 C   0  0  0  0  0  0  0  0  0  0  0  0\\n    1.6677   -5.1707   -4.1679 C   0  0  0  0  0  0  0  0  0  0  0  0\\n    2.1499   -4.3311   -3.1133 N   0  0  0  0  0  0  0  0  0  0  0  0\\n   -2.3908   -5.8943   -4.2650 H   0  0  0  0  0  0  0  0  0  0  0  0\\n   -1.9989   -6.0645   -2.4934 H   0  0  0  0  0  0  0  0  0  0  0  0\\n   -0.8007   -4.1453   -4.5922 H   0  0  0  0  0  0  0  0  0  0  0  0\\n   -0.4257   -4.0406   -2.8140 H   0  0  0  0  0  0  0  0  0  0  0  0\\n   -0.0284   -6.4210   -4.6762 H   0  0  0  0  0  0  0  0  0  0  0  0\\n    0.4202   -6.3914   -2.9494 H   0  0  0  0  0  0  0  0  0  0  0  0\\n    1.6500   -4.5809   -5.1128 H   0  0  0  0  0  0  0  0  0  0  0  0\\n    2.3993   -5.9868   -4.3254 H   0  0  0  0  0  0  0  0  0  0  0  0\\n   -5.4589   -0.0654   -3.4374 N   0  0  0  0  0  0  0  0  0  0  0  0\\n   -5.4245    1.0766   -4.3288 C   0  0  0  0  0  0  0  0  0  0  0  0\\n   -4.8136    2.2880   -3.6154 C   0  0  0  0  0  0  0  0  0  0  0  0\\n   -4.7806    3.4826   -4.5576 C   0  0  0  0  0  0  0  0  0  0  0  0\\n   -4.1821    4.6932   -3.8790 C   0  0  0  0  0  0  0  0  0  0  0  0\\n   -2.8380    4.4740   -3.4374 N   0  0  0  0  0  0  0  0  0  0  0  0\\n   -6.4988    1.3444   -4.5292 H   0  0  0  0  0  0  0  0  0  0  0  0\\n   -4.9046    0.8766   -5.2782 H   0  0  0  0  0  0  0  0  0  0  0  0\\n   -5.4679    2.5853   -2.7708 H   0  0  0  0  0  0  0  0  0  0  0  0\\n   -3.7977    2.0541   -3.2627 H   0  0  0  0  0  0  0  0  0  0  0  0\\n   -5.8050    3.6717   -4.8894 H   0  0  0  0  0  0  0  0  0  0  0  0\\n   -4.1616    3.2409   -5.4351 H   0  0  0  0  0  0  0  0  0  0  0  0\\n   -4.7932    5.0256   -3.0089 H   0  0  0  0  0  0  0  0  0  0  0  0\\n   -4.1797    5.5366   -4.5964 H   0  0  0  0  0  0  0  0  0  0  0  0\\n    4.9981    0.0293   -3.1381 N   0  0  0  0  0  0  0  0  0  0  0  0\\n    5.3782    1.4106   -3.3562 C   0  0  0  0  0  0  0  0  0  0  0  0\\n    4.1393    2.2594   -3.6631 C   0  0  0  0  0  0  0  0  0  0  0  0\\n    4.5463    3.7080   -3.8905 C   0  0  0  0  0  0  0  0  0  0  0  0\\n    3.3421    4.5690   -4.1957 C   0  0  0  0  0  0  0  0  0  0  0  0\\n    2.3773    4.5687   -3.1381 N   0  0  0  0  0  0  0  0  0  0  0  0\\n    5.9977    1.4158   -4.2954 H   0  0  0  0  0  0  0  0  0  0  0  0\\n    5.9548    1.8436   -2.5244 H   0  0  0  0  0  0  0  0  0  0  0  0\\n    3.6870    1.9178   -4.6163 H   0  0  0  0  0  0  0  0  0  0  0  0\\n    3.4144    2.1934   -2.8377 H   0  0  0  0  0  0  0  0  0  0  0  0\\n    5.2714    3.7243   -4.7086 H   0  0  0  0  0  0  0  0  0  0  0  0\\n    5.0269    4.1012   -2.9816 H   0  0  0  0  0  0  0  0  0  0  0  0\\n    2.8373    4.2570   -5.1385 H   0  0  0  0  0  0  0  0  0  0  0  0\\n    3.6826    5.6103   -4.3562 H   0  0  0  0  0  0  0  0  0  0  0  0\\n  1  2  1  0\\n  2  3  1  0\\n  2  4  1  0\\n  1  5  1  0\\n  2  6  1  0\\n  3  7  1  0\\n  4  8  1  0\\n  9 10  1  0\\n 10 11  1  0\\n 10 12  1  0\\n  9 13  1  0\\n 10 14  1  0\\n 11 15  1  0\\n 12 16  1  0\\n 17 18  1  0\\n 18 19  1  0\\n 18 20  1  0\\n 18 21  1  0\\n 17 22  1  0\\n 20 23  1  0\\n 21 24  1  0\\n 25 26  1  0\\n 26 27  1  0\\n 26 28  1  0\\n 26 29  1  0\\n 25 30  1  0\\n 28 31  1  0\\n 29 32  1  0\\n 33 34  1  0\\n 34 35  1  0\\n 35 36  1  0\\n 34 37  1  0\\n 34 38  1  0\\n 35 39  1  0\\n 35 40  1  0\\n 41 42  1  0\\n 42 43  1  0\\n 43 44  1  0\\n 43 45  1  0\\n 42 46  1  0\\n 42 47  1  0\\n 43 48  1  0\\n 49 50  1  0\\n 50 51  1  0\\n 51 52  1  0\\n 52 53  1  0\\n 53 54  1  0\\n 50 55  1  0\\n 50 56  1  0\\n 51 57  1  0\\n 51 58  1  0\\n 52 59  1  0\\n 52 60  1  0\\n 53 61  1  0\\n 53 62  1  0\\n 63 64  1  0\\n 64 65  1  0\\n 65 66  1  0\\n 66 67  1  0\\n 67 68  1  0\\n 64 69  1  0\\n 64 70  1  0\\n 65 71  1  0\\n 65 72  1  0\\n 66 73  1  0\\n 66 74  1  0\\n 67 75  1  0\\n 67 76  1  0\\n 77 78  1  0\\n 78 79  1  0\\n 79 80  1  0\\n 80 81  1  0\\n 81 82  1  0\\n 78 83  1  0\\n 78 84  1  0\\n 79 85  1  0\\n 79 86  1  0\\n 80 87  1  0\\n 80 88  1  0\\n 81 89  1  0\\n 81 90  1  0\\n 91 92  1  0\\n 92 93  1  0\\n 93 94  1  0\\n 94 95  1  0\\n 95 96  1  0\\n 92 97  1  0\\n 92 98  1  0\\n 93 99  1  0\\n 93100  1  0\\n 94101  1  0\\n 94102  1  0\\n 95103  1  0\\n 95104  1  0\\n  1 33  2  0\\n  9 36  2  0\\n  3 41  2  0\\n 17 45  2  0\\n  4 49  2  0\\n 25 54  2  0\\n 12 63  2  0\\n 20 68  2  0\\n 11 77  2  0\\n 29 82  2  0\\n 21 91  2  0\\n 28 96  2  0\\nM  END\\n\");\n",
       "viewer_16197997263022866.setStyle({\"stick\": {\"colorscheme\": \"cyanCarbon\"}});\n",
       "viewer_16197997263022866.zoomTo();\n",
       "\tviewer_16197997263022866.setBackgroundColor(\"0xeeeeee\");\n",
       "\tviewer_16197997263022866.zoomTo();\n",
       "viewer_16197997263022866.render();\n",
       "});\n",
       "</script>"
      ]
     },
     "metadata": {},
     "output_type": "display_data"
    }
   ],
   "source": [
    "show_stk_mol(cage)"
   ]
  },
  {
   "cell_type": "code",
   "execution_count": 9,
   "metadata": {},
   "outputs": [],
   "source": [
    "cage_energy = stko.MMFFEnergy(ignore_inter_interactions=False).get_energy(cage)"
   ]
  },
  {
   "cell_type": "code",
   "execution_count": 10,
   "metadata": {},
   "outputs": [
    {
     "name": "stdout",
     "output_type": "stream",
     "text": [
      "2923.252086161889\n"
     ]
    }
   ],
   "source": [
    "print(cage_energy)"
   ]
  },
  {
   "cell_type": "code",
   "execution_count": 11,
   "metadata": {},
   "outputs": [],
   "source": [
    "stk_guest = stk.BuildingBlock('C1CC=CCC(C1)O')"
   ]
  },
  {
   "cell_type": "code",
   "execution_count": 12,
   "metadata": {},
   "outputs": [],
   "source": [
    "guest_energy = stko.MMFFEnergy(ignore_inter_interactions=False).get_energy(stk_guest)"
   ]
  },
  {
   "cell_type": "code",
   "execution_count": 13,
   "metadata": {},
   "outputs": [
    {
     "name": "stdout",
     "output_type": "stream",
     "text": [
      "48.76120245750583\n"
     ]
    }
   ],
   "source": [
    "print(guest_energy)"
   ]
  },
  {
   "cell_type": "code",
   "execution_count": 14,
   "metadata": {},
   "outputs": [
    {
     "data": {
      "application/3dmoljs_load.v0": "<div id=\"3dmolviewer_1619799754128192\"  style=\"position: relative; width: 400px; height: 400px\">\n        <p id=\"3dmolwarning_1619799754128192\" style=\"background-color:#ffcccc;color:black\">You appear to be running in JupyterLab (or JavaScript failed to load for some other reason).  You need to install the 3dmol extension: <br>\n        <tt>jupyter labextension install jupyterlab_3dmol</tt></p>\n        </div>\n<script>\n\nvar loadScriptAsync = function(uri){\n  return new Promise((resolve, reject) => {\n    var tag = document.createElement('script');\n    tag.src = uri;\n    tag.async = true;\n    tag.onload = () => {\n      resolve();\n    };\n  var firstScriptTag = document.getElementsByTagName('script')[0];\n  firstScriptTag.parentNode.insertBefore(tag, firstScriptTag);\n});\n};\n\nif(typeof $3Dmolpromise === 'undefined') {\n$3Dmolpromise = null;\n  $3Dmolpromise = loadScriptAsync('https://3dmol.org/build/3Dmol.js');\n}\n\nvar viewer_1619799754128192 = null;\nvar warn = document.getElementById(\"3dmolwarning_1619799754128192\");\nif(warn) {\n    warn.parentNode.removeChild(warn);\n}\n$3Dmolpromise.then(function() {\nviewer_1619799754128192 = $3Dmol.createViewer($(\"#3dmolviewer_1619799754128192\"),{backgroundColor:\"white\"});\nviewer_1619799754128192.addModel(\"\\n     RDKit          3D\\n\\n 20 20  0  0  0  0  0  0  0  0999 V2000\\n   -0.6590   -1.5229    0.1227 C   0  0  0  0  0  0  0  0  0  0  0  0\\n   -1.7058   -0.4657    0.0370 C   0  0  0  0  0  0  0  0  0  0  0  0\\n   -1.4132    0.7885    0.7047 C   0  0  0  0  0  0  0  0  0  0  0  0\\n   -0.3588    1.5686    0.5630 C   0  0  0  0  0  0  0  0  0  0  0  0\\n    0.7943    1.3724   -0.3069 C   0  0  0  0  0  0  0  0  0  0  0  0\\n    1.0444   -0.0404   -0.7307 C   0  0  0  0  0  0  0  0  0  0  0  0\\n    0.6911   -0.9384    0.4407 C   0  0  0  0  0  0  0  0  0  0  0  0\\n    2.3654   -0.2601   -1.0955 O   0  0  0  0  0  0  0  0  0  0  0  0\\n   -0.9369   -2.2272    0.9444 H   0  0  0  0  0  0  0  0  0  0  0  0\\n   -0.6544   -2.1165   -0.8014 H   0  0  0  0  0  0  0  0  0  0  0  0\\n   -2.6685   -0.9091    0.3657 H   0  0  0  0  0  0  0  0  0  0  0  0\\n   -1.8651   -0.2356   -1.0581 H   0  0  0  0  0  0  0  0  0  0  0  0\\n   -2.1944    1.1020    1.4170 H   0  0  0  0  0  0  0  0  0  0  0  0\\n   -0.3265    2.4736    1.1590 H   0  0  0  0  0  0  0  0  0  0  0  0\\n    0.7485    1.9934   -1.2460 H   0  0  0  0  0  0  0  0  0  0  0  0\\n    1.7024    1.7288    0.2303 H   0  0  0  0  0  0  0  0  0  0  0  0\\n    0.4221   -0.2472   -1.6260 H   0  0  0  0  0  0  0  0  0  0  0  0\\n    0.5531   -0.3381    1.3875 H   0  0  0  0  0  0  0  0  0  0  0  0\\n    1.4546   -1.6801    0.6631 H   0  0  0  0  0  0  0  0  0  0  0  0\\n    3.0068   -0.0459   -0.3752 H   0  0  0  0  0  0  0  0  0  0  0  0\\n  1  2  1  0\\n  2  3  1  0\\n  3  4  2  0\\n  4  5  1  0\\n  5  6  1  0\\n  6  7  1  0\\n  6  8  1  0\\n  7  1  1  0\\n  1  9  1  0\\n  1 10  1  0\\n  2 11  1  0\\n  2 12  1  0\\n  3 13  1  0\\n  4 14  1  0\\n  5 15  1  0\\n  5 16  1  0\\n  6 17  1  0\\n  7 18  1  0\\n  7 19  1  0\\n  8 20  1  0\\nM  END\\n\");\nviewer_1619799754128192.setStyle({\"stick\": {\"colorscheme\": \"cyanCarbon\"}});\nviewer_1619799754128192.zoomTo();\n\tviewer_1619799754128192.setBackgroundColor(\"0xeeeeee\");\n\tviewer_1619799754128192.zoomTo();\nviewer_1619799754128192.render();\n});\n</script>",
      "text/html": [
       "<div id=\"3dmolviewer_1619799754128192\"  style=\"position: relative; width: 400px; height: 400px\">\n",
       "        <p id=\"3dmolwarning_1619799754128192\" style=\"background-color:#ffcccc;color:black\">You appear to be running in JupyterLab (or JavaScript failed to load for some other reason).  You need to install the 3dmol extension: <br>\n",
       "        <tt>jupyter labextension install jupyterlab_3dmol</tt></p>\n",
       "        </div>\n",
       "<script>\n",
       "\n",
       "var loadScriptAsync = function(uri){\n",
       "  return new Promise((resolve, reject) => {\n",
       "    var tag = document.createElement('script');\n",
       "    tag.src = uri;\n",
       "    tag.async = true;\n",
       "    tag.onload = () => {\n",
       "      resolve();\n",
       "    };\n",
       "  var firstScriptTag = document.getElementsByTagName('script')[0];\n",
       "  firstScriptTag.parentNode.insertBefore(tag, firstScriptTag);\n",
       "});\n",
       "};\n",
       "\n",
       "if(typeof $3Dmolpromise === 'undefined') {\n",
       "$3Dmolpromise = null;\n",
       "  $3Dmolpromise = loadScriptAsync('https://3dmol.org/build/3Dmol.js');\n",
       "}\n",
       "\n",
       "var viewer_1619799754128192 = null;\n",
       "var warn = document.getElementById(\"3dmolwarning_1619799754128192\");\n",
       "if(warn) {\n",
       "    warn.parentNode.removeChild(warn);\n",
       "}\n",
       "$3Dmolpromise.then(function() {\n",
       "viewer_1619799754128192 = $3Dmol.createViewer($(\"#3dmolviewer_1619799754128192\"),{backgroundColor:\"white\"});\n",
       "viewer_1619799754128192.addModel(\"\\n     RDKit          3D\\n\\n 20 20  0  0  0  0  0  0  0  0999 V2000\\n   -0.6590   -1.5229    0.1227 C   0  0  0  0  0  0  0  0  0  0  0  0\\n   -1.7058   -0.4657    0.0370 C   0  0  0  0  0  0  0  0  0  0  0  0\\n   -1.4132    0.7885    0.7047 C   0  0  0  0  0  0  0  0  0  0  0  0\\n   -0.3588    1.5686    0.5630 C   0  0  0  0  0  0  0  0  0  0  0  0\\n    0.7943    1.3724   -0.3069 C   0  0  0  0  0  0  0  0  0  0  0  0\\n    1.0444   -0.0404   -0.7307 C   0  0  0  0  0  0  0  0  0  0  0  0\\n    0.6911   -0.9384    0.4407 C   0  0  0  0  0  0  0  0  0  0  0  0\\n    2.3654   -0.2601   -1.0955 O   0  0  0  0  0  0  0  0  0  0  0  0\\n   -0.9369   -2.2272    0.9444 H   0  0  0  0  0  0  0  0  0  0  0  0\\n   -0.6544   -2.1165   -0.8014 H   0  0  0  0  0  0  0  0  0  0  0  0\\n   -2.6685   -0.9091    0.3657 H   0  0  0  0  0  0  0  0  0  0  0  0\\n   -1.8651   -0.2356   -1.0581 H   0  0  0  0  0  0  0  0  0  0  0  0\\n   -2.1944    1.1020    1.4170 H   0  0  0  0  0  0  0  0  0  0  0  0\\n   -0.3265    2.4736    1.1590 H   0  0  0  0  0  0  0  0  0  0  0  0\\n    0.7485    1.9934   -1.2460 H   0  0  0  0  0  0  0  0  0  0  0  0\\n    1.7024    1.7288    0.2303 H   0  0  0  0  0  0  0  0  0  0  0  0\\n    0.4221   -0.2472   -1.6260 H   0  0  0  0  0  0  0  0  0  0  0  0\\n    0.5531   -0.3381    1.3875 H   0  0  0  0  0  0  0  0  0  0  0  0\\n    1.4546   -1.6801    0.6631 H   0  0  0  0  0  0  0  0  0  0  0  0\\n    3.0068   -0.0459   -0.3752 H   0  0  0  0  0  0  0  0  0  0  0  0\\n  1  2  1  0\\n  2  3  1  0\\n  3  4  2  0\\n  4  5  1  0\\n  5  6  1  0\\n  6  7  1  0\\n  6  8  1  0\\n  7  1  1  0\\n  1  9  1  0\\n  1 10  1  0\\n  2 11  1  0\\n  2 12  1  0\\n  3 13  1  0\\n  4 14  1  0\\n  5 15  1  0\\n  5 16  1  0\\n  6 17  1  0\\n  7 18  1  0\\n  7 19  1  0\\n  8 20  1  0\\nM  END\\n\");\n",
       "viewer_1619799754128192.setStyle({\"stick\": {\"colorscheme\": \"cyanCarbon\"}});\n",
       "viewer_1619799754128192.zoomTo();\n",
       "\tviewer_1619799754128192.setBackgroundColor(\"0xeeeeee\");\n",
       "\tviewer_1619799754128192.zoomTo();\n",
       "viewer_1619799754128192.render();\n",
       "});\n",
       "</script>"
      ]
     },
     "metadata": {},
     "output_type": "display_data"
    }
   ],
   "source": [
    "show_stk_mol(stk_guest)"
   ]
  },
  {
   "cell_type": "code",
   "execution_count": 15,
   "metadata": {},
   "outputs": [],
   "source": [
    "cage = stk.BuildingBlock.init_from_molecule(cage)\n",
    "cage_atoms = [\n",
    "    (atom.get_id(), atom.__class__.__name__)\n",
    "    for atom in cage.get_atoms()\n",
    "]\n",
    "\n",
    "# Build stk guest.\n",
    "guest_atoms = [\n",
    "    (atom.get_id(), atom.__class__.__name__)\n",
    "    for atom in stk_guest.get_atoms()\n",
    "]\n",
    "\n",
    "host = spd.Molecule.init(\n",
    "    atoms=(\n",
    "        spd.Atom(id=i[0], element_string=i[1])\n",
    "        for i in cage_atoms\n",
    "    ),\n",
    "    position_matrix=cage.get_position_matrix(),\n",
    ")\n",
    "guest = spd.Molecule.init(\n",
    "    atoms=(\n",
    "        spd.Atom(id=i[0], element_string=i[1])\n",
    "        for i in guest_atoms\n",
    "    ),\n",
    "    position_matrix=stk_guest.get_position_matrix(),\n",
    ")"
   ]
  },
  {
   "cell_type": "code",
   "execution_count": 16,
   "metadata": {},
   "outputs": [
    {
     "data": {
      "text/plain": [
       "<Molecule(104 atoms) at 140517396456056>"
      ]
     },
     "execution_count": 16,
     "metadata": {},
     "output_type": "execute_result"
    }
   ],
   "source": [
    "host"
   ]
  },
  {
   "cell_type": "code",
   "execution_count": 17,
   "metadata": {},
   "outputs": [
    {
     "data": {
      "text/plain": [
       "<Molecule(20 atoms) at 140517396414360>"
      ]
     },
     "execution_count": 17,
     "metadata": {},
     "output_type": "execute_result"
    }
   ],
   "source": [
    "guest"
   ]
  },
  {
   "cell_type": "code",
   "execution_count": 18,
   "metadata": {},
   "outputs": [],
   "source": [
    "cg = spd.Spinner(\n",
    "    step_size=0.5,\n",
    "    rotation_step_size=5,\n",
    "    num_conformers=100,\n",
    "    max_attempts=10000,\n",
    ")"
   ]
  },
  {
   "cell_type": "code",
   "execution_count": 19,
   "metadata": {},
   "outputs": [
    {
     "data": {
      "text/plain": [
       "<spindry.spinner.Spinner at 0x7fccc1855fd0>"
      ]
     },
     "execution_count": 19,
     "metadata": {},
     "output_type": "execute_result"
    }
   ],
   "source": [
    "cg"
   ]
  },
  {
   "cell_type": "code",
   "execution_count": 20,
   "metadata": {},
   "outputs": [
    {
     "name": "stdout",
     "output_type": "stream",
     "text": [
      "<SupraMolecule(104 + 20 atoms) at 140517396796752>\n",
      "0 442.11767536727785\n",
      "<SupraMolecule(104 + 20 atoms) at 140517396797984>\n",
      "1 442.11767536727785\n",
      "<SupraMolecule(104 + 20 atoms) at 140517412678792>\n",
      "2 431.2258612678619\n",
      "<SupraMolecule(104 + 20 atoms) at 140518380243880>\n",
      "3 418.16472852332856\n",
      "<SupraMolecule(104 + 20 atoms) at 140517396884504>\n",
      "4 414.2216070698731\n",
      "<SupraMolecule(104 + 20 atoms) at 140517351960080>\n",
      "5 414.9305670850416\n",
      "<SupraMolecule(104 + 20 atoms) at 140517396391136>\n",
      "6 413.93027846413264\n",
      "<SupraMolecule(104 + 20 atoms) at 140517396485400>\n",
      "7 414.45225564361596\n",
      "<SupraMolecule(104 + 20 atoms) at 140517412678792>\n",
      "8 413.7496774710609\n",
      "<SupraMolecule(104 + 20 atoms) at 140517396484952>\n",
      "9 413.8009104814497\n",
      "<SupraMolecule(104 + 20 atoms) at 140517396851120>\n",
      "10 412.06028874746966\n",
      "<SupraMolecule(104 + 20 atoms) at 140517396848824>\n",
      "11 410.4296846009818\n",
      "<SupraMolecule(104 + 20 atoms) at 140517396192560>\n",
      "12 410.59264206297223\n",
      "<SupraMolecule(104 + 20 atoms) at 140518043399616>\n",
      "13 411.0251539764379\n",
      "<SupraMolecule(104 + 20 atoms) at 140518318667200>\n",
      "14 410.94652358735686\n",
      "<SupraMolecule(104 + 20 atoms) at 140517396192560>\n",
      "15 410.5353463611328\n",
      "<SupraMolecule(104 + 20 atoms) at 140517352050760>\n",
      "16 410.5585074068521\n",
      "<SupraMolecule(104 + 20 atoms) at 140517396391360>\n",
      "17 411.83949481566026\n",
      "<SupraMolecule(104 + 20 atoms) at 140518043399616>\n",
      "18 410.7702477185393\n",
      "<SupraMolecule(104 + 20 atoms) at 140517412678792>\n",
      "19 410.72537459571765\n",
      "<SupraMolecule(104 + 20 atoms) at 140517396851176>\n",
      "20 411.00324104384737\n",
      "<SupraMolecule(104 + 20 atoms) at 140517351997960>\n",
      "21 408.5174206982704\n",
      "<SupraMolecule(104 + 20 atoms) at 140517396848712>\n",
      "22 409.1841526182351\n",
      "<SupraMolecule(104 + 20 atoms) at 140517396344728>\n",
      "23 408.4714443322521\n",
      "<SupraMolecule(104 + 20 atoms) at 140518318278528>\n",
      "24 405.81714876725863\n",
      "<SupraMolecule(104 + 20 atoms) at 140518370835592>\n",
      "25 405.56897542280717\n",
      "<SupraMolecule(104 + 20 atoms) at 140518318332168>\n",
      "26 405.3558964975518\n",
      "<SupraMolecule(104 + 20 atoms) at 140518043399616>\n",
      "27 404.50461423892796\n",
      "<SupraMolecule(104 + 20 atoms) at 140517351933376>\n",
      "28 403.3140479584871\n",
      "<SupraMolecule(104 + 20 atoms) at 140517441572368>\n",
      "29 402.71530015680344\n",
      "<SupraMolecule(104 + 20 atoms) at 140518318332168>\n",
      "30 401.3462489267701\n",
      "<SupraMolecule(104 + 20 atoms) at 140518318784408>\n",
      "31 400.4431224364364\n",
      "<SupraMolecule(104 + 20 atoms) at 140518370835592>\n",
      "32 400.1553717984235\n",
      "<SupraMolecule(104 + 20 atoms) at 140518318278248>\n",
      "33 401.4026837245566\n",
      "<SupraMolecule(104 + 20 atoms) at 140517396167256>\n",
      "34 399.28856942895624\n",
      "<SupraMolecule(104 + 20 atoms) at 140518318276904>\n",
      "35 399.9748801892862\n",
      "<SupraMolecule(104 + 20 atoms) at 140517351997960>\n",
      "36 398.9704621834535\n",
      "<SupraMolecule(104 + 20 atoms) at 140517396486016>\n",
      "37 398.71941890872813\n",
      "<SupraMolecule(104 + 20 atoms) at 140517415980224>\n",
      "38 398.03331221179747\n",
      "<SupraMolecule(104 + 20 atoms) at 140517397170720>\n",
      "39 399.4357103678688\n",
      "<SupraMolecule(104 + 20 atoms) at 140517441572368>\n",
      "40 399.3585344289734\n",
      "<SupraMolecule(104 + 20 atoms) at 140517396798264>\n",
      "41 397.0117346163528\n",
      "<SupraMolecule(104 + 20 atoms) at 140517396692272>\n",
      "42 395.9457501833182\n",
      "<SupraMolecule(104 + 20 atoms) at 140517396344560>\n",
      "43 396.00486592605245\n",
      "<SupraMolecule(104 + 20 atoms) at 140517396867448>\n",
      "44 396.0286007974654\n",
      "<SupraMolecule(104 + 20 atoms) at 140518370835592>\n",
      "45 386.54481475544446\n",
      "<SupraMolecule(104 + 20 atoms) at 140517351895784>\n",
      "46 381.50792558043554\n",
      "<SupraMolecule(104 + 20 atoms) at 140517441572368>\n",
      "47 379.21840872025916\n",
      "<SupraMolecule(104 + 20 atoms) at 140517397170720>\n",
      "48 378.11013328270684\n",
      "<SupraMolecule(104 + 20 atoms) at 140517450619032>\n",
      "49 374.45672448078267\n",
      "<SupraMolecule(104 + 20 atoms) at 140518043399616>\n",
      "50 369.1598577600883\n",
      "<SupraMolecule(104 + 20 atoms) at 140517396251760>\n",
      "51 368.6757751497024\n",
      "<SupraMolecule(104 + 20 atoms) at 140517352051880>\n",
      "52 366.7250598477088\n",
      "<SupraMolecule(104 + 20 atoms) at 140517412678792>\n",
      "53 366.86936617926614\n",
      "<SupraMolecule(104 + 20 atoms) at 140517352052888>\n",
      "54 362.14760406643404\n",
      "<SupraMolecule(104 + 20 atoms) at 140517351972368>\n",
      "55 361.15828617933903\n",
      "<SupraMolecule(104 + 20 atoms) at 140517351896904>\n",
      "56 350.8571684936894\n",
      "<SupraMolecule(104 + 20 atoms) at 140518043399616>\n",
      "57 344.68099000350503\n",
      "<SupraMolecule(104 + 20 atoms) at 140517450619032>\n",
      "58 340.06528472389095\n",
      "<SupraMolecule(104 + 20 atoms) at 140517415980224>\n",
      "59 334.216502707955\n",
      "<SupraMolecule(104 + 20 atoms) at 140517397170720>\n",
      "60 333.56022243669247\n",
      "<SupraMolecule(104 + 20 atoms) at 140517441572368>\n",
      "61 320.903083903861\n",
      "<SupraMolecule(104 + 20 atoms) at 140517396190600>\n",
      "62 318.6556115362096\n",
      "<SupraMolecule(104 + 20 atoms) at 140517396167256>\n",
      "63 308.3412127523316\n",
      "<SupraMolecule(104 + 20 atoms) at 140517396190824>\n",
      "64 287.5385056418578\n",
      "<SupraMolecule(104 + 20 atoms) at 140517396852520>\n",
      "65 285.39067452726795\n",
      "<SupraMolecule(104 + 20 atoms) at 140517396767800>\n",
      "66 283.1778920282334\n",
      "<SupraMolecule(104 + 20 atoms) at 140517351935560>\n",
      "67 264.40779419835076\n",
      "<SupraMolecule(104 + 20 atoms) at 140517396344904>\n",
      "68 261.7015277738457\n",
      "<SupraMolecule(104 + 20 atoms) at 140517396345240>\n",
      "69 252.25501492732758\n",
      "<SupraMolecule(104 + 20 atoms) at 140517396345072>\n",
      "70 232.54344614112412\n",
      "<SupraMolecule(104 + 20 atoms) at 140517396346920>\n",
      "71 233.97841601464302\n",
      "<SupraMolecule(104 + 20 atoms) at 140517484531552>\n",
      "72 217.3696681358878\n",
      "<SupraMolecule(104 + 20 atoms) at 140517450619032>\n",
      "73 218.95823102376235\n",
      "<SupraMolecule(104 + 20 atoms) at 140517397170720>\n",
      "74 211.90200415732124\n",
      "<SupraMolecule(104 + 20 atoms) at 140517415980224>\n",
      "75 204.0387907613967\n",
      "<SupraMolecule(104 + 20 atoms) at 140517352040936>\n",
      "76 197.31462780697518\n",
      "<SupraMolecule(104 + 20 atoms) at 140517396487472>\n",
      "77 183.73679069738063\n",
      "<SupraMolecule(104 + 20 atoms) at 140517351970520>\n",
      "78 177.70889672132057\n",
      "<SupraMolecule(104 + 20 atoms) at 140517396487976>\n",
      "79 174.10086003931252\n",
      "<SupraMolecule(104 + 20 atoms) at 140518318784408>\n",
      "80 173.7476401619112\n",
      "<SupraMolecule(104 + 20 atoms) at 140517396347144>\n",
      "81 157.42077023488125\n",
      "<SupraMolecule(104 + 20 atoms) at 140518318782112>\n",
      "82 148.34218693114474\n",
      "<SupraMolecule(104 + 20 atoms) at 140517351989824>\n",
      "83 142.56707690658743\n",
      "<SupraMolecule(104 + 20 atoms) at 140517441572368>\n",
      "84 131.03817684863333\n",
      "<SupraMolecule(104 + 20 atoms) at 140517396798264>\n",
      "85 128.68950885737257\n",
      "<SupraMolecule(104 + 20 atoms) at 140517396384456>\n",
      "86 123.96564471639023\n",
      "<SupraMolecule(104 + 20 atoms) at 140517396796472>\n",
      "87 111.61344504187636\n",
      "<SupraMolecule(104 + 20 atoms) at 140517396760896>\n",
      "88 97.03177836378907\n",
      "<SupraMolecule(104 + 20 atoms) at 140517396760784>\n",
      "89 85.41470496326306\n",
      "<SupraMolecule(104 + 20 atoms) at 140517450619032>\n",
      "90 80.673300888483\n",
      "<SupraMolecule(104 + 20 atoms) at 140517396760616>\n",
      "91 77.74670680850126\n",
      "<SupraMolecule(104 + 20 atoms) at 140517396190656>\n",
      "92 71.69030711239435\n",
      "<SupraMolecule(104 + 20 atoms) at 140517396393768>\n",
      "93 67.15573439398955\n",
      "<SupraMolecule(104 + 20 atoms) at 140517396859760>\n",
      "94 64.96363735161766\n",
      "<SupraMolecule(104 + 20 atoms) at 140517396867784>\n",
      "95 65.79676395636191\n",
      "<SupraMolecule(104 + 20 atoms) at 140517396856960>\n",
      "96 62.93399938722396\n",
      "<SupraMolecule(104 + 20 atoms) at 140517352054512>\n",
      "97 59.67815348238618\n",
      "<SupraMolecule(104 + 20 atoms) at 140517351984208>\n",
      "98 57.500193040574494\n",
      "<SupraMolecule(104 + 20 atoms) at 140518318277408>\n",
      "99 57.532880042217684\n",
      "100 conformers generated in 2457 steps.\n"
     ]
    }
   ],
   "source": [
    "binding_energies = {}\n",
    "for conformer in cg.get_conformers(host, guest):\n",
    "    print(conformer)\n",
    "    print(conformer.get_cid(), conformer.get_potential())\n",
    "    cage = cage.with_position_matrix(\n",
    "        conformer.get_host().get_position_matrix()\n",
    "    )\n",
    "    bound_guest = stk_guest.with_position_matrix(\n",
    "        conformer.get_guest().get_position_matrix()\n",
    "    )\n",
    "    complex_mol = stk.ConstructedMolecule(\n",
    "        topology_graph=stk.host_guest.Complex(cage, bound_guest)\n",
    "    )\n",
    "    complex_mol.write(\n",
    "        f'hg_example_output/conf_{conformer.get_cid()}.mol'\n",
    "    )\n",
    "    bound_energy = stko.MMFFEnergy(ignore_inter_interactions=False).get_energy(complex_mol)\n",
    "    binding_energy = bound_energy - (cage_energy + guest_energy)\n",
    "    binding_energies[conformer.get_cid()] = binding_energy"
   ]
  },
  {
   "cell_type": "code",
   "execution_count": 37,
   "metadata": {},
   "outputs": [
    {
     "name": "stdout",
     "output_type": "stream",
     "text": [
      "{0: -0.006763648956990664, 1: -0.006763648956990664, 2: -0.01671204843799501, 3: -0.014734437772006004, 4: -0.016553458405013544, 5: -0.017559373870994932, 6: -0.017560435693013687, 7: -0.020265894213991942, 8: -0.02209844610399614, 9: -0.02162517717800938, 10: -0.021267474262003816, 11: -0.021090571034989125, 12: -0.021086163017002946, 13: -0.021103445801998078, 14: -0.021755755019995604, 15: -0.022859176827012107, 16: -0.02101027623399432, 17: -0.02103476179900099, 18: -0.023010896533008918, 19: -0.013028685152988828, 20: -0.017329053195993538, 21: -0.020290788447994146, 22: -0.016525626017994455, 23: -0.017437065337986724, 24: -0.01606993230100784, 25: -0.017955162488988208, 26: -0.018173876783009746, 27: -0.01774536405599747, 28: -0.019845074131012552, 29: -0.020214237425989268, 30: -0.01705322567499934, 31: -0.01688579568300952, 32: -0.019460456077013077, 33: -0.020809532802985586, 34: -0.02190676123100843, 35: -0.02138472580898565, 36: -0.02194223536798745, 37: -0.017515608920007253, 38: -0.01764239190501371, 39: -0.017841446944999007, 40: -0.016733938995997732, 41: -0.014868591282009902, 42: -0.01489912095598811, 43: -0.014899169310012894, 44: -0.015248543272008419, 45: -0.015285720022006899, 46: -0.01802410176000535, 47: -0.020374022187013452, 48: -0.018243092140011186, 49: -0.018408468149999635, 50: -0.021010373227994705, 51: -0.02214913279499342, 52: -0.022208668638995732, 53: -0.022323590025990825, 54: -0.02077983035698594, 55: -0.02183736326898611, 56: -0.02169543464398771, 57: -0.019157236035994174, 58: -0.021603622360004238, 59: -0.020072181753988616, 60: -0.020070226831990112, 61: -0.02213750855599983, 62: -0.02161841403199105, 63: -0.019603377093005747, 64: -0.02001108986098643, 65: -0.022902231420005137, 66: -0.0206915959479943, 67: -0.021689532197996186, 68: -0.021935210680993578, 69: -0.02209770647999676, 70: -0.02242632948198775, 71: -0.02112363496900116, 72: -0.021962907296995127, 73: -0.016117646590004142, 74: -0.016178406670007917, 75: -0.016641311725010155, 76: -0.01931807496399074, 77: -0.01966299434698726, 78: -0.019315208624988145, 79: -0.015708956998992107, 80: -0.018497438624990536, 81: -0.019472610137000856, 82: -0.01842160507200674, 83: -0.010295425966006633, 84: -0.012950200650010402, 85: -0.013369128569991062, 86: -0.011616155888987123, 87: -0.011578738433996705, 88: -0.013757768786007318, 89: -0.013015224262005631, 90: -0.013503201281992006, 91: -0.013567776640002194, 92: -0.013677324584989492, 93: -0.014692447525987973, 94: -0.015330058621003673, 95: -0.015023148681990506, 96: -0.01574979010101174, 97: -0.01581429985898808, 98: -0.01517866547700919, 99: -0.014952523122985895}\n"
     ]
    }
   ],
   "source": [
    "print(binding_energies)"
   ]
  },
  {
   "cell_type": "code",
   "execution_count": 43,
   "metadata": {},
   "outputs": [
    {
     "data": {
      "image/png": "[encoded data removed]",
      "text/plain": [
       "<Figure size 432x288 with 1 Axes>"
      ]
     },
     "metadata": {
      "needs_background": "light"
     },
     "output_type": "display_data"
    }
   ],
   "source": [
    "plt.hist([binding_energies_kjmol[i] for i in binding_energies_kjmol])\n",
    "plt.xlabel('binding energy [kJmol-1]')\n",
    "plt.show()"
   ]
  },
  {
   "cell_type": "code",
   "execution_count": null,
   "metadata": {},
   "outputs": [],
   "source": []
  }
 ],
 "metadata": {
  "colab": {
   "collapsed_sections": [],
   "name": "Workshop1.ipynb",
   "provenance": [],
   "toc_visible": true
  },
  "kernelspec": {
   "display_name": "stkworkshop",
   "language": "python",
   "name": "stkworkshop"
  },
  "language_info": {
   "codemirror_mode": {
    "name": "ipython",
    "version": 3
   },
   "file_extension": ".py",
   "mimetype": "text/x-python",
   "name": "python",
   "nbconvert_exporter": "python",
   "pygments_lexer": "ipython3",
   "version": "3.7.10"
  }
 },
 "nbformat": 4,
 "nbformat_minor": 4
}
