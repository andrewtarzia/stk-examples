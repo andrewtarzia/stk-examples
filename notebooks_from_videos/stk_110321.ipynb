{
 "cells": [
  {
   "cell_type": "markdown",
   "metadata": {
    "id": "KwVJ_GZ1iepz"
   },
   "source": [
    "# stk Workshop\n",
    "\n",
    "by: Steven Bennett and Andrew Tarzia"
   ]
  },
  {
   "cell_type": "markdown",
   "metadata": {},
   "source": [
    "# Install conda env!"
   ]
  },
  {
   "cell_type": "markdown",
   "metadata": {},
   "source": [
    "# Imports "
   ]
  },
  {
   "cell_type": "code",
   "execution_count": 7,
   "metadata": {
    "id": "VMIP6XDKoo06"
   },
   "outputs": [],
   "source": [
    "import sys\n",
    "sys.path.append('/usr/local/lib/python3.7/site-packages/')\n",
    "\n",
    "from rdkit import Chem \n",
    "from rdkit.Chem import AllChem as rdkit\n",
    "from collections import defaultdict\n",
    "from rdkit.Chem import rdFMCS\n",
    "from rdkit.Chem import Draw\n",
    "from rdkit.Chem.Draw import IPythonConsole\n",
    "from rdkit.Chem import rdDistGeom\n",
    "IPythonConsole.ipython_3d = True\n",
    "\n",
    "import py3Dmol\n",
    "from IPython.display import Image\n",
    "import matplotlib.pyplot as plt\n",
    "import subprocess\n",
    "import time\n",
    "import stk\n",
    "import stko"
   ]
  },
  {
   "cell_type": "markdown",
   "metadata": {},
   "source": [
    "# Some useful functions "
   ]
  },
  {
   "cell_type": "code",
   "execution_count": 2,
   "metadata": {
    "id": "Wu-nsRJ7pav4"
   },
   "outputs": [],
   "source": [
    "def show_stk_mol(stk_mol):\n",
    "    data = rdkit.MolToMolBlock(stk_mol.to_rdkit_mol())\n",
    "    p = py3Dmol.view(\n",
    "        data=data,\n",
    "        style={'stick':{'colorscheme':'cyanCarbon'}}, \n",
    "        width=400,\n",
    "        height=400,\n",
    "    )\n",
    "    p.setBackgroundColor('0xeeeeee')\n",
    "    p.zoomTo()\n",
    "    p.show()"
   ]
  },
  {
   "cell_type": "markdown",
   "metadata": {},
   "source": [
    "# What is in a Molecule? "
   ]
  },
  {
   "cell_type": "code",
   "execution_count": null,
   "metadata": {},
   "outputs": [],
   "source": [
    "stk.Molecule  # Do not use me.\n",
    "stk.BuildingBlock  # Use me to make\n",
    "stk.ConstructedMolecule # me."
   ]
  },
  {
   "cell_type": "code",
   "execution_count": 8,
   "metadata": {},
   "outputs": [],
   "source": [
    "# Defining \n",
    "molecule = stk.BuildingBlock('C1C(=C)CC(C)CCC1=C')  # Uses ETKDG!!!!!! Be aware.\n",
    "# molecule = stk.BuildingBlock.init_from_file('.mol') # What\n",
    "# molecule = stk.BuildingBlock.init_from_file('.sdf') # Do you\n",
    "# molecule = stk.BuildingBlock.init_from_file('.pdb') # Notice?\n",
    "# molecule = stk.BuildingBlock.init_from_molecule(molecule)  # stk.Molecule\n",
    "# molecule = stk.BuildingBlock.init_from_rdkit_mol(rdkit_molecule)"
   ]
  },
  {
   "cell_type": "code",
   "execution_count": 9,
   "metadata": {},
   "outputs": [
    {
     "data": {
      "application/3dmoljs_load.v0": "<div id=\"3dmolviewer_1615553017535597\"  style=\"position: relative; width: 400px; height: 400px\">\n        <p id=\"3dmolwarning_1615553017535597\" style=\"background-color:#ffcccc;color:black\">You appear to be running in JupyterLab (or JavaScript failed to load for some other reason).  You need to install the 3dmol extension: <br>\n        <tt>jupyter labextension install jupyterlab_3dmol</tt></p>\n        </div>\n<script>\n\nvar loadScriptAsync = function(uri){\n  return new Promise((resolve, reject) => {\n    var tag = document.createElement('script');\n    tag.src = uri;\n    tag.async = true;\n    tag.onload = () => {\n      resolve();\n    };\n  var firstScriptTag = document.getElementsByTagName('script')[0];\n  firstScriptTag.parentNode.insertBefore(tag, firstScriptTag);\n});\n};\n\nif(typeof $3Dmolpromise === 'undefined') {\n$3Dmolpromise = null;\n  $3Dmolpromise = loadScriptAsync('https://3dmol.org/build/3Dmol.js');\n}\n\nvar viewer_1615553017535597 = null;\nvar warn = document.getElementById(\"3dmolwarning_1615553017535597\");\nif(warn) {\n    warn.parentNode.removeChild(warn);\n}\n$3Dmolpromise.then(function() {\nviewer_1615553017535597 = $3Dmol.createViewer($(\"#3dmolviewer_1615553017535597\"),{backgroundColor:\"white\"});\nviewer_1615553017535597.addModel(\"\\n     RDKit          3D\\n\\n 26 26  0  0  0  0  0  0  0  0999 V2000\\n   -1.8009    0.2539    0.1948 C   0  0  0  0  0  0  0  0  0  0  0  0\\n   -1.1640   -0.9577   -0.3592 C   0  0  0  0  0  0  0  0  0  0  0  0\\n   -1.9768   -1.9418   -0.6856 C   0  0  0  0  0  0  0  0  0  0  0  0\\n    0.2692   -1.2307   -0.6036 C   0  0  0  0  0  0  0  0  0  0  0  0\\n    1.0691   -0.6232    0.5121 C   0  0  0  0  0  0  0  0  0  0  0  0\\n    2.3870   -1.3901    0.5748 C   0  0  0  0  0  0  0  0  0  0  0  0\\n    1.4239    0.8198    0.2532 C   0  0  0  0  0  0  0  0  0  0  0  0\\n    0.3202    1.7693    0.6369 C   0  0  0  0  0  0  0  0  0  0  0  0\\n   -0.9668    1.4789    0.0084 C   0  0  0  0  0  0  0  0  0  0  0  0\\n   -1.4748    2.3831   -0.8232 C   0  0  0  0  0  0  0  0  0  0  0  0\\n   -1.9366    0.1635    1.3125 H   0  0  0  0  0  0  0  0  0  0  0  0\\n   -2.8291    0.4094   -0.2053 H   0  0  0  0  0  0  0  0  0  0  0  0\\n   -1.6477   -2.8863   -1.1019 H   0  0  0  0  0  0  0  0  0  0  0  0\\n   -3.0531   -1.8366   -0.5429 H   0  0  0  0  0  0  0  0  0  0  0  0\\n    0.4539   -2.3245   -0.6933 H   0  0  0  0  0  0  0  0  0  0  0  0\\n    0.5443   -0.6800   -1.5400 H   0  0  0  0  0  0  0  0  0  0  0  0\\n    0.5826   -0.7610    1.4850 H   0  0  0  0  0  0  0  0  0  0  0  0\\n    2.2637   -2.4051    0.9648 H   0  0  0  0  0  0  0  0  0  0  0  0\\n    3.1393   -0.8329    1.1884 H   0  0  0  0  0  0  0  0  0  0  0  0\\n    2.8188   -1.4018   -0.4643 H   0  0  0  0  0  0  0  0  0  0  0  0\\n    1.7371    0.9099   -0.7871 H   0  0  0  0  0  0  0  0  0  0  0  0\\n    2.3011    1.0531    0.8936 H   0  0  0  0  0  0  0  0  0  0  0  0\\n    0.6579    2.7868    0.3393 H   0  0  0  0  0  0  0  0  0  0  0  0\\n    0.2156    1.7266    1.7561 H   0  0  0  0  0  0  0  0  0  0  0  0\\n   -0.9092    3.2911   -0.9939 H   0  0  0  0  0  0  0  0  0  0  0  0\\n   -2.4245    2.2261   -1.3198 H   0  0  0  0  0  0  0  0  0  0  0  0\\n  1  2  1  0\\n  2  3  2  3\\n  2  4  1  0\\n  4  5  1  0\\n  5  6  1  0\\n  5  7  1  0\\n  7  8  1  0\\n  8  9  1  0\\n  9 10  2  3\\n  9  1  1  0\\n  1 11  1  0\\n  1 12  1  0\\n  3 13  1  0\\n  3 14  1  0\\n  4 15  1  0\\n  4 16  1  0\\n  5 17  1  0\\n  6 18  1  0\\n  6 19  1  0\\n  6 20  1  0\\n  7 21  1  0\\n  7 22  1  0\\n  8 23  1  0\\n  8 24  1  0\\n 10 25  1  0\\n 10 26  1  0\\nM  END\\n\");\nviewer_1615553017535597.setStyle({\"stick\": {\"colorscheme\": \"cyanCarbon\"}});\nviewer_1615553017535597.zoomTo();\n\tviewer_1615553017535597.setBackgroundColor(\"0xeeeeee\");\n\tviewer_1615553017535597.zoomTo();\nviewer_1615553017535597.render();\n});\n</script>",
      "text/html": [
       "<div id=\"3dmolviewer_1615553017535597\"  style=\"position: relative; width: 400px; height: 400px\">\n",
       "        <p id=\"3dmolwarning_1615553017535597\" style=\"background-color:#ffcccc;color:black\">You appear to be running in JupyterLab (or JavaScript failed to load for some other reason).  You need to install the 3dmol extension: <br>\n",
       "        <tt>jupyter labextension install jupyterlab_3dmol</tt></p>\n",
       "        </div>\n",
       "<script>\n",
       "\n",
       "var loadScriptAsync = function(uri){\n",
       "  return new Promise((resolve, reject) => {\n",
       "    var tag = document.createElement('script');\n",
       "    tag.src = uri;\n",
       "    tag.async = true;\n",
       "    tag.onload = () => {\n",
       "      resolve();\n",
       "    };\n",
       "  var firstScriptTag = document.getElementsByTagName('script')[0];\n",
       "  firstScriptTag.parentNode.insertBefore(tag, firstScriptTag);\n",
       "});\n",
       "};\n",
       "\n",
       "if(typeof $3Dmolpromise === 'undefined') {\n",
       "$3Dmolpromise = null;\n",
       "  $3Dmolpromise = loadScriptAsync('https://3dmol.org/build/3Dmol.js');\n",
       "}\n",
       "\n",
       "var viewer_1615553017535597 = null;\n",
       "var warn = document.getElementById(\"3dmolwarning_1615553017535597\");\n",
       "if(warn) {\n",
       "    warn.parentNode.removeChild(warn);\n",
       "}\n",
       "$3Dmolpromise.then(function() {\n",
       "viewer_1615553017535597 = $3Dmol.createViewer($(\"#3dmolviewer_1615553017535597\"),{backgroundColor:\"white\"});\n",
       "viewer_1615553017535597.addModel(\"\\n     RDKit          3D\\n\\n 26 26  0  0  0  0  0  0  0  0999 V2000\\n   -1.8009    0.2539    0.1948 C   0  0  0  0  0  0  0  0  0  0  0  0\\n   -1.1640   -0.9577   -0.3592 C   0  0  0  0  0  0  0  0  0  0  0  0\\n   -1.9768   -1.9418   -0.6856 C   0  0  0  0  0  0  0  0  0  0  0  0\\n    0.2692   -1.2307   -0.6036 C   0  0  0  0  0  0  0  0  0  0  0  0\\n    1.0691   -0.6232    0.5121 C   0  0  0  0  0  0  0  0  0  0  0  0\\n    2.3870   -1.3901    0.5748 C   0  0  0  0  0  0  0  0  0  0  0  0\\n    1.4239    0.8198    0.2532 C   0  0  0  0  0  0  0  0  0  0  0  0\\n    0.3202    1.7693    0.6369 C   0  0  0  0  0  0  0  0  0  0  0  0\\n   -0.9668    1.4789    0.0084 C   0  0  0  0  0  0  0  0  0  0  0  0\\n   -1.4748    2.3831   -0.8232 C   0  0  0  0  0  0  0  0  0  0  0  0\\n   -1.9366    0.1635    1.3125 H   0  0  0  0  0  0  0  0  0  0  0  0\\n   -2.8291    0.4094   -0.2053 H   0  0  0  0  0  0  0  0  0  0  0  0\\n   -1.6477   -2.8863   -1.1019 H   0  0  0  0  0  0  0  0  0  0  0  0\\n   -3.0531   -1.8366   -0.5429 H   0  0  0  0  0  0  0  0  0  0  0  0\\n    0.4539   -2.3245   -0.6933 H   0  0  0  0  0  0  0  0  0  0  0  0\\n    0.5443   -0.6800   -1.5400 H   0  0  0  0  0  0  0  0  0  0  0  0\\n    0.5826   -0.7610    1.4850 H   0  0  0  0  0  0  0  0  0  0  0  0\\n    2.2637   -2.4051    0.9648 H   0  0  0  0  0  0  0  0  0  0  0  0\\n    3.1393   -0.8329    1.1884 H   0  0  0  0  0  0  0  0  0  0  0  0\\n    2.8188   -1.4018   -0.4643 H   0  0  0  0  0  0  0  0  0  0  0  0\\n    1.7371    0.9099   -0.7871 H   0  0  0  0  0  0  0  0  0  0  0  0\\n    2.3011    1.0531    0.8936 H   0  0  0  0  0  0  0  0  0  0  0  0\\n    0.6579    2.7868    0.3393 H   0  0  0  0  0  0  0  0  0  0  0  0\\n    0.2156    1.7266    1.7561 H   0  0  0  0  0  0  0  0  0  0  0  0\\n   -0.9092    3.2911   -0.9939 H   0  0  0  0  0  0  0  0  0  0  0  0\\n   -2.4245    2.2261   -1.3198 H   0  0  0  0  0  0  0  0  0  0  0  0\\n  1  2  1  0\\n  2  3  2  3\\n  2  4  1  0\\n  4  5  1  0\\n  5  6  1  0\\n  5  7  1  0\\n  7  8  1  0\\n  8  9  1  0\\n  9 10  2  3\\n  9  1  1  0\\n  1 11  1  0\\n  1 12  1  0\\n  3 13  1  0\\n  3 14  1  0\\n  4 15  1  0\\n  4 16  1  0\\n  5 17  1  0\\n  6 18  1  0\\n  6 19  1  0\\n  6 20  1  0\\n  7 21  1  0\\n  7 22  1  0\\n  8 23  1  0\\n  8 24  1  0\\n 10 25  1  0\\n 10 26  1  0\\nM  END\\n\");\n",
       "viewer_1615553017535597.setStyle({\"stick\": {\"colorscheme\": \"cyanCarbon\"}});\n",
       "viewer_1615553017535597.zoomTo();\n",
       "\tviewer_1615553017535597.setBackgroundColor(\"0xeeeeee\");\n",
       "\tviewer_1615553017535597.zoomTo();\n",
       "viewer_1615553017535597.render();\n",
       "});\n",
       "</script>"
      ]
     },
     "metadata": {},
     "output_type": "display_data"
    }
   ],
   "source": [
    "show_stk_mol(molecule)"
   ]
  },
  {
   "cell_type": "code",
   "execution_count": 10,
   "metadata": {},
   "outputs": [
    {
     "data": {
      "application/3dmoljs_load.v0": "<div id=\"3dmolviewer_1615553226144101\"  style=\"position: relative; width: 400px; height: 400px\">\n        <p id=\"3dmolwarning_1615553226144101\" style=\"background-color:#ffcccc;color:black\">You appear to be running in JupyterLab (or JavaScript failed to load for some other reason).  You need to install the 3dmol extension: <br>\n        <tt>jupyter labextension install jupyterlab_3dmol</tt></p>\n        </div>\n<script>\n\nvar loadScriptAsync = function(uri){\n  return new Promise((resolve, reject) => {\n    var tag = document.createElement('script');\n    tag.src = uri;\n    tag.async = true;\n    tag.onload = () => {\n      resolve();\n    };\n  var firstScriptTag = document.getElementsByTagName('script')[0];\n  firstScriptTag.parentNode.insertBefore(tag, firstScriptTag);\n});\n};\n\nif(typeof $3Dmolpromise === 'undefined') {\n$3Dmolpromise = null;\n  $3Dmolpromise = loadScriptAsync('https://3dmol.org/build/3Dmol.js');\n}\n\nvar viewer_1615553226144101 = null;\nvar warn = document.getElementById(\"3dmolwarning_1615553226144101\");\nif(warn) {\n    warn.parentNode.removeChild(warn);\n}\n$3Dmolpromise.then(function() {\nviewer_1615553226144101 = $3Dmol.createViewer($(\"#3dmolviewer_1615553226144101\"),{backgroundColor:\"white\"});\nviewer_1615553226144101.zoomTo();\n\tviewer_1615553226144101.removeAllModels();\n\tviewer_1615553226144101.addModel(\"\\n     RDKit          3D\\n\\n 26 26  0  0  0  0  0  0  0  0999 V2000\\n   -1.8009    0.2539    0.1948 C   0  0  0  0  0  0  0  0  0  0  0  0\\n   -1.1640   -0.9577   -0.3592 C   0  0  0  0  0  0  0  0  0  0  0  0\\n   -1.9768   -1.9418   -0.6856 C   0  0  0  0  0  0  0  0  0  0  0  0\\n    0.2692   -1.2307   -0.6036 C   0  0  0  0  0  0  0  0  0  0  0  0\\n    1.0691   -0.6232    0.5121 C   0  0  0  0  0  0  0  0  0  0  0  0\\n    2.3870   -1.3901    0.5748 C   0  0  0  0  0  0  0  0  0  0  0  0\\n    1.4239    0.8198    0.2532 C   0  0  0  0  0  0  0  0  0  0  0  0\\n    0.3202    1.7693    0.6369 C   0  0  0  0  0  0  0  0  0  0  0  0\\n   -0.9668    1.4789    0.0084 C   0  0  0  0  0  0  0  0  0  0  0  0\\n   -1.4748    2.3831   -0.8232 C   0  0  0  0  0  0  0  0  0  0  0  0\\n   -1.9366    0.1635    1.3125 H   0  0  0  0  0  0  0  0  0  0  0  0\\n   -2.8291    0.4094   -0.2053 H   0  0  0  0  0  0  0  0  0  0  0  0\\n   -1.6477   -2.8863   -1.1019 H   0  0  0  0  0  0  0  0  0  0  0  0\\n   -3.0531   -1.8366   -0.5429 H   0  0  0  0  0  0  0  0  0  0  0  0\\n    0.4539   -2.3245   -0.6933 H   0  0  0  0  0  0  0  0  0  0  0  0\\n    0.5443   -0.6800   -1.5400 H   0  0  0  0  0  0  0  0  0  0  0  0\\n    0.5826   -0.7610    1.4850 H   0  0  0  0  0  0  0  0  0  0  0  0\\n    2.2637   -2.4051    0.9648 H   0  0  0  0  0  0  0  0  0  0  0  0\\n    3.1393   -0.8329    1.1884 H   0  0  0  0  0  0  0  0  0  0  0  0\\n    2.8188   -1.4018   -0.4643 H   0  0  0  0  0  0  0  0  0  0  0  0\\n    1.7371    0.9099   -0.7871 H   0  0  0  0  0  0  0  0  0  0  0  0\\n    2.3011    1.0531    0.8936 H   0  0  0  0  0  0  0  0  0  0  0  0\\n    0.6579    2.7868    0.3393 H   0  0  0  0  0  0  0  0  0  0  0  0\\n    0.2156    1.7266    1.7561 H   0  0  0  0  0  0  0  0  0  0  0  0\\n   -0.9092    3.2911   -0.9939 H   0  0  0  0  0  0  0  0  0  0  0  0\\n   -2.4245    2.2261   -1.3198 H   0  0  0  0  0  0  0  0  0  0  0  0\\n  1  2  1  0\\n  2  3  2  3\\n  2  4  1  0\\n  4  5  1  0\\n  5  6  1  0\\n  5  7  1  0\\n  7  8  1  0\\n  8  9  1  0\\n  9 10  2  3\\n  9  1  1  0\\n  1 11  1  0\\n  1 12  1  0\\n  3 13  1  0\\n  3 14  1  0\\n  4 15  1  0\\n  4 16  1  0\\n  5 17  1  0\\n  6 18  1  0\\n  6 19  1  0\\n  6 20  1  0\\n  7 21  1  0\\n  7 22  1  0\\n  8 23  1  0\\n  8 24  1  0\\n 10 25  1  0\\n 10 26  1  0\\nM  END\\n\",\"sdf\");\n\tviewer_1615553226144101.setStyle({\"stick\": {}});\n\tviewer_1615553226144101.setBackgroundColor(\"0xeeeeee\");\n\tviewer_1615553226144101.zoomTo();\nviewer_1615553226144101.render();\n});\n</script>",
      "text/html": [
       "<div id=\"3dmolviewer_1615553226144101\"  style=\"position: relative; width: 400px; height: 400px\">\n",
       "        <p id=\"3dmolwarning_1615553226144101\" style=\"background-color:#ffcccc;color:black\">You appear to be running in JupyterLab (or JavaScript failed to load for some other reason).  You need to install the 3dmol extension: <br>\n",
       "        <tt>jupyter labextension install jupyterlab_3dmol</tt></p>\n",
       "        </div>\n",
       "<script>\n",
       "\n",
       "var loadScriptAsync = function(uri){\n",
       "  return new Promise((resolve, reject) => {\n",
       "    var tag = document.createElement('script');\n",
       "    tag.src = uri;\n",
       "    tag.async = true;\n",
       "    tag.onload = () => {\n",
       "      resolve();\n",
       "    };\n",
       "  var firstScriptTag = document.getElementsByTagName('script')[0];\n",
       "  firstScriptTag.parentNode.insertBefore(tag, firstScriptTag);\n",
       "});\n",
       "};\n",
       "\n",
       "if(typeof $3Dmolpromise === 'undefined') {\n",
       "$3Dmolpromise = null;\n",
       "  $3Dmolpromise = loadScriptAsync('https://3dmol.org/build/3Dmol.js');\n",
       "}\n",
       "\n",
       "var viewer_1615553226144101 = null;\n",
       "var warn = document.getElementById(\"3dmolwarning_1615553226144101\");\n",
       "if(warn) {\n",
       "    warn.parentNode.removeChild(warn);\n",
       "}\n",
       "$3Dmolpromise.then(function() {\n",
       "viewer_1615553226144101 = $3Dmol.createViewer($(\"#3dmolviewer_1615553226144101\"),{backgroundColor:\"white\"});\n",
       "viewer_1615553226144101.zoomTo();\n",
       "\tviewer_1615553226144101.removeAllModels();\n",
       "\tviewer_1615553226144101.addModel(\"\\n     RDKit          3D\\n\\n 26 26  0  0  0  0  0  0  0  0999 V2000\\n   -1.8009    0.2539    0.1948 C   0  0  0  0  0  0  0  0  0  0  0  0\\n   -1.1640   -0.9577   -0.3592 C   0  0  0  0  0  0  0  0  0  0  0  0\\n   -1.9768   -1.9418   -0.6856 C   0  0  0  0  0  0  0  0  0  0  0  0\\n    0.2692   -1.2307   -0.6036 C   0  0  0  0  0  0  0  0  0  0  0  0\\n    1.0691   -0.6232    0.5121 C   0  0  0  0  0  0  0  0  0  0  0  0\\n    2.3870   -1.3901    0.5748 C   0  0  0  0  0  0  0  0  0  0  0  0\\n    1.4239    0.8198    0.2532 C   0  0  0  0  0  0  0  0  0  0  0  0\\n    0.3202    1.7693    0.6369 C   0  0  0  0  0  0  0  0  0  0  0  0\\n   -0.9668    1.4789    0.0084 C   0  0  0  0  0  0  0  0  0  0  0  0\\n   -1.4748    2.3831   -0.8232 C   0  0  0  0  0  0  0  0  0  0  0  0\\n   -1.9366    0.1635    1.3125 H   0  0  0  0  0  0  0  0  0  0  0  0\\n   -2.8291    0.4094   -0.2053 H   0  0  0  0  0  0  0  0  0  0  0  0\\n   -1.6477   -2.8863   -1.1019 H   0  0  0  0  0  0  0  0  0  0  0  0\\n   -3.0531   -1.8366   -0.5429 H   0  0  0  0  0  0  0  0  0  0  0  0\\n    0.4539   -2.3245   -0.6933 H   0  0  0  0  0  0  0  0  0  0  0  0\\n    0.5443   -0.6800   -1.5400 H   0  0  0  0  0  0  0  0  0  0  0  0\\n    0.5826   -0.7610    1.4850 H   0  0  0  0  0  0  0  0  0  0  0  0\\n    2.2637   -2.4051    0.9648 H   0  0  0  0  0  0  0  0  0  0  0  0\\n    3.1393   -0.8329    1.1884 H   0  0  0  0  0  0  0  0  0  0  0  0\\n    2.8188   -1.4018   -0.4643 H   0  0  0  0  0  0  0  0  0  0  0  0\\n    1.7371    0.9099   -0.7871 H   0  0  0  0  0  0  0  0  0  0  0  0\\n    2.3011    1.0531    0.8936 H   0  0  0  0  0  0  0  0  0  0  0  0\\n    0.6579    2.7868    0.3393 H   0  0  0  0  0  0  0  0  0  0  0  0\\n    0.2156    1.7266    1.7561 H   0  0  0  0  0  0  0  0  0  0  0  0\\n   -0.9092    3.2911   -0.9939 H   0  0  0  0  0  0  0  0  0  0  0  0\\n   -2.4245    2.2261   -1.3198 H   0  0  0  0  0  0  0  0  0  0  0  0\\n  1  2  1  0\\n  2  3  2  3\\n  2  4  1  0\\n  4  5  1  0\\n  5  6  1  0\\n  5  7  1  0\\n  7  8  1  0\\n  8  9  1  0\\n  9 10  2  3\\n  9  1  1  0\\n  1 11  1  0\\n  1 12  1  0\\n  3 13  1  0\\n  3 14  1  0\\n  4 15  1  0\\n  4 16  1  0\\n  5 17  1  0\\n  6 18  1  0\\n  6 19  1  0\\n  6 20  1  0\\n  7 21  1  0\\n  7 22  1  0\\n  8 23  1  0\\n  8 24  1  0\\n 10 25  1  0\\n 10 26  1  0\\nM  END\\n\",\"sdf\");\n",
       "\tviewer_1615553226144101.setStyle({\"stick\": {}});\n",
       "\tviewer_1615553226144101.setBackgroundColor(\"0xeeeeee\");\n",
       "\tviewer_1615553226144101.zoomTo();\n",
       "viewer_1615553226144101.render();\n",
       "});\n",
       "</script>"
      ]
     },
     "metadata": {},
     "output_type": "display_data"
    },
    {
     "data": {
      "image/png": "[encoded data removed]",
      "text/html": [],
      "text/plain": [
       "<rdkit.Chem.rdchem.Mol at 0x7ff92d8af2b0>"
      ]
     },
     "execution_count": 10,
     "metadata": {},
     "output_type": "execute_result"
    }
   ],
   "source": [
    "molecule.to_rdkit_mol()"
   ]
  },
  {
   "cell_type": "code",
   "execution_count": null,
   "metadata": {},
   "outputs": [],
   "source": [
    "# Writing\n",
    "molecule.write('.mol/.sdf/.pdb/.xyz')\n",
    "rdkit_molecule = molecule.to_rdkit_mol()\n",
    "# New things - much more versatile.\n",
    "stk.XyzWriter().write(molecule, path)  \n",
    "stk.MolWriter().write(molecule, path)\n",
    "stk.PdbWriter().write(molecule, path)\n",
    "stk.TurbomoleWriter().write(molecule, path)"
   ]
  },
  {
   "cell_type": "markdown",
   "metadata": {},
   "source": [
    "## A short detour: how do you visualize your molecules?\n",
    "* pymol for anything non periodic (although it is possible) - makes good images, a bit of a pain to use - SO MANY MOLECULES\n",
    "* avogadro for anything - slow and buggy on nonlinux, very versatile and good for editting - one molecule at atime\n",
    "* ovito - .pdb or .xyz, good analysis and visualisation options, so many molecules, AUTO REFRESH!\n",
    "* ase - one molecule at time\n",
    "* rdkit - small molecules with bond topology\n",
    "* py3dmol - jupyter notebook env (thumbs down for me) "
   ]
  },
  {
   "cell_type": "code",
   "execution_count": 11,
   "metadata": {},
   "outputs": [
    {
     "data": {
      "text/plain": [
       "BuildingBlock('C=C1CCC(C)CC(=C)C1')"
      ]
     },
     "execution_count": 11,
     "metadata": {},
     "output_type": "execute_result"
    }
   ],
   "source": [
    "molecule"
   ]
  },
  {
   "cell_type": "code",
   "execution_count": null,
   "metadata": {},
   "outputs": [],
   "source": [
    "# Immutability and what it means for you.\n",
    "new_molecule = molecule.with_structure_from_file('file')\n",
    "NOT\n",
    "molecule.with_structure_from_file('file')\n",
    "\n",
    "# Look for with methods ---->>>"
   ]
  },
  {
   "cell_type": "markdown",
   "metadata": {},
   "source": [
    "# Our own chemistry example \n",
    "https://pubs.acs.org/doi/10.1021/acs.inorgchem.0c02682"
   ]
  },
  {
   "cell_type": "code",
   "execution_count": 12,
   "metadata": {},
   "outputs": [
    {
     "data": {
      "application/3dmoljs_load.v0": "<div id=\"3dmolviewer_16155535862088633\"  style=\"position: relative; width: 400px; height: 400px\">\n        <p id=\"3dmolwarning_16155535862088633\" style=\"background-color:#ffcccc;color:black\">You appear to be running in JupyterLab (or JavaScript failed to load for some other reason).  You need to install the 3dmol extension: <br>\n        <tt>jupyter labextension install jupyterlab_3dmol</tt></p>\n        </div>\n<script>\n\nvar loadScriptAsync = function(uri){\n  return new Promise((resolve, reject) => {\n    var tag = document.createElement('script');\n    tag.src = uri;\n    tag.async = true;\n    tag.onload = () => {\n      resolve();\n    };\n  var firstScriptTag = document.getElementsByTagName('script')[0];\n  firstScriptTag.parentNode.insertBefore(tag, firstScriptTag);\n});\n};\n\nif(typeof $3Dmolpromise === 'undefined') {\n$3Dmolpromise = null;\n  $3Dmolpromise = loadScriptAsync('https://3dmol.org/build/3Dmol.js');\n}\n\nvar viewer_16155535862088633 = null;\nvar warn = document.getElementById(\"3dmolwarning_16155535862088633\");\nif(warn) {\n    warn.parentNode.removeChild(warn);\n}\n$3Dmolpromise.then(function() {\nviewer_16155535862088633 = $3Dmol.createViewer($(\"#3dmolviewer_16155535862088633\"),{backgroundColor:\"white\"});\nviewer_16155535862088633.addModel(\"\\n     RDKit          3D\\n\\n274283  0  0  0  0  0  0  0  0999 V2000\\n  -20.6730  -24.3470   13.5208 C   0  0  0  0  0  3  0  0  0  0  0  0\\n  -20.4639  -25.8070   13.6231 N   0  0  0  0  0  0  0  0  0  0  0  0\\n  -19.3761  -23.8771   13.0326 C   0  0  0  0  0  0  0  0  0  0  0  0\\n  -18.4390  -24.8785   13.0242 N   0  0  0  0  0  0  0  0  0  0  0  0\\n  -19.0097  -26.0911   13.5128 C   0  0  0  0  0  3  0  0  0  0  0  0\\n  -19.0123  -22.6731   12.6302 C   0  0  0  0  0  0  0  0  0  0  0  0\\n  -17.6718  -22.5619   12.1863 N   0  0  0  0  0  0  0  0  0  0  0  0\\n  -17.0495  -21.2712   12.0254 C   0  0  0  0  0  0  0  0  0  0  0  0\\n  -15.6384  -21.2908   12.5905 C   0  0  0  0  0  0  0  0  0  0  0  0\\n  -17.6336  -20.5029   12.5816 H   0  0  0  0  0  0  0  0  0  0  0  0\\n  -17.0282  -20.9818   10.9541 H   0  0  0  0  0  0  0  0  0  0  0  0\\n  -15.6156  -21.8264   14.0193 C   0  0  0  0  0  0  0  0  0  0  0  0\\n  -15.2506  -20.2484   12.5739 H   0  0  0  0  0  0  0  0  0  0  0  0\\n  -14.9696  -21.9200   11.9635 H   0  0  0  0  0  0  0  0  0  0  0  0\\n  -15.8859  -23.2562   14.0273 N   0  0  0  0  0  0  0  0  0  0  0  0\\n  -16.3383  -21.2884   14.6706 H   0  0  0  0  0  0  0  0  0  0  0  0\\n  -14.5950  -21.6290   14.4200 H   0  0  0  0  0  0  0  0  0  0  0  0\\n  -14.9080  -24.0985   14.6200 C   0  0  0  0  0  0  0  0  0  0  0  0\\n  -14.7253  -25.3166   14.0991 C   0  0  0  0  0  0  0  0  0  0  0  0\\n  -15.4711  -25.7528   13.0178 N   0  0  0  0  0  0  0  0  0  0  0  0\\n  -15.1384  -27.1252   12.7610 C   0  0  0  0  0  3  0  0  0  0  0  0\\n  -14.0254  -27.4808   13.6900 N   0  0  0  0  0  0  0  0  0  0  0  0\\n  -13.7621  -26.3170   14.5525 C   0  0  0  0  0  3  0  0  0  0  0  0\\n  -18.8503  -26.9133   12.7875 H   0  0  0  0  0  0  0  0  0  0  0  0\\n  -21.4709  -24.1457   12.7768 H   0  0  0  0  0  0  0  0  0  0  0  0\\n  -19.6934  -21.8305   12.6327 H   0  0  0  0  0  0  0  0  0  0  0  0\\n  -14.2946  -23.7513   15.4442 H   0  0  0  0  0  0  0  0  0  0  0  0\\n  -16.0190  -27.7668   12.9725 H   0  0  0  0  0  0  0  0  0  0  0  0\\n  -28.1989  -29.8375   11.7602 H   0  0  0  0  0  0  0  0  0  0  0  0\\n  -27.5691  -32.1863   12.4335 H   0  0  0  0  0  0  0  0  0  0  0  0\\n  -26.6764  -32.6405   14.6889 H   0  0  0  0  0  0  0  0  0  0  0  0\\n  -21.4468  -31.5411   11.8449 C   0  0  0  0  0  3  0  0  0  0  0  0\\n  -22.9962  -32.6138   13.1818 C   0  0  0  0  0  0  0  0  0  0  0  0\\n  -27.5124  -29.9539   12.6250 C   0  0  0  0  0  0  0  0  0  0  0  0\\n  -26.4516  -31.6926   14.1541 C   0  0  0  0  0  0  0  0  0  0  0  0\\n  -27.5822  -31.3882   13.1948 C   0  0  0  0  0  0  0  0  0  0  0  0\\n  -24.2016  -32.7663   13.7788 C   0  0  0  0  0  0  0  0  0  0  0  0\\n  -22.5895  -28.8521   14.0356 C   0  0  0  0  0  3  0  0  0  0  0  0\\n  -24.6606  -28.0658   13.4377 C   0  0  0  0  0  0  0  0  0  0  0  0\\n  -25.8590  -28.1870   12.9029 C   0  0  0  0  0  0  0  0  0  0  0  0\\n  -24.0790  -26.9685   14.2349 C   0  0  0  0  0  3  0  0  0  0  0  0\\n  -21.7420  -33.3443   13.4203 C   0  0  0  0  0  3  0  0  0  0  0  0\\n  -22.8579  -27.6037   14.7802 N   0  0  0  0  0  0  0  0  0  0  0  0\\n  -23.8033  -29.1178   13.3323 N   0  0  0  0  0  0  0  0  0  0  0  0\\n  -25.2345  -31.8558   13.3943 N   0  0  0  0  0  0  0  0  0  0  0  0\\n  -22.8200  -31.6127   12.2506 N   0  0  0  0  0  0  0  0  0  0  0  0\\n  -20.7923  -32.7307   12.4590 N   0  0  0  0  0  0  0  0  0  0  0  0\\n  -26.1705  -29.4507   12.3094 N   0  0  0  0  0  0  0  0  0  0  0  0\\n  -20.9891  -30.6123   12.2395 H   0  0  0  0  0  0  0  0  0  0  0  0\\n  -24.3624  -33.5141   14.5441 H   0  0  0  0  0  0  0  0  0  0  0  0\\n  -21.8642  -34.4222   13.1954 H   0  0  0  0  0  0  0  0  0  0  0  0\\n  -23.8320  -26.1115   13.5723 H   0  0  0  0  0  0  0  0  0  0  0  0\\n  -21.7720  -28.6914   13.3033 H   0  0  0  0  0  0  0  0  0  0  0  0\\n  -26.6070  -27.4122   13.0320 H   0  0  0  0  0  0  0  0  0  0  0  0\\n  -27.9475  -29.3139   13.4294 H   0  0  0  0  0  0  0  0  0  0  0  0\\n  -26.3447  -30.8783   14.9040 H   0  0  0  0  0  0  0  0  0  0  0  0\\n  -28.5636  -31.4841   13.7100 H   0  0  0  0  0  0  0  0  0  0  0  0\\n  -12.3301  -37.0635   13.3950 H   0  0  0  0  0  0  0  0  0  0  0  0\\n  -10.3068  -36.1475   14.4269 H   0  0  0  0  0  0  0  0  0  0  0  0\\n  -10.5457  -35.3889   12.0480 H   0  0  0  0  0  0  0  0  0  0  0  0\\n  -14.2798  -31.4843   14.5859 C   0  0  0  0  0  3  0  0  0  0  0  0\\n  -12.0824  -31.6448   13.9042 C   0  0  0  0  0  0  0  0  0  0  0  0\\n  -12.4182  -36.1549   14.0236 C   0  0  0  0  0  0  0  0  0  0  0  0\\n  -10.5473  -34.6683   12.8756 C   0  0  0  0  0  0  0  0  0  0  0  0\\n  -11.0655  -35.3883   14.1351 C   0  0  0  0  0  0  0  0  0  0  0  0\\n  -11.0497  -32.2713   13.3052 C   0  0  0  0  0  0  0  0  0  0  0  0\\n  -16.3189  -32.7077   12.3967 C   0  0  0  0  0  3  0  0  0  0  0  0\\n  -15.7561  -34.7135   13.3833 C   0  0  0  0  0  0  0  0  0  0  0  0\\n  -14.8870  -35.6329   13.8031 C   0  0  0  0  0  0  0  0  0  0  0  0\\n  -17.2281  -34.6497   13.4987 C   0  0  0  0  0  3  0  0  0  0  0  0\\n  -12.1245  -30.4061   14.7047 C   0  0  0  0  0  3  0  0  0  0  0  0\\n  -17.5692  -33.4489   12.6943 N   0  0  0  0  0  0  0  0  0  0  0  0\\n  -15.2576  -33.6036   12.7534 N   0  0  0  0  0  0  0  0  0  0  0  0\\n  -11.3489  -33.4856   12.6048 N   0  0  0  0  0  0  0  0  0  0  0  0\\n  -13.3261  -32.2121   13.8254 N   0  0  0  0  0  0  0  0  0  0  0  0\\n  -13.5203  -30.3938   15.2255 N   0  0  0  0  0  0  0  0  0  0  0  0\\n  -13.5198  -35.3468   13.5343 N   0  0  0  0  0  0  0  0  0  0  0  0\\n  -15.0180  -31.0318   13.8961 H   0  0  0  0  0  0  0  0  0  0  0  0\\n  -10.0336  -31.9079   13.3975 H   0  0  0  0  0  0  0  0  0  0  0  0\\n  -11.9326  -29.5349   14.0419 H   0  0  0  0  0  0  0  0  0  0  0  0\\n  -17.6958  -35.5410   13.0327 H   0  0  0  0  0  0  0  0  0  0  0  0\\n  -16.2915  -32.4753   11.3134 H   0  0  0  0  0  0  0  0  0  0  0  0\\n  -15.1969  -36.5280   14.3267 H   0  0  0  0  0  0  0  0  0  0  0  0\\n  -12.6520  -36.5050   15.0520 H   0  0  0  0  0  0  0  0  0  0  0  0\\n   -9.4869  -34.3596   13.0066 H   0  0  0  0  0  0  0  0  0  0  0  0\\n  -11.1235  -34.6420   14.9549 H   0  0  0  0  0  0  0  0  0  0  0  0\\n  -17.5250  -22.6448    6.8485 H   0  0  0  0  0  0  0  0  0  0  0  0\\n  -16.4672  -21.7688    4.7444 H   0  0  0  0  0  0  0  0  0  0  0  0\\n  -14.9980  -23.1934    6.1479 H   0  0  0  0  0  0  0  0  0  0  0  0\\n  -16.4480  -28.9082    4.8886 C   0  0  0  0  0  3  0  0  0  0  0  0\\n  -15.1855  -27.2163    4.6299 C   0  0  0  0  0  0  0  0  0  0  0  0\\n  -17.8763  -22.9579    5.8525 C   0  0  0  0  0  0  0  0  0  0  0  0\\n  -15.4298  -23.5894    5.2140 C   0  0  0  0  0  0  0  0  0  0  0  0\\n  -16.7295  -22.8449    4.8290 C   0  0  0  0  0  0  0  0  0  0  0  0\\n  -14.7846  -25.8330    4.6971 C   0  0  0  0  0  0  0  0  0  0  0  0\\n  -19.6211  -28.0317    4.9593 C   0  0  0  0  0  3  0  0  0  0  0  0\\n  -19.9841  -25.9705    5.3699 C   0  0  0  0  0  0  0  0  0  0  0  0\\n  -19.6516  -24.5643    5.5996 C   0  0  0  0  0  0  0  0  0  0  0  0\\n  -14.6048  -28.2744    3.9779 C   0  0  0  0  0  3  0  0  0  0  0  0\\n  -20.9059  -27.8052    4.6089 N   0  0  0  0  0  0  0  0  0  0  0  0\\n  -19.0208  -26.9013    5.4184 N   0  0  0  0  0  0  0  0  0  0  0  0\\n  -15.6132  -25.0355    5.2698 N   0  0  0  0  0  0  0  0  0  0  0  0\\n  -16.3470  -27.5842    5.1728 N   0  0  0  0  0  0  0  0  0  0  0  0\\n  -15.4218  -29.3286    4.1110 N   0  0  0  0  0  0  0  0  0  0  0  0\\n  -18.4123  -24.3067    5.8449 N   0  0  0  0  0  0  0  0  0  0  0  0\\n  -18.6743  -22.2349    5.5689 H   0  0  0  0  0  0  0  0  0  0  0  0\\n  -14.6669  -23.3348    4.4440 H   0  0  0  0  0  0  0  0  0  0  0  0\\n  -17.0843  -23.1873    3.8313 H   0  0  0  0  0  0  0  0  0  0  0  0\\n  -11.9601  -37.2832    3.7563 H   0  0  0  0  0  0  0  0  0  0  0  0\\n  -10.3904  -38.4761    5.4575 H   0  0  0  0  0  0  0  0  0  0  0  0\\n   -9.7637  -36.2580    5.2984 H   0  0  0  0  0  0  0  0  0  0  0  0\\n  -14.7054  -33.4523    4.4912 C   0  0  0  0  0  3  0  0  0  0  0  0\\n  -12.5876  -33.7008    4.5936 C   0  0  0  0  0  0  0  0  0  0  0  0\\n  -12.3394  -37.8132    4.6556 C   0  0  0  0  0  0  0  0  0  0  0  0\\n  -10.5889  -36.4069    6.0357 C   0  0  0  0  0  0  0  0  0  0  0  0\\n  -11.2274  -37.7992    5.7508 C   0  0  0  0  0  0  0  0  0  0  0  0\\n  -11.3736  -34.3715    5.0374 C   0  0  0  0  0  0  0  0  0  0  0  0\\n  -16.6823  -35.2204    6.7557 C   0  0  0  0  0  3  0  0  0  0  0  0\\n  -15.8387  -36.8528    5.6611 C   0  0  0  0  0  0  0  0  0  0  0  0\\n  -14.7581  -37.6442    5.0243 C   0  0  0  0  0  0  0  0  0  0  0  0\\n  -17.2203  -37.0096    5.6901 C   0  0  0  0  0  3  0  0  0  0  0  0\\n  -12.8437  -32.5827    3.8356 C   0  0  0  0  0  3  0  0  0  0  0  0\\n  -17.7412  -35.9741    6.3912 N   0  0  0  0  0  0  0  0  0  0  0  0\\n  -15.5027  -35.7547    6.3457 N   0  0  0  0  0  0  0  0  0  0  0  0\\n  -11.5746  -35.3646    5.8404 N   0  0  0  0  0  0  0  0  0  0  0  0\\n  -13.7392  -34.2345    4.9709 N   0  0  0  0  0  0  0  0  0  0  0  0\\n  -14.1877  -32.4231    3.8014 N   0  0  0  0  0  0  0  0  0  0  0  0\\n  -13.5593  -37.1693    5.1467 N   0  0  0  0  0  0  0  0  0  0  0  0\\n  -12.5637  -38.8643    4.3664 H   0  0  0  0  0  0  0  0  0  0  0  0\\n  -10.1220  -36.3800    7.0423 H   0  0  0  0  0  0  0  0  0  0  0  0\\n  -11.6707  -38.2104    6.6811 H   0  0  0  0  0  0  0  0  0  0  0  0\\n  -29.0569  -32.3940    5.4576 H   0  0  0  0  0  0  0  0  0  0  0  0\\n  -27.9100  -34.3987    4.3070 H   0  0  0  0  0  0  0  0  0  0  0  0\\n  -27.5375  -36.4405    5.6537 H   0  0  0  0  0  0  0  0  0  0  0  0\\n  -22.1440  -33.9864    6.3768 C   0  0  0  0  0  3  0  0  0  0  0  0\\n  -23.6812  -35.4714    6.2960 C   0  0  0  0  0  0  0  0  0  0  0  0\\n  -28.2536  -33.0000    5.9334 C   0  0  0  0  0  0  0  0  0  0  0  0\\n  -27.4281  -35.4689    6.1905 C   0  0  0  0  0  0  0  0  0  0  0  0\\n  -28.2487  -34.4297    5.3660 C   0  0  0  0  0  0  0  0  0  0  0  0\\n  -25.0660  -36.0072    6.3190 C   0  0  0  0  0  0  0  0  0  0  0  0\\n  -23.2950  -31.2739    4.7961 C   0  0  0  0  0  3  0  0  0  0  0  0\\n  -25.3917  -30.8946    4.8965 C   0  0  0  0  0  0  0  0  0  0  0  0\\n  -26.7821  -31.2248    5.1661 C   0  0  0  0  0  0  0  0  0  0  0  0\\n  -24.7944  -29.8035    4.3183 C   0  0  0  0  0  3  0  0  0  0  0  0\\n  -22.4703  -36.1172    6.4296 C   0  0  0  0  0  3  0  0  0  0  0  0\\n  -23.4693  -30.0487    4.2686 N   0  0  0  0  0  0  0  0  0  0  0  0\\n  -24.4633  -31.8033    5.1967 N   0  0  0  0  0  0  0  0  0  0  0  0\\n  -26.0170  -35.1316    6.3134 N   0  0  0  0  0  0  0  0  0  0  0  0\\n  -23.4842  -34.1447    6.2260 N   0  0  0  0  0  0  0  0  0  0  0  0\\n  -21.5053  -35.1771    6.5071 N   0  0  0  0  0  0  0  0  0  0  0  0\\n  -26.9576  -32.3786    5.7038 N   0  0  0  0  0  0  0  0  0  0  0  0\\n  -28.5028  -33.0872    7.0065 H   0  0  0  0  0  0  0  0  0  0  0  0\\n  -27.8628  -35.5934    7.2034 H   0  0  0  0  0  0  0  0  0  0  0  0\\n  -29.3003  -34.7946    5.3658 H   0  0  0  0  0  0  0  0  0  0  0  0\\n  -13.0591  -34.7363   10.8195 N   0  0  0  0  0  4  0  0  0  0  0  0\\n  -16.9998  -25.2073   10.6176 N   0  0  0  0  0  4  0  0  0  0  0  0\\n  -24.9802  -31.7889   10.5297 N   0  0  0  0  0  4  0  0  0  0  0  0\\n  -25.3542  -32.8831    8.0961 N   0  0  0  0  0  4  0  0  0  0  0  0\\n  -17.2524  -25.6661    7.9835 N   0  0  0  0  0  0  0  0  0  0  0  0\\n  -13.1906  -35.4572    8.2917 N   0  0  0  0  0  0  0  0  0  0  0  0\\n  -26.6080  -32.2985    8.6655 C   0  0  0  0  0  0  0  0  0  0  0  0\\n  -26.2851  -31.3990    9.9099 C   0  0  0  0  0  0  0  0  0  0  0  0\\n  -27.2842  -33.1337    8.9661 H   0  0  0  0  0  0  0  0  0  0  0  0\\n  -27.1597  -31.6409    7.9733 H   0  0  0  0  0  0  0  0  0  0  0  0\\n  -27.1497  -31.4564   10.5645 H   0  0  0  0  0  0  0  0  0  0  0  0\\n  -26.2223  -30.3301    9.5969 H   0  0  0  0  0  0  0  0  0  0  0  0\\n  -23.9445  -31.3819    9.5436 C   0  0  0  0  0  0  0  0  0  0  0  0\\n  -24.3695  -31.7591    8.1039 C   0  0  0  0  0  0  0  0  0  0  0  0\\n  -22.9989  -31.9167    9.7655 H   0  0  0  0  0  0  0  0  0  0  0  0\\n  -23.7195  -30.2940    9.5970 H   0  0  0  0  0  0  0  0  0  0  0  0\\n  -23.4578  -31.9667    7.5243 H   0  0  0  0  0  0  0  0  0  0  0  0\\n  -24.8435  -30.8718    7.6246 H   0  0  0  0  0  0  0  0  0  0  0  0\\n  -24.8744  -33.8844    9.0991 C   0  0  0  0  0  0  0  0  0  0  0  0\\n  -24.9585  -33.2873   10.5712 C   0  0  0  0  0  0  0  0  0  0  0  0\\n  -23.8108  -34.1203    8.8752 H   0  0  0  0  0  0  0  0  0  0  0  0\\n  -25.4278  -34.8461    9.0461 H   0  0  0  0  0  0  0  0  0  0  0  0\\n  -24.1175  -33.7020   11.1548 H   0  0  0  0  0  0  0  0  0  0  0  0\\n  -25.8906  -33.6333   11.0728 H   0  0  0  0  0  0  0  0  0  0  0  0\\n  -18.4786  -25.0536    8.5803 C   0  0  0  0  0  0  0  0  0  0  0  0\\n  -18.4077  -25.0474   10.1402 C   0  0  0  0  0  0  0  0  0  0  0  0\\n  -19.4132  -25.5531    8.2467 H   0  0  0  0  0  0  0  0  0  0  0  0\\n  -18.5515  -23.9947    8.2700 H   0  0  0  0  0  0  0  0  0  0  0  0\\n  -19.0218  -25.8819   10.5470 H   0  0  0  0  0  0  0  0  0  0  0  0\\n  -18.8810  -24.1107   10.4785 H   0  0  0  0  0  0  0  0  0  0  0  0\\n  -16.6049  -26.6041   10.2429 C   0  0  0  0  0  0  0  0  0  0  0  0\\n  -17.0295  -26.9303    8.7453 C   0  0  0  0  0  0  0  0  0  0  0  0\\n  -17.0436  -27.3650   10.9207 H   0  0  0  0  0  0  0  0  0  0  0  0\\n  -15.4964  -26.6811   10.2954 H   0  0  0  0  0  0  0  0  0  0  0  0\\n  -17.9780  -27.5154    8.7440 H   0  0  0  0  0  0  0  0  0  0  0  0\\n  -16.2662  -27.5811    8.2672 H   0  0  0  0  0  0  0  0  0  0  0  0\\n  -16.1637  -24.3052    9.7933 C   0  0  0  0  0  0  0  0  0  0  0  0\\n  -16.0993  -24.7895    8.3209 C   0  0  0  0  0  0  0  0  0  0  0  0\\n  -15.1382  -24.1900   10.2065 H   0  0  0  0  0  0  0  0  0  0  0  0\\n  -16.6164  -23.2878    9.8262 H   0  0  0  0  0  0  0  0  0  0  0  0\\n  -15.1526  -25.3458    8.1336 H   0  0  0  0  0  0  0  0  0  0  0  0\\n  -16.0730  -23.8897    7.7262 H   0  0  0  0  0  0  0  0  0  0  0  0\\n  -14.3655  -34.4160   10.2070 C   0  0  0  0  0  0  0  0  0  0  0  0\\n  -14.4921  -35.0219    8.8167 C   0  0  0  0  0  0  0  0  0  0  0  0\\n  -14.4608  -33.3070   10.1492 H   0  0  0  0  0  0  0  0  0  0  0  0\\n  -15.2206  -34.8181   10.7775 H   0  0  0  0  0  0  0  0  0  0  0  0\\n  -14.8869  -34.2075    8.1881 H   0  0  0  0  0  0  0  0  0  0  0  0\\n  -15.1773  -35.9002    8.8509 H   0  0  0  0  0  0  0  0  0  0  0  0\\n  -12.7019  -36.5825    9.1333 C   0  0  0  0  0  0  0  0  0  0  0  0\\n  -12.8920  -36.2196   10.6608 C   0  0  0  0  0  0  0  0  0  0  0  0\\n  -11.6184  -36.7285    8.9249 H   0  0  0  0  0  0  0  0  0  0  0  0\\n  -13.2059  -37.5435    8.8964 H   0  0  0  0  0  0  0  0  0  0  0  0\\n  -12.0545  -36.6506   11.2311 H   0  0  0  0  0  0  0  0  0  0  0  0\\n  -13.8101  -36.7214   11.0447 H   0  0  0  0  0  0  0  0  0  0  0  0\\n  -12.0269  -34.0541    9.9831 C   0  0  0  0  0  0  0  0  0  0  0  0\\n  -12.2702  -34.3017    8.4828 C   0  0  0  0  0  0  0  0  0  0  0  0\\n  -11.9855  -32.9585   10.1708 H   0  0  0  0  0  0  0  0  0  0  0  0\\n  -11.0252  -34.4606   10.2142 H   0  0  0  0  0  0  0  0  0  0  0  0\\n  -11.2835  -34.4225    7.9992 H   0  0  0  0  0  0  0  0  0  0  0  0\\n  -12.7287  -33.3963    8.0219 H   0  0  0  0  0  0  0  0  0  0  0  0\\n  -13.8662  -25.4861    4.2386 H   0  0  0  0  0  0  0  0  0  0  0  0\\n  -12.7236  -25.9508   14.4143 H   0  0  0  0  0  0  0  0  0  0  0  0\\n  -13.7083  -28.2589    3.3733 H   0  0  0  0  0  0  0  0  0  0  0  0\\n  -17.2738  -29.5414    5.1297 H   0  0  0  0  0  0  0  0  0  0  0  0\\n  -19.1446  -28.9554    4.7292 H   0  0  0  0  0  0  0  0  0  0  0  0\\n  -21.1478  -26.5171    4.8909 C   0  0  0  0  0  3  0  0  0  0  0  0\\n  -22.0603  -25.9952    4.6387 H   0  0  0  0  0  0  0  0  0  0  0  0\\n  -20.3910  -23.7831    5.4732 H   0  0  0  0  0  0  0  0  0  0  0  0\\n  -14.9603  -38.5553    4.4751 H   0  0  0  0  0  0  0  0  0  0  0  0\\n  -17.7977  -37.8102    5.2485 H   0  0  0  0  0  0  0  0  0  0  0  0\\n  -16.7919  -34.3083    7.3226 H   0  0  0  0  0  0  0  0  0  0  0  0\\n  -12.1228  -31.9122    3.3892 H   0  0  0  0  0  0  0  0  0  0  0  0\\n  -15.7566  -33.5687    4.7104 H   0  0  0  0  0  0  0  0  0  0  0  0\\n  -10.4011  -34.1409    4.6179 H   0  0  0  0  0  0  0  0  0  0  0  0\\n  -21.6435  -33.0351    6.4595 H   0  0  0  0  0  0  0  0  0  0  0  0\\n  -22.3095  -37.1803    6.5455 H   0  0  0  0  0  0  0  0  0  0  0  0\\n  -25.2684  -37.0718    6.3509 H   0  0  0  0  0  0  0  0  0  0  0  0\\n  -27.6073  -30.5765    4.8959 H   0  0  0  0  0  0  0  0  0  0  0  0\\n  -25.2771  -28.9137    3.9379 H   0  0  0  0  0  0  0  0  0  0  0  0\\n  -22.3402  -31.7619    4.8565 H   0  0  0  0  0  0  0  0  0  0  0  0\\n  -13.8588  -35.0533    5.5043 H   0  0  0  0  0  0  0  0  0  0  0  0\\n  -13.4603  -36.3050    5.6076 H   0  0  0  0  0  0  0  0  0  0  0  0\\n  -12.4246  -35.4136    6.3347 H   0  0  0  0  0  0  0  0  0  0  0  0\\n  -14.5969  -35.4084    6.5158 H   0  0  0  0  0  0  0  0  0  0  0  0\\n  -14.5212  -32.4402    2.8376 H   0  0  0  0  0  0  0  0  0  0  0  0\\n  -14.9316  -30.1029    4.5589 H   0  0  0  0  0  0  0  0  0  0  0  0\\n  -16.9866  -27.0227    5.6677 H   0  0  0  0  0  0  0  0  0  0  0  0\\n  -16.3854  -25.4068    5.7547 H   0  0  0  0  0  0  0  0  0  0  0  0\\n  -18.0896  -26.7913    5.7184 H   0  0  0  0  0  0  0  0  0  0  0  0\\n  -17.8037  -25.0568    6.0352 H   0  0  0  0  0  0  0  0  0  0  0  0\\n  -22.9602  -29.3531    4.8139 H   0  0  0  0  0  0  0  0  0  0  0  0\\n  -21.0370  -27.9799    3.6126 H   0  0  0  0  0  0  0  0  0  0  0  0\\n  -13.1882  -27.7112   13.1548 H   0  0  0  0  0  0  0  0  0  0  0  0\\n  -13.5096  -30.5313   16.2361 H   0  0  0  0  0  0  0  0  0  0  0  0\\n  -18.2377  -36.3143    7.2147 H   0  0  0  0  0  0  0  0  0  0  0  0\\n  -21.0293  -35.2290    7.4077 H   0  0  0  0  0  0  0  0  0  0  0  0\\n  -19.9446  -32.4433   12.9481 H   0  0  0  0  0  0  0  0  0  0  0  0\\n  -18.0151  -33.7346   11.8225 H   0  0  0  0  0  0  0  0  0  0  0  0\\n  -24.6044  -32.6794    5.6230 H   0  0  0  0  0  0  0  0  0  0  0  0\\n  -26.1564  -32.8791    5.9808 H   0  0  0  0  0  0  0  0  0  0  0  0\\n  -24.1616  -33.4424    6.0945 H   0  0  0  0  0  0  0  0  0  0  0  0\\n  -25.7730  -34.1815    6.3973 H   0  0  0  0  0  0  0  0  0  0  0  0\\n  -25.4780  -33.2975    7.1723 H   0  0  0  0  0  0  0  0  0  0  0  0\\n  -12.9856  -34.4517   11.7963 H   0  0  0  0  0  0  0  0  0  0  0  0\\n  -12.0847  -33.5185   11.9515 H   0  0  0  0  0  0  0  0  0  0  0  0\\n  -14.3035  -33.4434   12.5710 H   0  0  0  0  0  0  0  0  0  0  0  0\\n  -13.3092  -34.5567   12.9859 H   0  0  0  0  0  0  0  0  0  0  0  0\\n  -13.5333  -33.0228   13.3067 H   0  0  0  0  0  0  0  0  0  0  0  0\\n  -16.8993  -25.0165   11.6145 H   0  0  0  0  0  0  0  0  0  0  0  0\\n  -17.1579  -23.3772   11.9850 H   0  0  0  0  0  0  0  0  0  0  0  0\\n  -16.1200  -25.2132   12.5108 H   0  0  0  0  0  0  0  0  0  0  0  0\\n  -17.5070  -24.7753   12.7243 H   0  0  0  0  0  0  0  0  0  0  0  0\\n  -16.7120  -23.6242   13.6382 H   0  0  0  0  0  0  0  0  0  0  0  0\\n  -24.8386  -31.3797   11.4533 H   0  0  0  0  0  0  0  0  0  0  0  0\\n  -23.5366  -31.0288   11.9117 H   0  0  0  0  0  0  0  0  0  0  0  0\\n  -25.5376  -29.9417   11.7370 H   0  0  0  0  0  0  0  0  0  0  0  0\\n  -23.9940  -29.9480   12.8387 H   0  0  0  0  0  0  0  0  0  0  0  0\\n  -25.1111  -31.3185   12.5787 H   0  0  0  0  0  0  0  0  0  0  0  0\\n  -20.8112  -26.1410   14.5222 H   0  0  0  0  0  0  0  0  0  0  0  0\\n  -22.0670  -26.9678   14.6775 H   0  0  0  0  0  0  0  0  0  0  0  0\\n  1  2  1  0\\n  2273  1  0\\n  3  1  1  0\\n  4  3  1  0\\n  4  5  1  0\\n  4266  1  0\\n  5  2  1  0\\n  6 26  1  0\\n  6  3  2  3\\n  7  6  1  0\\n  7264  1  0\\n  8  7  1  0\\n  8 10  1  0\\n  8  9  1  0\\n  9 12  1  0\\n 11  8  1  0\\n 12 15  1  0\\n 12 17  1  0\\n 12 16  1  0\\n 13  9  1  0\\n 14  9  1  0\\n 15 18  1  0\\n 15267  1  0\\n 18 27  1  0\\n 19 23  1  0\\n 19 18  2  3\\n 20 19  1  0\\n 20265  1  0\\n 21 28  1  0\\n 21 20  1  0\\n 21 22  1  0\\n 22 23  1  0\\n 22247  1  0\\n 24  5  1  0\\n 25  1  1  0\\n 29 34  1  0\\n 30 36  1  0\\n 32 49  1  0\\n 32 46  1  0\\n 32 47  1  0\\n 33 42  1  0\\n 33 37  2  3\\n 34 36  1  0\\n 34 55  1  0\\n 35 31  1  0\\n 35 56  1  0\\n 36 57  1  0\\n 36 35  1  0\\n 37 50  1  0\\n 38 43  1  0\\n 39 41  1  0\\n 40 54  1  0\\n 40 39  2  3\\n 41 43  1  0\\n 43274  1  0\\n 44 39  1  0\\n 44 38  1  0\\n 44271  1  0\\n 45 37  1  0\\n 45 35  1  0\\n 45272  1  0\\n 46 33  1  0\\n 46269  1  0\\n 47 42  1  0\\n 47251  1  0\\n 48 34  1  0\\n 48 40  1  0\\n 48270  1  0\\n 51 42  1  0\\n 52 41  1  0\\n 53 38  1  0\\n 58 63  1  0\\n 60 64  1  0\\n 61 76  1  0\\n 62 71  1  0\\n 63 65  1  0\\n 63 84  1  0\\n 64 85  1  0\\n 64 65  1  0\\n 65 59  1  0\\n 65 86  1  0\\n 66 79  1  0\\n 66 62  2  3\\n 67 72  1  0\\n 67 73  1  0\\n 68 70  1  0\\n 68 69  2  3\\n 69 83  1  0\\n 71 76  1  0\\n 72 70  1  0\\n 72252  1  0\\n 73 68  1  0\\n 73260  1  0\\n 74 64  1  0\\n 74 66  1  0\\n 74259  1  0\\n 75 62  1  0\\n 75 61  1  0\\n 75262  1  0\\n 76248  1  0\\n 77 69  1  0\\n 77 63  1  0\\n 77261  1  0\\n 78 61  1  0\\n 80 71  1  0\\n 81 70  1  0\\n 82 67  1  0\\n 88 94  1  0\\n 90218  1  0\\n 90103  1  0\\n 91 95  2  3\\n 91103  1  0\\n 92 87  1  0\\n 93102  1  0\\n 93 89  1  0\\n 94 93  1  0\\n 94 92  1  0\\n 95102  1  0\\n 96101  1  0\\n 97101  1  0\\n 97 98  2  3\\n 98105  1  0\\n 99104  1  0\\n 99 91  1  0\\n100220  1  0\\n100 96  1  0\\n100246  1  0\\n101243  1  0\\n102242  1  0\\n103241  1  0\\n104 90  1  0\\n104240  1  0\\n105 92  1  0\\n105244  1  0\\n106 92  1  0\\n107 93  1  0\\n108 94  1  0\\n109114  1  0\\n110116  1  0\\n111115  1  0\\n112227  1  0\\n112126  1  0\\n113126  1  0\\n113117  2  3\\n114128  1  0\\n114116  1  0\\n115130  1  0\\n116115  1  0\\n116131  1  0\\n117125  1  0\\n118225  1  0\\n119121  1  0\\n119124  1  0\\n120128  1  0\\n120119  2  3\\n121123  1  0\\n122113  1  0\\n123118  1  0\\n123249  1  0\\n124118  1  0\\n124238  1  0\\n125115  1  0\\n125237  1  0\\n126235  1  0\\n127122  1  0\\n127112  1  0\\n127239  1  0\\n128236  1  0\\n129114  1  0\\n132137  1  0\\n133139  1  0\\n134138  1  0\\n135229  1  0\\n135150  1  0\\n136140  2  3\\n136145  1  0\\n137152  1  0\\n138148  1  0\\n138153  1  0\\n139137  1  0\\n139138  1  0\\n140231  1  0\\n141234  1  0\\n141147  1  0\\n142143  2  3\\n142147  1  0\\n143151  1  0\\n144142  1  0\\n145150  1  0\\n145230  1  0\\n146144  1  0\\n146141  1  0\\n146245  1  0\\n147253  1  0\\n148140  1  0\\n148256  1  0\\n149136  1  0\\n149135  1  0\\n149255  1  0\\n150250  1  0\\n151137  1  0\\n151254  1  0\\n154139  1  0\\n155258  1  0\\n156263  1  0\\n157174  1  0\\n157268  1  0\\n158168  1  0\\n158161  1  0\\n158173  1  0\\n158257  1  0\\n159192  1  0\\n159179  1  0\\n159186  1  0\\n160210  1  0\\n160198  1  0\\n160203  1  0\\n161163  1  0\\n161162  1  0\\n162157  1  0\\n162165  1  0\\n164161  1  0\\n166162  1  0\\n167170  1  0\\n167169  1  0\\n167157  1  0\\n168167  1  0\\n171168  1  0\\n172168  1  0\\n173174  1  0\\n174178  1  0\\n174177  1  0\\n175173  1  0\\n176173  1  0\\n179180  1  0\\n180184  1  0\\n180183  1  0\\n180156  1  0\\n181179  1  0\\n182179  1  0\\n185188  1  0\\n185156  1  0\\n185187  1  0\\n186185  1  0\\n189186  1  0\\n190186  1  0\\n191194  1  0\\n191193  1  0\\n191156  1  0\\n192191  1  0\\n195192  1  0\\n196192  1  0\\n197200  1  0\\n197155  1  0\\n198202  1  0\\n198197  1  0\\n199197  1  0\\n201198  1  0\\n203204  1  0\\n204155  1  0\\n204208  1  0\\n204207  1  0\\n205203  1  0\\n206203  1  0\\n209211  1  0\\n209212  1  0\\n209155  1  0\\n210209  1  0\\n213210  1  0\\n214210  1  0\\n215 95  1  0\\n216 23  1  0\\n217 99  1  0\\n219 96  1  0\\n220 97  1  0\\n221220  1  0\\n222 98  1  0\\n223120  1  0\\n224121  1  0\\n226122  1  0\\n228117  1  0\\n232143  1  0\\n233144  1  0\\nM  CHG  8   1  -1   5  -1  21  -1  23  -1  32  -1  38  -1  41  -1  42  -1\\nM  CHG  8  61  -1  67  -1  70  -1  71  -1  90  -1  96  -1  99  -1 112  -1\\nM  CHG  8 118  -1 121  -1 122  -1 135  -1 141  -1 144  -1 145  -1 155   1\\nM  CHG  4 156   1 157   1 158   1 220  -1\\nM  END\\n\");\nviewer_16155535862088633.setStyle({\"stick\": {\"colorscheme\": \"cyanCarbon\"}});\nviewer_16155535862088633.zoomTo();\n\tviewer_16155535862088633.setBackgroundColor(\"0xeeeeee\");\n\tviewer_16155535862088633.zoomTo();\nviewer_16155535862088633.render();\n});\n</script>",
      "text/html": [
       "<div id=\"3dmolviewer_16155535862088633\"  style=\"position: relative; width: 400px; height: 400px\">\n",
       "        <p id=\"3dmolwarning_16155535862088633\" style=\"background-color:#ffcccc;color:black\">You appear to be running in JupyterLab (or JavaScript failed to load for some other reason).  You need to install the 3dmol extension: <br>\n",
       "        <tt>jupyter labextension install jupyterlab_3dmol</tt></p>\n",
       "        </div>\n",
       "<script>\n",
       "\n",
       "var loadScriptAsync = function(uri){\n",
       "  return new Promise((resolve, reject) => {\n",
       "    var tag = document.createElement('script');\n",
       "    tag.src = uri;\n",
       "    tag.async = true;\n",
       "    tag.onload = () => {\n",
       "      resolve();\n",
       "    };\n",
       "  var firstScriptTag = document.getElementsByTagName('script')[0];\n",
       "  firstScriptTag.parentNode.insertBefore(tag, firstScriptTag);\n",
       "});\n",
       "};\n",
       "\n",
       "if(typeof $3Dmolpromise === 'undefined') {\n",
       "$3Dmolpromise = null;\n",
       "  $3Dmolpromise = loadScriptAsync('https://3dmol.org/build/3Dmol.js');\n",
       "}\n",
       "\n",
       "var viewer_16155535862088633 = null;\n",
       "var warn = document.getElementById(\"3dmolwarning_16155535862088633\");\n",
       "if(warn) {\n",
       "    warn.parentNode.removeChild(warn);\n",
       "}\n",
       "$3Dmolpromise.then(function() {\n",
       "viewer_16155535862088633 = $3Dmol.createViewer($(\"#3dmolviewer_16155535862088633\"),{backgroundColor:\"white\"});\n",
       "viewer_16155535862088633.addModel(\"\\n     RDKit          3D\\n\\n274283  0  0  0  0  0  0  0  0999 V2000\\n  -20.6730  -24.3470   13.5208 C   0  0  0  0  0  3  0  0  0  0  0  0\\n  -20.4639  -25.8070   13.6231 N   0  0  0  0  0  0  0  0  0  0  0  0\\n  -19.3761  -23.8771   13.0326 C   0  0  0  0  0  0  0  0  0  0  0  0\\n  -18.4390  -24.8785   13.0242 N   0  0  0  0  0  0  0  0  0  0  0  0\\n  -19.0097  -26.0911   13.5128 C   0  0  0  0  0  3  0  0  0  0  0  0\\n  -19.0123  -22.6731   12.6302 C   0  0  0  0  0  0  0  0  0  0  0  0\\n  -17.6718  -22.5619   12.1863 N   0  0  0  0  0  0  0  0  0  0  0  0\\n  -17.0495  -21.2712   12.0254 C   0  0  0  0  0  0  0  0  0  0  0  0\\n  -15.6384  -21.2908   12.5905 C   0  0  0  0  0  0  0  0  0  0  0  0\\n  -17.6336  -20.5029   12.5816 H   0  0  0  0  0  0  0  0  0  0  0  0\\n  -17.0282  -20.9818   10.9541 H   0  0  0  0  0  0  0  0  0  0  0  0\\n  -15.6156  -21.8264   14.0193 C   0  0  0  0  0  0  0  0  0  0  0  0\\n  -15.2506  -20.2484   12.5739 H   0  0  0  0  0  0  0  0  0  0  0  0\\n  -14.9696  -21.9200   11.9635 H   0  0  0  0  0  0  0  0  0  0  0  0\\n  -15.8859  -23.2562   14.0273 N   0  0  0  0  0  0  0  0  0  0  0  0\\n  -16.3383  -21.2884   14.6706 H   0  0  0  0  0  0  0  0  0  0  0  0\\n  -14.5950  -21.6290   14.4200 H   0  0  0  0  0  0  0  0  0  0  0  0\\n  -14.9080  -24.0985   14.6200 C   0  0  0  0  0  0  0  0  0  0  0  0\\n  -14.7253  -25.3166   14.0991 C   0  0  0  0  0  0  0  0  0  0  0  0\\n  -15.4711  -25.7528   13.0178 N   0  0  0  0  0  0  0  0  0  0  0  0\\n  -15.1384  -27.1252   12.7610 C   0  0  0  0  0  3  0  0  0  0  0  0\\n  -14.0254  -27.4808   13.6900 N   0  0  0  0  0  0  0  0  0  0  0  0\\n  -13.7621  -26.3170   14.5525 C   0  0  0  0  0  3  0  0  0  0  0  0\\n  -18.8503  -26.9133   12.7875 H   0  0  0  0  0  0  0  0  0  0  0  0\\n  -21.4709  -24.1457   12.7768 H   0  0  0  0  0  0  0  0  0  0  0  0\\n  -19.6934  -21.8305   12.6327 H   0  0  0  0  0  0  0  0  0  0  0  0\\n  -14.2946  -23.7513   15.4442 H   0  0  0  0  0  0  0  0  0  0  0  0\\n  -16.0190  -27.7668   12.9725 H   0  0  0  0  0  0  0  0  0  0  0  0\\n  -28.1989  -29.8375   11.7602 H   0  0  0  0  0  0  0  0  0  0  0  0\\n  -27.5691  -32.1863   12.4335 H   0  0  0  0  0  0  0  0  0  0  0  0\\n  -26.6764  -32.6405   14.6889 H   0  0  0  0  0  0  0  0  0  0  0  0\\n  -21.4468  -31.5411   11.8449 C   0  0  0  0  0  3  0  0  0  0  0  0\\n  -22.9962  -32.6138   13.1818 C   0  0  0  0  0  0  0  0  0  0  0  0\\n  -27.5124  -29.9539   12.6250 C   0  0  0  0  0  0  0  0  0  0  0  0\\n  -26.4516  -31.6926   14.1541 C   0  0  0  0  0  0  0  0  0  0  0  0\\n  -27.5822  -31.3882   13.1948 C   0  0  0  0  0  0  0  0  0  0  0  0\\n  -24.2016  -32.7663   13.7788 C   0  0  0  0  0  0  0  0  0  0  0  0\\n  -22.5895  -28.8521   14.0356 C   0  0  0  0  0  3  0  0  0  0  0  0\\n  -24.6606  -28.0658   13.4377 C   0  0  0  0  0  0  0  0  0  0  0  0\\n  -25.8590  -28.1870   12.9029 C   0  0  0  0  0  0  0  0  0  0  0  0\\n  -24.0790  -26.9685   14.2349 C   0  0  0  0  0  3  0  0  0  0  0  0\\n  -21.7420  -33.3443   13.4203 C   0  0  0  0  0  3  0  0  0  0  0  0\\n  -22.8579  -27.6037   14.7802 N   0  0  0  0  0  0  0  0  0  0  0  0\\n  -23.8033  -29.1178   13.3323 N   0  0  0  0  0  0  0  0  0  0  0  0\\n  -25.2345  -31.8558   13.3943 N   0  0  0  0  0  0  0  0  0  0  0  0\\n  -22.8200  -31.6127   12.2506 N   0  0  0  0  0  0  0  0  0  0  0  0\\n  -20.7923  -32.7307   12.4590 N   0  0  0  0  0  0  0  0  0  0  0  0\\n  -26.1705  -29.4507   12.3094 N   0  0  0  0  0  0  0  0  0  0  0  0\\n  -20.9891  -30.6123   12.2395 H   0  0  0  0  0  0  0  0  0  0  0  0\\n  -24.3624  -33.5141   14.5441 H   0  0  0  0  0  0  0  0  0  0  0  0\\n  -21.8642  -34.4222   13.1954 H   0  0  0  0  0  0  0  0  0  0  0  0\\n  -23.8320  -26.1115   13.5723 H   0  0  0  0  0  0  0  0  0  0  0  0\\n  -21.7720  -28.6914   13.3033 H   0  0  0  0  0  0  0  0  0  0  0  0\\n  -26.6070  -27.4122   13.0320 H   0  0  0  0  0  0  0  0  0  0  0  0\\n  -27.9475  -29.3139   13.4294 H   0  0  0  0  0  0  0  0  0  0  0  0\\n  -26.3447  -30.8783   14.9040 H   0  0  0  0  0  0  0  0  0  0  0  0\\n  -28.5636  -31.4841   13.7100 H   0  0  0  0  0  0  0  0  0  0  0  0\\n  -12.3301  -37.0635   13.3950 H   0  0  0  0  0  0  0  0  0  0  0  0\\n  -10.3068  -36.1475   14.4269 H   0  0  0  0  0  0  0  0  0  0  0  0\\n  -10.5457  -35.3889   12.0480 H   0  0  0  0  0  0  0  0  0  0  0  0\\n  -14.2798  -31.4843   14.5859 C   0  0  0  0  0  3  0  0  0  0  0  0\\n  -12.0824  -31.6448   13.9042 C   0  0  0  0  0  0  0  0  0  0  0  0\\n  -12.4182  -36.1549   14.0236 C   0  0  0  0  0  0  0  0  0  0  0  0\\n  -10.5473  -34.6683   12.8756 C   0  0  0  0  0  0  0  0  0  0  0  0\\n  -11.0655  -35.3883   14.1351 C   0  0  0  0  0  0  0  0  0  0  0  0\\n  -11.0497  -32.2713   13.3052 C   0  0  0  0  0  0  0  0  0  0  0  0\\n  -16.3189  -32.7077   12.3967 C   0  0  0  0  0  3  0  0  0  0  0  0\\n  -15.7561  -34.7135   13.3833 C   0  0  0  0  0  0  0  0  0  0  0  0\\n  -14.8870  -35.6329   13.8031 C   0  0  0  0  0  0  0  0  0  0  0  0\\n  -17.2281  -34.6497   13.4987 C   0  0  0  0  0  3  0  0  0  0  0  0\\n  -12.1245  -30.4061   14.7047 C   0  0  0  0  0  3  0  0  0  0  0  0\\n  -17.5692  -33.4489   12.6943 N   0  0  0  0  0  0  0  0  0  0  0  0\\n  -15.2576  -33.6036   12.7534 N   0  0  0  0  0  0  0  0  0  0  0  0\\n  -11.3489  -33.4856   12.6048 N   0  0  0  0  0  0  0  0  0  0  0  0\\n  -13.3261  -32.2121   13.8254 N   0  0  0  0  0  0  0  0  0  0  0  0\\n  -13.5203  -30.3938   15.2255 N   0  0  0  0  0  0  0  0  0  0  0  0\\n  -13.5198  -35.3468   13.5343 N   0  0  0  0  0  0  0  0  0  0  0  0\\n  -15.0180  -31.0318   13.8961 H   0  0  0  0  0  0  0  0  0  0  0  0\\n  -10.0336  -31.9079   13.3975 H   0  0  0  0  0  0  0  0  0  0  0  0\\n  -11.9326  -29.5349   14.0419 H   0  0  0  0  0  0  0  0  0  0  0  0\\n  -17.6958  -35.5410   13.0327 H   0  0  0  0  0  0  0  0  0  0  0  0\\n  -16.2915  -32.4753   11.3134 H   0  0  0  0  0  0  0  0  0  0  0  0\\n  -15.1969  -36.5280   14.3267 H   0  0  0  0  0  0  0  0  0  0  0  0\\n  -12.6520  -36.5050   15.0520 H   0  0  0  0  0  0  0  0  0  0  0  0\\n   -9.4869  -34.3596   13.0066 H   0  0  0  0  0  0  0  0  0  0  0  0\\n  -11.1235  -34.6420   14.9549 H   0  0  0  0  0  0  0  0  0  0  0  0\\n  -17.5250  -22.6448    6.8485 H   0  0  0  0  0  0  0  0  0  0  0  0\\n  -16.4672  -21.7688    4.7444 H   0  0  0  0  0  0  0  0  0  0  0  0\\n  -14.9980  -23.1934    6.1479 H   0  0  0  0  0  0  0  0  0  0  0  0\\n  -16.4480  -28.9082    4.8886 C   0  0  0  0  0  3  0  0  0  0  0  0\\n  -15.1855  -27.2163    4.6299 C   0  0  0  0  0  0  0  0  0  0  0  0\\n  -17.8763  -22.9579    5.8525 C   0  0  0  0  0  0  0  0  0  0  0  0\\n  -15.4298  -23.5894    5.2140 C   0  0  0  0  0  0  0  0  0  0  0  0\\n  -16.7295  -22.8449    4.8290 C   0  0  0  0  0  0  0  0  0  0  0  0\\n  -14.7846  -25.8330    4.6971 C   0  0  0  0  0  0  0  0  0  0  0  0\\n  -19.6211  -28.0317    4.9593 C   0  0  0  0  0  3  0  0  0  0  0  0\\n  -19.9841  -25.9705    5.3699 C   0  0  0  0  0  0  0  0  0  0  0  0\\n  -19.6516  -24.5643    5.5996 C   0  0  0  0  0  0  0  0  0  0  0  0\\n  -14.6048  -28.2744    3.9779 C   0  0  0  0  0  3  0  0  0  0  0  0\\n  -20.9059  -27.8052    4.6089 N   0  0  0  0  0  0  0  0  0  0  0  0\\n  -19.0208  -26.9013    5.4184 N   0  0  0  0  0  0  0  0  0  0  0  0\\n  -15.6132  -25.0355    5.2698 N   0  0  0  0  0  0  0  0  0  0  0  0\\n  -16.3470  -27.5842    5.1728 N   0  0  0  0  0  0  0  0  0  0  0  0\\n  -15.4218  -29.3286    4.1110 N   0  0  0  0  0  0  0  0  0  0  0  0\\n  -18.4123  -24.3067    5.8449 N   0  0  0  0  0  0  0  0  0  0  0  0\\n  -18.6743  -22.2349    5.5689 H   0  0  0  0  0  0  0  0  0  0  0  0\\n  -14.6669  -23.3348    4.4440 H   0  0  0  0  0  0  0  0  0  0  0  0\\n  -17.0843  -23.1873    3.8313 H   0  0  0  0  0  0  0  0  0  0  0  0\\n  -11.9601  -37.2832    3.7563 H   0  0  0  0  0  0  0  0  0  0  0  0\\n  -10.3904  -38.4761    5.4575 H   0  0  0  0  0  0  0  0  0  0  0  0\\n   -9.7637  -36.2580    5.2984 H   0  0  0  0  0  0  0  0  0  0  0  0\\n  -14.7054  -33.4523    4.4912 C   0  0  0  0  0  3  0  0  0  0  0  0\\n  -12.5876  -33.7008    4.5936 C   0  0  0  0  0  0  0  0  0  0  0  0\\n  -12.3394  -37.8132    4.6556 C   0  0  0  0  0  0  0  0  0  0  0  0\\n  -10.5889  -36.4069    6.0357 C   0  0  0  0  0  0  0  0  0  0  0  0\\n  -11.2274  -37.7992    5.7508 C   0  0  0  0  0  0  0  0  0  0  0  0\\n  -11.3736  -34.3715    5.0374 C   0  0  0  0  0  0  0  0  0  0  0  0\\n  -16.6823  -35.2204    6.7557 C   0  0  0  0  0  3  0  0  0  0  0  0\\n  -15.8387  -36.8528    5.6611 C   0  0  0  0  0  0  0  0  0  0  0  0\\n  -14.7581  -37.6442    5.0243 C   0  0  0  0  0  0  0  0  0  0  0  0\\n  -17.2203  -37.0096    5.6901 C   0  0  0  0  0  3  0  0  0  0  0  0\\n  -12.8437  -32.5827    3.8356 C   0  0  0  0  0  3  0  0  0  0  0  0\\n  -17.7412  -35.9741    6.3912 N   0  0  0  0  0  0  0  0  0  0  0  0\\n  -15.5027  -35.7547    6.3457 N   0  0  0  0  0  0  0  0  0  0  0  0\\n  -11.5746  -35.3646    5.8404 N   0  0  0  0  0  0  0  0  0  0  0  0\\n  -13.7392  -34.2345    4.9709 N   0  0  0  0  0  0  0  0  0  0  0  0\\n  -14.1877  -32.4231    3.8014 N   0  0  0  0  0  0  0  0  0  0  0  0\\n  -13.5593  -37.1693    5.1467 N   0  0  0  0  0  0  0  0  0  0  0  0\\n  -12.5637  -38.8643    4.3664 H   0  0  0  0  0  0  0  0  0  0  0  0\\n  -10.1220  -36.3800    7.0423 H   0  0  0  0  0  0  0  0  0  0  0  0\\n  -11.6707  -38.2104    6.6811 H   0  0  0  0  0  0  0  0  0  0  0  0\\n  -29.0569  -32.3940    5.4576 H   0  0  0  0  0  0  0  0  0  0  0  0\\n  -27.9100  -34.3987    4.3070 H   0  0  0  0  0  0  0  0  0  0  0  0\\n  -27.5375  -36.4405    5.6537 H   0  0  0  0  0  0  0  0  0  0  0  0\\n  -22.1440  -33.9864    6.3768 C   0  0  0  0  0  3  0  0  0  0  0  0\\n  -23.6812  -35.4714    6.2960 C   0  0  0  0  0  0  0  0  0  0  0  0\\n  -28.2536  -33.0000    5.9334 C   0  0  0  0  0  0  0  0  0  0  0  0\\n  -27.4281  -35.4689    6.1905 C   0  0  0  0  0  0  0  0  0  0  0  0\\n  -28.2487  -34.4297    5.3660 C   0  0  0  0  0  0  0  0  0  0  0  0\\n  -25.0660  -36.0072    6.3190 C   0  0  0  0  0  0  0  0  0  0  0  0\\n  -23.2950  -31.2739    4.7961 C   0  0  0  0  0  3  0  0  0  0  0  0\\n  -25.3917  -30.8946    4.8965 C   0  0  0  0  0  0  0  0  0  0  0  0\\n  -26.7821  -31.2248    5.1661 C   0  0  0  0  0  0  0  0  0  0  0  0\\n  -24.7944  -29.8035    4.3183 C   0  0  0  0  0  3  0  0  0  0  0  0\\n  -22.4703  -36.1172    6.4296 C   0  0  0  0  0  3  0  0  0  0  0  0\\n  -23.4693  -30.0487    4.2686 N   0  0  0  0  0  0  0  0  0  0  0  0\\n  -24.4633  -31.8033    5.1967 N   0  0  0  0  0  0  0  0  0  0  0  0\\n  -26.0170  -35.1316    6.3134 N   0  0  0  0  0  0  0  0  0  0  0  0\\n  -23.4842  -34.1447    6.2260 N   0  0  0  0  0  0  0  0  0  0  0  0\\n  -21.5053  -35.1771    6.5071 N   0  0  0  0  0  0  0  0  0  0  0  0\\n  -26.9576  -32.3786    5.7038 N   0  0  0  0  0  0  0  0  0  0  0  0\\n  -28.5028  -33.0872    7.0065 H   0  0  0  0  0  0  0  0  0  0  0  0\\n  -27.8628  -35.5934    7.2034 H   0  0  0  0  0  0  0  0  0  0  0  0\\n  -29.3003  -34.7946    5.3658 H   0  0  0  0  0  0  0  0  0  0  0  0\\n  -13.0591  -34.7363   10.8195 N   0  0  0  0  0  4  0  0  0  0  0  0\\n  -16.9998  -25.2073   10.6176 N   0  0  0  0  0  4  0  0  0  0  0  0\\n  -24.9802  -31.7889   10.5297 N   0  0  0  0  0  4  0  0  0  0  0  0\\n  -25.3542  -32.8831    8.0961 N   0  0  0  0  0  4  0  0  0  0  0  0\\n  -17.2524  -25.6661    7.9835 N   0  0  0  0  0  0  0  0  0  0  0  0\\n  -13.1906  -35.4572    8.2917 N   0  0  0  0  0  0  0  0  0  0  0  0\\n  -26.6080  -32.2985    8.6655 C   0  0  0  0  0  0  0  0  0  0  0  0\\n  -26.2851  -31.3990    9.9099 C   0  0  0  0  0  0  0  0  0  0  0  0\\n  -27.2842  -33.1337    8.9661 H   0  0  0  0  0  0  0  0  0  0  0  0\\n  -27.1597  -31.6409    7.9733 H   0  0  0  0  0  0  0  0  0  0  0  0\\n  -27.1497  -31.4564   10.5645 H   0  0  0  0  0  0  0  0  0  0  0  0\\n  -26.2223  -30.3301    9.5969 H   0  0  0  0  0  0  0  0  0  0  0  0\\n  -23.9445  -31.3819    9.5436 C   0  0  0  0  0  0  0  0  0  0  0  0\\n  -24.3695  -31.7591    8.1039 C   0  0  0  0  0  0  0  0  0  0  0  0\\n  -22.9989  -31.9167    9.7655 H   0  0  0  0  0  0  0  0  0  0  0  0\\n  -23.7195  -30.2940    9.5970 H   0  0  0  0  0  0  0  0  0  0  0  0\\n  -23.4578  -31.9667    7.5243 H   0  0  0  0  0  0  0  0  0  0  0  0\\n  -24.8435  -30.8718    7.6246 H   0  0  0  0  0  0  0  0  0  0  0  0\\n  -24.8744  -33.8844    9.0991 C   0  0  0  0  0  0  0  0  0  0  0  0\\n  -24.9585  -33.2873   10.5712 C   0  0  0  0  0  0  0  0  0  0  0  0\\n  -23.8108  -34.1203    8.8752 H   0  0  0  0  0  0  0  0  0  0  0  0\\n  -25.4278  -34.8461    9.0461 H   0  0  0  0  0  0  0  0  0  0  0  0\\n  -24.1175  -33.7020   11.1548 H   0  0  0  0  0  0  0  0  0  0  0  0\\n  -25.8906  -33.6333   11.0728 H   0  0  0  0  0  0  0  0  0  0  0  0\\n  -18.4786  -25.0536    8.5803 C   0  0  0  0  0  0  0  0  0  0  0  0\\n  -18.4077  -25.0474   10.1402 C   0  0  0  0  0  0  0  0  0  0  0  0\\n  -19.4132  -25.5531    8.2467 H   0  0  0  0  0  0  0  0  0  0  0  0\\n  -18.5515  -23.9947    8.2700 H   0  0  0  0  0  0  0  0  0  0  0  0\\n  -19.0218  -25.8819   10.5470 H   0  0  0  0  0  0  0  0  0  0  0  0\\n  -18.8810  -24.1107   10.4785 H   0  0  0  0  0  0  0  0  0  0  0  0\\n  -16.6049  -26.6041   10.2429 C   0  0  0  0  0  0  0  0  0  0  0  0\\n  -17.0295  -26.9303    8.7453 C   0  0  0  0  0  0  0  0  0  0  0  0\\n  -17.0436  -27.3650   10.9207 H   0  0  0  0  0  0  0  0  0  0  0  0\\n  -15.4964  -26.6811   10.2954 H   0  0  0  0  0  0  0  0  0  0  0  0\\n  -17.9780  -27.5154    8.7440 H   0  0  0  0  0  0  0  0  0  0  0  0\\n  -16.2662  -27.5811    8.2672 H   0  0  0  0  0  0  0  0  0  0  0  0\\n  -16.1637  -24.3052    9.7933 C   0  0  0  0  0  0  0  0  0  0  0  0\\n  -16.0993  -24.7895    8.3209 C   0  0  0  0  0  0  0  0  0  0  0  0\\n  -15.1382  -24.1900   10.2065 H   0  0  0  0  0  0  0  0  0  0  0  0\\n  -16.6164  -23.2878    9.8262 H   0  0  0  0  0  0  0  0  0  0  0  0\\n  -15.1526  -25.3458    8.1336 H   0  0  0  0  0  0  0  0  0  0  0  0\\n  -16.0730  -23.8897    7.7262 H   0  0  0  0  0  0  0  0  0  0  0  0\\n  -14.3655  -34.4160   10.2070 C   0  0  0  0  0  0  0  0  0  0  0  0\\n  -14.4921  -35.0219    8.8167 C   0  0  0  0  0  0  0  0  0  0  0  0\\n  -14.4608  -33.3070   10.1492 H   0  0  0  0  0  0  0  0  0  0  0  0\\n  -15.2206  -34.8181   10.7775 H   0  0  0  0  0  0  0  0  0  0  0  0\\n  -14.8869  -34.2075    8.1881 H   0  0  0  0  0  0  0  0  0  0  0  0\\n  -15.1773  -35.9002    8.8509 H   0  0  0  0  0  0  0  0  0  0  0  0\\n  -12.7019  -36.5825    9.1333 C   0  0  0  0  0  0  0  0  0  0  0  0\\n  -12.8920  -36.2196   10.6608 C   0  0  0  0  0  0  0  0  0  0  0  0\\n  -11.6184  -36.7285    8.9249 H   0  0  0  0  0  0  0  0  0  0  0  0\\n  -13.2059  -37.5435    8.8964 H   0  0  0  0  0  0  0  0  0  0  0  0\\n  -12.0545  -36.6506   11.2311 H   0  0  0  0  0  0  0  0  0  0  0  0\\n  -13.8101  -36.7214   11.0447 H   0  0  0  0  0  0  0  0  0  0  0  0\\n  -12.0269  -34.0541    9.9831 C   0  0  0  0  0  0  0  0  0  0  0  0\\n  -12.2702  -34.3017    8.4828 C   0  0  0  0  0  0  0  0  0  0  0  0\\n  -11.9855  -32.9585   10.1708 H   0  0  0  0  0  0  0  0  0  0  0  0\\n  -11.0252  -34.4606   10.2142 H   0  0  0  0  0  0  0  0  0  0  0  0\\n  -11.2835  -34.4225    7.9992 H   0  0  0  0  0  0  0  0  0  0  0  0\\n  -12.7287  -33.3963    8.0219 H   0  0  0  0  0  0  0  0  0  0  0  0\\n  -13.8662  -25.4861    4.2386 H   0  0  0  0  0  0  0  0  0  0  0  0\\n  -12.7236  -25.9508   14.4143 H   0  0  0  0  0  0  0  0  0  0  0  0\\n  -13.7083  -28.2589    3.3733 H   0  0  0  0  0  0  0  0  0  0  0  0\\n  -17.2738  -29.5414    5.1297 H   0  0  0  0  0  0  0  0  0  0  0  0\\n  -19.1446  -28.9554    4.7292 H   0  0  0  0  0  0  0  0  0  0  0  0\\n  -21.1478  -26.5171    4.8909 C   0  0  0  0  0  3  0  0  0  0  0  0\\n  -22.0603  -25.9952    4.6387 H   0  0  0  0  0  0  0  0  0  0  0  0\\n  -20.3910  -23.7831    5.4732 H   0  0  0  0  0  0  0  0  0  0  0  0\\n  -14.9603  -38.5553    4.4751 H   0  0  0  0  0  0  0  0  0  0  0  0\\n  -17.7977  -37.8102    5.2485 H   0  0  0  0  0  0  0  0  0  0  0  0\\n  -16.7919  -34.3083    7.3226 H   0  0  0  0  0  0  0  0  0  0  0  0\\n  -12.1228  -31.9122    3.3892 H   0  0  0  0  0  0  0  0  0  0  0  0\\n  -15.7566  -33.5687    4.7104 H   0  0  0  0  0  0  0  0  0  0  0  0\\n  -10.4011  -34.1409    4.6179 H   0  0  0  0  0  0  0  0  0  0  0  0\\n  -21.6435  -33.0351    6.4595 H   0  0  0  0  0  0  0  0  0  0  0  0\\n  -22.3095  -37.1803    6.5455 H   0  0  0  0  0  0  0  0  0  0  0  0\\n  -25.2684  -37.0718    6.3509 H   0  0  0  0  0  0  0  0  0  0  0  0\\n  -27.6073  -30.5765    4.8959 H   0  0  0  0  0  0  0  0  0  0  0  0\\n  -25.2771  -28.9137    3.9379 H   0  0  0  0  0  0  0  0  0  0  0  0\\n  -22.3402  -31.7619    4.8565 H   0  0  0  0  0  0  0  0  0  0  0  0\\n  -13.8588  -35.0533    5.5043 H   0  0  0  0  0  0  0  0  0  0  0  0\\n  -13.4603  -36.3050    5.6076 H   0  0  0  0  0  0  0  0  0  0  0  0\\n  -12.4246  -35.4136    6.3347 H   0  0  0  0  0  0  0  0  0  0  0  0\\n  -14.5969  -35.4084    6.5158 H   0  0  0  0  0  0  0  0  0  0  0  0\\n  -14.5212  -32.4402    2.8376 H   0  0  0  0  0  0  0  0  0  0  0  0\\n  -14.9316  -30.1029    4.5589 H   0  0  0  0  0  0  0  0  0  0  0  0\\n  -16.9866  -27.0227    5.6677 H   0  0  0  0  0  0  0  0  0  0  0  0\\n  -16.3854  -25.4068    5.7547 H   0  0  0  0  0  0  0  0  0  0  0  0\\n  -18.0896  -26.7913    5.7184 H   0  0  0  0  0  0  0  0  0  0  0  0\\n  -17.8037  -25.0568    6.0352 H   0  0  0  0  0  0  0  0  0  0  0  0\\n  -22.9602  -29.3531    4.8139 H   0  0  0  0  0  0  0  0  0  0  0  0\\n  -21.0370  -27.9799    3.6126 H   0  0  0  0  0  0  0  0  0  0  0  0\\n  -13.1882  -27.7112   13.1548 H   0  0  0  0  0  0  0  0  0  0  0  0\\n  -13.5096  -30.5313   16.2361 H   0  0  0  0  0  0  0  0  0  0  0  0\\n  -18.2377  -36.3143    7.2147 H   0  0  0  0  0  0  0  0  0  0  0  0\\n  -21.0293  -35.2290    7.4077 H   0  0  0  0  0  0  0  0  0  0  0  0\\n  -19.9446  -32.4433   12.9481 H   0  0  0  0  0  0  0  0  0  0  0  0\\n  -18.0151  -33.7346   11.8225 H   0  0  0  0  0  0  0  0  0  0  0  0\\n  -24.6044  -32.6794    5.6230 H   0  0  0  0  0  0  0  0  0  0  0  0\\n  -26.1564  -32.8791    5.9808 H   0  0  0  0  0  0  0  0  0  0  0  0\\n  -24.1616  -33.4424    6.0945 H   0  0  0  0  0  0  0  0  0  0  0  0\\n  -25.7730  -34.1815    6.3973 H   0  0  0  0  0  0  0  0  0  0  0  0\\n  -25.4780  -33.2975    7.1723 H   0  0  0  0  0  0  0  0  0  0  0  0\\n  -12.9856  -34.4517   11.7963 H   0  0  0  0  0  0  0  0  0  0  0  0\\n  -12.0847  -33.5185   11.9515 H   0  0  0  0  0  0  0  0  0  0  0  0\\n  -14.3035  -33.4434   12.5710 H   0  0  0  0  0  0  0  0  0  0  0  0\\n  -13.3092  -34.5567   12.9859 H   0  0  0  0  0  0  0  0  0  0  0  0\\n  -13.5333  -33.0228   13.3067 H   0  0  0  0  0  0  0  0  0  0  0  0\\n  -16.8993  -25.0165   11.6145 H   0  0  0  0  0  0  0  0  0  0  0  0\\n  -17.1579  -23.3772   11.9850 H   0  0  0  0  0  0  0  0  0  0  0  0\\n  -16.1200  -25.2132   12.5108 H   0  0  0  0  0  0  0  0  0  0  0  0\\n  -17.5070  -24.7753   12.7243 H   0  0  0  0  0  0  0  0  0  0  0  0\\n  -16.7120  -23.6242   13.6382 H   0  0  0  0  0  0  0  0  0  0  0  0\\n  -24.8386  -31.3797   11.4533 H   0  0  0  0  0  0  0  0  0  0  0  0\\n  -23.5366  -31.0288   11.9117 H   0  0  0  0  0  0  0  0  0  0  0  0\\n  -25.5376  -29.9417   11.7370 H   0  0  0  0  0  0  0  0  0  0  0  0\\n  -23.9940  -29.9480   12.8387 H   0  0  0  0  0  0  0  0  0  0  0  0\\n  -25.1111  -31.3185   12.5787 H   0  0  0  0  0  0  0  0  0  0  0  0\\n  -20.8112  -26.1410   14.5222 H   0  0  0  0  0  0  0  0  0  0  0  0\\n  -22.0670  -26.9678   14.6775 H   0  0  0  0  0  0  0  0  0  0  0  0\\n  1  2  1  0\\n  2273  1  0\\n  3  1  1  0\\n  4  3  1  0\\n  4  5  1  0\\n  4266  1  0\\n  5  2  1  0\\n  6 26  1  0\\n  6  3  2  3\\n  7  6  1  0\\n  7264  1  0\\n  8  7  1  0\\n  8 10  1  0\\n  8  9  1  0\\n  9 12  1  0\\n 11  8  1  0\\n 12 15  1  0\\n 12 17  1  0\\n 12 16  1  0\\n 13  9  1  0\\n 14  9  1  0\\n 15 18  1  0\\n 15267  1  0\\n 18 27  1  0\\n 19 23  1  0\\n 19 18  2  3\\n 20 19  1  0\\n 20265  1  0\\n 21 28  1  0\\n 21 20  1  0\\n 21 22  1  0\\n 22 23  1  0\\n 22247  1  0\\n 24  5  1  0\\n 25  1  1  0\\n 29 34  1  0\\n 30 36  1  0\\n 32 49  1  0\\n 32 46  1  0\\n 32 47  1  0\\n 33 42  1  0\\n 33 37  2  3\\n 34 36  1  0\\n 34 55  1  0\\n 35 31  1  0\\n 35 56  1  0\\n 36 57  1  0\\n 36 35  1  0\\n 37 50  1  0\\n 38 43  1  0\\n 39 41  1  0\\n 40 54  1  0\\n 40 39  2  3\\n 41 43  1  0\\n 43274  1  0\\n 44 39  1  0\\n 44 38  1  0\\n 44271  1  0\\n 45 37  1  0\\n 45 35  1  0\\n 45272  1  0\\n 46 33  1  0\\n 46269  1  0\\n 47 42  1  0\\n 47251  1  0\\n 48 34  1  0\\n 48 40  1  0\\n 48270  1  0\\n 51 42  1  0\\n 52 41  1  0\\n 53 38  1  0\\n 58 63  1  0\\n 60 64  1  0\\n 61 76  1  0\\n 62 71  1  0\\n 63 65  1  0\\n 63 84  1  0\\n 64 85  1  0\\n 64 65  1  0\\n 65 59  1  0\\n 65 86  1  0\\n 66 79  1  0\\n 66 62  2  3\\n 67 72  1  0\\n 67 73  1  0\\n 68 70  1  0\\n 68 69  2  3\\n 69 83  1  0\\n 71 76  1  0\\n 72 70  1  0\\n 72252  1  0\\n 73 68  1  0\\n 73260  1  0\\n 74 64  1  0\\n 74 66  1  0\\n 74259  1  0\\n 75 62  1  0\\n 75 61  1  0\\n 75262  1  0\\n 76248  1  0\\n 77 69  1  0\\n 77 63  1  0\\n 77261  1  0\\n 78 61  1  0\\n 80 71  1  0\\n 81 70  1  0\\n 82 67  1  0\\n 88 94  1  0\\n 90218  1  0\\n 90103  1  0\\n 91 95  2  3\\n 91103  1  0\\n 92 87  1  0\\n 93102  1  0\\n 93 89  1  0\\n 94 93  1  0\\n 94 92  1  0\\n 95102  1  0\\n 96101  1  0\\n 97101  1  0\\n 97 98  2  3\\n 98105  1  0\\n 99104  1  0\\n 99 91  1  0\\n100220  1  0\\n100 96  1  0\\n100246  1  0\\n101243  1  0\\n102242  1  0\\n103241  1  0\\n104 90  1  0\\n104240  1  0\\n105 92  1  0\\n105244  1  0\\n106 92  1  0\\n107 93  1  0\\n108 94  1  0\\n109114  1  0\\n110116  1  0\\n111115  1  0\\n112227  1  0\\n112126  1  0\\n113126  1  0\\n113117  2  3\\n114128  1  0\\n114116  1  0\\n115130  1  0\\n116115  1  0\\n116131  1  0\\n117125  1  0\\n118225  1  0\\n119121  1  0\\n119124  1  0\\n120128  1  0\\n120119  2  3\\n121123  1  0\\n122113  1  0\\n123118  1  0\\n123249  1  0\\n124118  1  0\\n124238  1  0\\n125115  1  0\\n125237  1  0\\n126235  1  0\\n127122  1  0\\n127112  1  0\\n127239  1  0\\n128236  1  0\\n129114  1  0\\n132137  1  0\\n133139  1  0\\n134138  1  0\\n135229  1  0\\n135150  1  0\\n136140  2  3\\n136145  1  0\\n137152  1  0\\n138148  1  0\\n138153  1  0\\n139137  1  0\\n139138  1  0\\n140231  1  0\\n141234  1  0\\n141147  1  0\\n142143  2  3\\n142147  1  0\\n143151  1  0\\n144142  1  0\\n145150  1  0\\n145230  1  0\\n146144  1  0\\n146141  1  0\\n146245  1  0\\n147253  1  0\\n148140  1  0\\n148256  1  0\\n149136  1  0\\n149135  1  0\\n149255  1  0\\n150250  1  0\\n151137  1  0\\n151254  1  0\\n154139  1  0\\n155258  1  0\\n156263  1  0\\n157174  1  0\\n157268  1  0\\n158168  1  0\\n158161  1  0\\n158173  1  0\\n158257  1  0\\n159192  1  0\\n159179  1  0\\n159186  1  0\\n160210  1  0\\n160198  1  0\\n160203  1  0\\n161163  1  0\\n161162  1  0\\n162157  1  0\\n162165  1  0\\n164161  1  0\\n166162  1  0\\n167170  1  0\\n167169  1  0\\n167157  1  0\\n168167  1  0\\n171168  1  0\\n172168  1  0\\n173174  1  0\\n174178  1  0\\n174177  1  0\\n175173  1  0\\n176173  1  0\\n179180  1  0\\n180184  1  0\\n180183  1  0\\n180156  1  0\\n181179  1  0\\n182179  1  0\\n185188  1  0\\n185156  1  0\\n185187  1  0\\n186185  1  0\\n189186  1  0\\n190186  1  0\\n191194  1  0\\n191193  1  0\\n191156  1  0\\n192191  1  0\\n195192  1  0\\n196192  1  0\\n197200  1  0\\n197155  1  0\\n198202  1  0\\n198197  1  0\\n199197  1  0\\n201198  1  0\\n203204  1  0\\n204155  1  0\\n204208  1  0\\n204207  1  0\\n205203  1  0\\n206203  1  0\\n209211  1  0\\n209212  1  0\\n209155  1  0\\n210209  1  0\\n213210  1  0\\n214210  1  0\\n215 95  1  0\\n216 23  1  0\\n217 99  1  0\\n219 96  1  0\\n220 97  1  0\\n221220  1  0\\n222 98  1  0\\n223120  1  0\\n224121  1  0\\n226122  1  0\\n228117  1  0\\n232143  1  0\\n233144  1  0\\nM  CHG  8   1  -1   5  -1  21  -1  23  -1  32  -1  38  -1  41  -1  42  -1\\nM  CHG  8  61  -1  67  -1  70  -1  71  -1  90  -1  96  -1  99  -1 112  -1\\nM  CHG  8 118  -1 121  -1 122  -1 135  -1 141  -1 144  -1 145  -1 155   1\\nM  CHG  4 156   1 157   1 158   1 220  -1\\nM  END\\n\");\n",
       "viewer_16155535862088633.setStyle({\"stick\": {\"colorscheme\": \"cyanCarbon\"}});\n",
       "viewer_16155535862088633.zoomTo();\n",
       "\tviewer_16155535862088633.setBackgroundColor(\"0xeeeeee\");\n",
       "\tviewer_16155535862088633.zoomTo();\n",
       "viewer_16155535862088633.render();\n",
       "});\n",
       "</script>"
      ]
     },
     "metadata": {},
     "output_type": "display_data"
    }
   ],
   "source": [
    "mol = stk.BuildingBlock.init_from_file('one_i_prepared_earlier.mol')\n",
    "show_stk_mol(mol)"
   ]
  },
  {
   "cell_type": "markdown",
   "metadata": {},
   "source": [
    "### Issues much?\n",
    "* Manually drawing things in avogadro that are complex is a pain\n",
    "* loading in metal containing species is not straightforward because RDKit requires dative bond definitions"
   ]
  },
  {
   "cell_type": "code",
   "execution_count": 15,
   "metadata": {},
   "outputs": [],
   "source": [
    "cu_atom_green = stk.BuildingBlock(\n",
    "    smiles='[Cu+2]',\n",
    "    functional_groups=(\n",
    "        stk.SingleAtom(stk.Cu(0, charge=2))\n",
    "        for i in range(4)\n",
    "    ),\n",
    "    position_matrix=[[0, 0, 0]],\n",
    ")\n",
    "cu_atom_orange = stk.BuildingBlock(\n",
    "    smiles='[Cu+2]',\n",
    "    functional_groups=(\n",
    "        stk.SingleAtom(stk.Cu(0, charge=2))\n",
    "        for i in range(2)\n",
    "    ),\n",
    "    position_matrix=[[0, 0, 0]],\n",
    ")"
   ]
  },
  {
   "cell_type": "code",
   "execution_count": 16,
   "metadata": {},
   "outputs": [
    {
     "data": {
      "text/plain": [
       "BuildingBlock('[Cu+2]', (SingleAtom(Cu(0, charge=2)), SingleAtom(Cu(0, charge=2)), SingleAtom(Cu(0, charge=2)), SingleAtom(Cu(0, charge=2))))"
      ]
     },
     "execution_count": 16,
     "metadata": {},
     "output_type": "execute_result"
    }
   ],
   "source": [
    "cu_atom_green"
   ]
  },
  {
   "cell_type": "code",
   "execution_count": 17,
   "metadata": {},
   "outputs": [
    {
     "data": {
      "text/plain": [
       "BuildingBlock('[Cu+2]', (SingleAtom(Cu(0, charge=2)), SingleAtom(Cu(0, charge=2))))"
      ]
     },
     "execution_count": 17,
     "metadata": {},
     "output_type": "execute_result"
    }
   ],
   "source": [
    "cu_atom_orange"
   ]
  },
  {
   "cell_type": "code",
   "execution_count": 18,
   "metadata": {},
   "outputs": [
    {
     "data": {
      "application/3dmoljs_load.v0": "<div id=\"3dmolviewer_1615553945615587\"  style=\"position: relative; width: 400px; height: 400px\">\n        <p id=\"3dmolwarning_1615553945615587\" style=\"background-color:#ffcccc;color:black\">You appear to be running in JupyterLab (or JavaScript failed to load for some other reason).  You need to install the 3dmol extension: <br>\n        <tt>jupyter labextension install jupyterlab_3dmol</tt></p>\n        </div>\n<script>\n\nvar loadScriptAsync = function(uri){\n  return new Promise((resolve, reject) => {\n    var tag = document.createElement('script');\n    tag.src = uri;\n    tag.async = true;\n    tag.onload = () => {\n      resolve();\n    };\n  var firstScriptTag = document.getElementsByTagName('script')[0];\n  firstScriptTag.parentNode.insertBefore(tag, firstScriptTag);\n});\n};\n\nif(typeof $3Dmolpromise === 'undefined') {\n$3Dmolpromise = null;\n  $3Dmolpromise = loadScriptAsync('https://3dmol.org/build/3Dmol.js');\n}\n\nvar viewer_1615553945615587 = null;\nvar warn = document.getElementById(\"3dmolwarning_1615553945615587\");\nif(warn) {\n    warn.parentNode.removeChild(warn);\n}\n$3Dmolpromise.then(function() {\nviewer_1615553945615587 = $3Dmol.createViewer($(\"#3dmolviewer_1615553945615587\"),{backgroundColor:\"white\"});\nviewer_1615553945615587.addModel(\"\\n     RDKit          3D\\n\\n 20 21  0  0  0  0  0  0  0  0999 V2000\\n   -1.0365    0.6021   -0.9643 C   0  0  0  0  0  0  0  0  0  0  0  0\\n   -0.4281    1.5435    0.0500 C   0  0  0  0  0  0  0  0  0  0  0  0\\n    0.6304    0.7868    0.7269 N   0  0  0  0  0  0  0  0  0  0  0  0\\n   -0.0602   -0.2729    1.4644 C   0  0  0  0  0  0  0  0  0  0  0  0\\n   -0.8751   -1.1537    0.5601 C   0  0  0  0  0  0  0  0  0  0  0  0\\n   -0.5706   -0.7535   -0.8233 N   0  0  0  0  0  0  0  0  0  0  0  0\\n    0.8462   -0.9004   -0.9797 C   0  0  0  0  0  0  0  0  0  0  0  0\\n    1.5446    0.2059   -0.2377 C   0  0  0  0  0  0  0  0  0  0  0  0\\n   -0.9098    1.0248   -1.9644 H   0  0  0  0  0  0  0  0  0  0  0  0\\n   -2.1351    0.5829   -0.7487 H   0  0  0  0  0  0  0  0  0  0  0  0\\n   -1.1487    1.8175    0.8598 H   0  0  0  0  0  0  0  0  0  0  0  0\\n   -0.0088    2.4549   -0.3972 H   0  0  0  0  0  0  0  0  0  0  0  0\\n   -0.7561    0.2540    2.1656 H   0  0  0  0  0  0  0  0  0  0  0  0\\n    0.7384   -0.8224    2.0092 H   0  0  0  0  0  0  0  0  0  0  0  0\\n   -1.9475   -1.1208    0.7318 H   0  0  0  0  0  0  0  0  0  0  0  0\\n   -0.4363   -2.1877    0.6481 H   0  0  0  0  0  0  0  0  0  0  0  0\\n    1.1464   -1.0034   -2.0258 H   0  0  0  0  0  0  0  0  0  0  0  0\\n    1.1242   -1.8724   -0.4764 H   0  0  0  0  0  0  0  0  0  0  0  0\\n    2.4089   -0.1899    0.3360 H   0  0  0  0  0  0  0  0  0  0  0  0\\n    1.8738    1.0045   -0.9346 H   0  0  0  0  0  0  0  0  0  0  0  0\\n  1  2  1  0\\n  2  3  1  0\\n  3  4  1  0\\n  4  5  1  0\\n  5  6  1  0\\n  6  7  1  0\\n  7  8  1  0\\n  6  1  1  0\\n  8  3  1  0\\n  1  9  1  0\\n  1 10  1  0\\n  2 11  1  0\\n  2 12  1  0\\n  4 13  1  0\\n  4 14  1  0\\n  5 15  1  0\\n  5 16  1  0\\n  7 17  1  0\\n  7 18  1  0\\n  8 19  1  0\\n  8 20  1  0\\nM  END\\n\");\nviewer_1615553945615587.setStyle({\"stick\": {\"colorscheme\": \"cyanCarbon\"}});\nviewer_1615553945615587.zoomTo();\n\tviewer_1615553945615587.setBackgroundColor(\"0xeeeeee\");\n\tviewer_1615553945615587.zoomTo();\nviewer_1615553945615587.render();\n});\n</script>",
      "text/html": [
       "<div id=\"3dmolviewer_1615553945615587\"  style=\"position: relative; width: 400px; height: 400px\">\n",
       "        <p id=\"3dmolwarning_1615553945615587\" style=\"background-color:#ffcccc;color:black\">You appear to be running in JupyterLab (or JavaScript failed to load for some other reason).  You need to install the 3dmol extension: <br>\n",
       "        <tt>jupyter labextension install jupyterlab_3dmol</tt></p>\n",
       "        </div>\n",
       "<script>\n",
       "\n",
       "var loadScriptAsync = function(uri){\n",
       "  return new Promise((resolve, reject) => {\n",
       "    var tag = document.createElement('script');\n",
       "    tag.src = uri;\n",
       "    tag.async = true;\n",
       "    tag.onload = () => {\n",
       "      resolve();\n",
       "    };\n",
       "  var firstScriptTag = document.getElementsByTagName('script')[0];\n",
       "  firstScriptTag.parentNode.insertBefore(tag, firstScriptTag);\n",
       "});\n",
       "};\n",
       "\n",
       "if(typeof $3Dmolpromise === 'undefined') {\n",
       "$3Dmolpromise = null;\n",
       "  $3Dmolpromise = loadScriptAsync('https://3dmol.org/build/3Dmol.js');\n",
       "}\n",
       "\n",
       "var viewer_1615553945615587 = null;\n",
       "var warn = document.getElementById(\"3dmolwarning_1615553945615587\");\n",
       "if(warn) {\n",
       "    warn.parentNode.removeChild(warn);\n",
       "}\n",
       "$3Dmolpromise.then(function() {\n",
       "viewer_1615553945615587 = $3Dmol.createViewer($(\"#3dmolviewer_1615553945615587\"),{backgroundColor:\"white\"});\n",
       "viewer_1615553945615587.addModel(\"\\n     RDKit          3D\\n\\n 20 21  0  0  0  0  0  0  0  0999 V2000\\n   -1.0365    0.6021   -0.9643 C   0  0  0  0  0  0  0  0  0  0  0  0\\n   -0.4281    1.5435    0.0500 C   0  0  0  0  0  0  0  0  0  0  0  0\\n    0.6304    0.7868    0.7269 N   0  0  0  0  0  0  0  0  0  0  0  0\\n   -0.0602   -0.2729    1.4644 C   0  0  0  0  0  0  0  0  0  0  0  0\\n   -0.8751   -1.1537    0.5601 C   0  0  0  0  0  0  0  0  0  0  0  0\\n   -0.5706   -0.7535   -0.8233 N   0  0  0  0  0  0  0  0  0  0  0  0\\n    0.8462   -0.9004   -0.9797 C   0  0  0  0  0  0  0  0  0  0  0  0\\n    1.5446    0.2059   -0.2377 C   0  0  0  0  0  0  0  0  0  0  0  0\\n   -0.9098    1.0248   -1.9644 H   0  0  0  0  0  0  0  0  0  0  0  0\\n   -2.1351    0.5829   -0.7487 H   0  0  0  0  0  0  0  0  0  0  0  0\\n   -1.1487    1.8175    0.8598 H   0  0  0  0  0  0  0  0  0  0  0  0\\n   -0.0088    2.4549   -0.3972 H   0  0  0  0  0  0  0  0  0  0  0  0\\n   -0.7561    0.2540    2.1656 H   0  0  0  0  0  0  0  0  0  0  0  0\\n    0.7384   -0.8224    2.0092 H   0  0  0  0  0  0  0  0  0  0  0  0\\n   -1.9475   -1.1208    0.7318 H   0  0  0  0  0  0  0  0  0  0  0  0\\n   -0.4363   -2.1877    0.6481 H   0  0  0  0  0  0  0  0  0  0  0  0\\n    1.1464   -1.0034   -2.0258 H   0  0  0  0  0  0  0  0  0  0  0  0\\n    1.1242   -1.8724   -0.4764 H   0  0  0  0  0  0  0  0  0  0  0  0\\n    2.4089   -0.1899    0.3360 H   0  0  0  0  0  0  0  0  0  0  0  0\\n    1.8738    1.0045   -0.9346 H   0  0  0  0  0  0  0  0  0  0  0  0\\n  1  2  1  0\\n  2  3  1  0\\n  3  4  1  0\\n  4  5  1  0\\n  5  6  1  0\\n  6  7  1  0\\n  7  8  1  0\\n  6  1  1  0\\n  8  3  1  0\\n  1  9  1  0\\n  1 10  1  0\\n  2 11  1  0\\n  2 12  1  0\\n  4 13  1  0\\n  4 14  1  0\\n  5 15  1  0\\n  5 16  1  0\\n  7 17  1  0\\n  7 18  1  0\\n  8 19  1  0\\n  8 20  1  0\\nM  END\\n\");\n",
       "viewer_1615553945615587.setStyle({\"stick\": {\"colorscheme\": \"cyanCarbon\"}});\n",
       "viewer_1615553945615587.zoomTo();\n",
       "\tviewer_1615553945615587.setBackgroundColor(\"0xeeeeee\");\n",
       "\tviewer_1615553945615587.zoomTo();\n",
       "viewer_1615553945615587.render();\n",
       "});\n",
       "</script>"
      ]
     },
     "metadata": {},
     "output_type": "display_data"
    }
   ],
   "source": [
    "dabco = stk.BuildingBlock(\n",
    "    smiles='C1CN2CCN1CC2',\n",
    "    functional_groups=[],\n",
    ")\n",
    "show_stk_mol(dabco)"
   ]
  },
  {
   "cell_type": "code",
   "execution_count": 19,
   "metadata": {},
   "outputs": [
    {
     "data": {
      "application/3dmoljs_load.v0": "<div id=\"3dmolviewer_16155539643537297\"  style=\"position: relative; width: 400px; height: 400px\">\n        <p id=\"3dmolwarning_16155539643537297\" style=\"background-color:#ffcccc;color:black\">You appear to be running in JupyterLab (or JavaScript failed to load for some other reason).  You need to install the 3dmol extension: <br>\n        <tt>jupyter labextension install jupyterlab_3dmol</tt></p>\n        </div>\n<script>\n\nvar loadScriptAsync = function(uri){\n  return new Promise((resolve, reject) => {\n    var tag = document.createElement('script');\n    tag.src = uri;\n    tag.async = true;\n    tag.onload = () => {\n      resolve();\n    };\n  var firstScriptTag = document.getElementsByTagName('script')[0];\n  firstScriptTag.parentNode.insertBefore(tag, firstScriptTag);\n});\n};\n\nif(typeof $3Dmolpromise === 'undefined') {\n$3Dmolpromise = null;\n  $3Dmolpromise = loadScriptAsync('https://3dmol.org/build/3Dmol.js');\n}\n\nvar viewer_16155539643537297 = null;\nvar warn = document.getElementById(\"3dmolwarning_16155539643537297\");\nif(warn) {\n    warn.parentNode.removeChild(warn);\n}\n$3Dmolpromise.then(function() {\nviewer_16155539643537297 = $3Dmol.createViewer($(\"#3dmolviewer_16155539643537297\"),{backgroundColor:\"white\"});\nviewer_16155539643537297.zoomTo();\n\tviewer_16155539643537297.removeAllModels();\n\tviewer_16155539643537297.addModel(\"\\n     RDKit          3D\\n\\n 31 32  0  0  0  0  0  0  0  0999 V2000\\n   -0.0202   -0.6908   -0.5345 C   0  0  0  0  0  0  0  0  0  0  0  0\\n    0.8093   -0.1135    0.6202 C   0  0  0  0  0  0  0  0  0  0  0  0\\n    2.1849   -0.2566    0.2602 N   0  0  0  0  0  0  0  0  0  0  0  0\\n    3.0835    0.6568    0.4139 C   0  0  0  0  0  0  0  0  0  0  0  0\\n    4.4366    0.3420   -0.0075 C   0  0  0  0  0  0  0  0  0  0  0  0\\n    4.9133   -0.8273   -0.5648 C   0  0  0  0  0  0  0  0  0  0  0  0\\n    6.2247   -0.6436   -0.7844 N   0  0  0  0  0  0  0  0  0  0  0  0\\n    6.5676    0.5832   -0.3865 C   0  0  0  0  0  0  0  0  0  0  0  0\\n    5.4722    1.1838    0.0882 N   0  0  0  0  0  0  0  0  0  0  0  0\\n   -1.5003   -0.5864   -0.2494 C   0  0  0  0  0  0  0  0  0  0  0  0\\n   -1.8941   -1.2888    0.9293 N   0  0  0  0  0  0  0  0  0  0  0  0\\n   -3.1127   -1.2898    1.3030 C   0  0  0  0  0  0  0  0  0  0  0  0\\n   -4.1239   -0.5773    0.5384 C   0  0  0  0  0  0  0  0  0  0  0  0\\n   -5.4909   -0.4917    0.8272 C   0  0  0  0  0  0  0  0  0  0  0  0\\n   -6.1018    0.2499   -0.1036 N   0  0  0  0  0  0  0  0  0  0  0  0\\n   -5.1795    0.6429   -0.9777 C   0  0  0  0  0  0  0  0  0  0  0  0\\n   -3.9919    0.1432   -0.5876 N   0  0  0  0  0  0  0  0  0  0  0  0\\n    0.1879   -0.0283   -1.3998 H   0  0  0  0  0  0  0  0  0  0  0  0\\n    0.3043   -1.7091   -0.7411 H   0  0  0  0  0  0  0  0  0  0  0  0\\n    0.4881    0.9425    0.7352 H   0  0  0  0  0  0  0  0  0  0  0  0\\n    0.6287   -0.6746    1.5625 H   0  0  0  0  0  0  0  0  0  0  0  0\\n    2.8522    1.6110    0.8338 H   0  0  0  0  0  0  0  0  0  0  0  0\\n    4.3625   -1.7330   -0.7926 H   0  0  0  0  0  0  0  0  0  0  0  0\\n    6.8701   -1.3421   -1.1973 H   0  0  0  0  0  0  0  0  0  0  0  0\\n    7.5385    1.0734   -0.4123 H   0  0  0  0  0  0  0  0  0  0  0  0\\n   -1.7082    0.4964   -0.1015 H   0  0  0  0  0  0  0  0  0  0  0  0\\n   -2.0105   -1.0250   -1.1215 H   0  0  0  0  0  0  0  0  0  0  0  0\\n   -3.4225   -1.8181    2.1937 H   0  0  0  0  0  0  0  0  0  0  0  0\\n   -5.9491   -0.9615    1.6753 H   0  0  0  0  0  0  0  0  0  0  0  0\\n   -7.1125    0.4908   -0.1578 H   0  0  0  0  0  0  0  0  0  0  0  0\\n   -5.3062    1.2546   -1.8608 H   0  0  0  0  0  0  0  0  0  0  0  0\\n  1  2  1  0\\n  2  3  1  0\\n  3  4  2  3\\n  4  5  1  0\\n  5  6  2  0\\n  6  7  1  0\\n  7  8  1  0\\n  8  9  2  0\\n  1 10  1  0\\n 10 11  1  0\\n 11 12  2  3\\n 12 13  1  0\\n 13 14  2  0\\n 14 15  1  0\\n 15 16  1  0\\n 16 17  2  0\\n  9  5  1  0\\n 17 13  1  0\\n  1 18  1  0\\n  1 19  1  0\\n  2 20  1  0\\n  2 21  1  0\\n  4 22  1  0\\n  6 23  1  0\\n  7 24  1  0\\n  8 25  1  0\\n 10 26  1  0\\n 10 27  1  0\\n 12 28  1  0\\n 14 29  1  0\\n 15 30  1  0\\n 16 31  1  0\\nM  END\\n\",\"sdf\");\n\tviewer_16155539643537297.setStyle({\"stick\": {}});\n\tviewer_16155539643537297.setBackgroundColor(\"0xeeeeee\");\n\tviewer_16155539643537297.zoomTo();\nviewer_16155539643537297.render();\n});\n</script>",
      "text/html": [
       "<div id=\"3dmolviewer_16155539643537297\"  style=\"position: relative; width: 400px; height: 400px\">\n",
       "        <p id=\"3dmolwarning_16155539643537297\" style=\"background-color:#ffcccc;color:black\">You appear to be running in JupyterLab (or JavaScript failed to load for some other reason).  You need to install the 3dmol extension: <br>\n",
       "        <tt>jupyter labextension install jupyterlab_3dmol</tt></p>\n",
       "        </div>\n",
       "<script>\n",
       "\n",
       "var loadScriptAsync = function(uri){\n",
       "  return new Promise((resolve, reject) => {\n",
       "    var tag = document.createElement('script');\n",
       "    tag.src = uri;\n",
       "    tag.async = true;\n",
       "    tag.onload = () => {\n",
       "      resolve();\n",
       "    };\n",
       "  var firstScriptTag = document.getElementsByTagName('script')[0];\n",
       "  firstScriptTag.parentNode.insertBefore(tag, firstScriptTag);\n",
       "});\n",
       "};\n",
       "\n",
       "if(typeof $3Dmolpromise === 'undefined') {\n",
       "$3Dmolpromise = null;\n",
       "  $3Dmolpromise = loadScriptAsync('https://3dmol.org/build/3Dmol.js');\n",
       "}\n",
       "\n",
       "var viewer_16155539643537297 = null;\n",
       "var warn = document.getElementById(\"3dmolwarning_16155539643537297\");\n",
       "if(warn) {\n",
       "    warn.parentNode.removeChild(warn);\n",
       "}\n",
       "$3Dmolpromise.then(function() {\n",
       "viewer_16155539643537297 = $3Dmol.createViewer($(\"#3dmolviewer_16155539643537297\"),{backgroundColor:\"white\"});\n",
       "viewer_16155539643537297.zoomTo();\n",
       "\tviewer_16155539643537297.removeAllModels();\n",
       "\tviewer_16155539643537297.addModel(\"\\n     RDKit          3D\\n\\n 31 32  0  0  0  0  0  0  0  0999 V2000\\n   -0.0202   -0.6908   -0.5345 C   0  0  0  0  0  0  0  0  0  0  0  0\\n    0.8093   -0.1135    0.6202 C   0  0  0  0  0  0  0  0  0  0  0  0\\n    2.1849   -0.2566    0.2602 N   0  0  0  0  0  0  0  0  0  0  0  0\\n    3.0835    0.6568    0.4139 C   0  0  0  0  0  0  0  0  0  0  0  0\\n    4.4366    0.3420   -0.0075 C   0  0  0  0  0  0  0  0  0  0  0  0\\n    4.9133   -0.8273   -0.5648 C   0  0  0  0  0  0  0  0  0  0  0  0\\n    6.2247   -0.6436   -0.7844 N   0  0  0  0  0  0  0  0  0  0  0  0\\n    6.5676    0.5832   -0.3865 C   0  0  0  0  0  0  0  0  0  0  0  0\\n    5.4722    1.1838    0.0882 N   0  0  0  0  0  0  0  0  0  0  0  0\\n   -1.5003   -0.5864   -0.2494 C   0  0  0  0  0  0  0  0  0  0  0  0\\n   -1.8941   -1.2888    0.9293 N   0  0  0  0  0  0  0  0  0  0  0  0\\n   -3.1127   -1.2898    1.3030 C   0  0  0  0  0  0  0  0  0  0  0  0\\n   -4.1239   -0.5773    0.5384 C   0  0  0  0  0  0  0  0  0  0  0  0\\n   -5.4909   -0.4917    0.8272 C   0  0  0  0  0  0  0  0  0  0  0  0\\n   -6.1018    0.2499   -0.1036 N   0  0  0  0  0  0  0  0  0  0  0  0\\n   -5.1795    0.6429   -0.9777 C   0  0  0  0  0  0  0  0  0  0  0  0\\n   -3.9919    0.1432   -0.5876 N   0  0  0  0  0  0  0  0  0  0  0  0\\n    0.1879   -0.0283   -1.3998 H   0  0  0  0  0  0  0  0  0  0  0  0\\n    0.3043   -1.7091   -0.7411 H   0  0  0  0  0  0  0  0  0  0  0  0\\n    0.4881    0.9425    0.7352 H   0  0  0  0  0  0  0  0  0  0  0  0\\n    0.6287   -0.6746    1.5625 H   0  0  0  0  0  0  0  0  0  0  0  0\\n    2.8522    1.6110    0.8338 H   0  0  0  0  0  0  0  0  0  0  0  0\\n    4.3625   -1.7330   -0.7926 H   0  0  0  0  0  0  0  0  0  0  0  0\\n    6.8701   -1.3421   -1.1973 H   0  0  0  0  0  0  0  0  0  0  0  0\\n    7.5385    1.0734   -0.4123 H   0  0  0  0  0  0  0  0  0  0  0  0\\n   -1.7082    0.4964   -0.1015 H   0  0  0  0  0  0  0  0  0  0  0  0\\n   -2.0105   -1.0250   -1.1215 H   0  0  0  0  0  0  0  0  0  0  0  0\\n   -3.4225   -1.8181    2.1937 H   0  0  0  0  0  0  0  0  0  0  0  0\\n   -5.9491   -0.9615    1.6753 H   0  0  0  0  0  0  0  0  0  0  0  0\\n   -7.1125    0.4908   -0.1578 H   0  0  0  0  0  0  0  0  0  0  0  0\\n   -5.3062    1.2546   -1.8608 H   0  0  0  0  0  0  0  0  0  0  0  0\\n  1  2  1  0\\n  2  3  1  0\\n  3  4  2  3\\n  4  5  1  0\\n  5  6  2  0\\n  6  7  1  0\\n  7  8  1  0\\n  8  9  2  0\\n  1 10  1  0\\n 10 11  1  0\\n 11 12  2  3\\n 12 13  1  0\\n 13 14  2  0\\n 14 15  1  0\\n 15 16  1  0\\n 16 17  2  0\\n  9  5  1  0\\n 17 13  1  0\\n  1 18  1  0\\n  1 19  1  0\\n  2 20  1  0\\n  2 21  1  0\\n  4 22  1  0\\n  6 23  1  0\\n  7 24  1  0\\n  8 25  1  0\\n 10 26  1  0\\n 10 27  1  0\\n 12 28  1  0\\n 14 29  1  0\\n 15 30  1  0\\n 16 31  1  0\\nM  END\\n\",\"sdf\");\n",
       "\tviewer_16155539643537297.setStyle({\"stick\": {}});\n",
       "\tviewer_16155539643537297.setBackgroundColor(\"0xeeeeee\");\n",
       "\tviewer_16155539643537297.zoomTo();\n",
       "viewer_16155539643537297.render();\n",
       "});\n",
       "</script>"
      ]
     },
     "metadata": {},
     "output_type": "display_data"
    },
    {
     "data": {
      "image/png": "[encoded data removed]",
      "text/html": [],
      "text/plain": [
       "<rdkit.Chem.rdchem.Mol at 0x7ff92e4d83a0>"
      ]
     },
     "execution_count": 19,
     "metadata": {},
     "output_type": "execute_result"
    }
   ],
   "source": [
    "corner_organic = stk.BuildingBlock(\n",
    "    smiles='C(CN=Cc1c[nH]cn1)CN=Cc2c[nH]cn2',\n",
    "    functional_groups=[],\n",
    ")\n",
    "corner_organic.to_rdkit_mol()"
   ]
  },
  {
   "cell_type": "code",
   "execution_count": 25,
   "metadata": {},
   "outputs": [],
   "source": [
    "imine_fg = stk.SmartsFunctionalGroupFactory(\n",
    "    smarts='[#6X3]=[#7X2][#6X4]',\n",
    "    bonders=(1, ),\n",
    "    deleters=(),\n",
    ")\n",
    "imidazole_fg = stk.SmartsFunctionalGroupFactory(\n",
    "    smarts='[#6X3][#7X2][#6X3]',\n",
    "    bonders=(1, ),\n",
    "    deleters=(),\n",
    ")"
   ]
  },
  {
   "cell_type": "code",
   "execution_count": 27,
   "metadata": {},
   "outputs": [],
   "source": [
    "import numpy as np\n",
    "def get_dihedral(pt1, pt2, pt3, pt4):\n",
    "    \"\"\"\n",
    "    Calculate the dihedral between four points.\n",
    "\n",
    "    Uses Praxeolitic formula --> 1 sqrt, 1 cross product\n",
    "\n",
    "    Output in range (-pi to pi).\n",
    "\n",
    "    From: https://stackoverflow.com/questions/20305272/\n",
    "    dihedral-torsion-angle-from-four-points-in-cartesian-\n",
    "    coordinates-in-python\n",
    "    (new_dihedral(p))\n",
    "\n",
    "    \"\"\"\n",
    "\n",
    "    p0 = np.asarray(pt1)\n",
    "    p1 = np.asarray(pt2)\n",
    "    p2 = np.asarray(pt3)\n",
    "    p3 = np.asarray(pt4)\n",
    "\n",
    "    b0 = -1.0 * (p1 - p0)\n",
    "    b1 = p2 - p1\n",
    "    b2 = p3 - p2\n",
    "\n",
    "    # normalize b1 so that it does not influence magnitude of vector\n",
    "    # rejections that come next\n",
    "    b1 /= np.linalg.norm(b1)\n",
    "\n",
    "    # vector rejections\n",
    "    # v = projection of b0 onto plane perpendicular to b1\n",
    "    #   = b0 minus component that aligns with b1\n",
    "    # w = projection of b2 onto plane perpendicular to b1\n",
    "    #   = b2 minus component that aligns with b1\n",
    "    v = b0 - np.dot(b0, b1) * b1\n",
    "    w = b2 - np.dot(b2, b1) * b1\n",
    "\n",
    "    # angle between v and w in a plane is the torsion angle\n",
    "    # v and w may not be normalized but that's fine since tan is y/x\n",
    "    x = np.dot(v, w)\n",
    "    y = np.dot(np.cross(b1, v), w)\n",
    "    return np.degrees(np.arctan2(y, x))"
   ]
  },
  {
   "cell_type": "code",
   "execution_count": 29,
   "metadata": {},
   "outputs": [],
   "source": [
    "def build_conformers(mol, N, ETKDG_version=None):\n",
    "    \"\"\"\n",
    "    Convert stk mol into RDKit mol with N conformers.\n",
    "\n",
    "    ETKDG_version allows the user to pick their choice of ETKDG params.\n",
    "\n",
    "    `None` provides the settings used in ligand_combiner and unsymm.\n",
    "\n",
    "    Other options:\n",
    "        `v3`:\n",
    "            New version from DOI: 10.1021/acs.jcim.0c00025\n",
    "            with improved handling of macrocycles.\n",
    "\n",
    "    \"\"\"\n",
    "    molecule = mol.to_rdkit_mol()\n",
    "    molecule.RemoveAllConformers()\n",
    "\n",
    "    if ETKDG_version is None:\n",
    "        cids = rdkit.EmbedMultipleConfs(\n",
    "            mol=molecule,\n",
    "            numConfs=N,\n",
    "            randomSeed=1000,\n",
    "            useExpTorsionAnglePrefs=True,\n",
    "            useBasicKnowledge=True,\n",
    "            numThreads=4,\n",
    "        )\n",
    "\n",
    "    elif ETKDG_version == 'v3':\n",
    "        params = rdkit.ETKDGv3()\n",
    "        params.randomSeed = 1000\n",
    "        cids = rdkit.EmbedMultipleConfs(\n",
    "            mol=molecule,\n",
    "            numConfs=N,\n",
    "            params=params\n",
    "        )\n",
    "\n",
    "    print(f'there are {molecule.GetNumConformers()} conformers')\n",
    "    return cids, molecule"
   ]
  },
  {
   "cell_type": "code",
   "execution_count": 30,
   "metadata": {},
   "outputs": [],
   "source": [
    "\n",
    "def update_from_rdkit_conf(stk_mol, rdk_mol, conf_id):\n",
    "    \"\"\"\n",
    "    Update the structure to match `conf_id` of `mol`.\n",
    "\n",
    "    Parameters\n",
    "    ----------\n",
    "    struct : :class:`stk.Molecule`\n",
    "        The molecule whoce coordinates are to be updated.\n",
    "\n",
    "    mol : :class:`rdkit.Mol`\n",
    "        The :mod:`rdkit` molecule to use for the structure update.\n",
    "\n",
    "    conf_id : :class:`int`\n",
    "        The conformer ID of the `mol` to update from.\n",
    "\n",
    "    Returns\n",
    "    -------\n",
    "    :class:`.Molecule`\n",
    "        The molecule.\n",
    "\n",
    "    \"\"\"\n",
    "\n",
    "    pos_mat = rdk_mol.GetConformer(id=conf_id).GetPositions()\n",
    "    return stk_mol.with_position_matrix(pos_mat)"
   ]
  },
  {
   "cell_type": "code",
   "execution_count": 55,
   "metadata": {},
   "outputs": [
    {
     "name": "stdout",
     "output_type": "stream",
     "text": [
      "BuildingBlock('C(=NCCCN=Cc1c[nH]cn1)c1c[nH]cn1', (GenericFunctionalGroup(atoms=(C(3), N(2), C(1)), bonders=(N(2),), deleters=()), GenericFunctionalGroup(atoms=(C(11), N(10), C(9)), bonders=(N(10),), deleters=()), GenericFunctionalGroup(atoms=(C(4), N(8), C(7)), bonders=(N(8),), deleters=()), GenericFunctionalGroup(atoms=(C(12), N(16), C(15)), bonders=(N(16),), deleters=())))\n",
      "there are 100 conformers\n"
     ]
    }
   ],
   "source": [
    "# We want to find a conformer that has the 4 Ns atoms that bind to the Cu in a planar conformation\n",
    "# Find the four N atoms we want.\n",
    "corner_organic = stk.BuildingBlock(\n",
    "    smiles='C(CN=Cc1c[nH]cn1)CN=Cc2c[nH]cn2',\n",
    "    functional_groups=[imine_fg, imidazole_fg],\n",
    ")\n",
    "print(corner_organic)\n",
    "\n",
    "# N-N-N-N dihedral to be 0.\n",
    "atom_ids = [16, 10, 2, 8]\n",
    "# Get a conformer ensemble.\n",
    "cids, confs = build_conformers(corner_organic, N=100)\n",
    "dihedrals = []\n",
    "min_dihedral = 180\n",
    "for cid in cids:\n",
    "    new_conf = update_from_rdkit_conf(corner_organic, confs, cid)\n",
    "    position_matrix = new_conf.get_position_matrix()\n",
    "    dihedral = get_dihedral(\n",
    "        pt1=position_matrix[atom_ids[0]],\n",
    "        pt2=position_matrix[atom_ids[1]],\n",
    "        pt3=position_matrix[atom_ids[2]],\n",
    "        pt4=position_matrix[atom_ids[3]],\n",
    "    )\n",
    "    dihedrals.append(dihedral)\n",
    "    if abs(dihedral) < min_dihedral:\n",
    "        corner_organic = corner_organic.with_position_matrix(position_matrix)\n",
    "    min_dihedral = min([dihedral, min_dihedral])"
   ]
  },
  {
   "cell_type": "code",
   "execution_count": 56,
   "metadata": {},
   "outputs": [
    {
     "data": {
      "text/plain": [
       "BuildingBlock('C(=NCCCN=Cc1c[nH]cn1)c1c[nH]cn1', (GenericFunctionalGroup(atoms=(C(3), N(2), C(1)), bonders=(N(2),), deleters=()), GenericFunctionalGroup(atoms=(C(11), N(10), C(9)), bonders=(N(10),), deleters=()), GenericFunctionalGroup(atoms=(C(4), N(8), C(7)), bonders=(N(8),), deleters=()), GenericFunctionalGroup(atoms=(C(12), N(16), C(15)), bonders=(N(16),), deleters=())))"
      ]
     },
     "execution_count": 56,
     "metadata": {},
     "output_type": "execute_result"
    }
   ],
   "source": [
    "corner_organic"
   ]
  },
  {
   "cell_type": "code",
   "execution_count": 57,
   "metadata": {
    "collapsed": true,
    "jupyter": {
     "outputs_hidden": true
    },
    "tags": []
   },
   "outputs": [
    {
     "data": {
      "text/plain": [
       "[-41.81643397059032,\n",
       " 13.483584654621415,\n",
       " 121.1925158344604,\n",
       " -68.03530192898388,\n",
       " 143.83480952315355,\n",
       " 86.80803455744523,\n",
       " 179.90175461292256,\n",
       " -62.59221158642561,\n",
       " 156.11550381867707,\n",
       " -162.45593823204806,\n",
       " 170.31768505699705,\n",
       " -2.3552576169259667,\n",
       " 1.284304935811833,\n",
       " 108.36245934543767,\n",
       " 58.51823115593111,\n",
       " -177.02119246778298,\n",
       " 18.794104602333817,\n",
       " 87.24037994314212,\n",
       " 68.32328706349757,\n",
       " -56.060730977564894,\n",
       " -105.23957421343603,\n",
       " 171.76076279221462,\n",
       " -90.27394252656715,\n",
       " 179.34066032855887,\n",
       " -26.518515950685014,\n",
       " 125.63543041888843,\n",
       " 158.0795728925846,\n",
       " -5.179797269234725,\n",
       " 125.80866426208243,\n",
       " 178.25125362139678,\n",
       " -94.53716824699232,\n",
       " -155.57767181822695,\n",
       " -107.24993515199401,\n",
       " -155.84000923041077,\n",
       " 121.15465465411616,\n",
       " -155.1130316167855,\n",
       " -150.96763977185074,\n",
       " 178.0204084606963,\n",
       " -10.444909107866614,\n",
       " 158.8952889400003,\n",
       " -170.23198958088832,\n",
       " -131.0278818513004,\n",
       " 97.56868358442881,\n",
       " -46.35717585577139,\n",
       " 78.61527426953447,\n",
       " 173.0671842037653,\n",
       " -156.13294700597731,\n",
       " 112.98589753815067,\n",
       " -135.1404469139511,\n",
       " -3.2753052983432593,\n",
       " 46.36635777109735,\n",
       " -139.5552258813382,\n",
       " -178.82193496351405,\n",
       " 138.0283034025339,\n",
       " 105.94817448596363,\n",
       " 154.53615150492436,\n",
       " -70.67523855590481,\n",
       " 166.39225241256443,\n",
       " 137.76284993343103,\n",
       " -109.595769370221,\n",
       " -0.9569095601631536,\n",
       " 130.41746614192485,\n",
       " -0.09584431659576695,\n",
       " -39.621926614617095,\n",
       " 126.70606866083392,\n",
       " 116.94252152390702,\n",
       " 56.547745981056586,\n",
       " 23.523642333565522,\n",
       " -140.07328646230627,\n",
       " 168.91696968844838,\n",
       " -146.1981234843986,\n",
       " -164.01835846837628,\n",
       " -161.70051402968366,\n",
       " -106.52747379460517,\n",
       " -126.32497244829963,\n",
       " -152.25015225493593,\n",
       " 174.57401558370958,\n",
       " 145.70307114088845,\n",
       " 47.841706482473896,\n",
       " 125.86923043382717,\n",
       " 62.99549774663468,\n",
       " 92.74608148510455,\n",
       " -137.31492745637243,\n",
       " -140.88518081113403,\n",
       " -112.2668643218013,\n",
       " 99.61928330585643,\n",
       " 161.04320916790317,\n",
       " 179.9362645769531,\n",
       " -172.84143526701664,\n",
       " 134.40912143010763,\n",
       " 109.49061255882923,\n",
       " 66.79067377576654,\n",
       " -146.76414847616408,\n",
       " -134.9247998781783,\n",
       " -2.448645793503281,\n",
       " -173.77135891521132,\n",
       " -139.6889919985498,\n",
       " -77.95155137388063,\n",
       " -131.71678696702202,\n",
       " 173.5986777660264]"
      ]
     },
     "execution_count": 57,
     "metadata": {},
     "output_type": "execute_result"
    }
   ],
   "source": [
    "dihedrals"
   ]
  },
  {
   "cell_type": "code",
   "execution_count": 58,
   "metadata": {},
   "outputs": [
    {
     "data": {
      "text/plain": [
       "BuildingBlock('C(=NCCCN=Cc1c[nH]cn1)c1c[nH]cn1', (GenericFunctionalGroup(atoms=(C(3), N(2), C(1)), bonders=(N(2),), deleters=()), GenericFunctionalGroup(atoms=(C(11), N(10), C(9)), bonders=(N(10),), deleters=()), GenericFunctionalGroup(atoms=(C(4), N(8), C(7)), bonders=(N(8),), deleters=()), GenericFunctionalGroup(atoms=(C(12), N(16), C(15)), bonders=(N(16),), deleters=())))"
      ]
     },
     "execution_count": 58,
     "metadata": {},
     "output_type": "execute_result"
    }
   ],
   "source": [
    "corner_organic.write('testme2.mol')"
   ]
  },
  {
   "cell_type": "code",
   "execution_count": 59,
   "metadata": {},
   "outputs": [
    {
     "data": {
      "application/3dmoljs_load.v0": "<div id=\"3dmolviewer_16155560021195774\"  style=\"position: relative; width: 400px; height: 400px\">\n        <p id=\"3dmolwarning_16155560021195774\" style=\"background-color:#ffcccc;color:black\">You appear to be running in JupyterLab (or JavaScript failed to load for some other reason).  You need to install the 3dmol extension: <br>\n        <tt>jupyter labextension install jupyterlab_3dmol</tt></p>\n        </div>\n<script>\n\nvar loadScriptAsync = function(uri){\n  return new Promise((resolve, reject) => {\n    var tag = document.createElement('script');\n    tag.src = uri;\n    tag.async = true;\n    tag.onload = () => {\n      resolve();\n    };\n  var firstScriptTag = document.getElementsByTagName('script')[0];\n  firstScriptTag.parentNode.insertBefore(tag, firstScriptTag);\n});\n};\n\nif(typeof $3Dmolpromise === 'undefined') {\n$3Dmolpromise = null;\n  $3Dmolpromise = loadScriptAsync('https://3dmol.org/build/3Dmol.js');\n}\n\nvar viewer_16155560021195774 = null;\nvar warn = document.getElementById(\"3dmolwarning_16155560021195774\");\nif(warn) {\n    warn.parentNode.removeChild(warn);\n}\n$3Dmolpromise.then(function() {\nviewer_16155560021195774 = $3Dmol.createViewer($(\"#3dmolviewer_16155560021195774\"),{backgroundColor:\"white\"});\nviewer_16155560021195774.addModel(\"\\n     RDKit          3D\\n\\n 31 32  0  0  0  0  0  0  0  0999 V2000\\n   -0.3868   -2.4221    0.4032 C   0  0  0  0  0  0  0  0  0  0  0  0\\n   -0.6754   -1.7878   -0.9606 C   0  0  0  0  0  0  0  0  0  0  0  0\\n   -1.4507   -0.5808   -0.7831 N   0  0  0  0  0  0  0  0  0  0  0  0\\n   -2.5555   -0.5537   -0.1118 C   0  0  0  0  0  0  0  0  0  0  0  0\\n   -3.2837    0.7032    0.0243 C   0  0  0  0  0  0  0  0  0  0  0  0\\n   -4.4675    0.9284    0.6951 C   0  0  0  0  0  0  0  0  0  0  0  0\\n   -4.8259    2.2200    0.5958 N   0  0  0  0  0  0  0  0  0  0  0  0\\n   -3.8732    2.8206   -0.1372 C   0  0  0  0  0  0  0  0  0  0  0  0\\n   -2.9427    1.9134   -0.4840 N   0  0  0  0  0  0  0  0  0  0  0  0\\n    0.3920   -1.4021    1.2093 C   0  0  0  0  0  0  0  0  0  0  0  0\\n    1.6361   -1.0530    0.5569 N   0  0  0  0  0  0  0  0  0  0  0  0\\n    2.1529    0.0976    0.8214 C   0  0  0  0  0  0  0  0  0  0  0  0\\n    3.4025    0.5251    0.2070 C   0  0  0  0  0  0  0  0  0  0  0  0\\n    4.1184   -0.2428   -0.6843 C   0  0  0  0  0  0  0  0  0  0  0  0\\n    5.2023    0.4363   -1.0530 N   0  0  0  0  0  0  0  0  0  0  0  0\\n    5.1728    1.6069   -0.4098 C   0  0  0  0  0  0  0  0  0  0  0  0\\n    4.0724    1.6583    0.3590 N   0  0  0  0  0  0  0  0  0  0  0  0\\n    0.1844   -3.3330    0.2230 H   0  0  0  0  0  0  0  0  0  0  0  0\\n   -1.3760   -2.6223    0.8600 H   0  0  0  0  0  0  0  0  0  0  0  0\\n    0.3027   -1.4694   -1.4040 H   0  0  0  0  0  0  0  0  0  0  0  0\\n   -1.1879   -2.5210   -1.6220 H   0  0  0  0  0  0  0  0  0  0  0  0\\n   -2.9571   -1.4335    0.3519 H   0  0  0  0  0  0  0  0  0  0  0  0\\n   -5.0334    0.1775    1.2279 H   0  0  0  0  0  0  0  0  0  0  0  0\\n   -5.6799    2.6940    1.0027 H   0  0  0  0  0  0  0  0  0  0  0  0\\n   -3.8060    3.8671   -0.4370 H   0  0  0  0  0  0  0  0  0  0  0  0\\n    0.6683   -1.8468    2.1972 H   0  0  0  0  0  0  0  0  0  0  0  0\\n   -0.1884   -0.4731    1.3453 H   0  0  0  0  0  0  0  0  0  0  0  0\\n    1.6737    0.7964    1.5164 H   0  0  0  0  0  0  0  0  0  0  0  0\\n    3.8484   -1.2164   -1.0207 H   0  0  0  0  0  0  0  0  0  0  0  0\\n    5.9381    0.1182   -1.7182 H   0  0  0  0  0  0  0  0  0  0  0  0\\n    5.9249    2.3949   -0.4970 H   0  0  0  0  0  0  0  0  0  0  0  0\\n  1  2  1  0\\n  2  3  1  0\\n  3  4  2  3\\n  4  5  1  0\\n  5  6  2  0\\n  6  7  1  0\\n  7  8  1  0\\n  8  9  2  0\\n  1 10  1  0\\n 10 11  1  0\\n 11 12  2  3\\n 12 13  1  0\\n 13 14  2  0\\n 14 15  1  0\\n 15 16  1  0\\n 16 17  2  0\\n  9  5  1  0\\n 17 13  1  0\\n  1 18  1  0\\n  1 19  1  0\\n  2 20  1  0\\n  2 21  1  0\\n  4 22  1  0\\n  6 23  1  0\\n  7 24  1  0\\n  8 25  1  0\\n 10 26  1  0\\n 10 27  1  0\\n 12 28  1  0\\n 14 29  1  0\\n 15 30  1  0\\n 16 31  1  0\\nM  END\\n\");\nviewer_16155560021195774.setStyle({\"stick\": {\"colorscheme\": \"cyanCarbon\"}});\nviewer_16155560021195774.zoomTo();\n\tviewer_16155560021195774.setBackgroundColor(\"0xeeeeee\");\n\tviewer_16155560021195774.zoomTo();\nviewer_16155560021195774.render();\n});\n</script>",
      "text/html": [
       "<div id=\"3dmolviewer_16155560021195774\"  style=\"position: relative; width: 400px; height: 400px\">\n",
       "        <p id=\"3dmolwarning_16155560021195774\" style=\"background-color:#ffcccc;color:black\">You appear to be running in JupyterLab (or JavaScript failed to load for some other reason).  You need to install the 3dmol extension: <br>\n",
       "        <tt>jupyter labextension install jupyterlab_3dmol</tt></p>\n",
       "        </div>\n",
       "<script>\n",
       "\n",
       "var loadScriptAsync = function(uri){\n",
       "  return new Promise((resolve, reject) => {\n",
       "    var tag = document.createElement('script');\n",
       "    tag.src = uri;\n",
       "    tag.async = true;\n",
       "    tag.onload = () => {\n",
       "      resolve();\n",
       "    };\n",
       "  var firstScriptTag = document.getElementsByTagName('script')[0];\n",
       "  firstScriptTag.parentNode.insertBefore(tag, firstScriptTag);\n",
       "});\n",
       "};\n",
       "\n",
       "if(typeof $3Dmolpromise === 'undefined') {\n",
       "$3Dmolpromise = null;\n",
       "  $3Dmolpromise = loadScriptAsync('https://3dmol.org/build/3Dmol.js');\n",
       "}\n",
       "\n",
       "var viewer_16155560021195774 = null;\n",
       "var warn = document.getElementById(\"3dmolwarning_16155560021195774\");\n",
       "if(warn) {\n",
       "    warn.parentNode.removeChild(warn);\n",
       "}\n",
       "$3Dmolpromise.then(function() {\n",
       "viewer_16155560021195774 = $3Dmol.createViewer($(\"#3dmolviewer_16155560021195774\"),{backgroundColor:\"white\"});\n",
       "viewer_16155560021195774.addModel(\"\\n     RDKit          3D\\n\\n 31 32  0  0  0  0  0  0  0  0999 V2000\\n   -0.3868   -2.4221    0.4032 C   0  0  0  0  0  0  0  0  0  0  0  0\\n   -0.6754   -1.7878   -0.9606 C   0  0  0  0  0  0  0  0  0  0  0  0\\n   -1.4507   -0.5808   -0.7831 N   0  0  0  0  0  0  0  0  0  0  0  0\\n   -2.5555   -0.5537   -0.1118 C   0  0  0  0  0  0  0  0  0  0  0  0\\n   -3.2837    0.7032    0.0243 C   0  0  0  0  0  0  0  0  0  0  0  0\\n   -4.4675    0.9284    0.6951 C   0  0  0  0  0  0  0  0  0  0  0  0\\n   -4.8259    2.2200    0.5958 N   0  0  0  0  0  0  0  0  0  0  0  0\\n   -3.8732    2.8206   -0.1372 C   0  0  0  0  0  0  0  0  0  0  0  0\\n   -2.9427    1.9134   -0.4840 N   0  0  0  0  0  0  0  0  0  0  0  0\\n    0.3920   -1.4021    1.2093 C   0  0  0  0  0  0  0  0  0  0  0  0\\n    1.6361   -1.0530    0.5569 N   0  0  0  0  0  0  0  0  0  0  0  0\\n    2.1529    0.0976    0.8214 C   0  0  0  0  0  0  0  0  0  0  0  0\\n    3.4025    0.5251    0.2070 C   0  0  0  0  0  0  0  0  0  0  0  0\\n    4.1184   -0.2428   -0.6843 C   0  0  0  0  0  0  0  0  0  0  0  0\\n    5.2023    0.4363   -1.0530 N   0  0  0  0  0  0  0  0  0  0  0  0\\n    5.1728    1.6069   -0.4098 C   0  0  0  0  0  0  0  0  0  0  0  0\\n    4.0724    1.6583    0.3590 N   0  0  0  0  0  0  0  0  0  0  0  0\\n    0.1844   -3.3330    0.2230 H   0  0  0  0  0  0  0  0  0  0  0  0\\n   -1.3760   -2.6223    0.8600 H   0  0  0  0  0  0  0  0  0  0  0  0\\n    0.3027   -1.4694   -1.4040 H   0  0  0  0  0  0  0  0  0  0  0  0\\n   -1.1879   -2.5210   -1.6220 H   0  0  0  0  0  0  0  0  0  0  0  0\\n   -2.9571   -1.4335    0.3519 H   0  0  0  0  0  0  0  0  0  0  0  0\\n   -5.0334    0.1775    1.2279 H   0  0  0  0  0  0  0  0  0  0  0  0\\n   -5.6799    2.6940    1.0027 H   0  0  0  0  0  0  0  0  0  0  0  0\\n   -3.8060    3.8671   -0.4370 H   0  0  0  0  0  0  0  0  0  0  0  0\\n    0.6683   -1.8468    2.1972 H   0  0  0  0  0  0  0  0  0  0  0  0\\n   -0.1884   -0.4731    1.3453 H   0  0  0  0  0  0  0  0  0  0  0  0\\n    1.6737    0.7964    1.5164 H   0  0  0  0  0  0  0  0  0  0  0  0\\n    3.8484   -1.2164   -1.0207 H   0  0  0  0  0  0  0  0  0  0  0  0\\n    5.9381    0.1182   -1.7182 H   0  0  0  0  0  0  0  0  0  0  0  0\\n    5.9249    2.3949   -0.4970 H   0  0  0  0  0  0  0  0  0  0  0  0\\n  1  2  1  0\\n  2  3  1  0\\n  3  4  2  3\\n  4  5  1  0\\n  5  6  2  0\\n  6  7  1  0\\n  7  8  1  0\\n  8  9  2  0\\n  1 10  1  0\\n 10 11  1  0\\n 11 12  2  3\\n 12 13  1  0\\n 13 14  2  0\\n 14 15  1  0\\n 15 16  1  0\\n 16 17  2  0\\n  9  5  1  0\\n 17 13  1  0\\n  1 18  1  0\\n  1 19  1  0\\n  2 20  1  0\\n  2 21  1  0\\n  4 22  1  0\\n  6 23  1  0\\n  7 24  1  0\\n  8 25  1  0\\n 10 26  1  0\\n 10 27  1  0\\n 12 28  1  0\\n 14 29  1  0\\n 15 30  1  0\\n 16 31  1  0\\nM  END\\n\");\n",
       "viewer_16155560021195774.setStyle({\"stick\": {\"colorscheme\": \"cyanCarbon\"}});\n",
       "viewer_16155560021195774.zoomTo();\n",
       "\tviewer_16155560021195774.setBackgroundColor(\"0xeeeeee\");\n",
       "\tviewer_16155560021195774.zoomTo();\n",
       "viewer_16155560021195774.render();\n",
       "});\n",
       "</script>"
      ]
     },
     "metadata": {},
     "output_type": "display_data"
    }
   ],
   "source": [
    "show_stk_mol(corner_organic)"
   ]
  },
  {
   "cell_type": "markdown",
   "metadata": {},
   "source": [
    "# Harry saves the day!"
   ]
  },
  {
   "cell_type": "code",
   "execution_count": 82,
   "metadata": {
    "tags": []
   },
   "outputs": [
    {
     "name": "stdout",
     "output_type": "stream",
     "text": [
      "<ConstructedMolecule at 140708034822032>\n"
     ]
    },
    {
     "data": {
      "application/3dmoljs_load.v0": "<div id=\"3dmolviewer_16155571320246084\"  style=\"position: relative; width: 400px; height: 400px\">\n        <p id=\"3dmolwarning_16155571320246084\" style=\"background-color:#ffcccc;color:black\">You appear to be running in JupyterLab (or JavaScript failed to load for some other reason).  You need to install the 3dmol extension: <br>\n        <tt>jupyter labextension install jupyterlab_3dmol</tt></p>\n        </div>\n<script>\n\nvar loadScriptAsync = function(uri){\n  return new Promise((resolve, reject) => {\n    var tag = document.createElement('script');\n    tag.src = uri;\n    tag.async = true;\n    tag.onload = () => {\n      resolve();\n    };\n  var firstScriptTag = document.getElementsByTagName('script')[0];\n  firstScriptTag.parentNode.insertBefore(tag, firstScriptTag);\n});\n};\n\nif(typeof $3Dmolpromise === 'undefined') {\n$3Dmolpromise = null;\n  $3Dmolpromise = loadScriptAsync('https://3dmol.org/build/3Dmol.js');\n}\n\nvar viewer_16155571320246084 = null;\nvar warn = document.getElementById(\"3dmolwarning_16155571320246084\");\nif(warn) {\n    warn.parentNode.removeChild(warn);\n}\n$3Dmolpromise.then(function() {\nviewer_16155571320246084 = $3Dmol.createViewer($(\"#3dmolviewer_16155571320246084\"),{backgroundColor:\"white\"});\nviewer_16155571320246084.addModel(\"\\n     RDKit          3D\\n\\n  0  0  0  0  0  0  0  0  0  0999 V3000\\nM  V30 BEGIN CTAB\\nM  V30 COUNTS 32 36 0 0 0\\nM  V30 BEGIN ATOM\\nM  V30 1 Cu 0 0 0 0 CHG=2 VAL=4\\nM  V30 2 C -0.715517 -2.90652 0.491019 0\\nM  V30 3 C -1.00414 -2.27229 -0.87279 0\\nM  V30 4 N -1.77949 -1.06527 -0.695314 0\\nM  V30 5 C -2.88431 -1.0382 -0.0240578 0\\nM  V30 6 C -3.61242 0.218704 0.112108 0\\nM  V30 7 C -4.79626 0.443938 0.782893 0\\nM  V30 8 N -5.15466 1.73555 0.683622 0\\nM  V30 9 C -4.202 2.33615 -0.0493878 0\\nM  V30 10 N -3.27147 1.42889 -0.396179 0\\nM  V30 11 C 0.0631855 -1.8866 1.29712 0\\nM  V30 12 N 1.30733 -1.5375 0.644677 0\\nM  V30 13 C 1.82414 -0.386828 0.909176 0\\nM  V30 14 C 3.07371 0.0406308 0.294811 0\\nM  V30 15 C 3.78963 -0.727267 -0.596467 0\\nM  V30 16 N 4.87354 -0.0481328 -0.965214 0\\nM  V30 17 C 4.84404 1.12243 -0.322054 0\\nM  V30 18 N 3.74363 1.17387 0.446816 0\\nM  V30 19 H -0.144323 -3.81745 0.310746 0\\nM  V30 20 H -1.70473 -3.10678 0.94779 0\\nM  V30 21 H -0.0260198 -1.95384 -1.3162 0\\nM  V30 22 H -1.51665 -3.00545 -1.53418 0\\nM  V30 23 H -3.28582 -1.91799 0.439736 0\\nM  V30 24 H -5.36212 -0.306934 1.3157 0\\nM  V30 25 H -6.00866 2.20952 1.09054 0\\nM  V30 26 H -4.13481 3.38264 -0.349231 0\\nM  V30 27 H 0.339579 -2.33125 2.28497 0\\nM  V30 28 H -0.517181 -0.957545 1.43306 0\\nM  V30 29 H 1.34494 0.311959 1.60417 0\\nM  V30 30 H 3.51961 -1.7009 -0.932945 0\\nM  V30 31 H 5.60936 -0.366259 -1.63041 0\\nM  V30 32 H 5.59612 1.91042 -0.409246 0\\nM  V30 END ATOM\\nM  V30 BEGIN BOND\\nM  V30 1 1 2 3\\nM  V30 2 1 3 4\\nM  V30 3 2 4 5\\nM  V30 4 1 5 6\\nM  V30 5 2 6 7\\nM  V30 6 1 7 8\\nM  V30 7 1 8 9\\nM  V30 8 2 9 10\\nM  V30 9 1 2 11\\nM  V30 10 1 11 12\\nM  V30 11 2 12 13\\nM  V30 12 1 13 14\\nM  V30 13 2 14 15\\nM  V30 14 1 15 16\\nM  V30 15 1 16 17\\nM  V30 16 2 17 18\\nM  V30 17 1 10 6\\nM  V30 18 1 18 14\\nM  V30 19 1 2 19\\nM  V30 20 1 2 20\\nM  V30 21 1 3 21\\nM  V30 22 1 3 22\\nM  V30 23 1 5 23\\nM  V30 24 1 7 24\\nM  V30 25 1 8 25\\nM  V30 26 1 9 26\\nM  V30 27 1 11 27\\nM  V30 28 1 11 28\\nM  V30 29 1 13 29\\nM  V30 30 1 15 30\\nM  V30 31 1 16 31\\nM  V30 32 1 17 32\\nM  V30 33 9 4 1\\nM  V30 34 9 12 1\\nM  V30 35 9 10 1\\nM  V30 36 9 18 1\\nM  V30 END BOND\\nM  V30 END CTAB\\nM  END\\n\");\nviewer_16155571320246084.setStyle({\"stick\": {\"colorscheme\": \"cyanCarbon\"}});\nviewer_16155571320246084.zoomTo();\n\tviewer_16155571320246084.setBackgroundColor(\"0xeeeeee\");\n\tviewer_16155571320246084.zoomTo();\nviewer_16155571320246084.render();\n});\n</script>",
      "text/html": [
       "<div id=\"3dmolviewer_16155571320246084\"  style=\"position: relative; width: 400px; height: 400px\">\n",
       "        <p id=\"3dmolwarning_16155571320246084\" style=\"background-color:#ffcccc;color:black\">You appear to be running in JupyterLab (or JavaScript failed to load for some other reason).  You need to install the 3dmol extension: <br>\n",
       "        <tt>jupyter labextension install jupyterlab_3dmol</tt></p>\n",
       "        </div>\n",
       "<script>\n",
       "\n",
       "var loadScriptAsync = function(uri){\n",
       "  return new Promise((resolve, reject) => {\n",
       "    var tag = document.createElement('script');\n",
       "    tag.src = uri;\n",
       "    tag.async = true;\n",
       "    tag.onload = () => {\n",
       "      resolve();\n",
       "    };\n",
       "  var firstScriptTag = document.getElementsByTagName('script')[0];\n",
       "  firstScriptTag.parentNode.insertBefore(tag, firstScriptTag);\n",
       "});\n",
       "};\n",
       "\n",
       "if(typeof $3Dmolpromise === 'undefined') {\n",
       "$3Dmolpromise = null;\n",
       "  $3Dmolpromise = loadScriptAsync('https://3dmol.org/build/3Dmol.js');\n",
       "}\n",
       "\n",
       "var viewer_16155571320246084 = null;\n",
       "var warn = document.getElementById(\"3dmolwarning_16155571320246084\");\n",
       "if(warn) {\n",
       "    warn.parentNode.removeChild(warn);\n",
       "}\n",
       "$3Dmolpromise.then(function() {\n",
       "viewer_16155571320246084 = $3Dmol.createViewer($(\"#3dmolviewer_16155571320246084\"),{backgroundColor:\"white\"});\n",
       "viewer_16155571320246084.addModel(\"\\n     RDKit          3D\\n\\n  0  0  0  0  0  0  0  0  0  0999 V3000\\nM  V30 BEGIN CTAB\\nM  V30 COUNTS 32 36 0 0 0\\nM  V30 BEGIN ATOM\\nM  V30 1 Cu 0 0 0 0 CHG=2 VAL=4\\nM  V30 2 C -0.715517 -2.90652 0.491019 0\\nM  V30 3 C -1.00414 -2.27229 -0.87279 0\\nM  V30 4 N -1.77949 -1.06527 -0.695314 0\\nM  V30 5 C -2.88431 -1.0382 -0.0240578 0\\nM  V30 6 C -3.61242 0.218704 0.112108 0\\nM  V30 7 C -4.79626 0.443938 0.782893 0\\nM  V30 8 N -5.15466 1.73555 0.683622 0\\nM  V30 9 C -4.202 2.33615 -0.0493878 0\\nM  V30 10 N -3.27147 1.42889 -0.396179 0\\nM  V30 11 C 0.0631855 -1.8866 1.29712 0\\nM  V30 12 N 1.30733 -1.5375 0.644677 0\\nM  V30 13 C 1.82414 -0.386828 0.909176 0\\nM  V30 14 C 3.07371 0.0406308 0.294811 0\\nM  V30 15 C 3.78963 -0.727267 -0.596467 0\\nM  V30 16 N 4.87354 -0.0481328 -0.965214 0\\nM  V30 17 C 4.84404 1.12243 -0.322054 0\\nM  V30 18 N 3.74363 1.17387 0.446816 0\\nM  V30 19 H -0.144323 -3.81745 0.310746 0\\nM  V30 20 H -1.70473 -3.10678 0.94779 0\\nM  V30 21 H -0.0260198 -1.95384 -1.3162 0\\nM  V30 22 H -1.51665 -3.00545 -1.53418 0\\nM  V30 23 H -3.28582 -1.91799 0.439736 0\\nM  V30 24 H -5.36212 -0.306934 1.3157 0\\nM  V30 25 H -6.00866 2.20952 1.09054 0\\nM  V30 26 H -4.13481 3.38264 -0.349231 0\\nM  V30 27 H 0.339579 -2.33125 2.28497 0\\nM  V30 28 H -0.517181 -0.957545 1.43306 0\\nM  V30 29 H 1.34494 0.311959 1.60417 0\\nM  V30 30 H 3.51961 -1.7009 -0.932945 0\\nM  V30 31 H 5.60936 -0.366259 -1.63041 0\\nM  V30 32 H 5.59612 1.91042 -0.409246 0\\nM  V30 END ATOM\\nM  V30 BEGIN BOND\\nM  V30 1 1 2 3\\nM  V30 2 1 3 4\\nM  V30 3 2 4 5\\nM  V30 4 1 5 6\\nM  V30 5 2 6 7\\nM  V30 6 1 7 8\\nM  V30 7 1 8 9\\nM  V30 8 2 9 10\\nM  V30 9 1 2 11\\nM  V30 10 1 11 12\\nM  V30 11 2 12 13\\nM  V30 12 1 13 14\\nM  V30 13 2 14 15\\nM  V30 14 1 15 16\\nM  V30 15 1 16 17\\nM  V30 16 2 17 18\\nM  V30 17 1 10 6\\nM  V30 18 1 18 14\\nM  V30 19 1 2 19\\nM  V30 20 1 2 20\\nM  V30 21 1 3 21\\nM  V30 22 1 3 22\\nM  V30 23 1 5 23\\nM  V30 24 1 7 24\\nM  V30 25 1 8 25\\nM  V30 26 1 9 26\\nM  V30 27 1 11 27\\nM  V30 28 1 11 28\\nM  V30 29 1 13 29\\nM  V30 30 1 15 30\\nM  V30 31 1 16 31\\nM  V30 32 1 17 32\\nM  V30 33 9 4 1\\nM  V30 34 9 12 1\\nM  V30 35 9 10 1\\nM  V30 36 9 18 1\\nM  V30 END BOND\\nM  V30 END CTAB\\nM  END\\n\");\n",
       "viewer_16155571320246084.setStyle({\"stick\": {\"colorscheme\": \"cyanCarbon\"}});\n",
       "viewer_16155571320246084.zoomTo();\n",
       "\tviewer_16155571320246084.setBackgroundColor(\"0xeeeeee\");\n",
       "\tviewer_16155571320246084.zoomTo();\n",
       "viewer_16155571320246084.render();\n",
       "});\n",
       "</script>"
      ]
     },
     "metadata": {},
     "output_type": "display_data"
    }
   ],
   "source": [
    "topology_graph = stk.metal_complex.Porphyrin(\n",
    "    metals=cu_atom_green,\n",
    "    ligands=corner_organic,\n",
    "    optimizer=stk.NullOptimizer(),\n",
    ")\n",
    "corner_mo = stk.ConstructedMolecule(topology_graph)\n",
    "print(corner_mo)\n",
    "show_stk_mol(corner_mo)"
   ]
  },
  {
   "cell_type": "code",
   "execution_count": 63,
   "metadata": {},
   "outputs": [
    {
     "data": {
      "text/plain": [
       "<ConstructedMolecule at 140707913151312>"
      ]
     },
     "execution_count": 63,
     "metadata": {},
     "output_type": "execute_result"
    }
   ],
   "source": [
    "# Hacky - could use stko.\n",
    "corner_mo.write('corner_mo_unopt.mol')"
   ]
  },
  {
   "cell_type": "code",
   "execution_count": 83,
   "metadata": {},
   "outputs": [
    {
     "name": "stderr",
     "output_type": "stream",
     "text": [
      "RDKit WARNING: [13:59:49] unrecognized query bond type, 9, found on line 37. Using an \"any\" query.\n",
      "RDKit WARNING: [13:59:49] unrecognized query bond type, 9, found on line 56. Using an \"any\" query.\n",
      "RDKit WARNING: [13:59:49] unrecognized query bond type, 9, found on line 61. Using an \"any\" query.\n",
      "RDKit WARNING: [13:59:49] unrecognized query bond type, 9, found on line 72. Using an \"any\" query.\n"
     ]
    }
   ],
   "source": [
    "opt_corner_mo = corner_mo.with_structure_from_file('corner_mo_opt.mol')"
   ]
  },
  {
   "cell_type": "code",
   "execution_count": 86,
   "metadata": {},
   "outputs": [],
   "source": [
    "new_imidazole_fg = stk.SmartsFunctionalGroupFactory(\n",
    "    smarts='[#6X3][#7X3]([#1])[#6X3]',\n",
    "    bonders=(1, ),\n",
    "    deleters=(2, ),\n",
    ")\n",
    "corner_mo = stk.BuildingBlock.init_from_molecule(opt_corner_mo, functional_groups=[new_imidazole_fg])"
   ]
  },
  {
   "cell_type": "code",
   "execution_count": 87,
   "metadata": {},
   "outputs": [
    {
     "data": {
      "application/3dmoljs_load.v0": "<div id=\"3dmolviewer_1615558481851339\"  style=\"position: relative; width: 400px; height: 400px\">\n        <p id=\"3dmolwarning_1615558481851339\" style=\"background-color:#ffcccc;color:black\">You appear to be running in JupyterLab (or JavaScript failed to load for some other reason).  You need to install the 3dmol extension: <br>\n        <tt>jupyter labextension install jupyterlab_3dmol</tt></p>\n        </div>\n<script>\n\nvar loadScriptAsync = function(uri){\n  return new Promise((resolve, reject) => {\n    var tag = document.createElement('script');\n    tag.src = uri;\n    tag.async = true;\n    tag.onload = () => {\n      resolve();\n    };\n  var firstScriptTag = document.getElementsByTagName('script')[0];\n  firstScriptTag.parentNode.insertBefore(tag, firstScriptTag);\n});\n};\n\nif(typeof $3Dmolpromise === 'undefined') {\n$3Dmolpromise = null;\n  $3Dmolpromise = loadScriptAsync('https://3dmol.org/build/3Dmol.js');\n}\n\nvar viewer_1615558481851339 = null;\nvar warn = document.getElementById(\"3dmolwarning_1615558481851339\");\nif(warn) {\n    warn.parentNode.removeChild(warn);\n}\n$3Dmolpromise.then(function() {\nviewer_1615558481851339 = $3Dmol.createViewer($(\"#3dmolviewer_1615558481851339\"),{backgroundColor:\"white\"});\nviewer_1615558481851339.addModel(\"\\n     RDKit          3D\\n\\n  0  0  0  0  0  0  0  0  0  0999 V3000\\nM  V30 BEGIN CTAB\\nM  V30 COUNTS 32 36 0 0 0\\nM  V30 BEGIN ATOM\\nM  V30 1 Cu -0.0096 -0.0948 0.0197 0 CHG=2 VAL=4\\nM  V30 2 C -0.3021 -3.2907 0.3387 0\\nM  V30 3 C -0.5702 -2.4781 -0.9843 0\\nM  V30 4 N -0.8767 -1.1278 -0.6154 0\\nM  V30 5 C -2.1165 -1.0956 -0.1564 0\\nM  V30 6 C -2.4622 0.0179 0.3797 0\\nM  V30 7 C -3.803 0.4016 0.6825 0\\nM  V30 8 N -3.8493 1.6882 0.5939 0\\nM  V30 9 C -2.5107 2.0543 0.2698 0\\nM  V30 10 N -1.4713 0.9108 0.2524 0\\nM  V30 11 C 0.9715 -2.8419 0.9374 0\\nM  V30 12 N 0.786 -1.2444 0.9292 0\\nM  V30 13 C 1.9503 -0.9748 0.9332 0\\nM  V30 14 C 2.2251 -0.3856 -0.1386 0\\nM  V30 15 C 3.4047 -0.7075 -0.6575 0\\nM  V30 16 N 3.8908 0.3407 -1.0807 0\\nM  V30 17 C 2.8287 1.2427 -0.9014 0\\nM  V30 18 N 1.4834 0.6451 -0.4692 0\\nM  V30 19 H -0.1366 -4.3043 0.189 0\\nM  V30 20 H -1.2116 -3.1906 1.0028 0\\nM  V30 21 H 0.2189 -2.4764 -1.699 0\\nM  V30 22 H -1.4771 -2.8894 -1.5285 0\\nM  V30 23 H -2.9058 -1.8367 -0.2288 0\\nM  V30 24 H -4.7414 -0.2037 0.8213 0\\nM  V30 25 H -4.8356 2.1679 0.6616 0\\nM  V30 26 H -2.5286 3.1256 -0.0777 0\\nM  V30 27 H 1.6262 -3.4703 1.7521 0\\nM  V30 28 H 2.0491 -3.5821 0.9351 0\\nM  V30 29 H 2.7953 -1.5425 1.3723 0\\nM  V30 30 H 3.9261 -1.6657 -0.4904 0\\nM  V30 31 H 4.9437 0.2816 -1.2663 0\\nM  V30 32 H 3.2387 2.2709 -0.8844 0\\nM  V30 END ATOM\\nM  V30 BEGIN BOND\\nM  V30 1 1 2 3\\nM  V30 2 1 3 4\\nM  V30 3 2 4 5\\nM  V30 4 1 5 6\\nM  V30 5 2 6 7\\nM  V30 6 1 7 8\\nM  V30 7 1 8 9\\nM  V30 8 2 9 10\\nM  V30 9 1 2 11\\nM  V30 10 1 11 12\\nM  V30 11 2 12 13\\nM  V30 12 1 13 14\\nM  V30 13 2 14 15\\nM  V30 14 1 15 16\\nM  V30 15 1 16 17\\nM  V30 16 2 17 18\\nM  V30 17 1 10 6\\nM  V30 18 1 18 14\\nM  V30 19 1 2 19\\nM  V30 20 1 2 20\\nM  V30 21 1 3 21\\nM  V30 22 1 3 22\\nM  V30 23 1 5 23\\nM  V30 24 1 7 24\\nM  V30 25 1 8 25\\nM  V30 26 1 9 26\\nM  V30 27 1 11 27\\nM  V30 28 1 11 28\\nM  V30 29 1 13 29\\nM  V30 30 1 15 30\\nM  V30 31 1 16 31\\nM  V30 32 1 17 32\\nM  V30 33 9 4 1\\nM  V30 34 9 12 1\\nM  V30 35 9 10 1\\nM  V30 36 9 18 1\\nM  V30 END BOND\\nM  V30 END CTAB\\nM  END\\n\");\nviewer_1615558481851339.setStyle({\"stick\": {\"colorscheme\": \"cyanCarbon\"}});\nviewer_1615558481851339.zoomTo();\n\tviewer_1615558481851339.setBackgroundColor(\"0xeeeeee\");\n\tviewer_1615558481851339.zoomTo();\nviewer_1615558481851339.render();\n});\n</script>",
      "text/html": [
       "<div id=\"3dmolviewer_1615558481851339\"  style=\"position: relative; width: 400px; height: 400px\">\n",
       "        <p id=\"3dmolwarning_1615558481851339\" style=\"background-color:#ffcccc;color:black\">You appear to be running in JupyterLab (or JavaScript failed to load for some other reason).  You need to install the 3dmol extension: <br>\n",
       "        <tt>jupyter labextension install jupyterlab_3dmol</tt></p>\n",
       "        </div>\n",
       "<script>\n",
       "\n",
       "var loadScriptAsync = function(uri){\n",
       "  return new Promise((resolve, reject) => {\n",
       "    var tag = document.createElement('script');\n",
       "    tag.src = uri;\n",
       "    tag.async = true;\n",
       "    tag.onload = () => {\n",
       "      resolve();\n",
       "    };\n",
       "  var firstScriptTag = document.getElementsByTagName('script')[0];\n",
       "  firstScriptTag.parentNode.insertBefore(tag, firstScriptTag);\n",
       "});\n",
       "};\n",
       "\n",
       "if(typeof $3Dmolpromise === 'undefined') {\n",
       "$3Dmolpromise = null;\n",
       "  $3Dmolpromise = loadScriptAsync('https://3dmol.org/build/3Dmol.js');\n",
       "}\n",
       "\n",
       "var viewer_1615558481851339 = null;\n",
       "var warn = document.getElementById(\"3dmolwarning_1615558481851339\");\n",
       "if(warn) {\n",
       "    warn.parentNode.removeChild(warn);\n",
       "}\n",
       "$3Dmolpromise.then(function() {\n",
       "viewer_1615558481851339 = $3Dmol.createViewer($(\"#3dmolviewer_1615558481851339\"),{backgroundColor:\"white\"});\n",
       "viewer_1615558481851339.addModel(\"\\n     RDKit          3D\\n\\n  0  0  0  0  0  0  0  0  0  0999 V3000\\nM  V30 BEGIN CTAB\\nM  V30 COUNTS 32 36 0 0 0\\nM  V30 BEGIN ATOM\\nM  V30 1 Cu -0.0096 -0.0948 0.0197 0 CHG=2 VAL=4\\nM  V30 2 C -0.3021 -3.2907 0.3387 0\\nM  V30 3 C -0.5702 -2.4781 -0.9843 0\\nM  V30 4 N -0.8767 -1.1278 -0.6154 0\\nM  V30 5 C -2.1165 -1.0956 -0.1564 0\\nM  V30 6 C -2.4622 0.0179 0.3797 0\\nM  V30 7 C -3.803 0.4016 0.6825 0\\nM  V30 8 N -3.8493 1.6882 0.5939 0\\nM  V30 9 C -2.5107 2.0543 0.2698 0\\nM  V30 10 N -1.4713 0.9108 0.2524 0\\nM  V30 11 C 0.9715 -2.8419 0.9374 0\\nM  V30 12 N 0.786 -1.2444 0.9292 0\\nM  V30 13 C 1.9503 -0.9748 0.9332 0\\nM  V30 14 C 2.2251 -0.3856 -0.1386 0\\nM  V30 15 C 3.4047 -0.7075 -0.6575 0\\nM  V30 16 N 3.8908 0.3407 -1.0807 0\\nM  V30 17 C 2.8287 1.2427 -0.9014 0\\nM  V30 18 N 1.4834 0.6451 -0.4692 0\\nM  V30 19 H -0.1366 -4.3043 0.189 0\\nM  V30 20 H -1.2116 -3.1906 1.0028 0\\nM  V30 21 H 0.2189 -2.4764 -1.699 0\\nM  V30 22 H -1.4771 -2.8894 -1.5285 0\\nM  V30 23 H -2.9058 -1.8367 -0.2288 0\\nM  V30 24 H -4.7414 -0.2037 0.8213 0\\nM  V30 25 H -4.8356 2.1679 0.6616 0\\nM  V30 26 H -2.5286 3.1256 -0.0777 0\\nM  V30 27 H 1.6262 -3.4703 1.7521 0\\nM  V30 28 H 2.0491 -3.5821 0.9351 0\\nM  V30 29 H 2.7953 -1.5425 1.3723 0\\nM  V30 30 H 3.9261 -1.6657 -0.4904 0\\nM  V30 31 H 4.9437 0.2816 -1.2663 0\\nM  V30 32 H 3.2387 2.2709 -0.8844 0\\nM  V30 END ATOM\\nM  V30 BEGIN BOND\\nM  V30 1 1 2 3\\nM  V30 2 1 3 4\\nM  V30 3 2 4 5\\nM  V30 4 1 5 6\\nM  V30 5 2 6 7\\nM  V30 6 1 7 8\\nM  V30 7 1 8 9\\nM  V30 8 2 9 10\\nM  V30 9 1 2 11\\nM  V30 10 1 11 12\\nM  V30 11 2 12 13\\nM  V30 12 1 13 14\\nM  V30 13 2 14 15\\nM  V30 14 1 15 16\\nM  V30 15 1 16 17\\nM  V30 16 2 17 18\\nM  V30 17 1 10 6\\nM  V30 18 1 18 14\\nM  V30 19 1 2 19\\nM  V30 20 1 2 20\\nM  V30 21 1 3 21\\nM  V30 22 1 3 22\\nM  V30 23 1 5 23\\nM  V30 24 1 7 24\\nM  V30 25 1 8 25\\nM  V30 26 1 9 26\\nM  V30 27 1 11 27\\nM  V30 28 1 11 28\\nM  V30 29 1 13 29\\nM  V30 30 1 15 30\\nM  V30 31 1 16 31\\nM  V30 32 1 17 32\\nM  V30 33 9 4 1\\nM  V30 34 9 12 1\\nM  V30 35 9 10 1\\nM  V30 36 9 18 1\\nM  V30 END BOND\\nM  V30 END CTAB\\nM  END\\n\");\n",
       "viewer_1615558481851339.setStyle({\"stick\": {\"colorscheme\": \"cyanCarbon\"}});\n",
       "viewer_1615558481851339.zoomTo();\n",
       "\tviewer_1615558481851339.setBackgroundColor(\"0xeeeeee\");\n",
       "\tviewer_1615558481851339.zoomTo();\n",
       "viewer_1615558481851339.render();\n",
       "});\n",
       "</script>"
      ]
     },
     "metadata": {},
     "output_type": "display_data"
    }
   ],
   "source": [
    "show_stk_mol(corner_mo)"
   ]
  },
  {
   "cell_type": "code",
   "execution_count": 88,
   "metadata": {},
   "outputs": [
    {
     "data": {
      "text/plain": [
       "BuildingBlock('C1=N2->[Cu+2]3(<-N(=Cc4c[nH]cn->34)CCC2)<-n2c[nH]cc21', (GenericFunctionalGroup(atoms=(C(6), N(7), H(24), C(8)), bonders=(N(7),), deleters=(H(24),)), GenericFunctionalGroup(atoms=(C(14), N(15), H(30), C(16)), bonders=(N(15),), deleters=(H(30),))))"
      ]
     },
     "execution_count": 88,
     "metadata": {},
     "output_type": "execute_result"
    }
   ],
   "source": [
    "corner_mo"
   ]
  },
  {
   "cell_type": "code",
   "execution_count": 91,
   "metadata": {},
   "outputs": [
    {
     "name": "stdout",
     "output_type": "stream",
     "text": [
      "<ConstructedMolecule at 140707917034192>\n"
     ]
    },
    {
     "data": {
      "application/3dmoljs_load.v0": "<div id=\"3dmolviewer_16155585268009028\"  style=\"position: relative; width: 400px; height: 400px\">\n        <p id=\"3dmolwarning_16155585268009028\" style=\"background-color:#ffcccc;color:black\">You appear to be running in JupyterLab (or JavaScript failed to load for some other reason).  You need to install the 3dmol extension: <br>\n        <tt>jupyter labextension install jupyterlab_3dmol</tt></p>\n        </div>\n<script>\n\nvar loadScriptAsync = function(uri){\n  return new Promise((resolve, reject) => {\n    var tag = document.createElement('script');\n    tag.src = uri;\n    tag.async = true;\n    tag.onload = () => {\n      resolve();\n    };\n  var firstScriptTag = document.getElementsByTagName('script')[0];\n  firstScriptTag.parentNode.insertBefore(tag, firstScriptTag);\n});\n};\n\nif(typeof $3Dmolpromise === 'undefined') {\n$3Dmolpromise = null;\n  $3Dmolpromise = loadScriptAsync('https://3dmol.org/build/3Dmol.js');\n}\n\nvar viewer_16155585268009028 = null;\nvar warn = document.getElementById(\"3dmolwarning_16155585268009028\");\nif(warn) {\n    warn.parentNode.removeChild(warn);\n}\n$3Dmolpromise.then(function() {\nviewer_16155585268009028 = $3Dmol.createViewer($(\"#3dmolviewer_16155585268009028\"),{backgroundColor:\"white\"});\nviewer_16155585268009028.addModel(\"\\n     RDKit          3D\\n\\n  0  0  0  0  0  0  0  0  0  0999 V3000\\nM  V30 BEGIN CTAB\\nM  V30 COUNTS 93 108 0 0 0\\nM  V30 BEGIN ATOM\\nM  V30 1 Cu -0.24908 0.342253 0.0825193 0 CHG=2 VAL=4\\nM  V30 2 C -0.436842 3.55348 -0.149591 0\\nM  V30 3 C -0.318007 2.55691 -1.36419 0\\nM  V30 4 N 0.280726 1.34744 -0.88247 0\\nM  V30 5 C 1.57641 1.56098 -0.726149 0\\nM  V30 6 C 2.20804 0.617725 -0.127737 0\\nM  V30 7 C 3.62744 0.47354 -0.0933993 0\\nM  V30 8 N 3.8694 -0.790605 -1.35387e-17 0 VAL=2\\nM  V30 9 C 2.57346 -1.38088 0.0550371 0\\nM  V30 10 N 1.37652 -0.405053 0.112778 0\\nM  V30 11 C -1.46391 3.0581 0.789372 0\\nM  V30 12 N -1.01891 1.52362 0.973294 0\\nM  V30 13 C -2.0947 1.10955 1.28877 0\\nM  V30 14 C -2.48408 0.305343 0.409527 0\\nM  V30 15 C -3.78283 0.371216 0.138933 0\\nM  V30 16 N -4.1636 -0.790605 5.03381e-16 0 VAL=2\\nM  V30 17 C -2.95154 -1.49875 0.0570197 0\\nM  V30 18 N -1.66544 -0.662378 0.0702427 0\\nM  V30 19 H -0.797542 4.49282 -0.404005 0\\nM  V30 20 H 0.594728 3.69483 0.291001 0\\nM  V30 21 H -1.22704 2.32288 -1.86655 0\\nM  V30 22 H 0.373384 2.97772 -2.1596 0\\nM  V30 23 H 2.19752 2.37332 -1.08917 0\\nM  V30 24 H 4.45902 1.2112 -0.268267 0\\nM  V30 25 H 2.69797 -2.48572 -0.125457 0\\nM  V30 26 H -2.03031 3.73265 1.63284 0\\nM  V30 27 H -2.62686 3.63855 0.929909 0\\nM  V30 28 H -2.91258 1.6321 1.82461 0\\nM  V30 29 H -4.41112 1.26743 0.280288 0\\nM  V30 30 H -3.17058 -2.55147 0.32046 0\\nM  V30 31 Cu 4.41233 -7.92746 -0.0825193 0 CHG=2 VAL=4\\nM  V30 32 C 7.09945 -9.69568 0.149591 0\\nM  V30 33 C 6.29581 -9.09448 1.36419 0\\nM  V30 34 N 5.54775 -7.97123 0.88247 0\\nM  V30 35 C 6.38052 -6.95591 0.726149 0\\nM  V30 36 C 5.87946 -5.93727 0.127737 0\\nM  V30 37 C 6.46429 -4.63594 0.0933993 0\\nM  V30 38 N 5.49049 -3.79432 4.72853e-16 0 VAL=2\\nM  V30 39 C 4.33132 -4.62151 -0.0550371 0\\nM  V30 40 N 4.57794 -6.146 -0.112778 0\\nM  V30 41 C 6.15691 -10.3375 -0.789372 0\\nM  V30 42 N 5.05051 -9.18484 -0.973294 0\\nM  V30 43 C 4.15402 -9.90947 -1.28877 0\\nM  V30 44 C 3.26287 -9.84457 -0.409527 0\\nM  V30 45 C 2.67054 -11.0023 -0.138933 0\\nM  V30 46 N 1.47399 -10.7511 -5.13416e-16 0 VAL=2\\nM  V30 47 C 1.46674 -9.34736 -0.0570197 0\\nM  V30 48 N 2.83411 -8.65176 -0.0702427 0\\nM  V30 49 H 7.73259 -10.4777 0.404005 0\\nM  V30 50 H 7.73765 -8.873 -0.291001 0\\nM  V30 51 H 5.63862 -9.76471 1.86655 0\\nM  V30 52 H 7.00595 -8.70613 2.1596 0\\nM  V30 53 H 7.39459 -6.82418 1.08917 0\\nM  V30 54 H 7.51891 -4.2846 0.268267 0\\nM  V30 55 H 3.43676 -3.96125 0.125457 0\\nM  V30 56 H 6.45788 -11.1653 -1.63284 0\\nM  V30 57 H 6.07811 -11.6348 -0.929909 0\\nM  V30 58 H 4.19762 -10.879 -1.82461 0\\nM  V30 59 H 3.13254 -11.9945 -0.280288 0\\nM  V30 60 H 0.445545 -9.01069 -0.32046 0\\nM  V30 61 Cu -5.16999 -7.67947 -0.0825193 0 CHG=2 VAL=4\\nM  V30 62 C -8.04487 -9.12247 0.149591 0\\nM  V30 63 C -7.1224 -8.7271 1.36419 0\\nM  V30 64 N -5.7756 -8.64089 0.88247 0\\nM  V30 65 C -5.31269 -9.86975 0.726149 0\\nM  V30 66 C -4.17999 -9.94513 0.127737 0\\nM  V30 67 C -3.34542 -11.1023 0.0933993 0\\nM  V30 68 N -2.12966 -10.6797 -2.28374e-16 0 VAL=2\\nM  V30 69 C -2.26644 -9.26229 -0.0550371 0\\nM  V30 70 N -3.71 -8.71362 -0.112778 0\\nM  V30 71 C -8.12939 -7.98532 -0.789372 0\\nM  V30 72 N -6.578 -7.60346 -0.973294 0\\nM  V30 73 C -6.7573 -6.46476 -1.28877 0\\nM  V30 74 C -6.25552 -5.72545 -0.409527 0\\nM  V30 75 C -6.96195 -4.63363 -0.138933 0\\nM  V30 76 N -6.14616 -3.72296 -1.42404e-16 0 VAL=2\\nM  V30 77 C -4.92686 -4.41856 -0.0570197 0\\nM  V30 78 N -5.00813 -5.95054 -0.0702427 0\\nM  V30 79 H -9.03871 -9.27977 0.404005 0\\nM  V30 80 H -7.6515 -10.0865 -0.291001 0\\nM  V30 81 H -7.37424 -7.82284 1.86655 0\\nM  V30 82 H -7.14114 -9.53627 2.1596 0\\nM  V30 83 H -5.70565 -10.8138 1.08917 0\\nM  V30 84 H -3.56846 -12.1913 0.268267 0\\nM  V30 85 H -1.24736 -8.8177 0.125457 0\\nM  V30 86 H -8.99677 -7.83207 -1.63284 0\\nM  V30 87 H -9.21355 -7.26839 -0.929909 0\\nM  V30 88 H -7.61878 -6.01773 -1.82461 0\\nM  V30 89 H -8.05223 -4.53762 -0.280288 0\\nM  V30 90 H -4.1247 -3.70252 -0.32046 0\\nM  V30 91 Cu 4.90794 -2.16182 1.56228e-16 0 CHG=2 VAL=2\\nM  V30 92 Cu -0.258532 -10.9268 -1.32669e-16 0 CHG=2 VAL=2\\nM  V30 93 Cu -5.39792 -2.06021 2.5628e-16 0 CHG=2 VAL=2\\nM  V30 END ATOM\\nM  V30 BEGIN BOND\\nM  V30 1 1 2 3\\nM  V30 2 1 3 4\\nM  V30 3 2 4 5\\nM  V30 4 1 5 6\\nM  V30 5 2 6 7\\nM  V30 6 1 7 8\\nM  V30 7 1 8 9\\nM  V30 8 2 9 10\\nM  V30 9 1 2 11\\nM  V30 10 1 11 12\\nM  V30 11 2 12 13\\nM  V30 12 1 13 14\\nM  V30 13 2 14 15\\nM  V30 14 1 15 16\\nM  V30 15 1 16 17\\nM  V30 16 2 17 18\\nM  V30 17 1 10 6\\nM  V30 18 1 18 14\\nM  V30 19 1 2 19\\nM  V30 20 1 2 20\\nM  V30 21 1 3 21\\nM  V30 22 1 3 22\\nM  V30 23 1 5 23\\nM  V30 24 1 7 24\\nM  V30 25 1 9 25\\nM  V30 26 1 11 26\\nM  V30 27 1 11 27\\nM  V30 28 1 13 28\\nM  V30 29 1 15 29\\nM  V30 30 1 17 30\\nM  V30 31 9 4 1\\nM  V30 32 9 12 1\\nM  V30 33 9 10 1\\nM  V30 34 9 18 1\\nM  V30 35 1 32 33\\nM  V30 36 1 33 34\\nM  V30 37 2 34 35\\nM  V30 38 1 35 36\\nM  V30 39 2 36 37\\nM  V30 40 1 37 38\\nM  V30 41 1 38 39\\nM  V30 42 2 39 40\\nM  V30 43 1 32 41\\nM  V30 44 1 41 42\\nM  V30 45 2 42 43\\nM  V30 46 1 43 44\\nM  V30 47 2 44 45\\nM  V30 48 1 45 46\\nM  V30 49 1 46 47\\nM  V30 50 2 47 48\\nM  V30 51 1 40 36\\nM  V30 52 1 48 44\\nM  V30 53 1 32 49\\nM  V30 54 1 32 50\\nM  V30 55 1 33 51\\nM  V30 56 1 33 52\\nM  V30 57 1 35 53\\nM  V30 58 1 37 54\\nM  V30 59 1 39 55\\nM  V30 60 1 41 56\\nM  V30 61 1 41 57\\nM  V30 62 1 43 58\\nM  V30 63 1 45 59\\nM  V30 64 1 47 60\\nM  V30 65 9 34 31\\nM  V30 66 9 42 31\\nM  V30 67 9 40 31\\nM  V30 68 9 48 31\\nM  V30 69 1 62 63\\nM  V30 70 1 63 64\\nM  V30 71 2 64 65\\nM  V30 72 1 65 66\\nM  V30 73 2 66 67\\nM  V30 74 1 67 68\\nM  V30 75 1 68 69\\nM  V30 76 2 69 70\\nM  V30 77 1 62 71\\nM  V30 78 1 71 72\\nM  V30 79 2 72 73\\nM  V30 80 1 73 74\\nM  V30 81 2 74 75\\nM  V30 82 1 75 76\\nM  V30 83 1 76 77\\nM  V30 84 2 77 78\\nM  V30 85 1 70 66\\nM  V30 86 1 78 74\\nM  V30 87 1 62 79\\nM  V30 88 1 62 80\\nM  V30 89 1 63 81\\nM  V30 90 1 63 82\\nM  V30 91 1 65 83\\nM  V30 92 1 67 84\\nM  V30 93 1 69 85\\nM  V30 94 1 71 86\\nM  V30 95 1 71 87\\nM  V30 96 1 73 88\\nM  V30 97 1 75 89\\nM  V30 98 1 77 90\\nM  V30 99 9 64 61\\nM  V30 100 9 72 61\\nM  V30 101 9 70 61\\nM  V30 102 9 78 61\\nM  V30 103 9 8 91\\nM  V30 104 9 38 91\\nM  V30 105 9 46 92\\nM  V30 106 9 68 92\\nM  V30 107 9 76 93\\nM  V30 108 9 16 93\\nM  V30 END BOND\\nM  V30 END CTAB\\nM  END\\n\");\nviewer_16155585268009028.setStyle({\"stick\": {\"colorscheme\": \"cyanCarbon\"}});\nviewer_16155585268009028.zoomTo();\n\tviewer_16155585268009028.setBackgroundColor(\"0xeeeeee\");\n\tviewer_16155585268009028.zoomTo();\nviewer_16155585268009028.render();\n});\n</script>",
      "text/html": [
       "<div id=\"3dmolviewer_16155585268009028\"  style=\"position: relative; width: 400px; height: 400px\">\n",
       "        <p id=\"3dmolwarning_16155585268009028\" style=\"background-color:#ffcccc;color:black\">You appear to be running in JupyterLab (or JavaScript failed to load for some other reason).  You need to install the 3dmol extension: <br>\n",
       "        <tt>jupyter labextension install jupyterlab_3dmol</tt></p>\n",
       "        </div>\n",
       "<script>\n",
       "\n",
       "var loadScriptAsync = function(uri){\n",
       "  return new Promise((resolve, reject) => {\n",
       "    var tag = document.createElement('script');\n",
       "    tag.src = uri;\n",
       "    tag.async = true;\n",
       "    tag.onload = () => {\n",
       "      resolve();\n",
       "    };\n",
       "  var firstScriptTag = document.getElementsByTagName('script')[0];\n",
       "  firstScriptTag.parentNode.insertBefore(tag, firstScriptTag);\n",
       "});\n",
       "};\n",
       "\n",
       "if(typeof $3Dmolpromise === 'undefined') {\n",
       "$3Dmolpromise = null;\n",
       "  $3Dmolpromise = loadScriptAsync('https://3dmol.org/build/3Dmol.js');\n",
       "}\n",
       "\n",
       "var viewer_16155585268009028 = null;\n",
       "var warn = document.getElementById(\"3dmolwarning_16155585268009028\");\n",
       "if(warn) {\n",
       "    warn.parentNode.removeChild(warn);\n",
       "}\n",
       "$3Dmolpromise.then(function() {\n",
       "viewer_16155585268009028 = $3Dmol.createViewer($(\"#3dmolviewer_16155585268009028\"),{backgroundColor:\"white\"});\n",
       "viewer_16155585268009028.addModel(\"\\n     RDKit          3D\\n\\n  0  0  0  0  0  0  0  0  0  0999 V3000\\nM  V30 BEGIN CTAB\\nM  V30 COUNTS 93 108 0 0 0\\nM  V30 BEGIN ATOM\\nM  V30 1 Cu -0.24908 0.342253 0.0825193 0 CHG=2 VAL=4\\nM  V30 2 C -0.436842 3.55348 -0.149591 0\\nM  V30 3 C -0.318007 2.55691 -1.36419 0\\nM  V30 4 N 0.280726 1.34744 -0.88247 0\\nM  V30 5 C 1.57641 1.56098 -0.726149 0\\nM  V30 6 C 2.20804 0.617725 -0.127737 0\\nM  V30 7 C 3.62744 0.47354 -0.0933993 0\\nM  V30 8 N 3.8694 -0.790605 -1.35387e-17 0 VAL=2\\nM  V30 9 C 2.57346 -1.38088 0.0550371 0\\nM  V30 10 N 1.37652 -0.405053 0.112778 0\\nM  V30 11 C -1.46391 3.0581 0.789372 0\\nM  V30 12 N -1.01891 1.52362 0.973294 0\\nM  V30 13 C -2.0947 1.10955 1.28877 0\\nM  V30 14 C -2.48408 0.305343 0.409527 0\\nM  V30 15 C -3.78283 0.371216 0.138933 0\\nM  V30 16 N -4.1636 -0.790605 5.03381e-16 0 VAL=2\\nM  V30 17 C -2.95154 -1.49875 0.0570197 0\\nM  V30 18 N -1.66544 -0.662378 0.0702427 0\\nM  V30 19 H -0.797542 4.49282 -0.404005 0\\nM  V30 20 H 0.594728 3.69483 0.291001 0\\nM  V30 21 H -1.22704 2.32288 -1.86655 0\\nM  V30 22 H 0.373384 2.97772 -2.1596 0\\nM  V30 23 H 2.19752 2.37332 -1.08917 0\\nM  V30 24 H 4.45902 1.2112 -0.268267 0\\nM  V30 25 H 2.69797 -2.48572 -0.125457 0\\nM  V30 26 H -2.03031 3.73265 1.63284 0\\nM  V30 27 H -2.62686 3.63855 0.929909 0\\nM  V30 28 H -2.91258 1.6321 1.82461 0\\nM  V30 29 H -4.41112 1.26743 0.280288 0\\nM  V30 30 H -3.17058 -2.55147 0.32046 0\\nM  V30 31 Cu 4.41233 -7.92746 -0.0825193 0 CHG=2 VAL=4\\nM  V30 32 C 7.09945 -9.69568 0.149591 0\\nM  V30 33 C 6.29581 -9.09448 1.36419 0\\nM  V30 34 N 5.54775 -7.97123 0.88247 0\\nM  V30 35 C 6.38052 -6.95591 0.726149 0\\nM  V30 36 C 5.87946 -5.93727 0.127737 0\\nM  V30 37 C 6.46429 -4.63594 0.0933993 0\\nM  V30 38 N 5.49049 -3.79432 4.72853e-16 0 VAL=2\\nM  V30 39 C 4.33132 -4.62151 -0.0550371 0\\nM  V30 40 N 4.57794 -6.146 -0.112778 0\\nM  V30 41 C 6.15691 -10.3375 -0.789372 0\\nM  V30 42 N 5.05051 -9.18484 -0.973294 0\\nM  V30 43 C 4.15402 -9.90947 -1.28877 0\\nM  V30 44 C 3.26287 -9.84457 -0.409527 0\\nM  V30 45 C 2.67054 -11.0023 -0.138933 0\\nM  V30 46 N 1.47399 -10.7511 -5.13416e-16 0 VAL=2\\nM  V30 47 C 1.46674 -9.34736 -0.0570197 0\\nM  V30 48 N 2.83411 -8.65176 -0.0702427 0\\nM  V30 49 H 7.73259 -10.4777 0.404005 0\\nM  V30 50 H 7.73765 -8.873 -0.291001 0\\nM  V30 51 H 5.63862 -9.76471 1.86655 0\\nM  V30 52 H 7.00595 -8.70613 2.1596 0\\nM  V30 53 H 7.39459 -6.82418 1.08917 0\\nM  V30 54 H 7.51891 -4.2846 0.268267 0\\nM  V30 55 H 3.43676 -3.96125 0.125457 0\\nM  V30 56 H 6.45788 -11.1653 -1.63284 0\\nM  V30 57 H 6.07811 -11.6348 -0.929909 0\\nM  V30 58 H 4.19762 -10.879 -1.82461 0\\nM  V30 59 H 3.13254 -11.9945 -0.280288 0\\nM  V30 60 H 0.445545 -9.01069 -0.32046 0\\nM  V30 61 Cu -5.16999 -7.67947 -0.0825193 0 CHG=2 VAL=4\\nM  V30 62 C -8.04487 -9.12247 0.149591 0\\nM  V30 63 C -7.1224 -8.7271 1.36419 0\\nM  V30 64 N -5.7756 -8.64089 0.88247 0\\nM  V30 65 C -5.31269 -9.86975 0.726149 0\\nM  V30 66 C -4.17999 -9.94513 0.127737 0\\nM  V30 67 C -3.34542 -11.1023 0.0933993 0\\nM  V30 68 N -2.12966 -10.6797 -2.28374e-16 0 VAL=2\\nM  V30 69 C -2.26644 -9.26229 -0.0550371 0\\nM  V30 70 N -3.71 -8.71362 -0.112778 0\\nM  V30 71 C -8.12939 -7.98532 -0.789372 0\\nM  V30 72 N -6.578 -7.60346 -0.973294 0\\nM  V30 73 C -6.7573 -6.46476 -1.28877 0\\nM  V30 74 C -6.25552 -5.72545 -0.409527 0\\nM  V30 75 C -6.96195 -4.63363 -0.138933 0\\nM  V30 76 N -6.14616 -3.72296 -1.42404e-16 0 VAL=2\\nM  V30 77 C -4.92686 -4.41856 -0.0570197 0\\nM  V30 78 N -5.00813 -5.95054 -0.0702427 0\\nM  V30 79 H -9.03871 -9.27977 0.404005 0\\nM  V30 80 H -7.6515 -10.0865 -0.291001 0\\nM  V30 81 H -7.37424 -7.82284 1.86655 0\\nM  V30 82 H -7.14114 -9.53627 2.1596 0\\nM  V30 83 H -5.70565 -10.8138 1.08917 0\\nM  V30 84 H -3.56846 -12.1913 0.268267 0\\nM  V30 85 H -1.24736 -8.8177 0.125457 0\\nM  V30 86 H -8.99677 -7.83207 -1.63284 0\\nM  V30 87 H -9.21355 -7.26839 -0.929909 0\\nM  V30 88 H -7.61878 -6.01773 -1.82461 0\\nM  V30 89 H -8.05223 -4.53762 -0.280288 0\\nM  V30 90 H -4.1247 -3.70252 -0.32046 0\\nM  V30 91 Cu 4.90794 -2.16182 1.56228e-16 0 CHG=2 VAL=2\\nM  V30 92 Cu -0.258532 -10.9268 -1.32669e-16 0 CHG=2 VAL=2\\nM  V30 93 Cu -5.39792 -2.06021 2.5628e-16 0 CHG=2 VAL=2\\nM  V30 END ATOM\\nM  V30 BEGIN BOND\\nM  V30 1 1 2 3\\nM  V30 2 1 3 4\\nM  V30 3 2 4 5\\nM  V30 4 1 5 6\\nM  V30 5 2 6 7\\nM  V30 6 1 7 8\\nM  V30 7 1 8 9\\nM  V30 8 2 9 10\\nM  V30 9 1 2 11\\nM  V30 10 1 11 12\\nM  V30 11 2 12 13\\nM  V30 12 1 13 14\\nM  V30 13 2 14 15\\nM  V30 14 1 15 16\\nM  V30 15 1 16 17\\nM  V30 16 2 17 18\\nM  V30 17 1 10 6\\nM  V30 18 1 18 14\\nM  V30 19 1 2 19\\nM  V30 20 1 2 20\\nM  V30 21 1 3 21\\nM  V30 22 1 3 22\\nM  V30 23 1 5 23\\nM  V30 24 1 7 24\\nM  V30 25 1 9 25\\nM  V30 26 1 11 26\\nM  V30 27 1 11 27\\nM  V30 28 1 13 28\\nM  V30 29 1 15 29\\nM  V30 30 1 17 30\\nM  V30 31 9 4 1\\nM  V30 32 9 12 1\\nM  V30 33 9 10 1\\nM  V30 34 9 18 1\\nM  V30 35 1 32 33\\nM  V30 36 1 33 34\\nM  V30 37 2 34 35\\nM  V30 38 1 35 36\\nM  V30 39 2 36 37\\nM  V30 40 1 37 38\\nM  V30 41 1 38 39\\nM  V30 42 2 39 40\\nM  V30 43 1 32 41\\nM  V30 44 1 41 42\\nM  V30 45 2 42 43\\nM  V30 46 1 43 44\\nM  V30 47 2 44 45\\nM  V30 48 1 45 46\\nM  V30 49 1 46 47\\nM  V30 50 2 47 48\\nM  V30 51 1 40 36\\nM  V30 52 1 48 44\\nM  V30 53 1 32 49\\nM  V30 54 1 32 50\\nM  V30 55 1 33 51\\nM  V30 56 1 33 52\\nM  V30 57 1 35 53\\nM  V30 58 1 37 54\\nM  V30 59 1 39 55\\nM  V30 60 1 41 56\\nM  V30 61 1 41 57\\nM  V30 62 1 43 58\\nM  V30 63 1 45 59\\nM  V30 64 1 47 60\\nM  V30 65 9 34 31\\nM  V30 66 9 42 31\\nM  V30 67 9 40 31\\nM  V30 68 9 48 31\\nM  V30 69 1 62 63\\nM  V30 70 1 63 64\\nM  V30 71 2 64 65\\nM  V30 72 1 65 66\\nM  V30 73 2 66 67\\nM  V30 74 1 67 68\\nM  V30 75 1 68 69\\nM  V30 76 2 69 70\\nM  V30 77 1 62 71\\nM  V30 78 1 71 72\\nM  V30 79 2 72 73\\nM  V30 80 1 73 74\\nM  V30 81 2 74 75\\nM  V30 82 1 75 76\\nM  V30 83 1 76 77\\nM  V30 84 2 77 78\\nM  V30 85 1 70 66\\nM  V30 86 1 78 74\\nM  V30 87 1 62 79\\nM  V30 88 1 62 80\\nM  V30 89 1 63 81\\nM  V30 90 1 63 82\\nM  V30 91 1 65 83\\nM  V30 92 1 67 84\\nM  V30 93 1 69 85\\nM  V30 94 1 71 86\\nM  V30 95 1 71 87\\nM  V30 96 1 73 88\\nM  V30 97 1 75 89\\nM  V30 98 1 77 90\\nM  V30 99 9 64 61\\nM  V30 100 9 72 61\\nM  V30 101 9 70 61\\nM  V30 102 9 78 61\\nM  V30 103 9 8 91\\nM  V30 104 9 38 91\\nM  V30 105 9 46 92\\nM  V30 106 9 68 92\\nM  V30 107 9 76 93\\nM  V30 108 9 16 93\\nM  V30 END BOND\\nM  V30 END CTAB\\nM  END\\n\");\n",
       "viewer_16155585268009028.setStyle({\"stick\": {\"colorscheme\": \"cyanCarbon\"}});\n",
       "viewer_16155585268009028.zoomTo();\n",
       "\tviewer_16155585268009028.setBackgroundColor(\"0xeeeeee\");\n",
       "\tviewer_16155585268009028.zoomTo();\n",
       "viewer_16155585268009028.render();\n",
       "});\n",
       "</script>"
      ]
     },
     "metadata": {},
     "output_type": "display_data"
    }
   ],
   "source": [
    "topology_graph = stk.cage.M3L3Triangle(\n",
    "    corners=corner_mo,\n",
    "    linkers=cu_atom_orange,\n",
    "    # Ensure that bonds between the GenericFunctionalGroups\n",
    "    # of the ligand and the SingleAtom functional groups\n",
    "    # of the metal are dative.\n",
    "    reaction_factory=stk.DativeReactionFactory(\n",
    "        stk.GenericReactionFactory(\n",
    "            bond_orders={\n",
    "                frozenset({\n",
    "                    stk.GenericFunctionalGroup,\n",
    "                    stk.SingleAtom\n",
    "                }): 9\n",
    "            }\n",
    "        )\n",
    "    ),\n",
    "    optimizer=stk.MCHammer(),\n",
    ")\n",
    "triangle = stk.ConstructedMolecule(topology_graph)\n",
    "print(triangle)\n",
    "show_stk_mol(triangle)"
   ]
  },
  {
   "cell_type": "markdown",
   "metadata": {},
   "source": [
    "# Coll examples"
   ]
  },
  {
   "cell_type": "code",
   "execution_count": null,
   "metadata": {},
   "outputs": [],
   "source": [
    "stk.Cage"
   ]
  },
  {
   "cell_type": "code",
   "execution_count": 97,
   "metadata": {},
   "outputs": [
    {
     "data": {
      "application/3dmoljs_load.v0": "<div id=\"3dmolviewer_1615558925648729\"  style=\"position: relative; width: 400px; height: 400px\">\n        <p id=\"3dmolwarning_1615558925648729\" style=\"background-color:#ffcccc;color:black\">You appear to be running in JupyterLab (or JavaScript failed to load for some other reason).  You need to install the 3dmol extension: <br>\n        <tt>jupyter labextension install jupyterlab_3dmol</tt></p>\n        </div>\n<script>\n\nvar loadScriptAsync = function(uri){\n  return new Promise((resolve, reject) => {\n    var tag = document.createElement('script');\n    tag.src = uri;\n    tag.async = true;\n    tag.onload = () => {\n      resolve();\n    };\n  var firstScriptTag = document.getElementsByTagName('script')[0];\n  firstScriptTag.parentNode.insertBefore(tag, firstScriptTag);\n});\n};\n\nif(typeof $3Dmolpromise === 'undefined') {\n$3Dmolpromise = null;\n  $3Dmolpromise = loadScriptAsync('https://3dmol.org/build/3Dmol.js');\n}\n\nvar viewer_1615558925648729 = null;\nvar warn = document.getElementById(\"3dmolwarning_1615558925648729\");\nif(warn) {\n    warn.parentNode.removeChild(warn);\n}\n$3Dmolpromise.then(function() {\nviewer_1615558925648729 = $3Dmol.createViewer($(\"#3dmolviewer_1615558925648729\"),{backgroundColor:\"white\"});\nviewer_1615558925648729.addModel(\"\\n     RDKit          3D\\n\\n128130  0  0  0  0  0  0  0  0999 V2000\\n   -1.4485   -0.6731    7.0506 C   0  0  0  0  0  0  0  0  0  0  0  0\\n   -0.2327    0.0469    7.5117 C   0  0  0  0  0  0  0  0  0  0  0  0\\n    0.9938   -0.6853    7.0506 C   0  0  0  0  0  0  0  0  0  0  0  0\\n   -0.2506    1.4408    7.0506 C   0  0  0  0  0  0  0  0  0  0  0  0\\n   -1.6457   -0.8385    6.0052 H   0  0  0  0  0  0  0  0  0  0  0  0\\n   -0.2123    0.0603    8.6224 H   0  0  0  0  0  0  0  0  0  0  0  0\\n    1.1428   -0.8233    5.9743 H   0  0  0  0  0  0  0  0  0  0  0  0\\n    0.5345    2.1546    7.2678 H   0  0  0  0  0  0  0  0  0  0  0  0\\n   -6.5330   -3.6171   -0.7584 C   0  0  0  0  0  0  0  0  0  0  0  0\\n   -6.4938   -3.6125   -2.2443 C   0  0  0  0  0  0  0  0  0  0  0  0\\n   -6.5400   -2.1988   -2.7469 C   0  0  0  0  0  0  0  0  0  0  0  0\\n   -5.3125   -4.3347   -2.7331 C   0  0  0  0  0  0  0  0  0  0  0  0\\n   -5.7749   -3.1278   -0.1710 H   0  0  0  0  0  0  0  0  0  0  0  0\\n   -7.3930   -4.1332   -2.6375 H   0  0  0  0  0  0  0  0  0  0  0  0\\n   -5.7409   -1.5135   -2.4447 H   0  0  0  0  0  0  0  0  0  0  0  0\\n   -5.0778   -4.4597   -3.7830 H   0  0  0  0  0  0  0  0  0  0  0  0\\n    5.9502   -3.4767   -0.9256 C   0  0  0  0  0  0  0  0  0  0  0  0\\n    5.9266   -3.4451   -2.4115 C   0  0  0  0  0  0  0  0  0  0  0  0\\n    4.7255   -4.1920   -2.9140 C   0  0  0  0  0  0  0  0  0  0  0  0\\n    5.9615   -2.0609   -2.9002 C   0  0  0  0  0  0  0  0  0  0  0  0\\n    5.1475   -3.0649   -0.3381 H   0  0  0  0  0  0  0  0  0  0  0  0\\n    6.8272   -3.9634   -2.8046 H   0  0  0  0  0  0  0  0  0  0  0  0\\n    3.7324   -3.8426   -2.6118 H   0  0  0  0  0  0  0  0  0  0  0  0\\n    5.9523   -1.7952   -3.9501 H   0  0  0  0  0  0  0  0  0  0  0  0\\n   -0.1351    7.1873   -0.7594 C   0  0  0  0  0  0  0  0  0  0  0  0\\n   -0.1507    7.1511   -2.2453 C   0  0  0  0  0  0  0  0  0  0  0  0\\n    1.0966    6.4843   -2.7478 C   0  0  0  0  0  0  0  0  0  0  0  0\\n   -1.3668    6.4892   -2.7341 C   0  0  0  0  0  0  0  0  0  0  0  0\\n   -0.0904    6.2862   -0.1719 H   0  0  0  0  0  0  0  0  0  0  0  0\\n   -0.1521    8.1902   -2.6385 H   0  0  0  0  0  0  0  0  0  0  0  0\\n    1.2906    5.4496   -2.4456 H   0  0  0  0  0  0  0  0  0  0  0  0\\n   -1.5924    6.3484   -3.7839 H   0  0  0  0  0  0  0  0  0  0  0  0\\n   -2.8930   -1.5416    6.9788 N   0  0  0  0  0  0  0  0  0  0  0  0\\n   -4.0606   -2.1296    6.4166 C   0  0  0  0  0  0  0  0  0  0  0  0\\n   -4.0690   -2.2228    4.9981 N   0  0  0  0  0  0  0  0  0  0  0  0\\n   -5.2661   -2.8233    4.4601 C   0  0  0  0  0  0  0  0  0  0  0  0\\n   -5.2013   -2.8907    2.9426 C   0  0  0  0  0  0  0  0  0  0  0  0\\n   -6.4951   -3.5324    2.4721 C   0  0  0  0  0  0  0  0  0  0  0  0\\n   -6.5299   -3.6414    1.0398 N   0  0  0  0  0  0  0  0  0  0  0  0\\n   -4.9914   -1.6319    6.7434 H   0  0  0  0  0  0  0  0  0  0  0  0\\n   -4.1351   -3.1813    6.8223 H   0  0  0  0  0  0  0  0  0  0  0  0\\n   -3.2069   -2.5329    4.5445 H   0  0  0  0  0  0  0  0  0  0  0  0\\n   -6.1842   -2.2767    4.7564 H   0  0  0  0  0  0  0  0  0  0  0  0\\n   -5.3381   -3.8440    4.8874 H   0  0  0  0  0  0  0  0  0  0  0  0\\n   -5.0586   -1.9075    2.4961 H   0  0  0  0  0  0  0  0  0  0  0  0\\n   -4.3455   -3.5312    2.6555 H   0  0  0  0  0  0  0  0  0  0  0  0\\n   -7.3157   -2.8621    2.8191 H   0  0  0  0  0  0  0  0  0  0  0  0\\n   -6.5450   -4.5241    2.9625 H   0  0  0  0  0  0  0  0  0  0  0  0\\n    2.4899   -1.4662    6.7747 N   0  0  0  0  0  0  0  0  0  0  0  0\\n    3.5828   -2.1834    6.2125 C   0  0  0  0  0  0  0  0  0  0  0  0\\n    3.6677   -2.1440    4.7940 N   0  0  0  0  0  0  0  0  0  0  0  0\\n    4.7863   -2.8806    4.2560 C   0  0  0  0  0  0  0  0  0  0  0  0\\n    4.8123   -2.7906    2.7385 C   0  0  0  0  0  0  0  0  0  0  0  0\\n    6.0149   -3.5904    2.2680 C   0  0  0  0  0  0  0  0  0  0  0  0\\n    6.1267   -3.5659    0.8357 N   0  0  0  0  0  0  0  0  0  0  0  0\\n    3.6170   -3.2384    6.5392 H   0  0  0  0  0  0  0  0  0  0  0  0\\n    4.5308   -1.7223    6.6183 H   0  0  0  0  0  0  0  0  0  0  0  0\\n    3.5054   -1.2423    4.3405 H   0  0  0  0  0  0  0  0  0  0  0  0\\n    4.7718   -3.9490    4.5522 H   0  0  0  0  0  0  0  0  0  0  0  0\\n    5.7063   -2.4328    4.6833 H   0  0  0  0  0  0  0  0  0  0  0  0\\n    3.8894   -3.1585    2.2919 H   0  0  0  0  0  0  0  0  0  0  0  0\\n    4.9393   -1.7293    2.4515 H   0  0  0  0  0  0  0  0  0  0  0  0\\n    5.8445   -4.6362    2.6149 H   0  0  0  0  0  0  0  0  0  0  0  0\\n    6.8987   -3.1379    2.7585 H   0  0  0  0  0  0  0  0  0  0  0  0\\n   -0.1193    3.2872    6.8515 N   0  0  0  0  0  0  0  0  0  0  0  0\\n   -0.0455    4.5924    6.2894 C   0  0  0  0  0  0  0  0  0  0  0  0\\n   -0.1212    4.6461    4.8708 N   0  0  0  0  0  0  0  0  0  0  0  0\\n   -0.0435    5.9832    4.3329 C   0  0  0  0  0  0  0  0  0  0  0  0\\n   -0.1334    5.9607    2.8154 C   0  0  0  0  0  0  0  0  0  0  0  0\\n   -0.0431    7.4021    2.3449 C   0  0  0  0  0  0  0  0  0  0  0  0\\n   -0.1193    7.4866    0.9126 N   0  0  0  0  0  0  0  0  0  0  0  0\\n    0.8503    5.1503    6.6167 H   0  0  0  0  0  0  0  0  0  0  0  0\\n   -0.9197    5.1820    6.6946 H   0  0  0  0  0  0  0  0  0  0  0  0\\n   -0.8201    4.0540    4.4169 H   0  0  0  0  0  0  0  0  0  0  0  0\\n    0.8883    6.5058    4.6298 H   0  0  0  0  0  0  0  0  0  0  0  0\\n   -0.8921    6.5552    4.7597 H   0  0  0  0  0  0  0  0  0  0  0  0\\n    0.6475    5.3461    2.3693 H   0  0  0  0  0  0  0  0  0  0  0  0\\n   -1.1154    5.5390    2.5277 H   0  0  0  0  0  0  0  0  0  0  0  0\\n    0.9472    7.7784    2.6925 H   0  0  0  0  0  0  0  0  0  0  0  0\\n   -0.8778    7.9405    2.8348 H   0  0  0  0  0  0  0  0  0  0  0  0\\n   -3.8528   -5.0670   -3.5954 N   0  0  0  0  0  0  0  0  0  0  0  0\\n   -2.6403   -5.6296   -4.0834 C   0  0  0  0  0  0  0  0  0  0  0  0\\n   -1.4509   -5.0403   -3.5742 N   0  0  0  0  0  0  0  0  0  0  0  0\\n   -0.2398   -5.6334   -4.0885 C   0  0  0  0  0  0  0  0  0  0  0  0\\n    0.9863   -4.9548   -3.4988 C   0  0  0  0  0  0  0  0  0  0  0  0\\n    2.2026   -5.6420   -4.0951 C   0  0  0  0  0  0  0  0  0  0  0  0\\n    3.4209   -5.0670   -3.5954 N   0  0  0  0  0  0  0  0  0  0  0  0\\n   -2.5854   -5.6389   -5.1870 H   0  0  0  0  0  0  0  0  0  0  0  0\\n   -2.6307   -6.7184   -3.7825 H   0  0  0  0  0  0  0  0  0  0  0  0\\n   -1.4221   -4.8349   -2.5732 H   0  0  0  0  0  0  0  0  0  0  0  0\\n   -0.1804   -5.5839   -5.1947 H   0  0  0  0  0  0  0  0  0  0  0  0\\n   -0.2579   -6.7058   -3.8074 H   0  0  0  0  0  0  0  0  0  0  0  0\\n    0.9957   -3.8839   -3.6982 H   0  0  0  0  0  0  0  0  0  0  0  0\\n    0.9777   -5.1048   -2.4023 H   0  0  0  0  0  0  0  0  0  0  0  0\\n    2.1361   -5.4851   -5.1970 H   0  0  0  0  0  0  0  0  0  0  0  0\\n    2.1134   -6.7136   -3.8305 H   0  0  0  0  0  0  0  0  0  0  0  0\\n   -6.3824   -0.8623   -3.5456 N   0  0  0  0  0  0  0  0  0  0  0  0\\n   -6.3378    0.5120   -3.9118 C   0  0  0  0  0  0  0  0  0  0  0  0\\n   -5.1565    1.2033   -3.5276 N   0  0  0  0  0  0  0  0  0  0  0  0\\n   -5.1428    2.5940   -3.9136 C   0  0  0  0  0  0  0  0  0  0  0  0\\n   -3.8515    3.2642   -3.4723 C   0  0  0  0  0  0  0  0  0  0  0  0\\n   -3.9294    4.7137   -3.9195 C   0  0  0  0  0  0  0  0  0  0  0  0\\n   -2.7455    5.4369   -3.5456 N   0  0  0  0  0  0  0  0  0  0  0  0\\n   -7.2133    1.0809   -3.5502 H   0  0  0  0  0  0  0  0  0  0  0  0\\n   -6.4039    0.5613   -5.0384 H   0  0  0  0  0  0  0  0  0  0  0  0\\n   -4.2657    0.7223   -3.6700 H   0  0  0  0  0  0  0  0  0  0  0  0\\n   -6.0012    3.1581   -3.4958 H   0  0  0  0  0  0  0  0  0  0  0  0\\n   -5.2342    2.6257   -5.0182 H   0  0  0  0  0  0  0  0  0  0  0  0\\n   -3.6982    3.1866   -2.3966 H   0  0  0  0  0  0  0  0  0  0  0  0\\n   -3.0048    2.7654   -3.9816 H   0  0  0  0  0  0  0  0  0  0  0  0\\n   -4.8161    5.1487   -3.4020 H   0  0  0  0  0  0  0  0  0  0  0  0\\n   -4.0696    4.6916   -5.0178 H   0  0  0  0  0  0  0  0  0  0  0  0\\n    6.0127   -0.4193   -3.4491 N   0  0  0  0  0  0  0  0  0  0  0  0\\n    5.8937    0.9121   -3.9372 C   0  0  0  0  0  0  0  0  0  0  0  0\\n    4.7887    1.6474   -3.4279 N   0  0  0  0  0  0  0  0  0  0  0  0\\n    4.6967    2.9929   -3.9423 C   0  0  0  0  0  0  0  0  0  0  0  0\\n    3.4960    3.7154   -3.3525 C   0  0  0  0  0  0  0  0  0  0  0  0\\n    3.4830    5.1123   -3.9488 C   0  0  0  0  0  0  0  0  0  0  0  0\\n    2.3759    5.8799   -3.4491 N   0  0  0  0  0  0  0  0  0  0  0  0\\n    5.8743    0.9643   -5.0407 H   0  0  0  0  0  0  0  0  0  0  0  0\\n    6.8318    1.4648   -3.6362 H   0  0  0  0  0  0  0  0  0  0  0  0\\n    4.5964    1.5697   -2.4269 H   0  0  0  0  0  0  0  0  0  0  0  0\\n    4.6242    3.0195   -5.0484 H   0  0  0  0  0  0  0  0  0  0  0  0\\n    5.6346    3.5133   -3.6611 H   0  0  0  0  0  0  0  0  0  0  0  0\\n    2.5639    3.1881   -3.5519 H   0  0  0  0  0  0  0  0  0  0  0  0\\n    3.6302    3.7830   -2.2560 H   0  0  0  0  0  0  0  0  0  0  0  0\\n    3.3804    4.9762   -5.0507 H   0  0  0  0  0  0  0  0  0  0  0  0\\n    4.4556    5.5709   -3.6842 H   0  0  0  0  0  0  0  0  0  0  0  0\\n  1  2  1  0\\n  2  3  1  0\\n  2  4  1  0\\n  1  5  1  0\\n  2  6  1  0\\n  3  7  1  0\\n  4  8  1  0\\n  9 10  1  0\\n 10 11  1  0\\n 10 12  1  0\\n  9 13  1  0\\n 10 14  1  0\\n 11 15  1  0\\n 12 16  1  0\\n 17 18  1  0\\n 18 19  1  0\\n 18 20  1  0\\n 17 21  1  0\\n 18 22  1  0\\n 19 23  1  0\\n 20 24  1  0\\n 25 26  1  0\\n 26 27  1  0\\n 26 28  1  0\\n 25 29  1  0\\n 26 30  1  0\\n 27 31  1  0\\n 28 32  1  0\\n 33 34  1  0\\n 34 35  1  0\\n 35 36  1  0\\n 36 37  1  0\\n 37 38  1  0\\n 38 39  1  0\\n 34 40  1  0\\n 34 41  1  0\\n 35 42  1  0\\n 36 43  1  0\\n 36 44  1  0\\n 37 45  1  0\\n 37 46  1  0\\n 38 47  1  0\\n 38 48  1  0\\n 49 50  1  0\\n 50 51  1  0\\n 51 52  1  0\\n 52 53  1  0\\n 53 54  1  0\\n 54 55  1  0\\n 50 56  1  0\\n 50 57  1  0\\n 51 58  1  0\\n 52 59  1  0\\n 52 60  1  0\\n 53 61  1  0\\n 53 62  1  0\\n 54 63  1  0\\n 54 64  1  0\\n 65 66  1  0\\n 66 67  1  0\\n 67 68  1  0\\n 68 69  1  0\\n 69 70  1  0\\n 70 71  1  0\\n 66 72  1  0\\n 66 73  1  0\\n 67 74  1  0\\n 68 75  1  0\\n 68 76  1  0\\n 69 77  1  0\\n 69 78  1  0\\n 70 79  1  0\\n 70 80  1  0\\n 81 82  1  0\\n 82 83  1  0\\n 83 84  1  0\\n 84 85  1  0\\n 85 86  1  0\\n 86 87  1  0\\n 82 88  1  0\\n 82 89  1  0\\n 83 90  1  0\\n 84 91  1  0\\n 84 92  1  0\\n 85 93  1  0\\n 85 94  1  0\\n 86 95  1  0\\n 86 96  1  0\\n 97 98  1  0\\n 98 99  1  0\\n 99100  1  0\\n100101  1  0\\n101102  1  0\\n102103  1  0\\n 98104  1  0\\n 98105  1  0\\n 99106  1  0\\n100107  1  0\\n100108  1  0\\n101109  1  0\\n101110  1  0\\n102111  1  0\\n102112  1  0\\n113114  1  0\\n114115  1  0\\n115116  1  0\\n116117  1  0\\n117118  1  0\\n118119  1  0\\n114120  1  0\\n114121  1  0\\n115122  1  0\\n116123  1  0\\n116124  1  0\\n117125  1  0\\n117126  1  0\\n118127  1  0\\n118128  1  0\\n  1 33  2  0\\n  9 39  2  0\\n  3 49  2  0\\n 17 55  2  0\\n  4 65  2  0\\n 25 71  2  0\\n 12 81  2  0\\n 19 87  2  0\\n 11 97  2  0\\n 28103  2  0\\n 20113  2  0\\n 27119  2  0\\nM  END\\n\");\nviewer_1615558925648729.setStyle({\"stick\": {\"colorscheme\": \"cyanCarbon\"}});\nviewer_1615558925648729.zoomTo();\n\tviewer_1615558925648729.setBackgroundColor(\"0xeeeeee\");\n\tviewer_1615558925648729.zoomTo();\nviewer_1615558925648729.render();\n});\n</script>",
      "text/html": [
       "<div id=\"3dmolviewer_1615558925648729\"  style=\"position: relative; width: 400px; height: 400px\">\n",
       "        <p id=\"3dmolwarning_1615558925648729\" style=\"background-color:#ffcccc;color:black\">You appear to be running in JupyterLab (or JavaScript failed to load for some other reason).  You need to install the 3dmol extension: <br>\n",
       "        <tt>jupyter labextension install jupyterlab_3dmol</tt></p>\n",
       "        </div>\n",
       "<script>\n",
       "\n",
       "var loadScriptAsync = function(uri){\n",
       "  return new Promise((resolve, reject) => {\n",
       "    var tag = document.createElement('script');\n",
       "    tag.src = uri;\n",
       "    tag.async = true;\n",
       "    tag.onload = () => {\n",
       "      resolve();\n",
       "    };\n",
       "  var firstScriptTag = document.getElementsByTagName('script')[0];\n",
       "  firstScriptTag.parentNode.insertBefore(tag, firstScriptTag);\n",
       "});\n",
       "};\n",
       "\n",
       "if(typeof $3Dmolpromise === 'undefined') {\n",
       "$3Dmolpromise = null;\n",
       "  $3Dmolpromise = loadScriptAsync('https://3dmol.org/build/3Dmol.js');\n",
       "}\n",
       "\n",
       "var viewer_1615558925648729 = null;\n",
       "var warn = document.getElementById(\"3dmolwarning_1615558925648729\");\n",
       "if(warn) {\n",
       "    warn.parentNode.removeChild(warn);\n",
       "}\n",
       "$3Dmolpromise.then(function() {\n",
       "viewer_1615558925648729 = $3Dmol.createViewer($(\"#3dmolviewer_1615558925648729\"),{backgroundColor:\"white\"});\n",
       "viewer_1615558925648729.addModel(\"\\n     RDKit          3D\\n\\n128130  0  0  0  0  0  0  0  0999 V2000\\n   -1.4485   -0.6731    7.0506 C   0  0  0  0  0  0  0  0  0  0  0  0\\n   -0.2327    0.0469    7.5117 C   0  0  0  0  0  0  0  0  0  0  0  0\\n    0.9938   -0.6853    7.0506 C   0  0  0  0  0  0  0  0  0  0  0  0\\n   -0.2506    1.4408    7.0506 C   0  0  0  0  0  0  0  0  0  0  0  0\\n   -1.6457   -0.8385    6.0052 H   0  0  0  0  0  0  0  0  0  0  0  0\\n   -0.2123    0.0603    8.6224 H   0  0  0  0  0  0  0  0  0  0  0  0\\n    1.1428   -0.8233    5.9743 H   0  0  0  0  0  0  0  0  0  0  0  0\\n    0.5345    2.1546    7.2678 H   0  0  0  0  0  0  0  0  0  0  0  0\\n   -6.5330   -3.6171   -0.7584 C   0  0  0  0  0  0  0  0  0  0  0  0\\n   -6.4938   -3.6125   -2.2443 C   0  0  0  0  0  0  0  0  0  0  0  0\\n   -6.5400   -2.1988   -2.7469 C   0  0  0  0  0  0  0  0  0  0  0  0\\n   -5.3125   -4.3347   -2.7331 C   0  0  0  0  0  0  0  0  0  0  0  0\\n   -5.7749   -3.1278   -0.1710 H   0  0  0  0  0  0  0  0  0  0  0  0\\n   -7.3930   -4.1332   -2.6375 H   0  0  0  0  0  0  0  0  0  0  0  0\\n   -5.7409   -1.5135   -2.4447 H   0  0  0  0  0  0  0  0  0  0  0  0\\n   -5.0778   -4.4597   -3.7830 H   0  0  0  0  0  0  0  0  0  0  0  0\\n    5.9502   -3.4767   -0.9256 C   0  0  0  0  0  0  0  0  0  0  0  0\\n    5.9266   -3.4451   -2.4115 C   0  0  0  0  0  0  0  0  0  0  0  0\\n    4.7255   -4.1920   -2.9140 C   0  0  0  0  0  0  0  0  0  0  0  0\\n    5.9615   -2.0609   -2.9002 C   0  0  0  0  0  0  0  0  0  0  0  0\\n    5.1475   -3.0649   -0.3381 H   0  0  0  0  0  0  0  0  0  0  0  0\\n    6.8272   -3.9634   -2.8046 H   0  0  0  0  0  0  0  0  0  0  0  0\\n    3.7324   -3.8426   -2.6118 H   0  0  0  0  0  0  0  0  0  0  0  0\\n    5.9523   -1.7952   -3.9501 H   0  0  0  0  0  0  0  0  0  0  0  0\\n   -0.1351    7.1873   -0.7594 C   0  0  0  0  0  0  0  0  0  0  0  0\\n   -0.1507    7.1511   -2.2453 C   0  0  0  0  0  0  0  0  0  0  0  0\\n    1.0966    6.4843   -2.7478 C   0  0  0  0  0  0  0  0  0  0  0  0\\n   -1.3668    6.4892   -2.7341 C   0  0  0  0  0  0  0  0  0  0  0  0\\n   -0.0904    6.2862   -0.1719 H   0  0  0  0  0  0  0  0  0  0  0  0\\n   -0.1521    8.1902   -2.6385 H   0  0  0  0  0  0  0  0  0  0  0  0\\n    1.2906    5.4496   -2.4456 H   0  0  0  0  0  0  0  0  0  0  0  0\\n   -1.5924    6.3484   -3.7839 H   0  0  0  0  0  0  0  0  0  0  0  0\\n   -2.8930   -1.5416    6.9788 N   0  0  0  0  0  0  0  0  0  0  0  0\\n   -4.0606   -2.1296    6.4166 C   0  0  0  0  0  0  0  0  0  0  0  0\\n   -4.0690   -2.2228    4.9981 N   0  0  0  0  0  0  0  0  0  0  0  0\\n   -5.2661   -2.8233    4.4601 C   0  0  0  0  0  0  0  0  0  0  0  0\\n   -5.2013   -2.8907    2.9426 C   0  0  0  0  0  0  0  0  0  0  0  0\\n   -6.4951   -3.5324    2.4721 C   0  0  0  0  0  0  0  0  0  0  0  0\\n   -6.5299   -3.6414    1.0398 N   0  0  0  0  0  0  0  0  0  0  0  0\\n   -4.9914   -1.6319    6.7434 H   0  0  0  0  0  0  0  0  0  0  0  0\\n   -4.1351   -3.1813    6.8223 H   0  0  0  0  0  0  0  0  0  0  0  0\\n   -3.2069   -2.5329    4.5445 H   0  0  0  0  0  0  0  0  0  0  0  0\\n   -6.1842   -2.2767    4.7564 H   0  0  0  0  0  0  0  0  0  0  0  0\\n   -5.3381   -3.8440    4.8874 H   0  0  0  0  0  0  0  0  0  0  0  0\\n   -5.0586   -1.9075    2.4961 H   0  0  0  0  0  0  0  0  0  0  0  0\\n   -4.3455   -3.5312    2.6555 H   0  0  0  0  0  0  0  0  0  0  0  0\\n   -7.3157   -2.8621    2.8191 H   0  0  0  0  0  0  0  0  0  0  0  0\\n   -6.5450   -4.5241    2.9625 H   0  0  0  0  0  0  0  0  0  0  0  0\\n    2.4899   -1.4662    6.7747 N   0  0  0  0  0  0  0  0  0  0  0  0\\n    3.5828   -2.1834    6.2125 C   0  0  0  0  0  0  0  0  0  0  0  0\\n    3.6677   -2.1440    4.7940 N   0  0  0  0  0  0  0  0  0  0  0  0\\n    4.7863   -2.8806    4.2560 C   0  0  0  0  0  0  0  0  0  0  0  0\\n    4.8123   -2.7906    2.7385 C   0  0  0  0  0  0  0  0  0  0  0  0\\n    6.0149   -3.5904    2.2680 C   0  0  0  0  0  0  0  0  0  0  0  0\\n    6.1267   -3.5659    0.8357 N   0  0  0  0  0  0  0  0  0  0  0  0\\n    3.6170   -3.2384    6.5392 H   0  0  0  0  0  0  0  0  0  0  0  0\\n    4.5308   -1.7223    6.6183 H   0  0  0  0  0  0  0  0  0  0  0  0\\n    3.5054   -1.2423    4.3405 H   0  0  0  0  0  0  0  0  0  0  0  0\\n    4.7718   -3.9490    4.5522 H   0  0  0  0  0  0  0  0  0  0  0  0\\n    5.7063   -2.4328    4.6833 H   0  0  0  0  0  0  0  0  0  0  0  0\\n    3.8894   -3.1585    2.2919 H   0  0  0  0  0  0  0  0  0  0  0  0\\n    4.9393   -1.7293    2.4515 H   0  0  0  0  0  0  0  0  0  0  0  0\\n    5.8445   -4.6362    2.6149 H   0  0  0  0  0  0  0  0  0  0  0  0\\n    6.8987   -3.1379    2.7585 H   0  0  0  0  0  0  0  0  0  0  0  0\\n   -0.1193    3.2872    6.8515 N   0  0  0  0  0  0  0  0  0  0  0  0\\n   -0.0455    4.5924    6.2894 C   0  0  0  0  0  0  0  0  0  0  0  0\\n   -0.1212    4.6461    4.8708 N   0  0  0  0  0  0  0  0  0  0  0  0\\n   -0.0435    5.9832    4.3329 C   0  0  0  0  0  0  0  0  0  0  0  0\\n   -0.1334    5.9607    2.8154 C   0  0  0  0  0  0  0  0  0  0  0  0\\n   -0.0431    7.4021    2.3449 C   0  0  0  0  0  0  0  0  0  0  0  0\\n   -0.1193    7.4866    0.9126 N   0  0  0  0  0  0  0  0  0  0  0  0\\n    0.8503    5.1503    6.6167 H   0  0  0  0  0  0  0  0  0  0  0  0\\n   -0.9197    5.1820    6.6946 H   0  0  0  0  0  0  0  0  0  0  0  0\\n   -0.8201    4.0540    4.4169 H   0  0  0  0  0  0  0  0  0  0  0  0\\n    0.8883    6.5058    4.6298 H   0  0  0  0  0  0  0  0  0  0  0  0\\n   -0.8921    6.5552    4.7597 H   0  0  0  0  0  0  0  0  0  0  0  0\\n    0.6475    5.3461    2.3693 H   0  0  0  0  0  0  0  0  0  0  0  0\\n   -1.1154    5.5390    2.5277 H   0  0  0  0  0  0  0  0  0  0  0  0\\n    0.9472    7.7784    2.6925 H   0  0  0  0  0  0  0  0  0  0  0  0\\n   -0.8778    7.9405    2.8348 H   0  0  0  0  0  0  0  0  0  0  0  0\\n   -3.8528   -5.0670   -3.5954 N   0  0  0  0  0  0  0  0  0  0  0  0\\n   -2.6403   -5.6296   -4.0834 C   0  0  0  0  0  0  0  0  0  0  0  0\\n   -1.4509   -5.0403   -3.5742 N   0  0  0  0  0  0  0  0  0  0  0  0\\n   -0.2398   -5.6334   -4.0885 C   0  0  0  0  0  0  0  0  0  0  0  0\\n    0.9863   -4.9548   -3.4988 C   0  0  0  0  0  0  0  0  0  0  0  0\\n    2.2026   -5.6420   -4.0951 C   0  0  0  0  0  0  0  0  0  0  0  0\\n    3.4209   -5.0670   -3.5954 N   0  0  0  0  0  0  0  0  0  0  0  0\\n   -2.5854   -5.6389   -5.1870 H   0  0  0  0  0  0  0  0  0  0  0  0\\n   -2.6307   -6.7184   -3.7825 H   0  0  0  0  0  0  0  0  0  0  0  0\\n   -1.4221   -4.8349   -2.5732 H   0  0  0  0  0  0  0  0  0  0  0  0\\n   -0.1804   -5.5839   -5.1947 H   0  0  0  0  0  0  0  0  0  0  0  0\\n   -0.2579   -6.7058   -3.8074 H   0  0  0  0  0  0  0  0  0  0  0  0\\n    0.9957   -3.8839   -3.6982 H   0  0  0  0  0  0  0  0  0  0  0  0\\n    0.9777   -5.1048   -2.4023 H   0  0  0  0  0  0  0  0  0  0  0  0\\n    2.1361   -5.4851   -5.1970 H   0  0  0  0  0  0  0  0  0  0  0  0\\n    2.1134   -6.7136   -3.8305 H   0  0  0  0  0  0  0  0  0  0  0  0\\n   -6.3824   -0.8623   -3.5456 N   0  0  0  0  0  0  0  0  0  0  0  0\\n   -6.3378    0.5120   -3.9118 C   0  0  0  0  0  0  0  0  0  0  0  0\\n   -5.1565    1.2033   -3.5276 N   0  0  0  0  0  0  0  0  0  0  0  0\\n   -5.1428    2.5940   -3.9136 C   0  0  0  0  0  0  0  0  0  0  0  0\\n   -3.8515    3.2642   -3.4723 C   0  0  0  0  0  0  0  0  0  0  0  0\\n   -3.9294    4.7137   -3.9195 C   0  0  0  0  0  0  0  0  0  0  0  0\\n   -2.7455    5.4369   -3.5456 N   0  0  0  0  0  0  0  0  0  0  0  0\\n   -7.2133    1.0809   -3.5502 H   0  0  0  0  0  0  0  0  0  0  0  0\\n   -6.4039    0.5613   -5.0384 H   0  0  0  0  0  0  0  0  0  0  0  0\\n   -4.2657    0.7223   -3.6700 H   0  0  0  0  0  0  0  0  0  0  0  0\\n   -6.0012    3.1581   -3.4958 H   0  0  0  0  0  0  0  0  0  0  0  0\\n   -5.2342    2.6257   -5.0182 H   0  0  0  0  0  0  0  0  0  0  0  0\\n   -3.6982    3.1866   -2.3966 H   0  0  0  0  0  0  0  0  0  0  0  0\\n   -3.0048    2.7654   -3.9816 H   0  0  0  0  0  0  0  0  0  0  0  0\\n   -4.8161    5.1487   -3.4020 H   0  0  0  0  0  0  0  0  0  0  0  0\\n   -4.0696    4.6916   -5.0178 H   0  0  0  0  0  0  0  0  0  0  0  0\\n    6.0127   -0.4193   -3.4491 N   0  0  0  0  0  0  0  0  0  0  0  0\\n    5.8937    0.9121   -3.9372 C   0  0  0  0  0  0  0  0  0  0  0  0\\n    4.7887    1.6474   -3.4279 N   0  0  0  0  0  0  0  0  0  0  0  0\\n    4.6967    2.9929   -3.9423 C   0  0  0  0  0  0  0  0  0  0  0  0\\n    3.4960    3.7154   -3.3525 C   0  0  0  0  0  0  0  0  0  0  0  0\\n    3.4830    5.1123   -3.9488 C   0  0  0  0  0  0  0  0  0  0  0  0\\n    2.3759    5.8799   -3.4491 N   0  0  0  0  0  0  0  0  0  0  0  0\\n    5.8743    0.9643   -5.0407 H   0  0  0  0  0  0  0  0  0  0  0  0\\n    6.8318    1.4648   -3.6362 H   0  0  0  0  0  0  0  0  0  0  0  0\\n    4.5964    1.5697   -2.4269 H   0  0  0  0  0  0  0  0  0  0  0  0\\n    4.6242    3.0195   -5.0484 H   0  0  0  0  0  0  0  0  0  0  0  0\\n    5.6346    3.5133   -3.6611 H   0  0  0  0  0  0  0  0  0  0  0  0\\n    2.5639    3.1881   -3.5519 H   0  0  0  0  0  0  0  0  0  0  0  0\\n    3.6302    3.7830   -2.2560 H   0  0  0  0  0  0  0  0  0  0  0  0\\n    3.3804    4.9762   -5.0507 H   0  0  0  0  0  0  0  0  0  0  0  0\\n    4.4556    5.5709   -3.6842 H   0  0  0  0  0  0  0  0  0  0  0  0\\n  1  2  1  0\\n  2  3  1  0\\n  2  4  1  0\\n  1  5  1  0\\n  2  6  1  0\\n  3  7  1  0\\n  4  8  1  0\\n  9 10  1  0\\n 10 11  1  0\\n 10 12  1  0\\n  9 13  1  0\\n 10 14  1  0\\n 11 15  1  0\\n 12 16  1  0\\n 17 18  1  0\\n 18 19  1  0\\n 18 20  1  0\\n 17 21  1  0\\n 18 22  1  0\\n 19 23  1  0\\n 20 24  1  0\\n 25 26  1  0\\n 26 27  1  0\\n 26 28  1  0\\n 25 29  1  0\\n 26 30  1  0\\n 27 31  1  0\\n 28 32  1  0\\n 33 34  1  0\\n 34 35  1  0\\n 35 36  1  0\\n 36 37  1  0\\n 37 38  1  0\\n 38 39  1  0\\n 34 40  1  0\\n 34 41  1  0\\n 35 42  1  0\\n 36 43  1  0\\n 36 44  1  0\\n 37 45  1  0\\n 37 46  1  0\\n 38 47  1  0\\n 38 48  1  0\\n 49 50  1  0\\n 50 51  1  0\\n 51 52  1  0\\n 52 53  1  0\\n 53 54  1  0\\n 54 55  1  0\\n 50 56  1  0\\n 50 57  1  0\\n 51 58  1  0\\n 52 59  1  0\\n 52 60  1  0\\n 53 61  1  0\\n 53 62  1  0\\n 54 63  1  0\\n 54 64  1  0\\n 65 66  1  0\\n 66 67  1  0\\n 67 68  1  0\\n 68 69  1  0\\n 69 70  1  0\\n 70 71  1  0\\n 66 72  1  0\\n 66 73  1  0\\n 67 74  1  0\\n 68 75  1  0\\n 68 76  1  0\\n 69 77  1  0\\n 69 78  1  0\\n 70 79  1  0\\n 70 80  1  0\\n 81 82  1  0\\n 82 83  1  0\\n 83 84  1  0\\n 84 85  1  0\\n 85 86  1  0\\n 86 87  1  0\\n 82 88  1  0\\n 82 89  1  0\\n 83 90  1  0\\n 84 91  1  0\\n 84 92  1  0\\n 85 93  1  0\\n 85 94  1  0\\n 86 95  1  0\\n 86 96  1  0\\n 97 98  1  0\\n 98 99  1  0\\n 99100  1  0\\n100101  1  0\\n101102  1  0\\n102103  1  0\\n 98104  1  0\\n 98105  1  0\\n 99106  1  0\\n100107  1  0\\n100108  1  0\\n101109  1  0\\n101110  1  0\\n102111  1  0\\n102112  1  0\\n113114  1  0\\n114115  1  0\\n115116  1  0\\n116117  1  0\\n117118  1  0\\n118119  1  0\\n114120  1  0\\n114121  1  0\\n115122  1  0\\n116123  1  0\\n116124  1  0\\n117125  1  0\\n117126  1  0\\n118127  1  0\\n118128  1  0\\n  1 33  2  0\\n  9 39  2  0\\n  3 49  2  0\\n 17 55  2  0\\n  4 65  2  0\\n 25 71  2  0\\n 12 81  2  0\\n 19 87  2  0\\n 11 97  2  0\\n 28103  2  0\\n 20113  2  0\\n 27119  2  0\\nM  END\\n\");\n",
       "viewer_1615558925648729.setStyle({\"stick\": {\"colorscheme\": \"cyanCarbon\"}});\n",
       "viewer_1615558925648729.zoomTo();\n",
       "\tviewer_1615558925648729.setBackgroundColor(\"0xeeeeee\");\n",
       "\tviewer_1615558925648729.zoomTo();\n",
       "viewer_1615558925648729.render();\n",
       "});\n",
       "</script>"
      ]
     },
     "metadata": {},
     "output_type": "display_data"
    },
    {
     "data": {
      "text/plain": [
       "<ConstructedMolecule at 140708034739472>"
      ]
     },
     "execution_count": 97,
     "metadata": {},
     "output_type": "execute_result"
    }
   ],
   "source": [
    "bb1 = stk.BuildingBlock('NCNCCCN', [stk.PrimaryAminoFactory()])\n",
    "bb2 = stk.BuildingBlock(\n",
    "    smiles='O=CC(C=O)C=O',\n",
    "    functional_groups=[stk.AldehydeFactory()],\n",
    ")\n",
    "cage2 = stk.ConstructedMolecule(\n",
    "    topology_graph=stk.cage.FourPlusSix(\n",
    "        building_blocks=(bb1, bb2),\n",
    "        vertex_alignments={4: 0},\n",
    "        optimizer=stk.MCHammer(),\n",
    "    ),\n",
    ")\n",
    "show_stk_mol(cage2)\n",
    "cage2.write('test2.mol')"
   ]
  },
  {
   "cell_type": "code",
   "execution_count": 98,
   "metadata": {},
   "outputs": [],
   "source": [
    "def analyze_cage(cage, propfile=None, structfile=None,\n",
    "                 include_coms=True):\n",
    "    \"\"\"\n",
    "    Analyze cage already loaded into pywindow.\n",
    "\n",
    "    \"\"\"\n",
    "    # Perform full pyWindow analysis\n",
    "    cage.full_analysis()\n",
    "    # Dump pyWindow properties into JSON and cage into xyz\n",
    "    if propfile is not None:\n",
    "        cage.dump_properties_json(propfile)\n",
    "    if structfile is not None:\n",
    "        cage.dump_molecule(structfile, include_coms=include_coms)\n",
    "\n",
    "\n",
    "def analyze_cage_from_MOL(file, prop_file, mole_file,\n",
    "                          include_coms=True):\n",
    "    \"\"\"\n",
    "    Run all desired analysis on a single built cage molecule.\n",
    "\n",
    "    Output cage with COM atoms and properties to JSON.\n",
    "\n",
    "    \"\"\"\n",
    "    # Import optimised cage into pyWindow, via RDkit mol file\n",
    "    cage_rd = Chem.MolFromMolFile(file)\n",
    "    cage_sys = pw.MolecularSystem.load_rdkit_mol(cage_rd)\n",
    "    cage_mol = cage_sys.system_to_molecule()\n",
    "    analyze_cage(cage=cage_mol, propfile=prop_file,\n",
    "                 structfile=mole_file, include_coms=include_coms)\n"
   ]
  },
  {
   "cell_type": "code",
   "execution_count": null,
   "metadata": {},
   "outputs": [],
   "source": [
    "cage2.write('pywindow_test.mol')\n",
    "analyze_cage_from_MOL('pywindow_test.mol')"
   ]
  },
  {
   "cell_type": "code",
   "execution_count": 101,
   "metadata": {},
   "outputs": [
    {
     "data": {
      "application/3dmoljs_load.v0": "<div id=\"3dmolviewer_16155593136526325\"  style=\"position: relative; width: 400px; height: 400px\">\n        <p id=\"3dmolwarning_16155593136526325\" style=\"background-color:#ffcccc;color:black\">You appear to be running in JupyterLab (or JavaScript failed to load for some other reason).  You need to install the 3dmol extension: <br>\n        <tt>jupyter labextension install jupyterlab_3dmol</tt></p>\n        </div>\n<script>\n\nvar loadScriptAsync = function(uri){\n  return new Promise((resolve, reject) => {\n    var tag = document.createElement('script');\n    tag.src = uri;\n    tag.async = true;\n    tag.onload = () => {\n      resolve();\n    };\n  var firstScriptTag = document.getElementsByTagName('script')[0];\n  firstScriptTag.parentNode.insertBefore(tag, firstScriptTag);\n});\n};\n\nif(typeof $3Dmolpromise === 'undefined') {\n$3Dmolpromise = null;\n  $3Dmolpromise = loadScriptAsync('https://3dmol.org/build/3Dmol.js');\n}\n\nvar viewer_16155593136526325 = null;\nvar warn = document.getElementById(\"3dmolwarning_16155593136526325\");\nif(warn) {\n    warn.parentNode.removeChild(warn);\n}\n$3Dmolpromise.then(function() {\nviewer_16155593136526325 = $3Dmol.createViewer($(\"#3dmolviewer_16155593136526325\"),{backgroundColor:\"white\"});\nviewer_16155593136526325.addModel(\"\\n     RDKit          3D\\n\\n152155  0  0  0  0  0  0  0  0999 V2000\\n   -1.2644   -0.7269    6.9112 C   0  0  0  0  0  0  0  0  0  0  0  0\\n   -0.0485   -0.0069    7.3723 C   0  0  0  0  0  0  0  0  0  0  0  0\\n    1.1780   -0.7391    6.9112 C   0  0  0  0  0  0  0  0  0  0  0  0\\n   -0.0664    1.3870    6.9112 C   0  0  0  0  0  0  0  0  0  0  0  0\\n   -1.4616   -0.8924    5.8658 H   0  0  0  0  0  0  0  0  0  0  0  0\\n   -0.0281    0.0065    8.4830 H   0  0  0  0  0  0  0  0  0  0  0  0\\n    1.3270   -0.8771    5.8349 H   0  0  0  0  0  0  0  0  0  0  0  0\\n    0.7187    2.1008    7.1284 H   0  0  0  0  0  0  0  0  0  0  0  0\\n   -6.3488   -3.6709   -0.8979 C   0  0  0  0  0  0  0  0  0  0  0  0\\n   -6.3096   -3.6663   -2.3837 C   0  0  0  0  0  0  0  0  0  0  0  0\\n   -6.3559   -2.2526   -2.8863 C   0  0  0  0  0  0  0  0  0  0  0  0\\n   -5.1283   -4.3885   -2.8725 C   0  0  0  0  0  0  0  0  0  0  0  0\\n   -5.5908   -3.1816   -0.3104 H   0  0  0  0  0  0  0  0  0  0  0  0\\n   -7.2088   -4.1870   -2.7769 H   0  0  0  0  0  0  0  0  0  0  0  0\\n   -5.5567   -1.5673   -2.5841 H   0  0  0  0  0  0  0  0  0  0  0  0\\n   -4.8936   -4.5135   -3.9224 H   0  0  0  0  0  0  0  0  0  0  0  0\\n    6.1344   -3.5306   -1.0650 C   0  0  0  0  0  0  0  0  0  0  0  0\\n    6.1108   -3.4989   -2.5509 C   0  0  0  0  0  0  0  0  0  0  0  0\\n    4.9097   -4.2458   -3.0534 C   0  0  0  0  0  0  0  0  0  0  0  0\\n    6.1456   -2.1148   -3.0396 C   0  0  0  0  0  0  0  0  0  0  0  0\\n    5.3316   -3.1187   -0.4775 H   0  0  0  0  0  0  0  0  0  0  0  0\\n    7.0114   -4.0172   -2.9441 H   0  0  0  0  0  0  0  0  0  0  0  0\\n    3.9166   -3.8964   -2.7512 H   0  0  0  0  0  0  0  0  0  0  0  0\\n    6.1365   -1.8490   -4.0895 H   0  0  0  0  0  0  0  0  0  0  0  0\\n    0.0491    7.1335   -0.8988 C   0  0  0  0  0  0  0  0  0  0  0  0\\n    0.0334    7.0973   -2.3847 C   0  0  0  0  0  0  0  0  0  0  0  0\\n    1.2808    6.4305   -2.8872 C   0  0  0  0  0  0  0  0  0  0  0  0\\n   -1.1827    6.4354   -2.8735 C   0  0  0  0  0  0  0  0  0  0  0  0\\n    0.0937    6.2324   -0.3113 H   0  0  0  0  0  0  0  0  0  0  0  0\\n    0.0320    8.1364   -2.7779 H   0  0  0  0  0  0  0  0  0  0  0  0\\n    1.4748    5.3958   -2.5851 H   0  0  0  0  0  0  0  0  0  0  0  0\\n   -1.4083    6.2946   -3.9233 H   0  0  0  0  0  0  0  0  0  0  0  0\\n   -2.7089   -1.5954    6.8394 N   0  0  0  0  0  0  0  0  0  0  0  0\\n   -3.8764   -2.1835    6.2772 C   0  0  0  0  0  0  0  0  0  0  0  0\\n   -3.8848   -2.2766    4.8587 N   0  0  0  0  0  0  0  0  0  0  0  0\\n   -5.0819   -2.8771    4.3207 C   0  0  0  0  0  0  0  0  0  0  0  0\\n   -5.0171   -2.9445    2.8032 C   0  0  0  0  0  0  0  0  0  0  0  0\\n   -6.3109   -3.5863    2.3327 C   0  0  0  0  0  0  0  0  0  0  0  0\\n   -6.3457   -3.6952    0.9004 N   0  0  0  0  0  0  0  0  0  0  0  0\\n   -4.8072   -1.6857    6.6040 H   0  0  0  0  0  0  0  0  0  0  0  0\\n   -3.9509   -3.2351    6.6829 H   0  0  0  0  0  0  0  0  0  0  0  0\\n   -3.0227   -2.5867    4.4051 H   0  0  0  0  0  0  0  0  0  0  0  0\\n   -6.0001   -2.3305    4.6170 H   0  0  0  0  0  0  0  0  0  0  0  0\\n   -5.1540   -3.8978    4.7480 H   0  0  0  0  0  0  0  0  0  0  0  0\\n   -4.8744   -1.9613    2.3567 H   0  0  0  0  0  0  0  0  0  0  0  0\\n   -4.1613   -3.5850    2.5161 H   0  0  0  0  0  0  0  0  0  0  0  0\\n   -7.1315   -2.9159    2.6797 H   0  0  0  0  0  0  0  0  0  0  0  0\\n   -6.3608   -4.5780    2.8231 H   0  0  0  0  0  0  0  0  0  0  0  0\\n    2.6740   -1.5200    6.6353 N   0  0  0  0  0  0  0  0  0  0  0  0\\n    3.7670   -2.2372    6.0731 C   0  0  0  0  0  0  0  0  0  0  0  0\\n    3.8519   -2.1978    4.6546 N   0  0  0  0  0  0  0  0  0  0  0  0\\n    4.9704   -2.9344    4.1166 C   0  0  0  0  0  0  0  0  0  0  0  0\\n    4.9965   -2.8444    2.5991 C   0  0  0  0  0  0  0  0  0  0  0  0\\n    6.1991   -3.6442    2.1286 C   0  0  0  0  0  0  0  0  0  0  0  0\\n    6.3109   -3.6197    0.6963 N   0  0  0  0  0  0  0  0  0  0  0  0\\n    3.8011   -3.2922    6.3998 H   0  0  0  0  0  0  0  0  0  0  0  0\\n    4.7150   -1.7761    6.4789 H   0  0  0  0  0  0  0  0  0  0  0  0\\n    3.6896   -1.2961    4.2011 H   0  0  0  0  0  0  0  0  0  0  0  0\\n    4.9560   -4.0029    4.4128 H   0  0  0  0  0  0  0  0  0  0  0  0\\n    5.8905   -2.4866    4.5439 H   0  0  0  0  0  0  0  0  0  0  0  0\\n    4.0736   -3.2123    2.1525 H   0  0  0  0  0  0  0  0  0  0  0  0\\n    5.1234   -1.7831    2.3121 H   0  0  0  0  0  0  0  0  0  0  0  0\\n    6.0286   -4.6900    2.4755 H   0  0  0  0  0  0  0  0  0  0  0  0\\n    7.0829   -3.1917    2.6191 H   0  0  0  0  0  0  0  0  0  0  0  0\\n    0.0648    3.2333    6.7121 N   0  0  0  0  0  0  0  0  0  0  0  0\\n    0.1386    4.5385    6.1500 C   0  0  0  0  0  0  0  0  0  0  0  0\\n    0.0629    4.5923    4.7314 N   0  0  0  0  0  0  0  0  0  0  0  0\\n    0.1407    5.9294    4.1935 C   0  0  0  0  0  0  0  0  0  0  0  0\\n    0.0508    5.9069    2.6760 C   0  0  0  0  0  0  0  0  0  0  0  0\\n    0.1410    7.3483    2.2055 C   0  0  0  0  0  0  0  0  0  0  0  0\\n    0.0648    7.4328    0.7732 N   0  0  0  0  0  0  0  0  0  0  0  0\\n    1.0344    5.0965    6.4773 H   0  0  0  0  0  0  0  0  0  0  0  0\\n   -0.7356    5.1282    6.5552 H   0  0  0  0  0  0  0  0  0  0  0  0\\n   -0.6359    4.0002    4.2775 H   0  0  0  0  0  0  0  0  0  0  0  0\\n    1.0725    6.4520    4.4903 H   0  0  0  0  0  0  0  0  0  0  0  0\\n   -0.7080    6.5014    4.6203 H   0  0  0  0  0  0  0  0  0  0  0  0\\n    0.8317    5.2923    2.2299 H   0  0  0  0  0  0  0  0  0  0  0  0\\n   -0.9313    5.4852    2.3883 H   0  0  0  0  0  0  0  0  0  0  0  0\\n    1.1314    7.7246    2.5531 H   0  0  0  0  0  0  0  0  0  0  0  0\\n   -0.6936    7.8866    2.6954 H   0  0  0  0  0  0  0  0  0  0  0  0\\n   -3.6686   -5.1208   -3.7348 N   0  0  0  0  0  0  0  0  0  0  0  0\\n   -2.4561   -5.6834   -4.2228 C   0  0  0  0  0  0  0  0  0  0  0  0\\n   -1.2668   -5.0942   -3.7136 N   0  0  0  0  0  0  0  0  0  0  0  0\\n   -0.0556   -5.6872   -4.2279 C   0  0  0  0  0  0  0  0  0  0  0  0\\n    1.1705   -5.0086   -3.6382 C   0  0  0  0  0  0  0  0  0  0  0  0\\n    2.3868   -5.6958   -4.2345 C   0  0  0  0  0  0  0  0  0  0  0  0\\n    3.6051   -5.1208   -3.7348 N   0  0  0  0  0  0  0  0  0  0  0  0\\n   -2.4012   -5.6927   -5.3264 H   0  0  0  0  0  0  0  0  0  0  0  0\\n   -2.4465   -6.7722   -3.9219 H   0  0  0  0  0  0  0  0  0  0  0  0\\n   -1.2380   -4.8887   -2.7126 H   0  0  0  0  0  0  0  0  0  0  0  0\\n    0.0037   -5.6377   -5.3341 H   0  0  0  0  0  0  0  0  0  0  0  0\\n   -0.0738   -6.7596   -3.9468 H   0  0  0  0  0  0  0  0  0  0  0  0\\n    1.1799   -3.9377   -3.8376 H   0  0  0  0  0  0  0  0  0  0  0  0\\n    1.1619   -5.1586   -2.5417 H   0  0  0  0  0  0  0  0  0  0  0  0\\n    2.3202   -5.5389   -5.3364 H   0  0  0  0  0  0  0  0  0  0  0  0\\n    2.2976   -6.7674   -3.9699 H   0  0  0  0  0  0  0  0  0  0  0  0\\n   -6.1982   -0.9161   -3.6850 N   0  0  0  0  0  0  0  0  0  0  0  0\\n   -6.1536    0.4582   -4.0512 C   0  0  0  0  0  0  0  0  0  0  0  0\\n   -4.9723    1.1495   -3.6670 N   0  0  0  0  0  0  0  0  0  0  0  0\\n   -4.9586    2.5402   -4.0530 C   0  0  0  0  0  0  0  0  0  0  0  0\\n   -3.6673    3.2104   -3.6117 C   0  0  0  0  0  0  0  0  0  0  0  0\\n   -3.7453    4.6598   -4.0589 C   0  0  0  0  0  0  0  0  0  0  0  0\\n   -2.5614    5.3831   -3.6850 N   0  0  0  0  0  0  0  0  0  0  0  0\\n   -7.0292    1.0271   -3.6896 H   0  0  0  0  0  0  0  0  0  0  0  0\\n   -6.2197    0.5075   -5.1778 H   0  0  0  0  0  0  0  0  0  0  0  0\\n   -4.0815    0.6685   -3.8094 H   0  0  0  0  0  0  0  0  0  0  0  0\\n   -5.8170    3.1043   -3.6352 H   0  0  0  0  0  0  0  0  0  0  0  0\\n   -5.0500    2.5719   -5.1576 H   0  0  0  0  0  0  0  0  0  0  0  0\\n   -3.5141    3.1327   -2.5360 H   0  0  0  0  0  0  0  0  0  0  0  0\\n   -2.8206    2.7116   -4.1210 H   0  0  0  0  0  0  0  0  0  0  0  0\\n   -4.6319    5.0949   -3.5414 H   0  0  0  0  0  0  0  0  0  0  0  0\\n   -3.8854    4.6378   -5.1572 H   0  0  0  0  0  0  0  0  0  0  0  0\\n    6.1969   -0.4731   -3.5885 N   0  0  0  0  0  0  0  0  0  0  0  0\\n    6.0779    0.8583   -4.0766 C   0  0  0  0  0  0  0  0  0  0  0  0\\n    4.9729    1.5936   -3.5673 N   0  0  0  0  0  0  0  0  0  0  0  0\\n    4.8809    2.9390   -4.0817 C   0  0  0  0  0  0  0  0  0  0  0  0\\n    3.6802    3.6615   -3.4919 C   0  0  0  0  0  0  0  0  0  0  0  0\\n    3.6671    5.0585   -4.0882 C   0  0  0  0  0  0  0  0  0  0  0  0\\n    2.5600    5.8261   -3.5885 N   0  0  0  0  0  0  0  0  0  0  0  0\\n    6.0585    0.9104   -5.1801 H   0  0  0  0  0  0  0  0  0  0  0  0\\n    7.0160    1.4110   -3.7756 H   0  0  0  0  0  0  0  0  0  0  0  0\\n    4.7806    1.5158   -2.5663 H   0  0  0  0  0  0  0  0  0  0  0  0\\n    4.8084    2.9657   -5.1878 H   0  0  0  0  0  0  0  0  0  0  0  0\\n    5.8187    3.4595   -3.8005 H   0  0  0  0  0  0  0  0  0  0  0  0\\n    2.7481    3.1343   -3.6913 H   0  0  0  0  0  0  0  0  0  0  0  0\\n    3.8144    3.7291   -2.3954 H   0  0  0  0  0  0  0  0  0  0  0  0\\n    3.5646    4.9224   -5.1901 H   0  0  0  0  0  0  0  0  0  0  0  0\\n    4.6398    5.5171   -3.8236 H   0  0  0  0  0  0  0  0  0  0  0  0\\n   -1.1330   -1.4641   -2.4033 C   0  0  0  0  0  0  0  0  0  0  0  0\\n   -1.0257   -1.1855   -0.9862 N   0  0  0  0  0  0  0  0  0  0  0  0\\n   -1.7925   -1.7320   -0.0572 C   0  0  0  0  0  0  0  0  0  0  0  0\\n   -1.3861   -1.2243    1.1192 N   0  0  0  0  0  0  0  0  0  0  0  0\\n   -0.3692   -0.3659    0.9091 C   0  0  0  0  0  0  0  0  0  0  0  0\\n   -0.1414   -0.3453   -0.4523 C   0  0  0  0  0  0  0  0  0  0  0  0\\n    0.8696    0.4748   -0.9166 C   0  0  0  0  0  0  0  0  0  0  0  0\\n    1.0869    0.5023   -2.1548 O   0  0  0  0  0  0  0  0  0  0  0  0\\n    1.6142    1.2313   -0.0913 N   0  0  0  0  0  0  0  0  0  0  0  0\\n    1.3434    1.1669    1.2207 C   0  0  0  0  0  0  0  0  0  0  0  0\\n    2.0203    1.8587    2.0029 O   0  0  0  0  0  0  0  0  0  0  0  0\\n    0.3764    0.3918    1.7363 N   0  0  0  0  0  0  0  0  0  0  0  0\\n    0.1223    0.3572    3.1647 C   0  0  0  0  0  0  0  0  0  0  0  0\\n    2.6661    2.0783   -0.6216 C   0  0  0  0  0  0  0  0  0  0  0  0\\n   -1.9817   -0.9406   -2.8827 H   0  0  0  0  0  0  0  0  0  0  0  0\\n   -0.2189   -1.2589   -2.9652 H   0  0  0  0  0  0  0  0  0  0  0  0\\n   -1.3312   -2.5686   -2.5304 H   0  0  0  0  0  0  0  0  0  0  0  0\\n   -2.5988   -2.4535   -0.2026 H   0  0  0  0  0  0  0  0  0  0  0  0\\n   -0.4121   -0.5787    3.4516 H   0  0  0  0  0  0  0  0  0  0  0  0\\n   -0.4798    1.1962    3.5167 H   0  0  0  0  0  0  0  0  0  0  0  0\\n    1.0979    0.3360    3.7321 H   0  0  0  0  0  0  0  0  0  0  0  0\\n    2.4585    2.3740   -1.6690 H   0  0  0  0  0  0  0  0  0  0  0  0\\n    3.6640    1.5613   -0.5237 H   0  0  0  0  0  0  0  0  0  0  0  0\\n    2.7510    2.9885    0.0039 H   0  0  0  0  0  0  0  0  0  0  0  0\\n  1  2  1  0\\n  2  3  1  0\\n  2  4  1  0\\n  1  5  1  0\\n  2  6  1  0\\n  3  7  1  0\\n  4  8  1  0\\n  9 10  1  0\\n 10 11  1  0\\n 10 12  1  0\\n  9 13  1  0\\n 10 14  1  0\\n 11 15  1  0\\n 12 16  1  0\\n 17 18  1  0\\n 18 19  1  0\\n 18 20  1  0\\n 17 21  1  0\\n 18 22  1  0\\n 19 23  1  0\\n 20 24  1  0\\n 25 26  1  0\\n 26 27  1  0\\n 26 28  1  0\\n 25 29  1  0\\n 26 30  1  0\\n 27 31  1  0\\n 28 32  1  0\\n 33 34  1  0\\n 34 35  1  0\\n 35 36  1  0\\n 36 37  1  0\\n 37 38  1  0\\n 38 39  1  0\\n 34 40  1  0\\n 34 41  1  0\\n 35 42  1  0\\n 36 43  1  0\\n 36 44  1  0\\n 37 45  1  0\\n 37 46  1  0\\n 38 47  1  0\\n 38 48  1  0\\n 49 50  1  0\\n 50 51  1  0\\n 51 52  1  0\\n 52 53  1  0\\n 53 54  1  0\\n 54 55  1  0\\n 50 56  1  0\\n 50 57  1  0\\n 51 58  1  0\\n 52 59  1  0\\n 52 60  1  0\\n 53 61  1  0\\n 53 62  1  0\\n 54 63  1  0\\n 54 64  1  0\\n 65 66  1  0\\n 66 67  1  0\\n 67 68  1  0\\n 68 69  1  0\\n 69 70  1  0\\n 70 71  1  0\\n 66 72  1  0\\n 66 73  1  0\\n 67 74  1  0\\n 68 75  1  0\\n 68 76  1  0\\n 69 77  1  0\\n 69 78  1  0\\n 70 79  1  0\\n 70 80  1  0\\n 81 82  1  0\\n 82 83  1  0\\n 83 84  1  0\\n 84 85  1  0\\n 85 86  1  0\\n 86 87  1  0\\n 82 88  1  0\\n 82 89  1  0\\n 83 90  1  0\\n 84 91  1  0\\n 84 92  1  0\\n 85 93  1  0\\n 85 94  1  0\\n 86 95  1  0\\n 86 96  1  0\\n 97 98  1  0\\n 98 99  1  0\\n 99100  1  0\\n100101  1  0\\n101102  1  0\\n102103  1  0\\n 98104  1  0\\n 98105  1  0\\n 99106  1  0\\n100107  1  0\\n100108  1  0\\n101109  1  0\\n101110  1  0\\n102111  1  0\\n102112  1  0\\n113114  1  0\\n114115  1  0\\n115116  1  0\\n116117  1  0\\n117118  1  0\\n118119  1  0\\n114120  1  0\\n114121  1  0\\n115122  1  0\\n116123  1  0\\n116124  1  0\\n117125  1  0\\n117126  1  0\\n118127  1  0\\n118128  1  0\\n  1 33  2  0\\n  9 39  2  0\\n  3 49  2  0\\n 17 55  2  0\\n  4 65  2  0\\n 25 71  2  0\\n 12 81  2  0\\n 19 87  2  0\\n 11 97  2  0\\n 28103  2  0\\n 20113  2  0\\n 27119  2  0\\n129130  1  0\\n130131  1  0\\n131132  2  0\\n132133  1  0\\n133134  2  0\\n134135  1  0\\n135136  2  0\\n135137  1  0\\n137138  1  0\\n138139  2  0\\n138140  1  0\\n140141  1  0\\n137142  1  0\\n134130  1  0\\n140133  1  0\\n129143  1  0\\n129144  1  0\\n129145  1  0\\n131146  1  0\\n141147  1  0\\n141148  1  0\\n141149  1  0\\n142150  1  0\\n142151  1  0\\n142152  1  0\\nM  END\\n\");\nviewer_16155593136526325.setStyle({\"stick\": {\"colorscheme\": \"cyanCarbon\"}});\nviewer_16155593136526325.zoomTo();\n\tviewer_16155593136526325.setBackgroundColor(\"0xeeeeee\");\n\tviewer_16155593136526325.zoomTo();\nviewer_16155593136526325.render();\n});\n</script>",
      "text/html": [
       "<div id=\"3dmolviewer_16155593136526325\"  style=\"position: relative; width: 400px; height: 400px\">\n",
       "        <p id=\"3dmolwarning_16155593136526325\" style=\"background-color:#ffcccc;color:black\">You appear to be running in JupyterLab (or JavaScript failed to load for some other reason).  You need to install the 3dmol extension: <br>\n",
       "        <tt>jupyter labextension install jupyterlab_3dmol</tt></p>\n",
       "        </div>\n",
       "<script>\n",
       "\n",
       "var loadScriptAsync = function(uri){\n",
       "  return new Promise((resolve, reject) => {\n",
       "    var tag = document.createElement('script');\n",
       "    tag.src = uri;\n",
       "    tag.async = true;\n",
       "    tag.onload = () => {\n",
       "      resolve();\n",
       "    };\n",
       "  var firstScriptTag = document.getElementsByTagName('script')[0];\n",
       "  firstScriptTag.parentNode.insertBefore(tag, firstScriptTag);\n",
       "});\n",
       "};\n",
       "\n",
       "if(typeof $3Dmolpromise === 'undefined') {\n",
       "$3Dmolpromise = null;\n",
       "  $3Dmolpromise = loadScriptAsync('https://3dmol.org/build/3Dmol.js');\n",
       "}\n",
       "\n",
       "var viewer_16155593136526325 = null;\n",
       "var warn = document.getElementById(\"3dmolwarning_16155593136526325\");\n",
       "if(warn) {\n",
       "    warn.parentNode.removeChild(warn);\n",
       "}\n",
       "$3Dmolpromise.then(function() {\n",
       "viewer_16155593136526325 = $3Dmol.createViewer($(\"#3dmolviewer_16155593136526325\"),{backgroundColor:\"white\"});\n",
       "viewer_16155593136526325.addModel(\"\\n     RDKit          3D\\n\\n152155  0  0  0  0  0  0  0  0999 V2000\\n   -1.2644   -0.7269    6.9112 C   0  0  0  0  0  0  0  0  0  0  0  0\\n   -0.0485   -0.0069    7.3723 C   0  0  0  0  0  0  0  0  0  0  0  0\\n    1.1780   -0.7391    6.9112 C   0  0  0  0  0  0  0  0  0  0  0  0\\n   -0.0664    1.3870    6.9112 C   0  0  0  0  0  0  0  0  0  0  0  0\\n   -1.4616   -0.8924    5.8658 H   0  0  0  0  0  0  0  0  0  0  0  0\\n   -0.0281    0.0065    8.4830 H   0  0  0  0  0  0  0  0  0  0  0  0\\n    1.3270   -0.8771    5.8349 H   0  0  0  0  0  0  0  0  0  0  0  0\\n    0.7187    2.1008    7.1284 H   0  0  0  0  0  0  0  0  0  0  0  0\\n   -6.3488   -3.6709   -0.8979 C   0  0  0  0  0  0  0  0  0  0  0  0\\n   -6.3096   -3.6663   -2.3837 C   0  0  0  0  0  0  0  0  0  0  0  0\\n   -6.3559   -2.2526   -2.8863 C   0  0  0  0  0  0  0  0  0  0  0  0\\n   -5.1283   -4.3885   -2.8725 C   0  0  0  0  0  0  0  0  0  0  0  0\\n   -5.5908   -3.1816   -0.3104 H   0  0  0  0  0  0  0  0  0  0  0  0\\n   -7.2088   -4.1870   -2.7769 H   0  0  0  0  0  0  0  0  0  0  0  0\\n   -5.5567   -1.5673   -2.5841 H   0  0  0  0  0  0  0  0  0  0  0  0\\n   -4.8936   -4.5135   -3.9224 H   0  0  0  0  0  0  0  0  0  0  0  0\\n    6.1344   -3.5306   -1.0650 C   0  0  0  0  0  0  0  0  0  0  0  0\\n    6.1108   -3.4989   -2.5509 C   0  0  0  0  0  0  0  0  0  0  0  0\\n    4.9097   -4.2458   -3.0534 C   0  0  0  0  0  0  0  0  0  0  0  0\\n    6.1456   -2.1148   -3.0396 C   0  0  0  0  0  0  0  0  0  0  0  0\\n    5.3316   -3.1187   -0.4775 H   0  0  0  0  0  0  0  0  0  0  0  0\\n    7.0114   -4.0172   -2.9441 H   0  0  0  0  0  0  0  0  0  0  0  0\\n    3.9166   -3.8964   -2.7512 H   0  0  0  0  0  0  0  0  0  0  0  0\\n    6.1365   -1.8490   -4.0895 H   0  0  0  0  0  0  0  0  0  0  0  0\\n    0.0491    7.1335   -0.8988 C   0  0  0  0  0  0  0  0  0  0  0  0\\n    0.0334    7.0973   -2.3847 C   0  0  0  0  0  0  0  0  0  0  0  0\\n    1.2808    6.4305   -2.8872 C   0  0  0  0  0  0  0  0  0  0  0  0\\n   -1.1827    6.4354   -2.8735 C   0  0  0  0  0  0  0  0  0  0  0  0\\n    0.0937    6.2324   -0.3113 H   0  0  0  0  0  0  0  0  0  0  0  0\\n    0.0320    8.1364   -2.7779 H   0  0  0  0  0  0  0  0  0  0  0  0\\n    1.4748    5.3958   -2.5851 H   0  0  0  0  0  0  0  0  0  0  0  0\\n   -1.4083    6.2946   -3.9233 H   0  0  0  0  0  0  0  0  0  0  0  0\\n   -2.7089   -1.5954    6.8394 N   0  0  0  0  0  0  0  0  0  0  0  0\\n   -3.8764   -2.1835    6.2772 C   0  0  0  0  0  0  0  0  0  0  0  0\\n   -3.8848   -2.2766    4.8587 N   0  0  0  0  0  0  0  0  0  0  0  0\\n   -5.0819   -2.8771    4.3207 C   0  0  0  0  0  0  0  0  0  0  0  0\\n   -5.0171   -2.9445    2.8032 C   0  0  0  0  0  0  0  0  0  0  0  0\\n   -6.3109   -3.5863    2.3327 C   0  0  0  0  0  0  0  0  0  0  0  0\\n   -6.3457   -3.6952    0.9004 N   0  0  0  0  0  0  0  0  0  0  0  0\\n   -4.8072   -1.6857    6.6040 H   0  0  0  0  0  0  0  0  0  0  0  0\\n   -3.9509   -3.2351    6.6829 H   0  0  0  0  0  0  0  0  0  0  0  0\\n   -3.0227   -2.5867    4.4051 H   0  0  0  0  0  0  0  0  0  0  0  0\\n   -6.0001   -2.3305    4.6170 H   0  0  0  0  0  0  0  0  0  0  0  0\\n   -5.1540   -3.8978    4.7480 H   0  0  0  0  0  0  0  0  0  0  0  0\\n   -4.8744   -1.9613    2.3567 H   0  0  0  0  0  0  0  0  0  0  0  0\\n   -4.1613   -3.5850    2.5161 H   0  0  0  0  0  0  0  0  0  0  0  0\\n   -7.1315   -2.9159    2.6797 H   0  0  0  0  0  0  0  0  0  0  0  0\\n   -6.3608   -4.5780    2.8231 H   0  0  0  0  0  0  0  0  0  0  0  0\\n    2.6740   -1.5200    6.6353 N   0  0  0  0  0  0  0  0  0  0  0  0\\n    3.7670   -2.2372    6.0731 C   0  0  0  0  0  0  0  0  0  0  0  0\\n    3.8519   -2.1978    4.6546 N   0  0  0  0  0  0  0  0  0  0  0  0\\n    4.9704   -2.9344    4.1166 C   0  0  0  0  0  0  0  0  0  0  0  0\\n    4.9965   -2.8444    2.5991 C   0  0  0  0  0  0  0  0  0  0  0  0\\n    6.1991   -3.6442    2.1286 C   0  0  0  0  0  0  0  0  0  0  0  0\\n    6.3109   -3.6197    0.6963 N   0  0  0  0  0  0  0  0  0  0  0  0\\n    3.8011   -3.2922    6.3998 H   0  0  0  0  0  0  0  0  0  0  0  0\\n    4.7150   -1.7761    6.4789 H   0  0  0  0  0  0  0  0  0  0  0  0\\n    3.6896   -1.2961    4.2011 H   0  0  0  0  0  0  0  0  0  0  0  0\\n    4.9560   -4.0029    4.4128 H   0  0  0  0  0  0  0  0  0  0  0  0\\n    5.8905   -2.4866    4.5439 H   0  0  0  0  0  0  0  0  0  0  0  0\\n    4.0736   -3.2123    2.1525 H   0  0  0  0  0  0  0  0  0  0  0  0\\n    5.1234   -1.7831    2.3121 H   0  0  0  0  0  0  0  0  0  0  0  0\\n    6.0286   -4.6900    2.4755 H   0  0  0  0  0  0  0  0  0  0  0  0\\n    7.0829   -3.1917    2.6191 H   0  0  0  0  0  0  0  0  0  0  0  0\\n    0.0648    3.2333    6.7121 N   0  0  0  0  0  0  0  0  0  0  0  0\\n    0.1386    4.5385    6.1500 C   0  0  0  0  0  0  0  0  0  0  0  0\\n    0.0629    4.5923    4.7314 N   0  0  0  0  0  0  0  0  0  0  0  0\\n    0.1407    5.9294    4.1935 C   0  0  0  0  0  0  0  0  0  0  0  0\\n    0.0508    5.9069    2.6760 C   0  0  0  0  0  0  0  0  0  0  0  0\\n    0.1410    7.3483    2.2055 C   0  0  0  0  0  0  0  0  0  0  0  0\\n    0.0648    7.4328    0.7732 N   0  0  0  0  0  0  0  0  0  0  0  0\\n    1.0344    5.0965    6.4773 H   0  0  0  0  0  0  0  0  0  0  0  0\\n   -0.7356    5.1282    6.5552 H   0  0  0  0  0  0  0  0  0  0  0  0\\n   -0.6359    4.0002    4.2775 H   0  0  0  0  0  0  0  0  0  0  0  0\\n    1.0725    6.4520    4.4903 H   0  0  0  0  0  0  0  0  0  0  0  0\\n   -0.7080    6.5014    4.6203 H   0  0  0  0  0  0  0  0  0  0  0  0\\n    0.8317    5.2923    2.2299 H   0  0  0  0  0  0  0  0  0  0  0  0\\n   -0.9313    5.4852    2.3883 H   0  0  0  0  0  0  0  0  0  0  0  0\\n    1.1314    7.7246    2.5531 H   0  0  0  0  0  0  0  0  0  0  0  0\\n   -0.6936    7.8866    2.6954 H   0  0  0  0  0  0  0  0  0  0  0  0\\n   -3.6686   -5.1208   -3.7348 N   0  0  0  0  0  0  0  0  0  0  0  0\\n   -2.4561   -5.6834   -4.2228 C   0  0  0  0  0  0  0  0  0  0  0  0\\n   -1.2668   -5.0942   -3.7136 N   0  0  0  0  0  0  0  0  0  0  0  0\\n   -0.0556   -5.6872   -4.2279 C   0  0  0  0  0  0  0  0  0  0  0  0\\n    1.1705   -5.0086   -3.6382 C   0  0  0  0  0  0  0  0  0  0  0  0\\n    2.3868   -5.6958   -4.2345 C   0  0  0  0  0  0  0  0  0  0  0  0\\n    3.6051   -5.1208   -3.7348 N   0  0  0  0  0  0  0  0  0  0  0  0\\n   -2.4012   -5.6927   -5.3264 H   0  0  0  0  0  0  0  0  0  0  0  0\\n   -2.4465   -6.7722   -3.9219 H   0  0  0  0  0  0  0  0  0  0  0  0\\n   -1.2380   -4.8887   -2.7126 H   0  0  0  0  0  0  0  0  0  0  0  0\\n    0.0037   -5.6377   -5.3341 H   0  0  0  0  0  0  0  0  0  0  0  0\\n   -0.0738   -6.7596   -3.9468 H   0  0  0  0  0  0  0  0  0  0  0  0\\n    1.1799   -3.9377   -3.8376 H   0  0  0  0  0  0  0  0  0  0  0  0\\n    1.1619   -5.1586   -2.5417 H   0  0  0  0  0  0  0  0  0  0  0  0\\n    2.3202   -5.5389   -5.3364 H   0  0  0  0  0  0  0  0  0  0  0  0\\n    2.2976   -6.7674   -3.9699 H   0  0  0  0  0  0  0  0  0  0  0  0\\n   -6.1982   -0.9161   -3.6850 N   0  0  0  0  0  0  0  0  0  0  0  0\\n   -6.1536    0.4582   -4.0512 C   0  0  0  0  0  0  0  0  0  0  0  0\\n   -4.9723    1.1495   -3.6670 N   0  0  0  0  0  0  0  0  0  0  0  0\\n   -4.9586    2.5402   -4.0530 C   0  0  0  0  0  0  0  0  0  0  0  0\\n   -3.6673    3.2104   -3.6117 C   0  0  0  0  0  0  0  0  0  0  0  0\\n   -3.7453    4.6598   -4.0589 C   0  0  0  0  0  0  0  0  0  0  0  0\\n   -2.5614    5.3831   -3.6850 N   0  0  0  0  0  0  0  0  0  0  0  0\\n   -7.0292    1.0271   -3.6896 H   0  0  0  0  0  0  0  0  0  0  0  0\\n   -6.2197    0.5075   -5.1778 H   0  0  0  0  0  0  0  0  0  0  0  0\\n   -4.0815    0.6685   -3.8094 H   0  0  0  0  0  0  0  0  0  0  0  0\\n   -5.8170    3.1043   -3.6352 H   0  0  0  0  0  0  0  0  0  0  0  0\\n   -5.0500    2.5719   -5.1576 H   0  0  0  0  0  0  0  0  0  0  0  0\\n   -3.5141    3.1327   -2.5360 H   0  0  0  0  0  0  0  0  0  0  0  0\\n   -2.8206    2.7116   -4.1210 H   0  0  0  0  0  0  0  0  0  0  0  0\\n   -4.6319    5.0949   -3.5414 H   0  0  0  0  0  0  0  0  0  0  0  0\\n   -3.8854    4.6378   -5.1572 H   0  0  0  0  0  0  0  0  0  0  0  0\\n    6.1969   -0.4731   -3.5885 N   0  0  0  0  0  0  0  0  0  0  0  0\\n    6.0779    0.8583   -4.0766 C   0  0  0  0  0  0  0  0  0  0  0  0\\n    4.9729    1.5936   -3.5673 N   0  0  0  0  0  0  0  0  0  0  0  0\\n    4.8809    2.9390   -4.0817 C   0  0  0  0  0  0  0  0  0  0  0  0\\n    3.6802    3.6615   -3.4919 C   0  0  0  0  0  0  0  0  0  0  0  0\\n    3.6671    5.0585   -4.0882 C   0  0  0  0  0  0  0  0  0  0  0  0\\n    2.5600    5.8261   -3.5885 N   0  0  0  0  0  0  0  0  0  0  0  0\\n    6.0585    0.9104   -5.1801 H   0  0  0  0  0  0  0  0  0  0  0  0\\n    7.0160    1.4110   -3.7756 H   0  0  0  0  0  0  0  0  0  0  0  0\\n    4.7806    1.5158   -2.5663 H   0  0  0  0  0  0  0  0  0  0  0  0\\n    4.8084    2.9657   -5.1878 H   0  0  0  0  0  0  0  0  0  0  0  0\\n    5.8187    3.4595   -3.8005 H   0  0  0  0  0  0  0  0  0  0  0  0\\n    2.7481    3.1343   -3.6913 H   0  0  0  0  0  0  0  0  0  0  0  0\\n    3.8144    3.7291   -2.3954 H   0  0  0  0  0  0  0  0  0  0  0  0\\n    3.5646    4.9224   -5.1901 H   0  0  0  0  0  0  0  0  0  0  0  0\\n    4.6398    5.5171   -3.8236 H   0  0  0  0  0  0  0  0  0  0  0  0\\n   -1.1330   -1.4641   -2.4033 C   0  0  0  0  0  0  0  0  0  0  0  0\\n   -1.0257   -1.1855   -0.9862 N   0  0  0  0  0  0  0  0  0  0  0  0\\n   -1.7925   -1.7320   -0.0572 C   0  0  0  0  0  0  0  0  0  0  0  0\\n   -1.3861   -1.2243    1.1192 N   0  0  0  0  0  0  0  0  0  0  0  0\\n   -0.3692   -0.3659    0.9091 C   0  0  0  0  0  0  0  0  0  0  0  0\\n   -0.1414   -0.3453   -0.4523 C   0  0  0  0  0  0  0  0  0  0  0  0\\n    0.8696    0.4748   -0.9166 C   0  0  0  0  0  0  0  0  0  0  0  0\\n    1.0869    0.5023   -2.1548 O   0  0  0  0  0  0  0  0  0  0  0  0\\n    1.6142    1.2313   -0.0913 N   0  0  0  0  0  0  0  0  0  0  0  0\\n    1.3434    1.1669    1.2207 C   0  0  0  0  0  0  0  0  0  0  0  0\\n    2.0203    1.8587    2.0029 O   0  0  0  0  0  0  0  0  0  0  0  0\\n    0.3764    0.3918    1.7363 N   0  0  0  0  0  0  0  0  0  0  0  0\\n    0.1223    0.3572    3.1647 C   0  0  0  0  0  0  0  0  0  0  0  0\\n    2.6661    2.0783   -0.6216 C   0  0  0  0  0  0  0  0  0  0  0  0\\n   -1.9817   -0.9406   -2.8827 H   0  0  0  0  0  0  0  0  0  0  0  0\\n   -0.2189   -1.2589   -2.9652 H   0  0  0  0  0  0  0  0  0  0  0  0\\n   -1.3312   -2.5686   -2.5304 H   0  0  0  0  0  0  0  0  0  0  0  0\\n   -2.5988   -2.4535   -0.2026 H   0  0  0  0  0  0  0  0  0  0  0  0\\n   -0.4121   -0.5787    3.4516 H   0  0  0  0  0  0  0  0  0  0  0  0\\n   -0.4798    1.1962    3.5167 H   0  0  0  0  0  0  0  0  0  0  0  0\\n    1.0979    0.3360    3.7321 H   0  0  0  0  0  0  0  0  0  0  0  0\\n    2.4585    2.3740   -1.6690 H   0  0  0  0  0  0  0  0  0  0  0  0\\n    3.6640    1.5613   -0.5237 H   0  0  0  0  0  0  0  0  0  0  0  0\\n    2.7510    2.9885    0.0039 H   0  0  0  0  0  0  0  0  0  0  0  0\\n  1  2  1  0\\n  2  3  1  0\\n  2  4  1  0\\n  1  5  1  0\\n  2  6  1  0\\n  3  7  1  0\\n  4  8  1  0\\n  9 10  1  0\\n 10 11  1  0\\n 10 12  1  0\\n  9 13  1  0\\n 10 14  1  0\\n 11 15  1  0\\n 12 16  1  0\\n 17 18  1  0\\n 18 19  1  0\\n 18 20  1  0\\n 17 21  1  0\\n 18 22  1  0\\n 19 23  1  0\\n 20 24  1  0\\n 25 26  1  0\\n 26 27  1  0\\n 26 28  1  0\\n 25 29  1  0\\n 26 30  1  0\\n 27 31  1  0\\n 28 32  1  0\\n 33 34  1  0\\n 34 35  1  0\\n 35 36  1  0\\n 36 37  1  0\\n 37 38  1  0\\n 38 39  1  0\\n 34 40  1  0\\n 34 41  1  0\\n 35 42  1  0\\n 36 43  1  0\\n 36 44  1  0\\n 37 45  1  0\\n 37 46  1  0\\n 38 47  1  0\\n 38 48  1  0\\n 49 50  1  0\\n 50 51  1  0\\n 51 52  1  0\\n 52 53  1  0\\n 53 54  1  0\\n 54 55  1  0\\n 50 56  1  0\\n 50 57  1  0\\n 51 58  1  0\\n 52 59  1  0\\n 52 60  1  0\\n 53 61  1  0\\n 53 62  1  0\\n 54 63  1  0\\n 54 64  1  0\\n 65 66  1  0\\n 66 67  1  0\\n 67 68  1  0\\n 68 69  1  0\\n 69 70  1  0\\n 70 71  1  0\\n 66 72  1  0\\n 66 73  1  0\\n 67 74  1  0\\n 68 75  1  0\\n 68 76  1  0\\n 69 77  1  0\\n 69 78  1  0\\n 70 79  1  0\\n 70 80  1  0\\n 81 82  1  0\\n 82 83  1  0\\n 83 84  1  0\\n 84 85  1  0\\n 85 86  1  0\\n 86 87  1  0\\n 82 88  1  0\\n 82 89  1  0\\n 83 90  1  0\\n 84 91  1  0\\n 84 92  1  0\\n 85 93  1  0\\n 85 94  1  0\\n 86 95  1  0\\n 86 96  1  0\\n 97 98  1  0\\n 98 99  1  0\\n 99100  1  0\\n100101  1  0\\n101102  1  0\\n102103  1  0\\n 98104  1  0\\n 98105  1  0\\n 99106  1  0\\n100107  1  0\\n100108  1  0\\n101109  1  0\\n101110  1  0\\n102111  1  0\\n102112  1  0\\n113114  1  0\\n114115  1  0\\n115116  1  0\\n116117  1  0\\n117118  1  0\\n118119  1  0\\n114120  1  0\\n114121  1  0\\n115122  1  0\\n116123  1  0\\n116124  1  0\\n117125  1  0\\n117126  1  0\\n118127  1  0\\n118128  1  0\\n  1 33  2  0\\n  9 39  2  0\\n  3 49  2  0\\n 17 55  2  0\\n  4 65  2  0\\n 25 71  2  0\\n 12 81  2  0\\n 19 87  2  0\\n 11 97  2  0\\n 28103  2  0\\n 20113  2  0\\n 27119  2  0\\n129130  1  0\\n130131  1  0\\n131132  2  0\\n132133  1  0\\n133134  2  0\\n134135  1  0\\n135136  2  0\\n135137  1  0\\n137138  1  0\\n138139  2  0\\n138140  1  0\\n140141  1  0\\n137142  1  0\\n134130  1  0\\n140133  1  0\\n129143  1  0\\n129144  1  0\\n129145  1  0\\n131146  1  0\\n141147  1  0\\n141148  1  0\\n141149  1  0\\n142150  1  0\\n142151  1  0\\n142152  1  0\\nM  END\\n\");\n",
       "viewer_16155593136526325.setStyle({\"stick\": {\"colorscheme\": \"cyanCarbon\"}});\n",
       "viewer_16155593136526325.zoomTo();\n",
       "\tviewer_16155593136526325.setBackgroundColor(\"0xeeeeee\");\n",
       "\tviewer_16155593136526325.zoomTo();\n",
       "viewer_16155593136526325.render();\n",
       "});\n",
       "</script>"
      ]
     },
     "metadata": {},
     "output_type": "display_data"
    }
   ],
   "source": [
    "guest = stk.BuildingBlock('CN1C=NC2=C1C(=O)N(C(=O)N2C)C')\n",
    "host = stk.BuildingBlock.init_from_molecule(cage2)\n",
    "topology_graph = stk.host_guest.Complex(\n",
    "    host=host,\n",
    "    guest=guest,\n",
    "    # Apply a rotation onto the guest molecule such that\n",
    "    # the vector returned by get_direction() has the same\n",
    "    # direction as [1, 1, 1].\n",
    "    guest_start=guest.get_direction(),\n",
    "    guest_target=[1, 1, 1],\n",
    "    # Change the displacement of the guest.\n",
    "    displacement=[0.3, 0.1, 0.1],\n",
    ")\n",
    "host_guest_complex = stk.ConstructedMolecule(topology_graph)\n",
    "show_stk_mol(host_guest_complex)"
   ]
  },
  {
   "cell_type": "code",
   "execution_count": null,
   "metadata": {},
   "outputs": [],
   "source": [
    "for displace in displacements:\n",
    "    topology_graph = stk.host_guest.Complex(\n",
    "        host=host,\n",
    "        guest=guest,\n",
    "        # Apply a rotation onto the guest molecule such that\n",
    "        # the vector returned by get_direction() has the same\n",
    "        # direction as [1, 1, 1].\n",
    "        guest_start=guest.get_direction(),\n",
    "        guest_target=[1, 1, 1],\n",
    "        # Change the displacement of the guest.\n",
    "        displacement=displacement,\n",
    "    )\n",
    "    host_guest_complex = stk.ConstructedMolecule(topology_graph)\n",
    "    host_guest_complex = stko.XTB(somwething).optmize(host_guest_cmoplex)\n",
    "    energy = stko.XTBEnergy(xtb_path=something,calculation_free_energies=True).get_energy(host_guest_complex)"
   ]
  }
 ],
 "metadata": {
  "colab": {
   "collapsed_sections": [],
   "name": "Workshop1.ipynb",
   "provenance": [],
   "toc_visible": true
  },
  "kernelspec": {
   "display_name": "stkworkshop",
   "language": "python",
   "name": "stkworkshop"
  },
  "language_info": {
   "codemirror_mode": {
    "name": "ipython",
    "version": 3
   },
   "file_extension": ".py",
   "mimetype": "text/x-python",
   "name": "python",
   "nbconvert_exporter": "python",
   "pygments_lexer": "ipython3",
   "version": "3.7.10"
  }
 },
 "nbformat": 4,
 "nbformat_minor": 4
}
