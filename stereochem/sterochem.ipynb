{
 "cells": [
  {
   "cell_type": "markdown",
   "id": "e494e55e-dd88-443e-aa35-7c3c0e94e829",
   "metadata": {},
   "source": [
    "# Random Q. \n",
    "\n",
    "How do you handle maintaining stereo chemistry in your cages if your building block or expected reaction has stereochemistry built into it? \n",
    "\n",
    "From smiles, stereochem is kept, but then construction issue of high energy structure? How to fix?"
   ]
  },
  {
   "cell_type": "code",
   "execution_count": 46,
   "id": "501d962c-b4f9-4af5-92a9-74435bf83e4c",
   "metadata": {},
   "outputs": [],
   "source": [
    "import stk\n",
    "import stko\n",
    "\n",
    "from rdkit.Chem import AllChem as rdkit\n",
    "import py3Dmol\n",
    "from rdkit.Chem.Draw import IPythonConsole\n",
    "IPythonConsole.drawOptions.addStereoAnnotation = True"
   ]
  },
  {
   "cell_type": "code",
   "execution_count": 66,
   "id": "395b1694-94d8-4add-8b03-478b993af27b",
   "metadata": {},
   "outputs": [],
   "source": [
    "def show_stk_mol(stk_mol):\n",
    "    mol = stk_mol.to_rdkit_mol()\n",
    "    data = rdkit.MolToMolBlock(mol)\n",
    "    p = py3Dmol.view(\n",
    "        data=data,\n",
    "        style={'stick':{'colorscheme':'cyanCarbon'}}, \n",
    "        width=400,\n",
    "        height=400,\n",
    "    )\n",
    "    p.setBackgroundColor('0xeeeeee')\n",
    "    p.zoomTo()\n",
    "    p.show()\n",
    "    \n",
    "def rdkit_2d_draw(stk_mol):\n",
    "    \n",
    "    mol = stk_mol.to_rdkit_mol()\n",
    "    print(rdkit.MolToSmiles(mol))\n",
    "    rdkit.Compute2DCoords(mol)\n",
    "    return mol"
   ]
  },
  {
   "cell_type": "markdown",
   "id": "f2981d58-22c2-466c-a42e-528ae84cd221",
   "metadata": {},
   "source": [
    "# SMILES to stk.Molecule maintains stereochemistry.\n",
    "\n",
    "Therefore, the 3D geometry should be fine, unless it is modified during construction."
   ]
  },
  {
   "cell_type": "code",
   "execution_count": 115,
   "id": "82b7cd0f-cc7f-4934-bcce-01d2fc039f62",
   "metadata": {},
   "outputs": [],
   "source": [
    "lalanine = stk.BuildingBlock('C[C@@H](C(=O)O)N')\n",
    "dalanine = stk.BuildingBlock('C[C@H](C(=O)O)N')"
   ]
  },
  {
   "cell_type": "code",
   "execution_count": 116,
   "id": "52c35581-284a-444f-8b2a-fdeb402d7501",
   "metadata": {},
   "outputs": [
    {
     "data": {
      "application/3dmoljs_load.v0": "<div id=\"3dmolviewer_16553798779063742\"  style=\"position: relative; width: 400px; height: 400px\">\n        <p id=\"3dmolwarning_16553798779063742\" style=\"background-color:#ffcccc;color:black\">You appear to be running in JupyterLab (or JavaScript failed to load for some other reason).  You need to install the 3dmol extension: <br>\n        <tt>jupyter labextension install jupyterlab_3dmol</tt></p>\n        </div>\n<script>\n\nvar loadScriptAsync = function(uri){\n  return new Promise((resolve, reject) => {\n    var tag = document.createElement('script');\n    tag.src = uri;\n    tag.async = true;\n    tag.onload = () => {\n      resolve();\n    };\n  var firstScriptTag = document.getElementsByTagName('script')[0];\n  firstScriptTag.parentNode.insertBefore(tag, firstScriptTag);\n});\n};\n\nif(typeof $3Dmolpromise === 'undefined') {\n$3Dmolpromise = null;\n  $3Dmolpromise = loadScriptAsync('https://3dmol.org/build/3Dmol.js');\n}\n\nvar viewer_16553798779063742 = null;\nvar warn = document.getElementById(\"3dmolwarning_16553798779063742\");\nif(warn) {\n    warn.parentNode.removeChild(warn);\n}\n$3Dmolpromise.then(function() {\nviewer_16553798779063742 = $3Dmol.createViewer($(\"#3dmolviewer_16553798779063742\"),{backgroundColor:\"white\"});\nviewer_16553798779063742.addModel(\"\\n     RDKit          3D\\n\\n 13 12  0  0  0  0  0  0  0  0999 V2000\\n   -0.9755    0.7190   -0.7589 C   0  0  0  0  0  0  0  0  0  0  0  0\\n   -0.2247    0.0153    0.3544 C   0  0  0  0  0  0  0  0  0  0  0  0\\n    1.1445   -0.2455   -0.1294 C   0  0  0  0  0  0  0  0  0  0  0  0\\n    1.5757   -1.4126   -0.1567 O   0  0  0  0  0  0  0  0  0  0  0  0\\n    1.9461    0.8008   -0.5508 O   0  0  0  0  0  0  0  0  0  0  0  0\\n   -0.9110   -1.1879    0.7506 N   0  0  0  0  0  0  0  0  0  0  0  0\\n   -0.2929    1.2484   -1.4383 H   0  0  0  0  0  0  0  0  0  0  0  0\\n   -1.5877   -0.0525   -1.2778 H   0  0  0  0  0  0  0  0  0  0  0  0\\n   -1.6714    1.4569   -0.3211 H   0  0  0  0  0  0  0  0  0  0  0  0\\n   -0.1728    0.6936    1.2169 H   0  0  0  0  0  0  0  0  0  0  0  0\\n    2.9605    0.7634   -0.3896 H   0  0  0  0  0  0  0  0  0  0  0  0\\n   -1.6106   -0.9884    1.5015 H   0  0  0  0  0  0  0  0  0  0  0  0\\n   -0.1802   -1.8103    1.1993 H   0  0  0  0  0  0  0  0  0  0  0  0\\n  1  2  1  0\\n  2  3  1  0\\n  3  4  2  0\\n  3  5  1  0\\n  2  6  1  0\\n  1  7  1  0\\n  1  8  1  0\\n  1  9  1  0\\n  2 10  1  0\\n  5 11  1  0\\n  6 12  1  0\\n  6 13  1  0\\nM  END\\n\");\nviewer_16553798779063742.setStyle({\"stick\": {\"colorscheme\": \"cyanCarbon\"}});\nviewer_16553798779063742.zoomTo();\n\tviewer_16553798779063742.setBackgroundColor(\"0xeeeeee\");\n\tviewer_16553798779063742.zoomTo();\nviewer_16553798779063742.render();\n});\n</script>",
      "text/html": [
       "<div id=\"3dmolviewer_16553798779063742\"  style=\"position: relative; width: 400px; height: 400px\">\n",
       "        <p id=\"3dmolwarning_16553798779063742\" style=\"background-color:#ffcccc;color:black\">You appear to be running in JupyterLab (or JavaScript failed to load for some other reason).  You need to install the 3dmol extension: <br>\n",
       "        <tt>jupyter labextension install jupyterlab_3dmol</tt></p>\n",
       "        </div>\n",
       "<script>\n",
       "\n",
       "var loadScriptAsync = function(uri){\n",
       "  return new Promise((resolve, reject) => {\n",
       "    var tag = document.createElement('script');\n",
       "    tag.src = uri;\n",
       "    tag.async = true;\n",
       "    tag.onload = () => {\n",
       "      resolve();\n",
       "    };\n",
       "  var firstScriptTag = document.getElementsByTagName('script')[0];\n",
       "  firstScriptTag.parentNode.insertBefore(tag, firstScriptTag);\n",
       "});\n",
       "};\n",
       "\n",
       "if(typeof $3Dmolpromise === 'undefined') {\n",
       "$3Dmolpromise = null;\n",
       "  $3Dmolpromise = loadScriptAsync('https://3dmol.org/build/3Dmol.js');\n",
       "}\n",
       "\n",
       "var viewer_16553798779063742 = null;\n",
       "var warn = document.getElementById(\"3dmolwarning_16553798779063742\");\n",
       "if(warn) {\n",
       "    warn.parentNode.removeChild(warn);\n",
       "}\n",
       "$3Dmolpromise.then(function() {\n",
       "viewer_16553798779063742 = $3Dmol.createViewer($(\"#3dmolviewer_16553798779063742\"),{backgroundColor:\"white\"});\n",
       "viewer_16553798779063742.addModel(\"\\n     RDKit          3D\\n\\n 13 12  0  0  0  0  0  0  0  0999 V2000\\n   -0.9755    0.7190   -0.7589 C   0  0  0  0  0  0  0  0  0  0  0  0\\n   -0.2247    0.0153    0.3544 C   0  0  0  0  0  0  0  0  0  0  0  0\\n    1.1445   -0.2455   -0.1294 C   0  0  0  0  0  0  0  0  0  0  0  0\\n    1.5757   -1.4126   -0.1567 O   0  0  0  0  0  0  0  0  0  0  0  0\\n    1.9461    0.8008   -0.5508 O   0  0  0  0  0  0  0  0  0  0  0  0\\n   -0.9110   -1.1879    0.7506 N   0  0  0  0  0  0  0  0  0  0  0  0\\n   -0.2929    1.2484   -1.4383 H   0  0  0  0  0  0  0  0  0  0  0  0\\n   -1.5877   -0.0525   -1.2778 H   0  0  0  0  0  0  0  0  0  0  0  0\\n   -1.6714    1.4569   -0.3211 H   0  0  0  0  0  0  0  0  0  0  0  0\\n   -0.1728    0.6936    1.2169 H   0  0  0  0  0  0  0  0  0  0  0  0\\n    2.9605    0.7634   -0.3896 H   0  0  0  0  0  0  0  0  0  0  0  0\\n   -1.6106   -0.9884    1.5015 H   0  0  0  0  0  0  0  0  0  0  0  0\\n   -0.1802   -1.8103    1.1993 H   0  0  0  0  0  0  0  0  0  0  0  0\\n  1  2  1  0\\n  2  3  1  0\\n  3  4  2  0\\n  3  5  1  0\\n  2  6  1  0\\n  1  7  1  0\\n  1  8  1  0\\n  1  9  1  0\\n  2 10  1  0\\n  5 11  1  0\\n  6 12  1  0\\n  6 13  1  0\\nM  END\\n\");\n",
       "viewer_16553798779063742.setStyle({\"stick\": {\"colorscheme\": \"cyanCarbon\"}});\n",
       "viewer_16553798779063742.zoomTo();\n",
       "\tviewer_16553798779063742.setBackgroundColor(\"0xeeeeee\");\n",
       "\tviewer_16553798779063742.zoomTo();\n",
       "viewer_16553798779063742.render();\n",
       "});\n",
       "</script>"
      ]
     },
     "metadata": {},
     "output_type": "display_data"
    }
   ],
   "source": [
    "show_stk_mol(dalanine)"
   ]
  },
  {
   "cell_type": "code",
   "execution_count": 117,
   "id": "0c7f25e8-3cf7-4e2e-a15c-d7ef7b94eec2",
   "metadata": {},
   "outputs": [
    {
     "data": {
      "application/3dmoljs_load.v0": "<div id=\"3dmolviewer_1655379879921135\"  style=\"position: relative; width: 400px; height: 400px\">\n        <p id=\"3dmolwarning_1655379879921135\" style=\"background-color:#ffcccc;color:black\">You appear to be running in JupyterLab (or JavaScript failed to load for some other reason).  You need to install the 3dmol extension: <br>\n        <tt>jupyter labextension install jupyterlab_3dmol</tt></p>\n        </div>\n<script>\n\nvar loadScriptAsync = function(uri){\n  return new Promise((resolve, reject) => {\n    var tag = document.createElement('script');\n    tag.src = uri;\n    tag.async = true;\n    tag.onload = () => {\n      resolve();\n    };\n  var firstScriptTag = document.getElementsByTagName('script')[0];\n  firstScriptTag.parentNode.insertBefore(tag, firstScriptTag);\n});\n};\n\nif(typeof $3Dmolpromise === 'undefined') {\n$3Dmolpromise = null;\n  $3Dmolpromise = loadScriptAsync('https://3dmol.org/build/3Dmol.js');\n}\n\nvar viewer_1655379879921135 = null;\nvar warn = document.getElementById(\"3dmolwarning_1655379879921135\");\nif(warn) {\n    warn.parentNode.removeChild(warn);\n}\n$3Dmolpromise.then(function() {\nviewer_1655379879921135 = $3Dmol.createViewer($(\"#3dmolviewer_1655379879921135\"),{backgroundColor:\"white\"});\nviewer_1655379879921135.addModel(\"\\n     RDKit          3D\\n\\n 13 12  0  0  0  0  0  0  0  0999 V2000\\n   -1.0792    0.4439   -0.9198 C   0  0  0  0  0  0  0  0  0  0  0  0\\n   -0.3101   -0.5378   -0.0643 C   0  0  0  0  0  0  0  0  0  0  0  0\\n    1.1235   -0.2709   -0.2254 C   0  0  0  0  0  0  0  0  0  0  0  0\\n    1.6384   -0.3883   -1.3522 O   0  0  0  0  0  0  0  0  0  0  0  0\\n    1.9189    0.1082    0.8425 O   0  0  0  0  0  0  0  0  0  0  0  0\\n   -0.7548   -0.3570    1.3059 N   0  0  0  0  0  0  0  0  0  0  0  0\\n   -0.4741    0.6211   -1.8254 H   0  0  0  0  0  0  0  0  0  0  0  0\\n   -2.0429   -0.0087   -1.1978 H   0  0  0  0  0  0  0  0  0  0  0  0\\n   -1.1969    1.3756   -0.3307 H   0  0  0  0  0  0  0  0  0  0  0  0\\n   -0.5459   -1.5724   -0.3914 H   0  0  0  0  0  0  0  0  0  0  0  0\\n    2.7246    0.7204    0.7228 H   0  0  0  0  0  0  0  0  0  0  0  0\\n   -0.9513    0.6491    1.5157 H   0  0  0  0  0  0  0  0  0  0  0  0\\n   -0.0501   -0.7830    1.9201 H   0  0  0  0  0  0  0  0  0  0  0  0\\n  1  2  1  0\\n  2  3  1  0\\n  3  4  2  0\\n  3  5  1  0\\n  2  6  1  0\\n  1  7  1  0\\n  1  8  1  0\\n  1  9  1  0\\n  2 10  1  0\\n  5 11  1  0\\n  6 12  1  0\\n  6 13  1  0\\nM  END\\n\");\nviewer_1655379879921135.setStyle({\"stick\": {\"colorscheme\": \"cyanCarbon\"}});\nviewer_1655379879921135.zoomTo();\n\tviewer_1655379879921135.setBackgroundColor(\"0xeeeeee\");\n\tviewer_1655379879921135.zoomTo();\nviewer_1655379879921135.render();\n});\n</script>",
      "text/html": [
       "<div id=\"3dmolviewer_1655379879921135\"  style=\"position: relative; width: 400px; height: 400px\">\n",
       "        <p id=\"3dmolwarning_1655379879921135\" style=\"background-color:#ffcccc;color:black\">You appear to be running in JupyterLab (or JavaScript failed to load for some other reason).  You need to install the 3dmol extension: <br>\n",
       "        <tt>jupyter labextension install jupyterlab_3dmol</tt></p>\n",
       "        </div>\n",
       "<script>\n",
       "\n",
       "var loadScriptAsync = function(uri){\n",
       "  return new Promise((resolve, reject) => {\n",
       "    var tag = document.createElement('script');\n",
       "    tag.src = uri;\n",
       "    tag.async = true;\n",
       "    tag.onload = () => {\n",
       "      resolve();\n",
       "    };\n",
       "  var firstScriptTag = document.getElementsByTagName('script')[0];\n",
       "  firstScriptTag.parentNode.insertBefore(tag, firstScriptTag);\n",
       "});\n",
       "};\n",
       "\n",
       "if(typeof $3Dmolpromise === 'undefined') {\n",
       "$3Dmolpromise = null;\n",
       "  $3Dmolpromise = loadScriptAsync('https://3dmol.org/build/3Dmol.js');\n",
       "}\n",
       "\n",
       "var viewer_1655379879921135 = null;\n",
       "var warn = document.getElementById(\"3dmolwarning_1655379879921135\");\n",
       "if(warn) {\n",
       "    warn.parentNode.removeChild(warn);\n",
       "}\n",
       "$3Dmolpromise.then(function() {\n",
       "viewer_1655379879921135 = $3Dmol.createViewer($(\"#3dmolviewer_1655379879921135\"),{backgroundColor:\"white\"});\n",
       "viewer_1655379879921135.addModel(\"\\n     RDKit          3D\\n\\n 13 12  0  0  0  0  0  0  0  0999 V2000\\n   -1.0792    0.4439   -0.9198 C   0  0  0  0  0  0  0  0  0  0  0  0\\n   -0.3101   -0.5378   -0.0643 C   0  0  0  0  0  0  0  0  0  0  0  0\\n    1.1235   -0.2709   -0.2254 C   0  0  0  0  0  0  0  0  0  0  0  0\\n    1.6384   -0.3883   -1.3522 O   0  0  0  0  0  0  0  0  0  0  0  0\\n    1.9189    0.1082    0.8425 O   0  0  0  0  0  0  0  0  0  0  0  0\\n   -0.7548   -0.3570    1.3059 N   0  0  0  0  0  0  0  0  0  0  0  0\\n   -0.4741    0.6211   -1.8254 H   0  0  0  0  0  0  0  0  0  0  0  0\\n   -2.0429   -0.0087   -1.1978 H   0  0  0  0  0  0  0  0  0  0  0  0\\n   -1.1969    1.3756   -0.3307 H   0  0  0  0  0  0  0  0  0  0  0  0\\n   -0.5459   -1.5724   -0.3914 H   0  0  0  0  0  0  0  0  0  0  0  0\\n    2.7246    0.7204    0.7228 H   0  0  0  0  0  0  0  0  0  0  0  0\\n   -0.9513    0.6491    1.5157 H   0  0  0  0  0  0  0  0  0  0  0  0\\n   -0.0501   -0.7830    1.9201 H   0  0  0  0  0  0  0  0  0  0  0  0\\n  1  2  1  0\\n  2  3  1  0\\n  3  4  2  0\\n  3  5  1  0\\n  2  6  1  0\\n  1  7  1  0\\n  1  8  1  0\\n  1  9  1  0\\n  2 10  1  0\\n  5 11  1  0\\n  6 12  1  0\\n  6 13  1  0\\nM  END\\n\");\n",
       "viewer_1655379879921135.setStyle({\"stick\": {\"colorscheme\": \"cyanCarbon\"}});\n",
       "viewer_1655379879921135.zoomTo();\n",
       "\tviewer_1655379879921135.setBackgroundColor(\"0xeeeeee\");\n",
       "\tviewer_1655379879921135.zoomTo();\n",
       "viewer_1655379879921135.render();\n",
       "});\n",
       "</script>"
      ]
     },
     "metadata": {},
     "output_type": "display_data"
    }
   ],
   "source": [
    "show_stk_mol(lalanine)"
   ]
  },
  {
   "cell_type": "code",
   "execution_count": 118,
   "id": "e3ad8544-7048-4ab0-a54b-775a4bb84b16",
   "metadata": {},
   "outputs": [],
   "source": [
    "trans1_isomer = stk.BuildingBlock('F/C=C/F', (stk.FluoroFactory(), ))\n",
    "trans2_isomer = stk.BuildingBlock('F\\C=C\\F', (stk.FluoroFactory(), ))\n",
    "cis1_isomer = stk.BuildingBlock('F/C=C\\F', (stk.FluoroFactory(), ))\n",
    "cis2_isomer = stk.BuildingBlock('F\\C=C/F', (stk.FluoroFactory(), ))\n",
    "whatami = stk.BuildingBlock('FC=CF', (stk.FluoroFactory(), ))"
   ]
  },
  {
   "cell_type": "markdown",
   "id": "50854559-6621-4002-a924-a0c7e278cadb",
   "metadata": {},
   "source": [
    "## Sadly, this info is lost in rdkit, but maintained structurally!"
   ]
  },
  {
   "cell_type": "code",
   "execution_count": 119,
   "id": "238a846e-6d12-4860-9b03-b4575df2951c",
   "metadata": {},
   "outputs": [
    {
     "data": {
      "application/3dmoljs_load.v0": "<div id=\"3dmolviewer_16553799124906697\"  style=\"position: relative; width: 400px; height: 400px\">\n        <p id=\"3dmolwarning_16553799124906697\" style=\"background-color:#ffcccc;color:black\">You appear to be running in JupyterLab (or JavaScript failed to load for some other reason).  You need to install the 3dmol extension: <br>\n        <tt>jupyter labextension install jupyterlab_3dmol</tt></p>\n        </div>\n<script>\n\nvar loadScriptAsync = function(uri){\n  return new Promise((resolve, reject) => {\n    var tag = document.createElement('script');\n    tag.src = uri;\n    tag.async = true;\n    tag.onload = () => {\n      resolve();\n    };\n  var firstScriptTag = document.getElementsByTagName('script')[0];\n  firstScriptTag.parentNode.insertBefore(tag, firstScriptTag);\n});\n};\n\nif(typeof $3Dmolpromise === 'undefined') {\n$3Dmolpromise = null;\n  $3Dmolpromise = loadScriptAsync('https://3dmol.org/build/3Dmol.js');\n}\n\nvar viewer_16553799124906697 = null;\nvar warn = document.getElementById(\"3dmolwarning_16553799124906697\");\nif(warn) {\n    warn.parentNode.removeChild(warn);\n}\n$3Dmolpromise.then(function() {\nviewer_16553799124906697 = $3Dmol.createViewer($(\"#3dmolviewer_16553799124906697\"),{backgroundColor:\"white\"});\nviewer_16553799124906697.addModel(\"\\n     RDKit          3D\\n\\n  6  5  0  0  0  0  0  0  0  0999 V2000\\n   -1.5087    0.8079    0.3359 F   0  0  0  0  0  0  0  0  0  0  0  0\\n   -0.6314   -0.1796    0.0019 C   0  0  0  0  0  0  0  0  0  0  0  0\\n    0.6120    0.1808   -0.3252 C   0  0  0  0  0  0  0  0  0  0  0  0\\n    1.5029   -0.8092   -0.6633 F   0  0  0  0  0  0  0  0  0  0  0  0\\n   -0.8971   -1.2338   -0.0094 H   0  0  0  0  0  0  0  0  0  0  0  0\\n    0.9223    1.2339   -0.3268 H   0  0  0  0  0  0  0  0  0  0  0  0\\n  1  2  1  0\\n  2  3  2  3\\n  3  4  1  0\\n  2  5  1  0\\n  3  6  1  0\\nM  END\\n\");\nviewer_16553799124906697.setStyle({\"stick\": {\"colorscheme\": \"cyanCarbon\"}});\nviewer_16553799124906697.zoomTo();\n\tviewer_16553799124906697.setBackgroundColor(\"0xeeeeee\");\n\tviewer_16553799124906697.zoomTo();\nviewer_16553799124906697.render();\n});\n</script>",
      "text/html": [
       "<div id=\"3dmolviewer_16553799124906697\"  style=\"position: relative; width: 400px; height: 400px\">\n",
       "        <p id=\"3dmolwarning_16553799124906697\" style=\"background-color:#ffcccc;color:black\">You appear to be running in JupyterLab (or JavaScript failed to load for some other reason).  You need to install the 3dmol extension: <br>\n",
       "        <tt>jupyter labextension install jupyterlab_3dmol</tt></p>\n",
       "        </div>\n",
       "<script>\n",
       "\n",
       "var loadScriptAsync = function(uri){\n",
       "  return new Promise((resolve, reject) => {\n",
       "    var tag = document.createElement('script');\n",
       "    tag.src = uri;\n",
       "    tag.async = true;\n",
       "    tag.onload = () => {\n",
       "      resolve();\n",
       "    };\n",
       "  var firstScriptTag = document.getElementsByTagName('script')[0];\n",
       "  firstScriptTag.parentNode.insertBefore(tag, firstScriptTag);\n",
       "});\n",
       "};\n",
       "\n",
       "if(typeof $3Dmolpromise === 'undefined') {\n",
       "$3Dmolpromise = null;\n",
       "  $3Dmolpromise = loadScriptAsync('https://3dmol.org/build/3Dmol.js');\n",
       "}\n",
       "\n",
       "var viewer_16553799124906697 = null;\n",
       "var warn = document.getElementById(\"3dmolwarning_16553799124906697\");\n",
       "if(warn) {\n",
       "    warn.parentNode.removeChild(warn);\n",
       "}\n",
       "$3Dmolpromise.then(function() {\n",
       "viewer_16553799124906697 = $3Dmol.createViewer($(\"#3dmolviewer_16553799124906697\"),{backgroundColor:\"white\"});\n",
       "viewer_16553799124906697.addModel(\"\\n     RDKit          3D\\n\\n  6  5  0  0  0  0  0  0  0  0999 V2000\\n   -1.5087    0.8079    0.3359 F   0  0  0  0  0  0  0  0  0  0  0  0\\n   -0.6314   -0.1796    0.0019 C   0  0  0  0  0  0  0  0  0  0  0  0\\n    0.6120    0.1808   -0.3252 C   0  0  0  0  0  0  0  0  0  0  0  0\\n    1.5029   -0.8092   -0.6633 F   0  0  0  0  0  0  0  0  0  0  0  0\\n   -0.8971   -1.2338   -0.0094 H   0  0  0  0  0  0  0  0  0  0  0  0\\n    0.9223    1.2339   -0.3268 H   0  0  0  0  0  0  0  0  0  0  0  0\\n  1  2  1  0\\n  2  3  2  3\\n  3  4  1  0\\n  2  5  1  0\\n  3  6  1  0\\nM  END\\n\");\n",
       "viewer_16553799124906697.setStyle({\"stick\": {\"colorscheme\": \"cyanCarbon\"}});\n",
       "viewer_16553799124906697.zoomTo();\n",
       "\tviewer_16553799124906697.setBackgroundColor(\"0xeeeeee\");\n",
       "\tviewer_16553799124906697.zoomTo();\n",
       "viewer_16553799124906697.render();\n",
       "});\n",
       "</script>"
      ]
     },
     "metadata": {},
     "output_type": "display_data"
    }
   ],
   "source": [
    "show_stk_mol(trans1_isomer)"
   ]
  },
  {
   "cell_type": "code",
   "execution_count": 120,
   "id": "9f4a9746-91c1-49b0-bd9b-a7b336bf13a8",
   "metadata": {},
   "outputs": [
    {
     "name": "stdout",
     "output_type": "stream",
     "text": [
      "[H]C(F)=C([H])F\n"
     ]
    },
    {
     "data": {
      "image/png": "[encoded data removed]",
      "text/plain": [
       "<rdkit.Chem.rdchem.Mol at 0x7f3f7dc538a0>"
      ]
     },
     "execution_count": 120,
     "metadata": {},
     "output_type": "execute_result"
    }
   ],
   "source": [
    "rdkit_2d_draw(trans1_isomer)"
   ]
  },
  {
   "cell_type": "markdown",
   "id": "92773b63-0caa-4183-8a25-dadbd36ce257",
   "metadata": {},
   "source": [
    "## Can recover from rdkit somehow."
   ]
  },
  {
   "cell_type": "code",
   "execution_count": 131,
   "id": "275c1564-2443-442c-98b8-e15fd1f0fdc9",
   "metadata": {},
   "outputs": [],
   "source": [
    "a = trans1_isomer.to_rdkit_mol()\n",
    "rdkit.AssignAtomChiralTagsFromStructure(a)"
   ]
  },
  {
   "cell_type": "code",
   "execution_count": 132,
   "id": "878f2bac-fe01-46c4-bcf6-b93fd9090795",
   "metadata": {},
   "outputs": [
    {
     "data": {
      "text/plain": [
       "'[H]C(F)=C([H])F'"
      ]
     },
     "execution_count": 132,
     "metadata": {},
     "output_type": "execute_result"
    }
   ],
   "source": [
    "rdkit.MolToSmiles(a)"
   ]
  },
  {
   "cell_type": "code",
   "execution_count": 121,
   "id": "1977ede9-d0d1-4bcd-8744-5cdc7be0e918",
   "metadata": {},
   "outputs": [
    {
     "data": {
      "application/3dmoljs_load.v0": "<div id=\"3dmolviewer_16553799356952975\"  style=\"position: relative; width: 400px; height: 400px\">\n        <p id=\"3dmolwarning_16553799356952975\" style=\"background-color:#ffcccc;color:black\">You appear to be running in JupyterLab (or JavaScript failed to load for some other reason).  You need to install the 3dmol extension: <br>\n        <tt>jupyter labextension install jupyterlab_3dmol</tt></p>\n        </div>\n<script>\n\nvar loadScriptAsync = function(uri){\n  return new Promise((resolve, reject) => {\n    var tag = document.createElement('script');\n    tag.src = uri;\n    tag.async = true;\n    tag.onload = () => {\n      resolve();\n    };\n  var firstScriptTag = document.getElementsByTagName('script')[0];\n  firstScriptTag.parentNode.insertBefore(tag, firstScriptTag);\n});\n};\n\nif(typeof $3Dmolpromise === 'undefined') {\n$3Dmolpromise = null;\n  $3Dmolpromise = loadScriptAsync('https://3dmol.org/build/3Dmol.js');\n}\n\nvar viewer_16553799356952975 = null;\nvar warn = document.getElementById(\"3dmolwarning_16553799356952975\");\nif(warn) {\n    warn.parentNode.removeChild(warn);\n}\n$3Dmolpromise.then(function() {\nviewer_16553799356952975 = $3Dmol.createViewer($(\"#3dmolviewer_16553799356952975\"),{backgroundColor:\"white\"});\nviewer_16553799356952975.addModel(\"\\n     RDKit          3D\\n\\n  6  5  0  0  0  0  0  0  0  0999 V2000\\n   -1.1127    0.8458    0.8944 F   0  0  0  0  0  0  0  0  0  0  0  0\\n   -0.6427   -0.0676   -0.0210 C   0  0  0  0  0  0  0  0  0  0  0  0\\n    0.6223   -0.0514   -0.4017 C   0  0  0  0  0  0  0  0  0  0  0  0\\n    1.5038    0.8500    0.0826 F   0  0  0  0  0  0  0  0  0  0  0  0\\n   -1.3402   -0.8013   -0.4215 H   0  0  0  0  0  0  0  0  0  0  0  0\\n    0.9696   -0.7755   -1.1196 H   0  0  0  0  0  0  0  0  0  0  0  0\\n  1  2  1  0\\n  2  3  2  3\\n  3  4  1  0\\n  2  5  1  0\\n  3  6  1  0\\nM  END\\n\");\nviewer_16553799356952975.setStyle({\"stick\": {\"colorscheme\": \"cyanCarbon\"}});\nviewer_16553799356952975.zoomTo();\n\tviewer_16553799356952975.setBackgroundColor(\"0xeeeeee\");\n\tviewer_16553799356952975.zoomTo();\nviewer_16553799356952975.render();\n});\n</script>",
      "text/html": [
       "<div id=\"3dmolviewer_16553799356952975\"  style=\"position: relative; width: 400px; height: 400px\">\n",
       "        <p id=\"3dmolwarning_16553799356952975\" style=\"background-color:#ffcccc;color:black\">You appear to be running in JupyterLab (or JavaScript failed to load for some other reason).  You need to install the 3dmol extension: <br>\n",
       "        <tt>jupyter labextension install jupyterlab_3dmol</tt></p>\n",
       "        </div>\n",
       "<script>\n",
       "\n",
       "var loadScriptAsync = function(uri){\n",
       "  return new Promise((resolve, reject) => {\n",
       "    var tag = document.createElement('script');\n",
       "    tag.src = uri;\n",
       "    tag.async = true;\n",
       "    tag.onload = () => {\n",
       "      resolve();\n",
       "    };\n",
       "  var firstScriptTag = document.getElementsByTagName('script')[0];\n",
       "  firstScriptTag.parentNode.insertBefore(tag, firstScriptTag);\n",
       "});\n",
       "};\n",
       "\n",
       "if(typeof $3Dmolpromise === 'undefined') {\n",
       "$3Dmolpromise = null;\n",
       "  $3Dmolpromise = loadScriptAsync('https://3dmol.org/build/3Dmol.js');\n",
       "}\n",
       "\n",
       "var viewer_16553799356952975 = null;\n",
       "var warn = document.getElementById(\"3dmolwarning_16553799356952975\");\n",
       "if(warn) {\n",
       "    warn.parentNode.removeChild(warn);\n",
       "}\n",
       "$3Dmolpromise.then(function() {\n",
       "viewer_16553799356952975 = $3Dmol.createViewer($(\"#3dmolviewer_16553799356952975\"),{backgroundColor:\"white\"});\n",
       "viewer_16553799356952975.addModel(\"\\n     RDKit          3D\\n\\n  6  5  0  0  0  0  0  0  0  0999 V2000\\n   -1.1127    0.8458    0.8944 F   0  0  0  0  0  0  0  0  0  0  0  0\\n   -0.6427   -0.0676   -0.0210 C   0  0  0  0  0  0  0  0  0  0  0  0\\n    0.6223   -0.0514   -0.4017 C   0  0  0  0  0  0  0  0  0  0  0  0\\n    1.5038    0.8500    0.0826 F   0  0  0  0  0  0  0  0  0  0  0  0\\n   -1.3402   -0.8013   -0.4215 H   0  0  0  0  0  0  0  0  0  0  0  0\\n    0.9696   -0.7755   -1.1196 H   0  0  0  0  0  0  0  0  0  0  0  0\\n  1  2  1  0\\n  2  3  2  3\\n  3  4  1  0\\n  2  5  1  0\\n  3  6  1  0\\nM  END\\n\");\n",
       "viewer_16553799356952975.setStyle({\"stick\": {\"colorscheme\": \"cyanCarbon\"}});\n",
       "viewer_16553799356952975.zoomTo();\n",
       "\tviewer_16553799356952975.setBackgroundColor(\"0xeeeeee\");\n",
       "\tviewer_16553799356952975.zoomTo();\n",
       "viewer_16553799356952975.render();\n",
       "});\n",
       "</script>"
      ]
     },
     "metadata": {},
     "output_type": "display_data"
    }
   ],
   "source": [
    "show_stk_mol(cis2_isomer)"
   ]
  },
  {
   "cell_type": "code",
   "execution_count": 122,
   "id": "bab7cf91-db75-4291-a298-c5de493f4b3c",
   "metadata": {},
   "outputs": [
    {
     "name": "stdout",
     "output_type": "stream",
     "text": [
      "[H]C(F)=C([H])F\n"
     ]
    },
    {
     "data": {
      "image/png": "[encoded data removed]",
      "text/plain": [
       "<rdkit.Chem.rdchem.Mol at 0x7f3f7dc53b20>"
      ]
     },
     "execution_count": 122,
     "metadata": {},
     "output_type": "execute_result"
    }
   ],
   "source": [
    "rdkit_2d_draw(cis2_isomer)"
   ]
  },
  {
   "cell_type": "code",
   "execution_count": 133,
   "id": "4ec50156-9f08-487e-ad85-fe6fdb766709",
   "metadata": {},
   "outputs": [],
   "source": [
    "polymer = stk.ConstructedMolecule(\n",
    "    topology_graph=stk.polymer.Linear(\n",
    "        building_blocks=(trans1_isomer, cis1_isomer),\n",
    "        repeating_unit='AB',\n",
    "        num_repeating_units=2,\n",
    "    ),\n",
    ")"
   ]
  },
  {
   "cell_type": "code",
   "execution_count": 134,
   "id": "2f4c010b-279c-4699-80ea-84571d909c13",
   "metadata": {},
   "outputs": [
    {
     "data": {
      "application/3dmoljs_load.v0": "<div id=\"3dmolviewer_16553801608791344\"  style=\"position: relative; width: 400px; height: 400px\">\n        <p id=\"3dmolwarning_16553801608791344\" style=\"background-color:#ffcccc;color:black\">You appear to be running in JupyterLab (or JavaScript failed to load for some other reason).  You need to install the 3dmol extension: <br>\n        <tt>jupyter labextension install jupyterlab_3dmol</tt></p>\n        </div>\n<script>\n\nvar loadScriptAsync = function(uri){\n  return new Promise((resolve, reject) => {\n    var tag = document.createElement('script');\n    tag.src = uri;\n    tag.async = true;\n    tag.onload = () => {\n      resolve();\n    };\n  var firstScriptTag = document.getElementsByTagName('script')[0];\n  firstScriptTag.parentNode.insertBefore(tag, firstScriptTag);\n});\n};\n\nif(typeof $3Dmolpromise === 'undefined') {\n$3Dmolpromise = null;\n  $3Dmolpromise = loadScriptAsync('https://3dmol.org/build/3Dmol.js');\n}\n\nvar viewer_16553801608791344 = null;\nvar warn = document.getElementById(\"3dmolwarning_16553801608791344\");\nif(warn) {\n    warn.parentNode.removeChild(warn);\n}\n$3Dmolpromise.then(function() {\nviewer_16553801608791344 = $3Dmol.createViewer($(\"#3dmolviewer_16553801608791344\"),{backgroundColor:\"white\"});\nviewer_16553801608791344.addModel(\"\\n     RDKit          3D\\n\\n 18 17  0  0  0  0  0  0  0  0999 V2000\\n   -1.2998    1.1985    0.1425 F   0  0  0  0  0  0  0  0  0  0  0  0\\n   -0.6676    0.0000   -0.0000 C   0  0  0  0  0  0  0  0  0  0  0  0\\n    0.6676   -0.0000   -0.0000 C   0  0  0  0  0  0  0  0  0  0  0  0\\n   -1.1968   -0.9431   -0.1121 H   0  0  0  0  0  0  0  0  0  0  0  0\\n    1.2412    0.9296    0.1105 H   0  0  0  0  0  0  0  0  0  0  0  0\\n    7.3716   -0.0000    0.0000 C   0  0  0  0  0  0  0  0  0  0  0  0\\n    8.7069   -0.0000    0.0000 C   0  0  0  0  0  0  0  0  0  0  0  0\\n    6.8424   -0.9431   -0.1121 H   0  0  0  0  0  0  0  0  0  0  0  0\\n    9.2805    0.9296    0.1105 H   0  0  0  0  0  0  0  0  0  0  0  0\\n    3.3590   -0.0000    0.0000 C   0  0  0  0  0  0  0  0  0  0  0  0\\n    4.6802   -0.0000    0.0000 C   0  0  0  0  0  0  0  0  0  0  0  0\\n    2.7976   -0.7258   -0.5857 H   0  0  0  0  0  0  0  0  0  0  0  0\\n    5.2108   -0.7296   -0.5887 H   0  0  0  0  0  0  0  0  0  0  0  0\\n   11.3983    0.0000   -0.0000 C   0  0  0  0  0  0  0  0  0  0  0  0\\n   12.7195    0.0000   -0.0000 C   0  0  0  0  0  0  0  0  0  0  0  0\\n   13.4350    0.8915    0.7193 F   0  0  0  0  0  0  0  0  0  0  0  0\\n   10.8368   -0.7258   -0.5857 H   0  0  0  0  0  0  0  0  0  0  0  0\\n   13.2500   -0.7296   -0.5887 H   0  0  0  0  0  0  0  0  0  0  0  0\\n  1  2  1  0\\n  2  3  2  3\\n  2  4  1  0\\n  3  5  1  0\\n  6  7  2  3\\n  6  8  1  0\\n  7  9  1  0\\n 10 11  2  3\\n 10 12  1  0\\n 11 13  1  0\\n 14 15  2  3\\n 15 16  1  0\\n 14 17  1  0\\n 15 18  1  0\\n  3 10  1  0\\n  6 11  1  0\\n  7 14  1  0\\nM  END\\n\");\nviewer_16553801608791344.setStyle({\"stick\": {\"colorscheme\": \"cyanCarbon\"}});\nviewer_16553801608791344.zoomTo();\n\tviewer_16553801608791344.setBackgroundColor(\"0xeeeeee\");\n\tviewer_16553801608791344.zoomTo();\nviewer_16553801608791344.render();\n});\n</script>",
      "text/html": [
       "<div id=\"3dmolviewer_16553801608791344\"  style=\"position: relative; width: 400px; height: 400px\">\n",
       "        <p id=\"3dmolwarning_16553801608791344\" style=\"background-color:#ffcccc;color:black\">You appear to be running in JupyterLab (or JavaScript failed to load for some other reason).  You need to install the 3dmol extension: <br>\n",
       "        <tt>jupyter labextension install jupyterlab_3dmol</tt></p>\n",
       "        </div>\n",
       "<script>\n",
       "\n",
       "var loadScriptAsync = function(uri){\n",
       "  return new Promise((resolve, reject) => {\n",
       "    var tag = document.createElement('script');\n",
       "    tag.src = uri;\n",
       "    tag.async = true;\n",
       "    tag.onload = () => {\n",
       "      resolve();\n",
       "    };\n",
       "  var firstScriptTag = document.getElementsByTagName('script')[0];\n",
       "  firstScriptTag.parentNode.insertBefore(tag, firstScriptTag);\n",
       "});\n",
       "};\n",
       "\n",
       "if(typeof $3Dmolpromise === 'undefined') {\n",
       "$3Dmolpromise = null;\n",
       "  $3Dmolpromise = loadScriptAsync('https://3dmol.org/build/3Dmol.js');\n",
       "}\n",
       "\n",
       "var viewer_16553801608791344 = null;\n",
       "var warn = document.getElementById(\"3dmolwarning_16553801608791344\");\n",
       "if(warn) {\n",
       "    warn.parentNode.removeChild(warn);\n",
       "}\n",
       "$3Dmolpromise.then(function() {\n",
       "viewer_16553801608791344 = $3Dmol.createViewer($(\"#3dmolviewer_16553801608791344\"),{backgroundColor:\"white\"});\n",
       "viewer_16553801608791344.addModel(\"\\n     RDKit          3D\\n\\n 18 17  0  0  0  0  0  0  0  0999 V2000\\n   -1.2998    1.1985    0.1425 F   0  0  0  0  0  0  0  0  0  0  0  0\\n   -0.6676    0.0000   -0.0000 C   0  0  0  0  0  0  0  0  0  0  0  0\\n    0.6676   -0.0000   -0.0000 C   0  0  0  0  0  0  0  0  0  0  0  0\\n   -1.1968   -0.9431   -0.1121 H   0  0  0  0  0  0  0  0  0  0  0  0\\n    1.2412    0.9296    0.1105 H   0  0  0  0  0  0  0  0  0  0  0  0\\n    7.3716   -0.0000    0.0000 C   0  0  0  0  0  0  0  0  0  0  0  0\\n    8.7069   -0.0000    0.0000 C   0  0  0  0  0  0  0  0  0  0  0  0\\n    6.8424   -0.9431   -0.1121 H   0  0  0  0  0  0  0  0  0  0  0  0\\n    9.2805    0.9296    0.1105 H   0  0  0  0  0  0  0  0  0  0  0  0\\n    3.3590   -0.0000    0.0000 C   0  0  0  0  0  0  0  0  0  0  0  0\\n    4.6802   -0.0000    0.0000 C   0  0  0  0  0  0  0  0  0  0  0  0\\n    2.7976   -0.7258   -0.5857 H   0  0  0  0  0  0  0  0  0  0  0  0\\n    5.2108   -0.7296   -0.5887 H   0  0  0  0  0  0  0  0  0  0  0  0\\n   11.3983    0.0000   -0.0000 C   0  0  0  0  0  0  0  0  0  0  0  0\\n   12.7195    0.0000   -0.0000 C   0  0  0  0  0  0  0  0  0  0  0  0\\n   13.4350    0.8915    0.7193 F   0  0  0  0  0  0  0  0  0  0  0  0\\n   10.8368   -0.7258   -0.5857 H   0  0  0  0  0  0  0  0  0  0  0  0\\n   13.2500   -0.7296   -0.5887 H   0  0  0  0  0  0  0  0  0  0  0  0\\n  1  2  1  0\\n  2  3  2  3\\n  2  4  1  0\\n  3  5  1  0\\n  6  7  2  3\\n  6  8  1  0\\n  7  9  1  0\\n 10 11  2  3\\n 10 12  1  0\\n 11 13  1  0\\n 14 15  2  3\\n 15 16  1  0\\n 14 17  1  0\\n 15 18  1  0\\n  3 10  1  0\\n  6 11  1  0\\n  7 14  1  0\\nM  END\\n\");\n",
       "viewer_16553801608791344.setStyle({\"stick\": {\"colorscheme\": \"cyanCarbon\"}});\n",
       "viewer_16553801608791344.zoomTo();\n",
       "\tviewer_16553801608791344.setBackgroundColor(\"0xeeeeee\");\n",
       "\tviewer_16553801608791344.zoomTo();\n",
       "viewer_16553801608791344.render();\n",
       "});\n",
       "</script>"
      ]
     },
     "metadata": {},
     "output_type": "display_data"
    }
   ],
   "source": [
    "show_stk_mol(polymer)"
   ]
  },
  {
   "cell_type": "code",
   "execution_count": 135,
   "id": "d9b3d294-fd6d-4f5f-b86d-36bc7d75bddc",
   "metadata": {},
   "outputs": [],
   "source": [
    "opt_poly = stko.MMFF().optimize(polymer)"
   ]
  },
  {
   "cell_type": "code",
   "execution_count": 136,
   "id": "9b16bb37-35f1-4ea8-983f-78f91d3eeca5",
   "metadata": {},
   "outputs": [
    {
     "data": {
      "application/3dmoljs_load.v0": "<div id=\"3dmolviewer_16553802130671651\"  style=\"position: relative; width: 400px; height: 400px\">\n        <p id=\"3dmolwarning_16553802130671651\" style=\"background-color:#ffcccc;color:black\">You appear to be running in JupyterLab (or JavaScript failed to load for some other reason).  You need to install the 3dmol extension: <br>\n        <tt>jupyter labextension install jupyterlab_3dmol</tt></p>\n        </div>\n<script>\n\nvar loadScriptAsync = function(uri){\n  return new Promise((resolve, reject) => {\n    var tag = document.createElement('script');\n    tag.src = uri;\n    tag.async = true;\n    tag.onload = () => {\n      resolve();\n    };\n  var firstScriptTag = document.getElementsByTagName('script')[0];\n  firstScriptTag.parentNode.insertBefore(tag, firstScriptTag);\n});\n};\n\nif(typeof $3Dmolpromise === 'undefined') {\n$3Dmolpromise = null;\n  $3Dmolpromise = loadScriptAsync('https://3dmol.org/build/3Dmol.js');\n}\n\nvar viewer_16553802130671651 = null;\nvar warn = document.getElementById(\"3dmolwarning_16553802130671651\");\nif(warn) {\n    warn.parentNode.removeChild(warn);\n}\n$3Dmolpromise.then(function() {\nviewer_16553802130671651 = $3Dmol.createViewer($(\"#3dmolviewer_16553802130671651\"),{backgroundColor:\"white\"});\nviewer_16553802130671651.addModel(\"\\n     RDKit          3D\\n\\n 18 17  0  0  0  0  0  0  0  0999 V2000\\n    4.9208    2.6431    2.6921 F   0  0  0  0  0  0  0  0  0  0  0  0\\n    3.8045    1.9327    2.4389 C   0  0  0  0  0  0  0  0  0  0  0  0\\n    3.7867    0.8973    1.5990 C   0  0  0  0  0  0  0  0  0  0  0  0\\n    2.9664    2.3241    2.9931 H   0  0  0  0  0  0  0  0  0  0  0  0\\n    2.8509    0.3714    1.4262 H   0  0  0  0  0  0  0  0  0  0  0  0\\n    6.1229   -1.0144   -0.7276 C   0  0  0  0  0  0  0  0  0  0  0  0\\n    6.9253   -0.1993   -1.4272 C   0  0  0  0  0  0  0  0  0  0  0  0\\n    6.3060   -2.0870   -0.7053 H   0  0  0  0  0  0  0  0  0  0  0  0\\n    6.7046    0.8653   -1.4935 H   0  0  0  0  0  0  0  0  0  0  0  0\\n    4.9560    0.4592    0.8716 C   0  0  0  0  0  0  0  0  0  0  0  0\\n    4.9571   -0.5832    0.0270 C   0  0  0  0  0  0  0  0  0  0  0  0\\n    5.8675    1.0338    1.0274 H   0  0  0  0  0  0  0  0  0  0  0  0\\n    4.0640   -1.1877   -0.1142 H   0  0  0  0  0  0  0  0  0  0  0  0\\n    8.1049   -0.6361   -2.1319 C   0  0  0  0  0  0  0  0  0  0  0  0\\n    8.9832   -1.5390   -1.6917 C   0  0  0  0  0  0  0  0  0  0  0  0\\n   10.0579   -1.8825   -2.4251 F   0  0  0  0  0  0  0  0  0  0  0  0\\n    8.2974   -0.1559   -3.0899 H   0  0  0  0  0  0  0  0  0  0  0  0\\n    8.9573   -2.0896   -0.7591 H   0  0  0  0  0  0  0  0  0  0  0  0\\n  1  2  1  0\\n  2  3  2  3\\n  2  4  1  0\\n  3  5  1  0\\n  6  7  2  3\\n  6  8  1  0\\n  7  9  1  0\\n 10 11  2  3\\n 10 12  1  0\\n 11 13  1  0\\n 14 15  2  3\\n 15 16  1  0\\n 14 17  1  0\\n 15 18  1  0\\n  3 10  1  0\\n  6 11  1  0\\n  7 14  1  0\\nM  END\\n\");\nviewer_16553802130671651.setStyle({\"stick\": {\"colorscheme\": \"cyanCarbon\"}});\nviewer_16553802130671651.zoomTo();\n\tviewer_16553802130671651.setBackgroundColor(\"0xeeeeee\");\n\tviewer_16553802130671651.zoomTo();\nviewer_16553802130671651.render();\n});\n</script>",
      "text/html": [
       "<div id=\"3dmolviewer_16553802130671651\"  style=\"position: relative; width: 400px; height: 400px\">\n",
       "        <p id=\"3dmolwarning_16553802130671651\" style=\"background-color:#ffcccc;color:black\">You appear to be running in JupyterLab (or JavaScript failed to load for some other reason).  You need to install the 3dmol extension: <br>\n",
       "        <tt>jupyter labextension install jupyterlab_3dmol</tt></p>\n",
       "        </div>\n",
       "<script>\n",
       "\n",
       "var loadScriptAsync = function(uri){\n",
       "  return new Promise((resolve, reject) => {\n",
       "    var tag = document.createElement('script');\n",
       "    tag.src = uri;\n",
       "    tag.async = true;\n",
       "    tag.onload = () => {\n",
       "      resolve();\n",
       "    };\n",
       "  var firstScriptTag = document.getElementsByTagName('script')[0];\n",
       "  firstScriptTag.parentNode.insertBefore(tag, firstScriptTag);\n",
       "});\n",
       "};\n",
       "\n",
       "if(typeof $3Dmolpromise === 'undefined') {\n",
       "$3Dmolpromise = null;\n",
       "  $3Dmolpromise = loadScriptAsync('https://3dmol.org/build/3Dmol.js');\n",
       "}\n",
       "\n",
       "var viewer_16553802130671651 = null;\n",
       "var warn = document.getElementById(\"3dmolwarning_16553802130671651\");\n",
       "if(warn) {\n",
       "    warn.parentNode.removeChild(warn);\n",
       "}\n",
       "$3Dmolpromise.then(function() {\n",
       "viewer_16553802130671651 = $3Dmol.createViewer($(\"#3dmolviewer_16553802130671651\"),{backgroundColor:\"white\"});\n",
       "viewer_16553802130671651.addModel(\"\\n     RDKit          3D\\n\\n 18 17  0  0  0  0  0  0  0  0999 V2000\\n    4.9208    2.6431    2.6921 F   0  0  0  0  0  0  0  0  0  0  0  0\\n    3.8045    1.9327    2.4389 C   0  0  0  0  0  0  0  0  0  0  0  0\\n    3.7867    0.8973    1.5990 C   0  0  0  0  0  0  0  0  0  0  0  0\\n    2.9664    2.3241    2.9931 H   0  0  0  0  0  0  0  0  0  0  0  0\\n    2.8509    0.3714    1.4262 H   0  0  0  0  0  0  0  0  0  0  0  0\\n    6.1229   -1.0144   -0.7276 C   0  0  0  0  0  0  0  0  0  0  0  0\\n    6.9253   -0.1993   -1.4272 C   0  0  0  0  0  0  0  0  0  0  0  0\\n    6.3060   -2.0870   -0.7053 H   0  0  0  0  0  0  0  0  0  0  0  0\\n    6.7046    0.8653   -1.4935 H   0  0  0  0  0  0  0  0  0  0  0  0\\n    4.9560    0.4592    0.8716 C   0  0  0  0  0  0  0  0  0  0  0  0\\n    4.9571   -0.5832    0.0270 C   0  0  0  0  0  0  0  0  0  0  0  0\\n    5.8675    1.0338    1.0274 H   0  0  0  0  0  0  0  0  0  0  0  0\\n    4.0640   -1.1877   -0.1142 H   0  0  0  0  0  0  0  0  0  0  0  0\\n    8.1049   -0.6361   -2.1319 C   0  0  0  0  0  0  0  0  0  0  0  0\\n    8.9832   -1.5390   -1.6917 C   0  0  0  0  0  0  0  0  0  0  0  0\\n   10.0579   -1.8825   -2.4251 F   0  0  0  0  0  0  0  0  0  0  0  0\\n    8.2974   -0.1559   -3.0899 H   0  0  0  0  0  0  0  0  0  0  0  0\\n    8.9573   -2.0896   -0.7591 H   0  0  0  0  0  0  0  0  0  0  0  0\\n  1  2  1  0\\n  2  3  2  3\\n  2  4  1  0\\n  3  5  1  0\\n  6  7  2  3\\n  6  8  1  0\\n  7  9  1  0\\n 10 11  2  3\\n 10 12  1  0\\n 11 13  1  0\\n 14 15  2  3\\n 15 16  1  0\\n 14 17  1  0\\n 15 18  1  0\\n  3 10  1  0\\n  6 11  1  0\\n  7 14  1  0\\nM  END\\n\");\n",
       "viewer_16553802130671651.setStyle({\"stick\": {\"colorscheme\": \"cyanCarbon\"}});\n",
       "viewer_16553802130671651.zoomTo();\n",
       "\tviewer_16553802130671651.setBackgroundColor(\"0xeeeeee\");\n",
       "\tviewer_16553802130671651.zoomTo();\n",
       "viewer_16553802130671651.render();\n",
       "});\n",
       "</script>"
      ]
     },
     "metadata": {},
     "output_type": "display_data"
    },
    {
     "name": "stdout",
     "output_type": "stream",
     "text": [
      "should be: TCTC\n",
      "       is: CTTT\n"
     ]
    }
   ],
   "source": [
    "show_stk_mol(opt_poly)\n",
    "print('should be: TCTC')\n",
    "print('       is: CTTT')"
   ]
  },
  {
   "cell_type": "markdown",
   "id": "1685f8bb-9a5a-40fa-b9cc-6c44cb4c4734",
   "metadata": {},
   "source": [
    "## rdkit has lost this info too! Kind of....."
   ]
  },
  {
   "cell_type": "code",
   "execution_count": 137,
   "id": "5e743960-98da-42ae-b018-791b244024d2",
   "metadata": {},
   "outputs": [
    {
     "name": "stdout",
     "output_type": "stream",
     "text": [
      "[H]C(F)=C([H])C([H])=C([H])C([H])=C([H])C([H])=C([H])F\n"
     ]
    },
    {
     "data": {
      "image/png": "[encoded data removed]",
      "text/plain": [
       "<rdkit.Chem.rdchem.Mol at 0x7f3f7f1e5030>"
      ]
     },
     "execution_count": 137,
     "metadata": {},
     "output_type": "execute_result"
    }
   ],
   "source": [
    "rdkit_2d_draw(polymer)"
   ]
  },
  {
   "cell_type": "markdown",
   "id": "5ac0b6ae-e499-448c-a7a4-f78f35745b33",
   "metadata": {},
   "source": [
    "# The classic problem, is when the stereochemistry is at the site of the reaction\n",
    "\n",
    "Here, the high energy outcome of stk can cause some optimisers to ruin your initial stereochem."
   ]
  },
  {
   "cell_type": "markdown",
   "id": "81889b93-4ee1-474e-a3d7-e751a38e2877",
   "metadata": {},
   "source": [
    "# Another example... CC3!"
   ]
  },
  {
   "cell_type": "code",
   "execution_count": 138,
   "id": "27d4e399-60fe-4d2c-ad82-9972dfcdb21b",
   "metadata": {},
   "outputs": [],
   "source": [
    "bb1 = stk.BuildingBlock(\n",
    "    smiles='C1CCC(C(C1)N)N',\n",
    "    functional_groups=[stk.PrimaryAminoFactory()],\n",
    ")\n",
    "bb2 = stk.BuildingBlock(\n",
    "    smiles='C1=C(C=C(C=C1C=O)C=O)C=O',\n",
    "    functional_groups=[stk.AldehydeFactory()],\n",
    ")\n",
    "\n",
    "cage = stk.ConstructedMolecule(\n",
    "    topology_graph=stk.cage.FourPlusSix(\n",
    "        building_blocks=(bb1, bb2),\n",
    "        optimizer=stk.MCHammer(),\n",
    "    ),\n",
    ")"
   ]
  },
  {
   "cell_type": "code",
   "execution_count": 139,
   "id": "b9a7302c-2272-4073-93d7-06a2d9e0ac5d",
   "metadata": {},
   "outputs": [
    {
     "data": {
      "application/3dmoljs_load.v0": "<div id=\"3dmolviewer_16553803144027138\"  style=\"position: relative; width: 400px; height: 400px\">\n        <p id=\"3dmolwarning_16553803144027138\" style=\"background-color:#ffcccc;color:black\">You appear to be running in JupyterLab (or JavaScript failed to load for some other reason).  You need to install the 3dmol extension: <br>\n        <tt>jupyter labextension install jupyterlab_3dmol</tt></p>\n        </div>\n<script>\n\nvar loadScriptAsync = function(uri){\n  return new Promise((resolve, reject) => {\n    var tag = document.createElement('script');\n    tag.src = uri;\n    tag.async = true;\n    tag.onload = () => {\n      resolve();\n    };\n  var firstScriptTag = document.getElementsByTagName('script')[0];\n  firstScriptTag.parentNode.insertBefore(tag, firstScriptTag);\n});\n};\n\nif(typeof $3Dmolpromise === 'undefined') {\n$3Dmolpromise = null;\n  $3Dmolpromise = loadScriptAsync('https://3dmol.org/build/3Dmol.js');\n}\n\nvar viewer_16553803144027138 = null;\nvar warn = document.getElementById(\"3dmolwarning_16553803144027138\");\nif(warn) {\n    warn.parentNode.removeChild(warn);\n}\n$3Dmolpromise.then(function() {\nviewer_16553803144027138 = $3Dmol.createViewer($(\"#3dmolviewer_16553803144027138\"),{backgroundColor:\"white\"});\nviewer_16553803144027138.addModel(\"\\n     RDKit          3D\\n\\n 22 22  0  0  0  0  0  0  0  0999 V2000\\n    1.4707   -1.1731   -0.0217 C   0  0  0  0  0  0  0  0  0  0  0  0\\n    1.8506    0.2565    0.1149 C   0  0  0  0  0  0  0  0  0  0  0  0\\n    0.6907    0.9835    0.8100 C   0  0  0  0  0  0  0  0  0  0  0  0\\n   -0.3974    0.9845   -0.2371 C   0  0  0  0  0  0  0  0  0  0  0  0\\n   -0.8936   -0.3984   -0.4564 C   0  0  0  0  0  0  0  0  0  0  0  0\\n    0.1307   -1.4557   -0.5593 C   0  0  0  0  0  0  0  0  0  0  0  0\\n   -1.8887   -0.7147    0.5838 N   0  0  0  0  0  0  0  0  0  0  0  0\\n   -1.4644    1.8815    0.0432 N   0  0  0  0  0  0  0  0  0  0  0  0\\n    1.6100   -1.6556    0.9863 H   0  0  0  0  0  0  0  0  0  0  0  0\\n    2.2638   -1.6654   -0.6606 H   0  0  0  0  0  0  0  0  0  0  0  0\\n    1.9773    0.6931   -0.8983 H   0  0  0  0  0  0  0  0  0  0  0  0\\n    2.7774    0.3430    0.6967 H   0  0  0  0  0  0  0  0  0  0  0  0\\n    1.0397    1.9761    1.0811 H   0  0  0  0  0  0  0  0  0  0  0  0\\n    0.3685    0.3763    1.6852 H   0  0  0  0  0  0  0  0  0  0  0  0\\n    0.0935    1.3300   -1.1893 H   0  0  0  0  0  0  0  0  0  0  0  0\\n   -1.5021   -0.3849   -1.4098 H   0  0  0  0  0  0  0  0  0  0  0  0\\n    0.2328   -1.8079   -1.6293 H   0  0  0  0  0  0  0  0  0  0  0  0\\n   -0.2739   -2.3687   -0.0267 H   0  0  0  0  0  0  0  0  0  0  0  0\\n   -2.8159   -0.2681    0.3148 H   0  0  0  0  0  0  0  0  0  0  0  0\\n   -2.0935   -1.7530    0.5362 H   0  0  0  0  0  0  0  0  0  0  0  0\\n   -1.4805    2.2987    0.9757 H   0  0  0  0  0  0  0  0  0  0  0  0\\n   -1.6957    2.5222   -0.7391 H   0  0  0  0  0  0  0  0  0  0  0  0\\n  1  2  1  0\\n  2  3  1  0\\n  3  4  1  0\\n  4  5  1  0\\n  5  6  1  0\\n  5  7  1  0\\n  4  8  1  0\\n  6  1  1  0\\n  1  9  1  0\\n  1 10  1  0\\n  2 11  1  0\\n  2 12  1  0\\n  3 13  1  0\\n  3 14  1  0\\n  4 15  1  0\\n  5 16  1  0\\n  6 17  1  0\\n  6 18  1  0\\n  7 19  1  0\\n  7 20  1  0\\n  8 21  1  0\\n  8 22  1  0\\nM  END\\n\");\nviewer_16553803144027138.setStyle({\"stick\": {\"colorscheme\": \"cyanCarbon\"}});\nviewer_16553803144027138.zoomTo();\n\tviewer_16553803144027138.setBackgroundColor(\"0xeeeeee\");\n\tviewer_16553803144027138.zoomTo();\nviewer_16553803144027138.render();\n});\n</script>",
      "text/html": [
       "<div id=\"3dmolviewer_16553803144027138\"  style=\"position: relative; width: 400px; height: 400px\">\n",
       "        <p id=\"3dmolwarning_16553803144027138\" style=\"background-color:#ffcccc;color:black\">You appear to be running in JupyterLab (or JavaScript failed to load for some other reason).  You need to install the 3dmol extension: <br>\n",
       "        <tt>jupyter labextension install jupyterlab_3dmol</tt></p>\n",
       "        </div>\n",
       "<script>\n",
       "\n",
       "var loadScriptAsync = function(uri){\n",
       "  return new Promise((resolve, reject) => {\n",
       "    var tag = document.createElement('script');\n",
       "    tag.src = uri;\n",
       "    tag.async = true;\n",
       "    tag.onload = () => {\n",
       "      resolve();\n",
       "    };\n",
       "  var firstScriptTag = document.getElementsByTagName('script')[0];\n",
       "  firstScriptTag.parentNode.insertBefore(tag, firstScriptTag);\n",
       "});\n",
       "};\n",
       "\n",
       "if(typeof $3Dmolpromise === 'undefined') {\n",
       "$3Dmolpromise = null;\n",
       "  $3Dmolpromise = loadScriptAsync('https://3dmol.org/build/3Dmol.js');\n",
       "}\n",
       "\n",
       "var viewer_16553803144027138 = null;\n",
       "var warn = document.getElementById(\"3dmolwarning_16553803144027138\");\n",
       "if(warn) {\n",
       "    warn.parentNode.removeChild(warn);\n",
       "}\n",
       "$3Dmolpromise.then(function() {\n",
       "viewer_16553803144027138 = $3Dmol.createViewer($(\"#3dmolviewer_16553803144027138\"),{backgroundColor:\"white\"});\n",
       "viewer_16553803144027138.addModel(\"\\n     RDKit          3D\\n\\n 22 22  0  0  0  0  0  0  0  0999 V2000\\n    1.4707   -1.1731   -0.0217 C   0  0  0  0  0  0  0  0  0  0  0  0\\n    1.8506    0.2565    0.1149 C   0  0  0  0  0  0  0  0  0  0  0  0\\n    0.6907    0.9835    0.8100 C   0  0  0  0  0  0  0  0  0  0  0  0\\n   -0.3974    0.9845   -0.2371 C   0  0  0  0  0  0  0  0  0  0  0  0\\n   -0.8936   -0.3984   -0.4564 C   0  0  0  0  0  0  0  0  0  0  0  0\\n    0.1307   -1.4557   -0.5593 C   0  0  0  0  0  0  0  0  0  0  0  0\\n   -1.8887   -0.7147    0.5838 N   0  0  0  0  0  0  0  0  0  0  0  0\\n   -1.4644    1.8815    0.0432 N   0  0  0  0  0  0  0  0  0  0  0  0\\n    1.6100   -1.6556    0.9863 H   0  0  0  0  0  0  0  0  0  0  0  0\\n    2.2638   -1.6654   -0.6606 H   0  0  0  0  0  0  0  0  0  0  0  0\\n    1.9773    0.6931   -0.8983 H   0  0  0  0  0  0  0  0  0  0  0  0\\n    2.7774    0.3430    0.6967 H   0  0  0  0  0  0  0  0  0  0  0  0\\n    1.0397    1.9761    1.0811 H   0  0  0  0  0  0  0  0  0  0  0  0\\n    0.3685    0.3763    1.6852 H   0  0  0  0  0  0  0  0  0  0  0  0\\n    0.0935    1.3300   -1.1893 H   0  0  0  0  0  0  0  0  0  0  0  0\\n   -1.5021   -0.3849   -1.4098 H   0  0  0  0  0  0  0  0  0  0  0  0\\n    0.2328   -1.8079   -1.6293 H   0  0  0  0  0  0  0  0  0  0  0  0\\n   -0.2739   -2.3687   -0.0267 H   0  0  0  0  0  0  0  0  0  0  0  0\\n   -2.8159   -0.2681    0.3148 H   0  0  0  0  0  0  0  0  0  0  0  0\\n   -2.0935   -1.7530    0.5362 H   0  0  0  0  0  0  0  0  0  0  0  0\\n   -1.4805    2.2987    0.9757 H   0  0  0  0  0  0  0  0  0  0  0  0\\n   -1.6957    2.5222   -0.7391 H   0  0  0  0  0  0  0  0  0  0  0  0\\n  1  2  1  0\\n  2  3  1  0\\n  3  4  1  0\\n  4  5  1  0\\n  5  6  1  0\\n  5  7  1  0\\n  4  8  1  0\\n  6  1  1  0\\n  1  9  1  0\\n  1 10  1  0\\n  2 11  1  0\\n  2 12  1  0\\n  3 13  1  0\\n  3 14  1  0\\n  4 15  1  0\\n  5 16  1  0\\n  6 17  1  0\\n  6 18  1  0\\n  7 19  1  0\\n  7 20  1  0\\n  8 21  1  0\\n  8 22  1  0\\nM  END\\n\");\n",
       "viewer_16553803144027138.setStyle({\"stick\": {\"colorscheme\": \"cyanCarbon\"}});\n",
       "viewer_16553803144027138.zoomTo();\n",
       "\tviewer_16553803144027138.setBackgroundColor(\"0xeeeeee\");\n",
       "\tviewer_16553803144027138.zoomTo();\n",
       "viewer_16553803144027138.render();\n",
       "});\n",
       "</script>"
      ]
     },
     "metadata": {},
     "output_type": "display_data"
    }
   ],
   "source": [
    "show_stk_mol(bb1)"
   ]
  },
  {
   "cell_type": "markdown",
   "id": "6ccdb030-106a-4af3-96cc-c56a0f3535d1",
   "metadata": {},
   "source": [
    "## What about this?!?!"
   ]
  },
  {
   "cell_type": "code",
   "execution_count": 140,
   "id": "40d88706-9607-4a59-8bca-696b01c04fc7",
   "metadata": {},
   "outputs": [
    {
     "data": {
      "application/3dmoljs_load.v0": "<div id=\"3dmolviewer_16553803245129724\"  style=\"position: relative; width: 400px; height: 400px\">\n        <p id=\"3dmolwarning_16553803245129724\" style=\"background-color:#ffcccc;color:black\">You appear to be running in JupyterLab (or JavaScript failed to load for some other reason).  You need to install the 3dmol extension: <br>\n        <tt>jupyter labextension install jupyterlab_3dmol</tt></p>\n        </div>\n<script>\n\nvar loadScriptAsync = function(uri){\n  return new Promise((resolve, reject) => {\n    var tag = document.createElement('script');\n    tag.src = uri;\n    tag.async = true;\n    tag.onload = () => {\n      resolve();\n    };\n  var firstScriptTag = document.getElementsByTagName('script')[0];\n  firstScriptTag.parentNode.insertBefore(tag, firstScriptTag);\n});\n};\n\nif(typeof $3Dmolpromise === 'undefined') {\n$3Dmolpromise = null;\n  $3Dmolpromise = loadScriptAsync('https://3dmol.org/build/3Dmol.js');\n}\n\nvar viewer_16553803245129724 = null;\nvar warn = document.getElementById(\"3dmolwarning_16553803245129724\");\nif(warn) {\n    warn.parentNode.removeChild(warn);\n}\n$3Dmolpromise.then(function() {\nviewer_16553803245129724 = $3Dmol.createViewer($(\"#3dmolviewer_16553803245129724\"),{backgroundColor:\"white\"});\nviewer_16553803245129724.addModel(\"\\n     RDKit          3D\\n\\n 18 18  0  0  0  0  0  0  0  0999 V2000\\n    0.0978   -1.3978    0.1790 C   0  0  0  0  0  0  0  0  0  0  0  0\\n    1.2025   -0.5979    0.3756 C   0  0  0  0  0  0  0  0  0  0  0  0\\n    1.1366    0.7692    0.2082 C   0  0  0  0  0  0  0  0  0  0  0  0\\n   -0.0651    1.3692   -0.1674 C   0  0  0  0  0  0  0  0  0  0  0  0\\n   -1.1493    0.5301   -0.3544 C   0  0  0  0  0  0  0  0  0  0  0  0\\n   -1.1103   -0.8364   -0.1940 C   0  0  0  0  0  0  0  0  0  0  0  0\\n   -2.3030   -1.6600   -0.4106 C   0  0  0  0  0  0  0  0  0  0  0  0\\n   -3.3608   -1.0733   -0.7476 O   0  0  0  0  0  0  0  0  0  0  0  0\\n   -0.1650    2.8027   -0.3509 C   0  0  0  0  0  0  0  0  0  0  0  0\\n   -1.2474    3.3117   -0.6858 O   0  0  0  0  0  0  0  0  0  0  0  0\\n    2.4821   -1.1626    0.7673 C   0  0  0  0  0  0  0  0  0  0  0  0\\n    3.5180   -0.4861    0.9598 O   0  0  0  0  0  0  0  0  0  0  0  0\\n    0.1335   -2.4703    0.3062 H   0  0  0  0  0  0  0  0  0  0  0  0\\n    1.9808    1.4190    0.3541 H   0  0  0  0  0  0  0  0  0  0  0  0\\n   -2.0892    1.0260   -0.6511 H   0  0  0  0  0  0  0  0  0  0  0  0\\n   -2.3045   -2.7230   -0.2941 H   0  0  0  0  0  0  0  0  0  0  0  0\\n    0.6988    3.4082   -0.1949 H   0  0  0  0  0  0  0  0  0  0  0  0\\n    2.5445   -2.2287    0.9007 H   0  0  0  0  0  0  0  0  0  0  0  0\\n  1  2  2  0\\n  2  3  1  0\\n  3  4  2  0\\n  4  5  1  0\\n  5  6  2  0\\n  6  7  1  0\\n  7  8  2  0\\n  4  9  1  0\\n  9 10  2  0\\n  2 11  1  0\\n 11 12  2  0\\n  6  1  1  0\\n  1 13  1  0\\n  3 14  1  0\\n  5 15  1  0\\n  7 16  1  0\\n  9 17  1  0\\n 11 18  1  0\\nM  END\\n\");\nviewer_16553803245129724.setStyle({\"stick\": {\"colorscheme\": \"cyanCarbon\"}});\nviewer_16553803245129724.zoomTo();\n\tviewer_16553803245129724.setBackgroundColor(\"0xeeeeee\");\n\tviewer_16553803245129724.zoomTo();\nviewer_16553803245129724.render();\n});\n</script>",
      "text/html": [
       "<div id=\"3dmolviewer_16553803245129724\"  style=\"position: relative; width: 400px; height: 400px\">\n",
       "        <p id=\"3dmolwarning_16553803245129724\" style=\"background-color:#ffcccc;color:black\">You appear to be running in JupyterLab (or JavaScript failed to load for some other reason).  You need to install the 3dmol extension: <br>\n",
       "        <tt>jupyter labextension install jupyterlab_3dmol</tt></p>\n",
       "        </div>\n",
       "<script>\n",
       "\n",
       "var loadScriptAsync = function(uri){\n",
       "  return new Promise((resolve, reject) => {\n",
       "    var tag = document.createElement('script');\n",
       "    tag.src = uri;\n",
       "    tag.async = true;\n",
       "    tag.onload = () => {\n",
       "      resolve();\n",
       "    };\n",
       "  var firstScriptTag = document.getElementsByTagName('script')[0];\n",
       "  firstScriptTag.parentNode.insertBefore(tag, firstScriptTag);\n",
       "});\n",
       "};\n",
       "\n",
       "if(typeof $3Dmolpromise === 'undefined') {\n",
       "$3Dmolpromise = null;\n",
       "  $3Dmolpromise = loadScriptAsync('https://3dmol.org/build/3Dmol.js');\n",
       "}\n",
       "\n",
       "var viewer_16553803245129724 = null;\n",
       "var warn = document.getElementById(\"3dmolwarning_16553803245129724\");\n",
       "if(warn) {\n",
       "    warn.parentNode.removeChild(warn);\n",
       "}\n",
       "$3Dmolpromise.then(function() {\n",
       "viewer_16553803245129724 = $3Dmol.createViewer($(\"#3dmolviewer_16553803245129724\"),{backgroundColor:\"white\"});\n",
       "viewer_16553803245129724.addModel(\"\\n     RDKit          3D\\n\\n 18 18  0  0  0  0  0  0  0  0999 V2000\\n    0.0978   -1.3978    0.1790 C   0  0  0  0  0  0  0  0  0  0  0  0\\n    1.2025   -0.5979    0.3756 C   0  0  0  0  0  0  0  0  0  0  0  0\\n    1.1366    0.7692    0.2082 C   0  0  0  0  0  0  0  0  0  0  0  0\\n   -0.0651    1.3692   -0.1674 C   0  0  0  0  0  0  0  0  0  0  0  0\\n   -1.1493    0.5301   -0.3544 C   0  0  0  0  0  0  0  0  0  0  0  0\\n   -1.1103   -0.8364   -0.1940 C   0  0  0  0  0  0  0  0  0  0  0  0\\n   -2.3030   -1.6600   -0.4106 C   0  0  0  0  0  0  0  0  0  0  0  0\\n   -3.3608   -1.0733   -0.7476 O   0  0  0  0  0  0  0  0  0  0  0  0\\n   -0.1650    2.8027   -0.3509 C   0  0  0  0  0  0  0  0  0  0  0  0\\n   -1.2474    3.3117   -0.6858 O   0  0  0  0  0  0  0  0  0  0  0  0\\n    2.4821   -1.1626    0.7673 C   0  0  0  0  0  0  0  0  0  0  0  0\\n    3.5180   -0.4861    0.9598 O   0  0  0  0  0  0  0  0  0  0  0  0\\n    0.1335   -2.4703    0.3062 H   0  0  0  0  0  0  0  0  0  0  0  0\\n    1.9808    1.4190    0.3541 H   0  0  0  0  0  0  0  0  0  0  0  0\\n   -2.0892    1.0260   -0.6511 H   0  0  0  0  0  0  0  0  0  0  0  0\\n   -2.3045   -2.7230   -0.2941 H   0  0  0  0  0  0  0  0  0  0  0  0\\n    0.6988    3.4082   -0.1949 H   0  0  0  0  0  0  0  0  0  0  0  0\\n    2.5445   -2.2287    0.9007 H   0  0  0  0  0  0  0  0  0  0  0  0\\n  1  2  2  0\\n  2  3  1  0\\n  3  4  2  0\\n  4  5  1  0\\n  5  6  2  0\\n  6  7  1  0\\n  7  8  2  0\\n  4  9  1  0\\n  9 10  2  0\\n  2 11  1  0\\n 11 12  2  0\\n  6  1  1  0\\n  1 13  1  0\\n  3 14  1  0\\n  5 15  1  0\\n  7 16  1  0\\n  9 17  1  0\\n 11 18  1  0\\nM  END\\n\");\n",
       "viewer_16553803245129724.setStyle({\"stick\": {\"colorscheme\": \"cyanCarbon\"}});\n",
       "viewer_16553803245129724.zoomTo();\n",
       "\tviewer_16553803245129724.setBackgroundColor(\"0xeeeeee\");\n",
       "\tviewer_16553803245129724.zoomTo();\n",
       "viewer_16553803245129724.render();\n",
       "});\n",
       "</script>"
      ]
     },
     "metadata": {},
     "output_type": "display_data"
    }
   ],
   "source": [
    "show_stk_mol(bb2)"
   ]
  },
  {
   "cell_type": "code",
   "execution_count": 141,
   "id": "6db57361-be3b-4b4e-a7bf-d621da85c8ac",
   "metadata": {},
   "outputs": [
    {
     "data": {
      "application/3dmoljs_load.v0": "<div id=\"3dmolviewer_1655380325308259\"  style=\"position: relative; width: 400px; height: 400px\">\n        <p id=\"3dmolwarning_1655380325308259\" style=\"background-color:#ffcccc;color:black\">You appear to be running in JupyterLab (or JavaScript failed to load for some other reason).  You need to install the 3dmol extension: <br>\n        <tt>jupyter labextension install jupyterlab_3dmol</tt></p>\n        </div>\n<script>\n\nvar loadScriptAsync = function(uri){\n  return new Promise((resolve, reject) => {\n    var tag = document.createElement('script');\n    tag.src = uri;\n    tag.async = true;\n    tag.onload = () => {\n      resolve();\n    };\n  var firstScriptTag = document.getElementsByTagName('script')[0];\n  firstScriptTag.parentNode.insertBefore(tag, firstScriptTag);\n});\n};\n\nif(typeof $3Dmolpromise === 'undefined') {\n$3Dmolpromise = null;\n  $3Dmolpromise = loadScriptAsync('https://3dmol.org/build/3Dmol.js');\n}\n\nvar viewer_1655380325308259 = null;\nvar warn = document.getElementById(\"3dmolwarning_1655380325308259\");\nif(warn) {\n    warn.parentNode.removeChild(warn);\n}\n$3Dmolpromise.then(function() {\nviewer_1655380325308259 = $3Dmol.createViewer($(\"#3dmolviewer_1655380325308259\"),{backgroundColor:\"white\"});\nviewer_1655380325308259.addModel(\"\\n     RDKit          3D\\n\\n168180  0  0  0  0  0  0  0  0999 V2000\\n   -0.5714   -1.5008    5.4786 C   0  0  0  0  0  0  0  0  0  0  0  0\\n   -1.7661   -0.8141    5.4786 C   0  0  0  0  0  0  0  0  0  0  0  0\\n   -1.8007    0.5643    5.4786 C   0  0  0  0  0  0  0  0  0  0  0  0\\n   -0.6111    1.2924    5.4786 C   0  0  0  0  0  0  0  0  0  0  0  0\\n    0.5656    0.5642    5.4786 C   0  0  0  0  0  0  0  0  0  0  0  0\\n    0.6277   -0.8109    5.4786 C   0  0  0  0  0  0  0  0  0  0  0  0\\n    1.9146   -1.5121    5.4786 C   0  0  0  0  0  0  0  0  0  0  0  0\\n   -0.6156    2.7409    5.4786 C   0  0  0  0  0  0  0  0  0  0  0  0\\n   -3.0384   -1.5148    5.4786 C   0  0  0  0  0  0  0  0  0  0  0  0\\n   -0.5278   -2.5805    5.4785 H   0  0  0  0  0  0  0  0  0  0  0  0\\n   -2.7166    1.1278    5.4786 H   0  0  0  0  0  0  0  0  0  0  0  0\\n    1.4940    1.1602    5.4786 H   0  0  0  0  0  0  0  0  0  0  0  0\\n    1.9957   -2.5784    5.4786 H   0  0  0  0  0  0  0  0  0  0  0  0\\n   -1.5484    3.2579    5.4785 H   0  0  0  0  0  0  0  0  0  0  0  0\\n   -3.0228   -2.5909    5.4786 H   0  0  0  0  0  0  0  0  0  0  0  0\\n   -5.9498   -1.3078   -0.7689 C   0  0  0  0  0  0  0  0  0  0  0  0\\n   -5.5534   -2.4553   -0.1170 C   0  0  0  0  0  0  0  0  0  0  0  0\\n   -4.7575   -3.3942   -0.7386 C   0  0  0  0  0  0  0  0  0  0  0  0\\n   -4.3372   -3.1928   -2.0532 C   0  0  0  0  0  0  0  0  0  0  0  0\\n   -4.7576   -2.0280   -2.6706 C   0  0  0  0  0  0  0  0  0  0  0  0\\n   -5.5515   -1.0754   -2.0731 C   0  0  0  0  0  0  0  0  0  0  0  0\\n   -5.9564    0.1351   -2.7933 C   0  0  0  0  0  0  0  0  0  0  0  0\\n   -3.5009   -4.1611   -2.7323 C   0  0  0  0  0  0  0  0  0  0  0  0\\n   -5.9579   -2.7227    1.2520 C   0  0  0  0  0  0  0  0  0  0  0  0\\n   -6.5732   -0.5627   -0.2954 H   0  0  0  0  0  0  0  0  0  0  0  0\\n   -4.4322   -4.2987   -0.2564 H   0  0  0  0  0  0  0  0  0  0  0  0\\n   -4.4135   -1.8893   -3.7096 H   0  0  0  0  0  0  0  0  0  0  0  0\\n   -6.5720    0.8927   -2.3569 H   0  0  0  0  0  0  0  0  0  0  0  0\\n   -3.2023   -5.0442   -2.2144 H   0  0  0  0  0  0  0  0  0  0  0  0\\n   -6.5792   -1.9964    1.7466 H   0  0  0  0  0  0  0  0  0  0  0  0\\n    2.7288   -3.6948   -1.0529 C   0  0  0  0  0  0  0  0  0  0  0  0\\n    3.5244   -2.7777   -0.4011 C   0  0  0  0  0  0  0  0  0  0  0  0\\n    3.9396   -1.6190   -1.0227 C   0  0  0  0  0  0  0  0  0  0  0  0\\n    3.5550   -1.3557   -2.3372 C   0  0  0  0  0  0  0  0  0  0  0  0\\n    2.7565   -2.3022   -2.9547 C   0  0  0  0  0  0  0  0  0  0  0  0\\n    2.3285   -3.4660   -2.3571 C   0  0  0  0  0  0  0  0  0  0  0  0\\n    1.4826   -4.4219   -3.0773 C   0  0  0  0  0  0  0  0  0  0  0  0\\n    3.9754   -0.1473   -3.0163 C   0  0  0  0  0  0  0  0  0  0  0  0\\n    3.9583   -2.9943    0.9680 C   0  0  0  0  0  0  0  0  0  0  0  0\\n    2.3953   -4.6071   -0.5795 H   0  0  0  0  0  0  0  0  0  0  0  0\\n    4.5602   -0.8850   -0.5405 H   0  0  0  0  0  0  0  0  0  0  0  0\\n    2.4643   -2.0735   -3.9937 H   0  0  0  0  0  0  0  0  0  0  0  0\\n    1.1342   -5.3339   -2.6409 H   0  0  0  0  0  0  0  0  0  0  0  0\\n    4.5910    0.5528   -2.4984 H   0  0  0  0  0  0  0  0  0  0  0  0\\n    3.6399   -3.8956    1.4626 H   0  0  0  0  0  0  0  0  0  0  0  0\\n    0.7057    5.4014   -1.0268 C   0  0  0  0  0  0  0  0  0  0  0  0\\n   -0.4864    5.6319   -0.3750 C   0  0  0  0  0  0  0  0  0  0  0  0\\n   -1.6974    5.4121   -0.9966 C   0  0  0  0  0  0  0  0  0  0  0  0\\n   -1.7331    4.9474   -2.3111 C   0  0  0  0  0  0  0  0  0  0  0  0\\n   -0.5142    4.7291   -2.9286 C   0  0  0  0  0  0  0  0  0  0  0  0\\n    0.7077    4.9403   -2.3310 C   0  0  0  0  0  0  0  0  0  0  0  0\\n    1.9585    4.6857   -3.0512 C   0  0  0  0  0  0  0  0  0  0  0  0\\n   -2.9899    4.7073   -2.9902 C   0  0  0  0  0  0  0  0  0  0  0  0\\n   -0.5157    6.1159    0.9941 C   0  0  0  0  0  0  0  0  0  0  0  0\\n    1.6625    5.5688   -0.5534 H   0  0  0  0  0  0  0  0  0  0  0  0\\n   -2.6434    5.5826   -0.5144 H   0  0  0  0  0  0  0  0  0  0  0  0\\n   -0.5662    4.3617   -3.9676 H   0  0  0  0  0  0  0  0  0  0  0  0\\n    2.9224    4.8400   -2.6148 H   0  0  0  0  0  0  0  0  0  0  0  0\\n   -3.9040    4.8903   -2.4723 H   0  0  0  0  0  0  0  0  0  0  0  0\\n    0.4240    6.2908    1.4887 H   0  0  0  0  0  0  0  0  0  0  0  0\\n   -8.0217   -4.4889    4.8470 C   0  0  0  0  0  0  0  0  0  0  0  0\\n   -7.5797   -3.7140    6.0350 C   0  0  0  0  0  0  0  0  0  0  0  0\\n   -6.6679   -2.5819    5.5412 C   0  0  0  0  0  0  0  0  0  0  0  0\\n   -5.4251   -3.3090    5.0860 C   0  0  0  0  0  0  0  0  0  0  0  0\\n   -5.7219   -4.1133    3.8728 C   0  0  0  0  0  0  0  0  0  0  0  0\\n   -6.9793   -4.8856    3.8876 C   0  0  0  0  0  0  0  0  0  0  0  0\\n   -5.6458   -3.2346    2.6920 N   0  0  0  0  0  0  0  0  0  0  0  0\\n   -4.3029   -2.4593    4.8848 N   0  0  0  0  0  0  0  0  0  0  0  0\\n   -8.8306   -3.8926    4.3388 H   0  0  0  0  0  0  0  0  0  0  0  0\\n   -8.5698   -5.4000    5.2329 H   0  0  0  0  0  0  0  0  0  0  0  0\\n   -6.9831   -4.3780    6.6956 H   0  0  0  0  0  0  0  0  0  0  0  0\\n   -8.4532   -3.3152    6.5671 H   0  0  0  0  0  0  0  0  0  0  0  0\\n   -6.5003   -1.9066    6.3757 H   0  0  0  0  0  0  0  0  0  0  0  0\\n   -7.1560   -2.0913    4.6696 H   0  0  0  0  0  0  0  0  0  0  0  0\\n   -5.1648   -4.0218    5.9174 H   0  0  0  0  0  0  0  0  0  0  0  0\\n   -4.8563   -4.8269    3.7283 H   0  0  0  0  0  0  0  0  0  0  0  0\\n   -6.7668   -5.9893    4.0142 H   0  0  0  0  0  0  0  0  0  0  0  0\\n   -7.4216   -4.8277    2.8475 H   0  0  0  0  0  0  0  0  0  0  0  0\\n    7.0477   -4.5151    4.6387 C   0  0  0  0  0  0  0  0  0  0  0  0\\n    6.1561   -4.5199    5.8269 C   0  0  0  0  0  0  0  0  0  0  0  0\\n    4.7194   -4.2979    5.3335 C   0  0  0  0  0  0  0  0  0  0  0  0\\n    4.7261   -2.8583    4.8775 C   0  0  0  0  0  0  0  0  0  0  0  0\\n    5.5706   -2.7132    3.6639 C   0  0  0  0  0  0  0  0  0  0  0  0\\n    6.8687   -3.4147    3.6787 C   0  0  0  0  0  0  0  0  0  0  0  0\\n    4.7714   -3.0880    2.4836 N   0  0  0  0  0  0  0  0  0  0  0  0\\n    3.4286   -2.3127    4.6764 N   0  0  0  0  0  0  0  0  0  0  0  0\\n    6.9365   -5.5142    4.1310 H   0  0  0  0  0  0  0  0  0  0  0  0\\n    8.1110   -4.5330    5.0242 H   0  0  0  0  0  0  0  0  0  0  0  0\\n    6.4322   -3.6706    6.4869 H   0  0  0  0  0  0  0  0  0  0  0  0\\n    6.2485   -5.4754    6.3596 H   0  0  0  0  0  0  0  0  0  0  0  0\\n    4.0512   -4.4906    6.1683 H   0  0  0  0  0  0  0  0  0  0  0  0\\n    4.5389   -4.9666    4.4623 H   0  0  0  0  0  0  0  0  0  0  0  0\\n    5.2130   -2.2756    5.7083 H   0  0  0  0  0  0  0  0  0  0  0  0\\n    5.7547   -1.6066    3.5187 H   0  0  0  0  0  0  0  0  0  0  0  0\\n    7.7177   -2.6780    3.8046 H   0  0  0  0  0  0  0  0  0  0  0  0\\n    7.0398   -3.8271    2.6387 H   0  0  0  0  0  0  0  0  0  0  0  0\\n   -0.2414    8.6616    4.8959 C   0  0  0  0  0  0  0  0  0  0  0  0\\n    0.2085    7.8921    6.0844 C   0  0  0  0  0  0  0  0  0  0  0  0\\n    0.7359    6.5373    5.5913 C   0  0  0  0  0  0  0  0  0  0  0  0\\n   -0.5135    5.8224    5.1346 C   0  0  0  0  0  0  0  0  0  0  0  0\\n   -1.0613    6.4808    3.9208 C   0  0  0  0  0  0  0  0  0  0  0  0\\n   -1.1039    7.9558    3.9356 C   0  0  0  0  0  0  0  0  0  0  0  0\\n   -0.3362    5.9766    2.7408 N   0  0  0  0  0  0  0  0  0  0  0  0\\n   -0.3362    4.4261    4.9336 N   0  0  0  0  0  0  0  0  0  0  0  0\\n    0.6794    9.0655    4.3887 H   0  0  0  0  0  0  0  0  0  0  0  0\\n   -0.7584    9.5910    5.2813 H   0  0  0  0  0  0  0  0  0  0  0  0\\n   -0.6652    7.7060    6.7440 H   0  0  0  0  0  0  0  0  0  0  0  0\\n    0.9891    8.4504    6.6175 H   0  0  0  0  0  0  0  0  0  0  0  0\\n    1.2367    6.0553    6.4263 H   0  0  0  0  0  0  0  0  0  0  0  0\\n    1.4055    6.7158    4.7204 H   0  0  0  0  0  0  0  0  0  0  0  0\\n   -1.2621    5.9522    5.9651 H   0  0  0  0  0  0  0  0  0  0  0  0\\n   -2.1113    6.0862    3.7750 H   0  0  0  0  0  0  0  0  0  0  0  0\\n   -2.1668    8.3219    4.0609 H   0  0  0  0  0  0  0  0  0  0  0  0\\n   -0.8320    8.3103    2.8957 H   0  0  0  0  0  0  0  0  0  0  0  0\\n   -0.1420   -7.9437   -5.7198 C   0  0  0  0  0  0  0  0  0  0  0  0\\n   -1.5566   -7.7308   -6.1204 C   0  0  0  0  0  0  0  0  0  0  0  0\\n   -1.9362   -6.2910   -5.7462 C   0  0  0  0  0  0  0  0  0  0  0  0\\n   -1.9760   -6.3222   -4.2370 C   0  0  0  0  0  0  0  0  0  0  0  0\\n   -0.6049   -6.5059   -3.6956 C   0  0  0  0  0  0  0  0  0  0  0  0\\n    0.2346   -7.5200   -4.3622 C   0  0  0  0  0  0  0  0  0  0  0  0\\n    0.0675   -5.1949   -3.6552 N   0  0  0  0  0  0  0  0  0  0  0  0\\n   -2.6182   -5.1949   -3.6552 N   0  0  0  0  0  0  0  0  0  0  0  0\\n    0.5053   -7.4414   -6.4924 H   0  0  0  0  0  0  0  0  0  0  0  0\\n    0.0800   -9.0433   -5.8655 H   0  0  0  0  0  0  0  0  0  0  0  0\\n   -2.2026   -8.4228   -5.5399 H   0  0  0  0  0  0  0  0  0  0  0  0\\n   -1.6696   -7.9024   -7.1988 H   0  0  0  0  0  0  0  0  0  0  0  0\\n   -2.8963   -6.0737   -6.2061 H   0  0  0  0  0  0  0  0  0  0  0  0\\n   -1.1221   -5.6125   -6.0861 H   0  0  0  0  0  0  0  0  0  0  0  0\\n   -2.5792   -7.2328   -3.9648 H   0  0  0  0  0  0  0  0  0  0  0  0\\n   -0.7137   -6.7815   -2.6040 H   0  0  0  0  0  0  0  0  0  0  0  0\\n    0.3436   -8.4375   -3.7098 H   0  0  0  0  0  0  0  0  0  0  0  0\\n    1.2884   -7.1091   -4.4043 H   0  0  0  0  0  0  0  0  0  0  0  0\\n   -6.8680    5.2129   -5.7405 C   0  0  0  0  0  0  0  0  0  0  0  0\\n   -7.8404    4.1408   -5.4057 C   0  0  0  0  0  0  0  0  0  0  0  0\\n   -7.3073    3.3947   -4.1744 C   0  0  0  0  0  0  0  0  0  0  0  0\\n   -6.1047    2.6544   -4.7094 C   0  0  0  0  0  0  0  0  0  0  0  0\\n   -5.0306    3.6176   -5.0638 C   0  0  0  0  0  0  0  0  0  0  0  0\\n   -5.4490    4.8285   -5.7960 C   0  0  0  0  0  0  0  0  0  0  0  0\\n   -4.2811    3.9613   -3.8421 N   0  0  0  0  0  0  0  0  0  0  0  0\\n   -5.6240    1.6354   -3.8421 N   0  0  0  0  0  0  0  0  0  0  0  0\\n   -7.0291    6.0533   -5.0084 H   0  0  0  0  0  0  0  0  0  0  0  0\\n   -7.1949    5.6579   -6.7277 H   0  0  0  0  0  0  0  0  0  0  0  0\\n   -7.8905    3.4238   -6.2521 H   0  0  0  0  0  0  0  0  0  0  0  0\\n   -8.8266    4.5798   -5.2061 H   0  0  0  0  0  0  0  0  0  0  0  0\\n   -8.0995    2.7435   -3.8156 H   0  0  0  0  0  0  0  0  0  0  0  0\\n   -6.9807    4.1462   -3.4213 H   0  0  0  0  0  0  0  0  0  0  0  0\\n   -6.4483    2.1563   -5.6585 H   0  0  0  0  0  0  0  0  0  0  0  0\\n   -4.2743    3.0552   -5.6891 H   0  0  0  0  0  0  0  0  0  0  0  0\\n   -5.1283    4.7692   -6.8790 H   0  0  0  0  0  0  0  0  0  0  0  0\\n   -4.8373    5.6921   -5.3947 H   0  0  0  0  0  0  0  0  0  0  0  0\\n    5.9078    5.1663   -5.7041 C   0  0  0  0  0  0  0  0  0  0  0  0\\n    6.4307    3.8347   -6.1047 C   0  0  0  0  0  0  0  0  0  0  0  0\\n    5.3736    2.7862   -5.7305 C   0  0  0  0  0  0  0  0  0  0  0  0\\n    5.4206    2.7672   -4.2213 C   0  0  0  0  0  0  0  0  0  0  0  0\\n    4.8940    4.0465   -3.6799 C   0  0  0  0  0  0  0  0  0  0  0  0\\n    5.3525    5.2806   -4.3465 C   0  0  0  0  0  0  0  0  0  0  0  0\\n    3.4225    3.9733   -3.6395 N   0  0  0  0  0  0  0  0  0  0  0  0\\n    4.7653    1.6475   -3.6395 N   0  0  0  0  0  0  0  0  0  0  0  0\\n    5.1491    5.4758   -6.4767 H   0  0  0  0  0  0  0  0  0  0  0  0\\n    6.7490    5.9083   -5.8498 H   0  0  0  0  0  0  0  0  0  0  0  0\\n    7.3530    3.6213   -5.5242 H   0  0  0  0  0  0  0  0  0  0  0  0\\n    6.6358    3.8227   -7.1831 H   0  0  0  0  0  0  0  0  0  0  0  0\\n    5.6654    1.8460   -6.1904 H   0  0  0  0  0  0  0  0  0  0  0  0\\n    4.3790    3.1519   -6.0704 H   0  0  0  0  0  0  0  0  0  0  0  0\\n    6.5107    2.7001   -3.9491 H   0  0  0  0  0  0  0  0  0  0  0  0\\n    5.1871    4.0901   -2.5883 H   0  0  0  0  0  0  0  0  0  0  0  0\\n    6.0926    5.8338   -3.6941 H   0  0  0  0  0  0  0  0  0  0  0  0\\n    4.4698    5.9878   -4.3886 H   0  0  0  0  0  0  0  0  0  0  0  0\\n  1  2  2  0\\n  2  3  1  0\\n  3  4  2  0\\n  4  5  1  0\\n  5  6  2  0\\n  6  7  1  0\\n  4  8  1  0\\n  2  9  1  0\\n  6  1  1  0\\n  1 10  1  0\\n  3 11  1  0\\n  5 12  1  0\\n  7 13  1  0\\n  8 14  1  0\\n  9 15  1  0\\n 16 17  2  0\\n 17 18  1  0\\n 18 19  2  0\\n 19 20  1  0\\n 20 21  2  0\\n 21 22  1  0\\n 19 23  1  0\\n 17 24  1  0\\n 21 16  1  0\\n 16 25  1  0\\n 18 26  1  0\\n 20 27  1  0\\n 22 28  1  0\\n 23 29  1  0\\n 24 30  1  0\\n 31 32  2  0\\n 32 33  1  0\\n 33 34  2  0\\n 34 35  1  0\\n 35 36  2  0\\n 36 37  1  0\\n 34 38  1  0\\n 32 39  1  0\\n 36 31  1  0\\n 31 40  1  0\\n 33 41  1  0\\n 35 42  1  0\\n 37 43  1  0\\n 38 44  1  0\\n 39 45  1  0\\n 46 47  2  0\\n 47 48  1  0\\n 48 49  2  0\\n 49 50  1  0\\n 50 51  2  0\\n 51 52  1  0\\n 49 53  1  0\\n 47 54  1  0\\n 51 46  1  0\\n 46 55  1  0\\n 48 56  1  0\\n 50 57  1  0\\n 52 58  1  0\\n 53 59  1  0\\n 54 60  1  0\\n 61 62  1  0\\n 62 63  1  0\\n 63 64  1  0\\n 64 65  1  0\\n 65 66  1  0\\n 65 67  1  0\\n 64 68  1  0\\n 66 61  1  0\\n 61 69  1  0\\n 61 70  1  0\\n 62 71  1  0\\n 62 72  1  0\\n 63 73  1  0\\n 63 74  1  0\\n 64 75  1  0\\n 65 76  1  0\\n 66 77  1  0\\n 66 78  1  0\\n 79 80  1  0\\n 80 81  1  0\\n 81 82  1  0\\n 82 83  1  0\\n 83 84  1  0\\n 83 85  1  0\\n 82 86  1  0\\n 84 79  1  0\\n 79 87  1  0\\n 79 88  1  0\\n 80 89  1  0\\n 80 90  1  0\\n 81 91  1  0\\n 81 92  1  0\\n 82 93  1  0\\n 83 94  1  0\\n 84 95  1  0\\n 84 96  1  0\\n 97 98  1  0\\n 98 99  1  0\\n 99100  1  0\\n100101  1  0\\n101102  1  0\\n101103  1  0\\n100104  1  0\\n102 97  1  0\\n 97105  1  0\\n 97106  1  0\\n 98107  1  0\\n 98108  1  0\\n 99109  1  0\\n 99110  1  0\\n100111  1  0\\n101112  1  0\\n102113  1  0\\n102114  1  0\\n115116  1  0\\n116117  1  0\\n117118  1  0\\n118119  1  0\\n119120  1  0\\n119121  1  0\\n118122  1  0\\n120115  1  0\\n115123  1  0\\n115124  1  0\\n116125  1  0\\n116126  1  0\\n117127  1  0\\n117128  1  0\\n118129  1  0\\n119130  1  0\\n120131  1  0\\n120132  1  0\\n133134  1  0\\n134135  1  0\\n135136  1  0\\n136137  1  0\\n137138  1  0\\n137139  1  0\\n136140  1  0\\n138133  1  0\\n133141  1  0\\n133142  1  0\\n134143  1  0\\n134144  1  0\\n135145  1  0\\n135146  1  0\\n136147  1  0\\n137148  1  0\\n138149  1  0\\n138150  1  0\\n151152  1  0\\n152153  1  0\\n153154  1  0\\n154155  1  0\\n155156  1  0\\n155157  1  0\\n154158  1  0\\n156151  1  0\\n151159  1  0\\n151160  1  0\\n152161  1  0\\n152162  1  0\\n153163  1  0\\n153164  1  0\\n154165  1  0\\n155166  1  0\\n156167  1  0\\n156168  1  0\\n  9 68  2  0\\n 24 67  2  0\\n  7 86  2  0\\n 39 85  2  0\\n  8104  2  0\\n 54103  2  0\\n 23122  2  0\\n 37121  2  0\\n 22140  2  0\\n 53139  2  0\\n 38158  2  0\\n 52157  2  0\\nM  END\\n\");\nviewer_1655380325308259.setStyle({\"stick\": {\"colorscheme\": \"cyanCarbon\"}});\nviewer_1655380325308259.zoomTo();\n\tviewer_1655380325308259.setBackgroundColor(\"0xeeeeee\");\n\tviewer_1655380325308259.zoomTo();\nviewer_1655380325308259.render();\n});\n</script>",
      "text/html": [
       "<div id=\"3dmolviewer_1655380325308259\"  style=\"position: relative; width: 400px; height: 400px\">\n",
       "        <p id=\"3dmolwarning_1655380325308259\" style=\"background-color:#ffcccc;color:black\">You appear to be running in JupyterLab (or JavaScript failed to load for some other reason).  You need to install the 3dmol extension: <br>\n",
       "        <tt>jupyter labextension install jupyterlab_3dmol</tt></p>\n",
       "        </div>\n",
       "<script>\n",
       "\n",
       "var loadScriptAsync = function(uri){\n",
       "  return new Promise((resolve, reject) => {\n",
       "    var tag = document.createElement('script');\n",
       "    tag.src = uri;\n",
       "    tag.async = true;\n",
       "    tag.onload = () => {\n",
       "      resolve();\n",
       "    };\n",
       "  var firstScriptTag = document.getElementsByTagName('script')[0];\n",
       "  firstScriptTag.parentNode.insertBefore(tag, firstScriptTag);\n",
       "});\n",
       "};\n",
       "\n",
       "if(typeof $3Dmolpromise === 'undefined') {\n",
       "$3Dmolpromise = null;\n",
       "  $3Dmolpromise = loadScriptAsync('https://3dmol.org/build/3Dmol.js');\n",
       "}\n",
       "\n",
       "var viewer_1655380325308259 = null;\n",
       "var warn = document.getElementById(\"3dmolwarning_1655380325308259\");\n",
       "if(warn) {\n",
       "    warn.parentNode.removeChild(warn);\n",
       "}\n",
       "$3Dmolpromise.then(function() {\n",
       "viewer_1655380325308259 = $3Dmol.createViewer($(\"#3dmolviewer_1655380325308259\"),{backgroundColor:\"white\"});\n",
       "viewer_1655380325308259.addModel(\"\\n     RDKit          3D\\n\\n168180  0  0  0  0  0  0  0  0999 V2000\\n   -0.5714   -1.5008    5.4786 C   0  0  0  0  0  0  0  0  0  0  0  0\\n   -1.7661   -0.8141    5.4786 C   0  0  0  0  0  0  0  0  0  0  0  0\\n   -1.8007    0.5643    5.4786 C   0  0  0  0  0  0  0  0  0  0  0  0\\n   -0.6111    1.2924    5.4786 C   0  0  0  0  0  0  0  0  0  0  0  0\\n    0.5656    0.5642    5.4786 C   0  0  0  0  0  0  0  0  0  0  0  0\\n    0.6277   -0.8109    5.4786 C   0  0  0  0  0  0  0  0  0  0  0  0\\n    1.9146   -1.5121    5.4786 C   0  0  0  0  0  0  0  0  0  0  0  0\\n   -0.6156    2.7409    5.4786 C   0  0  0  0  0  0  0  0  0  0  0  0\\n   -3.0384   -1.5148    5.4786 C   0  0  0  0  0  0  0  0  0  0  0  0\\n   -0.5278   -2.5805    5.4785 H   0  0  0  0  0  0  0  0  0  0  0  0\\n   -2.7166    1.1278    5.4786 H   0  0  0  0  0  0  0  0  0  0  0  0\\n    1.4940    1.1602    5.4786 H   0  0  0  0  0  0  0  0  0  0  0  0\\n    1.9957   -2.5784    5.4786 H   0  0  0  0  0  0  0  0  0  0  0  0\\n   -1.5484    3.2579    5.4785 H   0  0  0  0  0  0  0  0  0  0  0  0\\n   -3.0228   -2.5909    5.4786 H   0  0  0  0  0  0  0  0  0  0  0  0\\n   -5.9498   -1.3078   -0.7689 C   0  0  0  0  0  0  0  0  0  0  0  0\\n   -5.5534   -2.4553   -0.1170 C   0  0  0  0  0  0  0  0  0  0  0  0\\n   -4.7575   -3.3942   -0.7386 C   0  0  0  0  0  0  0  0  0  0  0  0\\n   -4.3372   -3.1928   -2.0532 C   0  0  0  0  0  0  0  0  0  0  0  0\\n   -4.7576   -2.0280   -2.6706 C   0  0  0  0  0  0  0  0  0  0  0  0\\n   -5.5515   -1.0754   -2.0731 C   0  0  0  0  0  0  0  0  0  0  0  0\\n   -5.9564    0.1351   -2.7933 C   0  0  0  0  0  0  0  0  0  0  0  0\\n   -3.5009   -4.1611   -2.7323 C   0  0  0  0  0  0  0  0  0  0  0  0\\n   -5.9579   -2.7227    1.2520 C   0  0  0  0  0  0  0  0  0  0  0  0\\n   -6.5732   -0.5627   -0.2954 H   0  0  0  0  0  0  0  0  0  0  0  0\\n   -4.4322   -4.2987   -0.2564 H   0  0  0  0  0  0  0  0  0  0  0  0\\n   -4.4135   -1.8893   -3.7096 H   0  0  0  0  0  0  0  0  0  0  0  0\\n   -6.5720    0.8927   -2.3569 H   0  0  0  0  0  0  0  0  0  0  0  0\\n   -3.2023   -5.0442   -2.2144 H   0  0  0  0  0  0  0  0  0  0  0  0\\n   -6.5792   -1.9964    1.7466 H   0  0  0  0  0  0  0  0  0  0  0  0\\n    2.7288   -3.6948   -1.0529 C   0  0  0  0  0  0  0  0  0  0  0  0\\n    3.5244   -2.7777   -0.4011 C   0  0  0  0  0  0  0  0  0  0  0  0\\n    3.9396   -1.6190   -1.0227 C   0  0  0  0  0  0  0  0  0  0  0  0\\n    3.5550   -1.3557   -2.3372 C   0  0  0  0  0  0  0  0  0  0  0  0\\n    2.7565   -2.3022   -2.9547 C   0  0  0  0  0  0  0  0  0  0  0  0\\n    2.3285   -3.4660   -2.3571 C   0  0  0  0  0  0  0  0  0  0  0  0\\n    1.4826   -4.4219   -3.0773 C   0  0  0  0  0  0  0  0  0  0  0  0\\n    3.9754   -0.1473   -3.0163 C   0  0  0  0  0  0  0  0  0  0  0  0\\n    3.9583   -2.9943    0.9680 C   0  0  0  0  0  0  0  0  0  0  0  0\\n    2.3953   -4.6071   -0.5795 H   0  0  0  0  0  0  0  0  0  0  0  0\\n    4.5602   -0.8850   -0.5405 H   0  0  0  0  0  0  0  0  0  0  0  0\\n    2.4643   -2.0735   -3.9937 H   0  0  0  0  0  0  0  0  0  0  0  0\\n    1.1342   -5.3339   -2.6409 H   0  0  0  0  0  0  0  0  0  0  0  0\\n    4.5910    0.5528   -2.4984 H   0  0  0  0  0  0  0  0  0  0  0  0\\n    3.6399   -3.8956    1.4626 H   0  0  0  0  0  0  0  0  0  0  0  0\\n    0.7057    5.4014   -1.0268 C   0  0  0  0  0  0  0  0  0  0  0  0\\n   -0.4864    5.6319   -0.3750 C   0  0  0  0  0  0  0  0  0  0  0  0\\n   -1.6974    5.4121   -0.9966 C   0  0  0  0  0  0  0  0  0  0  0  0\\n   -1.7331    4.9474   -2.3111 C   0  0  0  0  0  0  0  0  0  0  0  0\\n   -0.5142    4.7291   -2.9286 C   0  0  0  0  0  0  0  0  0  0  0  0\\n    0.7077    4.9403   -2.3310 C   0  0  0  0  0  0  0  0  0  0  0  0\\n    1.9585    4.6857   -3.0512 C   0  0  0  0  0  0  0  0  0  0  0  0\\n   -2.9899    4.7073   -2.9902 C   0  0  0  0  0  0  0  0  0  0  0  0\\n   -0.5157    6.1159    0.9941 C   0  0  0  0  0  0  0  0  0  0  0  0\\n    1.6625    5.5688   -0.5534 H   0  0  0  0  0  0  0  0  0  0  0  0\\n   -2.6434    5.5826   -0.5144 H   0  0  0  0  0  0  0  0  0  0  0  0\\n   -0.5662    4.3617   -3.9676 H   0  0  0  0  0  0  0  0  0  0  0  0\\n    2.9224    4.8400   -2.6148 H   0  0  0  0  0  0  0  0  0  0  0  0\\n   -3.9040    4.8903   -2.4723 H   0  0  0  0  0  0  0  0  0  0  0  0\\n    0.4240    6.2908    1.4887 H   0  0  0  0  0  0  0  0  0  0  0  0\\n   -8.0217   -4.4889    4.8470 C   0  0  0  0  0  0  0  0  0  0  0  0\\n   -7.5797   -3.7140    6.0350 C   0  0  0  0  0  0  0  0  0  0  0  0\\n   -6.6679   -2.5819    5.5412 C   0  0  0  0  0  0  0  0  0  0  0  0\\n   -5.4251   -3.3090    5.0860 C   0  0  0  0  0  0  0  0  0  0  0  0\\n   -5.7219   -4.1133    3.8728 C   0  0  0  0  0  0  0  0  0  0  0  0\\n   -6.9793   -4.8856    3.8876 C   0  0  0  0  0  0  0  0  0  0  0  0\\n   -5.6458   -3.2346    2.6920 N   0  0  0  0  0  0  0  0  0  0  0  0\\n   -4.3029   -2.4593    4.8848 N   0  0  0  0  0  0  0  0  0  0  0  0\\n   -8.8306   -3.8926    4.3388 H   0  0  0  0  0  0  0  0  0  0  0  0\\n   -8.5698   -5.4000    5.2329 H   0  0  0  0  0  0  0  0  0  0  0  0\\n   -6.9831   -4.3780    6.6956 H   0  0  0  0  0  0  0  0  0  0  0  0\\n   -8.4532   -3.3152    6.5671 H   0  0  0  0  0  0  0  0  0  0  0  0\\n   -6.5003   -1.9066    6.3757 H   0  0  0  0  0  0  0  0  0  0  0  0\\n   -7.1560   -2.0913    4.6696 H   0  0  0  0  0  0  0  0  0  0  0  0\\n   -5.1648   -4.0218    5.9174 H   0  0  0  0  0  0  0  0  0  0  0  0\\n   -4.8563   -4.8269    3.7283 H   0  0  0  0  0  0  0  0  0  0  0  0\\n   -6.7668   -5.9893    4.0142 H   0  0  0  0  0  0  0  0  0  0  0  0\\n   -7.4216   -4.8277    2.8475 H   0  0  0  0  0  0  0  0  0  0  0  0\\n    7.0477   -4.5151    4.6387 C   0  0  0  0  0  0  0  0  0  0  0  0\\n    6.1561   -4.5199    5.8269 C   0  0  0  0  0  0  0  0  0  0  0  0\\n    4.7194   -4.2979    5.3335 C   0  0  0  0  0  0  0  0  0  0  0  0\\n    4.7261   -2.8583    4.8775 C   0  0  0  0  0  0  0  0  0  0  0  0\\n    5.5706   -2.7132    3.6639 C   0  0  0  0  0  0  0  0  0  0  0  0\\n    6.8687   -3.4147    3.6787 C   0  0  0  0  0  0  0  0  0  0  0  0\\n    4.7714   -3.0880    2.4836 N   0  0  0  0  0  0  0  0  0  0  0  0\\n    3.4286   -2.3127    4.6764 N   0  0  0  0  0  0  0  0  0  0  0  0\\n    6.9365   -5.5142    4.1310 H   0  0  0  0  0  0  0  0  0  0  0  0\\n    8.1110   -4.5330    5.0242 H   0  0  0  0  0  0  0  0  0  0  0  0\\n    6.4322   -3.6706    6.4869 H   0  0  0  0  0  0  0  0  0  0  0  0\\n    6.2485   -5.4754    6.3596 H   0  0  0  0  0  0  0  0  0  0  0  0\\n    4.0512   -4.4906    6.1683 H   0  0  0  0  0  0  0  0  0  0  0  0\\n    4.5389   -4.9666    4.4623 H   0  0  0  0  0  0  0  0  0  0  0  0\\n    5.2130   -2.2756    5.7083 H   0  0  0  0  0  0  0  0  0  0  0  0\\n    5.7547   -1.6066    3.5187 H   0  0  0  0  0  0  0  0  0  0  0  0\\n    7.7177   -2.6780    3.8046 H   0  0  0  0  0  0  0  0  0  0  0  0\\n    7.0398   -3.8271    2.6387 H   0  0  0  0  0  0  0  0  0  0  0  0\\n   -0.2414    8.6616    4.8959 C   0  0  0  0  0  0  0  0  0  0  0  0\\n    0.2085    7.8921    6.0844 C   0  0  0  0  0  0  0  0  0  0  0  0\\n    0.7359    6.5373    5.5913 C   0  0  0  0  0  0  0  0  0  0  0  0\\n   -0.5135    5.8224    5.1346 C   0  0  0  0  0  0  0  0  0  0  0  0\\n   -1.0613    6.4808    3.9208 C   0  0  0  0  0  0  0  0  0  0  0  0\\n   -1.1039    7.9558    3.9356 C   0  0  0  0  0  0  0  0  0  0  0  0\\n   -0.3362    5.9766    2.7408 N   0  0  0  0  0  0  0  0  0  0  0  0\\n   -0.3362    4.4261    4.9336 N   0  0  0  0  0  0  0  0  0  0  0  0\\n    0.6794    9.0655    4.3887 H   0  0  0  0  0  0  0  0  0  0  0  0\\n   -0.7584    9.5910    5.2813 H   0  0  0  0  0  0  0  0  0  0  0  0\\n   -0.6652    7.7060    6.7440 H   0  0  0  0  0  0  0  0  0  0  0  0\\n    0.9891    8.4504    6.6175 H   0  0  0  0  0  0  0  0  0  0  0  0\\n    1.2367    6.0553    6.4263 H   0  0  0  0  0  0  0  0  0  0  0  0\\n    1.4055    6.7158    4.7204 H   0  0  0  0  0  0  0  0  0  0  0  0\\n   -1.2621    5.9522    5.9651 H   0  0  0  0  0  0  0  0  0  0  0  0\\n   -2.1113    6.0862    3.7750 H   0  0  0  0  0  0  0  0  0  0  0  0\\n   -2.1668    8.3219    4.0609 H   0  0  0  0  0  0  0  0  0  0  0  0\\n   -0.8320    8.3103    2.8957 H   0  0  0  0  0  0  0  0  0  0  0  0\\n   -0.1420   -7.9437   -5.7198 C   0  0  0  0  0  0  0  0  0  0  0  0\\n   -1.5566   -7.7308   -6.1204 C   0  0  0  0  0  0  0  0  0  0  0  0\\n   -1.9362   -6.2910   -5.7462 C   0  0  0  0  0  0  0  0  0  0  0  0\\n   -1.9760   -6.3222   -4.2370 C   0  0  0  0  0  0  0  0  0  0  0  0\\n   -0.6049   -6.5059   -3.6956 C   0  0  0  0  0  0  0  0  0  0  0  0\\n    0.2346   -7.5200   -4.3622 C   0  0  0  0  0  0  0  0  0  0  0  0\\n    0.0675   -5.1949   -3.6552 N   0  0  0  0  0  0  0  0  0  0  0  0\\n   -2.6182   -5.1949   -3.6552 N   0  0  0  0  0  0  0  0  0  0  0  0\\n    0.5053   -7.4414   -6.4924 H   0  0  0  0  0  0  0  0  0  0  0  0\\n    0.0800   -9.0433   -5.8655 H   0  0  0  0  0  0  0  0  0  0  0  0\\n   -2.2026   -8.4228   -5.5399 H   0  0  0  0  0  0  0  0  0  0  0  0\\n   -1.6696   -7.9024   -7.1988 H   0  0  0  0  0  0  0  0  0  0  0  0\\n   -2.8963   -6.0737   -6.2061 H   0  0  0  0  0  0  0  0  0  0  0  0\\n   -1.1221   -5.6125   -6.0861 H   0  0  0  0  0  0  0  0  0  0  0  0\\n   -2.5792   -7.2328   -3.9648 H   0  0  0  0  0  0  0  0  0  0  0  0\\n   -0.7137   -6.7815   -2.6040 H   0  0  0  0  0  0  0  0  0  0  0  0\\n    0.3436   -8.4375   -3.7098 H   0  0  0  0  0  0  0  0  0  0  0  0\\n    1.2884   -7.1091   -4.4043 H   0  0  0  0  0  0  0  0  0  0  0  0\\n   -6.8680    5.2129   -5.7405 C   0  0  0  0  0  0  0  0  0  0  0  0\\n   -7.8404    4.1408   -5.4057 C   0  0  0  0  0  0  0  0  0  0  0  0\\n   -7.3073    3.3947   -4.1744 C   0  0  0  0  0  0  0  0  0  0  0  0\\n   -6.1047    2.6544   -4.7094 C   0  0  0  0  0  0  0  0  0  0  0  0\\n   -5.0306    3.6176   -5.0638 C   0  0  0  0  0  0  0  0  0  0  0  0\\n   -5.4490    4.8285   -5.7960 C   0  0  0  0  0  0  0  0  0  0  0  0\\n   -4.2811    3.9613   -3.8421 N   0  0  0  0  0  0  0  0  0  0  0  0\\n   -5.6240    1.6354   -3.8421 N   0  0  0  0  0  0  0  0  0  0  0  0\\n   -7.0291    6.0533   -5.0084 H   0  0  0  0  0  0  0  0  0  0  0  0\\n   -7.1949    5.6579   -6.7277 H   0  0  0  0  0  0  0  0  0  0  0  0\\n   -7.8905    3.4238   -6.2521 H   0  0  0  0  0  0  0  0  0  0  0  0\\n   -8.8266    4.5798   -5.2061 H   0  0  0  0  0  0  0  0  0  0  0  0\\n   -8.0995    2.7435   -3.8156 H   0  0  0  0  0  0  0  0  0  0  0  0\\n   -6.9807    4.1462   -3.4213 H   0  0  0  0  0  0  0  0  0  0  0  0\\n   -6.4483    2.1563   -5.6585 H   0  0  0  0  0  0  0  0  0  0  0  0\\n   -4.2743    3.0552   -5.6891 H   0  0  0  0  0  0  0  0  0  0  0  0\\n   -5.1283    4.7692   -6.8790 H   0  0  0  0  0  0  0  0  0  0  0  0\\n   -4.8373    5.6921   -5.3947 H   0  0  0  0  0  0  0  0  0  0  0  0\\n    5.9078    5.1663   -5.7041 C   0  0  0  0  0  0  0  0  0  0  0  0\\n    6.4307    3.8347   -6.1047 C   0  0  0  0  0  0  0  0  0  0  0  0\\n    5.3736    2.7862   -5.7305 C   0  0  0  0  0  0  0  0  0  0  0  0\\n    5.4206    2.7672   -4.2213 C   0  0  0  0  0  0  0  0  0  0  0  0\\n    4.8940    4.0465   -3.6799 C   0  0  0  0  0  0  0  0  0  0  0  0\\n    5.3525    5.2806   -4.3465 C   0  0  0  0  0  0  0  0  0  0  0  0\\n    3.4225    3.9733   -3.6395 N   0  0  0  0  0  0  0  0  0  0  0  0\\n    4.7653    1.6475   -3.6395 N   0  0  0  0  0  0  0  0  0  0  0  0\\n    5.1491    5.4758   -6.4767 H   0  0  0  0  0  0  0  0  0  0  0  0\\n    6.7490    5.9083   -5.8498 H   0  0  0  0  0  0  0  0  0  0  0  0\\n    7.3530    3.6213   -5.5242 H   0  0  0  0  0  0  0  0  0  0  0  0\\n    6.6358    3.8227   -7.1831 H   0  0  0  0  0  0  0  0  0  0  0  0\\n    5.6654    1.8460   -6.1904 H   0  0  0  0  0  0  0  0  0  0  0  0\\n    4.3790    3.1519   -6.0704 H   0  0  0  0  0  0  0  0  0  0  0  0\\n    6.5107    2.7001   -3.9491 H   0  0  0  0  0  0  0  0  0  0  0  0\\n    5.1871    4.0901   -2.5883 H   0  0  0  0  0  0  0  0  0  0  0  0\\n    6.0926    5.8338   -3.6941 H   0  0  0  0  0  0  0  0  0  0  0  0\\n    4.4698    5.9878   -4.3886 H   0  0  0  0  0  0  0  0  0  0  0  0\\n  1  2  2  0\\n  2  3  1  0\\n  3  4  2  0\\n  4  5  1  0\\n  5  6  2  0\\n  6  7  1  0\\n  4  8  1  0\\n  2  9  1  0\\n  6  1  1  0\\n  1 10  1  0\\n  3 11  1  0\\n  5 12  1  0\\n  7 13  1  0\\n  8 14  1  0\\n  9 15  1  0\\n 16 17  2  0\\n 17 18  1  0\\n 18 19  2  0\\n 19 20  1  0\\n 20 21  2  0\\n 21 22  1  0\\n 19 23  1  0\\n 17 24  1  0\\n 21 16  1  0\\n 16 25  1  0\\n 18 26  1  0\\n 20 27  1  0\\n 22 28  1  0\\n 23 29  1  0\\n 24 30  1  0\\n 31 32  2  0\\n 32 33  1  0\\n 33 34  2  0\\n 34 35  1  0\\n 35 36  2  0\\n 36 37  1  0\\n 34 38  1  0\\n 32 39  1  0\\n 36 31  1  0\\n 31 40  1  0\\n 33 41  1  0\\n 35 42  1  0\\n 37 43  1  0\\n 38 44  1  0\\n 39 45  1  0\\n 46 47  2  0\\n 47 48  1  0\\n 48 49  2  0\\n 49 50  1  0\\n 50 51  2  0\\n 51 52  1  0\\n 49 53  1  0\\n 47 54  1  0\\n 51 46  1  0\\n 46 55  1  0\\n 48 56  1  0\\n 50 57  1  0\\n 52 58  1  0\\n 53 59  1  0\\n 54 60  1  0\\n 61 62  1  0\\n 62 63  1  0\\n 63 64  1  0\\n 64 65  1  0\\n 65 66  1  0\\n 65 67  1  0\\n 64 68  1  0\\n 66 61  1  0\\n 61 69  1  0\\n 61 70  1  0\\n 62 71  1  0\\n 62 72  1  0\\n 63 73  1  0\\n 63 74  1  0\\n 64 75  1  0\\n 65 76  1  0\\n 66 77  1  0\\n 66 78  1  0\\n 79 80  1  0\\n 80 81  1  0\\n 81 82  1  0\\n 82 83  1  0\\n 83 84  1  0\\n 83 85  1  0\\n 82 86  1  0\\n 84 79  1  0\\n 79 87  1  0\\n 79 88  1  0\\n 80 89  1  0\\n 80 90  1  0\\n 81 91  1  0\\n 81 92  1  0\\n 82 93  1  0\\n 83 94  1  0\\n 84 95  1  0\\n 84 96  1  0\\n 97 98  1  0\\n 98 99  1  0\\n 99100  1  0\\n100101  1  0\\n101102  1  0\\n101103  1  0\\n100104  1  0\\n102 97  1  0\\n 97105  1  0\\n 97106  1  0\\n 98107  1  0\\n 98108  1  0\\n 99109  1  0\\n 99110  1  0\\n100111  1  0\\n101112  1  0\\n102113  1  0\\n102114  1  0\\n115116  1  0\\n116117  1  0\\n117118  1  0\\n118119  1  0\\n119120  1  0\\n119121  1  0\\n118122  1  0\\n120115  1  0\\n115123  1  0\\n115124  1  0\\n116125  1  0\\n116126  1  0\\n117127  1  0\\n117128  1  0\\n118129  1  0\\n119130  1  0\\n120131  1  0\\n120132  1  0\\n133134  1  0\\n134135  1  0\\n135136  1  0\\n136137  1  0\\n137138  1  0\\n137139  1  0\\n136140  1  0\\n138133  1  0\\n133141  1  0\\n133142  1  0\\n134143  1  0\\n134144  1  0\\n135145  1  0\\n135146  1  0\\n136147  1  0\\n137148  1  0\\n138149  1  0\\n138150  1  0\\n151152  1  0\\n152153  1  0\\n153154  1  0\\n154155  1  0\\n155156  1  0\\n155157  1  0\\n154158  1  0\\n156151  1  0\\n151159  1  0\\n151160  1  0\\n152161  1  0\\n152162  1  0\\n153163  1  0\\n153164  1  0\\n154165  1  0\\n155166  1  0\\n156167  1  0\\n156168  1  0\\n  9 68  2  0\\n 24 67  2  0\\n  7 86  2  0\\n 39 85  2  0\\n  8104  2  0\\n 54103  2  0\\n 23122  2  0\\n 37121  2  0\\n 22140  2  0\\n 53139  2  0\\n 38158  2  0\\n 52157  2  0\\nM  END\\n\");\n",
       "viewer_1655380325308259.setStyle({\"stick\": {\"colorscheme\": \"cyanCarbon\"}});\n",
       "viewer_1655380325308259.zoomTo();\n",
       "\tviewer_1655380325308259.setBackgroundColor(\"0xeeeeee\");\n",
       "\tviewer_1655380325308259.zoomTo();\n",
       "viewer_1655380325308259.render();\n",
       "});\n",
       "</script>"
      ]
     },
     "metadata": {},
     "output_type": "display_data"
    }
   ],
   "source": [
    "show_stk_mol(cage)"
   ]
  },
  {
   "cell_type": "code",
   "execution_count": 142,
   "id": "4a933985-e773-4d36-a71f-c3e96c6e65ba",
   "metadata": {},
   "outputs": [],
   "source": [
    "bb1 = stk.BuildingBlock.init_from_file(\n",
    "    path='one_i_did_earlier.mol',\n",
    "    functional_groups=[stk.PrimaryAminoFactory()],\n",
    ")\n",
    "bb2 = stk.BuildingBlock(\n",
    "    smiles='C1=C(C=C(C=C1C=O)C=O)C=O',\n",
    "    functional_groups=[stk.AldehydeFactory()],\n",
    ")\n",
    "\n",
    "cage = stk.ConstructedMolecule(\n",
    "    topology_graph=stk.cage.FourPlusSix(\n",
    "        building_blocks=(bb1, bb2),\n",
    "        # optimizer=stk.MCHammer(),\n",
    "    ),\n",
    ")"
   ]
  },
  {
   "cell_type": "code",
   "execution_count": 144,
   "id": "e86d1582-5dc0-4067-b948-5f1a0d957a4f",
   "metadata": {},
   "outputs": [
    {
     "data": {
      "application/3dmoljs_load.v0": "<div id=\"3dmolviewer_1655380386754029\"  style=\"position: relative; width: 400px; height: 400px\">\n        <p id=\"3dmolwarning_1655380386754029\" style=\"background-color:#ffcccc;color:black\">You appear to be running in JupyterLab (or JavaScript failed to load for some other reason).  You need to install the 3dmol extension: <br>\n        <tt>jupyter labextension install jupyterlab_3dmol</tt></p>\n        </div>\n<script>\n\nvar loadScriptAsync = function(uri){\n  return new Promise((resolve, reject) => {\n    var tag = document.createElement('script');\n    tag.src = uri;\n    tag.async = true;\n    tag.onload = () => {\n      resolve();\n    };\n  var firstScriptTag = document.getElementsByTagName('script')[0];\n  firstScriptTag.parentNode.insertBefore(tag, firstScriptTag);\n});\n};\n\nif(typeof $3Dmolpromise === 'undefined') {\n$3Dmolpromise = null;\n  $3Dmolpromise = loadScriptAsync('https://3dmol.org/build/3Dmol.js');\n}\n\nvar viewer_1655380386754029 = null;\nvar warn = document.getElementById(\"3dmolwarning_1655380386754029\");\nif(warn) {\n    warn.parentNode.removeChild(warn);\n}\n$3Dmolpromise.then(function() {\nviewer_1655380386754029 = $3Dmol.createViewer($(\"#3dmolviewer_1655380386754029\"),{backgroundColor:\"white\"});\nviewer_1655380386754029.addModel(\"\\n     RDKit          3D\\n\\n 22 22  0  0  0  0  0  0  0  0999 V2000\\n   -2.7264   -0.1337   -0.2643 C   0  0  0  0  0  0  0  0  0  0  0  0\\n   -1.7607    1.0620   -0.0728 C   0  0  0  0  0  0  0  0  0  0  0  0\\n    0.0076   -0.7858   -0.1651 C   0  0  0  0  0  0  0  0  0  0  0  0\\n   -0.5650   -2.2328    1.3725 H   0  0  0  0  0  0  0  0  0  0  0  0\\n   -1.0224   -2.6854   -0.2614 H   0  0  0  0  0  0  0  0  0  0  0  0\\n   -0.1024   -0.7857   -1.2536 H   0  0  0  0  0  0  0  0  0  0  0  0\\n   -0.3298    0.6333    0.3535 C   0  0  0  0  0  0  0  0  0  0  0  0\\n    2.0371   -0.4771   -0.2647 H   0  0  0  0  0  0  0  0  0  0  0  0\\n   -2.3823   -1.2874    0.6977 C   0  0  0  0  0  0  0  0  0  0  0  0\\n   -3.7558    0.1962   -0.1045 H   0  0  0  0  0  0  0  0  0  0  0  0\\n   -2.6604   -0.4960   -1.2933 H   0  0  0  0  0  0  0  0  0  0  0  0\\n   -0.9609   -1.8422    0.4310 C   0  0  0  0  0  0  0  0  0  0  0  0\\n    1.6222   -2.0622   -0.2267 H   0  0  0  0  0  0  0  0  0  0  0  0\\n   -2.4437   -0.9217    1.7260 H   0  0  0  0  0  0  0  0  0  0  0  0\\n   -3.1153   -2.0917    0.5981 H   0  0  0  0  0  0  0  0  0  0  0  0\\n   -1.7282    1.6266   -1.0084 H   0  0  0  0  0  0  0  0  0  0  0  0\\n   -2.1612    1.7347    0.6896 H   0  0  0  0  0  0  0  0  0  0  0  0\\n    0.6517    1.6180   -0.1373 N   0  0  0  0  0  0  0  0  0  0  0  0\\n    1.5851    1.3585    0.1755 H   0  0  0  0  0  0  0  0  0  0  0  0\\n    0.4483    2.5371    0.2502 H   0  0  0  0  0  0  0  0  0  0  0  0\\n   -0.2836    0.6146    1.4469 H   0  0  0  0  0  0  0  0  0  0  0  0\\n    1.3998   -1.1475    0.1606 N   0  0  0  0  0  0  0  0  0  0  0  0\\n  1  2  1  0\\n  1 11  1  0\\n  1  9  1  0\\n  1 10  1  0\\n  2  7  1  0\\n  2 16  1  0\\n  2 17  1  0\\n  3  7  1  0\\n  3 22  1  0\\n  3  6  1  0\\n  7 18  1  0\\n  7 21  1  0\\n  9 12  1  0\\n  9 14  1  0\\n  9 15  1  0\\n 12  4  1  0\\n 12  5  1  0\\n 12  3  1  0\\n 18 19  1  0\\n 18 20  1  0\\n 22  8  1  0\\n 22 13  1  0\\nM  END\\n\");\nviewer_1655380386754029.setStyle({\"stick\": {\"colorscheme\": \"cyanCarbon\"}});\nviewer_1655380386754029.zoomTo();\n\tviewer_1655380386754029.setBackgroundColor(\"0xeeeeee\");\n\tviewer_1655380386754029.zoomTo();\nviewer_1655380386754029.render();\n});\n</script>",
      "text/html": [
       "<div id=\"3dmolviewer_1655380386754029\"  style=\"position: relative; width: 400px; height: 400px\">\n",
       "        <p id=\"3dmolwarning_1655380386754029\" style=\"background-color:#ffcccc;color:black\">You appear to be running in JupyterLab (or JavaScript failed to load for some other reason).  You need to install the 3dmol extension: <br>\n",
       "        <tt>jupyter labextension install jupyterlab_3dmol</tt></p>\n",
       "        </div>\n",
       "<script>\n",
       "\n",
       "var loadScriptAsync = function(uri){\n",
       "  return new Promise((resolve, reject) => {\n",
       "    var tag = document.createElement('script');\n",
       "    tag.src = uri;\n",
       "    tag.async = true;\n",
       "    tag.onload = () => {\n",
       "      resolve();\n",
       "    };\n",
       "  var firstScriptTag = document.getElementsByTagName('script')[0];\n",
       "  firstScriptTag.parentNode.insertBefore(tag, firstScriptTag);\n",
       "});\n",
       "};\n",
       "\n",
       "if(typeof $3Dmolpromise === 'undefined') {\n",
       "$3Dmolpromise = null;\n",
       "  $3Dmolpromise = loadScriptAsync('https://3dmol.org/build/3Dmol.js');\n",
       "}\n",
       "\n",
       "var viewer_1655380386754029 = null;\n",
       "var warn = document.getElementById(\"3dmolwarning_1655380386754029\");\n",
       "if(warn) {\n",
       "    warn.parentNode.removeChild(warn);\n",
       "}\n",
       "$3Dmolpromise.then(function() {\n",
       "viewer_1655380386754029 = $3Dmol.createViewer($(\"#3dmolviewer_1655380386754029\"),{backgroundColor:\"white\"});\n",
       "viewer_1655380386754029.addModel(\"\\n     RDKit          3D\\n\\n 22 22  0  0  0  0  0  0  0  0999 V2000\\n   -2.7264   -0.1337   -0.2643 C   0  0  0  0  0  0  0  0  0  0  0  0\\n   -1.7607    1.0620   -0.0728 C   0  0  0  0  0  0  0  0  0  0  0  0\\n    0.0076   -0.7858   -0.1651 C   0  0  0  0  0  0  0  0  0  0  0  0\\n   -0.5650   -2.2328    1.3725 H   0  0  0  0  0  0  0  0  0  0  0  0\\n   -1.0224   -2.6854   -0.2614 H   0  0  0  0  0  0  0  0  0  0  0  0\\n   -0.1024   -0.7857   -1.2536 H   0  0  0  0  0  0  0  0  0  0  0  0\\n   -0.3298    0.6333    0.3535 C   0  0  0  0  0  0  0  0  0  0  0  0\\n    2.0371   -0.4771   -0.2647 H   0  0  0  0  0  0  0  0  0  0  0  0\\n   -2.3823   -1.2874    0.6977 C   0  0  0  0  0  0  0  0  0  0  0  0\\n   -3.7558    0.1962   -0.1045 H   0  0  0  0  0  0  0  0  0  0  0  0\\n   -2.6604   -0.4960   -1.2933 H   0  0  0  0  0  0  0  0  0  0  0  0\\n   -0.9609   -1.8422    0.4310 C   0  0  0  0  0  0  0  0  0  0  0  0\\n    1.6222   -2.0622   -0.2267 H   0  0  0  0  0  0  0  0  0  0  0  0\\n   -2.4437   -0.9217    1.7260 H   0  0  0  0  0  0  0  0  0  0  0  0\\n   -3.1153   -2.0917    0.5981 H   0  0  0  0  0  0  0  0  0  0  0  0\\n   -1.7282    1.6266   -1.0084 H   0  0  0  0  0  0  0  0  0  0  0  0\\n   -2.1612    1.7347    0.6896 H   0  0  0  0  0  0  0  0  0  0  0  0\\n    0.6517    1.6180   -0.1373 N   0  0  0  0  0  0  0  0  0  0  0  0\\n    1.5851    1.3585    0.1755 H   0  0  0  0  0  0  0  0  0  0  0  0\\n    0.4483    2.5371    0.2502 H   0  0  0  0  0  0  0  0  0  0  0  0\\n   -0.2836    0.6146    1.4469 H   0  0  0  0  0  0  0  0  0  0  0  0\\n    1.3998   -1.1475    0.1606 N   0  0  0  0  0  0  0  0  0  0  0  0\\n  1  2  1  0\\n  1 11  1  0\\n  1  9  1  0\\n  1 10  1  0\\n  2  7  1  0\\n  2 16  1  0\\n  2 17  1  0\\n  3  7  1  0\\n  3 22  1  0\\n  3  6  1  0\\n  7 18  1  0\\n  7 21  1  0\\n  9 12  1  0\\n  9 14  1  0\\n  9 15  1  0\\n 12  4  1  0\\n 12  5  1  0\\n 12  3  1  0\\n 18 19  1  0\\n 18 20  1  0\\n 22  8  1  0\\n 22 13  1  0\\nM  END\\n\");\n",
       "viewer_1655380386754029.setStyle({\"stick\": {\"colorscheme\": \"cyanCarbon\"}});\n",
       "viewer_1655380386754029.zoomTo();\n",
       "\tviewer_1655380386754029.setBackgroundColor(\"0xeeeeee\");\n",
       "\tviewer_1655380386754029.zoomTo();\n",
       "viewer_1655380386754029.render();\n",
       "});\n",
       "</script>"
      ]
     },
     "metadata": {},
     "output_type": "display_data"
    }
   ],
   "source": [
    "show_stk_mol(bb1)"
   ]
  },
  {
   "cell_type": "code",
   "execution_count": 145,
   "id": "3a4b5ea0-ee4e-4d09-bd1e-b506d8052e23",
   "metadata": {},
   "outputs": [],
   "source": [
    "bb1 = stk.BuildingBlock.init_from_file(\n",
    "    path='one_i_did_earlier.mol',\n",
    "    functional_groups=[stk.PrimaryAminoFactory()],\n",
    ")\n",
    "bb2 = stk.BuildingBlock(\n",
    "    smiles='C1=C(C=C(C=C1C=O)C=O)C=O',\n",
    "    functional_groups=[stk.AldehydeFactory()],\n",
    ")\n",
    "\n",
    "cage = stk.ConstructedMolecule(\n",
    "    topology_graph=stk.cage.FourPlusSix(\n",
    "        building_blocks=(bb1, bb2),\n",
    "        optimizer=stk.MCHammer(),\n",
    "    ),\n",
    ")"
   ]
  },
  {
   "cell_type": "code",
   "execution_count": 146,
   "id": "2f4196a0-0f9c-4c3b-9f0c-498b0e0d6d2c",
   "metadata": {},
   "outputs": [
    {
     "data": {
      "application/3dmoljs_load.v0": "<div id=\"3dmolviewer_16553804544243188\"  style=\"position: relative; width: 400px; height: 400px\">\n        <p id=\"3dmolwarning_16553804544243188\" style=\"background-color:#ffcccc;color:black\">You appear to be running in JupyterLab (or JavaScript failed to load for some other reason).  You need to install the 3dmol extension: <br>\n        <tt>jupyter labextension install jupyterlab_3dmol</tt></p>\n        </div>\n<script>\n\nvar loadScriptAsync = function(uri){\n  return new Promise((resolve, reject) => {\n    var tag = document.createElement('script');\n    tag.src = uri;\n    tag.async = true;\n    tag.onload = () => {\n      resolve();\n    };\n  var firstScriptTag = document.getElementsByTagName('script')[0];\n  firstScriptTag.parentNode.insertBefore(tag, firstScriptTag);\n});\n};\n\nif(typeof $3Dmolpromise === 'undefined') {\n$3Dmolpromise = null;\n  $3Dmolpromise = loadScriptAsync('https://3dmol.org/build/3Dmol.js');\n}\n\nvar viewer_16553804544243188 = null;\nvar warn = document.getElementById(\"3dmolwarning_16553804544243188\");\nif(warn) {\n    warn.parentNode.removeChild(warn);\n}\n$3Dmolpromise.then(function() {\nviewer_16553804544243188 = $3Dmol.createViewer($(\"#3dmolviewer_16553804544243188\"),{backgroundColor:\"white\"});\nviewer_16553804544243188.addModel(\"\\n     RDKit          3D\\n\\n168180  0  0  0  0  0  0  0  0999 V2000\\n   -0.4232   -1.5396    5.3941 C   0  0  0  0  0  0  0  0  0  0  0  0\\n   -1.6180   -0.8530    5.3941 C   0  0  0  0  0  0  0  0  0  0  0  0\\n   -1.6525    0.5255    5.3941 C   0  0  0  0  0  0  0  0  0  0  0  0\\n   -0.4629    1.2535    5.3941 C   0  0  0  0  0  0  0  0  0  0  0  0\\n    0.7138    0.5254    5.3941 C   0  0  0  0  0  0  0  0  0  0  0  0\\n    0.7758   -0.8497    5.3941 C   0  0  0  0  0  0  0  0  0  0  0  0\\n    2.0628   -1.5510    5.3941 C   0  0  0  0  0  0  0  0  0  0  0  0\\n   -0.4674    2.7021    5.3941 C   0  0  0  0  0  0  0  0  0  0  0  0\\n   -2.8902   -1.5536    5.3941 C   0  0  0  0  0  0  0  0  0  0  0  0\\n   -0.3796   -2.6194    5.3941 H   0  0  0  0  0  0  0  0  0  0  0  0\\n   -2.5684    1.0890    5.3941 H   0  0  0  0  0  0  0  0  0  0  0  0\\n    1.6421    1.1214    5.3942 H   0  0  0  0  0  0  0  0  0  0  0  0\\n    2.1439   -2.6172    5.3942 H   0  0  0  0  0  0  0  0  0  0  0  0\\n   -1.4002    3.2190    5.3940 H   0  0  0  0  0  0  0  0  0  0  0  0\\n   -2.8746   -2.6297    5.3941 H   0  0  0  0  0  0  0  0  0  0  0  0\\n   -5.9369   -1.2677   -0.7610 C   0  0  0  0  0  0  0  0  0  0  0  0\\n   -5.5405   -2.4152   -0.1092 C   0  0  0  0  0  0  0  0  0  0  0  0\\n   -4.7447   -3.3542   -0.7308 C   0  0  0  0  0  0  0  0  0  0  0  0\\n   -4.3243   -3.1527   -2.0453 C   0  0  0  0  0  0  0  0  0  0  0  0\\n   -4.7447   -1.9879   -2.6628 C   0  0  0  0  0  0  0  0  0  0  0  0\\n   -5.5386   -1.0353   -2.0652 C   0  0  0  0  0  0  0  0  0  0  0  0\\n   -5.9435    0.1751   -2.7854 C   0  0  0  0  0  0  0  0  0  0  0  0\\n   -3.4880   -4.1210   -2.7244 C   0  0  0  0  0  0  0  0  0  0  0  0\\n   -5.9450   -2.6827    1.2599 C   0  0  0  0  0  0  0  0  0  0  0  0\\n   -6.5603   -0.5227   -0.2876 H   0  0  0  0  0  0  0  0  0  0  0  0\\n   -4.4193   -4.2586   -0.2486 H   0  0  0  0  0  0  0  0  0  0  0  0\\n   -4.4006   -1.8493   -3.7018 H   0  0  0  0  0  0  0  0  0  0  0  0\\n   -6.5591    0.9328   -2.3491 H   0  0  0  0  0  0  0  0  0  0  0  0\\n   -3.1895   -5.0042   -2.2065 H   0  0  0  0  0  0  0  0  0  0  0  0\\n   -6.5663   -1.9563    1.7544 H   0  0  0  0  0  0  0  0  0  0  0  0\\n    2.8221   -3.8733   -1.0541 C   0  0  0  0  0  0  0  0  0  0  0  0\\n    3.6177   -2.9562   -0.4022 C   0  0  0  0  0  0  0  0  0  0  0  0\\n    4.0329   -1.7976   -1.0238 C   0  0  0  0  0  0  0  0  0  0  0  0\\n    3.6483   -1.5343   -2.3384 C   0  0  0  0  0  0  0  0  0  0  0  0\\n    2.8498   -2.4807   -2.9558 C   0  0  0  0  0  0  0  0  0  0  0  0\\n    2.4218   -3.6446   -2.3583 C   0  0  0  0  0  0  0  0  0  0  0  0\\n    1.5759   -4.6004   -3.0785 C   0  0  0  0  0  0  0  0  0  0  0  0\\n    4.0687   -0.3258   -3.0175 C   0  0  0  0  0  0  0  0  0  0  0  0\\n    4.0516   -3.1728    0.9668 C   0  0  0  0  0  0  0  0  0  0  0  0\\n    2.4886   -4.7857   -0.5806 H   0  0  0  0  0  0  0  0  0  0  0  0\\n    4.6535   -1.0636   -0.5416 H   0  0  0  0  0  0  0  0  0  0  0  0\\n    2.5576   -2.2521   -3.9948 H   0  0  0  0  0  0  0  0  0  0  0  0\\n    1.2275   -5.5124   -2.6421 H   0  0  0  0  0  0  0  0  0  0  0  0\\n    4.6843    0.3743   -2.4996 H   0  0  0  0  0  0  0  0  0  0  0  0\\n    3.7332   -4.0741    1.4614 H   0  0  0  0  0  0  0  0  0  0  0  0\\n    1.0263    5.8439   -0.8442 C   0  0  0  0  0  0  0  0  0  0  0  0\\n   -0.1657    6.0744   -0.1924 C   0  0  0  0  0  0  0  0  0  0  0  0\\n   -1.3768    5.8546   -0.8140 C   0  0  0  0  0  0  0  0  0  0  0  0\\n   -1.4125    5.3899   -2.1285 C   0  0  0  0  0  0  0  0  0  0  0  0\\n   -0.1935    5.1716   -2.7460 C   0  0  0  0  0  0  0  0  0  0  0  0\\n    1.0284    5.3828   -2.1484 C   0  0  0  0  0  0  0  0  0  0  0  0\\n    2.2791    5.1282   -2.8686 C   0  0  0  0  0  0  0  0  0  0  0  0\\n   -2.6692    5.1497   -2.8076 C   0  0  0  0  0  0  0  0  0  0  0  0\\n   -0.1951    6.5584    1.1767 C   0  0  0  0  0  0  0  0  0  0  0  0\\n    1.9832    6.0113   -0.3708 H   0  0  0  0  0  0  0  0  0  0  0  0\\n   -2.3227    6.0251   -0.3318 H   0  0  0  0  0  0  0  0  0  0  0  0\\n   -0.2455    4.8042   -3.7850 H   0  0  0  0  0  0  0  0  0  0  0  0\\n    3.2431    5.2825   -2.4323 H   0  0  0  0  0  0  0  0  0  0  0  0\\n   -3.5833    5.3328   -2.2897 H   0  0  0  0  0  0  0  0  0  0  0  0\\n    0.7447    6.7333    1.6712 H   0  0  0  0  0  0  0  0  0  0  0  0\\n   -7.7912   -5.0294    5.4249 C   0  0  0  0  0  0  0  0  0  0  0  0\\n   -7.5443   -4.4707    4.0016 C   0  0  0  0  0  0  0  0  0  0  0  0\\n   -5.4302   -3.5360    5.1002 C   0  0  0  0  0  0  0  0  0  0  0  0\\n   -6.1185   -2.3861    6.8293 H   0  0  0  0  0  0  0  0  0  0  0  0\\n   -5.5228   -3.9930    7.2124 H   0  0  0  0  0  0  0  0  0  0  0  0\\n   -4.9864   -4.5317    5.0074 H   0  0  0  0  0  0  0  0  0  0  0  0\\n   -6.4601   -3.3591    3.9579 C   0  0  0  0  0  0  0  0  0  0  0  0\\n   -7.5739   -3.9424    6.4955 C   0  0  0  0  0  0  0  0  0  0  0  0\\n   -8.8066   -5.4274    5.4923 H   0  0  0  0  0  0  0  0  0  0  0  0\\n   -7.1066   -5.8596    5.6159 H   0  0  0  0  0  0  0  0  0  0  0  0\\n   -6.1138   -3.4254    6.4894 C   0  0  0  0  0  0  0  0  0  0  0  0\\n   -8.2558   -3.1108    6.2997 H   0  0  0  0  0  0  0  0  0  0  0  0\\n   -7.8207   -4.3344    7.4852 H   0  0  0  0  0  0  0  0  0  0  0  0\\n   -7.2638   -5.3045    3.3525 H   0  0  0  0  0  0  0  0  0  0  0  0\\n   -8.4761   -4.0600    3.6051 H   0  0  0  0  0  0  0  0  0  0  0  0\\n   -5.7919   -3.3670    2.6437 N   0  0  0  0  0  0  0  0  0  0  0  0\\n   -6.9504   -2.3896    4.0906 H   0  0  0  0  0  0  0  0  0  0  0  0\\n   -4.3517   -2.5355    4.9954 N   0  0  0  0  0  0  0  0  0  0  0  0\\n    7.4427   -4.0846    5.3451 C   0  0  0  0  0  0  0  0  0  0  0  0\\n    6.8350   -4.1514    3.9220 C   0  0  0  0  0  0  0  0  0  0  0  0\\n    4.9676   -2.7890    5.0204 C   0  0  0  0  0  0  0  0  0  0  0  0\\n    4.3175   -3.9597    6.7504 H   0  0  0  0  0  0  0  0  0  0  0  0\\n    5.4102   -2.6391    7.1324 H   0  0  0  0  0  0  0  0  0  0  0  0\\n    5.6071   -1.9063    4.9269 H   0  0  0  0  0  0  0  0  0  0  0  0\\n    5.3299   -3.7697    3.8786 C   0  0  0  0  0  0  0  0  0  0  0  0\\n    6.3934   -4.4402    6.4162 C   0  0  0  0  0  0  0  0  0  0  0  0\\n    8.2957   -4.7641    5.4126 H   0  0  0  0  0  0  0  0  0  0  0  0\\n    7.8185   -3.0761    5.5353 H   0  0  0  0  0  0  0  0  0  0  0  0\\n    5.2146   -3.4353    6.4099 C   0  0  0  0  0  0  0  0  0  0  0  0\\n    6.0149   -5.4470    6.2211 H   0  0  0  0  0  0  0  0  0  0  0  0\\n    6.8566   -4.4569    7.4058 H   0  0  0  0  0  0  0  0  0  0  0  0\\n    7.4160   -3.4914    3.2723 H   0  0  0  0  0  0  0  0  0  0  0  0\\n    6.9460   -5.1639    3.5261 H   0  0  0  0  0  0  0  0  0  0  0  0\\n    5.0016   -3.1881    2.5641 N   0  0  0  0  0  0  0  0  0  0  0  0\\n    4.7363   -4.6796    4.0120 H   0  0  0  0  0  0  0  0  0  0  0  0\\n    3.5615   -2.3566    4.9159 N   0  0  0  0  0  0  0  0  0  0  0  0\\n   -0.7446    8.5761    5.4223 C   0  0  0  0  0  0  0  0  0  0  0  0\\n   -0.3818    8.0835    3.9994 C   0  0  0  0  0  0  0  0  0  0  0  0\\n   -0.6268    5.7849    5.0977 C   0  0  0  0  0  0  0  0  0  0  0  0\\n    0.7111    5.8082    6.8284 H   0  0  0  0  0  0  0  0  0  0  0  0\\n   -0.9793    6.0930    7.2095 H   0  0  0  0  0  0  0  0  0  0  0  0\\n   -1.7111    5.8966    5.0037 H   0  0  0  0  0  0  0  0  0  0  0  0\\n    0.0413    6.5894    3.9562 C   0  0  0  0  0  0  0  0  0  0  0  0\\n    0.0881    7.8458    6.4939 C   0  0  0  0  0  0  0  0  0  0  0  0\\n   -0.5834    9.6547    5.4899 H   0  0  0  0  0  0  0  0  0  0  0  0\\n   -1.8058    8.3965    5.6120 H   0  0  0  0  0  0  0  0  0  0  0  0\\n   -0.1918    6.3223    6.4874 C   0  0  0  0  0  0  0  0  0  0  0  0\\n    1.1492    8.0222    6.2993 H   0  0  0  0  0  0  0  0  0  0  0  0\\n   -0.1299    8.2552    7.4833 H   0  0  0  0  0  0  0  0  0  0  0  0\\n   -1.2437    8.2561    3.3493 H   0  0  0  0  0  0  0  0  0  0  0  0\\n    0.4393    8.6865    3.6039 H   0  0  0  0  0  0  0  0  0  0  0  0\\n   -0.2972    6.0142    2.6415 N   0  0  0  0  0  0  0  0  0  0  0  0\\n    1.1260    6.5311    4.0902 H   0  0  0  0  0  0  0  0  0  0  0  0\\n   -0.2972    4.3512    4.9933 N   0  0  0  0  0  0  0  0  0  0  0  0\\n   -0.7385   -8.5880   -5.4638 C   0  0  0  0  0  0  0  0  0  0  0  0\\n    0.1389   -7.3798   -5.0521 C   0  0  0  0  0  0  0  0  0  0  0  0\\n   -2.0849   -6.5077   -4.1336 C   0  0  0  0  0  0  0  0  0  0  0  0\\n   -3.4845   -6.5647   -5.8140 H   0  0  0  0  0  0  0  0  0  0  0  0\\n   -3.6313   -7.9114   -4.6965 H   0  0  0  0  0  0  0  0  0  0  0  0\\n   -1.9437   -7.1648   -3.2703 H   0  0  0  0  0  0  0  0  0  0  0  0\\n   -0.6884   -6.1196   -4.6774 C   0  0  0  0  0  0  0  0  0  0  0  0\\n   -2.0350   -8.1248   -6.1560 C   0  0  0  0  0  0  0  0  0  0  0  0\\n   -0.1709   -9.2451   -6.1271 H   0  0  0  0  0  0  0  0  0  0  0  0\\n   -0.9970   -9.1714   -4.5765 H   0  0  0  0  0  0  0  0  0  0  0  0\\n   -2.9093   -7.2687   -5.2062 C   0  0  0  0  0  0  0  0  0  0  0  0\\n   -1.7743   -7.5370   -7.0400 H   0  0  0  0  0  0  0  0  0  0  0  0\\n   -2.6066   -8.9895   -6.5018 H   0  0  0  0  0  0  0  0  0  0  0  0\\n    0.7694   -7.6870   -4.2134 H   0  0  0  0  0  0  0  0  0  0  0  0\\n    0.8100   -7.1204   -5.8746 H   0  0  0  0  0  0  0  0  0  0  0  0\\n    0.0529   -5.3129   -3.6907 N   0  0  0  0  0  0  0  0  0  0  0  0\\n   -0.8314   -5.5166   -5.5796 H   0  0  0  0  0  0  0  0  0  0  0  0\\n   -2.8275   -5.3129   -3.6907 N   0  0  0  0  0  0  0  0  0  0  0  0\\n   -6.7601    4.8439   -6.1619 C   0  0  0  0  0  0  0  0  0  0  0  0\\n   -5.6350    5.2074   -5.1615 C   0  0  0  0  0  0  0  0  0  0  0  0\\n   -5.7444    2.7027   -4.6475 C   0  0  0  0  0  0  0  0  0  0  0  0\\n   -7.8319    2.2918   -4.1383 H   0  0  0  0  0  0  0  0  0  0  0  0\\n   -7.3842    1.8638   -5.7815 H   0  0  0  0  0  0  0  0  0  0  0  0\\n   -5.1600    2.5284   -5.5558 H   0  0  0  0  0  0  0  0  0  0  0  0\\n   -5.3773    4.1033   -4.0996 C   0  0  0  0  0  0  0  0  0  0  0  0\\n   -7.8388    3.9695   -5.4936 C   0  0  0  0  0  0  0  0  0  0  0  0\\n   -7.2082    5.7580   -6.5589 H   0  0  0  0  0  0  0  0  0  0  0  0\\n   -6.3346    4.2997   -7.0089 H   0  0  0  0  0  0  0  0  0  0  0  0\\n   -7.2526    2.6216   -5.0051 C   0  0  0  0  0  0  0  0  0  0  0  0\\n   -8.2593    4.5134   -4.6437 H   0  0  0  0  0  0  0  0  0  0  0  0\\n   -8.6577    3.7823   -6.1926 H   0  0  0  0  0  0  0  0  0  0  0  0\\n   -4.7245    5.4097   -5.7318 H   0  0  0  0  0  0  0  0  0  0  0  0\\n   -5.8954    6.1326   -4.6415 H   0  0  0  0  0  0  0  0  0  0  0  0\\n   -3.9675    4.1453   -3.6700 N   0  0  0  0  0  0  0  0  0  0  0  0\\n   -6.0100    4.3035   -3.2292 H   0  0  0  0  0  0  0  0  0  0  0  0\\n   -5.4077    1.6509   -3.6700 N   0  0  0  0  0  0  0  0  0  0  0  0\\n    6.4328    4.9169   -5.2538 C   0  0  0  0  0  0  0  0  0  0  0  0\\n    4.9478    5.0726   -4.8421 C   0  0  0  0  0  0  0  0  0  0  0  0\\n    5.3045    2.7107   -3.9236 C   0  0  0  0  0  0  0  0  0  0  0  0\\n    6.0537    1.5271   -5.6040 H   0  0  0  0  0  0  0  0  0  0  0  0\\n    7.2933    2.0733   -4.4866 H   0  0  0  0  0  0  0  0  0  0  0  0\\n    5.8029    3.1615   -3.0604 H   0  0  0  0  0  0  0  0  0  0  0  0\\n    4.2701    3.7260   -4.4675 C   0  0  0  0  0  0  0  0  0  0  0  0\\n    6.6800    3.5624   -5.9461 C   0  0  0  0  0  0  0  0  0  0  0  0\\n    6.7182    5.7370   -5.9172 H   0  0  0  0  0  0  0  0  0  0  0  0\\n    7.0674    4.9847   -4.3666 H   0  0  0  0  0  0  0  0  0  0  0  0\\n    6.3757    2.3772   -4.9963 C   0  0  0  0  0  0  0  0  0  0  0  0\\n    6.0406    3.4943   -6.8301 H   0  0  0  0  0  0  0  0  0  0  0  0\\n    7.7147    3.4998   -6.2919 H   0  0  0  0  0  0  0  0  0  0  0  0\\n    4.8986    5.7722   -4.0034 H   0  0  0  0  0  0  0  0  0  0  0  0\\n    4.3876    5.5241   -5.6647 H   0  0  0  0  0  0  0  0  0  0  0  0\\n    3.2008    3.9646   -3.4808 N   0  0  0  0  0  0  0  0  0  0  0  0\\n    3.8194    3.3007   -5.3696 H   0  0  0  0  0  0  0  0  0  0  0  0\\n    4.6410    1.4702   -3.4808 N   0  0  0  0  0  0  0  0  0  0  0  0\\n  1  2  2  0\\n  2  3  1  0\\n  3  4  2  0\\n  4  5  1  0\\n  5  6  2  0\\n  6  7  1  0\\n  4  8  1  0\\n  2  9  1  0\\n  6  1  1  0\\n  1 10  1  0\\n  3 11  1  0\\n  5 12  1  0\\n  7 13  1  0\\n  8 14  1  0\\n  9 15  1  0\\n 16 17  2  0\\n 17 18  1  0\\n 18 19  2  0\\n 19 20  1  0\\n 20 21  2  0\\n 21 22  1  0\\n 19 23  1  0\\n 17 24  1  0\\n 21 16  1  0\\n 16 25  1  0\\n 18 26  1  0\\n 20 27  1  0\\n 22 28  1  0\\n 23 29  1  0\\n 24 30  1  0\\n 31 32  2  0\\n 32 33  1  0\\n 33 34  2  0\\n 34 35  1  0\\n 35 36  2  0\\n 36 37  1  0\\n 34 38  1  0\\n 32 39  1  0\\n 36 31  1  0\\n 31 40  1  0\\n 33 41  1  0\\n 35 42  1  0\\n 37 43  1  0\\n 38 44  1  0\\n 39 45  1  0\\n 46 47  2  0\\n 47 48  1  0\\n 48 49  2  0\\n 49 50  1  0\\n 50 51  2  0\\n 51 52  1  0\\n 49 53  1  0\\n 47 54  1  0\\n 51 46  1  0\\n 46 55  1  0\\n 48 56  1  0\\n 50 57  1  0\\n 52 58  1  0\\n 53 59  1  0\\n 54 60  1  0\\n 61 62  1  0\\n 61 70  1  0\\n 61 68  1  0\\n 61 69  1  0\\n 62 67  1  0\\n 62 74  1  0\\n 62 75  1  0\\n 63 67  1  0\\n 63 78  1  0\\n 63 66  1  0\\n 67 76  1  0\\n 67 77  1  0\\n 68 71  1  0\\n 68 72  1  0\\n 68 73  1  0\\n 71 64  1  0\\n 71 65  1  0\\n 71 63  1  0\\n 79 80  1  0\\n 79 88  1  0\\n 79 86  1  0\\n 79 87  1  0\\n 80 85  1  0\\n 80 92  1  0\\n 80 93  1  0\\n 81 85  1  0\\n 81 96  1  0\\n 81 84  1  0\\n 85 94  1  0\\n 85 95  1  0\\n 86 89  1  0\\n 86 90  1  0\\n 86 91  1  0\\n 89 82  1  0\\n 89 83  1  0\\n 89 81  1  0\\n 97 98  1  0\\n 97106  1  0\\n 97104  1  0\\n 97105  1  0\\n 98103  1  0\\n 98110  1  0\\n 98111  1  0\\n 99103  1  0\\n 99114  1  0\\n 99102  1  0\\n103112  1  0\\n103113  1  0\\n104107  1  0\\n104108  1  0\\n104109  1  0\\n107100  1  0\\n107101  1  0\\n107 99  1  0\\n115116  1  0\\n115124  1  0\\n115122  1  0\\n115123  1  0\\n116121  1  0\\n116128  1  0\\n116129  1  0\\n117121  1  0\\n117132  1  0\\n117120  1  0\\n121130  1  0\\n121131  1  0\\n122125  1  0\\n122126  1  0\\n122127  1  0\\n125118  1  0\\n125119  1  0\\n125117  1  0\\n133134  1  0\\n133142  1  0\\n133140  1  0\\n133141  1  0\\n134139  1  0\\n134146  1  0\\n134147  1  0\\n135139  1  0\\n135150  1  0\\n135138  1  0\\n139148  1  0\\n139149  1  0\\n140143  1  0\\n140144  1  0\\n140145  1  0\\n143136  1  0\\n143137  1  0\\n143135  1  0\\n151152  1  0\\n151160  1  0\\n151158  1  0\\n151159  1  0\\n152157  1  0\\n152164  1  0\\n152165  1  0\\n153157  1  0\\n153168  1  0\\n153156  1  0\\n157166  1  0\\n157167  1  0\\n158161  1  0\\n158162  1  0\\n158163  1  0\\n161154  1  0\\n161155  1  0\\n161153  1  0\\n  9 78  2  0\\n 24 76  2  0\\n  7 96  2  0\\n 39 94  2  0\\n  8114  2  0\\n 54112  2  0\\n 23132  2  0\\n 37130  2  0\\n 22150  2  0\\n 53148  2  0\\n 38168  2  0\\n 52166  2  0\\nM  END\\n\");\nviewer_16553804544243188.setStyle({\"stick\": {\"colorscheme\": \"cyanCarbon\"}});\nviewer_16553804544243188.zoomTo();\n\tviewer_16553804544243188.setBackgroundColor(\"0xeeeeee\");\n\tviewer_16553804544243188.zoomTo();\nviewer_16553804544243188.render();\n});\n</script>",
      "text/html": [
       "<div id=\"3dmolviewer_16553804544243188\"  style=\"position: relative; width: 400px; height: 400px\">\n",
       "        <p id=\"3dmolwarning_16553804544243188\" style=\"background-color:#ffcccc;color:black\">You appear to be running in JupyterLab (or JavaScript failed to load for some other reason).  You need to install the 3dmol extension: <br>\n",
       "        <tt>jupyter labextension install jupyterlab_3dmol</tt></p>\n",
       "        </div>\n",
       "<script>\n",
       "\n",
       "var loadScriptAsync = function(uri){\n",
       "  return new Promise((resolve, reject) => {\n",
       "    var tag = document.createElement('script');\n",
       "    tag.src = uri;\n",
       "    tag.async = true;\n",
       "    tag.onload = () => {\n",
       "      resolve();\n",
       "    };\n",
       "  var firstScriptTag = document.getElementsByTagName('script')[0];\n",
       "  firstScriptTag.parentNode.insertBefore(tag, firstScriptTag);\n",
       "});\n",
       "};\n",
       "\n",
       "if(typeof $3Dmolpromise === 'undefined') {\n",
       "$3Dmolpromise = null;\n",
       "  $3Dmolpromise = loadScriptAsync('https://3dmol.org/build/3Dmol.js');\n",
       "}\n",
       "\n",
       "var viewer_16553804544243188 = null;\n",
       "var warn = document.getElementById(\"3dmolwarning_16553804544243188\");\n",
       "if(warn) {\n",
       "    warn.parentNode.removeChild(warn);\n",
       "}\n",
       "$3Dmolpromise.then(function() {\n",
       "viewer_16553804544243188 = $3Dmol.createViewer($(\"#3dmolviewer_16553804544243188\"),{backgroundColor:\"white\"});\n",
       "viewer_16553804544243188.addModel(\"\\n     RDKit          3D\\n\\n168180  0  0  0  0  0  0  0  0999 V2000\\n   -0.4232   -1.5396    5.3941 C   0  0  0  0  0  0  0  0  0  0  0  0\\n   -1.6180   -0.8530    5.3941 C   0  0  0  0  0  0  0  0  0  0  0  0\\n   -1.6525    0.5255    5.3941 C   0  0  0  0  0  0  0  0  0  0  0  0\\n   -0.4629    1.2535    5.3941 C   0  0  0  0  0  0  0  0  0  0  0  0\\n    0.7138    0.5254    5.3941 C   0  0  0  0  0  0  0  0  0  0  0  0\\n    0.7758   -0.8497    5.3941 C   0  0  0  0  0  0  0  0  0  0  0  0\\n    2.0628   -1.5510    5.3941 C   0  0  0  0  0  0  0  0  0  0  0  0\\n   -0.4674    2.7021    5.3941 C   0  0  0  0  0  0  0  0  0  0  0  0\\n   -2.8902   -1.5536    5.3941 C   0  0  0  0  0  0  0  0  0  0  0  0\\n   -0.3796   -2.6194    5.3941 H   0  0  0  0  0  0  0  0  0  0  0  0\\n   -2.5684    1.0890    5.3941 H   0  0  0  0  0  0  0  0  0  0  0  0\\n    1.6421    1.1214    5.3942 H   0  0  0  0  0  0  0  0  0  0  0  0\\n    2.1439   -2.6172    5.3942 H   0  0  0  0  0  0  0  0  0  0  0  0\\n   -1.4002    3.2190    5.3940 H   0  0  0  0  0  0  0  0  0  0  0  0\\n   -2.8746   -2.6297    5.3941 H   0  0  0  0  0  0  0  0  0  0  0  0\\n   -5.9369   -1.2677   -0.7610 C   0  0  0  0  0  0  0  0  0  0  0  0\\n   -5.5405   -2.4152   -0.1092 C   0  0  0  0  0  0  0  0  0  0  0  0\\n   -4.7447   -3.3542   -0.7308 C   0  0  0  0  0  0  0  0  0  0  0  0\\n   -4.3243   -3.1527   -2.0453 C   0  0  0  0  0  0  0  0  0  0  0  0\\n   -4.7447   -1.9879   -2.6628 C   0  0  0  0  0  0  0  0  0  0  0  0\\n   -5.5386   -1.0353   -2.0652 C   0  0  0  0  0  0  0  0  0  0  0  0\\n   -5.9435    0.1751   -2.7854 C   0  0  0  0  0  0  0  0  0  0  0  0\\n   -3.4880   -4.1210   -2.7244 C   0  0  0  0  0  0  0  0  0  0  0  0\\n   -5.9450   -2.6827    1.2599 C   0  0  0  0  0  0  0  0  0  0  0  0\\n   -6.5603   -0.5227   -0.2876 H   0  0  0  0  0  0  0  0  0  0  0  0\\n   -4.4193   -4.2586   -0.2486 H   0  0  0  0  0  0  0  0  0  0  0  0\\n   -4.4006   -1.8493   -3.7018 H   0  0  0  0  0  0  0  0  0  0  0  0\\n   -6.5591    0.9328   -2.3491 H   0  0  0  0  0  0  0  0  0  0  0  0\\n   -3.1895   -5.0042   -2.2065 H   0  0  0  0  0  0  0  0  0  0  0  0\\n   -6.5663   -1.9563    1.7544 H   0  0  0  0  0  0  0  0  0  0  0  0\\n    2.8221   -3.8733   -1.0541 C   0  0  0  0  0  0  0  0  0  0  0  0\\n    3.6177   -2.9562   -0.4022 C   0  0  0  0  0  0  0  0  0  0  0  0\\n    4.0329   -1.7976   -1.0238 C   0  0  0  0  0  0  0  0  0  0  0  0\\n    3.6483   -1.5343   -2.3384 C   0  0  0  0  0  0  0  0  0  0  0  0\\n    2.8498   -2.4807   -2.9558 C   0  0  0  0  0  0  0  0  0  0  0  0\\n    2.4218   -3.6446   -2.3583 C   0  0  0  0  0  0  0  0  0  0  0  0\\n    1.5759   -4.6004   -3.0785 C   0  0  0  0  0  0  0  0  0  0  0  0\\n    4.0687   -0.3258   -3.0175 C   0  0  0  0  0  0  0  0  0  0  0  0\\n    4.0516   -3.1728    0.9668 C   0  0  0  0  0  0  0  0  0  0  0  0\\n    2.4886   -4.7857   -0.5806 H   0  0  0  0  0  0  0  0  0  0  0  0\\n    4.6535   -1.0636   -0.5416 H   0  0  0  0  0  0  0  0  0  0  0  0\\n    2.5576   -2.2521   -3.9948 H   0  0  0  0  0  0  0  0  0  0  0  0\\n    1.2275   -5.5124   -2.6421 H   0  0  0  0  0  0  0  0  0  0  0  0\\n    4.6843    0.3743   -2.4996 H   0  0  0  0  0  0  0  0  0  0  0  0\\n    3.7332   -4.0741    1.4614 H   0  0  0  0  0  0  0  0  0  0  0  0\\n    1.0263    5.8439   -0.8442 C   0  0  0  0  0  0  0  0  0  0  0  0\\n   -0.1657    6.0744   -0.1924 C   0  0  0  0  0  0  0  0  0  0  0  0\\n   -1.3768    5.8546   -0.8140 C   0  0  0  0  0  0  0  0  0  0  0  0\\n   -1.4125    5.3899   -2.1285 C   0  0  0  0  0  0  0  0  0  0  0  0\\n   -0.1935    5.1716   -2.7460 C   0  0  0  0  0  0  0  0  0  0  0  0\\n    1.0284    5.3828   -2.1484 C   0  0  0  0  0  0  0  0  0  0  0  0\\n    2.2791    5.1282   -2.8686 C   0  0  0  0  0  0  0  0  0  0  0  0\\n   -2.6692    5.1497   -2.8076 C   0  0  0  0  0  0  0  0  0  0  0  0\\n   -0.1951    6.5584    1.1767 C   0  0  0  0  0  0  0  0  0  0  0  0\\n    1.9832    6.0113   -0.3708 H   0  0  0  0  0  0  0  0  0  0  0  0\\n   -2.3227    6.0251   -0.3318 H   0  0  0  0  0  0  0  0  0  0  0  0\\n   -0.2455    4.8042   -3.7850 H   0  0  0  0  0  0  0  0  0  0  0  0\\n    3.2431    5.2825   -2.4323 H   0  0  0  0  0  0  0  0  0  0  0  0\\n   -3.5833    5.3328   -2.2897 H   0  0  0  0  0  0  0  0  0  0  0  0\\n    0.7447    6.7333    1.6712 H   0  0  0  0  0  0  0  0  0  0  0  0\\n   -7.7912   -5.0294    5.4249 C   0  0  0  0  0  0  0  0  0  0  0  0\\n   -7.5443   -4.4707    4.0016 C   0  0  0  0  0  0  0  0  0  0  0  0\\n   -5.4302   -3.5360    5.1002 C   0  0  0  0  0  0  0  0  0  0  0  0\\n   -6.1185   -2.3861    6.8293 H   0  0  0  0  0  0  0  0  0  0  0  0\\n   -5.5228   -3.9930    7.2124 H   0  0  0  0  0  0  0  0  0  0  0  0\\n   -4.9864   -4.5317    5.0074 H   0  0  0  0  0  0  0  0  0  0  0  0\\n   -6.4601   -3.3591    3.9579 C   0  0  0  0  0  0  0  0  0  0  0  0\\n   -7.5739   -3.9424    6.4955 C   0  0  0  0  0  0  0  0  0  0  0  0\\n   -8.8066   -5.4274    5.4923 H   0  0  0  0  0  0  0  0  0  0  0  0\\n   -7.1066   -5.8596    5.6159 H   0  0  0  0  0  0  0  0  0  0  0  0\\n   -6.1138   -3.4254    6.4894 C   0  0  0  0  0  0  0  0  0  0  0  0\\n   -8.2558   -3.1108    6.2997 H   0  0  0  0  0  0  0  0  0  0  0  0\\n   -7.8207   -4.3344    7.4852 H   0  0  0  0  0  0  0  0  0  0  0  0\\n   -7.2638   -5.3045    3.3525 H   0  0  0  0  0  0  0  0  0  0  0  0\\n   -8.4761   -4.0600    3.6051 H   0  0  0  0  0  0  0  0  0  0  0  0\\n   -5.7919   -3.3670    2.6437 N   0  0  0  0  0  0  0  0  0  0  0  0\\n   -6.9504   -2.3896    4.0906 H   0  0  0  0  0  0  0  0  0  0  0  0\\n   -4.3517   -2.5355    4.9954 N   0  0  0  0  0  0  0  0  0  0  0  0\\n    7.4427   -4.0846    5.3451 C   0  0  0  0  0  0  0  0  0  0  0  0\\n    6.8350   -4.1514    3.9220 C   0  0  0  0  0  0  0  0  0  0  0  0\\n    4.9676   -2.7890    5.0204 C   0  0  0  0  0  0  0  0  0  0  0  0\\n    4.3175   -3.9597    6.7504 H   0  0  0  0  0  0  0  0  0  0  0  0\\n    5.4102   -2.6391    7.1324 H   0  0  0  0  0  0  0  0  0  0  0  0\\n    5.6071   -1.9063    4.9269 H   0  0  0  0  0  0  0  0  0  0  0  0\\n    5.3299   -3.7697    3.8786 C   0  0  0  0  0  0  0  0  0  0  0  0\\n    6.3934   -4.4402    6.4162 C   0  0  0  0  0  0  0  0  0  0  0  0\\n    8.2957   -4.7641    5.4126 H   0  0  0  0  0  0  0  0  0  0  0  0\\n    7.8185   -3.0761    5.5353 H   0  0  0  0  0  0  0  0  0  0  0  0\\n    5.2146   -3.4353    6.4099 C   0  0  0  0  0  0  0  0  0  0  0  0\\n    6.0149   -5.4470    6.2211 H   0  0  0  0  0  0  0  0  0  0  0  0\\n    6.8566   -4.4569    7.4058 H   0  0  0  0  0  0  0  0  0  0  0  0\\n    7.4160   -3.4914    3.2723 H   0  0  0  0  0  0  0  0  0  0  0  0\\n    6.9460   -5.1639    3.5261 H   0  0  0  0  0  0  0  0  0  0  0  0\\n    5.0016   -3.1881    2.5641 N   0  0  0  0  0  0  0  0  0  0  0  0\\n    4.7363   -4.6796    4.0120 H   0  0  0  0  0  0  0  0  0  0  0  0\\n    3.5615   -2.3566    4.9159 N   0  0  0  0  0  0  0  0  0  0  0  0\\n   -0.7446    8.5761    5.4223 C   0  0  0  0  0  0  0  0  0  0  0  0\\n   -0.3818    8.0835    3.9994 C   0  0  0  0  0  0  0  0  0  0  0  0\\n   -0.6268    5.7849    5.0977 C   0  0  0  0  0  0  0  0  0  0  0  0\\n    0.7111    5.8082    6.8284 H   0  0  0  0  0  0  0  0  0  0  0  0\\n   -0.9793    6.0930    7.2095 H   0  0  0  0  0  0  0  0  0  0  0  0\\n   -1.7111    5.8966    5.0037 H   0  0  0  0  0  0  0  0  0  0  0  0\\n    0.0413    6.5894    3.9562 C   0  0  0  0  0  0  0  0  0  0  0  0\\n    0.0881    7.8458    6.4939 C   0  0  0  0  0  0  0  0  0  0  0  0\\n   -0.5834    9.6547    5.4899 H   0  0  0  0  0  0  0  0  0  0  0  0\\n   -1.8058    8.3965    5.6120 H   0  0  0  0  0  0  0  0  0  0  0  0\\n   -0.1918    6.3223    6.4874 C   0  0  0  0  0  0  0  0  0  0  0  0\\n    1.1492    8.0222    6.2993 H   0  0  0  0  0  0  0  0  0  0  0  0\\n   -0.1299    8.2552    7.4833 H   0  0  0  0  0  0  0  0  0  0  0  0\\n   -1.2437    8.2561    3.3493 H   0  0  0  0  0  0  0  0  0  0  0  0\\n    0.4393    8.6865    3.6039 H   0  0  0  0  0  0  0  0  0  0  0  0\\n   -0.2972    6.0142    2.6415 N   0  0  0  0  0  0  0  0  0  0  0  0\\n    1.1260    6.5311    4.0902 H   0  0  0  0  0  0  0  0  0  0  0  0\\n   -0.2972    4.3512    4.9933 N   0  0  0  0  0  0  0  0  0  0  0  0\\n   -0.7385   -8.5880   -5.4638 C   0  0  0  0  0  0  0  0  0  0  0  0\\n    0.1389   -7.3798   -5.0521 C   0  0  0  0  0  0  0  0  0  0  0  0\\n   -2.0849   -6.5077   -4.1336 C   0  0  0  0  0  0  0  0  0  0  0  0\\n   -3.4845   -6.5647   -5.8140 H   0  0  0  0  0  0  0  0  0  0  0  0\\n   -3.6313   -7.9114   -4.6965 H   0  0  0  0  0  0  0  0  0  0  0  0\\n   -1.9437   -7.1648   -3.2703 H   0  0  0  0  0  0  0  0  0  0  0  0\\n   -0.6884   -6.1196   -4.6774 C   0  0  0  0  0  0  0  0  0  0  0  0\\n   -2.0350   -8.1248   -6.1560 C   0  0  0  0  0  0  0  0  0  0  0  0\\n   -0.1709   -9.2451   -6.1271 H   0  0  0  0  0  0  0  0  0  0  0  0\\n   -0.9970   -9.1714   -4.5765 H   0  0  0  0  0  0  0  0  0  0  0  0\\n   -2.9093   -7.2687   -5.2062 C   0  0  0  0  0  0  0  0  0  0  0  0\\n   -1.7743   -7.5370   -7.0400 H   0  0  0  0  0  0  0  0  0  0  0  0\\n   -2.6066   -8.9895   -6.5018 H   0  0  0  0  0  0  0  0  0  0  0  0\\n    0.7694   -7.6870   -4.2134 H   0  0  0  0  0  0  0  0  0  0  0  0\\n    0.8100   -7.1204   -5.8746 H   0  0  0  0  0  0  0  0  0  0  0  0\\n    0.0529   -5.3129   -3.6907 N   0  0  0  0  0  0  0  0  0  0  0  0\\n   -0.8314   -5.5166   -5.5796 H   0  0  0  0  0  0  0  0  0  0  0  0\\n   -2.8275   -5.3129   -3.6907 N   0  0  0  0  0  0  0  0  0  0  0  0\\n   -6.7601    4.8439   -6.1619 C   0  0  0  0  0  0  0  0  0  0  0  0\\n   -5.6350    5.2074   -5.1615 C   0  0  0  0  0  0  0  0  0  0  0  0\\n   -5.7444    2.7027   -4.6475 C   0  0  0  0  0  0  0  0  0  0  0  0\\n   -7.8319    2.2918   -4.1383 H   0  0  0  0  0  0  0  0  0  0  0  0\\n   -7.3842    1.8638   -5.7815 H   0  0  0  0  0  0  0  0  0  0  0  0\\n   -5.1600    2.5284   -5.5558 H   0  0  0  0  0  0  0  0  0  0  0  0\\n   -5.3773    4.1033   -4.0996 C   0  0  0  0  0  0  0  0  0  0  0  0\\n   -7.8388    3.9695   -5.4936 C   0  0  0  0  0  0  0  0  0  0  0  0\\n   -7.2082    5.7580   -6.5589 H   0  0  0  0  0  0  0  0  0  0  0  0\\n   -6.3346    4.2997   -7.0089 H   0  0  0  0  0  0  0  0  0  0  0  0\\n   -7.2526    2.6216   -5.0051 C   0  0  0  0  0  0  0  0  0  0  0  0\\n   -8.2593    4.5134   -4.6437 H   0  0  0  0  0  0  0  0  0  0  0  0\\n   -8.6577    3.7823   -6.1926 H   0  0  0  0  0  0  0  0  0  0  0  0\\n   -4.7245    5.4097   -5.7318 H   0  0  0  0  0  0  0  0  0  0  0  0\\n   -5.8954    6.1326   -4.6415 H   0  0  0  0  0  0  0  0  0  0  0  0\\n   -3.9675    4.1453   -3.6700 N   0  0  0  0  0  0  0  0  0  0  0  0\\n   -6.0100    4.3035   -3.2292 H   0  0  0  0  0  0  0  0  0  0  0  0\\n   -5.4077    1.6509   -3.6700 N   0  0  0  0  0  0  0  0  0  0  0  0\\n    6.4328    4.9169   -5.2538 C   0  0  0  0  0  0  0  0  0  0  0  0\\n    4.9478    5.0726   -4.8421 C   0  0  0  0  0  0  0  0  0  0  0  0\\n    5.3045    2.7107   -3.9236 C   0  0  0  0  0  0  0  0  0  0  0  0\\n    6.0537    1.5271   -5.6040 H   0  0  0  0  0  0  0  0  0  0  0  0\\n    7.2933    2.0733   -4.4866 H   0  0  0  0  0  0  0  0  0  0  0  0\\n    5.8029    3.1615   -3.0604 H   0  0  0  0  0  0  0  0  0  0  0  0\\n    4.2701    3.7260   -4.4675 C   0  0  0  0  0  0  0  0  0  0  0  0\\n    6.6800    3.5624   -5.9461 C   0  0  0  0  0  0  0  0  0  0  0  0\\n    6.7182    5.7370   -5.9172 H   0  0  0  0  0  0  0  0  0  0  0  0\\n    7.0674    4.9847   -4.3666 H   0  0  0  0  0  0  0  0  0  0  0  0\\n    6.3757    2.3772   -4.9963 C   0  0  0  0  0  0  0  0  0  0  0  0\\n    6.0406    3.4943   -6.8301 H   0  0  0  0  0  0  0  0  0  0  0  0\\n    7.7147    3.4998   -6.2919 H   0  0  0  0  0  0  0  0  0  0  0  0\\n    4.8986    5.7722   -4.0034 H   0  0  0  0  0  0  0  0  0  0  0  0\\n    4.3876    5.5241   -5.6647 H   0  0  0  0  0  0  0  0  0  0  0  0\\n    3.2008    3.9646   -3.4808 N   0  0  0  0  0  0  0  0  0  0  0  0\\n    3.8194    3.3007   -5.3696 H   0  0  0  0  0  0  0  0  0  0  0  0\\n    4.6410    1.4702   -3.4808 N   0  0  0  0  0  0  0  0  0  0  0  0\\n  1  2  2  0\\n  2  3  1  0\\n  3  4  2  0\\n  4  5  1  0\\n  5  6  2  0\\n  6  7  1  0\\n  4  8  1  0\\n  2  9  1  0\\n  6  1  1  0\\n  1 10  1  0\\n  3 11  1  0\\n  5 12  1  0\\n  7 13  1  0\\n  8 14  1  0\\n  9 15  1  0\\n 16 17  2  0\\n 17 18  1  0\\n 18 19  2  0\\n 19 20  1  0\\n 20 21  2  0\\n 21 22  1  0\\n 19 23  1  0\\n 17 24  1  0\\n 21 16  1  0\\n 16 25  1  0\\n 18 26  1  0\\n 20 27  1  0\\n 22 28  1  0\\n 23 29  1  0\\n 24 30  1  0\\n 31 32  2  0\\n 32 33  1  0\\n 33 34  2  0\\n 34 35  1  0\\n 35 36  2  0\\n 36 37  1  0\\n 34 38  1  0\\n 32 39  1  0\\n 36 31  1  0\\n 31 40  1  0\\n 33 41  1  0\\n 35 42  1  0\\n 37 43  1  0\\n 38 44  1  0\\n 39 45  1  0\\n 46 47  2  0\\n 47 48  1  0\\n 48 49  2  0\\n 49 50  1  0\\n 50 51  2  0\\n 51 52  1  0\\n 49 53  1  0\\n 47 54  1  0\\n 51 46  1  0\\n 46 55  1  0\\n 48 56  1  0\\n 50 57  1  0\\n 52 58  1  0\\n 53 59  1  0\\n 54 60  1  0\\n 61 62  1  0\\n 61 70  1  0\\n 61 68  1  0\\n 61 69  1  0\\n 62 67  1  0\\n 62 74  1  0\\n 62 75  1  0\\n 63 67  1  0\\n 63 78  1  0\\n 63 66  1  0\\n 67 76  1  0\\n 67 77  1  0\\n 68 71  1  0\\n 68 72  1  0\\n 68 73  1  0\\n 71 64  1  0\\n 71 65  1  0\\n 71 63  1  0\\n 79 80  1  0\\n 79 88  1  0\\n 79 86  1  0\\n 79 87  1  0\\n 80 85  1  0\\n 80 92  1  0\\n 80 93  1  0\\n 81 85  1  0\\n 81 96  1  0\\n 81 84  1  0\\n 85 94  1  0\\n 85 95  1  0\\n 86 89  1  0\\n 86 90  1  0\\n 86 91  1  0\\n 89 82  1  0\\n 89 83  1  0\\n 89 81  1  0\\n 97 98  1  0\\n 97106  1  0\\n 97104  1  0\\n 97105  1  0\\n 98103  1  0\\n 98110  1  0\\n 98111  1  0\\n 99103  1  0\\n 99114  1  0\\n 99102  1  0\\n103112  1  0\\n103113  1  0\\n104107  1  0\\n104108  1  0\\n104109  1  0\\n107100  1  0\\n107101  1  0\\n107 99  1  0\\n115116  1  0\\n115124  1  0\\n115122  1  0\\n115123  1  0\\n116121  1  0\\n116128  1  0\\n116129  1  0\\n117121  1  0\\n117132  1  0\\n117120  1  0\\n121130  1  0\\n121131  1  0\\n122125  1  0\\n122126  1  0\\n122127  1  0\\n125118  1  0\\n125119  1  0\\n125117  1  0\\n133134  1  0\\n133142  1  0\\n133140  1  0\\n133141  1  0\\n134139  1  0\\n134146  1  0\\n134147  1  0\\n135139  1  0\\n135150  1  0\\n135138  1  0\\n139148  1  0\\n139149  1  0\\n140143  1  0\\n140144  1  0\\n140145  1  0\\n143136  1  0\\n143137  1  0\\n143135  1  0\\n151152  1  0\\n151160  1  0\\n151158  1  0\\n151159  1  0\\n152157  1  0\\n152164  1  0\\n152165  1  0\\n153157  1  0\\n153168  1  0\\n153156  1  0\\n157166  1  0\\n157167  1  0\\n158161  1  0\\n158162  1  0\\n158163  1  0\\n161154  1  0\\n161155  1  0\\n161153  1  0\\n  9 78  2  0\\n 24 76  2  0\\n  7 96  2  0\\n 39 94  2  0\\n  8114  2  0\\n 54112  2  0\\n 23132  2  0\\n 37130  2  0\\n 22150  2  0\\n 53148  2  0\\n 38168  2  0\\n 52166  2  0\\nM  END\\n\");\n",
       "viewer_16553804544243188.setStyle({\"stick\": {\"colorscheme\": \"cyanCarbon\"}});\n",
       "viewer_16553804544243188.zoomTo();\n",
       "\tviewer_16553804544243188.setBackgroundColor(\"0xeeeeee\");\n",
       "\tviewer_16553804544243188.zoomTo();\n",
       "viewer_16553804544243188.render();\n",
       "});\n",
       "</script>"
      ]
     },
     "metadata": {},
     "output_type": "display_data"
    }
   ],
   "source": [
    "show_stk_mol(cage)"
   ]
  },
  {
   "cell_type": "markdown",
   "id": "93f24486-4839-4419-9541-8f8c265f9a58",
   "metadata": {},
   "source": [
    "## Maybe an approach for CC3?"
   ]
  },
  {
   "cell_type": "code",
   "execution_count": 147,
   "id": "7e403392-7820-4942-bae3-2338cfa0e6e0",
   "metadata": {},
   "outputs": [
    {
     "data": {
      "application/3dmoljs_load.v0": "<div id=\"3dmolviewer_1655380528053074\"  style=\"position: relative; width: 400px; height: 400px\">\n        <p id=\"3dmolwarning_1655380528053074\" style=\"background-color:#ffcccc;color:black\">You appear to be running in JupyterLab (or JavaScript failed to load for some other reason).  You need to install the 3dmol extension: <br>\n        <tt>jupyter labextension install jupyterlab_3dmol</tt></p>\n        </div>\n<script>\n\nvar loadScriptAsync = function(uri){\n  return new Promise((resolve, reject) => {\n    var tag = document.createElement('script');\n    tag.src = uri;\n    tag.async = true;\n    tag.onload = () => {\n      resolve();\n    };\n  var firstScriptTag = document.getElementsByTagName('script')[0];\n  firstScriptTag.parentNode.insertBefore(tag, firstScriptTag);\n});\n};\n\nif(typeof $3Dmolpromise === 'undefined') {\n$3Dmolpromise = null;\n  $3Dmolpromise = loadScriptAsync('https://3dmol.org/build/3Dmol.js');\n}\n\nvar viewer_1655380528053074 = null;\nvar warn = document.getElementById(\"3dmolwarning_1655380528053074\");\nif(warn) {\n    warn.parentNode.removeChild(warn);\n}\n$3Dmolpromise.then(function() {\nviewer_1655380528053074 = $3Dmol.createViewer($(\"#3dmolviewer_1655380528053074\"),{backgroundColor:\"white\"});\nviewer_1655380528053074.addModel(\"\\n     RDKit          3D\\n\\n 24 24  0  0  0  0  0  0  0  0999 V2000\\n   -0.4590   -2.1789    0.2837 C   0  0  0  0  0  0  0  0  0  0  0  0\\n    0.0949   -1.7850   -1.0733 C   0  0  0  0  0  0  0  0  0  0  0  0\\n    1.1117   -0.6852   -0.9877 C   0  0  0  0  0  0  0  0  0  0  0  0\\n    0.7928    0.2138    0.1885 C   0  0  0  0  0  0  0  0  0  0  0  0\\n    1.1914    1.5726   -0.0676 N   0  0  0  0  0  0  0  0  0  0  0  0\\n    2.3750    2.0096    0.1392 C   0  0  0  0  0  0  0  0  0  0  0  0\\n    2.8782    3.8223   -0.2103 Br  0  0  0  0  0  0  0  0  0  0  0  0\\n   -0.7348    0.2400    0.2987 C   0  0  0  0  0  0  0  0  0  0  0  0\\n   -1.2018    1.3897    0.9834 N   0  0  0  0  0  0  0  0  0  0  0  0\\n   -1.9350    2.2513    0.3670 C   0  0  0  0  0  0  0  0  0  0  0  0\\n   -2.6010    3.8139    1.2058 Br  0  0  0  0  0  0  0  0  0  0  0  0\\n   -1.2231   -1.0525    0.9362 C   0  0  0  0  0  0  0  0  0  0  0  0\\n   -1.2057   -2.9919    0.0778 H   0  0  0  0  0  0  0  0  0  0  0  0\\n    0.3218   -2.5097    0.9863 H   0  0  0  0  0  0  0  0  0  0  0  0\\n    0.5300   -2.7246   -1.5045 H   0  0  0  0  0  0  0  0  0  0  0  0\\n   -0.7710   -1.5396   -1.7122 H   0  0  0  0  0  0  0  0  0  0  0  0\\n    2.1603   -1.0553   -0.9464 H   0  0  0  0  0  0  0  0  0  0  0  0\\n    1.0473   -0.0304   -1.9057 H   0  0  0  0  0  0  0  0  0  0  0  0\\n    1.2561   -0.2076    1.0823 H   0  0  0  0  0  0  0  0  0  0  0  0\\n    3.0966    1.3036    0.5267 H   0  0  0  0  0  0  0  0  0  0  0  0\\n   -1.1150    0.2315   -0.7469 H   0  0  0  0  0  0  0  0  0  0  0  0\\n   -2.1878    2.0825   -0.6810 H   0  0  0  0  0  0  0  0  0  0  0  0\\n   -2.3097   -1.1327    0.7195 H   0  0  0  0  0  0  0  0  0  0  0  0\\n   -1.1123   -1.0375    2.0407 H   0  0  0  0  0  0  0  0  0  0  0  0\\n  1  2  1  0\\n  2  3  1  0\\n  3  4  1  0\\n  4  5  1  0\\n  5  6  2  3\\n  6  7  1  0\\n  4  8  1  0\\n  8  9  1  0\\n  9 10  2  3\\n 10 11  1  0\\n  8 12  1  0\\n 12  1  1  0\\n  1 13  1  0\\n  1 14  1  0\\n  2 15  1  0\\n  2 16  1  0\\n  3 17  1  0\\n  3 18  1  0\\n  4 19  1  0\\n  6 20  1  0\\n  8 21  1  0\\n 10 22  1  0\\n 12 23  1  0\\n 12 24  1  0\\nM  END\\n\");\nviewer_1655380528053074.setStyle({\"stick\": {\"colorscheme\": \"cyanCarbon\"}});\nviewer_1655380528053074.zoomTo();\n\tviewer_1655380528053074.setBackgroundColor(\"0xeeeeee\");\n\tviewer_1655380528053074.zoomTo();\nviewer_1655380528053074.render();\n});\n</script>",
      "text/html": [
       "<div id=\"3dmolviewer_1655380528053074\"  style=\"position: relative; width: 400px; height: 400px\">\n",
       "        <p id=\"3dmolwarning_1655380528053074\" style=\"background-color:#ffcccc;color:black\">You appear to be running in JupyterLab (or JavaScript failed to load for some other reason).  You need to install the 3dmol extension: <br>\n",
       "        <tt>jupyter labextension install jupyterlab_3dmol</tt></p>\n",
       "        </div>\n",
       "<script>\n",
       "\n",
       "var loadScriptAsync = function(uri){\n",
       "  return new Promise((resolve, reject) => {\n",
       "    var tag = document.createElement('script');\n",
       "    tag.src = uri;\n",
       "    tag.async = true;\n",
       "    tag.onload = () => {\n",
       "      resolve();\n",
       "    };\n",
       "  var firstScriptTag = document.getElementsByTagName('script')[0];\n",
       "  firstScriptTag.parentNode.insertBefore(tag, firstScriptTag);\n",
       "});\n",
       "};\n",
       "\n",
       "if(typeof $3Dmolpromise === 'undefined') {\n",
       "$3Dmolpromise = null;\n",
       "  $3Dmolpromise = loadScriptAsync('https://3dmol.org/build/3Dmol.js');\n",
       "}\n",
       "\n",
       "var viewer_1655380528053074 = null;\n",
       "var warn = document.getElementById(\"3dmolwarning_1655380528053074\");\n",
       "if(warn) {\n",
       "    warn.parentNode.removeChild(warn);\n",
       "}\n",
       "$3Dmolpromise.then(function() {\n",
       "viewer_1655380528053074 = $3Dmol.createViewer($(\"#3dmolviewer_1655380528053074\"),{backgroundColor:\"white\"});\n",
       "viewer_1655380528053074.addModel(\"\\n     RDKit          3D\\n\\n 24 24  0  0  0  0  0  0  0  0999 V2000\\n   -0.4590   -2.1789    0.2837 C   0  0  0  0  0  0  0  0  0  0  0  0\\n    0.0949   -1.7850   -1.0733 C   0  0  0  0  0  0  0  0  0  0  0  0\\n    1.1117   -0.6852   -0.9877 C   0  0  0  0  0  0  0  0  0  0  0  0\\n    0.7928    0.2138    0.1885 C   0  0  0  0  0  0  0  0  0  0  0  0\\n    1.1914    1.5726   -0.0676 N   0  0  0  0  0  0  0  0  0  0  0  0\\n    2.3750    2.0096    0.1392 C   0  0  0  0  0  0  0  0  0  0  0  0\\n    2.8782    3.8223   -0.2103 Br  0  0  0  0  0  0  0  0  0  0  0  0\\n   -0.7348    0.2400    0.2987 C   0  0  0  0  0  0  0  0  0  0  0  0\\n   -1.2018    1.3897    0.9834 N   0  0  0  0  0  0  0  0  0  0  0  0\\n   -1.9350    2.2513    0.3670 C   0  0  0  0  0  0  0  0  0  0  0  0\\n   -2.6010    3.8139    1.2058 Br  0  0  0  0  0  0  0  0  0  0  0  0\\n   -1.2231   -1.0525    0.9362 C   0  0  0  0  0  0  0  0  0  0  0  0\\n   -1.2057   -2.9919    0.0778 H   0  0  0  0  0  0  0  0  0  0  0  0\\n    0.3218   -2.5097    0.9863 H   0  0  0  0  0  0  0  0  0  0  0  0\\n    0.5300   -2.7246   -1.5045 H   0  0  0  0  0  0  0  0  0  0  0  0\\n   -0.7710   -1.5396   -1.7122 H   0  0  0  0  0  0  0  0  0  0  0  0\\n    2.1603   -1.0553   -0.9464 H   0  0  0  0  0  0  0  0  0  0  0  0\\n    1.0473   -0.0304   -1.9057 H   0  0  0  0  0  0  0  0  0  0  0  0\\n    1.2561   -0.2076    1.0823 H   0  0  0  0  0  0  0  0  0  0  0  0\\n    3.0966    1.3036    0.5267 H   0  0  0  0  0  0  0  0  0  0  0  0\\n   -1.1150    0.2315   -0.7469 H   0  0  0  0  0  0  0  0  0  0  0  0\\n   -2.1878    2.0825   -0.6810 H   0  0  0  0  0  0  0  0  0  0  0  0\\n   -2.3097   -1.1327    0.7195 H   0  0  0  0  0  0  0  0  0  0  0  0\\n   -1.1123   -1.0375    2.0407 H   0  0  0  0  0  0  0  0  0  0  0  0\\n  1  2  1  0\\n  2  3  1  0\\n  3  4  1  0\\n  4  5  1  0\\n  5  6  2  3\\n  6  7  1  0\\n  4  8  1  0\\n  8  9  1  0\\n  9 10  2  3\\n 10 11  1  0\\n  8 12  1  0\\n 12  1  1  0\\n  1 13  1  0\\n  1 14  1  0\\n  2 15  1  0\\n  2 16  1  0\\n  3 17  1  0\\n  3 18  1  0\\n  4 19  1  0\\n  6 20  1  0\\n  8 21  1  0\\n 10 22  1  0\\n 12 23  1  0\\n 12 24  1  0\\nM  END\\n\");\n",
       "viewer_1655380528053074.setStyle({\"stick\": {\"colorscheme\": \"cyanCarbon\"}});\n",
       "viewer_1655380528053074.zoomTo();\n",
       "\tviewer_1655380528053074.setBackgroundColor(\"0xeeeeee\");\n",
       "\tviewer_1655380528053074.zoomTo();\n",
       "viewer_1655380528053074.render();\n",
       "});\n",
       "</script>"
      ]
     },
     "metadata": {},
     "output_type": "display_data"
    }
   ],
   "source": [
    "show_stk_mol(stk.BuildingBlock('C1CC[C@@]([H])(/N=C/Br)[C@]([H])(/N=C/Br)C1'))"
   ]
  },
  {
   "cell_type": "code",
   "execution_count": null,
   "id": "2fd87e7b-cc08-4d29-977e-9e6f6d36cbff",
   "metadata": {},
   "outputs": [],
   "source": []
  },
  {
   "cell_type": "markdown",
   "id": "c4044af0-0901-486a-b60b-cf2b954f4f4e",
   "metadata": {},
   "source": [
    "# A solution: we can break structures such that stereochem is maintained\n",
    "\n",
    "E.g. this is what I do in MOCs."
   ]
  },
  {
   "cell_type": "code",
   "execution_count": 148,
   "id": "0fe9035b-e32d-40d4-a567-b98cae60caf8",
   "metadata": {},
   "outputs": [
    {
     "data": {
      "text/plain": [
       "<ConstructedMolecule at 139911650439664>"
      ]
     },
     "execution_count": 148,
     "metadata": {},
     "output_type": "execute_result"
    }
   ],
   "source": [
    "# Produce a Fe+2 atom with 6 functional groups.\n",
    "iron_atom = stk.BuildingBlock(\n",
    "    smiles='[Fe+2]',\n",
    "    functional_groups=(\n",
    "        stk.SingleAtom(stk.Fe(0, charge=2))\n",
    "        for i in range(6)\n",
    "    ),\n",
    "    position_matrix=[[0, 0, 0]],\n",
    ")\n",
    "\n",
    "# Define coordinating ligand with dummy bromine groups and\n",
    "# metal coordinating functional groups.\n",
    "bb2 = stk.BuildingBlock(\n",
    "    smiles='C1=NC(C=NBr)=CC=C1',\n",
    "    functional_groups=[\n",
    "        stk.SmartsFunctionalGroupFactory(\n",
    "            smarts='[#6]~[#7X2]~[#35]',\n",
    "            bonders=(1, ),\n",
    "            deleters=(),\n",
    "        ),\n",
    "        stk.SmartsFunctionalGroupFactory(\n",
    "            smarts='[#6]~[#7X2]~[#6]',\n",
    "            bonders=(1, ),\n",
    "            deleters=(),\n",
    "        ),\n",
    "    ],\n",
    ")\n",
    "\n",
    "# Build iron complex with delta stereochemistry.\n",
    "iron_oct_delta = stk.ConstructedMolecule(\n",
    "    topology_graph=stk.metal_complex.OctahedralDelta(\n",
    "        metals=iron_atom,\n",
    "        ligands=bb2,\n",
    "        optimizer=stk.MCHammer(),\n",
    "    ),\n",
    ")\n",
    "\n",
    "# Assign Bromo functional groups to the metal complex.\n",
    "iron_oct_delta = stk.BuildingBlock.init_from_molecule(\n",
    "    molecule=iron_oct_delta,\n",
    "    functional_groups=[stk.BromoFactory()],\n",
    ")\n",
    "\n",
    "# Build iron complex with delta stereochemistry.\n",
    "iron_oct_lambda = stk.ConstructedMolecule(\n",
    "    topology_graph=stk.metal_complex.OctahedralLambda(\n",
    "        metals=iron_atom,\n",
    "        ligands=bb2,\n",
    "        optimizer=stk.MCHammer(),\n",
    "    ),\n",
    ")\n",
    "\n",
    "# Assign Bromo functional groups to the metal complex.\n",
    "iron_oct_lambda = stk.BuildingBlock.init_from_molecule(\n",
    "    molecule=iron_oct_delta,\n",
    "    functional_groups=[stk.BromoFactory()],\n",
    ")\n",
    "\n",
    "# Define spacer building block.\n",
    "bb3 = stk.BuildingBlock(\n",
    "    smiles=(\n",
    "        'C1=CC(C2=CC=C(Br)C=C2)=C'\n",
    "        'C=C1Br'\n",
    "    ),\n",
    "    functional_groups=[stk.BromoFactory()],\n",
    ")\n",
    "\n",
    "# Build an M4L6 Tetrahedron with a spacer.\n",
    "cage2 = stk.ConstructedMolecule(\n",
    "    topology_graph=stk.cage.M4L6TetrahedronSpacer(\n",
    "        building_blocks=(\n",
    "            iron_oct_delta,\n",
    "            bb3,\n",
    "        ),\n",
    "        optimizer=stk.MCHammer(),\n",
    "    ),\n",
    ")\n",
    "cage2.write('deltacage.mol')\n",
    "cage2 = stk.ConstructedMolecule(\n",
    "    topology_graph=stk.cage.M4L6TetrahedronSpacer(\n",
    "        building_blocks=(\n",
    "            iron_oct_lambda,\n",
    "            bb3,\n",
    "        ),\n",
    "        optimizer=stk.MCHammer(),\n",
    "    ),\n",
    ")\n",
    "cage2.write('lambdacage.mol')"
   ]
  },
  {
   "cell_type": "code",
   "execution_count": 151,
   "id": "e777d7d3-bd2e-47f7-91e9-fc3e7e4ba65b",
   "metadata": {},
   "outputs": [
    {
     "data": {
      "application/3dmoljs_load.v0": "<div id=\"3dmolviewer_16553805783758814\"  style=\"position: relative; width: 400px; height: 400px\">\n        <p id=\"3dmolwarning_16553805783758814\" style=\"background-color:#ffcccc;color:black\">You appear to be running in JupyterLab (or JavaScript failed to load for some other reason).  You need to install the 3dmol extension: <br>\n        <tt>jupyter labextension install jupyterlab_3dmol</tt></p>\n        </div>\n<script>\n\nvar loadScriptAsync = function(uri){\n  return new Promise((resolve, reject) => {\n    var tag = document.createElement('script');\n    tag.src = uri;\n    tag.async = true;\n    tag.onload = () => {\n      resolve();\n    };\n  var firstScriptTag = document.getElementsByTagName('script')[0];\n  firstScriptTag.parentNode.insertBefore(tag, firstScriptTag);\n});\n};\n\nif(typeof $3Dmolpromise === 'undefined') {\n$3Dmolpromise = null;\n  $3Dmolpromise = loadScriptAsync('https://3dmol.org/build/3Dmol.js');\n}\n\nvar viewer_16553805783758814 = null;\nvar warn = document.getElementById(\"3dmolwarning_16553805783758814\");\nif(warn) {\n    warn.parentNode.removeChild(warn);\n}\n$3Dmolpromise.then(function() {\nviewer_16553805783758814 = $3Dmol.createViewer($(\"#3dmolviewer_16553805783758814\"),{backgroundColor:\"white\"});\nviewer_16553805783758814.addModel(\"\\n     RDKit          3D\\n\\n  0  0  0  0  0  0  0  0  0  0999 V3000\\nM  V30 BEGIN CTAB\\nM  V30 COUNTS 280 318 0 0 0\\nM  V30 BEGIN ATOM\\nM  V30 1 Fe -0.404017 -0.287703 9.346588 0 CHG=2 VAL=6\\nM  V30 2 C 0.496539 -2.198879 11.487730 0\\nM  V30 3 N -0.177584 -1.774461 10.399834 0\\nM  V30 4 C -1.123621 -2.512599 9.796849 0\\nM  V30 5 C -1.854360 -2.058700 8.621834 0\\nM  V30 6 N -1.639572 -0.908584 8.078192 0\\nM  V30 7 C -1.403033 -3.744133 10.320700 0\\nM  V30 8 C -0.727034 -4.203027 11.434682 0\\nM  V30 9 C 0.246085 -3.442433 12.054006 0\\nM  V30 10 H 1.262614 -1.600948 11.975875 0\\nM  V30 11 H -2.596209 -2.696545 8.189872 0\\nM  V30 12 H -2.161339 -4.365527 9.857950 0\\nM  V30 13 H -0.930836 -5.177083 11.869251 0\\nM  V30 14 H 0.778624 -3.798330 12.927667 0\\nM  V30 15 C -2.537370 -0.064701 11.544649 0\\nM  V30 16 N -1.863784 0.310098 10.438349 0\\nM  V30 17 C -2.047065 1.500141 9.843682 0\\nM  V30 18 C -1.322124 1.909486 8.648875 0\\nM  V30 19 N -0.449138 1.150102 8.078192 0\\nM  V30 20 C -2.958800 2.356249 10.395936 0\\nM  V30 21 C -3.662433 1.996984 11.529225 0\\nM  V30 22 C -3.472785 0.772214 12.139959 0\\nM  V30 23 H -2.388779 -1.028469 12.026052 0\\nM  V30 24 H -1.515790 2.872063 8.224947 0\\nM  V30 25 H -3.130869 3.324944 9.940614 0\\nM  V30 26 H -4.391572 2.659157 11.986451 0\\nM  V30 27 H -4.022346 0.486399 13.028686 0\\nM  V30 28 C 0.771717 1.466353 11.550348 0\\nM  V30 29 N 0.728330 0.698755 10.442647 0\\nM  V30 30 C 1.833370 0.264327 9.815285 0\\nM  V30 31 C 1.791726 -0.564766 8.618817 0\\nM  V30 32 N 0.681937 -0.939650 8.078192 0\\nM  V30 33 C 3.045740 0.624475 10.334533 0\\nM  V30 34 C 3.118353 1.410255 11.468461 0\\nM  V30 35 C 1.980521 1.856482 12.112856 0\\nM  V30 36 H -0.123296 1.818041 12.058232 0\\nM  V30 37 H 2.709856 -0.876984 8.167891 0\\nM  V30 38 H 3.957487 0.290583 9.852320 0\\nM  V30 39 H 4.068896 1.709468 11.899867 0\\nM  V30 40 H 2.032819 2.472800 13.002216 0\\nM  V30 41 Fe -7.644708 -4.240065 -3.513368 0 CHG=2 VAL=6\\nM  V30 42 C -10.496362 -3.455355 -4.061446 0\\nM  V30 43 N -9.363061 -3.614667 -3.348467 0\\nM  V30 44 C -9.296890 -3.384519 -2.027075 0\\nM  V30 45 C -8.075435 -3.555104 -1.252727 0\\nM  V30 46 N -6.967534 -3.941565 -1.789057 0\\nM  V30 47 C -10.435639 -2.971761 -1.393002 0\\nM  V30 48 C -11.610144 -2.800680 -2.099956 0\\nM  V30 49 C -11.676690 -3.037864 -3.459493 0\\nM  V30 50 H -10.549714 -3.641796 -5.131526 0\\nM  V30 51 H -8.091000 -3.354552 -0.202340 0\\nM  V30 52 H -10.416567 -2.777165 -0.326670 0\\nM  V30 53 H -12.527339 -2.473832 -1.619234 0\\nM  V30 54 H -12.595509 -2.904986 -4.017758 0\\nM  V30 55 C -9.310668 -6.656601 -2.609304 0\\nM  V30 56 N -8.190987 -5.996057 -2.967200 0\\nM  V30 57 C -7.018372 -6.614908 -3.180321 0\\nM  V30 58 C -5.806481 -5.906022 -3.566931 0\\nM  V30 59 N -5.778950 -4.626725 -3.731516 0\\nM  V30 60 C -6.975011 -7.972372 -3.023550 0\\nM  V30 61 C -8.107760 -8.673342 -2.657440 0\\nM  V30 62 C -9.313543 -8.035238 -2.438503 0\\nM  V30 63 H -10.260164 -6.155235 -2.436771 0\\nM  V30 64 H -4.904601 -6.459711 -3.721257 0\\nM  V30 65 H -6.043966 -8.502872 -3.187930 0\\nM  V30 66 H -8.098777 -9.751298 -2.526661 0\\nM  V30 67 H -10.204202 -8.580934 -2.151296 0\\nM  V30 68 C -8.431367 -5.769488 -6.034807 0\\nM  V30 69 N -7.970105 -4.760630 -5.268300 0\\nM  V30 70 C -7.708684 -3.537275 -5.756649 0\\nM  V30 71 C -7.210448 -2.444569 -4.932986 0\\nM  V30 72 N -6.985470 -2.580530 -3.669916 0\\nM  V30 73 C -7.924716 -3.322187 -7.089403 0\\nM  V30 74 C -8.396895 -4.338656 -7.897087 0\\nM  V30 75 C -8.665411 -5.596839 -7.393203 0\\nM  V30 76 H -8.643005 -6.760101 -5.639115 0\\nM  V30 77 H -7.022528 -1.493773 -5.385146 0\\nM  V30 78 H -7.723763 -2.345878 -7.515705 0\\nM  V30 79 H -8.576385 -4.192702 -8.958054 0\\nM  V30 80 H -9.035739 -6.396772 -8.022892 0\\nM  V30 81 Fe 6.731050 -4.076477 -2.992926 0 CHG=2 VAL=6\\nM  V30 82 C 7.477298 -6.938436 -3.541003 0\\nM  V30 83 N 7.048615 -5.877313 -2.828024 0\\nM  V30 84 C 6.816216 -5.935081 -1.506632 0\\nM  V30 85 C 6.353219 -4.791978 -0.732284 0\\nM  V30 86 N 6.133953 -3.639277 -1.268614 0\\nM  V30 87 C 7.028131 -7.127645 -0.872559 0\\nM  V30 88 C 7.467223 -8.230337 -1.579514 0\\nM  V30 89 C 7.705904 -8.169377 -2.939050 0\\nM  V30 90 H 7.665437 -6.891420 -4.611084 0\\nM  V30 91 H 6.187318 -4.905733 0.318102 0\\nM  V30 92 H 6.850070 -7.208427 0.193773 0\\nM  V30 93 H 7.642762 -9.188076 -1.098791 0\\nM  V30 94 H 8.050237 -9.031536 -3.497316 0\\nM  V30 95 C 9.656810 -4.310972 -2.088861 0\\nM  V30 96 N 8.524923 -3.671572 -2.446757 0\\nM  V30 97 C 8.474555 -2.346632 -2.659878 0\\nM  V30 98 C 7.254697 -1.651547 -3.046488 0\\nM  V30 99 N 6.133028 -2.267353 -3.211073 0\\nM  V30 100 C 9.628473 -1.630349 -2.503107 0\\nM  V30 101 C 10.801906 -2.260852 -2.136997 0\\nM  V30 102 C 10.852183 -3.624144 -1.918060 0\\nM  V30 103 H 9.697363 -5.383943 -1.916329 0\\nM  V30 104 H 7.283266 -0.593651 -3.200814 0\\nM  V30 105 H 9.622377 -0.558790 -2.667487 0\\nM  V30 106 H 11.730951 -1.714096 -2.006218 0\\nM  V30 107 H 11.770099 -4.122629 -1.630854 0\\nM  V30 108 C 8.448898 -3.993032 -5.514365 0\\nM  V30 109 N 7.344570 -4.097996 -4.747857 0\\nM  V30 110 C 6.154403 -4.483276 -5.236206 0\\nM  V30 111 C 4.958974 -4.598145 -4.412543 0\\nM  V30 112 N 4.964231 -4.335327 -3.149473 0\\nM  V30 113 C 6.076148 -4.777910 -6.568960 0\\nM  V30 114 C 7.192525 -4.678594 -7.376644 0\\nM  V30 115 C 8.416402 -4.282045 -6.872760 0\\nM  V30 116 H 9.412613 -3.681009 -5.118672 0\\nM  V30 117 H 4.041600 -4.910799 -4.864704 0\\nM  V30 118 H 5.130163 -5.092034 -6.995262 0\\nM  V30 119 H 7.155870 -4.907014 -8.437612 0\\nM  V30 120 H 9.294328 -4.202792 -7.502450 0\\nM  V30 121 Fe -0.828996 8.456323 -2.805580 0 CHG=2 VAL=6\\nM  V30 122 C 1.276410 10.533573 -3.353658 0\\nM  V30 123 N 0.571792 9.631761 -2.640679 0\\nM  V30 124 C 0.738020 9.459381 -1.319287 0\\nM  V30 125 C -0.020438 8.486863 -0.544939 0\\nM  V30 126 N -0.909074 7.720622 -1.081269 0\\nM  V30 127 C 1.664853 10.239188 -0.685214 0\\nM  V30 128 C 2.400266 11.170798 -1.392168 0\\nM  V30 129 C 2.228133 11.347021 -2.751705 0\\nM  V30 130 H 1.141624 10.672998 -4.423739 0\\nM  V30 131 H 0.161027 8.400066 0.505448 0\\nM  V30 132 H 1.823843 10.125372 0.381118 0\\nM  V30 133 H 3.141923 11.801689 -0.911446 0\\nM  V30 134 H 2.802618 12.076302 -3.309971 0\\nM  V30 135 C -2.088797 11.107354 -1.901516 0\\nM  V30 136 N -2.076590 9.807410 -2.259412 0\\nM  V30 137 C -3.198838 9.101321 -2.472533 0\\nM  V30 138 C -3.190870 7.697350 -2.859143 0\\nM  V30 139 N -2.096732 7.033859 -3.023728 0\\nM  V30 140 C -4.396117 9.742501 -2.315762 0\\nM  V30 141 C -4.436801 11.073976 -1.949652 0\\nM  V30 142 C -3.281294 11.799163 -1.730715 0\\nM  V30 143 H -1.179853 11.678959 -1.728983 0\\nM  V30 144 H -4.121319 7.193144 -3.013469 0\\nM  V30 145 H -5.321065 9.201443 -2.480142 0\\nM  V30 146 H -5.374828 11.605174 -1.818873 0\\nM  V30 147 H -3.308552 12.843344 -1.443508 0\\nM  V30 148 C -1.760185 9.902301 -5.327020 0\\nM  V30 149 N -1.117120 8.998407 -4.560512 0\\nM  V30 150 C -0.188373 8.160332 -5.048861 0\\nM  V30 151 C 0.508820 7.182495 -4.225198 0\\nM  V30 152 N 0.278585 7.055638 -2.962128 0\\nM  V30 153 C 0.105914 8.239878 -6.381615 0\\nM  V30 154 C -0.538285 9.157031 -7.189299 0\\nM  V30 155 C -1.493645 10.018665 -6.685415 0\\nM  V30 156 H -2.512263 10.580891 -4.931327 0\\nM  V30 157 H 1.238274 6.544353 -4.677358 0\\nM  V30 158 H 0.850946 7.577693 -6.807917 0\\nM  V30 159 H -0.322139 9.239497 -8.250266 0\\nM  V30 160 H -2.001243 10.739345 -7.315104 0\\nM  V30 161 C -6.617723 -4.395915 1.643492 0\\nM  V30 162 C -5.919951 -3.989586 2.766353 0\\nM  V30 163 C -4.881853 -3.084243 2.700106 0\\nM  V30 164 C -4.150658 -2.659855 3.887183 0\\nM  V30 165 C -2.808451 -2.306007 3.836218 0\\nM  V30 166 C -2.099412 -1.901733 4.948478 0\\nM  V30 167 C -2.731168 -1.838013 6.179368 0\\nM  V30 168 C -4.071702 -2.189651 6.239829 0\\nM  V30 169 C -4.764295 -2.591233 5.118326 0\\nM  V30 170 C -4.539207 -2.574619 1.461079 0\\nM  V30 171 C -5.228396 -2.968443 0.308674 0\\nM  V30 172 C -6.259244 -3.874948 0.418044 0\\nM  V30 173 H -7.434765 -5.108788 1.698074 0\\nM  V30 174 H -6.173184 -4.377550 3.748586 0\\nM  V30 175 H -2.305519 -2.352432 2.878691 0\\nM  V30 176 H -1.053578 -1.622579 4.927909 0\\nM  V30 177 H -4.618374 -2.155972 7.192338 0\\nM  V30 178 H -5.800178 -2.854079 5.211750 0\\nM  V30 179 H -3.743199 -1.863043 1.311107 0\\nM  V30 180 H -4.955798 -2.566715 -0.655889 0\\nM  V30 181 C 5.884694 -3.492039 1.974605 0\\nM  V30 182 C 5.183922 -3.090898 3.097463 0\\nM  V30 183 C 3.881423 -2.642837 3.030979 0\\nM  V30 184 C 3.148297 -2.221790 4.218054 0\\nM  V30 185 C 2.172032 -1.235044 4.167418 0\\nM  V30 186 C 1.467424 -0.823105 5.279682 0\\nM  V30 187 C 1.726825 -1.403375 6.510237 0\\nM  V30 188 C 2.700336 -2.389780 6.570367 0\\nM  V30 189 C 3.394409 -2.788802 5.448865 0\\nM  V30 190 C 3.269366 -2.599162 1.791709 0\\nM  V30 191 C 3.955032 -2.999079 0.639301 0\\nM  V30 192 C 5.254901 -3.440310 0.748913 0\\nM  V30 193 H 6.910108 -3.844531 2.029375 0\\nM  V30 194 H 5.646049 -3.117578 4.079885 0\\nM  V30 195 H 1.961788 -0.775263 3.210155 0\\nM  V30 196 H 0.703740 -0.055973 5.259367 0\\nM  V30 197 H 2.943450 -2.881106 7.522603 0\\nM  V30 198 H 4.138964 -3.555502 5.542027 0\\nM  V30 199 H 2.255612 -2.264176 1.641541 0\\nM  V30 200 H 3.471306 -2.962496 -0.325453 0\\nM  V30 201 C -0.629842 7.525787 2.284789 0\\nM  V30 202 C -0.626847 6.718332 3.407649 0\\nM  V30 203 C -0.362803 5.366460 3.341275 0\\nM  V30 204 C -0.360875 4.521031 4.528351 0\\nM  V30 205 C -0.726478 3.181972 4.477562 0\\nM  V30 206 C -0.730906 2.365792 5.589824 0\\nM  V30 207 C -0.358896 2.880795 6.820534 0\\nM  V30 208 C 0.007787 4.217299 6.880818 0\\nM  V30 209 C 0.006309 5.017894 5.759315 0\\nM  V30 210 C -0.093756 4.814724 2.102117 0\\nM  V30 211 C -0.090238 5.608488 0.949710 0\\nM  V30 212 C -0.358896 6.954666 1.059210 0\\nM  V30 213 H -0.837933 8.589945 2.339473 0\\nM  V30 214 H -0.835458 7.131763 4.389984 0\\nM  V30 215 H -1.018895 2.769832 3.520177 0\\nM  V30 216 H -1.012794 1.320689 5.569392 0\\nM  V30 217 H 0.311064 4.673684 7.833180 0\\nM  V30 218 H 0.297368 6.046219 5.852599 0\\nM  V30 219 H 0.123694 3.769423 1.952039 0\\nM  V30 220 H 0.120603 5.171403 -0.014955 0\\nM  V30 221 C 2.529762 -6.289563 -4.198982 0\\nM  V30 222 C 1.146766 -6.278845 -4.195093 0\\nM  V30 223 C 0.420457 -5.193172 -3.752973 0\\nM  V30 224 C -1.036895 -5.188030 -3.751709 0\\nM  V30 225 C -1.768532 -4.480988 -2.806129 0\\nM  V30 226 C -3.147912 -4.463722 -2.788543 0\\nM  V30 227 C -3.855446 -5.173931 -3.744193 0\\nM  V30 228 C -3.133036 -5.883127 -4.692612 0\\nM  V30 229 C -1.755109 -5.889033 -4.694966 0\\nM  V30 230 C 1.113680 -4.085163 -3.301233 0\\nM  V30 231 C 2.512897 -4.069048 -3.294179 0\\nM  V30 232 C 3.200706 -5.173931 -3.744193 0\\nM  V30 233 H 3.099505 -7.145466 -4.547619 0\\nM  V30 234 H 0.583388 -7.138533 -4.545761 0\\nM  V30 235 H -1.224779 -3.922567 -2.054829 0\\nM  V30 236 H -3.734619 -3.918966 -2.059754 0\\nM  V30 237 H -3.647142 -6.462451 -5.471931 0\\nM  V30 238 H -1.237571 -6.451689 -5.447590 0\\nM  V30 239 H 0.632713 -3.191435 -2.937389 0\\nM  V30 240 H 3.048191 -3.200627 -2.940085 0\\nM  V30 241 C -4.042178 5.208930 -4.507794 0\\nM  V30 242 C -4.727396 4.007595 -4.498996 0\\nM  V30 243 C -4.415060 2.988599 -3.623910 0\\nM  V30 244 C -5.141214 1.725039 -3.619488 0\\nM  V30 245 C -4.530426 0.527578 -3.269702 0\\nM  V30 246 C -5.200761 -0.678175 -3.259318 0\\nM  V30 247 C -6.540269 -0.721799 -3.608717 0\\nM  V30 248 C -7.158612 0.469369 -3.959584 0\\nM  V30 249 C -6.473282 1.664785 -3.964361 0\\nM  V30 250 C -3.378634 3.190683 -2.730997 0\\nM  V30 251 C -2.668598 4.396420 -2.718172 0\\nM  V30 252 C -3.012193 5.389008 -3.608717 0\\nM  V30 253 H -4.289908 6.009839 -5.197648 0\\nM  V30 254 H -5.544440 3.828782 -5.191737 0\\nM  V30 255 H -3.483570 0.551047 -2.994941 0\\nM  V30 256 H -4.741466 -1.620820 -2.989899 0\\nM  V30 257 H -8.219569 0.488274 -4.244664 0\\nM  V30 258 H -6.991801 2.561754 -4.242669 0\\nM  V30 259 H -3.063142 2.453161 -2.010589 0\\nM  V30 260 H -1.860268 4.547835 -2.018348 0\\nM  V30 261 C 2.892507 5.599995 -3.697980 0\\nM  V30 262 C 3.574723 4.396926 -3.694091 0\\nM  V30 263 C 2.997656 3.225088 -3.251971 0\\nM  V30 264 C 3.721879 1.960413 -3.250707 0\\nM  V30 265 C 3.475381 0.973276 -2.305127 0\\nM  V30 266 C 4.150119 -0.229936 -2.287541 0\\nM  V30 267 C 5.118944 -0.487573 -3.243191 0\\nM  V30 268 C 5.371922 0.492650 -4.191610 0\\nM  V30 269 C 4.688073 1.688922 -4.193964 0\\nM  V30 270 C 1.691481 3.271432 -2.800231 0\\nM  V30 271 C 0.977916 4.475131 -2.793178 0\\nM  V30 272 C 1.590868 5.623234 -3.243191 0\\nM  V30 273 H 3.348869 6.521358 -4.046617 0\\nM  V30 274 H 4.600923 4.338871 -4.044759 0\\nM  V30 275 H 2.719898 1.164969 -1.553827 0\\nM  V30 276 H 3.971700 -1.010417 -1.558752 0\\nM  V30 277 H 6.130684 0.337083 -4.970929 0\\nM  V30 278 H 4.916578 2.418452 -4.946588 0\\nM  V30 279 H 1.157973 2.408039 -2.436387 0\\nM  V30 280 H -0.041806 4.504500 -2.439083 0\\nM  V30 END ATOM\\nM  V30 BEGIN BOND\\nM  V30 1 2 2 3\\nM  V30 2 1 3 4\\nM  V30 3 1 4 5\\nM  V30 4 2 5 6\\nM  V30 5 2 4 7\\nM  V30 6 1 7 8\\nM  V30 7 2 8 9\\nM  V30 8 1 9 2\\nM  V30 9 1 2 10\\nM  V30 10 1 5 11\\nM  V30 11 1 7 12\\nM  V30 12 1 8 13\\nM  V30 13 1 9 14\\nM  V30 14 2 15 16\\nM  V30 15 1 16 17\\nM  V30 16 1 17 18\\nM  V30 17 2 18 19\\nM  V30 18 2 17 20\\nM  V30 19 1 20 21\\nM  V30 20 2 21 22\\nM  V30 21 1 22 15\\nM  V30 22 1 15 23\\nM  V30 23 1 18 24\\nM  V30 24 1 20 25\\nM  V30 25 1 21 26\\nM  V30 26 1 22 27\\nM  V30 27 2 28 29\\nM  V30 28 1 29 30\\nM  V30 29 1 30 31\\nM  V30 30 2 31 32\\nM  V30 31 2 30 33\\nM  V30 32 1 33 34\\nM  V30 33 2 34 35\\nM  V30 34 1 35 28\\nM  V30 35 1 28 36\\nM  V30 36 1 31 37\\nM  V30 37 1 33 38\\nM  V30 38 1 34 39\\nM  V30 39 1 35 40\\nM  V30 40 9 6 1\\nM  V30 41 9 3 1\\nM  V30 42 9 19 1\\nM  V30 43 9 16 1\\nM  V30 44 9 32 1\\nM  V30 45 9 29 1\\nM  V30 46 2 42 43\\nM  V30 47 1 43 44\\nM  V30 48 1 44 45\\nM  V30 49 2 45 46\\nM  V30 50 2 44 47\\nM  V30 51 1 47 48\\nM  V30 52 2 48 49\\nM  V30 53 1 49 42\\nM  V30 54 1 42 50\\nM  V30 55 1 45 51\\nM  V30 56 1 47 52\\nM  V30 57 1 48 53\\nM  V30 58 1 49 54\\nM  V30 59 2 55 56\\nM  V30 60 1 56 57\\nM  V30 61 1 57 58\\nM  V30 62 2 58 59\\nM  V30 63 2 57 60\\nM  V30 64 1 60 61\\nM  V30 65 2 61 62\\nM  V30 66 1 62 55\\nM  V30 67 1 55 63\\nM  V30 68 1 58 64\\nM  V30 69 1 60 65\\nM  V30 70 1 61 66\\nM  V30 71 1 62 67\\nM  V30 72 2 68 69\\nM  V30 73 1 69 70\\nM  V30 74 1 70 71\\nM  V30 75 2 71 72\\nM  V30 76 2 70 73\\nM  V30 77 1 73 74\\nM  V30 78 2 74 75\\nM  V30 79 1 75 68\\nM  V30 80 1 68 76\\nM  V30 81 1 71 77\\nM  V30 82 1 73 78\\nM  V30 83 1 74 79\\nM  V30 84 1 75 80\\nM  V30 85 9 46 41\\nM  V30 86 9 43 41\\nM  V30 87 9 59 41\\nM  V30 88 9 56 41\\nM  V30 89 9 72 41\\nM  V30 90 9 69 41\\nM  V30 91 2 82 83\\nM  V30 92 1 83 84\\nM  V30 93 1 84 85\\nM  V30 94 2 85 86\\nM  V30 95 2 84 87\\nM  V30 96 1 87 88\\nM  V30 97 2 88 89\\nM  V30 98 1 89 82\\nM  V30 99 1 82 90\\nM  V30 100 1 85 91\\nM  V30 101 1 87 92\\nM  V30 102 1 88 93\\nM  V30 103 1 89 94\\nM  V30 104 2 95 96\\nM  V30 105 1 96 97\\nM  V30 106 1 97 98\\nM  V30 107 2 98 99\\nM  V30 108 2 97 100\\nM  V30 109 1 100 101\\nM  V30 110 2 101 102\\nM  V30 111 1 102 95\\nM  V30 112 1 95 103\\nM  V30 113 1 98 104\\nM  V30 114 1 100 105\\nM  V30 115 1 101 106\\nM  V30 116 1 102 107\\nM  V30 117 2 108 109\\nM  V30 118 1 109 110\\nM  V30 119 1 110 111\\nM  V30 120 2 111 112\\nM  V30 121 2 110 113\\nM  V30 122 1 113 114\\nM  V30 123 2 114 115\\nM  V30 124 1 115 108\\nM  V30 125 1 108 116\\nM  V30 126 1 111 117\\nM  V30 127 1 113 118\\nM  V30 128 1 114 119\\nM  V30 129 1 115 120\\nM  V30 130 9 86 81\\nM  V30 131 9 83 81\\nM  V30 132 9 99 81\\nM  V30 133 9 96 81\\nM  V30 134 9 112 81\\nM  V30 135 9 109 81\\nM  V30 136 2 122 123\\nM  V30 137 1 123 124\\nM  V30 138 1 124 125\\nM  V30 139 2 125 126\\nM  V30 140 2 124 127\\nM  V30 141 1 127 128\\nM  V30 142 2 128 129\\nM  V30 143 1 129 122\\nM  V30 144 1 122 130\\nM  V30 145 1 125 131\\nM  V30 146 1 127 132\\nM  V30 147 1 128 133\\nM  V30 148 1 129 134\\nM  V30 149 2 135 136\\nM  V30 150 1 136 137\\nM  V30 151 1 137 138\\nM  V30 152 2 138 139\\nM  V30 153 2 137 140\\nM  V30 154 1 140 141\\nM  V30 155 2 141 142\\nM  V30 156 1 142 135\\nM  V30 157 1 135 143\\nM  V30 158 1 138 144\\nM  V30 159 1 140 145\\nM  V30 160 1 141 146\\nM  V30 161 1 142 147\\nM  V30 162 2 148 149\\nM  V30 163 1 149 150\\nM  V30 164 1 150 151\\nM  V30 165 2 151 152\\nM  V30 166 2 150 153\\nM  V30 167 1 153 154\\nM  V30 168 2 154 155\\nM  V30 169 1 155 148\\nM  V30 170 1 148 156\\nM  V30 171 1 151 157\\nM  V30 172 1 153 158\\nM  V30 173 1 154 159\\nM  V30 174 1 155 160\\nM  V30 175 9 126 121\\nM  V30 176 9 123 121\\nM  V30 177 9 139 121\\nM  V30 178 9 136 121\\nM  V30 179 9 152 121\\nM  V30 180 9 149 121\\nM  V30 181 2 161 162\\nM  V30 182 1 162 163\\nM  V30 183 1 163 164\\nM  V30 184 2 164 165\\nM  V30 185 1 165 166\\nM  V30 186 2 166 167\\nM  V30 187 1 167 168\\nM  V30 188 2 168 169\\nM  V30 189 2 163 170\\nM  V30 190 1 170 171\\nM  V30 191 2 171 172\\nM  V30 192 1 172 161\\nM  V30 193 1 169 164\\nM  V30 194 1 161 173\\nM  V30 195 1 162 174\\nM  V30 196 1 165 175\\nM  V30 197 1 166 176\\nM  V30 198 1 168 177\\nM  V30 199 1 169 178\\nM  V30 200 1 170 179\\nM  V30 201 1 171 180\\nM  V30 202 2 181 182\\nM  V30 203 1 182 183\\nM  V30 204 1 183 184\\nM  V30 205 2 184 185\\nM  V30 206 1 185 186\\nM  V30 207 2 186 187\\nM  V30 208 1 187 188\\nM  V30 209 2 188 189\\nM  V30 210 2 183 190\\nM  V30 211 1 190 191\\nM  V30 212 2 191 192\\nM  V30 213 1 192 181\\nM  V30 214 1 189 184\\nM  V30 215 1 181 193\\nM  V30 216 1 182 194\\nM  V30 217 1 185 195\\nM  V30 218 1 186 196\\nM  V30 219 1 188 197\\nM  V30 220 1 189 198\\nM  V30 221 1 190 199\\nM  V30 222 1 191 200\\nM  V30 223 2 201 202\\nM  V30 224 1 202 203\\nM  V30 225 1 203 204\\nM  V30 226 2 204 205\\nM  V30 227 1 205 206\\nM  V30 228 2 206 207\\nM  V30 229 1 207 208\\nM  V30 230 2 208 209\\nM  V30 231 2 203 210\\nM  V30 232 1 210 211\\nM  V30 233 2 211 212\\nM  V30 234 1 212 201\\nM  V30 235 1 209 204\\nM  V30 236 1 201 213\\nM  V30 237 1 202 214\\nM  V30 238 1 205 215\\nM  V30 239 1 206 216\\nM  V30 240 1 208 217\\nM  V30 241 1 209 218\\nM  V30 242 1 210 219\\nM  V30 243 1 211 220\\nM  V30 244 2 221 222\\nM  V30 245 1 222 223\\nM  V30 246 1 223 224\\nM  V30 247 2 224 225\\nM  V30 248 1 225 226\\nM  V30 249 2 226 227\\nM  V30 250 1 227 228\\nM  V30 251 2 228 229\\nM  V30 252 2 223 230\\nM  V30 253 1 230 231\\nM  V30 254 2 231 232\\nM  V30 255 1 232 221\\nM  V30 256 1 229 224\\nM  V30 257 1 221 233\\nM  V30 258 1 222 234\\nM  V30 259 1 225 235\\nM  V30 260 1 226 236\\nM  V30 261 1 228 237\\nM  V30 262 1 229 238\\nM  V30 263 1 230 239\\nM  V30 264 1 231 240\\nM  V30 265 2 241 242\\nM  V30 266 1 242 243\\nM  V30 267 1 243 244\\nM  V30 268 2 244 245\\nM  V30 269 1 245 246\\nM  V30 270 2 246 247\\nM  V30 271 1 247 248\\nM  V30 272 2 248 249\\nM  V30 273 2 243 250\\nM  V30 274 1 250 251\\nM  V30 275 2 251 252\\nM  V30 276 1 252 241\\nM  V30 277 1 249 244\\nM  V30 278 1 241 253\\nM  V30 279 1 242 254\\nM  V30 280 1 245 255\\nM  V30 281 1 246 256\\nM  V30 282 1 248 257\\nM  V30 283 1 249 258\\nM  V30 284 1 250 259\\nM  V30 285 1 251 260\\nM  V30 286 2 261 262\\nM  V30 287 1 262 263\\nM  V30 288 1 263 264\\nM  V30 289 2 264 265\\nM  V30 290 1 265 266\\nM  V30 291 2 266 267\\nM  V30 292 1 267 268\\nM  V30 293 2 268 269\\nM  V30 294 2 263 270\\nM  V30 295 1 270 271\\nM  V30 296 2 271 272\\nM  V30 297 1 272 261\\nM  V30 298 1 269 264\\nM  V30 299 1 261 273\\nM  V30 300 1 262 274\\nM  V30 301 1 265 275\\nM  V30 302 1 266 276\\nM  V30 303 1 268 277\\nM  V30 304 1 269 278\\nM  V30 305 1 270 279\\nM  V30 306 1 271 280\\nM  V30 307 1 6 167\\nM  V30 308 1 32 187\\nM  V30 309 1 19 207\\nM  V30 310 1 46 172\\nM  V30 311 1 59 227\\nM  V30 312 1 72 247\\nM  V30 313 1 86 192\\nM  V30 314 1 112 232\\nM  V30 315 1 99 267\\nM  V30 316 1 126 212\\nM  V30 317 1 139 252\\nM  V30 318 1 152 272\\nM  V30 END BOND\\nM  V30 END CTAB\\nM  END\\n\");\nviewer_16553805783758814.setStyle({\"stick\": {\"colorscheme\": \"cyanCarbon\"}});\nviewer_16553805783758814.zoomTo();\n\tviewer_16553805783758814.setBackgroundColor(\"0xeeeeee\");\n\tviewer_16553805783758814.zoomTo();\nviewer_16553805783758814.render();\n});\n</script>",
      "text/html": [
       "<div id=\"3dmolviewer_16553805783758814\"  style=\"position: relative; width: 400px; height: 400px\">\n",
       "        <p id=\"3dmolwarning_16553805783758814\" style=\"background-color:#ffcccc;color:black\">You appear to be running in JupyterLab (or JavaScript failed to load for some other reason).  You need to install the 3dmol extension: <br>\n",
       "        <tt>jupyter labextension install jupyterlab_3dmol</tt></p>\n",
       "        </div>\n",
       "<script>\n",
       "\n",
       "var loadScriptAsync = function(uri){\n",
       "  return new Promise((resolve, reject) => {\n",
       "    var tag = document.createElement('script');\n",
       "    tag.src = uri;\n",
       "    tag.async = true;\n",
       "    tag.onload = () => {\n",
       "      resolve();\n",
       "    };\n",
       "  var firstScriptTag = document.getElementsByTagName('script')[0];\n",
       "  firstScriptTag.parentNode.insertBefore(tag, firstScriptTag);\n",
       "});\n",
       "};\n",
       "\n",
       "if(typeof $3Dmolpromise === 'undefined') {\n",
       "$3Dmolpromise = null;\n",
       "  $3Dmolpromise = loadScriptAsync('https://3dmol.org/build/3Dmol.js');\n",
       "}\n",
       "\n",
       "var viewer_16553805783758814 = null;\n",
       "var warn = document.getElementById(\"3dmolwarning_16553805783758814\");\n",
       "if(warn) {\n",
       "    warn.parentNode.removeChild(warn);\n",
       "}\n",
       "$3Dmolpromise.then(function() {\n",
       "viewer_16553805783758814 = $3Dmol.createViewer($(\"#3dmolviewer_16553805783758814\"),{backgroundColor:\"white\"});\n",
       "viewer_16553805783758814.addModel(\"\\n     RDKit          3D\\n\\n  0  0  0  0  0  0  0  0  0  0999 V3000\\nM  V30 BEGIN CTAB\\nM  V30 COUNTS 280 318 0 0 0\\nM  V30 BEGIN ATOM\\nM  V30 1 Fe -0.404017 -0.287703 9.346588 0 CHG=2 VAL=6\\nM  V30 2 C 0.496539 -2.198879 11.487730 0\\nM  V30 3 N -0.177584 -1.774461 10.399834 0\\nM  V30 4 C -1.123621 -2.512599 9.796849 0\\nM  V30 5 C -1.854360 -2.058700 8.621834 0\\nM  V30 6 N -1.639572 -0.908584 8.078192 0\\nM  V30 7 C -1.403033 -3.744133 10.320700 0\\nM  V30 8 C -0.727034 -4.203027 11.434682 0\\nM  V30 9 C 0.246085 -3.442433 12.054006 0\\nM  V30 10 H 1.262614 -1.600948 11.975875 0\\nM  V30 11 H -2.596209 -2.696545 8.189872 0\\nM  V30 12 H -2.161339 -4.365527 9.857950 0\\nM  V30 13 H -0.930836 -5.177083 11.869251 0\\nM  V30 14 H 0.778624 -3.798330 12.927667 0\\nM  V30 15 C -2.537370 -0.064701 11.544649 0\\nM  V30 16 N -1.863784 0.310098 10.438349 0\\nM  V30 17 C -2.047065 1.500141 9.843682 0\\nM  V30 18 C -1.322124 1.909486 8.648875 0\\nM  V30 19 N -0.449138 1.150102 8.078192 0\\nM  V30 20 C -2.958800 2.356249 10.395936 0\\nM  V30 21 C -3.662433 1.996984 11.529225 0\\nM  V30 22 C -3.472785 0.772214 12.139959 0\\nM  V30 23 H -2.388779 -1.028469 12.026052 0\\nM  V30 24 H -1.515790 2.872063 8.224947 0\\nM  V30 25 H -3.130869 3.324944 9.940614 0\\nM  V30 26 H -4.391572 2.659157 11.986451 0\\nM  V30 27 H -4.022346 0.486399 13.028686 0\\nM  V30 28 C 0.771717 1.466353 11.550348 0\\nM  V30 29 N 0.728330 0.698755 10.442647 0\\nM  V30 30 C 1.833370 0.264327 9.815285 0\\nM  V30 31 C 1.791726 -0.564766 8.618817 0\\nM  V30 32 N 0.681937 -0.939650 8.078192 0\\nM  V30 33 C 3.045740 0.624475 10.334533 0\\nM  V30 34 C 3.118353 1.410255 11.468461 0\\nM  V30 35 C 1.980521 1.856482 12.112856 0\\nM  V30 36 H -0.123296 1.818041 12.058232 0\\nM  V30 37 H 2.709856 -0.876984 8.167891 0\\nM  V30 38 H 3.957487 0.290583 9.852320 0\\nM  V30 39 H 4.068896 1.709468 11.899867 0\\nM  V30 40 H 2.032819 2.472800 13.002216 0\\nM  V30 41 Fe -7.644708 -4.240065 -3.513368 0 CHG=2 VAL=6\\nM  V30 42 C -10.496362 -3.455355 -4.061446 0\\nM  V30 43 N -9.363061 -3.614667 -3.348467 0\\nM  V30 44 C -9.296890 -3.384519 -2.027075 0\\nM  V30 45 C -8.075435 -3.555104 -1.252727 0\\nM  V30 46 N -6.967534 -3.941565 -1.789057 0\\nM  V30 47 C -10.435639 -2.971761 -1.393002 0\\nM  V30 48 C -11.610144 -2.800680 -2.099956 0\\nM  V30 49 C -11.676690 -3.037864 -3.459493 0\\nM  V30 50 H -10.549714 -3.641796 -5.131526 0\\nM  V30 51 H -8.091000 -3.354552 -0.202340 0\\nM  V30 52 H -10.416567 -2.777165 -0.326670 0\\nM  V30 53 H -12.527339 -2.473832 -1.619234 0\\nM  V30 54 H -12.595509 -2.904986 -4.017758 0\\nM  V30 55 C -9.310668 -6.656601 -2.609304 0\\nM  V30 56 N -8.190987 -5.996057 -2.967200 0\\nM  V30 57 C -7.018372 -6.614908 -3.180321 0\\nM  V30 58 C -5.806481 -5.906022 -3.566931 0\\nM  V30 59 N -5.778950 -4.626725 -3.731516 0\\nM  V30 60 C -6.975011 -7.972372 -3.023550 0\\nM  V30 61 C -8.107760 -8.673342 -2.657440 0\\nM  V30 62 C -9.313543 -8.035238 -2.438503 0\\nM  V30 63 H -10.260164 -6.155235 -2.436771 0\\nM  V30 64 H -4.904601 -6.459711 -3.721257 0\\nM  V30 65 H -6.043966 -8.502872 -3.187930 0\\nM  V30 66 H -8.098777 -9.751298 -2.526661 0\\nM  V30 67 H -10.204202 -8.580934 -2.151296 0\\nM  V30 68 C -8.431367 -5.769488 -6.034807 0\\nM  V30 69 N -7.970105 -4.760630 -5.268300 0\\nM  V30 70 C -7.708684 -3.537275 -5.756649 0\\nM  V30 71 C -7.210448 -2.444569 -4.932986 0\\nM  V30 72 N -6.985470 -2.580530 -3.669916 0\\nM  V30 73 C -7.924716 -3.322187 -7.089403 0\\nM  V30 74 C -8.396895 -4.338656 -7.897087 0\\nM  V30 75 C -8.665411 -5.596839 -7.393203 0\\nM  V30 76 H -8.643005 -6.760101 -5.639115 0\\nM  V30 77 H -7.022528 -1.493773 -5.385146 0\\nM  V30 78 H -7.723763 -2.345878 -7.515705 0\\nM  V30 79 H -8.576385 -4.192702 -8.958054 0\\nM  V30 80 H -9.035739 -6.396772 -8.022892 0\\nM  V30 81 Fe 6.731050 -4.076477 -2.992926 0 CHG=2 VAL=6\\nM  V30 82 C 7.477298 -6.938436 -3.541003 0\\nM  V30 83 N 7.048615 -5.877313 -2.828024 0\\nM  V30 84 C 6.816216 -5.935081 -1.506632 0\\nM  V30 85 C 6.353219 -4.791978 -0.732284 0\\nM  V30 86 N 6.133953 -3.639277 -1.268614 0\\nM  V30 87 C 7.028131 -7.127645 -0.872559 0\\nM  V30 88 C 7.467223 -8.230337 -1.579514 0\\nM  V30 89 C 7.705904 -8.169377 -2.939050 0\\nM  V30 90 H 7.665437 -6.891420 -4.611084 0\\nM  V30 91 H 6.187318 -4.905733 0.318102 0\\nM  V30 92 H 6.850070 -7.208427 0.193773 0\\nM  V30 93 H 7.642762 -9.188076 -1.098791 0\\nM  V30 94 H 8.050237 -9.031536 -3.497316 0\\nM  V30 95 C 9.656810 -4.310972 -2.088861 0\\nM  V30 96 N 8.524923 -3.671572 -2.446757 0\\nM  V30 97 C 8.474555 -2.346632 -2.659878 0\\nM  V30 98 C 7.254697 -1.651547 -3.046488 0\\nM  V30 99 N 6.133028 -2.267353 -3.211073 0\\nM  V30 100 C 9.628473 -1.630349 -2.503107 0\\nM  V30 101 C 10.801906 -2.260852 -2.136997 0\\nM  V30 102 C 10.852183 -3.624144 -1.918060 0\\nM  V30 103 H 9.697363 -5.383943 -1.916329 0\\nM  V30 104 H 7.283266 -0.593651 -3.200814 0\\nM  V30 105 H 9.622377 -0.558790 -2.667487 0\\nM  V30 106 H 11.730951 -1.714096 -2.006218 0\\nM  V30 107 H 11.770099 -4.122629 -1.630854 0\\nM  V30 108 C 8.448898 -3.993032 -5.514365 0\\nM  V30 109 N 7.344570 -4.097996 -4.747857 0\\nM  V30 110 C 6.154403 -4.483276 -5.236206 0\\nM  V30 111 C 4.958974 -4.598145 -4.412543 0\\nM  V30 112 N 4.964231 -4.335327 -3.149473 0\\nM  V30 113 C 6.076148 -4.777910 -6.568960 0\\nM  V30 114 C 7.192525 -4.678594 -7.376644 0\\nM  V30 115 C 8.416402 -4.282045 -6.872760 0\\nM  V30 116 H 9.412613 -3.681009 -5.118672 0\\nM  V30 117 H 4.041600 -4.910799 -4.864704 0\\nM  V30 118 H 5.130163 -5.092034 -6.995262 0\\nM  V30 119 H 7.155870 -4.907014 -8.437612 0\\nM  V30 120 H 9.294328 -4.202792 -7.502450 0\\nM  V30 121 Fe -0.828996 8.456323 -2.805580 0 CHG=2 VAL=6\\nM  V30 122 C 1.276410 10.533573 -3.353658 0\\nM  V30 123 N 0.571792 9.631761 -2.640679 0\\nM  V30 124 C 0.738020 9.459381 -1.319287 0\\nM  V30 125 C -0.020438 8.486863 -0.544939 0\\nM  V30 126 N -0.909074 7.720622 -1.081269 0\\nM  V30 127 C 1.664853 10.239188 -0.685214 0\\nM  V30 128 C 2.400266 11.170798 -1.392168 0\\nM  V30 129 C 2.228133 11.347021 -2.751705 0\\nM  V30 130 H 1.141624 10.672998 -4.423739 0\\nM  V30 131 H 0.161027 8.400066 0.505448 0\\nM  V30 132 H 1.823843 10.125372 0.381118 0\\nM  V30 133 H 3.141923 11.801689 -0.911446 0\\nM  V30 134 H 2.802618 12.076302 -3.309971 0\\nM  V30 135 C -2.088797 11.107354 -1.901516 0\\nM  V30 136 N -2.076590 9.807410 -2.259412 0\\nM  V30 137 C -3.198838 9.101321 -2.472533 0\\nM  V30 138 C -3.190870 7.697350 -2.859143 0\\nM  V30 139 N -2.096732 7.033859 -3.023728 0\\nM  V30 140 C -4.396117 9.742501 -2.315762 0\\nM  V30 141 C -4.436801 11.073976 -1.949652 0\\nM  V30 142 C -3.281294 11.799163 -1.730715 0\\nM  V30 143 H -1.179853 11.678959 -1.728983 0\\nM  V30 144 H -4.121319 7.193144 -3.013469 0\\nM  V30 145 H -5.321065 9.201443 -2.480142 0\\nM  V30 146 H -5.374828 11.605174 -1.818873 0\\nM  V30 147 H -3.308552 12.843344 -1.443508 0\\nM  V30 148 C -1.760185 9.902301 -5.327020 0\\nM  V30 149 N -1.117120 8.998407 -4.560512 0\\nM  V30 150 C -0.188373 8.160332 -5.048861 0\\nM  V30 151 C 0.508820 7.182495 -4.225198 0\\nM  V30 152 N 0.278585 7.055638 -2.962128 0\\nM  V30 153 C 0.105914 8.239878 -6.381615 0\\nM  V30 154 C -0.538285 9.157031 -7.189299 0\\nM  V30 155 C -1.493645 10.018665 -6.685415 0\\nM  V30 156 H -2.512263 10.580891 -4.931327 0\\nM  V30 157 H 1.238274 6.544353 -4.677358 0\\nM  V30 158 H 0.850946 7.577693 -6.807917 0\\nM  V30 159 H -0.322139 9.239497 -8.250266 0\\nM  V30 160 H -2.001243 10.739345 -7.315104 0\\nM  V30 161 C -6.617723 -4.395915 1.643492 0\\nM  V30 162 C -5.919951 -3.989586 2.766353 0\\nM  V30 163 C -4.881853 -3.084243 2.700106 0\\nM  V30 164 C -4.150658 -2.659855 3.887183 0\\nM  V30 165 C -2.808451 -2.306007 3.836218 0\\nM  V30 166 C -2.099412 -1.901733 4.948478 0\\nM  V30 167 C -2.731168 -1.838013 6.179368 0\\nM  V30 168 C -4.071702 -2.189651 6.239829 0\\nM  V30 169 C -4.764295 -2.591233 5.118326 0\\nM  V30 170 C -4.539207 -2.574619 1.461079 0\\nM  V30 171 C -5.228396 -2.968443 0.308674 0\\nM  V30 172 C -6.259244 -3.874948 0.418044 0\\nM  V30 173 H -7.434765 -5.108788 1.698074 0\\nM  V30 174 H -6.173184 -4.377550 3.748586 0\\nM  V30 175 H -2.305519 -2.352432 2.878691 0\\nM  V30 176 H -1.053578 -1.622579 4.927909 0\\nM  V30 177 H -4.618374 -2.155972 7.192338 0\\nM  V30 178 H -5.800178 -2.854079 5.211750 0\\nM  V30 179 H -3.743199 -1.863043 1.311107 0\\nM  V30 180 H -4.955798 -2.566715 -0.655889 0\\nM  V30 181 C 5.884694 -3.492039 1.974605 0\\nM  V30 182 C 5.183922 -3.090898 3.097463 0\\nM  V30 183 C 3.881423 -2.642837 3.030979 0\\nM  V30 184 C 3.148297 -2.221790 4.218054 0\\nM  V30 185 C 2.172032 -1.235044 4.167418 0\\nM  V30 186 C 1.467424 -0.823105 5.279682 0\\nM  V30 187 C 1.726825 -1.403375 6.510237 0\\nM  V30 188 C 2.700336 -2.389780 6.570367 0\\nM  V30 189 C 3.394409 -2.788802 5.448865 0\\nM  V30 190 C 3.269366 -2.599162 1.791709 0\\nM  V30 191 C 3.955032 -2.999079 0.639301 0\\nM  V30 192 C 5.254901 -3.440310 0.748913 0\\nM  V30 193 H 6.910108 -3.844531 2.029375 0\\nM  V30 194 H 5.646049 -3.117578 4.079885 0\\nM  V30 195 H 1.961788 -0.775263 3.210155 0\\nM  V30 196 H 0.703740 -0.055973 5.259367 0\\nM  V30 197 H 2.943450 -2.881106 7.522603 0\\nM  V30 198 H 4.138964 -3.555502 5.542027 0\\nM  V30 199 H 2.255612 -2.264176 1.641541 0\\nM  V30 200 H 3.471306 -2.962496 -0.325453 0\\nM  V30 201 C -0.629842 7.525787 2.284789 0\\nM  V30 202 C -0.626847 6.718332 3.407649 0\\nM  V30 203 C -0.362803 5.366460 3.341275 0\\nM  V30 204 C -0.360875 4.521031 4.528351 0\\nM  V30 205 C -0.726478 3.181972 4.477562 0\\nM  V30 206 C -0.730906 2.365792 5.589824 0\\nM  V30 207 C -0.358896 2.880795 6.820534 0\\nM  V30 208 C 0.007787 4.217299 6.880818 0\\nM  V30 209 C 0.006309 5.017894 5.759315 0\\nM  V30 210 C -0.093756 4.814724 2.102117 0\\nM  V30 211 C -0.090238 5.608488 0.949710 0\\nM  V30 212 C -0.358896 6.954666 1.059210 0\\nM  V30 213 H -0.837933 8.589945 2.339473 0\\nM  V30 214 H -0.835458 7.131763 4.389984 0\\nM  V30 215 H -1.018895 2.769832 3.520177 0\\nM  V30 216 H -1.012794 1.320689 5.569392 0\\nM  V30 217 H 0.311064 4.673684 7.833180 0\\nM  V30 218 H 0.297368 6.046219 5.852599 0\\nM  V30 219 H 0.123694 3.769423 1.952039 0\\nM  V30 220 H 0.120603 5.171403 -0.014955 0\\nM  V30 221 C 2.529762 -6.289563 -4.198982 0\\nM  V30 222 C 1.146766 -6.278845 -4.195093 0\\nM  V30 223 C 0.420457 -5.193172 -3.752973 0\\nM  V30 224 C -1.036895 -5.188030 -3.751709 0\\nM  V30 225 C -1.768532 -4.480988 -2.806129 0\\nM  V30 226 C -3.147912 -4.463722 -2.788543 0\\nM  V30 227 C -3.855446 -5.173931 -3.744193 0\\nM  V30 228 C -3.133036 -5.883127 -4.692612 0\\nM  V30 229 C -1.755109 -5.889033 -4.694966 0\\nM  V30 230 C 1.113680 -4.085163 -3.301233 0\\nM  V30 231 C 2.512897 -4.069048 -3.294179 0\\nM  V30 232 C 3.200706 -5.173931 -3.744193 0\\nM  V30 233 H 3.099505 -7.145466 -4.547619 0\\nM  V30 234 H 0.583388 -7.138533 -4.545761 0\\nM  V30 235 H -1.224779 -3.922567 -2.054829 0\\nM  V30 236 H -3.734619 -3.918966 -2.059754 0\\nM  V30 237 H -3.647142 -6.462451 -5.471931 0\\nM  V30 238 H -1.237571 -6.451689 -5.447590 0\\nM  V30 239 H 0.632713 -3.191435 -2.937389 0\\nM  V30 240 H 3.048191 -3.200627 -2.940085 0\\nM  V30 241 C -4.042178 5.208930 -4.507794 0\\nM  V30 242 C -4.727396 4.007595 -4.498996 0\\nM  V30 243 C -4.415060 2.988599 -3.623910 0\\nM  V30 244 C -5.141214 1.725039 -3.619488 0\\nM  V30 245 C -4.530426 0.527578 -3.269702 0\\nM  V30 246 C -5.200761 -0.678175 -3.259318 0\\nM  V30 247 C -6.540269 -0.721799 -3.608717 0\\nM  V30 248 C -7.158612 0.469369 -3.959584 0\\nM  V30 249 C -6.473282 1.664785 -3.964361 0\\nM  V30 250 C -3.378634 3.190683 -2.730997 0\\nM  V30 251 C -2.668598 4.396420 -2.718172 0\\nM  V30 252 C -3.012193 5.389008 -3.608717 0\\nM  V30 253 H -4.289908 6.009839 -5.197648 0\\nM  V30 254 H -5.544440 3.828782 -5.191737 0\\nM  V30 255 H -3.483570 0.551047 -2.994941 0\\nM  V30 256 H -4.741466 -1.620820 -2.989899 0\\nM  V30 257 H -8.219569 0.488274 -4.244664 0\\nM  V30 258 H -6.991801 2.561754 -4.242669 0\\nM  V30 259 H -3.063142 2.453161 -2.010589 0\\nM  V30 260 H -1.860268 4.547835 -2.018348 0\\nM  V30 261 C 2.892507 5.599995 -3.697980 0\\nM  V30 262 C 3.574723 4.396926 -3.694091 0\\nM  V30 263 C 2.997656 3.225088 -3.251971 0\\nM  V30 264 C 3.721879 1.960413 -3.250707 0\\nM  V30 265 C 3.475381 0.973276 -2.305127 0\\nM  V30 266 C 4.150119 -0.229936 -2.287541 0\\nM  V30 267 C 5.118944 -0.487573 -3.243191 0\\nM  V30 268 C 5.371922 0.492650 -4.191610 0\\nM  V30 269 C 4.688073 1.688922 -4.193964 0\\nM  V30 270 C 1.691481 3.271432 -2.800231 0\\nM  V30 271 C 0.977916 4.475131 -2.793178 0\\nM  V30 272 C 1.590868 5.623234 -3.243191 0\\nM  V30 273 H 3.348869 6.521358 -4.046617 0\\nM  V30 274 H 4.600923 4.338871 -4.044759 0\\nM  V30 275 H 2.719898 1.164969 -1.553827 0\\nM  V30 276 H 3.971700 -1.010417 -1.558752 0\\nM  V30 277 H 6.130684 0.337083 -4.970929 0\\nM  V30 278 H 4.916578 2.418452 -4.946588 0\\nM  V30 279 H 1.157973 2.408039 -2.436387 0\\nM  V30 280 H -0.041806 4.504500 -2.439083 0\\nM  V30 END ATOM\\nM  V30 BEGIN BOND\\nM  V30 1 2 2 3\\nM  V30 2 1 3 4\\nM  V30 3 1 4 5\\nM  V30 4 2 5 6\\nM  V30 5 2 4 7\\nM  V30 6 1 7 8\\nM  V30 7 2 8 9\\nM  V30 8 1 9 2\\nM  V30 9 1 2 10\\nM  V30 10 1 5 11\\nM  V30 11 1 7 12\\nM  V30 12 1 8 13\\nM  V30 13 1 9 14\\nM  V30 14 2 15 16\\nM  V30 15 1 16 17\\nM  V30 16 1 17 18\\nM  V30 17 2 18 19\\nM  V30 18 2 17 20\\nM  V30 19 1 20 21\\nM  V30 20 2 21 22\\nM  V30 21 1 22 15\\nM  V30 22 1 15 23\\nM  V30 23 1 18 24\\nM  V30 24 1 20 25\\nM  V30 25 1 21 26\\nM  V30 26 1 22 27\\nM  V30 27 2 28 29\\nM  V30 28 1 29 30\\nM  V30 29 1 30 31\\nM  V30 30 2 31 32\\nM  V30 31 2 30 33\\nM  V30 32 1 33 34\\nM  V30 33 2 34 35\\nM  V30 34 1 35 28\\nM  V30 35 1 28 36\\nM  V30 36 1 31 37\\nM  V30 37 1 33 38\\nM  V30 38 1 34 39\\nM  V30 39 1 35 40\\nM  V30 40 9 6 1\\nM  V30 41 9 3 1\\nM  V30 42 9 19 1\\nM  V30 43 9 16 1\\nM  V30 44 9 32 1\\nM  V30 45 9 29 1\\nM  V30 46 2 42 43\\nM  V30 47 1 43 44\\nM  V30 48 1 44 45\\nM  V30 49 2 45 46\\nM  V30 50 2 44 47\\nM  V30 51 1 47 48\\nM  V30 52 2 48 49\\nM  V30 53 1 49 42\\nM  V30 54 1 42 50\\nM  V30 55 1 45 51\\nM  V30 56 1 47 52\\nM  V30 57 1 48 53\\nM  V30 58 1 49 54\\nM  V30 59 2 55 56\\nM  V30 60 1 56 57\\nM  V30 61 1 57 58\\nM  V30 62 2 58 59\\nM  V30 63 2 57 60\\nM  V30 64 1 60 61\\nM  V30 65 2 61 62\\nM  V30 66 1 62 55\\nM  V30 67 1 55 63\\nM  V30 68 1 58 64\\nM  V30 69 1 60 65\\nM  V30 70 1 61 66\\nM  V30 71 1 62 67\\nM  V30 72 2 68 69\\nM  V30 73 1 69 70\\nM  V30 74 1 70 71\\nM  V30 75 2 71 72\\nM  V30 76 2 70 73\\nM  V30 77 1 73 74\\nM  V30 78 2 74 75\\nM  V30 79 1 75 68\\nM  V30 80 1 68 76\\nM  V30 81 1 71 77\\nM  V30 82 1 73 78\\nM  V30 83 1 74 79\\nM  V30 84 1 75 80\\nM  V30 85 9 46 41\\nM  V30 86 9 43 41\\nM  V30 87 9 59 41\\nM  V30 88 9 56 41\\nM  V30 89 9 72 41\\nM  V30 90 9 69 41\\nM  V30 91 2 82 83\\nM  V30 92 1 83 84\\nM  V30 93 1 84 85\\nM  V30 94 2 85 86\\nM  V30 95 2 84 87\\nM  V30 96 1 87 88\\nM  V30 97 2 88 89\\nM  V30 98 1 89 82\\nM  V30 99 1 82 90\\nM  V30 100 1 85 91\\nM  V30 101 1 87 92\\nM  V30 102 1 88 93\\nM  V30 103 1 89 94\\nM  V30 104 2 95 96\\nM  V30 105 1 96 97\\nM  V30 106 1 97 98\\nM  V30 107 2 98 99\\nM  V30 108 2 97 100\\nM  V30 109 1 100 101\\nM  V30 110 2 101 102\\nM  V30 111 1 102 95\\nM  V30 112 1 95 103\\nM  V30 113 1 98 104\\nM  V30 114 1 100 105\\nM  V30 115 1 101 106\\nM  V30 116 1 102 107\\nM  V30 117 2 108 109\\nM  V30 118 1 109 110\\nM  V30 119 1 110 111\\nM  V30 120 2 111 112\\nM  V30 121 2 110 113\\nM  V30 122 1 113 114\\nM  V30 123 2 114 115\\nM  V30 124 1 115 108\\nM  V30 125 1 108 116\\nM  V30 126 1 111 117\\nM  V30 127 1 113 118\\nM  V30 128 1 114 119\\nM  V30 129 1 115 120\\nM  V30 130 9 86 81\\nM  V30 131 9 83 81\\nM  V30 132 9 99 81\\nM  V30 133 9 96 81\\nM  V30 134 9 112 81\\nM  V30 135 9 109 81\\nM  V30 136 2 122 123\\nM  V30 137 1 123 124\\nM  V30 138 1 124 125\\nM  V30 139 2 125 126\\nM  V30 140 2 124 127\\nM  V30 141 1 127 128\\nM  V30 142 2 128 129\\nM  V30 143 1 129 122\\nM  V30 144 1 122 130\\nM  V30 145 1 125 131\\nM  V30 146 1 127 132\\nM  V30 147 1 128 133\\nM  V30 148 1 129 134\\nM  V30 149 2 135 136\\nM  V30 150 1 136 137\\nM  V30 151 1 137 138\\nM  V30 152 2 138 139\\nM  V30 153 2 137 140\\nM  V30 154 1 140 141\\nM  V30 155 2 141 142\\nM  V30 156 1 142 135\\nM  V30 157 1 135 143\\nM  V30 158 1 138 144\\nM  V30 159 1 140 145\\nM  V30 160 1 141 146\\nM  V30 161 1 142 147\\nM  V30 162 2 148 149\\nM  V30 163 1 149 150\\nM  V30 164 1 150 151\\nM  V30 165 2 151 152\\nM  V30 166 2 150 153\\nM  V30 167 1 153 154\\nM  V30 168 2 154 155\\nM  V30 169 1 155 148\\nM  V30 170 1 148 156\\nM  V30 171 1 151 157\\nM  V30 172 1 153 158\\nM  V30 173 1 154 159\\nM  V30 174 1 155 160\\nM  V30 175 9 126 121\\nM  V30 176 9 123 121\\nM  V30 177 9 139 121\\nM  V30 178 9 136 121\\nM  V30 179 9 152 121\\nM  V30 180 9 149 121\\nM  V30 181 2 161 162\\nM  V30 182 1 162 163\\nM  V30 183 1 163 164\\nM  V30 184 2 164 165\\nM  V30 185 1 165 166\\nM  V30 186 2 166 167\\nM  V30 187 1 167 168\\nM  V30 188 2 168 169\\nM  V30 189 2 163 170\\nM  V30 190 1 170 171\\nM  V30 191 2 171 172\\nM  V30 192 1 172 161\\nM  V30 193 1 169 164\\nM  V30 194 1 161 173\\nM  V30 195 1 162 174\\nM  V30 196 1 165 175\\nM  V30 197 1 166 176\\nM  V30 198 1 168 177\\nM  V30 199 1 169 178\\nM  V30 200 1 170 179\\nM  V30 201 1 171 180\\nM  V30 202 2 181 182\\nM  V30 203 1 182 183\\nM  V30 204 1 183 184\\nM  V30 205 2 184 185\\nM  V30 206 1 185 186\\nM  V30 207 2 186 187\\nM  V30 208 1 187 188\\nM  V30 209 2 188 189\\nM  V30 210 2 183 190\\nM  V30 211 1 190 191\\nM  V30 212 2 191 192\\nM  V30 213 1 192 181\\nM  V30 214 1 189 184\\nM  V30 215 1 181 193\\nM  V30 216 1 182 194\\nM  V30 217 1 185 195\\nM  V30 218 1 186 196\\nM  V30 219 1 188 197\\nM  V30 220 1 189 198\\nM  V30 221 1 190 199\\nM  V30 222 1 191 200\\nM  V30 223 2 201 202\\nM  V30 224 1 202 203\\nM  V30 225 1 203 204\\nM  V30 226 2 204 205\\nM  V30 227 1 205 206\\nM  V30 228 2 206 207\\nM  V30 229 1 207 208\\nM  V30 230 2 208 209\\nM  V30 231 2 203 210\\nM  V30 232 1 210 211\\nM  V30 233 2 211 212\\nM  V30 234 1 212 201\\nM  V30 235 1 209 204\\nM  V30 236 1 201 213\\nM  V30 237 1 202 214\\nM  V30 238 1 205 215\\nM  V30 239 1 206 216\\nM  V30 240 1 208 217\\nM  V30 241 1 209 218\\nM  V30 242 1 210 219\\nM  V30 243 1 211 220\\nM  V30 244 2 221 222\\nM  V30 245 1 222 223\\nM  V30 246 1 223 224\\nM  V30 247 2 224 225\\nM  V30 248 1 225 226\\nM  V30 249 2 226 227\\nM  V30 250 1 227 228\\nM  V30 251 2 228 229\\nM  V30 252 2 223 230\\nM  V30 253 1 230 231\\nM  V30 254 2 231 232\\nM  V30 255 1 232 221\\nM  V30 256 1 229 224\\nM  V30 257 1 221 233\\nM  V30 258 1 222 234\\nM  V30 259 1 225 235\\nM  V30 260 1 226 236\\nM  V30 261 1 228 237\\nM  V30 262 1 229 238\\nM  V30 263 1 230 239\\nM  V30 264 1 231 240\\nM  V30 265 2 241 242\\nM  V30 266 1 242 243\\nM  V30 267 1 243 244\\nM  V30 268 2 244 245\\nM  V30 269 1 245 246\\nM  V30 270 2 246 247\\nM  V30 271 1 247 248\\nM  V30 272 2 248 249\\nM  V30 273 2 243 250\\nM  V30 274 1 250 251\\nM  V30 275 2 251 252\\nM  V30 276 1 252 241\\nM  V30 277 1 249 244\\nM  V30 278 1 241 253\\nM  V30 279 1 242 254\\nM  V30 280 1 245 255\\nM  V30 281 1 246 256\\nM  V30 282 1 248 257\\nM  V30 283 1 249 258\\nM  V30 284 1 250 259\\nM  V30 285 1 251 260\\nM  V30 286 2 261 262\\nM  V30 287 1 262 263\\nM  V30 288 1 263 264\\nM  V30 289 2 264 265\\nM  V30 290 1 265 266\\nM  V30 291 2 266 267\\nM  V30 292 1 267 268\\nM  V30 293 2 268 269\\nM  V30 294 2 263 270\\nM  V30 295 1 270 271\\nM  V30 296 2 271 272\\nM  V30 297 1 272 261\\nM  V30 298 1 269 264\\nM  V30 299 1 261 273\\nM  V30 300 1 262 274\\nM  V30 301 1 265 275\\nM  V30 302 1 266 276\\nM  V30 303 1 268 277\\nM  V30 304 1 269 278\\nM  V30 305 1 270 279\\nM  V30 306 1 271 280\\nM  V30 307 1 6 167\\nM  V30 308 1 32 187\\nM  V30 309 1 19 207\\nM  V30 310 1 46 172\\nM  V30 311 1 59 227\\nM  V30 312 1 72 247\\nM  V30 313 1 86 192\\nM  V30 314 1 112 232\\nM  V30 315 1 99 267\\nM  V30 316 1 126 212\\nM  V30 317 1 139 252\\nM  V30 318 1 152 272\\nM  V30 END BOND\\nM  V30 END CTAB\\nM  END\\n\");\n",
       "viewer_16553805783758814.setStyle({\"stick\": {\"colorscheme\": \"cyanCarbon\"}});\n",
       "viewer_16553805783758814.zoomTo();\n",
       "\tviewer_16553805783758814.setBackgroundColor(\"0xeeeeee\");\n",
       "\tviewer_16553805783758814.zoomTo();\n",
       "viewer_16553805783758814.render();\n",
       "});\n",
       "</script>"
      ]
     },
     "metadata": {},
     "output_type": "display_data"
    }
   ],
   "source": [
    "show_stk_mol(cage2)"
   ]
  },
  {
   "cell_type": "code",
   "execution_count": null,
   "id": "750d09f6-7af5-4ba6-8a0d-8212acc1a90d",
   "metadata": {},
   "outputs": [],
   "source": []
  }
 ],
 "metadata": {
  "kernelspec": {
   "display_name": "suprapolymer",
   "language": "python",
   "name": "suprapolymer"
  },
  "language_info": {
   "codemirror_mode": {
    "name": "ipython",
    "version": 3
   },
   "file_extension": ".py",
   "mimetype": "text/x-python",
   "name": "python",
   "nbconvert_exporter": "python",
   "pygments_lexer": "ipython3",
   "version": "3.9.0"
  }
 },
 "nbformat": 4,
 "nbformat_minor": 5
}
